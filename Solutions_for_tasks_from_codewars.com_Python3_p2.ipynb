{
 "cells": [
  {
   "cell_type": "markdown",
   "metadata": {},
   "source": [
    "2020116"
   ]
  },
  {
   "cell_type": "markdown",
   "metadata": {},
   "source": [
    "### Bit Counting\n",
    "https://www.codewars.com/kata/526571aae218b8ee490006f4  \n",
    "6 kyu (IMHO, it's too easy for 6 kyu)\n",
    "\n",
    "Write a function that takes an integer as input, and returns the number of bits that are equal to one in the binary representation of that number. You can guarantee that input is non-negative.\n",
    "\n",
    "Example: The binary representation of 1234 is 10011010010, so the function should return 5 in this case"
   ]
  },
  {
   "cell_type": "markdown",
   "metadata": {},
   "source": [
    "__My solution:__"
   ]
  },
  {
   "cell_type": "code",
   "execution_count": 5,
   "metadata": {},
   "outputs": [
    {
     "name": "stdout",
     "output_type": "stream",
     "text": [
      "0 0\n",
      "1 1\n",
      "3 3\n",
      "2 2\n",
      "2 2\n"
     ]
    }
   ],
   "source": [
    "def count_bits(n):\n",
    "    return bin(n).count('1')\n",
    "\n",
    "print(count_bits(0), 0)\n",
    "print(count_bits(4), 1)\n",
    "print(count_bits(7), 3)\n",
    "print(count_bits(9), 2)\n",
    "print(count_bits(10), 2)"
   ]
  },
  {
   "cell_type": "code",
   "execution_count": 3,
   "metadata": {},
   "outputs": [
    {
     "name": "stdout",
     "output_type": "stream",
     "text": [
      "Help on built-in function bin in module builtins:\n",
      "\n",
      "bin(number, /)\n",
      "    Return the binary representation of an integer.\n",
      "    \n",
      "    >>> bin(2796202)\n",
      "    '0b1010101010101010101010'\n",
      "\n"
     ]
    }
   ],
   "source": [
    "help(bin)"
   ]
  },
  {
   "cell_type": "code",
   "execution_count": 6,
   "metadata": {},
   "outputs": [
    {
     "name": "stdout",
     "output_type": "stream",
     "text": [
      "Help on built-in function oct in module builtins:\n",
      "\n",
      "oct(number, /)\n",
      "    Return the octal representation of an integer.\n",
      "    \n",
      "    >>> oct(342391)\n",
      "    '0o1234567'\n",
      "\n"
     ]
    }
   ],
   "source": [
    "help(oct)"
   ]
  },
  {
   "cell_type": "code",
   "execution_count": 10,
   "metadata": {},
   "outputs": [
    {
     "data": {
      "text/plain": [
       "'K'"
      ]
     },
     "execution_count": 10,
     "metadata": {},
     "output_type": "execute_result"
    }
   ],
   "source": [
    "chr(75)"
   ]
  },
  {
   "cell_type": "code",
   "execution_count": 11,
   "metadata": {},
   "outputs": [
    {
     "data": {
      "text/plain": [
       "65"
      ]
     },
     "execution_count": 11,
     "metadata": {},
     "output_type": "execute_result"
    }
   ],
   "source": [
    "ord('K')"
   ]
  },
  {
   "cell_type": "markdown",
   "metadata": {},
   "source": [
    "__Other users' solutions:__"
   ]
  },
  {
   "cell_type": "code",
   "execution_count": 12,
   "metadata": {},
   "outputs": [
    {
     "name": "stdout",
     "output_type": "stream",
     "text": [
      "0 0\n",
      "1 1\n",
      "3 3\n",
      "2 2\n",
      "2 2\n"
     ]
    }
   ],
   "source": [
    "def countBits(n):\n",
    "    total = 0\n",
    "    while n > 0:\n",
    "        total += n % 2\n",
    "        n >>= 1  # n = n >> 1\n",
    "    return total\n",
    "\n",
    "print(count_bits(0), 0)\n",
    "print(count_bits(4), 1)\n",
    "print(count_bits(7), 3)\n",
    "print(count_bits(9), 2)\n",
    "print(count_bits(10), 2)"
   ]
  },
  {
   "cell_type": "markdown",
   "metadata": {},
   "source": [
    "Using n&1 does a bitwise AND with 1, which is non-zero if the 1 bit is on, which also tests for odd numbers:"
   ]
  },
  {
   "cell_type": "code",
   "execution_count": 13,
   "metadata": {},
   "outputs": [
    {
     "name": "stdout",
     "output_type": "stream",
     "text": [
      "0 0\n",
      "1 1\n",
      "3 3\n",
      "2 2\n",
      "2 2\n"
     ]
    }
   ],
   "source": [
    "def countBits(n):\n",
    "    total = 0\n",
    "    while n > 0:\n",
    "        total += n & 1\n",
    "        n >>= 1  # n = n >> 1\n",
    "    return total\n",
    "\n",
    "print(count_bits(0), 0)\n",
    "print(count_bits(4), 1)\n",
    "print(count_bits(7), 3)\n",
    "print(count_bits(9), 2)\n",
    "print(count_bits(10), 2)"
   ]
  },
  {
   "cell_type": "code",
   "execution_count": 14,
   "metadata": {},
   "outputs": [
    {
     "data": {
      "text/plain": [
       "1"
      ]
     },
     "execution_count": 14,
     "metadata": {},
     "output_type": "execute_result"
    }
   ],
   "source": [
    "1 & 1"
   ]
  },
  {
   "cell_type": "code",
   "execution_count": 15,
   "metadata": {},
   "outputs": [
    {
     "data": {
      "text/plain": [
       "0"
      ]
     },
     "execution_count": 15,
     "metadata": {},
     "output_type": "execute_result"
    }
   ],
   "source": [
    "0 & 1"
   ]
  },
  {
   "cell_type": "code",
   "execution_count": 16,
   "metadata": {},
   "outputs": [
    {
     "data": {
      "text/plain": [
       "0"
      ]
     },
     "execution_count": 16,
     "metadata": {},
     "output_type": "execute_result"
    }
   ],
   "source": [
    "2 & 1"
   ]
  },
  {
   "cell_type": "markdown",
   "metadata": {},
   "source": [
    "### CamelCase Method\n",
    "https://www.codewars.com/kata/587731fda577b3d1b0001196  \n",
    "6 kyu (IMHO, it's too easy for 6 kyu)\n",
    "\n",
    "Write simple .camelCase method (camel_case function in PHP, CamelCase in C# or camelCase in Java) for strings. All words must have their first letter capitalized without spaces.\n",
    "\n",
    "For instance:\n",
    "\n",
    "camelcase(\"hello case\") => HelloCase\n",
    "camelcase(\"camel case word\") => CamelCaseWord\n",
    "Don't forget to rate this kata! Thanks :)"
   ]
  },
  {
   "cell_type": "markdown",
   "metadata": {},
   "source": [
    "__My solutions:__"
   ]
  },
  {
   "cell_type": "markdown",
   "metadata": {},
   "source": [
    "__#1__"
   ]
  },
  {
   "cell_type": "code",
   "execution_count": 19,
   "metadata": {},
   "outputs": [
    {
     "name": "stdout",
     "output_type": "stream",
     "text": [
      "TestCase TestCase\n",
      "CamelCaseMethod CamelCaseMethod\n",
      "SayHello SayHello\n",
      "CamelCaseWord CamelCaseWord\n",
      " \n"
     ]
    }
   ],
   "source": [
    "def camel_case(string):\n",
    "    return string.title().replace(' ', '').replace('\\t', '')\n",
    "\n",
    "print(camel_case(\"test case\"), \"TestCase\")\n",
    "print(camel_case(\"camel case method\"), \"CamelCaseMethod\")\n",
    "print(camel_case(\"say hello \"), \"SayHello\")\n",
    "print(camel_case(\" camel case word\"), \"CamelCaseWord\")\n",
    "print(camel_case(\"\"), \"\")"
   ]
  },
  {
   "cell_type": "code",
   "execution_count": 18,
   "metadata": {},
   "outputs": [
    {
     "name": "stdout",
     "output_type": "stream",
     "text": [
      "Help on method_descriptor:\n",
      "\n",
      "replace(self, old, new, count=-1, /)\n",
      "    Return a copy with all occurrences of substring old replaced by new.\n",
      "    \n",
      "      count\n",
      "        Maximum number of occurrences to replace.\n",
      "        -1 (the default value) means replace all occurrences.\n",
      "    \n",
      "    If the optional argument count is given, only the first count occurrences are\n",
      "    replaced.\n",
      "\n"
     ]
    }
   ],
   "source": [
    "help(str.replace)"
   ]
  },
  {
   "cell_type": "markdown",
   "metadata": {},
   "source": [
    "__#2__"
   ]
  },
  {
   "cell_type": "code",
   "execution_count": 20,
   "metadata": {},
   "outputs": [
    {
     "name": "stdout",
     "output_type": "stream",
     "text": [
      "TestCase TestCase\n",
      "CamelCaseMethod CamelCaseMethod\n",
      "SayHello SayHello\n",
      "CamelCaseWord CamelCaseWord\n",
      " \n"
     ]
    }
   ],
   "source": [
    "def camel_case(string):\n",
    "    return ''.join(map(str.capitalize, string.split()))\n",
    "\n",
    "print(camel_case(\"test case\"), \"TestCase\")\n",
    "print(camel_case(\"camel case method\"), \"CamelCaseMethod\")\n",
    "print(camel_case(\"say hello \"), \"SayHello\")\n",
    "print(camel_case(\" camel case word\"), \"CamelCaseWord\")\n",
    "print(camel_case(\"\"), \"\")"
   ]
  },
  {
   "cell_type": "markdown",
   "metadata": {},
   "source": [
    "20201117"
   ]
  },
  {
   "cell_type": "markdown",
   "metadata": {},
   "source": [
    "### Count the Digit\n",
    "https://www.codewars.com/kata/566fc12495810954b1000030  \n",
    "7 kyu\n",
    "\n",
    "Take an integer n (n >= 0) and a digit d (0 <= d <= 9) as an integer. Square all numbers k (0 <= k <= n) between 0 and n. Count the numbers of digits d used in the writing of all the k**2. Call nb_dig (or nbDig or ...) the function taking n and d as parameters and returning this count.\n",
    "\n",
    "#Examples:\n",
    "\n",
    "n = 10, d = 1, the k*k are 0, 1, 4, 9, 16, 25, 36, 49, 64, 81, 100\n",
    "\n",
    "We are using the digit 1 in 1, 16, 81, 100. The total count is then 4.\n",
    "\n",
    "nb_dig(25, 1):  \n",
    "the numbers of interest are   \n",
    "1, 4, 9, 10, 11, 12, 13, 14, 19, 21 which squared are 1, 16, 81, 100, 121, 144, 169, 196, 361, 441\n",
    "so there are 11 digits `1` for the squares of numbers between 0 and 25.\n",
    "\n",
    "Note that 121 has twice the digit 1."
   ]
  },
  {
   "cell_type": "markdown",
   "metadata": {},
   "source": [
    "__My solutions:__"
   ]
  },
  {
   "cell_type": "markdown",
   "metadata": {},
   "source": [
    "__#1__"
   ]
  },
  {
   "cell_type": "code",
   "execution_count": 22,
   "metadata": {},
   "outputs": [
    {
     "name": "stdout",
     "output_type": "stream",
     "text": [
      "4700 4700\n",
      "9481 9481\n",
      "7733 7733\n",
      "11905 11905\n"
     ]
    }
   ],
   "source": [
    "def nb_dig(n, d):\n",
    "    return sum(str(n * n).count(str(d)) for n in range(n + 1))\n",
    "    \n",
    "print(nb_dig(5750, 0), 4700)\n",
    "print(nb_dig(11011, 2), 9481)\n",
    "print(nb_dig(12224, 8), 7733)\n",
    "print(nb_dig(11549, 1), 11905)"
   ]
  },
  {
   "cell_type": "markdown",
   "metadata": {},
   "source": [
    "__#2__"
   ]
  },
  {
   "cell_type": "code",
   "execution_count": 1,
   "metadata": {},
   "outputs": [
    {
     "name": "stdout",
     "output_type": "stream",
     "text": [
      "1 1\n",
      "4700 4700\n",
      "9481 9481\n",
      "7733 7733\n",
      "11905 11905\n"
     ]
    }
   ],
   "source": [
    "def nb_dig(n, d):\n",
    "    amount = 0\n",
    "    for n in range(n + 1):\n",
    "        n = n * n\n",
    "        while True:\n",
    "            if n % 10 == d:\n",
    "                amount += 1\n",
    "            n //= 10\n",
    "            if n == 0:\n",
    "                break\n",
    "    return amount\n",
    "\n",
    "print(nb_dig(0, 0), 1)\n",
    "print(nb_dig(5750, 0), 4700)\n",
    "print(nb_dig(11011, 2), 9481)\n",
    "print(nb_dig(12224, 8), 7733)\n",
    "print(nb_dig(11549, 1), 11905)"
   ]
  },
  {
   "cell_type": "markdown",
   "metadata": {},
   "source": [
    "### Simple reversed parenthesis\n",
    "https://www.codewars.com/kata/5a3f2925b6cfd78fb0000040  \n",
    "6 kyu\n",
    "\n",
    "Given a string, return the minimal number of parenthesis reversals needed to make balanced parenthesis.\n",
    "\n",
    "For example:\n",
    "\n",
    "solve(\")(\") = 2 Because we need to reverse \")\" to \"(\" and \"(\" to \")\". These are 2 reversals. \n",
    "\n",
    "solve(\"(((())\") = 1 We need to reverse just one \"(\" parenthesis to make it balanced.\n",
    "\n",
    "solve(\"(((\") = -1 Not possible to form balanced parenthesis. Return -1.\n",
    "\n",
    "Parenthesis will be either \"(\" or \")\".\n",
    "\n",
    "More examples in the test cases."
   ]
  },
  {
   "cell_type": "markdown",
   "metadata": {},
   "source": [
    "__My solution:__"
   ]
  },
  {
   "cell_type": "code",
   "execution_count": 9,
   "metadata": {},
   "outputs": [
    {
     "name": "stdout",
     "output_type": "stream",
     "text": [
      "2 2\n",
      "1 1\n",
      "-1 -1\n",
      "3 3\n",
      "4 4\n",
      "5 5\n"
     ]
    }
   ],
   "source": [
    "def solve(s):\n",
    "    if not s:\n",
    "        return 0\n",
    "    if len(s) % 2:\n",
    "        return -1\n",
    "    \n",
    "    reverse = 0\n",
    "    stack = []\n",
    "    \n",
    "    for c in s:\n",
    "        if c == ')' and stack:\n",
    "            if stack[-1] == '(':\n",
    "                stack.pop()\n",
    "            else:  # this branch's optional because of last part\n",
    "                stack.pop()\n",
    "                reverse += 1\n",
    "        elif c in '()':  # this check is not necessary\n",
    "            stack.append(c)\n",
    "    \n",
    "    for i in range(0, len(stack), 2):\n",
    "        if stack[i] != '(':\n",
    "            reverse += 1\n",
    "        if stack[i + 1] != ')':\n",
    "            reverse += 1\n",
    "            \n",
    "    return reverse\n",
    "\n",
    "print(solve(\")()(\"), 2)\n",
    "print(solve(\"((()\"), 1)\n",
    "print(solve(\"(((\"), -1)\n",
    "print(solve(\"())(((\"), 3)\n",
    "print(solve(\"())()))))()()(\"), 4)\n",
    "print(solve(\"())()))))()()(((\"), 5)"
   ]
  },
  {
   "cell_type": "code",
   "execution_count": 20,
   "metadata": {},
   "outputs": [
    {
     "name": "stdout",
     "output_type": "stream",
     "text": [
      "[')', '(']\n",
      "2 2\n",
      "['(', '(']\n",
      "1 1\n",
      "-1 -1\n",
      "[')', '(', '(', '(']\n",
      "3 3\n",
      "[')', '(']\n",
      "4 4\n",
      "[')', '(', '(', '(']\n",
      "5 5\n"
     ]
    }
   ],
   "source": [
    "from itertools import cycle\n",
    "\n",
    "def solve(s):\n",
    "    if not s:\n",
    "        return 0\n",
    "    if len(s) % 2:\n",
    "        return -1\n",
    "    \n",
    "    reverse = 0\n",
    "    stack = []\n",
    "    \n",
    "    for c in s:\n",
    "        if c == ')' and stack:\n",
    "            if stack[-1] == '(':\n",
    "                stack.pop()\n",
    "            else:  # this branch's optional because of last part\n",
    "                stack.pop()\n",
    "                reverse += 1\n",
    "        elif c in '()':  # this check is not necessary\n",
    "            stack.append(c)\n",
    "\n",
    "    paired_parents = cycle('()')\n",
    "    reverse += sum(next(paired_parents) != c for c in stack)            \n",
    "    return reverse\n",
    "\n",
    "print(solve(\")()(\"), 2)\n",
    "print(solve(\"((()\"), 1)\n",
    "print(solve(\"(((\"), -1)\n",
    "print(solve(\"())(((\"), 3)\n",
    "print(solve(\"())()))))()()(\"), 4)\n",
    "print(solve(\"())()))))()()(((\"), 5)"
   ]
  },
  {
   "cell_type": "code",
   "execution_count": 14,
   "metadata": {},
   "outputs": [
    {
     "name": "stdout",
     "output_type": "stream",
     "text": [
      "( ( ( (\n"
     ]
    }
   ],
   "source": [
    "print(next(cycle('()')), next(cycle('()')), next(cycle('()')), next(cycle('()')))"
   ]
  },
  {
   "cell_type": "code",
   "execution_count": 17,
   "metadata": {},
   "outputs": [
    {
     "name": "stdout",
     "output_type": "stream",
     "text": [
      "A B C D A B\n"
     ]
    }
   ],
   "source": [
    "it = cycle('ABCD')\n",
    "print(next(it), next(it), next(it), next(it), next(it), next(it))"
   ]
  },
  {
   "cell_type": "code",
   "execution_count": 19,
   "metadata": {},
   "outputs": [
    {
     "name": "stdout",
     "output_type": "stream",
     "text": [
      "2 2\n",
      "1 1\n",
      "-1 -1\n",
      "3 3\n",
      "2 4\n",
      "3 5\n"
     ]
    }
   ],
   "source": [
    "from itertools import cycle\n",
    "\n",
    "def solve(s):\n",
    "    if not s:\n",
    "        return 0\n",
    "    if len(s) % 2:\n",
    "        return -1\n",
    "    \n",
    "    reverse = 0\n",
    "    stack = []\n",
    "    \n",
    "    for c in s:\n",
    "        if c == ')' and stack:\n",
    "            if stack[-1] == '(':\n",
    "                stack.pop()\n",
    "        else:\n",
    "            stack.append(c)\n",
    "    \n",
    "    paired_parents = cycle('()')\n",
    "    reverse += sum(next(paired_parents) != c for c in stack)            \n",
    "    return reverse\n",
    "\n",
    "print(solve(\")()(\"), 2)\n",
    "print(solve(\"((()\"), 1)\n",
    "print(solve(\"(((\"), -1)\n",
    "print(solve(\"())(((\"), 3)\n",
    "print(solve(\"())()))))()()(\"), 4)\n",
    "print(solve(\"())()))))()()(((\"), 5)"
   ]
  },
  {
   "cell_type": "markdown",
   "metadata": {},
   "source": [
    "__Other users' solutions:__"
   ]
  },
  {
   "cell_type": "markdown",
   "metadata": {},
   "source": [
    "__#1__ This solution's not the best one in performance and not very readable but it has something captivating"
   ]
  },
  {
   "cell_type": "code",
   "execution_count": 52,
   "metadata": {},
   "outputs": [
    {
     "name": "stdout",
     "output_type": "stream",
     "text": [
      "2 2\n",
      "2 2\n",
      "1 1\n",
      "-1 -1\n",
      "3 3\n",
      "4 4\n",
      "5 5\n"
     ]
    }
   ],
   "source": [
    "def solve(s):\n",
    "    t = None\n",
    "    while t != s:\n",
    "        t, s = s, s.replace('()', '')\n",
    "    return -1 if len(s) % 2 else sum(1 + (a == tuple(')(')) for a in zip(*[iter(s)] * 2))\n",
    "\n",
    "print(solve(\"((((\"), 2)\n",
    "print(solve(\")()(\"), 2)\n",
    "print(solve(\"((()\"), 1)\n",
    "print(solve(\"(((\"), -1)\n",
    "print(solve(\"())(((\"), 3)\n",
    "print(solve(\"())()))))()()(\"), 4)\n",
    "print(solve(\"())()))))()()(((\"), 5)"
   ]
  },
  {
   "cell_type": "code",
   "execution_count": 48,
   "metadata": {},
   "outputs": [
    {
     "data": {
      "text/plain": [
       "[(<str_iterator at 0x725bb38>,), (<str_iterator at 0x725bb38>,)]"
      ]
     },
     "execution_count": 48,
     "metadata": {},
     "output_type": "execute_result"
    }
   ],
   "source": [
    "s = \")()(\"\n",
    "list(zip([iter(s)] * 2))"
   ]
  },
  {
   "cell_type": "code",
   "execution_count": 49,
   "metadata": {},
   "outputs": [
    {
     "data": {
      "text/plain": [
       "[(')', '('), (')', '(')]"
      ]
     },
     "execution_count": 49,
     "metadata": {},
     "output_type": "execute_result"
    }
   ],
   "source": [
    "s = \")()(\"\n",
    "list(zip(*[iter(s)] * 2)) # == list(zip(*([iter(s)] * 2)))\n",
    "                          # != list(zip((*[iter(s)]) * 2))"
   ]
  },
  {
   "cell_type": "code",
   "execution_count": 50,
   "metadata": {},
   "outputs": [
    {
     "ename": "SyntaxError",
     "evalue": "can't use starred expression here (<ipython-input-50-790b1c0c7f1e>, line 4)",
     "output_type": "error",
     "traceback": [
      "\u001b[1;36m  File \u001b[1;32m\"<ipython-input-50-790b1c0c7f1e>\"\u001b[1;36m, line \u001b[1;32m4\u001b[0m\n\u001b[1;31mSyntaxError\u001b[0m\u001b[1;31m:\u001b[0m can't use starred expression here\n"
     ]
    }
   ],
   "source": [
    "list(zip((*[iter(s)]) * 2))"
   ]
  },
  {
   "cell_type": "code",
   "execution_count": 51,
   "metadata": {},
   "outputs": [
    {
     "data": {
      "text/plain": [
       "[(')', '(', ')')]"
      ]
     },
     "execution_count": 51,
     "metadata": {},
     "output_type": "execute_result"
    }
   ],
   "source": [
    "s = \")()(\"\n",
    "list(zip(*[iter(s)] * 3))"
   ]
  },
  {
   "cell_type": "code",
   "execution_count": 53,
   "metadata": {},
   "outputs": [
    {
     "data": {
      "text/plain": [
       "[('(', '('), ('(', '(')]"
      ]
     },
     "execution_count": 53,
     "metadata": {},
     "output_type": "execute_result"
    }
   ],
   "source": [
    "s = \"((((\"\n",
    "list(zip(*[iter(s)] * 2))"
   ]
  },
  {
   "cell_type": "code",
   "execution_count": 29,
   "metadata": {},
   "outputs": [
    {
     "name": "stdout",
     "output_type": "stream",
     "text": [
      "dsfd\n"
     ]
    }
   ],
   "source": [
    "s = 'dsfd'\n",
    "s.replace('a', '')\n",
    "print(s)"
   ]
  },
  {
   "cell_type": "markdown",
   "metadata": {},
   "source": [
    "__#2__ IMHO, the best one in performance and algorithm but not very obvious from the first look"
   ]
  },
  {
   "cell_type": "code",
   "execution_count": null,
   "metadata": {},
   "outputs": [],
   "source": [
    "def solve(s):\n",
    "    if len(s)&1: return -1\n",
    "    inv = open = 0\n",
    "    for c in s:\n",
    "        if c == '(':\n",
    "            open += 1\n",
    "        elif open:\n",
    "            open -= 1\n",
    "        else:\n",
    "            open = 1\n",
    "            inv += 1\n",
    "    return inv + open//2"
   ]
  },
  {
   "cell_type": "code",
   "execution_count": 28,
   "metadata": {},
   "outputs": [
    {
     "name": "stdout",
     "output_type": "stream",
     "text": [
      "2 2\n",
      "1 1\n",
      "-1 -1\n",
      "3 3\n",
      "4 4\n",
      "5 5\n"
     ]
    }
   ],
   "source": [
    "def solve(s):\n",
    "    if len(s) % 2:\n",
    "        return -1\n",
    "    \n",
    "    ans = 0\n",
    "    opened = 0\n",
    "    for c in s:\n",
    "        if c == '(':\n",
    "            opened += 1\n",
    "        elif opened:\n",
    "            opened -= 1\n",
    "        else:\n",
    "            ans += 1\n",
    "            opened += 1\n",
    "    # I suppose, opened's allways even and it denotes amount of '('\n",
    "    # including some unusable, reversed ')'\n",
    "    return ans + opened // 2  \n",
    "\n",
    "\n",
    "print(solve(\")()(\"), 2)\n",
    "print(solve(\"((()\"), 1)\n",
    "print(solve(\"(((\"), -1)\n",
    "print(solve(\"())(((\"), 3)\n",
    "print(solve(\"())()))))()()(\"), 4)\n",
    "print(solve(\"())()))))()()(((\"), 5)"
   ]
  },
  {
   "cell_type": "markdown",
   "metadata": {},
   "source": [
    "__#3__ Not the best one but very readable"
   ]
  },
  {
   "cell_type": "code",
   "execution_count": null,
   "metadata": {},
   "outputs": [],
   "source": [
    "def solve(s):\n",
    "    while \"()\" in s:\n",
    "        s = s.replace(\"()\",\"\")\n",
    "    count = 0\n",
    "    while len(s)>1:\n",
    "        count+=s.count(\"((\")\n",
    "        s = s.replace(\"((\",\"\")\n",
    "        count+=s.count(\"))\")\n",
    "        s = s.replace(\"))\",\"\")\n",
    "        count+=(s.count(\")(\")*2)\n",
    "        s = s.replace(\")(\",\"\")\n",
    "    return count if len(s)==0 else -1"
   ]
  },
  {
   "cell_type": "markdown",
   "metadata": {},
   "source": [
    "__#4__ Like the previous one but more pythonic and a little bit crazier"
   ]
  },
  {
   "cell_type": "code",
   "execution_count": null,
   "metadata": {},
   "outputs": [],
   "source": [
    "def solve(s, r={'((': 1, '))': 1, ')(': 2}):\n",
    "    if len(s) % 2 == 1:\n",
    "        return -1\n",
    "    while '()' in s:\n",
    "        s = s.replace('()', '')\n",
    "    return sum(\n",
    "        r[x]\n",
    "        for x in map(''.join, zip(*[iter(s)] * 2))\n",
    "    )"
   ]
  },
  {
   "cell_type": "markdown",
   "metadata": {},
   "source": [
    "__#5__"
   ]
  },
  {
   "cell_type": "code",
   "execution_count": 40,
   "metadata": {},
   "outputs": [
    {
     "name": "stdout",
     "output_type": "stream",
     "text": [
      "1 1 1\n",
      "2 2\n",
      "0 2 1\n",
      "1 1\n",
      "-1 -1\n",
      "1 3 2\n",
      "3 3\n",
      "5 1 3\n",
      "4 4\n",
      "5 3 4\n",
      "5 5\n"
     ]
    }
   ],
   "source": [
    "from math import ceil\n",
    "\n",
    "class Stack:\n",
    "    def __init__(self):\n",
    "        self.items = []\n",
    "\n",
    "    def is_empty(self):\n",
    "        return self.items == []\n",
    "\n",
    "    def push(self, item):\n",
    "        self.items.append(item)\n",
    "\n",
    "    def pop(self):\n",
    "        return self.items.pop()\n",
    "\n",
    "    def peek(self):\n",
    "        return self.items[-1]\n",
    "\n",
    "    def size(self):\n",
    "        return len(self.items)\n",
    "\n",
    "\n",
    "def solve(s):\n",
    "    l = len(s)\n",
    "    if l % 2 != 0: return -1\n",
    "    stack = Stack(); count = 0; i = 0\n",
    "    while i < len(s):\n",
    "        if s[i] == \"(\":\n",
    "            stack.push(s[i])\n",
    "        else:\n",
    "            if stack.is_empty():\n",
    "                count += 1\n",
    "            else: stack.pop()\n",
    "        i += 1\n",
    "    q = (count + stack.size()) // 2 # I guess, or both nums are odd,\n",
    "                                    # or both numbers are even\n",
    "    #print(count, stack.size(), q)\n",
    "    #return q if count % 2 == 0 and stack.size() % 2 == 0 else q + 1\n",
    "    return q if count % 2 == 0 else q + 1\n",
    "    #return ceil((count + stack.size()) / 2)  # not the same result\n",
    "\n",
    "print(solve(\")()(\"), 2)\n",
    "print(solve(\"((()\"), 1)\n",
    "print(solve(\"(((\"), -1)\n",
    "print(solve(\"())(((\"), 3)\n",
    "print(solve(\"())()))))()()(\"), 4)\n",
    "print(solve(\"())()))))()()(((\"), 5)"
   ]
  },
  {
   "cell_type": "code",
   "execution_count": 33,
   "metadata": {},
   "outputs": [
    {
     "data": {
      "text/plain": [
       "3"
      ]
     },
     "execution_count": 33,
     "metadata": {},
     "output_type": "execute_result"
    }
   ],
   "source": [
    "ceil(2.5)"
   ]
  },
  {
   "cell_type": "code",
   "execution_count": 34,
   "metadata": {},
   "outputs": [
    {
     "data": {
      "text/plain": [
       "2"
      ]
     },
     "execution_count": 34,
     "metadata": {},
     "output_type": "execute_result"
    }
   ],
   "source": [
    "ceil(2.0)"
   ]
  },
  {
   "cell_type": "markdown",
   "metadata": {},
   "source": [
    "__#6__"
   ]
  },
  {
   "cell_type": "code",
   "execution_count": null,
   "metadata": {},
   "outputs": [],
   "source": [
    "def solve(s):\n",
    "    if len(s) % 2: return -1\n",
    "    count, swap = 0, 0\n",
    "    for i,c in enumerate(s):\n",
    "        count += (c == '(') - (c == ')')\n",
    "        if count < 0:\n",
    "            swap += 1 ; count = 1\n",
    "        elif count > len(s)-i: \n",
    "            swap += 1 ; count -= 2\n",
    "    return swap"
   ]
  },
  {
   "cell_type": "markdown",
   "metadata": {},
   "source": [
    "20201118"
   ]
  },
  {
   "cell_type": "markdown",
   "metadata": {},
   "source": [
    "### Disemvowel Trolls\n",
    "https://www.codewars.com/kata/52fba66badcd10859f00097e  \n",
    "7 kyu\n",
    "\n",
    "Trolls are attacking your comment section!\n",
    "\n",
    "A common way to deal with this situation is to remove all of the vowels from the trolls' comments, neutralizing the threat.\n",
    "\n",
    "Your task is to write a function that takes a string and return a new string with all vowels removed.\n",
    "\n",
    "For example, the string \"This website is for losers LOL!\" would become \"Ths wbst s fr lsrs LL!\".\n",
    "\n",
    "Note: for this kata y isn't considered a vowel."
   ]
  },
  {
   "cell_type": "markdown",
   "metadata": {},
   "source": [
    "__My solutions:__ "
   ]
  },
  {
   "cell_type": "markdown",
   "metadata": {},
   "source": [
    "__#1__"
   ]
  },
  {
   "cell_type": "code",
   "execution_count": 55,
   "metadata": {},
   "outputs": [
    {
     "name": "stdout",
     "output_type": "stream",
     "text": [
      "Ths wbst s fr lsrs LL! Ths wbst s fr lsrs LL!\n"
     ]
    }
   ],
   "source": [
    "def disemvowel(string):\n",
    "    return ''.join(filter(lambda c: c.lower() not in set('aoieu'), string))\n",
    "\n",
    "print(disemvowel(\"This website is for losers LOL!\"),\n",
    "                              \"Ths wbst s fr lsrs LL!\")"
   ]
  },
  {
   "cell_type": "code",
   "execution_count": 57,
   "metadata": {},
   "outputs": [
    {
     "data": {
      "text/plain": [
       "{'a', 'b'}"
      ]
     },
     "execution_count": 57,
     "metadata": {},
     "output_type": "execute_result"
    }
   ],
   "source": [
    "set('ab')"
   ]
  },
  {
   "cell_type": "code",
   "execution_count": 58,
   "metadata": {},
   "outputs": [
    {
     "data": {
      "text/plain": [
       "{'asdd'}"
      ]
     },
     "execution_count": 58,
     "metadata": {},
     "output_type": "execute_result"
    }
   ],
   "source": [
    "{'asdd'}"
   ]
  },
  {
   "cell_type": "markdown",
   "metadata": {},
   "source": [
    "__#2__"
   ]
  },
  {
   "cell_type": "code",
   "execution_count": 59,
   "metadata": {},
   "outputs": [
    {
     "name": "stdout",
     "output_type": "stream",
     "text": [
      "Ths wbst s fr lsrs LL! Ths wbst s fr lsrs LL!\n"
     ]
    }
   ],
   "source": [
    "def disemvowel(string):\n",
    "    return ''.join(c for c in string if c.lower() not in set('aoieu'))\n",
    "\n",
    "print(disemvowel(\"This website is for losers LOL!\"),\n",
    "                              \"Ths wbst s fr lsrs LL!\")"
   ]
  },
  {
   "cell_type": "markdown",
   "metadata": {},
   "source": [
    "__Other users' solutions:__"
   ]
  },
  {
   "cell_type": "markdown",
   "metadata": {},
   "source": [
    "__#1__"
   ]
  },
  {
   "cell_type": "code",
   "execution_count": 70,
   "metadata": {},
   "outputs": [
    {
     "name": "stdout",
     "output_type": "stream",
     "text": [
      "This website is for losers LOL! Ths wbst s fr lsrs LL!\n"
     ]
    }
   ],
   "source": [
    "def disemvowel(s):\n",
    "    table = str.maketrans(dict.fromkeys(\"aeiouyAEIOU\")) # or uncomment the next line\n",
    "    # table = str.maketrans({key: None for key in \"aeiouAEIOU\"})\n",
    "    return s.translate(table)\n",
    "\n",
    "print(disemvowel(\"This website is for losers LOL!\"),\n",
    "                              \"Ths wbst s fr lsrs LL!\")"
   ]
  },
  {
   "cell_type": "code",
   "execution_count": 61,
   "metadata": {},
   "outputs": [
    {
     "name": "stdout",
     "output_type": "stream",
     "text": [
      "Help on method_descriptor:\n",
      "\n",
      "translate(self, table, /)\n",
      "    Replace each character in the string using the given translation table.\n",
      "    \n",
      "      table\n",
      "        Translation table, which must be a mapping of Unicode ordinals to\n",
      "        Unicode ordinals, strings, or None.\n",
      "    \n",
      "    The table must implement lookup/indexing via __getitem__, for instance a\n",
      "    dictionary or list.  If this operation raises LookupError, the character is\n",
      "    left untouched.  Characters mapped to None are deleted.\n",
      "\n"
     ]
    }
   ],
   "source": [
    "help(str.translate)"
   ]
  },
  {
   "cell_type": "code",
   "execution_count": 68,
   "metadata": {},
   "outputs": [
    {
     "data": {
      "text/plain": [
       "{'a': None,\n",
       " 'e': None,\n",
       " 'i': None,\n",
       " 'o': None,\n",
       " 'u': None,\n",
       " 'y': None,\n",
       " 'A': None,\n",
       " 'E': None,\n",
       " 'I': None,\n",
       " 'O': None,\n",
       " 'U': None}"
      ]
     },
     "execution_count": 68,
     "metadata": {},
     "output_type": "execute_result"
    }
   ],
   "source": [
    "dict.fromkeys(\"aeiouyAEIOU\")"
   ]
  },
  {
   "cell_type": "code",
   "execution_count": 69,
   "metadata": {},
   "outputs": [
    {
     "data": {
      "text/plain": [
       "{'a': '1',\n",
       " 'e': '1',\n",
       " 'i': '1',\n",
       " 'o': '1',\n",
       " 'u': '1',\n",
       " 'y': '1',\n",
       " 'A': '1',\n",
       " 'E': '1',\n",
       " 'I': '1',\n",
       " 'O': '1',\n",
       " 'U': '1'}"
      ]
     },
     "execution_count": 69,
     "metadata": {},
     "output_type": "execute_result"
    }
   ],
   "source": [
    "dict.fromkeys(\"aeiouyAEIOU\", '1')"
   ]
  },
  {
   "cell_type": "markdown",
   "metadata": {},
   "source": [
    "Method str.translate() dosn't work this way:"
   ]
  },
  {
   "cell_type": "code",
   "execution_count": 71,
   "metadata": {},
   "outputs": [
    {
     "name": "stdout",
     "output_type": "stream",
     "text": [
      "fdadohthj,srrtwefbmaa\n"
     ]
    }
   ],
   "source": [
    "s = 'fdadohthj,srrtwefbmaa'\n",
    "print(s.translate(dict.fromkeys(\"aeiouyAEIOU\")))"
   ]
  },
  {
   "cell_type": "code",
   "execution_count": 72,
   "metadata": {},
   "outputs": [
    {
     "name": "stdout",
     "output_type": "stream",
     "text": [
      "Help on built-in function maketrans:\n",
      "\n",
      "maketrans(x, y=None, z=None, /)\n",
      "    Return a translation table usable for str.translate().\n",
      "    \n",
      "    If there is only one argument, it must be a dictionary mapping Unicode\n",
      "    ordinals (integers) or characters to Unicode ordinals, strings or None.\n",
      "    Character keys will be then converted to ordinals.\n",
      "    If there are two arguments, they must be strings of equal length, and\n",
      "    in the resulting dictionary, each character in x will be mapped to the\n",
      "    character at the same position in y. If there is a third argument, it\n",
      "    must be a string, whose characters will be mapped to None in the result.\n",
      "\n"
     ]
    }
   ],
   "source": [
    "help(str.maketrans)"
   ]
  },
  {
   "cell_type": "markdown",
   "metadata": {},
   "source": [
    "__#2__"
   ]
  },
  {
   "cell_type": "code",
   "execution_count": null,
   "metadata": {},
   "outputs": [],
   "source": [
    "import re\n",
    "def disemvowel(string):\n",
    "    return re.sub('[aeiou]', '', string, flags = re.IGNORECASE)"
   ]
  },
  {
   "cell_type": "markdown",
   "metadata": {},
   "source": [
    "20201119"
   ]
  },
  {
   "cell_type": "markdown",
   "metadata": {},
   "source": [
    "### Sum of two lowest positive integers\n",
    "https://www.codewars.com/kata/558fc85d8fd1938afb000014  \n",
    "7 kyu\n",
    "\n",
    "Create a function that returns the sum of the two lowest positive numbers given an array of minimum 4 positive integers. No floats or non-positive integers will be passed.\n",
    "\n",
    "For example, when an array is passed like [19, 5, 42, 2, 77], the output should be 7.\n",
    "\n",
    "[10, 343445353, 3453445, 3453545353453] should return 3453455."
   ]
  },
  {
   "cell_type": "markdown",
   "metadata": {},
   "source": [
    "__My solution:__"
   ]
  },
  {
   "cell_type": "code",
   "execution_count": 76,
   "metadata": {},
   "outputs": [
    {
     "name": "stdout",
     "output_type": "stream",
     "text": [
      "10 10\n",
      "13 13\n",
      "19 19\n",
      "30 30\n"
     ]
    }
   ],
   "source": [
    "def sum_two_smallest_numbers(numbers):\n",
    "    min1, min2 = float('inf'), float('inf')\n",
    "    for n in numbers:\n",
    "        if n < min2:\n",
    "            if n < min1:\n",
    "                min2, min1 = min1, n\n",
    "            else:\n",
    "                min2 = n\n",
    "    return min1 + min2\n",
    "\n",
    "print(sum_two_smallest_numbers([5, 8, 12, 18, 22, 5]), 10)\n",
    "print(sum_two_smallest_numbers([5, 8, 12, 18, 22]), 13)\n",
    "print(sum_two_smallest_numbers([7, 15, 12, 18, 22]), 19)\n",
    "print(sum_two_smallest_numbers([25, 42, 12, 18, 22]), 30)"
   ]
  },
  {
   "cell_type": "markdown",
   "metadata": {},
   "source": [
    "__My attempts__ \n",
    "\n",
    "Doesn't work for some TC:"
   ]
  },
  {
   "cell_type": "code",
   "execution_count": 78,
   "metadata": {},
   "outputs": [
    {
     "name": "stdout",
     "output_type": "stream",
     "text": [
      "13 10\n",
      "13 13\n",
      "19 19\n",
      "30 30\n"
     ]
    }
   ],
   "source": [
    "def sum_two_smallest_numbers(numbers):\n",
    "    min1 = min(numbers)\n",
    "    return min((n for n in numbers if n != min1)) + min1\n",
    "\n",
    "print(sum_two_smallest_numbers([5, 8, 12, 18, 22, 5]), 10)\n",
    "print(sum_two_smallest_numbers([5, 8, 12, 18, 22]), 13)\n",
    "print(sum_two_smallest_numbers([7, 15, 12, 18, 22]), 19)\n",
    "print(sum_two_smallest_numbers([25, 42, 12, 18, 22]), 30)"
   ]
  },
  {
   "cell_type": "markdown",
   "metadata": {},
   "source": [
    "20201120"
   ]
  },
  {
   "cell_type": "markdown",
   "metadata": {},
   "source": [
    "### Number of trailing zeros of N!\n",
    "https://www.codewars.com/kata/52f787eb172a8b4ae1000a34  \n",
    "5 kyu (IMHO, it's quite hard for 5 kyu)\n",
    "\n",
    "Write a program that will calculate the number of trailing zeros in a factorial of a given number.\n",
    "\n",
    "N! = 1 * 2 * 3 * ... * N\n",
    "\n",
    "Be careful 1000! has 2568 digits...\n",
    "\n",
    "For more info, see: http://mathworld.wolfram.com/Factorial.html\n",
    "\n",
    "Examples\n",
    "\n",
    "zeros(6) = 1 # 6! = 1 * 2 * 3 * 4 * 5 * 6 = 720 --> 1 trailing zero\n",
    "\n",
    "zeros(12) = 2 # 12! = 479001600 --> 2 trailing zeros\n",
    "\n",
    "Hint: You're not meant to calculate the factorial. Find another way to find the number of zeros."
   ]
  },
  {
   "cell_type": "markdown",
   "metadata": {},
   "source": [
    "__My solution:__"
   ]
  },
  {
   "cell_type": "code",
   "execution_count": 81,
   "metadata": {},
   "outputs": [
    {
     "name": "stdout",
     "output_type": "stream",
     "text": [
      "0 0 Testing with n = 0\n",
      "1 1 Testing with n = 6\n",
      "7 7 Testing with n = 30\n"
     ]
    }
   ],
   "source": [
    "def zeros(n):\n",
    "    zeros, div = 0, 1\n",
    "    while True:\n",
    "        div *= 5\n",
    "        q = n // div\n",
    "        zeros += q\n",
    "        if q == 0:\n",
    "            break\n",
    "    return zeros\n",
    "    \n",
    "\n",
    "print(zeros(0), 0, \"Testing with n = 0\")\n",
    "print(zeros(6), 1, \"Testing with n = 6\")\n",
    "print(zeros(30), 7, \"Testing with n = 30\")"
   ]
  },
  {
   "cell_type": "code",
   "execution_count": 79,
   "metadata": {},
   "outputs": [
    {
     "data": {
      "text/plain": [
       "0"
      ]
     },
     "execution_count": 79,
     "metadata": {},
     "output_type": "execute_result"
    }
   ],
   "source": [
    "1 // 2"
   ]
  },
  {
   "cell_type": "markdown",
   "metadata": {},
   "source": [
    "__Other users' solutions:__"
   ]
  },
  {
   "cell_type": "markdown",
   "metadata": {},
   "source": [
    "__#1__"
   ]
  },
  {
   "cell_type": "code",
   "execution_count": 83,
   "metadata": {},
   "outputs": [
    {
     "name": "stdout",
     "output_type": "stream",
     "text": [
      "0 0 Testing with n = 0\n",
      "1 1 Testing with n = 6\n",
      "7 7 Testing with n = 30\n"
     ]
    }
   ],
   "source": [
    "def zeros(n):\n",
    "    x = n // 5\n",
    "    return x + zeros(x) if x else 0\n",
    "\n",
    "\n",
    "print(zeros(0), 0, \"Testing with n = 0\")\n",
    "print(zeros(6), 1, \"Testing with n = 6\")\n",
    "print(zeros(30), 7, \"Testing with n = 30\")"
   ]
  },
  {
   "cell_type": "markdown",
   "metadata": {},
   "source": [
    "__#2__"
   ]
  },
  {
   "cell_type": "code",
   "execution_count": 84,
   "metadata": {},
   "outputs": [],
   "source": [
    "def zeros(n):\n",
    "    \"\"\"\n",
    "    No factorial is going to have fewer zeros than the factorial of a smaller\n",
    "    number.\n",
    "\n",
    "    Each multiple of 5 adds a 0, so first we count how many multiples of 5 are\n",
    "    smaller than `n` (`n // 5`).\n",
    "\n",
    "    Each multiple of 25 adds two 0's, so next we add another 0 for each multiple\n",
    "    of 25 smaller than n.\n",
    "\n",
    "    We continue on for all powers of 5 smaller than (or equal to) n.\n",
    "    \"\"\"\n",
    "    pow_of_5 = 5\n",
    "    zeros = 0\n",
    "    \n",
    "    while n >= pow_of_5:\n",
    "        zeros += n // pow_of_5\n",
    "        pow_of_5 *= 5\n",
    "        \n",
    "    return zeros"
   ]
  },
  {
   "cell_type": "markdown",
   "metadata": {},
   "source": [
    "__#3__ IMHO, it's the most mathematic solution"
   ]
  },
  {
   "cell_type": "code",
   "execution_count": 96,
   "metadata": {},
   "outputs": [
    {
     "name": "stdout",
     "output_type": "stream",
     "text": [
      "0 0 Testing with n = 0\n",
      "1 1 Testing with n = 6\n",
      "7 7 Testing with n = 30\n"
     ]
    }
   ],
   "source": [
    "from math import log\n",
    "\n",
    "def zeros(n):\n",
    "    return sum(n // (5 ** i) for i in range(1, int(log(n, 5) + 1))) if n > 0 else 0\n",
    "\n",
    "\n",
    "print(zeros(0), 0, \"Testing with n = 0\")\n",
    "print(zeros(6), 1, \"Testing with n = 6\")\n",
    "print(zeros(30), 7, \"Testing with n = 30\")"
   ]
  },
  {
   "cell_type": "code",
   "execution_count": 91,
   "metadata": {},
   "outputs": [
    {
     "name": "stdout",
     "output_type": "stream",
     "text": [
      "1.4306765580733933\n",
      "2.1132827525593787\n",
      "4.29202967422018\n"
     ]
    }
   ],
   "source": [
    "from math import log\n",
    "\n",
    "print(log(10, 5))\n",
    "print(log(30, 5))\n",
    "print(log(1000, 5))"
   ]
  },
  {
   "cell_type": "markdown",
   "metadata": {},
   "source": [
    "### Count characters in your string\n",
    "https://www.codewars.com/kata/52efefcbcdf57161d4000091  \n",
    "6 kyu (IMHO, it's way too easy for 6 kyu)\n",
    "\n",
    "The main idea is to count all the occurring characters in a string. If you have a string like aba, then the result should be {'a': 2, 'b': 1}.\n",
    "\n",
    "What if the string is empty? Then the result should be empty object literal, {}."
   ]
  },
  {
   "cell_type": "markdown",
   "metadata": {},
   "source": [
    "__My solution:__"
   ]
  },
  {
   "cell_type": "code",
   "execution_count": 99,
   "metadata": {},
   "outputs": [
    {
     "name": "stdout",
     "output_type": "stream",
     "text": [
      "{'a': 2, 'b': 1} {'a': 2, 'b': 1}\n",
      "{} {}\n"
     ]
    }
   ],
   "source": [
    "from collections import Counter\n",
    "\n",
    "def count(string):\n",
    "    return dict(Counter(string))\n",
    "\n",
    "\n",
    "print(count('aba'), {'a': 2, 'b': 1})\n",
    "print(count(''), {})"
   ]
  },
  {
   "cell_type": "code",
   "execution_count": 101,
   "metadata": {},
   "outputs": [
    {
     "data": {
      "text/plain": [
       "collections.Counter"
      ]
     },
     "execution_count": 101,
     "metadata": {},
     "output_type": "execute_result"
    }
   ],
   "source": [
    "type(Counter('fdfd'))"
   ]
  },
  {
   "cell_type": "code",
   "execution_count": 102,
   "metadata": {},
   "outputs": [
    {
     "data": {
      "text/plain": [
       "Counter()"
      ]
     },
     "execution_count": 102,
     "metadata": {},
     "output_type": "execute_result"
    }
   ],
   "source": [
    "Counter('')"
   ]
  },
  {
   "cell_type": "markdown",
   "metadata": {},
   "source": [
    "__Other users' solutions:__"
   ]
  },
  {
   "cell_type": "markdown",
   "metadata": {},
   "source": [
    "__#1__"
   ]
  },
  {
   "cell_type": "code",
   "execution_count": 103,
   "metadata": {},
   "outputs": [
    {
     "name": "stdout",
     "output_type": "stream",
     "text": [
      "Counter({'a': 2, 'b': 1}) {'a': 2, 'b': 1}\n",
      "Counter() {}\n"
     ]
    }
   ],
   "source": [
    "from collections import Counter\n",
    "\n",
    "def count(string):\n",
    "    return Counter(string)\n",
    "\n",
    "\n",
    "print(count('aba'), {'a': 2, 'b': 1})\n",
    "print(count(''), {})"
   ]
  },
  {
   "cell_type": "markdown",
   "metadata": {},
   "source": [
    "__#2__"
   ]
  },
  {
   "cell_type": "code",
   "execution_count": 104,
   "metadata": {},
   "outputs": [
    {
     "name": "stdout",
     "output_type": "stream",
     "text": [
      "Counter({'a': 2, 'b': 1}) {'a': 2, 'b': 1}\n",
      "Counter() {}\n"
     ]
    }
   ],
   "source": [
    "from collections import Counter as count\n",
    "\n",
    "print(count('aba'), {'a': 2, 'b': 1})\n",
    "print(count(''), {})"
   ]
  },
  {
   "cell_type": "code",
   "execution_count": 106,
   "metadata": {},
   "outputs": [
    {
     "data": {
      "text/plain": [
       "True"
      ]
     },
     "execution_count": 106,
     "metadata": {},
     "output_type": "execute_result"
    }
   ],
   "source": [
    "Counter() == {}"
   ]
  },
  {
   "cell_type": "code",
   "execution_count": 107,
   "metadata": {},
   "outputs": [
    {
     "data": {
      "text/plain": [
       "True"
      ]
     },
     "execution_count": 107,
     "metadata": {},
     "output_type": "execute_result"
    }
   ],
   "source": [
    "Counter({'a': 2, 'b': 1}) == {'a': 2, 'b': 1}"
   ]
  },
  {
   "cell_type": "code",
   "execution_count": 111,
   "metadata": {},
   "outputs": [
    {
     "data": {
      "text/plain": [
       "('b', 1)"
      ]
     },
     "execution_count": 111,
     "metadata": {},
     "output_type": "execute_result"
    }
   ],
   "source": [
    "c = Counter({'a': 2, 'b': 1})\n",
    "c.popitem()"
   ]
  },
  {
   "cell_type": "code",
   "execution_count": 110,
   "metadata": {},
   "outputs": [
    {
     "data": {
      "text/plain": [
       "('b', 1)"
      ]
     },
     "execution_count": 110,
     "metadata": {},
     "output_type": "execute_result"
    }
   ],
   "source": [
    "d = {'a': 2, 'b': 1}\n",
    "d.popitem()"
   ]
  },
  {
   "cell_type": "code",
   "execution_count": 112,
   "metadata": {},
   "outputs": [
    {
     "name": "stdout",
     "output_type": "stream",
     "text": [
      "Help on method_descriptor:\n",
      "\n",
      "popitem(...)\n",
      "    D.popitem() -> (k, v), remove and return some (key, value) pair as a\n",
      "    2-tuple; but raise KeyError if D is empty.\n",
      "\n"
     ]
    }
   ],
   "source": [
    "help(dict.popitem)"
   ]
  },
  {
   "cell_type": "markdown",
   "metadata": {},
   "source": [
    "20201121"
   ]
  },
  {
   "cell_type": "markdown",
   "metadata": {},
   "source": [
    "### Counting sheep...\n",
    "https://www.codewars.com/kata/54edbc7200b811e956000556  \n",
    "8 kyu\n",
    "\n",
    "Consider an array/list of sheep where some sheep may be missing from their place. We need a function that counts the number of sheep present in the array (true means present).\n",
    "\n",
    "For example,\n",
    "\n",
    "[True,  True,  True,  False,\n",
    "  True,  True,  True,  True ,\n",
    "  True,  False, True,  False,\n",
    "  True,  False, False, True ,\n",
    "  True,  True,  True,  True ,\n",
    "  False, False, True,  True]\n",
    "  \n",
    "The correct answer would be 17.\n",
    "\n",
    "Hint: Don't forget to check for bad values like null/undefined"
   ]
  },
  {
   "cell_type": "markdown",
   "metadata": {},
   "source": [
    "__My solution:__"
   ]
  },
  {
   "cell_type": "code",
   "execution_count": 113,
   "metadata": {},
   "outputs": [
    {
     "name": "stdout",
     "output_type": "stream",
     "text": [
      "17 17 There are 17 sheeps in total, not 17\n"
     ]
    }
   ],
   "source": [
    "def count_sheeps(sheep):\n",
    "    return sheep.count(True)\n",
    "\n",
    "\n",
    "array1 = [True,  True,  True,  False,\n",
    "          True,  True,  True,  True ,\n",
    "          True,  False, True,  False,\n",
    "          True,  False, False, True ,\n",
    "          True,  True,  True,  True ,\n",
    "          False, False, True,  True ];\n",
    "              \n",
    "print(count_sheeps(array1), 17, \"There are 17 sheeps in total, not %s\" % count_sheeps(array1))"
   ]
  },
  {
   "cell_type": "markdown",
   "metadata": {},
   "source": [
    "20201122"
   ]
  },
  {
   "cell_type": "markdown",
   "metadata": {},
   "source": [
    "### Calculate average\n",
    "https://www.codewars.com/kata/57a2013acf1fa5bfc4000921  \n",
    "8 kyu\n",
    "\n",
    "Write function avg which calculates average of numbers in given list."
   ]
  },
  {
   "cell_type": "markdown",
   "metadata": {},
   "source": [
    "__My solution:__"
   ]
  },
  {
   "cell_type": "code",
   "execution_count": 115,
   "metadata": {},
   "outputs": [
    {
     "name": "stdout",
     "output_type": "stream",
     "text": [
      "2.0 2\n"
     ]
    }
   ],
   "source": [
    "def find_average(ls):\n",
    "    return sum(ls) / len(ls) if ls else None\n",
    "\n",
    "\n",
    "print(find_average([1, 2, 3]), 2)"
   ]
  },
  {
   "cell_type": "markdown",
   "metadata": {},
   "source": [
    "__Other users' solutions:__"
   ]
  },
  {
   "cell_type": "code",
   "execution_count": null,
   "metadata": {},
   "outputs": [],
   "source": [
    "def find_average(array):\n",
    "    if not array:\n",
    "        return 0\n",
    "\n",
    "    class SafeFloat(object):\n",
    "        def __init__(self, val):\n",
    "            super(SafeFloat, self).__init__()\n",
    "            self.val = val\n",
    "\n",
    "        def __eq__(self, float_val):\n",
    "            # let me fix your comparisons..\n",
    "            def isclose(a, b):\n",
    "                return abs(a - b) < 0.00000001\n",
    "            return isclose(self.val, float_val)\n",
    "\n",
    "        def __str__(self):\n",
    "            return str(self.val)\n",
    "\n",
    "    from numpy import mean\n",
    "    return SafeFloat(mean(array))"
   ]
  },
  {
   "cell_type": "markdown",
   "metadata": {},
   "source": [
    "20201123"
   ]
  },
  {
   "cell_type": "markdown",
   "metadata": {},
   "source": [
    "### Sum of all the multiples of 3 or 5\n",
    "https://www.codewars.com/kata/57f36495c0bb25ecf50000e7  \n",
    "7 kyu\n",
    "\n",
    "Your task is to write function findSum.\n",
    "\n",
    "Upto and including n, this function will return the sum of all multiples of 3 and 5.\n",
    "\n",
    "For example:\n",
    "\n",
    "findSum(5) should return 8 (3 + 5)\n",
    "\n",
    "findSum(10) should return 33 (3 + 5 + 6 + 9 + 10)"
   ]
  },
  {
   "cell_type": "markdown",
   "metadata": {},
   "source": [
    "__My solution:__"
   ]
  },
  {
   "cell_type": "code",
   "execution_count": 121,
   "metadata": {},
   "outputs": [
    {
     "name": "stdout",
     "output_type": "stream",
     "text": [
      "8 8\n",
      "33 33\n"
     ]
    }
   ],
   "source": [
    "def find(N):\n",
    "    # Sum of arithmetic progression:\n",
    "    # S = (a1 + an) * n / 2 == (2 * a1 + (n - 1) * d) * n / 2\n",
    "    # If a1 == d then S = a1 * n * (n + 1) / 2\n",
    "    S3 = 3 * (N // 3) * (N // 3 + 1)\n",
    "    S5 = 5 * (N // 5) * (N // 5 + 1)\n",
    "    S15 = 15 * (N // 15) * (N // 15 + 1)\n",
    "    return (S3 + S5 - S15) // 2\n",
    "    \n",
    "\n",
    "print(find(5), 8)\n",
    "print(find(10), 33)"
   ]
  },
  {
   "cell_type": "code",
   "execution_count": 118,
   "metadata": {},
   "outputs": [
    {
     "data": {
      "text/plain": [
       "1"
      ]
     },
     "execution_count": 118,
     "metadata": {},
     "output_type": "execute_result"
    }
   ],
   "source": [
    "5 // 3"
   ]
  },
  {
   "cell_type": "markdown",
   "metadata": {},
   "source": [
    "__Other users' solutions:__"
   ]
  },
  {
   "cell_type": "markdown",
   "metadata": {},
   "source": [
    "__#1__"
   ]
  },
  {
   "cell_type": "code",
   "execution_count": null,
   "metadata": {},
   "outputs": [],
   "source": [
    "def find(n):\n",
    "    return sum(e for e in range(1, n + 1) if e % 3 == 0 or e % 5 == 0)"
   ]
  },
  {
   "cell_type": "markdown",
   "metadata": {},
   "source": [
    "__#2__"
   ]
  },
  {
   "cell_type": "code",
   "execution_count": null,
   "metadata": {},
   "outputs": [],
   "source": [
    "def find(n):\n",
    "    return sum([el for el in range(3,n+1,3) if el %5 != 0])+sum(range(5, n + 1, 5))"
   ]
  },
  {
   "cell_type": "markdown",
   "metadata": {},
   "source": [
    "__#3__"
   ]
  },
  {
   "cell_type": "code",
   "execution_count": 122,
   "metadata": {},
   "outputs": [],
   "source": [
    "def find(n):\n",
    "    return sum(set(range(0, n + 1, 3)) | set(range(0, n + 1, 5)))"
   ]
  },
  {
   "cell_type": "markdown",
   "metadata": {},
   "source": [
    "__#4__"
   ]
  },
  {
   "cell_type": "code",
   "execution_count": null,
   "metadata": {},
   "outputs": [],
   "source": [
    "def find(n):\n",
    "    return sum(range(0, n + 1, 3)) + sum(range(0, n + 1, 5)) - sum(range(0, n + 1, 15))"
   ]
  },
  {
   "cell_type": "markdown",
   "metadata": {},
   "source": [
    "### Next bigger number with the same digits\n",
    "https://www.codewars.com/kata/55983863da40caa2c900004e  \n",
    "4 kyu (IMHO, it's too easy for this kyu)\n",
    "\n",
    "Create a function that takes a positive integer and returns the next bigger number that can be formed by rearranging its digits. For example:\n",
    "\n",
    "12 ==> 21  \n",
    "513 ==> 531  \n",
    "2017 ==> 2071  \n",
    "nextBigger(num: 12)   // returns 21  \n",
    "nextBigger(num: 513)  // returns 531  \n",
    "nextBigger(num: 2017) // returns 2071  \n",
    "\n",
    "If the digits can't be rearranged to form a bigger number, return -1 (or nil in Swift):\n",
    "\n",
    "9 ==> -1  \n",
    "111 ==> -1  \n",
    "531 ==> -1  \n",
    "nextBigger(num: 9)   // returns nil  \n",
    "nextBigger(num: 111) // returns nil  \n",
    "nextBigger(num: 531) // returns nil  "
   ]
  },
  {
   "cell_type": "markdown",
   "metadata": {},
   "source": [
    "__My soluion:__"
   ]
  },
  {
   "cell_type": "code",
   "execution_count": null,
   "metadata": {},
   "outputs": [],
   "source": [
    "# Ver.5\n",
    "def next_bigger(n):\n",
    "    n = [int(d) for d in str(n)]\n",
    "    n_end = []\n",
    "\n",
    "    for i in range(len(n) - 1, -1, -1):\n",
    "        m = min((d for d in n_end if d > n[i]), default=None)\n",
    "        n_end.append(n[i])\n",
    "        if m:\n",
    "            n[i] = m\n",
    "            n_end.remove(m)\n",
    "            return int(''.join(map(str, n[: i + 1] + sorted(n_end))))\n",
    "    return -1    \n",
    "\n",
    "\n",
    "print(next_bigger(12), 21)\n",
    "print(next_bigger(513), 531)\n",
    "print(next_bigger(2017), 2071)\n",
    "print(next_bigger(414), 441)\n",
    "print(next_bigger(144), 414)\n",
    "print(next_bigger(62), -1)\n",
    "print(next_bigger(241171374580), 241171374805)"
   ]
  },
  {
   "cell_type": "markdown",
   "metadata": {},
   "source": [
    "__My unsuccessful attempts:__"
   ]
  },
  {
   "cell_type": "markdown",
   "metadata": {},
   "source": [
    "__#1__ Execution Timed Out"
   ]
  },
  {
   "cell_type": "code",
   "execution_count": 142,
   "metadata": {},
   "outputs": [
    {
     "name": "stdout",
     "output_type": "stream",
     "text": [
      "21 21\n",
      "531 531\n",
      "2071 2071\n",
      "441 441\n",
      "414 414\n"
     ]
    }
   ],
   "source": [
    "# Ver.1. Execution Timed Out\n",
    "from itertools import permutations\n",
    "\n",
    "def next_bigger(n):\n",
    "    return min(filter(lambda a: a > n, (int(''.join(p)) for p in permutations(str(n), len(str(n))))), default=None)\n",
    "    \n",
    "\n",
    "print(next_bigger(12), 21)\n",
    "print(next_bigger(513), 531)\n",
    "print(next_bigger(2017), 2071)\n",
    "print(next_bigger(414), 441)\n",
    "print(next_bigger(144), 414)"
   ]
  },
  {
   "cell_type": "code",
   "execution_count": 134,
   "metadata": {},
   "outputs": [
    {
     "data": {
      "text/plain": [
       "[('2', '3', '1'),\n",
       " ('2', '1', '3'),\n",
       " ('3', '2', '1'),\n",
       " ('3', '1', '2'),\n",
       " ('1', '2', '3'),\n",
       " ('1', '3', '2')]"
      ]
     },
     "execution_count": 134,
     "metadata": {},
     "output_type": "execute_result"
    }
   ],
   "source": [
    "from itertools import permutations\n",
    "\n",
    "list(permutations('231', 3))"
   ]
  },
  {
   "cell_type": "markdown",
   "metadata": {},
   "source": [
    "Almost the same (more readable):"
   ]
  },
  {
   "cell_type": "code",
   "execution_count": 149,
   "metadata": {},
   "outputs": [
    {
     "name": "stdout",
     "output_type": "stream",
     "text": [
      "21 21\n",
      "531 531\n",
      "2071 2071\n",
      "441 441\n",
      "414 414\n"
     ]
    }
   ],
   "source": [
    "# Ver.1. Execution Timed Out\n",
    "from itertools import permutations\n",
    "\n",
    "def next_bigger(n):\n",
    "    res = float('inf')\n",
    "    for p in permutations(str(n)):\n",
    "        num = int(''.join(p))\n",
    "        if num > n and num < res:\n",
    "            res = num        \n",
    "    return res if res != float('inf') else None\n",
    "\n",
    "print(next_bigger(12), 21)\n",
    "print(next_bigger(513), 531)\n",
    "print(next_bigger(2017), 2071)\n",
    "print(next_bigger(414), 441)\n",
    "print(next_bigger(144), 414)"
   ]
  },
  {
   "cell_type": "markdown",
   "metadata": {},
   "source": [
    "__#2__ Almost the same, just added a set:"
   ]
  },
  {
   "cell_type": "code",
   "execution_count": 154,
   "metadata": {},
   "outputs": [
    {
     "name": "stdout",
     "output_type": "stream",
     "text": [
      "21 21\n",
      "531 531\n",
      "2071 2071\n",
      "441 441\n",
      "414 414\n"
     ]
    }
   ],
   "source": [
    "# Ver.2. Execution Timed Out\n",
    "from itertools import permutations\n",
    "\n",
    "def next_bigger(n):\n",
    "    res = float('inf')\n",
    "    for p in set(permutations(str(n))):\n",
    "        num = int(''.join(p))\n",
    "        if num > n and num < res:\n",
    "            res = num        \n",
    "    return res if res != float('inf') else None\n",
    "\n",
    "print(next_bigger(12), 21)\n",
    "print(next_bigger(513), 531)\n",
    "print(next_bigger(2017), 2071)\n",
    "print(next_bigger(414), 441)\n",
    "print(next_bigger(144), 414)"
   ]
  },
  {
   "cell_type": "code",
   "execution_count": 156,
   "metadata": {},
   "outputs": [
    {
     "name": "stdout",
     "output_type": "stream",
     "text": [
      "21 21\n",
      "531 531\n",
      "2071 2071\n",
      "441 441\n",
      "414 414\n"
     ]
    }
   ],
   "source": [
    "# Ver.3. Execution Timed Out\n",
    "from itertools import permutations\n",
    "\n",
    "def next_bigger(n):\n",
    "    res = float('inf')\n",
    "    l = len(str(n))\n",
    "    for p in set(permutations([int(d) for d in str(n)])):\n",
    "        num = sum(d * 10 ** (l - pos) for pos, d in enumerate(p, 1))\n",
    "        if num > n and num < res:\n",
    "            res = num        \n",
    "    return res if res != float('inf') else None\n",
    "\n",
    "print(next_bigger(12), 21)\n",
    "print(next_bigger(513), 531)\n",
    "print(next_bigger(2017), 2071)\n",
    "print(next_bigger(414), 441)\n",
    "print(next_bigger(144), 414)"
   ]
  },
  {
   "cell_type": "code",
   "execution_count": 148,
   "metadata": {},
   "outputs": [
    {
     "data": {
      "text/plain": [
       "[(1, 2, 2), (1, 2, 2), (2, 1, 2), (2, 2, 1), (2, 1, 2), (2, 2, 1)]"
      ]
     },
     "execution_count": 148,
     "metadata": {},
     "output_type": "execute_result"
    }
   ],
   "source": [
    "list(permutations([1, 2, 2]))"
   ]
  },
  {
   "cell_type": "code",
   "execution_count": 151,
   "metadata": {},
   "outputs": [
    {
     "data": {
      "text/plain": [
       "[5, 1, 3]"
      ]
     },
     "execution_count": 151,
     "metadata": {},
     "output_type": "execute_result"
    }
   ],
   "source": [
    "n = 513\n",
    "[int(d) for d in str(n)]"
   ]
  },
  {
   "cell_type": "code",
   "execution_count": 162,
   "metadata": {},
   "outputs": [
    {
     "name": "stdout",
     "output_type": "stream",
     "text": [
      "[1, 2] 21\n",
      "[5, 1, 3] 531\n",
      "[2, 0, 1, 7] 2071\n",
      "[4, 1, 4] 441\n",
      "[1, 4, 4] 414\n"
     ]
    }
   ],
   "source": [
    "# Ver.4. Doesn't work right: get the initial num\n",
    "def next_bigger(n):\n",
    "    n_ls = [int(d) for d in str(n)]\n",
    "    n_ls_full = n_ls.copy()\n",
    "    res = []\n",
    "    any_min = False\n",
    "    for cur in n_ls_full:\n",
    "        a = min(((d, i) for i, d in enumerate(n_ls) if not any_min and d >= cur), default=None)\n",
    "        if a:\n",
    "            res.append(a[0])  # d\n",
    "            n_ls.pop(a[1])    # i\n",
    "        else:\n",
    "            return None\n",
    "        if any(n_ls_full[i] == res[i] for i in range(len(res))):\n",
    "            any_min = False\n",
    "        else:\n",
    "            any_min = True\n",
    "    return res\n",
    "\n",
    "\n",
    "print(next_bigger(12), 21)\n",
    "print(next_bigger(513), 531)\n",
    "print(next_bigger(2017), 2071)\n",
    "print(next_bigger(414), 441)\n",
    "print(next_bigger(144), 414)"
   ]
  },
  {
   "cell_type": "code",
   "execution_count": 157,
   "metadata": {},
   "outputs": [
    {
     "data": {
      "text/plain": [
       "(0, 1)"
      ]
     },
     "execution_count": 157,
     "metadata": {},
     "output_type": "execute_result"
    }
   ],
   "source": [
    "min((1, 0), (0, 1), (0, 2), (2, 3))"
   ]
  },
  {
   "cell_type": "code",
   "execution_count": 158,
   "metadata": {},
   "outputs": [
    {
     "name": "stdout",
     "output_type": "stream",
     "text": [
      "Help on method_descriptor:\n",
      "\n",
      "remove(self, value, /)\n",
      "    Remove first occurrence of value.\n",
      "    \n",
      "    Raises ValueError if the value is not present.\n",
      "\n"
     ]
    }
   ],
   "source": [
    "help(list.remove)"
   ]
  },
  {
   "cell_type": "code",
   "execution_count": 159,
   "metadata": {},
   "outputs": [
    {
     "name": "stdout",
     "output_type": "stream",
     "text": [
      "Help on method_descriptor:\n",
      "\n",
      "pop(self, index=-1, /)\n",
      "    Remove and return item at index (default last).\n",
      "    \n",
      "    Raises IndexError if list is empty or index is out of range.\n",
      "\n"
     ]
    }
   ],
   "source": [
    "help(list.pop)"
   ]
  },
  {
   "cell_type": "code",
   "execution_count": 194,
   "metadata": {},
   "outputs": [
    {
     "name": "stdout",
     "output_type": "stream",
     "text": [
      "21 21\n",
      "531 531\n",
      "2071 2071\n",
      "441 441\n",
      "414 414\n",
      "-1 -1\n",
      "241171374805 241171374805\n"
     ]
    }
   ],
   "source": [
    "# Ver.5\n",
    "def next_bigger(n):\n",
    "    n = [int(d) for d in str(n)]\n",
    "    n_end = []\n",
    "\n",
    "    for i in range(len(n) - 1, -1, -1):\n",
    "        a = min(((d, j) for j, d in enumerate(n_end) if d > n[i]), default=None)\n",
    "        if a:\n",
    "            temp = n[i]\n",
    "            n[i] = a[0]\n",
    "            n_end.pop(a[1])\n",
    "            n_end.append(temp)\n",
    "            break\n",
    "        else:\n",
    "            n_end.append(n[i])\n",
    "    else:\n",
    "        return -1\n",
    "    \n",
    "    return int(''.join(map(str, n[: i + 1] + sorted(n_end))))\n",
    "\n",
    "\n",
    "print(next_bigger(12), 21)\n",
    "print(next_bigger(513), 531)\n",
    "print(next_bigger(2017), 2071)\n",
    "print(next_bigger(414), 441)\n",
    "print(next_bigger(144), 414)\n",
    "print(next_bigger(62), -1)\n",
    "print(next_bigger(241171374580), 241171374805)"
   ]
  },
  {
   "cell_type": "markdown",
   "metadata": {},
   "source": [
    "Almost the same. May be a little longer but more readable:"
   ]
  },
  {
   "cell_type": "code",
   "execution_count": 193,
   "metadata": {},
   "outputs": [
    {
     "name": "stdout",
     "output_type": "stream",
     "text": [
      "21 21\n",
      "531 531\n",
      "2071 2071\n",
      "441 441\n",
      "414 414\n",
      "-1 -1\n",
      "241171374805 241171374805\n"
     ]
    }
   ],
   "source": [
    "# Ver.5\n",
    "def next_bigger(n):\n",
    "    n = [int(d) for d in str(n)]\n",
    "    n_end = []\n",
    "\n",
    "    for i in range(len(n) - 1, -1, -1):\n",
    "        m = min((d for d in n_end if d > n[i]), default=None)\n",
    "        n_end.append(n[i])\n",
    "        if m:\n",
    "            n[i] = m\n",
    "            n_end.remove(m)\n",
    "            break\n",
    "    else:\n",
    "        return -1\n",
    "    \n",
    "    return int(''.join(map(str, n[: i + 1] + sorted(n_end))))\n",
    "\n",
    "\n",
    "print(next_bigger(12), 21)\n",
    "print(next_bigger(513), 531)\n",
    "print(next_bigger(2017), 2071)\n",
    "print(next_bigger(414), 441)\n",
    "print(next_bigger(144), 414)\n",
    "print(next_bigger(62), -1)\n",
    "print(next_bigger(241171374580), 241171374805)"
   ]
  },
  {
   "cell_type": "markdown",
   "metadata": {},
   "source": [
    "__Other users' solutions:__"
   ]
  },
  {
   "cell_type": "markdown",
   "metadata": {},
   "source": [
    "__#1__"
   ]
  },
  {
   "cell_type": "code",
   "execution_count": 195,
   "metadata": {},
   "outputs": [
    {
     "name": "stdout",
     "output_type": "stream",
     "text": [
      "21 21\n",
      "531 531\n",
      "2071 2071\n",
      "441 441\n",
      "414 414\n",
      "-1 -1\n",
      "241171374805 241171374805\n"
     ]
    }
   ],
   "source": [
    "def next_bigger(n):\n",
    "    s = list(str(n))\n",
    "    for i in range(len(s)-2,-1,-1):\n",
    "        if s[i] < s[i+1]:\n",
    "            t = s[i:]\n",
    "            m = min(filter(lambda x: x>t[0], t))\n",
    "            t.remove(m)\n",
    "            t.sort()\n",
    "            s[i:] = [m] + t\n",
    "            return int(\"\".join(s))\n",
    "    return -1\n",
    "\n",
    "\n",
    "print(next_bigger(12), 21)\n",
    "print(next_bigger(513), 531)\n",
    "print(next_bigger(2017), 2071)\n",
    "print(next_bigger(414), 441)\n",
    "print(next_bigger(144), 414)\n",
    "print(next_bigger(62), -1)\n",
    "print(next_bigger(241171374580), 241171374805)"
   ]
  },
  {
   "cell_type": "markdown",
   "metadata": {},
   "source": [
    "__#2__"
   ]
  },
  {
   "cell_type": "code",
   "execution_count": null,
   "metadata": {},
   "outputs": [],
   "source": [
    "def next_bigger(n):\n",
    "    # algorithm: go backwards through the digits\n",
    "    # when we find one that's lower than any of those behind it,\n",
    "    # replace it with the lowest digit behind that's still higher than it\n",
    "    # sort the remaining ones ascending and add them to the end\n",
    "    digits = list(str(n))\n",
    "    for pos, d in reversed(tuple(enumerate(digits))):\n",
    "        right_side = digits[pos:]\n",
    "        if d < max(right_side):\n",
    "            # find lowest digit to the right that's still higher than d\n",
    "            first_d, first_pos = min((v, p) for p, v in enumerate(right_side) if v > d)\n",
    "\n",
    "            del right_side[first_pos]\n",
    "            digits[pos:] = [first_d] + sorted(right_side)\n",
    "\n",
    "            return int(''.join(digits))\n",
    "\n",
    "    return -1"
   ]
  },
  {
   "cell_type": "markdown",
   "metadata": {},
   "source": [
    "20201125"
   ]
  },
  {
   "cell_type": "markdown",
   "metadata": {},
   "source": [
    "### Break camelCase\n",
    "https://www.codewars.com/kata/5208f99aee097e6552000148  \n",
    "6 kyu\n",
    "\n",
    "Complete the solution so that the function will break up camel casing, using a space between words.\n",
    "\n",
    "Example  \n",
    "solution(\"camelCasing\")  ==  \"camel Casing\""
   ]
  },
  {
   "cell_type": "markdown",
   "metadata": {},
   "source": [
    "__My solution:__"
   ]
  },
  {
   "cell_type": "markdown",
   "metadata": {},
   "source": [
    "__#1__"
   ]
  },
  {
   "cell_type": "code",
   "execution_count": 208,
   "metadata": {},
   "outputs": [
    {
     "name": "stdout",
     "output_type": "stream",
     "text": [
      "hello World hello World\n",
      "hello W World hello W World\n",
      "Привет М Ир hello W World\n",
      "Hello W World Hello W World\n",
      "camel Case camel Case\n",
      "break Camel Case break Camel Case\n"
     ]
    }
   ],
   "source": [
    "import re\n",
    "\n",
    "def solution(s):\n",
    "    res, start = '', 0\n",
    "    for i in range(len(s)):\n",
    "        if s[i].isupper():\n",
    "            part = s[start: i]\n",
    "            if part:\n",
    "                res += part + ' '\n",
    "            start = i\n",
    "    res += s[start:]\n",
    "    return res\n",
    "\n",
    "\n",
    "print(solution(\"helloWorld\"), \"hello World\")\n",
    "print(solution(\"helloWWorld\"), \"hello W World\")\n",
    "print(solution(\"ПриветМИр\"), \"Привет М Ир\")\n",
    "print(solution(\"HelloWWorld\"), \"Hello W World\")\n",
    "print(solution(\"camelCase\"), \"camel Case\")\n",
    "print(solution(\"breakCamelCase\"), \"break Camel Case\")"
   ]
  },
  {
   "cell_type": "code",
   "execution_count": 201,
   "metadata": {},
   "outputs": [
    {
     "name": "stdout",
     "output_type": "stream",
     "text": [
      "Help on method_descriptor:\n",
      "\n",
      "isupper(self, /)\n",
      "    Return True if the string is an uppercase string, False otherwise.\n",
      "    \n",
      "    A string is uppercase if all cased characters in the string are uppercase and\n",
      "    there is at least one cased character in the string.\n",
      "\n"
     ]
    }
   ],
   "source": [
    "help(str.isupper)"
   ]
  },
  {
   "cell_type": "markdown",
   "metadata": {},
   "source": [
    "__#2__ Only limited set of characters:"
   ]
  },
  {
   "cell_type": "code",
   "execution_count": 212,
   "metadata": {},
   "outputs": [
    {
     "name": "stdout",
     "output_type": "stream",
     "text": [
      "hello World hello World\n",
      "hello W World hello W World\n",
      "Привет М Ир Привет М Ир\n",
      "Привет М Иworld Привет М Иworld\n",
      "Hello W World Hello W World\n",
      "camel Case camel Case\n",
      "break Camel Case break Camel Case\n"
     ]
    }
   ],
   "source": [
    "import re\n",
    "\n",
    "def solution(s):\n",
    "    return ' '.join(filter(lambda s: s, (re.findall(r'[A-ZА-Я]?[a-zа-я]*', s))))\n",
    "\n",
    "\n",
    "print(solution(\"helloWorld\"), \"hello World\")\n",
    "print(solution(\"helloWWorld\"), \"hello W World\")\n",
    "print(solution(\"ПриветМИр\"), \"Привет М Ир\")\n",
    "print(solution(\"ПриветМИworld\"), \"Привет М Иworld\")\n",
    "print(solution(\"HelloWWorld\"), \"Hello W World\")\n",
    "print(solution(\"camelCase\"), \"camel Case\")\n",
    "print(solution(\"breakCamelCase\"), \"break Camel Case\")"
   ]
  },
  {
   "cell_type": "markdown",
   "metadata": {},
   "source": [
    "__My unsuccessful attempts:__"
   ]
  },
  {
   "cell_type": "code",
   "execution_count": 196,
   "metadata": {},
   "outputs": [
    {
     "name": "stdout",
     "output_type": "stream",
     "text": [
      "hello orld hello World\n",
      "camel ase camel Case\n",
      "break amel ase break Camel Case\n"
     ]
    }
   ],
   "source": [
    "import re\n",
    "\n",
    "def solution(s):\n",
    "    return ' '.join(re.split(r'[A-Z]{1}', s))\n",
    "\n",
    "\n",
    "print(solution(\"helloWorld\"), \"hello World\")\n",
    "print(solution(\"camelCase\"), \"camel Case\")\n",
    "print(solution(\"breakCamelCase\"), \"break Camel Case\")"
   ]
  },
  {
   "cell_type": "markdown",
   "metadata": {},
   "source": [
    "20201126"
   ]
  },
  {
   "cell_type": "markdown",
   "metadata": {},
   "source": [
    "### Odd or Even?\n",
    "https://www.codewars.com/kata/5949481f86420f59480000e7  \n",
    "7 kyu\n",
    "\n",
    "Given a list of numbers, determine whether the sum of its elements is odd or even.\n",
    "\n",
    "Give your answer as a string matching \"odd\" or \"even\".\n",
    "\n",
    "If the input array is empty consider it as: [0] (array with a zero).\n",
    "\n",
    "Example:  \n",
    "odd_or_even([0])          ==  \"even\"  \n",
    "odd_or_even([0, 1, 4])    ==  \"odd\"  \n",
    "odd_or_even([0, -1, -5])  ==  \"even\"  "
   ]
  },
  {
   "cell_type": "markdown",
   "metadata": {},
   "source": [
    "__My solutions:__"
   ]
  },
  {
   "cell_type": "markdown",
   "metadata": {},
   "source": [
    "__#1__"
   ]
  },
  {
   "cell_type": "code",
   "execution_count": 213,
   "metadata": {},
   "outputs": [
    {
     "name": "stdout",
     "output_type": "stream",
     "text": [
      "odd odd\n",
      "even even\n",
      "even even\n"
     ]
    }
   ],
   "source": [
    "def odd_or_even(arr):\n",
    "    return 'odd' if sum(arr) % 2 else 'even'\n",
    "\n",
    "print(odd_or_even([0, 1, 2]), \"odd\")\n",
    "print(odd_or_even([0, 1, 3]), \"even\")\n",
    "print(odd_or_even([1023, 1, 2]), \"even\")"
   ]
  },
  {
   "cell_type": "markdown",
   "metadata": {},
   "source": [
    "__#2__"
   ]
  },
  {
   "cell_type": "code",
   "execution_count": 214,
   "metadata": {},
   "outputs": [
    {
     "name": "stdout",
     "output_type": "stream",
     "text": [
      "odd odd\n",
      "even even\n",
      "even even\n"
     ]
    }
   ],
   "source": [
    "def odd_or_even(arr):\n",
    "    return 'odd' if sum(arr) & 1 else 'even'\n",
    "\n",
    "print(odd_or_even([0, 1, 2]), \"odd\")\n",
    "print(odd_or_even([0, 1, 3]), \"even\")\n",
    "print(odd_or_even([1023, 1, 2]), \"even\")"
   ]
  },
  {
   "cell_type": "markdown",
   "metadata": {},
   "source": [
    "__#3__"
   ]
  },
  {
   "cell_type": "code",
   "execution_count": 215,
   "metadata": {},
   "outputs": [
    {
     "name": "stdout",
     "output_type": "stream",
     "text": [
      "odd odd\n",
      "even even\n",
      "even even\n"
     ]
    }
   ],
   "source": [
    "def odd_or_even(arr):\n",
    "    return 'odd' if sum(n & 1 for n in arr) & 1 else 'even'\n",
    "\n",
    "print(odd_or_even([0, 1, 2]), \"odd\")\n",
    "print(odd_or_even([0, 1, 3]), \"even\")\n",
    "print(odd_or_even([1023, 1, 2]), \"even\")"
   ]
  },
  {
   "cell_type": "markdown",
   "metadata": {},
   "source": [
    "### Area of a Square\n",
    "https://www.codewars.com/kata/5748838ce2fab90b86001b1a   \n",
    "8 kyu\n",
    "\n",
    "Complete the function that calculates the area of the red square, when the length of the circular arc A is given as the input. Return the result rounded to two decimals.\n",
    "\n",
    "Graph\n",
    "\n",
    "Note: use the π value provided in your language (Math::PI, M_PI, math.pi, etc)"
   ]
  },
  {
   "cell_type": "markdown",
   "metadata": {},
   "source": [
    "__My solution:__"
   ]
  },
  {
   "cell_type": "code",
   "execution_count": 217,
   "metadata": {},
   "outputs": [
    {
     "name": "stdout",
     "output_type": "stream",
     "text": [
      "1.62 1.62\n",
      "0.0 0\n",
      "80.0 80\n",
      "0.41 0.41\n",
      "4052.85 4052.85\n"
     ]
    }
   ],
   "source": [
    "from math import pi\n",
    "\n",
    "def square_area(A):\n",
    "    return round((2 * A / pi) ** 2, 2)\n",
    "    \n",
    "print(square_area(2), 1.62)\n",
    "print(square_area(0), 0)\n",
    "print(square_area(14.05), 80)\n",
    "print(square_area(1), 0.41)\n",
    "print(square_area(100), 4052.85)"
   ]
  },
  {
   "cell_type": "markdown",
   "metadata": {},
   "source": [
    "### Expressions Matter\n",
    "https://www.codewars.com/kata/5ae62fcf252e66d44d00008e  \n",
    "8 kyu\n",
    "\n",
    "Given three integers a ,b ,c, return the largest number obtained after inserting the following operators and brackets: +, *, ()\n",
    "In other words , try every combination of a,b,c with [*+()] , and return the Maximum Obtained\n",
    "\n",
    "Consider an Example:  \n",
    "With the numbers are 1, 2 and 3 , here are some ways of placing signs and brackets:  \n",
    "\n",
    "1 * (2 + 3) = 5  \n",
    "1 * 2 * 3 = 6  \n",
    "1 + 2 * 3 = 7  \n",
    "(1 + 2) * 3 = 9  \n",
    "So the maximum value that you can obtain is 9.\n",
    "\n",
    "Notes  \n",
    "The numbers are always positive.  \n",
    "The numbers are in the range (1  ≤  a, b, c  ≤  10).  \n",
    "You can use the same operation more than once.  \n",
    "It's not necessary to place all the signs and brackets.  \n",
    "Repetition in numbers may occur.\n",
    "You cannot swap the operands. For instance, in the given example you cannot get expression (1 + 3) * 2 = 8.  \n",
    "\n",
    "Input >> Output Examples:  \n",
    "expressionsMatter(1,2,3)  ==>  return 9  \n",
    "Explanation:  \n",
    "After placing signs and brackets, the Maximum value obtained from the expression (1+2) * 3 = 9."
   ]
  },
  {
   "cell_type": "markdown",
   "metadata": {},
   "source": [
    "__My solution:__"
   ]
  },
  {
   "cell_type": "code",
   "execution_count": 223,
   "metadata": {},
   "outputs": [
    {
     "name": "stdout",
     "output_type": "stream",
     "text": [
      "6 6\n",
      "4 4\n",
      "3 3\n",
      "9 9\n",
      "5 5\n",
      "8 8\n",
      "20 20\n",
      "105 105\n",
      "35 35\n",
      "8 8\n",
      "14 14\n",
      "48 48\n",
      "60 60\n",
      "27 27\n",
      "126 126\n",
      "20 20\n",
      "18 18\n",
      "300 300\n",
      "12 12\n"
     ]
    }
   ],
   "source": [
    "def expression_matter(a, b, c):\n",
    "    funcs = []\n",
    "    funcs.append(lambda x, y, z: x + y + z)\n",
    "    funcs.append(lambda x, y, z: x * y * z)\n",
    "    funcs.append(lambda x, y, z: (x + y) * z)\n",
    "    funcs.append(lambda x, y, z: x + y * z)\n",
    "    funcs.append(lambda x, y, z: x * (y + z))\n",
    "    funcs.append(lambda x, y, z: x * (y + z))\n",
    "    funcs.append(lambda x, y, z: x * y + z)\n",
    "    return max(f(a, b, c) for f in funcs)\n",
    "\n",
    "\n",
    "print(expression_matter(2, 1, 2), 6)\n",
    "print(expression_matter(2, 1, 1), 4)\n",
    "print(expression_matter(1, 1, 1), 3)\n",
    "print(expression_matter(1, 2, 3), 9)\n",
    "print(expression_matter(1, 3, 1), 5)\n",
    "print(expression_matter(2, 2, 2), 8)\n",
    "\n",
    "\n",
    "print(expression_matter(5, 1, 3), 20)\n",
    "print(expression_matter(3, 5, 7), 105)\n",
    "print(expression_matter(5, 6, 1), 35)\n",
    "print(expression_matter(1, 6, 1), 8)\n",
    "print(expression_matter(2, 6, 1), 14)\n",
    "print(expression_matter(6, 7, 1), 48)\n",
    "\n",
    "\n",
    "print(expression_matter(2, 10, 3), 60)\n",
    "print(expression_matter(1, 8, 3), 27)\n",
    "print(expression_matter(9, 7, 2), 126)\n",
    "print(expression_matter(1, 1, 10), 20)\n",
    "print(expression_matter(9, 1, 1), 18)\n",
    "print(expression_matter(10, 5, 6), 300)\n",
    "print(expression_matter(1, 10, 1), 12)"
   ]
  },
  {
   "cell_type": "code",
   "execution_count": null,
   "metadata": {},
   "outputs": [],
   "source": []
  }
 ],
 "metadata": {
  "kernelspec": {
   "display_name": "Python 3",
   "language": "python",
   "name": "python3"
  },
  "language_info": {
   "codemirror_mode": {
    "name": "ipython",
    "version": 3
   },
   "file_extension": ".py",
   "mimetype": "text/x-python",
   "name": "python",
   "nbconvert_exporter": "python",
   "pygments_lexer": "ipython3",
   "version": "3.7.3"
  }
 },
 "nbformat": 4,
 "nbformat_minor": 2
}

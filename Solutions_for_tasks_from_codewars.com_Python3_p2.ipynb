{
 "cells": [
  {
   "cell_type": "markdown",
   "metadata": {},
   "source": [
    "2020116"
   ]
  },
  {
   "cell_type": "markdown",
   "metadata": {},
   "source": [
    "### Bit Counting\n",
    "https://www.codewars.com/kata/526571aae218b8ee490006f4  \n",
    "6 kyu (IMHO, it's too easy for 6 kyu)\n",
    "\n",
    "Write a function that takes an integer as input, and returns the number of bits that are equal to one in the binary representation of that number. You can guarantee that input is non-negative.\n",
    "\n",
    "Example: The binary representation of 1234 is 10011010010, so the function should return 5 in this case"
   ]
  },
  {
   "cell_type": "markdown",
   "metadata": {},
   "source": [
    "__My solution:__"
   ]
  },
  {
   "cell_type": "code",
   "execution_count": 5,
   "metadata": {},
   "outputs": [
    {
     "name": "stdout",
     "output_type": "stream",
     "text": [
      "0 0\n",
      "1 1\n",
      "3 3\n",
      "2 2\n",
      "2 2\n"
     ]
    }
   ],
   "source": [
    "def count_bits(n):\n",
    "    return bin(n).count('1')\n",
    "\n",
    "print(count_bits(0), 0)\n",
    "print(count_bits(4), 1)\n",
    "print(count_bits(7), 3)\n",
    "print(count_bits(9), 2)\n",
    "print(count_bits(10), 2)"
   ]
  },
  {
   "cell_type": "code",
   "execution_count": 3,
   "metadata": {},
   "outputs": [
    {
     "name": "stdout",
     "output_type": "stream",
     "text": [
      "Help on built-in function bin in module builtins:\n",
      "\n",
      "bin(number, /)\n",
      "    Return the binary representation of an integer.\n",
      "    \n",
      "    >>> bin(2796202)\n",
      "    '0b1010101010101010101010'\n",
      "\n"
     ]
    }
   ],
   "source": [
    "help(bin)"
   ]
  },
  {
   "cell_type": "code",
   "execution_count": 6,
   "metadata": {},
   "outputs": [
    {
     "name": "stdout",
     "output_type": "stream",
     "text": [
      "Help on built-in function oct in module builtins:\n",
      "\n",
      "oct(number, /)\n",
      "    Return the octal representation of an integer.\n",
      "    \n",
      "    >>> oct(342391)\n",
      "    '0o1234567'\n",
      "\n"
     ]
    }
   ],
   "source": [
    "help(oct)"
   ]
  },
  {
   "cell_type": "code",
   "execution_count": 10,
   "metadata": {},
   "outputs": [
    {
     "data": {
      "text/plain": [
       "'K'"
      ]
     },
     "execution_count": 10,
     "metadata": {},
     "output_type": "execute_result"
    }
   ],
   "source": [
    "chr(75)"
   ]
  },
  {
   "cell_type": "code",
   "execution_count": 11,
   "metadata": {},
   "outputs": [
    {
     "data": {
      "text/plain": [
       "65"
      ]
     },
     "execution_count": 11,
     "metadata": {},
     "output_type": "execute_result"
    }
   ],
   "source": [
    "ord('K')"
   ]
  },
  {
   "cell_type": "markdown",
   "metadata": {},
   "source": [
    "__Other users' solutions:__"
   ]
  },
  {
   "cell_type": "code",
   "execution_count": 12,
   "metadata": {},
   "outputs": [
    {
     "name": "stdout",
     "output_type": "stream",
     "text": [
      "0 0\n",
      "1 1\n",
      "3 3\n",
      "2 2\n",
      "2 2\n"
     ]
    }
   ],
   "source": [
    "def countBits(n):\n",
    "    total = 0\n",
    "    while n > 0:\n",
    "        total += n % 2\n",
    "        n >>= 1  # n = n >> 1\n",
    "    return total\n",
    "\n",
    "print(count_bits(0), 0)\n",
    "print(count_bits(4), 1)\n",
    "print(count_bits(7), 3)\n",
    "print(count_bits(9), 2)\n",
    "print(count_bits(10), 2)"
   ]
  },
  {
   "cell_type": "markdown",
   "metadata": {},
   "source": [
    "Using n&1 does a bitwise AND with 1, which is non-zero if the 1 bit is on, which also tests for odd numbers:"
   ]
  },
  {
   "cell_type": "code",
   "execution_count": 13,
   "metadata": {},
   "outputs": [
    {
     "name": "stdout",
     "output_type": "stream",
     "text": [
      "0 0\n",
      "1 1\n",
      "3 3\n",
      "2 2\n",
      "2 2\n"
     ]
    }
   ],
   "source": [
    "def countBits(n):\n",
    "    total = 0\n",
    "    while n > 0:\n",
    "        total += n & 1\n",
    "        n >>= 1  # n = n >> 1\n",
    "    return total\n",
    "\n",
    "print(count_bits(0), 0)\n",
    "print(count_bits(4), 1)\n",
    "print(count_bits(7), 3)\n",
    "print(count_bits(9), 2)\n",
    "print(count_bits(10), 2)"
   ]
  },
  {
   "cell_type": "code",
   "execution_count": 14,
   "metadata": {},
   "outputs": [
    {
     "data": {
      "text/plain": [
       "1"
      ]
     },
     "execution_count": 14,
     "metadata": {},
     "output_type": "execute_result"
    }
   ],
   "source": [
    "1 & 1"
   ]
  },
  {
   "cell_type": "code",
   "execution_count": 15,
   "metadata": {},
   "outputs": [
    {
     "data": {
      "text/plain": [
       "0"
      ]
     },
     "execution_count": 15,
     "metadata": {},
     "output_type": "execute_result"
    }
   ],
   "source": [
    "0 & 1"
   ]
  },
  {
   "cell_type": "code",
   "execution_count": 16,
   "metadata": {},
   "outputs": [
    {
     "data": {
      "text/plain": [
       "0"
      ]
     },
     "execution_count": 16,
     "metadata": {},
     "output_type": "execute_result"
    }
   ],
   "source": [
    "2 & 1"
   ]
  },
  {
   "cell_type": "markdown",
   "metadata": {},
   "source": [
    "### CamelCase Method\n",
    "https://www.codewars.com/kata/587731fda577b3d1b0001196  \n",
    "6 kyu (IMHO, it's too easy for 6 kyu)\n",
    "\n",
    "Write simple .camelCase method (camel_case function in PHP, CamelCase in C# or camelCase in Java) for strings. All words must have their first letter capitalized without spaces.\n",
    "\n",
    "For instance:\n",
    "\n",
    "camelcase(\"hello case\") => HelloCase\n",
    "camelcase(\"camel case word\") => CamelCaseWord\n",
    "Don't forget to rate this kata! Thanks :)"
   ]
  },
  {
   "cell_type": "markdown",
   "metadata": {},
   "source": [
    "__My solutions:__"
   ]
  },
  {
   "cell_type": "markdown",
   "metadata": {},
   "source": [
    "__#1__"
   ]
  },
  {
   "cell_type": "code",
   "execution_count": 19,
   "metadata": {},
   "outputs": [
    {
     "name": "stdout",
     "output_type": "stream",
     "text": [
      "TestCase TestCase\n",
      "CamelCaseMethod CamelCaseMethod\n",
      "SayHello SayHello\n",
      "CamelCaseWord CamelCaseWord\n",
      " \n"
     ]
    }
   ],
   "source": [
    "def camel_case(string):\n",
    "    return string.title().replace(' ', '').replace('\\t', '')\n",
    "\n",
    "print(camel_case(\"test case\"), \"TestCase\")\n",
    "print(camel_case(\"camel case method\"), \"CamelCaseMethod\")\n",
    "print(camel_case(\"say hello \"), \"SayHello\")\n",
    "print(camel_case(\" camel case word\"), \"CamelCaseWord\")\n",
    "print(camel_case(\"\"), \"\")"
   ]
  },
  {
   "cell_type": "code",
   "execution_count": 18,
   "metadata": {},
   "outputs": [
    {
     "name": "stdout",
     "output_type": "stream",
     "text": [
      "Help on method_descriptor:\n",
      "\n",
      "replace(self, old, new, count=-1, /)\n",
      "    Return a copy with all occurrences of substring old replaced by new.\n",
      "    \n",
      "      count\n",
      "        Maximum number of occurrences to replace.\n",
      "        -1 (the default value) means replace all occurrences.\n",
      "    \n",
      "    If the optional argument count is given, only the first count occurrences are\n",
      "    replaced.\n",
      "\n"
     ]
    }
   ],
   "source": [
    "help(str.replace)"
   ]
  },
  {
   "cell_type": "markdown",
   "metadata": {},
   "source": [
    "__#2__"
   ]
  },
  {
   "cell_type": "code",
   "execution_count": 20,
   "metadata": {},
   "outputs": [
    {
     "name": "stdout",
     "output_type": "stream",
     "text": [
      "TestCase TestCase\n",
      "CamelCaseMethod CamelCaseMethod\n",
      "SayHello SayHello\n",
      "CamelCaseWord CamelCaseWord\n",
      " \n"
     ]
    }
   ],
   "source": [
    "def camel_case(string):\n",
    "    return ''.join(map(str.capitalize, string.split()))\n",
    "\n",
    "print(camel_case(\"test case\"), \"TestCase\")\n",
    "print(camel_case(\"camel case method\"), \"CamelCaseMethod\")\n",
    "print(camel_case(\"say hello \"), \"SayHello\")\n",
    "print(camel_case(\" camel case word\"), \"CamelCaseWord\")\n",
    "print(camel_case(\"\"), \"\")"
   ]
  },
  {
   "cell_type": "code",
   "execution_count": null,
   "metadata": {},
   "outputs": [],
   "source": []
  }
 ],
 "metadata": {
  "kernelspec": {
   "display_name": "Python 3",
   "language": "python",
   "name": "python3"
  },
  "language_info": {
   "codemirror_mode": {
    "name": "ipython",
    "version": 3
   },
   "file_extension": ".py",
   "mimetype": "text/x-python",
   "name": "python",
   "nbconvert_exporter": "python",
   "pygments_lexer": "ipython3",
   "version": "3.7.3"
  }
 },
 "nbformat": 4,
 "nbformat_minor": 2
}

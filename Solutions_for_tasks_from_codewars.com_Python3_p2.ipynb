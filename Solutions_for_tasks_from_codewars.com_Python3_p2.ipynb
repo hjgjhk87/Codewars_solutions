{
 "cells": [
  {
   "cell_type": "markdown",
   "metadata": {},
   "source": [
    "2020116"
   ]
  },
  {
   "cell_type": "markdown",
   "metadata": {},
   "source": [
    "### Bit Counting\n",
    "https://www.codewars.com/kata/526571aae218b8ee490006f4  \n",
    "6 kyu (IMHO, it's too easy for 6 kyu)\n",
    "\n",
    "Write a function that takes an integer as input, and returns the number of bits that are equal to one in the binary representation of that number. You can guarantee that input is non-negative.\n",
    "\n",
    "Example: The binary representation of 1234 is 10011010010, so the function should return 5 in this case"
   ]
  },
  {
   "cell_type": "markdown",
   "metadata": {},
   "source": [
    "__My solution:__"
   ]
  },
  {
   "cell_type": "code",
   "execution_count": 5,
   "metadata": {},
   "outputs": [
    {
     "name": "stdout",
     "output_type": "stream",
     "text": [
      "0 0\n",
      "1 1\n",
      "3 3\n",
      "2 2\n",
      "2 2\n"
     ]
    }
   ],
   "source": [
    "def count_bits(n):\n",
    "    return bin(n).count('1')\n",
    "\n",
    "print(count_bits(0), 0)\n",
    "print(count_bits(4), 1)\n",
    "print(count_bits(7), 3)\n",
    "print(count_bits(9), 2)\n",
    "print(count_bits(10), 2)"
   ]
  },
  {
   "cell_type": "code",
   "execution_count": 3,
   "metadata": {},
   "outputs": [
    {
     "name": "stdout",
     "output_type": "stream",
     "text": [
      "Help on built-in function bin in module builtins:\n",
      "\n",
      "bin(number, /)\n",
      "    Return the binary representation of an integer.\n",
      "    \n",
      "    >>> bin(2796202)\n",
      "    '0b1010101010101010101010'\n",
      "\n"
     ]
    }
   ],
   "source": [
    "help(bin)"
   ]
  },
  {
   "cell_type": "code",
   "execution_count": 6,
   "metadata": {},
   "outputs": [
    {
     "name": "stdout",
     "output_type": "stream",
     "text": [
      "Help on built-in function oct in module builtins:\n",
      "\n",
      "oct(number, /)\n",
      "    Return the octal representation of an integer.\n",
      "    \n",
      "    >>> oct(342391)\n",
      "    '0o1234567'\n",
      "\n"
     ]
    }
   ],
   "source": [
    "help(oct)"
   ]
  },
  {
   "cell_type": "code",
   "execution_count": 10,
   "metadata": {},
   "outputs": [
    {
     "data": {
      "text/plain": [
       "'K'"
      ]
     },
     "execution_count": 10,
     "metadata": {},
     "output_type": "execute_result"
    }
   ],
   "source": [
    "chr(75)"
   ]
  },
  {
   "cell_type": "code",
   "execution_count": 11,
   "metadata": {},
   "outputs": [
    {
     "data": {
      "text/plain": [
       "65"
      ]
     },
     "execution_count": 11,
     "metadata": {},
     "output_type": "execute_result"
    }
   ],
   "source": [
    "ord('K')"
   ]
  },
  {
   "cell_type": "markdown",
   "metadata": {},
   "source": [
    "__Other users' solutions:__"
   ]
  },
  {
   "cell_type": "code",
   "execution_count": 12,
   "metadata": {},
   "outputs": [
    {
     "name": "stdout",
     "output_type": "stream",
     "text": [
      "0 0\n",
      "1 1\n",
      "3 3\n",
      "2 2\n",
      "2 2\n"
     ]
    }
   ],
   "source": [
    "def countBits(n):\n",
    "    total = 0\n",
    "    while n > 0:\n",
    "        total += n % 2\n",
    "        n >>= 1  # n = n >> 1\n",
    "    return total\n",
    "\n",
    "print(count_bits(0), 0)\n",
    "print(count_bits(4), 1)\n",
    "print(count_bits(7), 3)\n",
    "print(count_bits(9), 2)\n",
    "print(count_bits(10), 2)"
   ]
  },
  {
   "cell_type": "markdown",
   "metadata": {},
   "source": [
    "Using n&1 does a bitwise AND with 1, which is non-zero if the 1 bit is on, which also tests for odd numbers:"
   ]
  },
  {
   "cell_type": "code",
   "execution_count": 13,
   "metadata": {},
   "outputs": [
    {
     "name": "stdout",
     "output_type": "stream",
     "text": [
      "0 0\n",
      "1 1\n",
      "3 3\n",
      "2 2\n",
      "2 2\n"
     ]
    }
   ],
   "source": [
    "def countBits(n):\n",
    "    total = 0\n",
    "    while n > 0:\n",
    "        total += n & 1\n",
    "        n >>= 1  # n = n >> 1\n",
    "    return total\n",
    "\n",
    "print(count_bits(0), 0)\n",
    "print(count_bits(4), 1)\n",
    "print(count_bits(7), 3)\n",
    "print(count_bits(9), 2)\n",
    "print(count_bits(10), 2)"
   ]
  },
  {
   "cell_type": "code",
   "execution_count": 14,
   "metadata": {},
   "outputs": [
    {
     "data": {
      "text/plain": [
       "1"
      ]
     },
     "execution_count": 14,
     "metadata": {},
     "output_type": "execute_result"
    }
   ],
   "source": [
    "1 & 1"
   ]
  },
  {
   "cell_type": "code",
   "execution_count": 15,
   "metadata": {},
   "outputs": [
    {
     "data": {
      "text/plain": [
       "0"
      ]
     },
     "execution_count": 15,
     "metadata": {},
     "output_type": "execute_result"
    }
   ],
   "source": [
    "0 & 1"
   ]
  },
  {
   "cell_type": "code",
   "execution_count": 16,
   "metadata": {},
   "outputs": [
    {
     "data": {
      "text/plain": [
       "0"
      ]
     },
     "execution_count": 16,
     "metadata": {},
     "output_type": "execute_result"
    }
   ],
   "source": [
    "2 & 1"
   ]
  },
  {
   "cell_type": "markdown",
   "metadata": {},
   "source": [
    "### CamelCase Method\n",
    "https://www.codewars.com/kata/587731fda577b3d1b0001196  \n",
    "6 kyu (IMHO, it's too easy for 6 kyu)\n",
    "\n",
    "Write simple .camelCase method (camel_case function in PHP, CamelCase in C# or camelCase in Java) for strings. All words must have their first letter capitalized without spaces.\n",
    "\n",
    "For instance:\n",
    "\n",
    "camelcase(\"hello case\") => HelloCase\n",
    "camelcase(\"camel case word\") => CamelCaseWord\n",
    "Don't forget to rate this kata! Thanks :)"
   ]
  },
  {
   "cell_type": "markdown",
   "metadata": {},
   "source": [
    "__My solutions:__"
   ]
  },
  {
   "cell_type": "markdown",
   "metadata": {},
   "source": [
    "__#1__"
   ]
  },
  {
   "cell_type": "code",
   "execution_count": 19,
   "metadata": {},
   "outputs": [
    {
     "name": "stdout",
     "output_type": "stream",
     "text": [
      "TestCase TestCase\n",
      "CamelCaseMethod CamelCaseMethod\n",
      "SayHello SayHello\n",
      "CamelCaseWord CamelCaseWord\n",
      " \n"
     ]
    }
   ],
   "source": [
    "def camel_case(string):\n",
    "    return string.title().replace(' ', '').replace('\\t', '')\n",
    "\n",
    "print(camel_case(\"test case\"), \"TestCase\")\n",
    "print(camel_case(\"camel case method\"), \"CamelCaseMethod\")\n",
    "print(camel_case(\"say hello \"), \"SayHello\")\n",
    "print(camel_case(\" camel case word\"), \"CamelCaseWord\")\n",
    "print(camel_case(\"\"), \"\")"
   ]
  },
  {
   "cell_type": "code",
   "execution_count": 18,
   "metadata": {},
   "outputs": [
    {
     "name": "stdout",
     "output_type": "stream",
     "text": [
      "Help on method_descriptor:\n",
      "\n",
      "replace(self, old, new, count=-1, /)\n",
      "    Return a copy with all occurrences of substring old replaced by new.\n",
      "    \n",
      "      count\n",
      "        Maximum number of occurrences to replace.\n",
      "        -1 (the default value) means replace all occurrences.\n",
      "    \n",
      "    If the optional argument count is given, only the first count occurrences are\n",
      "    replaced.\n",
      "\n"
     ]
    }
   ],
   "source": [
    "help(str.replace)"
   ]
  },
  {
   "cell_type": "markdown",
   "metadata": {},
   "source": [
    "__#2__"
   ]
  },
  {
   "cell_type": "code",
   "execution_count": 20,
   "metadata": {},
   "outputs": [
    {
     "name": "stdout",
     "output_type": "stream",
     "text": [
      "TestCase TestCase\n",
      "CamelCaseMethod CamelCaseMethod\n",
      "SayHello SayHello\n",
      "CamelCaseWord CamelCaseWord\n",
      " \n"
     ]
    }
   ],
   "source": [
    "def camel_case(string):\n",
    "    return ''.join(map(str.capitalize, string.split()))\n",
    "\n",
    "print(camel_case(\"test case\"), \"TestCase\")\n",
    "print(camel_case(\"camel case method\"), \"CamelCaseMethod\")\n",
    "print(camel_case(\"say hello \"), \"SayHello\")\n",
    "print(camel_case(\" camel case word\"), \"CamelCaseWord\")\n",
    "print(camel_case(\"\"), \"\")"
   ]
  },
  {
   "cell_type": "markdown",
   "metadata": {},
   "source": [
    "20201117"
   ]
  },
  {
   "cell_type": "markdown",
   "metadata": {},
   "source": [
    "### Count the Digit\n",
    "https://www.codewars.com/kata/566fc12495810954b1000030  \n",
    "7 kyu\n",
    "\n",
    "Take an integer n (n >= 0) and a digit d (0 <= d <= 9) as an integer. Square all numbers k (0 <= k <= n) between 0 and n. Count the numbers of digits d used in the writing of all the k**2. Call nb_dig (or nbDig or ...) the function taking n and d as parameters and returning this count.\n",
    "\n",
    "#Examples:\n",
    "\n",
    "n = 10, d = 1, the k*k are 0, 1, 4, 9, 16, 25, 36, 49, 64, 81, 100\n",
    "\n",
    "We are using the digit 1 in 1, 16, 81, 100. The total count is then 4.\n",
    "\n",
    "nb_dig(25, 1):  \n",
    "the numbers of interest are   \n",
    "1, 4, 9, 10, 11, 12, 13, 14, 19, 21 which squared are 1, 16, 81, 100, 121, 144, 169, 196, 361, 441\n",
    "so there are 11 digits `1` for the squares of numbers between 0 and 25.\n",
    "\n",
    "Note that 121 has twice the digit 1."
   ]
  },
  {
   "cell_type": "markdown",
   "metadata": {},
   "source": [
    "__My solutions:__"
   ]
  },
  {
   "cell_type": "markdown",
   "metadata": {},
   "source": [
    "__#1__"
   ]
  },
  {
   "cell_type": "code",
   "execution_count": 22,
   "metadata": {},
   "outputs": [
    {
     "name": "stdout",
     "output_type": "stream",
     "text": [
      "4700 4700\n",
      "9481 9481\n",
      "7733 7733\n",
      "11905 11905\n"
     ]
    }
   ],
   "source": [
    "def nb_dig(n, d):\n",
    "    return sum(str(n * n).count(str(d)) for n in range(n + 1))\n",
    "    \n",
    "print(nb_dig(5750, 0), 4700)\n",
    "print(nb_dig(11011, 2), 9481)\n",
    "print(nb_dig(12224, 8), 7733)\n",
    "print(nb_dig(11549, 1), 11905)"
   ]
  },
  {
   "cell_type": "markdown",
   "metadata": {},
   "source": [
    "__#2__"
   ]
  },
  {
   "cell_type": "code",
   "execution_count": 1,
   "metadata": {},
   "outputs": [
    {
     "name": "stdout",
     "output_type": "stream",
     "text": [
      "1 1\n",
      "4700 4700\n",
      "9481 9481\n",
      "7733 7733\n",
      "11905 11905\n"
     ]
    }
   ],
   "source": [
    "def nb_dig(n, d):\n",
    "    amount = 0\n",
    "    for n in range(n + 1):\n",
    "        n = n * n\n",
    "        while True:\n",
    "            if n % 10 == d:\n",
    "                amount += 1\n",
    "            n //= 10\n",
    "            if n == 0:\n",
    "                break\n",
    "    return amount\n",
    "\n",
    "print(nb_dig(0, 0), 1)\n",
    "print(nb_dig(5750, 0), 4700)\n",
    "print(nb_dig(11011, 2), 9481)\n",
    "print(nb_dig(12224, 8), 7733)\n",
    "print(nb_dig(11549, 1), 11905)"
   ]
  },
  {
   "cell_type": "markdown",
   "metadata": {},
   "source": [
    "### Simple reversed parenthesis\n",
    "https://www.codewars.com/kata/5a3f2925b6cfd78fb0000040  \n",
    "6 kyu\n",
    "\n",
    "Given a string, return the minimal number of parenthesis reversals needed to make balanced parenthesis.\n",
    "\n",
    "For example:\n",
    "\n",
    "solve(\")(\") = 2 Because we need to reverse \")\" to \"(\" and \"(\" to \")\". These are 2 reversals. \n",
    "\n",
    "solve(\"(((())\") = 1 We need to reverse just one \"(\" parenthesis to make it balanced.\n",
    "\n",
    "solve(\"(((\") = -1 Not possible to form balanced parenthesis. Return -1.\n",
    "\n",
    "Parenthesis will be either \"(\" or \")\".\n",
    "\n",
    "More examples in the test cases."
   ]
  },
  {
   "cell_type": "markdown",
   "metadata": {},
   "source": [
    "__My solution:__"
   ]
  },
  {
   "cell_type": "code",
   "execution_count": 9,
   "metadata": {},
   "outputs": [
    {
     "name": "stdout",
     "output_type": "stream",
     "text": [
      "2 2\n",
      "1 1\n",
      "-1 -1\n",
      "3 3\n",
      "4 4\n",
      "5 5\n"
     ]
    }
   ],
   "source": [
    "def solve(s):\n",
    "    if not s:\n",
    "        return 0\n",
    "    if len(s) % 2:\n",
    "        return -1\n",
    "    \n",
    "    reverse = 0\n",
    "    stack = []\n",
    "    \n",
    "    for c in s:\n",
    "        if c == ')' and stack:\n",
    "            if stack[-1] == '(':\n",
    "                stack.pop()\n",
    "            else:  # this branch's optional because of last part\n",
    "                stack.pop()\n",
    "                reverse += 1\n",
    "        elif c in '()':  # this check is not necessary\n",
    "            stack.append(c)\n",
    "    \n",
    "    for i in range(0, len(stack), 2):\n",
    "        if stack[i] != '(':\n",
    "            reverse += 1\n",
    "        if stack[i + 1] != ')':\n",
    "            reverse += 1\n",
    "            \n",
    "    return reverse\n",
    "\n",
    "print(solve(\")()(\"), 2)\n",
    "print(solve(\"((()\"), 1)\n",
    "print(solve(\"(((\"), -1)\n",
    "print(solve(\"())(((\"), 3)\n",
    "print(solve(\"())()))))()()(\"), 4)\n",
    "print(solve(\"())()))))()()(((\"), 5)"
   ]
  },
  {
   "cell_type": "code",
   "execution_count": 20,
   "metadata": {},
   "outputs": [
    {
     "name": "stdout",
     "output_type": "stream",
     "text": [
      "[')', '(']\n",
      "2 2\n",
      "['(', '(']\n",
      "1 1\n",
      "-1 -1\n",
      "[')', '(', '(', '(']\n",
      "3 3\n",
      "[')', '(']\n",
      "4 4\n",
      "[')', '(', '(', '(']\n",
      "5 5\n"
     ]
    }
   ],
   "source": [
    "from itertools import cycle\n",
    "\n",
    "def solve(s):\n",
    "    if not s:\n",
    "        return 0\n",
    "    if len(s) % 2:\n",
    "        return -1\n",
    "    \n",
    "    reverse = 0\n",
    "    stack = []\n",
    "    \n",
    "    for c in s:\n",
    "        if c == ')' and stack:\n",
    "            if stack[-1] == '(':\n",
    "                stack.pop()\n",
    "            else:  # this branch's optional because of last part\n",
    "                stack.pop()\n",
    "                reverse += 1\n",
    "        elif c in '()':  # this check is not necessary\n",
    "            stack.append(c)\n",
    "\n",
    "    paired_parents = cycle('()')\n",
    "    reverse += sum(next(paired_parents) != c for c in stack)            \n",
    "    return reverse\n",
    "\n",
    "print(solve(\")()(\"), 2)\n",
    "print(solve(\"((()\"), 1)\n",
    "print(solve(\"(((\"), -1)\n",
    "print(solve(\"())(((\"), 3)\n",
    "print(solve(\"())()))))()()(\"), 4)\n",
    "print(solve(\"())()))))()()(((\"), 5)"
   ]
  },
  {
   "cell_type": "code",
   "execution_count": 14,
   "metadata": {},
   "outputs": [
    {
     "name": "stdout",
     "output_type": "stream",
     "text": [
      "( ( ( (\n"
     ]
    }
   ],
   "source": [
    "print(next(cycle('()')), next(cycle('()')), next(cycle('()')), next(cycle('()')))"
   ]
  },
  {
   "cell_type": "code",
   "execution_count": 17,
   "metadata": {},
   "outputs": [
    {
     "name": "stdout",
     "output_type": "stream",
     "text": [
      "A B C D A B\n"
     ]
    }
   ],
   "source": [
    "it = cycle('ABCD')\n",
    "print(next(it), next(it), next(it), next(it), next(it), next(it))"
   ]
  },
  {
   "cell_type": "code",
   "execution_count": 19,
   "metadata": {},
   "outputs": [
    {
     "name": "stdout",
     "output_type": "stream",
     "text": [
      "2 2\n",
      "1 1\n",
      "-1 -1\n",
      "3 3\n",
      "2 4\n",
      "3 5\n"
     ]
    }
   ],
   "source": [
    "from itertools import cycle\n",
    "\n",
    "def solve(s):\n",
    "    if not s:\n",
    "        return 0\n",
    "    if len(s) % 2:\n",
    "        return -1\n",
    "    \n",
    "    reverse = 0\n",
    "    stack = []\n",
    "    \n",
    "    for c in s:\n",
    "        if c == ')' and stack:\n",
    "            if stack[-1] == '(':\n",
    "                stack.pop()\n",
    "        else:\n",
    "            stack.append(c)\n",
    "    \n",
    "    paired_parents = cycle('()')\n",
    "    reverse += sum(next(paired_parents) != c for c in stack)            \n",
    "    return reverse\n",
    "\n",
    "print(solve(\")()(\"), 2)\n",
    "print(solve(\"((()\"), 1)\n",
    "print(solve(\"(((\"), -1)\n",
    "print(solve(\"())(((\"), 3)\n",
    "print(solve(\"())()))))()()(\"), 4)\n",
    "print(solve(\"())()))))()()(((\"), 5)"
   ]
  },
  {
   "cell_type": "markdown",
   "metadata": {},
   "source": [
    "__Other users' solutions:__"
   ]
  },
  {
   "cell_type": "markdown",
   "metadata": {},
   "source": [
    "__#1__ This solution's not the best one in performance and not very readable but it has something captivating"
   ]
  },
  {
   "cell_type": "code",
   "execution_count": 52,
   "metadata": {},
   "outputs": [
    {
     "name": "stdout",
     "output_type": "stream",
     "text": [
      "2 2\n",
      "2 2\n",
      "1 1\n",
      "-1 -1\n",
      "3 3\n",
      "4 4\n",
      "5 5\n"
     ]
    }
   ],
   "source": [
    "def solve(s):\n",
    "    t = None\n",
    "    while t != s:\n",
    "        t, s = s, s.replace('()', '')\n",
    "    return -1 if len(s) % 2 else sum(1 + (a == tuple(')(')) for a in zip(*[iter(s)] * 2))\n",
    "\n",
    "print(solve(\"((((\"), 2)\n",
    "print(solve(\")()(\"), 2)\n",
    "print(solve(\"((()\"), 1)\n",
    "print(solve(\"(((\"), -1)\n",
    "print(solve(\"())(((\"), 3)\n",
    "print(solve(\"())()))))()()(\"), 4)\n",
    "print(solve(\"())()))))()()(((\"), 5)"
   ]
  },
  {
   "cell_type": "code",
   "execution_count": 48,
   "metadata": {},
   "outputs": [
    {
     "data": {
      "text/plain": [
       "[(<str_iterator at 0x725bb38>,), (<str_iterator at 0x725bb38>,)]"
      ]
     },
     "execution_count": 48,
     "metadata": {},
     "output_type": "execute_result"
    }
   ],
   "source": [
    "s = \")()(\"\n",
    "list(zip([iter(s)] * 2))"
   ]
  },
  {
   "cell_type": "code",
   "execution_count": 49,
   "metadata": {},
   "outputs": [
    {
     "data": {
      "text/plain": [
       "[(')', '('), (')', '(')]"
      ]
     },
     "execution_count": 49,
     "metadata": {},
     "output_type": "execute_result"
    }
   ],
   "source": [
    "s = \")()(\"\n",
    "list(zip(*[iter(s)] * 2)) # == list(zip(*([iter(s)] * 2)))\n",
    "                          # != list(zip((*[iter(s)]) * 2))"
   ]
  },
  {
   "cell_type": "code",
   "execution_count": 50,
   "metadata": {},
   "outputs": [
    {
     "ename": "SyntaxError",
     "evalue": "can't use starred expression here (<ipython-input-50-790b1c0c7f1e>, line 4)",
     "output_type": "error",
     "traceback": [
      "\u001b[1;36m  File \u001b[1;32m\"<ipython-input-50-790b1c0c7f1e>\"\u001b[1;36m, line \u001b[1;32m4\u001b[0m\n\u001b[1;31mSyntaxError\u001b[0m\u001b[1;31m:\u001b[0m can't use starred expression here\n"
     ]
    }
   ],
   "source": [
    "list(zip((*[iter(s)]) * 2))"
   ]
  },
  {
   "cell_type": "code",
   "execution_count": 51,
   "metadata": {},
   "outputs": [
    {
     "data": {
      "text/plain": [
       "[(')', '(', ')')]"
      ]
     },
     "execution_count": 51,
     "metadata": {},
     "output_type": "execute_result"
    }
   ],
   "source": [
    "s = \")()(\"\n",
    "list(zip(*[iter(s)] * 3))"
   ]
  },
  {
   "cell_type": "code",
   "execution_count": 53,
   "metadata": {},
   "outputs": [
    {
     "data": {
      "text/plain": [
       "[('(', '('), ('(', '(')]"
      ]
     },
     "execution_count": 53,
     "metadata": {},
     "output_type": "execute_result"
    }
   ],
   "source": [
    "s = \"((((\"\n",
    "list(zip(*[iter(s)] * 2))"
   ]
  },
  {
   "cell_type": "code",
   "execution_count": 29,
   "metadata": {},
   "outputs": [
    {
     "name": "stdout",
     "output_type": "stream",
     "text": [
      "dsfd\n"
     ]
    }
   ],
   "source": [
    "s = 'dsfd'\n",
    "s.replace('a', '')\n",
    "print(s)"
   ]
  },
  {
   "cell_type": "markdown",
   "metadata": {},
   "source": [
    "__#2__ IMHO, the best one in performance and algorithm but not very obvious from the first look"
   ]
  },
  {
   "cell_type": "code",
   "execution_count": null,
   "metadata": {},
   "outputs": [],
   "source": [
    "def solve(s):\n",
    "    if len(s)&1: return -1\n",
    "    inv = open = 0\n",
    "    for c in s:\n",
    "        if c == '(':\n",
    "            open += 1\n",
    "        elif open:\n",
    "            open -= 1\n",
    "        else:\n",
    "            open = 1\n",
    "            inv += 1\n",
    "    return inv + open//2"
   ]
  },
  {
   "cell_type": "code",
   "execution_count": 28,
   "metadata": {},
   "outputs": [
    {
     "name": "stdout",
     "output_type": "stream",
     "text": [
      "2 2\n",
      "1 1\n",
      "-1 -1\n",
      "3 3\n",
      "4 4\n",
      "5 5\n"
     ]
    }
   ],
   "source": [
    "def solve(s):\n",
    "    if len(s) % 2:\n",
    "        return -1\n",
    "    \n",
    "    ans = 0\n",
    "    opened = 0\n",
    "    for c in s:\n",
    "        if c == '(':\n",
    "            opened += 1\n",
    "        elif opened:\n",
    "            opened -= 1\n",
    "        else:\n",
    "            ans += 1\n",
    "            opened += 1\n",
    "    # I suppose, opened's allways even and it denotes amount of '('\n",
    "    # including some unusable, reversed ')'\n",
    "    return ans + opened // 2  \n",
    "\n",
    "\n",
    "print(solve(\")()(\"), 2)\n",
    "print(solve(\"((()\"), 1)\n",
    "print(solve(\"(((\"), -1)\n",
    "print(solve(\"())(((\"), 3)\n",
    "print(solve(\"())()))))()()(\"), 4)\n",
    "print(solve(\"())()))))()()(((\"), 5)"
   ]
  },
  {
   "cell_type": "markdown",
   "metadata": {},
   "source": [
    "__#3__ Not the best one but very readable"
   ]
  },
  {
   "cell_type": "code",
   "execution_count": null,
   "metadata": {},
   "outputs": [],
   "source": [
    "def solve(s):\n",
    "    while \"()\" in s:\n",
    "        s = s.replace(\"()\",\"\")\n",
    "    count = 0\n",
    "    while len(s)>1:\n",
    "        count+=s.count(\"((\")\n",
    "        s = s.replace(\"((\",\"\")\n",
    "        count+=s.count(\"))\")\n",
    "        s = s.replace(\"))\",\"\")\n",
    "        count+=(s.count(\")(\")*2)\n",
    "        s = s.replace(\")(\",\"\")\n",
    "    return count if len(s)==0 else -1"
   ]
  },
  {
   "cell_type": "markdown",
   "metadata": {},
   "source": [
    "__#4__ Like the previous one but more pythonic and a little bit crazier"
   ]
  },
  {
   "cell_type": "code",
   "execution_count": null,
   "metadata": {},
   "outputs": [],
   "source": [
    "def solve(s, r={'((': 1, '))': 1, ')(': 2}):\n",
    "    if len(s) % 2 == 1:\n",
    "        return -1\n",
    "    while '()' in s:\n",
    "        s = s.replace('()', '')\n",
    "    return sum(\n",
    "        r[x]\n",
    "        for x in map(''.join, zip(*[iter(s)] * 2))\n",
    "    )"
   ]
  },
  {
   "cell_type": "markdown",
   "metadata": {},
   "source": [
    "__#5__"
   ]
  },
  {
   "cell_type": "code",
   "execution_count": 40,
   "metadata": {},
   "outputs": [
    {
     "name": "stdout",
     "output_type": "stream",
     "text": [
      "1 1 1\n",
      "2 2\n",
      "0 2 1\n",
      "1 1\n",
      "-1 -1\n",
      "1 3 2\n",
      "3 3\n",
      "5 1 3\n",
      "4 4\n",
      "5 3 4\n",
      "5 5\n"
     ]
    }
   ],
   "source": [
    "from math import ceil\n",
    "\n",
    "class Stack:\n",
    "    def __init__(self):\n",
    "        self.items = []\n",
    "\n",
    "    def is_empty(self):\n",
    "        return self.items == []\n",
    "\n",
    "    def push(self, item):\n",
    "        self.items.append(item)\n",
    "\n",
    "    def pop(self):\n",
    "        return self.items.pop()\n",
    "\n",
    "    def peek(self):\n",
    "        return self.items[-1]\n",
    "\n",
    "    def size(self):\n",
    "        return len(self.items)\n",
    "\n",
    "\n",
    "def solve(s):\n",
    "    l = len(s)\n",
    "    if l % 2 != 0: return -1\n",
    "    stack = Stack(); count = 0; i = 0\n",
    "    while i < len(s):\n",
    "        if s[i] == \"(\":\n",
    "            stack.push(s[i])\n",
    "        else:\n",
    "            if stack.is_empty():\n",
    "                count += 1\n",
    "            else: stack.pop()\n",
    "        i += 1\n",
    "    q = (count + stack.size()) // 2 # I guess, or both nums are odd,\n",
    "                                    # or both numbers are even\n",
    "    #print(count, stack.size(), q)\n",
    "    #return q if count % 2 == 0 and stack.size() % 2 == 0 else q + 1\n",
    "    return q if count % 2 == 0 else q + 1\n",
    "    #return ceil((count + stack.size()) / 2)  # not the same result\n",
    "\n",
    "print(solve(\")()(\"), 2)\n",
    "print(solve(\"((()\"), 1)\n",
    "print(solve(\"(((\"), -1)\n",
    "print(solve(\"())(((\"), 3)\n",
    "print(solve(\"())()))))()()(\"), 4)\n",
    "print(solve(\"())()))))()()(((\"), 5)"
   ]
  },
  {
   "cell_type": "code",
   "execution_count": 33,
   "metadata": {},
   "outputs": [
    {
     "data": {
      "text/plain": [
       "3"
      ]
     },
     "execution_count": 33,
     "metadata": {},
     "output_type": "execute_result"
    }
   ],
   "source": [
    "ceil(2.5)"
   ]
  },
  {
   "cell_type": "code",
   "execution_count": 34,
   "metadata": {},
   "outputs": [
    {
     "data": {
      "text/plain": [
       "2"
      ]
     },
     "execution_count": 34,
     "metadata": {},
     "output_type": "execute_result"
    }
   ],
   "source": [
    "ceil(2.0)"
   ]
  },
  {
   "cell_type": "markdown",
   "metadata": {},
   "source": [
    "__#6__"
   ]
  },
  {
   "cell_type": "code",
   "execution_count": null,
   "metadata": {},
   "outputs": [],
   "source": [
    "def solve(s):\n",
    "    if len(s) % 2: return -1\n",
    "    count, swap = 0, 0\n",
    "    for i,c in enumerate(s):\n",
    "        count += (c == '(') - (c == ')')\n",
    "        if count < 0:\n",
    "            swap += 1 ; count = 1\n",
    "        elif count > len(s)-i: \n",
    "            swap += 1 ; count -= 2\n",
    "    return swap"
   ]
  },
  {
   "cell_type": "markdown",
   "metadata": {},
   "source": [
    "20201118"
   ]
  },
  {
   "cell_type": "markdown",
   "metadata": {},
   "source": [
    "### Disemvowel Trolls\n",
    "https://www.codewars.com/kata/52fba66badcd10859f00097e  \n",
    "7 kyu\n",
    "\n",
    "Trolls are attacking your comment section!\n",
    "\n",
    "A common way to deal with this situation is to remove all of the vowels from the trolls' comments, neutralizing the threat.\n",
    "\n",
    "Your task is to write a function that takes a string and return a new string with all vowels removed.\n",
    "\n",
    "For example, the string \"This website is for losers LOL!\" would become \"Ths wbst s fr lsrs LL!\".\n",
    "\n",
    "Note: for this kata y isn't considered a vowel."
   ]
  },
  {
   "cell_type": "markdown",
   "metadata": {},
   "source": [
    "__My solutions:__ "
   ]
  },
  {
   "cell_type": "markdown",
   "metadata": {},
   "source": [
    "__#1__"
   ]
  },
  {
   "cell_type": "code",
   "execution_count": 55,
   "metadata": {},
   "outputs": [
    {
     "name": "stdout",
     "output_type": "stream",
     "text": [
      "Ths wbst s fr lsrs LL! Ths wbst s fr lsrs LL!\n"
     ]
    }
   ],
   "source": [
    "def disemvowel(string):\n",
    "    return ''.join(filter(lambda c: c.lower() not in set('aoieu'), string))\n",
    "\n",
    "print(disemvowel(\"This website is for losers LOL!\"),\n",
    "                              \"Ths wbst s fr lsrs LL!\")"
   ]
  },
  {
   "cell_type": "code",
   "execution_count": 57,
   "metadata": {},
   "outputs": [
    {
     "data": {
      "text/plain": [
       "{'a', 'b'}"
      ]
     },
     "execution_count": 57,
     "metadata": {},
     "output_type": "execute_result"
    }
   ],
   "source": [
    "set('ab')"
   ]
  },
  {
   "cell_type": "code",
   "execution_count": 58,
   "metadata": {},
   "outputs": [
    {
     "data": {
      "text/plain": [
       "{'asdd'}"
      ]
     },
     "execution_count": 58,
     "metadata": {},
     "output_type": "execute_result"
    }
   ],
   "source": [
    "{'asdd'}"
   ]
  },
  {
   "cell_type": "markdown",
   "metadata": {},
   "source": [
    "__#2__"
   ]
  },
  {
   "cell_type": "code",
   "execution_count": 59,
   "metadata": {},
   "outputs": [
    {
     "name": "stdout",
     "output_type": "stream",
     "text": [
      "Ths wbst s fr lsrs LL! Ths wbst s fr lsrs LL!\n"
     ]
    }
   ],
   "source": [
    "def disemvowel(string):\n",
    "    return ''.join(c for c in string if c.lower() not in set('aoieu'))\n",
    "\n",
    "print(disemvowel(\"This website is for losers LOL!\"),\n",
    "                              \"Ths wbst s fr lsrs LL!\")"
   ]
  },
  {
   "cell_type": "markdown",
   "metadata": {},
   "source": [
    "__Other users' solutions:__"
   ]
  },
  {
   "cell_type": "markdown",
   "metadata": {},
   "source": [
    "__#1__"
   ]
  },
  {
   "cell_type": "code",
   "execution_count": 70,
   "metadata": {},
   "outputs": [
    {
     "name": "stdout",
     "output_type": "stream",
     "text": [
      "This website is for losers LOL! Ths wbst s fr lsrs LL!\n"
     ]
    }
   ],
   "source": [
    "def disemvowel(s):\n",
    "    table = str.maketrans(dict.fromkeys(\"aeiouyAEIOU\")) # or uncomment the next line\n",
    "    # table = str.maketrans({key: None for key in \"aeiouAEIOU\"})\n",
    "    return s.translate(table)\n",
    "\n",
    "print(disemvowel(\"This website is for losers LOL!\"),\n",
    "                              \"Ths wbst s fr lsrs LL!\")"
   ]
  },
  {
   "cell_type": "code",
   "execution_count": 61,
   "metadata": {},
   "outputs": [
    {
     "name": "stdout",
     "output_type": "stream",
     "text": [
      "Help on method_descriptor:\n",
      "\n",
      "translate(self, table, /)\n",
      "    Replace each character in the string using the given translation table.\n",
      "    \n",
      "      table\n",
      "        Translation table, which must be a mapping of Unicode ordinals to\n",
      "        Unicode ordinals, strings, or None.\n",
      "    \n",
      "    The table must implement lookup/indexing via __getitem__, for instance a\n",
      "    dictionary or list.  If this operation raises LookupError, the character is\n",
      "    left untouched.  Characters mapped to None are deleted.\n",
      "\n"
     ]
    }
   ],
   "source": [
    "help(str.translate)"
   ]
  },
  {
   "cell_type": "code",
   "execution_count": 68,
   "metadata": {},
   "outputs": [
    {
     "data": {
      "text/plain": [
       "{'a': None,\n",
       " 'e': None,\n",
       " 'i': None,\n",
       " 'o': None,\n",
       " 'u': None,\n",
       " 'y': None,\n",
       " 'A': None,\n",
       " 'E': None,\n",
       " 'I': None,\n",
       " 'O': None,\n",
       " 'U': None}"
      ]
     },
     "execution_count": 68,
     "metadata": {},
     "output_type": "execute_result"
    }
   ],
   "source": [
    "dict.fromkeys(\"aeiouyAEIOU\")"
   ]
  },
  {
   "cell_type": "code",
   "execution_count": 69,
   "metadata": {},
   "outputs": [
    {
     "data": {
      "text/plain": [
       "{'a': '1',\n",
       " 'e': '1',\n",
       " 'i': '1',\n",
       " 'o': '1',\n",
       " 'u': '1',\n",
       " 'y': '1',\n",
       " 'A': '1',\n",
       " 'E': '1',\n",
       " 'I': '1',\n",
       " 'O': '1',\n",
       " 'U': '1'}"
      ]
     },
     "execution_count": 69,
     "metadata": {},
     "output_type": "execute_result"
    }
   ],
   "source": [
    "dict.fromkeys(\"aeiouyAEIOU\", '1')"
   ]
  },
  {
   "cell_type": "markdown",
   "metadata": {},
   "source": [
    "Method str.translate() dosn't work this way:"
   ]
  },
  {
   "cell_type": "code",
   "execution_count": 71,
   "metadata": {},
   "outputs": [
    {
     "name": "stdout",
     "output_type": "stream",
     "text": [
      "fdadohthj,srrtwefbmaa\n"
     ]
    }
   ],
   "source": [
    "s = 'fdadohthj,srrtwefbmaa'\n",
    "print(s.translate(dict.fromkeys(\"aeiouyAEIOU\")))"
   ]
  },
  {
   "cell_type": "code",
   "execution_count": 72,
   "metadata": {},
   "outputs": [
    {
     "name": "stdout",
     "output_type": "stream",
     "text": [
      "Help on built-in function maketrans:\n",
      "\n",
      "maketrans(x, y=None, z=None, /)\n",
      "    Return a translation table usable for str.translate().\n",
      "    \n",
      "    If there is only one argument, it must be a dictionary mapping Unicode\n",
      "    ordinals (integers) or characters to Unicode ordinals, strings or None.\n",
      "    Character keys will be then converted to ordinals.\n",
      "    If there are two arguments, they must be strings of equal length, and\n",
      "    in the resulting dictionary, each character in x will be mapped to the\n",
      "    character at the same position in y. If there is a third argument, it\n",
      "    must be a string, whose characters will be mapped to None in the result.\n",
      "\n"
     ]
    }
   ],
   "source": [
    "help(str.maketrans)"
   ]
  },
  {
   "cell_type": "markdown",
   "metadata": {},
   "source": [
    "__#2__"
   ]
  },
  {
   "cell_type": "code",
   "execution_count": null,
   "metadata": {},
   "outputs": [],
   "source": [
    "import re\n",
    "def disemvowel(string):\n",
    "    return re.sub('[aeiou]', '', string, flags = re.IGNORECASE)"
   ]
  }
 ],
 "metadata": {
  "kernelspec": {
   "display_name": "Python 3",
   "language": "python",
   "name": "python3"
  },
  "language_info": {
   "codemirror_mode": {
    "name": "ipython",
    "version": 3
   },
   "file_extension": ".py",
   "mimetype": "text/x-python",
   "name": "python",
   "nbconvert_exporter": "python",
   "pygments_lexer": "ipython3",
   "version": "3.7.3"
  }
 },
 "nbformat": 4,
 "nbformat_minor": 2
}

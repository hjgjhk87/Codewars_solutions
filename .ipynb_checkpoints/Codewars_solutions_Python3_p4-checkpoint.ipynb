{
 "cells": [
  {
   "cell_type": "markdown",
   "metadata": {},
   "source": [
    "20210215"
   ]
  },
  {
   "cell_type": "markdown",
   "metadata": {},
   "source": [
    "### Ninja vs Samurai: Attack + Block\n",
    "https://www.codewars.com/kata/517b2bcf8557c200b8000015  \n",
    "5 kyu\n",
    "\n",
    "Something is wrong with our Warrior class. All variables should initialize properly and the attack method is not working as expected.\n",
    "\n",
    "If properly set, it should correctly calculate the damage after an attack (if the attacker position is == to the block position of the defender: no damage; otherwise, the defender gets 10 damage if hit \"high\" or 5 damage if hit \"low\". If no block is set, the defender takes 5 extra damage.\n",
    "\n",
    "For some reason, the health value is not being properly set. The following shows an example of this code being used:\n",
    "\n",
    "ninja = Warrior('Hanzo Hattori')  \n",
    "samurai = Warrior('Ryōma Sakamoto')  \n",
    "\n",
    "samurai.block = 'l'\n",
    "ninja.attack(samurai, 'h') # samurai.health should be 90 now\n",
    "\n",
    "The warrios must be able to fight to the bitter end, and good luck to the most skilled!\n",
    "\n",
    "Notice that health can't be below 0: once hit to 0 health, a warrior attribute deceased becomes true; if hit again, the zombie attribute becomes true too!"
   ]
  },
  {
   "cell_type": "markdown",
   "metadata": {},
   "source": [
    "__My solution:__"
   ]
  },
  {
   "cell_type": "code",
   "execution_count": 4,
   "metadata": {},
   "outputs": [
    {
     "name": "stdout",
     "output_type": "stream",
     "text": [
      "First attack\n",
      "Even the brave Ryoma Sakamoto was easily hit; in the full test we would better call the best japanese swordsman ever\n",
      "90 90 Expected samurai health to equal 90, instead got 90\n"
     ]
    }
   ],
   "source": [
    "Position = {'high': 'h', 'low': 'l'}  #don't change this!\n",
    "\n",
    "class Warrior():\n",
    "    def __init__(self, name):\n",
    "        # each warrior should be created with a name and 100 health points\n",
    "        self.name = name\n",
    "        self.health = 100\n",
    "        self.deceased = False\n",
    "        self.zombie = False\n",
    "        # default guard is \"\", that is unguarded\n",
    "        self.block = \"\"\n",
    "        \n",
    "    def attack(self, enemy, position):\n",
    "        # attacking high deals 10 damage, low 5\n",
    "        # 0 damage if the enemy blocks in the same position\n",
    "        damage = 0\n",
    "        if enemy.block != position:\n",
    "            if position == Position['high']:\n",
    "                damage += 10\n",
    "            else:\n",
    "                damage+=5\n",
    "                \n",
    "        # and even more damage if the enemy is not blocking at all\n",
    "        if enemy.block == \"\":\n",
    "            damage += 5\n",
    "        enemy.set_health(enemy.health - damage)\n",
    "    \n",
    "    def set_health(self, new_health):\n",
    "        # health cannot have negative values\n",
    "        self.health = max(0, new_health)\n",
    "        # he would be a zombie only if he was already dead\n",
    "        if self.deceased:\n",
    "            self.zombie = True\n",
    "        # if a warrior's health is set to 0 he is dead\n",
    "        if self.health == 0:\n",
    "            self.deceased = True\n",
    "            \n",
    "print(\"First attack\")\n",
    "ninja = Warrior('Hanzo Hattori')\n",
    "samurai = Warrior('Ryoma Sakamoto')\n",
    "\n",
    "samurai.block = 'l'\n",
    "ninja.attack(samurai, 'h')\n",
    "print(\"Even the brave Ryoma Sakamoto was easily hit; in the full test we would better call the best japanese swordsman ever\")\n",
    "print(samurai.health, 90, 'Expected samurai health to equal 90, instead got ' + str(samurai.health))"
   ]
  },
  {
   "cell_type": "code",
   "execution_count": null,
   "metadata": {},
   "outputs": [],
   "source": []
  }
 ],
 "metadata": {
  "kernelspec": {
   "display_name": "Python 3",
   "language": "python",
   "name": "python3"
  },
  "language_info": {
   "codemirror_mode": {
    "name": "ipython",
    "version": 3
   },
   "file_extension": ".py",
   "mimetype": "text/x-python",
   "name": "python",
   "nbconvert_exporter": "python",
   "pygments_lexer": "ipython3",
   "version": "3.7.3"
  }
 },
 "nbformat": 4,
 "nbformat_minor": 2
}

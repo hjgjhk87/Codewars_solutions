{
 "cells": [
  {
   "cell_type": "markdown",
   "metadata": {},
   "source": [
    "20210215"
   ]
  },
  {
   "cell_type": "markdown",
   "metadata": {},
   "source": [
    "### Ninja vs Samurai: Attack + Block\n",
    "https://www.codewars.com/kata/517b2bcf8557c200b8000015  \n",
    "5 kyu\n",
    "\n",
    "Something is wrong with our Warrior class. All variables should initialize properly and the attack method is not working as expected.\n",
    "\n",
    "If properly set, it should correctly calculate the damage after an attack (if the attacker position is == to the block position of the defender: no damage; otherwise, the defender gets 10 damage if hit \"high\" or 5 damage if hit \"low\". If no block is set, the defender takes 5 extra damage.\n",
    "\n",
    "For some reason, the health value is not being properly set. The following shows an example of this code being used:\n",
    "\n",
    "ninja = Warrior('Hanzo Hattori')  \n",
    "samurai = Warrior('Ryōma Sakamoto')  \n",
    "\n",
    "samurai.block = 'l'\n",
    "ninja.attack(samurai, 'h') # samurai.health should be 90 now\n",
    "\n",
    "The warrios must be able to fight to the bitter end, and good luck to the most skilled!\n",
    "\n",
    "Notice that health can't be below 0: once hit to 0 health, a warrior attribute deceased becomes true; if hit again, the zombie attribute becomes true too!"
   ]
  },
  {
   "cell_type": "markdown",
   "metadata": {},
   "source": [
    "__My solution:__"
   ]
  },
  {
   "cell_type": "code",
   "execution_count": 4,
   "metadata": {},
   "outputs": [
    {
     "name": "stdout",
     "output_type": "stream",
     "text": [
      "First attack\n",
      "Even the brave Ryoma Sakamoto was easily hit; in the full test we would better call the best japanese swordsman ever\n",
      "90 90 Expected samurai health to equal 90, instead got 90\n"
     ]
    }
   ],
   "source": [
    "Position = {'high': 'h', 'low': 'l'}  #don't change this!\n",
    "\n",
    "class Warrior():\n",
    "    def __init__(self, name):\n",
    "        # each warrior should be created with a name and 100 health points\n",
    "        self.name = name\n",
    "        self.health = 100\n",
    "        self.deceased = False\n",
    "        self.zombie = False\n",
    "        # default guard is \"\", that is unguarded\n",
    "        self.block = \"\"\n",
    "        \n",
    "    def attack(self, enemy, position):\n",
    "        # attacking high deals 10 damage, low 5\n",
    "        # 0 damage if the enemy blocks in the same position\n",
    "        damage = 0\n",
    "        if enemy.block != position:\n",
    "            if position == Position['high']:\n",
    "                damage += 10\n",
    "            else:\n",
    "                damage+=5\n",
    "                \n",
    "        # and even more damage if the enemy is not blocking at all\n",
    "        if enemy.block == \"\":\n",
    "            damage += 5\n",
    "        enemy.set_health(enemy.health - damage)\n",
    "    \n",
    "    def set_health(self, new_health):\n",
    "        # health cannot have negative values\n",
    "        self.health = max(0, new_health)\n",
    "        # he would be a zombie only if he was already dead\n",
    "        if self.deceased:\n",
    "            self.zombie = True\n",
    "        # if a warrior's health is set to 0 he is dead\n",
    "        if self.health == 0:\n",
    "            self.deceased = True\n",
    "            \n",
    "print(\"First attack\")\n",
    "ninja = Warrior('Hanzo Hattori')\n",
    "samurai = Warrior('Ryoma Sakamoto')\n",
    "\n",
    "samurai.block = 'l'\n",
    "ninja.attack(samurai, 'h')\n",
    "print(\"Even the brave Ryoma Sakamoto was easily hit; in the full test we would better call the best japanese swordsman ever\")\n",
    "print(samurai.health, 90, 'Expected samurai health to equal 90, instead got ' + str(samurai.health))"
   ]
  },
  {
   "cell_type": "markdown",
   "metadata": {},
   "source": [
    "20210216"
   ]
  },
  {
   "cell_type": "markdown",
   "metadata": {},
   "source": [
    "### Sort arrays - 3\n",
    "https://www.codewars.com/kata/51f42b1de8f176db5a0002ae  \n",
    "5 kyu\n",
    "\n",
    "This time the input is a sequence of course-ids that are formatted in the following way:\n",
    "\n",
    "name-yymm\n",
    "\n",
    "The return of the function shall first be sorted by yymm, then by the name (which varies in length)."
   ]
  },
  {
   "cell_type": "markdown",
   "metadata": {},
   "source": [
    "__My solution:__"
   ]
  },
  {
   "cell_type": "code",
   "execution_count": 175,
   "metadata": {},
   "outputs": [
    {
     "name": "stdout",
     "output_type": "stream",
     "text": [
      "['play-1215', 'site-1304', 'web-1304', 'aeb-1305', 'beb-1305', 'site-1305'] ['play-1215', 'site-1304', 'web-1304', 'aeb-1305', 'beb-1305', 'site-1305']\n"
     ]
    }
   ],
   "source": [
    "def sort_me(courses): \n",
    "    return sorted(courses, key=lambda c: ''.join(c.split('-')[::-1]))\n",
    "\n",
    "\n",
    "print(sort_me(['aeb-1305', 'site-1305', 'play-1215', 'web-1304', 'site-1304', 'beb-1305']), [\"play-1215\", \"site-1304\", \"web-1304\", \"aeb-1305\", \"beb-1305\", \"site-1305\"])"
   ]
  },
  {
   "cell_type": "markdown",
   "metadata": {},
   "source": [
    "__Other users' solution:__"
   ]
  },
  {
   "cell_type": "markdown",
   "metadata": {},
   "source": [
    "__#1__ The witty one"
   ]
  },
  {
   "cell_type": "code",
   "execution_count": 176,
   "metadata": {},
   "outputs": [
    {
     "name": "stdout",
     "output_type": "stream",
     "text": [
      "['play-1215', 'site-1304', 'web-1304', 'aeb-1305', 'beb-1305', 'site-1305'] ['play-1215', 'site-1304', 'web-1304', 'aeb-1305', 'beb-1305', 'site-1305']\n"
     ]
    }
   ],
   "source": [
    "def sort_me(courses): \n",
    "    return sorted(courses, key=lambda c: c[-4:] + c[:-5])\n",
    "\n",
    "\n",
    "print(sort_me(['aeb-1305', 'site-1305', 'play-1215', 'web-1304', 'site-1304', 'beb-1305']), [\"play-1215\", \"site-1304\", \"web-1304\", \"aeb-1305\", \"beb-1305\", \"site-1305\"])"
   ]
  },
  {
   "cell_type": "code",
   "execution_count": 181,
   "metadata": {},
   "outputs": [
    {
     "data": {
      "text/plain": [
       "False"
      ]
     },
     "execution_count": 181,
     "metadata": {},
     "output_type": "execute_result"
    }
   ],
   "source": [
    "'12' > '2'"
   ]
  },
  {
   "cell_type": "code",
   "execution_count": 182,
   "metadata": {},
   "outputs": [
    {
     "data": {
      "text/plain": [
       "True"
      ]
     },
     "execution_count": 182,
     "metadata": {},
     "output_type": "execute_result"
    }
   ],
   "source": [
    "12 > 2"
   ]
  },
  {
   "cell_type": "code",
   "execution_count": 183,
   "metadata": {},
   "outputs": [
    {
     "data": {
      "text/plain": [
       "True"
      ]
     },
     "execution_count": 183,
     "metadata": {},
     "output_type": "execute_result"
    }
   ],
   "source": [
    "'12' > '02'"
   ]
  },
  {
   "cell_type": "markdown",
   "metadata": {},
   "source": [
    "__#2__ Not the best solution but I like its structure (the user's class, method __lt__ etc.)"
   ]
  },
  {
   "cell_type": "code",
   "execution_count": 7,
   "metadata": {},
   "outputs": [
    {
     "name": "stdout",
     "output_type": "stream",
     "text": [
      "['play-1215', 'site-1304', 'web-1304', 'aeb-1305', 'beb-1305', 'site-1305'] ['play-1215', 'site-1304', 'web-1304', 'aeb-1305', 'beb-1305', 'site-1305']\n"
     ]
    }
   ],
   "source": [
    "class Course:\n",
    "    def __init__(self, text):\n",
    "        self.text = text\n",
    "        self.number = int(text.split(\"-\")[1])\n",
    "\n",
    "    def __lt__(self, other_course):\n",
    "        #print(self.text, other_course.text)\n",
    "        if self.number < other_course.number:\n",
    "            return True\n",
    "        if self.number == other_course.number and self.text < other_course.text:\n",
    "            return True\n",
    "        return False\n",
    "    \n",
    "    \n",
    "def sort_me(courses_strings): \n",
    "    courses = [Course(course) for course in courses_strings]\n",
    "    return [course.text for course in sorted(courses)]\n",
    "\n",
    "print(sort_me(['aeb-1305', 'site-1305', 'play-1215', 'web-1304', 'site-1304', 'beb-1305']), [\"play-1215\", \"site-1304\", \"web-1304\", \"aeb-1305\", \"beb-1305\", \"site-1305\"])"
   ]
  },
  {
   "cell_type": "markdown",
   "metadata": {},
   "source": [
    "20210217"
   ]
  },
  {
   "cell_type": "markdown",
   "metadata": {},
   "source": [
    "### Lazy Repeater\n",
    "https://www.codewars.com/kata/51fc3beb41ecc97ee20000c3  \n",
    "5 kyu\n",
    "\n",
    "The makeLooper() function (make_looper in Python) takes a string (of non-zero length) as an argument. It returns a function. The function it returns will return successive characters of the string on successive invocations. It will start back at the beginning of the string once it reaches the end.\n",
    "\n",
    "For example:\n",
    "\n",
    "abc = make_looper('abc')  \n",
    "abc() # should return 'a' on this first call  \n",
    "abc() # should return 'b' on this second call  \n",
    "abc() # should return 'c' on this third call  \n",
    "abc() # should return 'a' again on this fourth call  "
   ]
  },
  {
   "cell_type": "markdown",
   "metadata": {},
   "source": [
    "__My solution:__"
   ]
  },
  {
   "cell_type": "code",
   "execution_count": 8,
   "metadata": {},
   "outputs": [
    {
     "name": "stdout",
     "output_type": "stream",
     "text": [
      "a a\n",
      "b b\n",
      "c c\n",
      "a a\n",
      "b b\n"
     ]
    },
    {
     "ename": "IndexError",
     "evalue": "string index out of range",
     "output_type": "error",
     "traceback": [
      "\u001b[1;31m---------------------------------------------------------------------------\u001b[0m",
      "\u001b[1;31mIndexError\u001b[0m                                Traceback (most recent call last)",
      "\u001b[1;32m<ipython-input-8-e82d2dcda3bd>\u001b[0m in \u001b[0;36m<module>\u001b[1;34m\u001b[0m\n\u001b[0;32m     22\u001b[0m \u001b[0mabc\u001b[0m \u001b[1;33m=\u001b[0m \u001b[0mmake_looper\u001b[0m\u001b[1;33m(\u001b[0m\u001b[1;34m\"\"\u001b[0m\u001b[1;33m)\u001b[0m\u001b[1;33m\u001b[0m\u001b[1;33m\u001b[0m\u001b[0m\n\u001b[0;32m     23\u001b[0m \u001b[1;33m\u001b[0m\u001b[0m\n\u001b[1;32m---> 24\u001b[1;33m \u001b[0mprint\u001b[0m\u001b[1;33m(\u001b[0m\u001b[0mabc\u001b[0m\u001b[1;33m(\u001b[0m\u001b[1;33m)\u001b[0m\u001b[1;33m,\u001b[0m \u001b[1;34m'a'\u001b[0m\u001b[1;33m)\u001b[0m\u001b[1;33m\u001b[0m\u001b[1;33m\u001b[0m\u001b[0m\n\u001b[0m\u001b[0;32m     25\u001b[0m \u001b[0mprint\u001b[0m\u001b[1;33m(\u001b[0m\u001b[0mabc\u001b[0m\u001b[1;33m(\u001b[0m\u001b[1;33m)\u001b[0m\u001b[1;33m,\u001b[0m \u001b[1;34m'b'\u001b[0m\u001b[1;33m)\u001b[0m\u001b[1;33m\u001b[0m\u001b[1;33m\u001b[0m\u001b[0m\n\u001b[0;32m     26\u001b[0m \u001b[0mprint\u001b[0m\u001b[1;33m(\u001b[0m\u001b[0mabc\u001b[0m\u001b[1;33m(\u001b[0m\u001b[1;33m)\u001b[0m\u001b[1;33m,\u001b[0m \u001b[1;34m'c'\u001b[0m\u001b[1;33m)\u001b[0m\u001b[1;33m\u001b[0m\u001b[1;33m\u001b[0m\u001b[0m\n",
      "\u001b[1;32m<ipython-input-8-e82d2dcda3bd>\u001b[0m in \u001b[0;36m__call__\u001b[1;34m(self)\u001b[0m\n\u001b[0;32m      9\u001b[0m             \u001b[1;32mif\u001b[0m \u001b[0mself\u001b[0m\u001b[1;33m.\u001b[0m\u001b[0mcur\u001b[0m \u001b[1;33m==\u001b[0m \u001b[0mlen\u001b[0m\u001b[1;33m(\u001b[0m\u001b[0mstring\u001b[0m\u001b[1;33m)\u001b[0m\u001b[1;33m:\u001b[0m\u001b[1;33m\u001b[0m\u001b[1;33m\u001b[0m\u001b[0m\n\u001b[0;32m     10\u001b[0m                 \u001b[0mself\u001b[0m\u001b[1;33m.\u001b[0m\u001b[0mcur\u001b[0m \u001b[1;33m=\u001b[0m \u001b[1;36m0\u001b[0m\u001b[1;33m\u001b[0m\u001b[1;33m\u001b[0m\u001b[0m\n\u001b[1;32m---> 11\u001b[1;33m             \u001b[1;32mreturn\u001b[0m \u001b[0mstring\u001b[0m\u001b[1;33m[\u001b[0m\u001b[0mprev\u001b[0m\u001b[1;33m]\u001b[0m\u001b[1;33m\u001b[0m\u001b[1;33m\u001b[0m\u001b[0m\n\u001b[0m\u001b[0;32m     12\u001b[0m     \u001b[1;32mreturn\u001b[0m \u001b[0mlooper\u001b[0m\u001b[1;33m(\u001b[0m\u001b[1;33m)\u001b[0m\u001b[1;33m\u001b[0m\u001b[1;33m\u001b[0m\u001b[0m\n\u001b[0;32m     13\u001b[0m \u001b[1;33m\u001b[0m\u001b[0m\n",
      "\u001b[1;31mIndexError\u001b[0m: string index out of range"
     ]
    }
   ],
   "source": [
    "def make_looper(string):\n",
    "    class looper:\n",
    "        def __init__(self):\n",
    "            self.cur = 0\n",
    "            \n",
    "        def __call__(self):\n",
    "            prev = self.cur\n",
    "            self.cur += 1\n",
    "            if self.cur == len(string):\n",
    "                self.cur = 0\n",
    "            return string[prev]    \n",
    "    return looper()\n",
    "\n",
    "abc = make_looper(\"abc\")\n",
    "\n",
    "print(abc(), 'a')\n",
    "print(abc(), 'b')\n",
    "print(abc(), 'c')\n",
    "print(abc(), 'a')\n",
    "print(abc(), 'b')\n",
    "\n",
    "abc = make_looper(\"\") # IndexError: string index out of range\n",
    "\n",
    "print(abc(), 'a')\n",
    "print(abc(), 'b')\n",
    "print(abc(), 'c')\n",
    "print(abc(), 'a')\n",
    "print(abc(), 'b')"
   ]
  },
  {
   "cell_type": "markdown",
   "metadata": {},
   "source": [
    "__Other's users solution:__"
   ]
  },
  {
   "cell_type": "code",
   "execution_count": 11,
   "metadata": {},
   "outputs": [
    {
     "name": "stdout",
     "output_type": "stream",
     "text": [
      "a a\n",
      "b b\n",
      "c c\n",
      "a a\n",
      "b b\n"
     ]
    },
    {
     "ename": "StopIteration",
     "evalue": "",
     "output_type": "error",
     "traceback": [
      "\u001b[1;31m---------------------------------------------------------------------------\u001b[0m",
      "\u001b[1;31mStopIteration\u001b[0m                             Traceback (most recent call last)",
      "\u001b[1;32m<ipython-input-11-ab09bb0b1e73>\u001b[0m in \u001b[0;36m<module>\u001b[1;34m\u001b[0m\n\u001b[0;32m     15\u001b[0m \u001b[0mabc\u001b[0m \u001b[1;33m=\u001b[0m \u001b[0mmake_looper\u001b[0m\u001b[1;33m(\u001b[0m\u001b[1;34m\"\"\u001b[0m\u001b[1;33m)\u001b[0m \u001b[1;31m# IndexError: string index out of range\u001b[0m\u001b[1;33m\u001b[0m\u001b[1;33m\u001b[0m\u001b[0m\n\u001b[0;32m     16\u001b[0m \u001b[1;33m\u001b[0m\u001b[0m\n\u001b[1;32m---> 17\u001b[1;33m \u001b[0mprint\u001b[0m\u001b[1;33m(\u001b[0m\u001b[0mabc\u001b[0m\u001b[1;33m(\u001b[0m\u001b[1;33m)\u001b[0m\u001b[1;33m,\u001b[0m \u001b[1;34m'a'\u001b[0m\u001b[1;33m)\u001b[0m\u001b[1;33m\u001b[0m\u001b[1;33m\u001b[0m\u001b[0m\n\u001b[0m\u001b[0;32m     18\u001b[0m \u001b[0mprint\u001b[0m\u001b[1;33m(\u001b[0m\u001b[0mabc\u001b[0m\u001b[1;33m(\u001b[0m\u001b[1;33m)\u001b[0m\u001b[1;33m,\u001b[0m \u001b[1;34m'b'\u001b[0m\u001b[1;33m)\u001b[0m\u001b[1;33m\u001b[0m\u001b[1;33m\u001b[0m\u001b[0m\n\u001b[0;32m     19\u001b[0m \u001b[0mprint\u001b[0m\u001b[1;33m(\u001b[0m\u001b[0mabc\u001b[0m\u001b[1;33m(\u001b[0m\u001b[1;33m)\u001b[0m\u001b[1;33m,\u001b[0m \u001b[1;34m'c'\u001b[0m\u001b[1;33m)\u001b[0m\u001b[1;33m\u001b[0m\u001b[1;33m\u001b[0m\u001b[0m\n",
      "\u001b[1;31mStopIteration\u001b[0m: "
     ]
    }
   ],
   "source": [
    "from itertools import cycle\n",
    "\n",
    "def make_looper(string):\n",
    "    it = cycle(string)\n",
    "    return it.__next__\n",
    "\n",
    "abc = make_looper(\"abc\")\n",
    "\n",
    "print(abc(), 'a')\n",
    "print(abc(), 'b')\n",
    "print(abc(), 'c')\n",
    "print(abc(), 'a')\n",
    "print(abc(), 'b')\n",
    "\n",
    "abc = make_looper(\"\") # IndexError: string index out of range\n",
    "\n",
    "print(abc(), 'a')\n",
    "print(abc(), 'b')\n",
    "print(abc(), 'c')\n",
    "print(abc(), 'a')\n",
    "print(abc(), 'b')"
   ]
  },
  {
   "cell_type": "markdown",
   "metadata": {},
   "source": [
    "20210318"
   ]
  },
  {
   "cell_type": "markdown",
   "metadata": {},
   "source": [
    "### ISBN-10 Validation\n",
    "https://www.codewars.com/kata/51fc12de24a9d8cb0e000001  \n",
    "5 kyu\n",
    "\n",
    "ISBN-10 identifiers are ten digits long. The first nine characters are digits 0-9. The last digit can be 0-9 or X, to indicate a value of 10.\n",
    "\n",
    "An ISBN-10 number is valid if the sum of the digits multiplied by their position modulo 11 equals zero.\n",
    "\n",
    "For example:\n",
    "\n",
    "ISBN     : 1 1 1 2 2 2 3 3 3  9  \n",
    "position : 1 2 3 4 5 6 7 8 9 10  \n",
    "This is a valid ISBN, because: \n",
    "<pre>\n",
    "(1*1 + 1*2 + 1*3 + 2*4 + 2*5 + 2*6 + 3*7 + 3*8 + 3*9 + 9*10) % 11 = 0\n",
    "</pre>\n",
    "\n",
    "Examples:  \n",
    "1112223339   -->  true  \n",
    "111222333    -->  false  \n",
    "1112223339X  -->  false  \n",
    "1234554321   -->  true  \n",
    "1234512345   -->  false  \n",
    "048665088X   -->  true  \n",
    "X123456788   -->  false"
   ]
  },
  {
   "cell_type": "markdown",
   "metadata": {},
   "source": [
    "__My solutions:__"
   ]
  },
  {
   "cell_type": "markdown",
   "metadata": {},
   "source": [
    "__#1__"
   ]
  },
  {
   "cell_type": "code",
   "execution_count": 21,
   "metadata": {},
   "outputs": [
    {
     "name": "stdout",
     "output_type": "stream",
     "text": [
      "True True\n",
      "True True\n",
      "False False\n",
      "True True\n",
      "True True\n",
      "False False\n",
      "False False\n",
      "False False\n",
      "False False\n",
      "False False\n"
     ]
    }
   ],
   "source": [
    "import re\n",
    "\n",
    "def valid_ISBN10(isbn):\n",
    "    digits = dict(zip('0123456789X', range(11)))\n",
    "    if re.fullmatch(r'(?:[0-9]{10})|(?:[0-9]{9}X)', isbn): # r'\\d{9}[\\dX]'\n",
    "        return sum(digits[d] * i for i, d in enumerate(isbn, 1)) % 11 == 0\n",
    "    return False\n",
    "\n",
    "print(valid_ISBN10('1112223339'), True)\n",
    "print(valid_ISBN10('048665088X'), True)\n",
    "print(valid_ISBN10('129300000x'), False)  # a small x\n",
    "print(valid_ISBN10('1293000000'), True)\n",
    "print(valid_ISBN10('1234554321'), True)\n",
    "print(valid_ISBN10('1234512345'), False)\n",
    "print(valid_ISBN10('1293'), False)\n",
    "print(valid_ISBN10('X123456788'), False)\n",
    "print(valid_ISBN10('ABCDEFGHIJ'), False)\n",
    "print(valid_ISBN10('XXXXXXXXXX'), False)"
   ]
  },
  {
   "cell_type": "markdown",
   "metadata": {},
   "source": [
    "__#2__"
   ]
  },
  {
   "cell_type": "code",
   "execution_count": 19,
   "metadata": {},
   "outputs": [
    {
     "name": "stdout",
     "output_type": "stream",
     "text": [
      "True True\n",
      "True True\n",
      "True True\n",
      "False True\n",
      "True True\n",
      "False False\n",
      "False False\n",
      "False False\n",
      "False False\n",
      "False False\n"
     ]
    }
   ],
   "source": [
    "def valid_ISBN10(isbn):\n",
    "    try:\n",
    "        digits = dict(zip('0123456789X', range(11)))\n",
    "        if len(isbn) == 10 and isbn[:9].isdigit():\n",
    "            return sum(digits[d] * i for i, d in enumerate(isbn, 1)) % 11 == 0\n",
    "    except KeyError:\n",
    "        return False\n",
    "    return False\n",
    "\n",
    "print(valid_ISBN10('1112223339'), True)\n",
    "print(valid_ISBN10('048665088X'), True)\n",
    "print(valid_ISBN10('1293000000'), True)\n",
    "print(valid_ISBN10('129300000x'), False)\n",
    "print(valid_ISBN10('1234554321'), True)\n",
    "print(valid_ISBN10('1234512345'), False)\n",
    "print(valid_ISBN10('1293'), False)\n",
    "print(valid_ISBN10('X123456788'), False)\n",
    "print(valid_ISBN10('ABCDEFGHIJ'), False)\n",
    "print(valid_ISBN10('XXXXXXXXXX'), False)"
   ]
  },
  {
   "cell_type": "markdown",
   "metadata": {},
   "source": [
    "Checking of regex:"
   ]
  },
  {
   "cell_type": "code",
   "execution_count": 4,
   "metadata": {},
   "outputs": [
    {
     "name": "stdout",
     "output_type": "stream",
     "text": [
      "<re.Match object; span=(0, 10), match='1112223339'>\n",
      "None\n",
      "None\n",
      "<re.Match object; span=(0, 10), match='048665088X'>\n"
     ]
    }
   ],
   "source": [
    "import re\n",
    "\n",
    "codes = ('1112223339', '111222333', 'X123456788', '048665088X')\n",
    "for code in codes:\n",
    "    print(re.fullmatch(r'(?:[0-9]{10})|(?:[0-9]{9}X)', code))"
   ]
  },
  {
   "cell_type": "code",
   "execution_count": 12,
   "metadata": {},
   "outputs": [],
   "source": [
    "dict.__getitem__?"
   ]
  },
  {
   "cell_type": "code",
   "execution_count": 17,
   "metadata": {},
   "outputs": [
    {
     "name": "stdout",
     "output_type": "stream",
     "text": [
      "2\n"
     ]
    },
    {
     "ename": "KeyError",
     "evalue": "1",
     "output_type": "error",
     "traceback": [
      "\u001b[1;31m---------------------------------------------------------------------------\u001b[0m",
      "\u001b[1;31mKeyError\u001b[0m                                  Traceback (most recent call last)",
      "\u001b[1;32m<ipython-input-17-bd5703de4ff1>\u001b[0m in \u001b[0;36m<module>\u001b[1;34m\u001b[0m\n\u001b[0;32m      1\u001b[0m \u001b[0md\u001b[0m \u001b[1;33m=\u001b[0m\u001b[1;33m{\u001b[0m\u001b[1;36m2\u001b[0m\u001b[1;33m:\u001b[0m \u001b[1;36m2\u001b[0m\u001b[1;33m}\u001b[0m\u001b[1;33m\u001b[0m\u001b[1;33m\u001b[0m\u001b[0m\n\u001b[0;32m      2\u001b[0m \u001b[0mprint\u001b[0m\u001b[1;33m(\u001b[0m\u001b[0md\u001b[0m\u001b[1;33m[\u001b[0m\u001b[1;36m2\u001b[0m\u001b[1;33m]\u001b[0m\u001b[1;33m)\u001b[0m\u001b[1;33m\u001b[0m\u001b[1;33m\u001b[0m\u001b[0m\n\u001b[1;32m----> 3\u001b[1;33m \u001b[0mprint\u001b[0m\u001b[1;33m(\u001b[0m\u001b[0md\u001b[0m\u001b[1;33m[\u001b[0m\u001b[1;36m1\u001b[0m\u001b[1;33m]\u001b[0m\u001b[1;33m)\u001b[0m\u001b[1;33m\u001b[0m\u001b[1;33m\u001b[0m\u001b[0m\n\u001b[0m",
      "\u001b[1;31mKeyError\u001b[0m: 1"
     ]
    }
   ],
   "source": [
    "d ={2: 2}\n",
    "print(d[2])\n",
    "print(d[1])"
   ]
  },
  {
   "cell_type": "markdown",
   "metadata": {},
   "source": [
    "__Other users' solutions:__"
   ]
  },
  {
   "cell_type": "markdown",
   "metadata": {},
   "source": [
    "__#1__"
   ]
  },
  {
   "cell_type": "code",
   "execution_count": null,
   "metadata": {},
   "outputs": [],
   "source": [
    "import re\n",
    "\n",
    "def valid_ISBN10(isbn):\n",
    "    return bool(re.match(\"\\d{9}[\\dX]$\", isbn)) and sum(\"0123456789X\".index(d) * i for i, d in enumerate(isbn, 1)) % 11 == 0"
   ]
  },
  {
   "cell_type": "markdown",
   "metadata": {},
   "source": [
    "__#2__"
   ]
  },
  {
   "cell_type": "code",
   "execution_count": null,
   "metadata": {},
   "outputs": [],
   "source": [
    "def valid_ISBN10(isbn: str) -> bool:\n",
    "    try:\n",
    "        digits = [*map(int, isbn[:-1]), 10 if isbn[-1] == 'X' else int(isbn[-1])]\n",
    "        return len(digits) == 10 and sum(int(c) * i for i, c in enumerate(digits, 1)) % 11 == 0\n",
    "\n",
    "    except ValueError:\n",
    "        return False"
   ]
  },
  {
   "cell_type": "markdown",
   "metadata": {},
   "source": [
    "__#3__"
   ]
  },
  {
   "cell_type": "code",
   "execution_count": null,
   "metadata": {},
   "outputs": [],
   "source": [
    "def valid_ISBN10(isbn: str) -> bool:\n",
    "    try:\n",
    "        digits = [*map(int, isbn[:-1]), 10 if isbn[-1] == 'X' else int(isbn[-1])]\n",
    "        return len(digits) == 10 and sum(int(c) * i for i, c in enumerate(digits, 1)) % 11 == 0\n",
    "\n",
    "    except ValueError:\n",
    "        return False"
   ]
  },
  {
   "cell_type": "markdown",
   "metadata": {},
   "source": [
    "20210219"
   ]
  },
  {
   "cell_type": "markdown",
   "metadata": {},
   "source": [
    "### Return substring instance count - 2\n",
    "https://www.codewars.com/kata/52190daefe9c702a460003dd  \n",
    "5 kyu\n",
    "\n",
    "Complete the solution so that it returns the number of times the search_text is found within the full_text.\n",
    "<pre>\n",
    "search_substr( full_text, search_text, allow_overlap = True )\n",
    "</pre>\n",
    "so that overlapping solutions are (not) counted. If the searchText is empty, it should return 0.\n",
    "\n",
    "Usage examples:  \n",
    "<pre>\n",
    "search_substr('aa_bb_cc_dd_bb_e', 'bb') # should return 2 since bb shows up twice  \n",
    "search_substr('aaabbbcccc', 'bbb') # should return 1\n",
    "search_substr( 'aaa', 'aa' ) # should return 2\n",
    "search_substr( 'aaa', '' ) # should return 0\n",
    "search_substr( 'aaa', 'aa', False ) # should return 1\n",
    "</pre>"
   ]
  },
  {
   "cell_type": "markdown",
   "metadata": {},
   "source": [
    "__My solution:__"
   ]
  },
  {
   "cell_type": "code",
   "execution_count": 7,
   "metadata": {},
   "outputs": [
    {
     "name": "stdout",
     "output_type": "stream",
     "text": [
      "Should handle matches the simple way\n",
      "2 2\n",
      "1 1\n",
      "5 5\n",
      "2 2\n",
      "Should handle non-overlapping cases\n",
      "1 1\n",
      "1 1\n",
      "Should handle empty strings on both sides\n",
      "0 0\n",
      "0 0\n",
      "0 0\n",
      "0 0\n"
     ]
    }
   ],
   "source": [
    "def search_substr(full_text, search_text, allow_overlap=True):\n",
    "    if not search_text:\n",
    "        return 0\n",
    "    if allow_overlap:\n",
    "        return sum(full_text[i:].startswith(search_text) for i in range(len(full_text)))\n",
    "    else:\n",
    "        return full_text.count(search_text)\n",
    "    \n",
    "print(\"Should handle matches the simple way\")\n",
    "print(search_substr('aa_bb_cc_dd_bb_e', 'bb'), 2)\n",
    "print(search_substr('aaabbbcccc', 'bbb'), 1)\n",
    "print(search_substr('aaacccbbbcccc', 'cc'), 5)\n",
    "print(search_substr('aaa', 'aa'), 2)\n",
    "print(\"Should handle non-overlapping cases\")\n",
    "print(search_substr('aaa', 'aa',False), 1)\n",
    "print(search_substr('aaabbbaaa', 'bb',False), 1)\n",
    "print(\"Should handle empty strings on both sides\")\n",
    "print(search_substr('a', ''), 0)\n",
    "print(search_substr('', 'a'), 0)\n",
    "print(search_substr('', ''), 0)\n",
    "print(search_substr('', '',False), 0)"
   ]
  },
  {
   "cell_type": "code",
   "execution_count": 4,
   "metadata": {},
   "outputs": [
    {
     "data": {
      "text/plain": [
       "3"
      ]
     },
     "execution_count": 4,
     "metadata": {},
     "output_type": "execute_result"
    }
   ],
   "source": [
    "'fd'.count('')  # 3"
   ]
  },
  {
   "cell_type": "code",
   "execution_count": 3,
   "metadata": {},
   "outputs": [
    {
     "data": {
      "text/plain": [
       "1"
      ]
     },
     "execution_count": 3,
     "metadata": {},
     "output_type": "execute_result"
    }
   ],
   "source": [
    "''.count('') # 1"
   ]
  },
  {
   "cell_type": "markdown",
   "metadata": {},
   "source": [
    "__Other users' solutions:__"
   ]
  },
  {
   "cell_type": "code",
   "execution_count": 28,
   "metadata": {},
   "outputs": [
    {
     "name": "stdout",
     "output_type": "stream",
     "text": [
      "Should handle matches the simple way\n",
      "2 2\n",
      "1 1\n",
      "5 5\n",
      "2 2\n",
      "Should handle non-overlapping cases\n",
      "1 1\n",
      "1 1\n",
      "Should handle empty strings on both sides\n",
      "0 0\n",
      "0 0\n",
      "0 0\n",
      "0 0\n",
      "My tests with special characters\n",
      "4 ?\n"
     ]
    },
    {
     "ename": "error",
     "evalue": "missing ), unterminated subpattern at position 0",
     "output_type": "error",
     "traceback": [
      "\u001b[1;31m---------------------------------------------------------------------------\u001b[0m",
      "\u001b[1;31merror\u001b[0m                                     Traceback (most recent call last)",
      "\u001b[1;32m<ipython-input-28-5af1328dbe75>\u001b[0m in \u001b[0;36m<module>\u001b[1;34m\u001b[0m\n\u001b[0;32m     22\u001b[0m \u001b[0mprint\u001b[0m\u001b[1;33m(\u001b[0m\u001b[1;34m'My tests with special characters'\u001b[0m\u001b[1;33m)\u001b[0m\u001b[1;33m\u001b[0m\u001b[1;33m\u001b[0m\u001b[0m\n\u001b[0;32m     23\u001b[0m \u001b[0mprint\u001b[0m\u001b[1;33m(\u001b[0m\u001b[0msearch_substr\u001b[0m\u001b[1;33m(\u001b[0m\u001b[1;34mr'\\\\\\\\'\u001b[0m\u001b[1;33m,\u001b[0m \u001b[1;34mr'\\\\'\u001b[0m\u001b[1;33m)\u001b[0m\u001b[1;33m,\u001b[0m \u001b[1;34m'?'\u001b[0m\u001b[1;33m)\u001b[0m \u001b[1;31m# gets broken without r''\u001b[0m\u001b[1;33m\u001b[0m\u001b[1;33m\u001b[0m\u001b[0m\n\u001b[1;32m---> 24\u001b[1;33m \u001b[0mprint\u001b[0m\u001b[1;33m(\u001b[0m\u001b[0msearch_substr\u001b[0m\u001b[1;33m(\u001b[0m\u001b[1;34mr'\\\\\\\\'\u001b[0m\u001b[1;33m,\u001b[0m \u001b[1;34m'\\\\'\u001b[0m\u001b[1;33m)\u001b[0m\u001b[1;33m,\u001b[0m \u001b[1;34m'?'\u001b[0m\u001b[1;33m)\u001b[0m \u001b[1;31m# gets broken without r''\u001b[0m\u001b[1;33m\u001b[0m\u001b[1;33m\u001b[0m\u001b[0m\n\u001b[0m\u001b[0;32m     25\u001b[0m \u001b[0mprint\u001b[0m\u001b[1;33m(\u001b[0m\u001b[0msearch_substr\u001b[0m\u001b[1;33m(\u001b[0m\u001b[1;34m'\\a\\a\\a\\a'\u001b[0m\u001b[1;33m,\u001b[0m \u001b[1;34m'\\a\\a'\u001b[0m\u001b[1;33m)\u001b[0m\u001b[1;33m,\u001b[0m \u001b[1;36m3\u001b[0m\u001b[1;33m)\u001b[0m\u001b[1;33m\u001b[0m\u001b[1;33m\u001b[0m\u001b[0m\n\u001b[0;32m     26\u001b[0m \u001b[0mprint\u001b[0m\u001b[1;33m(\u001b[0m\u001b[0msearch_substr\u001b[0m\u001b[1;33m(\u001b[0m\u001b[1;34m'\\a\\a\\a\\a'\u001b[0m\u001b[1;33m,\u001b[0m \u001b[1;34m'\\a\\a'\u001b[0m\u001b[1;33m,\u001b[0m \u001b[1;32mFalse\u001b[0m\u001b[1;33m)\u001b[0m\u001b[1;33m,\u001b[0m \u001b[1;36m2\u001b[0m\u001b[1;33m)\u001b[0m\u001b[1;33m\u001b[0m\u001b[1;33m\u001b[0m\u001b[0m\n",
      "\u001b[1;32m<ipython-input-28-5af1328dbe75>\u001b[0m in \u001b[0;36msearch_substr\u001b[1;34m(full_text, search_text, allow_overlap)\u001b[0m\n\u001b[0;32m      4\u001b[0m     \u001b[1;32mif\u001b[0m \u001b[1;32mnot\u001b[0m \u001b[0msearch_text\u001b[0m\u001b[1;33m:\u001b[0m\u001b[1;33m\u001b[0m\u001b[1;33m\u001b[0m\u001b[0m\n\u001b[0;32m      5\u001b[0m         \u001b[1;32mreturn\u001b[0m \u001b[1;36m0\u001b[0m\u001b[1;33m\u001b[0m\u001b[1;33m\u001b[0m\u001b[0m\n\u001b[1;32m----> 6\u001b[1;33m     \u001b[1;32mreturn\u001b[0m \u001b[0mlen\u001b[0m\u001b[1;33m(\u001b[0m\u001b[0mre\u001b[0m\u001b[1;33m.\u001b[0m\u001b[0mfindall\u001b[0m\u001b[1;33m(\u001b[0m\u001b[1;34mr'(?={})'\u001b[0m\u001b[1;33m.\u001b[0m\u001b[0mformat\u001b[0m\u001b[1;33m(\u001b[0m\u001b[0msearch_text\u001b[0m\u001b[1;33m)\u001b[0m \u001b[1;32mif\u001b[0m \u001b[0mallow_overlap\u001b[0m \u001b[1;32melse\u001b[0m \u001b[1;34mr'{}'\u001b[0m\u001b[1;33m.\u001b[0m\u001b[0mformat\u001b[0m\u001b[1;33m(\u001b[0m\u001b[0msearch_text\u001b[0m\u001b[1;33m)\u001b[0m\u001b[1;33m,\u001b[0m \u001b[0mfull_text\u001b[0m\u001b[1;33m)\u001b[0m\u001b[1;33m)\u001b[0m\u001b[1;33m\u001b[0m\u001b[1;33m\u001b[0m\u001b[0m\n\u001b[0m\u001b[0;32m      7\u001b[0m     \u001b[1;31m#return len(re.findall(r'(?=search_text)' if allow_overlap else search_text, full_text))\u001b[0m\u001b[1;33m\u001b[0m\u001b[1;33m\u001b[0m\u001b[1;33m\u001b[0m\u001b[0m\n\u001b[0;32m      8\u001b[0m \u001b[1;33m\u001b[0m\u001b[0m\n",
      "\u001b[1;32mC:\\Anaconda3\\lib\\re.py\u001b[0m in \u001b[0;36mfindall\u001b[1;34m(pattern, string, flags)\u001b[0m\n\u001b[0;32m    221\u001b[0m \u001b[1;33m\u001b[0m\u001b[0m\n\u001b[0;32m    222\u001b[0m     Empty matches are included in the result.\"\"\"\n\u001b[1;32m--> 223\u001b[1;33m     \u001b[1;32mreturn\u001b[0m \u001b[0m_compile\u001b[0m\u001b[1;33m(\u001b[0m\u001b[0mpattern\u001b[0m\u001b[1;33m,\u001b[0m \u001b[0mflags\u001b[0m\u001b[1;33m)\u001b[0m\u001b[1;33m.\u001b[0m\u001b[0mfindall\u001b[0m\u001b[1;33m(\u001b[0m\u001b[0mstring\u001b[0m\u001b[1;33m)\u001b[0m\u001b[1;33m\u001b[0m\u001b[1;33m\u001b[0m\u001b[0m\n\u001b[0m\u001b[0;32m    224\u001b[0m \u001b[1;33m\u001b[0m\u001b[0m\n\u001b[0;32m    225\u001b[0m \u001b[1;32mdef\u001b[0m \u001b[0mfinditer\u001b[0m\u001b[1;33m(\u001b[0m\u001b[0mpattern\u001b[0m\u001b[1;33m,\u001b[0m \u001b[0mstring\u001b[0m\u001b[1;33m,\u001b[0m \u001b[0mflags\u001b[0m\u001b[1;33m=\u001b[0m\u001b[1;36m0\u001b[0m\u001b[1;33m)\u001b[0m\u001b[1;33m:\u001b[0m\u001b[1;33m\u001b[0m\u001b[1;33m\u001b[0m\u001b[0m\n",
      "\u001b[1;32mC:\\Anaconda3\\lib\\re.py\u001b[0m in \u001b[0;36m_compile\u001b[1;34m(pattern, flags)\u001b[0m\n\u001b[0;32m    284\u001b[0m     \u001b[1;32mif\u001b[0m \u001b[1;32mnot\u001b[0m \u001b[0msre_compile\u001b[0m\u001b[1;33m.\u001b[0m\u001b[0misstring\u001b[0m\u001b[1;33m(\u001b[0m\u001b[0mpattern\u001b[0m\u001b[1;33m)\u001b[0m\u001b[1;33m:\u001b[0m\u001b[1;33m\u001b[0m\u001b[1;33m\u001b[0m\u001b[0m\n\u001b[0;32m    285\u001b[0m         \u001b[1;32mraise\u001b[0m \u001b[0mTypeError\u001b[0m\u001b[1;33m(\u001b[0m\u001b[1;34m\"first argument must be string or compiled pattern\"\u001b[0m\u001b[1;33m)\u001b[0m\u001b[1;33m\u001b[0m\u001b[1;33m\u001b[0m\u001b[0m\n\u001b[1;32m--> 286\u001b[1;33m     \u001b[0mp\u001b[0m \u001b[1;33m=\u001b[0m \u001b[0msre_compile\u001b[0m\u001b[1;33m.\u001b[0m\u001b[0mcompile\u001b[0m\u001b[1;33m(\u001b[0m\u001b[0mpattern\u001b[0m\u001b[1;33m,\u001b[0m \u001b[0mflags\u001b[0m\u001b[1;33m)\u001b[0m\u001b[1;33m\u001b[0m\u001b[1;33m\u001b[0m\u001b[0m\n\u001b[0m\u001b[0;32m    287\u001b[0m     \u001b[1;32mif\u001b[0m \u001b[1;32mnot\u001b[0m \u001b[1;33m(\u001b[0m\u001b[0mflags\u001b[0m \u001b[1;33m&\u001b[0m \u001b[0mDEBUG\u001b[0m\u001b[1;33m)\u001b[0m\u001b[1;33m:\u001b[0m\u001b[1;33m\u001b[0m\u001b[1;33m\u001b[0m\u001b[0m\n\u001b[0;32m    288\u001b[0m         \u001b[1;32mif\u001b[0m \u001b[0mlen\u001b[0m\u001b[1;33m(\u001b[0m\u001b[0m_cache\u001b[0m\u001b[1;33m)\u001b[0m \u001b[1;33m>=\u001b[0m \u001b[0m_MAXCACHE\u001b[0m\u001b[1;33m:\u001b[0m\u001b[1;33m\u001b[0m\u001b[1;33m\u001b[0m\u001b[0m\n",
      "\u001b[1;32mC:\\Anaconda3\\lib\\sre_compile.py\u001b[0m in \u001b[0;36mcompile\u001b[1;34m(p, flags)\u001b[0m\n\u001b[0;32m    762\u001b[0m     \u001b[1;32mif\u001b[0m \u001b[0misstring\u001b[0m\u001b[1;33m(\u001b[0m\u001b[0mp\u001b[0m\u001b[1;33m)\u001b[0m\u001b[1;33m:\u001b[0m\u001b[1;33m\u001b[0m\u001b[1;33m\u001b[0m\u001b[0m\n\u001b[0;32m    763\u001b[0m         \u001b[0mpattern\u001b[0m \u001b[1;33m=\u001b[0m \u001b[0mp\u001b[0m\u001b[1;33m\u001b[0m\u001b[1;33m\u001b[0m\u001b[0m\n\u001b[1;32m--> 764\u001b[1;33m         \u001b[0mp\u001b[0m \u001b[1;33m=\u001b[0m \u001b[0msre_parse\u001b[0m\u001b[1;33m.\u001b[0m\u001b[0mparse\u001b[0m\u001b[1;33m(\u001b[0m\u001b[0mp\u001b[0m\u001b[1;33m,\u001b[0m \u001b[0mflags\u001b[0m\u001b[1;33m)\u001b[0m\u001b[1;33m\u001b[0m\u001b[1;33m\u001b[0m\u001b[0m\n\u001b[0m\u001b[0;32m    765\u001b[0m     \u001b[1;32melse\u001b[0m\u001b[1;33m:\u001b[0m\u001b[1;33m\u001b[0m\u001b[1;33m\u001b[0m\u001b[0m\n\u001b[0;32m    766\u001b[0m         \u001b[0mpattern\u001b[0m \u001b[1;33m=\u001b[0m \u001b[1;32mNone\u001b[0m\u001b[1;33m\u001b[0m\u001b[1;33m\u001b[0m\u001b[0m\n",
      "\u001b[1;32mC:\\Anaconda3\\lib\\sre_parse.py\u001b[0m in \u001b[0;36mparse\u001b[1;34m(str, flags, pattern)\u001b[0m\n\u001b[0;32m    928\u001b[0m \u001b[1;33m\u001b[0m\u001b[0m\n\u001b[0;32m    929\u001b[0m     \u001b[1;32mtry\u001b[0m\u001b[1;33m:\u001b[0m\u001b[1;33m\u001b[0m\u001b[1;33m\u001b[0m\u001b[0m\n\u001b[1;32m--> 930\u001b[1;33m         \u001b[0mp\u001b[0m \u001b[1;33m=\u001b[0m \u001b[0m_parse_sub\u001b[0m\u001b[1;33m(\u001b[0m\u001b[0msource\u001b[0m\u001b[1;33m,\u001b[0m \u001b[0mpattern\u001b[0m\u001b[1;33m,\u001b[0m \u001b[0mflags\u001b[0m \u001b[1;33m&\u001b[0m \u001b[0mSRE_FLAG_VERBOSE\u001b[0m\u001b[1;33m,\u001b[0m \u001b[1;36m0\u001b[0m\u001b[1;33m)\u001b[0m\u001b[1;33m\u001b[0m\u001b[1;33m\u001b[0m\u001b[0m\n\u001b[0m\u001b[0;32m    931\u001b[0m     \u001b[1;32mexcept\u001b[0m \u001b[0mVerbose\u001b[0m\u001b[1;33m:\u001b[0m\u001b[1;33m\u001b[0m\u001b[1;33m\u001b[0m\u001b[0m\n\u001b[0;32m    932\u001b[0m         \u001b[1;31m# the VERBOSE flag was switched on inside the pattern.  to be\u001b[0m\u001b[1;33m\u001b[0m\u001b[1;33m\u001b[0m\u001b[1;33m\u001b[0m\u001b[0m\n",
      "\u001b[1;32mC:\\Anaconda3\\lib\\sre_parse.py\u001b[0m in \u001b[0;36m_parse_sub\u001b[1;34m(source, state, verbose, nested)\u001b[0m\n\u001b[0;32m    424\u001b[0m     \u001b[1;32mwhile\u001b[0m \u001b[1;32mTrue\u001b[0m\u001b[1;33m:\u001b[0m\u001b[1;33m\u001b[0m\u001b[1;33m\u001b[0m\u001b[0m\n\u001b[0;32m    425\u001b[0m         itemsappend(_parse(source, state, verbose, nested + 1,\n\u001b[1;32m--> 426\u001b[1;33m                            not nested and not items))\n\u001b[0m\u001b[0;32m    427\u001b[0m         \u001b[1;32mif\u001b[0m \u001b[1;32mnot\u001b[0m \u001b[0msourcematch\u001b[0m\u001b[1;33m(\u001b[0m\u001b[1;34m\"|\"\u001b[0m\u001b[1;33m)\u001b[0m\u001b[1;33m:\u001b[0m\u001b[1;33m\u001b[0m\u001b[1;33m\u001b[0m\u001b[0m\n\u001b[0;32m    428\u001b[0m             \u001b[1;32mbreak\u001b[0m\u001b[1;33m\u001b[0m\u001b[1;33m\u001b[0m\u001b[0m\n",
      "\u001b[1;32mC:\\Anaconda3\\lib\\sre_parse.py\u001b[0m in \u001b[0;36m_parse\u001b[1;34m(source, state, verbose, nested, first)\u001b[0m\n\u001b[0;32m    740\u001b[0m                     \u001b[1;32mif\u001b[0m \u001b[1;32mnot\u001b[0m \u001b[0msourcematch\u001b[0m\u001b[1;33m(\u001b[0m\u001b[1;34m\")\"\u001b[0m\u001b[1;33m)\u001b[0m\u001b[1;33m:\u001b[0m\u001b[1;33m\u001b[0m\u001b[1;33m\u001b[0m\u001b[0m\n\u001b[0;32m    741\u001b[0m                         raise source.error(\"missing ), unterminated subpattern\",\n\u001b[1;32m--> 742\u001b[1;33m                                            source.tell() - start)\n\u001b[0m\u001b[0;32m    743\u001b[0m                     \u001b[1;32mif\u001b[0m \u001b[0mchar\u001b[0m \u001b[1;33m==\u001b[0m \u001b[1;34m\"=\"\u001b[0m\u001b[1;33m:\u001b[0m\u001b[1;33m\u001b[0m\u001b[1;33m\u001b[0m\u001b[0m\n\u001b[0;32m    744\u001b[0m                         \u001b[0msubpatternappend\u001b[0m\u001b[1;33m(\u001b[0m\u001b[1;33m(\u001b[0m\u001b[0mASSERT\u001b[0m\u001b[1;33m,\u001b[0m \u001b[1;33m(\u001b[0m\u001b[0mdir\u001b[0m\u001b[1;33m,\u001b[0m \u001b[0mp\u001b[0m\u001b[1;33m)\u001b[0m\u001b[1;33m)\u001b[0m\u001b[1;33m)\u001b[0m\u001b[1;33m\u001b[0m\u001b[1;33m\u001b[0m\u001b[0m\n",
      "\u001b[1;31merror\u001b[0m: missing ), unterminated subpattern at position 0"
     ]
    }
   ],
   "source": [
    "import re \n",
    "\n",
    "def search_substr(full_text, search_text, allow_overlap=True):\n",
    "    if not search_text:\n",
    "        return 0\n",
    "    return len(re.findall(r'(?={})'.format(search_text) if allow_overlap else r'{}'.format(search_text), full_text))\n",
    "    #return len(re.findall(r'(?=search_text)' if allow_overlap else search_text, full_text))\n",
    "    \n",
    "print(\"Should handle matches the simple way\")\n",
    "print(search_substr('aa_bb_cc_dd_bb_e', 'bb'), 2)\n",
    "print(search_substr('aaabbbcccc', 'bbb'), 1)\n",
    "print(search_substr('aaacccbbbcccc', 'cc'), 5)\n",
    "print(search_substr('aaa', 'aa'), 2)\n",
    "print(\"Should handle non-overlapping cases\")\n",
    "print(search_substr('aaa', 'aa',False), 1)\n",
    "print(search_substr('aaabbbaaa', 'bb',False), 1)\n",
    "print(\"Should handle empty strings on both sides\")\n",
    "print(search_substr('a', ''), 0)\n",
    "print(search_substr('', 'a'), 0)\n",
    "print(search_substr('', ''), 0)\n",
    "print(search_substr('', '',False), 0)\n",
    "print('My tests with special characters')\n",
    "print(search_substr(r'\\\\\\\\', r'\\\\'), '?') # gets broken without both r''\n",
    "print(search_substr('\\a\\a\\a\\a', '\\a\\a'), 3)\n",
    "print(search_substr('\\a\\a\\a\\a', '\\a\\a', False), 2)"
   ]
  },
  {
   "cell_type": "code",
   "execution_count": 21,
   "metadata": {},
   "outputs": [
    {
     "ename": "SyntaxError",
     "evalue": "EOL while scanning string literal (<ipython-input-21-d44a383620ab>, line 1)",
     "output_type": "error",
     "traceback": [
      "\u001b[1;36m  File \u001b[1;32m\"<ipython-input-21-d44a383620ab>\"\u001b[1;36m, line \u001b[1;32m1\u001b[0m\n\u001b[1;33m    '\\'\u001b[0m\n\u001b[1;37m       ^\u001b[0m\n\u001b[1;31mSyntaxError\u001b[0m\u001b[1;31m:\u001b[0m EOL while scanning string literal\n"
     ]
    }
   ],
   "source": [
    "'\\'"
   ]
  },
  {
   "cell_type": "code",
   "execution_count": 23,
   "metadata": {},
   "outputs": [
    {
     "data": {
      "text/plain": [
       "'\\\\\\\\'"
      ]
     },
     "execution_count": 23,
     "metadata": {},
     "output_type": "execute_result"
    }
   ],
   "source": [
    "r'\\\\'"
   ]
  },
  {
   "cell_type": "code",
   "execution_count": 24,
   "metadata": {},
   "outputs": [
    {
     "data": {
      "text/plain": [
       "'\\\\'"
      ]
     },
     "execution_count": 24,
     "metadata": {},
     "output_type": "execute_result"
    }
   ],
   "source": [
    "'\\\\'"
   ]
  },
  {
   "cell_type": "code",
   "execution_count": null,
   "metadata": {},
   "outputs": [],
   "source": []
  }
 ],
 "metadata": {
  "kernelspec": {
   "display_name": "Python 3",
   "language": "python",
   "name": "python3"
  },
  "language_info": {
   "codemirror_mode": {
    "name": "ipython",
    "version": 3
   },
   "file_extension": ".py",
   "mimetype": "text/x-python",
   "name": "python",
   "nbconvert_exporter": "python",
   "pygments_lexer": "ipython3",
   "version": "3.7.3"
  }
 },
 "nbformat": 4,
 "nbformat_minor": 2
}

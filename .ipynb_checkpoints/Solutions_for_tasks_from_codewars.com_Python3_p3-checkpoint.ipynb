{
 "cells": [
  {
   "cell_type": "markdown",
   "metadata": {},
   "source": [
    "20210101"
   ]
  },
  {
   "cell_type": "markdown",
   "metadata": {},
   "source": [
    "### Consecutive Differences\n",
    "https://www.codewars.com/kata/5ff22b6e833a9300180bb953  \n",
    "7 kyu\n",
    "\n",
    "Given a list of integers, find the positive difference between each consecutive pair of numbers, and put this into a new list of differences. Then, find the differences between consecutive pairs in this new list, and repeat until the list has a length of 1. Then, return the single value.\n",
    "\n",
    "The list will only contain integers, and will not be empty.\n",
    "\n",
    "For example:\n",
    "\n",
    "differences([1, 2, 3]) => [1, 1] => [0] => 0  \n",
    "differences([1, 5, 2, 7, 8, 9, 0]) => [4, 3, 5, 1, 1, 9] => [1, 2, 4, 0, 8] => ... => 1  \n",
    "differences([2, 3, 1]) => [1, 2] => 1"
   ]
  },
  {
   "cell_type": "markdown",
   "metadata": {},
   "source": [
    "__My solution:__"
   ]
  },
  {
   "cell_type": "code",
   "execution_count": 6,
   "metadata": {},
   "outputs": [
    {
     "name": "stdout",
     "output_type": "stream",
     "text": [
      "0 0\n",
      "1 1\n",
      "1 1\n",
      "2 2\n"
     ]
    }
   ],
   "source": [
    "def differences(lst):\n",
    "    if len(lst) == 1:\n",
    "        return lst[0]\n",
    "    \n",
    "    return differences([abs(lst[i] - lst[i + 1]) for i in range(0, len(lst) - 1)])\n",
    "\n",
    "\n",
    "def testing(n, res):\n",
    "    print(differences(n), res)\n",
    "\n",
    "testing([1, 2, 3], 0)\n",
    "testing([1, 5, 2, 7, 8, 9, 0], 1)\n",
    "testing([2, 3, 1], 1)\n",
    "testing([-1, 2, 3], 2)"
   ]
  },
  {
   "cell_type": "markdown",
   "metadata": {},
   "source": [
    "20210102"
   ]
  },
  {
   "cell_type": "markdown",
   "metadata": {},
   "source": [
    "### Calculate Parity bit!\n",
    "https://www.codewars.com/kata/5df261342964c80028345a0a  \n",
    "7 kyu\n",
    "\n",
    "A parity bit, or check bit, is a bit added to a string of bits to ensure that the total number of 1-bits in the string is even or odd. Parity bits are used as the simplest form of error detecting code.\n",
    "\n",
    "You have two parameters, one being the wanted parity (always 'even' or 'odd'), and the other being the binary representation of the number you want to check.\n",
    "\n",
    "Your task is to return an integer (0 or 1), whose the parity bit you need to add to the binary representation so that the parity of the resulting string is as expected.\n",
    "\n",
    "Example:\n",
    "\n",
    "  Parity: 'even'  \n",
    "  Bin: '0101010'  \n",
    "  Result: 1\n",
    "  \n",
    "Because there is an odd number of 1-bits (3) you need to put another 1 to it to get an even number of 1-bits.\n",
    "\n",
    "For more information: https://en.wikipedia.org/wiki/Parity_bit"
   ]
  },
  {
   "cell_type": "markdown",
   "metadata": {},
   "source": [
    "__My solutions:__"
   ]
  },
  {
   "cell_type": "markdown",
   "metadata": {},
   "source": [
    "__#1__"
   ]
  },
  {
   "cell_type": "code",
   "execution_count": 21,
   "metadata": {},
   "outputs": [
    {
     "name": "stdout",
     "output_type": "stream",
     "text": [
      "1 1\n",
      "0 0\n",
      "0 0\n",
      "1 1\n"
     ]
    }
   ],
   "source": [
    "def check_parity(parity, bin_str): \n",
    "    return bin_str.count('1') & 1 if parity == 'even' else bin_str.count('1') & 1 ^ 1\n",
    "\n",
    "\n",
    "print(check_parity('even','101010'), 1)\n",
    "print(check_parity('odd','101010'), 0)\n",
    "print(check_parity('even','101011'), 0)\n",
    "print(check_parity('odd','101011'), 1)"
   ]
  },
  {
   "cell_type": "markdown",
   "metadata": {},
   "source": [
    "__#2__"
   ]
  },
  {
   "cell_type": "code",
   "execution_count": 23,
   "metadata": {},
   "outputs": [
    {
     "name": "stdout",
     "output_type": "stream",
     "text": [
      "1 1\n",
      "0 0\n",
      "0 0\n",
      "1 1\n"
     ]
    }
   ],
   "source": [
    "def check_parity(parity, bin_str): \n",
    "    return bin_str.count('1') & 1 if parity == 'even' else int(not bin_str.count('1') & 1)\n",
    "\n",
    "\n",
    "print(check_parity('even','101010'), 1)\n",
    "print(check_parity('odd','101010'), 0)\n",
    "print(check_parity('even','101011'), 0)\n",
    "print(check_parity('odd','101011'), 1)"
   ]
  },
  {
   "cell_type": "code",
   "execution_count": 10,
   "metadata": {},
   "outputs": [
    {
     "data": {
      "text/plain": [
       "0"
      ]
     },
     "execution_count": 10,
     "metadata": {},
     "output_type": "execute_result"
    }
   ],
   "source": [
    "100 & 1"
   ]
  },
  {
   "cell_type": "code",
   "execution_count": 11,
   "metadata": {},
   "outputs": [
    {
     "data": {
      "text/plain": [
       "1"
      ]
     },
     "execution_count": 11,
     "metadata": {},
     "output_type": "execute_result"
    }
   ],
   "source": [
    "11 & 1"
   ]
  },
  {
   "cell_type": "code",
   "execution_count": 12,
   "metadata": {},
   "outputs": [
    {
     "data": {
      "text/plain": [
       "0"
      ]
     },
     "execution_count": 12,
     "metadata": {},
     "output_type": "execute_result"
    }
   ],
   "source": [
    "100 & 0"
   ]
  },
  {
   "cell_type": "code",
   "execution_count": 13,
   "metadata": {},
   "outputs": [
    {
     "data": {
      "text/plain": [
       "100"
      ]
     },
     "execution_count": 13,
     "metadata": {},
     "output_type": "execute_result"
    }
   ],
   "source": [
    "100 | 0"
   ]
  },
  {
   "cell_type": "code",
   "execution_count": 14,
   "metadata": {},
   "outputs": [
    {
     "data": {
      "text/plain": [
       "-1"
      ]
     },
     "execution_count": 14,
     "metadata": {},
     "output_type": "execute_result"
    }
   ],
   "source": [
    "~0"
   ]
  },
  {
   "cell_type": "code",
   "execution_count": 15,
   "metadata": {},
   "outputs": [
    {
     "data": {
      "text/plain": [
       "0"
      ]
     },
     "execution_count": 15,
     "metadata": {},
     "output_type": "execute_result"
    }
   ],
   "source": [
    "-0"
   ]
  },
  {
   "cell_type": "code",
   "execution_count": 16,
   "metadata": {},
   "outputs": [
    {
     "data": {
      "text/plain": [
       "1"
      ]
     },
     "execution_count": 16,
     "metadata": {},
     "output_type": "execute_result"
    }
   ],
   "source": [
    "0 | 1"
   ]
  },
  {
   "cell_type": "code",
   "execution_count": 17,
   "metadata": {},
   "outputs": [
    {
     "data": {
      "text/plain": [
       "1"
      ]
     },
     "execution_count": 17,
     "metadata": {},
     "output_type": "execute_result"
    }
   ],
   "source": [
    "0 ^ 1"
   ]
  },
  {
   "cell_type": "code",
   "execution_count": 18,
   "metadata": {},
   "outputs": [
    {
     "data": {
      "text/plain": [
       "0"
      ]
     },
     "execution_count": 18,
     "metadata": {},
     "output_type": "execute_result"
    }
   ],
   "source": [
    "1 ^ 1"
   ]
  },
  {
   "cell_type": "markdown",
   "metadata": {},
   "source": [
    "20210103"
   ]
  },
  {
   "cell_type": "markdown",
   "metadata": {},
   "source": [
    "### Maximum Multiple\n",
    "https://www.codewars.com/kata/5aba780a6a176b029800041c  \n",
    "7 kyu\n",
    "\n",
    "Given a Divisor and a Bound, Find the largest integer N, Such That,\n",
    "\n",
    "Conditions:  \n",
    "N is divisible by divisor  \n",
    "N is less than or equal to bound  \n",
    "N is greater than 0.\n",
    "\n",
    "Notes  \n",
    "\n",
    "The parameters (divisor, bound) passed to the function are only positive values.  \n",
    "It's guaranteed that a divisor is Found.  \n",
    "\n",
    "Input >> Output Examples\n",
    "\n",
    "maxMultiple (2,7) ==> return (6)  \n",
    "Explanation:  \n",
    "(6) is divisible by (2), (6) is less than or equal to bound (7), and (6) is > 0.\n",
    "\n",
    "maxMultiple (10,50)  ==> return (50)  \n",
    "Explanation:  \n",
    "(50) is divisible by (10), (50) is less than or equal to bound (50), and (50) is > 0.\n",
    "\n",
    "maxMultiple (37,200) ==> return (185)  \n",
    "Explanation:  \n",
    "(185) is divisible by (37), (185) is less than or equal to bound (200) , and (185) is > 0."
   ]
  },
  {
   "cell_type": "markdown",
   "metadata": {},
   "source": [
    "__My solution:__"
   ]
  },
  {
   "cell_type": "code",
   "execution_count": 22,
   "metadata": {},
   "outputs": [
    {
     "name": "stdout",
     "output_type": "stream",
     "text": [
      "6 6\n",
      "9 9\n",
      "14 14\n",
      "50 50\n",
      "185 185\n",
      "98 98\n"
     ]
    }
   ],
   "source": [
    "def max_multiple(divisor, bound):\n",
    "    return bound // divisor * divisor\n",
    "\n",
    "\n",
    "print(max_multiple(2,7),6)\n",
    "print(max_multiple(3,10),9)\n",
    "print(max_multiple(7,17),14)\n",
    "print(max_multiple(10,50),50)\n",
    "print(max_multiple(37,200),185)\n",
    "print(max_multiple(7,100),98)"
   ]
  },
  {
   "cell_type": "markdown",
   "metadata": {},
   "source": [
    "### JavaScript Array Filter\n",
    "https://www.codewars.com/kata/514a6336889283a3d2000001  \n",
    "7 kyu\n",
    "\n",
    "In Python, there is a built-in filter function that operates similarly to JS's filter. For more information on how to use this function, visit https://docs.python.org/3/library/functions.html#filter\n",
    "\n",
    "The solution would work like the following:\n",
    "\n",
    "get_even_numbers([2,4,5,6]) => [2,4,6]"
   ]
  },
  {
   "cell_type": "markdown",
   "metadata": {},
   "source": [
    "__My solutions:__"
   ]
  },
  {
   "cell_type": "markdown",
   "metadata": {},
   "source": [
    "__#1__"
   ]
  },
  {
   "cell_type": "code",
   "execution_count": 33,
   "metadata": {},
   "outputs": [
    {
     "name": "stdout",
     "output_type": "stream",
     "text": [
      "[2, 4, 6] [2, 4, 6]\n",
      "[] []\n",
      "[] []\n",
      "[2] [2]\n",
      "[2, 4] [2, 4]\n",
      "[2, 4, 6, 8] [2, 4, 6, 8]\n"
     ]
    }
   ],
   "source": [
    "def get_even_numbers(arr):\n",
    "    return list(filter(lambda a: not a & 1, arr))\n",
    "\n",
    "\n",
    "test_data = [\n",
    "    ([2,4,5,6], [2,4,6]),\n",
    "    ([], []),\n",
    "    ([1], []),\n",
    "    ([1, 2], [2]),\n",
    "    ([1,2,3,4,5], [2,4]),\n",
    "    ([2,4,6,8], [2,4,6,8])\n",
    "]\n",
    "for (data, exp) in test_data:      \n",
    "    actual = get_even_numbers(data)\n",
    "    print(actual, exp)"
   ]
  },
  {
   "cell_type": "markdown",
   "metadata": {},
   "source": [
    "__#2__"
   ]
  },
  {
   "cell_type": "code",
   "execution_count": 34,
   "metadata": {},
   "outputs": [
    {
     "name": "stdout",
     "output_type": "stream",
     "text": [
      "[2, 4, 6] [2, 4, 6]\n",
      "[] []\n",
      "[] []\n",
      "[2] [2]\n",
      "[2, 4] [2, 4]\n",
      "[2, 4, 6, 8] [2, 4, 6, 8]\n"
     ]
    }
   ],
   "source": [
    "def get_even_numbers(arr):\n",
    "    return [a for a in arr if not a & 1]\n",
    "\n",
    "\n",
    "test_data = [\n",
    "    ([2,4,5,6], [2,4,6]),\n",
    "    ([], []),\n",
    "    ([1], []),\n",
    "    ([1, 2], [2]),\n",
    "    ([1,2,3,4,5], [2,4]),\n",
    "    ([2,4,6,8], [2,4,6,8])\n",
    "]\n",
    "for (data, exp) in test_data:      \n",
    "    actual = get_even_numbers(data)\n",
    "    print(actual, exp)"
   ]
  },
  {
   "cell_type": "markdown",
   "metadata": {},
   "source": [
    "20210104"
   ]
  },
  {
   "cell_type": "markdown",
   "metadata": {},
   "source": [
    "### Float Precision\n",
    "https://www.codewars.com/kata/5143d157ceb46d6a61000001  \n",
    "7 kyu\n",
    "\n",
    "Update the solution method to round the argument value to the closest precision of two. The argument will always be a float.\n",
    "\n",
    "solution(23.23456) # should == 23.23  \n",
    "solution(1.546) # should == 1.55  "
   ]
  },
  {
   "cell_type": "markdown",
   "metadata": {},
   "source": [
    "__My solution:__"
   ]
  },
  {
   "cell_type": "code",
   "execution_count": 35,
   "metadata": {},
   "outputs": [
    {
     "name": "stdout",
     "output_type": "stream",
     "text": [
      "2.34 2.34\n",
      "5.68 5.68\n"
     ]
    }
   ],
   "source": [
    "def solution(n):\n",
    "    return round(n, 2)\n",
    "\n",
    "\n",
    "print(solution(2.34), 2.34)\n",
    "print(solution(5.678), 5.68)"
   ]
  },
  {
   "cell_type": "markdown",
   "metadata": {},
   "source": [
    "__My unsuccessful attempts:__"
   ]
  },
  {
   "cell_type": "code",
   "execution_count": 39,
   "metadata": {},
   "outputs": [
    {
     "name": "stdout",
     "output_type": "stream",
     "text": [
      "2.34 2.34\n",
      "5.68 5.68\n"
     ]
    }
   ],
   "source": [
    "def solution(n):\n",
    "    return f'{n:.3}'\n",
    "\n",
    "\n",
    "print(solution(2.34), 2.34)\n",
    "print(solution(5.678), 5.68)"
   ]
  },
  {
   "cell_type": "markdown",
   "metadata": {},
   "source": [
    "### Retrieve array value by index with default\n",
    "https://www.codewars.com/kata/515ceaebcc1dde8870000001  \n",
    "7 kyu\n",
    "\n",
    "Complete the solution. It should try to retrieve the value of the array at the index provided. If the index is out of the array's max bounds then it should return the default value instead.\n",
    "\n",
    "Example:\n",
    "\n",
    "data = ['a', 'b', 'c']  \n",
    "solution(data, 1, 'd') # should == 'b'  \n",
    "solution(data, 5, 'd') # should == 'd'  \n",
    "\n",
    "Negative values work as long as they aren't out of the length bounds:    \n",
    "solution(data, -1, 'd') # should == 'c'  \n",
    "solution(data, -5, 'd') # should == 'd'"
   ]
  },
  {
   "cell_type": "markdown",
   "metadata": {},
   "source": [
    "__My solutions:__"
   ]
  },
  {
   "cell_type": "markdown",
   "metadata": {},
   "source": [
    "__#1__"
   ]
  },
  {
   "cell_type": "code",
   "execution_count": 44,
   "metadata": {},
   "outputs": [
    {
     "name": "stdout",
     "output_type": "stream",
     "text": [
      "1 1\n",
      "2 2\n",
      "3 3\n",
      "a a\n",
      "1 1\n",
      "a a\n",
      "None None\n"
     ]
    }
   ],
   "source": [
    "def solution(items, index, default_value):\n",
    "    try:\n",
    "        return items[index]\n",
    "    except IndexError:\n",
    "        return default_value\n",
    "\n",
    "\n",
    "rng = list(range(1, 4))\n",
    "print(solution(rng, 0, 'a'), 1)\n",
    "print(solution(rng, 1, 'a'), 2)\n",
    "print(solution(rng, -1, 'a'), 3)\n",
    "print(solution(rng, -5, 'a'), 'a')\n",
    "print(solution(rng, -3, 'a'), 1)\n",
    "\n",
    "rng = list(range(1, 6))\n",
    "print(solution(range(1, 6), 10, 'a'), 'a')\n",
    "print(solution([None, None], 0, 'a'), None)"
   ]
  },
  {
   "cell_type": "markdown",
   "metadata": {},
   "source": [
    "__#2__"
   ]
  },
  {
   "cell_type": "code",
   "execution_count": 45,
   "metadata": {},
   "outputs": [
    {
     "name": "stdout",
     "output_type": "stream",
     "text": [
      "1 1\n",
      "2 2\n",
      "3 3\n",
      "a a\n",
      "1 1\n",
      "a a\n",
      "None None\n"
     ]
    }
   ],
   "source": [
    "def solution(items, index, default_value):\n",
    "    return items[index] if -len(items) <= index < len(items) else default_value\n",
    "\n",
    "\n",
    "rng = list(range(1, 4))\n",
    "print(solution(rng, 0, 'a'), 1)\n",
    "print(solution(rng, 1, 'a'), 2)\n",
    "print(solution(rng, -1, 'a'), 3)\n",
    "print(solution(rng, -5, 'a'), 'a')\n",
    "print(solution(rng, -3, 'a'), 1)\n",
    "\n",
    "rng = list(range(1, 6))\n",
    "print(solution(range(1, 6), 10, 'a'), 'a')\n",
    "print(solution([None, None], 0, 'a'), None)"
   ]
  },
  {
   "cell_type": "code",
   "execution_count": 40,
   "metadata": {},
   "outputs": [
    {
     "data": {
      "text/plain": [
       "3"
      ]
     },
     "execution_count": 40,
     "metadata": {},
     "output_type": "execute_result"
    }
   ],
   "source": [
    "a = [1, 2, 3]\n",
    "a[-1]"
   ]
  },
  {
   "cell_type": "code",
   "execution_count": 42,
   "metadata": {},
   "outputs": [
    {
     "ename": "IndexError",
     "evalue": "list index out of range",
     "output_type": "error",
     "traceback": [
      "\u001b[1;31m---------------------------------------------------------------------------\u001b[0m",
      "\u001b[1;31mIndexError\u001b[0m                                Traceback (most recent call last)",
      "\u001b[1;32m<ipython-input-42-4b43f82cd5c9>\u001b[0m in \u001b[0;36m<module>\u001b[1;34m\u001b[0m\n\u001b[1;32m----> 1\u001b[1;33m \u001b[0ma\u001b[0m\u001b[1;33m[\u001b[0m\u001b[1;33m-\u001b[0m\u001b[1;36m4\u001b[0m\u001b[1;33m]\u001b[0m\u001b[1;33m\u001b[0m\u001b[1;33m\u001b[0m\u001b[0m\n\u001b[0m",
      "\u001b[1;31mIndexError\u001b[0m: list index out of range"
     ]
    }
   ],
   "source": [
    "a[-4]"
   ]
  },
  {
   "cell_type": "markdown",
   "metadata": {},
   "source": [
    "20210105"
   ]
  },
  {
   "cell_type": "markdown",
   "metadata": {},
   "source": [
    "### Largest 5 digit number in a series\n",
    "https://www.codewars.com/kata/51675d17e0c1bed195000001  \n",
    "7 kyu\n",
    "\n",
    "In the following 6 digit number:\n",
    "\n",
    "283910\n",
    "91 is the greatest sequence of 2 consecutive digits.\n",
    "\n",
    "In the following 10 digit number:\n",
    "\n",
    "1234567890  \n",
    "67890 is the greatest sequence of 5 consecutive digits.\n",
    "\n",
    "Complete the solution so that it returns the greatest sequence of five consecutive digits found within the number given. The number will be passed in as a string of only digits. It should return a five digit integer. The number passed may be as large as 1000 digits.\n",
    "\n",
    "Adapted from ProjectEuler.net"
   ]
  },
  {
   "cell_type": "markdown",
   "metadata": {},
   "source": [
    "__My solution:__"
   ]
  },
  {
   "cell_type": "code",
   "execution_count": 57,
   "metadata": {},
   "outputs": [
    {
     "name": "stdout",
     "output_type": "stream",
     "text": [
      "99890 99890\n",
      "98765 98765\n",
      "10000 10000\n",
      "23 23\n",
      "0 0\n",
      "23 23\n"
     ]
    }
   ],
   "source": [
    "def solution(digits):\n",
    "    res = 0\n",
    "    for i in range(len(digits) - 4):\n",
    "        res = max(res, int(digits[i: i + 5]))\n",
    "    return res\n",
    "\n",
    "\n",
    "number = \"7316717653133062491922511967442657474235534919493496983520368542506326239578318016984801869478851843858615607891129494954595017379583319528532088055111254069874715852386305071569329096329522744304355766896648950445244523161731856403098711121722383113622298934233803081353362766142828064444866452387493035890729629049156044077239071381051585930796086670172427121883998797908792274921901699720888093776657273330010533678812202354218097512545405947522435258490771167055601360483958644670632441572215539753123457977846174064955149290862569321978468622482839722413756570560574902614079729686524145351004748216637048440319989000889524345065854122758866688116427171479924442928230863465674813919123162824586178664583591245665294765456828489128831426076900422421902267105562632111110937054421750694165896040807198403850962455444362981230987879927244284909188845801561660979191338754992005240636899125607176060588611646710940507754100225698315520005593572972571636269561882670428252483600823257540920752963450\"\n",
    "actual = solution(number);\n",
    "\n",
    "assert actual != 0, 'solution returned zero'\n",
    "assert actual, 'solution did not return a value'\n",
    "\n",
    "print(actual, 99890)\n",
    "print(solution('1234567898765'), 98765)\n",
    "print(solution('1000023'), 10000)\n",
    "print(solution('0000023'), 23)\n",
    "print(solution('23'), 0)  # str digits should  have at least 5 elements\n",
    "print(solution('00023'), 23)"
   ]
  },
  {
   "cell_type": "code",
   "execution_count": 55,
   "metadata": {},
   "outputs": [
    {
     "data": {
      "text/plain": [
       "23"
      ]
     },
     "execution_count": 55,
     "metadata": {},
     "output_type": "execute_result"
    }
   ],
   "source": [
    "int('00023')"
   ]
  },
  {
   "cell_type": "markdown",
   "metadata": {},
   "source": [
    "20210106"
   ]
  },
  {
   "cell_type": "markdown",
   "metadata": {},
   "source": [
    "### Refactored Greeting\n",
    "https://www.codewars.com/kata/5121303128ef4b495f000001  \n",
    "7 kyu\n",
    "\n",
    "The following code could use a bit of object-oriented artistry. While it's a simple method and works just fine as it is, in a larger system it's best to organize methods into classes/objects. (Or, at least, something similar depending on your language)\n",
    "\n",
    "Refactor the following code so that it belongs to a Person class/object. Each Person instance will have a greet method. The Person instance should be instantiated with a name so that it no longer has to be passed into each greet method call.\n",
    "\n",
    "Here is how the final refactored code would be used:\n",
    "\n",
    "joe = Person('Joe')  \n",
    "joe.greet('Kate') # should return 'Hello Kate, my name is Joe'  \n",
    "joe.name          # should == 'Joe'  "
   ]
  },
  {
   "cell_type": "markdown",
   "metadata": {},
   "source": [
    "__My solution:__"
   ]
  },
  {
   "cell_type": "code",
   "execution_count": 58,
   "metadata": {},
   "outputs": [
    {
     "name": "stdout",
     "output_type": "stream",
     "text": [
      "Hello Jill, my name is Jack Hello Jill, my name is Jack\n",
      "Hello Mary, my name is Jack Hello Mary, my name is Jack\n",
      "Hello Jack, my name is Jill Hello Jack, my name is Jill\n",
      "Jill Jill\n"
     ]
    }
   ],
   "source": [
    "class Person:\n",
    "    def __init__(self, my_name):\n",
    "        self.name = my_name\n",
    "        \n",
    "    def greet(self, your_name):\n",
    "        return f'Hello {your_name}, my name is {self.name}'\n",
    "\n",
    "jack = Person(\"Jack\")\n",
    "jill = Person(\"Jill\")\n",
    "\n",
    "print(jack.greet(\"Jill\"), \"Hello Jill, my name is Jack\")\n",
    "print(jack.greet(\"Mary\"), \"Hello Mary, my name is Jack\")\n",
    "\n",
    "print(jill.greet(\"Jack\"), \"Hello Jack, my name is Jill\")\n",
    "print(jill.name, 'Jill')"
   ]
  },
  {
   "cell_type": "markdown",
   "metadata": {},
   "source": [
    "### Sort Numbers\n",
    "https://www.codewars.com/kata/5174a4c0f2769dd8b1000003  \n",
    "7 kyu\n",
    "\n",
    "Finish the solution so that it sorts the passed in array of numbers. If the function passes in an empty array or null/nil value then it should return an empty array.\n",
    "\n",
    "For example:\n",
    "\n",
    "solution([1,2,3,10,5]) # should return [1,2,3,5,10]  \n",
    "solution(None) # should return []"
   ]
  },
  {
   "cell_type": "markdown",
   "metadata": {},
   "source": [
    "__My solution:__"
   ]
  },
  {
   "cell_type": "code",
   "execution_count": 59,
   "metadata": {},
   "outputs": [
    {
     "name": "stdout",
     "output_type": "stream",
     "text": [
      "[1, 2, 3, 5, 10] [1, 2, 3, 5, 10]\n",
      "[] []\n",
      "[] []\n",
      "[2, 10, 20] [2, 10, 20]\n",
      "[2, 10, 20] [2, 10, 20]\n"
     ]
    }
   ],
   "source": [
    "def solution(nums):\n",
    "    return sorted(nums) if nums else []\n",
    "\n",
    "\n",
    "print(solution([1,2,3,10,5]), [1,2,3,5,10])\n",
    "print(solution(None), [])\n",
    "print(solution([]), [])\n",
    "print(solution([20,2,10]), [2,10,20])\n",
    "print(solution([2,20,10]), [2,10,20])"
   ]
  },
  {
   "cell_type": "code",
   "execution_count": null,
   "metadata": {},
   "outputs": [],
   "source": []
  }
 ],
 "metadata": {
  "kernelspec": {
   "display_name": "Python 3",
   "language": "python",
   "name": "python3"
  },
  "language_info": {
   "codemirror_mode": {
    "name": "ipython",
    "version": 3
   },
   "file_extension": ".py",
   "mimetype": "text/x-python",
   "name": "python",
   "nbconvert_exporter": "python",
   "pygments_lexer": "ipython3",
   "version": "3.7.3"
  }
 },
 "nbformat": 4,
 "nbformat_minor": 2
}

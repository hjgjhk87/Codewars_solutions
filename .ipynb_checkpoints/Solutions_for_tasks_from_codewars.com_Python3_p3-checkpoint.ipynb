{
 "cells": [
  {
   "cell_type": "markdown",
   "metadata": {},
   "source": [
    "20210101"
   ]
  },
  {
   "cell_type": "markdown",
   "metadata": {},
   "source": [
    "### Consecutive Differences\n",
    "https://www.codewars.com/kata/5ff22b6e833a9300180bb953  \n",
    "7 kyu\n",
    "\n",
    "Given a list of integers, find the positive difference between each consecutive pair of numbers, and put this into a new list of differences. Then, find the differences between consecutive pairs in this new list, and repeat until the list has a length of 1. Then, return the single value.\n",
    "\n",
    "The list will only contain integers, and will not be empty.\n",
    "\n",
    "For example:\n",
    "\n",
    "differences([1, 2, 3]) => [1, 1] => [0] => 0  \n",
    "differences([1, 5, 2, 7, 8, 9, 0]) => [4, 3, 5, 1, 1, 9] => [1, 2, 4, 0, 8] => ... => 1  \n",
    "differences([2, 3, 1]) => [1, 2] => 1"
   ]
  },
  {
   "cell_type": "markdown",
   "metadata": {},
   "source": [
    "__My solution:__"
   ]
  },
  {
   "cell_type": "code",
   "execution_count": 6,
   "metadata": {},
   "outputs": [
    {
     "name": "stdout",
     "output_type": "stream",
     "text": [
      "0 0\n",
      "1 1\n",
      "1 1\n",
      "2 2\n"
     ]
    }
   ],
   "source": [
    "def differences(lst):\n",
    "    if len(lst) == 1:\n",
    "        return lst[0]\n",
    "    \n",
    "    return differences([abs(lst[i] - lst[i + 1]) for i in range(0, len(lst) - 1)])\n",
    "\n",
    "\n",
    "def testing(n, res):\n",
    "    print(differences(n), res)\n",
    "\n",
    "testing([1, 2, 3], 0)\n",
    "testing([1, 5, 2, 7, 8, 9, 0], 1)\n",
    "testing([2, 3, 1], 1)\n",
    "testing([-1, 2, 3], 2)"
   ]
  },
  {
   "cell_type": "markdown",
   "metadata": {},
   "source": [
    "20210102"
   ]
  },
  {
   "cell_type": "markdown",
   "metadata": {},
   "source": [
    "### Calculate Parity bit!\n",
    "https://www.codewars.com/kata/5df261342964c80028345a0a  \n",
    "7 kyu\n",
    "\n",
    "A parity bit, or check bit, is a bit added to a string of bits to ensure that the total number of 1-bits in the string is even or odd. Parity bits are used as the simplest form of error detecting code.\n",
    "\n",
    "You have two parameters, one being the wanted parity (always 'even' or 'odd'), and the other being the binary representation of the number you want to check.\n",
    "\n",
    "Your task is to return an integer (0 or 1), whose the parity bit you need to add to the binary representation so that the parity of the resulting string is as expected.\n",
    "\n",
    "Example:\n",
    "\n",
    "  Parity: 'even'  \n",
    "  Bin: '0101010'  \n",
    "  Result: 1\n",
    "  \n",
    "Because there is an odd number of 1-bits (3) you need to put another 1 to it to get an even number of 1-bits.\n",
    "\n",
    "For more information: https://en.wikipedia.org/wiki/Parity_bit"
   ]
  },
  {
   "cell_type": "markdown",
   "metadata": {},
   "source": [
    "__My solutions:__"
   ]
  },
  {
   "cell_type": "markdown",
   "metadata": {},
   "source": [
    "__#1__"
   ]
  },
  {
   "cell_type": "code",
   "execution_count": 21,
   "metadata": {},
   "outputs": [
    {
     "name": "stdout",
     "output_type": "stream",
     "text": [
      "1 1\n",
      "0 0\n",
      "0 0\n",
      "1 1\n"
     ]
    }
   ],
   "source": [
    "def check_parity(parity, bin_str): \n",
    "    return bin_str.count('1') & 1 if parity == 'even' else bin_str.count('1') & 1 ^ 1\n",
    "\n",
    "\n",
    "print(check_parity('even','101010'), 1)\n",
    "print(check_parity('odd','101010'), 0)\n",
    "print(check_parity('even','101011'), 0)\n",
    "print(check_parity('odd','101011'), 1)"
   ]
  },
  {
   "cell_type": "markdown",
   "metadata": {},
   "source": [
    "__#2__"
   ]
  },
  {
   "cell_type": "code",
   "execution_count": 23,
   "metadata": {},
   "outputs": [
    {
     "name": "stdout",
     "output_type": "stream",
     "text": [
      "1 1\n",
      "0 0\n",
      "0 0\n",
      "1 1\n"
     ]
    }
   ],
   "source": [
    "def check_parity(parity, bin_str): \n",
    "    return bin_str.count('1') & 1 if parity == 'even' else int(not bin_str.count('1') & 1)\n",
    "\n",
    "\n",
    "print(check_parity('even','101010'), 1)\n",
    "print(check_parity('odd','101010'), 0)\n",
    "print(check_parity('even','101011'), 0)\n",
    "print(check_parity('odd','101011'), 1)"
   ]
  },
  {
   "cell_type": "code",
   "execution_count": 10,
   "metadata": {},
   "outputs": [
    {
     "data": {
      "text/plain": [
       "0"
      ]
     },
     "execution_count": 10,
     "metadata": {},
     "output_type": "execute_result"
    }
   ],
   "source": [
    "100 & 1"
   ]
  },
  {
   "cell_type": "code",
   "execution_count": 11,
   "metadata": {},
   "outputs": [
    {
     "data": {
      "text/plain": [
       "1"
      ]
     },
     "execution_count": 11,
     "metadata": {},
     "output_type": "execute_result"
    }
   ],
   "source": [
    "11 & 1"
   ]
  },
  {
   "cell_type": "code",
   "execution_count": 12,
   "metadata": {},
   "outputs": [
    {
     "data": {
      "text/plain": [
       "0"
      ]
     },
     "execution_count": 12,
     "metadata": {},
     "output_type": "execute_result"
    }
   ],
   "source": [
    "100 & 0"
   ]
  },
  {
   "cell_type": "code",
   "execution_count": 13,
   "metadata": {},
   "outputs": [
    {
     "data": {
      "text/plain": [
       "100"
      ]
     },
     "execution_count": 13,
     "metadata": {},
     "output_type": "execute_result"
    }
   ],
   "source": [
    "100 | 0"
   ]
  },
  {
   "cell_type": "code",
   "execution_count": 14,
   "metadata": {},
   "outputs": [
    {
     "data": {
      "text/plain": [
       "-1"
      ]
     },
     "execution_count": 14,
     "metadata": {},
     "output_type": "execute_result"
    }
   ],
   "source": [
    "~0"
   ]
  },
  {
   "cell_type": "code",
   "execution_count": 15,
   "metadata": {},
   "outputs": [
    {
     "data": {
      "text/plain": [
       "0"
      ]
     },
     "execution_count": 15,
     "metadata": {},
     "output_type": "execute_result"
    }
   ],
   "source": [
    "-0"
   ]
  },
  {
   "cell_type": "code",
   "execution_count": 16,
   "metadata": {},
   "outputs": [
    {
     "data": {
      "text/plain": [
       "1"
      ]
     },
     "execution_count": 16,
     "metadata": {},
     "output_type": "execute_result"
    }
   ],
   "source": [
    "0 | 1"
   ]
  },
  {
   "cell_type": "code",
   "execution_count": 17,
   "metadata": {},
   "outputs": [
    {
     "data": {
      "text/plain": [
       "1"
      ]
     },
     "execution_count": 17,
     "metadata": {},
     "output_type": "execute_result"
    }
   ],
   "source": [
    "0 ^ 1"
   ]
  },
  {
   "cell_type": "code",
   "execution_count": 18,
   "metadata": {},
   "outputs": [
    {
     "data": {
      "text/plain": [
       "0"
      ]
     },
     "execution_count": 18,
     "metadata": {},
     "output_type": "execute_result"
    }
   ],
   "source": [
    "1 ^ 1"
   ]
  },
  {
   "cell_type": "markdown",
   "metadata": {},
   "source": [
    "20210103"
   ]
  },
  {
   "cell_type": "markdown",
   "metadata": {},
   "source": [
    "### Maximum Multiple\n",
    "https://www.codewars.com/kata/5aba780a6a176b029800041c  \n",
    "7 kyu\n",
    "\n",
    "Given a Divisor and a Bound, Find the largest integer N, Such That,\n",
    "\n",
    "Conditions:  \n",
    "N is divisible by divisor  \n",
    "N is less than or equal to bound  \n",
    "N is greater than 0.\n",
    "\n",
    "Notes  \n",
    "\n",
    "The parameters (divisor, bound) passed to the function are only positive values.  \n",
    "It's guaranteed that a divisor is Found.  \n",
    "\n",
    "Input >> Output Examples\n",
    "\n",
    "maxMultiple (2,7) ==> return (6)  \n",
    "Explanation:  \n",
    "(6) is divisible by (2), (6) is less than or equal to bound (7), and (6) is > 0.\n",
    "\n",
    "maxMultiple (10,50)  ==> return (50)  \n",
    "Explanation:  \n",
    "(50) is divisible by (10), (50) is less than or equal to bound (50), and (50) is > 0.\n",
    "\n",
    "maxMultiple (37,200) ==> return (185)  \n",
    "Explanation:  \n",
    "(185) is divisible by (37), (185) is less than or equal to bound (200) , and (185) is > 0."
   ]
  },
  {
   "cell_type": "markdown",
   "metadata": {},
   "source": [
    "__My solution:__"
   ]
  },
  {
   "cell_type": "code",
   "execution_count": 22,
   "metadata": {},
   "outputs": [
    {
     "name": "stdout",
     "output_type": "stream",
     "text": [
      "6 6\n",
      "9 9\n",
      "14 14\n",
      "50 50\n",
      "185 185\n",
      "98 98\n"
     ]
    }
   ],
   "source": [
    "def max_multiple(divisor, bound):\n",
    "    return bound // divisor * divisor\n",
    "\n",
    "\n",
    "print(max_multiple(2,7),6)\n",
    "print(max_multiple(3,10),9)\n",
    "print(max_multiple(7,17),14)\n",
    "print(max_multiple(10,50),50)\n",
    "print(max_multiple(37,200),185)\n",
    "print(max_multiple(7,100),98)"
   ]
  },
  {
   "cell_type": "markdown",
   "metadata": {},
   "source": [
    "### JavaScript Array Filter\n",
    "https://www.codewars.com/kata/514a6336889283a3d2000001  \n",
    "7 kyu\n",
    "\n",
    "In Python, there is a built-in filter function that operates similarly to JS's filter. For more information on how to use this function, visit https://docs.python.org/3/library/functions.html#filter\n",
    "\n",
    "The solution would work like the following:\n",
    "\n",
    "get_even_numbers([2,4,5,6]) => [2,4,6]"
   ]
  },
  {
   "cell_type": "markdown",
   "metadata": {},
   "source": [
    "__My solutions:__"
   ]
  },
  {
   "cell_type": "markdown",
   "metadata": {},
   "source": [
    "__#1__"
   ]
  },
  {
   "cell_type": "code",
   "execution_count": 33,
   "metadata": {},
   "outputs": [
    {
     "name": "stdout",
     "output_type": "stream",
     "text": [
      "[2, 4, 6] [2, 4, 6]\n",
      "[] []\n",
      "[] []\n",
      "[2] [2]\n",
      "[2, 4] [2, 4]\n",
      "[2, 4, 6, 8] [2, 4, 6, 8]\n"
     ]
    }
   ],
   "source": [
    "def get_even_numbers(arr):\n",
    "    return list(filter(lambda a: not a & 1, arr))\n",
    "\n",
    "\n",
    "test_data = [\n",
    "    ([2,4,5,6], [2,4,6]),\n",
    "    ([], []),\n",
    "    ([1], []),\n",
    "    ([1, 2], [2]),\n",
    "    ([1,2,3,4,5], [2,4]),\n",
    "    ([2,4,6,8], [2,4,6,8])\n",
    "]\n",
    "for (data, exp) in test_data:      \n",
    "    actual = get_even_numbers(data)\n",
    "    print(actual, exp)"
   ]
  },
  {
   "cell_type": "markdown",
   "metadata": {},
   "source": [
    "__#2__"
   ]
  },
  {
   "cell_type": "code",
   "execution_count": 34,
   "metadata": {},
   "outputs": [
    {
     "name": "stdout",
     "output_type": "stream",
     "text": [
      "[2, 4, 6] [2, 4, 6]\n",
      "[] []\n",
      "[] []\n",
      "[2] [2]\n",
      "[2, 4] [2, 4]\n",
      "[2, 4, 6, 8] [2, 4, 6, 8]\n"
     ]
    }
   ],
   "source": [
    "def get_even_numbers(arr):\n",
    "    return [a for a in arr if not a & 1]\n",
    "\n",
    "\n",
    "test_data = [\n",
    "    ([2,4,5,6], [2,4,6]),\n",
    "    ([], []),\n",
    "    ([1], []),\n",
    "    ([1, 2], [2]),\n",
    "    ([1,2,3,4,5], [2,4]),\n",
    "    ([2,4,6,8], [2,4,6,8])\n",
    "]\n",
    "for (data, exp) in test_data:      \n",
    "    actual = get_even_numbers(data)\n",
    "    print(actual, exp)"
   ]
  },
  {
   "cell_type": "markdown",
   "metadata": {},
   "source": [
    "20210104"
   ]
  },
  {
   "cell_type": "markdown",
   "metadata": {},
   "source": [
    "### Float Precision\n",
    "https://www.codewars.com/kata/5143d157ceb46d6a61000001  \n",
    "7 kyu\n",
    "\n",
    "Update the solution method to round the argument value to the closest precision of two. The argument will always be a float.\n",
    "\n",
    "solution(23.23456) # should == 23.23  \n",
    "solution(1.546) # should == 1.55  "
   ]
  },
  {
   "cell_type": "markdown",
   "metadata": {},
   "source": [
    "__My solution:__"
   ]
  },
  {
   "cell_type": "code",
   "execution_count": 35,
   "metadata": {},
   "outputs": [
    {
     "name": "stdout",
     "output_type": "stream",
     "text": [
      "2.34 2.34\n",
      "5.68 5.68\n"
     ]
    }
   ],
   "source": [
    "def solution(n):\n",
    "    return round(n, 2)\n",
    "\n",
    "\n",
    "print(solution(2.34), 2.34)\n",
    "print(solution(5.678), 5.68)"
   ]
  },
  {
   "cell_type": "markdown",
   "metadata": {},
   "source": [
    "__My unsuccessful attempts:__"
   ]
  },
  {
   "cell_type": "code",
   "execution_count": 39,
   "metadata": {},
   "outputs": [
    {
     "name": "stdout",
     "output_type": "stream",
     "text": [
      "2.34 2.34\n",
      "5.68 5.68\n"
     ]
    }
   ],
   "source": [
    "def solution(n):\n",
    "    return f'{n:.3}'\n",
    "\n",
    "\n",
    "print(solution(2.34), 2.34)\n",
    "print(solution(5.678), 5.68)"
   ]
  },
  {
   "cell_type": "markdown",
   "metadata": {},
   "source": [
    "### Retrieve array value by index with default\n",
    "https://www.codewars.com/kata/515ceaebcc1dde8870000001  \n",
    "7 kyu\n",
    "\n",
    "Complete the solution. It should try to retrieve the value of the array at the index provided. If the index is out of the array's max bounds then it should return the default value instead.\n",
    "\n",
    "Example:\n",
    "\n",
    "data = ['a', 'b', 'c']  \n",
    "solution(data, 1, 'd') # should == 'b'  \n",
    "solution(data, 5, 'd') # should == 'd'  \n",
    "\n",
    "Negative values work as long as they aren't out of the length bounds:    \n",
    "solution(data, -1, 'd') # should == 'c'  \n",
    "solution(data, -5, 'd') # should == 'd'"
   ]
  },
  {
   "cell_type": "markdown",
   "metadata": {},
   "source": [
    "__My solutions:__"
   ]
  },
  {
   "cell_type": "markdown",
   "metadata": {},
   "source": [
    "__#1__"
   ]
  },
  {
   "cell_type": "code",
   "execution_count": 44,
   "metadata": {},
   "outputs": [
    {
     "name": "stdout",
     "output_type": "stream",
     "text": [
      "1 1\n",
      "2 2\n",
      "3 3\n",
      "a a\n",
      "1 1\n",
      "a a\n",
      "None None\n"
     ]
    }
   ],
   "source": [
    "def solution(items, index, default_value):\n",
    "    try:\n",
    "        return items[index]\n",
    "    except IndexError:\n",
    "        return default_value\n",
    "\n",
    "\n",
    "rng = list(range(1, 4))\n",
    "print(solution(rng, 0, 'a'), 1)\n",
    "print(solution(rng, 1, 'a'), 2)\n",
    "print(solution(rng, -1, 'a'), 3)\n",
    "print(solution(rng, -5, 'a'), 'a')\n",
    "print(solution(rng, -3, 'a'), 1)\n",
    "\n",
    "rng = list(range(1, 6))\n",
    "print(solution(range(1, 6), 10, 'a'), 'a')\n",
    "print(solution([None, None], 0, 'a'), None)"
   ]
  },
  {
   "cell_type": "markdown",
   "metadata": {},
   "source": [
    "__#2__"
   ]
  },
  {
   "cell_type": "code",
   "execution_count": 45,
   "metadata": {},
   "outputs": [
    {
     "name": "stdout",
     "output_type": "stream",
     "text": [
      "1 1\n",
      "2 2\n",
      "3 3\n",
      "a a\n",
      "1 1\n",
      "a a\n",
      "None None\n"
     ]
    }
   ],
   "source": [
    "def solution(items, index, default_value):\n",
    "    return items[index] if -len(items) <= index < len(items) else default_value\n",
    "\n",
    "\n",
    "rng = list(range(1, 4))\n",
    "print(solution(rng, 0, 'a'), 1)\n",
    "print(solution(rng, 1, 'a'), 2)\n",
    "print(solution(rng, -1, 'a'), 3)\n",
    "print(solution(rng, -5, 'a'), 'a')\n",
    "print(solution(rng, -3, 'a'), 1)\n",
    "\n",
    "rng = list(range(1, 6))\n",
    "print(solution(range(1, 6), 10, 'a'), 'a')\n",
    "print(solution([None, None], 0, 'a'), None)"
   ]
  },
  {
   "cell_type": "code",
   "execution_count": 40,
   "metadata": {},
   "outputs": [
    {
     "data": {
      "text/plain": [
       "3"
      ]
     },
     "execution_count": 40,
     "metadata": {},
     "output_type": "execute_result"
    }
   ],
   "source": [
    "a = [1, 2, 3]\n",
    "a[-1]"
   ]
  },
  {
   "cell_type": "code",
   "execution_count": 42,
   "metadata": {},
   "outputs": [
    {
     "ename": "IndexError",
     "evalue": "list index out of range",
     "output_type": "error",
     "traceback": [
      "\u001b[1;31m---------------------------------------------------------------------------\u001b[0m",
      "\u001b[1;31mIndexError\u001b[0m                                Traceback (most recent call last)",
      "\u001b[1;32m<ipython-input-42-4b43f82cd5c9>\u001b[0m in \u001b[0;36m<module>\u001b[1;34m\u001b[0m\n\u001b[1;32m----> 1\u001b[1;33m \u001b[0ma\u001b[0m\u001b[1;33m[\u001b[0m\u001b[1;33m-\u001b[0m\u001b[1;36m4\u001b[0m\u001b[1;33m]\u001b[0m\u001b[1;33m\u001b[0m\u001b[1;33m\u001b[0m\u001b[0m\n\u001b[0m",
      "\u001b[1;31mIndexError\u001b[0m: list index out of range"
     ]
    }
   ],
   "source": [
    "a[-4]"
   ]
  },
  {
   "cell_type": "markdown",
   "metadata": {},
   "source": [
    "20210105"
   ]
  },
  {
   "cell_type": "markdown",
   "metadata": {},
   "source": [
    "### Largest 5 digit number in a series\n",
    "https://www.codewars.com/kata/51675d17e0c1bed195000001  \n",
    "7 kyu\n",
    "\n",
    "In the following 6 digit number:\n",
    "\n",
    "283910\n",
    "91 is the greatest sequence of 2 consecutive digits.\n",
    "\n",
    "In the following 10 digit number:\n",
    "\n",
    "1234567890  \n",
    "67890 is the greatest sequence of 5 consecutive digits.\n",
    "\n",
    "Complete the solution so that it returns the greatest sequence of five consecutive digits found within the number given. The number will be passed in as a string of only digits. It should return a five digit integer. The number passed may be as large as 1000 digits.\n",
    "\n",
    "Adapted from ProjectEuler.net"
   ]
  },
  {
   "cell_type": "markdown",
   "metadata": {},
   "source": [
    "__My solution:__"
   ]
  },
  {
   "cell_type": "code",
   "execution_count": 57,
   "metadata": {},
   "outputs": [
    {
     "name": "stdout",
     "output_type": "stream",
     "text": [
      "99890 99890\n",
      "98765 98765\n",
      "10000 10000\n",
      "23 23\n",
      "0 0\n",
      "23 23\n"
     ]
    }
   ],
   "source": [
    "def solution(digits):\n",
    "    res = 0\n",
    "    for i in range(len(digits) - 4):\n",
    "        res = max(res, int(digits[i: i + 5]))\n",
    "    return res\n",
    "\n",
    "\n",
    "number = \"7316717653133062491922511967442657474235534919493496983520368542506326239578318016984801869478851843858615607891129494954595017379583319528532088055111254069874715852386305071569329096329522744304355766896648950445244523161731856403098711121722383113622298934233803081353362766142828064444866452387493035890729629049156044077239071381051585930796086670172427121883998797908792274921901699720888093776657273330010533678812202354218097512545405947522435258490771167055601360483958644670632441572215539753123457977846174064955149290862569321978468622482839722413756570560574902614079729686524145351004748216637048440319989000889524345065854122758866688116427171479924442928230863465674813919123162824586178664583591245665294765456828489128831426076900422421902267105562632111110937054421750694165896040807198403850962455444362981230987879927244284909188845801561660979191338754992005240636899125607176060588611646710940507754100225698315520005593572972571636269561882670428252483600823257540920752963450\"\n",
    "actual = solution(number);\n",
    "\n",
    "assert actual != 0, 'solution returned zero'\n",
    "assert actual, 'solution did not return a value'\n",
    "\n",
    "print(actual, 99890)\n",
    "print(solution('1234567898765'), 98765)\n",
    "print(solution('1000023'), 10000)\n",
    "print(solution('0000023'), 23)\n",
    "print(solution('23'), 0)  # str digits should  have at least 5 elements\n",
    "print(solution('00023'), 23)"
   ]
  },
  {
   "cell_type": "code",
   "execution_count": 55,
   "metadata": {},
   "outputs": [
    {
     "data": {
      "text/plain": [
       "23"
      ]
     },
     "execution_count": 55,
     "metadata": {},
     "output_type": "execute_result"
    }
   ],
   "source": [
    "int('00023')"
   ]
  },
  {
   "cell_type": "markdown",
   "metadata": {},
   "source": [
    "20210106"
   ]
  },
  {
   "cell_type": "markdown",
   "metadata": {},
   "source": [
    "### Refactored Greeting\n",
    "https://www.codewars.com/kata/5121303128ef4b495f000001  \n",
    "7 kyu\n",
    "\n",
    "The following code could use a bit of object-oriented artistry. While it's a simple method and works just fine as it is, in a larger system it's best to organize methods into classes/objects. (Or, at least, something similar depending on your language)\n",
    "\n",
    "Refactor the following code so that it belongs to a Person class/object. Each Person instance will have a greet method. The Person instance should be instantiated with a name so that it no longer has to be passed into each greet method call.\n",
    "\n",
    "Here is how the final refactored code would be used:\n",
    "\n",
    "joe = Person('Joe')  \n",
    "joe.greet('Kate') # should return 'Hello Kate, my name is Joe'  \n",
    "joe.name          # should == 'Joe'  "
   ]
  },
  {
   "cell_type": "markdown",
   "metadata": {},
   "source": [
    "__My solution:__"
   ]
  },
  {
   "cell_type": "code",
   "execution_count": 58,
   "metadata": {},
   "outputs": [
    {
     "name": "stdout",
     "output_type": "stream",
     "text": [
      "Hello Jill, my name is Jack Hello Jill, my name is Jack\n",
      "Hello Mary, my name is Jack Hello Mary, my name is Jack\n",
      "Hello Jack, my name is Jill Hello Jack, my name is Jill\n",
      "Jill Jill\n"
     ]
    }
   ],
   "source": [
    "class Person:\n",
    "    def __init__(self, my_name):\n",
    "        self.name = my_name\n",
    "        \n",
    "    def greet(self, your_name):\n",
    "        return f'Hello {your_name}, my name is {self.name}'\n",
    "\n",
    "jack = Person(\"Jack\")\n",
    "jill = Person(\"Jill\")\n",
    "\n",
    "print(jack.greet(\"Jill\"), \"Hello Jill, my name is Jack\")\n",
    "print(jack.greet(\"Mary\"), \"Hello Mary, my name is Jack\")\n",
    "\n",
    "print(jill.greet(\"Jack\"), \"Hello Jack, my name is Jill\")\n",
    "print(jill.name, 'Jill')"
   ]
  },
  {
   "cell_type": "markdown",
   "metadata": {},
   "source": [
    "### Sort Numbers\n",
    "https://www.codewars.com/kata/5174a4c0f2769dd8b1000003  \n",
    "7 kyu\n",
    "\n",
    "Finish the solution so that it sorts the passed in array of numbers. If the function passes in an empty array or null/nil value then it should return an empty array.\n",
    "\n",
    "For example:\n",
    "\n",
    "solution([1,2,3,10,5]) # should return [1,2,3,5,10]  \n",
    "solution(None) # should return []"
   ]
  },
  {
   "cell_type": "markdown",
   "metadata": {},
   "source": [
    "__My solution:__"
   ]
  },
  {
   "cell_type": "code",
   "execution_count": 59,
   "metadata": {},
   "outputs": [
    {
     "name": "stdout",
     "output_type": "stream",
     "text": [
      "[1, 2, 3, 5, 10] [1, 2, 3, 5, 10]\n",
      "[] []\n",
      "[] []\n",
      "[2, 10, 20] [2, 10, 20]\n",
      "[2, 10, 20] [2, 10, 20]\n"
     ]
    }
   ],
   "source": [
    "def solution(nums):\n",
    "    return sorted(nums) if nums else []\n",
    "\n",
    "\n",
    "print(solution([1,2,3,10,5]), [1,2,3,5,10])\n",
    "print(solution(None), [])\n",
    "print(solution([]), [])\n",
    "print(solution([20,2,10]), [2,10,20])\n",
    "print(solution([2,20,10]), [2,10,20])"
   ]
  },
  {
   "cell_type": "markdown",
   "metadata": {},
   "source": [
    "20210107"
   ]
  },
  {
   "cell_type": "markdown",
   "metadata": {},
   "source": [
    "### Ninja vs Samurai: Strike\n",
    "https://www.codewars.com/kata/517b0f33cd023d848d000001  \n",
    "7 kyu\n",
    "\n",
    "Something is wrong with our Warrior class. The strike method does not work correctly. The following shows an example of this code being used:\n",
    "\n",
    "ninja = Warrior('Ninja')  \n",
    "samurai = Warrior('Samurai')  \n",
    "\n",
    "samurai.strike(ninja, 3)  # ninja.health should == 70\n",
    "\n",
    "Can you figure out what is wrong?"
   ]
  },
  {
   "cell_type": "markdown",
   "metadata": {},
   "source": [
    "__My solution:__"
   ]
  },
  {
   "cell_type": "code",
   "execution_count": null,
   "metadata": {},
   "outputs": [],
   "source": [
    "class Warrior:\n",
    "    def __init__(self, name):\n",
    "        self.name=name\n",
    "        self.health=100\n",
    "        \n",
    "    def strike(self, enemy, swings):\n",
    "        #health cannot go below zero\n",
    "        enemy.health=max([0, enemy.health - (swings * 10)])\n",
    "        \n",
    "        \n",
    "from random import randint\n",
    "#warm up test\n",
    "\n",
    "name=['Hattori Hanzo','Sasuke Sarutobi', 'Jubei Kibagami', 'Kotaro Fuma'][randint(0, 3)]\n",
    "ninja = Warrior(name)\n",
    "print(ninja.name, name, \"Making the 'name' variable visible will help you complete this kata\")\n",
    "\n",
    "#create another warrior and see if they can hurt each other\n",
    "n2 = Warrior('Zena')\n",
    "n2.strike(ninja, 4)\n",
    "print(ninja.health, 60)"
   ]
  },
  {
   "cell_type": "markdown",
   "metadata": {},
   "source": [
    "### Person Class Bug\n",
    "https://www.codewars.com/kata/513f887e484edf3eb3000001  \n",
    "7 kyu\n",
    "\n",
    "The following code was thought to be working properly, however when the code tries to access the age of the person instance it fails.\n",
    "\n",
    "person = Person('Yukihiro', 'Matsumoto', 47)  \n",
    "print(person.full_name)  \n",
    "print(person.age)\n",
    "\n",
    "For this exercise you need to fix the code so that it works correctly."
   ]
  },
  {
   "cell_type": "markdown",
   "metadata": {},
   "source": [
    "__My solution:__"
   ]
  },
  {
   "cell_type": "code",
   "execution_count": 60,
   "metadata": {},
   "outputs": [
    {
     "name": "stdout",
     "output_type": "stream",
     "text": [
      "Yukihiro Matsumoto Yukihiro Matsumoto\n",
      "47 47\n",
      "Joe Smith Joe Smith\n",
      "30 30\n"
     ]
    }
   ],
   "source": [
    "class Person():\n",
    "\n",
    "    def __init__(self, first_name, last_name, age):\n",
    "        self.first_name = first_name\n",
    "        self.last_name = last_name\n",
    "        self.full_name = first_name + ' ' + last_name\n",
    "        self.age = age\n",
    "        \n",
    "        \n",
    "matz = Person('Yukihiro', 'Matsumoto', 47)\n",
    "print(matz.full_name, 'Yukihiro Matsumoto')\n",
    "print(matz.age, 47)\n",
    "\n",
    "joe = Person('Joe', 'Smith', 30)\n",
    "print(joe.full_name, 'Joe Smith')\n",
    "print(joe.age, 30)"
   ]
  },
  {
   "cell_type": "markdown",
   "metadata": {},
   "source": [
    "20210108"
   ]
  },
  {
   "cell_type": "markdown",
   "metadata": {},
   "source": [
    "### Populate hash with array keys and default value\n",
    "https://www.codewars.com/kata/51c38e14ea1c97ffaf000003  \n",
    "7 kyu\n",
    "\n",
    "Complete the function so that it takes an array of keys and a default value and returns a hash (Ruby) / dictionary (Python) with all keys set to the default value.\n",
    "\n",
    "Example\n",
    "\n",
    "[\"draft\", \"completed\"], 0   # should return {\"draft\": 0, \"completed: 0}"
   ]
  },
  {
   "cell_type": "markdown",
   "metadata": {},
   "source": [
    "__My solutions:__"
   ]
  },
  {
   "cell_type": "markdown",
   "metadata": {},
   "source": [
    "__#1__"
   ]
  },
  {
   "cell_type": "code",
   "execution_count": 64,
   "metadata": {},
   "outputs": [
    {
     "name": "stdout",
     "output_type": "stream",
     "text": [
      "{'draft': 0, 'completed': 0} {'completed': 0, 'draft': 0}\n",
      "{'a': None, 'b': None, 'c': None} {'c': None, 'b': None, 'a': None}\n",
      "{1: 'OK', 2: 'OK', 3: 'OK', 4: 'OK'} {1: 'OK', 2: 'OK', 3: 'OK', 4: 'OK'}\n",
      "{} {}\n"
     ]
    }
   ],
   "source": [
    "def populate_dict(keys, default):\n",
    "    return dict(zip(keys, [default] * len(keys)))\n",
    "    \n",
    "\n",
    "print(populate_dict([\"draft\", \"completed\"], 0), {\"completed\": 0, \"draft\": 0})\n",
    "print(populate_dict([\"a\", \"b\", \"c\"], None), {\"c\": None, \"b\": None, \"a\": None})\n",
    "print(populate_dict([1, 2, 3, 4], \"OK\"), {1: \"OK\", 2: \"OK\", 3: \"OK\", 4: \"OK\"})\n",
    "print(populate_dict([], \"OK\"), {})"
   ]
  },
  {
   "cell_type": "markdown",
   "metadata": {},
   "source": [
    "__#2__"
   ]
  },
  {
   "cell_type": "code",
   "execution_count": 63,
   "metadata": {},
   "outputs": [
    {
     "name": "stdout",
     "output_type": "stream",
     "text": [
      "{'draft': 0, 'completed': 0} {'completed': 0, 'draft': 0}\n",
      "{'a': None, 'b': None, 'c': None} {'c': None, 'b': None, 'a': None}\n",
      "{1: 'OK', 2: 'OK', 3: 'OK', 4: 'OK'} {1: 'OK', 2: 'OK', 3: 'OK', 4: 'OK'}\n",
      "{} {}\n"
     ]
    }
   ],
   "source": [
    "from itertools import zip_longest\n",
    "\n",
    "def populate_dict(keys, default):\n",
    "    return dict(zip_longest(keys, [], fillvalue=default))\n",
    "\n",
    "\n",
    "print(populate_dict([\"draft\", \"completed\"], 0), {\"completed\": 0, \"draft\": 0})\n",
    "print(populate_dict([\"a\", \"b\", \"c\"], None), {\"c\": None, \"b\": None, \"a\": None})\n",
    "print(populate_dict([1, 2, 3, 4], \"OK\"), {1: \"OK\", 2: \"OK\", 3: \"OK\", 4: \"OK\"})\n",
    "print(populate_dict([], \"OK\"), {})"
   ]
  },
  {
   "cell_type": "markdown",
   "metadata": {},
   "source": [
    "__#3__"
   ]
  },
  {
   "cell_type": "code",
   "execution_count": 71,
   "metadata": {},
   "outputs": [
    {
     "name": "stdout",
     "output_type": "stream",
     "text": [
      "{'draft': 0, 'completed': 0} {'completed': 0, 'draft': 0}\n",
      "{'a': None, 'b': None, 'c': None} {'c': None, 'b': None, 'a': None}\n",
      "{1: 'OK', 2: 'OK', 3: 'OK', 4: 'OK'} {1: 'OK', 2: 'OK', 3: 'OK', 4: 'OK'}\n",
      "{} {}\n"
     ]
    }
   ],
   "source": [
    "def populate_dict(keys, default):\n",
    "    return {k: default for k in keys}\n",
    "\n",
    "\n",
    "print(populate_dict([\"draft\", \"completed\"], 0), {\"completed\": 0, \"draft\": 0})\n",
    "print(populate_dict([\"a\", \"b\", \"c\"], None), {\"c\": None, \"b\": None, \"a\": None})\n",
    "print(populate_dict([1, 2, 3, 4], \"OK\"), {1: \"OK\", 2: \"OK\", 3: \"OK\", 4: \"OK\"})\n",
    "print(populate_dict([], \"OK\"), {})"
   ]
  },
  {
   "cell_type": "code",
   "execution_count": 70,
   "metadata": {},
   "outputs": [
    {
     "name": "stdout",
     "output_type": "stream",
     "text": [
      "{'a': 1, 'b': 2, 'c': 3}\n",
      "{'a': 1, 'b': 2, 'c': 4, 'd': 4}\n",
      "{'e': 6, 'f': 8, 'c': 4, 'd': 4}\n"
     ]
    }
   ],
   "source": [
    "d1 = dict(a=1, b=2, c=3)\n",
    "print(d1)\n",
    "d2 = dict(d1, c=4, d=4)\n",
    "print(d2)\n",
    "d3 = dict([('e', 6), ('f', 8)], c=4, d=4)\n",
    "print(d3)"
   ]
  },
  {
   "cell_type": "markdown",
   "metadata": {},
   "source": [
    "### Building Strings From a Hash\n",
    "https://www.codewars.com/kata/51c7d8268a35b6b8b40002f2  \n",
    "7 kyu\n",
    "\n",
    "Complete the solution so that it takes the object (JavaScript/CoffeeScript) or hash (ruby) passed in and generates a human readable string from its key/value pairs.\n",
    "\n",
    "The format should be \"KEY = VALUE\". Each key/value pair should be separated by a comma except for the last pair.\n",
    "\n",
    "Example:\n",
    "\n",
    "solution({\"a\": 1, \"b\": '2'}) # should return \"a = 1,b = 2\""
   ]
  },
  {
   "cell_type": "markdown",
   "metadata": {},
   "source": [
    "__My solution:__"
   ]
  },
  {
   "cell_type": "markdown",
   "metadata": {},
   "source": [
    "It doesn't pass all test without sorting:"
   ]
  },
  {
   "cell_type": "code",
   "execution_count": 72,
   "metadata": {},
   "outputs": [
    {
     "name": "stdout",
     "output_type": "stream",
     "text": [
      "a = 1,b = 2 a = 1,b = 2\n",
      "a = b,b = a a = b,b = a\n",
      "0 = a,b = 2 0 = a,b = 2\n",
      "b = 1,c = 2,e = 3 b = 1,c = 2,e = 3\n",
      " \n"
     ]
    }
   ],
   "source": [
    "def solution(pairs):\n",
    "    return ','.join(sorted(f'{k} = {v}' for k, v in pairs.items()))\n",
    "\n",
    "\n",
    "print(solution({'a': 1, 'b': 2}), 'a = 1,b = 2')\n",
    "print(solution({'a': 'b', 'b': 'a'}), 'a = b,b = a')\n",
    "print(solution({0: 'a', 'b': 2}), '0 = a,b = 2')\n",
    "print(solution({'b': 1, 'c': 2, 'e': 3}), 'b = 1,c = 2,e = 3')\n",
    "print(solution({}), '')"
   ]
  },
  {
   "cell_type": "markdown",
   "metadata": {},
   "source": [
    "20210109"
   ]
  },
  {
   "cell_type": "markdown",
   "metadata": {},
   "source": [
    "### Substituting Variables Into Strings: Padded Numbers\n",
    "https://www.codewars.com/kata/51c89385ee245d7ddf000001  \n",
    "7 kyu\n",
    "\n",
    "Complete the solution so that it returns a formatted string. The return value should equal \"Value is VALUE\" where value is a 5 digit padded number.\n",
    "\n",
    "Example:\n",
    "\n",
    "solution(5)  # should return \"Value is 00005\""
   ]
  },
  {
   "cell_type": "markdown",
   "metadata": {},
   "source": [
    "__My solutions:__"
   ]
  },
  {
   "cell_type": "markdown",
   "metadata": {},
   "source": [
    "__#1__"
   ]
  },
  {
   "cell_type": "code",
   "execution_count": 73,
   "metadata": {},
   "outputs": [
    {
     "name": "stdout",
     "output_type": "stream",
     "text": [
      "Value is 00000 Value is 00000\n",
      "Value is 00005 Value is 00005\n",
      "Value is 00109 Value is 00109\n",
      "Value is 01204 Value is 01204\n"
     ]
    }
   ],
   "source": [
    "def solution(value):\n",
    "    return f'Value is {str(value).zfill(5)}'\n",
    "\n",
    "\n",
    "print(solution(0), 'Value is 00000')\n",
    "print(solution(5), 'Value is 00005')\n",
    "print(solution(109), 'Value is 00109')\n",
    "print(solution(1204), 'Value is 01204')"
   ]
  },
  {
   "cell_type": "markdown",
   "metadata": {},
   "source": [
    "__#2__"
   ]
  },
  {
   "cell_type": "code",
   "execution_count": 77,
   "metadata": {},
   "outputs": [
    {
     "name": "stdout",
     "output_type": "stream",
     "text": [
      "Value is 00000 Value is 00000\n",
      "Value is 00005 Value is 00005\n",
      "Value is 00109 Value is 00109\n",
      "Value is 01204 Value is 01204\n"
     ]
    }
   ],
   "source": [
    "def solution(value):\n",
    "    return f'Value is {value:0>5}'\n",
    "\n",
    "\n",
    "print(solution(0), 'Value is 00000')\n",
    "print(solution(5), 'Value is 00005')\n",
    "print(solution(109), 'Value is 00109')\n",
    "print(solution(1204), 'Value is 01204')"
   ]
  },
  {
   "cell_type": "markdown",
   "metadata": {},
   "source": [
    "### Elapsed Seconds\n",
    "https://www.codewars.com/kata/517b25a48557c200b800000c  \n",
    "7 kyu\n",
    "\n",
    "Complete the function so that it returns the number of seconds that have elapsed between the start and end times given.\n",
    "\n",
    "Tips:  \n",
    "The start/end times are given as Date (JS/CoffeeScript), DateTime (C#), Time (Nim), datetime(Python) and Time (Ruby) instances.\n",
    "The start time will always be before the end time."
   ]
  },
  {
   "cell_type": "markdown",
   "metadata": {},
   "source": [
    "__My solution:__"
   ]
  },
  {
   "cell_type": "code",
   "execution_count": 79,
   "metadata": {},
   "outputs": [
    {
     "name": "stdout",
     "output_type": "stream",
     "text": [
      "1 1\n",
      "18 18\n",
      "19 19\n",
      "79 79\n",
      "78 78\n"
     ]
    }
   ],
   "source": [
    "def elapsed_seconds(start, end):\n",
    "    return (end - start).seconds\n",
    "\n",
    "\n",
    "from datetime import datetime\n",
    "\n",
    "start = datetime(2013, 1, 1, 0, 0, 1)\n",
    "end = datetime(2013, 1, 1, 0, 0, 2)\n",
    "end2 = datetime(2013, 1, 1, 0, 0, 20)\n",
    "end3 = datetime(2013, 1, 1, 0, 1, 20)\n",
    "\n",
    "print(elapsed_seconds(start, end), 1)\n",
    "print(elapsed_seconds(end, end2), 18)\n",
    "print(elapsed_seconds(start, end2), 19)\n",
    "print(elapsed_seconds(start, end3), 79)\n",
    "print(elapsed_seconds(end, end3), 78)"
   ]
  },
  {
   "cell_type": "markdown",
   "metadata": {},
   "source": [
    "20210110"
   ]
  },
  {
   "cell_type": "markdown",
   "metadata": {},
   "source": [
    "### Fizz / Buzz\n",
    "https://www.codewars.com/kata/51dda84f91f5b5608b0004cc  \n",
    "7 kyu\n",
    "\n",
    "Write a function that takes an integer and returns an array [A, B, C], where A is the number of multiples of 3 (but not 5) below the given integer, B is the number of multiples of 5 (but not 3) below the given integer and C is the number of multiples of 3 and 5 below the given integer.\n",
    "\n",
    "For example, solution(20) should return [5, 2, 1]"
   ]
  },
  {
   "cell_type": "markdown",
   "metadata": {},
   "source": [
    "__My solution:__"
   ]
  },
  {
   "cell_type": "markdown",
   "metadata": {},
   "source": [
    "__#1__ It passes all tests but they covers cases with only positive integers as input and instruction tells nothing about only positive integer restriction"
   ]
  },
  {
   "cell_type": "code",
   "execution_count": 89,
   "metadata": {},
   "outputs": [
    {
     "name": "stdout",
     "output_type": "stream",
     "text": [
      "[5, 2, 1] [5, 2, 1]\n",
      "[0, 0, 0] [0, 0, 0]\n",
      "[4, 2, 0] [4, 2, 0]\n",
      "[8, 4, 1] [8, 4, 1]\n",
      "[37, 19, 9] [37, 19, 9]\n",
      "[-5, -3, -2]\n",
      "[0, 0, -1]\n"
     ]
    }
   ],
   "source": [
    "def solution(number):\n",
    "    number -= 1\n",
    "    div15 = number // 15\n",
    "    return [number // 3 - div15, number // 5 - div15, div15]\n",
    "\n",
    "\n",
    "print(solution(20), [5, 2, 1])\n",
    "print(solution(2), [0, 0, 0])\n",
    "print(solution(14), [4,2,0])\n",
    "print(solution(30), [8, 4, 1])\n",
    "print(solution(141), [37, 19, 9])\n",
    "print(solution(-20))  # [-5, -3, -2] - it's not ok I'm guessing\n",
    "print(solution(0))    # [0, 0, -1]   - it's not ok I'm guessing"
   ]
  },
  {
   "cell_type": "markdown",
   "metadata": {},
   "source": [
    "__#2__ Includes processing of the negative integers and zero (on my own interpretation of the kata's instructions) "
   ]
  },
  {
   "cell_type": "code",
   "execution_count": 93,
   "metadata": {},
   "outputs": [
    {
     "name": "stdout",
     "output_type": "stream",
     "text": [
      "[5, 2, 1] [5, 2, 1]\n",
      "[0, 0, 0] [0, 0, 0]\n",
      "[4, 2, 0] [4, 2, 0]\n",
      "[8, 4, 1] [8, 4, 1]\n",
      "[37, 19, 9] [37, 19, 9]\n",
      "[-5, -2, -1]\n",
      "[]\n",
      "[-37, -19, -9]\n"
     ]
    }
   ],
   "source": [
    "def solution(number):\n",
    "    if number > 0:\n",
    "        number -= 1\n",
    "        div15 = number // 15\n",
    "        return [number // 3 - div15, number // 5 - div15, div15]\n",
    "    elif number < 0:\n",
    "        number += 1\n",
    "        div15 = int(number / 15)\n",
    "        return [int(number / 3) - div15, int(number / 5) - div15, div15]\n",
    "    else:\n",
    "        return []\n",
    "\n",
    "\n",
    "print(solution(20), [5, 2, 1])\n",
    "print(solution(2), [0, 0, 0])\n",
    "print(solution(14), [4,2,0])\n",
    "print(solution(30), [8, 4, 1])\n",
    "print(solution(141), [37, 19, 9])\n",
    "print(solution(-20))  # [-5, -3, -1] \n",
    "print(solution(0))    # []\n",
    "print(solution(-141))"
   ]
  },
  {
   "cell_type": "code",
   "execution_count": 82,
   "metadata": {},
   "outputs": [
    {
     "data": {
      "text/plain": [
       "-7"
      ]
     },
     "execution_count": 82,
     "metadata": {},
     "output_type": "execute_result"
    }
   ],
   "source": [
    "-20 // 3"
   ]
  },
  {
   "cell_type": "code",
   "execution_count": 83,
   "metadata": {},
   "outputs": [
    {
     "data": {
      "text/plain": [
       "-6.666666666666667"
      ]
     },
     "execution_count": 83,
     "metadata": {},
     "output_type": "execute_result"
    }
   ],
   "source": [
    "-20 / 3"
   ]
  },
  {
   "cell_type": "code",
   "execution_count": 84,
   "metadata": {},
   "outputs": [
    {
     "data": {
      "text/plain": [
       "-7"
      ]
     },
     "execution_count": 84,
     "metadata": {},
     "output_type": "execute_result"
    }
   ],
   "source": [
    "round(-20 / 3)"
   ]
  },
  {
   "cell_type": "code",
   "execution_count": 87,
   "metadata": {},
   "outputs": [
    {
     "data": {
      "text/plain": [
       "-7"
      ]
     },
     "execution_count": 87,
     "metadata": {},
     "output_type": "execute_result"
    }
   ],
   "source": [
    "import math\n",
    "\n",
    "math.floor(-20 / 3)"
   ]
  },
  {
   "cell_type": "code",
   "execution_count": 88,
   "metadata": {},
   "outputs": [
    {
     "data": {
      "text/plain": [
       "-6"
      ]
     },
     "execution_count": 88,
     "metadata": {},
     "output_type": "execute_result"
    }
   ],
   "source": [
    "int(-20 / 3)"
   ]
  },
  {
   "cell_type": "code",
   "execution_count": 90,
   "metadata": {},
   "outputs": [
    {
     "data": {
      "text/plain": [
       "0"
      ]
     },
     "execution_count": 90,
     "metadata": {},
     "output_type": "execute_result"
    }
   ],
   "source": [
    "0 // 3"
   ]
  },
  {
   "cell_type": "code",
   "execution_count": 91,
   "metadata": {},
   "outputs": [
    {
     "data": {
      "text/plain": [
       "-1"
      ]
     },
     "execution_count": 91,
     "metadata": {},
     "output_type": "execute_result"
    }
   ],
   "source": [
    "-1 // 3"
   ]
  },
  {
   "cell_type": "markdown",
   "metadata": {},
   "source": [
    "20210111"
   ]
  },
  {
   "cell_type": "markdown",
   "metadata": {},
   "source": [
    "### Return substring instance count\n",
    "https://www.codewars.com/kata/5168b125faced29f66000005\n",
    "7 kyu\n",
    "\n",
    "Complete the solution so that it returns the number of times the search_text is found within the full_text.\n",
    "\n",
    "Usage example:\n",
    "\n",
    "solution('aa_bb_cc_dd_bb_e', 'bb') # should return 2 since bb shows up twice  \n",
    "solution('aaabbbcccc', 'bbb') # should return 1"
   ]
  },
  {
   "cell_type": "markdown",
   "metadata": {},
   "source": [
    "__My solution:__"
   ]
  },
  {
   "cell_type": "markdown",
   "metadata": {},
   "source": [
    "__#1__"
   ]
  },
  {
   "cell_type": "code",
   "execution_count": 94,
   "metadata": {},
   "outputs": [
    {
     "name": "stdout",
     "output_type": "stream",
     "text": [
      "2 2\n",
      "1 1\n",
      "1 1\n",
      "1 1\n"
     ]
    }
   ],
   "source": [
    "def solution(full_text, search_text):\n",
    "    return full_text.count(search_text)\n",
    "\n",
    "\n",
    "print(solution('abcdeb','b'), 2)\n",
    "print(solution('abc','b'), 1)\n",
    "print(solution('abbc','bb'), 1)\n",
    "print(solution('abbbc','bb'), 1)"
   ]
  },
  {
   "cell_type": "markdown",
   "metadata": {},
   "source": [
    "__#2__"
   ]
  },
  {
   "cell_type": "code",
   "execution_count": 95,
   "metadata": {},
   "outputs": [
    {
     "name": "stdout",
     "output_type": "stream",
     "text": [
      "2 2\n",
      "1 1\n",
      "1 1\n",
      "1 1\n"
     ]
    }
   ],
   "source": [
    "import re\n",
    "\n",
    "def solution(full_text, search_text):\n",
    "    return len(re.findall(search_text, full_text))\n",
    "\n",
    "\n",
    "print(solution('abcdeb','b'), 2)\n",
    "print(solution('abc','b'), 1)\n",
    "print(solution('abbc','bb'), 1)\n",
    "print(solution('abbbc','bb'), 1)"
   ]
  },
  {
   "cell_type": "markdown",
   "metadata": {},
   "source": [
    "### Remove anchor from URL\n",
    "https://www.codewars.com/kata/51f2b4448cadf20ed0000386  \n",
    "7 kyu\n",
    "\n",
    "Complete the function/method so that it returns the url with anything after the anchor (#) removed.\n",
    "\n",
    "Examples\n",
    "#returns 'www.codewars.com'  \n",
    "remove_url_anchor('www.codewars.com#about')  \n",
    " \n",
    "#returns 'www.codewars.com?page=1'   \n",
    "remove_url_anchor('www.codewars.com?page=1') "
   ]
  },
  {
   "cell_type": "markdown",
   "metadata": {},
   "source": [
    "__My solution:__"
   ]
  },
  {
   "cell_type": "markdown",
   "metadata": {},
   "source": [
    "__#1__"
   ]
  },
  {
   "cell_type": "code",
   "execution_count": 97,
   "metadata": {},
   "outputs": [
    {
     "name": "stdout",
     "output_type": "stream",
     "text": [
      "www.codewars.com www.codewars.com\n",
      "www.codewars.com/katas/?page=1 www.codewars.com/katas/?page=1\n",
      "www.codewars.com/katas/ www.codewars.com/katas/\n"
     ]
    }
   ],
   "source": [
    "def remove_url_anchor(url):\n",
    "    anchor = url.find('#')\n",
    "    return url[:anchor] if anchor != -1 else url\n",
    "    \n",
    "    \n",
    "print(remove_url_anchor(\"www.codewars.com#about\"), \"www.codewars.com\");\n",
    "print(remove_url_anchor(\"www.codewars.com/katas/?page=1#about\"), \"www.codewars.com/katas/?page=1\")\n",
    "print(remove_url_anchor(\"www.codewars.com/katas/\"), \"www.codewars.com/katas/\")"
   ]
  },
  {
   "cell_type": "markdown",
   "metadata": {},
   "source": [
    "Almost the same but previous maybe better:"
   ]
  },
  {
   "cell_type": "code",
   "execution_count": 99,
   "metadata": {},
   "outputs": [
    {
     "name": "stdout",
     "output_type": "stream",
     "text": [
      "www.codewars.com www.codewars.com\n",
      "www.codewars.com/katas/?page=1 www.codewars.com/katas/?page=1\n",
      "www.codewars.com/katas/ www.codewars.com/katas/\n"
     ]
    }
   ],
   "source": [
    "def remove_url_anchor(url):\n",
    "    return url[:url.find('#')] if '#' in url else url\n",
    "    \n",
    "    \n",
    "print(remove_url_anchor(\"www.codewars.com#about\"), \"www.codewars.com\");\n",
    "print(remove_url_anchor(\"www.codewars.com/katas/?page=1#about\"), \"www.codewars.com/katas/?page=1\")\n",
    "print(remove_url_anchor(\"www.codewars.com/katas/\"), \"www.codewars.com/katas/\")"
   ]
  },
  {
   "cell_type": "code",
   "execution_count": 96,
   "metadata": {},
   "outputs": [
    {
     "data": {
      "text/plain": [
       "'abcde'"
      ]
     },
     "execution_count": 96,
     "metadata": {},
     "output_type": "execute_result"
    }
   ],
   "source": [
    "s = 'abcdef'\n",
    "s[:-1]"
   ]
  },
  {
   "cell_type": "markdown",
   "metadata": {},
   "source": [
    "__#2__"
   ]
  },
  {
   "cell_type": "code",
   "execution_count": 101,
   "metadata": {},
   "outputs": [
    {
     "name": "stdout",
     "output_type": "stream",
     "text": [
      "www.codewars.com www.codewars.com\n",
      "www.codewars.com/katas/?page=1 www.codewars.com/katas/?page=1\n",
      "www.codewars.com/katas/ www.codewars.com/katas/\n"
     ]
    }
   ],
   "source": [
    "def remove_url_anchor(url):\n",
    "    res = ''\n",
    "    for c in url:\n",
    "        if c == '#':\n",
    "            break\n",
    "        res += c\n",
    "    return res   \n",
    "    \n",
    "    \n",
    "print(remove_url_anchor(\"www.codewars.com#about\"), \"www.codewars.com\");\n",
    "print(remove_url_anchor(\"www.codewars.com/katas/?page=1#about\"), \"www.codewars.com/katas/?page=1\")\n",
    "print(remove_url_anchor(\"www.codewars.com/katas/\"), \"www.codewars.com/katas/\")"
   ]
  },
  {
   "cell_type": "markdown",
   "metadata": {},
   "source": [
    "__My unsuccessful attempts:__"
   ]
  },
  {
   "cell_type": "code",
   "execution_count": 102,
   "metadata": {},
   "outputs": [
    {
     "name": "stdout",
     "output_type": "stream",
     "text": [
      "ParseResult(scheme='', netloc='', path='www.codewars.com', params='', query='', fragment='about')\n",
      "None www.codewars.com\n",
      "ParseResult(scheme='', netloc='', path='www.codewars.com/katas/', params='', query='page=1', fragment='about')\n",
      "None www.codewars.com/katas/?page=1\n",
      "ParseResult(scheme='', netloc='', path='www.codewars.com/katas/', params='', query='', fragment='')\n",
      "None www.codewars.com/katas/\n"
     ]
    }
   ],
   "source": [
    "from urllib.parse import urlparse\n",
    "\n",
    "def remove_url_anchor(url):\n",
    "    u = urlparse(url)\n",
    "    print(u)\n",
    "    \n",
    "    \n",
    "print(remove_url_anchor(\"www.codewars.com#about\"), \"www.codewars.com\");\n",
    "print(remove_url_anchor(\"www.codewars.com/katas/?page=1#about\"), \"www.codewars.com/katas/?page=1\")\n",
    "print(remove_url_anchor(\"www.codewars.com/katas/\"), \"www.codewars.com/katas/\")"
   ]
  },
  {
   "cell_type": "code",
   "execution_count": 103,
   "metadata": {},
   "outputs": [
    {
     "name": "stdout",
     "output_type": "stream",
     "text": [
      "ParseResult(scheme='http', netloc='www.cwi.nl:80', path='/%7Eguido/Python.html', params='', query='', fragment='')\n"
     ]
    }
   ],
   "source": [
    "from urllib.parse import urlparse\n",
    "o = urlparse('http://www.cwi.nl:80/%7Eguido/Python.html')\n",
    "print(o)"
   ]
  },
  {
   "cell_type": "code",
   "execution_count": 104,
   "metadata": {},
   "outputs": [
    {
     "name": "stdout",
     "output_type": "stream",
     "text": [
      "ParseResult(scheme='', netloc='', path='www.codewars.com', params='', query='', fragment='about')\n"
     ]
    }
   ],
   "source": [
    "from urllib.parse import urlparse\n",
    "o = urlparse('www.codewars.com#about')\n",
    "print(o)"
   ]
  },
  {
   "cell_type": "code",
   "execution_count": 106,
   "metadata": {},
   "outputs": [
    {
     "name": "stdout",
     "output_type": "stream",
     "text": [
      "ParseResult(scheme='http', netloc='www.codewars.com', path='', params='', query='', fragment='about')\n",
      "http://www.codewars.com#about\n"
     ]
    }
   ],
   "source": [
    "from urllib.parse import urlparse\n",
    "o = urlparse('http://www.codewars.com#about')\n",
    "print(o)\n",
    "print(o.geturl())"
   ]
  },
  {
   "cell_type": "code",
   "execution_count": 107,
   "metadata": {},
   "outputs": [
    {
     "name": "stdout",
     "output_type": "stream",
     "text": [
      "http://www.Python.org/doc/\n",
      "http://www.Python.org/doc/\n"
     ]
    }
   ],
   "source": [
    "from urllib.parse import urlsplit\n",
    "url = 'HTTP://www.Python.org/doc/#'\n",
    "r1 = urlsplit(url)\n",
    "print(r1.geturl()) # 'http://www.Python.org/doc/'\n",
    "r2 = urlsplit(r1.geturl())\n",
    "print(r2.geturl()) #'http://www.Python.org/doc/'"
   ]
  },
  {
   "cell_type": "code",
   "execution_count": 108,
   "metadata": {},
   "outputs": [
    {
     "name": "stdout",
     "output_type": "stream",
     "text": [
      "http://www.codewars.com#about\n",
      "http://www.codewars.com#about\n"
     ]
    }
   ],
   "source": [
    "from urllib.parse import urlsplit\n",
    "url = 'http://www.codewars.com#about'\n",
    "r1 = urlsplit(url)\n",
    "print(r1.geturl()) # 'http://www.Python.org/doc/'\n",
    "r2 = urlsplit(r1.geturl())\n",
    "print(r2.geturl()) #'http://www.Python.org/doc/'"
   ]
  },
  {
   "cell_type": "markdown",
   "metadata": {},
   "source": [
    "20210112"
   ]
  },
  {
   "cell_type": "markdown",
   "metadata": {},
   "source": [
    "### No oddities here\n",
    "https://www.codewars.com/kata/51fd6bc82bc150b28e0000ce  \n",
    "7 kyu\n",
    "\n",
    "Write a small function that returns the values of an array that are not odd.\n",
    "\n",
    "All values in the array will be integers. Return the good values in the order they are given.\n",
    "\n",
    "def no_odds(values):"
   ]
  },
  {
   "cell_type": "markdown",
   "metadata": {},
   "source": [
    "__My solution:__"
   ]
  },
  {
   "cell_type": "code",
   "execution_count": 109,
   "metadata": {},
   "outputs": [
    {
     "name": "stdout",
     "output_type": "stream",
     "text": [
      "[0] [0] Zero through one\n",
      "[0, 2] [0, 2] Zero through three\n",
      "[] [] Odds through ten\n",
      "[0, 2, 4, 6, 8, 10] [0, 2, 4, 6, 8, 10] Evens through ten\n",
      "[] [] Negative odds\n",
      "[2, 4, 8, 6, 0] [2, 4, 8, 6, 0] Out of order\n",
      "[] [] Empty list\n"
     ]
    }
   ],
   "source": [
    "def no_odds(values):\n",
    "    return [v for v in values if not v & 1]\n",
    "\n",
    "\n",
    "print(no_odds([0, 1]), [0], 'Zero through one')\n",
    "print(no_odds([0, 1, 2, 3]), [0, 2], 'Zero through three')\n",
    "print(no_odds([1, 3, 5, 7, 9]), [], 'Odds through ten')\n",
    "print(no_odds([0, 2, 4, 6, 8, 10]), [0, 2, 4, 6, 8, 10], 'Evens through ten')\n",
    "print(no_odds([-1, -3, -5, -7, -9]), [], 'Negative odds')\n",
    "print(no_odds([2, 4, 8, 6, 0]), [2, 4, 8, 6, 0], 'Out of order')\n",
    "print(no_odds([]), [], 'Empty list')"
   ]
  },
  {
   "cell_type": "markdown",
   "metadata": {},
   "source": [
    "### Limit string length - 1\n",
    "https://www.codewars.com/kata/5208fc3cb613bc725f000142  \n",
    "7 kyu\n",
    "\n",
    "The function must return the truncated version of the given string up to the given limit followed by \"...\" if the result is shorter than the original. Return the same string if nothing was truncated.\n",
    "\n",
    "Example:\n",
    "\n",
    "solution('Testing String', 3) --> 'Tes...'  \n",
    "solution('Testing String', 8) --> 'Testing ...'  \n",
    "solution('Test', 8)           --> 'Test' "
   ]
  },
  {
   "cell_type": "markdown",
   "metadata": {},
   "source": [
    "__My solution:__"
   ]
  },
  {
   "cell_type": "code",
   "execution_count": 112,
   "metadata": {},
   "outputs": [
    {
     "name": "stdout",
     "output_type": "stream",
     "text": [
      "Tes... Tes...\n",
      "Testing ... Testing ...\n",
      "Test Test\n",
      "Test Test\n"
     ]
    }
   ],
   "source": [
    "def solution(st, limit): \n",
    "    return f'{st[:limit]}...' if limit < len(st) else st\n",
    "\n",
    "\n",
    "print(solution('Testing String', 3), 'Tes...')\n",
    "print(solution('Testing String', 8), 'Testing ...')\n",
    "print(solution('Test', 10), 'Test')\n",
    "print(solution('Test', 4), 'Test')"
   ]
  },
  {
   "cell_type": "code",
   "execution_count": 114,
   "metadata": {},
   "outputs": [
    {
     "name": "stdout",
     "output_type": "stream",
     "text": [
      "Tes... Tes...\n",
      "Testing ... Testing ...\n",
      "Test Test\n",
      "Test Test\n"
     ]
    }
   ],
   "source": [
    "def solution(st, limit): \n",
    "    return st[:limit] + ('', '...')[limit < len(st)]\n",
    "\n",
    "\n",
    "print(solution('Testing String', 3), 'Tes...')\n",
    "print(solution('Testing String', 8), 'Testing ...')\n",
    "print(solution('Test', 10), 'Test')\n",
    "print(solution('Test', 4), 'Test')"
   ]
  },
  {
   "cell_type": "code",
   "execution_count": 115,
   "metadata": {},
   "outputs": [
    {
     "name": "stdout",
     "output_type": "stream",
     "text": [
      "Tes... Tes...\n",
      "Testing ... Testing ...\n",
      "Test Test\n",
      "Test Test\n"
     ]
    }
   ],
   "source": [
    "def solution(st, limit): \n",
    "    return st[:limit] + ('...') * (limit < len(st))\n",
    "\n",
    "\n",
    "print(solution('Testing String', 3), 'Tes...')\n",
    "print(solution('Testing String', 8), 'Testing ...')\n",
    "print(solution('Test', 10), 'Test')\n",
    "print(solution('Test', 4), 'Test')"
   ]
  },
  {
   "cell_type": "markdown",
   "metadata": {},
   "source": [
    "### Flatten\n",
    "https://www.codewars.com/kata/5250a89b1625e5decd000413  \n",
    "7 kyu\n",
    "\n",
    "Write a function that flattens an Array of Array objects into a flat Array. Your function must only do one level of flattening.\n",
    "\n",
    "flatten [1,2,3] # => [1,2,3]  \n",
    "flatten [[1,2,3],[\"a\",\"b\",\"c\"],[1,2,3]]  # =>   [1,2,3,\"a\",\"b\",\"c\",1,2,3]\n",
    "flatten [[[1,2,3]]] # => [[1,2,3]]  "
   ]
  },
  {
   "cell_type": "markdown",
   "metadata": {},
   "source": [
    "__My solution:__"
   ]
  },
  {
   "cell_type": "code",
   "execution_count": 130,
   "metadata": {},
   "outputs": [
    {
     "name": "stdout",
     "output_type": "stream",
     "text": [
      "[] [] []\n",
      "[1, 2, 3] [1, 2, 3] [1,2,3]\n",
      "[1, 2, 3, 'a', 'b', 'c', 1, 2, 3] [1, 2, 3, 'a', 'b', 'c', 1, 2, 3] [[1,2,3],[\"a\",\"b\",\"c\"],[1,2,3]]\n",
      "[1, 2, 3, 'a', 'b', 'c', 1, 2, 3, 'a'] [1, 2, 3, 'a', 'b', 'c', 1, 2, 3, 'a'] [[1,2,3],[\"a\",\"b\",\"c\"],[1,2,3],\"a\"]\n",
      "[3, 4, 5, [9, 9, 9], 'a,b,c'] [3, 4, 5, [9, 9, 9], 'a,b,c'] [[3,4,5],[[9,9,9]],[\"a,b,c\"]]\n",
      "[[3], [4], [5], 9, 9, 8, [1, 2, 3]] [[3], [4], [5], 9, 9, 8, [1, 2, 3]] [[3,4,5],[[9,9,9]],[\"a,b,c\"]]\n"
     ]
    }
   ],
   "source": [
    "def flatten(lst):\n",
    "    res = []\n",
    "    for x in lst:\n",
    "        if isinstance(x, list):\n",
    "            for y in x:\n",
    "                res.append(y)\n",
    "        else:\n",
    "            res.append(x)\n",
    "    return res\n",
    "    \n",
    "    \n",
    "print(flatten([]) , [], \"[]\")\n",
    "print(flatten([1,2,3]) , [1,2,3], \"[1,2,3]\")\n",
    "print(flatten([[1,2,3],[\"a\",\"b\",\"c\"],[1,2,3]]) , [1,2,3,\"a\",\"b\",\"c\",1,2,3], '[[1,2,3],[\"a\",\"b\",\"c\"],[1,2,3]]')\n",
    "print(flatten([[1,2,3],[\"a\",\"b\",\"c\"],[1,2,3],\"a\"]) , [1,2,3,\"a\",\"b\",\"c\",1,2,3,\"a\"], '[[1,2,3],[\"a\",\"b\",\"c\"],[1,2,3],\"a\"]')\n",
    "print(flatten([[3,4,5],[[9,9,9]],[\"a,b,c\"]]) , [3,4,5,[9,9,9],\"a,b,c\"], '[[3,4,5],[[9,9,9]],[\"a,b,c\"]]')\n",
    "print(flatten([[[3],[4],[5]],[9],[9],[8],[[1,2,3]]]) , [[3],[4],[5],9,9,8,[1,2,3]], '[[3,4,5],[[9,9,9]],[\"a,b,c\"]]')"
   ]
  },
  {
   "cell_type": "markdown",
   "metadata": {},
   "source": [
    "__My unsuccessful attempts:__"
   ]
  },
  {
   "cell_type": "code",
   "execution_count": 123,
   "metadata": {},
   "outputs": [
    {
     "name": "stdout",
     "output_type": "stream",
     "text": [
      "[] [] []\n",
      "[1, 2, 3] [1, 2, 3] [1,2,3]\n",
      "[[1, 2, 3], ['a', 'b', 'c'], [1, 2, 3]] [1, 2, 3, 'a', 'b', 'c', 1, 2, 3] [[1,2,3],[\"a\",\"b\",\"c\"],[1,2,3]]\n",
      "[[1, 2, 3], ['a', 'b', 'c'], [1, 2, 3], 'a'] [1, 2, 3, 'a', 'b', 'c', 1, 2, 3, 'a'] [[1,2,3],[\"a\",\"b\",\"c\"],[1,2,3],\"a\"]\n",
      "[[3, 4, 5], [[9, 9, 9]], ['a,b,c']] [3, 4, 5, [9, 9, 9], 'a,b,c'] [[3,4,5],[[9,9,9]],[\"a,b,c\"]]\n",
      "[[[3], [4], [5]], [9], [9], [8], [[1, 2, 3]]] [[3], [4], [5], 9, 9, 8, [1, 2, 3]] [[3,4,5],[[9,9,9]],[\"a,b,c\"]]\n"
     ]
    }
   ],
   "source": [
    "def flatten(lst):\n",
    "    return [[x, *x][isinstance(x, list)] for x in lst]\n",
    "    \n",
    "    \n",
    "print(flatten([]) , [], \"[]\")\n",
    "print(flatten([1,2,3]) , [1,2,3], \"[1,2,3]\")\n",
    "print(flatten([[1,2,3],[\"a\",\"b\",\"c\"],[1,2,3]]) , [1,2,3,\"a\",\"b\",\"c\",1,2,3], '[[1,2,3],[\"a\",\"b\",\"c\"],[1,2,3]]')\n",
    "print(flatten([[1,2,3],[\"a\",\"b\",\"c\"],[1,2,3],\"a\"]) , [1,2,3,\"a\",\"b\",\"c\",1,2,3,\"a\"], '[[1,2,3],[\"a\",\"b\",\"c\"],[1,2,3],\"a\"]')\n",
    "print(flatten([[3,4,5],[[9,9,9]],[\"a,b,c\"]]) , [3,4,5,[9,9,9],\"a,b,c\"], '[[3,4,5],[[9,9,9]],[\"a,b,c\"]]')\n",
    "print(flatten([[[3],[4],[5]],[9],[9],[8],[[1,2,3]]]) , [[3],[4],[5],9,9,8,[1,2,3]], '[[3,4,5],[[9,9,9]],[\"a,b,c\"]]')"
   ]
  },
  {
   "cell_type": "code",
   "execution_count": 122,
   "metadata": {},
   "outputs": [
    {
     "ename": "SyntaxError",
     "evalue": "can't use starred expression here (<ipython-input-122-74ae024f65d2>, line 7)",
     "output_type": "error",
     "traceback": [
      "\u001b[1;36m  File \u001b[1;32m\"<ipython-input-122-74ae024f65d2>\"\u001b[1;36m, line \u001b[1;32m7\u001b[0m\n\u001b[1;31mSyntaxError\u001b[0m\u001b[1;31m:\u001b[0m can't use starred expression here\n"
     ]
    }
   ],
   "source": [
    "x = [1, 2, 3]\n",
    "#x = 1\n",
    "isinstance(x, list)\n",
    "*x"
   ]
  },
  {
   "cell_type": "markdown",
   "metadata": {},
   "source": [
    "This order of for instructions is wrong:"
   ]
  },
  {
   "cell_type": "code",
   "execution_count": 132,
   "metadata": {},
   "outputs": [
    {
     "ename": "TypeError",
     "evalue": "'int' object is not iterable",
     "output_type": "error",
     "traceback": [
      "\u001b[1;31m---------------------------------------------------------------------------\u001b[0m",
      "\u001b[1;31mTypeError\u001b[0m                                 Traceback (most recent call last)",
      "\u001b[1;32m<ipython-input-132-fc4c7337944e>\u001b[0m in \u001b[0;36m<module>\u001b[1;34m\u001b[0m\n\u001b[0;32m      3\u001b[0m \u001b[1;33m\u001b[0m\u001b[0m\n\u001b[0;32m      4\u001b[0m \u001b[1;33m\u001b[0m\u001b[0m\n\u001b[1;32m----> 5\u001b[1;33m \u001b[0mprint\u001b[0m\u001b[1;33m(\u001b[0m\u001b[0mflatten\u001b[0m\u001b[1;33m(\u001b[0m\u001b[1;33m[\u001b[0m\u001b[1;33m[\u001b[0m\u001b[1;36m1\u001b[0m\u001b[1;33m,\u001b[0m\u001b[1;36m2\u001b[0m\u001b[1;33m,\u001b[0m\u001b[1;36m3\u001b[0m\u001b[1;33m]\u001b[0m\u001b[1;33m]\u001b[0m\u001b[1;33m)\u001b[0m \u001b[1;33m,\u001b[0m \u001b[1;33m[\u001b[0m\u001b[1;36m1\u001b[0m\u001b[1;33m,\u001b[0m\u001b[1;36m2\u001b[0m\u001b[1;33m,\u001b[0m\u001b[1;36m3\u001b[0m\u001b[1;33m]\u001b[0m\u001b[1;33m)\u001b[0m\u001b[1;33m\u001b[0m\u001b[1;33m\u001b[0m\u001b[0m\n\u001b[0m",
      "\u001b[1;32m<ipython-input-132-fc4c7337944e>\u001b[0m in \u001b[0;36mflatten\u001b[1;34m(lst)\u001b[0m\n\u001b[0;32m      1\u001b[0m \u001b[1;32mdef\u001b[0m \u001b[0mflatten\u001b[0m\u001b[1;33m(\u001b[0m\u001b[0mlst\u001b[0m\u001b[1;33m)\u001b[0m\u001b[1;33m:\u001b[0m\u001b[1;33m\u001b[0m\u001b[1;33m\u001b[0m\u001b[0m\n\u001b[1;32m----> 2\u001b[1;33m     \u001b[1;32mreturn\u001b[0m \u001b[1;33m[\u001b[0m\u001b[0my\u001b[0m \u001b[1;32mfor\u001b[0m \u001b[0my\u001b[0m \u001b[1;32min\u001b[0m \u001b[0mx\u001b[0m \u001b[1;32mfor\u001b[0m \u001b[0mx\u001b[0m \u001b[1;32min\u001b[0m \u001b[0mlst\u001b[0m\u001b[1;33m]\u001b[0m\u001b[1;33m\u001b[0m\u001b[1;33m\u001b[0m\u001b[0m\n\u001b[0m\u001b[0;32m      3\u001b[0m \u001b[1;33m\u001b[0m\u001b[0m\n\u001b[0;32m      4\u001b[0m \u001b[1;33m\u001b[0m\u001b[0m\n\u001b[0;32m      5\u001b[0m \u001b[0mprint\u001b[0m\u001b[1;33m(\u001b[0m\u001b[0mflatten\u001b[0m\u001b[1;33m(\u001b[0m\u001b[1;33m[\u001b[0m\u001b[1;33m[\u001b[0m\u001b[1;36m1\u001b[0m\u001b[1;33m,\u001b[0m\u001b[1;36m2\u001b[0m\u001b[1;33m,\u001b[0m\u001b[1;36m3\u001b[0m\u001b[1;33m]\u001b[0m\u001b[1;33m]\u001b[0m\u001b[1;33m)\u001b[0m \u001b[1;33m,\u001b[0m \u001b[1;33m[\u001b[0m\u001b[1;36m1\u001b[0m\u001b[1;33m,\u001b[0m\u001b[1;36m2\u001b[0m\u001b[1;33m,\u001b[0m\u001b[1;36m3\u001b[0m\u001b[1;33m]\u001b[0m\u001b[1;33m)\u001b[0m\u001b[1;33m\u001b[0m\u001b[1;33m\u001b[0m\u001b[0m\n",
      "\u001b[1;31mTypeError\u001b[0m: 'int' object is not iterable"
     ]
    }
   ],
   "source": [
    "def flatten(lst):\n",
    "    return [y for y in x for x in lst]\n",
    "    \n",
    "    \n",
    "print(flatten([[1,2,3]]) , [1,2,3])"
   ]
  },
  {
   "cell_type": "markdown",
   "metadata": {},
   "source": [
    "This order of for instructions is right:"
   ]
  },
  {
   "cell_type": "code",
   "execution_count": 133,
   "metadata": {},
   "outputs": [
    {
     "name": "stdout",
     "output_type": "stream",
     "text": [
      "[1, 2, 3] [1, 2, 3]\n"
     ]
    }
   ],
   "source": [
    "def flatten(lst):\n",
    "    return [y for x in lst for y in x]\n",
    "    \n",
    "    \n",
    "print(flatten([[1,2,3]]) , [1,2,3])"
   ]
  }
 ],
 "metadata": {
  "kernelspec": {
   "display_name": "Python 3",
   "language": "python",
   "name": "python3"
  },
  "language_info": {
   "codemirror_mode": {
    "name": "ipython",
    "version": 3
   },
   "file_extension": ".py",
   "mimetype": "text/x-python",
   "name": "python",
   "nbconvert_exporter": "python",
   "pygments_lexer": "ipython3",
   "version": "3.7.3"
  }
 },
 "nbformat": 4,
 "nbformat_minor": 2
}

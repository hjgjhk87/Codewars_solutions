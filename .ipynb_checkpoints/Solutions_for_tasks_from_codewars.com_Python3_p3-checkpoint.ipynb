{
 "cells": [
  {
   "cell_type": "markdown",
   "metadata": {},
   "source": [
    "20210101"
   ]
  },
  {
   "cell_type": "markdown",
   "metadata": {},
   "source": [
    "### Consecutive Differences\n",
    "https://www.codewars.com/kata/5ff22b6e833a9300180bb953  \n",
    "7 kyu\n",
    "\n",
    "Given a list of integers, find the positive difference between each consecutive pair of numbers, and put this into a new list of differences. Then, find the differences between consecutive pairs in this new list, and repeat until the list has a length of 1. Then, return the single value.\n",
    "\n",
    "The list will only contain integers, and will not be empty.\n",
    "\n",
    "For example:\n",
    "\n",
    "differences([1, 2, 3]) => [1, 1] => [0] => 0  \n",
    "differences([1, 5, 2, 7, 8, 9, 0]) => [4, 3, 5, 1, 1, 9] => [1, 2, 4, 0, 8] => ... => 1  \n",
    "differences([2, 3, 1]) => [1, 2] => 1"
   ]
  },
  {
   "cell_type": "markdown",
   "metadata": {},
   "source": [
    "__My solution:__"
   ]
  },
  {
   "cell_type": "code",
   "execution_count": 6,
   "metadata": {},
   "outputs": [
    {
     "name": "stdout",
     "output_type": "stream",
     "text": [
      "0 0\n",
      "1 1\n",
      "1 1\n",
      "2 2\n"
     ]
    }
   ],
   "source": [
    "def differences(lst):\n",
    "    if len(lst) == 1:\n",
    "        return lst[0]\n",
    "    \n",
    "    return differences([abs(lst[i] - lst[i + 1]) for i in range(0, len(lst) - 1)])\n",
    "\n",
    "\n",
    "def testing(n, res):\n",
    "    print(differences(n), res)\n",
    "\n",
    "testing([1, 2, 3], 0)\n",
    "testing([1, 5, 2, 7, 8, 9, 0], 1)\n",
    "testing([2, 3, 1], 1)\n",
    "testing([-1, 2, 3], 2)"
   ]
  },
  {
   "cell_type": "markdown",
   "metadata": {},
   "source": [
    "20210102"
   ]
  },
  {
   "cell_type": "markdown",
   "metadata": {},
   "source": [
    "### Calculate Parity bit!\n",
    "https://www.codewars.com/kata/5df261342964c80028345a0a  \n",
    "7 kyu\n",
    "\n",
    "A parity bit, or check bit, is a bit added to a string of bits to ensure that the total number of 1-bits in the string is even or odd. Parity bits are used as the simplest form of error detecting code.\n",
    "\n",
    "You have two parameters, one being the wanted parity (always 'even' or 'odd'), and the other being the binary representation of the number you want to check.\n",
    "\n",
    "Your task is to return an integer (0 or 1), whose the parity bit you need to add to the binary representation so that the parity of the resulting string is as expected.\n",
    "\n",
    "Example:\n",
    "\n",
    "  Parity: 'even'  \n",
    "  Bin: '0101010'  \n",
    "  Result: 1\n",
    "  \n",
    "Because there is an odd number of 1-bits (3) you need to put another 1 to it to get an even number of 1-bits.\n",
    "\n",
    "For more information: https://en.wikipedia.org/wiki/Parity_bit"
   ]
  },
  {
   "cell_type": "markdown",
   "metadata": {},
   "source": [
    "__My solutions:__"
   ]
  },
  {
   "cell_type": "markdown",
   "metadata": {},
   "source": [
    "__#1__"
   ]
  },
  {
   "cell_type": "code",
   "execution_count": 21,
   "metadata": {},
   "outputs": [
    {
     "name": "stdout",
     "output_type": "stream",
     "text": [
      "1 1\n",
      "0 0\n",
      "0 0\n",
      "1 1\n"
     ]
    }
   ],
   "source": [
    "def check_parity(parity, bin_str): \n",
    "    return bin_str.count('1') & 1 if parity == 'even' else bin_str.count('1') & 1 ^ 1\n",
    "\n",
    "\n",
    "print(check_parity('even','101010'), 1)\n",
    "print(check_parity('odd','101010'), 0)\n",
    "print(check_parity('even','101011'), 0)\n",
    "print(check_parity('odd','101011'), 1)"
   ]
  },
  {
   "cell_type": "markdown",
   "metadata": {},
   "source": [
    "__#2__"
   ]
  },
  {
   "cell_type": "code",
   "execution_count": 23,
   "metadata": {},
   "outputs": [
    {
     "name": "stdout",
     "output_type": "stream",
     "text": [
      "1 1\n",
      "0 0\n",
      "0 0\n",
      "1 1\n"
     ]
    }
   ],
   "source": [
    "def check_parity(parity, bin_str): \n",
    "    return bin_str.count('1') & 1 if parity == 'even' else int(not bin_str.count('1') & 1)\n",
    "\n",
    "\n",
    "print(check_parity('even','101010'), 1)\n",
    "print(check_parity('odd','101010'), 0)\n",
    "print(check_parity('even','101011'), 0)\n",
    "print(check_parity('odd','101011'), 1)"
   ]
  },
  {
   "cell_type": "code",
   "execution_count": 10,
   "metadata": {},
   "outputs": [
    {
     "data": {
      "text/plain": [
       "0"
      ]
     },
     "execution_count": 10,
     "metadata": {},
     "output_type": "execute_result"
    }
   ],
   "source": [
    "100 & 1"
   ]
  },
  {
   "cell_type": "code",
   "execution_count": 11,
   "metadata": {},
   "outputs": [
    {
     "data": {
      "text/plain": [
       "1"
      ]
     },
     "execution_count": 11,
     "metadata": {},
     "output_type": "execute_result"
    }
   ],
   "source": [
    "11 & 1"
   ]
  },
  {
   "cell_type": "code",
   "execution_count": 12,
   "metadata": {},
   "outputs": [
    {
     "data": {
      "text/plain": [
       "0"
      ]
     },
     "execution_count": 12,
     "metadata": {},
     "output_type": "execute_result"
    }
   ],
   "source": [
    "100 & 0"
   ]
  },
  {
   "cell_type": "code",
   "execution_count": 13,
   "metadata": {},
   "outputs": [
    {
     "data": {
      "text/plain": [
       "100"
      ]
     },
     "execution_count": 13,
     "metadata": {},
     "output_type": "execute_result"
    }
   ],
   "source": [
    "100 | 0"
   ]
  },
  {
   "cell_type": "code",
   "execution_count": 14,
   "metadata": {},
   "outputs": [
    {
     "data": {
      "text/plain": [
       "-1"
      ]
     },
     "execution_count": 14,
     "metadata": {},
     "output_type": "execute_result"
    }
   ],
   "source": [
    "~0"
   ]
  },
  {
   "cell_type": "code",
   "execution_count": 15,
   "metadata": {},
   "outputs": [
    {
     "data": {
      "text/plain": [
       "0"
      ]
     },
     "execution_count": 15,
     "metadata": {},
     "output_type": "execute_result"
    }
   ],
   "source": [
    "-0"
   ]
  },
  {
   "cell_type": "code",
   "execution_count": 16,
   "metadata": {},
   "outputs": [
    {
     "data": {
      "text/plain": [
       "1"
      ]
     },
     "execution_count": 16,
     "metadata": {},
     "output_type": "execute_result"
    }
   ],
   "source": [
    "0 | 1"
   ]
  },
  {
   "cell_type": "code",
   "execution_count": 17,
   "metadata": {},
   "outputs": [
    {
     "data": {
      "text/plain": [
       "1"
      ]
     },
     "execution_count": 17,
     "metadata": {},
     "output_type": "execute_result"
    }
   ],
   "source": [
    "0 ^ 1"
   ]
  },
  {
   "cell_type": "code",
   "execution_count": 18,
   "metadata": {},
   "outputs": [
    {
     "data": {
      "text/plain": [
       "0"
      ]
     },
     "execution_count": 18,
     "metadata": {},
     "output_type": "execute_result"
    }
   ],
   "source": [
    "1 ^ 1"
   ]
  },
  {
   "cell_type": "markdown",
   "metadata": {},
   "source": [
    "20210103"
   ]
  },
  {
   "cell_type": "markdown",
   "metadata": {},
   "source": [
    "### Maximum Multiple\n",
    "https://www.codewars.com/kata/5aba780a6a176b029800041c  \n",
    "7 kyu\n",
    "\n",
    "Given a Divisor and a Bound, Find the largest integer N, Such That,\n",
    "\n",
    "Conditions:  \n",
    "N is divisible by divisor  \n",
    "N is less than or equal to bound  \n",
    "N is greater than 0.\n",
    "\n",
    "Notes  \n",
    "\n",
    "The parameters (divisor, bound) passed to the function are only positive values.  \n",
    "It's guaranteed that a divisor is Found.  \n",
    "\n",
    "Input >> Output Examples\n",
    "\n",
    "maxMultiple (2,7) ==> return (6)  \n",
    "Explanation:  \n",
    "(6) is divisible by (2), (6) is less than or equal to bound (7), and (6) is > 0.\n",
    "\n",
    "maxMultiple (10,50)  ==> return (50)  \n",
    "Explanation:  \n",
    "(50) is divisible by (10), (50) is less than or equal to bound (50), and (50) is > 0.\n",
    "\n",
    "maxMultiple (37,200) ==> return (185)  \n",
    "Explanation:  \n",
    "(185) is divisible by (37), (185) is less than or equal to bound (200) , and (185) is > 0."
   ]
  },
  {
   "cell_type": "markdown",
   "metadata": {},
   "source": [
    "__My solution:__"
   ]
  },
  {
   "cell_type": "code",
   "execution_count": 22,
   "metadata": {},
   "outputs": [
    {
     "name": "stdout",
     "output_type": "stream",
     "text": [
      "6 6\n",
      "9 9\n",
      "14 14\n",
      "50 50\n",
      "185 185\n",
      "98 98\n"
     ]
    }
   ],
   "source": [
    "def max_multiple(divisor, bound):\n",
    "    return bound // divisor * divisor\n",
    "\n",
    "\n",
    "print(max_multiple(2,7),6)\n",
    "print(max_multiple(3,10),9)\n",
    "print(max_multiple(7,17),14)\n",
    "print(max_multiple(10,50),50)\n",
    "print(max_multiple(37,200),185)\n",
    "print(max_multiple(7,100),98)"
   ]
  },
  {
   "cell_type": "markdown",
   "metadata": {},
   "source": [
    "### JavaScript Array Filter\n",
    "https://www.codewars.com/kata/514a6336889283a3d2000001  \n",
    "7 kyu\n",
    "\n",
    "In Python, there is a built-in filter function that operates similarly to JS's filter. For more information on how to use this function, visit https://docs.python.org/3/library/functions.html#filter\n",
    "\n",
    "The solution would work like the following:\n",
    "\n",
    "get_even_numbers([2,4,5,6]) => [2,4,6]"
   ]
  },
  {
   "cell_type": "markdown",
   "metadata": {},
   "source": [
    "__My solutions:__"
   ]
  },
  {
   "cell_type": "markdown",
   "metadata": {},
   "source": [
    "__#1__"
   ]
  },
  {
   "cell_type": "code",
   "execution_count": 33,
   "metadata": {},
   "outputs": [
    {
     "name": "stdout",
     "output_type": "stream",
     "text": [
      "[2, 4, 6] [2, 4, 6]\n",
      "[] []\n",
      "[] []\n",
      "[2] [2]\n",
      "[2, 4] [2, 4]\n",
      "[2, 4, 6, 8] [2, 4, 6, 8]\n"
     ]
    }
   ],
   "source": [
    "def get_even_numbers(arr):\n",
    "    return list(filter(lambda a: not a & 1, arr))\n",
    "\n",
    "\n",
    "test_data = [\n",
    "    ([2,4,5,6], [2,4,6]),\n",
    "    ([], []),\n",
    "    ([1], []),\n",
    "    ([1, 2], [2]),\n",
    "    ([1,2,3,4,5], [2,4]),\n",
    "    ([2,4,6,8], [2,4,6,8])\n",
    "]\n",
    "for (data, exp) in test_data:      \n",
    "    actual = get_even_numbers(data)\n",
    "    print(actual, exp)"
   ]
  },
  {
   "cell_type": "markdown",
   "metadata": {},
   "source": [
    "__#2__"
   ]
  },
  {
   "cell_type": "code",
   "execution_count": 34,
   "metadata": {},
   "outputs": [
    {
     "name": "stdout",
     "output_type": "stream",
     "text": [
      "[2, 4, 6] [2, 4, 6]\n",
      "[] []\n",
      "[] []\n",
      "[2] [2]\n",
      "[2, 4] [2, 4]\n",
      "[2, 4, 6, 8] [2, 4, 6, 8]\n"
     ]
    }
   ],
   "source": [
    "def get_even_numbers(arr):\n",
    "    return [a for a in arr if not a & 1]\n",
    "\n",
    "\n",
    "test_data = [\n",
    "    ([2,4,5,6], [2,4,6]),\n",
    "    ([], []),\n",
    "    ([1], []),\n",
    "    ([1, 2], [2]),\n",
    "    ([1,2,3,4,5], [2,4]),\n",
    "    ([2,4,6,8], [2,4,6,8])\n",
    "]\n",
    "for (data, exp) in test_data:      \n",
    "    actual = get_even_numbers(data)\n",
    "    print(actual, exp)"
   ]
  },
  {
   "cell_type": "markdown",
   "metadata": {},
   "source": [
    "20210104"
   ]
  },
  {
   "cell_type": "markdown",
   "metadata": {},
   "source": [
    "### Float Precision\n",
    "https://www.codewars.com/kata/5143d157ceb46d6a61000001  \n",
    "7 kyu\n",
    "\n",
    "Update the solution method to round the argument value to the closest precision of two. The argument will always be a float.\n",
    "\n",
    "solution(23.23456) # should == 23.23  \n",
    "solution(1.546) # should == 1.55  "
   ]
  },
  {
   "cell_type": "markdown",
   "metadata": {},
   "source": [
    "__My solution:__"
   ]
  },
  {
   "cell_type": "code",
   "execution_count": 35,
   "metadata": {},
   "outputs": [
    {
     "name": "stdout",
     "output_type": "stream",
     "text": [
      "2.34 2.34\n",
      "5.68 5.68\n"
     ]
    }
   ],
   "source": [
    "def solution(n):\n",
    "    return round(n, 2)\n",
    "\n",
    "\n",
    "print(solution(2.34), 2.34)\n",
    "print(solution(5.678), 5.68)"
   ]
  },
  {
   "cell_type": "markdown",
   "metadata": {},
   "source": [
    "__My unsuccessful attempts:__"
   ]
  },
  {
   "cell_type": "code",
   "execution_count": 39,
   "metadata": {},
   "outputs": [
    {
     "name": "stdout",
     "output_type": "stream",
     "text": [
      "2.34 2.34\n",
      "5.68 5.68\n"
     ]
    }
   ],
   "source": [
    "def solution(n):\n",
    "    return f'{n:.3}'\n",
    "\n",
    "\n",
    "print(solution(2.34), 2.34)\n",
    "print(solution(5.678), 5.68)"
   ]
  },
  {
   "cell_type": "markdown",
   "metadata": {},
   "source": [
    "### Retrieve array value by index with default\n",
    "https://www.codewars.com/kata/515ceaebcc1dde8870000001  \n",
    "7 kyu\n",
    "\n",
    "Complete the solution. It should try to retrieve the value of the array at the index provided. If the index is out of the array's max bounds then it should return the default value instead.\n",
    "\n",
    "Example:\n",
    "\n",
    "data = ['a', 'b', 'c']  \n",
    "solution(data, 1, 'd') # should == 'b'  \n",
    "solution(data, 5, 'd') # should == 'd'  \n",
    "\n",
    "Negative values work as long as they aren't out of the length bounds:    \n",
    "solution(data, -1, 'd') # should == 'c'  \n",
    "solution(data, -5, 'd') # should == 'd'"
   ]
  },
  {
   "cell_type": "markdown",
   "metadata": {},
   "source": [
    "__My solutions:__"
   ]
  },
  {
   "cell_type": "markdown",
   "metadata": {},
   "source": [
    "__#1__"
   ]
  },
  {
   "cell_type": "code",
   "execution_count": 44,
   "metadata": {},
   "outputs": [
    {
     "name": "stdout",
     "output_type": "stream",
     "text": [
      "1 1\n",
      "2 2\n",
      "3 3\n",
      "a a\n",
      "1 1\n",
      "a a\n",
      "None None\n"
     ]
    }
   ],
   "source": [
    "def solution(items, index, default_value):\n",
    "    try:\n",
    "        return items[index]\n",
    "    except IndexError:\n",
    "        return default_value\n",
    "\n",
    "\n",
    "rng = list(range(1, 4))\n",
    "print(solution(rng, 0, 'a'), 1)\n",
    "print(solution(rng, 1, 'a'), 2)\n",
    "print(solution(rng, -1, 'a'), 3)\n",
    "print(solution(rng, -5, 'a'), 'a')\n",
    "print(solution(rng, -3, 'a'), 1)\n",
    "\n",
    "rng = list(range(1, 6))\n",
    "print(solution(range(1, 6), 10, 'a'), 'a')\n",
    "print(solution([None, None], 0, 'a'), None)"
   ]
  },
  {
   "cell_type": "markdown",
   "metadata": {},
   "source": [
    "__#2__"
   ]
  },
  {
   "cell_type": "code",
   "execution_count": 45,
   "metadata": {},
   "outputs": [
    {
     "name": "stdout",
     "output_type": "stream",
     "text": [
      "1 1\n",
      "2 2\n",
      "3 3\n",
      "a a\n",
      "1 1\n",
      "a a\n",
      "None None\n"
     ]
    }
   ],
   "source": [
    "def solution(items, index, default_value):\n",
    "    return items[index] if -len(items) <= index < len(items) else default_value\n",
    "\n",
    "\n",
    "rng = list(range(1, 4))\n",
    "print(solution(rng, 0, 'a'), 1)\n",
    "print(solution(rng, 1, 'a'), 2)\n",
    "print(solution(rng, -1, 'a'), 3)\n",
    "print(solution(rng, -5, 'a'), 'a')\n",
    "print(solution(rng, -3, 'a'), 1)\n",
    "\n",
    "rng = list(range(1, 6))\n",
    "print(solution(range(1, 6), 10, 'a'), 'a')\n",
    "print(solution([None, None], 0, 'a'), None)"
   ]
  },
  {
   "cell_type": "code",
   "execution_count": 40,
   "metadata": {},
   "outputs": [
    {
     "data": {
      "text/plain": [
       "3"
      ]
     },
     "execution_count": 40,
     "metadata": {},
     "output_type": "execute_result"
    }
   ],
   "source": [
    "a = [1, 2, 3]\n",
    "a[-1]"
   ]
  },
  {
   "cell_type": "code",
   "execution_count": 42,
   "metadata": {},
   "outputs": [
    {
     "ename": "IndexError",
     "evalue": "list index out of range",
     "output_type": "error",
     "traceback": [
      "\u001b[1;31m---------------------------------------------------------------------------\u001b[0m",
      "\u001b[1;31mIndexError\u001b[0m                                Traceback (most recent call last)",
      "\u001b[1;32m<ipython-input-42-4b43f82cd5c9>\u001b[0m in \u001b[0;36m<module>\u001b[1;34m\u001b[0m\n\u001b[1;32m----> 1\u001b[1;33m \u001b[0ma\u001b[0m\u001b[1;33m[\u001b[0m\u001b[1;33m-\u001b[0m\u001b[1;36m4\u001b[0m\u001b[1;33m]\u001b[0m\u001b[1;33m\u001b[0m\u001b[1;33m\u001b[0m\u001b[0m\n\u001b[0m",
      "\u001b[1;31mIndexError\u001b[0m: list index out of range"
     ]
    }
   ],
   "source": [
    "a[-4]"
   ]
  },
  {
   "cell_type": "markdown",
   "metadata": {},
   "source": [
    "20210105"
   ]
  },
  {
   "cell_type": "markdown",
   "metadata": {},
   "source": [
    "### Largest 5 digit number in a series\n",
    "https://www.codewars.com/kata/51675d17e0c1bed195000001  \n",
    "7 kyu\n",
    "\n",
    "In the following 6 digit number:\n",
    "\n",
    "283910\n",
    "91 is the greatest sequence of 2 consecutive digits.\n",
    "\n",
    "In the following 10 digit number:\n",
    "\n",
    "1234567890  \n",
    "67890 is the greatest sequence of 5 consecutive digits.\n",
    "\n",
    "Complete the solution so that it returns the greatest sequence of five consecutive digits found within the number given. The number will be passed in as a string of only digits. It should return a five digit integer. The number passed may be as large as 1000 digits.\n",
    "\n",
    "Adapted from ProjectEuler.net"
   ]
  },
  {
   "cell_type": "markdown",
   "metadata": {},
   "source": [
    "__My solution:__"
   ]
  },
  {
   "cell_type": "code",
   "execution_count": 57,
   "metadata": {},
   "outputs": [
    {
     "name": "stdout",
     "output_type": "stream",
     "text": [
      "99890 99890\n",
      "98765 98765\n",
      "10000 10000\n",
      "23 23\n",
      "0 0\n",
      "23 23\n"
     ]
    }
   ],
   "source": [
    "def solution(digits):\n",
    "    res = 0\n",
    "    for i in range(len(digits) - 4):\n",
    "        res = max(res, int(digits[i: i + 5]))\n",
    "    return res\n",
    "\n",
    "\n",
    "number = \"7316717653133062491922511967442657474235534919493496983520368542506326239578318016984801869478851843858615607891129494954595017379583319528532088055111254069874715852386305071569329096329522744304355766896648950445244523161731856403098711121722383113622298934233803081353362766142828064444866452387493035890729629049156044077239071381051585930796086670172427121883998797908792274921901699720888093776657273330010533678812202354218097512545405947522435258490771167055601360483958644670632441572215539753123457977846174064955149290862569321978468622482839722413756570560574902614079729686524145351004748216637048440319989000889524345065854122758866688116427171479924442928230863465674813919123162824586178664583591245665294765456828489128831426076900422421902267105562632111110937054421750694165896040807198403850962455444362981230987879927244284909188845801561660979191338754992005240636899125607176060588611646710940507754100225698315520005593572972571636269561882670428252483600823257540920752963450\"\n",
    "actual = solution(number);\n",
    "\n",
    "assert actual != 0, 'solution returned zero'\n",
    "assert actual, 'solution did not return a value'\n",
    "\n",
    "print(actual, 99890)\n",
    "print(solution('1234567898765'), 98765)\n",
    "print(solution('1000023'), 10000)\n",
    "print(solution('0000023'), 23)\n",
    "print(solution('23'), 0)  # str digits should  have at least 5 elements\n",
    "print(solution('00023'), 23)"
   ]
  },
  {
   "cell_type": "code",
   "execution_count": 55,
   "metadata": {},
   "outputs": [
    {
     "data": {
      "text/plain": [
       "23"
      ]
     },
     "execution_count": 55,
     "metadata": {},
     "output_type": "execute_result"
    }
   ],
   "source": [
    "int('00023')"
   ]
  },
  {
   "cell_type": "markdown",
   "metadata": {},
   "source": [
    "20210106"
   ]
  },
  {
   "cell_type": "markdown",
   "metadata": {},
   "source": [
    "### Refactored Greeting\n",
    "https://www.codewars.com/kata/5121303128ef4b495f000001  \n",
    "7 kyu\n",
    "\n",
    "The following code could use a bit of object-oriented artistry. While it's a simple method and works just fine as it is, in a larger system it's best to organize methods into classes/objects. (Or, at least, something similar depending on your language)\n",
    "\n",
    "Refactor the following code so that it belongs to a Person class/object. Each Person instance will have a greet method. The Person instance should be instantiated with a name so that it no longer has to be passed into each greet method call.\n",
    "\n",
    "Here is how the final refactored code would be used:\n",
    "\n",
    "joe = Person('Joe')  \n",
    "joe.greet('Kate') # should return 'Hello Kate, my name is Joe'  \n",
    "joe.name          # should == 'Joe'  "
   ]
  },
  {
   "cell_type": "markdown",
   "metadata": {},
   "source": [
    "__My solution:__"
   ]
  },
  {
   "cell_type": "code",
   "execution_count": 58,
   "metadata": {},
   "outputs": [
    {
     "name": "stdout",
     "output_type": "stream",
     "text": [
      "Hello Jill, my name is Jack Hello Jill, my name is Jack\n",
      "Hello Mary, my name is Jack Hello Mary, my name is Jack\n",
      "Hello Jack, my name is Jill Hello Jack, my name is Jill\n",
      "Jill Jill\n"
     ]
    }
   ],
   "source": [
    "class Person:\n",
    "    def __init__(self, my_name):\n",
    "        self.name = my_name\n",
    "        \n",
    "    def greet(self, your_name):\n",
    "        return f'Hello {your_name}, my name is {self.name}'\n",
    "\n",
    "jack = Person(\"Jack\")\n",
    "jill = Person(\"Jill\")\n",
    "\n",
    "print(jack.greet(\"Jill\"), \"Hello Jill, my name is Jack\")\n",
    "print(jack.greet(\"Mary\"), \"Hello Mary, my name is Jack\")\n",
    "\n",
    "print(jill.greet(\"Jack\"), \"Hello Jack, my name is Jill\")\n",
    "print(jill.name, 'Jill')"
   ]
  },
  {
   "cell_type": "markdown",
   "metadata": {},
   "source": [
    "### Sort Numbers\n",
    "https://www.codewars.com/kata/5174a4c0f2769dd8b1000003  \n",
    "7 kyu\n",
    "\n",
    "Finish the solution so that it sorts the passed in array of numbers. If the function passes in an empty array or null/nil value then it should return an empty array.\n",
    "\n",
    "For example:\n",
    "\n",
    "solution([1,2,3,10,5]) # should return [1,2,3,5,10]  \n",
    "solution(None) # should return []"
   ]
  },
  {
   "cell_type": "markdown",
   "metadata": {},
   "source": [
    "__My solution:__"
   ]
  },
  {
   "cell_type": "code",
   "execution_count": 59,
   "metadata": {},
   "outputs": [
    {
     "name": "stdout",
     "output_type": "stream",
     "text": [
      "[1, 2, 3, 5, 10] [1, 2, 3, 5, 10]\n",
      "[] []\n",
      "[] []\n",
      "[2, 10, 20] [2, 10, 20]\n",
      "[2, 10, 20] [2, 10, 20]\n"
     ]
    }
   ],
   "source": [
    "def solution(nums):\n",
    "    return sorted(nums) if nums else []\n",
    "\n",
    "\n",
    "print(solution([1,2,3,10,5]), [1,2,3,5,10])\n",
    "print(solution(None), [])\n",
    "print(solution([]), [])\n",
    "print(solution([20,2,10]), [2,10,20])\n",
    "print(solution([2,20,10]), [2,10,20])"
   ]
  },
  {
   "cell_type": "markdown",
   "metadata": {},
   "source": [
    "20210107"
   ]
  },
  {
   "cell_type": "markdown",
   "metadata": {},
   "source": [
    "### Ninja vs Samurai: Strike\n",
    "https://www.codewars.com/kata/517b0f33cd023d848d000001  \n",
    "7 kyu\n",
    "\n",
    "Something is wrong with our Warrior class. The strike method does not work correctly. The following shows an example of this code being used:\n",
    "\n",
    "ninja = Warrior('Ninja')  \n",
    "samurai = Warrior('Samurai')  \n",
    "\n",
    "samurai.strike(ninja, 3)  # ninja.health should == 70\n",
    "\n",
    "Can you figure out what is wrong?"
   ]
  },
  {
   "cell_type": "markdown",
   "metadata": {},
   "source": [
    "__My solution:__"
   ]
  },
  {
   "cell_type": "code",
   "execution_count": null,
   "metadata": {},
   "outputs": [],
   "source": [
    "class Warrior:\n",
    "    def __init__(self, name):\n",
    "        self.name=name\n",
    "        self.health=100\n",
    "        \n",
    "    def strike(self, enemy, swings):\n",
    "        #health cannot go below zero\n",
    "        enemy.health=max([0, enemy.health - (swings * 10)])\n",
    "        \n",
    "        \n",
    "from random import randint\n",
    "#warm up test\n",
    "\n",
    "name=['Hattori Hanzo','Sasuke Sarutobi', 'Jubei Kibagami', 'Kotaro Fuma'][randint(0, 3)]\n",
    "ninja = Warrior(name)\n",
    "print(ninja.name, name, \"Making the 'name' variable visible will help you complete this kata\")\n",
    "\n",
    "#create another warrior and see if they can hurt each other\n",
    "n2 = Warrior('Zena')\n",
    "n2.strike(ninja, 4)\n",
    "print(ninja.health, 60)"
   ]
  },
  {
   "cell_type": "markdown",
   "metadata": {},
   "source": [
    "### Person Class Bug\n",
    "https://www.codewars.com/kata/513f887e484edf3eb3000001  \n",
    "7 kyu\n",
    "\n",
    "The following code was thought to be working properly, however when the code tries to access the age of the person instance it fails.\n",
    "\n",
    "person = Person('Yukihiro', 'Matsumoto', 47)  \n",
    "print(person.full_name)  \n",
    "print(person.age)\n",
    "\n",
    "For this exercise you need to fix the code so that it works correctly."
   ]
  },
  {
   "cell_type": "markdown",
   "metadata": {},
   "source": [
    "__My solution:__"
   ]
  },
  {
   "cell_type": "code",
   "execution_count": 60,
   "metadata": {},
   "outputs": [
    {
     "name": "stdout",
     "output_type": "stream",
     "text": [
      "Yukihiro Matsumoto Yukihiro Matsumoto\n",
      "47 47\n",
      "Joe Smith Joe Smith\n",
      "30 30\n"
     ]
    }
   ],
   "source": [
    "class Person():\n",
    "\n",
    "    def __init__(self, first_name, last_name, age):\n",
    "        self.first_name = first_name\n",
    "        self.last_name = last_name\n",
    "        self.full_name = first_name + ' ' + last_name\n",
    "        self.age = age\n",
    "        \n",
    "        \n",
    "matz = Person('Yukihiro', 'Matsumoto', 47)\n",
    "print(matz.full_name, 'Yukihiro Matsumoto')\n",
    "print(matz.age, 47)\n",
    "\n",
    "joe = Person('Joe', 'Smith', 30)\n",
    "print(joe.full_name, 'Joe Smith')\n",
    "print(joe.age, 30)"
   ]
  },
  {
   "cell_type": "markdown",
   "metadata": {},
   "source": [
    "20210108"
   ]
  },
  {
   "cell_type": "markdown",
   "metadata": {},
   "source": [
    "### Populate hash with array keys and default value\n",
    "https://www.codewars.com/kata/51c38e14ea1c97ffaf000003  \n",
    "7 kyu\n",
    "\n",
    "Complete the function so that it takes an array of keys and a default value and returns a hash (Ruby) / dictionary (Python) with all keys set to the default value.\n",
    "\n",
    "Example\n",
    "\n",
    "[\"draft\", \"completed\"], 0   # should return {\"draft\": 0, \"completed: 0}"
   ]
  },
  {
   "cell_type": "markdown",
   "metadata": {},
   "source": [
    "__My solutions:__"
   ]
  },
  {
   "cell_type": "markdown",
   "metadata": {},
   "source": [
    "__#1__"
   ]
  },
  {
   "cell_type": "code",
   "execution_count": 64,
   "metadata": {},
   "outputs": [
    {
     "name": "stdout",
     "output_type": "stream",
     "text": [
      "{'draft': 0, 'completed': 0} {'completed': 0, 'draft': 0}\n",
      "{'a': None, 'b': None, 'c': None} {'c': None, 'b': None, 'a': None}\n",
      "{1: 'OK', 2: 'OK', 3: 'OK', 4: 'OK'} {1: 'OK', 2: 'OK', 3: 'OK', 4: 'OK'}\n",
      "{} {}\n"
     ]
    }
   ],
   "source": [
    "def populate_dict(keys, default):\n",
    "    return dict(zip(keys, [default] * len(keys)))\n",
    "    \n",
    "\n",
    "print(populate_dict([\"draft\", \"completed\"], 0), {\"completed\": 0, \"draft\": 0})\n",
    "print(populate_dict([\"a\", \"b\", \"c\"], None), {\"c\": None, \"b\": None, \"a\": None})\n",
    "print(populate_dict([1, 2, 3, 4], \"OK\"), {1: \"OK\", 2: \"OK\", 3: \"OK\", 4: \"OK\"})\n",
    "print(populate_dict([], \"OK\"), {})"
   ]
  },
  {
   "cell_type": "markdown",
   "metadata": {},
   "source": [
    "__#2__"
   ]
  },
  {
   "cell_type": "code",
   "execution_count": 63,
   "metadata": {},
   "outputs": [
    {
     "name": "stdout",
     "output_type": "stream",
     "text": [
      "{'draft': 0, 'completed': 0} {'completed': 0, 'draft': 0}\n",
      "{'a': None, 'b': None, 'c': None} {'c': None, 'b': None, 'a': None}\n",
      "{1: 'OK', 2: 'OK', 3: 'OK', 4: 'OK'} {1: 'OK', 2: 'OK', 3: 'OK', 4: 'OK'}\n",
      "{} {}\n"
     ]
    }
   ],
   "source": [
    "from itertools import zip_longest\n",
    "\n",
    "def populate_dict(keys, default):\n",
    "    return dict(zip_longest(keys, [], fillvalue=default))\n",
    "\n",
    "\n",
    "print(populate_dict([\"draft\", \"completed\"], 0), {\"completed\": 0, \"draft\": 0})\n",
    "print(populate_dict([\"a\", \"b\", \"c\"], None), {\"c\": None, \"b\": None, \"a\": None})\n",
    "print(populate_dict([1, 2, 3, 4], \"OK\"), {1: \"OK\", 2: \"OK\", 3: \"OK\", 4: \"OK\"})\n",
    "print(populate_dict([], \"OK\"), {})"
   ]
  },
  {
   "cell_type": "markdown",
   "metadata": {},
   "source": [
    "__#3__"
   ]
  },
  {
   "cell_type": "code",
   "execution_count": 71,
   "metadata": {},
   "outputs": [
    {
     "name": "stdout",
     "output_type": "stream",
     "text": [
      "{'draft': 0, 'completed': 0} {'completed': 0, 'draft': 0}\n",
      "{'a': None, 'b': None, 'c': None} {'c': None, 'b': None, 'a': None}\n",
      "{1: 'OK', 2: 'OK', 3: 'OK', 4: 'OK'} {1: 'OK', 2: 'OK', 3: 'OK', 4: 'OK'}\n",
      "{} {}\n"
     ]
    }
   ],
   "source": [
    "def populate_dict(keys, default):\n",
    "    return {k: default for k in keys}\n",
    "\n",
    "\n",
    "print(populate_dict([\"draft\", \"completed\"], 0), {\"completed\": 0, \"draft\": 0})\n",
    "print(populate_dict([\"a\", \"b\", \"c\"], None), {\"c\": None, \"b\": None, \"a\": None})\n",
    "print(populate_dict([1, 2, 3, 4], \"OK\"), {1: \"OK\", 2: \"OK\", 3: \"OK\", 4: \"OK\"})\n",
    "print(populate_dict([], \"OK\"), {})"
   ]
  },
  {
   "cell_type": "code",
   "execution_count": 70,
   "metadata": {},
   "outputs": [
    {
     "name": "stdout",
     "output_type": "stream",
     "text": [
      "{'a': 1, 'b': 2, 'c': 3}\n",
      "{'a': 1, 'b': 2, 'c': 4, 'd': 4}\n",
      "{'e': 6, 'f': 8, 'c': 4, 'd': 4}\n"
     ]
    }
   ],
   "source": [
    "d1 = dict(a=1, b=2, c=3)\n",
    "print(d1)\n",
    "d2 = dict(d1, c=4, d=4)\n",
    "print(d2)\n",
    "d3 = dict([('e', 6), ('f', 8)], c=4, d=4)\n",
    "print(d3)"
   ]
  },
  {
   "cell_type": "markdown",
   "metadata": {},
   "source": [
    "### Building Strings From a Hash\n",
    "https://www.codewars.com/kata/51c7d8268a35b6b8b40002f2  \n",
    "7 kyu\n",
    "\n",
    "Complete the solution so that it takes the object (JavaScript/CoffeeScript) or hash (ruby) passed in and generates a human readable string from its key/value pairs.\n",
    "\n",
    "The format should be \"KEY = VALUE\". Each key/value pair should be separated by a comma except for the last pair.\n",
    "\n",
    "Example:\n",
    "\n",
    "solution({\"a\": 1, \"b\": '2'}) # should return \"a = 1,b = 2\""
   ]
  },
  {
   "cell_type": "markdown",
   "metadata": {},
   "source": [
    "__My solution:__"
   ]
  },
  {
   "cell_type": "markdown",
   "metadata": {},
   "source": [
    "It doesn't pass all test without sorting:"
   ]
  },
  {
   "cell_type": "code",
   "execution_count": 72,
   "metadata": {},
   "outputs": [
    {
     "name": "stdout",
     "output_type": "stream",
     "text": [
      "a = 1,b = 2 a = 1,b = 2\n",
      "a = b,b = a a = b,b = a\n",
      "0 = a,b = 2 0 = a,b = 2\n",
      "b = 1,c = 2,e = 3 b = 1,c = 2,e = 3\n",
      " \n"
     ]
    }
   ],
   "source": [
    "def solution(pairs):\n",
    "    return ','.join(sorted(f'{k} = {v}' for k, v in pairs.items()))\n",
    "\n",
    "\n",
    "print(solution({'a': 1, 'b': 2}), 'a = 1,b = 2')\n",
    "print(solution({'a': 'b', 'b': 'a'}), 'a = b,b = a')\n",
    "print(solution({0: 'a', 'b': 2}), '0 = a,b = 2')\n",
    "print(solution({'b': 1, 'c': 2, 'e': 3}), 'b = 1,c = 2,e = 3')\n",
    "print(solution({}), '')"
   ]
  },
  {
   "cell_type": "markdown",
   "metadata": {},
   "source": [
    "20210109"
   ]
  },
  {
   "cell_type": "markdown",
   "metadata": {},
   "source": [
    "### Substituting Variables Into Strings: Padded Numbers\n",
    "https://www.codewars.com/kata/51c89385ee245d7ddf000001  \n",
    "7 kyu\n",
    "\n",
    "Complete the solution so that it returns a formatted string. The return value should equal \"Value is VALUE\" where value is a 5 digit padded number.\n",
    "\n",
    "Example:\n",
    "\n",
    "solution(5)  # should return \"Value is 00005\""
   ]
  },
  {
   "cell_type": "markdown",
   "metadata": {},
   "source": [
    "__My solutions:__"
   ]
  },
  {
   "cell_type": "markdown",
   "metadata": {},
   "source": [
    "__#1__"
   ]
  },
  {
   "cell_type": "code",
   "execution_count": 73,
   "metadata": {},
   "outputs": [
    {
     "name": "stdout",
     "output_type": "stream",
     "text": [
      "Value is 00000 Value is 00000\n",
      "Value is 00005 Value is 00005\n",
      "Value is 00109 Value is 00109\n",
      "Value is 01204 Value is 01204\n"
     ]
    }
   ],
   "source": [
    "def solution(value):\n",
    "    return f'Value is {str(value).zfill(5)}'\n",
    "\n",
    "\n",
    "print(solution(0), 'Value is 00000')\n",
    "print(solution(5), 'Value is 00005')\n",
    "print(solution(109), 'Value is 00109')\n",
    "print(solution(1204), 'Value is 01204')"
   ]
  },
  {
   "cell_type": "markdown",
   "metadata": {},
   "source": [
    "__#2__"
   ]
  },
  {
   "cell_type": "code",
   "execution_count": 77,
   "metadata": {},
   "outputs": [
    {
     "name": "stdout",
     "output_type": "stream",
     "text": [
      "Value is 00000 Value is 00000\n",
      "Value is 00005 Value is 00005\n",
      "Value is 00109 Value is 00109\n",
      "Value is 01204 Value is 01204\n"
     ]
    }
   ],
   "source": [
    "def solution(value):\n",
    "    return f'Value is {value:0>5}'\n",
    "\n",
    "\n",
    "print(solution(0), 'Value is 00000')\n",
    "print(solution(5), 'Value is 00005')\n",
    "print(solution(109), 'Value is 00109')\n",
    "print(solution(1204), 'Value is 01204')"
   ]
  },
  {
   "cell_type": "markdown",
   "metadata": {},
   "source": [
    "### Elapsed Seconds\n",
    "https://www.codewars.com/kata/517b25a48557c200b800000c  \n",
    "7 kyu\n",
    "\n",
    "Complete the function so that it returns the number of seconds that have elapsed between the start and end times given.\n",
    "\n",
    "Tips:  \n",
    "The start/end times are given as Date (JS/CoffeeScript), DateTime (C#), Time (Nim), datetime(Python) and Time (Ruby) instances.\n",
    "The start time will always be before the end time."
   ]
  },
  {
   "cell_type": "markdown",
   "metadata": {},
   "source": [
    "__My solution:__"
   ]
  },
  {
   "cell_type": "code",
   "execution_count": 79,
   "metadata": {},
   "outputs": [
    {
     "name": "stdout",
     "output_type": "stream",
     "text": [
      "1 1\n",
      "18 18\n",
      "19 19\n",
      "79 79\n",
      "78 78\n"
     ]
    }
   ],
   "source": [
    "def elapsed_seconds(start, end):\n",
    "    return (end - start).seconds\n",
    "\n",
    "\n",
    "from datetime import datetime\n",
    "\n",
    "start = datetime(2013, 1, 1, 0, 0, 1)\n",
    "end = datetime(2013, 1, 1, 0, 0, 2)\n",
    "end2 = datetime(2013, 1, 1, 0, 0, 20)\n",
    "end3 = datetime(2013, 1, 1, 0, 1, 20)\n",
    "\n",
    "print(elapsed_seconds(start, end), 1)\n",
    "print(elapsed_seconds(end, end2), 18)\n",
    "print(elapsed_seconds(start, end2), 19)\n",
    "print(elapsed_seconds(start, end3), 79)\n",
    "print(elapsed_seconds(end, end3), 78)"
   ]
  },
  {
   "cell_type": "markdown",
   "metadata": {},
   "source": [
    "20210110"
   ]
  },
  {
   "cell_type": "markdown",
   "metadata": {},
   "source": [
    "### Fizz / Buzz\n",
    "https://www.codewars.com/kata/51dda84f91f5b5608b0004cc  \n",
    "7 kyu\n",
    "\n",
    "Write a function that takes an integer and returns an array [A, B, C], where A is the number of multiples of 3 (but not 5) below the given integer, B is the number of multiples of 5 (but not 3) below the given integer and C is the number of multiples of 3 and 5 below the given integer.\n",
    "\n",
    "For example, solution(20) should return [5, 2, 1]"
   ]
  },
  {
   "cell_type": "markdown",
   "metadata": {},
   "source": [
    "__My solution:__"
   ]
  },
  {
   "cell_type": "markdown",
   "metadata": {},
   "source": [
    "__#1__ It passes all tests but they covers cases with only positive integers as input and instruction tells nothing about only positive integer restriction"
   ]
  },
  {
   "cell_type": "code",
   "execution_count": 89,
   "metadata": {},
   "outputs": [
    {
     "name": "stdout",
     "output_type": "stream",
     "text": [
      "[5, 2, 1] [5, 2, 1]\n",
      "[0, 0, 0] [0, 0, 0]\n",
      "[4, 2, 0] [4, 2, 0]\n",
      "[8, 4, 1] [8, 4, 1]\n",
      "[37, 19, 9] [37, 19, 9]\n",
      "[-5, -3, -2]\n",
      "[0, 0, -1]\n"
     ]
    }
   ],
   "source": [
    "def solution(number):\n",
    "    number -= 1\n",
    "    div15 = number // 15\n",
    "    return [number // 3 - div15, number // 5 - div15, div15]\n",
    "\n",
    "\n",
    "print(solution(20), [5, 2, 1])\n",
    "print(solution(2), [0, 0, 0])\n",
    "print(solution(14), [4,2,0])\n",
    "print(solution(30), [8, 4, 1])\n",
    "print(solution(141), [37, 19, 9])\n",
    "print(solution(-20))  # [-5, -3, -2] - it's not ok I'm guessing\n",
    "print(solution(0))    # [0, 0, -1]   - it's not ok I'm guessing"
   ]
  },
  {
   "cell_type": "markdown",
   "metadata": {},
   "source": [
    "__#2__ Includes processing of the negative integers and zero (on my own interpretation of the kata's instructions) "
   ]
  },
  {
   "cell_type": "code",
   "execution_count": 93,
   "metadata": {},
   "outputs": [
    {
     "name": "stdout",
     "output_type": "stream",
     "text": [
      "[5, 2, 1] [5, 2, 1]\n",
      "[0, 0, 0] [0, 0, 0]\n",
      "[4, 2, 0] [4, 2, 0]\n",
      "[8, 4, 1] [8, 4, 1]\n",
      "[37, 19, 9] [37, 19, 9]\n",
      "[-5, -2, -1]\n",
      "[]\n",
      "[-37, -19, -9]\n"
     ]
    }
   ],
   "source": [
    "def solution(number):\n",
    "    if number > 0:\n",
    "        number -= 1\n",
    "        div15 = number // 15\n",
    "        return [number // 3 - div15, number // 5 - div15, div15]\n",
    "    elif number < 0:\n",
    "        number += 1\n",
    "        div15 = int(number / 15)\n",
    "        return [int(number / 3) - div15, int(number / 5) - div15, div15]\n",
    "    else:\n",
    "        return []\n",
    "\n",
    "\n",
    "print(solution(20), [5, 2, 1])\n",
    "print(solution(2), [0, 0, 0])\n",
    "print(solution(14), [4,2,0])\n",
    "print(solution(30), [8, 4, 1])\n",
    "print(solution(141), [37, 19, 9])\n",
    "print(solution(-20))  # [-5, -3, -1] \n",
    "print(solution(0))    # []\n",
    "print(solution(-141))"
   ]
  },
  {
   "cell_type": "code",
   "execution_count": 82,
   "metadata": {},
   "outputs": [
    {
     "data": {
      "text/plain": [
       "-7"
      ]
     },
     "execution_count": 82,
     "metadata": {},
     "output_type": "execute_result"
    }
   ],
   "source": [
    "-20 // 3"
   ]
  },
  {
   "cell_type": "code",
   "execution_count": 83,
   "metadata": {},
   "outputs": [
    {
     "data": {
      "text/plain": [
       "-6.666666666666667"
      ]
     },
     "execution_count": 83,
     "metadata": {},
     "output_type": "execute_result"
    }
   ],
   "source": [
    "-20 / 3"
   ]
  },
  {
   "cell_type": "code",
   "execution_count": 84,
   "metadata": {},
   "outputs": [
    {
     "data": {
      "text/plain": [
       "-7"
      ]
     },
     "execution_count": 84,
     "metadata": {},
     "output_type": "execute_result"
    }
   ],
   "source": [
    "round(-20 / 3)"
   ]
  },
  {
   "cell_type": "code",
   "execution_count": 87,
   "metadata": {},
   "outputs": [
    {
     "data": {
      "text/plain": [
       "-7"
      ]
     },
     "execution_count": 87,
     "metadata": {},
     "output_type": "execute_result"
    }
   ],
   "source": [
    "import math\n",
    "\n",
    "math.floor(-20 / 3)"
   ]
  },
  {
   "cell_type": "code",
   "execution_count": 88,
   "metadata": {},
   "outputs": [
    {
     "data": {
      "text/plain": [
       "-6"
      ]
     },
     "execution_count": 88,
     "metadata": {},
     "output_type": "execute_result"
    }
   ],
   "source": [
    "int(-20 / 3)"
   ]
  },
  {
   "cell_type": "code",
   "execution_count": 90,
   "metadata": {},
   "outputs": [
    {
     "data": {
      "text/plain": [
       "0"
      ]
     },
     "execution_count": 90,
     "metadata": {},
     "output_type": "execute_result"
    }
   ],
   "source": [
    "0 // 3"
   ]
  },
  {
   "cell_type": "code",
   "execution_count": 91,
   "metadata": {},
   "outputs": [
    {
     "data": {
      "text/plain": [
       "-1"
      ]
     },
     "execution_count": 91,
     "metadata": {},
     "output_type": "execute_result"
    }
   ],
   "source": [
    "-1 // 3"
   ]
  },
  {
   "cell_type": "markdown",
   "metadata": {},
   "source": [
    "20210111"
   ]
  },
  {
   "cell_type": "markdown",
   "metadata": {},
   "source": [
    "### Return substring instance count\n",
    "https://www.codewars.com/kata/5168b125faced29f66000005\n",
    "7 kyu\n",
    "\n",
    "Complete the solution so that it returns the number of times the search_text is found within the full_text.\n",
    "\n",
    "Usage example:\n",
    "\n",
    "solution('aa_bb_cc_dd_bb_e', 'bb') # should return 2 since bb shows up twice  \n",
    "solution('aaabbbcccc', 'bbb') # should return 1"
   ]
  },
  {
   "cell_type": "markdown",
   "metadata": {},
   "source": [
    "__My solution:__"
   ]
  },
  {
   "cell_type": "markdown",
   "metadata": {},
   "source": [
    "__#1__"
   ]
  },
  {
   "cell_type": "code",
   "execution_count": 94,
   "metadata": {},
   "outputs": [
    {
     "name": "stdout",
     "output_type": "stream",
     "text": [
      "2 2\n",
      "1 1\n",
      "1 1\n",
      "1 1\n"
     ]
    }
   ],
   "source": [
    "def solution(full_text, search_text):\n",
    "    return full_text.count(search_text)\n",
    "\n",
    "\n",
    "print(solution('abcdeb','b'), 2)\n",
    "print(solution('abc','b'), 1)\n",
    "print(solution('abbc','bb'), 1)\n",
    "print(solution('abbbc','bb'), 1)"
   ]
  },
  {
   "cell_type": "markdown",
   "metadata": {},
   "source": [
    "__#2__"
   ]
  },
  {
   "cell_type": "code",
   "execution_count": 95,
   "metadata": {},
   "outputs": [
    {
     "name": "stdout",
     "output_type": "stream",
     "text": [
      "2 2\n",
      "1 1\n",
      "1 1\n",
      "1 1\n"
     ]
    }
   ],
   "source": [
    "import re\n",
    "\n",
    "def solution(full_text, search_text):\n",
    "    return len(re.findall(search_text, full_text))\n",
    "\n",
    "\n",
    "print(solution('abcdeb','b'), 2)\n",
    "print(solution('abc','b'), 1)\n",
    "print(solution('abbc','bb'), 1)\n",
    "print(solution('abbbc','bb'), 1)"
   ]
  },
  {
   "cell_type": "markdown",
   "metadata": {},
   "source": [
    "### Remove anchor from URL\n",
    "https://www.codewars.com/kata/51f2b4448cadf20ed0000386  \n",
    "7 kyu\n",
    "\n",
    "Complete the function/method so that it returns the url with anything after the anchor (#) removed.\n",
    "\n",
    "Examples\n",
    "#returns 'www.codewars.com'  \n",
    "remove_url_anchor('www.codewars.com#about')  \n",
    " \n",
    "#returns 'www.codewars.com?page=1'   \n",
    "remove_url_anchor('www.codewars.com?page=1') "
   ]
  },
  {
   "cell_type": "markdown",
   "metadata": {},
   "source": [
    "__My solution:__"
   ]
  },
  {
   "cell_type": "markdown",
   "metadata": {},
   "source": [
    "__#1__"
   ]
  },
  {
   "cell_type": "code",
   "execution_count": 97,
   "metadata": {},
   "outputs": [
    {
     "name": "stdout",
     "output_type": "stream",
     "text": [
      "www.codewars.com www.codewars.com\n",
      "www.codewars.com/katas/?page=1 www.codewars.com/katas/?page=1\n",
      "www.codewars.com/katas/ www.codewars.com/katas/\n"
     ]
    }
   ],
   "source": [
    "def remove_url_anchor(url):\n",
    "    anchor = url.find('#')\n",
    "    return url[:anchor] if anchor != -1 else url\n",
    "    \n",
    "    \n",
    "print(remove_url_anchor(\"www.codewars.com#about\"), \"www.codewars.com\");\n",
    "print(remove_url_anchor(\"www.codewars.com/katas/?page=1#about\"), \"www.codewars.com/katas/?page=1\")\n",
    "print(remove_url_anchor(\"www.codewars.com/katas/\"), \"www.codewars.com/katas/\")"
   ]
  },
  {
   "cell_type": "markdown",
   "metadata": {},
   "source": [
    "Almost the same but previous maybe better:"
   ]
  },
  {
   "cell_type": "code",
   "execution_count": 99,
   "metadata": {},
   "outputs": [
    {
     "name": "stdout",
     "output_type": "stream",
     "text": [
      "www.codewars.com www.codewars.com\n",
      "www.codewars.com/katas/?page=1 www.codewars.com/katas/?page=1\n",
      "www.codewars.com/katas/ www.codewars.com/katas/\n"
     ]
    }
   ],
   "source": [
    "def remove_url_anchor(url):\n",
    "    return url[:url.find('#')] if '#' in url else url\n",
    "    \n",
    "    \n",
    "print(remove_url_anchor(\"www.codewars.com#about\"), \"www.codewars.com\");\n",
    "print(remove_url_anchor(\"www.codewars.com/katas/?page=1#about\"), \"www.codewars.com/katas/?page=1\")\n",
    "print(remove_url_anchor(\"www.codewars.com/katas/\"), \"www.codewars.com/katas/\")"
   ]
  },
  {
   "cell_type": "code",
   "execution_count": 96,
   "metadata": {},
   "outputs": [
    {
     "data": {
      "text/plain": [
       "'abcde'"
      ]
     },
     "execution_count": 96,
     "metadata": {},
     "output_type": "execute_result"
    }
   ],
   "source": [
    "s = 'abcdef'\n",
    "s[:-1]"
   ]
  },
  {
   "cell_type": "markdown",
   "metadata": {},
   "source": [
    "__#2__"
   ]
  },
  {
   "cell_type": "code",
   "execution_count": 101,
   "metadata": {},
   "outputs": [
    {
     "name": "stdout",
     "output_type": "stream",
     "text": [
      "www.codewars.com www.codewars.com\n",
      "www.codewars.com/katas/?page=1 www.codewars.com/katas/?page=1\n",
      "www.codewars.com/katas/ www.codewars.com/katas/\n"
     ]
    }
   ],
   "source": [
    "def remove_url_anchor(url):\n",
    "    res = ''\n",
    "    for c in url:\n",
    "        if c == '#':\n",
    "            break\n",
    "        res += c\n",
    "    return res   \n",
    "    \n",
    "    \n",
    "print(remove_url_anchor(\"www.codewars.com#about\"), \"www.codewars.com\");\n",
    "print(remove_url_anchor(\"www.codewars.com/katas/?page=1#about\"), \"www.codewars.com/katas/?page=1\")\n",
    "print(remove_url_anchor(\"www.codewars.com/katas/\"), \"www.codewars.com/katas/\")"
   ]
  },
  {
   "cell_type": "markdown",
   "metadata": {},
   "source": [
    "__My unsuccessful attempts:__"
   ]
  },
  {
   "cell_type": "code",
   "execution_count": 102,
   "metadata": {},
   "outputs": [
    {
     "name": "stdout",
     "output_type": "stream",
     "text": [
      "ParseResult(scheme='', netloc='', path='www.codewars.com', params='', query='', fragment='about')\n",
      "None www.codewars.com\n",
      "ParseResult(scheme='', netloc='', path='www.codewars.com/katas/', params='', query='page=1', fragment='about')\n",
      "None www.codewars.com/katas/?page=1\n",
      "ParseResult(scheme='', netloc='', path='www.codewars.com/katas/', params='', query='', fragment='')\n",
      "None www.codewars.com/katas/\n"
     ]
    }
   ],
   "source": [
    "from urllib.parse import urlparse\n",
    "\n",
    "def remove_url_anchor(url):\n",
    "    u = urlparse(url)\n",
    "    print(u)\n",
    "    \n",
    "    \n",
    "print(remove_url_anchor(\"www.codewars.com#about\"), \"www.codewars.com\");\n",
    "print(remove_url_anchor(\"www.codewars.com/katas/?page=1#about\"), \"www.codewars.com/katas/?page=1\")\n",
    "print(remove_url_anchor(\"www.codewars.com/katas/\"), \"www.codewars.com/katas/\")"
   ]
  },
  {
   "cell_type": "code",
   "execution_count": 103,
   "metadata": {},
   "outputs": [
    {
     "name": "stdout",
     "output_type": "stream",
     "text": [
      "ParseResult(scheme='http', netloc='www.cwi.nl:80', path='/%7Eguido/Python.html', params='', query='', fragment='')\n"
     ]
    }
   ],
   "source": [
    "from urllib.parse import urlparse\n",
    "o = urlparse('http://www.cwi.nl:80/%7Eguido/Python.html')\n",
    "print(o)"
   ]
  },
  {
   "cell_type": "code",
   "execution_count": 104,
   "metadata": {},
   "outputs": [
    {
     "name": "stdout",
     "output_type": "stream",
     "text": [
      "ParseResult(scheme='', netloc='', path='www.codewars.com', params='', query='', fragment='about')\n"
     ]
    }
   ],
   "source": [
    "from urllib.parse import urlparse\n",
    "o = urlparse('www.codewars.com#about')\n",
    "print(o)"
   ]
  },
  {
   "cell_type": "code",
   "execution_count": 106,
   "metadata": {},
   "outputs": [
    {
     "name": "stdout",
     "output_type": "stream",
     "text": [
      "ParseResult(scheme='http', netloc='www.codewars.com', path='', params='', query='', fragment='about')\n",
      "http://www.codewars.com#about\n"
     ]
    }
   ],
   "source": [
    "from urllib.parse import urlparse\n",
    "o = urlparse('http://www.codewars.com#about')\n",
    "print(o)\n",
    "print(o.geturl())"
   ]
  },
  {
   "cell_type": "code",
   "execution_count": 107,
   "metadata": {},
   "outputs": [
    {
     "name": "stdout",
     "output_type": "stream",
     "text": [
      "http://www.Python.org/doc/\n",
      "http://www.Python.org/doc/\n"
     ]
    }
   ],
   "source": [
    "from urllib.parse import urlsplit\n",
    "url = 'HTTP://www.Python.org/doc/#'\n",
    "r1 = urlsplit(url)\n",
    "print(r1.geturl()) # 'http://www.Python.org/doc/'\n",
    "r2 = urlsplit(r1.geturl())\n",
    "print(r2.geturl()) #'http://www.Python.org/doc/'"
   ]
  },
  {
   "cell_type": "code",
   "execution_count": 108,
   "metadata": {},
   "outputs": [
    {
     "name": "stdout",
     "output_type": "stream",
     "text": [
      "http://www.codewars.com#about\n",
      "http://www.codewars.com#about\n"
     ]
    }
   ],
   "source": [
    "from urllib.parse import urlsplit\n",
    "url = 'http://www.codewars.com#about'\n",
    "r1 = urlsplit(url)\n",
    "print(r1.geturl()) # 'http://www.Python.org/doc/'\n",
    "r2 = urlsplit(r1.geturl())\n",
    "print(r2.geturl()) #'http://www.Python.org/doc/'"
   ]
  },
  {
   "cell_type": "markdown",
   "metadata": {},
   "source": [
    "20210112"
   ]
  },
  {
   "cell_type": "markdown",
   "metadata": {},
   "source": [
    "### No oddities here\n",
    "https://www.codewars.com/kata/51fd6bc82bc150b28e0000ce  \n",
    "7 kyu\n",
    "\n",
    "Write a small function that returns the values of an array that are not odd.\n",
    "\n",
    "All values in the array will be integers. Return the good values in the order they are given.\n",
    "\n",
    "def no_odds(values):"
   ]
  },
  {
   "cell_type": "markdown",
   "metadata": {},
   "source": [
    "__My solution:__"
   ]
  },
  {
   "cell_type": "code",
   "execution_count": 109,
   "metadata": {},
   "outputs": [
    {
     "name": "stdout",
     "output_type": "stream",
     "text": [
      "[0] [0] Zero through one\n",
      "[0, 2] [0, 2] Zero through three\n",
      "[] [] Odds through ten\n",
      "[0, 2, 4, 6, 8, 10] [0, 2, 4, 6, 8, 10] Evens through ten\n",
      "[] [] Negative odds\n",
      "[2, 4, 8, 6, 0] [2, 4, 8, 6, 0] Out of order\n",
      "[] [] Empty list\n"
     ]
    }
   ],
   "source": [
    "def no_odds(values):\n",
    "    return [v for v in values if not v & 1]\n",
    "\n",
    "\n",
    "print(no_odds([0, 1]), [0], 'Zero through one')\n",
    "print(no_odds([0, 1, 2, 3]), [0, 2], 'Zero through three')\n",
    "print(no_odds([1, 3, 5, 7, 9]), [], 'Odds through ten')\n",
    "print(no_odds([0, 2, 4, 6, 8, 10]), [0, 2, 4, 6, 8, 10], 'Evens through ten')\n",
    "print(no_odds([-1, -3, -5, -7, -9]), [], 'Negative odds')\n",
    "print(no_odds([2, 4, 8, 6, 0]), [2, 4, 8, 6, 0], 'Out of order')\n",
    "print(no_odds([]), [], 'Empty list')"
   ]
  },
  {
   "cell_type": "markdown",
   "metadata": {},
   "source": [
    "### Limit string length - 1\n",
    "https://www.codewars.com/kata/5208fc3cb613bc725f000142  \n",
    "7 kyu\n",
    "\n",
    "The function must return the truncated version of the given string up to the given limit followed by \"...\" if the result is shorter than the original. Return the same string if nothing was truncated.\n",
    "\n",
    "Example:\n",
    "\n",
    "solution('Testing String', 3) --> 'Tes...'  \n",
    "solution('Testing String', 8) --> 'Testing ...'  \n",
    "solution('Test', 8)           --> 'Test' "
   ]
  },
  {
   "cell_type": "markdown",
   "metadata": {},
   "source": [
    "__My solution:__"
   ]
  },
  {
   "cell_type": "code",
   "execution_count": 112,
   "metadata": {},
   "outputs": [
    {
     "name": "stdout",
     "output_type": "stream",
     "text": [
      "Tes... Tes...\n",
      "Testing ... Testing ...\n",
      "Test Test\n",
      "Test Test\n"
     ]
    }
   ],
   "source": [
    "def solution(st, limit): \n",
    "    return f'{st[:limit]}...' if limit < len(st) else st\n",
    "\n",
    "\n",
    "print(solution('Testing String', 3), 'Tes...')\n",
    "print(solution('Testing String', 8), 'Testing ...')\n",
    "print(solution('Test', 10), 'Test')\n",
    "print(solution('Test', 4), 'Test')"
   ]
  },
  {
   "cell_type": "code",
   "execution_count": 114,
   "metadata": {},
   "outputs": [
    {
     "name": "stdout",
     "output_type": "stream",
     "text": [
      "Tes... Tes...\n",
      "Testing ... Testing ...\n",
      "Test Test\n",
      "Test Test\n"
     ]
    }
   ],
   "source": [
    "def solution(st, limit): \n",
    "    return st[:limit] + ('', '...')[limit < len(st)]\n",
    "\n",
    "\n",
    "print(solution('Testing String', 3), 'Tes...')\n",
    "print(solution('Testing String', 8), 'Testing ...')\n",
    "print(solution('Test', 10), 'Test')\n",
    "print(solution('Test', 4), 'Test')"
   ]
  },
  {
   "cell_type": "code",
   "execution_count": 115,
   "metadata": {},
   "outputs": [
    {
     "name": "stdout",
     "output_type": "stream",
     "text": [
      "Tes... Tes...\n",
      "Testing ... Testing ...\n",
      "Test Test\n",
      "Test Test\n"
     ]
    }
   ],
   "source": [
    "def solution(st, limit): \n",
    "    return st[:limit] + ('...') * (limit < len(st))\n",
    "\n",
    "\n",
    "print(solution('Testing String', 3), 'Tes...')\n",
    "print(solution('Testing String', 8), 'Testing ...')\n",
    "print(solution('Test', 10), 'Test')\n",
    "print(solution('Test', 4), 'Test')"
   ]
  },
  {
   "cell_type": "markdown",
   "metadata": {},
   "source": [
    "### Flatten\n",
    "https://www.codewars.com/kata/5250a89b1625e5decd000413  \n",
    "7 kyu\n",
    "\n",
    "Write a function that flattens an Array of Array objects into a flat Array. Your function must only do one level of flattening.\n",
    "\n",
    "flatten [1,2,3] # => [1,2,3]  \n",
    "flatten [[1,2,3],[\"a\",\"b\",\"c\"],[1,2,3]]  # =>   [1,2,3,\"a\",\"b\",\"c\",1,2,3]\n",
    "flatten [[[1,2,3]]] # => [[1,2,3]]  "
   ]
  },
  {
   "cell_type": "markdown",
   "metadata": {},
   "source": [
    "__My solution:__"
   ]
  },
  {
   "cell_type": "code",
   "execution_count": 154,
   "metadata": {},
   "outputs": [
    {
     "name": "stdout",
     "output_type": "stream",
     "text": [
      "[] [] []\n",
      "[1, 2, 3] [1, 2, 3] [1,2,3]\n",
      "[1, 2, 3, 'a', 'b', 'c', 1, 2, 3] [1, 2, 3, 'a', 'b', 'c', 1, 2, 3] [[1,2,3],[\"a\",\"b\",\"c\"],[1,2,3]]\n",
      "[1, 2, 3, 'a', 'b', 'c', 1, 2, 3, 'a'] [1, 2, 3, 'a', 'b', 'c', 1, 2, 3, 'a'] [[1,2,3],[\"a\",\"b\",\"c\"],[1,2,3],\"a\"]\n",
      "[3, 4, 5, [9, 9, 9], 'a,b,c'] [3, 4, 5, [9, 9, 9], 'a,b,c'] [[3,4,5],[[9,9,9]],[\"a,b,c\"]]\n",
      "[[3], [4], [5], 9, 9, 8, [1, 2, 3]] [[3], [4], [5], 9, 9, 8, [1, 2, 3]] [[3,4,5],[[9,9,9]],[\"a,b,c\"]]\n",
      "[1, 2, 3, 1, 2, 3]\n"
     ]
    }
   ],
   "source": [
    "def flatten(lst):\n",
    "    res = []\n",
    "    for x in lst:\n",
    "        if isinstance(x, list):\n",
    "            for y in x:\n",
    "                res.append(y)\n",
    "        else:\n",
    "            res.append(x)\n",
    "    return res\n",
    "    \n",
    "    \n",
    "print(flatten([]), [])\n",
    "print(flatten([1,2,3]) , [1,2,3])\n",
    "print(flatten([[1,2,3],[\"a\",\"b\",\"c\"],[1,2,3]]), [1,2,3,\"a\",\"b\",\"c\",1,2,3])\n",
    "print(flatten([[1,2,3],[\"a\",\"b\",\"c\"],[1,2,3],\"a\"]) , [1,2,3,\"a\",\"b\",\"c\",1,2,3,\"a\"])\n",
    "print(flatten([[3,4,5],[[9,9,9]],[\"a,b,c\"]]) , [3,4,5,[9,9,9],\"a,b,c\"])\n",
    "print(flatten([[[3],[4],[5]],[9],[9],[8],[[1,2,3]]]) , [[3],[4],[5],9,9,8,[1,2,3]])\n",
    "print(flatten([1, 2, 3, [1, 2, 3]]), [1, 2, 3, 1, 2, 3])\n"
   ]
  },
  {
   "cell_type": "markdown",
   "metadata": {},
   "source": [
    "__My unsuccessful attempts:__"
   ]
  },
  {
   "cell_type": "code",
   "execution_count": 153,
   "metadata": {},
   "outputs": [
    {
     "name": "stdout",
     "output_type": "stream",
     "text": [
      "[] [] []\n"
     ]
    },
    {
     "ename": "TypeError",
     "evalue": "'int' object is not iterable",
     "output_type": "error",
     "traceback": [
      "\u001b[1;31m---------------------------------------------------------------------------\u001b[0m",
      "\u001b[1;31mTypeError\u001b[0m                                 Traceback (most recent call last)",
      "\u001b[1;32m<ipython-input-153-59cacf141629>\u001b[0m in \u001b[0;36m<module>\u001b[1;34m\u001b[0m\n\u001b[0;32m      4\u001b[0m \u001b[1;33m\u001b[0m\u001b[0m\n\u001b[0;32m      5\u001b[0m \u001b[0mprint\u001b[0m\u001b[1;33m(\u001b[0m\u001b[0mflatten\u001b[0m\u001b[1;33m(\u001b[0m\u001b[1;33m[\u001b[0m\u001b[1;33m]\u001b[0m\u001b[1;33m)\u001b[0m \u001b[1;33m,\u001b[0m \u001b[1;33m[\u001b[0m\u001b[1;33m]\u001b[0m\u001b[1;33m,\u001b[0m \u001b[1;34m\"[]\"\u001b[0m\u001b[1;33m)\u001b[0m\u001b[1;33m\u001b[0m\u001b[1;33m\u001b[0m\u001b[0m\n\u001b[1;32m----> 6\u001b[1;33m \u001b[0mprint\u001b[0m\u001b[1;33m(\u001b[0m\u001b[0mflatten\u001b[0m\u001b[1;33m(\u001b[0m\u001b[1;33m[\u001b[0m\u001b[1;36m1\u001b[0m\u001b[1;33m,\u001b[0m\u001b[1;36m2\u001b[0m\u001b[1;33m,\u001b[0m\u001b[1;36m3\u001b[0m\u001b[1;33m]\u001b[0m\u001b[1;33m)\u001b[0m \u001b[1;33m,\u001b[0m \u001b[1;33m[\u001b[0m\u001b[1;36m1\u001b[0m\u001b[1;33m,\u001b[0m\u001b[1;36m2\u001b[0m\u001b[1;33m,\u001b[0m\u001b[1;36m3\u001b[0m\u001b[1;33m]\u001b[0m\u001b[1;33m,\u001b[0m \u001b[1;34m\"[1,2,3]\"\u001b[0m\u001b[1;33m)\u001b[0m\u001b[1;33m\u001b[0m\u001b[1;33m\u001b[0m\u001b[0m\n\u001b[0m\u001b[0;32m      7\u001b[0m \u001b[0mprint\u001b[0m\u001b[1;33m(\u001b[0m\u001b[0mflatten\u001b[0m\u001b[1;33m(\u001b[0m\u001b[1;33m[\u001b[0m\u001b[1;33m[\u001b[0m\u001b[1;36m1\u001b[0m\u001b[1;33m,\u001b[0m\u001b[1;36m2\u001b[0m\u001b[1;33m,\u001b[0m\u001b[1;36m3\u001b[0m\u001b[1;33m]\u001b[0m\u001b[1;33m,\u001b[0m\u001b[1;33m[\u001b[0m\u001b[1;34m\"a\"\u001b[0m\u001b[1;33m,\u001b[0m\u001b[1;34m\"b\"\u001b[0m\u001b[1;33m,\u001b[0m\u001b[1;34m\"c\"\u001b[0m\u001b[1;33m]\u001b[0m\u001b[1;33m,\u001b[0m\u001b[1;33m[\u001b[0m\u001b[1;36m1\u001b[0m\u001b[1;33m,\u001b[0m\u001b[1;36m2\u001b[0m\u001b[1;33m,\u001b[0m\u001b[1;36m3\u001b[0m\u001b[1;33m]\u001b[0m\u001b[1;33m]\u001b[0m\u001b[1;33m)\u001b[0m \u001b[1;33m,\u001b[0m \u001b[1;33m[\u001b[0m\u001b[1;36m1\u001b[0m\u001b[1;33m,\u001b[0m\u001b[1;36m2\u001b[0m\u001b[1;33m,\u001b[0m\u001b[1;36m3\u001b[0m\u001b[1;33m,\u001b[0m\u001b[1;34m\"a\"\u001b[0m\u001b[1;33m,\u001b[0m\u001b[1;34m\"b\"\u001b[0m\u001b[1;33m,\u001b[0m\u001b[1;34m\"c\"\u001b[0m\u001b[1;33m,\u001b[0m\u001b[1;36m1\u001b[0m\u001b[1;33m,\u001b[0m\u001b[1;36m2\u001b[0m\u001b[1;33m,\u001b[0m\u001b[1;36m3\u001b[0m\u001b[1;33m]\u001b[0m\u001b[1;33m,\u001b[0m \u001b[1;34m'[[1,2,3],[\"a\",\"b\",\"c\"],[1,2,3]]'\u001b[0m\u001b[1;33m)\u001b[0m\u001b[1;33m\u001b[0m\u001b[1;33m\u001b[0m\u001b[0m\n\u001b[0;32m      8\u001b[0m \u001b[0mprint\u001b[0m\u001b[1;33m(\u001b[0m\u001b[0mflatten\u001b[0m\u001b[1;33m(\u001b[0m\u001b[1;33m[\u001b[0m\u001b[1;33m[\u001b[0m\u001b[1;36m1\u001b[0m\u001b[1;33m,\u001b[0m\u001b[1;36m2\u001b[0m\u001b[1;33m,\u001b[0m\u001b[1;36m3\u001b[0m\u001b[1;33m]\u001b[0m\u001b[1;33m,\u001b[0m\u001b[1;33m[\u001b[0m\u001b[1;34m\"a\"\u001b[0m\u001b[1;33m,\u001b[0m\u001b[1;34m\"b\"\u001b[0m\u001b[1;33m,\u001b[0m\u001b[1;34m\"c\"\u001b[0m\u001b[1;33m]\u001b[0m\u001b[1;33m,\u001b[0m\u001b[1;33m[\u001b[0m\u001b[1;36m1\u001b[0m\u001b[1;33m,\u001b[0m\u001b[1;36m2\u001b[0m\u001b[1;33m,\u001b[0m\u001b[1;36m3\u001b[0m\u001b[1;33m]\u001b[0m\u001b[1;33m,\u001b[0m\u001b[1;34m\"a\"\u001b[0m\u001b[1;33m]\u001b[0m\u001b[1;33m)\u001b[0m \u001b[1;33m,\u001b[0m \u001b[1;33m[\u001b[0m\u001b[1;36m1\u001b[0m\u001b[1;33m,\u001b[0m\u001b[1;36m2\u001b[0m\u001b[1;33m,\u001b[0m\u001b[1;36m3\u001b[0m\u001b[1;33m,\u001b[0m\u001b[1;34m\"a\"\u001b[0m\u001b[1;33m,\u001b[0m\u001b[1;34m\"b\"\u001b[0m\u001b[1;33m,\u001b[0m\u001b[1;34m\"c\"\u001b[0m\u001b[1;33m,\u001b[0m\u001b[1;36m1\u001b[0m\u001b[1;33m,\u001b[0m\u001b[1;36m2\u001b[0m\u001b[1;33m,\u001b[0m\u001b[1;36m3\u001b[0m\u001b[1;33m,\u001b[0m\u001b[1;34m\"a\"\u001b[0m\u001b[1;33m]\u001b[0m\u001b[1;33m,\u001b[0m \u001b[1;34m'[[1,2,3],[\"a\",\"b\",\"c\"],[1,2,3],\"a\"]'\u001b[0m\u001b[1;33m)\u001b[0m\u001b[1;33m\u001b[0m\u001b[1;33m\u001b[0m\u001b[0m\n",
      "\u001b[1;32m<ipython-input-153-59cacf141629>\u001b[0m in \u001b[0;36mflatten\u001b[1;34m(lst)\u001b[0m\n\u001b[0;32m      1\u001b[0m \u001b[1;32mdef\u001b[0m \u001b[0mflatten\u001b[0m\u001b[1;33m(\u001b[0m\u001b[0mlst\u001b[0m\u001b[1;33m)\u001b[0m\u001b[1;33m:\u001b[0m\u001b[1;33m\u001b[0m\u001b[1;33m\u001b[0m\u001b[0m\n\u001b[1;32m----> 2\u001b[1;33m     \u001b[1;32mreturn\u001b[0m \u001b[1;33m[\u001b[0m\u001b[1;33m[\u001b[0m\u001b[0mx\u001b[0m\u001b[1;33m,\u001b[0m \u001b[1;33m*\u001b[0m\u001b[0mx\u001b[0m\u001b[1;33m]\u001b[0m\u001b[1;33m[\u001b[0m\u001b[0misinstance\u001b[0m\u001b[1;33m(\u001b[0m\u001b[0mx\u001b[0m\u001b[1;33m,\u001b[0m \u001b[0mlist\u001b[0m\u001b[1;33m)\u001b[0m\u001b[1;33m]\u001b[0m \u001b[1;32mfor\u001b[0m \u001b[0mx\u001b[0m \u001b[1;32min\u001b[0m \u001b[0mlst\u001b[0m\u001b[1;33m]\u001b[0m\u001b[1;33m\u001b[0m\u001b[1;33m\u001b[0m\u001b[0m\n\u001b[0m\u001b[0;32m      3\u001b[0m \u001b[1;33m\u001b[0m\u001b[0m\n\u001b[0;32m      4\u001b[0m \u001b[1;33m\u001b[0m\u001b[0m\n\u001b[0;32m      5\u001b[0m \u001b[0mprint\u001b[0m\u001b[1;33m(\u001b[0m\u001b[0mflatten\u001b[0m\u001b[1;33m(\u001b[0m\u001b[1;33m[\u001b[0m\u001b[1;33m]\u001b[0m\u001b[1;33m)\u001b[0m \u001b[1;33m,\u001b[0m \u001b[1;33m[\u001b[0m\u001b[1;33m]\u001b[0m\u001b[1;33m,\u001b[0m \u001b[1;34m\"[]\"\u001b[0m\u001b[1;33m)\u001b[0m\u001b[1;33m\u001b[0m\u001b[1;33m\u001b[0m\u001b[0m\n",
      "\u001b[1;32m<ipython-input-153-59cacf141629>\u001b[0m in \u001b[0;36m<listcomp>\u001b[1;34m(.0)\u001b[0m\n\u001b[0;32m      1\u001b[0m \u001b[1;32mdef\u001b[0m \u001b[0mflatten\u001b[0m\u001b[1;33m(\u001b[0m\u001b[0mlst\u001b[0m\u001b[1;33m)\u001b[0m\u001b[1;33m:\u001b[0m\u001b[1;33m\u001b[0m\u001b[1;33m\u001b[0m\u001b[0m\n\u001b[1;32m----> 2\u001b[1;33m     \u001b[1;32mreturn\u001b[0m \u001b[1;33m[\u001b[0m\u001b[1;33m[\u001b[0m\u001b[0mx\u001b[0m\u001b[1;33m,\u001b[0m \u001b[1;33m*\u001b[0m\u001b[0mx\u001b[0m\u001b[1;33m]\u001b[0m\u001b[1;33m[\u001b[0m\u001b[0misinstance\u001b[0m\u001b[1;33m(\u001b[0m\u001b[0mx\u001b[0m\u001b[1;33m,\u001b[0m \u001b[0mlist\u001b[0m\u001b[1;33m)\u001b[0m\u001b[1;33m]\u001b[0m \u001b[1;32mfor\u001b[0m \u001b[0mx\u001b[0m \u001b[1;32min\u001b[0m \u001b[0mlst\u001b[0m\u001b[1;33m]\u001b[0m\u001b[1;33m\u001b[0m\u001b[1;33m\u001b[0m\u001b[0m\n\u001b[0m\u001b[0;32m      3\u001b[0m \u001b[1;33m\u001b[0m\u001b[0m\n\u001b[0;32m      4\u001b[0m \u001b[1;33m\u001b[0m\u001b[0m\n\u001b[0;32m      5\u001b[0m \u001b[0mprint\u001b[0m\u001b[1;33m(\u001b[0m\u001b[0mflatten\u001b[0m\u001b[1;33m(\u001b[0m\u001b[1;33m[\u001b[0m\u001b[1;33m]\u001b[0m\u001b[1;33m)\u001b[0m \u001b[1;33m,\u001b[0m \u001b[1;33m[\u001b[0m\u001b[1;33m]\u001b[0m\u001b[1;33m,\u001b[0m \u001b[1;34m\"[]\"\u001b[0m\u001b[1;33m)\u001b[0m\u001b[1;33m\u001b[0m\u001b[1;33m\u001b[0m\u001b[0m\n",
      "\u001b[1;31mTypeError\u001b[0m: 'int' object is not iterable"
     ]
    }
   ],
   "source": [
    "def flatten(lst):\n",
    "    return [[x, *x][isinstance(x, list)] for x in lst]\n",
    "    \n",
    "    \n",
    "print(flatten([]), [])\n",
    "print(flatten([1,2,3]) , [1,2,3])\n",
    "print(flatten([[1,2,3],[\"a\",\"b\",\"c\"],[1,2,3]]), [1,2,3,\"a\",\"b\",\"c\",1,2,3])\n",
    "print(flatten([[1,2,3],[\"a\",\"b\",\"c\"],[1,2,3],\"a\"]) , [1,2,3,\"a\",\"b\",\"c\",1,2,3,\"a\"])\n",
    "print(flatten([[3,4,5],[[9,9,9]],[\"a,b,c\"]]) , [3,4,5,[9,9,9],\"a,b,c\"])\n",
    "print(flatten([[[3],[4],[5]],[9],[9],[8],[[1,2,3]]]) , [[3],[4],[5],9,9,8,[1,2,3]])\n",
    "print(flatten([1, 2, 3, [1, 2, 3]]), [1, 2, 3, 1, 2, 3])\n"
   ]
  },
  {
   "cell_type": "code",
   "execution_count": 122,
   "metadata": {},
   "outputs": [
    {
     "ename": "SyntaxError",
     "evalue": "can't use starred expression here (<ipython-input-122-74ae024f65d2>, line 7)",
     "output_type": "error",
     "traceback": [
      "\u001b[1;36m  File \u001b[1;32m\"<ipython-input-122-74ae024f65d2>\"\u001b[1;36m, line \u001b[1;32m7\u001b[0m\n\u001b[1;31mSyntaxError\u001b[0m\u001b[1;31m:\u001b[0m can't use starred expression here\n"
     ]
    }
   ],
   "source": [
    "x = [1, 2, 3]\n",
    "#x = 1\n",
    "isinstance(x, list)\n",
    "*x"
   ]
  },
  {
   "cell_type": "markdown",
   "metadata": {},
   "source": [
    "This order of for instructions is wrong:"
   ]
  },
  {
   "cell_type": "code",
   "execution_count": 132,
   "metadata": {},
   "outputs": [
    {
     "ename": "TypeError",
     "evalue": "'int' object is not iterable",
     "output_type": "error",
     "traceback": [
      "\u001b[1;31m---------------------------------------------------------------------------\u001b[0m",
      "\u001b[1;31mTypeError\u001b[0m                                 Traceback (most recent call last)",
      "\u001b[1;32m<ipython-input-132-fc4c7337944e>\u001b[0m in \u001b[0;36m<module>\u001b[1;34m\u001b[0m\n\u001b[0;32m      3\u001b[0m \u001b[1;33m\u001b[0m\u001b[0m\n\u001b[0;32m      4\u001b[0m \u001b[1;33m\u001b[0m\u001b[0m\n\u001b[1;32m----> 5\u001b[1;33m \u001b[0mprint\u001b[0m\u001b[1;33m(\u001b[0m\u001b[0mflatten\u001b[0m\u001b[1;33m(\u001b[0m\u001b[1;33m[\u001b[0m\u001b[1;33m[\u001b[0m\u001b[1;36m1\u001b[0m\u001b[1;33m,\u001b[0m\u001b[1;36m2\u001b[0m\u001b[1;33m,\u001b[0m\u001b[1;36m3\u001b[0m\u001b[1;33m]\u001b[0m\u001b[1;33m]\u001b[0m\u001b[1;33m)\u001b[0m \u001b[1;33m,\u001b[0m \u001b[1;33m[\u001b[0m\u001b[1;36m1\u001b[0m\u001b[1;33m,\u001b[0m\u001b[1;36m2\u001b[0m\u001b[1;33m,\u001b[0m\u001b[1;36m3\u001b[0m\u001b[1;33m]\u001b[0m\u001b[1;33m)\u001b[0m\u001b[1;33m\u001b[0m\u001b[1;33m\u001b[0m\u001b[0m\n\u001b[0m",
      "\u001b[1;32m<ipython-input-132-fc4c7337944e>\u001b[0m in \u001b[0;36mflatten\u001b[1;34m(lst)\u001b[0m\n\u001b[0;32m      1\u001b[0m \u001b[1;32mdef\u001b[0m \u001b[0mflatten\u001b[0m\u001b[1;33m(\u001b[0m\u001b[0mlst\u001b[0m\u001b[1;33m)\u001b[0m\u001b[1;33m:\u001b[0m\u001b[1;33m\u001b[0m\u001b[1;33m\u001b[0m\u001b[0m\n\u001b[1;32m----> 2\u001b[1;33m     \u001b[1;32mreturn\u001b[0m \u001b[1;33m[\u001b[0m\u001b[0my\u001b[0m \u001b[1;32mfor\u001b[0m \u001b[0my\u001b[0m \u001b[1;32min\u001b[0m \u001b[0mx\u001b[0m \u001b[1;32mfor\u001b[0m \u001b[0mx\u001b[0m \u001b[1;32min\u001b[0m \u001b[0mlst\u001b[0m\u001b[1;33m]\u001b[0m\u001b[1;33m\u001b[0m\u001b[1;33m\u001b[0m\u001b[0m\n\u001b[0m\u001b[0;32m      3\u001b[0m \u001b[1;33m\u001b[0m\u001b[0m\n\u001b[0;32m      4\u001b[0m \u001b[1;33m\u001b[0m\u001b[0m\n\u001b[0;32m      5\u001b[0m \u001b[0mprint\u001b[0m\u001b[1;33m(\u001b[0m\u001b[0mflatten\u001b[0m\u001b[1;33m(\u001b[0m\u001b[1;33m[\u001b[0m\u001b[1;33m[\u001b[0m\u001b[1;36m1\u001b[0m\u001b[1;33m,\u001b[0m\u001b[1;36m2\u001b[0m\u001b[1;33m,\u001b[0m\u001b[1;36m3\u001b[0m\u001b[1;33m]\u001b[0m\u001b[1;33m]\u001b[0m\u001b[1;33m)\u001b[0m \u001b[1;33m,\u001b[0m \u001b[1;33m[\u001b[0m\u001b[1;36m1\u001b[0m\u001b[1;33m,\u001b[0m\u001b[1;36m2\u001b[0m\u001b[1;33m,\u001b[0m\u001b[1;36m3\u001b[0m\u001b[1;33m]\u001b[0m\u001b[1;33m)\u001b[0m\u001b[1;33m\u001b[0m\u001b[1;33m\u001b[0m\u001b[0m\n",
      "\u001b[1;31mTypeError\u001b[0m: 'int' object is not iterable"
     ]
    }
   ],
   "source": [
    "def flatten(lst):\n",
    "    return [y for y in x for x in lst]\n",
    "    \n",
    "    \n",
    "print(flatten([[1,2,3]]), [1,2,3])"
   ]
  },
  {
   "cell_type": "markdown",
   "metadata": {},
   "source": [
    "This order of for instructions is right:"
   ]
  },
  {
   "cell_type": "code",
   "execution_count": 133,
   "metadata": {},
   "outputs": [
    {
     "name": "stdout",
     "output_type": "stream",
     "text": [
      "[1, 2, 3] [1, 2, 3]\n"
     ]
    }
   ],
   "source": [
    "def flatten(lst):\n",
    "    return [y for x in lst for y in x]\n",
    "    \n",
    "    \n",
    "print(flatten([[1,2,3]]) , [1,2,3])"
   ]
  },
  {
   "cell_type": "markdown",
   "metadata": {},
   "source": [
    "__Other users' solutions:__"
   ]
  },
  {
   "cell_type": "markdown",
   "metadata": {},
   "source": [
    "__#1__ But it doesn't pass my TC: the last one (maybe it shouldn't have to)"
   ]
  },
  {
   "cell_type": "code",
   "execution_count": 157,
   "metadata": {},
   "outputs": [
    {
     "name": "stdout",
     "output_type": "stream",
     "text": [
      "[] []\n",
      "[1, 2, 3] [1, 2, 3]\n",
      "[1, 2, 3, 'a', 'b', 'c', 1, 2, 3] [1, 2, 3, 'a', 'b', 'c', 1, 2, 3]\n",
      "[1, 2, 3, 'a', 'b', 'c', 1, 2, 3, 'a'] [1, 2, 3, 'a', 'b', 'c', 1, 2, 3, 'a']\n",
      "[3, 4, 5, [9, 9, 9], 'a,b,c'] [3, 4, 5, [9, 9, 9], 'a,b,c']\n",
      "[[3], [4], [5], 9, 9, 8, [1, 2, 3]] [[3], [4], [5], 9, 9, 8, [1, 2, 3]]\n",
      "[1, 2, 3, [1, 2, 3]] [1, 2, 3, 1, 2, 3]\n"
     ]
    }
   ],
   "source": [
    "from itertools import chain\n",
    "\n",
    "def flatten(lst):\n",
    "    try:\n",
    "        return list(chain.from_iterable(lst))\n",
    "    except:\n",
    "        return lst\n",
    "    \n",
    "    \n",
    "print(flatten([]), [])\n",
    "print(flatten([1,2,3]), [1,2,3])\n",
    "print(flatten([[1,2,3],[\"a\",\"b\",\"c\"],[1,2,3]]), [1,2,3,\"a\",\"b\",\"c\",1,2,3])\n",
    "print(flatten([[1,2,3],[\"a\",\"b\",\"c\"],[1,2,3],\"a\"]) , [1,2,3,\"a\",\"b\",\"c\",1,2,3,\"a\"])\n",
    "print(flatten([[3,4,5],[[9,9,9]],[\"a,b,c\"]]) , [3,4,5,[9,9,9],\"a,b,c\"])\n",
    "print(flatten([[[3],[4],[5]],[9],[9],[8],[[1,2,3]]]) , [[3],[4],[5],9,9,8,[1,2,3]])\n",
    "print(flatten([1, 2, 3, [1, 2, 3]]), [1, 2, 3, 1, 2, 3])\n"
   ]
  },
  {
   "cell_type": "code",
   "execution_count": 147,
   "metadata": {},
   "outputs": [
    {
     "data": {
      "text/plain": [
       "[1]"
      ]
     },
     "execution_count": 147,
     "metadata": {},
     "output_type": "execute_result"
    }
   ],
   "source": [
    "list(chain.from_iterable([[1]]))"
   ]
  },
  {
   "cell_type": "code",
   "execution_count": 150,
   "metadata": {},
   "outputs": [
    {
     "ename": "TypeError",
     "evalue": "'int' object is not iterable",
     "output_type": "error",
     "traceback": [
      "\u001b[1;31m---------------------------------------------------------------------------\u001b[0m",
      "\u001b[1;31mTypeError\u001b[0m                                 Traceback (most recent call last)",
      "\u001b[1;32m<ipython-input-150-6f865b6ee100>\u001b[0m in \u001b[0;36m<module>\u001b[1;34m\u001b[0m\n\u001b[1;32m----> 1\u001b[1;33m \u001b[0mlist\u001b[0m\u001b[1;33m(\u001b[0m\u001b[0mchain\u001b[0m\u001b[1;33m(\u001b[0m\u001b[1;33m*\u001b[0m\u001b[1;33m[\u001b[0m\u001b[1;36m1\u001b[0m\u001b[1;33m,\u001b[0m \u001b[1;36m2\u001b[0m\u001b[1;33m,\u001b[0m \u001b[1;36m3\u001b[0m\u001b[1;33m,\u001b[0m \u001b[1;33m[\u001b[0m\u001b[1;36m1\u001b[0m\u001b[1;33m,\u001b[0m \u001b[1;36m2\u001b[0m\u001b[1;33m,\u001b[0m \u001b[1;36m3\u001b[0m\u001b[1;33m]\u001b[0m\u001b[1;33m]\u001b[0m\u001b[1;33m)\u001b[0m\u001b[1;33m)\u001b[0m\u001b[1;33m\u001b[0m\u001b[1;33m\u001b[0m\u001b[0m\n\u001b[0m",
      "\u001b[1;31mTypeError\u001b[0m: 'int' object is not iterable"
     ]
    }
   ],
   "source": [
    "list(chain(*[1, 2, 3, [1, 2, 3]]))"
   ]
  },
  {
   "cell_type": "markdown",
   "metadata": {},
   "source": [
    "Almost the same solution with the same result in last TC:"
   ]
  },
  {
   "cell_type": "code",
   "execution_count": 155,
   "metadata": {},
   "outputs": [
    {
     "name": "stdout",
     "output_type": "stream",
     "text": [
      "[] []\n",
      "[1, 2, 3] [1, 2, 3]\n",
      "[1, 2, 3, 'a', 'b', 'c', 1, 2, 3] [1, 2, 3, 'a', 'b', 'c', 1, 2, 3]\n",
      "[1, 2, 3, 'a', 'b', 'c', 1, 2, 3, 'a'] [1, 2, 3, 'a', 'b', 'c', 1, 2, 3, 'a']\n",
      "[3, 4, 5, [9, 9, 9], 'a,b,c'] [3, 4, 5, [9, 9, 9], 'a,b,c']\n",
      "[[3], [4], [5], 9, 9, 8, [1, 2, 3]] [[3], [4], [5], 9, 9, 8, [1, 2, 3]]\n",
      "[1, 2, 3, [1, 2, 3]] [1, 2, 3, 1, 2, 3]\n"
     ]
    }
   ],
   "source": [
    "from itertools import chain\n",
    "\n",
    "def flatten(lst):\n",
    "    try:\n",
    "        return list(chain(*lst))\n",
    "    except TypeError:\n",
    "        return lst\n",
    "    \n",
    "    \n",
    "print(flatten([]), [])\n",
    "print(flatten([1,2,3]), [1,2,3])\n",
    "print(flatten([[1,2,3],[\"a\",\"b\",\"c\"],[1,2,3]]), [1,2,3,\"a\",\"b\",\"c\",1,2,3])\n",
    "print(flatten([[1,2,3],[\"a\",\"b\",\"c\"],[1,2,3],\"a\"]) , [1,2,3,\"a\",\"b\",\"c\",1,2,3,\"a\"])\n",
    "print(flatten([[3,4,5],[[9,9,9]],[\"a,b,c\"]]) , [3,4,5,[9,9,9],\"a,b,c\"])\n",
    "print(flatten([[[3],[4],[5]],[9],[9],[8],[[1,2,3]]]) , [[3],[4],[5],9,9,8,[1,2,3]])\n",
    "print(flatten([1, 2, 3, [1, 2, 3]]), [1, 2, 3, 1, 2, 3])\n"
   ]
  },
  {
   "cell_type": "markdown",
   "metadata": {},
   "source": [
    "__#2__"
   ]
  },
  {
   "cell_type": "code",
   "execution_count": 158,
   "metadata": {},
   "outputs": [
    {
     "name": "stdout",
     "output_type": "stream",
     "text": [
      "[] []\n",
      "[1, 2, 3] [1, 2, 3]\n",
      "[1, 2, 3, 'a', 'b', 'c', 1, 2, 3] [1, 2, 3, 'a', 'b', 'c', 1, 2, 3]\n",
      "[1, 2, 3, 'a', 'b', 'c', 1, 2, 3, 'a'] [1, 2, 3, 'a', 'b', 'c', 1, 2, 3, 'a']\n",
      "[3, 4, 5, [9, 9, 9], 'a,b,c'] [3, 4, 5, [9, 9, 9], 'a,b,c']\n",
      "[[3], [4], [5], 9, 9, 8, [1, 2, 3]] [[3], [4], [5], 9, 9, 8, [1, 2, 3]]\n",
      "[1, 2, 3, 1, 2, 3] [1, 2, 3, 1, 2, 3]\n"
     ]
    }
   ],
   "source": [
    "def flatten(lst):\n",
    "    res = []\n",
    "    for x in lst:\n",
    "        if isinstance(x, list):\n",
    "            res.extend(x)\n",
    "        else:\n",
    "            res.append(x)\n",
    "    return res\n",
    "\n",
    "\n",
    "print(flatten([]), [])\n",
    "print(flatten([1,2,3]) , [1,2,3])\n",
    "print(flatten([[1,2,3],[\"a\",\"b\",\"c\"],[1,2,3]]), [1,2,3,\"a\",\"b\",\"c\",1,2,3])\n",
    "print(flatten([[1,2,3],[\"a\",\"b\",\"c\"],[1,2,3],\"a\"]) , [1,2,3,\"a\",\"b\",\"c\",1,2,3,\"a\"])\n",
    "print(flatten([[3,4,5],[[9,9,9]],[\"a,b,c\"]]) , [3,4,5,[9,9,9],\"a,b,c\"])\n",
    "print(flatten([[[3],[4],[5]],[9],[9],[8],[[1,2,3]]]) , [[3],[4],[5],9,9,8,[1,2,3]])\n",
    "print(flatten([1, 2, 3, [1, 2, 3]]), [1, 2, 3, 1, 2, 3])\n"
   ]
  },
  {
   "cell_type": "markdown",
   "metadata": {},
   "source": [
    "__#3__ The very witty one!"
   ]
  },
  {
   "cell_type": "code",
   "execution_count": 159,
   "metadata": {},
   "outputs": [
    {
     "name": "stdout",
     "output_type": "stream",
     "text": [
      "[] []\n",
      "[1, 2, 3] [1, 2, 3]\n",
      "[1, 2, 3, 'a', 'b', 'c', 1, 2, 3] [1, 2, 3, 'a', 'b', 'c', 1, 2, 3]\n",
      "[1, 2, 3, 'a', 'b', 'c', 1, 2, 3, 'a'] [1, 2, 3, 'a', 'b', 'c', 1, 2, 3, 'a']\n",
      "[3, 4, 5, [9, 9, 9], 'a,b,c'] [3, 4, 5, [9, 9, 9], 'a,b,c']\n",
      "[[3], [4], [5], 9, 9, 8, [1, 2, 3]] [[3], [4], [5], 9, 9, 8, [1, 2, 3]]\n",
      "[1, 2, 3, 1, 2, 3] [1, 2, 3, 1, 2, 3]\n"
     ]
    }
   ],
   "source": [
    "def flatten(lst):\n",
    "    return sum(([i] if not isinstance(i, list) else i for i in lst), [])\n",
    "\n",
    "\n",
    "print(flatten([]), [])\n",
    "print(flatten([1,2,3]) , [1,2,3])\n",
    "print(flatten([[1,2,3],[\"a\",\"b\",\"c\"],[1,2,3]]), [1,2,3,\"a\",\"b\",\"c\",1,2,3])\n",
    "print(flatten([[1,2,3],[\"a\",\"b\",\"c\"],[1,2,3],\"a\"]) , [1,2,3,\"a\",\"b\",\"c\",1,2,3,\"a\"])\n",
    "print(flatten([[3,4,5],[[9,9,9]],[\"a,b,c\"]]) , [3,4,5,[9,9,9],\"a,b,c\"])\n",
    "print(flatten([[[3],[4],[5]],[9],[9],[8],[[1,2,3]]]) , [[3],[4],[5],9,9,8,[1,2,3]])\n",
    "print(flatten([1, 2, 3, [1, 2, 3]]), [1, 2, 3, 1, 2, 3])\n"
   ]
  },
  {
   "cell_type": "code",
   "execution_count": 160,
   "metadata": {},
   "outputs": [
    {
     "data": {
      "text/plain": [
       "[1, 1, 2, 3, 3]"
      ]
     },
     "execution_count": 160,
     "metadata": {},
     "output_type": "execute_result"
    }
   ],
   "source": [
    "[] + [1] + [1, 2, 3] + [3]"
   ]
  },
  {
   "cell_type": "markdown",
   "metadata": {},
   "source": [
    "__#4__ The best one:"
   ]
  },
  {
   "cell_type": "code",
   "execution_count": 161,
   "metadata": {},
   "outputs": [
    {
     "name": "stdout",
     "output_type": "stream",
     "text": [
      "[] []\n",
      "[1, 2, 3] [1, 2, 3]\n",
      "[1, 2, 3, 'a', 'b', 'c', 1, 2, 3] [1, 2, 3, 'a', 'b', 'c', 1, 2, 3]\n",
      "[1, 2, 3, 'a', 'b', 'c', 1, 2, 3, 'a'] [1, 2, 3, 'a', 'b', 'c', 1, 2, 3, 'a']\n",
      "[3, 4, 5, [9, 9, 9], 'a,b,c'] [3, 4, 5, [9, 9, 9], 'a,b,c']\n",
      "[[3], [4], [5], 9, 9, 8, [1, 2, 3]] [[3], [4], [5], 9, 9, 8, [1, 2, 3]]\n",
      "[1, 2, 3, 1, 2, 3] [1, 2, 3, 1, 2, 3]\n"
     ]
    }
   ],
   "source": [
    "def flatten(lst):\n",
    "    return [y for x in lst for y in (x if isinstance(x, list) else [x])]\n",
    "\n",
    "\n",
    "print(flatten([]), [])\n",
    "print(flatten([1,2,3]) , [1,2,3])\n",
    "print(flatten([[1,2,3],[\"a\",\"b\",\"c\"],[1,2,3]]), [1,2,3,\"a\",\"b\",\"c\",1,2,3])\n",
    "print(flatten([[1,2,3],[\"a\",\"b\",\"c\"],[1,2,3],\"a\"]) , [1,2,3,\"a\",\"b\",\"c\",1,2,3,\"a\"])\n",
    "print(flatten([[3,4,5],[[9,9,9]],[\"a,b,c\"]]) , [3,4,5,[9,9,9],\"a,b,c\"])\n",
    "print(flatten([[[3],[4],[5]],[9],[9],[8],[[1,2,3]]]) , [[3],[4],[5],9,9,8,[1,2,3]])\n",
    "print(flatten([1, 2, 3, [1, 2, 3]]), [1, 2, 3, 1, 2, 3])\n"
   ]
  },
  {
   "cell_type": "markdown",
   "metadata": {},
   "source": [
    "__#5__"
   ]
  },
  {
   "cell_type": "code",
   "execution_count": 162,
   "metadata": {},
   "outputs": [
    {
     "name": "stdout",
     "output_type": "stream",
     "text": [
      "[] []\n",
      "[1, 2, 3] [1, 2, 3]\n",
      "[1, 2, 3, 'a', 'b', 'c', 1, 2, 3] [1, 2, 3, 'a', 'b', 'c', 1, 2, 3]\n",
      "[1, 2, 3, 'a', 'b', 'c', 1, 2, 3, 'a'] [1, 2, 3, 'a', 'b', 'c', 1, 2, 3, 'a']\n",
      "[3, 4, 5, [9, 9, 9], 'a,b,c'] [3, 4, 5, [9, 9, 9], 'a,b,c']\n",
      "[[3], [4], [5], 9, 9, 8, [1, 2, 3]] [[3], [4], [5], 9, 9, 8, [1, 2, 3]]\n",
      "[1, 2, 3, 1, 2, 3] [1, 2, 3, 1, 2, 3]\n"
     ]
    }
   ],
   "source": [
    "def flatten(lst):\n",
    "    return [item for sublist in [seq if isinstance(seq, list) else [seq] for seq in lst] for item in sublist]\n",
    "\n",
    "\n",
    "print(flatten([]), [])\n",
    "print(flatten([1,2,3]) , [1,2,3])\n",
    "print(flatten([[1,2,3],[\"a\",\"b\",\"c\"],[1,2,3]]), [1,2,3,\"a\",\"b\",\"c\",1,2,3])\n",
    "print(flatten([[1,2,3],[\"a\",\"b\",\"c\"],[1,2,3],\"a\"]) , [1,2,3,\"a\",\"b\",\"c\",1,2,3,\"a\"])\n",
    "print(flatten([[3,4,5],[[9,9,9]],[\"a,b,c\"]]) , [3,4,5,[9,9,9],\"a,b,c\"])\n",
    "print(flatten([[[3],[4],[5]],[9],[9],[8],[[1,2,3]]]) , [[3],[4],[5],9,9,8,[1,2,3]])\n",
    "print(flatten([1, 2, 3, [1, 2, 3]]), [1, 2, 3, 1, 2, 3])\n"
   ]
  },
  {
   "cell_type": "markdown",
   "metadata": {},
   "source": [
    "Almost the same:"
   ]
  },
  {
   "cell_type": "code",
   "execution_count": 163,
   "metadata": {},
   "outputs": [
    {
     "name": "stdout",
     "output_type": "stream",
     "text": [
      "[] []\n",
      "[1, 2, 3] [1, 2, 3]\n",
      "[1, 2, 3, 'a', 'b', 'c', 1, 2, 3] [1, 2, 3, 'a', 'b', 'c', 1, 2, 3]\n",
      "[1, 2, 3, 'a', 'b', 'c', 1, 2, 3, 'a'] [1, 2, 3, 'a', 'b', 'c', 1, 2, 3, 'a']\n",
      "[3, 4, 5, [9, 9, 9], 'a,b,c'] [3, 4, 5, [9, 9, 9], 'a,b,c']\n",
      "[[3], [4], [5], 9, 9, 8, [1, 2, 3]] [[3], [4], [5], 9, 9, 8, [1, 2, 3]]\n",
      "[1, 2, 3, 1, 2, 3] [1, 2, 3, 1, 2, 3]\n"
     ]
    }
   ],
   "source": [
    "def flatten(lst):\n",
    "    return [item for sublist in (seq if isinstance(seq, list) else [seq] for seq in lst) for item in sublist]\n",
    "\n",
    "\n",
    "print(flatten([]), [])\n",
    "print(flatten([1,2,3]) , [1,2,3])\n",
    "print(flatten([[1,2,3],[\"a\",\"b\",\"c\"],[1,2,3]]), [1,2,3,\"a\",\"b\",\"c\",1,2,3])\n",
    "print(flatten([[1,2,3],[\"a\",\"b\",\"c\"],[1,2,3],\"a\"]) , [1,2,3,\"a\",\"b\",\"c\",1,2,3,\"a\"])\n",
    "print(flatten([[3,4,5],[[9,9,9]],[\"a,b,c\"]]) , [3,4,5,[9,9,9],\"a,b,c\"])\n",
    "print(flatten([[[3],[4],[5]],[9],[9],[8],[[1,2,3]]]) , [[3],[4],[5],9,9,8,[1,2,3]])\n",
    "print(flatten([1, 2, 3, [1, 2, 3]]), [1, 2, 3, 1, 2, 3])\n"
   ]
  },
  {
   "cell_type": "markdown",
   "metadata": {},
   "source": [
    "__#6__"
   ]
  },
  {
   "cell_type": "code",
   "execution_count": 164,
   "metadata": {},
   "outputs": [
    {
     "name": "stdout",
     "output_type": "stream",
     "text": [
      "[] []\n",
      "[1, 2, 3] [1, 2, 3]\n",
      "[1, 2, 3, 'a', 'b', 'c', 1, 2, 3] [1, 2, 3, 'a', 'b', 'c', 1, 2, 3]\n",
      "[1, 2, 3, 'a', 'b', 'c', 1, 2, 3, 'a'] [1, 2, 3, 'a', 'b', 'c', 1, 2, 3, 'a']\n",
      "[3, 4, 5, [9, 9, 9], 'a,b,c'] [3, 4, 5, [9, 9, 9], 'a,b,c']\n",
      "[[3], [4], [5], 9, 9, 8, [1, 2, 3]] [[3], [4], [5], 9, 9, 8, [1, 2, 3]]\n",
      "[1, 2, 3, [1, 2, 3]] [1, 2, 3, 1, 2, 3]\n"
     ]
    }
   ],
   "source": [
    "def flatten(lst):\n",
    "    try:\n",
    "        return sum(map(list, lst), [])\n",
    "    except:\n",
    "        return lst\n",
    "    \n",
    "\n",
    "print(flatten([]), [])\n",
    "print(flatten([1,2,3]) , [1,2,3])\n",
    "print(flatten([[1,2,3],[\"a\",\"b\",\"c\"],[1,2,3]]), [1,2,3,\"a\",\"b\",\"c\",1,2,3])\n",
    "print(flatten([[1,2,3],[\"a\",\"b\",\"c\"],[1,2,3],\"a\"]) , [1,2,3,\"a\",\"b\",\"c\",1,2,3,\"a\"])\n",
    "print(flatten([[3,4,5],[[9,9,9]],[\"a,b,c\"]]) , [3,4,5,[9,9,9],\"a,b,c\"])\n",
    "print(flatten([[[3],[4],[5]],[9],[9],[8],[[1,2,3]]]) , [[3],[4],[5],9,9,8,[1,2,3]])\n",
    "print(flatten([1, 2, 3, [1, 2, 3]]), [1, 2, 3, 1, 2, 3])\n"
   ]
  },
  {
   "cell_type": "code",
   "execution_count": 166,
   "metadata": {},
   "outputs": [
    {
     "ename": "TypeError",
     "evalue": "'int' object is not iterable",
     "output_type": "error",
     "traceback": [
      "\u001b[1;31m---------------------------------------------------------------------------\u001b[0m",
      "\u001b[1;31mTypeError\u001b[0m                                 Traceback (most recent call last)",
      "\u001b[1;32m<ipython-input-166-31c61e8f6717>\u001b[0m in \u001b[0;36m<module>\u001b[1;34m\u001b[0m\n\u001b[1;32m----> 1\u001b[1;33m \u001b[0mlist\u001b[0m\u001b[1;33m(\u001b[0m\u001b[1;36m4\u001b[0m\u001b[1;33m)\u001b[0m\u001b[1;33m\u001b[0m\u001b[1;33m\u001b[0m\u001b[0m\n\u001b[0m",
      "\u001b[1;31mTypeError\u001b[0m: 'int' object is not iterable"
     ]
    }
   ],
   "source": [
    "list(4)"
   ]
  },
  {
   "cell_type": "code",
   "execution_count": 167,
   "metadata": {},
   "outputs": [
    {
     "data": {
      "text/plain": [
       "[1]"
      ]
     },
     "execution_count": 167,
     "metadata": {},
     "output_type": "execute_result"
    }
   ],
   "source": [
    "list([1])"
   ]
  },
  {
   "cell_type": "markdown",
   "metadata": {},
   "source": [
    "20210113"
   ]
  },
  {
   "cell_type": "markdown",
   "metadata": {},
   "source": [
    "### Reverse words\n",
    "https://www.codewars.com/kata/5259b20d6021e9e14c0010d4  \n",
    "7 kyu\n",
    "\n",
    "Complete the function that accepts a string parameter, and reverses each word in the string. All spaces in the string should be retained.\n",
    "\n",
    "Examples  \n",
    "\"This is an example!\" ==> \"sihT si na !elpmaxe\"  \n",
    "\"double  spaces\"      ==> \"elbuod  secaps\"  "
   ]
  },
  {
   "cell_type": "markdown",
   "metadata": {},
   "source": [
    "__My solutions:__"
   ]
  },
  {
   "cell_type": "markdown",
   "metadata": {},
   "source": [
    "__#1__"
   ]
  },
  {
   "cell_type": "code",
   "execution_count": 170,
   "metadata": {},
   "outputs": [
    {
     "name": "stdout",
     "output_type": "stream",
     "text": [
      "ehT kciuq nworb xof spmuj revo eht yzal .god ehT kciuq nworb xof spmuj revo eht yzal .god\n",
      "elppa elppa\n",
      "a b c d a b c d\n",
      "elbuod  decaps  sdrow elbuod  decaps  sdrow\n",
      "!2elbuod  decaps  sdrow !2elbuod  decaps  sdrow\n"
     ]
    }
   ],
   "source": [
    "import re\n",
    "\n",
    "def reverse_words(text):\n",
    "    return re.sub(r'\\S+', lambda m: m[0][::-1], text)\n",
    "\n",
    "\n",
    "print(reverse_words('The quick brown fox jumps over the lazy dog.'), 'ehT kciuq nworb xof spmuj revo eht yzal .god')\n",
    "print(reverse_words('apple'), 'elppa')\n",
    "print(reverse_words('a b c d'), 'a b c d')\n",
    "print(reverse_words('double  spaced  words'), 'elbuod  decaps  sdrow')\n",
    "print(reverse_words('double2!  spaced  words'), '!2elbuod  decaps  sdrow')\n"
   ]
  },
  {
   "cell_type": "markdown",
   "metadata": {},
   "source": [
    "__#2__"
   ]
  },
  {
   "cell_type": "code",
   "execution_count": 172,
   "metadata": {},
   "outputs": [
    {
     "name": "stdout",
     "output_type": "stream",
     "text": [
      "ehT kciuq nworb xof spmuj revo eht yzal .god ehT kciuq nworb xof spmuj revo eht yzal .god\n",
      "elppa elppa\n",
      "a b c d a b c d\n",
      "elbuod  decaps  sdrow elbuod  decaps  sdrow\n",
      "!2elbuod  decaps  sdrow !2elbuod  decaps  sdrow\n"
     ]
    }
   ],
   "source": [
    "def reverse_words(text):\n",
    "    res = ''\n",
    "    word = ''\n",
    "    for c in text:\n",
    "        if c not in (' ', '\\t', '\\n'):\n",
    "            word += c\n",
    "        else:\n",
    "            res += word[::-1]\n",
    "            res += c\n",
    "            word = ''\n",
    "    res += word[::-1]\n",
    "    return res\n",
    "\n",
    "\n",
    "print(reverse_words('The quick brown fox jumps over the lazy dog.'), 'ehT kciuq nworb xof spmuj revo eht yzal .god')\n",
    "print(reverse_words('apple'), 'elppa')\n",
    "print(reverse_words('a b c d'), 'a b c d')\n",
    "print(reverse_words('double  spaced  words'), 'elbuod  decaps  sdrow')\n",
    "print(reverse_words('double2!  spaced  words'), '!2elbuod  decaps  sdrow')\n"
   ]
  },
  {
   "cell_type": "markdown",
   "metadata": {},
   "source": [
    "### Javascript filter - 1\n",
    "https://www.codewars.com/kata/525d9b1a037b7a9da7000905  \n",
    "7 kyu\n",
    "\n",
    "While developing a website, you detect that some of the members have troubles logging in. Searching through the code you find that all logins ending with a \"_\" make problems. So you want to write a function that takes an array of pairs of login-names and e-mails, and outputs an array of all login-name, e-mails-pairs from the login-names that end with \"_\".\n",
    "\n",
    "If you have the input-array:\n",
    "\n",
    "[ [ \"foo\", \"foo@foo.com\" ], [ \"bar_\", \"bar@bar.com\" ] ]\n",
    "\n",
    "it should output\n",
    "\n",
    "[ [ \"bar_\", \"bar@bar.com\" ] ]\n",
    "\n",
    "You have to use the filter-method which returns each element of the array for which the filter-method returns true.\n",
    "\n",
    "https://docs.python.org/3/library/functions.html#filter"
   ]
  },
  {
   "cell_type": "markdown",
   "metadata": {},
   "source": [
    "__My solution:__"
   ]
  },
  {
   "cell_type": "code",
   "execution_count": 175,
   "metadata": {},
   "outputs": [
    {
     "name": "stdout",
     "output_type": "stream",
     "text": [
      "[['bar_', 'bar@bar.com']] [['bar_', 'bar@bar.com']]\n",
      "[['foobar_', 'foo@foo.com'], ['bar_', 'bar@bar.com']] [['foobar_', 'foo@foo.com'], ['bar_', 'bar@bar.com']]\n",
      "[] []\n"
     ]
    }
   ],
   "source": [
    "def search_names(logins):\n",
    "    return list(filter(lambda pair: pair[0].endswith('_'), logins))\n",
    "\n",
    "\n",
    "a = [[ \"foo\", \"foo@foo.com\" ], [ \"bar_\", \"bar@bar.com\" ] ]\n",
    "b = [ [ \"bar_\", \"bar@bar.com\" ] ]\n",
    "print(search_names(a), b)\n",
    "\n",
    "a = [[ \"foobar_\", \"foo@foo.com\" ], [ \"bar_\", \"bar@bar.com\" ] ]\n",
    "b = [[ \"foobar_\", \"foo@foo.com\" ], [ \"bar_\", \"bar@bar.com\" ] ]\n",
    "print(search_names(a), b)\n",
    "\n",
    "a = [[ \"foo\", \"foo@foo.com\" ], [ \"bar\", \"bar@bar.com\" ] ]\n",
    "b = []\n",
    "print(search_names(a), b)\n"
   ]
  },
  {
   "cell_type": "markdown",
   "metadata": {},
   "source": [
    "20210114"
   ]
  },
  {
   "cell_type": "markdown",
   "metadata": {},
   "source": [
    "### Thinking & Testing : Sport Star\n",
    "https://www.codewars.com/kata/56dd927e4c9055f8470013a5  \n",
    "7 kyu\n",
    "\n",
    "No Story\n",
    "\n",
    "No Description\n",
    "\n",
    "Only by Thinking and Testing\n",
    "\n",
    "Look at result of testcase, guess the code!"
   ]
  },
  {
   "cell_type": "markdown",
   "metadata": {},
   "source": [
    "__My solution:__"
   ]
  },
  {
   "cell_type": "code",
   "execution_count": 2,
   "metadata": {},
   "outputs": [
    {
     "name": "stdout",
     "output_type": "stream",
     "text": [
      "_|_|_ _|_|_\n",
      "_|_/_ _|_/_\n",
      "_/_/_ _/_/_\n",
      "x|x|x x|x|x\n",
      "x/x/x x/x/x\n"
     ]
    }
   ],
   "source": [
    "def testit(act, s): \n",
    "    move = {'run': '/_', 'jump': 'x|'} \n",
    "    return ''.join(move[m][move[m][1] == s[i]] for i, m in enumerate(act)) \n",
    "\n",
    "\n",
    "print(testit([\"run\",\"jump\",\"run\",\"jump\",\"run\"],\"_|_|_\"),\"_|_|_\")\n",
    "print(testit([\"run\",\"jump\",\"run\",\"run\",\"run\"],\"_|_|_\"),\"_|_/_\")\n",
    "print(testit([\"run\",\"run\",\"run\",\"run\",\"run\"],\"_|_|_\"),\"_/_/_\")\n",
    "print(testit([\"jump\",\"jump\",\"jump\",\"jump\",\"jump\"],\"_|_|_\"),\"x|x|x\")\n",
    "print(testit([\"jump\",\"run\",\"jump\",\"run\",\"jump\"],\"_|_|_\"),\"x/x/x\")"
   ]
  },
  {
   "cell_type": "markdown",
   "metadata": {},
   "source": [
    "### Triangular Treasure\n",
    "https://www.codewars.com/kata/525e5a1cb735154b320002c8  \n",
    "7 kyu\n",
    "\n",
    "Triangular numbers are so called because of the equilateral triangular shape that they occupy when laid out as dots https://en.wikipedia.org/wiki/Triangular_number.\n",
    "                     \n",
    "You need to return the nth triangular number. You should return 0 for out of range values:\n",
    "\n",
    "triangular(0)==0,  \n",
    "triangular(2)==3,  \n",
    "triangular(3)==6,  \n",
    "triangular(-10)==0  "
   ]
  },
  {
   "cell_type": "markdown",
   "metadata": {},
   "source": [
    "__My solution:__"
   ]
  },
  {
   "cell_type": "code",
   "execution_count": 3,
   "metadata": {},
   "outputs": [
    {
     "name": "stdout",
     "output_type": "stream",
     "text": [
      "3 3\n",
      "10 10\n",
      "45 45\n",
      "0 0\n"
     ]
    }
   ],
   "source": [
    "def triangular(n):\n",
    "    return n * (n + 1) // 2 if n > 0 else 0\n",
    "\n",
    "\n",
    "print(triangular(2), 3)\n",
    "print(triangular(4), 10)\n",
    "print(triangular(9), 45)\n",
    "print(triangular(-9), 0)"
   ]
  },
  {
   "cell_type": "markdown",
   "metadata": {},
   "source": [
    "20210115"
   ]
  },
  {
   "cell_type": "markdown",
   "metadata": {},
   "source": [
    "### Palindrome chain length\n",
    "https://www.codewars.com/kata/525f039017c7cd0e1a000a26  \n",
    "7 kyu\n",
    "\n",
    "Number is a palindrome if it is equal to the number with digits in reversed order. For example, 5, 44, 171, 4884 are palindromes, and 43, 194, 4773 are not.\n",
    "\n",
    "Write a function which takes a positive integer and returns the number of special steps needed to obtain a palindrome. The special step is: \"reverse the digits, and add to the original number\". If the resulting number is not a palindrome, repeat the procedure with the sum until the resulting number is a palindrome.\n",
    "\n",
    "If the input number is already a palindrome, the number of steps is 0.\n",
    "\n",
    "All inputs are guaranteed to have a final palindrome smaller than $ 2^63 $.\n",
    "\n",
    "Example  \n",
    "For example, start with 87:  \n",
    "\n",
    "  87 +   78 =  165     - step 1, not a palindrome  \n",
    " 165 +  561 =  726     - step 2, not a palindrome  \n",
    " 726 +  627 = 1353     - step 3, not a palindrome  \n",
    "1353 + 3531 = 4884     - step 4, palindrome!  \n",
    "4884 is a palindrome and we needed 4 steps to obtain it, so answer for 87 is 4.\n",
    "\n",
    "Additional info  \n",
    "Some interesting information on the problem can be found in this Wikipedia article on Lychrel numbers."
   ]
  },
  {
   "cell_type": "markdown",
   "metadata": {},
   "source": [
    "__My solution:__"
   ]
  },
  {
   "cell_type": "code",
   "execution_count": 5,
   "metadata": {},
   "outputs": [
    {
     "name": "stdout",
     "output_type": "stream",
     "text": [
      "0 0\n",
      "0 0\n",
      "4 4\n",
      "24 24\n",
      "1 1\n"
     ]
    }
   ],
   "source": [
    "def palindrome_chain_length(n):\n",
    "    # parameter n is a positive integer\n",
    "    # your function should return the number of steps\n",
    "    step = 0\n",
    "    s_n = str(n)\n",
    "    while s_n != s_n[::-1]:\n",
    "        s_n = str(int(s_n) + int(s_n[::-1]))\n",
    "        step += 1\n",
    "    return step     \n",
    "\n",
    "\n",
    "print(palindrome_chain_length(1),  0);\n",
    "print(palindrome_chain_length(88), 0);    \n",
    "print(palindrome_chain_length(87), 4);\n",
    "print(palindrome_chain_length(89), 24);\n",
    "print(palindrome_chain_length(10), 1);"
   ]
  },
  {
   "cell_type": "markdown",
   "metadata": {},
   "source": [
    "### Return a sorted list of objects\n",
    "https://www.codewars.com/kata/52705ed65de62b733f000064  \n",
    "7 kyu\n",
    "\n",
    "You'll be passed an array of objects (list) - you must sort them in descending order based on the value of the specified property (sortBy).\n",
    "\n",
    "Example  \n",
    "When sorted by \"a\", this:  \n",
    "\n",
    "[\n",
    "  {\"a\": 1, \"b\": 3},\n",
    "  {\"a\": 3, \"b\": 2},\n",
    "  {\"a\": 2, \"b\": 40},\n",
    "  {\"a\": 4, \"b\": 12}\n",
    "]\n",
    "should return:  \n",
    "\n",
    "[\n",
    "  {\"a\": 4, \"b\": 12},\n",
    "  {\"a\": 3, \"b\": 2},\n",
    "  {\"a\": 2, \"b\": 40},\n",
    "  {\"a\": 1, \"b\": 3}\n",
    "]\n",
    "\n",
    "The values will always be numbers, and the properties will always exist."
   ]
  },
  {
   "cell_type": "markdown",
   "metadata": {},
   "source": [
    "__My solution:__"
   ]
  },
  {
   "cell_type": "code",
   "execution_count": 11,
   "metadata": {},
   "outputs": [
    {
     "name": "stdout",
     "output_type": "stream",
     "text": [
      "[{'a': 4, 'b': 12}, {'a': 3, 'b': 2}, {'a': 2, 'b': 40}, {'a': 1, 'b': 3}] [{'a': 4, 'b': 12}, {'a': 3, 'b': 2}, {'a': 2, 'b': 40}, {'a': 1, 'b': 3}]\n"
     ]
    }
   ],
   "source": [
    "def sort_list(sort_by, lst):\n",
    "    return sorted(lst, key=lambda a: a[sort_by], reverse=True)\n",
    "\n",
    "\n",
    "print(sort_list(\"a\", \n",
    "[\n",
    "  {\"a\": 1, \"b\": 3},\n",
    "  {\"a\": 3, \"b\": 2},\n",
    "  {\"a\": 2, \"b\": 40},\n",
    "  {\"a\": 4, \"b\": 12}\n",
    "]),\n",
    "[\n",
    "  {\"a\": 4, \"b\": 12},\n",
    "  {\"a\": 3, \"b\": 2},\n",
    "  {\"a\": 2, \"b\": 40},\n",
    "  {\"a\": 1, \"b\": 3}\n",
    "])"
   ]
  },
  {
   "cell_type": "markdown",
   "metadata": {},
   "source": [
    "__My unsuccessful attempts:__"
   ]
  },
  {
   "cell_type": "code",
   "execution_count": 12,
   "metadata": {},
   "outputs": [
    {
     "ename": "AttributeError",
     "evalue": "'dict' object has no attribute 'a'",
     "output_type": "error",
     "traceback": [
      "\u001b[1;31m---------------------------------------------------------------------------\u001b[0m",
      "\u001b[1;31mAttributeError\u001b[0m                            Traceback (most recent call last)",
      "\u001b[1;32m<ipython-input-12-6b5c68a8b694>\u001b[0m in \u001b[0;36m<module>\u001b[1;34m\u001b[0m\n\u001b[0;32m     10\u001b[0m   \u001b[1;33m{\u001b[0m\u001b[1;34m\"a\"\u001b[0m\u001b[1;33m:\u001b[0m \u001b[1;36m3\u001b[0m\u001b[1;33m,\u001b[0m \u001b[1;34m\"b\"\u001b[0m\u001b[1;33m:\u001b[0m \u001b[1;36m2\u001b[0m\u001b[1;33m}\u001b[0m\u001b[1;33m,\u001b[0m\u001b[1;33m\u001b[0m\u001b[1;33m\u001b[0m\u001b[0m\n\u001b[0;32m     11\u001b[0m   \u001b[1;33m{\u001b[0m\u001b[1;34m\"a\"\u001b[0m\u001b[1;33m:\u001b[0m \u001b[1;36m2\u001b[0m\u001b[1;33m,\u001b[0m \u001b[1;34m\"b\"\u001b[0m\u001b[1;33m:\u001b[0m \u001b[1;36m40\u001b[0m\u001b[1;33m}\u001b[0m\u001b[1;33m,\u001b[0m\u001b[1;33m\u001b[0m\u001b[1;33m\u001b[0m\u001b[0m\n\u001b[1;32m---> 12\u001b[1;33m   \u001b[1;33m{\u001b[0m\u001b[1;34m\"a\"\u001b[0m\u001b[1;33m:\u001b[0m \u001b[1;36m4\u001b[0m\u001b[1;33m,\u001b[0m \u001b[1;34m\"b\"\u001b[0m\u001b[1;33m:\u001b[0m \u001b[1;36m12\u001b[0m\u001b[1;33m}\u001b[0m\u001b[1;33m\u001b[0m\u001b[1;33m\u001b[0m\u001b[0m\n\u001b[0m\u001b[0;32m     13\u001b[0m ]),\n\u001b[0;32m     14\u001b[0m [\n",
      "\u001b[1;32m<ipython-input-12-6b5c68a8b694>\u001b[0m in \u001b[0;36msort_list\u001b[1;34m(sort_by, lst)\u001b[0m\n\u001b[0;32m      2\u001b[0m \u001b[1;33m\u001b[0m\u001b[0m\n\u001b[0;32m      3\u001b[0m \u001b[1;32mdef\u001b[0m \u001b[0msort_list\u001b[0m\u001b[1;33m(\u001b[0m\u001b[0msort_by\u001b[0m\u001b[1;33m,\u001b[0m \u001b[0mlst\u001b[0m\u001b[1;33m)\u001b[0m\u001b[1;33m:\u001b[0m\u001b[1;33m\u001b[0m\u001b[1;33m\u001b[0m\u001b[0m\n\u001b[1;32m----> 4\u001b[1;33m     \u001b[1;32mreturn\u001b[0m \u001b[0msorted\u001b[0m\u001b[1;33m(\u001b[0m\u001b[0mlst\u001b[0m\u001b[1;33m,\u001b[0m \u001b[0mkey\u001b[0m\u001b[1;33m=\u001b[0m\u001b[0mattrgetter\u001b[0m\u001b[1;33m(\u001b[0m\u001b[0msort_by\u001b[0m\u001b[1;33m)\u001b[0m\u001b[1;33m,\u001b[0m \u001b[0mreverse\u001b[0m\u001b[1;33m=\u001b[0m\u001b[1;32mTrue\u001b[0m\u001b[1;33m)\u001b[0m\u001b[1;33m\u001b[0m\u001b[1;33m\u001b[0m\u001b[0m\n\u001b[0m\u001b[0;32m      5\u001b[0m \u001b[1;33m\u001b[0m\u001b[0m\n\u001b[0;32m      6\u001b[0m \u001b[1;33m\u001b[0m\u001b[0m\n",
      "\u001b[1;31mAttributeError\u001b[0m: 'dict' object has no attribute 'a'"
     ]
    }
   ],
   "source": [
    "from operator import attrgetter\n",
    "\n",
    "def sort_list(sort_by, lst):\n",
    "    return sorted(lst, key=attrgetter(sort_by), reverse=True)\n",
    "\n",
    "\n",
    "print(sort_list(\"a\", \n",
    "[\n",
    "  {\"a\": 1, \"b\": 3},\n",
    "  {\"a\": 3, \"b\": 2},\n",
    "  {\"a\": 2, \"b\": 40},\n",
    "  {\"a\": 4, \"b\": 12}\n",
    "]),\n",
    "[\n",
    "  {\"a\": 4, \"b\": 12},\n",
    "  {\"a\": 3, \"b\": 2},\n",
    "  {\"a\": 2, \"b\": 40},\n",
    "  {\"a\": 1, \"b\": 3}\n",
    "])"
   ]
  },
  {
   "cell_type": "markdown",
   "metadata": {},
   "source": [
    "20210116"
   ]
  },
  {
   "cell_type": "markdown",
   "metadata": {},
   "source": [
    "### Factorial Factory\n",
    "https://www.codewars.com/kata/528e95af53dcdb40b5000171  \n",
    "7 kyu\n",
    "\n",
    "In mathematics, the factorial of integer 'n' is written as 'n!'. It is equal to the product of n and every integer preceding it. For example: 5! = 1 x 2 x 3 x 4 x 5 = 120\n",
    "\n",
    "Your mission is simple: write a function that takes an integer 'n' and returns 'n!'.\n",
    "\n",
    "You are guaranteed an integer argument. For any values outside the positive range, return null, nil or None .\n",
    "\n",
    "Note: 0! is always equal to 1. Negative values should return null"
   ]
  },
  {
   "cell_type": "markdown",
   "metadata": {},
   "source": [
    "__My solution:__"
   ]
  },
  {
   "cell_type": "code",
   "execution_count": 14,
   "metadata": {},
   "outputs": [
    {
     "name": "stdout",
     "output_type": "stream",
     "text": [
      "2 2\n",
      "120 120\n",
      "None None\n"
     ]
    }
   ],
   "source": [
    "def factorial(n):\n",
    "    f = 1\n",
    "    for i in range(1, n + 1):\n",
    "        f *= i\n",
    "    return f if n >= 0 else None\n",
    "\n",
    "\n",
    "print(factorial(2) , 2,)\n",
    "print(factorial(5) , 120)\n",
    "print(factorial(-1), None)"
   ]
  },
  {
   "cell_type": "markdown",
   "metadata": {},
   "source": [
    "__Other users' solutions:__"
   ]
  },
  {
   "cell_type": "markdown",
   "metadata": {},
   "source": [
    "__#1__"
   ]
  },
  {
   "cell_type": "code",
   "execution_count": 15,
   "metadata": {},
   "outputs": [
    {
     "name": "stdout",
     "output_type": "stream",
     "text": [
      "2 2\n",
      "120 120\n",
      "None None\n"
     ]
    }
   ],
   "source": [
    "import math\n",
    "\n",
    "def factorial(n):\n",
    "    return math.factorial(n) if n >= 0 else None\n",
    "\n",
    "\n",
    "print(factorial(2) , 2,)\n",
    "print(factorial(5) , 120)\n",
    "print(factorial(-1), None)"
   ]
  },
  {
   "cell_type": "markdown",
   "metadata": {},
   "source": [
    "__#2__"
   ]
  },
  {
   "cell_type": "code",
   "execution_count": 16,
   "metadata": {},
   "outputs": [
    {
     "name": "stdout",
     "output_type": "stream",
     "text": [
      "2 2\n",
      "120 120\n",
      "None None\n"
     ]
    }
   ],
   "source": [
    "import math\n",
    "\n",
    "def factorial(n):\n",
    "    try:\n",
    "        return math.factorial(n)\n",
    "    except ValueError:\n",
    "        return None\n",
    "    \n",
    "    \n",
    "print(factorial(2) , 2,)\n",
    "print(factorial(5) , 120)\n",
    "print(factorial(-1), None)"
   ]
  },
  {
   "cell_type": "markdown",
   "metadata": {},
   "source": [
    "### Basic Calculator\n",
    "https://www.codewars.com/kata/5296455e4fe0cdf2e000059f  \n",
    "7 kyu\n",
    "\n",
    "Write a function called calculate that takes 3 values. The first and third values are numbers. The second value is a character. If the character is \"+\" , \"-\", \"*\", or \"/\", the function will return the result of the corresponding mathematical function on the two numbers. If the string is not one of the specified characters, the function should return null (throw an ArgumentException in C#).\n",
    "\n",
    "calculate(2,\"+\", 4); //Should return 6  \n",
    "calculate(6,\"-\", 1.5); //Should return 4.5  \n",
    "calculate(-4,\"*\", 8); //Should return -32  \n",
    "calculate(49,\"/\", -7); //Should return -7  \n",
    "calculate(8,\"m\", 2); //Should return null  \n",
    "calculate(4,\"/\",0) //should return null\n",
    "\n",
    "Keep in mind, you cannot divide by zero. If an attempt to divide by zero is made, return null (throw an ArgumentException in C#)/(None in Python)."
   ]
  },
  {
   "cell_type": "markdown",
   "metadata": {},
   "source": [
    "__My solution:__"
   ]
  },
  {
   "cell_type": "markdown",
   "metadata": {},
   "source": [
    "__#1__"
   ]
  },
  {
   "cell_type": "code",
   "execution_count": 25,
   "metadata": {},
   "outputs": [
    {
     "name": "stdout",
     "output_type": "stream",
     "text": [
      "-4.8 -4.8 3.2 - 8 = -4.8\n",
      "0.4 0.4 3.2 / 8 = .4\n",
      "25.6 25.6 3.2 * 8 = 25.6\n",
      "-3 -3 -3 + 0 = -3\n",
      "-3 -3 -3 - 0 = -3\n",
      "1.0 1 -2 / -2 = 1\n",
      "0 0 -3 * 0 = 0\n",
      "None None -3 / 0 = None\n",
      "None None -3 w 0 = None\n",
      "None None -3 w 1 = None\n"
     ]
    }
   ],
   "source": [
    "def calculate(num1, operation, num2): \n",
    "    return eval(f'{num1} {operation} {num2}') if (operation == '/' and num2) or operation in '+-*' else None\n",
    "\n",
    "\n",
    "print(calculate(3.2, \"-\", 8), -4.8, \"3.2 - 8 = -4.8\")\n",
    "print(calculate(3.2, \"/\", 8), 0.4, \"3.2 / 8 = .4\")\n",
    "print(calculate(3.2, \"*\", 8), 25.6, \"3.2 * 8 = 25.6\")\n",
    "print(calculate(-3, \"+\", 0), -3, \"-3 + 0 = -3\")\n",
    "print(calculate(-3, \"-\", 0), -3, \"-3 - 0 = -3\")\n",
    "print(calculate(-2, \"/\", -2), 1, \"-2 / -2 = 1\")\n",
    "print(calculate(-3, \"*\", 0), 0, \"-3 * 0 = 0\")\n",
    "print(calculate(-3, \"/\", 0), None, \"-3 / 0 = None\")\n",
    "print(calculate(-3, \"w\", 0), None, \"-3 w 0 = None\")\n",
    "print(calculate(-3, \"w\", 1), None, \"-3 w 1 = None\")"
   ]
  },
  {
   "cell_type": "markdown",
   "metadata": {},
   "source": [
    "__#2__"
   ]
  },
  {
   "cell_type": "code",
   "execution_count": 26,
   "metadata": {},
   "outputs": [
    {
     "name": "stdout",
     "output_type": "stream",
     "text": [
      "-4.8 -4.8 3.2 - 8 = -4.8\n",
      "0.4 0.4 3.2 / 8 = .4\n",
      "25.6 25.6 3.2 * 8 = 25.6\n",
      "-3 -3 -3 + 0 = -3\n",
      "-3 -3 -3 - 0 = -3\n",
      "1.0 1 -2 / -2 = 1\n",
      "0 0 -3 * 0 = 0\n",
      "None None -3 / 0 = None\n"
     ]
    }
   ],
   "source": [
    "def calculate(num1, operation, num2): \n",
    "    if operation in '+-*/':  # This line is unnecessary\n",
    "        try:\n",
    "            return eval(f'{num1} {operation} {num2}')\n",
    "        except ZeroDivisionError: # (ZeroDivisionError, SyntaxError)\n",
    "            return None\n",
    "\n",
    "\n",
    "print(calculate(3.2, \"-\", 8), -4.8, \"3.2 - 8 = -4.8\")\n",
    "print(calculate(3.2, \"/\", 8), 0.4, \"3.2 / 8 = .4\")\n",
    "print(calculate(3.2, \"*\", 8), 25.6, \"3.2 * 8 = 25.6\")\n",
    "print(calculate(-3, \"+\", 0), -3, \"-3 + 0 = -3\")\n",
    "print(calculate(-3, \"-\", 0), -3, \"-3 - 0 = -3\")\n",
    "print(calculate(-2, \"/\", -2), 1, \"-2 / -2 = 1\")\n",
    "print(calculate(-3, \"*\", 0), 0, \"-3 * 0 = 0\")\n",
    "print(calculate(-3, \"/\", 0), None, \"-3 / 0 = None\")"
   ]
  },
  {
   "cell_type": "markdown",
   "metadata": {},
   "source": [
    "__Other users' solutions:__"
   ]
  },
  {
   "cell_type": "code",
   "execution_count": 28,
   "metadata": {},
   "outputs": [
    {
     "name": "stdout",
     "output_type": "stream",
     "text": [
      "-4.8 -4.8 3.2 - 8 = -4.8\n",
      "0.4 0.4 3.2 / 8 = .4\n",
      "25.6 25.6 3.2 * 8 = 25.6\n",
      "-3 -3 -3 + 0 = -3\n",
      "-3 -3 -3 - 0 = -3\n",
      "1.0 1 -2 / -2 = 1\n",
      "0 0 -3 * 0 = 0\n",
      "None None -3 / 0 = None\n"
     ]
    }
   ],
   "source": [
    "def calculate(num1, operation, num2):\n",
    "    try:\n",
    "        return eval(f'{num1}{operation}{num2}')\n",
    "    except:  # or except Exception, or except (ZeroDivisionError, SyntaxError)\n",
    "        return\n",
    "    \n",
    "    \n",
    "print(calculate(3.2, \"-\", 8), -4.8, \"3.2 - 8 = -4.8\")\n",
    "print(calculate(3.2, \"/\", 8), 0.4, \"3.2 / 8 = .4\")\n",
    "print(calculate(3.2, \"*\", 8), 25.6, \"3.2 * 8 = 25.6\")\n",
    "print(calculate(-3, \"+\", 0), -3, \"-3 + 0 = -3\")\n",
    "print(calculate(-3, \"-\", 0), -3, \"-3 - 0 = -3\")\n",
    "print(calculate(-2, \"/\", -2), 1, \"-2 / -2 = 1\")\n",
    "print(calculate(-3, \"*\", 0), 0, \"-3 * 0 = 0\")\n",
    "print(calculate(-3, \"/\", 0), None, \"-3 / 0 = None\")"
   ]
  },
  {
   "cell_type": "markdown",
   "metadata": {},
   "source": [
    "20210117"
   ]
  },
  {
   "cell_type": "markdown",
   "metadata": {},
   "source": [
    "### The reject() function\n",
    "https://www.codewars.com/kata/52988f3f7edba9839c00037d\n",
    "7 kyu\n",
    "\n",
    "Implement a function which filters out array values which satisfy the given predicate.\n",
    "\n",
    "reject([1, 2, 3, 4, 5, 6], lambda x: x % 2 == 0)  =>  [1, 3, 5]"
   ]
  },
  {
   "cell_type": "markdown",
   "metadata": {},
   "source": [
    "__My solution:__"
   ]
  },
  {
   "cell_type": "markdown",
   "metadata": {},
   "source": [
    "__#1__"
   ]
  },
  {
   "cell_type": "code",
   "execution_count": 30,
   "metadata": {},
   "outputs": [
    {
     "name": "stdout",
     "output_type": "stream",
     "text": [
      "[1, 3, 5] [1, 3, 5]\n",
      "['a', 'b', 'd'] ['a', 'b', 'd']\n",
      "[3] [3]\n"
     ]
    }
   ],
   "source": [
    "from itertools import filterfalse\n",
    "\n",
    "def reject(seq, predicate): \n",
    "    return list(filterfalse(predicate, seq))\n",
    "\n",
    "\n",
    "print(reject([1, 2, 3, 4, 5, 6], lambda x: x%2==0), [1, 3, 5])\n",
    "print(reject(['a', 'b', 3, 'd'], lambda x: type(x)==int), ['a', 'b', 'd'])\n",
    "print(reject(['a', 'b', 3, 'd'], lambda x: type(x)==str), [3])"
   ]
  },
  {
   "cell_type": "markdown",
   "metadata": {},
   "source": [
    "__#2__"
   ]
  },
  {
   "cell_type": "code",
   "execution_count": 32,
   "metadata": {},
   "outputs": [
    {
     "name": "stdout",
     "output_type": "stream",
     "text": [
      "[1, 3, 5] [1, 3, 5]\n",
      "['a', 'b', 'd'] ['a', 'b', 'd']\n",
      "[3] [3]\n"
     ]
    }
   ],
   "source": [
    "def reject(seq, predicate): \n",
    "    return [a for a in seq if not predicate(a)]\n",
    "\n",
    "\n",
    "print(reject([1, 2, 3, 4, 5, 6], lambda x: x%2==0), [1, 3, 5])\n",
    "print(reject(['a', 'b', 3, 'd'], lambda x: type(x)==int), ['a', 'b', 'd'])\n",
    "print(reject(['a', 'b', 3, 'd'], lambda x: type(x)==str), [3])"
   ]
  },
  {
   "cell_type": "markdown",
   "metadata": {},
   "source": [
    "__Other users' solutions:__"
   ]
  },
  {
   "cell_type": "markdown",
   "metadata": {},
   "source": [
    "__#1__"
   ]
  },
  {
   "cell_type": "code",
   "execution_count": null,
   "metadata": {},
   "outputs": [],
   "source": [
    "def reject(seq, predicate): \n",
    "    return list(filter(lambda s: not predicate(s), seq))"
   ]
  },
  {
   "cell_type": "markdown",
   "metadata": {},
   "source": [
    "__#2__ Something new to me:"
   ]
  },
  {
   "cell_type": "code",
   "execution_count": 33,
   "metadata": {},
   "outputs": [
    {
     "name": "stdout",
     "output_type": "stream",
     "text": [
      "[1, 3, 5] [1, 3, 5]\n",
      "['a', 'b', 'd'] ['a', 'b', 'd']\n",
      "[3] [3]\n"
     ]
    }
   ],
   "source": [
    "from itertools import filterfalse\n",
    "from typing import Callable, List, Union\n",
    "\n",
    "def reject(seq: List[int], predicate: Callable[[List[Union[int, str]]], List[Union[int, str]]]) -> List[Union[int, str]]:\n",
    "    \"\"\" Filter out the array values which safisty the given prediction. \"\"\"\n",
    "    return list(filterfalse(predicate, seq))\n",
    "\n",
    "\n",
    "print(reject([1, 2, 3, 4, 5, 6], lambda x: x%2==0), [1, 3, 5])\n",
    "print(reject(['a', 'b', 3, 'd'], lambda x: type(x)==int), ['a', 'b', 'd'])\n",
    "print(reject(['a', 'b', 3, 'd'], lambda x: type(x)==str), [3])"
   ]
  },
  {
   "cell_type": "markdown",
   "metadata": {},
   "source": [
    "### Leap Years\n",
    "https://www.codewars.com/kata/526c7363236867513f0005ca  \n",
    "7 kyu\n",
    "\n",
    "In this kata you should simply determine, whether a given year is a leap year or not. In case you don't know the rules, here they are:\n",
    "\n",
    "years divisible by 4 are leap years  \n",
    "but years divisible by 100 are not leap years  \n",
    "but years divisible by 400 are leap years  \n",
    "\n",
    "Additional Notes:  \n",
    "Only valid years (positive integers) will be tested, so you don't have to validate them  \n",
    "Examples can be found in the test fixture."
   ]
  },
  {
   "cell_type": "markdown",
   "metadata": {},
   "source": [
    "__My solution:__"
   ]
  },
  {
   "cell_type": "code",
   "execution_count": 46,
   "metadata": {},
   "outputs": [
    {
     "name": "stdout",
     "output_type": "stream",
     "text": [
      "True True Year 1984 was a leap year!\n",
      "True True Year 2000 was a leap year!\n",
      "False False Year 1234 was NOT a leap year!\n",
      "False False Year 1100 was NOT a leap year!\n"
     ]
    }
   ],
   "source": [
    "def isLeapYear(year):\n",
    "    return bool((year % 4 == 0 and year % 100) or year % 400 == 0)\n",
    "\n",
    "\n",
    "print(isLeapYear(1984), True, 'Year 1984 was a leap year!')\n",
    "print(isLeapYear(2000), True, 'Year 2000 was a leap year!')\n",
    "print(isLeapYear(1234), False, 'Year 1234 was NOT a leap year!')\n",
    "print(isLeapYear(1100), False, 'Year 1100 was NOT a leap year!')"
   ]
  },
  {
   "cell_type": "code",
   "execution_count": 52,
   "metadata": {},
   "outputs": [
    {
     "name": "stdout",
     "output_type": "stream",
     "text": [
      "84 True Year 1984 was a leap year!\n",
      "True True Year 2000 was a leap year!\n",
      "False False Year 1234 was NOT a leap year!\n",
      "False False Year 1100 was NOT a leap year!\n"
     ]
    }
   ],
   "source": [
    "def isLeapYear(year):\n",
    "    return (year % 4 == 0 and year % 100) or year % 400 == 0\n",
    "\n",
    "\n",
    "# this TC returns 84 instead of True\n",
    "print(isLeapYear(1984), True, 'Year 1984 was a leap year!') # 84 \n",
    "print(isLeapYear(2000), True, 'Year 2000 was a leap year!')\n",
    "print(isLeapYear(1234), False, 'Year 1234 was NOT a leap year!')\n",
    "print(isLeapYear(1100), False, 'Year 1100 was NOT a leap year!')"
   ]
  },
  {
   "cell_type": "code",
   "execution_count": 51,
   "metadata": {},
   "outputs": [
    {
     "name": "stdout",
     "output_type": "stream",
     "text": [
      "True True Year 1984 was a leap year!\n",
      "True True Year 2000 was a leap year!\n",
      "False False Year 1234 was NOT a leap year!\n",
      "False False Year 1100 was NOT a leap year!\n"
     ]
    }
   ],
   "source": [
    "def isLeapYear(year):\n",
    "    return (year % 4 == 0 and year % 100 != 0) or year % 400 == 0\n",
    "\n",
    "# Now this TC returns True\n",
    "print(isLeapYear(1984), True, 'Year 1984 was a leap year!') # True\n",
    "print(isLeapYear(2000), True, 'Year 2000 was a leap year!')\n",
    "print(isLeapYear(1234), False, 'Year 1234 was NOT a leap year!')\n",
    "print(isLeapYear(1100), False, 'Year 1100 was NOT a leap year!')"
   ]
  },
  {
   "cell_type": "markdown",
   "metadata": {},
   "source": [
    "Almost the same:"
   ]
  },
  {
   "cell_type": "code",
   "execution_count": 48,
   "metadata": {},
   "outputs": [
    {
     "name": "stdout",
     "output_type": "stream",
     "text": [
      "True True Year 1984 was a leap year!\n",
      "True True Year 2000 was a leap year!\n",
      "False False Year 1234 was NOT a leap year!\n",
      "False False Year 1100 was NOT a leap year!\n"
     ]
    }
   ],
   "source": [
    "def isLeapYear(year):\n",
    "    return True if (year % 4 == 0 and not year % 100 == 0) or year % 400 == 0 else False\n",
    "\n",
    "\n",
    "print(isLeapYear(1984), True, 'Year 1984 was a leap year!')\n",
    "print(isLeapYear(2000), True, 'Year 2000 was a leap year!')\n",
    "print(isLeapYear(1234), False, 'Year 1234 was NOT a leap year!')\n",
    "print(isLeapYear(1100), False, 'Year 1100 was NOT a leap year!')"
   ]
  },
  {
   "cell_type": "markdown",
   "metadata": {},
   "source": [
    "__Other users' solutions:__"
   ]
  },
  {
   "cell_type": "code",
   "execution_count": 49,
   "metadata": {},
   "outputs": [
    {
     "name": "stdout",
     "output_type": "stream",
     "text": [
      "True True Year 1984 was a leap year!\n",
      "True True Year 2000 was a leap year!\n",
      "False False Year 1234 was NOT a leap year!\n",
      "False False Year 1100 was NOT a leap year!\n"
     ]
    }
   ],
   "source": [
    "def isLeapYear(year):\n",
    "    return (year % 100 != 0 and year % 4 == 0) or year % 400 == 0\n",
    "\n",
    "\n",
    "print(isLeapYear(1984), True, 'Year 1984 was a leap year!')\n",
    "print(isLeapYear(2000), True, 'Year 2000 was a leap year!')\n",
    "print(isLeapYear(1234), False, 'Year 1234 was NOT a leap year!')\n",
    "print(isLeapYear(1100), False, 'Year 1100 was NOT a leap year!')"
   ]
  },
  {
   "cell_type": "markdown",
   "metadata": {},
   "source": [
    "### Return the Missing Element\n",
    "https://www.codewars.com/kata/5299413901337c637e000004  \n",
    "7 kyu\n",
    "\n",
    "Fellow code warrior, we need your help! We seem to have lost one of our sequence elements, and we need your help to retrieve it!\n",
    "\n",
    "Our sequence given was supposed to contain all of the integers from 0 to 9 (in no particular order), but one of them seems to be missing.\n",
    "\n",
    "Write a function that accepts a sequence of unique integers between 0 and 9 (inclusive), and returns the missing element.\n",
    "\n",
    "Examples:  \n",
    "[0, 5, 1, 3, 2, 9, 7, 6, 4] --> 8  \n",
    "[9, 2, 4, 5, 7, 0, 8, 6, 1] --> 3  "
   ]
  },
  {
   "cell_type": "markdown",
   "metadata": {},
   "source": [
    "__My solution:__"
   ]
  },
  {
   "cell_type": "code",
   "execution_count": 54,
   "metadata": {},
   "outputs": [
    {
     "name": "stdout",
     "output_type": "stream",
     "text": [
      "8 8\n",
      "3 3\n"
     ]
    }
   ],
   "source": [
    "def get_missing_element(seq):\n",
    "    # 45 is sum of all 10 digits\n",
    "    return 45 - sum(seq)\n",
    "\n",
    "\n",
    "print(get_missing_element([0,5,1,3,2,9,7,6,4]), 8)\n",
    "print(get_missing_element([9,2,4,5,7,0,8,6,1]), 3)"
   ]
  },
  {
   "cell_type": "markdown",
   "metadata": {},
   "source": [
    "__Other users' solutions:__"
   ]
  },
  {
   "cell_type": "markdown",
   "metadata": {},
   "source": [
    "__#1__ Intresting approach to find missing element:"
   ]
  },
  {
   "cell_type": "code",
   "execution_count": null,
   "metadata": {},
   "outputs": [],
   "source": [
    "def get_missing_element(seq):\n",
    "    return set(range(10)).difference(seq).pop()"
   ]
  },
  {
   "cell_type": "markdown",
   "metadata": {},
   "source": [
    "__#2__"
   ]
  },
  {
   "cell_type": "code",
   "execution_count": 55,
   "metadata": {},
   "outputs": [],
   "source": [
    "def get_missing_element(seq): \n",
    "    for x in range(0, 10):\n",
    "        if x not in seq:\n",
    "            return x"
   ]
  },
  {
   "cell_type": "markdown",
   "metadata": {},
   "source": [
    "20210118"
   ]
  },
  {
   "cell_type": "markdown",
   "metadata": {},
   "source": [
    "### Anagram Detection\n",
    "https://www.codewars.com/kata/529eef7a9194e0cbc1000255  \n",
    "7 kyu\n",
    "\n",
    "An anagram is the result of rearranging the letters of a word to produce a new word (see wikipedia).\n",
    "\n",
    "Note: anagrams are case insensitive\n",
    "\n",
    "Complete the function to return true if the two arguments given are anagrams of each other; return false otherwise.\n",
    "\n",
    "Examples  \n",
    "\n",
    "\"foefet\" is an anagram of \"toffee\"\n",
    "\n",
    "\"Buckethead\" is an anagram of \"DeathCubeK\""
   ]
  },
  {
   "cell_type": "markdown",
   "metadata": {},
   "source": [
    "__My solution:__"
   ]
  },
  {
   "cell_type": "markdown",
   "metadata": {},
   "source": [
    "__#1__"
   ]
  },
  {
   "cell_type": "code",
   "execution_count": 56,
   "metadata": {},
   "outputs": [
    {
     "name": "stdout",
     "output_type": "stream",
     "text": [
      "True True The word Creative is an anagram of Reactive\n",
      "True True The word foefet is an anagram of toffee\n",
      "True True The word Buckethead is an anagram of DeathCubeK\n",
      "True True The word Twoo is an anagram of WooT\n",
      "False False Characters do not match for test case dumble, bumble\n",
      "False False Missing characters for test case ound, round\n",
      "False False Same letters, but different count\n"
     ]
    }
   ],
   "source": [
    "def is_anagram(test, original):\n",
    "    return sorted(test.lower()) == sorted(original.lower())\n",
    "\n",
    "\n",
    "print(is_anagram('Creative', 'Reactive'), True, 'The word Creative is an anagram of Reactive')\n",
    "print(is_anagram(\"foefet\", \"toffee\"), True, 'The word foefet is an anagram of toffee')\n",
    "print(is_anagram(\"Buckethead\", \"DeathCubeK\"), True, 'The word Buckethead is an anagram of DeathCubeK')\n",
    "print(is_anagram(\"Twoo\", \"WooT\"), True, 'The word Twoo is an anagram of WooT')\n",
    "print(is_anagram(\"dumble\", \"bumble\"), False, 'Characters do not match for test case dumble, bumble')\n",
    "print(is_anagram(\"ound\", \"round\"), False, 'Missing characters for test case ound, round')\n",
    "print(is_anagram(\"apple\", \"pale\"), False, 'Same letters, but different count')"
   ]
  },
  {
   "cell_type": "markdown",
   "metadata": {},
   "source": [
    "__#2__"
   ]
  },
  {
   "cell_type": "code",
   "execution_count": 57,
   "metadata": {},
   "outputs": [
    {
     "name": "stdout",
     "output_type": "stream",
     "text": [
      "True True The word Creative is an anagram of Reactive\n",
      "True True The word foefet is an anagram of toffee\n",
      "True True The word Buckethead is an anagram of DeathCubeK\n",
      "True True The word Twoo is an anagram of WooT\n",
      "False False Characters do not match for test case dumble, bumble\n",
      "False False Missing characters for test case ound, round\n",
      "False False Same letters, but different count\n"
     ]
    }
   ],
   "source": [
    "from collections import Counter\n",
    "\n",
    "def is_anagram(test, original):\n",
    "    return Counter(test.lower()) == Counter(original.lower())\n",
    "\n",
    "\n",
    "print(is_anagram('Creative', 'Reactive'), True, 'The word Creative is an anagram of Reactive')\n",
    "print(is_anagram(\"foefet\", \"toffee\"), True, 'The word foefet is an anagram of toffee')\n",
    "print(is_anagram(\"Buckethead\", \"DeathCubeK\"), True, 'The word Buckethead is an anagram of DeathCubeK')\n",
    "print(is_anagram(\"Twoo\", \"WooT\"), True, 'The word Twoo is an anagram of WooT')\n",
    "print(is_anagram(\"dumble\", \"bumble\"), False, 'Characters do not match for test case dumble, bumble')\n",
    "print(is_anagram(\"ound\", \"round\"), False, 'Missing characters for test case ound, round')\n",
    "print(is_anagram(\"apple\", \"pale\"), False, 'Same letters, but different count')"
   ]
  },
  {
   "cell_type": "markdown",
   "metadata": {},
   "source": [
    "### Naughty or Nice?\n",
    "https://www.codewars.com/kata/52a6b34e43c2484ac10000cd  \n",
    "7 kyu\n",
    "\n",
    "Happy Holidays fellow Code Warriors!  \n",
    "It's almost Christmas! That means Santa's making his list, and checking it twice. Unfortunately, elves accidentally mixed the Naughty and Nice list together! Santa needs your help to save Christmas!\n",
    "\n",
    "Save Christmas!  \n",
    "Santa needs you to write two functions. Both of the functions accept a sequence of objects. The first one returns a sequence containing only the names of the nice people, and the other returns a sequence containing only the names of the naughty people. Return an empty sequence [] if the result from either of the functions contains no names.\n",
    "\n",
    "The objects in the passed will represent people. Each object contains two properties: name and wasNice.\n",
    "name - The name of the person\n",
    "wasNice - True if the person was nice this year, false if they were naughty\n",
    "\n",
    "Person Object Examples\n",
    "\n",
    "Test Examples\n",
    "\n",
    "get_nice_names( [  \n",
    "    { 'name': 'Warrior reading this kata', 'was_nice': True },  \n",
    "    { 'name': 'xDranik', 'was_nice': False },  \n",
    "    { 'name': 'Santa', 'was_nice': True }  \n",
    "] )  \n",
    "returns [ 'Warrior reading this kata', 'Santa' ]"
   ]
  },
  {
   "cell_type": "markdown",
   "metadata": {},
   "source": [
    "__My solution:__"
   ]
  },
  {
   "cell_type": "code",
   "execution_count": 61,
   "metadata": {},
   "outputs": [
    {
     "name": "stdout",
     "output_type": "stream",
     "text": [
      "[] []\n",
      "['Santa', 'Warrior reading this kata'] ['Santa', 'Warrior reading this kata']\n",
      "['xDranik'] ['xDranik']\n",
      "[] []\n"
     ]
    }
   ],
   "source": [
    "def get_nice_names(people):\n",
    "    return [p['name'] for p in people if p['was_nice']]\n",
    "\n",
    "def get_naughty_names(people):\n",
    "    return [p['name'] for p in people if not p['was_nice']]\n",
    "\n",
    "\n",
    "naughty = [{'name': 'xDranik', 'was_nice': False}]\n",
    "nice = [{'name': 'Santa', 'was_nice': True}, {'name': 'Warrior reading this kata', 'was_nice': True}]\n",
    "\n",
    "print(get_nice_names(naughty), [])\n",
    "print(get_nice_names(nice), ['Santa', 'Warrior reading this kata'])\n",
    "print(get_naughty_names(naughty), ['xDranik'])\n",
    "print(get_naughty_names(nice), [])"
   ]
  },
  {
   "cell_type": "markdown",
   "metadata": {},
   "source": [
    "__Other users' solutions:__"
   ]
  },
  {
   "cell_type": "markdown",
   "metadata": {},
   "source": [
    "__#1__ Great one!"
   ]
  },
  {
   "cell_type": "code",
   "execution_count": 63,
   "metadata": {},
   "outputs": [
    {
     "name": "stdout",
     "output_type": "stream",
     "text": [
      "[] []\n",
      "['Santa', 'Warrior reading this kata'] ['Santa', 'Warrior reading this kata']\n",
      "['xDranik'] ['xDranik']\n",
      "[] []\n"
     ]
    }
   ],
   "source": [
    "def get_name(was_nice):\n",
    "    return lambda people: [p['name'] for p in people if p['was_nice'] == was_nice]\n",
    "\n",
    "get_nice_names = get_name(True)\n",
    "get_naughty_names = get_name(False)\n",
    "\n",
    "\n",
    "naughty = [{'name': 'xDranik', 'was_nice': False}]\n",
    "nice = [{'name': 'Santa', 'was_nice': True}, {'name': 'Warrior reading this kata', 'was_nice': True}]\n",
    "\n",
    "print(get_nice_names(naughty), [])\n",
    "print(get_nice_names(nice), ['Santa', 'Warrior reading this kata'])\n",
    "print(get_naughty_names(naughty), ['xDranik'])\n",
    "print(get_naughty_names(nice), [])"
   ]
  },
  {
   "cell_type": "markdown",
   "metadata": {},
   "source": [
    "__#2__"
   ]
  },
  {
   "cell_type": "code",
   "execution_count": null,
   "metadata": {},
   "outputs": [],
   "source": [
    "def get_name(people, check):\n",
    "    return [kid['name'] for kid in people if kid['was_nice'] == check]\n",
    "\n",
    "def get_nice_names(people):\n",
    "    return get_name(people, True)\n",
    "\n",
    "def get_naughty_names(people):\n",
    "    return get_name(people, False)"
   ]
  },
  {
   "cell_type": "markdown",
   "metadata": {},
   "source": [
    "### Sort Santa's Reindeer\n",
    "https://www.codewars.com/kata/52ab60b122e82a6375000bad  \n",
    "7 kyu\n",
    "\n",
    "Happy Holidays fellow Code Warriors!\n",
    "Now, Dasher! Now, Dancer! Now, Prancer, and Vixen! On, Comet! On, Cupid! On, Donder and Blitzen! That's the order Santa wanted his reindeer...right? What do you mean he wants them in order by their last names!? Looks like we need your help Code Warrior!\n",
    "\n",
    "Sort Santa's Reindeer  \n",
    "Write a function that accepts a sequence of Reindeer names, and returns a sequence with the Reindeer names sorted by their last names.\n",
    "\n",
    "Notes:  \n",
    "It's guaranteed that each string is composed of two words\n",
    "In case of two identical last names, keep the original order\n",
    " \n",
    "Examples  \n",
    "For this input:\n",
    "\n",
    "[  \n",
    "  \"Dasher Tonoyan\",  \n",
    "  \"Dancer Moore\",  \n",
    "  \"Prancer Chua\",  \n",
    "  \"Vixen Hall\",  \n",
    "  \"Comet Karavani\",  \n",
    "  \"Cupid Foroutan\",  \n",
    "  \"Donder Jonker\",  \n",
    "  \"Blitzen Claus\"  \n",
    "]  \n",
    "\n",
    "You should return this output:\n",
    "\n",
    "[  \n",
    "  \"Prancer Chua\",  \n",
    "  \"Blitzen Claus\",  \n",
    "  \"Cupid Foroutan\",  \n",
    "  \"Vixen Hall\",  \n",
    "  \"Donder Jonker\",  \n",
    "  \"Comet Karavani\",  \n",
    "  \"Dancer Moore\",  \n",
    "  \"Dasher Tonoyan\",  \n",
    "]  "
   ]
  },
  {
   "cell_type": "markdown",
   "metadata": {},
   "source": [
    "__My solution:__"
   ]
  },
  {
   "cell_type": "code",
   "execution_count": 64,
   "metadata": {},
   "outputs": [
    {
     "name": "stdout",
     "output_type": "stream",
     "text": [
      "['Kenjiro Mori', 'Juzo Okita', 'Akira Sanada', 'Susumu Tokugawa'] ['Kenjiro Mori', 'Juzo Okita', 'Akira Sanada', 'Susumu Tokugawa']\n",
      "[] []\n",
      "['Daisuke Aihara', 'Yasuo Kodai', 'Juzo Mori', 'Sukeharu Nanbu', 'Hikozaemon Ohta', 'Yoshikazu Okita', 'Kenjiro Sado', 'Akira Sanada', 'Susumu Shima', 'Saburo Tokugawa', 'Shiro Yabu', 'Sakezo Yamamoto'] ['Daisuke Aihara', 'Yasuo Kodai', 'Juzo Mori', 'Sukeharu Nanbu', 'Hikozaemon Ohta', 'Yoshikazu Okita', 'Kenjiro Sado', 'Akira Sanada', 'Susumu Shima', 'Saburo Tokugawa', 'Shiro Yabu', 'Sakezo Yamamoto']\n",
      "['Daisuke Mori', 'Shiro Sanada', 'Saburo Shima', 'Juzo Yabu', 'Sukeharu Yamamoto'] ['Daisuke Mori', 'Shiro Sanada', 'Saburo Shima', 'Juzo Yabu', 'Sukeharu Yamamoto']\n",
      "['Daisuke Mori', 'Shiro Sanada', 'Saburo Shima', 'Juzo Yabu', 'Sukeharu Yamamoto'] ['Daisuke Mori', 'Shiro Sanada', 'Saburo Shima', 'Juzo Yabu', 'Sukeharu Yamamoto']\n"
     ]
    }
   ],
   "source": [
    "def sort_reindeer(reindeer_names):\n",
    "    return sorted(reindeer_names, key=lambda name: name.split()[1])\n",
    "    \n",
    "    \n",
    "print(sort_reindeer(['Kenjiro Mori', 'Susumu Tokugawa', 'Juzo Okita', 'Akira Sanada']),['Kenjiro Mori', 'Juzo Okita', 'Akira Sanada', 'Susumu Tokugawa'])\n",
    "print(sort_reindeer([]),[])\n",
    "print(sort_reindeer(['Yasuo Kodai', 'Kenjiro Sado', 'Daisuke Aihara', 'Susumu Shima', 'Akira Sanada', 'Yoshikazu Okita', 'Shiro Yabu', 'Sukeharu Nanbu', 'Sakezo Yamamoto', 'Hikozaemon Ohta', 'Juzo Mori', 'Saburo Tokugawa']),['Daisuke Aihara', 'Yasuo Kodai', 'Juzo Mori', 'Sukeharu Nanbu', 'Hikozaemon Ohta', 'Yoshikazu Okita', 'Kenjiro Sado', 'Akira Sanada', 'Susumu Shima', 'Saburo Tokugawa', 'Shiro Yabu', 'Sakezo Yamamoto'])\n",
    "print(sort_reindeer(['Daisuke Mori', 'Shiro Sanada', 'Saburo Shima', 'Juzo Yabu', 'Sukeharu Yamamoto']),['Daisuke Mori', 'Shiro Sanada', 'Saburo Shima', 'Juzo Yabu', 'Sukeharu Yamamoto'])\n",
    "print(sort_reindeer([\"Sukeharu Yamamoto\", \"Juzo Yabu\", \"Saburo Shima\", \"Shiro Sanada\", \"Daisuke Mori\"]),['Daisuke Mori', 'Shiro Sanada', 'Saburo Shima', 'Juzo Yabu', 'Sukeharu Yamamoto'])\n"
   ]
  },
  {
   "cell_type": "markdown",
   "metadata": {},
   "source": [
    "20210119"
   ]
  },
  {
   "cell_type": "markdown",
   "metadata": {},
   "source": [
    "### Milk and Cookies for Santa\n",
    "https://www.codewars.com/kata/52af7bf41f5a1291a6000025  \n",
    "7 kyu\n",
    "\n",
    "Happy Holidays fellow Code Warriors!  \n",
    "It's almost Christmas Eve, so we need to prepare some milk and cookies for Santa! Wait... when exactly do we need to do that?\n",
    "\n",
    "Time for Milk and Cookies  \n",
    "Complete the function function that accepts a Date object, and returns true if it's Christmas Eve (December 24th), false otherwise.\n",
    "\n",
    "Examples  \n",
    "time_for_milk_and_cookies(date(2013, 12, 24))  # True  \n",
    "time_for_milk_and_cookies(date(2013, 1, 23))   # False  \n",
    "time_for_milk_and_cookies(date(3000, 12, 24))  # True  "
   ]
  },
  {
   "cell_type": "markdown",
   "metadata": {},
   "source": [
    "__My solution:__"
   ]
  },
  {
   "cell_type": "code",
   "execution_count": 65,
   "metadata": {},
   "outputs": [
    {
     "name": "stdout",
     "output_type": "stream",
     "text": [
      "True True\n",
      "False False\n",
      "True True\n"
     ]
    }
   ],
   "source": [
    "from datetime import date\n",
    "\n",
    "def time_for_milk_and_cookies(dt):\n",
    "    return dt.month == 12 and dt.day == 24\n",
    "\n",
    "\n",
    "print(time_for_milk_and_cookies(date(2013, 12, 24)), True)\n",
    "print(time_for_milk_and_cookies(date(2013, 10, 24)), False)\n",
    "print(time_for_milk_and_cookies(date(3000, 12, 24)), True)"
   ]
  },
  {
   "cell_type": "markdown",
   "metadata": {},
   "source": [
    "__Other users' solutions:__"
   ]
  },
  {
   "cell_type": "markdown",
   "metadata": {},
   "source": [
    "__#1__"
   ]
  },
  {
   "cell_type": "code",
   "execution_count": 67,
   "metadata": {},
   "outputs": [
    {
     "name": "stdout",
     "output_type": "stream",
     "text": [
      "True True\n",
      "False False\n",
      "True True\n"
     ]
    }
   ],
   "source": [
    "from datetime import date\n",
    "\n",
    "def time_for_milk_and_cookies(dt):\n",
    "    return dt.isoformat()[5:] == '12-24'\n",
    "\n",
    "\n",
    "print(time_for_milk_and_cookies(date(2013, 12, 24)), True)\n",
    "print(time_for_milk_and_cookies(date(2013, 10, 24)), False)\n",
    "print(time_for_milk_and_cookies(date(3000, 12, 24)), True)"
   ]
  },
  {
   "cell_type": "code",
   "execution_count": 66,
   "metadata": {},
   "outputs": [
    {
     "name": "stdout",
     "output_type": "stream",
     "text": [
      "Help on method_descriptor:\n",
      "\n",
      "isoformat(...)\n",
      "    Return string in ISO 8601 format, YYYY-MM-DD.\n",
      "\n"
     ]
    }
   ],
   "source": [
    "help(date.isoformat)"
   ]
  },
  {
   "cell_type": "markdown",
   "metadata": {},
   "source": [
    "__#2__"
   ]
  },
  {
   "cell_type": "code",
   "execution_count": 68,
   "metadata": {},
   "outputs": [
    {
     "name": "stdout",
     "output_type": "stream",
     "text": [
      "True True\n",
      "False False\n",
      "True True\n"
     ]
    }
   ],
   "source": [
    "from datetime import date\n",
    "\n",
    "def time_for_milk_and_cookies(dt):\n",
    "    return str(dt)[5:] == '12-24'\n",
    "\n",
    "\n",
    "print(time_for_milk_and_cookies(date(2013, 12, 24)), True)\n",
    "print(time_for_milk_and_cookies(date(2013, 10, 24)), False)\n",
    "print(time_for_milk_and_cookies(date(3000, 12, 24)), True)"
   ]
  },
  {
   "cell_type": "markdown",
   "metadata": {},
   "source": [
    "__#3__"
   ]
  },
  {
   "cell_type": "code",
   "execution_count": 69,
   "metadata": {},
   "outputs": [
    {
     "name": "stdout",
     "output_type": "stream",
     "text": [
      "True True\n",
      "False False\n",
      "True True\n"
     ]
    }
   ],
   "source": [
    "from datetime import date\n",
    "\n",
    "def time_for_milk_and_cookies(dt):\n",
    "    return (dt.month, dt.day) == (12, 24)\n",
    "\n",
    "\n",
    "print(time_for_milk_and_cookies(date(2013, 12, 24)), True)\n",
    "print(time_for_milk_and_cookies(date(2013, 10, 24)), False)\n",
    "print(time_for_milk_and_cookies(date(3000, 12, 24)), True)"
   ]
  },
  {
   "cell_type": "markdown",
   "metadata": {},
   "source": [
    "### Boiled Eggs\n",
    "https://www.codewars.com/kata/52b5247074ea613a09000164  \n",
    "7 kyu\n",
    "\n",
    "You are the greatest chef on earth. No one boils eggs like you! Your restaurant is always full of guests, who love your boiled eggs. But when there is a greater order of boiled eggs, you need some time, because you have only one pot for your job. How much time do you need?\n",
    "\n",
    "Your Task  \n",
    "Implement a function, which takes a non-negative integer, representing the number of eggs to boil. It must return the time in minutes (integer), which it takes to have all the eggs boiled.\n",
    "\n",
    "Rules  \n",
    "you can put at most 8 eggs into the pot at once\n",
    "it takes 5 minutes to boil an egg\n",
    "we assume, that the water is boiling all the time (no time to heat up)\n",
    "for simplicity we also don't consider the time it takes to put eggs into the pot or get them out of it\n",
    "\n",
    "Example  \n",
    "cooking_time 0 # must return 0  \n",
    "cooking_time 5 # must return 5  \n",
    "cooking_time 10 # must return 10  "
   ]
  },
  {
   "cell_type": "markdown",
   "metadata": {},
   "source": [
    "__My solution:__"
   ]
  },
  {
   "cell_type": "code",
   "execution_count": 70,
   "metadata": {},
   "outputs": [
    {
     "name": "stdout",
     "output_type": "stream",
     "text": [
      "0 0\n",
      "5 5\n",
      "10 10\n"
     ]
    }
   ],
   "source": [
    "from math import ceil\n",
    "\n",
    "def cooking_time(eggs):\n",
    "    return ceil(eggs / 8) * 5 \n",
    "\n",
    "\n",
    "print(cooking_time(0), 0);\n",
    "print(cooking_time(5), 5);\n",
    "print(cooking_time(10), 10);"
   ]
  },
  {
   "cell_type": "code",
   "execution_count": 71,
   "metadata": {},
   "outputs": [
    {
     "name": "stdout",
     "output_type": "stream",
     "text": [
      "Help on built-in function ceil in module math:\n",
      "\n",
      "ceil(x, /)\n",
      "    Return the ceiling of x as an Integral.\n",
      "    \n",
      "    This is the smallest integer >= x.\n",
      "\n"
     ]
    }
   ],
   "source": [
    "help(math.ceil)"
   ]
  },
  {
   "cell_type": "markdown",
   "metadata": {},
   "source": [
    "__Other user's solutions:__"
   ]
  },
  {
   "cell_type": "markdown",
   "metadata": {},
   "source": [
    "__#1__"
   ]
  },
  {
   "cell_type": "code",
   "execution_count": 72,
   "metadata": {},
   "outputs": [],
   "source": [
    "def cooking_time(eggs):\n",
    "    return (eggs + 7) // 8 * 5"
   ]
  },
  {
   "cell_type": "markdown",
   "metadata": {},
   "source": [
    "__#2__ Witty!"
   ]
  },
  {
   "cell_type": "code",
   "execution_count": null,
   "metadata": {},
   "outputs": [],
   "source": [
    "def cooking_time(eggs):\n",
    "    pots, rest = divmod(eggs, 8)\n",
    "    return (pots + bool(rest)) * 5"
   ]
  },
  {
   "cell_type": "markdown",
   "metadata": {},
   "source": [
    "### IP Validation\n",
    "https://www.codewars.com/kata/515decfd9dcfc23bb6000006  \n",
    "6 kyu\n",
    "\n",
    "Write an algorithm that will identify valid IPv4 addresses in dot-decimal format. IPs should be considered valid if they consist of four octets, with values between 0 and 255, inclusive.\n",
    "\n",
    "Input to the function is guaranteed to be a single string.\n",
    "\n",
    "Examples\n",
    "\n",
    "Valid inputs:  \n",
    "1.2.3.4  \n",
    "123.45.67.89  \n",
    "\n",
    "Invalid inputs:  \n",
    "1.2.3  \n",
    "1.2.3.4.5  \n",
    "123.456.78.90  \n",
    "123.045.067.089  \n",
    "\n",
    "Note that leading zeros (e.g. 01.02.03.04) are considered invalid."
   ]
  },
  {
   "cell_type": "markdown",
   "metadata": {},
   "source": [
    "__My solutions:__"
   ]
  },
  {
   "cell_type": "markdown",
   "metadata": {},
   "source": [
    "__#1__"
   ]
  },
  {
   "cell_type": "code",
   "execution_count": 125,
   "metadata": {},
   "outputs": [
    {
     "name": "stdout",
     "output_type": "stream",
     "text": [
      "True True\n",
      "False False\n",
      "False False\n",
      "False False\n",
      "False False\n",
      "False False\n",
      "False False\n",
      "False False\n",
      "True True\n",
      "True True\n",
      "True True\n",
      "False False\n",
      "True True\n",
      "False False\n",
      "False False\n"
     ]
    }
   ],
   "source": [
    "def is_valid_IP(strng):\n",
    "    def check(part):\n",
    "        try:\n",
    "            num = int(part)\n",
    "            return len(str(num)) == len(part) and 0 <= num <= 255\n",
    "        except ValueError:\n",
    "            return False\n",
    "        \n",
    "    parts = strng.split('.')\n",
    "    return len(parts) == 4 and all(map(check, parts))\n",
    "\n",
    "\n",
    "print(is_valid_IP('12.255.56.1'),     True)\n",
    "print(is_valid_IP(''),                False)\n",
    "print(is_valid_IP('abc.def.ghi.jkl'), False)\n",
    "print(is_valid_IP('123.456.789.0'),   False)\n",
    "print(is_valid_IP('12.34.56'),        False)\n",
    "print(is_valid_IP('12.34.56 .1'),     False)\n",
    "print(is_valid_IP('12.34.56.-1'),     False)\n",
    "print(is_valid_IP('123.045.067.089'), False)\n",
    "print(is_valid_IP('127.1.1.0'),        True)\n",
    "print(is_valid_IP('0.0.0.0'),          True)\n",
    "print(is_valid_IP('0.34.82.53'),       True)\n",
    "print(is_valid_IP('192.168.1.300'),   False)\n",
    "print(is_valid_IP('192.168.0.1'), True)\n",
    "print(is_valid_IP('1.2.3.4.-45'), False)\n",
    "print(is_valid_IP('1.2.-45.3.4'), False)"
   ]
  },
  {
   "cell_type": "markdown",
   "metadata": {},
   "source": [
    "Almost the same:"
   ]
  },
  {
   "cell_type": "code",
   "execution_count": 124,
   "metadata": {},
   "outputs": [
    {
     "name": "stdout",
     "output_type": "stream",
     "text": [
      "True True\n",
      "False False\n",
      "False False\n",
      "False False\n",
      "False False\n",
      "False False\n",
      "False False\n",
      "False False\n",
      "True True\n",
      "True True\n",
      "True True\n",
      "False False\n",
      "True True\n",
      "False False\n",
      "False False\n"
     ]
    }
   ],
   "source": [
    "def is_valid_IP(strng):\n",
    "    def check(part):\n",
    "        try:\n",
    "            num = int(part)\n",
    "            return len(str(num)) == len(part) and num | 255 == 255\n",
    "        except ValueError:\n",
    "            return False\n",
    "        \n",
    "    parts = strng.split('.')\n",
    "    return len(parts) == 4 and all(map(check, parts))\n",
    "\n",
    "\n",
    "print(is_valid_IP('12.255.56.1'),     True)\n",
    "print(is_valid_IP(''),                False)\n",
    "print(is_valid_IP('abc.def.ghi.jkl'), False)\n",
    "print(is_valid_IP('123.456.789.0'),   False)\n",
    "print(is_valid_IP('12.34.56'),        False)\n",
    "print(is_valid_IP('12.34.56 .1'),     False)\n",
    "print(is_valid_IP('12.34.56.-1'),     False)\n",
    "print(is_valid_IP('123.045.067.089'), False)\n",
    "print(is_valid_IP('127.1.1.0'),        True)\n",
    "print(is_valid_IP('0.0.0.0'),          True)\n",
    "print(is_valid_IP('0.34.82.53'),       True)\n",
    "print(is_valid_IP('192.168.1.300'),   False)\n",
    "print(is_valid_IP('192.168.0.1'), True)\n",
    "print(is_valid_IP('1.2.3.4.-45'), False)\n",
    "print(is_valid_IP('1.2.-45.3.4'), False)"
   ]
  },
  {
   "cell_type": "code",
   "execution_count": 91,
   "metadata": {},
   "outputs": [
    {
     "data": {
      "text/plain": [
       "-1"
      ]
     },
     "execution_count": 91,
     "metadata": {},
     "output_type": "execute_result"
    }
   ],
   "source": [
    "-3 | 255"
   ]
  },
  {
   "cell_type": "code",
   "execution_count": 96,
   "metadata": {},
   "outputs": [
    {
     "data": {
      "text/plain": [
       "'-0b11'"
      ]
     },
     "execution_count": 96,
     "metadata": {},
     "output_type": "execute_result"
    }
   ],
   "source": [
    "bin(-3)"
   ]
  },
  {
   "cell_type": "code",
   "execution_count": 90,
   "metadata": {},
   "outputs": [
    {
     "data": {
      "text/plain": [
       "511"
      ]
     },
     "execution_count": 90,
     "metadata": {},
     "output_type": "execute_result"
    }
   ],
   "source": [
    "312 | 255"
   ]
  },
  {
   "cell_type": "code",
   "execution_count": 92,
   "metadata": {},
   "outputs": [
    {
     "data": {
      "text/plain": [
       "255"
      ]
     },
     "execution_count": 92,
     "metadata": {},
     "output_type": "execute_result"
    }
   ],
   "source": [
    "0 | 255"
   ]
  },
  {
   "cell_type": "markdown",
   "metadata": {},
   "source": [
    "__#2__ I guess, not quite pythonic way"
   ]
  },
  {
   "cell_type": "code",
   "execution_count": 123,
   "metadata": {},
   "outputs": [
    {
     "name": "stdout",
     "output_type": "stream",
     "text": [
      "True True\n",
      "False False\n",
      "False False\n",
      "False False\n",
      "False False\n",
      "False False\n",
      "False False\n",
      "False False\n",
      "True True\n",
      "True True\n",
      "True True\n",
      "False False\n",
      "True True\n",
      "False False\n",
      "False False\n"
     ]
    }
   ],
   "source": [
    "def is_valid_IP(strng):\n",
    "    check_part = lambda p: p and (p == '0' or p[0] != '0') and int(p) | 255 == 255\n",
    "    \n",
    "    part = ''\n",
    "    parts_amount = 0\n",
    "    for c in strng:\n",
    "        if c.isdigit():\n",
    "            if part == '':\n",
    "                parts_amount += 1                \n",
    "                if parts_amount == 5:\n",
    "                    return False\n",
    "            part += c\n",
    "        elif c == '.':\n",
    "            if not check_part(part):\n",
    "                return False\n",
    "            part = ''\n",
    "        else:\n",
    "            return False\n",
    "    return parts_amount == 4 and check_part(part)\n",
    "\n",
    "\n",
    "print(is_valid_IP('12.255.56.1'),     True)\n",
    "print(is_valid_IP(''),                False)\n",
    "print(is_valid_IP('abc.def.ghi.jkl'), False)\n",
    "print(is_valid_IP('123.456.789.0'),   False)\n",
    "print(is_valid_IP('12.34.56'),        False)\n",
    "print(is_valid_IP('12.34.56 .1'),     False)\n",
    "print(is_valid_IP('12.34.56.-1'),     False)\n",
    "print(is_valid_IP('123.045.067.089'), False)\n",
    "print(is_valid_IP('127.1.1.0'),        True)\n",
    "print(is_valid_IP('0.0.0.0'),          True)\n",
    "print(is_valid_IP('0.34.82.53'),       True)\n",
    "print(is_valid_IP('192.168.1.300'),   False)\n",
    "print(is_valid_IP('192.168.0.1'), True)\n",
    "print(is_valid_IP('1.2.3.4.-45'), False)\n",
    "print(is_valid_IP('1.2.-45.3.4'), False)"
   ]
  },
  {
   "cell_type": "code",
   "execution_count": 100,
   "metadata": {},
   "outputs": [
    {
     "data": {
      "text/plain": [
       "True"
      ]
     },
     "execution_count": 100,
     "metadata": {},
     "output_type": "execute_result"
    }
   ],
   "source": [
    "int('300') | 255 != 255"
   ]
  },
  {
   "cell_type": "code",
   "execution_count": 105,
   "metadata": {},
   "outputs": [
    {
     "data": {
      "text/plain": [
       "False"
      ]
     },
     "execution_count": 105,
     "metadata": {},
     "output_type": "execute_result"
    }
   ],
   "source": [
    "int('0') | 255 != 255"
   ]
  },
  {
   "cell_type": "markdown",
   "metadata": {},
   "source": [
    "__#3__ With regex!"
   ]
  },
  {
   "cell_type": "markdown",
   "metadata": {},
   "source": [
    "The next regex matches the same strings but the first one is said to be faster (it's regex grouping):"
   ]
  },
  {
   "cell_type": "code",
   "execution_count": null,
   "metadata": {},
   "outputs": [],
   "source": [
    "r'\\d{1,3}(?:\\.\\d{1,3}){3}'\n",
    "r'\\d{1,3}\\.\\d{1,3}\\.\\d{1,3}\\.\\d{1,3}'"
   ]
  },
  {
   "cell_type": "markdown",
   "metadata": {},
   "source": [
    "Almost the same but with putting groups of digits inside the parentheses:"
   ]
  },
  {
   "cell_type": "code",
   "execution_count": null,
   "metadata": {},
   "outputs": [],
   "source": [
    "r'(\\d{1,3})(?:\\.(\\d{1,3})){3}'\n",
    "r'(\\d{1,3})\\.(\\d{1,3})\\.(\\d{1,3})\\.(\\d{1,3})'"
   ]
  },
  {
   "cell_type": "markdown",
   "metadata": {},
   "source": [
    "But I've chosen the second because I need access to all matched groups though method match.groups() (\"If a group is contained in a part of the pattern that matched multiple times, the last match is returned.\")"
   ]
  },
  {
   "cell_type": "code",
   "execution_count": 150,
   "metadata": {},
   "outputs": [
    {
     "name": "stdout",
     "output_type": "stream",
     "text": [
      "True True\n",
      "False False\n",
      "False False\n",
      "False False\n",
      "False False\n",
      "False False\n",
      "False False\n",
      "False False\n",
      "True True\n",
      "True True\n",
      "True True\n",
      "False False\n",
      "True True\n",
      "False False\n",
      "False False\n"
     ]
    }
   ],
   "source": [
    "import re\n",
    "\n",
    "def is_valid_IP(strng):\n",
    "    m = re.fullmatch(r'(\\d{1,3})\\.(\\d{1,3})\\.(\\d{1,3})\\.(\\d{1,3})', strng)\n",
    "    if m and all(map(lambda g: (g == '0' or g[0] != '0') and int(g) | 255 == 255, m.groups())):\n",
    "        return True\n",
    "    return False\n",
    "\n",
    "\n",
    "print(is_valid_IP('12.255.56.1'),     True)\n",
    "print(is_valid_IP(''),                False)\n",
    "print(is_valid_IP('abc.def.ghi.jkl'), False)\n",
    "print(is_valid_IP('123.456.789.0'),   False)\n",
    "print(is_valid_IP('12.34.56'),        False)\n",
    "print(is_valid_IP('12.34.56 .1'),     False)\n",
    "print(is_valid_IP('12.34.56.-1'),     False)\n",
    "print(is_valid_IP('123.045.067.089'), False)\n",
    "print(is_valid_IP('127.1.1.0'),        True)\n",
    "print(is_valid_IP('0.0.0.0'),          True)\n",
    "print(is_valid_IP('0.34.82.53'),       True)\n",
    "print(is_valid_IP('192.168.1.300'),   False)\n",
    "print(is_valid_IP('192.168.0.1'), True)\n",
    "print(is_valid_IP('1.2.3.4.-45'), False)\n",
    "print(is_valid_IP('1.2.-45.3.4'), False)"
   ]
  },
  {
   "cell_type": "markdown",
   "metadata": {},
   "source": [
    "__My unsuccessful attempts:__"
   ]
  },
  {
   "cell_type": "code",
   "execution_count": 122,
   "metadata": {},
   "outputs": [
    {
     "name": "stdout",
     "output_type": "stream",
     "text": [
      "True True\n",
      "False False\n",
      "False False\n",
      "False False\n",
      "False False\n",
      "True False\n",
      "False False\n",
      "False False\n",
      "False True\n",
      "False True\n",
      "False True\n",
      "False False\n",
      "False True\n",
      "False False\n",
      "False False\n"
     ]
    }
   ],
   "source": [
    "def is_valid_IP(strng):\n",
    "    try:\n",
    "        return strng.count('.') == 3 and all(map(lambda oct: not oct.startswith('0') and 0 <= int(oct) <= 255, strng.split('.')))\n",
    "    except ValueError:\n",
    "        return False\n",
    "\n",
    "\n",
    "print(is_valid_IP('12.255.56.1'),     True)\n",
    "print(is_valid_IP(''),                False)\n",
    "print(is_valid_IP('abc.def.ghi.jkl'), False)\n",
    "print(is_valid_IP('123.456.789.0'),   False)\n",
    "print(is_valid_IP('12.34.56'),        False)\n",
    "print(is_valid_IP('12.34.56 .1'),     False)\n",
    "print(is_valid_IP('12.34.56.-1'),     False)\n",
    "print(is_valid_IP('123.045.067.089'), False)\n",
    "print(is_valid_IP('127.1.1.0'),        True)\n",
    "print(is_valid_IP('0.0.0.0'),          True)\n",
    "print(is_valid_IP('0.34.82.53'),       True)\n",
    "print(is_valid_IP('192.168.1.300'),   False)\n",
    "print(is_valid_IP('192.168.0.1'), True)\n",
    "print(is_valid_IP('1.2.3.4.-45'), False)\n",
    "print(is_valid_IP('1.2.-45.3.4'), False)"
   ]
  },
  {
   "cell_type": "code",
   "execution_count": 77,
   "metadata": {},
   "outputs": [
    {
     "ename": "ValueError",
     "evalue": "invalid literal for int() with base 10: 'df'",
     "output_type": "error",
     "traceback": [
      "\u001b[1;31m---------------------------------------------------------------------------\u001b[0m",
      "\u001b[1;31mValueError\u001b[0m                                Traceback (most recent call last)",
      "\u001b[1;32m<ipython-input-77-bc5f92f1351f>\u001b[0m in \u001b[0;36m<module>\u001b[1;34m\u001b[0m\n\u001b[1;32m----> 1\u001b[1;33m \u001b[0mint\u001b[0m\u001b[1;33m(\u001b[0m\u001b[1;34m'df'\u001b[0m\u001b[1;33m)\u001b[0m\u001b[1;33m\u001b[0m\u001b[1;33m\u001b[0m\u001b[0m\n\u001b[0m",
      "\u001b[1;31mValueError\u001b[0m: invalid literal for int() with base 10: 'df'"
     ]
    }
   ],
   "source": [
    "int('df')"
   ]
  },
  {
   "cell_type": "code",
   "execution_count": 87,
   "metadata": {},
   "outputs": [
    {
     "data": {
      "text/plain": [
       "45"
      ]
     },
     "execution_count": 87,
     "metadata": {},
     "output_type": "execute_result"
    }
   ],
   "source": [
    "int('045  ')"
   ]
  },
  {
   "cell_type": "code",
   "execution_count": 88,
   "metadata": {},
   "outputs": [
    {
     "ename": "ValueError",
     "evalue": "invalid literal for int() with base 10: '045  3'",
     "output_type": "error",
     "traceback": [
      "\u001b[1;31m---------------------------------------------------------------------------\u001b[0m",
      "\u001b[1;31mValueError\u001b[0m                                Traceback (most recent call last)",
      "\u001b[1;32m<ipython-input-88-26ea51d3c792>\u001b[0m in \u001b[0;36m<module>\u001b[1;34m\u001b[0m\n\u001b[1;32m----> 1\u001b[1;33m \u001b[0mint\u001b[0m\u001b[1;33m(\u001b[0m\u001b[1;34m'045  3'\u001b[0m\u001b[1;33m)\u001b[0m\u001b[1;33m\u001b[0m\u001b[1;33m\u001b[0m\u001b[0m\n\u001b[0m",
      "\u001b[1;31mValueError\u001b[0m: invalid literal for int() with base 10: '045  3'"
     ]
    }
   ],
   "source": [
    "int('045  3')"
   ]
  },
  {
   "cell_type": "code",
   "execution_count": 89,
   "metadata": {},
   "outputs": [
    {
     "ename": "ValueError",
     "evalue": "invalid literal for int() with base 10: '045  .'",
     "output_type": "error",
     "traceback": [
      "\u001b[1;31m---------------------------------------------------------------------------\u001b[0m",
      "\u001b[1;31mValueError\u001b[0m                                Traceback (most recent call last)",
      "\u001b[1;32m<ipython-input-89-d3628c367b23>\u001b[0m in \u001b[0;36m<module>\u001b[1;34m\u001b[0m\n\u001b[1;32m----> 1\u001b[1;33m \u001b[0mint\u001b[0m\u001b[1;33m(\u001b[0m\u001b[1;34m'045  .'\u001b[0m\u001b[1;33m)\u001b[0m\u001b[1;33m\u001b[0m\u001b[1;33m\u001b[0m\u001b[0m\n\u001b[0m",
      "\u001b[1;31mValueError\u001b[0m: invalid literal for int() with base 10: '045  .'"
     ]
    }
   ],
   "source": [
    "int('045  .')"
   ]
  },
  {
   "cell_type": "markdown",
   "metadata": {},
   "source": [
    "__Other users' solution:__"
   ]
  },
  {
   "cell_type": "markdown",
   "metadata": {},
   "source": [
    "__#1__ This one is incorrect (see testcases)"
   ]
  },
  {
   "cell_type": "code",
   "execution_count": 118,
   "metadata": {},
   "outputs": [
    {
     "name": "stdout",
     "output_type": "stream",
     "text": [
      "False True\n",
      "True False\n",
      "True False\n"
     ]
    }
   ],
   "source": [
    "def is_valid_IP(strng):\n",
    "    lst = strng.split('.')\n",
    "    passed = 0\n",
    "    for sect in lst:\n",
    "        if sect.isdigit():\n",
    "            if sect[0] != '0':\n",
    "                if 0 < int(sect) <= 255:\n",
    "                    passed += 1\n",
    "    return passed == 4\n",
    "\n",
    "\n",
    "print(is_valid_IP('192.168.0.1'), True)\n",
    "print(is_valid_IP('1.2.3.4.-45'), False)\n",
    "print(is_valid_IP('1.2.-45.3.4'), False)"
   ]
  },
  {
   "cell_type": "markdown",
   "metadata": {},
   "source": [
    "After a tiny modifications:"
   ]
  },
  {
   "cell_type": "code",
   "execution_count": 121,
   "metadata": {},
   "outputs": [
    {
     "name": "stdout",
     "output_type": "stream",
     "text": [
      "True True\n",
      "False False\n",
      "False False\n"
     ]
    }
   ],
   "source": [
    "def is_valid_IP(strng):\n",
    "    lst = strng.split('.')\n",
    "    passed = 0\n",
    "    for sect in lst:\n",
    "        if sect.isdigit():\n",
    "            if sect == '0' or sect[0] != '0':\n",
    "                if 0 <= int(sect) <= 255:\n",
    "                    passed += 1\n",
    "                else:\n",
    "                    return False\n",
    "            else:\n",
    "                return False\n",
    "        else:\n",
    "            return False\n",
    "    return passed == 4\n",
    "\n",
    "\n",
    "print(is_valid_IP('192.168.0.1'), True)\n",
    "print(is_valid_IP('1.2.3.4.-45'), False)\n",
    "print(is_valid_IP('1.2.-45.3.4'), False)"
   ]
  },
  {
   "cell_type": "markdown",
   "metadata": {},
   "source": [
    "20210120"
   ]
  },
  {
   "cell_type": "markdown",
   "metadata": {},
   "source": [
    "### Strip Url Params\n",
    "https://www.codewars.com/kata/51646de80fd67f442c000013  \n",
    "6 kyu\n",
    "\n",
    "Complete the method so that it does the following:  \n",
    "- Removes any duplicate query string parameters from the url (the first occurence should be kept)\n",
    "- Removes any query string parameters specified within the 2nd argument (optional array)  \n",
    "\n",
    "Examples:  \n",
    "\n",
    "strip_url_params('www.codewars.com?a=1&b=2&a=2') == 'www.codewars.com?a=1&b=2'  \n",
    "strip_url_params('www.codewars.com?a=1&b=2&a=2', ['b']) == 'www.codewars.com?a=1'  \n",
    "strip_url_params('www.codewars.com', ['b']) == 'www.codewars.com'"
   ]
  },
  {
   "cell_type": "markdown",
   "metadata": {},
   "source": [
    "__My solution:__"
   ]
  },
  {
   "cell_type": "code",
   "execution_count": 190,
   "metadata": {},
   "outputs": [
    {
     "name": "stdout",
     "output_type": "stream",
     "text": [
      "www.codewars.com?a=1&b=2 www.codewars.com?a=1&b=2\n",
      "www.codewars.com?a=1&b=2 www.codewars.com?a=1&b=2\n",
      "www.codewars.com?a=1 www.codewars.com?a=1\n",
      "www.codewars.com www.codewars.com\n",
      "www.codewars.com www.codewars.com\n",
      "http://example.com/?%D0%B2=%D1%84%D0%B1%D0%B2%D0%B3&g=6\n",
      "http://example.com/?%D0%B2=%D1%84%D0%B1%D0%B2%D0%B3&g=6\n"
     ]
    }
   ],
   "source": [
    "from urllib import parse\n",
    "\n",
    "def strip_url_params(url, params_to_strip=None):\n",
    "    url_parse = parse.urlparse(url)\n",
    "    query = parse.parse_qs(url_parse.query)\n",
    "    params_to_strip = set(params_to_strip) if params_to_strip else set()\n",
    "    query = {k: v[:1] for k, v in query.items() if k not in params_to_strip}\n",
    "    url_parse = url_parse._replace(query=parse.urlencode(query, doseq=True))\n",
    "    return parse.urlunparse(url_parse)\n",
    "\n",
    "\n",
    "url1 = 'www.codewars.com?a=1&b=2'\n",
    "url2 = 'www.codewars.com?a=1&b=2&a=1&b=3'\n",
    "url3 = 'www.codewars.com?a=1'\n",
    "url4 = 'www.codewars.com'\n",
    "url5 = 'http://example.com/?%D0%B2=%D1%84%D0%B1%D0%B2%D0%B3&s&g=6&t='\n",
    "\n",
    "print(strip_url_params(url1), url1)\n",
    "print(strip_url_params(url2), url1)\n",
    "print(strip_url_params(url2, ['b']), url3)\n",
    "print(strip_url_params(url4, ['b']), url4)\n",
    "print(strip_url_params(url1, ['a', 'b']), url4)\n",
    "print(strip_url_params(url5), 'http://example.com/?%D0%B2=%D1%84%D0%B1%D0%B2%D0%B3&g=6', sep='\\n')"
   ]
  },
  {
   "cell_type": "code",
   "execution_count": 180,
   "metadata": {},
   "outputs": [
    {
     "name": "stdout",
     "output_type": "stream",
     "text": [
      "{0: 0, 1: 1, 2: 2, 3: 3, 4: 4}\n"
     ]
    }
   ],
   "source": [
    "print({k: v for k, v in enumerate(range(5))})"
   ]
  },
  {
   "cell_type": "markdown",
   "metadata": {},
   "source": [
    "### Format words into a sentence\n",
    "https://www.codewars.com/kata/51689e27fe9a00b126000004  \n",
    "6 kyu\n",
    "\n",
    "Complete the method so that it formats the words into a single comma separated value. The last word should be separated by the word 'and' instead of a comma. The method takes in an array of strings and returns a single formatted string. Empty string values should be ignored. Empty arrays or null/nil values being passed into the method should result in an empty string being returned.\n",
    "\n",
    "format_words(['ninja', 'samurai', 'ronin']) # should return \"ninja, samurai and ronin\"\n",
    "\n",
    "format_words(['ninja', '', 'ronin']) # should return \"ninja and ronin\"\n",
    "\n",
    "format_words([]) # should return \"\""
   ]
  },
  {
   "cell_type": "markdown",
   "metadata": {},
   "source": [
    "__My solution:__"
   ]
  },
  {
   "cell_type": "code",
   "execution_count": 210,
   "metadata": {},
   "outputs": [
    {
     "name": "stdout",
     "output_type": "stream",
     "text": [
      "one, two, three and four one, two, three and four formatWords(['one', 'two', 'three', 'four'] should return 'one, two, three and four'\n",
      "one one formatWords(['one']) should return 'one'\n",
      "one and three one and three formatWords(['one', '', 'three']) should return 'one and three'\n",
      "three three formatWords(['', '', 'three']) should return 'three'\n",
      "one and two one and two formatWords(['one', 'two', '']) should return 'one and two'\n",
      "  formatWords([]) should return \"\"\n",
      "  formatWords(null) should return \"\"\n",
      "  formatWords([\"\"]) should return \"\"\n"
     ]
    }
   ],
   "source": [
    "def format_words(words):\n",
    "    if words:\n",
    "        res = ', '.join(filter(lambda s: s, words))\n",
    "        last_comma = res.rfind(', ')\n",
    "        if last_comma != -1:\n",
    "            res = f'{res[:last_comma]} and{res[last_comma + 1:]}'\n",
    "        return res\n",
    "    return ''\n",
    "\n",
    "\n",
    "print(format_words(['one', 'two', 'three', 'four']), 'one, two, three and four', \"formatWords(['one', 'two', 'three', 'four'] should return 'one, two, three and four'\")\n",
    "print(format_words(['one']), 'one', \"formatWords(['one']) should return 'one'\")\n",
    "print(format_words(['one', '', 'three']), 'one and three', \"formatWords(['one', '', 'three']) should return 'one and three'\")\n",
    "print(format_words(['', '', 'three']), 'three', \"formatWords(['', '', 'three']) should return 'three'\")\n",
    "print(format_words(['one', 'two', '']), 'one and two', \"formatWords(['one', 'two', '']) should return 'one and two'\")\n",
    "print(format_words([]), '', 'formatWords([]) should return \"\"')\n",
    "print(format_words(None), '', 'formatWords(null) should return \"\"')\n",
    "print(format_words(['']), '', 'formatWords([\"\"]) should return \"\"')\n"
   ]
  },
  {
   "cell_type": "code",
   "execution_count": 207,
   "metadata": {},
   "outputs": [
    {
     "name": "stdout",
     "output_type": "stream",
     "text": [
      "aaa, bbb, ccc\n"
     ]
    },
    {
     "data": {
      "text/plain": [
       "8"
      ]
     },
     "execution_count": 207,
     "metadata": {},
     "output_type": "execute_result"
    }
   ],
   "source": [
    "res = ', '.join(filter(lambda s: s, ['aaa', 'bbb', '', 'ccc', '']))\n",
    "print(res)\n",
    "res.rfind(', ')"
   ]
  },
  {
   "cell_type": "code",
   "execution_count": 205,
   "metadata": {},
   "outputs": [
    {
     "data": {
      "text/plain": [
       "-1"
      ]
     },
     "execution_count": 205,
     "metadata": {},
     "output_type": "execute_result"
    }
   ],
   "source": [
    "'ffff'.rfind(', ')"
   ]
  },
  {
   "cell_type": "code",
   "execution_count": 206,
   "metadata": {},
   "outputs": [
    {
     "data": {
      "text/plain": [
       "'asdf'"
      ]
     },
     "execution_count": 206,
     "metadata": {},
     "output_type": "execute_result"
    }
   ],
   "source": [
    "'asdfg'[:-1]"
   ]
  },
  {
   "cell_type": "code",
   "execution_count": 198,
   "metadata": {},
   "outputs": [
    {
     "data": {
      "text/plain": [
       "''"
      ]
     },
     "execution_count": 198,
     "metadata": {},
     "output_type": "execute_result"
    }
   ],
   "source": [
    "', '.join([])"
   ]
  },
  {
   "cell_type": "code",
   "execution_count": 199,
   "metadata": {},
   "outputs": [
    {
     "ename": "TypeError",
     "evalue": "can only join an iterable",
     "output_type": "error",
     "traceback": [
      "\u001b[1;31m---------------------------------------------------------------------------\u001b[0m",
      "\u001b[1;31mTypeError\u001b[0m                                 Traceback (most recent call last)",
      "\u001b[1;32m<ipython-input-199-c1616fef10d5>\u001b[0m in \u001b[0;36m<module>\u001b[1;34m\u001b[0m\n\u001b[1;32m----> 1\u001b[1;33m \u001b[1;34m', '\u001b[0m\u001b[1;33m.\u001b[0m\u001b[0mjoin\u001b[0m\u001b[1;33m(\u001b[0m\u001b[1;32mNone\u001b[0m\u001b[1;33m)\u001b[0m\u001b[1;33m\u001b[0m\u001b[1;33m\u001b[0m\u001b[0m\n\u001b[0m",
      "\u001b[1;31mTypeError\u001b[0m: can only join an iterable"
     ]
    }
   ],
   "source": [
    "', '.join(None)"
   ]
  },
  {
   "cell_type": "code",
   "execution_count": 200,
   "metadata": {},
   "outputs": [
    {
     "name": "stdout",
     "output_type": "stream",
     "text": [
      "Help on method_descriptor:\n",
      "\n",
      "replace(self, old, new, count=-1, /)\n",
      "    Return a copy with all occurrences of substring old replaced by new.\n",
      "    \n",
      "      count\n",
      "        Maximum number of occurrences to replace.\n",
      "        -1 (the default value) means replace all occurrences.\n",
      "    \n",
      "    If the optional argument count is given, only the first count occurrences are\n",
      "    replaced.\n",
      "\n"
     ]
    }
   ],
   "source": [
    "help(str.replace)"
   ]
  },
  {
   "cell_type": "code",
   "execution_count": 202,
   "metadata": {},
   "outputs": [
    {
     "name": "stdout",
     "output_type": "stream",
     "text": [
      "Help on method_descriptor:\n",
      "\n",
      "rfind(...)\n",
      "    S.rfind(sub[, start[, end]]) -> int\n",
      "    \n",
      "    Return the highest index in S where substring sub is found,\n",
      "    such that sub is contained within S[start:end].  Optional\n",
      "    arguments start and end are interpreted as in slice notation.\n",
      "    \n",
      "    Return -1 on failure.\n",
      "\n"
     ]
    }
   ],
   "source": [
    "help(str.rfind)"
   ]
  },
  {
   "cell_type": "markdown",
   "metadata": {},
   "source": [
    "20210121"
   ]
  },
  {
   "cell_type": "markdown",
   "metadata": {},
   "source": [
    "### Pyramid Array\n",
    "https://www.codewars.com/kata/515f51d438015969f7000013  \n",
    "6 kyu\n",
    "\n",
    "Write a function that when given a number >= 0, returns an Array of ascending length subarrays.\n",
    "\n",
    "pyramid(0) => [ ]  \n",
    "pyramid(1) => [ [1] ]  \n",
    "pyramid(2) => [ [1], [1, 1] ]  \n",
    "pyramid(3) => [ [1], [1, 1], [1, 1, 1] ]  \n",
    "\n",
    "Note: the subarrays should be filled with 1s"
   ]
  },
  {
   "cell_type": "markdown",
   "metadata": {},
   "source": [
    "__My solution:__"
   ]
  },
  {
   "cell_type": "code",
   "execution_count": 211,
   "metadata": {},
   "outputs": [
    {
     "name": "stdout",
     "output_type": "stream",
     "text": [
      "[] []\n",
      "[[1]] [[1]]\n",
      "[[1], [1, 1]] [[1], [1, 1]]\n",
      "[[1], [1, 1], [1, 1, 1]] [[1], [1, 1], [1, 1, 1]]\n"
     ]
    }
   ],
   "source": [
    "def pyramid(n):\n",
    "    return [[1] * i for i in range(1, n + 1)] if n > 0 else []\n",
    "    \n",
    "    \n",
    "print(pyramid(0), [])\n",
    "print(pyramid(1), [[1]])\n",
    "print(pyramid(2), [[1], [1, 1]])\n",
    "print(pyramid(3), [[1], [1, 1], [1, 1, 1]])"
   ]
  },
  {
   "cell_type": "markdown",
   "metadata": {},
   "source": [
    "__My unsuccessful attempts:__"
   ]
  },
  {
   "cell_type": "code",
   "execution_count": 212,
   "metadata": {},
   "outputs": [
    {
     "name": "stdout",
     "output_type": "stream",
     "text": [
      "[[]] []\n",
      "[[], [1]] [[1]]\n",
      "[[], [1], [1, 1]] [[1], [1, 1]]\n",
      "[[], [1], [1, 1], [1, 1, 1]] [[1], [1, 1], [1, 1, 1]]\n"
     ]
    }
   ],
   "source": [
    "def pyramid(n):\n",
    "    return [[1] * i for i in range(n + 1)]\n",
    "    \n",
    "    \n",
    "print(pyramid(0), [])\n",
    "print(pyramid(1), [[1]])\n",
    "print(pyramid(2), [[1], [1, 1]])\n",
    "print(pyramid(3), [[1], [1, 1], [1, 1, 1]])"
   ]
  },
  {
   "cell_type": "code",
   "execution_count": 213,
   "metadata": {},
   "outputs": [
    {
     "data": {
      "text/plain": [
       "[]"
      ]
     },
     "execution_count": 213,
     "metadata": {},
     "output_type": "execute_result"
    }
   ],
   "source": [
    "[1] * 0"
   ]
  },
  {
   "cell_type": "markdown",
   "metadata": {},
   "source": [
    "### Make the Deadfish swim\n",
    "https://www.codewars.com/kata/51e0007c1f9378fa810002a9  \n",
    "6 kyu\n",
    "\n",
    "Write a simple parser that will parse and run Deadfish.\n",
    "\n",
    "Deadfish has 4 commands, each 1 character long:\n",
    "\n",
    "i increments the value (initially 0)  \n",
    "d decrements the value  \n",
    "s squares the value  \n",
    "o outputs the value into the return array  \n",
    "\n",
    "Invalid characters should be ignored.\n",
    "\n",
    "parse(\"iiisdoso\")  ==>  [8, 64]"
   ]
  },
  {
   "cell_type": "markdown",
   "metadata": {},
   "source": [
    "__My solution:__"
   ]
  },
  {
   "cell_type": "code",
   "execution_count": 232,
   "metadata": {},
   "outputs": [
    {
     "name": "stdout",
     "output_type": "stream",
     "text": [
      "[0, 0, 0] [0, 0, 0]\n",
      "[0, 0, 0, 1, 2, 3] [1, 2, 3]\n",
      "[0, 0, 0, 1, 2, 3, 3, 4] [0, 1]\n",
      "[0, 0, 0, 1, 2, 3, 3, 4, 25, 676, 458329] [1, 4, 25]\n",
      "[0, 0, 0, 1, 2, 3, 3, 4, 25, 676, 458329, 458329] [0]\n"
     ]
    }
   ],
   "source": [
    "class Deadfish:\n",
    "    \n",
    "    def __init__(self):\n",
    "        self.value = 0\n",
    "        self.outputs = []\n",
    "        self.commands = {\n",
    "            'i': self.inc, \n",
    "            'd': self.dec, \n",
    "            's': self.sq,\n",
    "            'o': self.out\n",
    "        }\n",
    "        \n",
    "    def inc(self):\n",
    "        self.value += 1\n",
    "        \n",
    "    def dec(self):\n",
    "        self.value -= 1\n",
    "        \n",
    "    def sq(self):\n",
    "        self.value *= self.value\n",
    "        \n",
    "    def out(self):\n",
    "        self.outputs.append(self.value)\n",
    "        \n",
    "    def parse(self, data):\n",
    "\n",
    "        for com in data:\n",
    "            if com in self.commands:\n",
    "                self.commands[com]()\n",
    "\n",
    "        return self.outputs\n",
    "        \n",
    "#parse = Deadfish().parse  # all tests are executed in one Deadfish object\n",
    "parse = lambda data: Deadfish().parse(data)\n",
    "\n",
    "\n",
    "print(parse(\"ooo\"), [0,0,0])\n",
    "print(parse(\"ioioio\"), [1,2,3])\n",
    "print(parse(\"idoiido\"), [0,1])\n",
    "print(parse(\"isoisoiso\"), [1,4,25])\n",
    "print(parse(\"codewars\"), [0])"
   ]
  },
  {
   "cell_type": "markdown",
   "metadata": {},
   "source": [
    "Almost the same:"
   ]
  },
  {
   "cell_type": "code",
   "execution_count": 231,
   "metadata": {},
   "outputs": [
    {
     "name": "stdout",
     "output_type": "stream",
     "text": [
      "[0, 0, 0] [0, 0, 0]\n",
      "[0, 0, 0, 1, 2, 3] [1, 2, 3]\n",
      "[0, 0, 0, 1, 2, 3, 3, 4] [0, 1]\n",
      "[0, 0, 0, 1, 2, 3, 3, 4, 25, 676, 458329] [1, 4, 25]\n",
      "[0, 0, 0, 1, 2, 3, 3, 4, 25, 676, 458329, 458329] [0]\n"
     ]
    }
   ],
   "source": [
    "class Deadfish:\n",
    "    \n",
    "    def __init__(self):\n",
    "        self.value = 0\n",
    "        self.outputs = []\n",
    "        \n",
    "    def inc(self):\n",
    "        self.value += 1\n",
    "        \n",
    "    def dec(self):\n",
    "        self.value -= 1\n",
    "        \n",
    "    def sq(self):\n",
    "        self.value *= self.value\n",
    "        \n",
    "    def out(self):\n",
    "        self.outputs.append(self.value)\n",
    "        \n",
    "    def parse(self, data):\n",
    "        commands = {\n",
    "            'i': self.inc, \n",
    "            'd': self.dec, \n",
    "            's': self.sq,\n",
    "            'o': self.out\n",
    "        }\n",
    "        \n",
    "        for com in data:\n",
    "            if com in commands:\n",
    "                commands[com]()\n",
    "\n",
    "        return self.outputs\n",
    "        \n",
    "#parse = Deadfish().parse   # all tests are executed in one Deadfish object\n",
    "parse = lambda data: Deadfish().parse(data)\n",
    "    \n",
    "    \n",
    "print(parse(\"ooo\"), [0,0,0])\n",
    "print(parse(\"ioioio\"), [1,2,3])\n",
    "print(parse(\"idoiido\"), [0,1])\n",
    "print(parse(\"isoisoiso\"), [1,4,25])\n",
    "print(parse(\"codewars\"), [0])"
   ]
  },
  {
   "cell_type": "markdown",
   "metadata": {},
   "source": [
    "Plus setting initial values in the end of parse method:"
   ]
  },
  {
   "cell_type": "code",
   "execution_count": 235,
   "metadata": {},
   "outputs": [
    {
     "name": "stdout",
     "output_type": "stream",
     "text": [
      "[0, 0, 0] [0, 0, 0]\n",
      "[1, 2, 3] [1, 2, 3]\n",
      "[0, 1] [0, 1]\n",
      "[1, 4, 25] [1, 4, 25]\n",
      "[0] [0]\n"
     ]
    }
   ],
   "source": [
    "class Deadfish:\n",
    "    \n",
    "    def __init__(self):\n",
    "        self.value = 0\n",
    "        self.outputs = []\n",
    "        \n",
    "    def inc(self):\n",
    "        self.value += 1\n",
    "        \n",
    "    def dec(self):\n",
    "        self.value -= 1\n",
    "        \n",
    "    def sq(self):\n",
    "        self.value *= self.value\n",
    "        \n",
    "    def out(self):\n",
    "        self.outputs.append(self.value)\n",
    "        \n",
    "    def parse(self, data):\n",
    "        commands = {\n",
    "            'i': self.inc, \n",
    "            'd': self.dec, \n",
    "            's': self.sq,\n",
    "            'o': self.out\n",
    "        }\n",
    "        \n",
    "        for com in data:\n",
    "            if com in commands:\n",
    "                commands[com]()\n",
    "\n",
    "        res = self.outputs\n",
    "        self.__init__()\n",
    "        return res\n",
    "        \n",
    "parse = Deadfish().parse   # all tests are executed in one Deadfish object\n",
    "#parse = lambda data: Deadfish().parse(data)   # a new Deadfish object are created for every test\n",
    "    \n",
    "print(parse(\"ooo\"), [0,0,0])\n",
    "print(parse(\"ioioio\"), [1,2,3])\n",
    "print(parse(\"idoiido\"), [0,1])\n",
    "print(parse(\"isoisoiso\"), [1,4,25])\n",
    "print(parse(\"codewars\"), [0])"
   ]
  },
  {
   "cell_type": "code",
   "execution_count": 236,
   "metadata": {},
   "outputs": [
    {
     "data": {
      "text/plain": [
       "(True, True, False, True, True, True)"
      ]
     },
     "execution_count": 236,
     "metadata": {},
     "output_type": "execute_result"
    }
   ],
   "source": [
    "bool(-2), bool(-1), bool(0), bool(1), bool(2), bool(3)"
   ]
  },
  {
   "cell_type": "code",
   "execution_count": 237,
   "metadata": {},
   "outputs": [
    {
     "data": {
      "text/plain": [
       "5"
      ]
     },
     "execution_count": 237,
     "metadata": {},
     "output_type": "execute_result"
    }
   ],
   "source": [
    "bool(-2) + bool(-1) + bool(0) + bool(1) + bool(2) + bool(3)"
   ]
  },
  {
   "cell_type": "markdown",
   "metadata": {},
   "source": [
    "20210122"
   ]
  },
  {
   "cell_type": "markdown",
   "metadata": {},
   "source": [
    "### Find within array\n",
    "https://www.codewars.com/kata/51f082ba7297b8f07f000001  \n",
    "6 kyu\n",
    "\n",
    "We'll create a function that takes in two parameters:\n",
    "\n",
    "a sequence (length and types of items are irrelevant)  \n",
    "a function (value, index) that will be called on members of the sequence and their index. The function will return either true or false.  \n",
    "Your function will iterate through the members of the sequence in order until the provided function returns true; at which point your function will return that item's index.\n",
    "\n",
    "If the function given returns false for all members of the sequence, your function should return -1.\n",
    "\n",
    "true_if_even = lambda value, index: value % 2 == 0  \n",
    "find_in_array([1,3,5,6,7], true_if_even) # --> 3  "
   ]
  },
  {
   "cell_type": "markdown",
   "metadata": {},
   "source": [
    "__My solutions:__"
   ]
  },
  {
   "cell_type": "markdown",
   "metadata": {},
   "source": [
    "__#1__"
   ]
  },
  {
   "cell_type": "code",
   "execution_count": 240,
   "metadata": {},
   "outputs": [
    {
     "name": "stdout",
     "output_type": "stream",
     "text": [
      "-1 -1\n",
      "3 3\n",
      "0 0\n",
      "-1 -1\n",
      "4 4\n",
      "4 4\n",
      "-1 -1\n"
     ]
    }
   ],
   "source": [
    "def find_in_array(seq, predicate): \n",
    "    return next(filter(lambda a: predicate(a[1], a[0]), enumerate(seq)), (-1, -1))[0]\n",
    "\n",
    "\n",
    "true_if_even = lambda v, i: v % 2 == 0\n",
    "never_true = lambda v, i: False\n",
    "true_if_value_equals_index = lambda v, i: v == i\n",
    "true_if_length_equals_index = lambda v, i: len(v) == i\n",
    "\n",
    "print(find_in_array([], true_if_even) , -1)\n",
    "print(find_in_array([1,3,5,6,7], true_if_even) , 3)\n",
    "print(find_in_array([2,4,6,8], true_if_even) , 0)\n",
    "print(find_in_array([2,4,6,8], never_true) , -1)\n",
    "print(find_in_array([13,5,3,1,4,5], true_if_value_equals_index) , 4)\n",
    "print(find_in_array([\"one\",\"two\",\"three\",\"four\",\"five\",\"six\"], true_if_length_equals_index) , 4)\n",
    "print(find_in_array([\"bc\",\"af\",\"d\",\"e\"], true_if_length_equals_index) , -1)"
   ]
  },
  {
   "cell_type": "markdown",
   "metadata": {},
   "source": [
    "__#2__"
   ]
  },
  {
   "cell_type": "code",
   "execution_count": 262,
   "metadata": {},
   "outputs": [
    {
     "name": "stdout",
     "output_type": "stream",
     "text": [
      "-1 -1\n",
      "3 3\n",
      "0 0\n",
      "-1 -1\n",
      "4 4\n",
      "4 4\n",
      "-1 -1\n"
     ]
    }
   ],
   "source": [
    "def find_in_array(seq, predicate): \n",
    "    for i, value in enumerate(seq):\n",
    "        if predicate(value, i):\n",
    "            return i\n",
    "    return -1\n",
    "\n",
    "true_if_even = lambda v, i: v % 2 == 0\n",
    "never_true = lambda v, i: False\n",
    "true_if_value_equals_index = lambda v, i: v == i\n",
    "true_if_length_equals_index = lambda v, i: len(v) == i\n",
    "\n",
    "print(find_in_array([], true_if_even) , -1)\n",
    "print(find_in_array([1,3,5,6,7], true_if_even) , 3)\n",
    "print(find_in_array([2,4,6,8], true_if_even) , 0)\n",
    "print(find_in_array([2,4,6,8], never_true) , -1)\n",
    "print(find_in_array([13,5,3,1,4,5], true_if_value_equals_index) , 4)\n",
    "print(find_in_array([\"one\",\"two\",\"three\",\"four\",\"five\",\"six\"], true_if_length_equals_index) , 4)\n",
    "print(find_in_array([\"bc\",\"af\",\"d\",\"e\"], true_if_length_equals_index) , -1)"
   ]
  },
  {
   "cell_type": "markdown",
   "metadata": {},
   "source": [
    "### Sort Arrays (Ignoring Case)\n",
    "https://www.codewars.com/kata/51f41fe7e8f176e70d0002b9  \n",
    "6 kyu\n",
    "\n",
    "Sort the given strings in alphabetical order, case insensitive. For example:\n",
    "\n",
    "[\"Hello\", \"there\", \"I'm\", \"fine\"]  -->  [\"fine\", \"Hello\", \"I'm\", \"there\"]  \n",
    "[\"C\", \"d\", \"a\", \"B\"])              -->  [\"a\", \"B\", \"C\", \"d\"]"
   ]
  },
  {
   "cell_type": "markdown",
   "metadata": {},
   "source": [
    "__My solution:__"
   ]
  },
  {
   "cell_type": "code",
   "execution_count": null,
   "metadata": {},
   "outputs": [],
   "source": [
    "def sortme(words):\n",
    "    return sorted(words, key=lambda w: w.lower())\n",
    "\n",
    "\n",
    "print(sortme([\"Hello\", \"there\", \"I'm\", \"fine\"]), [\"fine\", \"Hello\", \"I'm\", \"there\"])\n",
    "print(sortme([\"C\", \"d\", \"a\", \"B\"]), [\"a\", \"B\", \"C\", \"d\"])\n",
    "print(sortme([\"CodeWars\"]), [\"CodeWars\"])"
   ]
  },
  {
   "cell_type": "markdown",
   "metadata": {},
   "source": [
    "### RGB To Hex Conversion\n",
    "https://www.codewars.com/kata/513e08acc600c94f01000001  \n",
    "5 kyu\n",
    "\n",
    "The rgb function is incomplete. Complete it so that passing in RGB decimal values will result in a hexadecimal representation being returned. Valid decimal values for RGB are 0 - 255. Any values that fall out of that range must be rounded to the closest valid value.\n",
    "\n",
    "Note: Your answer should always be 6 characters long, the shorthand with 3 will not work here.\n",
    "\n",
    "The following are examples of expected output values:\n",
    "\n",
    "rgb(255, 255, 255) # returns FFFFFF  \n",
    "rgb(255, 255, 300) # returns FFFFFF  \n",
    "rgb(0,0,0) # returns 000000  \n",
    "rgb(148, 0, 211) # returns 9400D3  "
   ]
  },
  {
   "cell_type": "markdown",
   "metadata": {},
   "source": [
    "__My solutions:__"
   ]
  },
  {
   "cell_type": "markdown",
   "metadata": {},
   "source": [
    "__#1__"
   ]
  },
  {
   "cell_type": "code",
   "execution_count": 257,
   "metadata": {},
   "outputs": [
    {
     "name": "stdout",
     "output_type": "stream",
     "text": [
      "000000 000000 testing zero values\n",
      "010203 010203 testing near zero values\n",
      "FFFFFF FFFFFF testing max values\n",
      "FEFDFC FEFDFC testing near max values\n",
      "00FF7D 00FF7D testing out of range values\n"
     ]
    }
   ],
   "source": [
    "def rgb(r, g, b):\n",
    "    res = ''\n",
    "    for v in (r, g, b):\n",
    "        if v < 0:\n",
    "            v = 0\n",
    "        elif v > 255:\n",
    "            v = 255\n",
    "        res += hex(v)[2:].zfill(2)\n",
    "    return res.upper()\n",
    "\n",
    "\n",
    "print(rgb(0,0,0),\"000000\", \"testing zero values\")\n",
    "print(rgb(1,2,3),\"010203\", \"testing near zero values\")\n",
    "print(rgb(255,255,255), \"FFFFFF\", \"testing max values\")\n",
    "print(rgb(254,253,252), \"FEFDFC\", \"testing near max values\")\n",
    "print(rgb(-20,275,125), \"00FF7D\", \"testing out of range values\")"
   ]
  },
  {
   "cell_type": "markdown",
   "metadata": {},
   "source": [
    "__#2__"
   ]
  },
  {
   "cell_type": "code",
   "execution_count": 261,
   "metadata": {},
   "outputs": [
    {
     "name": "stdout",
     "output_type": "stream",
     "text": [
      "000000 000000 testing zero values\n",
      "010203 010203 testing near zero values\n",
      "FFFFFF FFFFFF testing max values\n",
      "FEFDFC FEFDFC testing near max values\n",
      "00FF7D 00FF7D testing out of range values\n"
     ]
    }
   ],
   "source": [
    "def rgb(r, g, b):\n",
    "    return ''.join(hex(v)[2:].zfill(2) if 0 <= v <= 255 else '00' if v < 0 else 'FF' for v in (r, g, b)).upper()\n",
    "\n",
    "\n",
    "print(rgb(0,0,0),\"000000\", \"testing zero values\")\n",
    "print(rgb(1,2,3),\"010203\", \"testing near zero values\")\n",
    "print(rgb(255,255,255), \"FFFFFF\", \"testing max values\")\n",
    "print(rgb(254,253,252), \"FEFDFC\", \"testing near max values\")\n",
    "print(rgb(-20,275,125), \"00FF7D\", \"testing out of range values\")"
   ]
  },
  {
   "cell_type": "markdown",
   "metadata": {},
   "source": [
    "__My unsuccessful attempts:__"
   ]
  },
  {
   "cell_type": "markdown",
   "metadata": {},
   "source": [
    "locals().values() doesn't save initial order of the arguments:"
   ]
  },
  {
   "cell_type": "code",
   "execution_count": 260,
   "metadata": {},
   "outputs": [
    {
     "name": "stdout",
     "output_type": "stream",
     "text": [
      "0 0 0\n",
      "000000 000000 testing zero values\n",
      "1 2 3\n",
      "010203 010203 testing near zero values\n",
      "255 255 255\n",
      "FFFFFF FFFFFF testing max values\n",
      "254 253 252\n",
      "FEFDFC FEFDFC testing near max values\n",
      "-20 275 125\n",
      "00FF7D 00FF7D testing out of range values\n"
     ]
    }
   ],
   "source": [
    "def rgb(r, g, b):\n",
    "    return ''.join(hex(v)[2:].zfill(2) if 0 <= v <= 255 else '00' if v < 0 else 'FF' for v in locals().values()).upper()\n",
    "\n",
    "\n",
    "print(rgb(0,0,0),\"000000\", \"testing zero values\")\n",
    "print(rgb(1,2,3),\"010203\", \"testing near zero values\")\n",
    "print(rgb(255,255,255), \"FFFFFF\", \"testing max values\")\n",
    "print(rgb(254,253,252), \"FEFDFC\", \"testing near max values\")\n",
    "print(rgb(-20,275,125), \"00FF7D\", \"testing out of range values\")"
   ]
  },
  {
   "cell_type": "code",
   "execution_count": 243,
   "metadata": {},
   "outputs": [
    {
     "data": {
      "text/plain": [
       "'0xff'"
      ]
     },
     "execution_count": 243,
     "metadata": {},
     "output_type": "execute_result"
    }
   ],
   "source": [
    "hex(255)"
   ]
  },
  {
   "cell_type": "code",
   "execution_count": 244,
   "metadata": {},
   "outputs": [
    {
     "data": {
      "text/plain": [
       "'0x3'"
      ]
     },
     "execution_count": 244,
     "metadata": {},
     "output_type": "execute_result"
    }
   ],
   "source": [
    "hex(3)"
   ]
  },
  {
   "cell_type": "code",
   "execution_count": 256,
   "metadata": {},
   "outputs": [
    {
     "ename": "TypeError",
     "evalue": "'str' object cannot be interpreted as an integer",
     "output_type": "error",
     "traceback": [
      "\u001b[1;31m---------------------------------------------------------------------------\u001b[0m",
      "\u001b[1;31mTypeError\u001b[0m                                 Traceback (most recent call last)",
      "\u001b[1;32m<ipython-input-256-ee62550da8f1>\u001b[0m in \u001b[0;36m<module>\u001b[1;34m\u001b[0m\n\u001b[1;32m----> 1\u001b[1;33m \u001b[0mhex\u001b[0m\u001b[1;33m(\u001b[0m\u001b[1;34m'3'\u001b[0m\u001b[1;33m)\u001b[0m\u001b[1;33m\u001b[0m\u001b[1;33m\u001b[0m\u001b[0m\n\u001b[0m",
      "\u001b[1;31mTypeError\u001b[0m: 'str' object cannot be interpreted as an integer"
     ]
    }
   ],
   "source": [
    "hex('3')"
   ]
  },
  {
   "cell_type": "code",
   "execution_count": null,
   "metadata": {},
   "outputs": [],
   "source": []
  }
 ],
 "metadata": {
  "kernelspec": {
   "display_name": "Python 3",
   "language": "python",
   "name": "python3"
  },
  "language_info": {
   "codemirror_mode": {
    "name": "ipython",
    "version": 3
   },
   "file_extension": ".py",
   "mimetype": "text/x-python",
   "name": "python",
   "nbconvert_exporter": "python",
   "pygments_lexer": "ipython3",
   "version": "3.7.3"
  }
 },
 "nbformat": 4,
 "nbformat_minor": 2
}

{
 "cells": [
  {
   "cell_type": "markdown",
   "metadata": {},
   "source": [
    "20210101"
   ]
  },
  {
   "cell_type": "markdown",
   "metadata": {},
   "source": [
    "### Consecutive Differences\n",
    "https://www.codewars.com/kata/5ff22b6e833a9300180bb953  \n",
    "7 kyu\n",
    "\n",
    "Given a list of integers, find the positive difference between each consecutive pair of numbers, and put this into a new list of differences. Then, find the differences between consecutive pairs in this new list, and repeat until the list has a length of 1. Then, return the single value.\n",
    "\n",
    "The list will only contain integers, and will not be empty.\n",
    "\n",
    "For example:\n",
    "\n",
    "differences([1, 2, 3]) => [1, 1] => [0] => 0  \n",
    "differences([1, 5, 2, 7, 8, 9, 0]) => [4, 3, 5, 1, 1, 9] => [1, 2, 4, 0, 8] => ... => 1  \n",
    "differences([2, 3, 1]) => [1, 2] => 1"
   ]
  },
  {
   "cell_type": "markdown",
   "metadata": {},
   "source": [
    "__My solution:__"
   ]
  },
  {
   "cell_type": "code",
   "execution_count": 6,
   "metadata": {},
   "outputs": [
    {
     "name": "stdout",
     "output_type": "stream",
     "text": [
      "0 0\n",
      "1 1\n",
      "1 1\n",
      "2 2\n"
     ]
    }
   ],
   "source": [
    "def differences(lst):\n",
    "    if len(lst) == 1:\n",
    "        return lst[0]\n",
    "    \n",
    "    return differences([abs(lst[i] - lst[i + 1]) for i in range(0, len(lst) - 1)])\n",
    "\n",
    "\n",
    "def testing(n, res):\n",
    "    print(differences(n), res)\n",
    "\n",
    "testing([1, 2, 3], 0)\n",
    "testing([1, 5, 2, 7, 8, 9, 0], 1)\n",
    "testing([2, 3, 1], 1)\n",
    "testing([-1, 2, 3], 2)"
   ]
  },
  {
   "cell_type": "markdown",
   "metadata": {},
   "source": [
    "20210102"
   ]
  },
  {
   "cell_type": "markdown",
   "metadata": {},
   "source": [
    "### Calculate Parity bit!\n",
    "https://www.codewars.com/kata/5df261342964c80028345a0a  \n",
    "7 kyu\n",
    "\n",
    "A parity bit, or check bit, is a bit added to a string of bits to ensure that the total number of 1-bits in the string is even or odd. Parity bits are used as the simplest form of error detecting code.\n",
    "\n",
    "You have two parameters, one being the wanted parity (always 'even' or 'odd'), and the other being the binary representation of the number you want to check.\n",
    "\n",
    "Your task is to return an integer (0 or 1), whose the parity bit you need to add to the binary representation so that the parity of the resulting string is as expected.\n",
    "\n",
    "Example:\n",
    "\n",
    "  Parity: 'even'  \n",
    "  Bin: '0101010'  \n",
    "  Result: 1\n",
    "  \n",
    "Because there is an odd number of 1-bits (3) you need to put another 1 to it to get an even number of 1-bits.\n",
    "\n",
    "For more information: https://en.wikipedia.org/wiki/Parity_bit"
   ]
  },
  {
   "cell_type": "markdown",
   "metadata": {},
   "source": [
    "__My solutions:__"
   ]
  },
  {
   "cell_type": "markdown",
   "metadata": {},
   "source": [
    "__#1__"
   ]
  },
  {
   "cell_type": "code",
   "execution_count": 21,
   "metadata": {},
   "outputs": [
    {
     "name": "stdout",
     "output_type": "stream",
     "text": [
      "1 1\n",
      "0 0\n",
      "0 0\n",
      "1 1\n"
     ]
    }
   ],
   "source": [
    "def check_parity(parity, bin_str): \n",
    "    return bin_str.count('1') & 1 if parity == 'even' else bin_str.count('1') & 1 ^ 1\n",
    "\n",
    "\n",
    "print(check_parity('even','101010'), 1)\n",
    "print(check_parity('odd','101010'), 0)\n",
    "print(check_parity('even','101011'), 0)\n",
    "print(check_parity('odd','101011'), 1)"
   ]
  },
  {
   "cell_type": "markdown",
   "metadata": {},
   "source": [
    "__#2__"
   ]
  },
  {
   "cell_type": "code",
   "execution_count": 23,
   "metadata": {},
   "outputs": [
    {
     "name": "stdout",
     "output_type": "stream",
     "text": [
      "1 1\n",
      "0 0\n",
      "0 0\n",
      "1 1\n"
     ]
    }
   ],
   "source": [
    "def check_parity(parity, bin_str): \n",
    "    return bin_str.count('1') & 1 if parity == 'even' else int(not bin_str.count('1') & 1)\n",
    "\n",
    "\n",
    "print(check_parity('even','101010'), 1)\n",
    "print(check_parity('odd','101010'), 0)\n",
    "print(check_parity('even','101011'), 0)\n",
    "print(check_parity('odd','101011'), 1)"
   ]
  },
  {
   "cell_type": "code",
   "execution_count": 10,
   "metadata": {},
   "outputs": [
    {
     "data": {
      "text/plain": [
       "0"
      ]
     },
     "execution_count": 10,
     "metadata": {},
     "output_type": "execute_result"
    }
   ],
   "source": [
    "100 & 1"
   ]
  },
  {
   "cell_type": "code",
   "execution_count": 11,
   "metadata": {},
   "outputs": [
    {
     "data": {
      "text/plain": [
       "1"
      ]
     },
     "execution_count": 11,
     "metadata": {},
     "output_type": "execute_result"
    }
   ],
   "source": [
    "11 & 1"
   ]
  },
  {
   "cell_type": "code",
   "execution_count": 12,
   "metadata": {},
   "outputs": [
    {
     "data": {
      "text/plain": [
       "0"
      ]
     },
     "execution_count": 12,
     "metadata": {},
     "output_type": "execute_result"
    }
   ],
   "source": [
    "100 & 0"
   ]
  },
  {
   "cell_type": "code",
   "execution_count": 13,
   "metadata": {},
   "outputs": [
    {
     "data": {
      "text/plain": [
       "100"
      ]
     },
     "execution_count": 13,
     "metadata": {},
     "output_type": "execute_result"
    }
   ],
   "source": [
    "100 | 0"
   ]
  },
  {
   "cell_type": "code",
   "execution_count": 14,
   "metadata": {},
   "outputs": [
    {
     "data": {
      "text/plain": [
       "-1"
      ]
     },
     "execution_count": 14,
     "metadata": {},
     "output_type": "execute_result"
    }
   ],
   "source": [
    "~0"
   ]
  },
  {
   "cell_type": "code",
   "execution_count": 15,
   "metadata": {},
   "outputs": [
    {
     "data": {
      "text/plain": [
       "0"
      ]
     },
     "execution_count": 15,
     "metadata": {},
     "output_type": "execute_result"
    }
   ],
   "source": [
    "-0"
   ]
  },
  {
   "cell_type": "code",
   "execution_count": 16,
   "metadata": {},
   "outputs": [
    {
     "data": {
      "text/plain": [
       "1"
      ]
     },
     "execution_count": 16,
     "metadata": {},
     "output_type": "execute_result"
    }
   ],
   "source": [
    "0 | 1"
   ]
  },
  {
   "cell_type": "code",
   "execution_count": 17,
   "metadata": {},
   "outputs": [
    {
     "data": {
      "text/plain": [
       "1"
      ]
     },
     "execution_count": 17,
     "metadata": {},
     "output_type": "execute_result"
    }
   ],
   "source": [
    "0 ^ 1"
   ]
  },
  {
   "cell_type": "code",
   "execution_count": 18,
   "metadata": {},
   "outputs": [
    {
     "data": {
      "text/plain": [
       "0"
      ]
     },
     "execution_count": 18,
     "metadata": {},
     "output_type": "execute_result"
    }
   ],
   "source": [
    "1 ^ 1"
   ]
  },
  {
   "cell_type": "markdown",
   "metadata": {},
   "source": [
    "20210103"
   ]
  },
  {
   "cell_type": "markdown",
   "metadata": {},
   "source": [
    "### Maximum Multiple\n",
    "https://www.codewars.com/kata/5aba780a6a176b029800041c  \n",
    "7 kyu\n",
    "\n",
    "Given a Divisor and a Bound, Find the largest integer N, Such That,\n",
    "\n",
    "Conditions:  \n",
    "N is divisible by divisor  \n",
    "N is less than or equal to bound  \n",
    "N is greater than 0.\n",
    "\n",
    "Notes  \n",
    "\n",
    "The parameters (divisor, bound) passed to the function are only positive values.  \n",
    "It's guaranteed that a divisor is Found.  \n",
    "\n",
    "Input >> Output Examples\n",
    "\n",
    "maxMultiple (2,7) ==> return (6)  \n",
    "Explanation:  \n",
    "(6) is divisible by (2), (6) is less than or equal to bound (7), and (6) is > 0.\n",
    "\n",
    "maxMultiple (10,50)  ==> return (50)  \n",
    "Explanation:  \n",
    "(50) is divisible by (10), (50) is less than or equal to bound (50), and (50) is > 0.\n",
    "\n",
    "maxMultiple (37,200) ==> return (185)  \n",
    "Explanation:  \n",
    "(185) is divisible by (37), (185) is less than or equal to bound (200) , and (185) is > 0."
   ]
  },
  {
   "cell_type": "markdown",
   "metadata": {},
   "source": [
    "__My solution:__"
   ]
  },
  {
   "cell_type": "code",
   "execution_count": 22,
   "metadata": {},
   "outputs": [
    {
     "name": "stdout",
     "output_type": "stream",
     "text": [
      "6 6\n",
      "9 9\n",
      "14 14\n",
      "50 50\n",
      "185 185\n",
      "98 98\n"
     ]
    }
   ],
   "source": [
    "def max_multiple(divisor, bound):\n",
    "    return bound // divisor * divisor\n",
    "\n",
    "\n",
    "print(max_multiple(2,7),6)\n",
    "print(max_multiple(3,10),9)\n",
    "print(max_multiple(7,17),14)\n",
    "print(max_multiple(10,50),50)\n",
    "print(max_multiple(37,200),185)\n",
    "print(max_multiple(7,100),98)"
   ]
  },
  {
   "cell_type": "markdown",
   "metadata": {},
   "source": [
    "### JavaScript Array Filter\n",
    "https://www.codewars.com/kata/514a6336889283a3d2000001  \n",
    "7 kyu\n",
    "\n",
    "In Python, there is a built-in filter function that operates similarly to JS's filter. For more information on how to use this function, visit https://docs.python.org/3/library/functions.html#filter\n",
    "\n",
    "The solution would work like the following:\n",
    "\n",
    "get_even_numbers([2,4,5,6]) => [2,4,6]"
   ]
  },
  {
   "cell_type": "markdown",
   "metadata": {},
   "source": [
    "__My solutions:__"
   ]
  },
  {
   "cell_type": "markdown",
   "metadata": {},
   "source": [
    "__#1__"
   ]
  },
  {
   "cell_type": "code",
   "execution_count": 33,
   "metadata": {},
   "outputs": [
    {
     "name": "stdout",
     "output_type": "stream",
     "text": [
      "[2, 4, 6] [2, 4, 6]\n",
      "[] []\n",
      "[] []\n",
      "[2] [2]\n",
      "[2, 4] [2, 4]\n",
      "[2, 4, 6, 8] [2, 4, 6, 8]\n"
     ]
    }
   ],
   "source": [
    "def get_even_numbers(arr):\n",
    "    return list(filter(lambda a: not a & 1, arr))\n",
    "\n",
    "\n",
    "test_data = [\n",
    "    ([2,4,5,6], [2,4,6]),\n",
    "    ([], []),\n",
    "    ([1], []),\n",
    "    ([1, 2], [2]),\n",
    "    ([1,2,3,4,5], [2,4]),\n",
    "    ([2,4,6,8], [2,4,6,8])\n",
    "]\n",
    "for (data, exp) in test_data:      \n",
    "    actual = get_even_numbers(data)\n",
    "    print(actual, exp)"
   ]
  },
  {
   "cell_type": "markdown",
   "metadata": {},
   "source": [
    "__#2__"
   ]
  },
  {
   "cell_type": "code",
   "execution_count": 34,
   "metadata": {},
   "outputs": [
    {
     "name": "stdout",
     "output_type": "stream",
     "text": [
      "[2, 4, 6] [2, 4, 6]\n",
      "[] []\n",
      "[] []\n",
      "[2] [2]\n",
      "[2, 4] [2, 4]\n",
      "[2, 4, 6, 8] [2, 4, 6, 8]\n"
     ]
    }
   ],
   "source": [
    "def get_even_numbers(arr):\n",
    "    return [a for a in arr if not a & 1]\n",
    "\n",
    "\n",
    "test_data = [\n",
    "    ([2,4,5,6], [2,4,6]),\n",
    "    ([], []),\n",
    "    ([1], []),\n",
    "    ([1, 2], [2]),\n",
    "    ([1,2,3,4,5], [2,4]),\n",
    "    ([2,4,6,8], [2,4,6,8])\n",
    "]\n",
    "for (data, exp) in test_data:      \n",
    "    actual = get_even_numbers(data)\n",
    "    print(actual, exp)"
   ]
  },
  {
   "cell_type": "code",
   "execution_count": null,
   "metadata": {},
   "outputs": [],
   "source": []
  }
 ],
 "metadata": {
  "kernelspec": {
   "display_name": "Python 3",
   "language": "python",
   "name": "python3"
  },
  "language_info": {
   "codemirror_mode": {
    "name": "ipython",
    "version": 3
   },
   "file_extension": ".py",
   "mimetype": "text/x-python",
   "name": "python",
   "nbconvert_exporter": "python",
   "pygments_lexer": "ipython3",
   "version": "3.7.3"
  }
 },
 "nbformat": 4,
 "nbformat_minor": 2
}

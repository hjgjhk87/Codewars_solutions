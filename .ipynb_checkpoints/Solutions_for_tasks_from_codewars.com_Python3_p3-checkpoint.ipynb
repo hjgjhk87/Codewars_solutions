{
 "cells": [
  {
   "cell_type": "markdown",
   "metadata": {},
   "source": [
    "20200101"
   ]
  },
  {
   "cell_type": "markdown",
   "metadata": {},
   "source": [
    "### Consecutive Differences\n",
    "https://www.codewars.com/kata/5ff22b6e833a9300180bb953  \n",
    "7 kyu\n",
    "\n",
    "Given a list of integers, find the positive difference between each consecutive pair of numbers, and put this into a new list of differences. Then, find the differences between consecutive pairs in this new list, and repeat until the list has a length of 1. Then, return the single value.\n",
    "\n",
    "The list will only contain integers, and will not be empty.\n",
    "\n",
    "For example:\n",
    "\n",
    "differences([1, 2, 3]) => [1, 1] => [0] => 0  \n",
    "differences([1, 5, 2, 7, 8, 9, 0]) => [4, 3, 5, 1, 1, 9] => [1, 2, 4, 0, 8] => ... => 1  \n",
    "differences([2, 3, 1]) => [1, 2] => 1"
   ]
  },
  {
   "cell_type": "markdown",
   "metadata": {},
   "source": [
    "__My solution:__"
   ]
  },
  {
   "cell_type": "code",
   "execution_count": 6,
   "metadata": {},
   "outputs": [
    {
     "name": "stdout",
     "output_type": "stream",
     "text": [
      "0 0\n",
      "1 1\n",
      "1 1\n",
      "2 2\n"
     ]
    }
   ],
   "source": [
    "def differences(lst):\n",
    "    if len(lst) == 1:\n",
    "        return lst[0]\n",
    "    \n",
    "    return differences([abs(lst[i] - lst[i + 1]) for i in range(0, len(lst) - 1)])\n",
    "\n",
    "\n",
    "def testing(n, res):\n",
    "    print(differences(n), res)\n",
    "\n",
    "testing([1, 2, 3], 0)\n",
    "testing([1, 5, 2, 7, 8, 9, 0], 1)\n",
    "testing([2, 3, 1], 1)\n",
    "testing([-1, 2, 3], 2)"
   ]
  },
  {
   "cell_type": "code",
   "execution_count": null,
   "metadata": {},
   "outputs": [],
   "source": []
  }
 ],
 "metadata": {
  "kernelspec": {
   "display_name": "Python 3",
   "language": "python",
   "name": "python3"
  },
  "language_info": {
   "codemirror_mode": {
    "name": "ipython",
    "version": 3
   },
   "file_extension": ".py",
   "mimetype": "text/x-python",
   "name": "python",
   "nbconvert_exporter": "python",
   "pygments_lexer": "ipython3",
   "version": "3.7.3"
  }
 },
 "nbformat": 4,
 "nbformat_minor": 2
}

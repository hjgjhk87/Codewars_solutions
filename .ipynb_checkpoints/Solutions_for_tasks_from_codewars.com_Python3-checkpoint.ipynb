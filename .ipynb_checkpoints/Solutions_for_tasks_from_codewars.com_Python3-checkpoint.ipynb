{
 "cells": [
  {
   "cell_type": "markdown",
   "metadata": {},
   "source": [
    "## List Filtering\n",
    "\n",
    "In this kata you will create a function that takes a list of non-negative integers and strings and returns a new list with the strings filtered out.\n",
    "\n",
    "Example\n",
    "\n",
    "filter_list([1,2,'a','b']) == [1,2]\n",
    "\n",
    "filter_list([1,'a','b',0,15]) == [1,0,15]\n",
    "\n",
    "filter_list([1,2,'aasf','1','123',123]) == [1,2,123]"
   ]
  },
  {
   "cell_type": "code",
   "execution_count": 7,
   "metadata": {},
   "outputs": [
    {
     "name": "stdout",
     "output_type": "stream",
     "text": [
      "[1, 2]\n",
      "[1, 0, 15]\n",
      "[1, 2, 123]\n"
     ]
    }
   ],
   "source": [
    "def filter_list(l):\n",
    "    return [el for el in l if isinstance(el, int)]\n",
    "\n",
    "print(filter_list([1,2,'a','b']))\n",
    "print(filter_list([1,'a','b',0,15]))\n",
    "print(filter_list([1,2,'aasf','1','123',123]))"
   ]
  },
  {
   "cell_type": "code",
   "execution_count": 2,
   "metadata": {},
   "outputs": [
    {
     "name": "stdout",
     "output_type": "stream",
     "text": [
      "<class 'int'>\n"
     ]
    }
   ],
   "source": [
    "print(type(1))"
   ]
  },
  {
   "cell_type": "code",
   "execution_count": 3,
   "metadata": {},
   "outputs": [
    {
     "name": "stdout",
     "output_type": "stream",
     "text": [
      "True\n"
     ]
    }
   ],
   "source": [
    "print(type(1) == int)"
   ]
  },
  {
   "cell_type": "code",
   "execution_count": 4,
   "metadata": {},
   "outputs": [
    {
     "name": "stdout",
     "output_type": "stream",
     "text": [
      "True\n"
     ]
    }
   ],
   "source": [
    "print(isinstance(1, int))"
   ]
  },
  {
   "cell_type": "code",
   "execution_count": 5,
   "metadata": {},
   "outputs": [
    {
     "name": "stdout",
     "output_type": "stream",
     "text": [
      "False\n"
     ]
    }
   ],
   "source": [
    "print(isinstance('1', int))"
   ]
  },
  {
   "cell_type": "markdown",
   "metadata": {},
   "source": [
    "## Take a Ten Minute Walk\n",
    "\n",
    "You live in the city of Cartesia where all roads are laid out in a perfect grid. You arrived ten minutes too early to an appointment, so you decided to take the opportunity to go for a short walk. The city provides its citizens with a Walk Generating App on their phones -- everytime you press the button it sends you an array of one-letter strings representing directions to walk (eg. ['n', 's', 'w', 'e']). You always walk only a single block in a direction and you know it takes you one minute to traverse one city block, so create a function that will return true if the walk the app gives you will take you exactly ten minutes (you don't want to be early or late!) and will, of course, return you to your starting point. Return false otherwise.\n",
    "\n",
    "Note: you will always receive a valid array containing a random assortment of direction letters ('n', 's', 'e', or 'w' only). It will never give you an empty array (that's not a walk, that's standing still!)."
   ]
  },
  {
   "cell_type": "code",
   "execution_count": 15,
   "metadata": {},
   "outputs": [
    {
     "name": "stdout",
     "output_type": "stream",
     "text": [
      "True\n"
     ]
    }
   ],
   "source": [
    "def isValidWalk(walk):\n",
    "    #determine if walk is valid\n",
    "    return (walk.count('n') == walk.count('s')\n",
    "            and walk.count('e') == walk.count('w')\n",
    "            and len(walk) == 10)\n",
    "    \n",
    "print(isValidWalk(['n', 's', 'e', 'w', 'n', 's', 'e', 'w', 'n', 's']))"
   ]
  },
  {
   "cell_type": "markdown",
   "metadata": {},
   "source": [
    "## Delete occurrences of an element if it occurs more than n times\n",
    "\n",
    "## Enough is enough!\n",
    "Alice and Bob were on a holiday. Both of them took many pictures of the places they've been, and now they want to show Charlie their entire collection. However, Charlie doesn't like this sessions, since the motive usually repeats. He isn't fond of seeing the Eiffel tower 40 times. He tells them that he will only sit during the session if they show the same motive at most N times. Luckily, Alice and Bob are able to encode the motive as a number. Can you help them to remove numbers such that their list contains each number only up to N times, without changing the order?\n",
    "\n",
    "Task\n",
    "Given a list lst and a number N, create a new list that contains each number of lst at most N times without reordering. For example if N = 2, and the input is [1,2,3,1,2,1,2,3], you take [1,2,3,1,2], drop the next [1,2] since this would lead to 1 and 2 being in the result 3 times, and then take 3, which leads to [1,2,3,1,2,3].\n",
    "\n",
    "Example\n",
    "\n",
    "delete_nth ([1,1,1,1],2) # return [1,1]\n",
    "\n",
    "delete_nth ([20,37,20,21],1) # return [20,37,21]"
   ]
  },
  {
   "cell_type": "code",
   "execution_count": 14,
   "metadata": {},
   "outputs": [
    {
     "name": "stdout",
     "output_type": "stream",
     "text": [
      "[1, 1]\n",
      "[20, 37, 21]\n"
     ]
    }
   ],
   "source": [
    "def delete_nth(order, max_e):\n",
    "    res = []\n",
    "    countDic = {}\n",
    "    for x in order:\n",
    "        count = countDic.get(x, 0)\n",
    "        if count < max_e:\n",
    "            res.append(x)\n",
    "            countDic[x] = count + 1\n",
    "    return res\n",
    "\n",
    "print(delete_nth([1,1,1,1], 2))     # return [1,1]\n",
    "print(delete_nth([20,37,20,21], 1)) # return [20,37,21]           "
   ]
  },
  {
   "cell_type": "markdown",
   "metadata": {},
   "source": [
    "## Number of people in the bus\n",
    "\n",
    "There is a bus moving in the city, and it takes and drop some people in each bus stop.\n",
    "\n",
    "You are provided with a list (or array) of integer arrays (or tuples). Each integer array has two items which represent number of people get into bus (The first item) and number of people get off the bus (The second item) in a bus stop.\n",
    "\n",
    "Your task is to return number of people who are still in the bus after the last bus station (after the last array). Even though it is the last bus stop, the bus is not empty and some people are still in the bus, and they are probably sleeping there :D\n",
    "\n",
    "Take a look on the test cases.\n",
    "\n",
    "Please keep in mind that the test cases ensure that the number of people in the bus is always >= 0. So the return integer can't be negative.\n",
    "\n",
    "The second value in the first integer array is 0, since the bus is empty in the first bus stop."
   ]
  },
  {
   "cell_type": "code",
   "execution_count": 19,
   "metadata": {},
   "outputs": [
    {
     "name": "stdout",
     "output_type": "stream",
     "text": [
      "5 5\n",
      "17 17\n",
      "21 21\n"
     ]
    }
   ],
   "source": [
    "def number(bus_stops):\n",
    "    return sum([x[0] for x in bus_stops]) - sum([x[1] for x in bus_stops])\n",
    "\n",
    "print(number([[10,0],[3,5],[5,8]]),5)\n",
    "print(number([[3,0],[9,1],[4,10],[12,2],[6,1],[7,10]]),17)\n",
    "print(number([[3,0],[9,1],[4,8],[12,2],[6,1],[7,8]]),21)"
   ]
  },
  {
   "cell_type": "markdown",
   "metadata": {},
   "source": [
    "## Calculating with Functions\n",
    "\n",
    "This time we want to write calculations using functions and get the results. Let's have a look at some examples:\n",
    "\n",
    "seven(times(five())) # must return 35\n",
    "four(plus(nine())) # must return 13\n",
    "eight(minus(three())) # must return 5\n",
    "six(divided_by(two())) # must return 3\n",
    "Requirements:\n",
    "\n",
    "There must be a function for each number from 0 (\"zero\") to 9 (\"nine\")\n",
    "There must be a function for each of the following mathematical operations: plus, minus, times, dividedBy (divided_by in Ruby and Python)\n",
    "Each calculation consist of exactly one operation and two numbers\n",
    "The most outer function represents the left operand, the most inner function represents the right operand\n",
    "Divison should be integer division. For example, this should return 2, not 2.666666...:\n",
    "eight(divided_by(three()))"
   ]
  },
  {
   "cell_type": "code",
   "execution_count": 27,
   "metadata": {},
   "outputs": [
    {
     "name": "stdout",
     "output_type": "stream",
     "text": [
      "35 35\n",
      "13 13\n",
      "5 5\n",
      "3 3\n"
     ]
    }
   ],
   "source": [
    "def operand(digit, args):\n",
    "    if len(args) == 0:\n",
    "        return digit\n",
    "    else:\n",
    "        return eval(digit + args[0])\n",
    "\n",
    "def zero(*args):\n",
    "    return operand('0', args)\n",
    "\n",
    "def one(*args):\n",
    "    return operand('1', args)\n",
    "\n",
    "def two(*args):\n",
    "    return operand('2', args)\n",
    "\n",
    "def three(*args):\n",
    "    return operand('3', args)\n",
    "\n",
    "def four(*args):\n",
    "    return operand('4', args)\n",
    "\n",
    "def five(*args):\n",
    "    return operand('5', args)\n",
    "\n",
    "def six(*args):\n",
    "    return operand('6', args)\n",
    "\n",
    "def seven(*args):\n",
    "    return operand('7', args)\n",
    "\n",
    "def eight(*args):\n",
    "    return operand('8', args)\n",
    "\n",
    "def nine(*args):\n",
    "    return operand('9', args)\n",
    "\n",
    "def plus(arg):\n",
    "    return ('+' + arg)\n",
    "\n",
    "def minus(arg):\n",
    "    return ('-' + arg)\n",
    "\n",
    "def times(arg):\n",
    "    return ('*' + arg)\n",
    "\n",
    "def divided_by(arg):\n",
    "    return ('//' + arg)\n",
    "\n",
    "print(seven(times(five())), 35)\n",
    "print(four(plus(nine())), 13)\n",
    "print(eight(minus(three())), 5)\n",
    "print(six(divided_by(two())), 3)"
   ]
  },
  {
   "cell_type": "code",
   "execution_count": 21,
   "metadata": {},
   "outputs": [
    {
     "name": "stdout",
     "output_type": "stream",
     "text": [
      "<class 'int'>\n"
     ]
    }
   ],
   "source": [
    "print(type(eval('3' + '+4')))"
   ]
  },
  {
   "cell_type": "markdown",
   "metadata": {},
   "source": [
    "## Binary Addition\n",
    "\n",
    "Implement a function that adds two numbers together and returns their sum in binary. The conversion can be done before, or after the addition.\n",
    "\n",
    "The binary number returned should be a string."
   ]
  },
  {
   "cell_type": "code",
   "execution_count": 28,
   "metadata": {},
   "outputs": [
    {
     "name": "stdout",
     "output_type": "stream",
     "text": [
      "10\n"
     ]
    }
   ],
   "source": [
    "def add_binary(a, b):\n",
    "    return '{0:b}'.format(a + b)\n",
    "\n",
    "print(add_binary(1, 1))"
   ]
  },
  {
   "cell_type": "code",
   "execution_count": 30,
   "metadata": {},
   "outputs": [
    {
     "data": {
      "text/plain": [
       "'0b10'"
      ]
     },
     "execution_count": 30,
     "metadata": {},
     "output_type": "execute_result"
    }
   ],
   "source": [
    "a = 1\n",
    "b = 1\n",
    "\n",
    "bin(a + b)"
   ]
  },
  {
   "cell_type": "markdown",
   "metadata": {},
   "source": [
    "Подсмотрела этот вариант на codewars:"
   ]
  },
  {
   "cell_type": "code",
   "execution_count": 31,
   "metadata": {},
   "outputs": [
    {
     "name": "stdout",
     "output_type": "stream",
     "text": [
      "10\n"
     ]
    }
   ],
   "source": [
    "def add_binary(a, b):\n",
    "    #return str(bin(a) + bin(b)) # '0b10b1'\n",
    "    return bin(a + b)[2:]\n",
    "    \n",
    "print(add_binary(1, 1))"
   ]
  },
  {
   "cell_type": "markdown",
   "metadata": {},
   "source": [
    "Подсмотрела этот вариант на codewars:"
   ]
  },
  {
   "cell_type": "code",
   "execution_count": 32,
   "metadata": {},
   "outputs": [
    {
     "name": "stdout",
     "output_type": "stream",
     "text": [
      "10\n"
     ]
    }
   ],
   "source": [
    "def add_binary(a, b):\n",
    "    return format(a + b, 'b')\n",
    "\n",
    "print(add_binary(1, 1))"
   ]
  },
  {
   "cell_type": "markdown",
   "metadata": {},
   "source": [
    "## The Supermarket Queue\n",
    "\n",
    "There is a queue for the self-checkout tills at the supermarket. Your task is write a function to calculate the total time required for all the customers to check out!\n",
    "\n",
    "input\n",
    "\n",
    "customers: an array of positive integers representing the queue. Each integer represents a customer, and its value is the amount of time they require to check out.\n",
    "\n",
    "n: a positive integer, the number of checkout tills.\n",
    "\n",
    "output\n",
    "\n",
    "The function should return an integer, the total time required.\n",
    "\n",
    "Important\n",
    "\n",
    "Please look at the examples and clarifications below, to ensure you understand the task correctly :)\n",
    "\n",
    "Examples\n",
    "\n",
    "queue_time([5,3,4], 1) # should return 12 because when n=1, the total time is just the sum of the times\n",
    "\n",
    "queue_time([10,2,3,3], 2) # should return 10 because here n=2 and the 2nd, 3rd, and 4th people in the queue finish before the 1st person has finished.\n",
    "\n",
    "queue_time([2,3,10], 2) # should return 12\n",
    "\n",
    "Clarifications\n",
    "\n",
    "There is only ONE queue serving many tills, and\n",
    "The order of the queue NEVER changes, and\n",
    "\n",
    "The front person in the queue (i.e. the first \n",
    "element in the array/list) proceeds to a till as soon as it becomes free.\n",
    "\n",
    "N.B. You should assume that all the test input will be valid, as specified above."
   ]
  },
  {
   "cell_type": "markdown",
   "metadata": {},
   "source": [
    "Вариант 1:"
   ]
  },
  {
   "cell_type": "code",
   "execution_count": 36,
   "metadata": {},
   "outputs": [
    {
     "name": "stdout",
     "output_type": "stream",
     "text": [
      "15 15\n"
     ]
    }
   ],
   "source": [
    "def queue_time(customers, n):\n",
    "    if len(customers) == 0:\n",
    "        return 0\n",
    "    \n",
    "    queue = customers[:n]\n",
    "    for i in range(n, len(customers)):\n",
    "        queue[queue.index(min(queue))] += customers[i]\n",
    "    return max(queue)\n",
    "\n",
    "print(queue_time([1,2,3,4,5], 1), 15)"
   ]
  },
  {
   "cell_type": "markdown",
   "metadata": {},
   "source": [
    "Вариант 2:"
   ]
  },
  {
   "cell_type": "code",
   "execution_count": 37,
   "metadata": {},
   "outputs": [
    {
     "name": "stdout",
     "output_type": "stream",
     "text": [
      "15 15\n"
     ]
    }
   ],
   "source": [
    "def queue_time(customers, n):\n",
    "    if len(customers) == 0:\n",
    "        return 0\n",
    "    \n",
    "    queue = customers[:n]\n",
    "    for cust in customers[n:]:\n",
    "        queue[queue.index(min(queue))] += cust\n",
    "    return max(queue)\n",
    "\n",
    "print(queue_time([1,2,3,4,5], 1), 15)"
   ]
  },
  {
   "cell_type": "markdown",
   "metadata": {},
   "source": [
    "Вариант 3:"
   ]
  },
  {
   "cell_type": "code",
   "execution_count": 40,
   "metadata": {},
   "outputs": [
    {
     "name": "stdout",
     "output_type": "stream",
     "text": [
      "1 2\n"
     ]
    }
   ],
   "source": [
    "a = [4, 3, 1, 4, 1]\n",
    "minim, min_ind = min(((v, i)  for i, v in enumerate(a)))\n",
    "print(minim, min_ind)"
   ]
  },
  {
   "cell_type": "code",
   "execution_count": 43,
   "metadata": {},
   "outputs": [
    {
     "name": "stdout",
     "output_type": "stream",
     "text": [
      "15 15\n"
     ]
    }
   ],
   "source": [
    "def queue_time(customers, n):\n",
    "    if len(customers) == 0:\n",
    "        return 0\n",
    "    \n",
    "    queue = customers[:n]\n",
    "    for cust in customers[n:]:\n",
    "        minim, min_ind = min(((v, i)  for i, v in enumerate(queue)))\n",
    "        queue[min_ind] += cust\n",
    "    return max(queue)\n",
    "\n",
    "print(queue_time([1,2,3,4,5], 1), 15)"
   ]
  },
  {
   "cell_type": "markdown",
   "metadata": {},
   "source": [
    "Вариант 4:"
   ]
  },
  {
   "cell_type": "code",
   "execution_count": 95,
   "metadata": {},
   "outputs": [
    {
     "name": "stdout",
     "output_type": "stream",
     "text": [
      "15 15\n"
     ]
    }
   ],
   "source": [
    "def queue_time(customers, n):\n",
    "    if len(customers) == 0:\n",
    "        return 0\n",
    "    \n",
    "    queue = customers[:n]\n",
    "    for cust in customers[n:]:\n",
    "        min_ind, minim = min(enumerate(queue), key=lambda x: x[1])\n",
    "        queue[min_ind] += cust\n",
    "    return max(queue)\n",
    "\n",
    "print(queue_time([1,2,3,4,5], 1), 15)"
   ]
  },
  {
   "cell_type": "markdown",
   "metadata": {},
   "source": [
    "## String ends with?\n",
    "\n",
    "Complete the solution so that it returns true if the first argument(string) passed in ends with the 2nd argument (also a string).\n",
    "\n",
    "Examples:\n",
    "\n",
    "solution('abc', 'bc') # returns true\n",
    "\n",
    "solution('abc', 'd') # returns false"
   ]
  },
  {
   "cell_type": "code",
   "execution_count": 2,
   "metadata": {},
   "outputs": [
    {
     "name": "stdout",
     "output_type": "stream",
     "text": [
      "True\n",
      "False\n"
     ]
    }
   ],
   "source": [
    "def solution(string, ending):\n",
    "    return string.endswith(ending)\n",
    "\n",
    "print(solution('abc', 'bc')) # returns true\n",
    "print(solution('abc', 'd')) # returns false"
   ]
  },
  {
   "cell_type": "markdown",
   "metadata": {},
   "source": [
    "Решения, взятые с codewars:"
   ]
  },
  {
   "cell_type": "code",
   "execution_count": 3,
   "metadata": {},
   "outputs": [
    {
     "name": "stdout",
     "output_type": "stream",
     "text": [
      "True\n",
      "False\n"
     ]
    }
   ],
   "source": [
    "solution = lambda s, e: s.endswith(e)\n",
    "\n",
    "print(solution('abc', 'bc')) # returns true\n",
    "print(solution('abc', 'd')) # returns false"
   ]
  },
  {
   "cell_type": "code",
   "execution_count": 4,
   "metadata": {},
   "outputs": [
    {
     "name": "stdout",
     "output_type": "stream",
     "text": [
      "True\n",
      "False\n"
     ]
    }
   ],
   "source": [
    "solution = str.endswith\n",
    "\n",
    "print(solution('abc', 'bc')) # returns true\n",
    "print(solution('abc', 'd')) # returns false"
   ]
  },
  {
   "cell_type": "markdown",
   "metadata": {},
   "source": [
    "## Directions Reduction\n",
    "\n",
    "Once upon a time, on a way through the old wild west,…\n",
    "… a man was given directions to go from one point to another. The directions were \"NORTH\", \"SOUTH\", \"WEST\", \"EAST\". Clearly \"NORTH\" and \"SOUTH\" are opposite, \"WEST\" and \"EAST\" too. Going to one direction and coming back the opposite direction is a needless effort. Since this is the wild west, with dreadfull weather and not much water, it's important to save yourself some energy, otherwise you might die of thirst!\n",
    "\n",
    "How I crossed the desert the smart way.\n",
    "The directions given to the man are, for example, the following (depending on the language):\n",
    "\n",
    "[\"NORTH\", \"SOUTH\", \"SOUTH\", \"EAST\", \"WEST\", \"NORTH\", \"WEST\"].\n",
    "\n",
    "or\n",
    "\n",
    "{ \"NORTH\", \"SOUTH\", \"SOUTH\", \"EAST\", \"WEST\", \"NORTH\", \"WEST\" };\n",
    "\n",
    "or\n",
    "\n",
    "[North, South, South, East, West, North, West]\n",
    "\n",
    "You can immediatly see that going \"NORTH\" and then \"SOUTH\" is not reasonable, better stay to the same place! So the task is to give to the man a simplified version of the plan. A better plan in this case is simply:\n",
    "\n",
    "[\"WEST\"]\n",
    "or\n",
    "\n",
    "{ \"WEST\" }\n",
    "or\n",
    "\n",
    "[West]\n",
    "\n",
    "Other examples:\n",
    "\n",
    "In [\"NORTH\", \"SOUTH\", \"EAST\", \"WEST\"], the direction \"NORTH\" + \"SOUTH\" is going north and coming back right away. What a waste of time! Better to do nothing.\n",
    "\n",
    "The path becomes [\"EAST\", \"WEST\"], now \"EAST\" and \"WEST\" annihilate each other, therefore, the final result is [] (nil in Clojure).\n",
    "\n",
    "In [\"NORTH\", \"EAST\", \"WEST\", \"SOUTH\", \"WEST\", \"WEST\"], \"NORTH\" and \"SOUTH\" are not directly opposite but they become directly opposite after the reduction of \"EAST\" and \"WEST\" so the whole path is reducible to [\"WEST\", \"WEST\"].\n",
    "\n",
    "Task\n",
    "\n",
    "Write a function dirReduc which will take an array of strings and returns an array of strings with the needless directions removed (W<->E or S<->N side by side).\n",
    "\n",
    "The Haskell version takes a list of directions with data Direction = North | East | West | South.\n",
    "The Clojure version returns nil when the path is reduced to nothing.\n",
    "The Rust version takes a slice of enum Direction {NORTH, SOUTH, EAST, WEST}.\n",
    "\n",
    "See more examples in \"Sample Tests:\"\n",
    "\n",
    "Notes\n",
    "\n",
    "Not all paths can be made simpler. The path [\"NORTH\", \"WEST\", \"SOUTH\", \"EAST\"] is not reducible. \"NORTH\" and \"WEST\", \"WEST\" and \"SOUTH\", \"SOUTH\" and \"EAST\" are not directly opposite of each other and can't become such. Hence the result path is itself : [\"NORTH\", \"WEST\", \"SOUTH\", \"EAST\"].\n",
    "\n",
    "if you want to translate, please ask before translating."
   ]
  },
  {
   "cell_type": "code",
   "execution_count": 6,
   "metadata": {},
   "outputs": [
    {
     "ename": "IndexError",
     "evalue": "pop from empty list",
     "output_type": "error",
     "traceback": [
      "\u001b[1;31m---------------------------------------------------------------------------\u001b[0m",
      "\u001b[1;31mIndexError\u001b[0m                                Traceback (most recent call last)",
      "\u001b[1;32m<ipython-input-6-8fd4b3b9e7ab>\u001b[0m in \u001b[0;36m<module>\u001b[1;34m\u001b[0m\n\u001b[0;32m      1\u001b[0m \u001b[0ma\u001b[0m \u001b[1;33m=\u001b[0m \u001b[1;33m[\u001b[0m\u001b[1;33m]\u001b[0m\u001b[1;33m\u001b[0m\u001b[1;33m\u001b[0m\u001b[0m\n\u001b[0;32m      2\u001b[0m \u001b[1;31m#print(a[len(a) - 1])\u001b[0m\u001b[1;33m\u001b[0m\u001b[1;33m\u001b[0m\u001b[1;33m\u001b[0m\u001b[0m\n\u001b[1;32m----> 3\u001b[1;33m \u001b[0ma\u001b[0m\u001b[1;33m.\u001b[0m\u001b[0mpop\u001b[0m\u001b[1;33m(\u001b[0m\u001b[1;33m)\u001b[0m\u001b[1;33m\u001b[0m\u001b[1;33m\u001b[0m\u001b[0m\n\u001b[0m",
      "\u001b[1;31mIndexError\u001b[0m: pop from empty list"
     ]
    }
   ],
   "source": [
    "a = []\n",
    "#print(a[len(a) - 1])\n",
    "a.pop()"
   ]
  },
  {
   "cell_type": "markdown",
   "metadata": {},
   "source": [
    "Вариант 1:"
   ]
  },
  {
   "cell_type": "code",
   "execution_count": 11,
   "metadata": {},
   "outputs": [
    {
     "data": {
      "text/plain": [
       "['WEST']"
      ]
     },
     "execution_count": 11,
     "metadata": {},
     "output_type": "execute_result"
    }
   ],
   "source": [
    "def dirReduc(arr):\n",
    "    stack = []\n",
    "    for direct in arr:\n",
    "        direct = direct.upper()\n",
    "        if len(stack) != 0:\n",
    "            prevDirect = stack[-1]\n",
    "            if direct == 'NORTH' and prevDirect == 'SOUTH' \\\n",
    "                or direct == 'SOUTH' and prevDirect == 'NORTH' \\\n",
    "                    or direct == 'WEST' and prevDirect == 'EAST' \\\n",
    "                        or direct == 'EAST' and prevDirect == 'WEST':\n",
    "                            stack.pop()\n",
    "            else:\n",
    "                stack.append(direct)        \n",
    "        else:\n",
    "            stack.append(direct)\n",
    "    return stack\n",
    "\n",
    "dirReduc([\"NORTH\", \"SOUTH\", \"SOUTH\", \"EAST\", \"WEST\", \"NORTH\", \"WEST\"])"
   ]
  },
  {
   "cell_type": "markdown",
   "metadata": {},
   "source": [
    "Вариант 2:"
   ]
  },
  {
   "cell_type": "code",
   "execution_count": 12,
   "metadata": {},
   "outputs": [
    {
     "data": {
      "text/plain": [
       "['WEST']"
      ]
     },
     "execution_count": 12,
     "metadata": {},
     "output_type": "execute_result"
    }
   ],
   "source": [
    "def dirReduc(arr):\n",
    "    stack = []\n",
    "    for direct in arr:\n",
    "        direct = direct.upper()\n",
    "        opposDir = {'NORTH':'SOUTH', 'SOUTH':'NORTH', 'WEST':'EAST', 'EAST':'WEST'}\n",
    "        if len(stack) != 0:\n",
    "            prevDirect = stack[-1]\n",
    "            if opposDir[direct] == prevDirect:\n",
    "                stack.pop()\n",
    "            else:\n",
    "                stack.append(direct)        \n",
    "        else:\n",
    "            stack.append(direct)\n",
    "    return stack\n",
    "\n",
    "dirReduc([\"NORTH\", \"SOUTH\", \"SOUTH\", \"EAST\", \"WEST\", \"NORTH\", \"WEST\"])"
   ]
  },
  {
   "cell_type": "markdown",
   "metadata": {},
   "source": [
    "## Mumbling\n",
    "https://www.codewars.com/kata/5667e8f4e3f572a8f2000039\n",
    "7 kyu\n",
    "\n",
    "This time no story, no theory. The examples below show you how to write function accum:\n",
    "\n",
    "Examples:\n",
    "\n",
    "accum(\"abcd\") -> \"A-Bb-Ccc-Dddd\"  \n",
    "accum(\"RqaEzty\") -> \"R-Qq-Aaa-Eeee-Zzzzz-Tttttt-Yyyyyyy\"  \n",
    "accum(\"cwAt\") -> \"C-Ww-Aaa-Tttt\"\n",
    "\n",
    "The parameter of accum is a string which includes only letters from a..z and A..Z."
   ]
  },
  {
   "cell_type": "code",
   "execution_count": 13,
   "metadata": {},
   "outputs": [
    {
     "name": "stdout",
     "output_type": "stream",
     "text": [
      "A-Bb-Ccc-Dddd\n",
      "R-Qq-Aaa-Eeee-Zzzzz-Tttttt-Yyyyyyy\n",
      "C-Ww-Aaa-Tttt\n"
     ]
    }
   ],
   "source": [
    "def accum(s):\n",
    "    res = []\n",
    "    for i in range(len(s)):\n",
    "        res.append(((i + 1) * s[i]).title())\n",
    "    return '-'.join(res)\n",
    "\n",
    "print(accum(\"abcd\")) # \"A-Bb-Ccc-Dddd\"\n",
    "print(accum(\"RqaEzty\")) # \"R-Qq-Aaa-Eeee-Zzzzz-Tttttt-Yyyyyyy\"\n",
    "print(accum(\"cwAt\")) # \"C-Ww-Aaa-Tttt\""
   ]
  },
  {
   "cell_type": "markdown",
   "metadata": {},
   "source": [
    "То же самое решение, но только с исользованием метода str.capitalize(), который больше подходит для одного слова, в отличии от title, который может обрабатывать несколько слов в тексте:"
   ]
  },
  {
   "cell_type": "code",
   "execution_count": 28,
   "metadata": {},
   "outputs": [
    {
     "name": "stdout",
     "output_type": "stream",
     "text": [
      "A-Bb-Ccc-Dddd\n",
      "R-Qq-Aaa-Eeee-Zzzzz-Tttttt-Yyyyyyy\n",
      "C-Ww-Aaa-Tttt\n"
     ]
    }
   ],
   "source": [
    "def accum(s):\n",
    "    res = []\n",
    "    for i in range(len(s)):\n",
    "        res.append(((i + 1) * s[i]).capitalize())\n",
    "    return '-'.join(res)\n",
    "\n",
    "print(accum(\"abcd\")) # \"A-Bb-Ccc-Dddd\"\n",
    "print(accum(\"RqaEzty\")) # \"R-Qq-Aaa-Eeee-Zzzzz-Tttttt-Yyyyyyy\"\n",
    "print(accum(\"cwAt\")) # \"C-Ww-Aaa-Tttt\""
   ]
  },
  {
   "cell_type": "code",
   "execution_count": 18,
   "metadata": {},
   "outputs": [
    {
     "name": "stdout",
     "output_type": "stream",
     "text": [
      "(0, 'd')\n",
      "(1, 'h')\n",
      "(2, 'd')\n",
      "(3, 'd')\n"
     ]
    }
   ],
   "source": [
    "c = 'dhdd'\n",
    "for a in enumerate(c):\n",
    "    print(a)"
   ]
  },
  {
   "cell_type": "code",
   "execution_count": 20,
   "metadata": {},
   "outputs": [
    {
     "name": "stdout",
     "output_type": "stream",
     "text": [
      "(1, 'd')\n",
      "(2, 'h')\n",
      "(3, 'd')\n",
      "(4, 'd')\n"
     ]
    }
   ],
   "source": [
    "c = 'dhdd'\n",
    "for a in enumerate(c, 1):\n",
    "    print(a)"
   ]
  },
  {
   "cell_type": "code",
   "execution_count": 21,
   "metadata": {},
   "outputs": [
    {
     "name": "stdout",
     "output_type": "stream",
     "text": [
      "(2, 'd')\n",
      "(3, 'h')\n",
      "(4, 'd')\n",
      "(5, 'd')\n"
     ]
    }
   ],
   "source": [
    "c = 'dhdd'\n",
    "for a in enumerate(c, 2):\n",
    "    print(a)"
   ]
  },
  {
   "cell_type": "code",
   "execution_count": 22,
   "metadata": {},
   "outputs": [
    {
     "data": {
      "text/plain": [
       "'Dhsdh-Ghhhdf-Hhh-H-Bh-Jjd'"
      ]
     },
     "execution_count": 22,
     "metadata": {},
     "output_type": "execute_result"
    }
   ],
   "source": [
    "s = 'dhsdH-ghhHdf-hhH-h-Bh-jjd'\n",
    "s.title()"
   ]
  },
  {
   "cell_type": "code",
   "execution_count": 26,
   "metadata": {},
   "outputs": [
    {
     "data": {
      "text/plain": [
       "'Dhsdh-ghhhdf-hhh-h-bh-jjd'"
      ]
     },
     "execution_count": 26,
     "metadata": {},
     "output_type": "execute_result"
    }
   ],
   "source": [
    "s = 'dhsdH-ghhHdf-hhH-h-Bh-jjd'\n",
    "s.capitalize()"
   ]
  },
  {
   "cell_type": "markdown",
   "metadata": {},
   "source": [
    "Подсмотрела этот вариант на codewars:"
   ]
  },
  {
   "cell_type": "code",
   "execution_count": 27,
   "metadata": {},
   "outputs": [
    {
     "name": "stdout",
     "output_type": "stream",
     "text": [
      "A-Bb-Ccc-Dddd\n",
      "R-Qq-Aaa-Eeee-Zzzzz-Tttttt-Yyyyyyy\n",
      "C-Ww-Aaa-Tttt\n"
     ]
    }
   ],
   "source": [
    "def accum(s):\n",
    "    return '-'.join(c.upper() + i * c.lower() for i, c in enumerate(s))\n",
    "\n",
    "print(accum(\"abcd\")) # \"A-Bb-Ccc-Dddd\"\n",
    "print(accum(\"RqaEzty\")) # \"R-Qq-Aaa-Eeee-Zzzzz-Tttttt-Yyyyyyy\"\n",
    "print(accum(\"cwAt\")) # \"C-Ww-Aaa-Tttt\""
   ]
  },
  {
   "cell_type": "markdown",
   "metadata": {},
   "source": [
    "Don't we have to surround exprssion inside join() with square brackets since it is a list comprehension? Isn't it an error?\n",
    "\n",
    "No. join takes an iterable as argument, which includes generators. (c.upper() + c.lower() * i for i, c in enumerate(s)) is a generator comprehension and can be passed as an argument to join. There is a syntactic rule in Python that says that when a generator comprehension is the only argument in a function call, then the parenthesis of the generator comprehension may be dropped (so instead of '-'.join((c.upper() + c.lower() * i for i, c in enumerate(s))), you may write '-'.join(c.upper() + c.lower() * i for i, c in enumerate(s))). Using a generator comprehension instead of a list comprehension is often preferable since it doesn't require a list as an intermediate data structure."
   ]
  },
  {
   "cell_type": "markdown",
   "metadata": {},
   "source": [
    "Подсмотрела этот вариант на codewars:"
   ]
  },
  {
   "cell_type": "code",
   "execution_count": 24,
   "metadata": {},
   "outputs": [
    {
     "name": "stdout",
     "output_type": "stream",
     "text": [
      "A-Bb-Ccc-Dddd\n",
      "R-Qq-Aaa-Eeee-Zzzzz-Tttttt-Yyyyyyy\n",
      "C-Ww-Aaa-Tttt\n"
     ]
    }
   ],
   "source": [
    "def accum(s):\n",
    "    return '-'.join((i * c).title() for i, c in enumerate(s, 1))\n",
    "\n",
    "print(accum(\"abcd\")) # \"A-Bb-Ccc-Dddd\"\n",
    "print(accum(\"RqaEzty\")) # \"R-Qq-Aaa-Eeee-Zzzzz-Tttttt-Yyyyyyy\"\n",
    "print(accum(\"cwAt\")) # \"C-Ww-Aaa-Tttt\""
   ]
  },
  {
   "cell_type": "code",
   "execution_count": 2,
   "metadata": {},
   "outputs": [
    {
     "name": "stdout",
     "output_type": "stream",
     "text": [
      "2\n"
     ]
    },
    {
     "ename": "TypeError",
     "evalue": "'int' object is not callable",
     "output_type": "error",
     "traceback": [
      "\u001b[1;31m---------------------------------------------------------------------------\u001b[0m",
      "\u001b[1;31mTypeError\u001b[0m                                 Traceback (most recent call last)",
      "\u001b[1;32m<ipython-input-2-d76d91621865>\u001b[0m in \u001b[0;36m<module>\u001b[1;34m\u001b[0m\n\u001b[0;32m      2\u001b[0m \u001b[0maddTwo\u001b[0m \u001b[1;33m=\u001b[0m \u001b[0madd\u001b[0m\u001b[1;33m(\u001b[0m\u001b[1;36m2\u001b[0m\u001b[1;33m)\u001b[0m\u001b[1;33m\u001b[0m\u001b[1;33m\u001b[0m\u001b[0m\n\u001b[0;32m      3\u001b[0m \u001b[0mprint\u001b[0m\u001b[1;33m(\u001b[0m\u001b[0maddTwo\u001b[0m\u001b[1;33m)\u001b[0m\u001b[1;33m\u001b[0m\u001b[1;33m\u001b[0m\u001b[0m\n\u001b[1;32m----> 4\u001b[1;33m \u001b[0madd\u001b[0m\u001b[1;33m(\u001b[0m\u001b[1;36m3\u001b[0m\u001b[1;33m)\u001b[0m\u001b[1;33m(\u001b[0m\u001b[1;36m4\u001b[0m\u001b[1;33m)\u001b[0m\u001b[1;33m\u001b[0m\u001b[1;33m\u001b[0m\u001b[0m\n\u001b[0m",
      "\u001b[1;31mTypeError\u001b[0m: 'int' object is not callable"
     ]
    }
   ],
   "source": [
    "add = lambda x: x \n",
    "addTwo = add(2)\n",
    "print(addTwo)\n",
    "add(3)(4)"
   ]
  },
  {
   "cell_type": "code",
   "execution_count": 11,
   "metadata": {},
   "outputs": [
    {
     "name": "stdout",
     "output_type": "stream",
     "text": [
      "<function add.<locals>.<lambda> at 0x000000000596BAE8>\n",
      "4\n"
     ]
    },
    {
     "ename": "TypeError",
     "evalue": "'int' object is not callable",
     "output_type": "error",
     "traceback": [
      "\u001b[1;31m---------------------------------------------------------------------------\u001b[0m",
      "\u001b[1;31mTypeError\u001b[0m                                 Traceback (most recent call last)",
      "\u001b[1;32m<ipython-input-11-f740113b555c>\u001b[0m in \u001b[0;36m<module>\u001b[1;34m\u001b[0m\n\u001b[0;32m      4\u001b[0m \u001b[0mprint\u001b[0m\u001b[1;33m(\u001b[0m\u001b[0maddTwo\u001b[0m\u001b[1;33m)\u001b[0m\u001b[1;33m\u001b[0m\u001b[1;33m\u001b[0m\u001b[0m\n\u001b[0;32m      5\u001b[0m \u001b[0mprint\u001b[0m\u001b[1;33m(\u001b[0m\u001b[0madd\u001b[0m\u001b[1;33m(\u001b[0m\u001b[1;36m3\u001b[0m\u001b[1;33m)\u001b[0m\u001b[1;33m(\u001b[0m\u001b[1;36m4\u001b[0m\u001b[1;33m)\u001b[0m\u001b[1;33m)\u001b[0m\u001b[1;33m\u001b[0m\u001b[1;33m\u001b[0m\u001b[0m\n\u001b[1;32m----> 6\u001b[1;33m \u001b[0mprint\u001b[0m\u001b[1;33m(\u001b[0m\u001b[0madd\u001b[0m\u001b[1;33m(\u001b[0m\u001b[1;36m3\u001b[0m\u001b[1;33m)\u001b[0m\u001b[1;33m(\u001b[0m\u001b[1;36m4\u001b[0m\u001b[1;33m)\u001b[0m\u001b[1;33m(\u001b[0m\u001b[1;36m1\u001b[0m\u001b[1;33m)\u001b[0m\u001b[1;33m)\u001b[0m\u001b[1;33m\u001b[0m\u001b[1;33m\u001b[0m\u001b[0m\n\u001b[0m",
      "\u001b[1;31mTypeError\u001b[0m: 'int' object is not callable"
     ]
    }
   ],
   "source": [
    "def add(x):\n",
    "    return lambda x: x \n",
    "addTwo = add(2)\n",
    "print(addTwo)\n",
    "print(add(3)(4))\n",
    "print(add(3)(4)(1))"
   ]
  },
  {
   "cell_type": "code",
   "execution_count": 10,
   "metadata": {},
   "outputs": [
    {
     "name": "stdout",
     "output_type": "stream",
     "text": [
      "<function add at 0x000000000596BA60>\n"
     ]
    }
   ],
   "source": [
    "def add(x):\n",
    "    return add\n",
    "\n",
    "addTwo = add(2)\n",
    "print(addTwo)"
   ]
  },
  {
   "cell_type": "markdown",
   "metadata": {},
   "source": [
    "## Duplicate Encoder\n",
    "\n",
    "The goal of this exercise is to convert a string to a new string where each character in the new string is \"(\" if that character appears only once in the original string, or \")\" if that character appears more than once in the original string. Ignore capitalization when determining if a character is a duplicate.\n",
    "\n",
    "Examples\n",
    "\n",
    "\"din\"      =>  \"(((\"\n",
    "\n",
    "\"recede\"   =>  \"()()()\"\n",
    "\n",
    "\"Success\"  =>  \")())())\"\n",
    "\n",
    "\"(( @\"     =>  \"))((\" \n",
    "Notes\n",
    "\n",
    "Assertion messages may be unclear about what they display in some languages. If you read \"...It Should encode XXX\", the \"XXX\" is the expected result, not the input!"
   ]
  },
  {
   "cell_type": "markdown",
   "metadata": {},
   "source": [
    "Вариант 1:"
   ]
  },
  {
   "cell_type": "code",
   "execution_count": 14,
   "metadata": {},
   "outputs": [
    {
     "name": "stdout",
     "output_type": "stream",
     "text": [
      "(((\n",
      "()()()\n",
      ")())())\n",
      "))((\n",
      ")))(()\n"
     ]
    }
   ],
   "source": [
    "def duplicate_encode(word):\n",
    "    res = ''\n",
    "    word = word.lower()\n",
    "    for c in word:\n",
    "        if word.count(c) == 1:\n",
    "            res += '('\n",
    "        else:\n",
    "            res += ')'\n",
    "    return res\n",
    "\n",
    "print(duplicate_encode(\"din\"))      #  \"(((\"\n",
    "print(duplicate_encode(\"recede\"))   #  \"()()()\"\n",
    "print(duplicate_encode(\"Success\"))  #  \")())())\"\n",
    "print(duplicate_encode(\"(( @\"))     #  \"))((\" \n",
    "print(duplicate_encode(\"сиськи\")) "
   ]
  },
  {
   "cell_type": "markdown",
   "metadata": {},
   "source": [
    "Вариант 2:"
   ]
  },
  {
   "cell_type": "code",
   "execution_count": 17,
   "metadata": {},
   "outputs": [
    {
     "name": "stdout",
     "output_type": "stream",
     "text": [
      "(((\n",
      "()()()\n",
      ")())())\n",
      "))((\n",
      ")))(()\n"
     ]
    }
   ],
   "source": [
    "def duplicate_encode(word):\n",
    "    word = word.lower()\n",
    "    res = ['(' if word.count(c) == 1 else ')' for c in word]\n",
    "    return ''.join(res)\n",
    "\n",
    "print(duplicate_encode(\"din\"))      #  \"(((\"\n",
    "print(duplicate_encode(\"recede\"))   #  \"()()()\"\n",
    "print(duplicate_encode(\"Success\"))  #  \")())())\"\n",
    "print(duplicate_encode(\"(( @\"))     #  \"))((\" \n",
    "print(duplicate_encode(\"сиськи\")) "
   ]
  },
  {
   "cell_type": "markdown",
   "metadata": {},
   "source": [
    "## Highest Scoring Word\n",
    "\n",
    "Each letter of a word scores points according to its position in the alphabet: a = 1, b = 2, c = 3 etc.\n",
    "\n",
    "You need to return the highest scoring word as a string.\n",
    "\n",
    "If two words score the same, return the word that appears earliest in the original string.\n",
    "\n",
    "All letters will be lowercase and all inputs will be valid."
   ]
  },
  {
   "cell_type": "code",
   "execution_count": 61,
   "metadata": {},
   "outputs": [
    {
     "data": {
      "text/plain": [
       "[('f', [1, 5]), ('c', [3, 6]), ('a', [0, 6])]"
      ]
     },
     "execution_count": 61,
     "metadata": {},
     "output_type": "execute_result"
    }
   ],
   "source": [
    "D = {'c':[3, 6], 'a':[0, 6], 'f':[1,  5]}\n",
    "#sorted(D.items())\n",
    "#sorted(D.items(), key=lambda item: item[1])\n",
    "#sorted(D.items(), key=lambda item: item[1][1])\n",
    "sorted(sorted(D.items(), key=lambda item: item[1][0], reverse=True), key=lambda item: item[1][1])"
   ]
  },
  {
   "cell_type": "code",
   "execution_count": 31,
   "metadata": {},
   "outputs": [
    {
     "data": {
      "text/plain": [
       "97"
      ]
     },
     "execution_count": 31,
     "metadata": {},
     "output_type": "execute_result"
    }
   ],
   "source": [
    "ord('a')"
   ]
  },
  {
   "cell_type": "markdown",
   "metadata": {},
   "source": [
    "Вариант 1:"
   ]
  },
  {
   "cell_type": "code",
   "execution_count": 63,
   "metadata": {
    "scrolled": true
   },
   "outputs": [
    {
     "name": "stdout",
     "output_type": "stream",
     "text": [
      "lxjcgtkulx\n",
      "volcano\n",
      "hhhhj\n",
      "volcano\n"
     ]
    }
   ],
   "source": [
    "def high(x):\n",
    "    score = {}\n",
    "    i = 0\n",
    "    for word in x.split():\n",
    "        if word not in score:\n",
    "            score[word] = [i, sum(ord(c) - 96 for c in word)]\n",
    "            i += 1\n",
    "    return sorted(sorted(score.items(), key=lambda item: item[1][0], reverse=True), key=lambda item: item[1][1])[-1][0]\n",
    "    #return sorted(sorted(score.items(), key=lambda item: item[1][0], reverse=True), key=lambda item: item[1][1])\n",
    "\n",
    "print(high('lxjcgtkulx ccrtwzaqpq'))\n",
    "print(high('volcano climbing'))\n",
    "print(high('hhhhj gggr hhhhj'))\n",
    "print(high('what time are we climbing up the volcano'))"
   ]
  },
  {
   "cell_type": "markdown",
   "metadata": {},
   "source": [
    "Вариант 2:"
   ]
  },
  {
   "cell_type": "code",
   "execution_count": 69,
   "metadata": {},
   "outputs": [
    {
     "name": "stdout",
     "output_type": "stream",
     "text": [
      "lxjcgtkulx\n",
      "volcano\n",
      "hhhhj\n",
      "volcano\n"
     ]
    }
   ],
   "source": [
    "def high(x):\n",
    "    score = {}\n",
    "    for word in x.split()[::-1]:\n",
    "        #if word not in score.values():\n",
    "            #score[sum(ord(c) - 96 for c in word)] = word\n",
    "        score[sum(ord(c) - 96 for c in word)] = word\n",
    "    return sorted(score.items())[-1][1]\n",
    "\n",
    "print(high('lxjcgtkulx ccrtwzaqpq'))\n",
    "print(high('volcano climbing'))\n",
    "print(high('hhhhj gggr hhhhj'))\n",
    "print(high('what time are we climbing up the volcano'))"
   ]
  },
  {
   "cell_type": "markdown",
   "metadata": {},
   "source": [
    "Решения, подсмотренные на codewars:"
   ]
  },
  {
   "cell_type": "code",
   "execution_count": 77,
   "metadata": {},
   "outputs": [
    {
     "name": "stdout",
     "output_type": "stream",
     "text": [
      "lxjcgtkulx\n",
      "volcano\n",
      "hhhhj\n",
      "volcano\n"
     ]
    }
   ],
   "source": [
    "def high(x):\n",
    "    return max(x.split(), key=lambda word: sum(ord(c) - 96 for c in word))\n",
    "\n",
    "print(high('lxjcgtkulx ccrtwzaqpq'))\n",
    "print(high('volcano climbing'))\n",
    "print(high('hhhhj gggr hhhhj'))\n",
    "print(high('what time are we climbing up the volcano'))"
   ]
  },
  {
   "cell_type": "code",
   "execution_count": 82,
   "metadata": {},
   "outputs": [
    {
     "name": "stdout",
     "output_type": "stream",
     "text": [
      "lxjcgtkulx\n",
      "volcano\n",
      "hhhhj\n",
      "volcano\n"
     ]
    }
   ],
   "source": [
    "def high(x):\n",
    "    x = x.split()\n",
    "    scores = [sum(ord(c) - 96 for c in word) for word in x]\n",
    "    return x[scores.index(max(scores))]\n",
    " \n",
    "print(high('lxjcgtkulx ccrtwzaqpq'))\n",
    "print(high('volcano climbing'))\n",
    "print(high('hhhhj gggr hhhhj'))\n",
    "print(high('what time are we climbing up the volcano'))"
   ]
  },
  {
   "cell_type": "code",
   "execution_count": 102,
   "metadata": {},
   "outputs": [
    {
     "name": "stdout",
     "output_type": "stream",
     "text": [
      "lxjcgtkulx\n",
      "volcano\n",
      "hhhhj\n",
      "volcano\n"
     ]
    }
   ],
   "source": [
    "def high(x):\n",
    "    x = x.split()\n",
    "    scores = enumerate([sum(ord(c) - 96 for c in word) for word in x])\n",
    "    #print(scores) # <enumerate object at 0x000000000589A6C0>\n",
    "    return x[max(scores, key= lambda y: y[1])[0]]\n",
    " \n",
    "print(high('lxjcgtkulx ccrtwzaqpq'))\n",
    "print(high('volcano climbing'))\n",
    "print(high('hhhhj gggr hhhhj'))\n",
    "print(high('what time are we climbing up the volcano'))"
   ]
  },
  {
   "cell_type": "code",
   "execution_count": 112,
   "metadata": {},
   "outputs": [
    {
     "name": "stdout",
     "output_type": "stream",
     "text": [
      "lxjcgtkulx\n",
      "volcano\n",
      "hhhhj\n",
      "volcano\n"
     ]
    }
   ],
   "source": [
    "def high(x):\n",
    "    return max((sum(ord(c) - 96 for c in word), word) for word in x.split())[1]\n",
    " \n",
    "print(high('lxjcgtkulx ccrtwzaqpq'))\n",
    "print(high('volcano climbing'))\n",
    "print(high('hhhhj gggr hhhhj'))\n",
    "print(high('what time are we climbing up the volcano'))"
   ]
  },
  {
   "cell_type": "code",
   "execution_count": 113,
   "metadata": {},
   "outputs": [
    {
     "name": "stdout",
     "output_type": "stream",
     "text": [
      "YES\n",
      "NO\n",
      "NO\n"
     ]
    }
   ],
   "source": [
    "def tickets(bills):\n",
    "    change = {25:0, 50:0}\n",
    "    for bill in bills:\n",
    "        if bill == 25:\n",
    "            change[25] += 1\n",
    "        elif bill == 50:\n",
    "            if change[25] >= 1:\n",
    "                change[50] += 1\n",
    "                change[25] -= 1\n",
    "            else:\n",
    "                return 'NO'\n",
    "        elif bill == 100:\n",
    "            if change[50] >= 1 and change[25] >= 1:\n",
    "                change[50] -= 1\n",
    "                change[25] -= 1\n",
    "            elif change[25] >= 3:\n",
    "                change[25] -= 3\n",
    "            else:\n",
    "                return 'NO'\n",
    "    return 'YES'\n",
    "\n",
    "print(tickets([25, 25, 50])) # => YES \n",
    "print(tickets([25, 100])) # => NO. Vasya will not have enough money to give change to 100 dollars\n",
    "print(tickets([25, 25, 50, 50, 100])) # => NO. Vasya will not have the right bills to give 75 dollars of change (you can't make two bills of 25 from one of 50)"
   ]
  },
  {
   "cell_type": "markdown",
   "metadata": {},
   "source": [
    "## The Deaf Rats of Hamelin\n",
    "Story\n",
    "\n",
    "The Pied Piper has been enlisted to play his magical tune and coax all the rats out of town.\n",
    "\n",
    "But some of the rats are deaf and are going the wrong way!\n",
    "\n",
    "Kata Task\n",
    "How many deaf rats are there?"
   ]
  },
  {
   "cell_type": "raw",
   "metadata": {},
   "source": [
    "Legend\n",
    "P = The Pied Piper\n",
    "O~ = Rat going left\n",
    "~O = Rat going right"
   ]
  },
  {
   "cell_type": "raw",
   "metadata": {},
   "source": [
    "Example\n",
    "ex1 ~O~O~O~O P has 0 deaf rats\n",
    "ex2 P O~ O~ ~O O~ has 1 deaf rat\n",
    "ex3 ~O~O~O~OP~O~OO~ has 2 deaf rats"
   ]
  },
  {
   "cell_type": "code",
   "execution_count": null,
   "metadata": {},
   "outputs": [],
   "source": [
    "def count_deaf_rats(town):\n",
    "    deaf = 0\n",
    "    left, P, right = town.partition('P')\n",
    "    left = ''.join((left.split()))\n",
    "    right = ''.join((right.split()))\n",
    "    for i in range(0, len(left), 2):\n",
    "        if left[i:i + 2] == 'O~':\n",
    "            deaf += 1\n",
    "    for i in range(0, len(right), 2):\n",
    "        if right[i:i + 2] == '~O':\n",
    "            deaf += 1\n",
    "    return deaf    "
   ]
  },
  {
   "cell_type": "code",
   "execution_count": 5,
   "metadata": {},
   "outputs": [
    {
     "data": {
      "text/plain": [
       "'fsdggs'"
      ]
     },
     "execution_count": 5,
     "metadata": {},
     "output_type": "execute_result"
    }
   ],
   "source": [
    "a = 'fsdggs'\n",
    "''.join((a.split()))"
   ]
  },
  {
   "cell_type": "code",
   "execution_count": null,
   "metadata": {},
   "outputs": [],
   "source": [
    "def count_deaf_rats(town):\n",
    "    deaf = 0\n",
    "    left, P, right = town.partition('P')\n",
    "    left = ''.join((left.split()))\n",
    "    right = ''.join((right.split()))\n",
    "    for i in range(0, len(left), 2):\n",
    "        if left[i:i + 2] == 'O~':\n",
    "            deaf += 1\n",
    "    for i in range(0, len(right), 2):\n",
    "        if right[i:i + 2] == '~O':\n",
    "            deaf += 1\n",
    "    return deaf  "
   ]
  },
  {
   "cell_type": "code",
   "execution_count": 10,
   "metadata": {},
   "outputs": [
    {
     "name": "stdout",
     "output_type": "stream",
     "text": [
      "2\n"
     ]
    }
   ],
   "source": [
    "a = ['ab', 'ba', 'ab', 'ba']\n",
    "print(a.count('ba'))"
   ]
  },
  {
   "cell_type": "markdown",
   "metadata": {},
   "source": [
    "## Hidden \"Cubic\" numbers\n",
    "We search non-negative integer numbers, with at most 3 digits, such as the sum of the cubes of their digits is the number itself; we will call them \"cubic\" numbers.\n",
    "\n",
    "153 is such a \"cubic\" number : 1^3 + 5^3 + 3^3 = 153\n",
    "These \"cubic\" numbers of at most 3 digits are easy to find, even by hand, so they are \"hidden\" with other numbers and characters in a string.\n",
    "\n",
    "The task is to found, or not, the \"cubic\" numbers in the string and then to make the sum of these \"cubic\" numbers found in the string, if any, and to return a string such as:\n",
    "\n",
    "\"number1 number2 (and so on if necessary) sumOfCubicNumbers Lucky\" \n",
    "if \"cubic\" numbers number1, number2, ... were found. The numbers in the output are to be in the order in which they are encountered in the input string.\n",
    "\n",
    "If no cubic numbers are found return the string:\n",
    "\n",
    "\"Unlucky\".\n",
    "Examples:\n",
    "\n",
    " s = \"aqdf& 0 1 xyz 153 777.777\" must return \"0 1 153 154 Lucky\"\n",
    "\n",
    " s = \"QK29 45[&erui\" must return \"Unlucky\".\n",
    " \n",
    "Note: In the string \"001234\" where 3 digits or more follow each other the fist packet to examine is \"001\" and the following is \"234\". If a packet of at most three digits has been taken, whether or not \"cubic\", it's over for that packet.\n",
    "\n",
    "When a continous string of digits exceeds 3, the string is split into groups of 3 from the left. The last grouping could have 3, 2 or 1 digits. e.g \"24172410\" becomes 3 strings comprising \"241\", \"724\" and \"10\" e.g \"0785\" becomes 2 strings comprising \"078\" and \"5\"."
   ]
  },
  {
   "cell_type": "markdown",
   "metadata": {},
   "source": [
    "Вариант 1:"
   ]
  },
  {
   "cell_type": "code",
   "execution_count": 21,
   "metadata": {},
   "outputs": [
    {
     "name": "stdout",
     "output_type": "stream",
     "text": [
      "0 0 Lucky\n",
      "Unlucky\n",
      "0 1 153 154 Lucky\n",
      "Unlucky\n"
     ]
    }
   ],
   "source": [
    "import re\n",
    "\n",
    "def is_sum_of_cubes(s):\n",
    "    nums = [num for num in re.findall(r'\\d{1,3}', s) if sum(int(d)**3 for d in num) == int(num)] # r'\\d{1,}' = r'\\d+'\n",
    "    if len(nums) > 0:\n",
    "        return ' '.join(nums) + ' ' + str(sum(int(num) for num in nums)) + ' Lucky'\n",
    "    return \"Unlucky\"\n",
    "\n",
    "print(is_sum_of_cubes(\"0 9026315 -827&()\"))\n",
    "print(is_sum_of_cubes(\"No numbers!\"))\n",
    "print(is_sum_of_cubes(\"aqdf& 0 1 xyz 153 777.777\"))\n",
    "print(is_sum_of_cubes(\"QK29 45[&erui\"))"
   ]
  },
  {
   "cell_type": "markdown",
   "metadata": {},
   "source": [
    "Переписала вариант 1, сделав его чуть более понятным, и сократив количество действий, но вариант 1 всё-равно кажется более приятным:"
   ]
  },
  {
   "cell_type": "code",
   "execution_count": 29,
   "metadata": {},
   "outputs": [
    {
     "name": "stdout",
     "output_type": "stream",
     "text": [
      "0 0 Lucky\n",
      "Unlucky\n",
      "0 1 153 154 Lucky\n",
      "Unlucky\n"
     ]
    }
   ],
   "source": [
    "import re\n",
    "\n",
    "def is_sum_of_cubes(s):\n",
    "    resStr = ''\n",
    "    summ = 0\n",
    "    for snum in re.findall(r'\\d{1,3}', s):\n",
    "        num = int(snum)\n",
    "        if sum(int(d)**3 for d in snum) == num:\n",
    "            resStr += snum + ' '\n",
    "            summ += num\n",
    "    if resStr:\n",
    "        return resStr + str(summ) + ' Lucky'\n",
    "    return \"Unlucky\"\n",
    "\n",
    "print(is_sum_of_cubes(\"0 9026315 -827&()\"))\n",
    "print(is_sum_of_cubes(\"No numbers!\"))\n",
    "print(is_sum_of_cubes(\"aqdf& 0 1 xyz 153 777.777\"))\n",
    "print(is_sum_of_cubes(\"QK29 45[&erui\"))"
   ]
  },
  {
   "cell_type": "markdown",
   "metadata": {},
   "source": [
    "### Study: Map()"
   ]
  },
  {
   "cell_type": "code",
   "execution_count": 32,
   "metadata": {},
   "outputs": [
    {
     "name": "stdout",
     "output_type": "stream",
     "text": [
      "[1, 4, 9, 16]\n"
     ]
    }
   ],
   "source": [
    "items = [1, 2, 3, 4]\n",
    "squared = list(map(lambda x: x**2, items))\n",
    "print(squared)"
   ]
  },
  {
   "cell_type": "code",
   "execution_count": 33,
   "metadata": {},
   "outputs": [
    {
     "name": "stdout",
     "output_type": "stream",
     "text": [
      "<map object at 0x00000000052E9470>\n"
     ]
    }
   ],
   "source": [
    "items = [1, 2, 3, 4]\n",
    "squared = map(lambda x: x**2, items)\n",
    "print(squared)"
   ]
  },
  {
   "cell_type": "code",
   "execution_count": 34,
   "metadata": {},
   "outputs": [
    {
     "name": "stdout",
     "output_type": "stream",
     "text": [
      "30\n"
     ]
    }
   ],
   "source": [
    "items = [1, 2, 3, 4]\n",
    "print(sum(map(lambda x: x**2, items)))"
   ]
  },
  {
   "cell_type": "code",
   "execution_count": 36,
   "metadata": {},
   "outputs": [
    {
     "data": {
      "text/plain": [
       "'0b110'"
      ]
     },
     "execution_count": 36,
     "metadata": {},
     "output_type": "execute_result"
    }
   ],
   "source": [
    "bin(6)"
   ]
  },
  {
   "cell_type": "code",
   "execution_count": 40,
   "metadata": {},
   "outputs": [
    {
     "name": "stdout",
     "output_type": "stream",
     "text": [
      "0b1\n",
      "0b10\n",
      "0b11\n",
      "0b100\n"
     ]
    }
   ],
   "source": [
    "print(bin(1))\n",
    "print(bin(2))\n",
    "print(bin(3))\n",
    "print(bin(4))"
   ]
  },
  {
   "cell_type": "markdown",
   "metadata": {},
   "source": [
    "## Word a10n (abbreviation)"
   ]
  },
  {
   "cell_type": "raw",
   "metadata": {},
   "source": [
    "The word i18n is a common abbreviation of internationalization in the developer community, used instead of typing the whole word and trying to spell it correctly. Similarly, a11y is an abbreviation of accessibility.\n",
    "\n",
    "Write a function that takes a string and turns any and all \"words\" (see below) within that string of length 4 or greater into an abbreviation, following these rules:\n",
    "\n",
    "A \"word\" is a sequence of alphabetical characters. By this definition, any other character like a space or hyphen (eg. \"elephant-ride\") will split up a series of letters into two words (eg. \"elephant\" and \"ride\").\n",
    "The abbreviated version of the word should have the first letter, then the number of removed characters, then the last letter (eg. \"elephant ride\" => \"e6t r2e\").\n",
    "Example\n",
    "abbreviate(\"elephant-rides are really fun!\")\n",
    "//          ^^^^^^^^*^^^^^*^^^*^^^^^^*^^^*\n",
    "// words (^):   \"elephant\" \"rides\" \"are\" \"really\" \"fun\"\n",
    "//                123456     123     1     1234     1\n",
    "// ignore short words:               X              X\n",
    "\n",
    "// abbreviate:    \"e6t\"     \"r3s\"  \"are\"  \"r4y\"   \"fun\"\n",
    "// all non-word characters (*) remain in place\n",
    "//                     \"-\"      \" \"    \" \"     \" \"     \"!\"\n",
    "=== \"e6t-r3s are r4y fun!\""
   ]
  },
  {
   "cell_type": "code",
   "execution_count": 41,
   "metadata": {},
   "outputs": [
    {
     "name": "stdout",
     "output_type": "stream",
     "text": [
      "['12', '  ', '+', '  ', '13', '', '*', '', '15', '   ', '-', ' ', '6']\n"
     ]
    }
   ],
   "source": [
    "import re \n",
    "print(re.split(r'(\\s*)([+*/-])(\\s*)', r'12  +  13*15   - 6')) "
   ]
  },
  {
   "cell_type": "code",
   "execution_count": 52,
   "metadata": {},
   "outputs": [
    {
     "name": "stdout",
     "output_type": "stream",
     "text": [
      "['', 'elephant', '', 'elephant', '', '-', 'rides ', '', 'rides', ' ', '', 'are ', '', 'are', ' ', '', 'really ', '', 'really', ' ', '', 'fun', '', 'fun', '', '!']\n"
     ]
    }
   ],
   "source": [
    "import re \n",
    "print(re.split(r'((\\s*)([a-z]+)(\\s*))', r'elephant-rides are really fun!')) "
   ]
  },
  {
   "cell_type": "code",
   "execution_count": 6,
   "metadata": {},
   "outputs": [
    {
     "name": "stdout",
     "output_type": "stream",
     "text": [
      "[('', 'elephant', 'elephant')]\n"
     ]
    }
   ],
   "source": [
    "import re\n",
    "print(re.findall(r'([a-z]*)(^([a-z]*))', 'elephant-rides are really fun!'))"
   ]
  },
  {
   "cell_type": "code",
   "execution_count": 7,
   "metadata": {},
   "outputs": [
    {
     "name": "stdout",
     "output_type": "stream",
     "text": [
      "['elephant', 'rides', 'really']\n"
     ]
    }
   ],
   "source": [
    "import re\n",
    "print(re.findall(r'([a-z]{4,})', 'elephant-rides are really fun!'))"
   ]
  },
  {
   "cell_type": "code",
   "execution_count": 9,
   "metadata": {},
   "outputs": [
    {
     "name": "stdout",
     "output_type": "stream",
     "text": [
      "e6t-r3s are r4y fun!\n"
     ]
    }
   ],
   "source": [
    "import re\n",
    "\n",
    "def abbreviate(s):\n",
    "    for w in re.findall(r'([A-Za-z]{4,})', s):\n",
    "        s = s.replace(w, w[0] + str(len(w) - 2) + w[-1])\n",
    "    return s\n",
    "\n",
    "print(abbreviate('elephant-rides are really fun!'))"
   ]
  },
  {
   "cell_type": "markdown",
   "metadata": {},
   "source": [
    "## Array.diff"
   ]
  },
  {
   "cell_type": "raw",
   "metadata": {},
   "source": [
    "Your goal in this kata is to implement a difference function, which subtracts one list from another and returns the result.\n",
    "\n",
    "It should remove all values from list a, which are present in list b.\n",
    "\n",
    "array_diff([1,2],[1]) == [2]\n",
    "If a value is present in b, all of its occurrences must be removed from the other:\n",
    "\n",
    "array_diff([1,2,2,2,3],[2]) == [1,3]"
   ]
  },
  {
   "cell_type": "code",
   "execution_count": 6,
   "metadata": {},
   "outputs": [
    {
     "name": "stdout",
     "output_type": "stream",
     "text": [
      "[2]\n",
      "[1, 3]\n"
     ]
    }
   ],
   "source": [
    "def array_diff(a, b):\n",
    "    return [x for x in a if x not in b]\n",
    "\n",
    "print(array_diff([1,2],[1]))\n",
    "print(array_diff([1,2,2,2,3],[2]))"
   ]
  },
  {
   "cell_type": "markdown",
   "metadata": {},
   "source": [
    "То же самое с использованием функции filter() (даже в документации написано, что функция filter() работает аналогично предыдущему примеру):"
   ]
  },
  {
   "cell_type": "code",
   "execution_count": 8,
   "metadata": {},
   "outputs": [
    {
     "name": "stdout",
     "output_type": "stream",
     "text": [
      "[2]\n",
      "[1, 3]\n"
     ]
    }
   ],
   "source": [
    "def array_diff(a, b):\n",
    "    return list(filter(lambda x: x not in b, a))\n",
    "\n",
    "print(array_diff([1,2],[1]))\n",
    "print(array_diff([1,2,2,2,3],[2]))"
   ]
  },
  {
   "cell_type": "markdown",
   "metadata": {},
   "source": [
    "### A Chain adding function\n",
    "\n",
    "5 kyu"
   ]
  },
  {
   "cell_type": "raw",
   "metadata": {},
   "source": [
    "We want to create a function that will add numbers together when called in succession.\n",
    "\n",
    "add(1)(2);\n",
    "// returns 3\n",
    "We also want to be able to continue to add numbers to our chain.\n",
    "\n",
    "add(1)(2)(3); // 6\n",
    "add(1)(2)(3)(4); // 10\n",
    "add(1)(2)(3)(4)(5); // 15\n",
    "and so on.\n",
    "\n",
    "A single call should return the number passed in.\n",
    "\n",
    "add(1); // 1\n",
    "We should be able to store the returned values and reuse them.\n",
    "\n",
    "var addTwo = add(2);\n",
    "addTwo; // 2\n",
    "addTwo + 5; // 7\n",
    "addTwo(3); // 5\n",
    "addTwo(3)(5); // 10\n",
    "We can assume any number being passed in will be valid whole number."
   ]
  },
  {
   "cell_type": "code",
   "execution_count": 57,
   "metadata": {},
   "outputs": [
    {
     "name": "stdout",
     "output_type": "stream",
     "text": [
      "2\n"
     ]
    }
   ],
   "source": [
    "def add(x):\n",
    "    return int(x + 0)\n",
    "\n",
    "print(add(2))"
   ]
  },
  {
   "cell_type": "code",
   "execution_count": 67,
   "metadata": {},
   "outputs": [
    {
     "name": "stdout",
     "output_type": "stream",
     "text": [
      "<function add.<locals>.<lambda> at 0x00000000050C67B8>\n",
      "<function add at 0x00000000050C62F0>\n",
      "<function add.<locals>.<lambda> at 0x00000000050C6C80>\n"
     ]
    }
   ],
   "source": [
    "def add(x = 0):\n",
    "    return lambda: add()\n",
    "\n",
    "print(add(2))\n",
    "print(add)\n",
    "print(add(2)())"
   ]
  },
  {
   "cell_type": "code",
   "execution_count": 30,
   "metadata": {},
   "outputs": [
    {
     "name": "stdout",
     "output_type": "stream",
     "text": [
      "<class '__main__.add'>\n",
      "2\n"
     ]
    }
   ],
   "source": [
    "class add:\n",
    "    def __init__(self, value):\n",
    "        self.res = 0\n",
    "        self(value)\n",
    "        \n",
    "    def __call__(self, value):\n",
    "        self.res += value\n",
    "        return self\n",
    "    \n",
    "print(add)\n",
    "print(add(2).res)"
   ]
  },
  {
   "cell_type": "code",
   "execution_count": 29,
   "metadata": {},
   "outputs": [
    {
     "ename": "NameError",
     "evalue": "name 'add' is not defined",
     "output_type": "error",
     "traceback": [
      "\u001b[1;31m---------------------------------------------------------------------------\u001b[0m",
      "\u001b[1;31mNameError\u001b[0m                                 Traceback (most recent call last)",
      "\u001b[1;32m<ipython-input-29-e3ca958f1c73>\u001b[0m in \u001b[0;36m<module>\u001b[1;34m\u001b[0m\n\u001b[1;32m----> 1\u001b[1;33m \u001b[1;32mclass\u001b[0m \u001b[0madd\u001b[0m\u001b[1;33m:\u001b[0m\u001b[1;33m\u001b[0m\u001b[1;33m\u001b[0m\u001b[0m\n\u001b[0m\u001b[0;32m      2\u001b[0m     \u001b[0madd\u001b[0m\u001b[1;33m.\u001b[0m\u001b[0mres\u001b[0m \u001b[1;33m=\u001b[0m \u001b[1;36m0\u001b[0m\u001b[1;33m\u001b[0m\u001b[1;33m\u001b[0m\u001b[0m\n\u001b[0;32m      3\u001b[0m     \u001b[1;32mdef\u001b[0m \u001b[0m__init__\u001b[0m\u001b[1;33m(\u001b[0m\u001b[0mself\u001b[0m\u001b[1;33m,\u001b[0m \u001b[0mvalue\u001b[0m\u001b[1;33m)\u001b[0m\u001b[1;33m:\u001b[0m\u001b[1;33m\u001b[0m\u001b[1;33m\u001b[0m\u001b[0m\n\u001b[0;32m      4\u001b[0m         \u001b[0madd\u001b[0m\u001b[1;33m.\u001b[0m\u001b[0mres\u001b[0m \u001b[1;33m=\u001b[0m \u001b[0mvalue\u001b[0m\u001b[1;33m\u001b[0m\u001b[1;33m\u001b[0m\u001b[0m\n\u001b[0;32m      5\u001b[0m         \u001b[0madd\u001b[0m\u001b[1;33m.\u001b[0m\u001b[0m__call__\u001b[0m\u001b[1;33m\u001b[0m\u001b[1;33m\u001b[0m\u001b[0m\n",
      "\u001b[1;32m<ipython-input-29-e3ca958f1c73>\u001b[0m in \u001b[0;36madd\u001b[1;34m()\u001b[0m\n\u001b[0;32m      1\u001b[0m \u001b[1;32mclass\u001b[0m \u001b[0madd\u001b[0m\u001b[1;33m:\u001b[0m\u001b[1;33m\u001b[0m\u001b[1;33m\u001b[0m\u001b[0m\n\u001b[1;32m----> 2\u001b[1;33m     \u001b[0madd\u001b[0m\u001b[1;33m.\u001b[0m\u001b[0mres\u001b[0m \u001b[1;33m=\u001b[0m \u001b[1;36m0\u001b[0m\u001b[1;33m\u001b[0m\u001b[1;33m\u001b[0m\u001b[0m\n\u001b[0m\u001b[0;32m      3\u001b[0m     \u001b[1;32mdef\u001b[0m \u001b[0m__init__\u001b[0m\u001b[1;33m(\u001b[0m\u001b[0mself\u001b[0m\u001b[1;33m,\u001b[0m \u001b[0mvalue\u001b[0m\u001b[1;33m)\u001b[0m\u001b[1;33m:\u001b[0m\u001b[1;33m\u001b[0m\u001b[1;33m\u001b[0m\u001b[0m\n\u001b[0;32m      4\u001b[0m         \u001b[0madd\u001b[0m\u001b[1;33m.\u001b[0m\u001b[0mres\u001b[0m \u001b[1;33m=\u001b[0m \u001b[0mvalue\u001b[0m\u001b[1;33m\u001b[0m\u001b[1;33m\u001b[0m\u001b[0m\n\u001b[0;32m      5\u001b[0m         \u001b[0madd\u001b[0m\u001b[1;33m.\u001b[0m\u001b[0m__call__\u001b[0m\u001b[1;33m\u001b[0m\u001b[1;33m\u001b[0m\u001b[0m\n",
      "\u001b[1;31mNameError\u001b[0m: name 'add' is not defined"
     ]
    }
   ],
   "source": [
    "class add:\n",
    "    add.res = 0\n",
    "    def __init__(self, value):\n",
    "        add.res = value\n",
    "        add.__call__\n",
    "        \n",
    "    def __call__(self, value):\n",
    "        add.res += value\n",
    "        return self\n",
    "    \n",
    "print(add)\n",
    "print(add(2))"
   ]
  },
  {
   "cell_type": "code",
   "execution_count": 109,
   "metadata": {},
   "outputs": [
    {
     "name": "stdout",
     "output_type": "stream",
     "text": [
      "<class 'int'>\n",
      "['__abs__', '__add__', '__and__', '__bool__', '__ceil__', '__class__', '__delattr__', '__dir__', '__divmod__', '__doc__', '__eq__', '__float__', '__floor__', '__floordiv__', '__format__', '__ge__', '__getattribute__', '__getnewargs__', '__gt__', '__hash__', '__index__', '__init__', '__init_subclass__', '__int__', '__invert__', '__le__', '__lshift__', '__lt__', '__mod__', '__mul__', '__ne__', '__neg__', '__new__', '__or__', '__pos__', '__pow__', '__radd__', '__rand__', '__rdivmod__', '__reduce__', '__reduce_ex__', '__repr__', '__rfloordiv__', '__rlshift__', '__rmod__', '__rmul__', '__ror__', '__round__', '__rpow__', '__rrshift__', '__rshift__', '__rsub__', '__rtruediv__', '__rxor__', '__setattr__', '__sizeof__', '__str__', '__sub__', '__subclasshook__', '__truediv__', '__trunc__', '__xor__', 'bit_length', 'conjugate', 'denominator', 'from_bytes', 'imag', 'numerator', 'real', 'to_bytes']\n",
      "1\n",
      "1\n",
      "3\n",
      "1\n"
     ]
    }
   ],
   "source": [
    "a = 1\n",
    "print(type(a))\n",
    "print(dir(int))\n",
    "print(a.__repr__())\n",
    "#print(a.__dict__) # такого нет\n",
    "print(a.__int__())\n",
    "print(a.__add__(2))\n",
    "print(a)"
   ]
  },
  {
   "cell_type": "code",
   "execution_count": 108,
   "metadata": {},
   "outputs": [
    {
     "name": "stdout",
     "output_type": "stream",
     "text": [
      "2\n",
      "<class '__main__.add'>\n",
      "<class '__main__.add'>\n",
      "<class 'int'>\n",
      "5\n",
      "\n",
      "2\n",
      "<class '__main__.add'>\n",
      "<class 'int'>\n",
      "3\n",
      "<class '__main__.add'>\n",
      "<class 'int'>\n"
     ]
    },
    {
     "ename": "TypeError",
     "evalue": "'int' object is not callable",
     "output_type": "error",
     "traceback": [
      "\u001b[1;31m---------------------------------------------------------------------------\u001b[0m",
      "\u001b[1;31mTypeError\u001b[0m                                 Traceback (most recent call last)",
      "\u001b[1;32m<ipython-input-108-8d944d8188a6>\u001b[0m in \u001b[0;36m<module>\u001b[1;34m\u001b[0m\n\u001b[0;32m     14\u001b[0m \u001b[0mprint\u001b[0m\u001b[1;33m(\u001b[0m\u001b[0madd\u001b[0m\u001b[1;33m(\u001b[0m\u001b[1;36m2\u001b[0m\u001b[1;33m)\u001b[0m\u001b[1;33m)\u001b[0m\u001b[1;33m\u001b[0m\u001b[1;33m\u001b[0m\u001b[0m\n\u001b[0;32m     15\u001b[0m \u001b[0mprint\u001b[0m\u001b[1;33m(\u001b[0m\u001b[0madd\u001b[0m\u001b[1;33m(\u001b[0m\u001b[1;36m2\u001b[0m\u001b[1;33m)\u001b[0m\u001b[1;33m(\u001b[0m\u001b[1;36m1\u001b[0m\u001b[1;33m)\u001b[0m\u001b[1;33m)\u001b[0m\u001b[1;33m\u001b[0m\u001b[1;33m\u001b[0m\u001b[0m\n\u001b[1;32m---> 16\u001b[1;33m \u001b[0mprint\u001b[0m\u001b[1;33m(\u001b[0m\u001b[0madd\u001b[0m\u001b[1;33m(\u001b[0m\u001b[1;36m1\u001b[0m\u001b[1;33m)\u001b[0m\u001b[1;33m(\u001b[0m\u001b[1;36m2\u001b[0m\u001b[1;33m)\u001b[0m\u001b[1;33m(\u001b[0m\u001b[1;36m3\u001b[0m\u001b[1;33m)\u001b[0m\u001b[1;33m)\u001b[0m \u001b[1;31m# 6\u001b[0m\u001b[1;33m\u001b[0m\u001b[1;33m\u001b[0m\u001b[0m\n\u001b[0m\u001b[0;32m     17\u001b[0m \u001b[0mprint\u001b[0m\u001b[1;33m(\u001b[0m\u001b[0madd\u001b[0m\u001b[1;33m(\u001b[0m\u001b[1;36m1\u001b[0m\u001b[1;33m)\u001b[0m\u001b[1;33m(\u001b[0m\u001b[1;36m2\u001b[0m\u001b[1;33m)\u001b[0m\u001b[1;33m(\u001b[0m\u001b[1;36m3\u001b[0m\u001b[1;33m)\u001b[0m\u001b[1;33m(\u001b[0m\u001b[1;36m4\u001b[0m\u001b[1;33m)\u001b[0m\u001b[1;33m)\u001b[0m \u001b[1;31m# 10\u001b[0m\u001b[1;33m\u001b[0m\u001b[1;33m\u001b[0m\u001b[0m\n\u001b[0;32m     18\u001b[0m \u001b[0mprint\u001b[0m\u001b[1;33m(\u001b[0m\u001b[0madd\u001b[0m\u001b[1;33m(\u001b[0m\u001b[1;36m1\u001b[0m\u001b[1;33m)\u001b[0m\u001b[1;33m(\u001b[0m\u001b[1;36m2\u001b[0m\u001b[1;33m)\u001b[0m\u001b[1;33m(\u001b[0m\u001b[1;36m3\u001b[0m\u001b[1;33m)\u001b[0m\u001b[1;33m(\u001b[0m\u001b[1;36m4\u001b[0m\u001b[1;33m)\u001b[0m\u001b[1;33m(\u001b[0m\u001b[1;36m5\u001b[0m\u001b[1;33m)\u001b[0m\u001b[1;33m)\u001b[0m \u001b[1;31m# 15\u001b[0m\u001b[1;33m\u001b[0m\u001b[1;33m\u001b[0m\u001b[0m\n",
      "\u001b[1;31mTypeError\u001b[0m: 'int' object is not callable"
     ]
    }
   ],
   "source": [
    "class add(int):\n",
    "    def __call__(self, value):\n",
    "        print(type(self))\n",
    "        self += value\n",
    "        print(type(self))\n",
    "        return self\n",
    "    \n",
    "addTwo = add(2)\n",
    "print(addTwo)\n",
    "print(type(addTwo))\n",
    "print(addTwo(3))\n",
    "print()\n",
    "\n",
    "print(add(2))\n",
    "print(add(2)(1))\n",
    "print(add(1)(2)(3)) # 6\n",
    "print(add(1)(2)(3)(4)) # 10\n",
    "print(add(1)(2)(3)(4)(5)) # 15"
   ]
  },
  {
   "cell_type": "markdown",
   "metadata": {},
   "source": [
    "__My solution:__"
   ]
  },
  {
   "cell_type": "code",
   "execution_count": 31,
   "metadata": {},
   "outputs": [
    {
     "name": "stdout",
     "output_type": "stream",
     "text": [
      "2\n",
      "7\n",
      "5\n",
      "10\n",
      "2\n",
      "3\n",
      "6\n",
      "10\n",
      "15\n"
     ]
    }
   ],
   "source": [
    "class add(int):\n",
    "    def __call__(self, value):\n",
    "        #print(type(self))\n",
    "        return add(self + value)\n",
    "    \n",
    "addTwo = add(2)\n",
    "print(addTwo) # 2\n",
    "print(addTwo + 5) # 7\n",
    "print(addTwo(3)) # 5\n",
    "print(addTwo(3)(5)) # 10\n",
    "\n",
    "print(add(2)) # 2\n",
    "print(add(2)(1)) # 3\n",
    "print(add(1)(2)(3)) # 6\n",
    "print(add(1)(2)(3)(4)) # 10\n",
    "print(add(1)(2)(3)(4)(5)) # 15"
   ]
  },
  {
   "cell_type": "code",
   "execution_count": 114,
   "metadata": {},
   "outputs": [
    {
     "name": "stdout",
     "output_type": "stream",
     "text": [
      "construct\n"
     ]
    },
    {
     "ename": "TypeError",
     "evalue": "object.__init__() takes exactly one argument (the instance to initialize)",
     "output_type": "error",
     "traceback": [
      "\u001b[1;31m---------------------------------------------------------------------------\u001b[0m",
      "\u001b[1;31mTypeError\u001b[0m                                 Traceback (most recent call last)",
      "\u001b[1;32m<ipython-input-114-d986cbf04183>\u001b[0m in \u001b[0;36m<module>\u001b[1;34m\u001b[0m\n\u001b[0;32m      9\u001b[0m         \u001b[1;32mreturn\u001b[0m \u001b[0mself\u001b[0m\u001b[1;33m\u001b[0m\u001b[1;33m\u001b[0m\u001b[0m\n\u001b[0;32m     10\u001b[0m \u001b[1;33m\u001b[0m\u001b[0m\n\u001b[1;32m---> 11\u001b[1;33m \u001b[0mprint\u001b[0m\u001b[1;33m(\u001b[0m\u001b[0madd\u001b[0m\u001b[1;33m(\u001b[0m\u001b[1;36m2\u001b[0m\u001b[1;33m)\u001b[0m\u001b[1;33m)\u001b[0m\u001b[1;33m\u001b[0m\u001b[1;33m\u001b[0m\u001b[0m\n\u001b[0m\u001b[0;32m     12\u001b[0m \u001b[0mprint\u001b[0m\u001b[1;33m(\u001b[0m\u001b[0madd\u001b[0m\u001b[1;33m(\u001b[0m\u001b[1;36m2\u001b[0m\u001b[1;33m)\u001b[0m\u001b[1;33m(\u001b[0m\u001b[1;36m1\u001b[0m\u001b[1;33m)\u001b[0m\u001b[1;33m)\u001b[0m\u001b[1;33m\u001b[0m\u001b[1;33m\u001b[0m\u001b[0m\n\u001b[0;32m     13\u001b[0m \u001b[0mprint\u001b[0m\u001b[1;33m(\u001b[0m\u001b[0madd\u001b[0m\u001b[1;33m(\u001b[0m\u001b[1;36m1\u001b[0m\u001b[1;33m)\u001b[0m\u001b[1;33m(\u001b[0m\u001b[1;36m2\u001b[0m\u001b[1;33m)\u001b[0m\u001b[1;33m(\u001b[0m\u001b[1;36m3\u001b[0m\u001b[1;33m)\u001b[0m\u001b[1;33m)\u001b[0m \u001b[1;31m# 6\u001b[0m\u001b[1;33m\u001b[0m\u001b[1;33m\u001b[0m\u001b[0m\n",
      "\u001b[1;32m<ipython-input-114-d986cbf04183>\u001b[0m in \u001b[0;36m__init__\u001b[1;34m(self, value)\u001b[0m\n\u001b[0;32m      2\u001b[0m     \u001b[1;32mdef\u001b[0m \u001b[0m__init__\u001b[0m\u001b[1;33m(\u001b[0m\u001b[0mself\u001b[0m\u001b[1;33m,\u001b[0m \u001b[0mvalue\u001b[0m\u001b[1;33m)\u001b[0m\u001b[1;33m:\u001b[0m\u001b[1;33m\u001b[0m\u001b[1;33m\u001b[0m\u001b[0m\n\u001b[0;32m      3\u001b[0m         \u001b[0mprint\u001b[0m\u001b[1;33m(\u001b[0m\u001b[1;34m'construct'\u001b[0m\u001b[1;33m)\u001b[0m\u001b[1;33m\u001b[0m\u001b[1;33m\u001b[0m\u001b[0m\n\u001b[1;32m----> 4\u001b[1;33m         \u001b[0msuper\u001b[0m\u001b[1;33m(\u001b[0m\u001b[0madd\u001b[0m\u001b[1;33m,\u001b[0m \u001b[0mself\u001b[0m\u001b[1;33m)\u001b[0m\u001b[1;33m.\u001b[0m\u001b[0m__init__\u001b[0m\u001b[1;33m(\u001b[0m\u001b[0mvalue\u001b[0m\u001b[1;33m)\u001b[0m\u001b[1;33m\u001b[0m\u001b[1;33m\u001b[0m\u001b[0m\n\u001b[0m\u001b[0;32m      5\u001b[0m \u001b[1;33m\u001b[0m\u001b[0m\n\u001b[0;32m      6\u001b[0m     \u001b[1;32mdef\u001b[0m \u001b[0m__call__\u001b[0m\u001b[1;33m(\u001b[0m\u001b[0mself\u001b[0m\u001b[1;33m,\u001b[0m \u001b[0mvalue\u001b[0m\u001b[1;33m)\u001b[0m\u001b[1;33m:\u001b[0m\u001b[1;33m\u001b[0m\u001b[1;33m\u001b[0m\u001b[0m\n",
      "\u001b[1;31mTypeError\u001b[0m: object.__init__() takes exactly one argument (the instance to initialize)"
     ]
    }
   ],
   "source": [
    "class add(int):\n",
    "    def __init__(self, value):\n",
    "        print('construct')\n",
    "        super(add, self).__init__(value)\n",
    "    \n",
    "    def __call__(self, value):\n",
    "        self += value\n",
    "        print(type(self))\n",
    "        return self\n",
    "\n",
    "print(add(2))\n",
    "print(add(2)(1))\n",
    "print(add(1)(2)(3)) # 6\n",
    "print(add(1)(2)(3)(4)) # 10\n",
    "print(add(1)(2)(3)(4)(5)) # 15"
   ]
  },
  {
   "cell_type": "code",
   "execution_count": null,
   "metadata": {},
   "outputs": [],
   "source": []
  },
  {
   "cell_type": "code",
   "execution_count": null,
   "metadata": {},
   "outputs": [],
   "source": []
  },
  {
   "cell_type": "markdown",
   "metadata": {},
   "source": [
    "### Study: Function object with binded argument\n",
    "\n",
    "What I want is a function object with the parameter has been binded, let's name it c, not just '11'\n",
    "\n",
    "Довольно странный запрос. Почему автор запроса хочет, чтобы фнкция с() вызывалась без аргументов? "
   ]
  },
  {
   "cell_type": "code",
   "execution_count": 9,
   "metadata": {},
   "outputs": [
    {
     "data": {
      "text/plain": [
       "11"
      ]
     },
     "execution_count": 9,
     "metadata": {},
     "output_type": "execute_result"
    }
   ],
   "source": [
    "def a(p):\n",
    "    return p + 1\n",
    "\n",
    "def b(func, p):\n",
    "    return func(p)\n",
    "\n",
    "b(a, 10)"
   ]
  },
  {
   "cell_type": "markdown",
   "metadata": {},
   "source": [
    "К странному запросу есть следующие 3 решения, которые делают одно и то же, а именно предоставляют бесполезную функцию, которая ничего не принимает, а просто возвращает 11:"
   ]
  },
  {
   "cell_type": "code",
   "execution_count": 28,
   "metadata": {},
   "outputs": [
    {
     "name": "stdout",
     "output_type": "stream",
     "text": [
      "11\n"
     ]
    }
   ],
   "source": [
    "def a(p):\n",
    "    return p + 1\n",
    "\n",
    "def b(func, p):\n",
    "    return lambda: func(p)\n",
    "\n",
    "c = b(a, 10)\n",
    "\n",
    "print(c())"
   ]
  },
  {
   "cell_type": "code",
   "execution_count": 30,
   "metadata": {},
   "outputs": [
    {
     "name": "stdout",
     "output_type": "stream",
     "text": [
      "11\n"
     ]
    }
   ],
   "source": [
    "def a(p):\n",
    "    return p + 1\n",
    "\n",
    "def b(func, p):\n",
    "    return func(p)\n",
    "\n",
    "с = lambda: b(a, 10)\n",
    "    \n",
    "print(c())"
   ]
  },
  {
   "cell_type": "code",
   "execution_count": 29,
   "metadata": {},
   "outputs": [
    {
     "name": "stdout",
     "output_type": "stream",
     "text": [
      "11\n"
     ]
    }
   ],
   "source": [
    "def a(p):\n",
    "    return p + 1\n",
    "\n",
    "def b(func, p):\n",
    "    return func(p)\n",
    "\n",
    "def c():\n",
    "    return b(a, 10)\n",
    "    \n",
    "print(c())"
   ]
  },
  {
   "cell_type": "markdown",
   "metadata": {},
   "source": [
    "Решения, имеющее больше смысла:"
   ]
  },
  {
   "cell_type": "markdown",
   "metadata": {},
   "source": [
    "You can create another function that calls the your function with the parameter that you want:"
   ]
  },
  {
   "cell_type": "code",
   "execution_count": 41,
   "metadata": {},
   "outputs": [
    {
     "name": "stdout",
     "output_type": "stream",
     "text": [
      "11\n",
      "14\n"
     ]
    }
   ],
   "source": [
    "def old_function(x, y):\n",
    "    return x + y\n",
    "\n",
    "def bound_parameter_function(x):\n",
    "    return old_function(x, 1)\n",
    "\n",
    "print(bound_parameter_function(10))\n",
    "print(bound_parameter_function(13))"
   ]
  },
  {
   "cell_type": "markdown",
   "metadata": {},
   "source": [
    "Of course, if you need to create such functions on the fly, you can write another function that does the job for you:"
   ]
  },
  {
   "cell_type": "code",
   "execution_count": 42,
   "metadata": {},
   "outputs": [
    {
     "name": "stdout",
     "output_type": "stream",
     "text": [
      "11\n",
      "14\n"
     ]
    }
   ],
   "source": [
    "def parameter_bound(f, parm_to_bind):\n",
    "    def ret(y):\n",
    "        return f(parm_to_bind, y)\n",
    "    return ret\n",
    "\n",
    "new_func = parameter_bound(old_function, 1)\n",
    "print(new_func(10))\n",
    "print(new_func(13))"
   ]
  },
  {
   "cell_type": "markdown",
   "metadata": {},
   "source": [
    "Переписав подход выше конкрестно под функцию сложения, и заменив неговорящее название с на add1, я получила функцию сложения с только одним связанным праметром, что уже имеет больше смысла, чем первые три решения:"
   ]
  },
  {
   "cell_type": "code",
   "execution_count": 39,
   "metadata": {},
   "outputs": [
    {
     "name": "stdout",
     "output_type": "stream",
     "text": [
      "11\n",
      "14\n"
     ]
    }
   ],
   "source": [
    "def add_parameter_bound(param_to_bind):\n",
    "    return lambda x: x + param_to_bind\n",
    "\n",
    "add1 = add_parameter_bound(1)\n",
    "print(add1(10))\n",
    "print(add1(13))"
   ]
  },
  {
   "cell_type": "markdown",
   "metadata": {},
   "source": [
    "Более улучшенная версия последних трёх решений, это использование встроенных в Python интрументов:"
   ]
  },
  {
   "cell_type": "markdown",
   "metadata": {},
   "source": [
    "The functools module provides the partial function which can give you curried functions. It can be used to apply some parameters to functions, and leave the rest to be supplied:"
   ]
  },
  {
   "cell_type": "code",
   "execution_count": 43,
   "metadata": {},
   "outputs": [
    {
     "name": "stdout",
     "output_type": "stream",
     "text": [
      "11\n",
      "14\n"
     ]
    }
   ],
   "source": [
    "import functools\n",
    "\n",
    "def add(a, b):\n",
    "    return a + b\n",
    "\n",
    "add1 = functools.partial(add, 1)\n",
    "print(add1(10))\n",
    "print(add1(13))"
   ]
  },
  {
   "cell_type": "markdown",
   "metadata": {},
   "source": [
    "Но так как фунция add - это просто фунция для сложения, то зачем нам её определять, можно же просто сделать через оператор +:"
   ]
  },
  {
   "cell_type": "code",
   "execution_count": 51,
   "metadata": {},
   "outputs": [
    {
     "name": "stdout",
     "output_type": "stream",
     "text": [
      "functools.partial(<function <lambda> at 0x0000000004E0C268>)\n",
      "11\n",
      "14\n"
     ]
    }
   ],
   "source": [
    "import functools\n",
    "\n",
    "add1 = functools.partial(lambda x: x + 1)\n",
    "print(add1)\n",
    "print(add1(10))\n",
    "print(add1(13))"
   ]
  },
  {
   "cell_type": "markdown",
   "metadata": {},
   "source": [
    "Но так как в предыдущем решении нет связывамого аргумента, то использование functools.partial вообще бесполезно. В таком случае можно сделать просто так:"
   ]
  },
  {
   "cell_type": "code",
   "execution_count": 54,
   "metadata": {},
   "outputs": [
    {
     "name": "stdout",
     "output_type": "stream",
     "text": [
      "<function <lambda> at 0x00000000050C61E0>\n",
      "11\n",
      "14\n",
      "15\n"
     ]
    }
   ],
   "source": [
    "add1 = lambda x: x + 1\n",
    "\n",
    "print(add1)\n",
    "print(add1(10))\n",
    "print(add1(13))\n",
    "print(add1(14))"
   ]
  },
  {
   "cell_type": "markdown",
   "metadata": {},
   "source": [
    "А так как по PEP8, на сколько я помню, такое определение функций: add1 = lambda x: x + 1, не рекомендуется, то, значит, надо сделать так:"
   ]
  },
  {
   "cell_type": "code",
   "execution_count": 50,
   "metadata": {},
   "outputs": [
    {
     "name": "stdout",
     "output_type": "stream",
     "text": [
      "11\n",
      "14\n",
      "15\n"
     ]
    }
   ],
   "source": [
    "def add1(x):\n",
    "    return x + 1\n",
    "\n",
    "print(add1(10))\n",
    "print(add1(13))\n",
    "print(add1(14))"
   ]
  },
  {
   "cell_type": "markdown",
   "metadata": {},
   "source": [
    "### Build a pile of Cubes\n",
    "\n",
    "6 kyu"
   ]
  },
  {
   "cell_type": "raw",
   "metadata": {},
   "source": [
    "Your task is to construct a building which will be a pile of n cubes. The cube at the bottom will have a volume of n^3, the cube above will have volume of (n-1)^3 and so on until the top which will have a volume of 1^3.\n",
    "\n",
    "You are given the total volume m of the building. Being given m can you find the number n of cubes you will have to build?\n",
    "\n",
    "The parameter of the function findNb (find_nb, find-nb, findNb) will be an integer m and you have to return the integer n such as n^3 + (n-1)^3 + ... + 1^3 = m if such a n exists or -1 if there is no such n.\n",
    "\n",
    "Examples:\n",
    "findNb(1071225) --> 45\n",
    "findNb(91716553919377) --> -1\n",
    "mov rdi, 1071225\n",
    "call find_nb            ; rax <-- 45\n",
    "\n",
    "mov rdi, 91716553919377\n",
    "call find_nb            ; rax <-- -1"
   ]
  },
  {
   "cell_type": "markdown",
   "metadata": {},
   "source": [
    "Готовое решение: "
   ]
  },
  {
   "cell_type": "code",
   "execution_count": 25,
   "metadata": {},
   "outputs": [
    {
     "name": "stdout",
     "output_type": "stream",
     "text": [
      "2\n",
      "45\n",
      "-1\n"
     ]
    }
   ],
   "source": [
    "def find_nb(m):\n",
    "    n = -1\n",
    "    while m:\n",
    "        n += 1\n",
    "        m -= n * n * n\n",
    "        if m < 0:\n",
    "            return -1\n",
    "    return n\n",
    "\n",
    "print(find_nb(9))\n",
    "print(find_nb(1071225))\n",
    "print(find_nb(91716553919377))"
   ]
  },
  {
   "cell_type": "markdown",
   "metadata": {},
   "source": [
    "### Проверка работы условия с целыми числами"
   ]
  },
  {
   "cell_type": "code",
   "execution_count": 19,
   "metadata": {},
   "outputs": [
    {
     "name": "stdout",
     "output_type": "stream",
     "text": [
      "False\n"
     ]
    }
   ],
   "source": [
    "n = 0\n",
    "if n:\n",
    "    print(True)\n",
    "else:\n",
    "    print(False)"
   ]
  },
  {
   "cell_type": "code",
   "execution_count": 20,
   "metadata": {},
   "outputs": [
    {
     "name": "stdout",
     "output_type": "stream",
     "text": [
      "True\n"
     ]
    }
   ],
   "source": [
    "n = 1\n",
    "if n:\n",
    "    print(True)\n",
    "else:\n",
    "    print(False)"
   ]
  },
  {
   "cell_type": "code",
   "execution_count": 21,
   "metadata": {},
   "outputs": [
    {
     "name": "stdout",
     "output_type": "stream",
     "text": [
      "True\n"
     ]
    }
   ],
   "source": [
    "n = -1\n",
    "if n:\n",
    "    print(True)\n",
    "else:\n",
    "    print(False)"
   ]
  },
  {
   "cell_type": "markdown",
   "metadata": {},
   "source": [
    "20200608  \n",
    "### Welcome!\n",
    "8 kyu"
   ]
  },
  {
   "cell_type": "markdown",
   "metadata": {},
   "source": [
    "Your start-up's BA has told marketing that your website has a large audience in Scandinavia and surrounding countries. Marketing thinks it would be great to welcome visitors to the site in their own language. Luckily you already use an API that detects the user's location, so this is an easy win.\n",
    "\n",
    "The Task\n",
    "\n",
    "Think of a way to store the languages as a database (eg an object). The languages are listed below so you can copy and paste!\n",
    "Write a 'welcome' function that takes a parameter 'language' (always a string), and returns a greeting - if you have it in your database. It should default to English if the language is not in the database, or in the event of an invalid input.\n",
    "\n",
    "The Database\n",
    "\n",
    "'english': 'Welcome',  \n",
    "'czech': 'Vitejte',  \n",
    "'danish': 'Velkomst',  \n",
    "'dutch': 'Welkom',  \n",
    "'estonian': 'Tere tulemast',  \n",
    "'finnish': 'Tervetuloa',  \n",
    "'flemish': 'Welgekomen',  \n",
    "'french': 'Bienvenue',  \n",
    "'german': 'Willkommen',  \n",
    "'irish': 'Failte',  \n",
    "'italian': 'Benvenuto',  \n",
    "'latvian': 'Gaidits',  \n",
    "'lithuanian': 'Laukiamas',  \n",
    "'polish': 'Witamy',  \n",
    "'spanish': 'Bienvenido',  \n",
    "'swedish': 'Valkommen',  \n",
    "'welsh': 'Croeso'\n",
    "\n",
    "Possible invalid inputs include:\n",
    "\n",
    "IP_ADDRESS_INVALID - not a valid ipv4 or ipv6 ip address\n",
    "IP_ADDRESS_NOT_FOUND - ip address not in the database\n",
    "IP_ADDRESS_REQUIRED - no ip address was supplied"
   ]
  },
  {
   "cell_type": "code",
   "execution_count": null,
   "metadata": {},
   "outputs": [],
   "source": [
    "lang_db = {\n",
    "    'english': 'Welcome',\n",
    "    'czech': 'Vitejte',\n",
    "    'danish': 'Velkomst',\n",
    "    'dutch': 'Welkom',\n",
    "    'estonian': 'Tere tulemast',\n",
    "    'finnish': 'Tervetuloa',\n",
    "    'flemish': 'Welgekomen',\n",
    "    'french': 'Bienvenue',\n",
    "    'german': 'Willkommen',\n",
    "    'irish': 'Failte',\n",
    "    'italian': 'Benvenuto',\n",
    "    'latvian': 'Gaidits',\n",
    "    'lithuanian': 'Laukiamas',\n",
    "    'polish': 'Witamy',\n",
    "    'spanish': 'Bienvenido',\n",
    "    'swedish': 'Valkommen',\n",
    "    'welsh': 'Croeso'\n",
    "}\n",
    "\n",
    "def greet(language):\n",
    "    return lang_db.get(language, lang_db['english'])"
   ]
  },
  {
   "cell_type": "markdown",
   "metadata": {},
   "source": [
    "### Enumerable Magic #5- True for Just One?\n",
    "\n",
    "7 kyu  \n",
    "\n",
    "Create a function called one that accepts two params:  \n",
    " \n",
    "a sequence  \n",
    "a function  \n",
    "and returns true only if the function in the params returns true for exactly one (1) item in the sequence.  \n",
    "\n",
    "Example  \n",
    "one([1, 3, 5, 6, 99, 1, 3], bigger_than_ten) -> true  \n",
    "one([1, 3, 5, 6, 99, 88, 3], bigger_than_ten) -> false  \n",
    "one([1, 3, 5, 6, 5, 1, 3], bigger_than_ten) -> false  "
   ]
  },
  {
   "cell_type": "markdown",
   "metadata": {},
   "source": [
    "__Моё решение:__"
   ]
  },
  {
   "cell_type": "code",
   "execution_count": 10,
   "metadata": {},
   "outputs": [
    {
     "name": "stdout",
     "output_type": "stream",
     "text": [
      "False\n",
      "True\n"
     ]
    }
   ],
   "source": [
    "def one(sq, fun): \n",
    "    pos_ans = 0\n",
    "    for el in sq:\n",
    "        if fun(el):\n",
    "            pos_ans += 1\n",
    "        if pos_ans > 1:\n",
    "            break\n",
    "            \n",
    "    #return True if pos_ans == 1 else False\n",
    "    return pos_ans == 1\n",
    "\n",
    "less_than_9 = lambda x: x<9\n",
    "greater_than_9 = lambda x: x>9\n",
    "print(one([1, 3, 5, 6, 99, 1, 3], less_than_9))\n",
    "print(one([1, 3, 5, 6, 99, 1, 3], greater_than_9))"
   ]
  },
  {
   "cell_type": "markdown",
   "metadata": {},
   "source": [
    "__Не мои решения:__"
   ]
  },
  {
   "cell_type": "markdown",
   "metadata": {},
   "source": [
    "__№1__"
   ]
  },
  {
   "cell_type": "code",
   "execution_count": 6,
   "metadata": {},
   "outputs": [
    {
     "name": "stdout",
     "output_type": "stream",
     "text": [
      "False\n",
      "True\n"
     ]
    }
   ],
   "source": [
    "def one(sq, fun): \n",
    "    return sum(map(fun,sq))==1\n",
    "\n",
    "less_than_9 = lambda x: x<9\n",
    "greater_than_9 = lambda x: x>9\n",
    "print(one([1, 3, 5, 6, 99, 1, 3], less_than_9))\n",
    "print(one([1, 3, 5, 6, 99, 1, 3], greater_than_9))"
   ]
  },
  {
   "cell_type": "markdown",
   "metadata": {},
   "source": [
    "Разберу по частям:"
   ]
  },
  {
   "cell_type": "code",
   "execution_count": 30,
   "metadata": {},
   "outputs": [
    {
     "name": "stdout",
     "output_type": "stream",
     "text": [
      "[True, True, True, True, False, True, True]\n"
     ]
    }
   ],
   "source": [
    "sq = [1, 3, 5, 6, 99, 1, 3]\n",
    "fun = lambda x: x<9\n",
    "\n",
    "print(list(map(fun,sq)))"
   ]
  },
  {
   "cell_type": "markdown",
   "metadata": {},
   "source": [
    "Оказывается функция sum может суммировать коллекции с булевыми значениями:"
   ]
  },
  {
   "cell_type": "code",
   "execution_count": 8,
   "metadata": {},
   "outputs": [
    {
     "data": {
      "text/plain": [
       "2"
      ]
     },
     "execution_count": 8,
     "metadata": {},
     "output_type": "execute_result"
    }
   ],
   "source": [
    "sum((True, True, False))"
   ]
  },
  {
   "cell_type": "code",
   "execution_count": 9,
   "metadata": {},
   "outputs": [
    {
     "data": {
      "text/plain": [
       "3"
      ]
     },
     "execution_count": 9,
     "metadata": {},
     "output_type": "execute_result"
    }
   ],
   "source": [
    "sum((True, True, True))"
   ]
  },
  {
   "cell_type": "markdown",
   "metadata": {},
   "source": [
    "20200609  \n",
    "__№2__"
   ]
  },
  {
   "cell_type": "code",
   "execution_count": 11,
   "metadata": {},
   "outputs": [
    {
     "name": "stdout",
     "output_type": "stream",
     "text": [
      "False\n",
      "True\n"
     ]
    }
   ],
   "source": [
    "from typing import Iterable, Callable\n",
    "\n",
    "\n",
    "def one(sq: Iterable[int], fun: Callable[[int], bool]) -> bool:\n",
    "    sq_f = (True for s in sq if fun(s))\n",
    "    return next(sq_f, False) and not next(sq_f, False)\n",
    "\n",
    "less_than_9 = lambda x: x<9\n",
    "greater_than_9 = lambda x: x>9\n",
    "print(one([1, 3, 5, 6, 99, 1, 3], less_than_9))\n",
    "print(one([1, 3, 5, 6, 99, 1, 3], greater_than_9))"
   ]
  },
  {
   "cell_type": "markdown",
   "metadata": {},
   "source": [
    "Разберу по частям:"
   ]
  },
  {
   "cell_type": "code",
   "execution_count": 12,
   "metadata": {},
   "outputs": [
    {
     "name": "stdout",
     "output_type": "stream",
     "text": [
      "False\n",
      "True\n"
     ]
    }
   ],
   "source": [
    "def one(sq, fun):\n",
    "    sq_f = (True for s in sq if fun(s))\n",
    "    return next(sq_f, False) and not next(sq_f, False)\n",
    "\n",
    "less_than_9 = lambda x: x<9\n",
    "greater_than_9 = lambda x: x>9\n",
    "print(one([1, 3, 5, 6, 99, 1, 3], less_than_9))\n",
    "print(one([1, 3, 5, 6, 99, 1, 3], greater_than_9))"
   ]
  },
  {
   "cell_type": "code",
   "execution_count": 21,
   "metadata": {},
   "outputs": [
    {
     "name": "stdout",
     "output_type": "stream",
     "text": [
      "<generator object one.<locals>.<genexpr> at 0x00000000052AEA98>\n",
      "True True\n",
      "False\n",
      "<generator object one.<locals>.<genexpr> at 0x00000000052AEA98>\n",
      "True False\n",
      "True\n"
     ]
    }
   ],
   "source": [
    "def one(sq, fun):\n",
    "    sq_f = (True for s in sq if fun(s))\n",
    "    print(sq_f)\n",
    "    #print(list(sq_f))\n",
    "    a = next(sq_f, False)\n",
    "    b = next(sq_f, False)\n",
    "    print(a, b)\n",
    "    return a and not b\n",
    "\n",
    "less_than_9 = lambda x: x<9\n",
    "greater_than_9 = lambda x: x>9\n",
    "print(one([1, 3, 5, 6, 99, 1, 3], less_than_9)) # [True, True, True, True, True, True]\n",
    "print(one([1, 3, 5, 6, 99, 1, 3], greater_than_9)) # [True]"
   ]
  },
  {
   "cell_type": "markdown",
   "metadata": {},
   "source": [
    "__№3__"
   ]
  },
  {
   "cell_type": "code",
   "execution_count": 22,
   "metadata": {},
   "outputs": [
    {
     "name": "stdout",
     "output_type": "stream",
     "text": [
      "False\n",
      "True\n"
     ]
    }
   ],
   "source": [
    "from itertools import islice\n",
    "\n",
    "def one(sq, fun):\n",
    "    return len(list(islice(filter(fun, sq), 2))) == 1\n",
    "\n",
    "less_than_9 = lambda x: x<9\n",
    "greater_than_9 = lambda x: x>9\n",
    "print(one([1, 3, 5, 6, 99, 1, 3], less_than_9))\n",
    "print(one([1, 3, 5, 6, 99, 1, 3], greater_than_9))"
   ]
  },
  {
   "cell_type": "markdown",
   "metadata": {},
   "source": [
    "Разберу по частям:"
   ]
  },
  {
   "cell_type": "code",
   "execution_count": 26,
   "metadata": {},
   "outputs": [
    {
     "name": "stdout",
     "output_type": "stream",
     "text": [
      "<filter object at 0x00000000052D4BE0>\n",
      "<itertools.islice object at 0x00000000052D2958>\n",
      "[1, 3]\n"
     ]
    }
   ],
   "source": [
    "sq = [1, 3, 5, 6, 99, 1, 3]\n",
    "fun = lambda x: x<9\n",
    "\n",
    "print(filter(fun, sq))\n",
    "print(islice(filter(fun, sq), 2))\n",
    "print(list(islice(filter(fun, sq), 2)))"
   ]
  },
  {
   "cell_type": "markdown",
   "metadata": {},
   "source": [
    "В принципе, можно было бы обойтись и без islice, но тогда памяти, возможно придется выделить больше, чем для списка из 2 (максимум) элементов, т.к. результат работы filter может быть очень большим (конечно, в зависимости от длины и содержания изначальной последовательности sq):"
   ]
  },
  {
   "cell_type": "code",
   "execution_count": 28,
   "metadata": {},
   "outputs": [
    {
     "name": "stdout",
     "output_type": "stream",
     "text": [
      "<filter object at 0x00000000052D4FD0>\n",
      "<itertools.islice object at 0x00000000052D2A98>\n",
      "[1, 3, 5, 6, 1, 3]\n"
     ]
    }
   ],
   "source": [
    "sq = [1, 3, 5, 6, 99, 1, 3]\n",
    "fun = lambda x: x<9\n",
    "\n",
    "print(filter(fun, sq))\n",
    "print(islice(filter(fun, sq), 2))\n",
    "print(islice(filter(fun, sq), 2))\n",
    "print(list(filter(fun, sq)))"
   ]
  },
  {
   "cell_type": "markdown",
   "metadata": {},
   "source": [
    "Но конечно приминение здесь islice гарантирут, что из filter будут извлечено только 2 элемента.\n",
    "\n",
    "Но вообще это решение №3 не кажется супер эффективным, т.к. islice будет хотеть вытащить 2 элемента из filter, и может так оказаться, что для этого придётся обойти всю последовательность sq, т.к. остальные элементы sq б. давать False. В прочем в моём решение также может потребоваться обойти всю последовательность, так что эфективность этого решения и моего в этом смысле одинаковая. "
   ]
  },
  {
   "cell_type": "markdown",
   "metadata": {},
   "source": [
    "__№4__"
   ]
  },
  {
   "cell_type": "code",
   "execution_count": 3,
   "metadata": {},
   "outputs": [
    {
     "name": "stdout",
     "output_type": "stream",
     "text": [
      "<map object at 0x0000000005027390>\n",
      "False\n"
     ]
    }
   ],
   "source": [
    "def one(xs, f):\n",
    "    fxs = map(f, xs)\n",
    "    print(fxs)\n",
    "    #print(list(fxs))  # это влияет на ответ, т.к. генератор доходит до конца\n",
    "    return True in fxs and True not in fxs\n",
    "\n",
    "sq = [1, 3, 5, 6, 99, 1, 3]\n",
    "fun = lambda x: x>9\n",
    "print(one(sq, fun))"
   ]
  },
  {
   "cell_type": "markdown",
   "metadata": {},
   "source": [
    "Очень необычная контрукция: True in fxs and True not in fxs, где fxc - это map oblect. Не понимаю как она работает."
   ]
  },
  {
   "cell_type": "code",
   "execution_count": 7,
   "metadata": {},
   "outputs": [
    {
     "name": "stdout",
     "output_type": "stream",
     "text": [
      "<map object at 0x0000000005027A58>\n",
      "True\n",
      "[False, False]\n"
     ]
    }
   ],
   "source": [
    "sq = [1, 3, 5, 6, 99, 1, 3]\n",
    "fun = lambda x: x>9\n",
    "\n",
    "fxs = map(fun, sq)\n",
    "print(fxs)\n",
    "#print(list(fxs))  # [False, False, False, False, True, False, False] надо закомментить, т.к. генератор ззакончитася \n",
    "print(True in fxs)\n",
    "print(list(fxs))   # т.е. после выр-я True in fxs генератор выдаст не первый элемент, а элемент после первого True"
   ]
  },
  {
   "cell_type": "markdown",
   "metadata": {},
   "source": [
    "Ну теперь понятнее. Получается, чтобы выполнить оператор in, генератор проходит все элементы, пока не встретит элемент True, и при переходе к оператору not in, генератор выдаст следующий после найденного с помощью in элемента элемент, т.е. последовательность не будет просматриваться с начала.  \n",
    "\n",
    "Что касается оператора not in, то я не совсем понимаю как именно он работает. Вероятно, последовательность (или часть последовательности) просматривается до конца пока утверждение not in истинное. в результате not in вёрнёт true, но если встречается элемент, для которого утверждение not in становится ложным (в данном случае элемент True), то not in вернёт false. Попробую это проверить: "
   ]
  },
  {
   "cell_type": "code",
   "execution_count": 8,
   "metadata": {},
   "outputs": [
    {
     "name": "stdout",
     "output_type": "stream",
     "text": [
      "[False, False, False, False, True, False, False, True, False, False]\n",
      "False\n",
      "True\n",
      "[]\n"
     ]
    }
   ],
   "source": [
    "# Тест 1\n",
    "sq = [1, 3, 5, 6, 99, 1, 3, 10, 2, 3]\n",
    "fun = lambda x: x>9\n",
    "\n",
    "fxs = map(fun, sq)\n",
    "#print(list(fxs))\n",
    "# fxs содержит [False, False, False, False, True, False, False, True, False, False]\n",
    "print(True in fxs)\n",
    "print(True not in fxs)\n",
    "print(list(fxs))"
   ]
  },
  {
   "cell_type": "code",
   "execution_count": 10,
   "metadata": {},
   "outputs": [
    {
     "name": "stdout",
     "output_type": "stream",
     "text": [
      "True\n",
      "True\n",
      "[]\n"
     ]
    }
   ],
   "source": [
    "# Тест 2\n",
    "sq = [1, 3, 5, 6, 99, 1, 3, 2, 2]\n",
    "fun = lambda x: x>9\n",
    "\n",
    "fxs = map(fun, sq)\n",
    "# print(list(fxs))\n",
    "# fxs содержит [False, False, False, False, True, False, False, False, False]\n",
    "print(True in fxs)\n",
    "print(True not in fxs)\n",
    "print(list(fxs))"
   ]
  },
  {
   "cell_type": "markdown",
   "metadata": {},
   "source": [
    "Т.о., действительно, как только для какого-то элемента not in стало ложным, был возвращён false и просмотр окончен. \n",
    "\n",
    "Получается, по эффективности это решение похоже на моё решение и предыдущее, т.к. в каких-то тестовых случаях они не требуют полное прохождение по последовательности, и используют совсем немного доп. памяти. "
   ]
  },
  {
   "cell_type": "markdown",
   "metadata": {},
   "source": [
    "20200623  \n",
    "__№5__"
   ]
  },
  {
   "cell_type": "code",
   "execution_count": 30,
   "metadata": {},
   "outputs": [
    {
     "name": "stdout",
     "output_type": "stream",
     "text": [
      "False\n"
     ]
    }
   ],
   "source": [
    "def one(sq, fun):\n",
    "    it = filter(fun, sq)\n",
    "    return next(it, None) != next(it, None) is None\n",
    "\n",
    "sq = [1, 3, 5, 6, 99, 1, 3]\n",
    "fun = lambda x: x>9\n",
    "fun = lambda x: x<9\n",
    "print(one(sq, fun))"
   ]
  },
  {
   "cell_type": "markdown",
   "metadata": {},
   "source": [
    "В целом я пока не очень понимаю, что же тут происходит, именно этим на данный момент мне этот пример и интересен."
   ]
  },
  {
   "cell_type": "markdown",
   "metadata": {},
   "source": [
    "Так, а с такими данными тоже вернёт False?"
   ]
  },
  {
   "cell_type": "code",
   "execution_count": 31,
   "metadata": {},
   "outputs": [
    {
     "name": "stdout",
     "output_type": "stream",
     "text": [
      "False\n"
     ]
    }
   ],
   "source": [
    "def one(sq, fun):\n",
    "    it = filter(fun, sq)\n",
    "    return next(it, None) != next(it, None) is None\n",
    "\n",
    "sq = [1, 1, 1, 1, 1, 1, 1]\n",
    "fun = lambda x: x<9\n",
    "print(one(sq, fun))"
   ]
  },
  {
   "cell_type": "markdown",
   "metadata": {},
   "source": [
    "Да, тоже вернула False."
   ]
  },
  {
   "cell_type": "markdown",
   "metadata": {},
   "source": [
    "Если верить интернету, то != и is имеют одинаковый приоритет, получается, здесь они должны выполняться по порядку. Это также подтвержается проставлением скобок вокруг is, например, со скобками для второй функции (x<9) б. другой результат, а именно True:"
   ]
  },
  {
   "cell_type": "code",
   "execution_count": 22,
   "metadata": {},
   "outputs": [
    {
     "name": "stdout",
     "output_type": "stream",
     "text": [
      "True\n"
     ]
    }
   ],
   "source": [
    "def one(sq, fun):\n",
    "    it = filter(fun, sq)\n",
    "    return next(it, None) != (next(it, None) is None)\n",
    "\n",
    "sq = [1, 3, 5, 6, 99, 1, 3]\n",
    "fun = lambda x: x>9\n",
    "fun = lambda x: x<9\n",
    "print(one(sq, fun))"
   ]
  },
  {
   "cell_type": "markdown",
   "metadata": {},
   "source": [
    "Поехали дальше..."
   ]
  },
  {
   "cell_type": "code",
   "execution_count": 26,
   "metadata": {},
   "outputs": [
    {
     "name": "stdout",
     "output_type": "stream",
     "text": [
      "99\n"
     ]
    },
    {
     "ename": "StopIteration",
     "evalue": "",
     "output_type": "error",
     "traceback": [
      "\u001b[1;31m---------------------------------------------------------------------------\u001b[0m",
      "\u001b[1;31mStopIteration\u001b[0m                             Traceback (most recent call last)",
      "\u001b[1;32m<ipython-input-26-a37df78cd6a6>\u001b[0m in \u001b[0;36m<module>\u001b[1;34m\u001b[0m\n\u001b[0;32m      3\u001b[0m \u001b[0mit\u001b[0m \u001b[1;33m=\u001b[0m \u001b[0mfilter\u001b[0m\u001b[1;33m(\u001b[0m\u001b[0mfun\u001b[0m\u001b[1;33m,\u001b[0m \u001b[0msq\u001b[0m\u001b[1;33m)\u001b[0m\u001b[1;33m\u001b[0m\u001b[1;33m\u001b[0m\u001b[0m\n\u001b[0;32m      4\u001b[0m \u001b[0mprint\u001b[0m\u001b[1;33m(\u001b[0m\u001b[0mnext\u001b[0m\u001b[1;33m(\u001b[0m\u001b[0mit\u001b[0m\u001b[1;33m)\u001b[0m\u001b[1;33m)\u001b[0m\u001b[1;33m\u001b[0m\u001b[1;33m\u001b[0m\u001b[0m\n\u001b[1;32m----> 5\u001b[1;33m \u001b[0mprint\u001b[0m\u001b[1;33m(\u001b[0m\u001b[0mnext\u001b[0m\u001b[1;33m(\u001b[0m\u001b[0mit\u001b[0m\u001b[1;33m)\u001b[0m\u001b[1;33m)\u001b[0m\u001b[1;33m\u001b[0m\u001b[1;33m\u001b[0m\u001b[0m\n\u001b[0m",
      "\u001b[1;31mStopIteration\u001b[0m: "
     ]
    }
   ],
   "source": [
    "sq = [1, 3, 5, 6, 99, 1, 3]\n",
    "fun = lambda x: x>9\n",
    "it = filter(fun, sq)\n",
    "print(next(it))\n",
    "print(next(it))"
   ]
  },
  {
   "cell_type": "code",
   "execution_count": 27,
   "metadata": {},
   "outputs": [
    {
     "name": "stdout",
     "output_type": "stream",
     "text": [
      "99\n",
      "None\n"
     ]
    }
   ],
   "source": [
    "sq = [1, 3, 5, 6, 99, 1, 3]\n",
    "fun = lambda x: x>9\n",
    "it = filter(fun, sq)\n",
    "print(next(it))\n",
    "print(next(it, None)) # теперь нет StopIteration"
   ]
  },
  {
   "cell_type": "markdown",
   "metadata": {},
   "source": [
    "Для другой функции (x<9):"
   ]
  },
  {
   "cell_type": "code",
   "execution_count": 37,
   "metadata": {},
   "outputs": [
    {
     "name": "stdout",
     "output_type": "stream",
     "text": [
      "1\n",
      "1\n"
     ]
    }
   ],
   "source": [
    "sq = [1, 3, 5, 6, 99, 1, 3]\n",
    "fun = lambda x: x<9\n",
    "it = filter(fun, sq)\n",
    "print(next(it))\n",
    "print(next(it))"
   ]
  },
  {
   "cell_type": "code",
   "execution_count": 38,
   "metadata": {},
   "outputs": [
    {
     "name": "stdout",
     "output_type": "stream",
     "text": [
      "1\n",
      "1\n"
     ]
    }
   ],
   "source": [
    "sq = [1, 1, 5, 6, 99, 1, 3]\n",
    "fun = lambda x: x<9\n",
    "it = filter(fun, sq)\n",
    "print(next(it))\n",
    "print(next(it))"
   ]
  },
  {
   "cell_type": "markdown",
   "metadata": {},
   "source": [
    "А если теперь влоб посмотреть, что возвращают операторы != и is в данной ситуации?"
   ]
  },
  {
   "cell_type": "code",
   "execution_count": 34,
   "metadata": {},
   "outputs": [
    {
     "name": "stdout",
     "output_type": "stream",
     "text": [
      "True\n"
     ]
    }
   ],
   "source": [
    "print(1 != None)"
   ]
  },
  {
   "cell_type": "code",
   "execution_count": 35,
   "metadata": {},
   "outputs": [
    {
     "name": "stdout",
     "output_type": "stream",
     "text": [
      "True\n"
     ]
    }
   ],
   "source": [
    "print(1 != None is None)"
   ]
  },
  {
   "cell_type": "markdown",
   "metadata": {},
   "source": [
    "Почему так?!"
   ]
  },
  {
   "cell_type": "code",
   "execution_count": 36,
   "metadata": {},
   "outputs": [
    {
     "name": "stdout",
     "output_type": "stream",
     "text": [
      "False\n"
     ]
    }
   ],
   "source": [
    "print(True is None)"
   ]
  },
  {
   "cell_type": "code",
   "execution_count": 40,
   "metadata": {},
   "outputs": [
    {
     "name": "stdout",
     "output_type": "stream",
     "text": [
      "False\n"
     ]
    }
   ],
   "source": [
    "print(False is None)"
   ]
  },
  {
   "cell_type": "code",
   "execution_count": 41,
   "metadata": {},
   "outputs": [
    {
     "name": "stdout",
     "output_type": "stream",
     "text": [
      "False\n"
     ]
    }
   ],
   "source": [
    "print(1 != 1)"
   ]
  },
  {
   "cell_type": "code",
   "execution_count": 42,
   "metadata": {},
   "outputs": [
    {
     "name": "stdout",
     "output_type": "stream",
     "text": [
      "True\n"
     ]
    }
   ],
   "source": [
    "print(1 != 3)"
   ]
  },
  {
   "cell_type": "code",
   "execution_count": 43,
   "metadata": {},
   "outputs": [
    {
     "name": "stdout",
     "output_type": "stream",
     "text": [
      "True\n"
     ]
    }
   ],
   "source": [
    "print(None is None)"
   ]
  },
  {
   "cell_type": "code",
   "execution_count": 44,
   "metadata": {},
   "outputs": [
    {
     "name": "stdout",
     "output_type": "stream",
     "text": [
      "False\n"
     ]
    }
   ],
   "source": [
    "print(1 != 3 is None)"
   ]
  },
  {
   "cell_type": "code",
   "execution_count": 45,
   "metadata": {},
   "outputs": [
    {
     "name": "stdout",
     "output_type": "stream",
     "text": [
      "True\n"
     ]
    }
   ],
   "source": [
    "print(1 != (3 is None)) # это случай с проставленными скобками"
   ]
  },
  {
   "cell_type": "code",
   "execution_count": 46,
   "metadata": {},
   "outputs": [
    {
     "name": "stdout",
     "output_type": "stream",
     "text": [
      "False\n"
     ]
    }
   ],
   "source": [
    "print(True is None)"
   ]
  },
  {
   "cell_type": "code",
   "execution_count": 48,
   "metadata": {},
   "outputs": [
    {
     "name": "stdout",
     "output_type": "stream",
     "text": [
      "False\n"
     ]
    }
   ],
   "source": [
    "print(1 != True)"
   ]
  },
  {
   "cell_type": "code",
   "execution_count": 49,
   "metadata": {},
   "outputs": [
    {
     "name": "stdout",
     "output_type": "stream",
     "text": [
      "True\n"
     ]
    }
   ],
   "source": [
    "print(1 == True)"
   ]
  },
  {
   "cell_type": "code",
   "execution_count": 50,
   "metadata": {},
   "outputs": [
    {
     "name": "stdout",
     "output_type": "stream",
     "text": [
      "False\n"
     ]
    }
   ],
   "source": [
    "print(2 == True)"
   ]
  },
  {
   "cell_type": "code",
   "execution_count": 51,
   "metadata": {},
   "outputs": [
    {
     "name": "stdout",
     "output_type": "stream",
     "text": [
      "False\n"
     ]
    }
   ],
   "source": [
    "print(2 == False)"
   ]
  },
  {
   "cell_type": "code",
   "execution_count": 52,
   "metadata": {},
   "outputs": [
    {
     "name": "stdout",
     "output_type": "stream",
     "text": [
      "True\n"
     ]
    }
   ],
   "source": [
    "print(0 == False)"
   ]
  },
  {
   "cell_type": "code",
   "execution_count": 53,
   "metadata": {},
   "outputs": [
    {
     "name": "stdout",
     "output_type": "stream",
     "text": [
      "False\n"
     ]
    }
   ],
   "source": [
    "print(1 is True)"
   ]
  },
  {
   "cell_type": "code",
   "execution_count": 54,
   "metadata": {},
   "outputs": [
    {
     "name": "stdout",
     "output_type": "stream",
     "text": [
      "False\n"
     ]
    }
   ],
   "source": [
    "print(1 is None)"
   ]
  },
  {
   "cell_type": "code",
   "execution_count": 1,
   "metadata": {},
   "outputs": [
    {
     "data": {
      "text/plain": [
       "False"
      ]
     },
     "execution_count": 1,
     "metadata": {},
     "output_type": "execute_result"
    }
   ],
   "source": [
    "'1' == True"
   ]
  },
  {
   "cell_type": "code",
   "execution_count": 2,
   "metadata": {},
   "outputs": [
    {
     "data": {
      "text/plain": [
       "False"
      ]
     },
     "execution_count": 2,
     "metadata": {},
     "output_type": "execute_result"
    }
   ],
   "source": [
    "'True' == True"
   ]
  },
  {
   "cell_type": "markdown",
   "metadata": {},
   "source": [
    "20200628"
   ]
  },
  {
   "cell_type": "code",
   "execution_count": 3,
   "metadata": {},
   "outputs": [
    {
     "data": {
      "text/plain": [
       "True"
      ]
     },
     "execution_count": 3,
     "metadata": {},
     "output_type": "execute_result"
    }
   ],
   "source": [
    "1 != None is None"
   ]
  },
  {
   "cell_type": "markdown",
   "metadata": {},
   "source": [
    "https://qna.habr.com/q/798347:  \n",
    "В этом примере используется цепочка сравнений (chaining). Запись эквивалентна\n",
    "1 != None and None is None\n",
    "Out: True\n",
    "\n",
    "Ну вот и весь ответ - chaining! Поискала в официальных доках:  \n",
    "Note that comparisons, membership tests, and identity tests, all have the same precedence and have a left-to-right chaining feature as described in the Comparisons section.  \n",
    "\n",
    "6.10. Comparisons  \n",
    "Unlike C, all comparison operations in Python have the same priority, which is lower than that of any arithmetic, shifting or bitwise operation. Also unlike C, expressions like a < b < c have the interpretation that is conventional in mathematics:\n",
    "\n",
    "comparison    ::=  or_expr (comp_operator or_expr)*  \n",
    "comp_operator ::=  \"<\" | \">\" | \"==\" | \">=\" | \"<=\" | \"!=\"\n",
    "                   | \"is\" [\"not\"] | [\"not\"] \"in\"\n",
    "                   \n",
    "Comparisons yield boolean values: True or False.\n",
    "\n",
    "Comparisons can be chained arbitrarily, e.g., x < y <= z is equivalent to x < y and y <= z, except that y is evaluated only once (but in both cases z is not evaluated at all when x < y is found to be false).\n",
    "\n",
    "Formally, if a, b, c, …, y, z are expressions and op1, op2, …, opN are comparison operators, then a op1 b op2 c ... y opN z is equivalent to a op1 b and b op2 c and ... y opN z, except that each expression is evaluated at most once.\n",
    "\n",
    "Note that a op1 b op2 c doesn’t imply any kind of comparison between a and c, so that, e.g., x < y > z is perfectly legal (though perhaps not pretty)."
   ]
  },
  {
   "cell_type": "code",
   "execution_count": null,
   "metadata": {},
   "outputs": [],
   "source": []
  },
  {
   "cell_type": "markdown",
   "metadata": {},
   "source": [
    "Chaning вроде не работает для and и or:"
   ]
  },
  {
   "cell_type": "code",
   "execution_count": 21,
   "metadata": {},
   "outputs": [
    {
     "data": {
      "text/plain": [
       "True"
      ]
     },
     "execution_count": 21,
     "metadata": {},
     "output_type": "execute_result"
    }
   ],
   "source": [
    "True or False and True"
   ]
  },
  {
   "cell_type": "code",
   "execution_count": 23,
   "metadata": {},
   "outputs": [
    {
     "data": {
      "text/plain": [
       "False"
      ]
     },
     "execution_count": 23,
     "metadata": {},
     "output_type": "execute_result"
    }
   ],
   "source": [
    "(True or False) and (False and True)"
   ]
  },
  {
   "cell_type": "markdown",
   "metadata": {},
   "source": [
    "### Encrypt this!\n",
    "6 kyu  \n",
    "\n",
    "Description:  \n",
    "Encrypt this!  \n",
    "\n",
    "You want to create secret messages which can be deciphered by the Decipher this! kata. Here are the conditions:  \n",
    "\n",
    "Your message is a string containing space separated words.\n",
    "You need to encrypt each word in the message using the following rules:\n",
    "The first letter needs to be converted to its ASCII code.\n",
    "The second letter needs to be switched with the last letter\n",
    "Keepin' it simple: There are no special characters in input.\n",
    "\n",
    "Examples:  \n",
    "encrypt_this(\"Hello\") == \"72olle\"  \n",
    "encrypt_this(\"good\") == \"103doo\"  \n",
    "encrypt_this(\"hello world\") == \"104olle 119drlo\"  "
   ]
  },
  {
   "cell_type": "code",
   "execution_count": 5,
   "metadata": {},
   "outputs": [
    {
     "data": {
      "text/plain": [
       "65"
      ]
     },
     "execution_count": 5,
     "metadata": {},
     "output_type": "execute_result"
    }
   ],
   "source": [
    "ord('A')"
   ]
  },
  {
   "cell_type": "markdown",
   "metadata": {},
   "source": [
    "Моё решение:"
   ]
  },
  {
   "cell_type": "code",
   "execution_count": 25,
   "metadata": {},
   "outputs": [
    {
     "name": "stdout",
     "output_type": "stream",
     "text": [
      "72olle\n",
      "103doo\n",
      "104olle 119drlo\n",
      "65 119esi 111dl 111lw 108dvei 105n 97n 111ka\n"
     ]
    }
   ],
   "source": [
    "def encrypt_this(text):\n",
    "    def encrypt_word(word):\n",
    "        if len(word) == 1:\n",
    "            return str(ord(word[0]))\n",
    "        elif len(word) == 2:\n",
    "            return str(ord(word[0])) + word[1]\n",
    "        else:\n",
    "            return str(ord(word[0])) + word[-1] + word[2:-1] + word[1]\n",
    "        \n",
    "    return ' '.join(map(encrypt_word, text.split()))\n",
    "\n",
    "print(encrypt_this(\"Hello\")) # \"72olle\"\n",
    "print(encrypt_this(\"good\")) # \"103doo\"\n",
    "print(encrypt_this(\"hello world\")) # \"104olle 119drlo\"\n",
    "print(encrypt_this('A wise old owl lived in an oak')) # 65 119esi 111dl 111lw 108dvei 105n 97n 111ka"
   ]
  },
  {
   "cell_type": "markdown",
   "metadata": {},
   "source": [
    "Подсмотрела чужоё решение, поменяю своё, заимствовав интересную идею:"
   ]
  },
  {
   "cell_type": "code",
   "execution_count": 18,
   "metadata": {},
   "outputs": [
    {
     "name": "stdout",
     "output_type": "stream",
     "text": [
      "72olle\n",
      "103doo\n",
      "104olle 119drlo\n",
      "65 119esi 111dl 111lw 108dvei 105nn 97nn 111ka\n"
     ]
    }
   ],
   "source": [
    "def encrypt_this(text):\n",
    "    def encrypt_word(word):\n",
    "        word = list(word)\n",
    "        word[0] = str(ord(word[0]))\n",
    "\n",
    "        if len(word) > 2:\n",
    "            word[1], word[-1] = word[-1], word[1]\n",
    "\n",
    "        return ''.join(word)\n",
    "        \n",
    "    return ' '.join(map(encrypt_word, text.split()))\n",
    "\n",
    "print(encrypt_this(\"Hello\")) # \"72olle\"\n",
    "print(encrypt_this(\"good\")) # \"103doo\"\n",
    "print(encrypt_this(\"hello world\")) # \"104olle 119drlo\"\n",
    "print('65 119esi 111dl 111lw 108dvei 105nn 97nn 111ka')"
   ]
  },
  {
   "cell_type": "markdown",
   "metadata": {},
   "source": [
    "Чужие итересные решения:"
   ]
  },
  {
   "cell_type": "markdown",
   "metadata": {},
   "source": [
    "__№1__"
   ]
  },
  {
   "cell_type": "code",
   "execution_count": 19,
   "metadata": {},
   "outputs": [],
   "source": [
    "def encrypt_this(text):\n",
    "    result = []\n",
    "    \n",
    "    for word in text.split():\n",
    "        # turn word into a list\n",
    "        word = list(word)\n",
    "        \n",
    "        # replace first letter with ascii code\n",
    "        word[0] = str(ord(word[0]))\n",
    "        \n",
    "        # switch 2nd and last letters\n",
    "        if len(word) > 2:\n",
    "            word[1], word[-1] = word[-1], word[1]\n",
    "        \n",
    "        # add to results\n",
    "        result.append(''.join(word))\n",
    "    \n",
    "    return ' '.join(result)"
   ]
  },
  {
   "cell_type": "markdown",
   "metadata": {},
   "source": [
    "__№2__\n",
    "\n",
    "Чем-то похоже на моё, но компактнее."
   ]
  },
  {
   "cell_type": "code",
   "execution_count": null,
   "metadata": {},
   "outputs": [],
   "source": [
    "def process_word(word):\n",
    "    return str(ord(word[0])) + ((word[-1] + word[2:-1] + word[1]) if len(word) > 2 else word[1:])\n",
    "\n",
    "def encrypt_this(text):\n",
    "    return \" \".join(map(process_word, text.split()))"
   ]
  },
  {
   "cell_type": "markdown",
   "metadata": {},
   "source": [
    "__№3__"
   ]
  },
  {
   "cell_type": "code",
   "execution_count": 26,
   "metadata": {},
   "outputs": [
    {
     "name": "stdout",
     "output_type": "stream",
     "text": [
      "72olle\n",
      "103doo\n",
      "104olle 119drlo\n",
      "65 119esi 111dl 111lw 108dvei 105n 97n 111ka\n"
     ]
    }
   ],
   "source": [
    "def swapper(w):\n",
    "    return w if len(w)<2 else w[-1] + w[1:-1] + w[0]\n",
    "\n",
    "def encrypt_this(s):\n",
    "    return ' '.join(w if not w else str(ord(w[0])) + swapper(w[1:]) for w in s.split())\n",
    "\n",
    "print(encrypt_this(\"Hello\")) # \"72olle\"\n",
    "print(encrypt_this(\"good\")) # \"103doo\"\n",
    "print(encrypt_this(\"hello world\")) # \"104olle 119drlo\"\n",
    "print(encrypt_this('A wise old owl lived in an oak')) # 65 119esi 111dl 111lw 108dvei 105n 97n 111ka"
   ]
  },
  {
   "cell_type": "markdown",
   "metadata": {},
   "source": [
    "Уберу лишний, как мне кажется, if:"
   ]
  },
  {
   "cell_type": "code",
   "execution_count": 27,
   "metadata": {},
   "outputs": [
    {
     "name": "stdout",
     "output_type": "stream",
     "text": [
      "72olle\n",
      "103doo\n",
      "104olle 119drlo\n",
      "65 119esi 111dl 111lw 108dvei 105n 97n 111ka\n"
     ]
    }
   ],
   "source": [
    "def swapper(w):\n",
    "    return w if len(w)<2 else w[-1] + w[1:-1] + w[0]\n",
    "\n",
    "def encrypt_this(s):\n",
    "    return ' '.join(str(ord(w[0])) + swapper(w[1:]) for w in s.split())\n",
    "\n",
    "print(encrypt_this(\"Hello\")) # \"72olle\"\n",
    "print(encrypt_this(\"good\")) # \"103doo\"\n",
    "print(encrypt_this(\"hello world\")) # \"104olle 119drlo\"\n",
    "print(encrypt_this('A wise old owl lived in an oak')) # 65 119esi 111dl 111lw 108dvei 105n 97n 111ka"
   ]
  },
  {
   "cell_type": "markdown",
   "metadata": {},
   "source": [
    "Вроде не сломалось."
   ]
  },
  {
   "cell_type": "markdown",
   "metadata": {},
   "source": [
    "20200629"
   ]
  },
  {
   "cell_type": "markdown",
   "metadata": {},
   "source": [
    "### Getting along with Integer Partitions\n",
    "\n",
    "4 kyu\n",
    "\n",
    "From wikipedia https://en.wikipedia.org/wiki/Partition_(number_theory)\n",
    "\n",
    "In number theory and combinatorics, a partition of a positive integer n, also called an integer partition, is a way of writing n as a sum of positive integers. Two sums that differ only in the order of their summands are considered the same partition.\n",
    "\n",
    "For example, 4 can be partitioned in five distinct ways:\n",
    "\n",
    "4, 3 + 1, 2 + 2, 2 + 1 + 1, 1 + 1 + 1 + 1.\n",
    "\n",
    "We can write:\n",
    "\n",
    "enum(4) -> [[4],[3,1],[2,2],[2,1,1],[1,1,1,1]] and\n",
    "\n",
    "enum(5) -> [[5],[4,1],[3,2],[3,1,1],[2,2,1],[2,1,1,1],[1,1,1,1,1]].\n",
    "\n",
    "The number of parts in a partition grows very fast. For n = 50 number of parts is 204226, for 80 it is 15,796,476 It would be too long to tests answers with arrays of such size. So our task is the following:\n",
    "\n",
    "1 - n being given (n integer, 1 <= n <= 50) calculate enum(n) ie the partition of n. We will obtain something like that:\n",
    "enum(n) -> [[n],[n-1,1],[n-2,2],...,[1,1,...,1]] (order of array and sub-arrays doesn't matter). This part is not tested.\n",
    "\n",
    "2 - For each sub-array of enum(n) calculate its product. If n = 5 we'll obtain after removing duplicates and sorting:\n",
    "\n",
    "prod(5) -> [1,2,3,4,5,6]\n",
    "\n",
    "prod(8) -> [1, 2, 3, 4, 5, 6, 7, 8, 9, 10, 12, 15, 16, 18]\n",
    "\n",
    "If n = 40 prod(n) has a length of 2699 hence the tests will not verify such arrays. Instead our task number 3 is:\n",
    "\n",
    "3 - return the range, the average and the median of prod(n) in the following form (example for n = 5):\n",
    "\n",
    "\"Range: 5 Average: 3.50 Median: 3.50\"\n",
    "\n",
    "Range is an integer, Average and Median are float numbers rounded to two decimal places (\".2f\" in some languages).\n",
    "\n",
    "Notes: Range : difference between the highest and lowest values.\n",
    "\n",
    "Mean or Average : To calculate mean, add together all of the numbers in a set and then divide the sum by the total count of numbers.\n",
    "\n",
    "Median : The median is the number separating the higher half of a data sample from the lower half. (https://en.wikipedia.org/wiki/Median)\n",
    "\n",
    "Hints: Try to optimize your program to avoid timing out.\n",
    "\n",
    "Memoization can be helpful but it is not mandatory for being successful."
   ]
  },
  {
   "cell_type": "code",
   "execution_count": null,
   "metadata": {},
   "outputs": [],
   "source": [
    "def partition(n):\n",
    "    prod = [None for i in range(n)]\n",
    "    print(prod)\n",
    "    \n",
    "    def part(n):\n",
    "        if n == 1:\n",
    "            \n",
    "        # \n",
    "        for  summand1 in range(n // 2):\n",
    "            if not prod[summand1]:\n",
    "                part(summand1)\n",
    "            \n",
    "    \n",
    "    \n"
   ]
  },
  {
   "cell_type": "markdown",
   "metadata": {},
   "source": [
    "### Parabolic Arc Length\n",
    "https://www.codewars.com/kata/562e274ceca15ca6e70000d3  \n",
    "6 kyu  \n",
    "\n",
    "We want to approximate the length of a curve representing a function y = f(x) with a <= x <= b. First, we split the interval [a, b] into n sub-intervals with widths h1, h2, ... , hn by defining points x1, x2 , ... , xn-1 between a and b. This defines points P0, P1, P2, ... , Pn on the curve whose x-coordinates are a, x1, x2 , ... , xn-1, b and y-coordinates f(a), f(x1), ..., f(xn-1), f(b) . By connecting these points, we obtain a polygonal path approximating the curve.\n",
    "\n",
    "Our task is to approximate the length of a parabolic arc representing the curve y = x * x with x in the interval [0, 1]. We will take a common step h between the points xi: h1, h2, ... , hn = h = 1/n and we will consider the points P0, P1, P2, ... , Pn on the curve. The coordinates of each Pi are (xi, yi = xi * xi).\n",
    "\n",
    "The function len_curve (or similar in other languages) takes n as parameter (number of sub-intervals) and returns the length of the curve. You can truncate it to 9 decimal places."
   ]
  },
  {
   "cell_type": "markdown",
   "metadata": {},
   "source": [
    "__My solutions:__"
   ]
  },
  {
   "cell_type": "markdown",
   "metadata": {},
   "source": [
    "__#1__"
   ]
  },
  {
   "cell_type": "code",
   "execution_count": 20,
   "metadata": {},
   "outputs": [
    {
     "name": "stdout",
     "output_type": "stream",
     "text": [
      "0\n",
      "1.414213562\n",
      "1.478197397\n"
     ]
    }
   ],
   "source": [
    "def len_curve(n):\n",
    "    if n == 0:\n",
    "        return 0\n",
    "    \n",
    "    res = 0\n",
    "    # Interval [a, b]: [0, 1]\n",
    "    Pprev = 0          # a * a = 0 * 0 = 0\n",
    "    hh = (1 / n) ** 2  # h * h (square of cathetus)\n",
    "    for i in range(1, n + 1):\n",
    "        Pnext = (i / n) ** 2  # (a + ((b - a) / n) * i) ** 2, a == 0, b == 1\n",
    "        res += ((Pnext - Pprev) ** 2 + hh) ** 0.5\n",
    "        Pprev = Pnext\n",
    "    return round(res, 9)\n",
    "        \n",
    "print(len_curve(0))\n",
    "print(len_curve(1))\n",
    "print(len_curve(10))"
   ]
  },
  {
   "cell_type": "code",
   "execution_count": 3,
   "metadata": {},
   "outputs": [
    {
     "ename": "TypeError",
     "evalue": "'float' object cannot be interpreted as an integer",
     "output_type": "error",
     "traceback": [
      "\u001b[1;31m---------------------------------------------------------------------------\u001b[0m",
      "\u001b[1;31mTypeError\u001b[0m                                 Traceback (most recent call last)",
      "\u001b[1;32m<ipython-input-3-d0fa77bd4356>\u001b[0m in \u001b[0;36m<module>\u001b[1;34m\u001b[0m\n\u001b[1;32m----> 1\u001b[1;33m \u001b[0mrange\u001b[0m\u001b[1;33m(\u001b[0m\u001b[1;36m1.5\u001b[0m\u001b[1;33m,\u001b[0m \u001b[1;36m2\u001b[0m\u001b[1;33m,\u001b[0m \u001b[1;36m0.1\u001b[0m\u001b[1;33m)\u001b[0m\u001b[1;33m\u001b[0m\u001b[1;33m\u001b[0m\u001b[0m\n\u001b[0m",
      "\u001b[1;31mTypeError\u001b[0m: 'float' object cannot be interpreted as an integer"
     ]
    }
   ],
   "source": [
    "range(1.5, 2, 0.1) # TypeError: 'float' object cannot be interpreted as an integer"
   ]
  },
  {
   "cell_type": "markdown",
   "metadata": {},
   "source": [
    "Видимо, range работает только с целыми аргументами и возвращает только целые числа."
   ]
  },
  {
   "cell_type": "markdown",
   "metadata": {},
   "source": [
    "__#2__"
   ]
  },
  {
   "cell_type": "code",
   "execution_count": 28,
   "metadata": {},
   "outputs": [
    {
     "name": "stdout",
     "output_type": "stream",
     "text": [
      "1.414213562\n",
      "1.478197397\n"
     ]
    }
   ],
   "source": [
    "def len_curve(n):\n",
    "    deltaP = ((2 * i - 1) / n ** 2 for i in range(1, n + 1)) # (i / n) ** 2 - ((i - 1) / n) ** 2\n",
    "    hh = (1 / n) ** 2\n",
    "    return round(sum(map(lambda x: (x ** 2 + hh) ** 0.5, deltaP)), 9)\n",
    "\n",
    "        \n",
    "print(len_curve(1))\n",
    "print(len_curve(10))"
   ]
  },
  {
   "cell_type": "code",
   "execution_count": 27,
   "metadata": {},
   "outputs": [
    {
     "name": "stdout",
     "output_type": "stream",
     "text": [
      "1.414213562\n",
      "1.478197397\n"
     ]
    }
   ],
   "source": [
    "def len_curve(n):\n",
    "    hh = (1 / n) ** 2\n",
    "    return round(sum(map(lambda x: (x ** 2 + hh) ** 0.5, ((2 * i - 1) / n ** 2 for i in range(1, n + 1)))), 9)\n",
    "\n",
    "        \n",
    "print(len_curve(1))\n",
    "print(len_curve(10))"
   ]
  },
  {
   "cell_type": "markdown",
   "metadata": {},
   "source": [
    "__Other people's solutions:__"
   ]
  },
  {
   "cell_type": "markdown",
   "metadata": {},
   "source": [
    "__#1__"
   ]
  },
  {
   "cell_type": "code",
   "execution_count": null,
   "metadata": {},
   "outputs": [],
   "source": [
    "from math import sqrt\n",
    "def len_curve(n):\n",
    "    return round(sum(sqrt((2*k+1)**2/n/n + 1) for k in range(n))/n, 9)"
   ]
  },
  {
   "cell_type": "markdown",
   "metadata": {},
   "source": [
    "__#2__ Using numpy!!!"
   ]
  },
  {
   "cell_type": "code",
   "execution_count": null,
   "metadata": {},
   "outputs": [],
   "source": [
    "from numpy import diff, hypot, linspace\n",
    "\n",
    "def len_curve(n):\n",
    "    ys = linspace(0, 1, n+1) ** 2\n",
    "    return round(hypot(1/n, diff(ys)).sum(), 9)"
   ]
  },
  {
   "cell_type": "markdown",
   "metadata": {},
   "source": [
    "Подсмотрела чужие решения и поняла, что функция map() может быть и лишней в моём решении, а также то, что можно использовать range(n):"
   ]
  },
  {
   "cell_type": "markdown",
   "metadata": {},
   "source": [
    "Но простая смена диапазона на range(n) в данном случае приводит к плохому результату (см. 2-й тест):"
   ]
  },
  {
   "cell_type": "code",
   "execution_count": 247,
   "metadata": {},
   "outputs": [
    {
     "name": "stdout",
     "output_type": "stream",
     "text": [
      "1.414213562\n",
      "1.363987048\n"
     ]
    }
   ],
   "source": [
    "def len_curve(n):\n",
    "    deltaP = ((2 * i - 1) / n ** 2 for i in range(n)) # (i / n) ** 2 - ((i - 1) / n) ** 2\n",
    "    hh = (1 / n) ** 2\n",
    "    return round(sum(map(lambda x: (x ** 2 + hh) ** 0.5, deltaP)), 9)\n",
    "\n",
    "        \n",
    "print(len_curve(1))\n",
    "print(len_curve(10))"
   ]
  },
  {
   "cell_type": "markdown",
   "metadata": {},
   "source": [
    "Поэтому проведу кое-какие \"исследования\":"
   ]
  },
  {
   "cell_type": "code",
   "execution_count": 244,
   "metadata": {},
   "outputs": [
    {
     "data": {
      "text/plain": [
       "[0.01, 0.03, 0.05, 0.07, 0.09, 0.11, 0.13, 0.15, 0.17, 0.19]"
      ]
     },
     "execution_count": 244,
     "metadata": {},
     "output_type": "execute_result"
    }
   ],
   "source": [
    "n = 10\n",
    "list((2 * i - 1) / n ** 2 for i in range(1, n + 1)) # (i/n)**2 - ((i-1)/n)**2"
   ]
  },
  {
   "cell_type": "markdown",
   "metadata": {},
   "source": [
    "Т.к. будем потом возводить в квадрат (по т. Пифагора), то на знак всё равно:"
   ]
  },
  {
   "cell_type": "code",
   "execution_count": 245,
   "metadata": {},
   "outputs": [
    {
     "data": {
      "text/plain": [
       "[-0.01, -0.03, -0.05, -0.07, -0.09, -0.11, -0.13, -0.15, -0.17, -0.19]"
      ]
     },
     "execution_count": 245,
     "metadata": {},
     "output_type": "execute_result"
    }
   ],
   "source": [
    "n = 10\n",
    "list((- 2 * i + 1) / n ** 2 for i in range(1, n + 1)) # ((i-1)/n)**2 - (i/n)**2"
   ]
  },
  {
   "cell_type": "code",
   "execution_count": 246,
   "metadata": {},
   "outputs": [
    {
     "data": {
      "text/plain": [
       "[-0.01, 0.01, 0.03, 0.05, 0.07, 0.09, 0.11, 0.13, 0.15, 0.17]"
      ]
     },
     "execution_count": 246,
     "metadata": {},
     "output_type": "execute_result"
    }
   ],
   "source": [
    "n = 10\n",
    "list((2 * i - 1) / n ** 2 for i in range(n)) # (i/n)**2 - ((i-1)/n)**2"
   ]
  },
  {
   "cell_type": "markdown",
   "metadata": {},
   "source": [
    "Если две соседние точки рассматривать как i/n и (i + 1)/n (а не (i - 1)/n и i/n), то результат тоже плохой:"
   ]
  },
  {
   "cell_type": "code",
   "execution_count": 248,
   "metadata": {},
   "outputs": [
    {
     "data": {
      "text/plain": [
       "[0.03, 0.05, 0.07, 0.09, 0.11, 0.13, 0.15, 0.17, 0.19, 0.21]"
      ]
     },
     "execution_count": 248,
     "metadata": {},
     "output_type": "execute_result"
    }
   ],
   "source": [
    "n = 10\n",
    "list((2 * i + 1) / n ** 2 for i in range(1, n + 1)) # (i/n)**2 - ((i+1)/n)**2"
   ]
  },
  {
   "cell_type": "markdown",
   "metadata": {},
   "source": [
    "Это потому что вычитая из x1 из x0 нужно поменять и range (теперь результат соответствует первому и второму):"
   ]
  },
  {
   "cell_type": "code",
   "execution_count": 249,
   "metadata": {},
   "outputs": [
    {
     "data": {
      "text/plain": [
       "[0.01, 0.03, 0.05, 0.07, 0.09, 0.11, 0.13, 0.15, 0.17, 0.19]"
      ]
     },
     "execution_count": 249,
     "metadata": {},
     "output_type": "execute_result"
    }
   ],
   "source": [
    "n = 10\n",
    "list((2 * i + 1) / n ** 2 for i in range(n)) # (i/n)**2 - ((i+1)/n)**2"
   ]
  },
  {
   "cell_type": "markdown",
   "metadata": {},
   "source": [
    "Теперь перейду к тому, что в моём решении map() лишняя: просто нужно не сначала вычислять в отдельном генераторе deltaP, а потом в функции map() по т. Пифагора считать длину стороны многоугольника, т.е. по сути создать ещё один генератор, а сразу считать длину стороны в первом генераторе. При этом можно использовать результат последнего \"исследования\" по диапазонам и точкам отсчёта, а также ещё немного упростить выражение, вынеся 1/n**2 из квадратного корня и за скобки с суммой:"
   ]
  },
  {
   "cell_type": "code",
   "execution_count": 259,
   "metadata": {},
   "outputs": [
    {
     "name": "stdout",
     "output_type": "stream",
     "text": [
      "1.414213562\n",
      "1.478197397\n"
     ]
    }
   ],
   "source": [
    "from math import sqrt\n",
    "\n",
    "def len_curve(n):\n",
    "    return round(sum(sqrt((2 * i + 1) ** 2 / n ** 2 + 1) for i in range(n)) / n, 9)\n",
    "\n",
    "        \n",
    "print(len_curve(1))\n",
    "print(len_curve(10))"
   ]
  },
  {
   "cell_type": "markdown",
   "metadata": {},
   "source": [
    "### Mexican Wave\n",
    "https://www.codewars.com/kata/58f5c63f1e26ecda7e000029  \n",
    "6 kyu\n",
    "\n",
    "Task\n",
    "In this simple Kata your task is to create a function that turns a string into a Mexican Wave. You will be passed a string and you must return that string in an array where an uppercase letter is a person standing up. \n",
    "\n",
    "Rules\n",
    " 1.  The input string will always be lower case but maybe empty.\n",
    "\n",
    " 2.  If the character in the string is whitespace then pass over it as if it was an empty seat\n",
    "\n",
    "Example\n",
    "wave(\"hello\") => [\"Hello\", \"hEllo\", \"heLlo\", \"helLo\", \"hellO\"]"
   ]
  },
  {
   "cell_type": "code",
   "execution_count": 8,
   "metadata": {},
   "outputs": [
    {
     "name": "stdout",
     "output_type": "stream",
     "text": [
      "['Hello', 'hEllo', 'heLlo', 'helLo', 'hellO']\n",
      "[' Gap ', ' gAp ', ' gaP ']\n"
     ]
    }
   ],
   "source": [
    "def wave(people):\n",
    "    return [people[:i] + char.upper() + people[i + 1:] for i, char in enumerate(people) if not char.isspace()]\n",
    "\n",
    "print(wave('hello'))\n",
    "print(wave(' gap '))"
   ]
  },
  {
   "cell_type": "code",
   "execution_count": 5,
   "metadata": {},
   "outputs": [
    {
     "name": "stdout",
     "output_type": "stream",
     "text": [
      "Help on method_descriptor:\n",
      "\n",
      "isspace(self, /)\n",
      "    Return True if the string is a whitespace string, False otherwise.\n",
      "    \n",
      "    A string is whitespace if all characters in the string are whitespace and there\n",
      "    is at least one character in the string.\n",
      "\n"
     ]
    }
   ],
   "source": [
    "help(str.upper)"
   ]
  },
  {
   "cell_type": "markdown",
   "metadata": {},
   "source": [
    "### Cryptanalysis Word Patterns\n",
    "https://www.codewars.com/kata/5f3142b3a28d9b002ef58f5e  \n",
    "7 kyu\n",
    "\n",
    "In cryptanalysis, words patterns can be a useful tool in cracking simple ciphers.\n",
    "\n",
    "A word pattern is a description of the patterns of letters occurring in a word, where each letter is given an integer code in order of appearance. So the first letter is given the code 0, and second is then assigned 1 if it is different to the first letter or 0 otherwise, and so on.\n",
    "\n",
    "As an example, the word \"hello\" would become \"0.1.2.2.3\". For this task case-sensitivity is ignored, so \"hello\", \"helLo\" and \"heLlo\" will all return the same word pattern.\n",
    "\n",
    "Your task is to return the word pattern for a given word. All words provided will be non-empty strings of alphabetic characters only, i.e. matching the regex \"[a-zA-Z]+\"."
   ]
  },
  {
   "cell_type": "markdown",
   "metadata": {},
   "source": [
    "__My solution:__"
   ]
  },
  {
   "cell_type": "code",
   "execution_count": 16,
   "metadata": {},
   "outputs": [
    {
     "name": "stdout",
     "output_type": "stream",
     "text": [
      "0.1.2.2.3\n",
      "0.1.2.2.3\n"
     ]
    }
   ],
   "source": [
    "def word_pattern(word):\n",
    "    table = dict()\n",
    "    order = 0\n",
    "    res = []\n",
    "    for c in word.lower():\n",
    "        if c not in table:\n",
    "            table[c] = str(order)\n",
    "            order += 1\n",
    "        res.append(table[c])\n",
    "    return '.'.join(res)\n",
    "\n",
    "print(word_pattern(\"hello\"))\n",
    "print(word_pattern(\"helLo\"))"
   ]
  },
  {
   "cell_type": "markdown",
   "metadata": {},
   "source": [
    "### Returning Strings\n",
    "https://www.codewars.com/kata/55a70521798b14d4750000a4  \n",
    "8 kyu\n",
    "\n",
    "Make a function that will return a greeting statement that uses an input; your program should return, \"Hello, <name> how are you doing today?\"."
   ]
  },
  {
   "cell_type": "code",
   "execution_count": 18,
   "metadata": {},
   "outputs": [
    {
     "data": {
      "text/plain": [
       "'Hello, Shima how are you doing today?'"
      ]
     },
     "execution_count": 18,
     "metadata": {},
     "output_type": "execute_result"
    }
   ],
   "source": [
    "def greet(name):\n",
    "    return f'Hello, {name} how are you doing today?'\n",
    "\n",
    "greet('Shima')"
   ]
  },
  {
   "cell_type": "markdown",
   "metadata": {},
   "source": [
    "### Maximum subarray sum\n",
    "https://www.codewars.com/kata/54521e9ec8e60bc4de000d6c  \n",
    "5 kyu\n",
    "\n",
    "The maximum sum subarray problem consists in finding the maximum sum of a contiguous subsequence in an array or list of integers:\n",
    "\n",
    "max_sequence([-2, 1, -3, 4, -1, 2, 1, -5, 4]) # should be 6: [4, -1, 2, 1]\n",
    "Easy case is when the list is made up of only positive numbers and the maximum sum is the sum of the whole array. If the list is made up of only negative numbers, return 0 instead.\n",
    "\n",
    "Empty list is considered to have zero greatest sum. Note that the empty list or array is also a valid sublist/subarray."
   ]
  },
  {
   "cell_type": "code",
   "execution_count": 57,
   "metadata": {},
   "outputs": [
    {
     "name": "stdout",
     "output_type": "stream",
     "text": [
      "пуст\n",
      "все полож\n",
      "норм\n",
      "все нули или отриц\n",
      "все нули или отриц\n",
      "все отриц\n",
      "норм\n",
      "норм\n"
     ]
    }
   ],
   "source": [
    "def func(lst):\n",
    "    #if not lst: # исходный список пуст\n",
    "        #return 0\n",
    "    \n",
    "    #print(sum(map(lambda x: int(x / abs(x)) if x else 0, lst)))\n",
    "    # Сумма для анализа содержимого исходного списка\n",
    "    s = sum(map(lambda x: int(x / abs(x)) if x else 0, lst))\n",
    "    if s == 0 == len(lst): # исходный список пуст, по условию его сумма 0\n",
    "        return 'пуст'\n",
    "    elif s < 0 and abs(s) == len(lst): # все элементы строго отрицательные\n",
    "        return 'все отриц'   # значит сумма пустого подмассива самая большая -> 0\n",
    "    elif not list(filter(lambda x: x > 0, lst)): # все элементы отриц. или нули\n",
    "        return 'все нули или отриц'    # значит сумма пустого подмассива самая большая -> 0\n",
    "    elif s > 0 and s == len(lst): # все элементы строго положительны\n",
    "        return 'все полож'\n",
    "    else:\n",
    "        return 'норм'\n",
    " \n",
    "\n",
    "\n",
    "print(func([]))\n",
    "print(func([1, 1]))\n",
    "print(func([0, 1]))\n",
    "print(func([0, 0]))\n",
    "print(func([-1, 0]))\n",
    "print(func([-1, -1]))\n",
    "print(func([1, -1]))\n",
    "print(func([1, -2]))"
   ]
  },
  {
   "cell_type": "code",
   "execution_count": 75,
   "metadata": {},
   "outputs": [
    {
     "name": "stdout",
     "output_type": "stream",
     "text": [
      "0 1 -2\n",
      "1 2 1\n",
      "2 3 1\n",
      "3 4 4\n",
      "4 5 4\n",
      "5 6 4\n",
      "6 7 4\n",
      "7 8 4\n",
      "0 2 -1\n",
      "1 3 -1\n",
      "2 4 5\n",
      "3 5 7\n",
      "4 6 7\n",
      "5 7 7\n",
      "6 8 7\n",
      "0 3 -4\n",
      "1 4 2\n",
      "2 5 2\n",
      "3 6 3\n",
      "4 7 3\n",
      "5 8 3\n",
      "0 4 0\n",
      "1 5 1\n",
      "2 6 2\n",
      "3 7 6\n",
      "4 8 6\n",
      "0 5 -1\n",
      "1 6 3\n",
      "2 7 3\n",
      "3 8 3\n",
      "0 6 1\n",
      "1 7 4\n",
      "2 8 4\n",
      "0 7 2\n",
      "1 8 2\n",
      "0 8 -3\n",
      "2\n"
     ]
    }
   ],
   "source": [
    "def max_sequence(lst):\n",
    "    l = list(filter(lambda x: x > 0, lst)) # доп. список для анализа исходного списка \n",
    "    if not l:      # исходный список пуст или все элементы отриц. или нули\n",
    "        return 0   # значит сумма пустого подмассива самая большая -> 0 по условию\n",
    "    elif len(l) == len(lst): # все элементы строго положительны\n",
    "        return sum(lst)\n",
    "    else:\n",
    "        max_sum = 0\n",
    "        for i in range(1, len(lst)):\n",
    "            start, end, cur_max_start = 0, i, 0\n",
    "            cur_max_sum = sum(lst[start:end])\n",
    "            max_sum = max(max_sum, cur_max_sum)\n",
    "            while end < len(lst):\n",
    "                print(start, end, cur_max_sum)\n",
    "                dif = lst[end] - lst[cur_max_start]\n",
    "                start += 1\n",
    "                end += 1\n",
    "                if dif > 0:\n",
    "                    cur_max_sum += dif\n",
    "                    cur_max_start = start\n",
    "        return max_sum\n",
    "\n",
    "\n",
    "# print(max_sequence([]))\n",
    "# print(max_sequence([1, 1]))\n",
    "# print(max_sequence([0, 1]))\n",
    "# print(max_sequence([0, 0]))\n",
    "# print(max_sequence([-1, 0]))\n",
    "# print(max_sequence([-1, -1]))\n",
    "# print(max_sequence([1, -1]))\n",
    "# print(max_sequence([1, -2]))\n",
    "# print(max_sequence([1, -2, 3]))\n",
    "print(max_sequence([-2, 1, -3, 4, -1, 2, 1, -5, 4]))"
   ]
  },
  {
   "cell_type": "code",
   "execution_count": 43,
   "metadata": {},
   "outputs": [
    {
     "name": "stdout",
     "output_type": "stream",
     "text": [
      "True\n"
     ]
    }
   ],
   "source": [
    "if -1:\n",
    "    print(True)"
   ]
  },
  {
   "cell_type": "code",
   "execution_count": 44,
   "metadata": {},
   "outputs": [],
   "source": [
    "if 0:\n",
    "    print(True)"
   ]
  },
  {
   "cell_type": "code",
   "execution_count": 45,
   "metadata": {},
   "outputs": [
    {
     "name": "stdout",
     "output_type": "stream",
     "text": [
      "-1.0\n"
     ]
    }
   ],
   "source": [
    "if -2:\n",
    "    print(-2 / abs(-2))"
   ]
  },
  {
   "cell_type": "code",
   "execution_count": 50,
   "metadata": {},
   "outputs": [
    {
     "data": {
      "text/plain": [
       "3"
      ]
     },
     "execution_count": 50,
     "metadata": {},
     "output_type": "execute_result"
    }
   ],
   "source": [
    "abs(-3)"
   ]
  },
  {
   "cell_type": "markdown",
   "metadata": {},
   "source": [
    "20200904"
   ]
  },
  {
   "cell_type": "markdown",
   "metadata": {},
   "source": [
    "__My solution (the worst among other people's):__"
   ]
  },
  {
   "cell_type": "code",
   "execution_count": 99,
   "metadata": {},
   "outputs": [
    {
     "name": "stdout",
     "output_type": "stream",
     "text": [
      "6\n"
     ]
    }
   ],
   "source": [
    "def max_sequence(lst):\n",
    "    l = list(filter(lambda x: x > 0, lst)) # доп. список для анализа исходного списка \n",
    "    if not l:      # исходный список пуст или все элементы отриц. или нули\n",
    "        return 0   # значит сумма пустого подмассива (0 по условию) самая большая\n",
    "    elif len(l) == len(lst): # все элементы строго положительны\n",
    "        return sum(lst)\n",
    "    else:\n",
    "        max_sum = 0\n",
    "        for i in range(1, len(lst) + 1):\n",
    "            start, end = 0, i\n",
    "            while end <= len(lst):\n",
    "                #print(start, end)\n",
    "                max_sum = max(max_sum, sum(lst[start:end]))\n",
    "                start += 1\n",
    "                end += 1\n",
    "        return max_sum\n",
    "\n",
    "\n",
    "# print(max_sequence([]))\n",
    "# print(max_sequence([1, 1]))\n",
    "# print(max_sequence([0, 1]))\n",
    "# print(max_sequence([0, 0]))\n",
    "# print(max_sequence([-1, 0]))\n",
    "# print(max_sequence([-1, -1]))\n",
    "# print(max_sequence([1, -1]))\n",
    "# print(max_sequence([1, -2]))\n",
    "# print(max_sequence([1, -2, 3]))\n",
    "print(max_sequence([-2, 1, -3, 4, -1, 2, 1, -5, 4]))\n",
    "# print(max_sequence([4]))\n",
    "# print(max_sequence([0]))"
   ]
  },
  {
   "cell_type": "markdown",
   "metadata": {},
   "source": [
    "__Other people's solutions:__"
   ]
  },
  {
   "cell_type": "markdown",
   "metadata": {},
   "source": [
    "__#1__ (best, I suppose)"
   ]
  },
  {
   "cell_type": "code",
   "execution_count": 100,
   "metadata": {},
   "outputs": [
    {
     "name": "stdout",
     "output_type": "stream",
     "text": [
      "0\n",
      "2\n",
      "1\n",
      "0\n",
      "0\n",
      "0\n",
      "1\n",
      "1\n",
      "3\n",
      "6\n",
      "4\n",
      "0\n"
     ]
    }
   ],
   "source": [
    "def max_sequence(arr):\n",
    "    max_sum = cur_sum = 0\n",
    "    for item in arr:\n",
    "        cur_sum += item\n",
    "        \n",
    "        if cur_sum < 0:\n",
    "            cur_sum = 0\n",
    "            \n",
    "        if cur_sum > max_sum:\n",
    "            max_sum = cur_sum\n",
    "            \n",
    "    return max_sum\n",
    "\n",
    "print(max_sequence([]))\n",
    "print(max_sequence([1, 1]))\n",
    "print(max_sequence([0, 1]))\n",
    "print(max_sequence([0, 0]))\n",
    "print(max_sequence([-1, 0]))\n",
    "print(max_sequence([-1, -1]))\n",
    "print(max_sequence([1, -1]))\n",
    "print(max_sequence([1, -2]))\n",
    "print(max_sequence([1, -2, 3]))\n",
    "print(max_sequence([-2, 1, -3, 4, -1, 2, 1, -5, 4]))\n",
    "print(max_sequence([4]))\n",
    "print(max_sequence([0]))"
   ]
  },
  {
   "cell_type": "markdown",
   "metadata": {},
   "source": [
    "__#2__ (the same as #1, but in other words)"
   ]
  },
  {
   "cell_type": "code",
   "execution_count": 101,
   "metadata": {},
   "outputs": [
    {
     "name": "stdout",
     "output_type": "stream",
     "text": [
      "0\n",
      "2\n",
      "1\n",
      "0\n",
      "0\n",
      "0\n",
      "1\n",
      "1\n",
      "3\n",
      "6\n",
      "4\n",
      "0\n"
     ]
    }
   ],
   "source": [
    "def max_sequence(arr):\n",
    "    max_sum = cur_sum = 0\n",
    "    for item in arr:\n",
    "        cur_sum = max(0, cur_sum + item)\n",
    "        max_sum = max(cur_sum, max_sum)\n",
    "            \n",
    "    return max_sum\n",
    "\n",
    "print(max_sequence([]))\n",
    "print(max_sequence([1, 1]))\n",
    "print(max_sequence([0, 1]))\n",
    "print(max_sequence([0, 0]))\n",
    "print(max_sequence([-1, 0]))\n",
    "print(max_sequence([-1, -1]))\n",
    "print(max_sequence([1, -1]))\n",
    "print(max_sequence([1, -2]))\n",
    "print(max_sequence([1, -2, 3]))\n",
    "print(max_sequence([-2, 1, -3, 4, -1, 2, 1, -5, 4]))\n",
    "print(max_sequence([4]))\n",
    "print(max_sequence([0]))"
   ]
  },
  {
   "cell_type": "markdown",
   "metadata": {},
   "source": [
    "__#3__ With itertools!"
   ]
  },
  {
   "cell_type": "code",
   "execution_count": 109,
   "metadata": {},
   "outputs": [
    {
     "name": "stdout",
     "output_type": "stream",
     "text": [
      "2\n",
      "1\n",
      "0\n",
      "0\n",
      "0\n",
      "1\n",
      "1\n",
      "3\n",
      "6\n",
      "4\n",
      "0\n"
     ]
    }
   ],
   "source": [
    "def max_sequence(arr):\n",
    "    from itertools import accumulate\n",
    "    #print(list(accumulate(arr, lambda a, b: max(a + b, 0))))\n",
    "    return max(accumulate(arr, lambda a, b: max(a + b, 0)))\n",
    "\n",
    "#print(max_sequence([]))\n",
    "print(max_sequence([1, 1]))\n",
    "print(max_sequence([0, 1]))\n",
    "print(max_sequence([0, 0]))\n",
    "print(max_sequence([-1, 0]))\n",
    "print(max_sequence([-1, -1]))\n",
    "print(max_sequence([1, -1]))\n",
    "print(max_sequence([1, -2]))\n",
    "print(max_sequence([1, -2, 3]))\n",
    "print(max_sequence([-2, 1, -3, 4, -1, 2, 1, -5, 4]))\n",
    "print(max_sequence([4]))\n",
    "print(max_sequence([0]))"
   ]
  },
  {
   "cell_type": "markdown",
   "metadata": {},
   "source": [
    "### Some CS50's stuff"
   ]
  },
  {
   "cell_type": "code",
   "execution_count": 78,
   "metadata": {},
   "outputs": [
    {
     "data": {
      "text/plain": [
       "'<generator object <genexpr> at 0x000000000854E0C0>'"
      ]
     },
     "execution_count": 78,
     "metadata": {},
     "output_type": "execute_result"
    }
   ],
   "source": [
    "str(('a' for i in range(2))"
   ]
  },
  {
   "cell_type": "code",
   "execution_count": 83,
   "metadata": {},
   "outputs": [
    {
     "name": "stdout",
     "output_type": "stream",
     "text": [
      "путин владимир владимирович\n",
      "ПВВ\n"
     ]
    }
   ],
   "source": [
    "print(''.join(word[0].upper() for word in input().split()))"
   ]
  },
  {
   "cell_type": "markdown",
   "metadata": {},
   "source": [
    "### New Cashier Does Not Know About Space or Shift\n",
    "https://www.codewars.com/kata/5d23d89906f92a00267bb83d  \n",
    "6 kyu\n",
    "\n",
    "Some new cashiers started to work at your restaurant.\n",
    "\n",
    "They are good at taking orders, but they don't know how to capitalize words, or use a space bar!\n",
    "\n",
    "All the orders they create look something like this:\n",
    "\n",
    "\"milkshakepizzachickenfriescokeburgerpizzasandwichmilkshakepizza\"\n",
    "\n",
    "The kitchen staff are threatening to quit, because of how difficult it is to read the orders.\n",
    "\n",
    "Their preference is to get the orders as a nice clean string with spaces and capitals like so:\n",
    "\n",
    "\"Burger Fries Chicken Pizza Pizza Pizza Sandwich Milkshake Milkshake Coke\"\n",
    "\n",
    "The kitchen staff expect the items to be in the same order as they appear in the menu.\n",
    "\n",
    "The menu items are fairly simple, there is no overlap in the names of the items:\n",
    "\n",
    "1. Burger  \n",
    "2. Fries  \n",
    "3. Chicken  \n",
    "4. Pizza  \n",
    "5. Sandwich  \n",
    "6. Onionrings  \n",
    "7. Milkshake  \n",
    "8. Coke  "
   ]
  },
  {
   "cell_type": "code",
   "execution_count": 110,
   "metadata": {},
   "outputs": [
    {
     "name": "stdout",
     "output_type": "stream",
     "text": [
      "Help on method_descriptor:\n",
      "\n",
      "startswith(...)\n",
      "    S.startswith(prefix[, start[, end]]) -> bool\n",
      "    \n",
      "    Return True if S starts with the specified prefix, False otherwise.\n",
      "    With optional start, test S beginning at that position.\n",
      "    With optional end, stop comparing S at that position.\n",
      "    prefix can also be a tuple of strings to try.\n",
      "\n"
     ]
    }
   ],
   "source": [
    "help(str.startswith)"
   ]
  },
  {
   "cell_type": "code",
   "execution_count": 164,
   "metadata": {},
   "outputs": [
    {
     "name": "stdout",
     "output_type": "stream",
     "text": [
      "Help on method_descriptor:\n",
      "\n",
      "join(self, iterable, /)\n",
      "    Concatenate any number of strings.\n",
      "    \n",
      "    The string whose method is called is inserted in between each given string.\n",
      "    The result is returned as a new string.\n",
      "    \n",
      "    Example: '.'.join(['ab', 'pq', 'rs']) -> 'ab.pq.rs'\n",
      "\n"
     ]
    }
   ],
   "source": [
    "help(str.join)"
   ]
  },
  {
   "cell_type": "code",
   "execution_count": 118,
   "metadata": {},
   "outputs": [
    {
     "name": "stdout",
     "output_type": "stream",
     "text": [
      "('burger', 'fries', 'chicken', 'pizza', 'sandwich', 'onionrings', 'milkshake', 'coke')\n"
     ]
    }
   ],
   "source": [
    "menu = 'Burger Fries Chicken Pizza Sandwich Onionrings Milkshake Coke'\n",
    "menu = tuple(word.lower() for word in menu.split())\n",
    "print(menu)"
   ]
  },
  {
   "cell_type": "code",
   "execution_count": 116,
   "metadata": {},
   "outputs": [
    {
     "name": "stdout",
     "output_type": "stream",
     "text": [
      "True\n"
     ]
    }
   ],
   "source": [
    "order = 'milkshakepizzachickenfriescokeburgerpizzasandwichmilkshakepizza'\n",
    "print(order.startswith(menu))"
   ]
  },
  {
   "cell_type": "code",
   "execution_count": 117,
   "metadata": {},
   "outputs": [
    {
     "name": "stdout",
     "output_type": "stream",
     "text": [
      "Help on method_descriptor:\n",
      "\n",
      "find(...)\n",
      "    S.find(sub[, start[, end]]) -> int\n",
      "    \n",
      "    Return the lowest index in S where substring sub is found,\n",
      "    such that sub is contained within S[start:end].  Optional\n",
      "    arguments start and end are interpreted as in slice notation.\n",
      "    \n",
      "    Return -1 on failure.\n",
      "\n"
     ]
    }
   ],
   "source": [
    "help(str.find)"
   ]
  },
  {
   "cell_type": "code",
   "execution_count": 165,
   "metadata": {},
   "outputs": [
    {
     "name": "stdout",
     "output_type": "stream",
     "text": [
      "['Burger', 'Fries', 'Chicken', 'Pizza', 'Sandwich', 'Onionrings', 'Milkshake', 'Coke']\n",
      "burger|fries|chicken|pizza|sandwich|onionrings|milkshake|coke\n"
     ]
    }
   ],
   "source": [
    "menu = 'Burger Fries Chicken Pizza Sandwich Onionrings Milkshake Coke'\n",
    "menu = menu.split()\n",
    "print(menu)\n",
    "#pattern = ''.join(f'({word})*' for word in menu)\n",
    "#pattern = '|'.join(menu)\n",
    "pattern = '|'.join(word.lower() for word in menu)\n",
    "print(pattern)"
   ]
  },
  {
   "cell_type": "code",
   "execution_count": null,
   "metadata": {},
   "outputs": [],
   "source": [
    "def func(order):\n",
    "    menu = ['Burger', 'Fries', 'Chicken', 'Pizza', 'Sandwich', 'Onionrings', 'Milkshake', 'Coke']\n",
    "    "
   ]
  },
  {
   "cell_type": "code",
   "execution_count": 159,
   "metadata": {},
   "outputs": [
    {
     "name": "stdout",
     "output_type": "stream",
     "text": [
      "['', '', '', '', '', '', '', '', '', '', '']\n",
      "['milkshake', 'pizza', 'chicken', 'fries', 'coke', 'burger', 'pizza', 'sandwich', 'milkshake', 'pizza']\n",
      "milkshake pizza chicken fries coke burger pizza sandwich milkshake pizza \n"
     ]
    }
   ],
   "source": [
    "import re\n",
    "\n",
    "order = 'milkshakepizzachickenfriescokeburgerpizzasandwichmilkshakepizza'\n",
    "#pattern = r'(Burger)(Fries)(Chicken)(Pizza)(Sandwich)(Onionrings)(Milkshake)(Coke)'\n",
    "#pattern = r'(Pizza)(Chicken)'\n",
    "#pattern = r'Burger|Fries|Chicken'\n",
    "#pattern = r'(Burger)|(Fries)|(Chicken)|(Pizza)|(Sandwich)|(Onionrings)|(Milkshake)|(Coke)'\n",
    "pattern = r'Burger|Fries|Chicken|Pizza|Sandwich|Onionrings|Milkshake|Coke'\n",
    "print(re.split(pattern, order, flags=re.IGNORECASE))\n",
    "print(re.findall(pattern, order, flags=re.IGNORECASE))\n",
    "\n",
    "# Добавлю pattern в круглые скобки, чтобы можно было использовать группы в re.sub\n",
    "pattern = r'(Burger|Fries|Chicken|Pizza|Sandwich|Onionrings|Milkshake|Coke)'\n",
    "print(re.sub(pattern, r'\\1 ', order, flags=re.IGNORECASE))"
   ]
  },
  {
   "cell_type": "code",
   "execution_count": 161,
   "metadata": {},
   "outputs": [
    {
     "name": "stdout",
     "output_type": "stream",
     "text": [
      "Milkshake Pizza Chicken Fries Coke Burger Pizza Sandwich Milkshake Pizza\n"
     ]
    }
   ],
   "source": [
    "import re\n",
    "\n",
    "def get_order(order):\n",
    "    pattern = r'Burger|Fries|Chicken|Pizza|Sandwich|Onionrings|Milkshake|Coke'\n",
    "    return ' '.join(word.capitalize() for word in re.findall(pattern, order, flags=re.IGNORECASE))\n",
    "\n",
    "order = 'milkshakepizzachickenfriescokeburgerpizzasandwichmilkshakepizza'\n",
    "print(get_order(order))"
   ]
  },
  {
   "cell_type": "markdown",
   "metadata": {},
   "source": [
    "__My solution__ It wasn't accepted because I hadn't got the task the right way: instead of \"the items to be in the same order as they appear in the menu\" I did \"the items to be in the same order as they appear in the ORDER\". But I keep this solution here just in case."
   ]
  },
  {
   "cell_type": "code",
   "execution_count": 168,
   "metadata": {},
   "outputs": [
    {
     "name": "stdout",
     "output_type": "stream",
     "text": [
      "Milkshake Pizza Chicken Fries Coke Burger Pizza Sandwich Milkshake Pizza\n",
      "Pizza Chicken Fries Burger Coke Milkshake Fries Sandwich\n"
     ]
    }
   ],
   "source": [
    "import re\n",
    "\n",
    "def get_order(order):\n",
    "    pattern = r'burger|fries|chicken|pizza|sandwich|onionrings|milkshake|coke'\n",
    "    return ' '.join(word.capitalize() for word in re.findall(pattern, order))\n",
    "\n",
    "order = 'milkshakepizzachickenfriescokeburgerpizzasandwichmilkshakepizza'\n",
    "print(get_order(order))\n",
    "print(get_order('pizzachickenfriesburgercokemilkshakefriessandwich'))"
   ]
  },
  {
   "cell_type": "markdown",
   "metadata": {},
   "source": [
    "__My correct solution__:"
   ]
  },
  {
   "cell_type": "code",
   "execution_count": 172,
   "metadata": {},
   "outputs": [
    {
     "name": "stdout",
     "output_type": "stream",
     "text": [
      "Burger Fries Chicken Pizza Pizza Pizza Sandwich Milkshake Milkshake Coke\n",
      "Burger Fries Fries Chicken Pizza Sandwich Milkshake Coke\n"
     ]
    }
   ],
   "source": [
    "def get_order(order):\n",
    "    menu = ['Burger', 'Fries', 'Chicken', 'Pizza', 'Sandwich', 'Onionrings', 'Milkshake', 'Coke']\n",
    "    new_order = []\n",
    "    for item in menu:\n",
    "        new_order += order.count(item.lower()) * [item]\n",
    "    return ' '.join(new_order)\n",
    "    \n",
    "print(get_order('milkshakepizzachickenfriescokeburgerpizzasandwichmilkshakepizza'))\n",
    "print(get_order('pizzachickenfriesburgercokemilkshakefriessandwich'))    "
   ]
  },
  {
   "cell_type": "markdown",
   "metadata": {},
   "source": [
    "### Best travel\n",
    "https://www.codewars.com/kata/55e7280b40e1c4a06d0000aa  \n",
    "5 kyu\n",
    "\n",
    "John and Mary want to travel between a few towns A, B, C ... Mary has on a sheet of paper a list of distances between these towns. ls = [50, 55, 57, 58, 60]. John is tired of driving and he says to Mary that he doesn't want to drive more than t = 174 miles and he will visit only 3 towns.\n",
    "\n",
    "Which distances, hence which towns, they will choose so that the sum of the distances is the biggest possible to please Mary and John?\n",
    "\n",
    "Example:\n",
    "\n",
    "With list ls and 3 towns to visit they can make a choice between: [50,55,57],[50,55,58],[50,55,60],[50,57,58],[50,57,60],[50,58,60],[55,57,58],[55,57,60],[55,58,60],[57,58,60].\n",
    "\n",
    "The sums of distances are then: 162, 163, 165, 165, 167, 168, 170, 172, 173, 175.\n",
    "\n",
    "The biggest possible sum taking a limit of 174 into account is then 173 and the distances of the 3 corresponding towns is [55, 58, 60].\n",
    "\n",
    "The function chooseBestSum (or choose_best_sum or ... depending on the language) will take as parameters t (maximum sum of distances, integer >= 0), k (number of towns to visit, k >= 1) and ls (list of distances, all distances are positive or null integers and this list has at least one element). The function returns the \"best\" sum ie the biggest possible sum of k distances less than or equal to the given limit t, if that sum exists, or otherwise nil, null, None, Nothing, depending on the language. With C++, C, Rust, Swift, Go, Kotlin return -1.\n",
    "\n",
    "Examples:\n",
    "\n",
    "ts = [50, 55, 56, 57, 58] choose_best_sum(163, 3, ts) -> 163\n",
    "\n",
    "xs = [50] choose_best_sum(163, 3, xs) -> nil (or null or ... or -1 (C++, C, Rust, Swift, Go)\n",
    "\n",
    "ys = [91, 74, 73, 85, 73, 81, 87] choose_best_sum(230, 3, ys) -> 228\n",
    "\n",
    "Note: don't modify the input list ls"
   ]
  },
  {
   "cell_type": "code",
   "execution_count": 180,
   "metadata": {},
   "outputs": [
    {
     "data": {
      "text/plain": [
       "[(50, 55, 57),\n",
       " (50, 55, 58),\n",
       " (50, 55, 60),\n",
       " (50, 57, 58),\n",
       " (50, 57, 60),\n",
       " (50, 58, 60),\n",
       " (55, 57, 58),\n",
       " (55, 57, 60),\n",
       " (55, 58, 60)]"
      ]
     },
     "execution_count": 180,
     "metadata": {},
     "output_type": "execute_result"
    }
   ],
   "source": [
    "from itertools import combinations\n",
    "\n",
    "ls = [50, 55, 57, 58, 60]\n",
    "list(filter(lambda towns: sum(towns) <= 174, combinations(ls, 3)))"
   ]
  },
  {
   "cell_type": "code",
   "execution_count": 185,
   "metadata": {},
   "outputs": [
    {
     "name": "stdout",
     "output_type": "stream",
     "text": [
      "[162, 163, 165, 165, 167, 168, 170, 172, 173, 0]\n",
      "173\n"
     ]
    }
   ],
   "source": [
    "from itertools import combinations\n",
    "\n",
    "ls = [50, 55, 57, 58, 60]\n",
    "print(list(map(lambda towns: sum(towns) if sum(towns) <= 174 else 0, combinations(ls, 3))))\n",
    "print(max(map(lambda towns: sum(towns) if sum(towns) <= 174 else 0, combinations(ls, 3))))"
   ]
  },
  {
   "cell_type": "markdown",
   "metadata": {},
   "source": [
    "__My solution #1 (not best):__"
   ]
  },
  {
   "cell_type": "code",
   "execution_count": 192,
   "metadata": {},
   "outputs": [
    {
     "name": "stdout",
     "output_type": "stream",
     "text": [
      "230 230\n",
      "430 430\n",
      "None None\n"
     ]
    }
   ],
   "source": [
    "from itertools import combinations\n",
    "\n",
    "def choose_best_sum(t, k, ls):\n",
    "    return max(filter(lambda x: x <= t, map(lambda x: sum(x), combinations(ls, k))), default=None)\n",
    "\n",
    "xs = [100, 76, 56, 44, 89, 73, 68, 56, 64, 123, 2333, 144, 50, 132, 123, 34, 89]\n",
    "print(choose_best_sum(230, 4, xs), 230)\n",
    "print(choose_best_sum(430, 5, xs), 430)\n",
    "print(choose_best_sum(430, 8, xs), None)"
   ]
  },
  {
   "cell_type": "markdown",
   "metadata": {},
   "source": [
    "max() with key doesn't work the way I thought:"
   ]
  },
  {
   "cell_type": "code",
   "execution_count": 202,
   "metadata": {},
   "outputs": [
    {
     "ename": "IndentationError",
     "evalue": "expected an indented block (<ipython-input-202-9fbf3f397924>, line 7)",
     "output_type": "error",
     "traceback": [
      "\u001b[1;36m  File \u001b[1;32m\"<ipython-input-202-9fbf3f397924>\"\u001b[1;36m, line \u001b[1;32m7\u001b[0m\n\u001b[1;33m    xs = [100, 76, 56, 44, 89, 73, 68, 56, 64, 123, 2333, 144, 50, 132, 123, 34, 89]\u001b[0m\n\u001b[1;37m     ^\u001b[0m\n\u001b[1;31mIndentationError\u001b[0m\u001b[1;31m:\u001b[0m expected an indented block\n"
     ]
    }
   ],
   "source": [
    "from itertools import combinations\n",
    "\n",
    "def choose_best_sum(t, k, ls):\n",
    "    #print(list(map(lambda x: sum(x), combinations(ls, k))))\n",
    "    #return max(map(lambda x: sum(x), combinations(ls, k), key=lambda x: x <= t, default=None)\n",
    "\n",
    "xs = [100, 76, 56, 44, 89, 73, 68, 56, 64, 123, 2333, 144, 50, 132, 123, 34, 89]\n",
    "print(choose_best_sum(230, 4, xs), 230)\n",
    "print(choose_best_sum(430, 5, xs), 430)\n",
    "print(choose_best_sum(430, 8, xs), None)"
   ]
  },
  {
   "cell_type": "code",
   "execution_count": 204,
   "metadata": {},
   "outputs": [
    {
     "data": {
      "text/plain": [
       "1"
      ]
     },
     "execution_count": 204,
     "metadata": {},
     "output_type": "execute_result"
    }
   ],
   "source": [
    "ls = [1, 2, 3, 4, 5]\n",
    "max(ls, key=lambda x:  x <=4)"
   ]
  },
  {
   "cell_type": "markdown",
   "metadata": {},
   "source": [
    "__My solution #2 (better than #1):__"
   ]
  },
  {
   "cell_type": "code",
   "execution_count": 195,
   "metadata": {},
   "outputs": [
    {
     "name": "stdout",
     "output_type": "stream",
     "text": [
      "230 230\n",
      "430 430\n",
      "None None\n"
     ]
    }
   ],
   "source": [
    "from itertools import combinations\n",
    "\n",
    "def choose_best_sum(t, k, ls):\n",
    "    return max((sum(item) for item in combinations(ls, k) if sum(item) <= t), default=None)\n",
    "\n",
    "xs = [100, 76, 56, 44, 89, 73, 68, 56, 64, 123, 2333, 144, 50, 132, 123, 34, 89]\n",
    "print(choose_best_sum(230, 4, xs), 230)\n",
    "print(choose_best_sum(430, 5, xs), 430)\n",
    "print(choose_best_sum(430, 8, xs), None)"
   ]
  },
  {
   "cell_type": "markdown",
   "metadata": {},
   "source": [
    "Solution #2 in other words: "
   ]
  },
  {
   "cell_type": "code",
   "execution_count": 196,
   "metadata": {},
   "outputs": [
    {
     "name": "stdout",
     "output_type": "stream",
     "text": [
      "230 230\n",
      "430 430\n",
      "None None\n"
     ]
    }
   ],
   "source": [
    "from itertools import combinations\n",
    "\n",
    "def choose_best_sum(t, k, ls):\n",
    "    def gen(iterable):\n",
    "        for item in iterable:\n",
    "            s = sum(item)\n",
    "            if s <= t:\n",
    "                yield s\n",
    "    \n",
    "    return max(gen(combinations(ls, k)), default=None)\n",
    "\n",
    "xs = [100, 76, 56, 44, 89, 73, 68, 56, 64, 123, 2333, 144, 50, 132, 123, 34, 89]\n",
    "print(choose_best_sum(230, 4, xs), 230)\n",
    "print(choose_best_sum(430, 5, xs), 430)\n",
    "print(choose_best_sum(430, 8, xs), None)"
   ]
  },
  {
   "cell_type": "markdown",
   "metadata": {},
   "source": [
    "20200905"
   ]
  },
  {
   "cell_type": "markdown",
   "metadata": {},
   "source": [
    "### Beginner Series #4 Cockroach\n",
    "https://www.codewars.com/kata/55fab1ffda3e2e44f00000c6  \n",
    "8 kyu  \n",
    "\n",
    "The cockroach is one of the fastest insects. Write a function which takes its speed in km per hour and returns it in cm per second, rounded down to the integer (= floored).\n",
    "\n",
    "For example:\n",
    "\n",
    "cockroach_speed(1.08) == 30\n",
    "Note! The input is a Real number (actual type is language dependent) and is >= 0. The result should be an Integer."
   ]
  },
  {
   "cell_type": "markdown",
   "metadata": {},
   "source": [
    "__My solution:__"
   ]
  },
  {
   "cell_type": "code",
   "execution_count": 239,
   "metadata": {},
   "outputs": [
    {
     "name": "stdout",
     "output_type": "stream",
     "text": [
      "30 30\n",
      "30 30\n",
      "0 0\n"
     ]
    }
   ],
   "source": [
    "def cockroach_speed(s):\n",
    "    return int(s * 1000 / 36)\n",
    "\n",
    "print(cockroach_speed(1.08),30)\n",
    "print(cockroach_speed(1.09),30)\n",
    "print(cockroach_speed(0),0)"
   ]
  },
  {
   "cell_type": "markdown",
   "metadata": {},
   "source": [
    "__Other users' solutions:__"
   ]
  },
  {
   "cell_type": "code",
   "execution_count": 238,
   "metadata": {},
   "outputs": [
    {
     "name": "stdout",
     "output_type": "stream",
     "text": [
      "30.0 30\n",
      "30.0 30\n",
      "0.0 0\n"
     ]
    }
   ],
   "source": [
    "def cockroach_speed(s):\n",
    "    return s // 0.036\n",
    "\n",
    "print(cockroach_speed(1.08),30)\n",
    "print(cockroach_speed(1.09),30)\n",
    "print(cockroach_speed(0),0)"
   ]
  },
  {
   "cell_type": "markdown",
   "metadata": {},
   "source": [
    "But result isn't integer type! From the other hand integer TYPE wasn't required, just integer and 30.0 is integer."
   ]
  },
  {
   "cell_type": "code",
   "execution_count": 205,
   "metadata": {},
   "outputs": [
    {
     "data": {
      "text/plain": [
       "1"
      ]
     },
     "execution_count": 205,
     "metadata": {},
     "output_type": "execute_result"
    }
   ],
   "source": [
    "2 // 2"
   ]
  },
  {
   "cell_type": "code",
   "execution_count": 206,
   "metadata": {},
   "outputs": [
    {
     "data": {
      "text/plain": [
       "0"
      ]
     },
     "execution_count": 206,
     "metadata": {},
     "output_type": "execute_result"
    }
   ],
   "source": [
    "1 // 2"
   ]
  },
  {
   "cell_type": "code",
   "execution_count": 237,
   "metadata": {},
   "outputs": [
    {
     "name": "stdout",
     "output_type": "stream",
     "text": [
      "30.0 30\n",
      "30.0 30\n",
      "0 0\n"
     ]
    }
   ],
   "source": [
    "def cockroach_speed(s):\n",
    "    return s * 1000 // 36\n",
    "\n",
    "print(cockroach_speed(1.08),30)\n",
    "print(cockroach_speed(1.09),30)\n",
    "print(cockroach_speed(0),0)"
   ]
  },
  {
   "cell_type": "markdown",
   "metadata": {},
   "source": [
    "### Over The Road\n",
    "https://www.codewars.com/kata/5f0ed36164f2bc00283aed07  \n",
    "7 kyu\n",
    "\n",
    "Task  \n",
    "You've just moved into a perfectly straight street with exactly n identical houses on either side of the road. Naturally, you would like to find out the house number of the people on the other side of the street. The street looks something like this:\n",
    "\n",
    "Street  \n",
    "1|   |6  \n",
    "3|   |4  \n",
    "5|   |2  \n",
    "\n",
    "Evens increase on the right; odds decrease on the left. House numbers start at 1 and increase without gaps. When n = 3, 1 is opposite 6, 3 opposite 4, and 5 opposite 2.\n",
    "\n",
    "Example  \n",
    "Given your house number address and length of street n, give the house number on the opposite side of the street.\n",
    "\n",
    "over_the_road(address, n)  \n",
    "over_the_road(1, 3) = 6  \n",
    "over_the_road(3, 3) = 4  \n",
    "over_the_road(2, 3) = 5  \n",
    "over_the_road(3, 5) = 8  \n",
    "Both n and address could get upto 500 billion with over 200 random tests."
   ]
  },
  {
   "cell_type": "code",
   "execution_count": null,
   "metadata": {},
   "outputs": [],
   "source": [
    "def over_the_road(address, n):\n",
    "    return 2 * (n - address // 2) if address % 2 else 2 * (n - address // 2) + 1"
   ]
  },
  {
   "cell_type": "markdown",
   "metadata": {},
   "source": [
    "20200906"
   ]
  },
  {
   "cell_type": "markdown",
   "metadata": {},
   "source": [
    "### Unlucky Days\n",
    "https://www.codewars.com/kata/56eb0be52caf798c630013c0  \n",
    "7 kyu\n",
    "\n",
    "Friday 13th or Black Friday is considered as unlucky day. Calculate how many unlucky days are in the given year.\n",
    "\n",
    "Find the number of Friday 13th in the given year.\n",
    "\n",
    "Input: Year as an integer.\n",
    "\n",
    "Output: Number of Black Fridays in the year as an integer.\n",
    "\n",
    "Examples:\n",
    "\n",
    "unluckyDays(2015) == 3\n",
    "unluckyDays(1986) == 1"
   ]
  },
  {
   "cell_type": "code",
   "execution_count": 216,
   "metadata": {},
   "outputs": [
    {
     "data": {
      "text/plain": [
       "6"
      ]
     },
     "execution_count": 216,
     "metadata": {},
     "output_type": "execute_result"
    }
   ],
   "source": [
    "import datetime\n",
    "datetime.date(2020, 9, 6).weekday()"
   ]
  },
  {
   "cell_type": "code",
   "execution_count": 217,
   "metadata": {},
   "outputs": [
    {
     "name": "stdout",
     "output_type": "stream",
     "text": [
      "3 3\n",
      "1 1\n"
     ]
    }
   ],
   "source": [
    "def unlucky_days(year):\n",
    "    import datetime\n",
    "    return sum(1 for month in range(1, 13) if datetime.date(year, month, 13).weekday() == 4)\n",
    "\n",
    "print(unlucky_days(2015), 3)\n",
    "print(unlucky_days(1986), 1)"
   ]
  },
  {
   "cell_type": "markdown",
   "metadata": {},
   "source": [
    "A little but wity improvement from other people's solutions:"
   ]
  },
  {
   "cell_type": "code",
   "execution_count": 219,
   "metadata": {},
   "outputs": [
    {
     "name": "stdout",
     "output_type": "stream",
     "text": [
      "3 3\n",
      "1 1\n"
     ]
    }
   ],
   "source": [
    "from datetime import date\n",
    "\n",
    "def unlucky_days(year):\n",
    "    return sum(date(year, month, 13).weekday() == 4 for month in range(1, 13))\n",
    "\n",
    "print(unlucky_days(2015), 3)\n",
    "print(unlucky_days(1986), 1)"
   ]
  },
  {
   "cell_type": "markdown",
   "metadata": {},
   "source": [
    "### A disguised sequence (I)\n",
    "https://www.codewars.com/kata/563f0c54a22b9345bf000053  \n",
    "6 kyu\n",
    "\n",
    "Given u0 = 1, u1 = 2 and the relation 6unun+1-5unun+2+un+1un+2 = 0 calculate un for any integer n >= 0.\n",
    "\n",
    "Example  \n",
    "fcn(n) returns un: fcn(17) -> 131072, fcn(21) -> 2097152\n",
    "\n",
    "Remarks  \n",
    "You can take two points of view to do this kata:\n",
    "\n",
    "the first one purely algorithmic from the definition of un\n",
    "\n",
    "the second one - not at all mandatory, but as a complement - is to get a bit your head around and find which sequence is hidden behind un."
   ]
  },
  {
   "cell_type": "markdown",
   "metadata": {},
   "source": [
    "__My solutions:__"
   ]
  },
  {
   "cell_type": "markdown",
   "metadata": {},
   "source": [
    "__#1__ By some reasons it doesn't pass all tests on codewars.com :( "
   ]
  },
  {
   "cell_type": "code",
   "execution_count": 227,
   "metadata": {},
   "outputs": [
    {
     "name": "stdout",
     "output_type": "stream",
     "text": [
      "131072.0 131072\n",
      "2097152.0 2097152\n",
      "16384.0 16384\n",
      "8796093022208.0 8796093022208\n",
      "524288.0 524288\n"
     ]
    }
   ],
   "source": [
    "def fcn(n):\n",
    "    u_dict = {0:1, 1:2}\n",
    "    \n",
    "    def u(n):\n",
    "        if n in u_dict:\n",
    "            return u_dict[n]\n",
    "        \n",
    "        u_dict[n] = 6 * u(n - 2) * u(n - 1) / (5 * u(n - 2) - u(n - 1))\n",
    "        return u_dict[n]\n",
    "        \n",
    "    return u(n)\n",
    "\n",
    "print(fcn(17), 131072)\n",
    "print(fcn(21), 2097152)\n",
    "print(fcn(14), 16384)\n",
    "print(fcn(43), 8796093022208)\n",
    "print(fcn(19), 524288)"
   ]
  },
  {
   "cell_type": "markdown",
   "metadata": {},
   "source": [
    "Just for fun tried the same approach with the list instead of the dict. But it didn't work.. :("
   ]
  },
  {
   "cell_type": "code",
   "execution_count": 232,
   "metadata": {},
   "outputs": [
    {
     "ename": "RecursionError",
     "evalue": "maximum recursion depth exceeded",
     "output_type": "error",
     "traceback": [
      "\u001b[1;31m---------------------------------------------------------------------------\u001b[0m",
      "\u001b[1;31mRecursionError\u001b[0m                            Traceback (most recent call last)",
      "\u001b[1;32m<ipython-input-232-daa67fe05e79>\u001b[0m in \u001b[0;36m<module>\u001b[1;34m\u001b[0m\n\u001b[0;32m      9\u001b[0m     \u001b[1;32mreturn\u001b[0m \u001b[0mu\u001b[0m\u001b[1;33m(\u001b[0m\u001b[0mn\u001b[0m\u001b[1;33m)\u001b[0m\u001b[1;33m\u001b[0m\u001b[1;33m\u001b[0m\u001b[0m\n\u001b[0;32m     10\u001b[0m \u001b[1;33m\u001b[0m\u001b[0m\n\u001b[1;32m---> 11\u001b[1;33m \u001b[0mprint\u001b[0m\u001b[1;33m(\u001b[0m\u001b[0mfcn\u001b[0m\u001b[1;33m(\u001b[0m\u001b[1;36m17\u001b[0m\u001b[1;33m)\u001b[0m\u001b[1;33m,\u001b[0m \u001b[1;36m131072\u001b[0m\u001b[1;33m)\u001b[0m\u001b[1;33m\u001b[0m\u001b[1;33m\u001b[0m\u001b[0m\n\u001b[0m\u001b[0;32m     12\u001b[0m \u001b[0mprint\u001b[0m\u001b[1;33m(\u001b[0m\u001b[0mfcn\u001b[0m\u001b[1;33m(\u001b[0m\u001b[1;36m21\u001b[0m\u001b[1;33m)\u001b[0m\u001b[1;33m,\u001b[0m \u001b[1;36m2097152\u001b[0m\u001b[1;33m)\u001b[0m\u001b[1;33m\u001b[0m\u001b[1;33m\u001b[0m\u001b[0m\n\u001b[0;32m     13\u001b[0m \u001b[0mprint\u001b[0m\u001b[1;33m(\u001b[0m\u001b[0mfcn\u001b[0m\u001b[1;33m(\u001b[0m\u001b[1;36m14\u001b[0m\u001b[1;33m)\u001b[0m\u001b[1;33m,\u001b[0m \u001b[1;36m16384\u001b[0m\u001b[1;33m)\u001b[0m\u001b[1;33m\u001b[0m\u001b[1;33m\u001b[0m\u001b[0m\n",
      "\u001b[1;32m<ipython-input-232-daa67fe05e79>\u001b[0m in \u001b[0;36mfcn\u001b[1;34m(n)\u001b[0m\n\u001b[0;32m      7\u001b[0m         \u001b[1;32mreturn\u001b[0m \u001b[0mu_list\u001b[0m\u001b[1;33m[\u001b[0m\u001b[0mn\u001b[0m\u001b[1;33m]\u001b[0m\u001b[1;33m\u001b[0m\u001b[1;33m\u001b[0m\u001b[0m\n\u001b[0;32m      8\u001b[0m \u001b[1;33m\u001b[0m\u001b[0m\n\u001b[1;32m----> 9\u001b[1;33m     \u001b[1;32mreturn\u001b[0m \u001b[0mu\u001b[0m\u001b[1;33m(\u001b[0m\u001b[0mn\u001b[0m\u001b[1;33m)\u001b[0m\u001b[1;33m\u001b[0m\u001b[1;33m\u001b[0m\u001b[0m\n\u001b[0m\u001b[0;32m     10\u001b[0m \u001b[1;33m\u001b[0m\u001b[0m\n\u001b[0;32m     11\u001b[0m \u001b[0mprint\u001b[0m\u001b[1;33m(\u001b[0m\u001b[0mfcn\u001b[0m\u001b[1;33m(\u001b[0m\u001b[1;36m17\u001b[0m\u001b[1;33m)\u001b[0m\u001b[1;33m,\u001b[0m \u001b[1;36m131072\u001b[0m\u001b[1;33m)\u001b[0m\u001b[1;33m\u001b[0m\u001b[1;33m\u001b[0m\u001b[0m\n",
      "\u001b[1;32m<ipython-input-232-daa67fe05e79>\u001b[0m in \u001b[0;36mu\u001b[1;34m(n)\u001b[0m\n\u001b[0;32m      4\u001b[0m     \u001b[1;32mdef\u001b[0m \u001b[0mu\u001b[0m\u001b[1;33m(\u001b[0m\u001b[0mn\u001b[0m\u001b[1;33m)\u001b[0m\u001b[1;33m:\u001b[0m\u001b[1;33m\u001b[0m\u001b[1;33m\u001b[0m\u001b[0m\n\u001b[0;32m      5\u001b[0m         \u001b[1;32mif\u001b[0m \u001b[0mu_list\u001b[0m\u001b[1;33m[\u001b[0m\u001b[0mn\u001b[0m\u001b[1;33m]\u001b[0m \u001b[1;32mis\u001b[0m \u001b[1;32mNone\u001b[0m\u001b[1;33m:\u001b[0m\u001b[1;33m\u001b[0m\u001b[1;33m\u001b[0m\u001b[0m\n\u001b[1;32m----> 6\u001b[1;33m             \u001b[0mu_list\u001b[0m\u001b[1;33m[\u001b[0m\u001b[0mn\u001b[0m\u001b[1;33m]\u001b[0m \u001b[1;33m=\u001b[0m \u001b[1;36m6\u001b[0m \u001b[1;33m*\u001b[0m \u001b[0mu\u001b[0m\u001b[1;33m(\u001b[0m\u001b[0mn\u001b[0m \u001b[1;33m-\u001b[0m \u001b[1;36m2\u001b[0m\u001b[1;33m)\u001b[0m \u001b[1;33m*\u001b[0m \u001b[0mu\u001b[0m\u001b[1;33m(\u001b[0m\u001b[0mn\u001b[0m \u001b[1;33m-\u001b[0m \u001b[1;36m1\u001b[0m\u001b[1;33m)\u001b[0m \u001b[1;33m/\u001b[0m \u001b[1;33m(\u001b[0m\u001b[1;36m5\u001b[0m \u001b[1;33m*\u001b[0m \u001b[0mu\u001b[0m\u001b[1;33m(\u001b[0m\u001b[0mn\u001b[0m \u001b[1;33m-\u001b[0m \u001b[1;36m2\u001b[0m\u001b[1;33m)\u001b[0m \u001b[1;33m-\u001b[0m \u001b[0mu\u001b[0m\u001b[1;33m(\u001b[0m\u001b[0mn\u001b[0m \u001b[1;33m-\u001b[0m \u001b[1;36m1\u001b[0m\u001b[1;33m)\u001b[0m\u001b[1;33m)\u001b[0m\u001b[1;33m\u001b[0m\u001b[1;33m\u001b[0m\u001b[0m\n\u001b[0m\u001b[0;32m      7\u001b[0m         \u001b[1;32mreturn\u001b[0m \u001b[0mu_list\u001b[0m\u001b[1;33m[\u001b[0m\u001b[0mn\u001b[0m\u001b[1;33m]\u001b[0m\u001b[1;33m\u001b[0m\u001b[1;33m\u001b[0m\u001b[0m\n\u001b[0;32m      8\u001b[0m \u001b[1;33m\u001b[0m\u001b[0m\n",
      "... last 1 frames repeated, from the frame below ...\n",
      "\u001b[1;32m<ipython-input-232-daa67fe05e79>\u001b[0m in \u001b[0;36mu\u001b[1;34m(n)\u001b[0m\n\u001b[0;32m      4\u001b[0m     \u001b[1;32mdef\u001b[0m \u001b[0mu\u001b[0m\u001b[1;33m(\u001b[0m\u001b[0mn\u001b[0m\u001b[1;33m)\u001b[0m\u001b[1;33m:\u001b[0m\u001b[1;33m\u001b[0m\u001b[1;33m\u001b[0m\u001b[0m\n\u001b[0;32m      5\u001b[0m         \u001b[1;32mif\u001b[0m \u001b[0mu_list\u001b[0m\u001b[1;33m[\u001b[0m\u001b[0mn\u001b[0m\u001b[1;33m]\u001b[0m \u001b[1;32mis\u001b[0m \u001b[1;32mNone\u001b[0m\u001b[1;33m:\u001b[0m\u001b[1;33m\u001b[0m\u001b[1;33m\u001b[0m\u001b[0m\n\u001b[1;32m----> 6\u001b[1;33m             \u001b[0mu_list\u001b[0m\u001b[1;33m[\u001b[0m\u001b[0mn\u001b[0m\u001b[1;33m]\u001b[0m \u001b[1;33m=\u001b[0m \u001b[1;36m6\u001b[0m \u001b[1;33m*\u001b[0m \u001b[0mu\u001b[0m\u001b[1;33m(\u001b[0m\u001b[0mn\u001b[0m \u001b[1;33m-\u001b[0m \u001b[1;36m2\u001b[0m\u001b[1;33m)\u001b[0m \u001b[1;33m*\u001b[0m \u001b[0mu\u001b[0m\u001b[1;33m(\u001b[0m\u001b[0mn\u001b[0m \u001b[1;33m-\u001b[0m \u001b[1;36m1\u001b[0m\u001b[1;33m)\u001b[0m \u001b[1;33m/\u001b[0m \u001b[1;33m(\u001b[0m\u001b[1;36m5\u001b[0m \u001b[1;33m*\u001b[0m \u001b[0mu\u001b[0m\u001b[1;33m(\u001b[0m\u001b[0mn\u001b[0m \u001b[1;33m-\u001b[0m \u001b[1;36m2\u001b[0m\u001b[1;33m)\u001b[0m \u001b[1;33m-\u001b[0m \u001b[0mu\u001b[0m\u001b[1;33m(\u001b[0m\u001b[0mn\u001b[0m \u001b[1;33m-\u001b[0m \u001b[1;36m1\u001b[0m\u001b[1;33m)\u001b[0m\u001b[1;33m)\u001b[0m\u001b[1;33m\u001b[0m\u001b[1;33m\u001b[0m\u001b[0m\n\u001b[0m\u001b[0;32m      7\u001b[0m         \u001b[1;32mreturn\u001b[0m \u001b[0mu_list\u001b[0m\u001b[1;33m[\u001b[0m\u001b[0mn\u001b[0m\u001b[1;33m]\u001b[0m\u001b[1;33m\u001b[0m\u001b[1;33m\u001b[0m\u001b[0m\n\u001b[0;32m      8\u001b[0m \u001b[1;33m\u001b[0m\u001b[0m\n",
      "\u001b[1;31mRecursionError\u001b[0m: maximum recursion depth exceeded"
     ]
    }
   ],
   "source": [
    "def fcn(n):\n",
    "    u_list = [None] * 10000\n",
    "    \n",
    "    def u(n):\n",
    "        if u_list[n] is None:\n",
    "            u_list[n] = 6 * u(n - 2) * u(n - 1) / (5 * u(n - 2) - u(n - 1))\n",
    "        return u_list[n]\n",
    "        \n",
    "    return u(n)\n",
    "\n",
    "print(fcn(17), 131072)\n",
    "print(fcn(21), 2097152)\n",
    "print(fcn(14), 16384)\n",
    "print(fcn(43), 8796093022208)\n",
    "print(fcn(19), 524288)"
   ]
  },
  {
   "cell_type": "markdown",
   "metadata": {},
   "source": [
    "__#2__ Using function from solution #1 I try to find which sequence is hidden behind ${}u_n$:"
   ]
  },
  {
   "cell_type": "code",
   "execution_count": 228,
   "metadata": {},
   "outputs": [
    {
     "name": "stdout",
     "output_type": "stream",
     "text": [
      "1 2 4.0 8.0 16.0 32.0 64.0 128.0 256.0 512.0 1024.0 2048.0 4096.0 8192.0 16384.0 32768.0 65536.0 131072.0 "
     ]
    }
   ],
   "source": [
    "for i in range(0, 18):\n",
    "    print(fcn(i), end=' ')"
   ]
  },
  {
   "cell_type": "markdown",
   "metadata": {},
   "source": [
    "Eureka! The sequence ${u_n}$ is power of number 2.\n",
    "\n",
    "And the next solution passes all tests:"
   ]
  },
  {
   "cell_type": "code",
   "execution_count": 229,
   "metadata": {},
   "outputs": [
    {
     "name": "stdout",
     "output_type": "stream",
     "text": [
      "131072 131072\n",
      "2097152 2097152\n",
      "16384 16384\n",
      "8796093022208 8796093022208\n",
      "524288 524288\n"
     ]
    }
   ],
   "source": [
    "def fcn(n):\n",
    "    return 2 ** n\n",
    "\n",
    "print(fcn(17), 131072)\n",
    "print(fcn(21), 2097152)\n",
    "print(fcn(14), 16384)\n",
    "print(fcn(43), 8796093022208)\n",
    "print(fcn(19), 524288)"
   ]
  },
  {
   "cell_type": "markdown",
   "metadata": {},
   "source": [
    "20200908"
   ]
  },
  {
   "cell_type": "markdown",
   "metadata": {},
   "source": [
    "### Area or Perimeter\n",
    "https://www.codewars.com/kata/5ab6538b379d20ad880000ab  \n",
    "8 kyu\n",
    "\n",
    "You are given the length and width of a 4-sided polygon. The polygon can either be a rectangle or a square.  \n",
    "If it is a square, return its area. If it is a rectangle, return its perimeter.\n",
    "\n",
    "area_or_perimeter(6, 10) --> 32  \n",
    "area_or_perimeter(4, 4) --> 16  \n",
    "\n",
    "Note: for the purposes of this kata you will assume that it is a square if its length and width are equal, otherwise it is a rectangle."
   ]
  },
  {
   "cell_type": "markdown",
   "metadata": {},
   "source": [
    "__My solution:__"
   ]
  },
  {
   "cell_type": "code",
   "execution_count": 260,
   "metadata": {},
   "outputs": [
    {
     "name": "stdout",
     "output_type": "stream",
     "text": [
      "16 16\n",
      "32 32\n"
     ]
    }
   ],
   "source": [
    "def area_or_perimeter(l , w):\n",
    "    return l * w if l == w else 2 * (l + w)\n",
    "\n",
    "print(area_or_perimeter(4, 4), 16)\n",
    "print(area_or_perimeter(6, 10), 32)"
   ]
  },
  {
   "cell_type": "markdown",
   "metadata": {},
   "source": [
    "__Quite witty and funny solution of another codewar user:__ "
   ]
  },
  {
   "cell_type": "code",
   "execution_count": 261,
   "metadata": {},
   "outputs": [
    {
     "name": "stdout",
     "output_type": "stream",
     "text": [
      "16 16\n",
      "32 32\n"
     ]
    }
   ],
   "source": [
    "def area_or_perimeter(l , w):\n",
    "    return [2 * (l + w), l * w][l == w]\n",
    "\n",
    "print(area_or_perimeter(4, 4), 16)\n",
    "print(area_or_perimeter(6, 10), 32)"
   ]
  },
  {
   "cell_type": "markdown",
   "metadata": {},
   "source": [
    "### Fix string case\n",
    "https://www.codewars.com/kata/5b180e9fedaa564a7000009a   \n",
    "7 kyu\n",
    "\n",
    "In this Kata, you will be given a string that may have mixed uppercase and lowercase letters and your task is to convert that string to either lowercase only or uppercase only based on:\n",
    "\n",
    "make as few changes as possible.  \n",
    "if the string contains equal number of uppercase and lowercase letters, convert the string to lowercase.  \n",
    "\n",
    "For example:\n",
    "\n",
    "solve(\"coDe\") = \"code\". Lowercase characters > uppercase. Change only the \"D\" to lowercase.  \n",
    "solve(\"CODe\") = \"CODE\". Uppercase characters > lowecase. Change only the \"e\" to uppercase.  \n",
    "solve(\"coDE\") = \"code\". Upper == lowercase. Change all to lowercase.\n",
    "\n",
    "More examples in test cases. Good luck!"
   ]
  },
  {
   "cell_type": "code",
   "execution_count": 262,
   "metadata": {},
   "outputs": [
    {
     "name": "stdout",
     "output_type": "stream",
     "text": [
      "Help on method_descriptor:\n",
      "\n",
      "islower(self, /)\n",
      "    Return True if the string is a lowercase string, False otherwise.\n",
      "    \n",
      "    A string is lowercase if all cased characters in the string are lowercase and\n",
      "    there is at least one cased character in the string.\n",
      "\n"
     ]
    }
   ],
   "source": [
    "help(str.islower)"
   ]
  },
  {
   "cell_type": "markdown",
   "metadata": {},
   "source": [
    "__My solution:__"
   ]
  },
  {
   "cell_type": "code",
   "execution_count": 266,
   "metadata": {},
   "outputs": [
    {
     "name": "stdout",
     "output_type": "stream",
     "text": [
      "code code\n",
      "CODE CODE\n",
      "code code\n",
      "code code\n"
     ]
    }
   ],
   "source": [
    "def solve(s):\n",
    "    return s.lower() if sum(c.islower() for c in s) >= len(s) / 2 else s.upper()\n",
    "\n",
    "print(solve(\"code\"),\"code\")\n",
    "print(solve(\"CODe\"),\"CODE\")\n",
    "print(solve(\"COde\"),\"code\")\n",
    "print(solve(\"Code\"),\"code\")"
   ]
  },
  {
   "cell_type": "markdown",
   "metadata": {},
   "source": [
    "__Other codewar users' solutions:__"
   ]
  },
  {
   "cell_type": "markdown",
   "metadata": {},
   "source": [
    "__#1__"
   ]
  },
  {
   "cell_type": "code",
   "execution_count": 267,
   "metadata": {},
   "outputs": [],
   "source": [
    "def solve(s):\n",
    "    return s.upper() if sum(map(str.isupper, s)) * 2 > len(s) else s.lower()"
   ]
  },
  {
   "cell_type": "code",
   "execution_count": 269,
   "metadata": {},
   "outputs": [
    {
     "name": "stdout",
     "output_type": "stream",
     "text": [
      "Help on method_descriptor:\n",
      "\n",
      "isupper(self, /)\n",
      "    Return True if the string is an uppercase string, False otherwise.\n",
      "    \n",
      "    A string is uppercase if all cased characters in the string are uppercase and\n",
      "    there is at least one cased character in the string.\n",
      "\n"
     ]
    }
   ],
   "source": [
    "help(str.isupper)"
   ]
  },
  {
   "cell_type": "markdown",
   "metadata": {},
   "source": [
    "__#2__"
   ]
  },
  {
   "cell_type": "code",
   "execution_count": 270,
   "metadata": {},
   "outputs": [],
   "source": [
    "def solve(s):\n",
    "    return (s.lower, s.upper)[sum(map(str.isupper, s)) > len(s) / 2]()"
   ]
  },
  {
   "cell_type": "markdown",
   "metadata": {},
   "source": [
    "20200909"
   ]
  },
  {
   "cell_type": "markdown",
   "metadata": {},
   "source": [
    "### Crack the PIN\n",
    "https://www.codewars.com/kata/5efae11e2d12df00331f91a6  \n",
    "6 kyu\n",
    "\n",
    "Given is a md5 hash of a five digits long PIN. It is given as string. Md5 is a function to hash your password: \"password123\" ===> \"482c811da5d5b4bc6d497ffa98491e38\"\n",
    "\n",
    "Why is this usefull? Hash functions like md5 can create a hash from string in a short time and it is impossible to find out the password, if you only got the hash. The only way is cracking it, means try every combination, hash it and compare it with the hash you want to crack. (There are also other ways of attacking md5 but that's another story) Every Website and OS is storing their passwords as hashes, so if a hacker gets access to the database, he can do nothing, as long the password is safe enough.\n",
    "\n",
    "What is a hash: https://en.wikipedia.org/wiki/Hash_function#:~:text=A%20hash%20function%20is%20any,table%20called%20a%20hash%20table.\n",
    "\n",
    "What is md5: https://en.wikipedia.org/wiki/MD5\n",
    "\n",
    "Note: Many languages have build in tools to hash md5. If not, you can write your own md5 function or google for an example.\n",
    "\n",
    "Here is another kata on generating md5 hashes: https://www.codewars.com/kata/password-hashes\n",
    "\n",
    "Your task is to return the cracked PIN as string.\n",
    "\n",
    "This is a little fun kata, to show you, how weak PINs are and how important a bruteforce protection is, if you create your own login."
   ]
  },
  {
   "cell_type": "code",
   "execution_count": 275,
   "metadata": {},
   "outputs": [
    {
     "name": "stdout",
     "output_type": "stream",
     "text": [
      "dcddb75469b4b4875094e14561e573d8\n"
     ]
    },
    {
     "data": {
      "text/plain": [
       "'dcddb75469b4b4875094e14561e573d8'"
      ]
     },
     "execution_count": 275,
     "metadata": {},
     "output_type": "execute_result"
    }
   ],
   "source": [
    "import hashlib\n",
    "\n",
    "print(hashlib.md5('00000'.encode('UTF-8')).hexdigest())\n",
    "hashlib.md5(b'00000').hexdigest()"
   ]
  },
  {
   "cell_type": "code",
   "execution_count": 294,
   "metadata": {},
   "outputs": [
    {
     "data": {
      "text/plain": [
       "[(0, 0), (0, 1), (0, 2), (1, 1), (1, 2), (2, 2)]"
      ]
     },
     "execution_count": 294,
     "metadata": {},
     "output_type": "execute_result"
    }
   ],
   "source": [
    "from itertools import combinations_with_replacement\n",
    "\n",
    "list(combinations_with_replacement(range(3), 2))"
   ]
  },
  {
   "cell_type": "code",
   "execution_count": 296,
   "metadata": {},
   "outputs": [
    {
     "name": "stdout",
     "output_type": "stream",
     "text": [
      "[(0, 0), (0, 1), (0, 2), (0, 3), (0, 4), (0, 5), (0, 6), (0, 7), (0, 8), (1, 1), (1, 2), (1, 3), (1, 4), (1, 5), (1, 6), (1, 7), (1, 8), (2, 2), (2, 3), (2, 4), (2, 5), (2, 6), (2, 7), (2, 8), (3, 3), (3, 4), (3, 5), (3, 6), (3, 7), (3, 8), (4, 4), (4, 5), (4, 6), (4, 7), (4, 8), (5, 5), (5, 6), (5, 7), (5, 8), (6, 6), (6, 7), (6, 8), (7, 7), (7, 8), (8, 8)]\n",
      "00\n",
      "01\n",
      "02\n",
      "03\n",
      "04\n",
      "05\n",
      "06\n",
      "07\n",
      "08\n",
      "09\n",
      "11\n",
      "12\n",
      "13\n",
      "14\n",
      "15\n",
      "16\n",
      "17\n",
      "18\n",
      "19\n",
      "22\n",
      "23\n",
      "24\n",
      "25\n",
      "26\n",
      "27\n",
      "28\n",
      "29\n",
      "33\n",
      "34\n",
      "35\n",
      "36\n",
      "37\n",
      "38\n",
      "39\n",
      "44\n",
      "45\n",
      "46\n",
      "47\n",
      "48\n",
      "49\n",
      "55\n",
      "56\n",
      "57\n",
      "58\n",
      "59\n",
      "66\n",
      "67\n",
      "68\n",
      "69\n",
      "77\n",
      "78\n",
      "79\n",
      "88\n",
      "89\n",
      "99\n"
     ]
    }
   ],
   "source": [
    "from itertools import permutations\n",
    "\n",
    "print(list(combinations_with_replacement(range(9), 2)))\n",
    "#for p in permutations(range(9), 2): # TypeError: sequence item 0: expected str instance, int found\n",
    "#    print(''.join(p))\n",
    "for p in combinations_with_replacement('0123456789', 2):\n",
    "    print(''.join(p))"
   ]
  },
  {
   "cell_type": "code",
   "execution_count": 297,
   "metadata": {},
   "outputs": [
    {
     "name": "stdout",
     "output_type": "stream",
     "text": [
      "12345 12345\n",
      "00078 00078\n"
     ]
    }
   ],
   "source": [
    "from itertools import combinations_with_replacement\n",
    "import hashlib\n",
    "\n",
    "def crack(hash):\n",
    "    for comb in combinations_with_replacement('0123456789', 5):\n",
    "        if hashlib.md5(''.join(comb).encode('UTF-8')).hexdigest() == hash:\n",
    "            return ''.join(comb)\n",
    "        \n",
    "print(crack(\"827ccb0eea8a706c4c34a16891f84e7b\"), \"12345\")\n",
    "print(crack(\"86aa400b65433b608a9db30070ec60cd\"), \"00078\")"
   ]
  },
  {
   "cell_type": "code",
   "execution_count": 289,
   "metadata": {},
   "outputs": [
    {
     "data": {
      "text/plain": [
       "'86aa400b65433b608a9db30070ec60cd'"
      ]
     },
     "execution_count": 289,
     "metadata": {},
     "output_type": "execute_result"
    }
   ],
   "source": [
    "hashlib.md5('00078'.encode('UTF-8')).hexdigest()"
   ]
  },
  {
   "cell_type": "code",
   "execution_count": 292,
   "metadata": {},
   "outputs": [
    {
     "name": "stdout",
     "output_type": "stream",
     "text": [
      "True\n"
     ]
    }
   ],
   "source": [
    "if ('1', '2', '3', '4', '5') in permutations('0123456789', 5):\n",
    "    print(True)"
   ]
  },
  {
   "cell_type": "code",
   "execution_count": 298,
   "metadata": {},
   "outputs": [],
   "source": [
    "if ('0', '0', '0', '7', '8') in permutations('0123456789', 5):\n",
    "    print(True)"
   ]
  },
  {
   "cell_type": "code",
   "execution_count": 299,
   "metadata": {},
   "outputs": [
    {
     "name": "stdout",
     "output_type": "stream",
     "text": [
      "True\n"
     ]
    }
   ],
   "source": [
    "if ('0', '0', '0', '7', '8') in combinations_with_replacement('0123456789', 5):\n",
    "    print(True)"
   ]
  },
  {
   "cell_type": "markdown",
   "metadata": {},
   "source": [
    "I have to use product instead of permutations combinations_with_replacement!!!"
   ]
  },
  {
   "cell_type": "markdown",
   "metadata": {},
   "source": [
    "__My solution:__"
   ]
  },
  {
   "cell_type": "code",
   "execution_count": null,
   "metadata": {},
   "outputs": [],
   "source": [
    "from itertools import product\n",
    "import hashlib\n",
    "\n",
    "def crack(hash):\n",
    "    for comb in product('0123456789', repeat=5):\n",
    "        if hashlib.md5(''.join(comb).encode('UTF-8')).hexdigest() == hash:\n",
    "            return ''.join(comb)\n",
    "        \n",
    "print(crack(\"827ccb0eea8a706c4c34a16891f84e7b\"), \"12345\")\n",
    "print(crack(\"86aa400b65433b608a9db30070ec60cd\"), \"00078\")"
   ]
  },
  {
   "cell_type": "markdown",
   "metadata": {},
   "source": [
    "__Other codewar users' solutions:__"
   ]
  },
  {
   "cell_type": "markdown",
   "metadata": {},
   "source": [
    "__#1__ The greatest idea to use integer numbers and str.zfill() (or f'{a:05}' for a in range(10 ** n)):"
   ]
  },
  {
   "cell_type": "code",
   "execution_count": null,
   "metadata": {},
   "outputs": [],
   "source": [
    "import hashlib\n",
    "def crack(hash):\n",
    "    for i in range(100000):\n",
    "        if hashlib.md5(str(i).zfill(5).encode()).hexdigest() == hash:\n",
    "            return str(i).zfill(5)"
   ]
  },
  {
   "cell_type": "markdown",
   "metadata": {},
   "source": [
    "__#2__ Using dict with all hashes"
   ]
  },
  {
   "cell_type": "code",
   "execution_count": null,
   "metadata": {},
   "outputs": [],
   "source": [
    "import hashlib\n",
    "def create_crack(n):\n",
    "    rainbow = {hashlib.md5(f'{a:05}'.encode()).hexdigest() : f'{a:05}' for a in range(10 ** n)}\n",
    "    return rainbow.get\n",
    "\n",
    "crack = create_crack(6)"
   ]
  },
  {
   "cell_type": "markdown",
   "metadata": {},
   "source": [
    "20200910"
   ]
  },
  {
   "cell_type": "markdown",
   "metadata": {},
   "source": [
    "### Get the mean of an array\n",
    "https://www.codewars.com/kata/563e320cee5dddcf77000158  \n",
    "8 kyu\n",
    "\n",
    "It's the academic year's end, fateful moment of your school report. The averages must be calculated. All the students come to you and entreat you to calculate their average for them. Easy ! You just need to write a script.\n",
    "\n",
    "Return the average of the given array rounded down to its nearest integer.\n",
    "\n",
    "The array will never be empty."
   ]
  },
  {
   "cell_type": "markdown",
   "metadata": {},
   "source": [
    "__My solution:__"
   ]
  },
  {
   "cell_type": "code",
   "execution_count": 300,
   "metadata": {},
   "outputs": [],
   "source": [
    "def get_average(marks):\n",
    "    return int(sum(marks) / len(marks))"
   ]
  },
  {
   "cell_type": "markdown",
   "metadata": {},
   "source": [
    "__Other codewar users' solutions:__"
   ]
  },
  {
   "cell_type": "markdown",
   "metadata": {},
   "source": [
    "__#1__"
   ]
  },
  {
   "cell_type": "code",
   "execution_count": 304,
   "metadata": {},
   "outputs": [
    {
     "name": "stdout",
     "output_type": "stream",
     "text": [
      "3\n",
      "11 11 didn't work for [1,2,15,15,17,11,12,17,17,14,13,15,6,11,8,7]\n"
     ]
    }
   ],
   "source": [
    "def get_average(marks):\n",
    "    return sum(marks) // len(marks)\n",
    "\n",
    "print(get_average([1, 2, 7]))\n",
    "print(get_average([1,2,15,15,17,11,12,17,17,14,13,15,6,11,8,7]), 11, \"didn't work for [1,2,15,15,17,11,12,17,17,14,13,15,6,11,8,7]\")"
   ]
  },
  {
   "cell_type": "markdown",
   "metadata": {},
   "source": [
    "__#2__ Using numpy"
   ]
  },
  {
   "cell_type": "code",
   "execution_count": 302,
   "metadata": {},
   "outputs": [],
   "source": [
    "import numpy\n",
    "\n",
    "def get_average(marks):\n",
    "    return int(numpy.mean(marks))"
   ]
  },
  {
   "cell_type": "markdown",
   "metadata": {},
   "source": [
    "__#3__ Using numpy, strange import and  lambda"
   ]
  },
  {
   "cell_type": "code",
   "execution_count": null,
   "metadata": {},
   "outputs": [],
   "source": [
    "get_average = lambda m: int(__import__(\"numpy\").mean(m))"
   ]
  },
  {
   "cell_type": "markdown",
   "metadata": {},
   "source": [
    "### Word values\n",
    "https://www.codewars.com/kata/598d91785d4ce3ec4f000018  \n",
    "7 kyu\n",
    "\n",
    "Given a string \"abc\" and assuming that each letter in the string has a value equal to its position in the alphabet, our string will have a value of 1 + 2 + 3 = 6. This means that: a = 1, b = 2, c = 3 ....z = 26.\n",
    "\n",
    "You will be given a list of strings and your task will be to return the values of the strings as explained above multiplied by the position of that string in the list. For our purpose, position begins with 1.\n",
    "\n",
    "nameValue [\"abc\",\"abc abc\"] should return [6,24] because of [ 6 * 1, 12 * 2 ]. Note how spaces are ignored.\n",
    "\n",
    "\"abc\" has a value of 6, while \"abc abc\" has a value of 12. Now, the value at position 1 is multiplied by 1 while the value at position 2 is multiplied by 2.\n",
    "\n",
    "Input will only contain lowercase characters and spaces.\n",
    "\n",
    "Good luck!"
   ]
  },
  {
   "cell_type": "code",
   "execution_count": 305,
   "metadata": {},
   "outputs": [
    {
     "name": "stdout",
     "output_type": "stream",
     "text": [
      "Help on method_descriptor:\n",
      "\n",
      "isalpha(self, /)\n",
      "    Return True if the string is an alphabetic string, False otherwise.\n",
      "    \n",
      "    A string is alphabetic if all characters in the string are alphabetic and there\n",
      "    is at least one character in the string.\n",
      "\n"
     ]
    }
   ],
   "source": [
    "help(str.isalpha)"
   ]
  },
  {
   "cell_type": "code",
   "execution_count": 308,
   "metadata": {},
   "outputs": [
    {
     "data": {
      "text/plain": [
       "(False, False, False)"
      ]
     },
     "execution_count": 308,
     "metadata": {},
     "output_type": "execute_result"
    }
   ],
   "source": [
    "'.'.isalpha(), ' '.isalpha(), '_'.isalpha()"
   ]
  },
  {
   "cell_type": "code",
   "execution_count": 309,
   "metadata": {},
   "outputs": [
    {
     "data": {
      "text/plain": [
       "97"
      ]
     },
     "execution_count": 309,
     "metadata": {},
     "output_type": "execute_result"
    }
   ],
   "source": [
    "ord('a')"
   ]
  },
  {
   "cell_type": "markdown",
   "metadata": {},
   "source": [
    "__My solution:__"
   ]
  },
  {
   "cell_type": "code",
   "execution_count": 310,
   "metadata": {},
   "outputs": [
    {
     "name": "stdout",
     "output_type": "stream",
     "text": [
      "[6, 12, 18, 24] [6, 12, 18, 24]\n",
      "[88, 12, 225] [88, 12, 225]\n"
     ]
    }
   ],
   "source": [
    "def name_value(my_list):\n",
    "    return [sum(ord(c) - 96 for c in string if c.isalpha()) * i for i, string in enumerate(my_list, 1)]\n",
    "\n",
    "print(name_value([\"abc\",\"abc\",\"abc\",\"abc\"]),[6,12,18,24])\n",
    "print(name_value([\"codewars\",\"abc\",\"xyz\"]),[88,12,225])"
   ]
  },
  {
   "cell_type": "markdown",
   "metadata": {},
   "source": [
    "One little change:"
   ]
  },
  {
   "cell_type": "code",
   "execution_count": 311,
   "metadata": {},
   "outputs": [
    {
     "name": "stdout",
     "output_type": "stream",
     "text": [
      "[6, 12, 18, 24] [6, 12, 18, 24]\n",
      "[88, 12, 225] [88, 12, 225]\n"
     ]
    }
   ],
   "source": [
    "def name_value(my_list):\n",
    "    return [i * sum(ord(c) - 96 for c in string if c.isalpha()) for i, string in enumerate(my_list, 1)]\n",
    "\n",
    "print(name_value([\"abc\",\"abc\",\"abc\",\"abc\"]),[6,12,18,24])\n",
    "print(name_value([\"codewars\",\"abc\",\"xyz\"]),[88,12,225])"
   ]
  },
  {
   "cell_type": "markdown",
   "metadata": {},
   "source": [
    "__Other codewar users' solutions:__"
   ]
  },
  {
   "cell_type": "markdown",
   "metadata": {},
   "source": [
    "__#1__"
   ]
  },
  {
   "cell_type": "code",
   "execution_count": 324,
   "metadata": {},
   "outputs": [
    {
     "name": "stdout",
     "output_type": "stream",
     "text": [
      "[6, 12, 18, 24] [6, 12, 18, 24]\n",
      "[88, 12, 225] [88, 12, 225]\n"
     ]
    }
   ],
   "source": [
    "def name_value(my_list):\n",
    "    return [i * sum(map(lambda c: [0, ord(c) - 96][c.isalpha()], word)) for i, word in enumerate(my_list, 1)]\n",
    "\n",
    "print(name_value([\"abc\",\"abc\",\"abc\",\"abc\"]),[6,12,18,24])\n",
    "print(name_value([\"codewars\",\"abc\",\"xyz\"]),[88,12,225])"
   ]
  },
  {
   "cell_type": "markdown",
   "metadata": {},
   "source": [
    "__#2__"
   ]
  },
  {
   "cell_type": "code",
   "execution_count": 321,
   "metadata": {},
   "outputs": [
    {
     "name": "stdout",
     "output_type": "stream",
     "text": [
      "[6, 12, 18, 24] [6, 12, 18, 24]\n",
      "[88, 12, 225] [88, 12, 225]\n"
     ]
    }
   ],
   "source": [
    "from string import ascii_lowercase\n",
    "\n",
    "def name_value(my_list):\n",
    "    value_map = dict(zip(ascii_lowercase, range(1, 30))) # т.е. в zip можно передевать последовательности разных длин\n",
    "    #value_map = {letter:i for i, letter in enumerate(ascii_lowercase, 1)}\n",
    "    #value_map = dict(((letter, i) for i, letter in enumerate(ascii_lowercase, 1)))\n",
    "    return [i * sum(value_map.get(c, 0) for c in word) for i, word in enumerate(my_list, 1)]\n",
    "    \n",
    "print(name_value([\"abc\",\"abc\",\"abc\",\"abc\"]),[6,12,18,24])\n",
    "print(name_value([\"codewars\",\"abc\",\"xyz\"]),[88,12,225])"
   ]
  },
  {
   "cell_type": "markdown",
   "metadata": {},
   "source": [
    "__#3__"
   ]
  },
  {
   "cell_type": "code",
   "execution_count": 327,
   "metadata": {},
   "outputs": [
    {
     "name": "stdout",
     "output_type": "stream",
     "text": [
      "[6, 12, 18, 24] [6, 12, 18, 24]\n",
      "[88, 12, 225] [88, 12, 225]\n"
     ]
    }
   ],
   "source": [
    "name_value = lambda l: [(i + 1) * sum([(1 + 'abcdefghijklmnopqrstuvwxyz'.index(c) if c in 'abcdefghijklmnopqrstuvwxyz' else 0) for c in list(l[i])]) for i in range(len(l))]\n",
    "\n",
    "print(name_value([\"abc\",\"abc\",\"abc\",\"abc\"]),[6,12,18,24])\n",
    "print(name_value([\"codewars\",\"abc\",\"xyz\"]),[88,12,225])"
   ]
  },
  {
   "cell_type": "code",
   "execution_count": 325,
   "metadata": {},
   "outputs": [
    {
     "name": "stdout",
     "output_type": "stream",
     "text": [
      "Help on method_descriptor:\n",
      "\n",
      "index(...)\n",
      "    S.index(sub[, start[, end]]) -> int\n",
      "    \n",
      "    Return the lowest index in S where substring sub is found, \n",
      "    such that sub is contained within S[start:end].  Optional\n",
      "    arguments start and end are interpreted as in slice notation.\n",
      "    \n",
      "    Raises ValueError when the substring is not found.\n",
      "\n"
     ]
    }
   ],
   "source": [
    "help(str.index)"
   ]
  },
  {
   "cell_type": "code",
   "execution_count": 326,
   "metadata": {},
   "outputs": [
    {
     "name": "stdout",
     "output_type": "stream",
     "text": [
      "Help on method_descriptor:\n",
      "\n",
      "find(...)\n",
      "    S.find(sub[, start[, end]]) -> int\n",
      "    \n",
      "    Return the lowest index in S where substring sub is found,\n",
      "    such that sub is contained within S[start:end].  Optional\n",
      "    arguments start and end are interpreted as in slice notation.\n",
      "    \n",
      "    Return -1 on failure.\n",
      "\n"
     ]
    }
   ],
   "source": [
    "help(str.find)"
   ]
  },
  {
   "cell_type": "markdown",
   "metadata": {},
   "source": [
    "I've made a little change:"
   ]
  },
  {
   "cell_type": "code",
   "execution_count": 330,
   "metadata": {},
   "outputs": [
    {
     "name": "stdout",
     "output_type": "stream",
     "text": [
      "[6, 12, 18, 24] [6, 12, 18, 24]\n",
      "[88, 12, 225] [88, 12, 225]\n"
     ]
    }
   ],
   "source": [
    "name_value = lambda l: [i * sum((1 + 'abcdefghijklmnopqrstuvwxyz'.find(c)) for c in string) for i, string in enumerate(l, 1)]\n",
    "\n",
    "print(name_value([\"abc\",\"abc\",\"abc\",\"abc\"]),[6,12,18,24])\n",
    "print(name_value([\"codewars\",\"abc\",\"xyz\"]),[88,12,225])"
   ]
  },
  {
   "cell_type": "markdown",
   "metadata": {},
   "source": [
    "20200911"
   ]
  },
  {
   "cell_type": "markdown",
   "metadata": {},
   "source": [
    "### Character with longest consecutive repetition\n",
    "https://www.codewars.com/kata/586d6cefbcc21eed7a001155  \n",
    "6 kyu\n",
    "\n",
    "For a given string s find the character c (or C) with longest consecutive repetition and return:\n",
    "\n",
    "(c, l)\n",
    "where l (or L) is the length of the repetition. If there are two or more characters with the same l return the first in order of appearance.\n",
    "\n",
    "For empty string return:\n",
    "\n",
    "('', 0)\n",
    "Happy coding! :)"
   ]
  },
  {
   "cell_type": "markdown",
   "metadata": {},
   "source": [
    "__My solutions:__"
   ]
  },
  {
   "cell_type": "markdown",
   "metadata": {},
   "source": [
    "__#1__"
   ]
  },
  {
   "cell_type": "code",
   "execution_count": 354,
   "metadata": {},
   "outputs": [
    {
     "name": "stdout",
     "output_type": "stream",
     "text": [
      "['chars', 'count', 'cur', 'longest', 'longest_count', 'prev']\n",
      "aaaabb ('a', 4) ('a', 4)\n",
      "['chars', 'count', 'cur', 'longest', 'longest_count', 'prev']\n",
      "bbbaaabaaaa ('a', 4) ('a', 4)\n",
      "['chars', 'count', 'cur', 'longest', 'longest_count', 'prev']\n",
      "cbdeuuu900 ('u', 3) ('u', 3)\n",
      "['chars', 'count', 'cur', 'longest', 'longest_count', 'prev']\n",
      "abbbbb ('b', 5) ('b', 5)\n",
      "['chars', 'count', 'cur', 'longest', 'longest_count', 'prev']\n",
      "aabb ('a', 2) ('a', 2)\n",
      "['chars', 'count', 'cur', 'longest', 'longest_count', 'prev']\n",
      "ba ('b', 1) ('b', 1)\n",
      "['chars', 'count', 'longest', 'longest_count', 'prev']\n",
      " ('', 0) ('', 0)\n"
     ]
    }
   ],
   "source": [
    "def longest_repetition(chars):\n",
    "    longest, longest_count = '', 0    \n",
    "    prev, count = '', 0\n",
    "    for cur in chars:\n",
    "        if cur == prev:\n",
    "            count += 1\n",
    "        else:\n",
    "            if count > longest_count:\n",
    "                longest, longest_count = prev, count\n",
    "\n",
    "            prev, count = cur, 1\n",
    "    return (longest, longest_count) if count <= longest_count else (prev, count)\n",
    "\n",
    "tests = [\n",
    "    # [input, expected],\n",
    "    [\"aaaabb\", ('a', 4)],\n",
    "    [\"bbbaaabaaaa\", ('a', 4)],\n",
    "    [\"cbdeuuu900\", ('u', 3)],\n",
    "    [\"abbbbb\", ('b', 5)],\n",
    "    [\"aabb\", ('a', 2)],\n",
    "    [\"ba\", ('b', 1)],\n",
    "    [\"\", ('', 0)],\n",
    "]\n",
    "\n",
    "for test in tests:\n",
    "    print(test[0], longest_repetition(test[0]), test[1])"
   ]
  },
  {
   "cell_type": "code",
   "execution_count": null,
   "metadata": {},
   "outputs": [],
   "source": [
    "dic(longest_repetition)"
   ]
  },
  {
   "cell_type": "markdown",
   "metadata": {},
   "source": [
    "Код ниже, с __вложенной__ функцией compare(), осуществляющее сравнение по правилам, не работает, т.к. внутри функции compare() происходит создание новых собственных локальных переменных longest, longest_count вместо изменения старых. Решение этого - использовать ключевое слово __nonlocal__ внутри функции compare(), см. следующий после этого код (рeшение #2):"
   ]
  },
  {
   "cell_type": "code",
   "execution_count": 360,
   "metadata": {},
   "outputs": [
    {
     "name": "stdout",
     "output_type": "stream",
     "text": [
      "['chars', 'compare', 'count', 'cur', 'longest', 'longest_count', 'prev']\n",
      "['count', 'prev']\n"
     ]
    },
    {
     "ename": "UnboundLocalError",
     "evalue": "local variable 'longest_count' referenced before assignment",
     "output_type": "error",
     "traceback": [
      "\u001b[1;31m---------------------------------------------------------------------------\u001b[0m",
      "\u001b[1;31mUnboundLocalError\u001b[0m                         Traceback (most recent call last)",
      "\u001b[1;32m<ipython-input-360-a77b2b2dc4f6>\u001b[0m in \u001b[0;36m<module>\u001b[1;34m\u001b[0m\n\u001b[0;32m     30\u001b[0m \u001b[1;33m\u001b[0m\u001b[0m\n\u001b[0;32m     31\u001b[0m \u001b[1;32mfor\u001b[0m \u001b[0mtest\u001b[0m \u001b[1;32min\u001b[0m \u001b[0mtests\u001b[0m\u001b[1;33m:\u001b[0m\u001b[1;33m\u001b[0m\u001b[1;33m\u001b[0m\u001b[0m\n\u001b[1;32m---> 32\u001b[1;33m     \u001b[0mprint\u001b[0m\u001b[1;33m(\u001b[0m\u001b[0mtest\u001b[0m\u001b[1;33m[\u001b[0m\u001b[1;36m0\u001b[0m\u001b[1;33m]\u001b[0m\u001b[1;33m,\u001b[0m \u001b[0mlongest_repetition\u001b[0m\u001b[1;33m(\u001b[0m\u001b[0mtest\u001b[0m\u001b[1;33m[\u001b[0m\u001b[1;36m0\u001b[0m\u001b[1;33m]\u001b[0m\u001b[1;33m)\u001b[0m\u001b[1;33m,\u001b[0m \u001b[0mtest\u001b[0m\u001b[1;33m[\u001b[0m\u001b[1;36m1\u001b[0m\u001b[1;33m]\u001b[0m\u001b[1;33m)\u001b[0m\u001b[1;33m\u001b[0m\u001b[1;33m\u001b[0m\u001b[0m\n\u001b[0m",
      "\u001b[1;32m<ipython-input-360-a77b2b2dc4f6>\u001b[0m in \u001b[0;36mlongest_repetition\u001b[1;34m(chars)\u001b[0m\n\u001b[0;32m     15\u001b[0m             \u001b[0mprev\u001b[0m\u001b[1;33m,\u001b[0m \u001b[0mcount\u001b[0m \u001b[1;33m=\u001b[0m \u001b[0mcur\u001b[0m\u001b[1;33m,\u001b[0m \u001b[1;36m1\u001b[0m\u001b[1;33m\u001b[0m\u001b[1;33m\u001b[0m\u001b[0m\n\u001b[0;32m     16\u001b[0m     \u001b[0mprint\u001b[0m\u001b[1;33m(\u001b[0m\u001b[0mdir\u001b[0m\u001b[1;33m(\u001b[0m\u001b[1;33m)\u001b[0m\u001b[1;33m)\u001b[0m\u001b[1;33m\u001b[0m\u001b[1;33m\u001b[0m\u001b[0m\n\u001b[1;32m---> 17\u001b[1;33m     \u001b[0mcompare\u001b[0m\u001b[1;33m(\u001b[0m\u001b[1;33m)\u001b[0m\u001b[1;33m\u001b[0m\u001b[1;33m\u001b[0m\u001b[0m\n\u001b[0m\u001b[0;32m     18\u001b[0m     \u001b[1;32mreturn\u001b[0m \u001b[1;33m(\u001b[0m\u001b[0mlongest\u001b[0m\u001b[1;33m,\u001b[0m \u001b[0mlongest_count\u001b[0m\u001b[1;33m)\u001b[0m\u001b[1;33m\u001b[0m\u001b[1;33m\u001b[0m\u001b[0m\n\u001b[0;32m     19\u001b[0m \u001b[1;33m\u001b[0m\u001b[0m\n",
      "\u001b[1;32m<ipython-input-360-a77b2b2dc4f6>\u001b[0m in \u001b[0;36mcompare\u001b[1;34m()\u001b[0m\n\u001b[0;32m      5\u001b[0m     \u001b[1;32mdef\u001b[0m \u001b[0mcompare\u001b[0m\u001b[1;33m(\u001b[0m\u001b[1;33m)\u001b[0m\u001b[1;33m:\u001b[0m\u001b[1;33m\u001b[0m\u001b[1;33m\u001b[0m\u001b[0m\n\u001b[0;32m      6\u001b[0m         \u001b[0mprint\u001b[0m\u001b[1;33m(\u001b[0m\u001b[0mdir\u001b[0m\u001b[1;33m(\u001b[0m\u001b[1;33m)\u001b[0m\u001b[1;33m)\u001b[0m\u001b[1;33m\u001b[0m\u001b[1;33m\u001b[0m\u001b[0m\n\u001b[1;32m----> 7\u001b[1;33m         \u001b[1;32mif\u001b[0m \u001b[0mcount\u001b[0m \u001b[1;33m>\u001b[0m \u001b[0mlongest_count\u001b[0m\u001b[1;33m:\u001b[0m\u001b[1;33m\u001b[0m\u001b[1;33m\u001b[0m\u001b[0m\n\u001b[0m\u001b[0;32m      8\u001b[0m             \u001b[0mlongest\u001b[0m\u001b[1;33m,\u001b[0m \u001b[0mlongest_count\u001b[0m \u001b[1;33m=\u001b[0m \u001b[0mprev\u001b[0m\u001b[1;33m,\u001b[0m \u001b[0mcount\u001b[0m\u001b[1;33m\u001b[0m\u001b[1;33m\u001b[0m\u001b[0m\n\u001b[0;32m      9\u001b[0m \u001b[1;33m\u001b[0m\u001b[0m\n",
      "\u001b[1;31mUnboundLocalError\u001b[0m: local variable 'longest_count' referenced before assignment"
     ]
    }
   ],
   "source": [
    "def longest_repetition(chars):\n",
    "    longest, longest_count = '', 0    \n",
    "    prev, count = '', 0\n",
    "    \n",
    "    def compare():\n",
    "        print(dir())\n",
    "        if count > longest_count:\n",
    "            longest, longest_count = prev, count\n",
    "        \n",
    "    for cur in chars + '':\n",
    "        if cur == prev:\n",
    "            count += 1\n",
    "        else:\n",
    "            #compare()\n",
    "            prev, count = cur, 1\n",
    "    print(dir())      \n",
    "    compare()\n",
    "    return (longest, longest_count)\n",
    "\n",
    "tests = [\n",
    "    # [input, expected],\n",
    "    [\"aaaabb\", ('a', 4)],\n",
    "    [\"bbbaaabaaaa\", ('a', 4)],\n",
    "    [\"cbdeuuu900\", ('u', 3)],\n",
    "    [\"abbbbb\", ('b', 5)],\n",
    "    [\"aabb\", ('a', 2)],\n",
    "    [\"ba\", ('b', 1)],\n",
    "    [\"\", ('', 0)],\n",
    "]\n",
    "\n",
    "for test in tests:\n",
    "    print(test[0], longest_repetition(test[0]), test[1])  "
   ]
  },
  {
   "cell_type": "markdown",
   "metadata": {},
   "source": [
    "__#2__"
   ]
  },
  {
   "cell_type": "code",
   "execution_count": 365,
   "metadata": {},
   "outputs": [
    {
     "name": "stdout",
     "output_type": "stream",
     "text": [
      "aaaabb ('a', 4) ('a', 4)\n",
      "bbbaaabaaaa ('a', 4) ('a', 4)\n",
      "cbdeuuu900 ('u', 3) ('u', 3)\n",
      "abbbbb ('b', 5) ('b', 5)\n",
      "aabb ('a', 2) ('a', 2)\n",
      "ba ('b', 1) ('b', 1)\n",
      " ('', 0) ('', 0)\n"
     ]
    }
   ],
   "source": [
    "def longest_repetition(chars):\n",
    "    longest, longest_count = '', 0    \n",
    "    prev, count = '', 0\n",
    "    \n",
    "    def compare():\n",
    "        #print(dir())\n",
    "        nonlocal longest, longest_count\n",
    "        if count > longest_count:\n",
    "            longest, longest_count = prev, count\n",
    "        \n",
    "    for cur in chars + '':\n",
    "        if cur == prev:\n",
    "            count += 1\n",
    "        else:\n",
    "            compare()\n",
    "            prev, count = cur, 1\n",
    "    #print(dir())      \n",
    "    compare()\n",
    "    return (longest, longest_count)\n",
    "\n",
    "tests = [\n",
    "    # [input, expected],\n",
    "    [\"aaaabb\", ('a', 4)],\n",
    "    [\"bbbaaabaaaa\", ('a', 4)],\n",
    "    [\"cbdeuuu900\", ('u', 3)],\n",
    "    [\"abbbbb\", ('b', 5)],\n",
    "    [\"aabb\", ('a', 2)],\n",
    "    [\"ba\", ('b', 1)],\n",
    "    [\"\", ('', 0)],\n",
    "]\n",
    "\n",
    "for test in tests:\n",
    "    print(test[0], longest_repetition(test[0]), test[1])  "
   ]
  },
  {
   "cell_type": "code",
   "execution_count": 343,
   "metadata": {},
   "outputs": [
    {
     "name": "stdout",
     "output_type": "stream",
     "text": [
      "Help on method_descriptor:\n",
      "\n",
      "startswith(...)\n",
      "    S.startswith(prefix[, start[, end]]) -> bool\n",
      "    \n",
      "    Return True if S starts with the specified prefix, False otherwise.\n",
      "    With optional start, test S beginning at that position.\n",
      "    With optional end, stop comparing S at that position.\n",
      "    prefix can also be a tuple of strings to try.\n",
      "\n"
     ]
    }
   ],
   "source": [
    "help(str.startswith)"
   ]
  },
  {
   "cell_type": "code",
   "execution_count": 345,
   "metadata": {},
   "outputs": [
    {
     "name": "stdout",
     "output_type": "stream",
     "text": [
      "Help on method_descriptor:\n",
      "\n",
      "partition(self, sep, /)\n",
      "    Partition the string into three parts using the given separator.\n",
      "    \n",
      "    This will search for the separator in the string.  If the separator is found,\n",
      "    returns a 3-tuple containing the part before the separator, the separator\n",
      "    itself, and the part after it.\n",
      "    \n",
      "    If the separator is not found, returns a 3-tuple containing the original string\n",
      "    and two empty strings.\n",
      "\n"
     ]
    }
   ],
   "source": [
    "help(str.partition)"
   ]
  },
  {
   "cell_type": "markdown",
   "metadata": {},
   "source": [
    "### Iterative Rotation Cipher\n",
    "https://www.codewars.com/kata/5a3357ae8058425bde002674  \n",
    "5 kye\n",
    "\n",
    "In this kata, your task is to implement what I call Iterative Rotation Cipher (IRC). To complete the task, you will create an object with two methods, encode and decode. (For non-JavaScript versions, you only need to write the two functions without the enclosing dict)\n",
    "\n",
    "__Input__  \n",
    "The encode method will receive two arguments — a positive integer n and a string value.\n",
    "\n",
    "The decode method will receive one argument — a string value.\n",
    "\n",
    "__Output__    \n",
    "Each method will return a string value.\n",
    "\n",
    "__How It Works__  \n",
    "Encoding and decoding are done by performing a series of character and substring rotations on a string input.\n",
    "\n",
    "Encoding: The number of rotations is determined by the value of n. The sequence of rotations is applied in the following order:  \n",
    " Step 1: remove all spaces in the string (but remember their positions)  \n",
    " Step 2: shift the order of characters in the new string to the right by n characters  \n",
    " Step 3: put the spaces back in their original positions  \n",
    " Step 4: shift the characters of each substring (separated by one or more consecutive spaces) to the right by n  \n",
    "Repeat this process until it has been completed n times in total.  \n",
    "The value n is then prepended to the resulting string with a space.  \n",
    "\n",
    "Decoding: Decoding simply reverses the encoding process.\n",
    "\n",
    "__Test Example__  \n",
    "quote = 'If you wish to make an apple pie from scratch, you must first invent the universe.'  \n",
    "solution = '10 hu fmo a,ys vi utie mr snehn rni tvte .ysushou teI fwea pmapi apfrok rei tnocsclet'  \n",
    "IterativeRotationCipher[ 'encode' ](10,quote) == solution; //True\n",
    "\n",
    "\n",
    "Step-by-step breakdown:  \n",
    "Step 1 — remove all spaces:  \n",
    "'Ifyouwishtomakeanapplepiefromscratch,youmustfirstinventtheuniverse.'\n",
    "\n",
    "Step 2 — shift the order of string characters to the right by 10:  \n",
    "'euniverse.Ifyouwishtomakeanapplepiefromscratch,youmustfirstinventth'\n",
    "\n",
    "Step 3 — place the spaces back in their original positions:  \n",
    "'eu niv erse .I fyou wi shtom ake anap plepiefr oms crat ch,yo umustf irs tinventth'\n",
    "\n",
    "Step 4 — shift the order of characters for each space-separated substring to the right by 10:  \n",
    "'eu vni seer .I oufy wi shtom eak apan frplepie som atcr ch,yo ustfum sir htinventt'\n",
    "\n",
    "Repeat the steps 9 more times before returning the string with '10 ' prepended.  \n",
    "\n",
    "\n",
    "__Technical Details__  \n",
    "Input will always be valid.  \n",
    "The characters used in the strings include any combination of alphanumeric characters, the space character, the newline character, and any of the following: _!@#$%^&()[]{}+-*/=\"'<>,.?:;."
   ]
  },
  {
   "cell_type": "code",
   "execution_count": 384,
   "metadata": {},
   "outputs": [
    {
     "name": "stdout",
     "output_type": "stream",
     "text": [
      "<re.Match object; span=(2, 3), match=' '> (2, 3)    \n",
      "<re.Match object; span=(6, 7), match=' '> (6, 7)    \n",
      "<re.Match object; span=(11, 13), match='\\n '> (11, 13) \n",
      "  \n",
      " \n",
      "<re.Match object; span=(15, 16), match=' '> (15, 16)    \n",
      "<re.Match object; span=(20, 21), match=' '> (20, 21)    \n",
      "<re.Match object; span=(23, 24), match=' '> (23, 24)    \n",
      "<re.Match object; span=(29, 32), match='   '> (29, 32)        \n",
      "<re.Match object; span=(35, 37), match=' \\t'> (35, 37)  \t  \t\n",
      "<re.Match object; span=(41, 42), match=' '> (41, 42)    \n",
      "<re.Match object; span=(50, 51), match=' '> (50, 51)    \n",
      "<re.Match object; span=(54, 55), match=' '> (54, 55)    \n",
      "<re.Match object; span=(59, 60), match=' '> (59, 60)    \n",
      "<re.Match object; span=(65, 66), match=' '> (65, 66)    \n",
      "<re.Match object; span=(72, 73), match=' '> (72, 73)    \n",
      "<re.Match object; span=(76, 77), match=' '> (76, 77)    \n"
     ]
    }
   ],
   "source": [
    "import re\n",
    "\n",
    "string = 'If you wish\\n to make an apple   pie \\tfrom scratch, you must first invent the universe.'\n",
    "match = re.findall(r'\\s', string) # Возвращает список\n",
    "match = re.search(r'\\s', string) # Возвращает 1 объект Match\n",
    "match = re.finditer(r'\\s+', string) # Итератор на Match-объекты всех непересекающихся шаблонов\n",
    "\n",
    "for m in match:\n",
    "    print(m, m.span(), m.group(), m[0]) # match[0], match.group() - подстрока, соответствующая шаблону"
   ]
  },
  {
   "cell_type": "markdown",
   "metadata": {},
   "source": [
    "20200912 (доделывала 20200915)"
   ]
  },
  {
   "cell_type": "markdown",
   "metadata": {},
   "source": [
    "__My solution:__ Not best among other codewars users' solutions, but in my defense initially I thought that new lines (\\n) are interpreted as spaces too."
   ]
  },
  {
   "cell_type": "code",
   "execution_count": 56,
   "metadata": {},
   "outputs": [
    {
     "ename": "SyntaxError",
     "evalue": "invalid syntax (<ipython-input-56-4597b6dab143>, line 72)",
     "output_type": "error",
     "traceback": [
      "\u001b[1;36m  File \u001b[1;32m\"<ipython-input-56-4597b6dab143>\"\u001b[1;36m, line \u001b[1;32m72\u001b[0m\n\u001b[1;33m    string = 'G   XyA{ oQpKt6h c H6S(y _x<1rI }5/Y\"hiU <l5MyRye.T.4  s +cT SnM*8KGM' should equal '+M   SphX 1o{KKGH 6 cQ6h( y_tI<r l}5/SU\"i xM<5Yey4R.T.  \\n s*c yTnMy8AG'\u001b[0m\n\u001b[1;37m                                                                                          ^\u001b[0m\n\u001b[1;31mSyntaxError\u001b[0m\u001b[1;31m:\u001b[0m invalid syntax\n"
     ]
    }
   ],
   "source": [
    "import re\n",
    "\n",
    "def encode(n, string):    \n",
    "    def shift2right(string):    \n",
    "        if not string:\n",
    "            return ''\n",
    "        delim = len(string) - n % len(string)\n",
    "        return string[delim:] + string[:delim]     \n",
    "    \n",
    "    # Find all collections of consecutive spaces (only spaces, not \\n (unknown about \\t))\n",
    "    # and save all collections in the list in order to use them n times\n",
    "    # in outer for-loop (finditer returns iterator through string)\n",
    "    spaces = [space for space in re.finditer(r' +', string)]\n",
    "    \n",
    "    for i in range(n):\n",
    "        # Step 1: remove all spaces (only spaces, not \\n (unknown about \\t))\n",
    "        string = re.sub(r' +', '', string)\n",
    "        \n",
    "        # Step 2: shift the order of string characters to the right by n\n",
    "        string = shift2right(string)\n",
    "        \n",
    "        # Step 4 (3): shift the characters of each substring to the right by n\n",
    "        # Step 3 (4): put the spaces back in their original positions\n",
    "        pos = 0\n",
    "        new_string = ''\n",
    "        for space in spaces:\n",
    "            new_string += shift2right(string[: space.span()[0] - pos]) + space[0]\n",
    "            string = string[space.span()[0] - pos :]\n",
    "            pos = space.span()[1]\n",
    "        string = new_string + shift2right(string)\n",
    "        \n",
    "    return f'{n} {string}'\n",
    "\n",
    "            \n",
    "def decode(string):  \n",
    "    def shift2left(string):\n",
    "        if not string:\n",
    "            return ''\n",
    "        delim = n % len(string)\n",
    "        return string[delim:] + string[:delim]\n",
    "    \n",
    "    # Retrieve n\n",
    "    n, string = string.split(' ', maxsplit=1)\n",
    "    n = int(n)\n",
    "    \n",
    "    # Find all collections of consecutive spaces (only spaces, not \\n (unknown about \\t))\n",
    "    # and save them in the list in order to use them n times\n",
    "    # in outer for-loop (finditer returns iterator through string)\n",
    "    spaces = [space for space in re.finditer(r' +', string)]\n",
    "    \n",
    "    for i in range(n):\n",
    "        # Step 1: remove all spaces (only spaces, not \\n (unknown about \\t))\n",
    "        # Step 2: shift the characters of each substring to the left by n\n",
    "        # Step 3: join substrings in one string (without spaces) and shift\n",
    "        # the order of string characters to the left by n\n",
    "        string = shift2left(''.join(map(shift2left, string.split(' '))))\n",
    "\n",
    "        # Step 4: put the spaces back in their original positions\n",
    "        pos = 0\n",
    "        new_string = ''\n",
    "        for space in spaces:\n",
    "            new_string += string[: space.span()[0] - pos] + space[0]\n",
    "            string = string[space.span()[0] - pos :]\n",
    "            pos = space.span()[1]\n",
    "        string = new_string + string\n",
    "        \n",
    "    return string\n",
    "         \n",
    "\n",
    "string = 'If you wish\\n to make an apple   pie \\tfrom scratch, you must first invent the universe.'\n",
    "print(repr(string))\n",
    "print()\n",
    "string = encode(10, string)\n",
    "print(repr(string))\n",
    "print()\n",
    "print(repr(decode(string)))"
   ]
  },
  {
   "cell_type": "code",
   "execution_count": 45,
   "metadata": {},
   "outputs": [
    {
     "name": "stdout",
     "output_type": "stream",
     "text": [
      "fyouwantI\n"
     ]
    }
   ],
   "source": [
    "string = 'Ifyouwant'\n",
    "n = 10\n",
    "delim = n % len(string)\n",
    "print(string[delim:] + string[:delim])"
   ]
  },
  {
   "cell_type": "code",
   "execution_count": 37,
   "metadata": {},
   "outputs": [
    {
     "data": {
      "text/plain": [
       "'rgrterhwrhhthhrthrrehh'"
      ]
     },
     "execution_count": 37,
     "metadata": {},
     "output_type": "execute_result"
    }
   ],
   "source": [
    "# Remove all spaces, tabs and newlines\n",
    "# Альтернатива методу split()\n",
    "string = '  rgrt erhwrh  hthhrth\\t\\n  rrehh\\n  '\n",
    "string = re.sub(r'\\s+', '', string)\n",
    "string"
   ]
  },
  {
   "cell_type": "code",
   "execution_count": 69,
   "metadata": {},
   "outputs": [
    {
     "data": {
      "text/plain": [
       "(2, 4, 0, 2, 0, 2)"
      ]
     },
     "execution_count": 69,
     "metadata": {},
     "output_type": "execute_result"
    }
   ],
   "source": [
    "2 % 7, 4 % 7, 7 % 7, 9 % 7, 14 % 7, 16 % 7 "
   ]
  },
  {
   "cell_type": "code",
   "execution_count": 25,
   "metadata": {},
   "outputs": [
    {
     "name": "stdout",
     "output_type": "stream",
     "text": [
      "Help on method_descriptor:\n",
      "\n",
      "split(self, /, sep=None, maxsplit=-1)\n",
      "    Return a list of the words in the string, using sep as the delimiter string.\n",
      "    \n",
      "    sep\n",
      "      The delimiter according which to split the string.\n",
      "      None (the default value) means split according to any whitespace,\n",
      "      and discard empty strings from the result.\n",
      "    maxsplit\n",
      "      Maximum number of splits to do.\n",
      "      -1 (the default value) means no limit.\n",
      "\n"
     ]
    }
   ],
   "source": [
    "help(str.split)"
   ]
  },
  {
   "cell_type": "code",
   "execution_count": 57,
   "metadata": {},
   "outputs": [
    {
     "name": "stdout",
     "output_type": "stream",
     "text": [
      "Help on method_descriptor:\n",
      "\n",
      "replace(self, old, new, count=-1, /)\n",
      "    Return a copy with all occurrences of substring old replaced by new.\n",
      "    \n",
      "      count\n",
      "        Maximum number of occurrences to replace.\n",
      "        -1 (the default value) means replace all occurrences.\n",
      "    \n",
      "    If the optional argument count is given, only the first count occurrences are\n",
      "    replaced.\n",
      "\n"
     ]
    }
   ],
   "source": [
    "help(str.replace)"
   ]
  },
  {
   "cell_type": "markdown",
   "metadata": {},
   "source": [
    "__Other codewars users' solutions:__"
   ]
  },
  {
   "cell_type": "markdown",
   "metadata": {},
   "source": [
    "__#1__"
   ]
  },
  {
   "cell_type": "code",
   "execution_count": 66,
   "metadata": {},
   "outputs": [
    {
     "name": "stdout",
     "output_type": "stream",
     "text": [
      "'If    you wish\\n to make an apple   pie \\tfrom scratch, you must first invent the universe.'\n",
      "\n",
      "'10 cs    myo it,un fn thts vr isevn   tue eeisr Iuyo.fhw tni e\\nmk oaapf peelap mri csoahr\\ttu'\n",
      "\n",
      "'If    you wish\\n to make an apple   pie \\tfrom scratch, you must first invent the universe.'\n"
     ]
    }
   ],
   "source": [
    "def shift(string, step):\n",
    "    i = (step % len(string)) if string else 0\n",
    "    return f\"{string[-i:]}{string[:-i]}\"\n",
    "\n",
    "def encode(n, string):\n",
    "    for _ in range(n):\n",
    "        shifted = shift(string.replace(\" \", \"\"), n)\n",
    "        l = [len(word) for word in string.split(\" \")]\n",
    "        string = \" \".join(shift(shifted[sum(l[:i]):sum(l[:i+1])], n) for i in range(len(l)))\n",
    "    return f\"{n} {string}\"\n",
    "\n",
    "def decode(string):\n",
    "    n, string = int(string.partition(\" \")[0]), string.partition(\" \")[2]\n",
    "    for _ in range(n):\n",
    "        shifted = shift(\"\".join(shift(word, -n) for word in string.split(\" \")), -n)\n",
    "        l = [len(word) for word in string.split(\" \")]\n",
    "        string = \" \".join(shifted[sum(l[:i]):sum(l[:i+1])] for i in range(len(l)))\n",
    "    return string\n",
    "\n",
    "string = 'If    you wish\\n to make an apple   pie \\tfrom scratch, you must first invent the universe.'\n",
    "print(repr(string))\n",
    "print()\n",
    "string = encode(10, string)\n",
    "print(repr(string))\n",
    "print()\n",
    "print(repr(decode(string)))"
   ]
  },
  {
   "cell_type": "code",
   "execution_count": 70,
   "metadata": {},
   "outputs": [
    {
     "data": {
      "text/plain": [
       "([], [2], [2], [2, 3], [2, 3], [2, 3, 4])"
      ]
     },
     "execution_count": 70,
     "metadata": {},
     "output_type": "execute_result"
    }
   ],
   "source": [
    "l = [2, 3, 4, 2]\n",
    "l[:0], l[:0 + 1], l[:1], l[:1 + 1], l[:2], l[:2 + 1]"
   ]
  },
  {
   "cell_type": "markdown",
   "metadata": {},
   "source": [
    "При вызове str.split(' ') несколько пробелов, идущих подряд, будут интерпретироваться как разделители для пустых строк, и чем больше пробелов, тем больше получится пустых строк в результате (а при вызове str.split() пустых строк в результате не будет вообще, помимо того, что такой вызов аналогично разделяет по \\n и \\t):"
   ]
  },
  {
   "cell_type": "code",
   "execution_count": 69,
   "metadata": {},
   "outputs": [
    {
     "data": {
      "text/plain": [
       "['If',\n",
       " '',\n",
       " '',\n",
       " '',\n",
       " 'you',\n",
       " 'wish\\n',\n",
       " 'to',\n",
       " 'make',\n",
       " 'an',\n",
       " 'apple',\n",
       " '',\n",
       " '',\n",
       " 'pie',\n",
       " '\\tfrom',\n",
       " 'scratch,',\n",
       " 'you',\n",
       " 'must',\n",
       " 'first',\n",
       " 'invent',\n",
       " 'the',\n",
       " 'universe.']"
      ]
     },
     "execution_count": 69,
     "metadata": {},
     "output_type": "execute_result"
    }
   ],
   "source": [
    "string = 'If    you wish\\n to make an apple   pie \\tfrom scratch, you must first invent the universe.'\n",
    "l = [len(word) for word in string.split(\" \")]\n",
    "string.split(' ')"
   ]
  },
  {
   "cell_type": "code",
   "execution_count": 71,
   "metadata": {},
   "outputs": [
    {
     "name": "stdout",
     "output_type": "stream",
     "text": [
      "Help on method_descriptor:\n",
      "\n",
      "partition(self, sep, /)\n",
      "    Partition the string into three parts using the given separator.\n",
      "    \n",
      "    This will search for the separator in the string.  If the separator is found,\n",
      "    returns a 3-tuple containing the part before the separator, the separator\n",
      "    itself, and the part after it.\n",
      "    \n",
      "    If the separator is not found, returns a 3-tuple containing the original string\n",
      "    and two empty strings.\n",
      "\n"
     ]
    }
   ],
   "source": [
    "help(str.partition)"
   ]
  },
  {
   "cell_type": "markdown",
   "metadata": {},
   "source": [
    "### Hamming Numbers\n",
    "https://www.codewars.com/kata/526d84b98f428f14a60008da  \n",
    "4 kyu\n",
    "\n",
    "A Hamming number is a positive integer of the form 2i3j5k, for some non-negative integers i, j, and k.\n",
    "\n",
    "Write a function that computes the nth smallest Hamming number.\n",
    "\n",
    "Specifically:\n",
    "\n",
    "The first smallest Hamming number is 1 = 2^0 * 3^0 * 5^0  \n",
    "The second smallest Hamming number is 2 = 2^1 * 3^0 * 5^0  \n",
    "The third smallest Hamming number is 3 = 2^0 * 3^1 * 5^0  \n",
    "The fourth smallest Hamming number is 4 = 2^2 * 3^0 * 5^0  \n",
    "The fifth smallest Hamming number is 5 = 2^0 * 3^0 * 5^1  \n",
    "The 20 smallest Hamming numbers are given in example test fixture.\n",
    "\n",
    "Your code should be able to compute all of the smallest 5,000 (Clojure: 2000, NASM: 13282) Hamming numbers without timing out."
   ]
  },
  {
   "cell_type": "code",
   "execution_count": 13,
   "metadata": {},
   "outputs": [
    {
     "name": "stdout",
     "output_type": "stream",
     "text": [
      "[1]\n",
      "[1, 2]\n",
      "[1, 2, 4]\n",
      "[1, 2, 4]\n"
     ]
    }
   ],
   "source": [
    "def hammingNums(n):\n",
    "    ham_nums = []\n",
    "    for k in range(n):\n",
    "        for j in range(n):\n",
    "            for i in range(n):\n",
    "                ham_nums.append(2**i * 3**j * 5**k)\n",
    "                print(ham_nums)\n",
    "                if len(ham_nums) == n:\n",
    "                    return sorted(ham_nums)\n",
    "                      \n",
    "print(hammingNums(3))"
   ]
  },
  {
   "cell_type": "code",
   "execution_count": 35,
   "metadata": {},
   "outputs": [
    {
     "name": "stdout",
     "output_type": "stream",
     "text": [
      "1 0 0 0 {1}\n",
      "2 1 1 1 {1, 30}\n",
      "3 2 2 2 {1, 900, 30}\n",
      "None\n"
     ]
    }
   ],
   "source": [
    "def hammingNums(n):\n",
    "    ham_nums = set()\n",
    "    #ham_nums = []\n",
    "    for w in range(1, n):\n",
    "        for k in range(w - 1, w):\n",
    "            for j in range(w - 1, w):\n",
    "                for i in range(w - 1, w):\n",
    "                    ham_nums.add(2**i * 3**j * 5**k)\n",
    "                    #ham_nums.append(2**i * 3**j * 5**k)\n",
    "                    print(w, k, j, i, ham_nums)\n",
    "        if len(ham_nums) >= n:\n",
    "            return sorted(ham_nums)[:n]\n",
    "                    \n",
    "        \n",
    "print(hammingNums(4))"
   ]
  },
  {
   "cell_type": "code",
   "execution_count": 75,
   "metadata": {},
   "outputs": [
    {
     "name": "stdout",
     "output_type": "stream",
     "text": [
      "Test 0 OK\n",
      "Test 1 OK\n",
      "Test 2 OK\n",
      "Test 3 OK\n",
      "Test 4 OK\n",
      "Test 5 OK\n",
      "Test 6 OK\n",
      "Test 7 OK\n",
      "Test 8 OK\n",
      "Test 9 OK\n",
      "Test 10 OK\n",
      "Test 11 OK\n",
      "Test 12 OK\n",
      "Test 13 OK\n",
      "Test 14 OK\n",
      "Test 15 OK\n",
      "Test 16 OK\n",
      "Test 17 OK\n",
      "Test 18 OK\n",
      "Test 19 OK\n",
      "Test 20 OK\n",
      "Test 21 OK\n",
      "Test 22 OK\n",
      "Test 23 OK\n",
      "Test 24 OK\n",
      "Test 25 OK\n"
     ]
    }
   ],
   "source": [
    "def test_hamming(func):\n",
    "    lst = [1, 2, 3, 4, 5, 6, 8, 9, 10, 12, 15, 16, 18, 20, 24, 25, 27, 30, 32, 36, 40, 45, 48, 50, 54, 60]\n",
    "    for i in range(len(lst)):\n",
    "        res = func(i)\n",
    "        assert lst[:i] == res, res\n",
    "        print(f'Test {i} OK')  # эта строчка необязательна; просто для наглядности\n",
    "\n",
    "\n",
    "def hamming(n):\n",
    "    ham_nums = []\n",
    "    if n <= 1:\n",
    "        maxk = n\n",
    "    else:\n",
    "        maxk = n // 2\n",
    "        \n",
    "    for k in range(maxk):\n",
    "        for j in range(n):\n",
    "            for i in range(n):\n",
    "                ham_nums.append(2**i * 3**j * 5**k)\n",
    "    #print(sorted(ham_nums))\n",
    "    return sorted(ham_nums)[:n]                   \n",
    "\n",
    "test_hamming(hamming)\n",
    "# print(hamming(0))\n",
    "# print(hamming(1))\n",
    "# print(hamming(2))\n",
    "# print(hamming(3))\n",
    "# print(hamming(4))\n",
    "# print(hamming(5))"
   ]
  },
  {
   "cell_type": "markdown",
   "metadata": {},
   "source": [
    "__My solutions:__"
   ]
  },
  {
   "cell_type": "markdown",
   "metadata": {},
   "source": [
    "__#1__ It doesn't pass all tests because of \"Execution Timed Out\". It means that this solution isn't optimal."
   ]
  },
  {
   "cell_type": "code",
   "execution_count": 62,
   "metadata": {},
   "outputs": [
    {
     "name": "stdout",
     "output_type": "stream",
     "text": [
      "Test 1 OK\n",
      "Test 2 OK\n",
      "Test 3 OK\n",
      "Test 4 OK\n",
      "Test 5 OK\n",
      "Test 6 OK\n",
      "Test 7 OK\n",
      "Test 8 OK\n",
      "Test 9 OK\n",
      "Test 10 OK\n",
      "Test 11 OK\n",
      "Test 12 OK\n",
      "Test 13 OK\n",
      "Test 14 OK\n",
      "Test 15 OK\n",
      "Test 16 OK\n",
      "Test 17 OK\n",
      "Test 18 OK\n",
      "Test 19 OK\n",
      "Test 20 OK\n",
      "Test 21 OK\n",
      "Test 22 OK\n",
      "Test 23 OK\n",
      "Test 24 OK\n",
      "Test 25 OK\n",
      "Test 26 OK\n"
     ]
    }
   ],
   "source": [
    "def test_hamming(func):\n",
    "    lst = [1, 2, 3, 4, 5, 6, 8, 9, 10, 12, 15, 16, 18, 20, 24, 25, 27, 30, 32, 36, 40, 45, 48, 50, 54, 60]\n",
    "    for i, item in enumerate(lst, 1):\n",
    "        res = func(i)\n",
    "        assert item == res, res\n",
    "        print(f'Test {i} OK')  # эта строчка необязательна; просто для наглядности\n",
    "\n",
    "\n",
    "def hamming(n):\n",
    "    ham_nums = []\n",
    "    if n <= 1:\n",
    "        maxk = n\n",
    "    else:\n",
    "        maxk = n // 2\n",
    "        \n",
    "    for k in range(maxk):\n",
    "        for j in range(n):\n",
    "            for i in range(n):\n",
    "                ham_nums.append(2**i * 3**j * 5**k)\n",
    "    #print(sorted(ham_nums))\n",
    "    return sorted(ham_nums)[n - 1]                   \n",
    "\n",
    "test_hamming(hamming)\n",
    "# print(hamming(0))\n",
    "# print(hamming(1))\n",
    "# print(hamming(2))\n",
    "# print(hamming(3))\n",
    "# print(hamming(4))\n",
    "# print(hamming(5))"
   ]
  },
  {
   "cell_type": "markdown",
   "metadata": {},
   "source": [
    "__#2__ It doesn't pass all tests because of \"Execution Timed Out\". It means that this solution isn't optimal."
   ]
  },
  {
   "cell_type": "code",
   "execution_count": 87,
   "metadata": {},
   "outputs": [
    {
     "name": "stdout",
     "output_type": "stream",
     "text": [
      "Test 1 OK\n",
      "j 2 2\n",
      "Test 2 OK\n",
      "j 6 3\n",
      "Test 3 OK\n",
      "j 8 4\n",
      "Test 4 OK\n",
      "j 35 5\n",
      "Test 5 OK\n",
      "j 48 6\n",
      "Test 6 OK\n",
      "j 63 8\n",
      "Test 7 OK\n",
      "j 80 9\n",
      "Test 8 OK\n",
      "j 108 10\n",
      "Test 9 OK\n",
      "j 130 12\n",
      "Test 10 OK\n",
      "j 154 15\n",
      "Test 11 OK\n",
      "j 180 16\n",
      "Test 12 OK\n",
      "j 208 18\n",
      "Test 13 OK\n",
      "j 238 20\n",
      "Test 14 OK\n",
      "j 270 24\n",
      "Test 15 OK\n",
      "j 560 25\n",
      "Test 16 OK\n",
      "j 629 27\n",
      "Test 17 OK\n",
      "j 720 30\n",
      "Test 18 OK\n",
      "j 798 32\n",
      "Test 19 OK\n",
      "j 880 36\n",
      "Test 20 OK\n",
      "j 966 40\n",
      "Test 21 OK\n",
      "j 1056 45\n",
      "Test 22 OK\n",
      "j 1150 48\n",
      "Test 23 OK\n",
      "j 1248 50\n",
      "Test 24 OK\n",
      "j 1350 54\n",
      "Test 25 OK\n",
      "j 1456 60\n",
      "Test 26 OK\n"
     ]
    }
   ],
   "source": [
    "def test_hamming(func):\n",
    "    lst = [1, 2, 3, 4, 5, 6, 8, 9, 10, 12, 15, 16, 18, 20, 24, 25, 27, 30, 32, 36, 40, 45, 48, 50, 54, 60]\n",
    "    for i, item in enumerate(lst, 1):\n",
    "        res = func(i)\n",
    "        assert item == res, res\n",
    "        print(f'Test {i} OK')  # эта строчка необязательна; просто для наглядности\n",
    "\n",
    "\n",
    "def hamming(n):\n",
    "    ham_nums = []\n",
    "    for k in range(n):\n",
    "        \n",
    "        ham_nums.sort()\n",
    "        if len(ham_nums) >= n and ham_nums[n - 1] <= 5 ** k:\n",
    "            #print('k', len(ham_nums), ham_nums[n - 1])\n",
    "            return ham_nums[n - 1]\n",
    "        \n",
    "        for j in range(n):\n",
    "            \n",
    "            ham_nums.sort()\n",
    "            if len(ham_nums) >= n and ham_nums[n - 1] <= 3 ** j and ham_nums[n - 1] <= 5 ** (k + 1):\n",
    "                #print('j', len(ham_nums), ham_nums[n - 1])\n",
    "                return ham_nums[n - 1]\n",
    "            \n",
    "            for i in range(n):\n",
    "                ham_nums.append(2**i * 3**j * 5**k)\n",
    "    \n",
    "    ham_nums.sort()\n",
    "    return ham_nums[n - 1]                   \n",
    "\n",
    "test_hamming(hamming)\n",
    "# print(hamming(0))\n",
    "# print(hamming(1))\n",
    "# print(hamming(2))\n",
    "# print(hamming(3))\n",
    "# print(hamming(4))\n",
    "# print(hamming(5))"
   ]
  },
  {
   "cell_type": "markdown",
   "metadata": {},
   "source": [
    "__#3__ It doesn't pass all tests because of \"Execution Timed Out\". It means that this solution isn't optimal."
   ]
  },
  {
   "cell_type": "code",
   "execution_count": 88,
   "metadata": {},
   "outputs": [
    {
     "name": "stdout",
     "output_type": "stream",
     "text": [
      "Test 1 OK\n",
      "Test 2 OK\n",
      "Test 3 OK\n",
      "Test 4 OK\n",
      "Test 5 OK\n",
      "Test 6 OK\n",
      "Test 7 OK\n",
      "Test 8 OK\n",
      "Test 9 OK\n",
      "Test 10 OK\n",
      "Test 11 OK\n",
      "Test 12 OK\n",
      "Test 13 OK\n",
      "Test 14 OK\n",
      "Test 15 OK\n",
      "Test 16 OK\n",
      "Test 17 OK\n",
      "Test 18 OK\n",
      "Test 19 OK\n",
      "Test 20 OK\n",
      "Test 21 OK\n",
      "Test 22 OK\n",
      "Test 23 OK\n",
      "Test 24 OK\n",
      "Test 25 OK\n",
      "Test 26 OK\n"
     ]
    }
   ],
   "source": [
    "def test_hamming(func):\n",
    "    lst = [1, 2, 3, 4, 5, 6, 8, 9, 10, 12, 15, 16, 18, 20, 24, 25, 27, 30, 32, 36, 40, 45, 48, 50, 54, 60]\n",
    "    for i, item in enumerate(lst, 1):\n",
    "        res = func(i)\n",
    "        assert item == res, res\n",
    "        print(f'Test {i} OK')  # эта строчка необязательна; просто для наглядности\n",
    "\n",
    "\n",
    "def hamming(n):\n",
    "    ham_nums = []\n",
    "    for k in range(n):\n",
    "        \n",
    "        if len(ham_nums) >= n and max(ham_nums) <= 5 ** k:\n",
    "            #print('k', len(ham_nums))\n",
    "            return sorted(ham_nums)[n - 1]\n",
    "        \n",
    "        for j in range(n):\n",
    "            \n",
    "            if len(ham_nums) >= n and max(ham_nums) <= 3 ** j and max(ham_nums) <= 5 ** (k + 1):\n",
    "                #print('j', len(ham_nums))\n",
    "                return sorted(ham_nums)[n - 1]\n",
    "            \n",
    "            for i in range(n):\n",
    "                ham_nums.append(2**i * 3**j * 5**k)\n",
    "    \n",
    "    return sorted(ham_nums)[n - 1]                   \n",
    "\n",
    "test_hamming(hamming)\n",
    "# print(hamming(0))\n",
    "# print(hamming(1))\n",
    "# print(hamming(2))\n",
    "# print(hamming(3))\n",
    "# print(hamming(4))\n",
    "# print(hamming(5))"
   ]
  },
  {
   "cell_type": "code",
   "execution_count": 92,
   "metadata": {},
   "outputs": [
    {
     "name": "stdout",
     "output_type": "stream",
     "text": [
      "Test 1 OK\n",
      "Test 2 OK\n",
      "Test 3 OK\n",
      "Test 4 OK\n",
      "Test 5 OK\n",
      "Test 6 OK\n",
      "Test 7 OK\n",
      "Test 8 OK\n",
      "Test 9 OK\n",
      "Test 10 OK\n",
      "Test 11 OK\n",
      "Test 12 OK\n",
      "Test 13 OK\n",
      "Test 14 OK\n",
      "Test 15 OK\n",
      "Test 16 OK\n",
      "Test 17 OK\n",
      "Test 18 OK\n",
      "Test 19 OK\n",
      "Test 20 OK\n",
      "Test 21 OK\n",
      "Test 22 OK\n",
      "Test 23 OK\n",
      "Test 24 OK\n",
      "Test 25 OK\n",
      "Test 26 OK\n"
     ]
    }
   ],
   "source": [
    "def test_hamming(func):\n",
    "    lst = [1, 2, 3, 4, 5, 6, 8, 9, 10, 12, 15, 16, 18, 20, 24, 25, 27, 30, 32, 36, 40, 45, 48, 50, 54, 60]\n",
    "    for i, item in enumerate(lst, 1):\n",
    "        res = func(i)\n",
    "        assert item == res, res\n",
    "        print(f'Test {i} OK')  # эта строчка необязательна; просто для наглядности\n",
    "\n",
    "\n",
    "def hamming(n):\n",
    "    ham_nums = []\n",
    "    for k in range(n):\n",
    "        \n",
    "        if len(ham_nums) >= n and ham_nums[n - 1] <= 5 ** k:\n",
    "            #print('k', len(ham_nums))\n",
    "            return ham_nums[n - 1]\n",
    "        \n",
    "        for j in range(n):\n",
    "            \n",
    "            if len(ham_nums) >= n and ham_nums[n - 1] <= 3 ** j and ham_nums[n - 1] <= 5 ** (k + 1):\n",
    "                #print('j', len(ham_nums))\n",
    "                return ham_nums[n - 1]\n",
    "            \n",
    "            for i in range(n):\n",
    "                ham_nums.append(2**i * 3**j * 5**k)\n",
    "                ham_nums.sort()\n",
    "    \n",
    "    return ham_nums[n - 1]                  \n",
    "\n",
    "test_hamming(hamming)\n",
    "# print(hamming(0))\n",
    "# print(hamming(1))\n",
    "# print(hamming(2))\n",
    "# print(hamming(3))\n",
    "# print(hamming(4))\n",
    "# print(hamming(5))"
   ]
  },
  {
   "cell_type": "markdown",
   "metadata": {},
   "source": [
    "20200913  \n",
    "Continue my researches of the right solution..."
   ]
  },
  {
   "cell_type": "code",
   "execution_count": 91,
   "metadata": {},
   "outputs": [
    {
     "name": "stdout",
     "output_type": "stream",
     "text": [
      "0 0 0 1\n",
      "0 0 1 2\n",
      "0 0 2 4\n",
      "0 0 3 8\n",
      "0 1 0 3\n",
      "0 1 1 6\n",
      "0 1 2 12\n",
      "0 1 3 24\n",
      "0 2 0 9\n",
      "0 2 1 18\n",
      "0 2 2 36\n",
      "0 2 3 72\n",
      "0 3 0 27\n",
      "0 3 1 54\n",
      "0 3 2 108\n",
      "0 3 3 216\n",
      "1 0 0 5\n",
      "1 0 1 10\n",
      "1 0 2 20\n",
      "1 0 3 40\n",
      "1 1 0 15\n",
      "1 1 1 30\n",
      "1 1 2 60\n",
      "1 1 3 120\n",
      "1 2 0 45\n",
      "1 2 1 90\n",
      "1 2 2 180\n",
      "1 2 3 360\n",
      "1 3 0 135\n",
      "1 3 1 270\n",
      "1 3 2 540\n",
      "1 3 3 1080\n",
      "2 0 0 25\n",
      "2 0 1 50\n",
      "2 0 2 100\n",
      "2 0 3 200\n",
      "2 1 0 75\n",
      "2 1 1 150\n",
      "2 1 2 300\n",
      "2 1 3 600\n",
      "2 2 0 225\n",
      "2 2 1 450\n",
      "2 2 2 900\n",
      "2 2 3 1800\n",
      "2 3 0 675\n",
      "2 3 1 1350\n",
      "2 3 2 2700\n",
      "2 3 3 5400\n",
      "3 0 0 125\n",
      "3 0 1 250\n",
      "3 0 2 500\n",
      "3 0 3 1000\n",
      "3 1 0 375\n",
      "3 1 1 750\n",
      "3 1 2 1500\n",
      "3 1 3 3000\n",
      "3 2 0 1125\n",
      "3 2 1 2250\n",
      "3 2 2 4500\n",
      "3 2 3 9000\n",
      "3 3 0 3375\n",
      "3 3 1 6750\n",
      "3 3 2 13500\n",
      "3 3 3 27000\n",
      "[1, 2, 4, 8, 3, 6, 12, 24, 9, 18, 36, 72, 27, 54, 108, 216, 5, 10, 20, 40, 15, 30, 60, 120, 45, 90, 180, 360, 135, 270, 540, 1080, 25, 50, 100, 200, 75, 150, 300, 600, 225, 450, 900, 1800, 675, 1350, 2700, 5400, 125, 250, 500, 1000, 375, 750, 1500, 3000, 1125, 2250, 4500, 9000, 3375, 6750, 13500, 27000]\n"
     ]
    }
   ],
   "source": [
    "def hammingNums(n):\n",
    "    ham_nums = []\n",
    "    for k in range(n):\n",
    "        for j in range(n):\n",
    "            for i in range(n):\n",
    "                ham_nums.append(2**i * 3**j * 5**k)\n",
    "                print(k, j, i, 2**i * 3**j * 5**k)\n",
    "\n",
    "    return ham_nums\n",
    "                      \n",
    "print(hammingNums(4))"
   ]
  },
  {
   "cell_type": "code",
   "execution_count": 96,
   "metadata": {},
   "outputs": [
    {
     "name": "stdout",
     "output_type": "stream",
     "text": [
      "72\n",
      "72\n",
      "72\n"
     ]
    }
   ],
   "source": [
    "x, y, z = 5, 3, 2\n",
    "print((1 + x) * (1 + y + z + y * z))\n",
    "x, y, z = 3, 2, 5\n",
    "print((1 + x) * (1 + y + z + y * z))\n",
    "x, y, z = 3, 5, 2\n",
    "print((1 + x) * (1 + y + z + y * z))"
   ]
  },
  {
   "cell_type": "markdown",
   "metadata": {},
   "source": [
    "/20200913"
   ]
  },
  {
   "cell_type": "markdown",
   "metadata": {},
   "source": [
    "20201113  \n",
    "Continue my researches of the right solution..."
   ]
  },
  {
   "cell_type": "code",
   "execution_count": 20,
   "metadata": {},
   "outputs": [
    {
     "name": "stdout",
     "output_type": "stream",
     "text": [
      "Test 1 OK\n",
      "Test 2 OK\n",
      "Test 3 OK\n",
      "Test 4 OK\n",
      "Test 5 OK\n",
      "Test 6 OK\n"
     ]
    },
    {
     "ename": "AssertionError",
     "evalue": "9",
     "output_type": "error",
     "traceback": [
      "\u001b[1;31m---------------------------------------------------------------------------\u001b[0m",
      "\u001b[1;31mAssertionError\u001b[0m                            Traceback (most recent call last)",
      "\u001b[1;32m<ipython-input-20-740ee189c9e5>\u001b[0m in \u001b[0;36m<module>\u001b[1;34m\u001b[0m\n\u001b[0;32m     62\u001b[0m \u001b[1;33m\u001b[0m\u001b[0m\n\u001b[0;32m     63\u001b[0m \u001b[1;33m\u001b[0m\u001b[0m\n\u001b[1;32m---> 64\u001b[1;33m \u001b[0mtest_hamming\u001b[0m\u001b[1;33m(\u001b[0m\u001b[0mhamming\u001b[0m\u001b[1;33m)\u001b[0m\u001b[1;33m\u001b[0m\u001b[1;33m\u001b[0m\u001b[0m\n\u001b[0m\u001b[0;32m     65\u001b[0m \u001b[1;31m# print(hamming(0))\u001b[0m\u001b[1;33m\u001b[0m\u001b[1;33m\u001b[0m\u001b[1;33m\u001b[0m\u001b[0m\n\u001b[0;32m     66\u001b[0m \u001b[1;31m# print(hamming(1))\u001b[0m\u001b[1;33m\u001b[0m\u001b[1;33m\u001b[0m\u001b[1;33m\u001b[0m\u001b[0m\n",
      "\u001b[1;32m<ipython-input-20-740ee189c9e5>\u001b[0m in \u001b[0;36mtest_hamming\u001b[1;34m(func)\u001b[0m\n\u001b[0;32m      3\u001b[0m     \u001b[1;32mfor\u001b[0m \u001b[0mi\u001b[0m\u001b[1;33m,\u001b[0m \u001b[0mitem\u001b[0m \u001b[1;32min\u001b[0m \u001b[0menumerate\u001b[0m\u001b[1;33m(\u001b[0m\u001b[0mlst\u001b[0m\u001b[1;33m,\u001b[0m \u001b[1;36m1\u001b[0m\u001b[1;33m)\u001b[0m\u001b[1;33m:\u001b[0m\u001b[1;33m\u001b[0m\u001b[1;33m\u001b[0m\u001b[0m\n\u001b[0;32m      4\u001b[0m         \u001b[0mres\u001b[0m \u001b[1;33m=\u001b[0m \u001b[0mfunc\u001b[0m\u001b[1;33m(\u001b[0m\u001b[0mi\u001b[0m\u001b[1;33m)\u001b[0m\u001b[1;33m\u001b[0m\u001b[1;33m\u001b[0m\u001b[0m\n\u001b[1;32m----> 5\u001b[1;33m         \u001b[1;32massert\u001b[0m \u001b[0mitem\u001b[0m \u001b[1;33m==\u001b[0m \u001b[0mres\u001b[0m\u001b[1;33m,\u001b[0m \u001b[0mres\u001b[0m\u001b[1;33m\u001b[0m\u001b[1;33m\u001b[0m\u001b[0m\n\u001b[0m\u001b[0;32m      6\u001b[0m         \u001b[0mprint\u001b[0m\u001b[1;33m(\u001b[0m\u001b[1;34mf'Test {i} OK'\u001b[0m\u001b[1;33m)\u001b[0m  \u001b[1;31m# эта строчка необязательна; просто для наглядности\u001b[0m\u001b[1;33m\u001b[0m\u001b[1;33m\u001b[0m\u001b[0m\n\u001b[0;32m      7\u001b[0m \u001b[1;33m\u001b[0m\u001b[0m\n",
      "\u001b[1;31mAssertionError\u001b[0m: 9"
     ]
    }
   ],
   "source": [
    "def test_hamming(func):\n",
    "    lst = [1, 2, 3, 4, 5, 6, 8, 9, 10, 12, 15, 16, 18, 20, 24, 25, 27, 30, 32, 36, 40, 45, 48, 50, 54, 60]\n",
    "    for i, item in enumerate(lst, 1):\n",
    "        res = func(i)\n",
    "        assert item == res, res\n",
    "        print(f'Test {i} OK')  # эта строчка необязательна; просто для наглядности\n",
    "\n",
    "\n",
    "def hamming(n):\n",
    "    def dm2(num):\n",
    "        return divmod(num, 2)\n",
    "\n",
    "    def dm3(num):\n",
    "        return divmod(num, 3)\n",
    "\n",
    "    def dm5(num):\n",
    "        return divmod(num, 5)\n",
    "    \n",
    "    \n",
    "    def check(num, f1, f2, f3):\n",
    "        res1 = f1(num)\n",
    "        #print(f'   res1 == {res1}')\n",
    "        if res1[1] == 0:\n",
    "            if res1[0] == 1 or f1(res1[0]) == (1, 0):\n",
    "                return True\n",
    "            res2 = f2(res1[0])\n",
    "            #print(f'1: res2 == {res2}')\n",
    "            if res2[1] == 0 or f2(res2[0]) == (1, 0):\n",
    "                if res2[0] == 1:\n",
    "                    return True\n",
    "                res3 = f3(res1[0])\n",
    "                #print(f'1: res3 == {res3}')\n",
    "                if res3[0] == 1 and res3[1] == 0 \\\n",
    "                    or f3(res3[0]) == (1, 0):\n",
    "                    return True\n",
    "            else:\n",
    "                res2 = f3(res1[0])\n",
    "                #print(f'2: res2 == {res2}')\n",
    "                if res2[1] == 0:\n",
    "                    if res2[0] == 1 or f3(res2[0]) == (1, 0):\n",
    "                        return True\n",
    "                    res3 = f2(res1[0])\n",
    "                    #print(f'2: res3 == {res3}')\n",
    "                    if res3[0] == 1 and res3[1] == 0:\n",
    "                        return True\n",
    "        return False\n",
    "        \n",
    "    if n == 1:\n",
    "        return 1\n",
    "\n",
    "    count = 1\n",
    "    i = 2\n",
    "    while True:\n",
    "        if check(i, dm2, dm3, dm5) \\\n",
    "            or check(i, dm3, dm2, dm5) \\\n",
    "                or check(i, dm5, dm2, dm3):\n",
    "            count += 1\n",
    "            if count == n:\n",
    "                  return i\n",
    "        i += 1\n",
    "                      \n",
    "                             \n",
    "\n",
    "test_hamming(hamming)\n",
    "# print(hamming(0))\n",
    "# print(hamming(1))\n",
    "# print(hamming(2))\n",
    "# print(hamming(3))\n",
    "# print(hamming(4))\n",
    "#print(hamming(5))"
   ]
  },
  {
   "cell_type": "code",
   "execution_count": 193,
   "metadata": {},
   "outputs": [
    {
     "name": "stdout",
     "output_type": "stream",
     "text": [
      "0 (0, 0)\n",
      "1 (0, 1)\n",
      "2 (1, 0)\n",
      "3 (1, 1)\n",
      "4 (2, 0)\n",
      "5 (2, 1)\n",
      "6 (3, 0)\n",
      "7 (3, 1)\n",
      "8 (4, 0)\n",
      "9 (4, 1)\n"
     ]
    }
   ],
   "source": [
    "for i in range(10):\n",
    "    print(i, divmod(i, 2))"
   ]
  },
  {
   "cell_type": "code",
   "execution_count": 194,
   "metadata": {},
   "outputs": [
    {
     "data": {
      "text/plain": [
       "(1, 0)"
      ]
     },
     "execution_count": 194,
     "metadata": {},
     "output_type": "execute_result"
    }
   ],
   "source": [
    "divmod(5, 5)"
   ]
  },
  {
   "cell_type": "code",
   "execution_count": 195,
   "metadata": {},
   "outputs": [
    {
     "data": {
      "text/plain": [
       "(0, 1)"
      ]
     },
     "execution_count": 195,
     "metadata": {},
     "output_type": "execute_result"
    }
   ],
   "source": [
    "divmod(1, 5)"
   ]
  },
  {
   "cell_type": "code",
   "execution_count": 22,
   "metadata": {
    "scrolled": true
   },
   "outputs": [
    {
     "name": "stdout",
     "output_type": "stream",
     "text": [
      "   res1 == (4, 0)\n",
      "1: res2 == (1, 1)\n",
      "2: res2 == (0, 4)\n",
      "False\n",
      "   res1 == (2, 2)\n",
      "False\n",
      "   res1 == (1, 3)\n",
      "False\n"
     ]
    }
   ],
   "source": [
    "def dm2(num):\n",
    "    return divmod(num, 2)\n",
    "\n",
    "def dm3(num):\n",
    "    return divmod(num, 3)\n",
    "\n",
    "def dm5(num):\n",
    "    return divmod(num, 5)\n",
    "\n",
    "def check(num, f1, f2, f3):\n",
    "        res1 = f1(num)\n",
    "        print(f'   res1 == {res1}')\n",
    "        if res1[1] == 0:\n",
    "            if res1[0] == 1 or f1(res1[0]) == (1, 0):\n",
    "                return True\n",
    "            res2 = f2(res1[0])\n",
    "            print(f'1: res2 == {res2}')\n",
    "            if res2[1] == 0 or f2(res2[0]) == (1, 0):\n",
    "                if res2[0] == 1:\n",
    "                    return True\n",
    "                res3 = f3(res1[0])\n",
    "                print(f'1: res3 == {res3}')\n",
    "                if res3[0] == 1 and res3[1] == 0 \\\n",
    "                    or f3(res3[0]) == (1, 0):\n",
    "                    return True\n",
    "            else:\n",
    "                res2 = f3(res1[0])\n",
    "                print(f'2: res2 == {res2}')\n",
    "                if res2[1] == 0:\n",
    "                    if res2[0] == 1 or f3(res2[0]) == (1, 0):\n",
    "                        return True\n",
    "                    res3 = f2(res1[0])\n",
    "                    print(f'2: res3 == {res3}')\n",
    "                    if res3[0] == 1 and res3[1] == 0:\n",
    "                        return True\n",
    "        return False\n",
    "    \n",
    "print(check(8, dm2, dm3, dm5))\n",
    "print(check(8, dm3, dm2, dm5))\n",
    "print(check(8, dm5, dm2, dm3))"
   ]
  },
  {
   "cell_type": "code",
   "execution_count": null,
   "metadata": {},
   "outputs": [],
   "source": [
    "while True:\n",
    "    pass\n",
    "else:\n",
    "    "
   ]
  },
  {
   "cell_type": "markdown",
   "metadata": {},
   "source": [
    "/20201113"
   ]
  },
  {
   "cell_type": "markdown",
   "metadata": {},
   "source": [
    "20200917"
   ]
  },
  {
   "cell_type": "markdown",
   "metadata": {},
   "source": [
    "### A square of squares\n",
    "https://www.codewars.com/kata/54c27a33fb7da0db0100040e  \n",
    "7 kyu\n",
    "\n",
    "You like building blocks. You especially like building blocks that are squares. And what you even like more, is to arrange them into a square of square building blocks!\n",
    "\n",
    "However, sometimes, you can't arrange them into a square. Instead, you end up with an ordinary rectangle! Those blasted things! If you just had a way to know, whether you're currently working in vain… Wait! That's it! You just have to check if your number of building blocks is a perfect square.\n",
    "\n",
    "Task\n",
    "\n",
    "Given an integral number, determine if it's a square number:\n",
    "\n",
    "In mathematics, a square number or perfect square is an integer that is the square of an integer; in other words, it is the product of some integer with itself.\n",
    "\n",
    "The tests will always use some integral number, so don't worry about that in dynamic typed languages.\n",
    "\n",
    "Examples\n",
    "\n",
    "-1  =>  false  \n",
    " 0  =>  true  \n",
    " 3  =>  false  \n",
    " 4  =>  true  \n",
    "25  =>  true  \n",
    "26  =>  false  "
   ]
  },
  {
   "cell_type": "markdown",
   "metadata": {},
   "source": [
    "__My solutions:__"
   ]
  },
  {
   "cell_type": "markdown",
   "metadata": {},
   "source": [
    "__#1__"
   ]
  },
  {
   "cell_type": "markdown",
   "metadata": {},
   "source": [
    "def is_square(n):    \n",
    "    return True if n >= 0 and int(n ** 0.5) ** 2 == n else False\n",
    "\n",
    "print(is_square(-1), False, \"-1: Negative numbers cannot be square numbers\")\n",
    "print(is_square( 0), True, \"0 is a square number\")\n",
    "print(is_square( 3), False, \"3 is not a square number\")\n",
    "print(is_square( 4), True, \"4 is a square number\")\n",
    "print(is_square(25), True, \"25 is a square number\")\n",
    "print(is_square(26), False, \"26 is not a square number\")"
   ]
  },
  {
   "cell_type": "code",
   "execution_count": 115,
   "metadata": {},
   "outputs": [
    {
     "name": "stdout",
     "output_type": "stream",
     "text": [
      "False False -1: Negative numbers cannot be square numbers\n",
      "True True 0 is a square number\n",
      "False False 3 is not a square number\n",
      "True True 4 is a square number\n",
      "True True 25 is a square number\n",
      "False False 26 is not a square number\n"
     ]
    }
   ],
   "source": [
    "def is_square(n):    \n",
    "    return n >= 0 and int(n ** 0.5) ** 2 == n\n",
    "\n",
    "print(is_square(-1), False, \"-1: Negative numbers cannot be square numbers\")\n",
    "print(is_square( 0), True, \"0 is a square number\")\n",
    "print(is_square( 3), False, \"3 is not a square number\")\n",
    "print(is_square( 4), True, \"4 is a square number\")\n",
    "print(is_square(25), True, \"25 is a square number\")\n",
    "print(is_square(26), False, \"26 is not a square number\")"
   ]
  },
  {
   "cell_type": "code",
   "execution_count": 83,
   "metadata": {},
   "outputs": [
    {
     "data": {
      "text/plain": [
       "3.1622776601683795"
      ]
     },
     "execution_count": 83,
     "metadata": {},
     "output_type": "execute_result"
    }
   ],
   "source": [
    "n ** 0.5"
   ]
  },
  {
   "cell_type": "markdown",
   "metadata": {},
   "source": [
    "__#2__"
   ]
  },
  {
   "cell_type": "markdown",
   "metadata": {},
   "source": [
    "Если убрать n >= 0 из условия, то в тесте is_square(-1) вылетит ошибка: ValueError: math domain error, ниже буду разбираться в причине."
   ]
  },
  {
   "cell_type": "code",
   "execution_count": 108,
   "metadata": {},
   "outputs": [
    {
     "name": "stdout",
     "output_type": "stream",
     "text": [
      "False False -1: Negative numbers cannot be square numbers\n",
      "True True 0 is a square number\n",
      "False False 3 is not a square number\n",
      "True True 4 is a square number\n",
      "True True 25 is a square number\n",
      "False False 26 is not a square number\n"
     ]
    }
   ],
   "source": [
    "from math import sqrt\n",
    "\n",
    "def is_square(n):    \n",
    "    return True if n >= 0 and (sqrt(n)).is_integer() else False\n",
    "\n",
    "print(is_square(-1), False, \"-1: Negative numbers cannot be square numbers\")\n",
    "print(is_square( 0), True, \"0 is a square number\")\n",
    "print(is_square( 3), False, \"3 is not a square number\")\n",
    "print(is_square( 4), True, \"4 is a square number\")\n",
    "print(is_square(25), True, \"25 is a square number\")\n",
    "print(is_square(26), False, \"26 is not a square number\")"
   ]
  },
  {
   "cell_type": "code",
   "execution_count": 113,
   "metadata": {},
   "outputs": [
    {
     "name": "stdout",
     "output_type": "stream",
     "text": [
      "Help on built-in function sqrt in module math:\n",
      "\n",
      "sqrt(x, /)\n",
      "    Return the square root of x.\n",
      "\n"
     ]
    }
   ],
   "source": [
    "import math\n",
    "\n",
    "help(math.sqrt)"
   ]
  },
  {
   "cell_type": "markdown",
   "metadata": {},
   "source": [
    "Ошибка ValueError: math domain error появляется, если просто передать в функцию math.sqrt отрицательное число. Всё дело в том, что: This module (math) provides access to the mathematical functions defined by the C standard. These functions cannot be used with complex numbers... Receiving an exception instead of a complex result allows earlier detection of the unexpected complex number used as a parameter. \n",
    "\n",
    "Короче, модуль math не поддерживает комлексные числа и, если встречает такие, то выбрасывает исключение:"
   ]
  },
  {
   "cell_type": "code",
   "execution_count": 111,
   "metadata": {},
   "outputs": [
    {
     "ename": "ValueError",
     "evalue": "math domain error",
     "output_type": "error",
     "traceback": [
      "\u001b[1;31m---------------------------------------------------------------------------\u001b[0m",
      "\u001b[1;31mValueError\u001b[0m                                Traceback (most recent call last)",
      "\u001b[1;32m<ipython-input-111-d658d28f33be>\u001b[0m in \u001b[0;36m<module>\u001b[1;34m\u001b[0m\n\u001b[0;32m      1\u001b[0m \u001b[1;32mfrom\u001b[0m \u001b[0mmath\u001b[0m \u001b[1;32mimport\u001b[0m \u001b[0msqrt\u001b[0m\u001b[1;33m\u001b[0m\u001b[1;33m\u001b[0m\u001b[0m\n\u001b[0;32m      2\u001b[0m \u001b[1;33m\u001b[0m\u001b[0m\n\u001b[1;32m----> 3\u001b[1;33m \u001b[1;33m(\u001b[0m\u001b[0msqrt\u001b[0m\u001b[1;33m(\u001b[0m\u001b[1;33m-\u001b[0m\u001b[1;36m1\u001b[0m\u001b[1;33m)\u001b[0m\u001b[1;33m)\u001b[0m\u001b[1;33m\u001b[0m\u001b[1;33m\u001b[0m\u001b[0m\n\u001b[0m",
      "\u001b[1;31mValueError\u001b[0m: math domain error"
     ]
    }
   ],
   "source": [
    "from math import sqrt\n",
    "\n",
    "(sqrt(-1))   # ValueError: math domain error"
   ]
  },
  {
   "cell_type": "markdown",
   "metadata": {},
   "source": [
    "Так тоже не работает, но уже с другой ошибкой:"
   ]
  },
  {
   "cell_type": "code",
   "execution_count": 114,
   "metadata": {},
   "outputs": [
    {
     "ename": "AttributeError",
     "evalue": "'complex' object has no attribute 'is_integer'",
     "output_type": "error",
     "traceback": [
      "\u001b[1;31m---------------------------------------------------------------------------\u001b[0m",
      "\u001b[1;31mAttributeError\u001b[0m                            Traceback (most recent call last)",
      "\u001b[1;32m<ipython-input-114-24a21142173a>\u001b[0m in \u001b[0;36m<module>\u001b[1;34m\u001b[0m\n\u001b[0;32m      4\u001b[0m     \u001b[1;32mreturn\u001b[0m \u001b[1;32mTrue\u001b[0m \u001b[1;32mif\u001b[0m \u001b[1;33m(\u001b[0m\u001b[0mn\u001b[0m \u001b[1;33m**\u001b[0m \u001b[1;36m0.5\u001b[0m\u001b[1;33m)\u001b[0m\u001b[1;33m.\u001b[0m\u001b[0mis_integer\u001b[0m\u001b[1;33m(\u001b[0m\u001b[1;33m)\u001b[0m \u001b[1;32melse\u001b[0m \u001b[1;32mFalse\u001b[0m\u001b[1;33m\u001b[0m\u001b[1;33m\u001b[0m\u001b[0m\n\u001b[0;32m      5\u001b[0m \u001b[1;33m\u001b[0m\u001b[0m\n\u001b[1;32m----> 6\u001b[1;33m \u001b[0mprint\u001b[0m\u001b[1;33m(\u001b[0m\u001b[0mis_square\u001b[0m\u001b[1;33m(\u001b[0m\u001b[1;33m-\u001b[0m\u001b[1;36m1\u001b[0m\u001b[1;33m)\u001b[0m\u001b[1;33m,\u001b[0m \u001b[1;32mFalse\u001b[0m\u001b[1;33m,\u001b[0m \u001b[1;34m\"-1: Negative numbers cannot be square numbers\"\u001b[0m\u001b[1;33m)\u001b[0m\u001b[1;33m\u001b[0m\u001b[1;33m\u001b[0m\u001b[0m\n\u001b[0m\u001b[0;32m      7\u001b[0m \u001b[0mprint\u001b[0m\u001b[1;33m(\u001b[0m\u001b[0mis_square\u001b[0m\u001b[1;33m(\u001b[0m \u001b[1;36m0\u001b[0m\u001b[1;33m)\u001b[0m\u001b[1;33m,\u001b[0m \u001b[1;32mTrue\u001b[0m\u001b[1;33m,\u001b[0m \u001b[1;34m\"0 is a square number\"\u001b[0m\u001b[1;33m)\u001b[0m\u001b[1;33m\u001b[0m\u001b[1;33m\u001b[0m\u001b[0m\n\u001b[0;32m      8\u001b[0m \u001b[0mprint\u001b[0m\u001b[1;33m(\u001b[0m\u001b[0mis_square\u001b[0m\u001b[1;33m(\u001b[0m \u001b[1;36m3\u001b[0m\u001b[1;33m)\u001b[0m\u001b[1;33m,\u001b[0m \u001b[1;32mFalse\u001b[0m\u001b[1;33m,\u001b[0m \u001b[1;34m\"3 is not a square number\"\u001b[0m\u001b[1;33m)\u001b[0m\u001b[1;33m\u001b[0m\u001b[1;33m\u001b[0m\u001b[0m\n",
      "\u001b[1;32m<ipython-input-114-24a21142173a>\u001b[0m in \u001b[0;36mis_square\u001b[1;34m(n)\u001b[0m\n\u001b[0;32m      2\u001b[0m \u001b[1;33m\u001b[0m\u001b[0m\n\u001b[0;32m      3\u001b[0m \u001b[1;32mdef\u001b[0m \u001b[0mis_square\u001b[0m\u001b[1;33m(\u001b[0m\u001b[0mn\u001b[0m\u001b[1;33m)\u001b[0m\u001b[1;33m:\u001b[0m\u001b[1;33m\u001b[0m\u001b[1;33m\u001b[0m\u001b[0m\n\u001b[1;32m----> 4\u001b[1;33m     \u001b[1;32mreturn\u001b[0m \u001b[1;32mTrue\u001b[0m \u001b[1;32mif\u001b[0m \u001b[1;33m(\u001b[0m\u001b[0mn\u001b[0m \u001b[1;33m**\u001b[0m \u001b[1;36m0.5\u001b[0m\u001b[1;33m)\u001b[0m\u001b[1;33m.\u001b[0m\u001b[0mis_integer\u001b[0m\u001b[1;33m(\u001b[0m\u001b[1;33m)\u001b[0m \u001b[1;32melse\u001b[0m \u001b[1;32mFalse\u001b[0m\u001b[1;33m\u001b[0m\u001b[1;33m\u001b[0m\u001b[0m\n\u001b[0m\u001b[0;32m      5\u001b[0m \u001b[1;33m\u001b[0m\u001b[0m\n\u001b[0;32m      6\u001b[0m \u001b[0mprint\u001b[0m\u001b[1;33m(\u001b[0m\u001b[0mis_square\u001b[0m\u001b[1;33m(\u001b[0m\u001b[1;33m-\u001b[0m\u001b[1;36m1\u001b[0m\u001b[1;33m)\u001b[0m\u001b[1;33m,\u001b[0m \u001b[1;32mFalse\u001b[0m\u001b[1;33m,\u001b[0m \u001b[1;34m\"-1: Negative numbers cannot be square numbers\"\u001b[0m\u001b[1;33m)\u001b[0m\u001b[1;33m\u001b[0m\u001b[1;33m\u001b[0m\u001b[0m\n",
      "\u001b[1;31mAttributeError\u001b[0m: 'complex' object has no attribute 'is_integer'"
     ]
    }
   ],
   "source": [
    "from math import sqrt\n",
    "\n",
    "def is_square(n):    \n",
    "    return True if (n ** 0.5).is_integer() else False\n",
    "\n",
    "print(is_square(-1), False, \"-1: Negative numbers cannot be square numbers\")\n",
    "print(is_square( 0), True, \"0 is a square number\")\n",
    "print(is_square( 3), False, \"3 is not a square number\")\n",
    "print(is_square( 4), True, \"4 is a square number\")\n",
    "print(is_square(25), True, \"25 is a square number\")\n",
    "print(is_square(26), False, \"26 is not a square number\")"
   ]
  },
  {
   "cell_type": "code",
   "execution_count": 98,
   "metadata": {},
   "outputs": [
    {
     "name": "stdout",
     "output_type": "stream",
     "text": [
      "Help on method_descriptor:\n",
      "\n",
      "is_integer(self, /)\n",
      "    Return True if the float is an integer.\n",
      "\n"
     ]
    }
   ],
   "source": [
    "help(float.is_integer)"
   ]
  },
  {
   "cell_type": "code",
   "execution_count": 99,
   "metadata": {},
   "outputs": [
    {
     "ename": "AttributeError",
     "evalue": "type object 'complex' has no attribute 'is_integer'",
     "output_type": "error",
     "traceback": [
      "\u001b[1;31m---------------------------------------------------------------------------\u001b[0m",
      "\u001b[1;31mAttributeError\u001b[0m                            Traceback (most recent call last)",
      "\u001b[1;32m<ipython-input-99-0f39cb9b96d9>\u001b[0m in \u001b[0;36m<module>\u001b[1;34m\u001b[0m\n\u001b[1;32m----> 1\u001b[1;33m \u001b[0mhelp\u001b[0m\u001b[1;33m(\u001b[0m\u001b[0mcomplex\u001b[0m\u001b[1;33m.\u001b[0m\u001b[0mis_integer\u001b[0m\u001b[1;33m)\u001b[0m\u001b[1;33m\u001b[0m\u001b[1;33m\u001b[0m\u001b[0m\n\u001b[0m",
      "\u001b[1;31mAttributeError\u001b[0m: type object 'complex' has no attribute 'is_integer'"
     ]
    }
   ],
   "source": [
    "help(complex.is_integer) # AttributeError: type object 'complex' has no attribute 'is_integer'"
   ]
  },
  {
   "cell_type": "code",
   "execution_count": 102,
   "metadata": {},
   "outputs": [
    {
     "data": {
      "text/plain": [
       "complex"
      ]
     },
     "execution_count": 102,
     "metadata": {},
     "output_type": "execute_result"
    }
   ],
   "source": [
    "type((-1) ** 0.5)  # Без скобок -1 ** 0.5 результат неправильный"
   ]
  },
  {
   "cell_type": "code",
   "execution_count": 103,
   "metadata": {},
   "outputs": [
    {
     "data": {
      "text/plain": [
       "(6.123233995736766e-17+1j)"
      ]
     },
     "execution_count": 103,
     "metadata": {},
     "output_type": "execute_result"
    }
   ],
   "source": [
    "(-1) ** 0.5"
   ]
  },
  {
   "cell_type": "code",
   "execution_count": 104,
   "metadata": {},
   "outputs": [
    {
     "ename": "AttributeError",
     "evalue": "'complex' object has no attribute 'is_integer'",
     "output_type": "error",
     "traceback": [
      "\u001b[1;31m---------------------------------------------------------------------------\u001b[0m",
      "\u001b[1;31mAttributeError\u001b[0m                            Traceback (most recent call last)",
      "\u001b[1;32m<ipython-input-104-72f4fc6ca9ba>\u001b[0m in \u001b[0;36m<module>\u001b[1;34m\u001b[0m\n\u001b[1;32m----> 1\u001b[1;33m \u001b[1;33m(\u001b[0m\u001b[1;33m(\u001b[0m\u001b[1;33m-\u001b[0m\u001b[1;36m1\u001b[0m\u001b[1;33m)\u001b[0m \u001b[1;33m**\u001b[0m \u001b[1;36m0.5\u001b[0m\u001b[1;33m)\u001b[0m\u001b[1;33m.\u001b[0m\u001b[0mis_integer\u001b[0m\u001b[1;33m(\u001b[0m\u001b[1;33m)\u001b[0m\u001b[1;33m\u001b[0m\u001b[1;33m\u001b[0m\u001b[0m\n\u001b[0m",
      "\u001b[1;31mAttributeError\u001b[0m: 'complex' object has no attribute 'is_integer'"
     ]
    }
   ],
   "source": [
    "((-1) ** 0.5).is_integer()"
   ]
  },
  {
   "cell_type": "markdown",
   "metadata": {},
   "source": [
    "20200918"
   ]
  },
  {
   "cell_type": "markdown",
   "metadata": {},
   "source": [
    "### Smallest unused ID\n",
    "https://www.codewars.com/kata/55eea63119278d571d00006a  \n",
    "8 kyu\n",
    "\n",
    "Hey awesome programmer!\n",
    "\n",
    "You've got much data to manage and of course you use zero-based and non-negative ID's to make each data item unique!\n",
    "\n",
    "Therefore you need a method, which returns the smallest unused ID for your next new data item...\n",
    "\n",
    "Note: The given array of used IDs may be unsorted. For test reasons there may be duplicate IDs, but you don't have to find or remove them!\n",
    "\n",
    "Go on and code some pure awesomeness!"
   ]
  },
  {
   "cell_type": "markdown",
   "metadata": {},
   "source": [
    "__My solutions:__"
   ]
  },
  {
   "cell_type": "markdown",
   "metadata": {},
   "source": [
    "__#1__"
   ]
  },
  {
   "cell_type": "code",
   "execution_count": 116,
   "metadata": {},
   "outputs": [
    {
     "name": "stdout",
     "output_type": "stream",
     "text": [
      "11 11\n",
      "0 0\n",
      "4 4\n",
      "1 1\n",
      "0 0\n"
     ]
    }
   ],
   "source": [
    "def next_id(arr):\n",
    "    i = 0\n",
    "    while True:\n",
    "        if i not in arr:\n",
    "            return i\n",
    "        i += 1\n",
    "                \n",
    "print(next_id([0,1,2,3,4,5,6,7,8,9,10]), 11)\n",
    "print(next_id([5,4,3,2,1]), 0)\n",
    "print(next_id([0,1,2,3,5]), 4)\n",
    "print(next_id([0,0,0,0,0,0]), 1)\n",
    "print(next_id([]), 0)"
   ]
  },
  {
   "cell_type": "markdown",
   "metadata": {},
   "source": [
    "### Some CS50 stuff"
   ]
  },
  {
   "cell_type": "markdown",
   "metadata": {},
   "source": [
    "### Сaesar cipher (Шифр Цезаря)"
   ]
  },
  {
   "cell_type": "markdown",
   "metadata": {},
   "source": [
    "__My solutions:__"
   ]
  },
  {
   "cell_type": "markdown",
   "metadata": {},
   "source": [
    "__#1__"
   ]
  },
  {
   "cell_type": "code",
   "execution_count": 168,
   "metadata": {},
   "outputs": [
    {
     "name": "stdout",
     "output_type": "stream",
     "text": [
      "ABCDEFZabcdz DEFGHICdefgc\n",
      "ABCDEFZabcdz ABCDEFZabcdz\n",
      "Be sure to drink your Ovaltine! Or fher gb qevax lbhe Binygvar!\n"
     ]
    }
   ],
   "source": [
    "def func(string, n):\n",
    "    return ''.join([ch, chr([65 + ((ord(ch) - 65) + n % 26) % 26, 97 + ((ord(ch) - 97) + n % 26) % 26][ch.islower()])][ch.isalpha()] for ch in string)\n",
    "\n",
    "print('ABCDEFZabcdz', func('ABCDEFZabcdz', 29))\n",
    "print('ABCDEFZabcdz', func('ABCDEFZabcdz', 0))\n",
    "print('Be sure to drink your Ovaltine!', func('Be sure to drink your Ovaltine!', 13))"
   ]
  },
  {
   "cell_type": "code",
   "execution_count": 117,
   "metadata": {},
   "outputs": [
    {
     "data": {
      "text/plain": [
       "(65, 90, 97, 122)"
      ]
     },
     "execution_count": 117,
     "metadata": {},
     "output_type": "execute_result"
    }
   ],
   "source": [
    "ord('A'), ord('Z'), ord('a'), ord('z')"
   ]
  },
  {
   "cell_type": "code",
   "execution_count": 134,
   "metadata": {},
   "outputs": [
    {
     "data": {
      "text/plain": [
       "90"
      ]
     },
     "execution_count": 134,
     "metadata": {},
     "output_type": "execute_result"
    }
   ],
   "source": [
    "ord('Z')"
   ]
  },
  {
   "cell_type": "code",
   "execution_count": null,
   "metadata": {},
   "outputs": [],
   "source": [
    "1 + 3"
   ]
  },
  {
   "cell_type": "code",
   "execution_count": 120,
   "metadata": {},
   "outputs": [
    {
     "name": "stdout",
     "output_type": "stream",
     "text": [
      "Help on method_descriptor:\n",
      "\n",
      "islower(self, /)\n",
      "    Return True if the string is a lowercase string, False otherwise.\n",
      "    \n",
      "    A string is lowercase if all cased characters in the string are lowercase and\n",
      "    there is at least one cased character in the string.\n",
      "\n"
     ]
    }
   ],
   "source": [
    "help(str.islower)"
   ]
  },
  {
   "cell_type": "code",
   "execution_count": 121,
   "metadata": {},
   "outputs": [
    {
     "name": "stdout",
     "output_type": "stream",
     "text": [
      "Help on method_descriptor:\n",
      "\n",
      "isalpha(self, /)\n",
      "    Return True if the string is an alphabetic string, False otherwise.\n",
      "    \n",
      "    A string is alphabetic if all characters in the string are alphabetic and there\n",
      "    is at least one character in the string.\n",
      "\n"
     ]
    }
   ],
   "source": [
    "help(str.isalpha)"
   ]
  },
  {
   "cell_type": "markdown",
   "metadata": {},
   "source": [
    "__#2__ The same as #1 but longer"
   ]
  },
  {
   "cell_type": "code",
   "execution_count": 167,
   "metadata": {},
   "outputs": [
    {
     "name": "stdout",
     "output_type": "stream",
     "text": [
      "ABCDEFZabcdz DEFGHICdefgc\n",
      "ABCDEFZabcdz ABCDEFZabcdz\n",
      "Be sure to drink your Ovaltine! Or fher gb qevax lbhe Binygvar!\n"
     ]
    }
   ],
   "source": [
    "def func(string, n):\n",
    "    n %= 26\n",
    "    res = ''\n",
    "    for ch in string:\n",
    "        if ch.isalpha():\n",
    "            start = 97 if ch.islower() else 65\n",
    "            res += chr(start + ((ord(ch) - start) + n) % 26)\n",
    "        else:\n",
    "            res += ch\n",
    "            \n",
    "    return res\n",
    "\n",
    "print('ABCDEFZabcdz', func('ABCDEFZabcdz', 29))\n",
    "print('ABCDEFZabcdz', func('ABCDEFZabcdz', 0))\n",
    "print('Be sure to drink your Ovaltine!', func('Be sure to drink your Ovaltine!', 13))"
   ]
  },
  {
   "cell_type": "code",
   "execution_count": 164,
   "metadata": {},
   "outputs": [
    {
     "data": {
      "text/plain": [
       "(0, 0)"
      ]
     },
     "execution_count": 164,
     "metadata": {},
     "output_type": "execute_result"
    }
   ],
   "source": [
    "0 % 26, 26 % 26"
   ]
  },
  {
   "cell_type": "code",
   "execution_count": 166,
   "metadata": {},
   "outputs": [
    {
     "data": {
      "text/plain": [
       "26"
      ]
     },
     "execution_count": 166,
     "metadata": {},
     "output_type": "execute_result"
    }
   ],
   "source": [
    "ord('Z') - 65"
   ]
  },
  {
   "cell_type": "markdown",
   "metadata": {},
   "source": [
    "### Vigenère cipher (Шифр Виженера)"
   ]
  },
  {
   "cell_type": "markdown",
   "metadata": {},
   "source": [
    "__My solutions:__"
   ]
  },
  {
   "cell_type": "code",
   "execution_count": 169,
   "metadata": {},
   "outputs": [
    {
     "name": "stdout",
     "output_type": "stream",
     "text": [
      "Meet me at the park at eleven am!\n",
      "Negh zf av huf pcfx bt gzrwep oz!\n",
      "Meet me at the park at eleven am!\n",
      "Negh as oh gie rofy oh rmexsb oa!\n"
     ]
    }
   ],
   "source": [
    "from itertools import cycle\n",
    "\n",
    "def func(string, key):\n",
    "    it = cycle(key.lower())\n",
    "    res = ''\n",
    "    for ch in string:\n",
    "        if ch.isalpha():\n",
    "            # В ключе используем только маленькие буквы, номерация с 0 (ord('a') == 97)\n",
    "            n = ord(next(it)) - 97\n",
    "            start = 97 if ch.islower() else 65\n",
    "            res += chr(start + ((ord(ch) - start) + n) % 26)\n",
    "        else:\n",
    "            res += ch\n",
    "            \n",
    "    return res\n",
    "\n",
    "print('Meet me at the park at eleven am!', func('Meet me at the park at eleven am!', 'bacon'), sep='\\n')\n",
    "print('Meet me at the park at eleven am!', func('Meet me at the park at eleven am!', 'bacooooon'), sep='\\n')"
   ]
  },
  {
   "cell_type": "code",
   "execution_count": 151,
   "metadata": {},
   "outputs": [
    {
     "data": {
      "text/plain": [
       "'b'"
      ]
     },
     "execution_count": 151,
     "metadata": {},
     "output_type": "execute_result"
    }
   ],
   "source": [
    "key = 'bacon'\n",
    "next(cycle(key.lower()))"
   ]
  },
  {
   "cell_type": "code",
   "execution_count": 157,
   "metadata": {},
   "outputs": [
    {
     "name": "stdout",
     "output_type": "stream",
     "text": [
      "98\n",
      "97\n"
     ]
    }
   ],
   "source": [
    "key = 'bacon'\n",
    "it = cycle(key.lower())\n",
    "print(ord(next(it)))\n",
    "print(ord(next(it)))"
   ]
  },
  {
   "cell_type": "markdown",
   "metadata": {},
   "source": [
    "20200919"
   ]
  },
  {
   "cell_type": "markdown",
   "metadata": {},
   "source": [
    "### Square Every Digit\n",
    "https://www.codewars.com/kata/546e2562b03326a88e000020  \n",
    "7kyu\n",
    "\n",
    "Welcome. In this kata, you are asked to square every digit of a number and concatenate them.\n",
    "\n",
    "For example, if we run 9119 through the function, 811181 will come out, because 92 is 81 and 12 is 1.\n",
    "\n",
    "Note: The function accepts an integer and returns an integer"
   ]
  },
  {
   "cell_type": "markdown",
   "metadata": {},
   "source": [
    "__My solutions:__"
   ]
  },
  {
   "cell_type": "markdown",
   "metadata": {},
   "source": [
    "__#1__"
   ]
  },
  {
   "cell_type": "code",
   "execution_count": 1,
   "metadata": {},
   "outputs": [
    {
     "name": "stdout",
     "output_type": "stream",
     "text": [
      "811181 811181\n"
     ]
    }
   ],
   "source": [
    "def square_digits(num):\n",
    "    return int(''.join(str(int(s) ** 2) for s in str(num)))\n",
    "\n",
    "print(square_digits(9119), 811181)"
   ]
  },
  {
   "cell_type": "markdown",
   "metadata": {},
   "source": [
    "__#2__"
   ]
  },
  {
   "cell_type": "code",
   "execution_count": 5,
   "metadata": {},
   "outputs": [
    {
     "name": "stdout",
     "output_type": "stream",
     "text": [
      "811181 811181\n"
     ]
    }
   ],
   "source": [
    "def square_digits(num):\n",
    "    res = ''\n",
    "    while num:\n",
    "        res = str((num % 10) ** 2) + res\n",
    "        num //= 10\n",
    "    return int(res)\n",
    "\n",
    "print(square_digits(9119), 811181)"
   ]
  },
  {
   "cell_type": "markdown",
   "metadata": {},
   "source": [
    "### Vampire Numbers\n",
    "https://www.codewars.com/kata/54d418bd099d650fa000032d  \n",
    "7 kyu\n",
    "\n",
    "Our loose definition of Vampire Numbers can be described as follows:\n",
    "\n",
    "6 * 21 = 126  \n",
    "#6 and 21 would be valid 'fangs' for a vampire number as the \n",
    "#digits 6, 1, and 2 are present in both the product and multiplicands\n",
    "\n",
    "10 * 11 = 110  \n",
    "#110 is not a vampire number since there are three 1's in the\n",
    "#multiplicands, but only two 1's in the product\n",
    "\n",
    "Create a function that can receive two 'fangs' and determine if the product of the two is a valid vampire number."
   ]
  },
  {
   "cell_type": "markdown",
   "metadata": {},
   "source": [
    "__My solutions:__"
   ]
  },
  {
   "cell_type": "code",
   "execution_count": 11,
   "metadata": {},
   "outputs": [
    {
     "name": "stdout",
     "output_type": "stream",
     "text": [
      "True Basic: 21 * 6 = 126 should return True\n",
      "True Basic: 204 * 615 = 125460 should return True\n",
      "True One Negative: 30 * -51 = -1530 should return True\n",
      "True Double Negatives: -246 * -510 = 125460 should return False (The negative signs aren't present on the product)\n",
      "True Trailing Zeroes: 210 * 600 = 126000 should return True\n"
     ]
    }
   ],
   "source": [
    "def vampire_test(x, y):\n",
    "    return sorted(f'{x}{y}') == sorted(str(x * y))\n",
    "\n",
    "print(vampire_test(21,6) == True, \"Basic: 21 * 6 = 126 should return True\")\n",
    "print(vampire_test(204,615) == True, \"Basic: 204 * 615 = 125460 should return True\")\n",
    "print(vampire_test(30,-51) == True, \"One Negative: 30 * -51 = -1530 should return True\")\n",
    "print(vampire_test(-246,-510) == False, \"Double Negatives: -246 * -510 = 125460 should return False (The negative signs aren't present on the product)\")\n",
    "print(vampire_test(210,600) == True, \"Trailing Zeroes: 210 * 600 = 126000 should return True\")"
   ]
  },
  {
   "cell_type": "markdown",
   "metadata": {},
   "source": [
    "20200920"
   ]
  },
  {
   "cell_type": "markdown",
   "metadata": {},
   "source": [
    "### L1: Bartender, drinks!\n",
    "https://www.codewars.com/kata/568dc014440f03b13900001d  \n",
    "8 kyu\n",
    "\n",
    "Write a function getDrinkByProfession/get_drink_by_profession() that receives as input parameter a string, and produces outputs according to the following table:\n",
    "\n",
    "Input\tOutput\n",
    "\n",
    "\"Jabroni\"\t\"Patron Tequila\"  \n",
    "\"School Counselor\"\t\"Anything with Alcohol\"  \n",
    " \"Programmer\"\t \"Hipster Craft Beer\"  \n",
    " \"Bike Gang Member\"\t\"Moonshine\"   \n",
    " \"Politician\"\t\"Your tax dollars\"  \n",
    " \"Rapper\"\t\"Cristal\"   \n",
    " *anything else*\t\"Beer\"   \n",
    " \n",
    "Note: anything else is the default case: if the input to the function is not any of the values in the table, then the return value should be \"Beer.\"\n",
    "\n",
    "Make sure you cover the cases where certain words do not show up with correct capitalization. For example, getDrinkByProfession(\"pOLitiCIaN\") should still return \"Your tax dollars\"."
   ]
  },
  {
   "cell_type": "markdown",
   "metadata": {},
   "source": [
    "__My solutons:__"
   ]
  },
  {
   "cell_type": "code",
   "execution_count": 13,
   "metadata": {},
   "outputs": [
    {
     "name": "stdout",
     "output_type": "stream",
     "text": [
      "Patron Tequila Patron Tequila 'Jabroni' should map to 'Patron Tequila'\n",
      "Beer Anything with Alcohol 'School Counselor' should map to 'Anything with alcohol'\n",
      "Hipster Craft Beer Hipster Craft Beer 'Programmer' should map to 'Hipster Craft Beer'\n",
      "Beer Moonshine 'Bike Gang Member' should map to 'Moonshine'\n",
      "Your tax dollars Your tax dollars 'Politician' should map to 'Your tax dollars'\n",
      "Cristal Cristal 'Rapper' should map to 'Cristal'\n",
      "Beer Beer 'Pundit' should map to 'Beer'\n",
      "Beer Beer 'Pug' should map to 'Beer'\n"
     ]
    }
   ],
   "source": [
    "def get_drink_by_profession(param):\n",
    "    drinks = {\n",
    "        \"Jabroni\": \"Patron Tequila\", \n",
    "        \"School Counselor\": \"Anything with Alcohol\",\n",
    "        \"Programmer\": \"Hipster Craft Beer\",\n",
    "        \"Bike Gang Member\": \"Moonshine\",\n",
    "        \"Politician\": \"Your tax dollars\",\n",
    "        \"Rapper\": \"Cristal\",\n",
    "        }\n",
    "    return drinks.get(param.title(), \"Beer\")\n",
    "\n",
    "print(get_drink_by_profession(\"jabrOni\"), \"Patron Tequila\", \"'Jabroni' should map to 'Patron Tequila'\")\n",
    "print(get_drink_by_profession(\"scHOOl counselor\"), \"Anything with Alcohol\", \"'School Counselor' should map to 'Anything with alcohol'\")\n",
    "print(get_drink_by_profession(\"prOgramMer\"), \"Hipster Craft Beer\", \"'Programmer' should map to 'Hipster Craft Beer'\")\n",
    "print(get_drink_by_profession(\"bike ganG member\"), \"Moonshine\", \"'Bike Gang Member' should map to 'Moonshine'\")\n",
    "print(get_drink_by_profession(\"poLiTiCian\"), \"Your tax dollars\", \"'Politician' should map to 'Your tax dollars'\")\n",
    "print(get_drink_by_profession(\"rapper\"), \"Cristal\", \"'Rapper' should map to 'Cristal'\")\n",
    "print(get_drink_by_profession(\"pundit\"), \"Beer\", \"'Pundit' should map to 'Beer'\")\n",
    "print(get_drink_by_profession(\"Pug\"), \"Beer\", \"'Pug' should map to 'Beer'\")"
   ]
  },
  {
   "cell_type": "markdown",
   "metadata": {},
   "source": [
    "### Highest and Lowest\n",
    "https://www.codewars.com/kata/554b4ac871d6813a03000035  \n",
    "7 kyu\n",
    "\n",
    "Output\n",
    "In this little assignment you are given a string of space separated numbers, and have to return the highest and lowest number.\n",
    "\n",
    "Example:\n",
    "\n",
    "high_and_low(\"1 2 3 4 5\")  # return \"5 1\"\n",
    "high_and_low(\"1 2 -3 4 5\") # return \"5 -3\"\n",
    "high_and_low(\"1 9 3 4 -5\") # return \"9 -5\"\n",
    "Notes:\n",
    "\n",
    "All numbers are valid Int32, no need to validate them.\n",
    "There will always be at least one number in the input string.\n",
    "Output string must be two numbers separated by a single space, and highest number is first."
   ]
  },
  {
   "cell_type": "markdown",
   "metadata": {},
   "source": [
    "__My solutions:__"
   ]
  },
  {
   "cell_type": "markdown",
   "metadata": {},
   "source": [
    "__#1__"
   ]
  },
  {
   "cell_type": "code",
   "execution_count": 15,
   "metadata": {},
   "outputs": [
    {
     "name": "stdout",
     "output_type": "stream",
     "text": [
      "542 -214 542 -214\n"
     ]
    }
   ],
   "source": [
    "def high_and_low(numbers):\n",
    "    numbers = [int(num) for num in numbers.split()]\n",
    "    return f'{max(numbers)} {min(numbers)}'\n",
    "\n",
    "print(high_and_low(\"4 5 29 54 4 0 -214 542 -64 1 -3 6 -6\"), \"542 -214\");"
   ]
  },
  {
   "cell_type": "markdown",
   "metadata": {},
   "source": [
    "__#2__"
   ]
  },
  {
   "cell_type": "code",
   "execution_count": 18,
   "metadata": {},
   "outputs": [
    {
     "name": "stdout",
     "output_type": "stream",
     "text": [
      "542 -214 542 -214\n"
     ]
    }
   ],
   "source": [
    "def high_and_low(numbers):\n",
    "    minim, maxim = float('inf'), float('-inf')\n",
    "    for num in numbers.split():\n",
    "        num = int(num)      \n",
    "        if num < minim:\n",
    "            minim = num\n",
    "        if num > maxim:\n",
    "            maxim = num   \n",
    "    \n",
    "    return f'{maxim} {minim}'\n",
    "\n",
    "print(high_and_low(\"4 5 29 54 4 0 -214 542 -64 1 -3 6 -6\"), \"542 -214\");"
   ]
  },
  {
   "cell_type": "markdown",
   "metadata": {},
   "source": [
    "__Other users' solutions:__"
   ]
  },
  {
   "cell_type": "markdown",
   "metadata": {},
   "source": [
    "__#1__ Interesting, but it doesn't work in Python 3! 'ValueError: min() arg is an empty sequence' because in Python 3 map returns an iterator that applies function to every item of iterable\n",
    "So the first function applyed to it (e.g. max) exhaust it and when calling min on it will fail. In Python 2 map returns a list."
   ]
  },
  {
   "cell_type": "code",
   "execution_count": 30,
   "metadata": {},
   "outputs": [
    {
     "ename": "ValueError",
     "evalue": "min() arg is an empty sequence",
     "output_type": "error",
     "traceback": [
      "\u001b[1;31m---------------------------------------------------------------------------\u001b[0m",
      "\u001b[1;31mValueError\u001b[0m                                Traceback (most recent call last)",
      "\u001b[1;32m<ipython-input-30-5f73c5443d7e>\u001b[0m in \u001b[0;36m<module>\u001b[1;34m\u001b[0m\n\u001b[0;32m      3\u001b[0m     \u001b[1;32mreturn\u001b[0m \u001b[1;34m\" \"\u001b[0m\u001b[1;33m.\u001b[0m\u001b[0mjoin\u001b[0m\u001b[1;33m(\u001b[0m\u001b[0mmap\u001b[0m\u001b[1;33m(\u001b[0m\u001b[0mstr\u001b[0m\u001b[1;33m,\u001b[0m \u001b[1;33m(\u001b[0m\u001b[0mmax\u001b[0m\u001b[1;33m(\u001b[0m\u001b[0mnums\u001b[0m\u001b[1;33m)\u001b[0m\u001b[1;33m,\u001b[0m \u001b[0mmin\u001b[0m\u001b[1;33m(\u001b[0m\u001b[0mnums\u001b[0m\u001b[1;33m)\u001b[0m\u001b[1;33m)\u001b[0m\u001b[1;33m)\u001b[0m\u001b[1;33m)\u001b[0m\u001b[1;33m\u001b[0m\u001b[1;33m\u001b[0m\u001b[0m\n\u001b[0;32m      4\u001b[0m \u001b[1;33m\u001b[0m\u001b[0m\n\u001b[1;32m----> 5\u001b[1;33m \u001b[0mprint\u001b[0m\u001b[1;33m(\u001b[0m\u001b[0mhigh_and_low\u001b[0m\u001b[1;33m(\u001b[0m\u001b[1;34m\"4 5 29 54 4 0 -214 542 -64 1 -3 6 -6\"\u001b[0m\u001b[1;33m)\u001b[0m\u001b[1;33m,\u001b[0m \u001b[1;34m\"542 -214\"\u001b[0m\u001b[1;33m)\u001b[0m\u001b[1;33m\u001b[0m\u001b[1;33m\u001b[0m\u001b[0m\n\u001b[0m",
      "\u001b[1;32m<ipython-input-30-5f73c5443d7e>\u001b[0m in \u001b[0;36mhigh_and_low\u001b[1;34m(numbers)\u001b[0m\n\u001b[0;32m      1\u001b[0m \u001b[1;32mdef\u001b[0m \u001b[0mhigh_and_low\u001b[0m\u001b[1;33m(\u001b[0m\u001b[0mnumbers\u001b[0m\u001b[1;33m)\u001b[0m\u001b[1;33m:\u001b[0m\u001b[1;33m\u001b[0m\u001b[1;33m\u001b[0m\u001b[0m\n\u001b[0;32m      2\u001b[0m     \u001b[0mnums\u001b[0m \u001b[1;33m=\u001b[0m \u001b[0mmap\u001b[0m\u001b[1;33m(\u001b[0m\u001b[0mint\u001b[0m\u001b[1;33m,\u001b[0m \u001b[0mnumbers\u001b[0m\u001b[1;33m.\u001b[0m\u001b[0msplit\u001b[0m\u001b[1;33m(\u001b[0m\u001b[1;34m\" \"\u001b[0m\u001b[1;33m)\u001b[0m\u001b[1;33m)\u001b[0m\u001b[1;33m\u001b[0m\u001b[1;33m\u001b[0m\u001b[0m\n\u001b[1;32m----> 3\u001b[1;33m     \u001b[1;32mreturn\u001b[0m \u001b[1;34m\" \"\u001b[0m\u001b[1;33m.\u001b[0m\u001b[0mjoin\u001b[0m\u001b[1;33m(\u001b[0m\u001b[0mmap\u001b[0m\u001b[1;33m(\u001b[0m\u001b[0mstr\u001b[0m\u001b[1;33m,\u001b[0m \u001b[1;33m(\u001b[0m\u001b[0mmax\u001b[0m\u001b[1;33m(\u001b[0m\u001b[0mnums\u001b[0m\u001b[1;33m)\u001b[0m\u001b[1;33m,\u001b[0m \u001b[0mmin\u001b[0m\u001b[1;33m(\u001b[0m\u001b[0mnums\u001b[0m\u001b[1;33m)\u001b[0m\u001b[1;33m)\u001b[0m\u001b[1;33m)\u001b[0m\u001b[1;33m)\u001b[0m\u001b[1;33m\u001b[0m\u001b[1;33m\u001b[0m\u001b[0m\n\u001b[0m\u001b[0;32m      4\u001b[0m \u001b[1;33m\u001b[0m\u001b[0m\n\u001b[0;32m      5\u001b[0m \u001b[0mprint\u001b[0m\u001b[1;33m(\u001b[0m\u001b[0mhigh_and_low\u001b[0m\u001b[1;33m(\u001b[0m\u001b[1;34m\"4 5 29 54 4 0 -214 542 -64 1 -3 6 -6\"\u001b[0m\u001b[1;33m)\u001b[0m\u001b[1;33m,\u001b[0m \u001b[1;34m\"542 -214\"\u001b[0m\u001b[1;33m)\u001b[0m\u001b[1;33m\u001b[0m\u001b[1;33m\u001b[0m\u001b[0m\n",
      "\u001b[1;31mValueError\u001b[0m: min() arg is an empty sequence"
     ]
    }
   ],
   "source": [
    "def high_and_low(numbers):\n",
    "    nums = map(int, numbers.split(\" \"))\n",
    "    return \" \".join(map(str, (max(nums), min(nums))))\n",
    "\n",
    "print(high_and_low(\"4 5 29 54 4 0 -214 542 -64 1 -3 6 -6\"), \"542 -214\")"
   ]
  },
  {
   "cell_type": "markdown",
   "metadata": {},
   "source": [
    "The way to mend it:"
   ]
  },
  {
   "cell_type": "code",
   "execution_count": 29,
   "metadata": {},
   "outputs": [
    {
     "name": "stdout",
     "output_type": "stream",
     "text": [
      "542 -214 542 -214\n"
     ]
    }
   ],
   "source": [
    "def high_and_low(numbers):\n",
    "    nums = list(map(int, numbers.split(\" \")))\n",
    "    return \" \".join(map(str, (max(nums), min(nums))))\n",
    "\n",
    "print(high_and_low(\"4 5 29 54 4 0 -214 542 -64 1 -3 6 -6\"), \"542 -214\")"
   ]
  },
  {
   "cell_type": "markdown",
   "metadata": {},
   "source": [
    "The same problem in these solutions:"
   ]
  },
  {
   "cell_type": "code",
   "execution_count": 31,
   "metadata": {},
   "outputs": [
    {
     "ename": "ValueError",
     "evalue": "min() arg is an empty sequence",
     "output_type": "error",
     "traceback": [
      "\u001b[1;31m---------------------------------------------------------------------------\u001b[0m",
      "\u001b[1;31mValueError\u001b[0m                                Traceback (most recent call last)",
      "\u001b[1;32m<ipython-input-31-5d9970119271>\u001b[0m in \u001b[0;36m<module>\u001b[1;34m\u001b[0m\n\u001b[0;32m      3\u001b[0m   \u001b[1;32mreturn\u001b[0m \u001b[0mstr\u001b[0m\u001b[1;33m(\u001b[0m\u001b[0mmax\u001b[0m\u001b[1;33m(\u001b[0m\u001b[0mn\u001b[0m\u001b[1;33m)\u001b[0m\u001b[1;33m)\u001b[0m \u001b[1;33m+\u001b[0m \u001b[1;34m' '\u001b[0m \u001b[1;33m+\u001b[0m \u001b[0mstr\u001b[0m\u001b[1;33m(\u001b[0m\u001b[0mmin\u001b[0m\u001b[1;33m(\u001b[0m\u001b[0mn\u001b[0m\u001b[1;33m)\u001b[0m\u001b[1;33m)\u001b[0m\u001b[1;33m\u001b[0m\u001b[1;33m\u001b[0m\u001b[0m\n\u001b[0;32m      4\u001b[0m \u001b[1;33m\u001b[0m\u001b[0m\n\u001b[1;32m----> 5\u001b[1;33m \u001b[0mprint\u001b[0m\u001b[1;33m(\u001b[0m\u001b[0mhigh_and_low\u001b[0m\u001b[1;33m(\u001b[0m\u001b[1;34m\"4 5 29 54 4 0 -214 542 -64 1 -3 6 -6\"\u001b[0m\u001b[1;33m)\u001b[0m\u001b[1;33m,\u001b[0m \u001b[1;34m\"542 -214\"\u001b[0m\u001b[1;33m)\u001b[0m\u001b[1;33m\u001b[0m\u001b[1;33m\u001b[0m\u001b[0m\n\u001b[0m",
      "\u001b[1;32m<ipython-input-31-5d9970119271>\u001b[0m in \u001b[0;36mhigh_and_low\u001b[1;34m(numbers)\u001b[0m\n\u001b[0;32m      1\u001b[0m \u001b[1;32mdef\u001b[0m \u001b[0mhigh_and_low\u001b[0m\u001b[1;33m(\u001b[0m\u001b[0mnumbers\u001b[0m\u001b[1;33m)\u001b[0m\u001b[1;33m:\u001b[0m\u001b[1;33m\u001b[0m\u001b[1;33m\u001b[0m\u001b[0m\n\u001b[0;32m      2\u001b[0m   \u001b[0mn\u001b[0m \u001b[1;33m=\u001b[0m \u001b[0mmap\u001b[0m\u001b[1;33m(\u001b[0m\u001b[0mint\u001b[0m\u001b[1;33m,\u001b[0m \u001b[0mnumbers\u001b[0m\u001b[1;33m.\u001b[0m\u001b[0msplit\u001b[0m\u001b[1;33m(\u001b[0m\u001b[1;34m' '\u001b[0m\u001b[1;33m)\u001b[0m\u001b[1;33m)\u001b[0m\u001b[1;33m\u001b[0m\u001b[1;33m\u001b[0m\u001b[0m\n\u001b[1;32m----> 3\u001b[1;33m   \u001b[1;32mreturn\u001b[0m \u001b[0mstr\u001b[0m\u001b[1;33m(\u001b[0m\u001b[0mmax\u001b[0m\u001b[1;33m(\u001b[0m\u001b[0mn\u001b[0m\u001b[1;33m)\u001b[0m\u001b[1;33m)\u001b[0m \u001b[1;33m+\u001b[0m \u001b[1;34m' '\u001b[0m \u001b[1;33m+\u001b[0m \u001b[0mstr\u001b[0m\u001b[1;33m(\u001b[0m\u001b[0mmin\u001b[0m\u001b[1;33m(\u001b[0m\u001b[0mn\u001b[0m\u001b[1;33m)\u001b[0m\u001b[1;33m)\u001b[0m\u001b[1;33m\u001b[0m\u001b[1;33m\u001b[0m\u001b[0m\n\u001b[0m\u001b[0;32m      4\u001b[0m \u001b[1;33m\u001b[0m\u001b[0m\n\u001b[0;32m      5\u001b[0m \u001b[0mprint\u001b[0m\u001b[1;33m(\u001b[0m\u001b[0mhigh_and_low\u001b[0m\u001b[1;33m(\u001b[0m\u001b[1;34m\"4 5 29 54 4 0 -214 542 -64 1 -3 6 -6\"\u001b[0m\u001b[1;33m)\u001b[0m\u001b[1;33m,\u001b[0m \u001b[1;34m\"542 -214\"\u001b[0m\u001b[1;33m)\u001b[0m\u001b[1;33m\u001b[0m\u001b[1;33m\u001b[0m\u001b[0m\n",
      "\u001b[1;31mValueError\u001b[0m: min() arg is an empty sequence"
     ]
    }
   ],
   "source": [
    "def high_and_low(numbers):\n",
    "  n = map(int, numbers.split(' '))\n",
    "  return str(max(n)) + ' ' + str(min(n))\n",
    "\n",
    "print(high_and_low(\"4 5 29 54 4 0 -214 542 -64 1 -3 6 -6\"), \"542 -214\")"
   ]
  },
  {
   "cell_type": "code",
   "execution_count": 32,
   "metadata": {},
   "outputs": [
    {
     "ename": "ValueError",
     "evalue": "min() arg is an empty sequence",
     "output_type": "error",
     "traceback": [
      "\u001b[1;31m---------------------------------------------------------------------------\u001b[0m",
      "\u001b[1;31mValueError\u001b[0m                                Traceback (most recent call last)",
      "\u001b[1;32m<ipython-input-32-c9964e5d460a>\u001b[0m in \u001b[0;36m<module>\u001b[1;34m\u001b[0m\n\u001b[0;32m      3\u001b[0m     \u001b[1;32mreturn\u001b[0m \u001b[1;34m\"{} {}\"\u001b[0m\u001b[1;33m.\u001b[0m\u001b[0mformat\u001b[0m\u001b[1;33m(\u001b[0m\u001b[0mmax\u001b[0m\u001b[1;33m(\u001b[0m\u001b[0mn\u001b[0m\u001b[1;33m)\u001b[0m\u001b[1;33m,\u001b[0m \u001b[0mmin\u001b[0m\u001b[1;33m(\u001b[0m\u001b[0mn\u001b[0m\u001b[1;33m)\u001b[0m\u001b[1;33m)\u001b[0m\u001b[1;33m\u001b[0m\u001b[1;33m\u001b[0m\u001b[0m\n\u001b[0;32m      4\u001b[0m \u001b[1;33m\u001b[0m\u001b[0m\n\u001b[1;32m----> 5\u001b[1;33m \u001b[0mprint\u001b[0m\u001b[1;33m(\u001b[0m\u001b[0mhigh_and_low\u001b[0m\u001b[1;33m(\u001b[0m\u001b[1;34m\"4 5 29 54 4 0 -214 542 -64 1 -3 6 -6\"\u001b[0m\u001b[1;33m)\u001b[0m\u001b[1;33m,\u001b[0m \u001b[1;34m\"542 -214\"\u001b[0m\u001b[1;33m)\u001b[0m\u001b[1;33m\u001b[0m\u001b[1;33m\u001b[0m\u001b[0m\n\u001b[0m",
      "\u001b[1;32m<ipython-input-32-c9964e5d460a>\u001b[0m in \u001b[0;36mhigh_and_low\u001b[1;34m(numbers)\u001b[0m\n\u001b[0;32m      1\u001b[0m \u001b[1;32mdef\u001b[0m \u001b[0mhigh_and_low\u001b[0m\u001b[1;33m(\u001b[0m\u001b[0mnumbers\u001b[0m\u001b[1;33m)\u001b[0m\u001b[1;33m:\u001b[0m\u001b[1;33m\u001b[0m\u001b[1;33m\u001b[0m\u001b[0m\n\u001b[0;32m      2\u001b[0m     \u001b[0mn\u001b[0m \u001b[1;33m=\u001b[0m \u001b[0mmap\u001b[0m\u001b[1;33m(\u001b[0m\u001b[0mint\u001b[0m\u001b[1;33m,\u001b[0m \u001b[0mnumbers\u001b[0m\u001b[1;33m.\u001b[0m\u001b[0msplit\u001b[0m\u001b[1;33m(\u001b[0m\u001b[1;34m' '\u001b[0m\u001b[1;33m)\u001b[0m\u001b[1;33m)\u001b[0m\u001b[1;33m\u001b[0m\u001b[1;33m\u001b[0m\u001b[0m\n\u001b[1;32m----> 3\u001b[1;33m     \u001b[1;32mreturn\u001b[0m \u001b[1;34m\"{} {}\"\u001b[0m\u001b[1;33m.\u001b[0m\u001b[0mformat\u001b[0m\u001b[1;33m(\u001b[0m\u001b[0mmax\u001b[0m\u001b[1;33m(\u001b[0m\u001b[0mn\u001b[0m\u001b[1;33m)\u001b[0m\u001b[1;33m,\u001b[0m \u001b[0mmin\u001b[0m\u001b[1;33m(\u001b[0m\u001b[0mn\u001b[0m\u001b[1;33m)\u001b[0m\u001b[1;33m)\u001b[0m\u001b[1;33m\u001b[0m\u001b[1;33m\u001b[0m\u001b[0m\n\u001b[0m\u001b[0;32m      4\u001b[0m \u001b[1;33m\u001b[0m\u001b[0m\n\u001b[0;32m      5\u001b[0m \u001b[0mprint\u001b[0m\u001b[1;33m(\u001b[0m\u001b[0mhigh_and_low\u001b[0m\u001b[1;33m(\u001b[0m\u001b[1;34m\"4 5 29 54 4 0 -214 542 -64 1 -3 6 -6\"\u001b[0m\u001b[1;33m)\u001b[0m\u001b[1;33m,\u001b[0m \u001b[1;34m\"542 -214\"\u001b[0m\u001b[1;33m)\u001b[0m\u001b[1;33m\u001b[0m\u001b[1;33m\u001b[0m\u001b[0m\n",
      "\u001b[1;31mValueError\u001b[0m: min() arg is an empty sequence"
     ]
    }
   ],
   "source": [
    "def high_and_low(numbers):\n",
    "    n = map(int, numbers.split(' '))\n",
    "    return \"{} {}\".format(max(n), min(n))\n",
    "\n",
    "print(high_and_low(\"4 5 29 54 4 0 -214 542 -64 1 -3 6 -6\"), \"542 -214\")"
   ]
  },
  {
   "cell_type": "markdown",
   "metadata": {},
   "source": [
    "__#2__"
   ]
  },
  {
   "cell_type": "code",
   "execution_count": 33,
   "metadata": {},
   "outputs": [
    {
     "name": "stdout",
     "output_type": "stream",
     "text": [
      "542 -214 542 -214\n"
     ]
    }
   ],
   "source": [
    "def high_and_low(numbers):\n",
    "    nums = sorted(numbers.split(), key=int)\n",
    "    return '{} {}'.format(nums[-1], nums[0])\n",
    "\n",
    "print(high_and_low(\"4 5 29 54 4 0 -214 542 -64 1 -3 6 -6\"), \"542 -214\")"
   ]
  },
  {
   "cell_type": "markdown",
   "metadata": {},
   "source": [
    "__#3__"
   ]
  },
  {
   "cell_type": "code",
   "execution_count": 36,
   "metadata": {},
   "outputs": [
    {
     "name": "stdout",
     "output_type": "stream",
     "text": [
      "542 -214 542 -214\n"
     ]
    }
   ],
   "source": [
    "def high_and_low(numbers):\n",
    "    return ' '.join(x(numbers.split(), key=int) for x in (max, min))\n",
    "\n",
    "print(high_and_low(\"4 5 29 54 4 0 -214 542 -64 1 -3 6 -6\"), \"542 -214\")"
   ]
  },
  {
   "cell_type": "markdown",
   "metadata": {},
   "source": [
    "20200921"
   ]
  },
  {
   "cell_type": "markdown",
   "metadata": {},
   "source": [
    "### Summation\n",
    "https://www.codewars.com/kata/55d24f55d7dd296eb9000030  \n",
    "8 kyu\n",
    "\n",
    "Write a program that finds the summation of every number from 1 to num. The number will always be a positive integer greater than 0.\n",
    "\n",
    "For example:\n",
    "\n",
    "summation(2) -> 3  \n",
    "1 + 2\n",
    "\n",
    "summation(8) -> 36  \n",
    "1 + 2 + 3 + 4 + 5 + 6 + 7 + 8"
   ]
  },
  {
   "cell_type": "markdown",
   "metadata": {},
   "source": [
    "__My solutions:__"
   ]
  },
  {
   "cell_type": "code",
   "execution_count": null,
   "metadata": {},
   "outputs": [],
   "source": [
    "def summation(num):\n",
    "    return sum(range(num + 1))"
   ]
  },
  {
   "cell_type": "markdown",
   "metadata": {},
   "source": [
    "__Other users' solutions:__"
   ]
  },
  {
   "cell_type": "code",
   "execution_count": null,
   "metadata": {},
   "outputs": [],
   "source": [
    "def summation(num):\n",
    "    return (num + 1) * num / 2"
   ]
  },
  {
   "cell_type": "markdown",
   "metadata": {},
   "source": [
    "### Ones and Zeros\n",
    "https://www.codewars.com/kata/578553c3a1b8d5c40300037c  \n",
    "7 kyu\n",
    "\n",
    "Given an array of ones and zeroes, convert the equivalent binary value to an integer.\n",
    "\n",
    "Eg: [0, 0, 0, 1] is treated as 0001 which is the binary representation of 1.\n",
    "\n",
    "Examples:\n",
    "\n",
    "Testing: [0, 0, 0, 1] ==> 1  \n",
    "Testing: [0, 0, 1, 0] ==> 2  \n",
    "Testing: [0, 1, 0, 1] ==> 5  \n",
    "Testing: [1, 0, 0, 1] ==> 9  \n",
    "Testing: [0, 0, 1, 0] ==> 2  \n",
    "Testing: [0, 1, 1, 0] ==> 6  \n",
    "Testing: [1, 1, 1, 1] ==> 15  \n",
    "Testing: [1, 0, 1, 1] ==> 11\n",
    "\n",
    "However, the arrays can have varying lengths, not just limited to 4."
   ]
  },
  {
   "cell_type": "markdown",
   "metadata": {},
   "source": [
    "__My solutions:__"
   ]
  },
  {
   "cell_type": "markdown",
   "metadata": {},
   "source": [
    "__#1__"
   ]
  },
  {
   "cell_type": "code",
   "execution_count": 42,
   "metadata": {},
   "outputs": [
    {
     "name": "stdout",
     "output_type": "stream",
     "text": [
      "1 1\n",
      "2 2\n",
      "15 15\n",
      "6 6\n"
     ]
    }
   ],
   "source": [
    "def binary_array_to_number(arr):\n",
    "    return int(''.join(map(str, arr)), 2)\n",
    "\n",
    "print(binary_array_to_number([0,0,0,1]), 1)\n",
    "print(binary_array_to_number([0,0,1,0]), 2)\n",
    "print(binary_array_to_number([1,1,1,1]), 15)\n",
    "print(binary_array_to_number([0,1,1,0]), 6)"
   ]
  },
  {
   "cell_type": "code",
   "execution_count": 38,
   "metadata": {},
   "outputs": [
    {
     "data": {
      "text/plain": [
       "6"
      ]
     },
     "execution_count": 38,
     "metadata": {},
     "output_type": "execute_result"
    }
   ],
   "source": [
    "int('6')"
   ]
  },
  {
   "cell_type": "code",
   "execution_count": 40,
   "metadata": {},
   "outputs": [
    {
     "data": {
      "text/plain": [
       "'0001'"
      ]
     },
     "execution_count": 40,
     "metadata": {},
     "output_type": "execute_result"
    }
   ],
   "source": [
    "arr = [0, 0, 0, 1]\n",
    "''.join(map(str, arr))"
   ]
  },
  {
   "cell_type": "code",
   "execution_count": 41,
   "metadata": {},
   "outputs": [
    {
     "data": {
      "text/plain": [
       "1"
      ]
     },
     "execution_count": 41,
     "metadata": {},
     "output_type": "execute_result"
    }
   ],
   "source": [
    "int('0001', 2)"
   ]
  },
  {
   "cell_type": "markdown",
   "metadata": {},
   "source": [
    "__#2__"
   ]
  },
  {
   "cell_type": "code",
   "execution_count": 46,
   "metadata": {},
   "outputs": [
    {
     "name": "stdout",
     "output_type": "stream",
     "text": [
      "1 1\n",
      "2 2\n",
      "15 15\n",
      "6 6\n"
     ]
    }
   ],
   "source": [
    "def binary_array_to_number(arr):\n",
    "    return sum(d * (2 ** i) for i, d in enumerate(reversed(arr)))\n",
    "\n",
    "print(binary_array_to_number([0,0,0,1]), 1)\n",
    "print(binary_array_to_number([0,0,1,0]), 2)\n",
    "print(binary_array_to_number([1,1,1,1]), 15)\n",
    "print(binary_array_to_number([0,1,1,0]), 6)"
   ]
  },
  {
   "cell_type": "code",
   "execution_count": 43,
   "metadata": {},
   "outputs": [
    {
     "data": {
      "text/plain": [
       "<list_reverseiterator at 0x72597f0>"
      ]
     },
     "execution_count": 43,
     "metadata": {},
     "output_type": "execute_result"
    }
   ],
   "source": [
    "arr = [0, 0, 0, 1]\n",
    "reversed(arr)"
   ]
  },
  {
   "cell_type": "markdown",
   "metadata": {},
   "source": [
    "__Other users' solutions:__"
   ]
  },
  {
   "cell_type": "markdown",
   "metadata": {},
   "source": [
    "__#1__"
   ]
  },
  {
   "cell_type": "code",
   "execution_count": 49,
   "metadata": {},
   "outputs": [
    {
     "name": "stdout",
     "output_type": "stream",
     "text": [
      "1 1\n",
      "2 2\n",
      "15 15\n",
      "6 6\n"
     ]
    }
   ],
   "source": [
    "def binary_array_to_number(arr):\n",
    "    s = 0\n",
    "    for digit in arr:\n",
    "        s = s * 2 + digit\n",
    "\n",
    "    return s\n",
    "\n",
    "print(binary_array_to_number([0,0,0,1]), 1)\n",
    "print(binary_array_to_number([0,0,1,0]), 2)\n",
    "print(binary_array_to_number([1,1,1,1]), 15)\n",
    "print(binary_array_to_number([0,1,1,0]), 6)"
   ]
  },
  {
   "cell_type": "markdown",
   "metadata": {},
   "source": [
    "__#2__"
   ]
  },
  {
   "cell_type": "code",
   "execution_count": 68,
   "metadata": {},
   "outputs": [
    {
     "name": "stdout",
     "output_type": "stream",
     "text": [
      "1 1\n",
      "2 2\n",
      "15 15\n",
      "6 6\n"
     ]
    }
   ],
   "source": [
    "from functools import reduce\n",
    "\n",
    "def binary_array_to_number(arr):\n",
    "    append_bit = lambda n, b: n << 1 | b # == (n << 1) | b и аналогично s = s * 2 + digit\n",
    "    return reduce(append_bit, arr)\n",
    "\n",
    "print(binary_array_to_number([0,0,0,1]), 1)\n",
    "print(binary_array_to_number([0,0,1,0]), 2)\n",
    "print(binary_array_to_number([1,1,1,1]), 15)\n",
    "print(binary_array_to_number([0,1,1,0]), 6)"
   ]
  },
  {
   "cell_type": "code",
   "execution_count": 78,
   "metadata": {},
   "outputs": [
    {
     "data": {
      "text/plain": [
       "6"
      ]
     },
     "execution_count": 78,
     "metadata": {},
     "output_type": "execute_result"
    }
   ],
   "source": [
    "3 << 1 | 0"
   ]
  },
  {
   "cell_type": "markdown",
   "metadata": {},
   "source": [
    "__#3__"
   ]
  },
  {
   "cell_type": "code",
   "execution_count": 50,
   "metadata": {},
   "outputs": [
    {
     "name": "stdout",
     "output_type": "stream",
     "text": [
      "1 1\n",
      "2 2\n",
      "15 15\n",
      "6 6\n"
     ]
    }
   ],
   "source": [
    "def binary_array_to_number(arr):\n",
    "    return sum( 2 ** i for i, n in enumerate( arr[:: -1] ) if n)\n",
    "\n",
    "print(binary_array_to_number([0,0,0,1]), 1)\n",
    "print(binary_array_to_number([0,0,1,0]), 2)\n",
    "print(binary_array_to_number([1,1,1,1]), 15)\n",
    "print(binary_array_to_number([0,1,1,0]), 6)"
   ]
  },
  {
   "cell_type": "markdown",
   "metadata": {},
   "source": [
    "20200922"
   ]
  },
  {
   "cell_type": "markdown",
   "metadata": {},
   "source": [
    "### Will you make it?\n",
    "https://www.codewars.com/kata/5861d28f124b35723e00005e  \n",
    "8 kyu\n",
    "\n",
    "You were camping with your friends far away from home, but when it's time to go back, you realize that your fuel is running out and the nearest pump is 50 miles away! You know that on average, your car runs on about 25 miles per gallon. There are 2 gallons left. \n",
    "\n",
    "Considering these factors, write a function that tells you if it is possible to get to the pump or not. Function should return true (1 in Prolog) if it is possible and false (0 in Prolog) if not. The input values are always positive."
   ]
  },
  {
   "cell_type": "markdown",
   "metadata": {},
   "source": [
    "__My solutions:__"
   ]
  },
  {
   "cell_type": "code",
   "execution_count": null,
   "metadata": {},
   "outputs": [],
   "source": [
    "def zero_fuel(distance_to_pump, mpg, fuel_left):\n",
    "    return mpg * fuel_left >= distance_to_pump\n",
    "\n",
    "print(zero_fuel(50, 25, 2), True)\n",
    "print(zero_fuel(100, 50, 1), False)"
   ]
  },
  {
   "cell_type": "markdown",
   "metadata": {},
   "source": [
    "### Complementary DNA\n",
    "https://www.codewars.com/kata/554e4a2f232cdd87d9000038  \n",
    "7 kyu\n",
    "\n",
    "Deoxyribonucleic acid (DNA) is a chemical found in the nucleus of cells and carries the \"instructions\" for the development and functioning of living organisms.\n",
    "\n",
    "If you want to know more http://en.wikipedia.org/wiki/DNA\n",
    "\n",
    "In DNA strings, symbols \"A\" and \"T\" are complements of each other, as \"C\" and \"G\". You have a function with one side of the DNA (string, except for Haskell); you need to get the other complementary side. DNA strand is never empty or there is no DNA at all (again, except for Haskell).\n",
    "\n",
    "More similar exercise are found here http://rosalind.info/problems/list-view/ (source)\n",
    "\n",
    "DNA_strand (\"ATTGC\") # return \"TAACG\"\n",
    "\n",
    "DNA_strand (\"GTAT\") # return \"CATA\""
   ]
  },
  {
   "cell_type": "markdown",
   "metadata": {},
   "source": [
    "__My solutions:__"
   ]
  },
  {
   "cell_type": "code",
   "execution_count": null,
   "metadata": {},
   "outputs": [],
   "source": [
    "def DNA_strand(dna):\n",
    "    complements = {'A': 'T', 'T': 'A', 'C': 'G', 'G': 'C'}\n",
    "    return ''.join(complements[s] for s in dna.upper())\n",
    "\n",
    "print(DNA_strand(\"AAAA\"),\"TTTT\",\"String AAAA is\")\n",
    "print(DNA_strand(\"ATTGC\"),\"TAACG\",\"String ATTGC is\")\n",
    "print(DNA_strand(\"GTAT\"),\"CATA\",\"String GTAT is\")"
   ]
  },
  {
   "cell_type": "markdown",
   "metadata": {},
   "source": [
    "__Other users' solutions:__"
   ]
  },
  {
   "cell_type": "code",
   "execution_count": 56,
   "metadata": {},
   "outputs": [
    {
     "name": "stdout",
     "output_type": "stream",
     "text": [
      "TTTT TTTT String AAAA is\n",
      "TAACG TAACG String ATTGC is\n",
      "CATA CATA String GTAT is\n"
     ]
    }
   ],
   "source": [
    "def DNA_strand(dna):\n",
    "    return dna.translate(str.maketrans(\"ATCG\",\"TAGC\"))\n",
    "\n",
    "print(DNA_strand(\"AAAA\"),\"TTTT\",\"String AAAA is\")\n",
    "print(DNA_strand(\"ATTGC\"),\"TAACG\",\"String ATTGC is\")\n",
    "print(DNA_strand(\"GTAT\"),\"CATA\",\"String GTAT is\")"
   ]
  },
  {
   "cell_type": "markdown",
   "metadata": {},
   "source": [
    "### Shortest Word\n",
    "https://www.codewars.com/kata/57cebe1dc6fdc20c57000ac9  \n",
    "7 kyu\n",
    "\n",
    "Simple, given a string of words, return the length of the shortest word(s).\n",
    "\n",
    "String will never be empty and you do not need to account for different data types."
   ]
  },
  {
   "cell_type": "markdown",
   "metadata": {},
   "source": [
    "__My solutions:__"
   ]
  },
  {
   "cell_type": "markdown",
   "metadata": {},
   "source": [
    "__#1__"
   ]
  },
  {
   "cell_type": "code",
   "execution_count": 57,
   "metadata": {},
   "outputs": [
    {
     "name": "stdout",
     "output_type": "stream",
     "text": [
      "3 3\n",
      "3 3\n",
      "3 3\n",
      "1 1\n",
      "2 2\n"
     ]
    }
   ],
   "source": [
    "def find_short(s):\n",
    "    return len(min(s.split(), key=len))\n",
    "\n",
    "print(find_short(\"bitcoin take over the world maybe who knows perhaps\"), 3)\n",
    "print(find_short(\"turns out random test cases are easier than writing out basic ones\"), 3)\n",
    "print(find_short(\"lets talk about javascript the best language\"), 3)\n",
    "print(find_short(\"i want to travel the world writing code one day\"), 1)\n",
    "print(find_short(\"Lets all go on holiday somewhere very cold\"), 2)"
   ]
  },
  {
   "cell_type": "markdown",
   "metadata": {},
   "source": [
    "__#2__"
   ]
  },
  {
   "cell_type": "code",
   "execution_count": 58,
   "metadata": {},
   "outputs": [
    {
     "name": "stdout",
     "output_type": "stream",
     "text": [
      "3 3\n",
      "3 3\n",
      "3 3\n",
      "1 1\n",
      "2 2\n"
     ]
    }
   ],
   "source": [
    "def find_short(s):\n",
    "    return min(map(lambda word: len(word), s.split()))\n",
    "\n",
    "print(find_short(\"bitcoin take over the world maybe who knows perhaps\"), 3)\n",
    "print(find_short(\"turns out random test cases are easier than writing out basic ones\"), 3)\n",
    "print(find_short(\"lets talk about javascript the best language\"), 3)\n",
    "print(find_short(\"i want to travel the world writing code one day\"), 1)\n",
    "print(find_short(\"Lets all go on holiday somewhere very cold\"), 2)"
   ]
  },
  {
   "cell_type": "markdown",
   "metadata": {},
   "source": [
    "### Regex validate PIN code\n",
    "https://www.codewars.com/kata/55f8a9c06c018a0d6e000132  \n",
    "7 kyu\n",
    "\n",
    "ATM machines allow 4 or 6 digit PIN codes and PIN codes cannot contain anything but exactly 4 digits or exactly 6 digits.\n",
    "\n",
    "If the function is passed a valid PIN string, return true, else return false.\n",
    "\n",
    "eg:\n",
    "\n",
    "validate_pin(\"1234\") == True  \n",
    "validate_pin(\"12345\") == False  \n",
    "validate_pin(\"a234\") == False"
   ]
  },
  {
   "cell_type": "markdown",
   "metadata": {},
   "source": [
    "__My solutions:__"
   ]
  },
  {
   "cell_type": "code",
   "execution_count": 59,
   "metadata": {},
   "outputs": [
    {
     "name": "stdout",
     "output_type": "stream",
     "text": [
      "should return False for pins with length other than 4 or 6\n",
      "False False Wrong output for '1'\n",
      "False False Wrong output for '12'\n",
      "False False Wrong output for '123'\n",
      "False False Wrong output for '12345'\n",
      "False False Wrong output for '1234567'\n",
      "False False Wrong output for '-1234'\n",
      "False False Wrong output for '1.234'\n",
      "False False Wrong output for '00000000'\n",
      "should return False for pins which contain characters other than digits\n",
      "False False Wrong output for 'a234'\n",
      "False False Wrong output for '.234'\n",
      "False False Wrong output for '-123'\n",
      "False False Wrong output for '-1.234'\n",
      "should return True for valid pins\n",
      "True True Wrong output for '1234'\n",
      "True True Wrong output for '0000'\n",
      "True True Wrong output for '1111'\n",
      "True True Wrong output for '123456'\n",
      "True True Wrong output for '098765'\n",
      "True True Wrong output for '000000'\n",
      "True True Wrong output for '123456'\n",
      "True True Wrong output for '090909'\n"
     ]
    }
   ],
   "source": [
    "import re\n",
    "\n",
    "def validate_pin(pin):\n",
    "    return True if re.fullmatch(r'(\\d{4})|(\\d{6})', pin) else False\n",
    "\n",
    "print(\"should return False for pins with length other than 4 or 6\")\n",
    "print(validate_pin(\"1\"),False, \"Wrong output for '1'\")\n",
    "print(validate_pin(\"12\"),False, \"Wrong output for '12'\")\n",
    "print(validate_pin(\"123\"),False, \"Wrong output for '123'\")\n",
    "print(validate_pin(\"12345\"),False, \"Wrong output for '12345'\")\n",
    "print(validate_pin(\"1234567\"),False, \"Wrong output for '1234567'\")\n",
    "print(validate_pin(\"-1234\"),False, \"Wrong output for '-1234'\")\n",
    "print(validate_pin(\"1.234\"),False, \"Wrong output for '1.234'\")\n",
    "print(validate_pin(\"00000000\"),False, \"Wrong output for '00000000'\")\n",
    "\n",
    "print(\"should return False for pins which contain characters other than digits\")\n",
    "print(validate_pin(\"a234\"),False, \"Wrong output for 'a234'\")\n",
    "print(validate_pin(\".234\"),False, \"Wrong output for '.234'\")\n",
    "print(validate_pin(\"-123\"),False, \"Wrong output for '-123'\")\n",
    "print(validate_pin(\"-1.234\"),False, \"Wrong output for '-1.234'\")\n",
    "\n",
    "print(\"should return True for valid pins\")\n",
    "print(validate_pin(\"1234\"),True, \"Wrong output for '1234'\")\n",
    "print(validate_pin(\"0000\"),True, \"Wrong output for '0000'\")\n",
    "print(validate_pin(\"1111\"),True, \"Wrong output for '1111'\")\n",
    "print(validate_pin(\"123456\"),True, \"Wrong output for '123456'\")\n",
    "print(validate_pin(\"098765\"),True, \"Wrong output for '098765'\")\n",
    "print(validate_pin(\"000000\"),True, \"Wrong output for '000000'\")\n",
    "print(validate_pin(\"123456\"),True, \"Wrong output for '123456'\")\n",
    "print(validate_pin(\"090909\"),True, \"Wrong output for '090909'\")"
   ]
  },
  {
   "cell_type": "markdown",
   "metadata": {},
   "source": [
    "A little correction of the pattern (works without groups):"
   ]
  },
  {
   "cell_type": "code",
   "execution_count": 61,
   "metadata": {},
   "outputs": [
    {
     "name": "stdout",
     "output_type": "stream",
     "text": [
      "should return False for pins with length other than 4 or 6\n",
      "False False Wrong output for '1'\n",
      "False False Wrong output for '12'\n",
      "False False Wrong output for '123'\n",
      "False False Wrong output for '12345'\n",
      "False False Wrong output for '1234567'\n",
      "False False Wrong output for '-1234'\n",
      "False False Wrong output for '1.234'\n",
      "False False Wrong output for '00000000'\n",
      "should return False for pins which contain characters other than digits\n",
      "False False Wrong output for 'a234'\n",
      "False False Wrong output for '.234'\n",
      "False False Wrong output for '-123'\n",
      "False False Wrong output for '-1.234'\n",
      "should return True for valid pins\n",
      "True True Wrong output for '1234'\n",
      "True True Wrong output for '0000'\n",
      "True True Wrong output for '1111'\n",
      "True True Wrong output for '123456'\n",
      "True True Wrong output for '098765'\n",
      "True True Wrong output for '000000'\n",
      "True True Wrong output for '123456'\n",
      "True True Wrong output for '090909'\n"
     ]
    }
   ],
   "source": [
    "import re\n",
    "\n",
    "def validate_pin(pin):\n",
    "    return True if re.fullmatch(r'\\d{4}|\\d{6}', pin) else False\n",
    "\n",
    "print(\"should return False for pins with length other than 4 or 6\")\n",
    "print(validate_pin(\"1\"),False, \"Wrong output for '1'\")\n",
    "print(validate_pin(\"12\"),False, \"Wrong output for '12'\")\n",
    "print(validate_pin(\"123\"),False, \"Wrong output for '123'\")\n",
    "print(validate_pin(\"12345\"),False, \"Wrong output for '12345'\")\n",
    "print(validate_pin(\"1234567\"),False, \"Wrong output for '1234567'\")\n",
    "print(validate_pin(\"-1234\"),False, \"Wrong output for '-1234'\")\n",
    "print(validate_pin(\"1.234\"),False, \"Wrong output for '1.234'\")\n",
    "print(validate_pin(\"00000000\"),False, \"Wrong output for '00000000'\")\n",
    "\n",
    "print(\"should return False for pins which contain characters other than digits\")\n",
    "print(validate_pin(\"a234\"),False, \"Wrong output for 'a234'\")\n",
    "print(validate_pin(\".234\"),False, \"Wrong output for '.234'\")\n",
    "print(validate_pin(\"-123\"),False, \"Wrong output for '-123'\")\n",
    "print(validate_pin(\"-1.234\"),False, \"Wrong output for '-1.234'\")\n",
    "\n",
    "print(\"should return True for valid pins\")\n",
    "print(validate_pin(\"1234\"),True, \"Wrong output for '1234'\")\n",
    "print(validate_pin(\"0000\"),True, \"Wrong output for '0000'\")\n",
    "print(validate_pin(\"1111\"),True, \"Wrong output for '1111'\")\n",
    "print(validate_pin(\"123456\"),True, \"Wrong output for '123456'\")\n",
    "print(validate_pin(\"098765\"),True, \"Wrong output for '098765'\")\n",
    "print(validate_pin(\"000000\"),True, \"Wrong output for '000000'\")\n",
    "print(validate_pin(\"123456\"),True, \"Wrong output for '123456'\")\n",
    "print(validate_pin(\"090909\"),True, \"Wrong output for '090909'\")"
   ]
  },
  {
   "cell_type": "markdown",
   "metadata": {},
   "source": [
    "__Other users' solutions:__"
   ]
  },
  {
   "cell_type": "markdown",
   "metadata": {},
   "source": [
    "__#1__"
   ]
  },
  {
   "cell_type": "code",
   "execution_count": 60,
   "metadata": {},
   "outputs": [
    {
     "name": "stdout",
     "output_type": "stream",
     "text": [
      "should return False for pins with length other than 4 or 6\n",
      "False False Wrong output for '1'\n",
      "False False Wrong output for '12'\n",
      "False False Wrong output for '123'\n",
      "False False Wrong output for '12345'\n",
      "False False Wrong output for '1234567'\n",
      "False False Wrong output for '-1234'\n",
      "False False Wrong output for '1.234'\n",
      "False False Wrong output for '00000000'\n",
      "should return False for pins which contain characters other than digits\n",
      "False False Wrong output for 'a234'\n",
      "False False Wrong output for '.234'\n",
      "False False Wrong output for '-123'\n",
      "False False Wrong output for '-1.234'\n",
      "should return True for valid pins\n",
      "True True Wrong output for '1234'\n",
      "True True Wrong output for '0000'\n",
      "True True Wrong output for '1111'\n",
      "True True Wrong output for '123456'\n",
      "True True Wrong output for '098765'\n",
      "True True Wrong output for '000000'\n",
      "True True Wrong output for '123456'\n",
      "True True Wrong output for '090909'\n"
     ]
    }
   ],
   "source": [
    "def validate_pin(pin):\n",
    "    return len(pin) in (4, 6) and pin.isdigit()\n",
    "\n",
    "print(\"should return False for pins with length other than 4 or 6\")\n",
    "print(validate_pin(\"1\"),False, \"Wrong output for '1'\")\n",
    "print(validate_pin(\"12\"),False, \"Wrong output for '12'\")\n",
    "print(validate_pin(\"123\"),False, \"Wrong output for '123'\")\n",
    "print(validate_pin(\"12345\"),False, \"Wrong output for '12345'\")\n",
    "print(validate_pin(\"1234567\"),False, \"Wrong output for '1234567'\")\n",
    "print(validate_pin(\"-1234\"),False, \"Wrong output for '-1234'\")\n",
    "print(validate_pin(\"1.234\"),False, \"Wrong output for '1.234'\")\n",
    "print(validate_pin(\"00000000\"),False, \"Wrong output for '00000000'\")\n",
    "\n",
    "print(\"should return False for pins which contain characters other than digits\")\n",
    "print(validate_pin(\"a234\"),False, \"Wrong output for 'a234'\")\n",
    "print(validate_pin(\".234\"),False, \"Wrong output for '.234'\")\n",
    "print(validate_pin(\"-123\"),False, \"Wrong output for '-123'\")\n",
    "print(validate_pin(\"-1.234\"),False, \"Wrong output for '-1.234'\")\n",
    "\n",
    "print(\"should return True for valid pins\")\n",
    "print(validate_pin(\"1234\"),True, \"Wrong output for '1234'\")\n",
    "print(validate_pin(\"0000\"),True, \"Wrong output for '0000'\")\n",
    "print(validate_pin(\"1111\"),True, \"Wrong output for '1111'\")\n",
    "print(validate_pin(\"123456\"),True, \"Wrong output for '123456'\")\n",
    "print(validate_pin(\"098765\"),True, \"Wrong output for '098765'\")\n",
    "print(validate_pin(\"000000\"),True, \"Wrong output for '000000'\")\n",
    "print(validate_pin(\"123456\"),True, \"Wrong output for '123456'\")\n",
    "print(validate_pin(\"090909\"),True, \"Wrong output for '090909'\")"
   ]
  },
  {
   "cell_type": "code",
   "execution_count": 63,
   "metadata": {},
   "outputs": [
    {
     "name": "stdout",
     "output_type": "stream",
     "text": [
      "Help on method_descriptor:\n",
      "\n",
      "isnumeric(self, /)\n",
      "    Return True if the string is a numeric string, False otherwise.\n",
      "    \n",
      "    A string is numeric if all characters in the string are numeric and there is at\n",
      "    least one character in the string.\n",
      "\n"
     ]
    }
   ],
   "source": [
    "help(str.isnumeric)"
   ]
  },
  {
   "cell_type": "code",
   "execution_count": 65,
   "metadata": {},
   "outputs": [
    {
     "name": "stdout",
     "output_type": "stream",
     "text": [
      "Help on method_descriptor:\n",
      "\n",
      "isdigit(self, /)\n",
      "    Return True if the string is a digit string, False otherwise.\n",
      "    \n",
      "    A string is a digit string if all characters in the string are digits and there\n",
      "    is at least one character in the string.\n",
      "\n"
     ]
    }
   ],
   "source": [
    "help(str.isdigit)"
   ]
  },
  {
   "cell_type": "markdown",
   "metadata": {},
   "source": [
    "__#2__ This one is insane, but I try to figure out how it works:"
   ]
  },
  {
   "cell_type": "code",
   "execution_count": 88,
   "metadata": {},
   "outputs": [
    {
     "name": "stdout",
     "output_type": "stream",
     "text": [
      "0 1\n",
      "['0']\n",
      "1 1\n",
      "['0', '1']\n",
      "1 2\n",
      "['0', '1', '1']\n",
      "2 2\n",
      "['0', '1', '1', '2']\n",
      "2 3\n",
      "['0', '1', '1', '2', '2']\n",
      "3 3\n",
      "['0', '1', '1', '2', '2', '3']\n",
      "3 4\n",
      "['0', '1', '1', '2', '2', '3', '3']\n",
      "4 4\n",
      "['0', '1', '1', '2', '2', '3', '3', '4']\n",
      "['0', '1', '1', '2', '2', '3', '3', '4', '4', '5', '6', '7', '8', '9']\n",
      "['0', '1', '2', '3', '4', '5', '6', '7', '8', '9', '1', '2', '3', '4']\n",
      "True True\n",
      "0 4\n",
      "['0']\n",
      "1 4\n",
      "['0', '1']\n",
      "2 4\n",
      "['0', '1', '2']\n",
      "3 4\n",
      "['0', '1', '2', '3']\n",
      "4 4\n",
      "['0', '1', '2', '3', '4']\n",
      "4 3\n",
      "['0', '1', '2', '3', '4', '3']\n",
      "4 2\n",
      "['0', '1', '2', '3', '4', '3', '2']\n",
      "4 1\n",
      "['0', '1', '2', '3', '4', '3', '2', '1']\n",
      "['0', '1', '2', '3', '4', '3', '2', '1', '4', '5', '6', '7', '8', '9']\n",
      "['0', '1', '2', '3', '4', '5', '6', '7', '8', '9', '4', '3', '2', '1']\n",
      "True True\n",
      "0 4\n",
      "['0']\n",
      "1 4\n",
      "['0', '1']\n",
      "2 4\n",
      "['0', '1', '2']\n",
      "3 4\n",
      "['0', '1', '2', '3']\n",
      "4 4\n",
      "['0', '1', '2', '3', '4']\n",
      "4 3\n",
      "['0', '1', '2', '3', '4', '3']\n",
      "4 2\n",
      "['0', '1', '2', '3', '4', '3', '2']\n",
      "4 #\n",
      "['0', '1', '2', '3', '4', '3', '2', '#']\n",
      "['0', '1', '2', '3', '4', '3', '2', '#', '4', '5', '6', '7', '8', '9']\n",
      "['0', '1', '2', '3', '4', '5', '6', '7', '8', '9', '4', '3', '2', '#']\n",
      "False True\n",
      "0 1\n",
      "['0']\n",
      "1 1\n",
      "['0', '1']\n",
      "1 2\n",
      "['0', '1', '1']\n",
      "2 2\n",
      "['0', '1', '1', '2']\n",
      "2 3\n",
      "['0', '1', '1', '2', '2']\n",
      "3 3\n",
      "['0', '1', '1', '2', '2', '3']\n",
      "3 f\n",
      "['0', '1', '1', '2', '2', '3', '3']\n",
      "4 f\n",
      "['0', '1', '1', '2', '2', '3', '3', '4']\n",
      "5 f\n",
      "['0', '1', '1', '2', '2', '3', '3', '4', '5']\n",
      "6 f\n",
      "['0', '1', '1', '2', '2', '3', '3', '4', '5', '6']\n",
      "7 f\n",
      "['0', '1', '1', '2', '2', '3', '3', '4', '5', '6', '7']\n",
      "8 f\n",
      "['0', '1', '1', '2', '2', '3', '3', '4', '5', '6', '7', '8']\n",
      "9 f\n",
      "['0', '1', '1', '2', '2', '3', '3', '4', '5', '6', '7', '8', '9']\n",
      "['0', '1', '1', '2', '2', '3', '3', '4', '5', '6', '7', '8', '9', 'f']\n",
      "['0', '1', '2', '3', '4', '5', '6', '7', '8', '9', '1', '2', '3', 'f']\n",
      "False False\n"
     ]
    }
   ],
   "source": [
    "def merge(array1,array2):\n",
    "    array3 = []\n",
    "    i = 0\n",
    "    j = 0\n",
    "    while (i < len(array1) and j < len(array2)):\n",
    "        print(array1[i], array2[j])\n",
    "        if (array1[i] < array2[j]):\n",
    "            array3.append(array1[i])\n",
    "            i = i + 1\n",
    "        else:\n",
    "            array3.append(array2[j])\n",
    "            j = j + 1\n",
    "        print(array3)\n",
    "    return array3 + array1[i:] + array2[j:]\n",
    "    \n",
    "def validate_pin(pin):\n",
    "    #return true or false\n",
    "    \n",
    "    key = ['0', '1', '2', '3', '4', '5', '6', '7', '8', '9']\n",
    "    \n",
    "    # check conditions\n",
    "    if len(pin) == 6 or len(pin) == 4:\n",
    "        p = [i for i in pin]\n",
    "        m = merge(key, p)\n",
    "        print(m)\n",
    "        print(key + p)\n",
    "        \n",
    "        # check lengths\n",
    "        if len(set(m)) == len(key):\n",
    "            return True\n",
    "        return False\n",
    "    else:\n",
    "        return False\n",
    "    \n",
    "print(validate_pin(\"1234\"),True)\n",
    "print(validate_pin(\"4321\"),True)\n",
    "print(validate_pin(\"432#\"),True)\n",
    "print(validate_pin(\"123f\"),False)"
   ]
  },
  {
   "cell_type": "markdown",
   "metadata": {},
   "source": [
    "20200923"
   ]
  },
  {
   "cell_type": "markdown",
   "metadata": {},
   "source": [
    "### Factorial decomposition\n",
    "https://www.codewars.com/kata/5a045fee46d843effa000070  \n",
    "5 kyu\n",
    "\n",
    "The aim of the kata is to decompose n! (factorial n) into its prime factors.\n",
    "\n",
    "Examples:\n",
    "\n",
    "n = 12; decomp(12) -> \"2^10 * 3^5 * 5^2 * 7 * 11\"  \n",
    "since 12! is divisible by 2 ten times, by 3 five times, by 5 two times and by 7 and 11 only once.\n",
    "\n",
    "n = 22; decomp(22) -> \"2^19 * 3^9 * 5^4 * 7^3 * 11^2 * 13 * 17 * 19\"\n",
    "\n",
    "n = 25; decomp(25) -> 2^22 * 3^10 * 5^6 * 7^3 * 11^2 * 13 * 17 * 19 * 23  \n",
    "Prime numbers should be in increasing order. When the exponent of a prime is 1 don't put the exponent.\n",
    "\n",
    "Notes\n",
    "\n",
    "the function is decomp(n) and should return the decomposition of n! into its prime factors in increasing order of the primes, as a string.  \n",
    "factorial can be a very big number (4000! has 12674 digits, n will go from 300 to 4000).  \n",
    "In Fortran - as in any other language - the returned string is not permitted to contain any redundant trailing whitespace: you can use dynamically allocated character strings."
   ]
  },
  {
   "cell_type": "markdown",
   "metadata": {},
   "source": [
    "Some unsuccessful attemps:"
   ]
  },
  {
   "cell_type": "code",
   "execution_count": 3,
   "metadata": {},
   "outputs": [
    {
     "name": "stdout",
     "output_type": "stream",
     "text": [
      "2 {}\n",
      "{2: 1}\n",
      "2 {}\n",
      "3 {2: 1}\n",
      "{2: 1, 3: 1}\n",
      "2 {}\n",
      "3 {2: 1}\n",
      "1.0 {2: 3, 3: 1}\n",
      "{2: 3, 3: 1, 1.0: 1}\n"
     ]
    }
   ],
   "source": [
    "def decomp(n):\n",
    "    if n in (0, 1):\n",
    "        return ''\n",
    "    \n",
    "    prime_factors = {}\n",
    "    for num in range(2, n + 1):\n",
    "        for prime in prime_factors:\n",
    "            while num % prime == 0:\n",
    "                num /= prime\n",
    "                prime_factors[prime] += 1\n",
    "        print(num, prime_factors)\n",
    "        prime_factors[num] = 1\n",
    "    return prime_factors\n",
    "\n",
    "print(decomp(2))\n",
    "print(decomp(3))\n",
    "print(decomp(4))\n",
    "#print(decomp(5))\n",
    "#print(decomp(6))\n",
    "#print(decomp(7))\n",
    "#print(decomp(12))\n",
    "#print(decomp(22))\n",
    "#print(decomp(25))"
   ]
  },
  {
   "cell_type": "code",
   "execution_count": 95,
   "metadata": {},
   "outputs": [
    {
     "ename": "KeyError",
     "evalue": "2",
     "output_type": "error",
     "traceback": [
      "\u001b[1;31m---------------------------------------------------------------------------\u001b[0m",
      "\u001b[1;31mKeyError\u001b[0m                                  Traceback (most recent call last)",
      "\u001b[1;32m<ipython-input-95-8811f830d5b8>\u001b[0m in \u001b[0;36m<module>\u001b[1;34m\u001b[0m\n\u001b[0;32m     23\u001b[0m     \u001b[1;32mreturn\u001b[0m \u001b[0mprime_factors\u001b[0m\u001b[1;33m[\u001b[0m\u001b[1;34m'n!'\u001b[0m\u001b[1;33m]\u001b[0m\u001b[1;33m\u001b[0m\u001b[1;33m\u001b[0m\u001b[0m\n\u001b[0;32m     24\u001b[0m \u001b[1;33m\u001b[0m\u001b[0m\n\u001b[1;32m---> 25\u001b[1;33m \u001b[0mprint\u001b[0m\u001b[1;33m(\u001b[0m\u001b[0mdecomp\u001b[0m\u001b[1;33m(\u001b[0m\u001b[1;36m2\u001b[0m\u001b[1;33m)\u001b[0m\u001b[1;33m)\u001b[0m\u001b[1;33m\u001b[0m\u001b[1;33m\u001b[0m\u001b[0m\n\u001b[0m\u001b[0;32m     26\u001b[0m \u001b[0mprint\u001b[0m\u001b[1;33m(\u001b[0m\u001b[0mdecomp\u001b[0m\u001b[1;33m(\u001b[0m\u001b[1;36m3\u001b[0m\u001b[1;33m)\u001b[0m\u001b[1;33m)\u001b[0m\u001b[1;33m\u001b[0m\u001b[1;33m\u001b[0m\u001b[0m\n\u001b[0;32m     27\u001b[0m \u001b[0mprint\u001b[0m\u001b[1;33m(\u001b[0m\u001b[0mdecomp\u001b[0m\u001b[1;33m(\u001b[0m\u001b[1;36m4\u001b[0m\u001b[1;33m)\u001b[0m\u001b[1;33m)\u001b[0m\u001b[1;33m\u001b[0m\u001b[1;33m\u001b[0m\u001b[0m\n",
      "\u001b[1;32m<ipython-input-95-8811f830d5b8>\u001b[0m in \u001b[0;36mdecomp\u001b[1;34m(n)\u001b[0m\n\u001b[0;32m     19\u001b[0m             \u001b[0mprime_factors\u001b[0m\u001b[1;33m[\u001b[0m\u001b[0mrest\u001b[0m\u001b[1;33m]\u001b[0m \u001b[1;33m=\u001b[0m \u001b[1;33m{\u001b[0m\u001b[0mrest\u001b[0m\u001b[1;33m:\u001b[0m \u001b[1;36m1\u001b[0m\u001b[1;33m}\u001b[0m\u001b[1;33m\u001b[0m\u001b[1;33m\u001b[0m\u001b[0m\n\u001b[0;32m     20\u001b[0m         \u001b[0maddPrimes\u001b[0m\u001b[1;33m(\u001b[0m\u001b[0mprime_factors\u001b[0m\u001b[1;33m[\u001b[0m\u001b[1;34m'n!'\u001b[0m\u001b[1;33m]\u001b[0m\u001b[1;33m,\u001b[0m \u001b[0mprime_factors\u001b[0m\u001b[1;33m[\u001b[0m\u001b[0mrest\u001b[0m\u001b[1;33m]\u001b[0m\u001b[1;33m)\u001b[0m\u001b[1;33m\u001b[0m\u001b[1;33m\u001b[0m\u001b[0m\n\u001b[1;32m---> 21\u001b[1;33m         \u001b[0maddPrimes\u001b[0m\u001b[1;33m(\u001b[0m\u001b[0mprime_factors\u001b[0m\u001b[1;33m[\u001b[0m\u001b[0mnum\u001b[0m\u001b[1;33m]\u001b[0m\u001b[1;33m,\u001b[0m \u001b[0mprime_factors\u001b[0m\u001b[1;33m[\u001b[0m\u001b[0mrest\u001b[0m\u001b[1;33m]\u001b[0m\u001b[1;33m)\u001b[0m\u001b[1;33m\u001b[0m\u001b[1;33m\u001b[0m\u001b[0m\n\u001b[0m\u001b[0;32m     22\u001b[0m \u001b[1;33m\u001b[0m\u001b[0m\n\u001b[0;32m     23\u001b[0m     \u001b[1;32mreturn\u001b[0m \u001b[0mprime_factors\u001b[0m\u001b[1;33m[\u001b[0m\u001b[1;34m'n!'\u001b[0m\u001b[1;33m]\u001b[0m\u001b[1;33m\u001b[0m\u001b[1;33m\u001b[0m\u001b[0m\n",
      "\u001b[1;31mKeyError\u001b[0m: 2"
     ]
    }
   ],
   "source": [
    "def decomp(n):\n",
    "    def addPrimes(dist, source):\n",
    "        for prime in source:\n",
    "            dist[prime] = dist.get(prime, 0) + source[prime]\n",
    "    \n",
    "    if n in (0, 1):\n",
    "        return ''\n",
    "    \n",
    "    prime_factors = {'n!': {}}\n",
    "    rest = 0\n",
    "    for num in range(2, n + 1):\n",
    "        for prime in prime_factors['n!']:\n",
    "            if num % prime == 0:\n",
    "                prime_factors['n!'][prime] += 1\n",
    "                prime_factors[num] = {prime: 1}\n",
    "                rest = num / prime\n",
    "                break\n",
    "        if rest not in prime_factors:\n",
    "            prime_factors[rest] = {rest: 1}\n",
    "        addPrimes(prime_factors['n!'], prime_factors[rest])\n",
    "        prime_factors[num] = prime_factors.get(num, ) prime_factors[rest])\n",
    "\n",
    "    return prime_factors['n!']\n",
    "\n",
    "print(decomp(2))\n",
    "print(decomp(3))\n",
    "print(decomp(4))\n",
    "#print(decomp(5))\n",
    "#print(decomp(6))\n",
    "#print(decomp(7))\n",
    "#print(decomp(12))\n",
    "#print(decomp(22))\n",
    "#print(decomp(25))"
   ]
  },
  {
   "cell_type": "code",
   "execution_count": 96,
   "metadata": {},
   "outputs": [
    {
     "name": "stdout",
     "output_type": "stream",
     "text": [
      "[]\n",
      "[2]\n",
      "[3]\n",
      "[2, 2]\n",
      "[5]\n",
      "[2, 3]\n",
      "[7]\n",
      "[2, 2, 2]\n",
      "[3, 3]\n",
      "[2, 5]\n",
      "[11]\n",
      "[2, 2, 3]\n",
      "[13]\n",
      "[2, 7]\n"
     ]
    }
   ],
   "source": [
    "def getPrimeFactors(n):\n",
    "    '''\n",
    "    Находит простые множители числа\n",
    "    '''\n",
    "    result = []\n",
    "    curNum = n\n",
    "    prime = 2\n",
    "    while curNum != 1:\n",
    "        if curNum % prime == 0:\n",
    "            curNum /= prime\n",
    "            result.append(prime)\n",
    "        else:\n",
    "            prime += 1\n",
    "    return result\n",
    "\n",
    "print(getPrimeFactors(1))\n",
    "print(getPrimeFactors(2))\n",
    "print(getPrimeFactors(3))\n",
    "print(getPrimeFactors(4))\n",
    "print(getPrimeFactors(5))\n",
    "print(getPrimeFactors(6))\n",
    "print(getPrimeFactors(7))\n",
    "print(getPrimeFactors(8))\n",
    "print(getPrimeFactors(9))\n",
    "print(getPrimeFactors(10))\n",
    "print(getPrimeFactors(11))\n",
    "print(getPrimeFactors(12))\n",
    "print(getPrimeFactors(13))\n",
    "print(getPrimeFactors(14))"
   ]
  },
  {
   "cell_type": "code",
   "execution_count": null,
   "metadata": {},
   "outputs": [],
   "source": [
    "return ' * '.join(map(lambda item: f'{item[0]}^{item[1]}' if item[1] != 1 else str(item[0]), prime_factors.items()))"
   ]
  },
  {
   "cell_type": "code",
   "execution_count": 12,
   "metadata": {},
   "outputs": [
    {
     "data": {
      "text/plain": [
       "25852016738884976640000"
      ]
     },
     "execution_count": 12,
     "metadata": {},
     "output_type": "execute_result"
    }
   ],
   "source": [
    "prime_facts = {2: 19, 3: 9, 5: 4, 7: 3, 11: 2, 13: 1, 17: 1, 19: 1, 23: 1}\n",
    "res = 1\n",
    "for prime in prime_facts:\n",
    "    res *= prime ** prime_facts[prime]\n",
    "res"
   ]
  },
  {
   "cell_type": "markdown",
   "metadata": {},
   "source": [
    "__My solution:__"
   ]
  },
  {
   "cell_type": "code",
   "execution_count": 21,
   "metadata": {},
   "outputs": [
    {
     "name": "stdout",
     "output_type": "stream",
     "text": [
      "2^22 * 3^10 * 5^6 * 7^3 * 11^2 * 13 * 17 * 19 * 23\n"
     ]
    }
   ],
   "source": [
    "def decomp(n):\n",
    "    def addPrimes(num):\n",
    "        if nums_factors[num] is not None:\n",
    "            for factor in nums_factors[num]:\n",
    "                addPrimes(factor)\n",
    "        else:\n",
    "            prime_factors[num] = prime_factors.get(num, 0) + 1\n",
    "    \n",
    "    if n in (0, 1):\n",
    "        return ''\n",
    "    \n",
    "    prime_factors = {}\n",
    "    nums_factors = [None] * (n + 1)\n",
    "    \n",
    "    for num in range(2, n + 1):\n",
    "        for prime in prime_factors:\n",
    "            if num % prime == 0:\n",
    "                nums_factors[num] = [prime, num // prime]\n",
    "                #print(nums_factors[num])\n",
    "                addPrimes(num)\n",
    "                break\n",
    "        else:\n",
    "            prime_factors[num] = 1\n",
    "        #print('pr:', prime_factors)\n",
    "    \n",
    "    #print(prime_factors.items())\n",
    "    return ' * '.join(map(lambda pr: f'{pr}^{prime_factors[pr]}' if prime_factors[pr] != 1 else str(pr), prime_factors))\n",
    "\n",
    "# print(decomp(2))\n",
    "# print(decomp(3))\n",
    "# print(decomp(4))\n",
    "# print(decomp(5))\n",
    "# print(decomp(6))\n",
    "# print(decomp(7))\n",
    "#print(decomp(12))\n",
    "#print(decomp(22))\n",
    "#print(decomp(23))\n",
    "print(decomp(25))\n",
    "#print(decomp(4000))"
   ]
  },
  {
   "cell_type": "markdown",
   "metadata": {},
   "source": [
    "Plus comments, minus cases for n in (0, 1):"
   ]
  },
  {
   "cell_type": "code",
   "execution_count": null,
   "metadata": {},
   "outputs": [],
   "source": [
    "def decomp(n):\n",
    "    def addPrimes(num):\n",
    "        '''\n",
    "        Adds prime factors of num in prime_factors\n",
    "        '''\n",
    "        if nums_factors[num] is not None:\n",
    "            for factor in nums_factors[num]:\n",
    "                addPrimes(factor)\n",
    "        else:\n",
    "            prime_factors[num] = prime_factors.get(num, 0) + 1\n",
    "    \n",
    "    # Prime factors of number n! and their amounts \n",
    "    prime_factors = {}\n",
    "    \n",
    "    # Factors for numbers from 0 till n:\n",
    "    # if value would left None than number is prime one\n",
    "    nums_factors = [None] * (n + 1)\n",
    "    \n",
    "    for num in range(2, n + 1):\n",
    "        # If num is divisible without remainder by one of the primes numbers\n",
    "        # than it's not prime one, so...\n",
    "        for prime in prime_factors:\n",
    "            if num % prime == 0:\n",
    "                #...save its 2 factors (the 1-st of them is prime number for sure)\n",
    "                nums_factors[num] = [prime, num // prime]\n",
    "                addPrimes(num)\n",
    "                break\n",
    "        else:\n",
    "            # This prime number num is definitely not in prime_factors, so\n",
    "            # add it \n",
    "            prime_factors[num] = 1\n",
    "\n",
    "    return ' * '.join(map(lambda pr: f'{pr}^{prime_factors[pr]}' if prime_factors[pr] != 1 else str(pr), prime_factors))\n",
    "\n",
    "# print(decomp(2))\n",
    "# print(decomp(3))\n",
    "# print(decomp(4))\n",
    "# print(decomp(5))\n",
    "# print(decomp(6))\n",
    "# print(decomp(7))\n",
    "#print(decomp(12))\n",
    "#print(decomp(22))\n",
    "#print(decomp(23))\n",
    "print(decomp(25))\n",
    "#print(decomp(4000))"
   ]
  },
  {
   "cell_type": "markdown",
   "metadata": {},
   "source": [
    "### Grid index\n",
    "https://www.codewars.com/kata/5f5802bf4c2cc4001a6f859e  \n",
    "7 kyu\n",
    "\n",
    "You are given an n by n grid of characters for example:\n",
    "\n",
    "[['m', 'y', 'e'],   \n",
    " ['x', 'a', 'm'],   \n",
    " ['p', 'l', 'e']]\n",
    " \n",
    "You are also given a list of integers as input for example:\n",
    "\n",
    "[1, 3, 5, 8]\n",
    "\n",
    "You have to find the characters in these indexes of the grid if you think of the indexes as:\n",
    "\n",
    "[[1, 2, 3],   \n",
    " [4, 5, 6],   \n",
    " [7, 8, 9]]\n",
    " \n",
    "Remember that the indexes start from one and not zero.\n",
    "\n",
    "Then you output a string like this:\n",
    "\n",
    "'meal'  \n",
    "All inputs will be valid."
   ]
  },
  {
   "cell_type": "markdown",
   "metadata": {},
   "source": [
    "__My solutions:__"
   ]
  },
  {
   "cell_type": "code",
   "execution_count": 6,
   "metadata": {},
   "outputs": [
    {
     "name": "stdout",
     "output_type": "stream",
     "text": [
      "myexample myexample\n",
      "mam mam\n",
      "mepl mepl\n",
      "ooelccddrr ooelccddrr\n"
     ]
    }
   ],
   "source": [
    "def grid_index(grid, indexes):\n",
    "    return ''.join(grid[(ind - 1) // len(grid)][(ind - 1) % len(grid)] for ind in indexes)\n",
    "\n",
    "results1 = grid_index([['m', 'y', 'e'], ['x', 'a', 'm'], ['p', 'l', 'e']], [1, 2, 3, 4, 5, 6, 7, 8, 9])\n",
    "print(results1, 'myexample')\n",
    "results2 = grid_index([['m', 'y', 'e'], ['x', 'a', 'm'], ['p', 'l', 'e']], [1, 5, 6])\n",
    "print(results2, 'mam')\n",
    "results3 = grid_index([['m', 'y', 'e'], ['x', 'a', 'm'], ['p', 'l', 'e']], [1, 3, 7, 8])\n",
    "print(results3, 'mepl')\n",
    "results4 = grid_index([['h', 'e', 'l', 'l'], ['o', 'c', 'o', 'd'], ['e', 'w', 'a', 'r'], ['r', 'i', 'o', 'r']], [5, 7, 9, 3, 6, 6, 8, 8, 16, 13])\n",
    "print(results4, 'ooelccddrr')"
   ]
  },
  {
   "cell_type": "code",
   "execution_count": 7,
   "metadata": {},
   "outputs": [
    {
     "data": {
      "text/plain": [
       "0"
      ]
     },
     "execution_count": 7,
     "metadata": {},
     "output_type": "execute_result"
    }
   ],
   "source": [
    "0 % 3"
   ]
  },
  {
   "cell_type": "markdown",
   "metadata": {},
   "source": [
    "__Other users' solutions:__"
   ]
  },
  {
   "cell_type": "markdown",
   "metadata": {},
   "source": [
    "__#1__"
   ]
  },
  {
   "cell_type": "code",
   "execution_count": null,
   "metadata": {},
   "outputs": [],
   "source": [
    "from itertools import chain\n",
    "\n",
    "def grid_index(grid, indexes):\n",
    "    flat = list(chain(*grid))\n",
    "    return \"\".join( flat[i-1] for i in indexes )"
   ]
  },
  {
   "cell_type": "markdown",
   "metadata": {},
   "source": [
    "__#2__"
   ]
  },
  {
   "cell_type": "code",
   "execution_count": null,
   "metadata": {},
   "outputs": [],
   "source": [
    "from itertools import chain\n",
    "\n",
    "def grid_index(grid, indexes):\n",
    "    linear = list(chain.from_iterable(grid))\n",
    "    return ''.join(linear[q - 1] for q in indexes)"
   ]
  },
  {
   "cell_type": "code",
   "execution_count": 12,
   "metadata": {},
   "outputs": [
    {
     "name": "stdout",
     "output_type": "stream",
     "text": [
      "['m', 'y', 'e', 'x', 'a', 'm', 'p', 'l', 'e']\n",
      "myexample myexample\n",
      "['m', 'y', 'e', 'x', 'a', 'm', 'p', 'l', 'e']\n",
      "mam mam\n",
      "['m', 'y', 'e', 'x', 'a', 'm', 'p', 'l', 'e']\n",
      "mepl mepl\n",
      "['h', 'e', 'l', 'l', 'o', 'c', 'o', 'd', 'e', 'w', 'a', 'r', 'r', 'i', 'o', 'r']\n",
      "ooelccddrr ooelccddrr\n"
     ]
    }
   ],
   "source": [
    "def grid_index(grid, indexes):\n",
    "    g = [e for r in grid for e in r]\n",
    "    print(g)\n",
    "    return \"\".join(g[i-1] for i in indexes)\n",
    "\n",
    "results1 = grid_index([['m', 'y', 'e'], ['x', 'a', 'm'], ['p', 'l', 'e']], [1, 2, 3, 4, 5, 6, 7, 8, 9])\n",
    "print(results1, 'myexample')\n",
    "results2 = grid_index([['m', 'y', 'e'], ['x', 'a', 'm'], ['p', 'l', 'e']], [1, 5, 6])\n",
    "print(results2, 'mam')\n",
    "results3 = grid_index([['m', 'y', 'e'], ['x', 'a', 'm'], ['p', 'l', 'e']], [1, 3, 7, 8])\n",
    "print(results3, 'mepl')\n",
    "results4 = grid_index([['h', 'e', 'l', 'l'], ['o', 'c', 'o', 'd'], ['e', 'w', 'a', 'r'], ['r', 'i', 'o', 'r']], [5, 7, 9, 3, 6, 6, 8, 8, 16, 13])\n",
    "print(results4, 'ooelccddrr')"
   ]
  },
  {
   "cell_type": "code",
   "execution_count": 13,
   "metadata": {},
   "outputs": [
    {
     "ename": "NameError",
     "evalue": "name 'r' is not defined",
     "output_type": "error",
     "traceback": [
      "\u001b[1;31m---------------------------------------------------------------------------\u001b[0m",
      "\u001b[1;31mNameError\u001b[0m                                 Traceback (most recent call last)",
      "\u001b[1;32m<ipython-input-13-8a14359200d7>\u001b[0m in \u001b[0;36m<module>\u001b[1;34m\u001b[0m\n\u001b[0;32m      4\u001b[0m     \u001b[1;32mreturn\u001b[0m \u001b[1;34m\"\"\u001b[0m\u001b[1;33m.\u001b[0m\u001b[0mjoin\u001b[0m\u001b[1;33m(\u001b[0m\u001b[0mg\u001b[0m\u001b[1;33m[\u001b[0m\u001b[0mi\u001b[0m\u001b[1;33m-\u001b[0m\u001b[1;36m1\u001b[0m\u001b[1;33m]\u001b[0m \u001b[1;32mfor\u001b[0m \u001b[0mi\u001b[0m \u001b[1;32min\u001b[0m \u001b[0mindexes\u001b[0m\u001b[1;33m)\u001b[0m\u001b[1;33m\u001b[0m\u001b[1;33m\u001b[0m\u001b[0m\n\u001b[0;32m      5\u001b[0m \u001b[1;33m\u001b[0m\u001b[0m\n\u001b[1;32m----> 6\u001b[1;33m \u001b[0mresults1\u001b[0m \u001b[1;33m=\u001b[0m \u001b[0mgrid_index\u001b[0m\u001b[1;33m(\u001b[0m\u001b[1;33m[\u001b[0m\u001b[1;33m[\u001b[0m\u001b[1;34m'm'\u001b[0m\u001b[1;33m,\u001b[0m \u001b[1;34m'y'\u001b[0m\u001b[1;33m,\u001b[0m \u001b[1;34m'e'\u001b[0m\u001b[1;33m]\u001b[0m\u001b[1;33m,\u001b[0m \u001b[1;33m[\u001b[0m\u001b[1;34m'x'\u001b[0m\u001b[1;33m,\u001b[0m \u001b[1;34m'a'\u001b[0m\u001b[1;33m,\u001b[0m \u001b[1;34m'm'\u001b[0m\u001b[1;33m]\u001b[0m\u001b[1;33m,\u001b[0m \u001b[1;33m[\u001b[0m\u001b[1;34m'p'\u001b[0m\u001b[1;33m,\u001b[0m \u001b[1;34m'l'\u001b[0m\u001b[1;33m,\u001b[0m \u001b[1;34m'e'\u001b[0m\u001b[1;33m]\u001b[0m\u001b[1;33m]\u001b[0m\u001b[1;33m,\u001b[0m \u001b[1;33m[\u001b[0m\u001b[1;36m1\u001b[0m\u001b[1;33m,\u001b[0m \u001b[1;36m2\u001b[0m\u001b[1;33m,\u001b[0m \u001b[1;36m3\u001b[0m\u001b[1;33m,\u001b[0m \u001b[1;36m4\u001b[0m\u001b[1;33m,\u001b[0m \u001b[1;36m5\u001b[0m\u001b[1;33m,\u001b[0m \u001b[1;36m6\u001b[0m\u001b[1;33m,\u001b[0m \u001b[1;36m7\u001b[0m\u001b[1;33m,\u001b[0m \u001b[1;36m8\u001b[0m\u001b[1;33m,\u001b[0m \u001b[1;36m9\u001b[0m\u001b[1;33m]\u001b[0m\u001b[1;33m)\u001b[0m\u001b[1;33m\u001b[0m\u001b[1;33m\u001b[0m\u001b[0m\n\u001b[0m\u001b[0;32m      7\u001b[0m \u001b[0mprint\u001b[0m\u001b[1;33m(\u001b[0m\u001b[0mresults1\u001b[0m\u001b[1;33m,\u001b[0m \u001b[1;34m'myexample'\u001b[0m\u001b[1;33m)\u001b[0m\u001b[1;33m\u001b[0m\u001b[1;33m\u001b[0m\u001b[0m\n\u001b[0;32m      8\u001b[0m \u001b[0mresults2\u001b[0m \u001b[1;33m=\u001b[0m \u001b[0mgrid_index\u001b[0m\u001b[1;33m(\u001b[0m\u001b[1;33m[\u001b[0m\u001b[1;33m[\u001b[0m\u001b[1;34m'm'\u001b[0m\u001b[1;33m,\u001b[0m \u001b[1;34m'y'\u001b[0m\u001b[1;33m,\u001b[0m \u001b[1;34m'e'\u001b[0m\u001b[1;33m]\u001b[0m\u001b[1;33m,\u001b[0m \u001b[1;33m[\u001b[0m\u001b[1;34m'x'\u001b[0m\u001b[1;33m,\u001b[0m \u001b[1;34m'a'\u001b[0m\u001b[1;33m,\u001b[0m \u001b[1;34m'm'\u001b[0m\u001b[1;33m]\u001b[0m\u001b[1;33m,\u001b[0m \u001b[1;33m[\u001b[0m\u001b[1;34m'p'\u001b[0m\u001b[1;33m,\u001b[0m \u001b[1;34m'l'\u001b[0m\u001b[1;33m,\u001b[0m \u001b[1;34m'e'\u001b[0m\u001b[1;33m]\u001b[0m\u001b[1;33m]\u001b[0m\u001b[1;33m,\u001b[0m \u001b[1;33m[\u001b[0m\u001b[1;36m1\u001b[0m\u001b[1;33m,\u001b[0m \u001b[1;36m5\u001b[0m\u001b[1;33m,\u001b[0m \u001b[1;36m6\u001b[0m\u001b[1;33m]\u001b[0m\u001b[1;33m)\u001b[0m\u001b[1;33m\u001b[0m\u001b[1;33m\u001b[0m\u001b[0m\n",
      "\u001b[1;32m<ipython-input-13-8a14359200d7>\u001b[0m in \u001b[0;36mgrid_index\u001b[1;34m(grid, indexes)\u001b[0m\n\u001b[0;32m      1\u001b[0m \u001b[1;32mdef\u001b[0m \u001b[0mgrid_index\u001b[0m\u001b[1;33m(\u001b[0m\u001b[0mgrid\u001b[0m\u001b[1;33m,\u001b[0m \u001b[0mindexes\u001b[0m\u001b[1;33m)\u001b[0m\u001b[1;33m:\u001b[0m\u001b[1;33m\u001b[0m\u001b[1;33m\u001b[0m\u001b[0m\n\u001b[1;32m----> 2\u001b[1;33m     \u001b[0mg\u001b[0m \u001b[1;33m=\u001b[0m \u001b[1;33m[\u001b[0m\u001b[0me\u001b[0m \u001b[1;32mfor\u001b[0m \u001b[0me\u001b[0m \u001b[1;32min\u001b[0m \u001b[0mr\u001b[0m \u001b[1;32mfor\u001b[0m \u001b[0mr\u001b[0m \u001b[1;32min\u001b[0m \u001b[0mgrid\u001b[0m\u001b[1;33m]\u001b[0m\u001b[1;33m\u001b[0m\u001b[1;33m\u001b[0m\u001b[0m\n\u001b[0m\u001b[0;32m      3\u001b[0m     \u001b[0mprint\u001b[0m\u001b[1;33m(\u001b[0m\u001b[0mg\u001b[0m\u001b[1;33m)\u001b[0m\u001b[1;33m\u001b[0m\u001b[1;33m\u001b[0m\u001b[0m\n\u001b[0;32m      4\u001b[0m     \u001b[1;32mreturn\u001b[0m \u001b[1;34m\"\"\u001b[0m\u001b[1;33m.\u001b[0m\u001b[0mjoin\u001b[0m\u001b[1;33m(\u001b[0m\u001b[0mg\u001b[0m\u001b[1;33m[\u001b[0m\u001b[0mi\u001b[0m\u001b[1;33m-\u001b[0m\u001b[1;36m1\u001b[0m\u001b[1;33m]\u001b[0m \u001b[1;32mfor\u001b[0m \u001b[0mi\u001b[0m \u001b[1;32min\u001b[0m \u001b[0mindexes\u001b[0m\u001b[1;33m)\u001b[0m\u001b[1;33m\u001b[0m\u001b[1;33m\u001b[0m\u001b[0m\n\u001b[0;32m      5\u001b[0m \u001b[1;33m\u001b[0m\u001b[0m\n",
      "\u001b[1;31mNameError\u001b[0m: name 'r' is not defined"
     ]
    }
   ],
   "source": [
    "def grid_index(grid, indexes):\n",
    "    g = [e for e in r for r in grid]\n",
    "    print(g)\n",
    "    return \"\".join(g[i-1] for i in indexes)\n",
    "\n",
    "results1 = grid_index([['m', 'y', 'e'], ['x', 'a', 'm'], ['p', 'l', 'e']], [1, 2, 3, 4, 5, 6, 7, 8, 9])\n",
    "print(results1, 'myexample')\n",
    "results2 = grid_index([['m', 'y', 'e'], ['x', 'a', 'm'], ['p', 'l', 'e']], [1, 5, 6])\n",
    "print(results2, 'mam')\n",
    "results3 = grid_index([['m', 'y', 'e'], ['x', 'a', 'm'], ['p', 'l', 'e']], [1, 3, 7, 8])\n",
    "print(results3, 'mepl')\n",
    "results4 = grid_index([['h', 'e', 'l', 'l'], ['o', 'c', 'o', 'd'], ['e', 'w', 'a', 'r'], ['r', 'i', 'o', 'r']], [5, 7, 9, 3, 6, 6, 8, 8, 16, 13])\n",
    "print(results4, 'ooelccddrr')"
   ]
  },
  {
   "cell_type": "code",
   "execution_count": 16,
   "metadata": {},
   "outputs": [
    {
     "ename": "SyntaxError",
     "evalue": "invalid syntax (<ipython-input-16-7264dad446a5>, line 2)",
     "output_type": "error",
     "traceback": [
      "\u001b[1;36m  File \u001b[1;32m\"<ipython-input-16-7264dad446a5>\"\u001b[1;36m, line \u001b[1;32m2\u001b[0m\n\u001b[1;33m    [r[0] for r in grid]\u001b[0m\n\u001b[1;37m            ^\u001b[0m\n\u001b[1;31mSyntaxError\u001b[0m\u001b[1;31m:\u001b[0m invalid syntax\n"
     ]
    }
   ],
   "source": [
    "grid = [['m', 'y', 'e'], ['x', 'a', 'm'], ['p', 'l', 'e']\n",
    "[r[0] for r in grid]"
   ]
  },
  {
   "cell_type": "markdown",
   "metadata": {},
   "source": [
    "20200924"
   ]
  },
  {
   "cell_type": "markdown",
   "metadata": {},
   "source": [
    "### Beginner Series #3 Sum of Numbers\n",
    "https://www.codewars.com/kata/55f2b110f61eb01779000053  \n",
    "7 kyu\n",
    "\n",
    "Given two integers a and b, which can be positive or negative, find the sum of all the numbers between including them too and return it. If the two numbers are equal return a or b.\n",
    "\n",
    "Note: a and b are not ordered!\n",
    "\n",
    "Examples\n",
    "get_sum(1, 0) == 1   // 1 + 0 = 1  \n",
    "get_sum(1, 2) == 3   // 1 + 2 = 3  \n",
    "get_sum(0, 1) == 1   // 0 + 1 = 1  \n",
    "get_sum(1, 1) == 1   // 1 Since both are same  \n",
    "get_sum(-1, 0) == -1 // -1 + 0 = -1  \n",
    "get_sum(-1, 2) == 2  // -1 + 0 + 1 + 2 = 2  "
   ]
  },
  {
   "cell_type": "markdown",
   "metadata": {},
   "source": [
    "__My solutions:__"
   ]
  },
  {
   "cell_type": "markdown",
   "metadata": {},
   "source": [
    "__#1__"
   ]
  },
  {
   "cell_type": "code",
   "execution_count": 17,
   "metadata": {},
   "outputs": [
    {
     "name": "stdout",
     "output_type": "stream",
     "text": [
      "1 1\n",
      "-1 -1\n"
     ]
    }
   ],
   "source": [
    "def get_sum(a,b):\n",
    "    return sum(range(min(a, b), max(a, b) + 1))\n",
    "    \n",
    "print(get_sum(0,1),1)\n",
    "print(get_sum(0,-1),-1)"
   ]
  },
  {
   "cell_type": "markdown",
   "metadata": {},
   "source": [
    "__#2__"
   ]
  },
  {
   "cell_type": "code",
   "execution_count": 18,
   "metadata": {},
   "outputs": [
    {
     "name": "stdout",
     "output_type": "stream",
     "text": [
      "1 1\n",
      "-1 -1\n"
     ]
    }
   ],
   "source": [
    "def get_sum(a,b):\n",
    "    return sum(range(a, b + 1)) if a < b else sum(range(b, a + 1))\n",
    "    \n",
    "print(get_sum(0,1),1)\n",
    "print(get_sum(0,-1),-1)"
   ]
  },
  {
   "cell_type": "markdown",
   "metadata": {},
   "source": [
    "__Other users' solutions:__"
   ]
  },
  {
   "cell_type": "code",
   "execution_count": 21,
   "metadata": {},
   "outputs": [
    {
     "name": "stdout",
     "output_type": "stream",
     "text": [
      "1 1\n",
      "-1 -1\n"
     ]
    }
   ],
   "source": [
    "def get_sum(a,b):\n",
    "    return (a + b) * (abs(b - a) + 1) // 2\n",
    "    \n",
    "print(get_sum(0,1),1)\n",
    "print(get_sum(0,-1),-1)"
   ]
  },
  {
   "cell_type": "markdown",
   "metadata": {},
   "source": [
    "### Basic Mathematical Operations\n",
    "https://www.codewars.com/kata/57356c55867b9b7a60000bd7  \n",
    "8 kyu\n",
    "\n",
    "Your task is to create a function that does four basic mathematical operations.\n",
    "\n",
    "The function should take three arguments - operation(string/char), value1(number), value2(number).\n",
    "The function should return result of numbers after applying the chosen operation.\n",
    "\n",
    "Examples  \n",
    "basic_op('+', 4, 7)         # Output: 11  \n",
    "basic_op('-', 15, 18)       # Output: -3  \n",
    "basic_op('*', 5, 5)         # Output: 25  \n",
    "basic_op('/', 49, 7)        # Output: 7"
   ]
  },
  {
   "cell_type": "markdown",
   "metadata": {},
   "source": [
    "__My solutions:__"
   ]
  },
  {
   "cell_type": "code",
   "execution_count": 23,
   "metadata": {},
   "outputs": [
    {
     "name": "stdout",
     "output_type": "stream",
     "text": [
      "11 11\n",
      "-3 -3\n",
      "25 25\n",
      "7.0 7\n"
     ]
    }
   ],
   "source": [
    "def basic_op(operator, value1, value2):\n",
    "    return eval(f'{value1} {operator} {value2}')\n",
    "\n",
    "print(basic_op('+', 4, 7), 11)\n",
    "print(basic_op('-', 15, 18), -3)\n",
    "print(basic_op('*', 5, 5), 25)\n",
    "print(basic_op('/', 49, 7), 7)"
   ]
  },
  {
   "cell_type": "markdown",
   "metadata": {},
   "source": [
    "20200925"
   ]
  },
  {
   "cell_type": "markdown",
   "metadata": {},
   "source": [
    "### Dubstep\n",
    "https://www.codewars.com/kata/551dc350bf4e526099000ae5  \n",
    "6 kyu\n",
    "\n",
    "Polycarpus works as a DJ in the best Berland nightclub, and he often uses dubstep music in his performance. Recently, he has decided to take a couple of old songs and make dubstep remixes from them.\n",
    "\n",
    "Let's assume that a song consists of some number of words (that don't contain WUB). To make the dubstep remix of this song, Polycarpus inserts a certain number of words \"WUB\" before the first word of the song (the number may be zero), after the last word (the number may be zero), and between words (at least one between any pair of neighbouring words), and then the boy glues together all the words, including \"WUB\", in one string and plays the song at the club.\n",
    "\n",
    "For example, a song with words \"I AM X\" can transform into a dubstep remix as \"WUBWUBIWUBAMWUBWUBX\" and cannot transform into \"WUBWUBIAMWUBX\".\n",
    "\n",
    "Recently, Jonny has heard Polycarpus's new dubstep track, but since he isn't into modern music, he decided to find out what was the initial song that Polycarpus remixed. Help Jonny restore the original song.\n",
    "\n",
    "Input  \n",
    "The input consists of a single non-empty string, consisting only of uppercase English letters, the string's length doesn't exceed 200 characters\n",
    "\n",
    "Output  \n",
    "Return the words of the initial song that Polycarpus used to make a dubsteb remix. Separate the words with a space.\n",
    "\n",
    "Examples  \n",
    "song_decoder(\"WUBWEWUBAREWUBWUBTHEWUBCHAMPIONSWUBMYWUBFRIENDWUB\")\n",
    "     #=>  WE ARE THE CHAMPIONS MY FRIEND"
   ]
  },
  {
   "cell_type": "markdown",
   "metadata": {},
   "source": [
    "__My solutions:__"
   ]
  },
  {
   "cell_type": "markdown",
   "metadata": {},
   "source": [
    "__#1__"
   ]
  },
  {
   "cell_type": "code",
   "execution_count": 24,
   "metadata": {},
   "outputs": [
    {
     "name": "stdout",
     "output_type": "stream",
     "text": [
      "A B C A B C WUB should be replaced by 1 space\n",
      "A B C A B C multiples WUB should be replaced by only 1 space\n",
      "A B C A B C heading or trailing spaces should be removed\n"
     ]
    }
   ],
   "source": [
    "def song_decoder(song):\n",
    "    return ' '.join(word for word in song.split('WUB') if word)\n",
    "\n",
    "print(song_decoder(\"AWUBBWUBC\"), \"A B C\",\"WUB should be replaced by 1 space\")\n",
    "print(song_decoder(\"AWUBWUBWUBBWUBWUBWUBC\"), \"A B C\",\"multiples WUB should be replaced by only 1 space\")\n",
    "print(song_decoder(\"WUBAWUBBWUBCWUB\"), \"A B C\",\"heading or trailing spaces should be removed\")"
   ]
  },
  {
   "cell_type": "markdown",
   "metadata": {},
   "source": [
    "__#2__ С другими шаблонами ((WUB)+ - re.split() по особому работает, когда есть круглые скобки (If capturing parentheses are used in pattern, then the text of all groups in the pattern are also returned as part of the resulting list.), WUB+ - здесь же + относится только к B) не получилось. Этот результат тоже не очень: хотелось. чотбы не было пустых строк в результате работа re.split."
   ]
  },
  {
   "cell_type": "code",
   "execution_count": 45,
   "metadata": {},
   "outputs": [
    {
     "name": "stdout",
     "output_type": "stream",
     "text": [
      "['A', 'WUB', 'B', 'WUB', 'C']\n",
      "A B C A B C WUB should be replaced by 1 space\n",
      "['A', 'WUB', 'B', 'WUB', 'C']\n",
      "A B C A B C multiples WUB should be replaced by only 1 space\n",
      "['', 'WUB', 'A', 'WUB', 'B', 'WUB', 'C', 'WUB', '']\n",
      "A B C A B C heading or trailing spaces should be removed\n"
     ]
    }
   ],
   "source": [
    "import re\n",
    "\n",
    "def song_decoder(song):\n",
    "    print(re.split(r'(WUB)+', song))\n",
    "    return ' '.join(word for word in re.split(r'WUB', song) if word)\n",
    "\n",
    "print(song_decoder(\"AWUBBWUBC\"), \"A B C\",\"WUB should be replaced by 1 space\")\n",
    "print(song_decoder(\"AWUBWUBWUBBWUBWUBWUBC\"), \"A B C\",\"multiples WUB should be replaced by only 1 space\")\n",
    "print(song_decoder(\"WUBAWUBBWUBCWUB\"), \"A B C\",\"heading or trailing spaces should be removed\")"
   ]
  },
  {
   "cell_type": "markdown",
   "metadata": {},
   "source": [
    "__Other users' solutions:__"
   ]
  },
  {
   "cell_type": "markdown",
   "metadata": {},
   "source": [
    "__#1__ It's clever to use re.sub() instead of re.split()"
   ]
  },
  {
   "cell_type": "code",
   "execution_count": 44,
   "metadata": {
    "scrolled": true
   },
   "outputs": [
    {
     "name": "stdout",
     "output_type": "stream",
     "text": [
      "A B C\n",
      "A B C A B C WUB should be replaced by 1 space\n",
      "A B C\n",
      "A B C A B C multiples WUB should be replaced by only 1 space\n",
      " A B C \n",
      "A B C A B C heading or trailing spaces should be removed\n"
     ]
    }
   ],
   "source": [
    "def song_decoder(song):\n",
    "    import re\n",
    "    print(re.sub('(WUB)+', ' ', song))\n",
    "    return re.sub('(WUB)+', ' ', song).strip()\n",
    "\n",
    "print(song_decoder(\"AWUBBWUBC\"), \"A B C\",\"WUB should be replaced by 1 space\")\n",
    "print(song_decoder(\"AWUBWUBWUBBWUBWUBWUBC\"), \"A B C\",\"multiples WUB should be replaced by only 1 space\")\n",
    "print(song_decoder(\"WUBAWUBBWUBCWUB\"), \"A B C\",\"heading or trailing spaces should be removed\")"
   ]
  },
  {
   "cell_type": "markdown",
   "metadata": {},
   "source": [
    "__#2__ Brilliant!!!"
   ]
  },
  {
   "cell_type": "code",
   "execution_count": null,
   "metadata": {},
   "outputs": [],
   "source": [
    "def song_decoder(song):\n",
    "    return \" \".join(song.replace('WUB', ' ').split())"
   ]
  },
  {
   "cell_type": "markdown",
   "metadata": {},
   "source": [
    "### Is n divisible by x and y?\n",
    "https://www.codewars.com/kata/5545f109004975ea66000086  \n",
    "8 kyu\n",
    "\n",
    "Create a function that checks if a number n is divisible by two numbers x AND y. All inputs are positive, non-zero digits.\n",
    "\n",
    "Examples:  \n",
    "1) n =   3, x = 1, y = 3 =>  true because   3 is divisible by 1 and 3  \n",
    "2) n =  12, x = 2, y = 6 =>  true because  12 is divisible by 2 and 6  \n",
    "3) n = 100, x = 5, y = 3 => false because 100 is not divisible by 3  \n",
    "4) n =  12, x = 7, y = 5 => false because  12 is neither divisible by 7 nor 5\n"
   ]
  },
  {
   "cell_type": "markdown",
   "metadata": {},
   "source": [
    "__My solution:__"
   ]
  },
  {
   "cell_type": "code",
   "execution_count": null,
   "metadata": {},
   "outputs": [],
   "source": [
    "def is_divisible(n,x,y):\n",
    "    return n % x == 0 and n % y == 0"
   ]
  },
  {
   "cell_type": "markdown",
   "metadata": {},
   "source": [
    "20200926"
   ]
  },
  {
   "cell_type": "markdown",
   "metadata": {},
   "source": [
    "### String repeat\n",
    "https://www.codewars.com/kata/57a0e5c372292dd76d000d7e  \n",
    "8 kyu\n",
    "\n",
    "Output  \n",
    "Write a function called repeat_str which repeats the given string src exactly count times.\n",
    "\n",
    "repeatStr(6, \"I\") // \"IIIIII\"  \n",
    "repeatStr(5, \"Hello\") // \"HelloHelloHelloHelloHello\""
   ]
  },
  {
   "cell_type": "markdown",
   "metadata": {},
   "source": [
    "__My solution:__"
   ]
  },
  {
   "cell_type": "code",
   "execution_count": 82,
   "metadata": {},
   "outputs": [
    {
     "name": "stdout",
     "output_type": "stream",
     "text": [
      "aaaa aaaa\n",
      "hello hello hello  hello hello hello \n",
      "abcabc abcabc\n"
     ]
    }
   ],
   "source": [
    "def repeat_str(repeat, string):\n",
    "    return string * repeat\n",
    "\n",
    "print(repeat_str(4, 'a'), 'aaaa')\n",
    "print(repeat_str(3, 'hello '), 'hello hello hello ')\n",
    "print(repeat_str(2, 'abc'), 'abcabc')"
   ]
  },
  {
   "cell_type": "markdown",
   "metadata": {},
   "source": [
    "### Sort the odd\n",
    "https://www.codewars.com/kata/578aa45ee9fd15ff4600090d  \n",
    "6 kyu\n",
    "\n",
    "Output\n",
    "You have an array of numbers.\n",
    "Your task is to sort ascending odd numbers but even numbers must be on their places.\n",
    "\n",
    "Zero isn't an odd number and you don't need to move it. If you have an empty array, you need to return it.\n",
    "\n",
    "Example\n",
    "\n",
    "sort_array([5, 3, 2, 8, 1, 4]) == [1, 3, 2, 8, 5, 4]"
   ]
  },
  {
   "cell_type": "markdown",
   "metadata": {},
   "source": [
    "__My solutions:__"
   ]
  },
  {
   "cell_type": "markdown",
   "metadata": {},
   "source": [
    "__#1__"
   ]
  },
  {
   "cell_type": "code",
   "execution_count": 92,
   "metadata": {},
   "outputs": [
    {
     "name": "stdout",
     "output_type": "stream",
     "text": [
      "[1, 3, 2, 8, 5, 4] [1, 3, 2, 8, 5, 4]\n",
      "[1, 3, 5, 8, 0] [1, 3, 5, 8, 0]\n",
      "[] []\n"
     ]
    }
   ],
   "source": [
    "def sort_array(source_array):\n",
    "    # Sort result: even numbers're in the end, cause they're marked as inf\n",
    "    sorted_array = sorted(source_array, key=lambda a: a if a % 2 else float('inf'))\n",
    "    \n",
    "    # Find even numbers' indices in source_array and insert even ones in the sorted_array\n",
    "    for i, a in enumerate(source_array):\n",
    "        if a % 2 == 0:\n",
    "            sorted_array.insert(i, a)\n",
    "            \n",
    "    # Take only len(source_array) elements\n",
    "    # NB! There's a new array in the result, source_array's not been changed\n",
    "    return sorted_array[:len(source_array)]\n",
    "\n",
    "print(sort_array([5, 3, 2, 8, 1, 4]), [1, 3, 2, 8, 5, 4])\n",
    "print(sort_array([5, 3, 1, 8, 0]), [1, 3, 5, 8, 0])\n",
    "print(sort_array([]),[])"
   ]
  },
  {
   "cell_type": "markdown",
   "metadata": {},
   "source": [
    "__#2__"
   ]
  },
  {
   "cell_type": "code",
   "execution_count": 91,
   "metadata": {},
   "outputs": [
    {
     "name": "stdout",
     "output_type": "stream",
     "text": [
      "[1, 3, 2, 8, 5, 4] [1, 3, 2, 8, 5, 4]\n",
      "[1, 3, 5, 8, 0] [1, 3, 5, 8, 0]\n",
      "[] []\n"
     ]
    }
   ],
   "source": [
    "def sort_array(source_array):\n",
    "    # Get iterator to sorted even numbers\n",
    "    it = iter(sorted(a for a in source_array if a % 2))\n",
    "    \n",
    "    # Get even numbers' indices from source_array\n",
    "    sorted_inds = (i for i, a in enumerate(source_array) if a % 2)\n",
    "    \n",
    "    # Replace even numbers in source_array with sorted\n",
    "    for i in sorted_inds:\n",
    "        source_array[i] = next(it)\n",
    "        \n",
    "    # NB! Source_array's been changed\n",
    "    return source_array\n",
    "\n",
    "print(sort_array([5, 3, 2, 8, 1, 4]), [1, 3, 2, 8, 5, 4])\n",
    "print(sort_array([5, 3, 1, 8, 0]), [1, 3, 5, 8, 0])\n",
    "print(sort_array([]),[])"
   ]
  },
  {
   "cell_type": "markdown",
   "metadata": {},
   "source": [
    "20200927"
   ]
  },
  {
   "cell_type": "markdown",
   "metadata": {},
   "source": [
    "### Century From Year\n",
    "https://www.codewars.com/kata/5a3fe3dde1ce0e8ed6000097  \n",
    "8 kyu\n",
    "\n",
    "Introduction  \n",
    "The first century spans from the year 1 up to and including the year 100, The second - from the year 101 up to and including the year 200, etc.\n",
    "\n",
    "Task    \n",
    "Given a year, return the century it is in.\n",
    "\n",
    "Input , Output Examples:  \n",
    "centuryFromYear(1705)  returns (18)  \n",
    "centuryFromYear(1900)  returns (19)  \n",
    "centuryFromYear(1601)  returns (17)  \n",
    "centuryFromYear(2000)  returns (20)  "
   ]
  },
  {
   "cell_type": "markdown",
   "metadata": {},
   "source": [
    "__My solution:__"
   ]
  },
  {
   "cell_type": "code",
   "execution_count": 22,
   "metadata": {},
   "outputs": [
    {
     "name": "stdout",
     "output_type": "stream",
     "text": [
      "18 18 Testing for year 1705\n",
      "19 19 Testing for year 1900\n",
      "17 17 Testing for year 1601\n",
      "20 20 Testing for year 2000\n",
      "4 4 Testing for year 356\n",
      "1 1 Testing for year 89\n"
     ]
    }
   ],
   "source": [
    "def century(year):\n",
    "    return year // 100 + 1 if year % 100 else year // 100\n",
    "\n",
    "print(century(1705), 18, 'Testing for year 1705')\n",
    "print(century(1900), 19, 'Testing for year 1900')\n",
    "print(century(1601), 17, 'Testing for year 1601')\n",
    "print(century(2000), 20, 'Testing for year 2000')\n",
    "print(century(356), 4, 'Testing for year 356')\n",
    "print(century(89), 1, 'Testing for year 89')"
   ]
  },
  {
   "cell_type": "markdown",
   "metadata": {},
   "source": [
    "__Other users' solutions:__"
   ]
  },
  {
   "cell_type": "markdown",
   "metadata": {},
   "source": [
    "__#1__"
   ]
  },
  {
   "cell_type": "code",
   "execution_count": 23,
   "metadata": {},
   "outputs": [
    {
     "name": "stdout",
     "output_type": "stream",
     "text": [
      "18 18 Testing for year 1705\n",
      "19 19 Testing for year 1900\n",
      "17 17 Testing for year 1601\n",
      "20 20 Testing for year 2000\n",
      "4 4 Testing for year 356\n",
      "1 1 Testing for year 89\n"
     ]
    }
   ],
   "source": [
    "def century(year):\n",
    "    return (year + 99) // 100\n",
    "\n",
    "print(century(1705), 18, 'Testing for year 1705')\n",
    "print(century(1900), 19, 'Testing for year 1900')\n",
    "print(century(1601), 17, 'Testing for year 1601')\n",
    "print(century(2000), 20, 'Testing for year 2000')\n",
    "print(century(356), 4, 'Testing for year 356')\n",
    "print(century(89), 1, 'Testing for year 89')"
   ]
  },
  {
   "cell_type": "markdown",
   "metadata": {},
   "source": [
    "__#2__"
   ]
  },
  {
   "cell_type": "code",
   "execution_count": 24,
   "metadata": {},
   "outputs": [
    {
     "name": "stdout",
     "output_type": "stream",
     "text": [
      "18 18 Testing for year 1705\n",
      "19 19 Testing for year 1900\n",
      "17 17 Testing for year 1601\n",
      "20 20 Testing for year 2000\n",
      "4 4 Testing for year 356\n",
      "1 1 Testing for year 89\n"
     ]
    }
   ],
   "source": [
    "import math\n",
    "\n",
    "def century(year):\n",
    "    return math.ceil(year / 100)\n",
    "\n",
    "print(century(1705), 18, 'Testing for year 1705')\n",
    "print(century(1900), 19, 'Testing for year 1900')\n",
    "print(century(1601), 17, 'Testing for year 1601')\n",
    "print(century(2000), 20, 'Testing for year 2000')\n",
    "print(century(356), 4, 'Testing for year 356')\n",
    "print(century(89), 1, 'Testing for year 89')"
   ]
  },
  {
   "cell_type": "code",
   "execution_count": 32,
   "metadata": {},
   "outputs": [
    {
     "name": "stdout",
     "output_type": "stream",
     "text": [
      "18 18 Testing for year 1705\n",
      "19 19 Testing for year 1900\n",
      "17 17 Testing for year 1601\n",
      "20 20 Testing for year 2000\n",
      "21 21 Testing for year 2001\n",
      "4 4 Testing for year 356\n",
      "1 1 Testing for year 89\n"
     ]
    }
   ],
   "source": [
    "def century(year):\n",
    "    #print(-year)\n",
    "    #print(-year // 100)\n",
    "    return -(-year//100)\n",
    "\n",
    "print(century(1705), 18, 'Testing for year 1705')\n",
    "print(century(1900), 19, 'Testing for year 1900')\n",
    "print(century(1601), 17, 'Testing for year 1601')\n",
    "print(century(2000), 20, 'Testing for year 2000')\n",
    "print(century(2001), 21, 'Testing for year 2001')\n",
    "print(century(356), 4, 'Testing for year 356')\n",
    "print(century(89), 1, 'Testing for year 89')"
   ]
  },
  {
   "cell_type": "markdown",
   "metadata": {},
   "source": [
    "20200928"
   ]
  },
  {
   "cell_type": "markdown",
   "metadata": {},
   "source": [
    "### Grasshopper - Debug\n",
    "https://www.codewars.com/kata/55cb854deb36f11f130000e1  \n",
    "8 kyu\n",
    "\n",
    "Debug celsius converter  \n",
    "Your friend is traveling abroad to the United States so he wrote a program to convert fahrenheit to celsius. Unfortunately his code has some bugs.\n",
    "\n",
    "Find the errors in the code to get the celsius converter working properly.\n",
    "\n",
    "To convert fahrenheit to celsius:\n",
    "\n",
    "celsius = (fahrenheit - 32) * (5/9)\n",
    "\n",
    "Remember that typically temperatures in the current weather conditions are given in whole numbers. It is possible for temperature sensors to report temperatures with a higher accuracy such as to the nearest tenth. Instrument error though makes this sort of accuracy unreliable for many types of temperature measuring sensors."
   ]
  },
  {
   "cell_type": "code",
   "execution_count": 34,
   "metadata": {},
   "outputs": [
    {
     "name": "stdout",
     "output_type": "stream",
     "text": [
      "10.0 is above freezing temperature 10.0 is above freezing temperature\n",
      "-5.0 is freezing temperature -5.0 is freezing temperature\n"
     ]
    }
   ],
   "source": [
    "def weather_info(temp):\n",
    "    c = convert_to_celsius(temp)\n",
    "    if (c < 0):\n",
    "        return (f'{c} is freezing temperature')\n",
    "    else:\n",
    "        return (f'{c} is above freezing temperature')\n",
    "    \n",
    "def convert_to_celsius(temp):\n",
    "    return (temp - 32) * (5 / 9)\n",
    "\n",
    "print(weather_info(50), '10.0 is above freezing temperature')\n",
    "print(weather_info(23),  '-5.0 is freezing temperature')"
   ]
  },
  {
   "cell_type": "markdown",
   "metadata": {},
   "source": [
    "### Simple Pig Latin\n",
    "https://www.codewars.com/kata/520b9d2ad5c005041100000f  \n",
    "5 kyu\n",
    "\n",
    "Move the first letter of each word to the end of it, then add \"ay\" to the end of the word. Leave punctuation marks untouched.\n",
    "\n",
    "Examples  \n",
    "pig_it('Pig latin is cool') # igPay atinlay siay oolcay  \n",
    "pig_it('Hello world !')     # elloHay orldway !"
   ]
  },
  {
   "cell_type": "markdown",
   "metadata": {},
   "source": [
    "__My solutions:__"
   ]
  },
  {
   "cell_type": "markdown",
   "metadata": {},
   "source": [
    "__#1__"
   ]
  },
  {
   "cell_type": "code",
   "execution_count": 48,
   "metadata": {},
   "outputs": [
    {
     "name": "stdout",
     "output_type": "stream",
     "text": [
      "igPay atinlay siay oolcay igPay atinlay siay oolcay\n",
      "hisTay siay ymay tringsay hisTay siay ymay tringsay\n"
     ]
    }
   ],
   "source": [
    "import re\n",
    "\n",
    "def pig_it(text):\n",
    "    return re.sub(r'(\\w)(\\w*)', r'\\2\\1ay', text)\n",
    "\n",
    "print(pig_it('Pig latin is cool'),'igPay atinlay siay oolcay')\n",
    "print(pig_it('This is my string'),'hisTay siay ymay tringsay')"
   ]
  },
  {
   "cell_type": "markdown",
   "metadata": {},
   "source": [
    "__#2__"
   ]
  },
  {
   "cell_type": "code",
   "execution_count": 52,
   "metadata": {},
   "outputs": [
    {
     "name": "stdout",
     "output_type": "stream",
     "text": [
      "igPay atinlay siay oolcay igPay atinlay siay oolcay\n",
      "hisTay siay ymay tringsay hisTay siay ymay tringsay\n"
     ]
    }
   ],
   "source": [
    "def pig_it(text):\n",
    "    return ' '.join([word, word[1:] + word[0] + 'ay'][word.isalpha()] for word in text.split())\n",
    "\n",
    "print(pig_it('Pig latin is cool'),'igPay atinlay siay oolcay')\n",
    "print(pig_it('This is my string'),'hisTay siay ymay tringsay')"
   ]
  },
  {
   "cell_type": "markdown",
   "metadata": {},
   "source": [
    "A little refactoring:"
   ]
  },
  {
   "cell_type": "code",
   "execution_count": 59,
   "metadata": {},
   "outputs": [
    {
     "name": "stdout",
     "output_type": "stream",
     "text": [
      "igPay atinlay siay oolcay igPay atinlay siay oolcay\n",
      "hisTay siay ymay tringsay hisTay siay ymay tringsay\n"
     ]
    }
   ],
   "source": [
    "def pig_it(text):\n",
    "    return ' '.join(word[1:] + word[0] + 'ay' if word.isalpha() else word for word in text.split())\n",
    "\n",
    "print(pig_it('Pig latin is cool'),'igPay atinlay siay oolcay')\n",
    "print(pig_it('This is my string'),'hisTay siay ymay tringsay')"
   ]
  },
  {
   "cell_type": "code",
   "execution_count": 49,
   "metadata": {},
   "outputs": [
    {
     "name": "stdout",
     "output_type": "stream",
     "text": [
      "Help on method_descriptor:\n",
      "\n",
      "isalpha(self, /)\n",
      "    Return True if the string is an alphabetic string, False otherwise.\n",
      "    \n",
      "    A string is alphabetic if all characters in the string are alphabetic and there\n",
      "    is at least one character in the string.\n",
      "\n"
     ]
    }
   ],
   "source": [
    "help(str.isalpha)"
   ]
  },
  {
   "cell_type": "markdown",
   "metadata": {},
   "source": [
    "20200929"
   ]
  },
  {
   "cell_type": "markdown",
   "metadata": {},
   "source": [
    "### Replace With Alphabet Position\n",
    "https://www.codewars.com/kata/546f922b54af40e1e90001da  \n",
    "6 kyu\n",
    "\n",
    "Welcome.\n",
    "\n",
    "In this kata you are required to, given a string, replace every letter with its position in the alphabet.\n",
    "\n",
    "If anything in the text isn't a letter, ignore it and don't return it.\n",
    "\n",
    "\"a\" = 1, \"b\" = 2, etc.\n",
    "\n",
    "Example  \n",
    "alphabet_position(\"The sunset sets at twelve o' clock.\")\n",
    "\n",
    "Should return \"20 8 5 19 21 14 19 5 20 19 5 20 19 1 20 20 23 5 12 22 5 15 3 12 15 3 11\" (as a string)"
   ]
  },
  {
   "cell_type": "markdown",
   "metadata": {},
   "source": [
    "__My solution:__"
   ]
  },
  {
   "cell_type": "code",
   "execution_count": 60,
   "metadata": {},
   "outputs": [
    {
     "data": {
      "text/plain": [
       "97"
      ]
     },
     "execution_count": 60,
     "metadata": {},
     "output_type": "execute_result"
    }
   ],
   "source": [
    "ord('a')"
   ]
  },
  {
   "cell_type": "code",
   "execution_count": 65,
   "metadata": {},
   "outputs": [
    {
     "name": "stdout",
     "output_type": "stream",
     "text": [
      "20 8 5 19 21 14 19 5 20 19 5 20 19 1 20 20 23 5 12 22 5 15 3 12 15 3 11\n",
      "20 8 5 19 21 14 19 5 20 19 5 20 19 1 20 20 23 5 12 22 5 15 3 12 15 3 11\n",
      "20 8 5 14 1 18 23 8 1 12 2 1 3 15 14 19 1 20 13 9 4 14 9 7 8 20\n",
      "20 8 5 14 1 18 23 8 1 12 2 1 3 15 14 19 1 20 13 9 4 14 9 7 8 20\n"
     ]
    }
   ],
   "source": [
    "def alphabet_position(text):\n",
    "    return ' '.join(str(ord(c) - 96) for c in text.lower() if c.isalpha())\n",
    "\n",
    "print(alphabet_position(\"The sunset sets at twelve o' clock.\"), \"20 8 5 19 21 14 19 5 20 19 5 20 19 1 20 20 23 5 12 22 5 15 3 12 15 3 11\", sep='\\n')\n",
    "print(alphabet_position(\"The narwhal bacons at midnight.\"), \"20 8 5 14 1 18 23 8 1 12 2 1 3 15 14 19 1 20 13 9 4 14 9 7 8 20\", sep='\\n')"
   ]
  },
  {
   "cell_type": "markdown",
   "metadata": {},
   "source": [
    "### Printer Errors\n",
    "https://www.codewars.com/kata/56541980fa08ab47a0000040  \n",
    "7 kyu\n",
    "\n",
    "In a factory a printer prints labels for boxes. For one kind of boxes the printer has to use colors which, for the sake of simplicity, are named with letters from a to m.\n",
    "\n",
    "The colors used by the printer are recorded in a control string. For example a \"good\" control string would be aaabbbbhaijjjm meaning that the printer used three times color a, four times color b, one time color h then one time color a...\n",
    "\n",
    "Sometimes there are problems: lack of colors, technical malfunction and a \"bad\" control string is produced e.g. aaaxbbbbyyhwawiwjjjwwm with letters not from a to m.\n",
    "\n",
    "You have to write a function printer_error which given a string will return the error rate of the printer as a string representing a rational whose numerator is the number of errors and the denominator the length of the control string. Don't reduce this fraction to a simpler expression.\n",
    "\n",
    "The string has a length greater or equal to one and contains only letters from ato z.\n",
    "\n",
    "Examples:  \n",
    "s=\"aaabbbbhaijjjm\"  \n",
    "error_printer(s) => \"0/14\"\n",
    "\n",
    "s=\"aaaxbbbbyyhwawiwjjjwwm\"  \n",
    "error_printer(s) => \"8/22\""
   ]
  },
  {
   "cell_type": "markdown",
   "metadata": {},
   "source": [
    "__My solution:__"
   ]
  },
  {
   "cell_type": "code",
   "execution_count": 105,
   "metadata": {},
   "outputs": [
    {
     "name": "stdout",
     "output_type": "stream",
     "text": [
      "3/56 3/56\n"
     ]
    }
   ],
   "source": [
    "def printer_error(s):\n",
    "    return f'{sum(c > \"m\" for c in s.lower())}/{len(s)}'\n",
    "    \n",
    "s=\"aaaaaaaaaaaaaaaabbbbbbbbbbbbbbbbbbmmmmmmmmmmmmmmmmmmmxyz\"\n",
    "print(printer_error(s), \"3/56\")"
   ]
  },
  {
   "cell_type": "code",
   "execution_count": 85,
   "metadata": {},
   "outputs": [
    {
     "data": {
      "text/plain": [
       "[False, False]"
      ]
     },
     "execution_count": 85,
     "metadata": {},
     "output_type": "execute_result"
    }
   ],
   "source": [
    "list('a' > 'b' for i in range(2))"
   ]
  },
  {
   "cell_type": "code",
   "execution_count": 103,
   "metadata": {},
   "outputs": [
    {
     "data": {
      "text/plain": [
       "[False,\n",
       " False,\n",
       " False,\n",
       " False,\n",
       " False,\n",
       " False,\n",
       " False,\n",
       " False,\n",
       " False,\n",
       " False,\n",
       " False,\n",
       " False,\n",
       " False,\n",
       " False,\n",
       " False,\n",
       " False,\n",
       " False,\n",
       " False,\n",
       " False,\n",
       " False,\n",
       " False,\n",
       " False,\n",
       " False,\n",
       " False,\n",
       " False,\n",
       " False,\n",
       " False,\n",
       " False,\n",
       " False,\n",
       " False,\n",
       " False,\n",
       " False,\n",
       " False,\n",
       " False,\n",
       " False,\n",
       " False,\n",
       " False,\n",
       " False,\n",
       " False,\n",
       " False,\n",
       " False,\n",
       " False,\n",
       " False,\n",
       " False,\n",
       " False,\n",
       " False,\n",
       " False,\n",
       " False,\n",
       " False,\n",
       " False,\n",
       " False,\n",
       " False,\n",
       " False,\n",
       " True,\n",
       " True,\n",
       " True]"
      ]
     },
     "execution_count": 103,
     "metadata": {},
     "output_type": "execute_result"
    }
   ],
   "source": [
    "s = \"aaaaaaaaaaaaaaaabbbbbbbbbbbbbbbbbbmmmmmmmmmmmmmmmmmmmxyz\"\n",
    "list(c > 'm' for c in s.lower())"
   ]
  },
  {
   "cell_type": "code",
   "execution_count": 96,
   "metadata": {},
   "outputs": [
    {
     "name": "stdout",
     "output_type": "stream",
     "text": [
      "False\n",
      "False\n",
      "False\n",
      "False\n",
      "False\n",
      "False\n",
      "False\n",
      "False\n",
      "False\n",
      "False\n",
      "False\n",
      "False\n",
      "False\n",
      "False\n",
      "False\n",
      "False\n",
      "False\n",
      "False\n",
      "False\n",
      "False\n",
      "False\n",
      "False\n",
      "False\n",
      "False\n",
      "False\n",
      "False\n",
      "False\n",
      "False\n",
      "False\n",
      "False\n",
      "False\n",
      "False\n",
      "False\n",
      "False\n",
      "False\n",
      "False\n",
      "False\n",
      "False\n",
      "False\n",
      "False\n",
      "False\n",
      "False\n",
      "False\n",
      "False\n",
      "False\n",
      "False\n",
      "False\n",
      "False\n",
      "False\n",
      "False\n",
      "False\n",
      "False\n",
      "False\n",
      "True\n",
      "True\n",
      "True\n"
     ]
    }
   ],
   "source": [
    "s = \"aaaaaaaaaaaaaaaabbbbbbbbbbbbbbbbbbmmmmmmmmmmmmmmmmmmmxyz\"\n",
    "for c in s.lower():\n",
    "    print(c > 'm')"
   ]
  },
  {
   "cell_type": "markdown",
   "metadata": {},
   "source": [
    "### Max-min arrays\n",
    "https://www.codewars.com/kata/5a090c4e697598d0b9000004  \n",
    "7 kyu\n",
    "\n",
    "In this Kata, you will be given an array of unique elements, and your task is to rerrange the values so that the first max value is followed by the first minimum, followed by second max value then second min value, etc.\n",
    "\n",
    "For example:\n",
    "\n",
    "solve([15,11,10,7,12]) = [15,7,12,10,11]\n",
    "\n",
    "The first max is 15 and the first min is 7. The second max is 12 and the second min is 10 and so on."
   ]
  },
  {
   "cell_type": "markdown",
   "metadata": {},
   "source": [
    "__My solutions:__"
   ]
  },
  {
   "cell_type": "markdown",
   "metadata": {},
   "source": [
    "__#1__ The initial list's changed, but new one is returned"
   ]
  },
  {
   "cell_type": "code",
   "execution_count": 114,
   "metadata": {},
   "outputs": [
    {
     "name": "stdout",
     "output_type": "stream",
     "text": [
      "[15, 7, 12, 10, 11] [15, 7, 12, 10, 11]\n",
      "[91, 14, 86, 75, 82] [91, 14, 86, 75, 82]\n",
      "[84, 61, 79, 76, 78] [84, 61, 79, 76, 78]\n",
      "[77, 40, 76, 44, 74, 52, 72] [77, 40, 76, 44, 74, 52, 72]\n",
      "[9, 1, 8, 2, 7, 3, 6, 4] [9, 1, 8, 2, 7, 3, 6, 4]\n",
      "[87, 16, 80, 31, 79, 52, 78, 63, 74] [87, 16, 80, 31, 79, 52, 78, 63, 74]\n"
     ]
    }
   ],
   "source": [
    "def solve(arr):\n",
    "    return [arr.pop(arr.index([max(arr), min(arr)][i % 2])) for i in range(len(arr))]\n",
    "\n",
    "print(solve([15,11,10,7,12]),[15,7,12,10,11])\n",
    "print(solve([91,75,86,14,82]),[91,14,86,75,82])\n",
    "print(solve([84,79,76,61,78]),[84,61,79,76,78])\n",
    "print(solve([52,77,72,44,74,76,40]),[77,40,76,44,74,52,72])\n",
    "print(solve([1,6,9,4,3,7,8,2]),[9,1,8,2,7,3,6,4])\n",
    "print(solve([78,79,52,87,16,74,31,63,80]),[87,16,80,31,79,52,78,63,74])"
   ]
  },
  {
   "cell_type": "markdown",
   "metadata": {},
   "source": [
    "Метод list.pop() удаляет по индексу:"
   ]
  },
  {
   "cell_type": "code",
   "execution_count": 108,
   "metadata": {},
   "outputs": [
    {
     "data": {
      "text/plain": [
       "(4, [3, 5, 7])"
      ]
     },
     "execution_count": 108,
     "metadata": {},
     "output_type": "execute_result"
    }
   ],
   "source": [
    "a = [3, 5, 7, 4]\n",
    "a.pop(min(a)), a"
   ]
  },
  {
   "cell_type": "code",
   "execution_count": 112,
   "metadata": {},
   "outputs": [
    {
     "name": "stdout",
     "output_type": "stream",
     "text": [
      "Help on method_descriptor:\n",
      "\n",
      "index(self, value, start=0, stop=9223372036854775807, /)\n",
      "    Return first index of value.\n",
      "    \n",
      "    Raises ValueError if the value is not present.\n",
      "\n"
     ]
    }
   ],
   "source": [
    "help(list.index)"
   ]
  },
  {
   "cell_type": "markdown",
   "metadata": {},
   "source": [
    "__#2__ The initial list's changed and returned"
   ]
  },
  {
   "cell_type": "code",
   "execution_count": 120,
   "metadata": {},
   "outputs": [
    {
     "name": "stdout",
     "output_type": "stream",
     "text": [
      "[15, 7, 12, 10, 11] [15, 7, 12, 10, 11]\n",
      "[91, 14, 86, 75, 82] [91, 14, 86, 75, 82]\n",
      "[84, 61, 79, 76, 78] [84, 61, 79, 76, 78]\n",
      "[77, 40, 76, 44, 74, 52, 72] [77, 40, 76, 44, 74, 52, 72]\n",
      "[9, 1, 8, 2, 7, 3, 6, 4] [9, 1, 8, 2, 7, 3, 6, 4]\n",
      "[87, 16, 80, 31, 79, 52, 78, 63, 74] [87, 16, 80, 31, 79, 52, 78, 63, 74]\n"
     ]
    }
   ],
   "source": [
    "def solve(arr):\n",
    "    arr.sort(reverse=True)\n",
    "    for i in range(len(arr) // 2):\n",
    "        arr.insert(2 * i + 1, arr[-1])\n",
    "        arr.pop(-1)\n",
    "    return arr\n",
    "\n",
    "print(solve([15,11,10,7,12]),[15,7,12,10,11])\n",
    "print(solve([91,75,86,14,82]),[91,14,86,75,82])\n",
    "print(solve([84,79,76,61,78]),[84,61,79,76,78])\n",
    "print(solve([52,77,72,44,74,76,40]),[77,40,76,44,74,52,72])\n",
    "print(solve([1,6,9,4,3,7,8,2]),[9,1,8,2,7,3,6,4])\n",
    "print(solve([78,79,52,87,16,74,31,63,80]),[87,16,80,31,79,52,78,63,74])"
   ]
  },
  {
   "cell_type": "code",
   "execution_count": 118,
   "metadata": {},
   "outputs": [
    {
     "name": "stdout",
     "output_type": "stream",
     "text": [
      "Help on method_descriptor:\n",
      "\n",
      "sort(self, /, *, key=None, reverse=False)\n",
      "    Stable sort *IN PLACE*.\n",
      "\n"
     ]
    }
   ],
   "source": [
    "help(list.sort)"
   ]
  },
  {
   "cell_type": "markdown",
   "metadata": {},
   "source": [
    "20200930"
   ]
  },
  {
   "cell_type": "markdown",
   "metadata": {},
   "source": [
    "### Isograms\n",
    "https://www.codewars.com/kata/54ba84be607a92aa900000f1  \n",
    "7 kyu\n",
    "\n",
    "An isogram is a word that has no repeating letters, consecutive or non-consecutive. Implement a function that determines whether a string that contains only letters is an isogram. Assume the empty string is an isogram. Ignore letter case.\n",
    "\n",
    "is_isogram(\"Dermatoglyphics\" ) == true  \n",
    "is_isogram(\"aba\" ) == false  \n",
    "is_isogram(\"moOse\" ) == false # -- ignore letter case"
   ]
  },
  {
   "cell_type": "markdown",
   "metadata": {},
   "source": [
    "__My solutions:__"
   ]
  },
  {
   "cell_type": "markdown",
   "metadata": {},
   "source": [
    "__#1__"
   ]
  },
  {
   "cell_type": "code",
   "execution_count": 121,
   "metadata": {},
   "outputs": [
    {
     "name": "stdout",
     "output_type": "stream",
     "text": [
      "True True\n",
      "True True\n",
      "False False same chars may not be adjacent\n",
      "False False same chars may not be same case\n",
      "False False\n",
      "True True an empty string is a valid isogram\n"
     ]
    }
   ],
   "source": [
    "def is_isogram(string):\n",
    "    return len(set(string.upper())) == len(string)\n",
    "\n",
    "print(is_isogram(\"Dermatoglyphics\"), True )\n",
    "print(is_isogram(\"isogram\"), True )\n",
    "print(is_isogram(\"aba\"), False, \"same chars may not be adjacent\" )\n",
    "print(is_isogram(\"moOse\"), False, \"same chars may not be same case\" )\n",
    "print(is_isogram(\"isIsogram\"), False )\n",
    "print(is_isogram(\"\"), True, \"an empty string is a valid isogram\" )"
   ]
  },
  {
   "cell_type": "markdown",
   "metadata": {},
   "source": [
    "__#2__"
   ]
  },
  {
   "cell_type": "code",
   "execution_count": 148,
   "metadata": {},
   "outputs": [
    {
     "name": "stdout",
     "output_type": "stream",
     "text": [
      "True True\n",
      "True True\n",
      "False False same chars may not be adjacent\n",
      "False False same chars may not be same case\n",
      "False False\n",
      "True True an empty string is a valid isogram\n"
     ]
    }
   ],
   "source": [
    "from itertools import islice\n",
    "\n",
    "def is_isogram(string):\n",
    "    string = string.upper()\n",
    "    return len(list(islice(filter(lambda c: string.count(c) > 1, string), 1))) == 0\n",
    "\n",
    "print(is_isogram(\"Dermatoglyphics\"), True )\n",
    "print(is_isogram(\"isogram\"), True )\n",
    "print(is_isogram(\"aba\"), False, \"same chars may not be adjacent\" )\n",
    "print(is_isogram(\"moOse\"), False, \"same chars may not be same case\" )\n",
    "print(is_isogram(\"isIsogram\"), False )\n",
    "print(is_isogram(\"\"), True, \"an empty string is a valid isogram\" )"
   ]
  },
  {
   "cell_type": "markdown",
   "metadata": {},
   "source": [
    "20201001"
   ]
  },
  {
   "cell_type": "markdown",
   "metadata": {},
   "source": [
    "### Abbreviate a Two Word Name\n",
    "https://www.codewars.com/kata/57eadb7ecd143f4c9c0000a3  \n",
    "8 kyu\n",
    "\n",
    "Write a function to convert a name into initials. This kata strictly takes two words with one space in between them.\n",
    "\n",
    "The output should be two capital letters with a dot separating them.\n",
    "\n",
    "It should look like this:\n",
    "\n",
    "Sam Harris => S.H\n",
    "\n",
    "Patrick Feeney => P.F"
   ]
  },
  {
   "cell_type": "markdown",
   "metadata": {},
   "source": [
    "__My solution:__"
   ]
  },
  {
   "cell_type": "code",
   "execution_count": 136,
   "metadata": {},
   "outputs": [
    {
     "name": "stdout",
     "output_type": "stream",
     "text": [
      "S.H S.H\n",
      "P.F P.F\n",
      "E.C E.C\n",
      "P.F P.F\n",
      "D.M D.M\n"
     ]
    }
   ],
   "source": [
    "def abbrev_name(name):\n",
    "    return '.'.join(name[0].upper() for name in name.split())\n",
    "\n",
    "print(abbrev_name(\"Sam Harris\"), \"S.H\");\n",
    "print(abbrev_name(\"Patrick Feenan\"), \"P.F\");\n",
    "print(abbrev_name(\"Evan Cole\"), \"E.C\");\n",
    "print(abbrev_name(\"P Favuzzi\"), \"P.F\");\n",
    "print(abbrev_name(\"David Mendieta\"), \"D.M\");"
   ]
  },
  {
   "cell_type": "markdown",
   "metadata": {},
   "source": [
    "### Remove String Spaces\n",
    "https://www.codewars.com/kata/57eae20f5500ad98e50002c5  \n",
    "8 kyu\n",
    "\n",
    "Simple, remove the spaces from the string, then return the resultant string."
   ]
  },
  {
   "cell_type": "markdown",
   "metadata": {},
   "source": [
    "__My solution:__"
   ]
  },
  {
   "cell_type": "code",
   "execution_count": 137,
   "metadata": {},
   "outputs": [
    {
     "name": "stdout",
     "output_type": "stream",
     "text": [
      "8j8mBliB8gimjB8B8jlB 8j8mBliB8gimjB8B8jlB\n",
      "88Bifk8hB8BB8BBBB888chl8BhBfd 88Bifk8hB8BB8BBBB888chl8BhBfd\n",
      "8aaaaaddddr 8aaaaaddddr\n",
      "jfBmgklf8hg88lbe8 jfBmgklf8hg88lbe8\n",
      "8jaam 8jaam\n"
     ]
    }
   ],
   "source": [
    "def no_space(x):\n",
    "    return ''.join(x.split())\n",
    "\n",
    "print(no_space('8 j 8   mBliB8g  imjB8B8  jl  B'), '8j8mBliB8gimjB8B8jlB')\n",
    "print(no_space('8 8 Bi fk8h B 8 BB8B B B  B888 c hl8 BhB fd'), '88Bifk8hB8BB8BBBB888chl8BhBfd')\n",
    "print(no_space('8aaaaa dddd r     '), '8aaaaaddddr')\n",
    "print(no_space('jfBm  gk lf8hg  88lbe8 '), 'jfBmgklf8hg88lbe8') \n",
    "print(no_space('8j aam'), '8jaam')"
   ]
  },
  {
   "cell_type": "markdown",
   "metadata": {},
   "source": [
    "__Other users' solutions:__"
   ]
  },
  {
   "cell_type": "code",
   "execution_count": 138,
   "metadata": {},
   "outputs": [
    {
     "name": "stdout",
     "output_type": "stream",
     "text": [
      "8j8mBliB8gimjB8B8jlB 8j8mBliB8gimjB8B8jlB\n",
      "88Bifk8hB8BB8BBBB888chl8BhBfd 88Bifk8hB8BB8BBBB888chl8BhBfd\n",
      "8aaaaaddddr 8aaaaaddddr\n",
      "jfBmgklf8hg88lbe8 jfBmgklf8hg88lbe8\n",
      "8jaam 8jaam\n"
     ]
    }
   ],
   "source": [
    "def no_space(x):\n",
    "    return x.replace(' ', '')\n",
    "\n",
    "print(no_space('8 j 8   mBliB8g  imjB8B8  jl  B'), '8j8mBliB8gimjB8B8jlB')\n",
    "print(no_space('8 8 Bi fk8h B 8 BB8B B B  B888 c hl8 BhB fd'), '88Bifk8hB8BB8BBBB888chl8BhBfd')\n",
    "print(no_space('8aaaaa dddd r     '), '8aaaaaddddr')\n",
    "print(no_space('jfBm  gk lf8hg  88lbe8 '), 'jfBmgklf8hg88lbe8') \n",
    "print(no_space('8j aam'), '8jaam')"
   ]
  },
  {
   "cell_type": "markdown",
   "metadata": {},
   "source": [
    "20201002"
   ]
  },
  {
   "cell_type": "markdown",
   "metadata": {},
   "source": [
    "### Find The Duplicated Number in a Consecutive Unsorted List\n",
    "https://www.codewars.com/kata/558dd9a1b3f79dc88e000001  \n",
    "7 kyu\n",
    "\n",
    "You are given an array of n+1 integers 1 through n. In addition there is a single duplicate integer.\n",
    "\n",
    "The array is unsorted.\n",
    "\n",
    "An example valid array would be [3, 2, 5, 1, 3, 4]. It has the integers 1 through 5 and 3 is duplicated. [1, 2, 4, 5, 5] would not be valid as it is missing 3.\n",
    "\n",
    "You should return the duplicate value as a single integer."
   ]
  },
  {
   "cell_type": "markdown",
   "metadata": {},
   "source": [
    "__My solutions:__"
   ]
  },
  {
   "cell_type": "markdown",
   "metadata": {},
   "source": [
    "__#1__"
   ]
  },
  {
   "cell_type": "code",
   "execution_count": 139,
   "metadata": {},
   "outputs": [
    {
     "name": "stdout",
     "output_type": "stream",
     "text": [
      "1 1\n",
      "5 5\n"
     ]
    }
   ],
   "source": [
    "def find_dup(arr):\n",
    "    return sum(arr) - len(arr) * (len(arr) - 1) // 2\n",
    "\n",
    "print(find_dup([5, 4, 3, 2, 1, 1]), 1)\n",
    "print(find_dup([1, 3, 2, 5, 4, 5, 7, 6]), 5)"
   ]
  },
  {
   "cell_type": "markdown",
   "metadata": {},
   "source": [
    "__#2__"
   ]
  },
  {
   "cell_type": "code",
   "execution_count": 140,
   "metadata": {},
   "outputs": [
    {
     "name": "stdout",
     "output_type": "stream",
     "text": [
      "1 1\n",
      "5 5\n"
     ]
    }
   ],
   "source": [
    "def find_dup(arr):\n",
    "    return next(filter(lambda a: arr.count(a) > 1, arr))\n",
    "\n",
    "print(find_dup([5, 4, 3, 2, 1, 1]), 1)\n",
    "print(find_dup([1, 3, 2, 5, 4, 5, 7, 6]), 5)"
   ]
  },
  {
   "cell_type": "markdown",
   "metadata": {},
   "source": [
    "20201004"
   ]
  },
  {
   "cell_type": "markdown",
   "metadata": {},
   "source": [
    "### Multiply array values and filter non-numeric\n",
    "https://www.codewars.com/kata/55ed875819ae85ca8b00005c  \n",
    "7 kyu\n",
    "\n",
    "Your task is to write a function, which takes two arguments and returns a sequence. First argument is a sequence of values, second is multiplier. The function should filter all non-numeric values and multiply the rest by given multiplier."
   ]
  },
  {
   "cell_type": "markdown",
   "metadata": {},
   "source": [
    "The next solution doesn't pass all tests because isinstance(el, (int, float)) returns True for Bool values:"
   ]
  },
  {
   "cell_type": "code",
   "execution_count": 142,
   "metadata": {},
   "outputs": [
    {
     "name": "stdout",
     "output_type": "stream",
     "text": [
      "[1.5, 3.0, 4.5, 6.0] [1.5, 3, 4.5, 6]\n",
      "[0, 0, 0] [0, 0, 0]\n",
      "[0, 0, 0] [0, 0, 0]\n",
      "[3, 7.5, 30] [3, 7.5, 30]\n",
      "[3, 7.5, 30, 3, 0] [3, 7.5, 30]\n"
     ]
    }
   ],
   "source": [
    "def multiply_and_filter(seq, multiplier): \n",
    "    return [el * multiplier for el in seq if isinstance(el, (int, float))]\n",
    "\n",
    "print(multiply_and_filter([1,2,3,4], 1.5), [1.5, 3, 4.5, 6])\n",
    "print(multiply_and_filter([1,2,3], 0), [0, 0, 0])\n",
    "print(multiply_and_filter([0,0,0], 2), [0, 0, 0])\n",
    "print(multiply_and_filter([1, None, lambda x: x, 2.5, 'string', 10, None, {}, []], 3), [3,7.5,30])\n",
    "print(multiply_and_filter([1, None, lambda x: x, 2.5, 'string', 10, None, {}, [], True, False], 3), [3,7.5,30])"
   ]
  },
  {
   "cell_type": "markdown",
   "metadata": {},
   "source": [
    "__My solution:__"
   ]
  },
  {
   "cell_type": "code",
   "execution_count": 143,
   "metadata": {},
   "outputs": [
    {
     "name": "stdout",
     "output_type": "stream",
     "text": [
      "[1.5, 3.0, 4.5, 6.0] [1.5, 3, 4.5, 6]\n",
      "[0, 0, 0] [0, 0, 0]\n",
      "[0, 0, 0] [0, 0, 0]\n",
      "[3, 7.5, 30] [3, 7.5, 30]\n",
      "[3, 7.5, 30] [3, 7.5, 30]\n"
     ]
    }
   ],
   "source": [
    "def multiply_and_filter(seq, multiplier): \n",
    "    return [el * multiplier for el in seq if type(el) == int or type(el) == float]\n",
    "\n",
    "print(multiply_and_filter([1,2,3,4], 1.5), [1.5, 3, 4.5, 6])\n",
    "print(multiply_and_filter([1,2,3], 0), [0, 0, 0])\n",
    "print(multiply_and_filter([0,0,0], 2), [0, 0, 0])\n",
    "print(multiply_and_filter([1, None, lambda x: x, 2.5, 'string', 10, None, {}, []], 3), [3,7.5,30])\n",
    "print(multiply_and_filter([1, None, lambda x: x, 2.5, 'string', 10, None, {}, [], True, False], 3), [3,7.5,30])"
   ]
  },
  {
   "cell_type": "code",
   "execution_count": 145,
   "metadata": {},
   "outputs": [
    {
     "name": "stdout",
     "output_type": "stream",
     "text": [
      "[1.5, 3.0, 4.5, 6.0] [1.5, 3, 4.5, 6]\n",
      "[0, 0, 0] [0, 0, 0]\n",
      "[0, 0, 0] [0, 0, 0]\n",
      "[3, 7.5, 30] [3, 7.5, 30]\n",
      "[3, 7.5, 30] [3, 7.5, 30]\n"
     ]
    }
   ],
   "source": [
    "def multiply_and_filter(seq, multiplier): \n",
    "    return [el * multiplier for el in seq if isinstance(el, (int, float)) and not(isinstance(el, bool))]\n",
    "\n",
    "print(multiply_and_filter([1,2,3,4], 1.5), [1.5, 3, 4.5, 6])\n",
    "print(multiply_and_filter([1,2,3], 0), [0, 0, 0])\n",
    "print(multiply_and_filter([0,0,0], 2), [0, 0, 0])\n",
    "print(multiply_and_filter([1, None, lambda x: x, 2.5, 'string', 10, None, {}, []], 3), [3,7.5,30])\n",
    "print(multiply_and_filter([1, None, lambda x: x, 2.5, 'string', 10, None, {}, [], True, False], 3), [3,7.5,30])"
   ]
  },
  {
   "cell_type": "markdown",
   "metadata": {},
   "source": [
    "__Other users' solutions:__"
   ]
  },
  {
   "cell_type": "markdown",
   "metadata": {},
   "source": [
    "__#1__"
   ]
  },
  {
   "cell_type": "code",
   "execution_count": 144,
   "metadata": {},
   "outputs": [],
   "source": [
    "def multiply_and_filter(seq, multiplier): \n",
    "    return [num * multiplier for num in seq if type(num) in (int, float)]"
   ]
  },
  {
   "cell_type": "markdown",
   "metadata": {},
   "source": [
    "__#2__"
   ]
  },
  {
   "cell_type": "code",
   "execution_count": 146,
   "metadata": {},
   "outputs": [],
   "source": [
    "def multiply_and_filter(seq, multiplier):\n",
    "    import numbers\n",
    "    seq = [x for x in seq if isinstance(x, numbers.Number) and not isinstance(x, bool) ]\n",
    "    for i, n in enumerate(seq):\n",
    "        seq[i] = n * multiplier \n",
    "    return seq"
   ]
  },
  {
   "cell_type": "markdown",
   "metadata": {},
   "source": [
    "### Is he gonna survive?\n",
    "https://www.codewars.com/kata/59ca8246d751df55cc00014c  \n",
    "8 kyu\n",
    "\n",
    "A hero is on his way to the castle to complete his mission. However, he's been told that the castle is surrounded with a couple of powerful dragons! each dragon takes 2 bullets to be defeated, our hero has no idea how many bullets he should carry.. Assuming he's gonna grab a specific given number of bullets and move forward to fight another specific given number of dragons, will he survive?\n",
    "\n",
    "Return True if yes, False otherwise :)"
   ]
  },
  {
   "cell_type": "markdown",
   "metadata": {},
   "source": [
    "__My solution:__"
   ]
  },
  {
   "cell_type": "code",
   "execution_count": 147,
   "metadata": {},
   "outputs": [
    {
     "name": "stdout",
     "output_type": "stream",
     "text": [
      "True True\n",
      "False False\n",
      "False False\n",
      "True True\n",
      "False False\n",
      "False False\n"
     ]
    }
   ],
   "source": [
    "def hero(bullets, dragons):\n",
    "    return bullets / dragons >= 2\n",
    "\n",
    "print(hero(10, 5), True)\n",
    "print(hero(7, 4), False)\n",
    "print(hero(4, 5), False)\n",
    "print(hero(100, 40), True)\n",
    "print(hero(1500, 751), False)\n",
    "print(hero(0, 1), False)"
   ]
  },
  {
   "cell_type": "markdown",
   "metadata": {},
   "source": [
    "### IQ Test\n",
    "https://www.codewars.com/kata/552c028c030765286c00007d  \n",
    "6 kyu\n",
    "\n",
    "Bob is preparing to pass IQ test. The most frequent task in this test is to find out which one of the given numbers differs from the others. Bob observed that one number usually differs from the others in evenness. Help Bob — to check his answers, he needs a program that among the given numbers finds one that is different in evenness, and return a position of this number.\n",
    "\n",
    "! Keep in mind that your task is to help Bob solve a real IQ test, which means indexes of the elements start from 1 (not 0)\n",
    "\n",
    "Examples :\n",
    "\n",
    "iq_test(\"2 4 7 8 10\") => 3 // Third number is odd, while the rest of the numbers are even\n",
    "\n",
    "iq_test(\"1 2 1 1\") => 2 // Second number is even, while the rest of the numbers are odd"
   ]
  },
  {
   "cell_type": "markdown",
   "metadata": {},
   "source": [
    "__My solution:__"
   ]
  },
  {
   "cell_type": "code",
   "execution_count": 169,
   "metadata": {},
   "outputs": [
    {
     "name": "stdout",
     "output_type": "stream",
     "text": [
      "3 3\n",
      "1 1\n"
     ]
    }
   ],
   "source": [
    "from itertools import islice\n",
    "\n",
    "def iq_test(numbers)\n",
    "    odds = sum(islice(map(lambda a: int(a) % 2, numbers.split()), 3)) >= 2\n",
    "    return next(islice((i for i, n in enumerate(map(int, numbers.split()), 1) if n % 2 != odds), 1))\n",
    "    \n",
    "print(iq_test(\"2 4 7 8 10\"), 3)\n",
    "print(iq_test(\"1 2 2\"), 1)"
   ]
  },
  {
   "cell_type": "markdown",
   "metadata": {},
   "source": [
    "20201007"
   ]
  },
  {
   "cell_type": "markdown",
   "metadata": {},
   "source": [
    "### A Needle in the Haystack\n",
    "https://www.codewars.com/kata/56676e8fabd2d1ff3000000c  \n",
    "8 kyu\n",
    "\n",
    "Can you find the needle in the haystack?\n",
    "\n",
    "Write a function findNeedle() that takes an array full of junk but containing one \"needle\"\n",
    "\n",
    "After your function finds the needle it should return a message (as a string) that says:\n",
    "\n",
    "\"found the needle at position \" plus the index it found the needle, so:\n",
    "\n",
    "find_needle(['hay', 'junk', 'hay', 'hay', 'moreJunk', 'needle', 'randomJunk'])\n",
    "should return \"found the needle at position 5\""
   ]
  },
  {
   "cell_type": "markdown",
   "metadata": {},
   "source": [
    "__My solution:__"
   ]
  },
  {
   "cell_type": "code",
   "execution_count": 175,
   "metadata": {},
   "outputs": [
    {
     "name": "stdout",
     "output_type": "stream",
     "text": [
      "['3', '123124234', None, 'needle', 'world', 'hay', 2, '3', True, False] 3\n",
      "['283497238987234', 'a dog', 'a cat', 'some random junk', 'a piece of hay', 'needle', 'something somebody lost a while ago'] 5\n",
      "[1, 2, 3, 4, 5, 6, 7, 8, 8, 7, 5, 4, 3, 4, 5, 6, 67, 5, 5, 3, 3, 4, 2, 34, 234, 23, 4, 234, 324, 324, 'needle', 1, 2, 3, 4, 5, 5, 6, 5, 4, 32, 3, 45, 54] 30\n"
     ]
    }
   ],
   "source": [
    "def find_needle(haystack):\n",
    "    return f'found the needle at position {haystack.index(\"needle\")}'\n",
    "\n",
    "print(['3', '123124234', None, 'needle', 'world', 'hay', 2, '3', True, False], 3)\n",
    "print(['283497238987234', 'a dog', 'a cat', 'some random junk', 'a piece of hay', 'needle', 'something somebody lost a while ago'], 5)\n",
    "print([1,2,3,4,5,6,7,8,8,7,5,4,3,4,5,6,67,5,5,3,3,4,2,34,234,23,4,234,324,324,'needle',1,2,3,4,5,5,6,5,4,32,3,45,54], 30)"
   ]
  },
  {
   "cell_type": "code",
   "execution_count": 172,
   "metadata": {},
   "outputs": [
    {
     "data": {
      "text/plain": [
       "1"
      ]
     },
     "execution_count": 172,
     "metadata": {},
     "output_type": "execute_result"
    }
   ],
   "source": [
    "hay = ['a', 'b', 'c']\n",
    "hay.index('b')"
   ]
  },
  {
   "cell_type": "markdown",
   "metadata": {},
   "source": [
    "### Count of positives / sum of negatives\n",
    "https://www.codewars.com/kata/576bb71bbbcf0951d5000044  \n",
    "8 kyu\n",
    "\n",
    "Given an array of integers.\n",
    "\n",
    "Return an array, where the first element is the count of positives numbers and the second element is sum of negative numbers.\n",
    "\n",
    "If the input array is empty or null, return an empty array."
   ]
  },
  {
   "cell_type": "markdown",
   "metadata": {},
   "source": [
    "__My solution:__"
   ]
  },
  {
   "cell_type": "code",
   "execution_count": 180,
   "metadata": {},
   "outputs": [
    {
     "name": "stdout",
     "output_type": "stream",
     "text": [
      "[10, -65] [10, -65]\n",
      "[8, -50] [8, -50]\n",
      "[1, 0] [1, 0]\n",
      "[0, -1] [0, -1]\n",
      "[0, 0] [0, 0]\n",
      "[] []\n"
     ]
    }
   ],
   "source": [
    "def count_positives_sum_negatives(arr):\n",
    "    count_pos = 0\n",
    "    sum_neg = 0\n",
    "    for num in arr:\n",
    "        if num > 0:\n",
    "            count_pos += 1\n",
    "        if num < 0:\n",
    "            sum_neg += num\n",
    "    return [count_pos, sum_neg] if arr else []\n",
    "\n",
    "print(count_positives_sum_negatives([1, 2, 3, 4, 5, 6, 7, 8, 9, 10, -11, -12, -13, -14, -15]),[10,-65])\n",
    "print(count_positives_sum_negatives([0, 2, 3, 0, 5, 6, 7, 8, 9, 10, -11, -12, -13, -14]),[8,-50])\n",
    "print(count_positives_sum_negatives([1]),[1,0])\n",
    "print(count_positives_sum_negatives([-1]),[0,-1])\n",
    "print(count_positives_sum_negatives([0,0,0,0,0,0,0,0,0]),[0,0])\n",
    "print(count_positives_sum_negatives([]),[])"
   ]
  },
  {
   "cell_type": "markdown",
   "metadata": {},
   "source": [
    "20201008"
   ]
  },
  {
   "cell_type": "markdown",
   "metadata": {},
   "source": [
    "### Detect Pangram\n",
    "https://www.codewars.com/kata/545cedaa9943f7fe7b000048  \n",
    "6 kyu\n",
    "\n",
    "A pangram is a sentence that contains every single letter of the alphabet at least once. For example, the sentence \"The quick brown fox jumps over the lazy dog\" is a pangram, because it uses the letters A-Z at least once (case is irrelevant).\n",
    "\n",
    "Given a string, detect whether or not it is a pangram. Return True if it is, False if not. Ignore numbers and punctuation."
   ]
  },
  {
   "cell_type": "markdown",
   "metadata": {},
   "source": [
    "__My solution:__"
   ]
  },
  {
   "cell_type": "code",
   "execution_count": 184,
   "metadata": {},
   "outputs": [
    {
     "name": "stdout",
     "output_type": "stream",
     "text": [
      "True True\n"
     ]
    }
   ],
   "source": [
    "from string import ascii_lowercase as alphabet\n",
    "\n",
    "def is_pangram(s):\n",
    "    s = s.lower()\n",
    "    for letter in alphabet:\n",
    "        if letter not in s:\n",
    "            return False\n",
    "    else:\n",
    "        return True\n",
    "    \n",
    "pangram = \"The quick, brown fox jumps over the lazy dog!\"\n",
    "print(is_pangram(pangram), True)"
   ]
  },
  {
   "cell_type": "markdown",
   "metadata": {},
   "source": [
    "__Other users' solutions:__"
   ]
  },
  {
   "cell_type": "markdown",
   "metadata": {},
   "source": [
    "__#1__"
   ]
  },
  {
   "cell_type": "code",
   "execution_count": 188,
   "metadata": {},
   "outputs": [
    {
     "ename": "AttributeError",
     "evalue": "module 'string' has no attribute 'lowercase'",
     "output_type": "error",
     "traceback": [
      "\u001b[1;31m---------------------------------------------------------------------------\u001b[0m",
      "\u001b[1;31mAttributeError\u001b[0m                            Traceback (most recent call last)",
      "\u001b[1;32m<ipython-input-188-94f0893abd93>\u001b[0m in \u001b[0;36m<module>\u001b[1;34m\u001b[0m\n\u001b[0;32m      5\u001b[0m \u001b[1;33m\u001b[0m\u001b[0m\n\u001b[0;32m      6\u001b[0m \u001b[0mpangram\u001b[0m \u001b[1;33m=\u001b[0m \u001b[1;34m\"The quick, brown fox jumps over the lazy dog!\"\u001b[0m\u001b[1;33m\u001b[0m\u001b[1;33m\u001b[0m\u001b[0m\n\u001b[1;32m----> 7\u001b[1;33m \u001b[0mprint\u001b[0m\u001b[1;33m(\u001b[0m\u001b[0mis_pangram\u001b[0m\u001b[1;33m(\u001b[0m\u001b[0mpangram\u001b[0m\u001b[1;33m)\u001b[0m\u001b[1;33m,\u001b[0m \u001b[1;32mTrue\u001b[0m\u001b[1;33m)\u001b[0m\u001b[1;33m\u001b[0m\u001b[1;33m\u001b[0m\u001b[0m\n\u001b[0m",
      "\u001b[1;32m<ipython-input-188-94f0893abd93>\u001b[0m in \u001b[0;36mis_pangram\u001b[1;34m(s)\u001b[0m\n\u001b[0;32m      2\u001b[0m \u001b[1;33m\u001b[0m\u001b[0m\n\u001b[0;32m      3\u001b[0m \u001b[1;32mdef\u001b[0m \u001b[0mis_pangram\u001b[0m\u001b[1;33m(\u001b[0m\u001b[0ms\u001b[0m\u001b[1;33m)\u001b[0m\u001b[1;33m:\u001b[0m\u001b[1;33m\u001b[0m\u001b[1;33m\u001b[0m\u001b[0m\n\u001b[1;32m----> 4\u001b[1;33m     \u001b[1;32mreturn\u001b[0m \u001b[0mset\u001b[0m\u001b[1;33m(\u001b[0m\u001b[0mstring\u001b[0m\u001b[1;33m.\u001b[0m\u001b[0mlowercase\u001b[0m\u001b[1;33m)\u001b[0m \u001b[1;33m<=\u001b[0m \u001b[0mset\u001b[0m\u001b[1;33m(\u001b[0m\u001b[0ms\u001b[0m\u001b[1;33m.\u001b[0m\u001b[0mlower\u001b[0m\u001b[1;33m(\u001b[0m\u001b[1;33m)\u001b[0m\u001b[1;33m)\u001b[0m\u001b[1;33m\u001b[0m\u001b[1;33m\u001b[0m\u001b[0m\n\u001b[0m\u001b[0;32m      5\u001b[0m \u001b[1;33m\u001b[0m\u001b[0m\n\u001b[0;32m      6\u001b[0m \u001b[0mpangram\u001b[0m \u001b[1;33m=\u001b[0m \u001b[1;34m\"The quick, brown fox jumps over the lazy dog!\"\u001b[0m\u001b[1;33m\u001b[0m\u001b[1;33m\u001b[0m\u001b[0m\n",
      "\u001b[1;31mAttributeError\u001b[0m: module 'string' has no attribute 'lowercase'"
     ]
    }
   ],
   "source": [
    "import string\n",
    "\n",
    "def is_pangram(s):\n",
    "    return set(string.lowercase) <= set(s.lower())\n",
    "\n",
    "pangram = \"The quick, brown fox jumps over the lazy dog!\"\n",
    "print(is_pangram(pangram), True)"
   ]
  },
  {
   "cell_type": "code",
   "execution_count": 189,
   "metadata": {},
   "outputs": [
    {
     "name": "stdout",
     "output_type": "stream",
     "text": [
      "True True\n"
     ]
    }
   ],
   "source": [
    "from string import ascii_lowercase as alphabet\n",
    "\n",
    "def is_pangram(s):\n",
    "    return set(alphabet) <= set(s.lower())\n",
    "\n",
    "pangram = \"The quick, brown fox jumps over the lazy dog!\"\n",
    "print(is_pangram(pangram), True)"
   ]
  },
  {
   "cell_type": "markdown",
   "metadata": {},
   "source": [
    "__#2__"
   ]
  },
  {
   "cell_type": "code",
   "execution_count": 190,
   "metadata": {},
   "outputs": [],
   "source": [
    "import string\n",
    "\n",
    "def is_pangram(s):\n",
    "    return set(string.ascii_lowercase).issubset(s.lower())"
   ]
  },
  {
   "cell_type": "markdown",
   "metadata": {},
   "source": [
    "### Who likes it?\n",
    "https://www.codewars.com/kata/5266876b8f4bf2da9b000362  \n",
    "6 kyu\n",
    "\n",
    "You probably know the \"like\" system from Facebook and other pages. People can \"like\" blog posts, pictures or other items. We want to create the text that should be displayed next to such an item.\n",
    "\n",
    "Implement a function likes :: [String] -> String, which must take in input array, containing the names of people who like an item.\n",
    "\n",
    "It must return the display text as shown in the examples:\n",
    "\n",
    "likes([]) # must be \"no one likes this\"  \n",
    "likes([\"Peter\"]) # must be \"Peter likes this\"  \n",
    "likes([\"Jacob\", \"Alex\"]) # must be \"Jacob and Alex like this\"  \n",
    "likes([\"Max\", \"John\", \"Mark\"]) # must be \"Max, John and Mark like this\"  \n",
    "likes([\"Alex\", \"Jacob\", \"Mark\", \"Max\"]) # must be \"Alex, Jacob and 2 others like this\"  "
   ]
  },
  {
   "cell_type": "markdown",
   "metadata": {},
   "source": [
    "__My solution:__"
   ]
  },
  {
   "cell_type": "code",
   "execution_count": 191,
   "metadata": {},
   "outputs": [
    {
     "name": "stdout",
     "output_type": "stream",
     "text": [
      "no one likes this no one likes this\n",
      "Peter likes this Peter likes this\n",
      "Jacob and Alex like this Jacob and Alex like this\n",
      "Max, John and Mark like this Max, John and Mark like this\n",
      "Alex, Jacob and 2 others like this Alex, Jacob and 2 others like this\n"
     ]
    }
   ],
   "source": [
    "def likes(names):\n",
    "    if not names:\n",
    "        return 'no one likes this'\n",
    "    elif len(names) == 1:\n",
    "        return f'{names[0]} likes this'\n",
    "    elif len(names) == 2:\n",
    "        return f'{names[0]} and {names[1]} like this'\n",
    "    elif len(names) == 3:\n",
    "        return f'{names[0]}, {names[1]} and {names[2]} like this'\n",
    "    else:\n",
    "        return f'{names[0]}, {names[1]} and {len(names) - 2} others like this'\n",
    "    \n",
    "print(likes([]), 'no one likes this')\n",
    "print(likes(['Peter']), 'Peter likes this')\n",
    "print(likes(['Jacob', 'Alex']), 'Jacob and Alex like this')\n",
    "print(likes(['Max', 'John', 'Mark']), 'Max, John and Mark like this')\n",
    "print(likes(['Alex', 'Jacob', 'Mark', 'Max']), 'Alex, Jacob and 2 others like this')"
   ]
  },
  {
   "cell_type": "markdown",
   "metadata": {},
   "source": [
    "__Other users' solutions:__ "
   ]
  },
  {
   "cell_type": "code",
   "execution_count": 192,
   "metadata": {},
   "outputs": [
    {
     "name": "stdout",
     "output_type": "stream",
     "text": [
      "no one likes this no one likes this\n",
      "Peter likes this Peter likes this\n",
      "Jacob and Alex like this Jacob and Alex like this\n",
      "Max, John and Mark like this Max, John and Mark like this\n",
      "Alex, Jacob and 2 others like this Alex, Jacob and 2 others like this\n"
     ]
    }
   ],
   "source": [
    "def likes(names):\n",
    "    n = len(names)\n",
    "    return {\n",
    "        0: 'no one likes this',\n",
    "        1: '{} likes this', \n",
    "        2: '{} and {} like this', \n",
    "        3: '{}, {} and {} like this', \n",
    "        4: '{}, {} and {others} others like this'\n",
    "    }[min(4, n)].format(*names, others=n-2)\n",
    "\n",
    "print(likes([]), 'no one likes this')\n",
    "print(likes(['Peter']), 'Peter likes this')\n",
    "print(likes(['Jacob', 'Alex']), 'Jacob and Alex like this')\n",
    "print(likes(['Max', 'John', 'Mark']), 'Max, John and Mark like this')\n",
    "print(likes(['Alex', 'Jacob', 'Mark', 'Max']), 'Alex, Jacob and 2 others like this')"
   ]
  },
  {
   "cell_type": "markdown",
   "metadata": {},
   "source": [
    "### Rectangle into Squares\n",
    "https://www.codewars.com/kata/55466989aeecab5aac00003e  \n",
    "6 kyu\n",
    "\n",
    "The drawing below gives an idea of how to cut a given \"true\" rectangle into squares (\"true\" rectangle meaning that the two dimensions are different).\n",
    "\n",
    "alternative text\n",
    "\n",
    "Can you translate this drawing into an algorithm?\n",
    "\n",
    "You will be given two dimensions\n",
    "\n",
    "a positive integer length (parameter named lng)  \n",
    "a positive integer width (parameter named wdth)\n",
    "\n",
    "You will return an array or a string (depending on the language; Shell bash, PowerShell and Fortran return a string) with the size of each of the squares.\n",
    "\n",
    "  sqInRect(5, 3) should return [3, 2, 1, 1]  \n",
    "  sqInRect(3, 5) should return [3, 2, 1, 1]  \n",
    "  or (Haskell)  \n",
    "  squaresInRect  5  3 `shouldBe` Just [3,2,1,1]  \n",
    "  squaresInRect  3  5 `shouldBe` Just [3,2,1,1]  \n",
    "  or (Fsharp)  \n",
    "  squaresInRect  5  3 should return Some [3,2,1,1]  \n",
    "  squaresInRect  3  5 should return Some [3,2,1,1]  \n",
    "  or (Swift)  \n",
    "  squaresInRect  5  3 should return [3,2,1,1] as optional  \n",
    "  squaresInRect  3  5 should return [3,2,1,1] as optional  \n",
    "  or (Cpp)  \n",
    "  sqInRect(5, 3) should return {3, 2, 1, 1}  \n",
    "  sqInRect(3, 5) should return {3, 2, 1, 1}  \n",
    "  (C)  \n",
    "  C returns a structure, see the \"Solution\" and \"Examples\" tabs.\n",
    "  Your result and the reference test solution are compared by strings.\n",
    "  \n",
    "Notes:  \n",
    "lng == wdth as a starting case would be an entirely different problem and the drawing is planned to be interpreted with lng != wdth. (See kata, Square into Squares. Protect trees! http://www.codewars.com/kata/54eb33e5bc1a25440d000891 for this problem).\n",
    "\n",
    "When the initial parameters are so that lng == wdth, the solution [lng] would be the most obvious but not in the spirit of this kata so, in that case, return None/nil/null/Nothing\n",
    "\n",
    "return {} with C++, Array() with Scala.\n",
    "\n",
    "In that case the returned structure of C will have its sz component equal to 0.\n",
    "\n",
    "Return the string \"nil\" with Bash, PowerShell and Fortran.\n",
    "\n",
    "You can see more examples in \"RUN SAMPLE TESTS\"."
   ]
  },
  {
   "cell_type": "code",
   "execution_count": 3,
   "metadata": {},
   "outputs": [
    {
     "name": "stdout",
     "output_type": "stream",
     "text": [
      "None None\n",
      "[3, 2, 1, 1] [3, 2, 1, 1]\n"
     ]
    }
   ],
   "source": [
    "def sqInRect(lng, wdth):\n",
    "    if lng == wdth:\n",
    "        return None\n",
    "    squares = []\n",
    "    while lng != 1:\n",
    "        squares.append(wdth)\n",
    "        lng, wdth = wdth, lng - wdth\n",
    "    squares.append(wdth)\n",
    "    return squares\n",
    "\n",
    "print(sqInRect(5, 5), None)\n",
    "print(sqInRect(5, 3), [3, 2, 1, 1])"
   ]
  },
  {
   "cell_type": "code",
   "execution_count": 4,
   "metadata": {},
   "outputs": [],
   "source": [
    "def sqInRect(lng, wdth):\n",
    "    if lng == wdth:\n",
    "        return None\n",
    "    if wdth == 1:\n",
    "        return [1] * lng\n",
    "    squares = []\n",
    "    while lng != wdth:\n",
    "        squares.append(wdth)\n",
    "        lng, wdth = max(wdth, lng - wdth), min(wdth, lng - wdth)\n",
    "    squares.append(wdth)\n",
    "    return squares"
   ]
  },
  {
   "cell_type": "markdown",
   "metadata": {},
   "source": [
    "__My solution:__"
   ]
  },
  {
   "cell_type": "code",
   "execution_count": 6,
   "metadata": {},
   "outputs": [
    {
     "name": "stdout",
     "output_type": "stream",
     "text": [
      "None None\n",
      "[3, 2, 1, 1] [3, 2, 1, 1]\n"
     ]
    }
   ],
   "source": [
    "def sqInRect(lng, wdth):\n",
    "    if lng == wdth:\n",
    "        return None\n",
    "    squares = []\n",
    "    while wdth != 0:\n",
    "        squares.extend(lng // wdth * [wdth])\n",
    "        lng, wdth = wdth, lng % wdth\n",
    "    return squares\n",
    "\n",
    "print(sqInRect(5, 5), None)\n",
    "print(sqInRect(5, 3), [3, 2, 1, 1])"
   ]
  },
  {
   "cell_type": "markdown",
   "metadata": {},
   "source": [
    "### Are they the \"same\"?\n",
    "https://www.codewars.com/kata/550498447451fbbd7600041c  \n",
    "6 kyu\n",
    "\n",
    "Given two arrays a and b write a function comp(a, b) (compSame(a, b) in Clojure) that checks whether the two arrays have the \"same\" elements, with the same multiplicities. \"Same\" means, here, that the elements in b are the elements in a squared, regardless of the order.\n",
    "\n",
    "Examples\n",
    "\n",
    "Valid arrays  \n",
    "\n",
    "a = [121, 144, 19, 161, 19, 144, 19, 11]    \n",
    "b = [121, 14641, 20736, 361, 25921, 361, 20736, 361]  \n",
    "\n",
    "comp(a, b) returns true because in b 121 is the square of 11, 14641 is the square of 121, 20736 the square of 144, 361 the square of 19, 25921 the square of 161, and so on. It gets obvious if we write b's elements in terms of squares:\n",
    "\n",
    "a = [121, 144, 19, 161, 19, 144, 19, 11]  \n",
    "b = [11*11, 121*121, 144*144, 19*19, 161*161, 19*19, 144*144, 19*19]  \n",
    "\n",
    "Invalid arrays  \n",
    "\n",
    "If we change the first number to something else, comp may not return true anymore:\n",
    "\n",
    "a = [121, 144, 19, 161, 19, 144, 19, 11]   \n",
    "b = [132, 14641, 20736, 361, 25921, 361, 20736, 361]  \n",
    "\n",
    "comp(a,b) returns false because in b 132 is not the square of any number of a.\n",
    "\n",
    "a = [121, 144, 19, 161, 19, 144, 19, 11]  \n",
    "b = [121, 14641, 20736, 36100, 25921, 361, 20736, 361]  \n",
    "\n",
    "comp(a,b) returns false because in b 36100 is not the square of any number of a.\n",
    "\n",
    "Remarks\n",
    "\n",
    "a or b might be [] (all languages except R, Shell).  \n",
    "a or b might be nil or null or None or nothing (except in Haskell, Elixir, C++, Rust, R, Shell, PureScript).  \n",
    "If a or b are nil (or null or None), the problem doesn't make sense so return false.\n",
    "\n",
    "Note for C  \n",
    "The two arrays have the same size (> 0) given as parameter in function comp."
   ]
  },
  {
   "cell_type": "markdown",
   "metadata": {},
   "source": [
    "__My solution:__"
   ]
  },
  {
   "cell_type": "code",
   "execution_count": 12,
   "metadata": {},
   "outputs": [
    {
     "name": "stdout",
     "output_type": "stream",
     "text": [
      "True True\n",
      "True True\n",
      "True ???\n"
     ]
    }
   ],
   "source": [
    "def comp(array1, array2):\n",
    "    if array1 == array2 == []:\n",
    "        return True\n",
    "    return set(n * n for n in array1) == set(array2) if array1 != None and array2 != None else False\n",
    "\n",
    "a1 = [121, 144, 19, 161, 19, 144, 19, 11]\n",
    "a2 = [11*11, 121*121, 144*144, 19*19, 161*161, 19*19, 144*144, 19*19]\n",
    "print(comp(a1, a2), True)\n",
    "a1 = [2, -2, 3, -3]\n",
    "a2 = [2*2, -2*-2, 3*3, -3*-3]\n",
    "print(comp(a1, a2), True)\n",
    "a1 = [2, -2, 3, -3]\n",
    "a2 = [2*2, -2*-2, 3*3]\n",
    "print(comp(a1, a2), '???')"
   ]
  },
  {
   "cell_type": "code",
   "execution_count": 16,
   "metadata": {},
   "outputs": [
    {
     "name": "stdout",
     "output_type": "stream",
     "text": [
      "True True\n",
      "True True\n",
      "False ???\n"
     ]
    }
   ],
   "source": [
    "def comp(array1, array2):\n",
    "    if array1 != None and array2 != None and len(array1) == len(array2):\n",
    "        for n in array2:\n",
    "            if n ** 0.5 not in array1:\n",
    "                return False\n",
    "        else:\n",
    "            return True\n",
    "    else:\n",
    "        return False  \n",
    "\n",
    "a1 = [121, 144, 19, 161, 19, 144, 19, 11]\n",
    "a2 = [11*11, 121*121, 144*144, 19*19, 161*161, 19*19, 144*144, 19*19]\n",
    "print(comp(a1, a2), True)\n",
    "a1 = [2, -2, 3, -3]\n",
    "a2 = [2*2, -2*-2, 3*3, -3*-3]\n",
    "print(comp(a1, a2), True)\n",
    "a1 = [2, -2, 3, -3]\n",
    "a2 = [2*2, -2*-2, 3*3]\n",
    "print(comp(a1, a2), '???')"
   ]
  },
  {
   "cell_type": "code",
   "execution_count": null,
   "metadata": {},
   "outputs": [],
   "source": [
    "def comp(array1, array2):\n",
    "    if array1 != None and array2 != None:\n",
    "        for n in array2:\n",
    "            if n ** 0.5 not in array1:\n",
    "                return False\n",
    "        else:\n",
    "            return True\n",
    "    else:\n",
    "        return False  \n",
    "\n",
    "a1 = [121, 144, 19, 161, 19, 144, 19, 11]\n",
    "a2 = [11*11, 121*121, 144*144, 19*19, 161*161, 19*19, 144*144, 19*19]\n",
    "print(comp(a1, a2), True)\n",
    "a1 = [2, -2, 3, -3]\n",
    "a2 = [2*2, -2*-2, 3*3, -3*-3]\n",
    "print(comp(a1, a2), True)\n",
    "a1 = [2, -2, 3, -3]\n",
    "a2 = [2*2, -2*-2, 3*3]\n",
    "print(comp(a1, a2), '???')"
   ]
  },
  {
   "cell_type": "code",
   "execution_count": 17,
   "metadata": {},
   "outputs": [
    {
     "name": "stdout",
     "output_type": "stream",
     "text": [
      "True True\n",
      "True True\n",
      "False ???\n"
     ]
    }
   ],
   "source": [
    "def comp(array1, array2):\n",
    "    if array1 != None and array2 != None and len(array1) == len(array2):\n",
    "        for n in array1:\n",
    "            if n ** 2 not in array2:\n",
    "                return False\n",
    "        else:\n",
    "            return True\n",
    "    else:\n",
    "        return False  \n",
    "\n",
    "a1 = [121, 144, 19, 161, 19, 144, 19, 11]\n",
    "a2 = [11*11, 121*121, 144*144, 19*19, 161*161, 19*19, 144*144, 19*19]\n",
    "print(comp(a1, a2), True)\n",
    "a1 = [2, -2, 3, -3]\n",
    "a2 = [2*2, -2*-2, 3*3, -3*-3]\n",
    "print(comp(a1, a2), True)\n",
    "a1 = [2, -2, 3, -3]\n",
    "a2 = [2*2, -2*-2, 3*3]\n",
    "print(comp(a1, a2), '???')"
   ]
  },
  {
   "cell_type": "code",
   "execution_count": 18,
   "metadata": {},
   "outputs": [
    {
     "name": "stdout",
     "output_type": "stream",
     "text": [
      "True True\n",
      "True True\n",
      "True ???\n"
     ]
    }
   ],
   "source": [
    "def comp(array1, array2):\n",
    "    if array1 != None and array2 != None:\n",
    "        for n in array1:\n",
    "            if n ** 2 not in array2:\n",
    "                return False\n",
    "        else:\n",
    "            return True\n",
    "    else:\n",
    "        return False  \n",
    "\n",
    "a1 = [121, 144, 19, 161, 19, 144, 19, 11]\n",
    "a2 = [11*11, 121*121, 144*144, 19*19, 161*161, 19*19, 144*144, 19*19]\n",
    "print(comp(a1, a2), True)\n",
    "a1 = [2, -2, 3, -3]\n",
    "a2 = [2*2, -2*-2, 3*3, -3*-3]\n",
    "print(comp(a1, a2), True)\n",
    "a1 = [2, -2, 3, -3]\n",
    "a2 = [2*2, -2*-2, 3*3]\n",
    "print(comp(a1, a2), '???')"
   ]
  },
  {
   "cell_type": "code",
   "execution_count": 19,
   "metadata": {},
   "outputs": [
    {
     "data": {
      "text/plain": [
       "11.0"
      ]
     },
     "execution_count": 19,
     "metadata": {},
     "output_type": "execute_result"
    }
   ],
   "source": [
    "121 ** 0.5"
   ]
  },
  {
   "cell_type": "markdown",
   "metadata": {},
   "source": [
    "20201009"
   ]
  },
  {
   "cell_type": "markdown",
   "metadata": {},
   "source": [
    "### Where my anagrams at?\n",
    "https://www.codewars.com/kata/523a86aa4230ebb5420001e1  \n",
    "5 kyu\n",
    "\n",
    "What is an anagram? Well, two words are anagrams of each other if they both contain the same letters. For example:\n",
    "\n",
    "'abba' & 'baab' == true\n",
    "\n",
    "'abba' & 'bbaa' == true\n",
    "\n",
    "'abba' & 'abbba' == false\n",
    "\n",
    "'abba' & 'abca' == false\n",
    "\n",
    "Write a function that will find all the anagrams of a word from a list. You will be given two inputs a word and an array with words. You should return an array of all the anagrams or an empty array if there are none. For example:\n",
    "\n",
    "anagrams('abba', ['aabb', 'abcd', 'bbaa', 'dada']) => ['aabb', 'bbaa']\n",
    "\n",
    "anagrams('racer', ['crazer', 'carer', 'racar', 'caers', 'racer']) => ['carer', 'racer']\n",
    "\n",
    "anagrams('laser', ['lazing', 'lazy',  'lacer']) => []"
   ]
  },
  {
   "cell_type": "code",
   "execution_count": 21,
   "metadata": {},
   "outputs": [
    {
     "name": "stdout",
     "output_type": "stream",
     "text": [
      "True\n",
      "False\n",
      "True\n",
      "False\n"
     ]
    }
   ],
   "source": [
    "from collections import Counter\n",
    "\n",
    "a = ['aabb', 'abcd', 'bbaa', 'dada']\n",
    "b = Counter('abba')\n",
    "for word in a:\n",
    "    print(b == Counter(word))"
   ]
  },
  {
   "cell_type": "markdown",
   "metadata": {},
   "source": [
    "__My solution:__"
   ]
  },
  {
   "cell_type": "code",
   "execution_count": 22,
   "metadata": {},
   "outputs": [
    {
     "name": "stdout",
     "output_type": "stream",
     "text": [
      "['aabb', 'bbaa'] ['aabb', 'bbaa']\n",
      "['carer', 'racer'] ['carer', 'racer']\n"
     ]
    }
   ],
   "source": [
    "from collections import Counter\n",
    "\n",
    "def anagrams(word, words):\n",
    "    word_counter = Counter(word)\n",
    "    return [word for word in words if word_counter == Counter(word)]\n",
    "\n",
    "print(anagrams('abba', ['aabb', 'abcd', 'bbaa', 'dada']), ['aabb', 'bbaa'])\n",
    "print(anagrams('racer', ['crazer', 'carer', 'racar', 'caers', 'racer']), ['carer', 'racer'])"
   ]
  },
  {
   "cell_type": "markdown",
   "metadata": {},
   "source": [
    "__Other users' solutions:__"
   ]
  },
  {
   "cell_type": "markdown",
   "metadata": {},
   "source": [
    "__#1__"
   ]
  },
  {
   "cell_type": "code",
   "execution_count": 25,
   "metadata": {},
   "outputs": [
    {
     "name": "stdout",
     "output_type": "stream",
     "text": [
      "['aabb', 'bbaa'] ['aabb', 'bbaa']\n",
      "['carer', 'racer'] ['carer', 'racer']\n"
     ]
    }
   ],
   "source": [
    "def anagrams(word, words):\n",
    "    sorted_word = sorted(word)\n",
    "    return list(filter(lambda word: sorted(word) == sorted_word, words))\n",
    "\n",
    "print(anagrams('abba', ['aabb', 'abcd', 'bbaa', 'dada']), ['aabb', 'bbaa'])\n",
    "print(anagrams('racer', ['crazer', 'carer', 'racar', 'caers', 'racer']), ['carer', 'racer'])"
   ]
  },
  {
   "cell_type": "markdown",
   "metadata": {},
   "source": [
    "__#2__"
   ]
  },
  {
   "cell_type": "code",
   "execution_count": 26,
   "metadata": {},
   "outputs": [],
   "source": [
    "def anagrams(word, words):\n",
    "    return [x for x in words if sorted(x) == sorted(word)]"
   ]
  },
  {
   "cell_type": "markdown",
   "metadata": {},
   "source": [
    "### Credit Card Mask\n",
    "https://www.codewars.com/kata/5412509bd436bd33920011bc  \n",
    "7 kyu\n",
    "\n",
    "Usually when you buy something, you're asked whether your credit card number, phone number or answer to your most secret question is still correct. However, since someone could look over your shoulder, you don't want that shown on your screen. Instead, we mask it.\n",
    "\n",
    "Your task is to write a function maskify, which changes all but the last four characters into '#'.\n",
    "\n",
    "Examples\n",
    "\n",
    "maskify(\"4556364607935616\") == \"############5616\"  \n",
    "maskify(     \"64607935616\") ==      \"#######5616\"  \n",
    "maskify(               \"1\") ==                \"1\"  \n",
    "maskify(                \"\") ==                 \"\"  \n",
    "\n",
    "\n",
    "\"What was the name of your first pet?\"  \n",
    "maskify(\"Skippy\")                                   == \"##ippy\"  \n",
    "maskify(\"Nananananananananananananananana Batman!\") == \"####################################man!\"  "
   ]
  },
  {
   "cell_type": "code",
   "execution_count": 27,
   "metadata": {},
   "outputs": [
    {
     "data": {
      "text/plain": [
       "''"
      ]
     },
     "execution_count": 27,
     "metadata": {},
     "output_type": "execute_result"
    }
   ],
   "source": [
    "-2 * 'c'  # returns empty string for negative factor"
   ]
  },
  {
   "cell_type": "markdown",
   "metadata": {},
   "source": [
    "__My solution:__"
   ]
  },
  {
   "cell_type": "code",
   "execution_count": 28,
   "metadata": {},
   "outputs": [],
   "source": [
    "def maskify(cc):\n",
    "    return (len(cc) - 4) * '#' + cc[-4:]"
   ]
  },
  {
   "cell_type": "markdown",
   "metadata": {},
   "source": [
    "20201011"
   ]
  },
  {
   "cell_type": "markdown",
   "metadata": {},
   "source": [
    "### Take a Number And Sum Its Digits Raised To The Consecutive Powers And ....¡Eureka!!\n",
    "https://www.codewars.com/kata/5626b561280a42ecc50000d1  \n",
    "6 kyu\n",
    "\n",
    "The number 89 is the first integer with more than one digit that fulfills the property partially introduced in the title of this kata. What's the use of saying \"Eureka\"? Because this sum gives the same number.\n",
    "\n",
    "In effect: 89 = 8^1 + 9^2\n",
    "\n",
    "The next number in having this property is 135.\n",
    "\n",
    "See this property again: 135 = 1^1 + 3^2 + 5^3\n",
    "\n",
    "We need a function to collect these numbers, that may receive two integers a, b that defines the range [a, b] (inclusive) and outputs a list of the sorted numbers in the range that fulfills the property described above.\n",
    "\n",
    "Let's see some cases:\n",
    "\n",
    "sum_dig_pow(1, 10) == [1, 2, 3, 4, 5, 6, 7, 8, 9]\n",
    "\n",
    "sum_dig_pow(1, 100) == [1, 2, 3, 4, 5, 6, 7, 8, 9, 89]\n",
    "\n",
    "If there are no numbers of this kind in the range [a, b] the function should output an empty list.\n",
    "\n",
    "sum_dig_pow(90, 100) == []"
   ]
  },
  {
   "cell_type": "markdown",
   "metadata": {},
   "source": [
    "__My solution:__"
   ]
  },
  {
   "cell_type": "code",
   "execution_count": 35,
   "metadata": {},
   "outputs": [
    {
     "name": "stdout",
     "output_type": "stream",
     "text": [
      "[1, 2, 3, 4, 5, 6, 7, 8, 9] [1, 2, 3, 4, 5, 6, 7, 8, 9]\n",
      "[1, 2, 3, 4, 5, 6, 7, 8, 9, 89] [1, 2, 3, 4, 5, 6, 7, 8, 9, 89]\n",
      "[89] [89]\n",
      "[89] [89]\n",
      "[] []\n",
      "[89, 135] [89, 135]\n"
     ]
    }
   ],
   "source": [
    "def sum_dig_pow(a, b):\n",
    "    return list(filter(lambda a: sum(int(d) ** n for n, d in enumerate(str(a), 1)) == a, range(a, b + 1)))\n",
    "\n",
    "print(sum_dig_pow(1, 10), [1, 2, 3, 4, 5, 6, 7, 8, 9])\n",
    "print(sum_dig_pow(1, 100), [1, 2, 3, 4, 5, 6, 7, 8, 9, 89])\n",
    "print(sum_dig_pow(10, 89),  [89])\n",
    "print(sum_dig_pow(10, 100),  [89])\n",
    "print(sum_dig_pow(90, 100), [])\n",
    "print(sum_dig_pow(89, 135), [89, 135])"
   ]
  },
  {
   "cell_type": "markdown",
   "metadata": {},
   "source": [
    "Almost the same:"
   ]
  },
  {
   "cell_type": "code",
   "execution_count": 36,
   "metadata": {},
   "outputs": [
    {
     "name": "stdout",
     "output_type": "stream",
     "text": [
      "[1, 2, 3, 4, 5, 6, 7, 8, 9] [1, 2, 3, 4, 5, 6, 7, 8, 9]\n",
      "[1, 2, 3, 4, 5, 6, 7, 8, 9, 89] [1, 2, 3, 4, 5, 6, 7, 8, 9, 89]\n",
      "[89] [89]\n",
      "[89] [89]\n",
      "[] []\n",
      "[89, 135] [89, 135]\n"
     ]
    }
   ],
   "source": [
    "def sum_dig_pow(a, b):\n",
    "    return [a for a in range(a, b + 1) if sum(int(d) ** n for n, d in enumerate(str(a), 1)) == a]\n",
    "\n",
    "print(sum_dig_pow(1, 10), [1, 2, 3, 4, 5, 6, 7, 8, 9])\n",
    "print(sum_dig_pow(1, 100), [1, 2, 3, 4, 5, 6, 7, 8, 9, 89])\n",
    "print(sum_dig_pow(10, 89),  [89])\n",
    "print(sum_dig_pow(10, 100),  [89])\n",
    "print(sum_dig_pow(90, 100), [])\n",
    "print(sum_dig_pow(89, 135), [89, 135])"
   ]
  },
  {
   "cell_type": "markdown",
   "metadata": {},
   "source": [
    "### Find the missing letter\n",
    "https://www.codewars.com/kata/5839edaa6754d6fec10000a2  \n",
    "6 kyu\n",
    "\n",
    "Write a method that takes an array of consecutive (increasing) letters as input and that returns the missing letter in the array.\n",
    "\n",
    "You will always get an valid array. And it will be always exactly one letter be missing. The length of the array will always be at least 2.  \n",
    "The array will always contain letters in only one case.\n",
    "\n",
    "Example:\n",
    "\n",
    "['a','b','c','d','f'] -> 'e'  \n",
    "['O','Q','R','S'] -> 'P'  \n",
    "[\"a\",\"b\",\"c\",\"d\",\"f\"] -> \"e\"  \n",
    "[\"O\",\"Q\",\"R\",\"S\"] -> \"P\"  \n",
    "(Use the English alphabet with 26 letters!)"
   ]
  },
  {
   "cell_type": "markdown",
   "metadata": {},
   "source": [
    "__My solutions:__"
   ]
  },
  {
   "cell_type": "markdown",
   "metadata": {},
   "source": [
    "__#1__ The first set doesn't include the last letter from chars, but it doesn't affect on result, because I find a difference between the first and the second sets."
   ]
  },
  {
   "cell_type": "code",
   "execution_count": 40,
   "metadata": {},
   "outputs": [
    {
     "name": "stdout",
     "output_type": "stream",
     "text": [
      "e e\n",
      "P P\n"
     ]
    }
   ],
   "source": [
    "from string import ascii_letters\n",
    "from itertools import islice\n",
    "\n",
    "def find_missing_letter(chars):\n",
    "    return (set(islice(ascii_letters, ascii_letters.find(chars[0]), ascii_letters.find(chars[-1]))) - set(chars)).pop()\n",
    "\n",
    "print(find_missing_letter(['a','b','c','d','f']), 'e')\n",
    "print(find_missing_letter(['O','Q','R','S']), 'P')"
   ]
  },
  {
   "cell_type": "code",
   "execution_count": 37,
   "metadata": {},
   "outputs": [
    {
     "name": "stdout",
     "output_type": "stream",
     "text": [
      "abcdefghijklmnopqrstuvwxyzABCDEFGHIJKLMNOPQRSTUVWXYZ\n"
     ]
    }
   ],
   "source": [
    "from string import ascii_letters\n",
    "print(ascii_letters)"
   ]
  },
  {
   "cell_type": "markdown",
   "metadata": {},
   "source": [
    "__#2__"
   ]
  },
  {
   "cell_type": "code",
   "execution_count": 59,
   "metadata": {},
   "outputs": [
    {
     "name": "stdout",
     "output_type": "stream",
     "text": [
      "e e\n",
      "P P\n"
     ]
    }
   ],
   "source": [
    "def find_missing_letter(chars):\n",
    "    return chr((ord(chars[0]) + ord(chars[-1])) * (ord(chars[-1]) - ord(chars[0]) + 1) // 2 - sum(map(ord, chars)))\n",
    "    \n",
    "print(find_missing_letter(['a','b','c','d','f']), 'e')\n",
    "print(find_missing_letter(['O','Q','R','S']), 'P')    "
   ]
  },
  {
   "cell_type": "code",
   "execution_count": 42,
   "metadata": {},
   "outputs": [
    {
     "data": {
      "text/plain": [
       "(97, 98, 99, 100)"
      ]
     },
     "execution_count": 42,
     "metadata": {},
     "output_type": "execute_result"
    }
   ],
   "source": [
    "ord('a'), ord('b'), ord('c'), ord('d')"
   ]
  },
  {
   "cell_type": "code",
   "execution_count": 54,
   "metadata": {},
   "outputs": [
    {
     "data": {
      "text/plain": [
       "405"
      ]
     },
     "execution_count": 54,
     "metadata": {},
     "output_type": "execute_result"
    }
   ],
   "source": [
    "chars = ['O','Q','R','S']\n",
    "(ord(chars[0]) + ord(chars[-1])) * (ord(chars[-1]) - ord(chars[0]) + 1) // 2"
   ]
  },
  {
   "cell_type": "markdown",
   "metadata": {},
   "source": [
    "### BaSe fOO ThE AttAcK\n",
    "https://www.codewars.com/kata/5f7fd3cc1c4d9d00247594a2  \n",
    "Beta (circa 7 kyu)\n",
    "\n",
    "Note - Answers are available for this problem online. Before you go searching for those answers, think about the satisfaction you would feel if you properly solved the kata as opposed to copy-pasting a solution which you can't understand.\n",
    "\n",
    "Backstory  \n",
    "\n",
    "Earth has been invaded by aliens! To try fight back without the aliens knowing, humans have developed a standardized code. However, the aliens have discovered this, and now they have you under captivity.\n",
    "\n",
    "The aliens are forcing you to write a program to decode all the messages, 'or else'.\n",
    "\n",
    "Task\n",
    "\n",
    "Your task is to write a function called decode(), which will take a string containing the coded message, and output the decoded message as a string.  \n",
    "Note - input will only contain characters from the Latin/English alphabet. There will be no punctutation or numbers.\n",
    "\n",
    "The Code  \n",
    "\n",
    "One example of a coded message and its decoded counterpart is this:\n",
    "\n",
    "'BaSe fOO ThE AttAcK' = 'attack the base'\n",
    "\n",
    "As you can probably see, the code takes every word starting with a capital letter from right to left, then returns the string in lowercase (to make it easier to read).\n",
    "\n",
    "                  <-- right to left  \n",
    "'BaSe fOO ThE AttAcK'  \n",
    " ^        ^   ^\n",
    "\n",
    "BECOMES  \n",
    "\n",
    "'attack the base'\n",
    "\n",
    "See test cases for more examples."
   ]
  },
  {
   "cell_type": "markdown",
   "metadata": {},
   "source": [
    "__My solution:__"
   ]
  },
  {
   "cell_type": "code",
   "execution_count": 65,
   "metadata": {},
   "outputs": [
    {
     "name": "stdout",
     "output_type": "stream",
     "text": [
      "attack the base attack the base\n",
      "we will fight back we will fight back\n",
      "destroy their ice-cream supplies destroy their ice-cream supplies\n",
      "escape escape\n"
     ]
    }
   ],
   "source": [
    "def decode(s):\n",
    "    return ' '.join(word.lower() for word in reversed(s.split()) if word[0].isupper())\n",
    "\n",
    "print(decode('BaSe fOO ThE AttAcK'),'attack the base')\n",
    "print(decode('tHe aLIenS aRE BaCK dOn\\'T FighT WiLL WE'),'we will fight back')\n",
    "print(decode('soMe SuPPLies liKE Ice-cREAm aRe iMPORtant oNly tO THeir cReaTORS tO DestroY thEm iS poINtLeSS'),'destroy their ice-cream supplies')\n",
    "print(decode('tO tRY EscAPe iS pOInTlESS'),'escape')"
   ]
  },
  {
   "cell_type": "code",
   "execution_count": 60,
   "metadata": {},
   "outputs": [
    {
     "name": "stdout",
     "output_type": "stream",
     "text": [
      "Help on method_descriptor:\n",
      "\n",
      "istitle(self, /)\n",
      "    Return True if the string is a title-cased string, False otherwise.\n",
      "    \n",
      "    In a title-cased string, upper- and title-case characters may only\n",
      "    follow uncased characters and lowercase characters only cased ones.\n",
      "\n"
     ]
    }
   ],
   "source": [
    "help(str.istitle)"
   ]
  },
  {
   "cell_type": "code",
   "execution_count": 61,
   "metadata": {},
   "outputs": [
    {
     "data": {
      "text/plain": [
       "False"
      ]
     },
     "execution_count": 61,
     "metadata": {},
     "output_type": "execute_result"
    }
   ],
   "source": [
    "str.istitle('UffU')"
   ]
  },
  {
   "cell_type": "code",
   "execution_count": 62,
   "metadata": {},
   "outputs": [
    {
     "data": {
      "text/plain": [
       "True"
      ]
     },
     "execution_count": 62,
     "metadata": {},
     "output_type": "execute_result"
    }
   ],
   "source": [
    "str.istitle('Uff')"
   ]
  },
  {
   "cell_type": "code",
   "execution_count": 63,
   "metadata": {},
   "outputs": [
    {
     "name": "stdout",
     "output_type": "stream",
     "text": [
      "Help on method_descriptor:\n",
      "\n",
      "isupper(self, /)\n",
      "    Return True if the string is an uppercase string, False otherwise.\n",
      "    \n",
      "    A string is uppercase if all cased characters in the string are uppercase and\n",
      "    there is at least one cased character in the string.\n",
      "\n"
     ]
    }
   ],
   "source": [
    "help(str.isupper)"
   ]
  },
  {
   "cell_type": "markdown",
   "metadata": {},
   "source": [
    "### Is this a triangle?\n",
    "https://www.codewars.com/kata/56606694ec01347ce800001b  \n",
    "7 kyu\n",
    "\n",
    "Implement a method that accepts 3 integer values a, b, c. The method should return true if a triangle can be built with the sides of given length and false in any other case.\n",
    "\n",
    "(In this case, all triangles must have surface greater than 0 to be accepted)."
   ]
  },
  {
   "cell_type": "markdown",
   "metadata": {},
   "source": [
    "__My solution:__"
   ]
  },
  {
   "cell_type": "code",
   "execution_count": 68,
   "metadata": {},
   "outputs": [
    {
     "name": "stdout",
     "output_type": "stream",
     "text": [
      "True True didn't work when sides were 1, 2, 2\n",
      "False False didn't work when sides were 7, 2, 2\n",
      "False False didn't work when sides were 1, 2, 3\n",
      "False False didn't work when sides were 1, 3, 2\n",
      "False False didn't work when sides were 3, 1, 2\n",
      "False False didn't work when sides were 5, 1, 2\n",
      "False False didn't work when sides were 1, 2, 5\n",
      "False False didn't work when sides were 2, 5, 1\n",
      "True True didn't work when sides were 4, 2, 3\n",
      "True True didn't work when sides were 5, 1, 5\n",
      "True True didn't work when sides were 2, 2, 2\n",
      "False False didn't work when sides were -1, 2, 3\n",
      "False False didn't work when sides were 1, -2, 3\n",
      "False False didn't work when sides were 1, 2, -3\n",
      "False False didn't work when sides were 0, 2, 3\n"
     ]
    }
   ],
   "source": [
    "def is_triangle(a, b, c):\n",
    "    return a + b + c - max(a, b, c) > max(a, b, c)\n",
    "\n",
    "print(is_triangle(1, 2, 2), True, \"didn't work when sides were 1, 2, 2\")\n",
    "print(is_triangle(7, 2, 2), False, \"didn't work when sides were 7, 2, 2\")\n",
    "print(is_triangle(1, 2, 3), False, \"didn't work when sides were 1, 2, 3\")\n",
    "print(is_triangle(1, 3, 2), False, \"didn't work when sides were 1, 3, 2\")\n",
    "print(is_triangle(3, 1, 2), False, \"didn't work when sides were 3, 1, 2\")\n",
    "print(is_triangle(5, 1, 2), False, \"didn't work when sides were 5, 1, 2\")\n",
    "print(is_triangle(1, 2, 5), False, \"didn't work when sides were 1, 2, 5\")\n",
    "print(is_triangle(2, 5, 1), False, \"didn't work when sides were 2, 5, 1\")\n",
    "print(is_triangle(4, 2, 3), True, \"didn't work when sides were 4, 2, 3\")\n",
    "print(is_triangle(5, 1, 5), True, \"didn't work when sides were 5, 1, 5\")\n",
    "print(is_triangle(2, 2, 2), True, \"didn't work when sides were 2, 2, 2\")\n",
    "print(is_triangle(-1, 2, 3), False, \"didn't work when sides were -1, 2, 3\")\n",
    "print(is_triangle(1, -2, 3), False, \"didn't work when sides were 1, -2, 3\")\n",
    "print(is_triangle(1, 2, -3), False, \"didn't work when sides were 1, 2, -3\")\n",
    "print(is_triangle(0, 2, 3), False, \"didn't work when sides were 0, 2, 3\")"
   ]
  },
  {
   "cell_type": "markdown",
   "metadata": {},
   "source": [
    "__Other users' solutions:__"
   ]
  },
  {
   "cell_type": "markdown",
   "metadata": {},
   "source": [
    "__#1__"
   ]
  },
  {
   "cell_type": "code",
   "execution_count": 69,
   "metadata": {},
   "outputs": [],
   "source": [
    "def is_triangle(a, b, c):\n",
    "    a, b, c = sorted([a, b, c])\n",
    "    return a + b > c"
   ]
  },
  {
   "cell_type": "markdown",
   "metadata": {},
   "source": [
    "__#2__"
   ]
  },
  {
   "cell_type": "code",
   "execution_count": 70,
   "metadata": {},
   "outputs": [],
   "source": [
    "def is_triangle(a, b, c):\n",
    "    return (a<b+c) and (b<a+c) and (c<a+b)"
   ]
  },
  {
   "cell_type": "markdown",
   "metadata": {},
   "source": [
    "__#3__ Very tricky!"
   ]
  },
  {
   "cell_type": "code",
   "execution_count": 72,
   "metadata": {},
   "outputs": [],
   "source": [
    "def is_triangle(a, b, c):\n",
    "    return abs(a-b) < c < a+b # == (a<b+c) and (b<a+c) and (c<a+b)"
   ]
  },
  {
   "cell_type": "markdown",
   "metadata": {},
   "source": [
    "20101012"
   ]
  },
  {
   "cell_type": "markdown",
   "metadata": {},
   "source": [
    "### Stones on the Table\n",
    "https://www.codewars.com/kata/5f70e4cce10f9e0001c8995a  \n",
    "7 kyu\n",
    "\n",
    "There are some stones on Bob's table in a row, and each of them can be red, green or blue, indicated by the characters R, G, and B.\n",
    "\n",
    "Help Bob find the minimum number of stones he needs to remove from the table so that the stones in each pair of adjacent stones have different colours.\n",
    "\n",
    "Examples:\n",
    "\n",
    "\"RGBRGBRGGB\"   => 1  \n",
    "\"RGGRGBBRGRR\"  => 3  \n",
    "\"RRRRGGGGBBBB\" => 9"
   ]
  },
  {
   "cell_type": "markdown",
   "metadata": {},
   "source": [
    "__My solutions:__"
   ]
  },
  {
   "cell_type": "markdown",
   "metadata": {},
   "source": [
    "__#1__ Short but we need create a new list"
   ]
  },
  {
   "cell_type": "code",
   "execution_count": 77,
   "metadata": {},
   "outputs": [
    {
     "name": "stdout",
     "output_type": "stream",
     "text": [
      "1 1\n",
      "3 3\n",
      "9 9\n",
      "0\n"
     ]
    }
   ],
   "source": [
    "from itertools import groupby\n",
    "\n",
    "def solution(stones):\n",
    "    return len(stones) - len(list(groupby(stones)))\n",
    "    \n",
    "print(solution(\"RGBRGBRGGB\"), 1)\n",
    "print(solution(\"RGGRGBBRGRR\"), 3)\n",
    "print(solution(\"RRRRGGGGBBBB\"), 9)\n",
    "print(solution(\"\"))"
   ]
  },
  {
   "cell_type": "code",
   "execution_count": 74,
   "metadata": {},
   "outputs": [
    {
     "name": "stdout",
     "output_type": "stream",
     "text": [
      "R ['R']\n",
      "G ['G']\n",
      "B ['B']\n",
      "R ['R']\n",
      "G ['G']\n",
      "B ['B']\n",
      "R ['R']\n",
      "G ['G', 'G']\n",
      "B ['B']\n"
     ]
    }
   ],
   "source": [
    "from itertools import groupby\n",
    "\n",
    "s = \"RGBRGBRGGB\"\n",
    "for k, g in groupby(s):\n",
    "    print(k, list(g))"
   ]
  },
  {
   "cell_type": "markdown",
   "metadata": {},
   "source": [
    "__#2__"
   ]
  },
  {
   "cell_type": "code",
   "execution_count": 79,
   "metadata": {},
   "outputs": [
    {
     "name": "stdout",
     "output_type": "stream",
     "text": [
      "1 1\n",
      "3 3\n",
      "9 9\n",
      "0\n"
     ]
    }
   ],
   "source": [
    "def solution(stones):\n",
    "    count = 0\n",
    "    prev = ''\n",
    "    for cur in stones:\n",
    "        if prev == cur:\n",
    "            count += 1\n",
    "        prev = cur\n",
    "    return count\n",
    "    \n",
    "print(solution(\"RGBRGBRGGB\"), 1)\n",
    "print(solution(\"RGGRGBBRGRR\"), 3)\n",
    "print(solution(\"RRRRGGGGBBBB\"), 9)\n",
    "print(solution(\"\"))"
   ]
  },
  {
   "cell_type": "markdown",
   "metadata": {},
   "source": [
    "### Removing Elements\n",
    "https://www.codewars.com/kata/5769b3802ae6f8e4890009d2  \n",
    "8 kyu\n",
    "\n",
    "Take an array and remove every second element from the array. Always keep the first element and start removing with the next element.\n",
    "\n",
    "Example:\n",
    "\n",
    "my_list = ['Keep', 'Remove', 'Keep', 'Remove', 'Keep', ...]\n",
    "\n",
    "None of the arrays will be empty, so you don't have to worry about that!"
   ]
  },
  {
   "cell_type": "markdown",
   "metadata": {},
   "source": [
    "__My solution:__"
   ]
  },
  {
   "cell_type": "markdown",
   "metadata": {},
   "source": [
    "__#1__ NB! Incoming initial list isn't changed!"
   ]
  },
  {
   "cell_type": "code",
   "execution_count": 81,
   "metadata": {},
   "outputs": [
    {
     "name": "stdout",
     "output_type": "stream",
     "text": [
      "['Hello', 'Hello Again'] ['Hello', 'Hello Again']\n",
      "[1, 3, 5, 7, 9] [1, 3, 5, 7, 9]\n",
      "[[1, 2]] [[1, 2]]\n",
      "[['Goodbye']] [['Goodbye']]\n"
     ]
    }
   ],
   "source": [
    "def remove_every_other(my_list):\n",
    "    return [el for i, el in enumerate(my_list, 1) if i % 2]\n",
    "\n",
    "print(remove_every_other(['Hello', 'Goodbye', 'Hello Again']), ['Hello', 'Hello Again'])\n",
    "print(remove_every_other([1, 2, 3, 4, 5, 6, 7, 8, 9, 10]), [1, 3, 5, 7, 9])\n",
    "print(remove_every_other([[1, 2]]), [[1, 2]])\n",
    "print(remove_every_other([['Goodbye'], {'Great': 'Job'}]), [['Goodbye']])"
   ]
  },
  {
   "cell_type": "markdown",
   "metadata": {},
   "source": [
    "Almost the same:"
   ]
  },
  {
   "cell_type": "code",
   "execution_count": null,
   "metadata": {},
   "outputs": [],
   "source": [
    "def remove_every_other(my_list):\n",
    "    return [el for i, el in enumerate(my_list) if i % 2 == 0]"
   ]
  },
  {
   "cell_type": "markdown",
   "metadata": {},
   "source": [
    "Playing with not_modifying/modifying incoming initial list:"
   ]
  },
  {
   "cell_type": "code",
   "execution_count": 98,
   "metadata": {},
   "outputs": [
    {
     "name": "stdout",
     "output_type": "stream",
     "text": [
      "[1, 2, 3, 4, 5, 6]\n",
      "[1, 3, 5]\n",
      "[1, 2, 3, 4, 5, 6]\n"
     ]
    }
   ],
   "source": [
    "def remove_every_other(my_list):\n",
    "    my_list = [el for i, el in enumerate(my_list) if i % 2 == 0]\n",
    "    return my_list\n",
    "\n",
    "a = [1, 2, 3, 4, 5, 6]\n",
    "print(a)\n",
    "print(remove_every_other(a))\n",
    "print(a)"
   ]
  },
  {
   "cell_type": "code",
   "execution_count": 113,
   "metadata": {},
   "outputs": [
    {
     "name": "stdout",
     "output_type": "stream",
     "text": [
      "[1, 2, 3, 4, 5, 6]\n",
      "[1, 3, 5]\n",
      "[1, 3, 5]\n"
     ]
    }
   ],
   "source": [
    "def remove_every_other(my_list):\n",
    "    temp = [el for i, el in enumerate(my_list) if i % 2 == 0]\n",
    "    my_list.clear()\n",
    "    my_list.extend(temp)\n",
    "    return my_list\n",
    "\n",
    "a = [1, 2, 3, 4, 5, 6]\n",
    "print(a)\n",
    "print(remove_every_other(a))\n",
    "print(a)"
   ]
  },
  {
   "cell_type": "code",
   "execution_count": 82,
   "metadata": {},
   "outputs": [
    {
     "ename": "ValueError",
     "evalue": "list.remove(x): x not in list",
     "output_type": "error",
     "traceback": [
      "\u001b[1;31m---------------------------------------------------------------------------\u001b[0m",
      "\u001b[1;31mValueError\u001b[0m                                Traceback (most recent call last)",
      "\u001b[1;32m<ipython-input-82-56429d367f60>\u001b[0m in \u001b[0;36m<module>\u001b[1;34m\u001b[0m\n\u001b[0;32m      3\u001b[0m     \u001b[1;32mif\u001b[0m \u001b[0mi\u001b[0m \u001b[1;33m%\u001b[0m \u001b[1;36m2\u001b[0m\u001b[1;33m:\u001b[0m\u001b[1;33m\u001b[0m\u001b[1;33m\u001b[0m\u001b[0m\n\u001b[0;32m      4\u001b[0m         \u001b[0ma\u001b[0m\u001b[1;33m[\u001b[0m\u001b[0mi\u001b[0m\u001b[1;33m]\u001b[0m \u001b[1;33m=\u001b[0m \u001b[1;32mNone\u001b[0m\u001b[1;33m\u001b[0m\u001b[1;33m\u001b[0m\u001b[0m\n\u001b[1;32m----> 5\u001b[1;33m     \u001b[0ma\u001b[0m\u001b[1;33m.\u001b[0m\u001b[0mremove\u001b[0m\u001b[1;33m(\u001b[0m\u001b[1;32mNone\u001b[0m\u001b[1;33m)\u001b[0m\u001b[1;33m\u001b[0m\u001b[1;33m\u001b[0m\u001b[0m\n\u001b[0m",
      "\u001b[1;31mValueError\u001b[0m: list.remove(x): x not in list"
     ]
    }
   ],
   "source": [
    "a = [1, 2, 3, 4, 5, 6]\n",
    "for i in range(len(a)):\n",
    "    if i % 2:\n",
    "        a[i] = None"
   ]
  },
  {
   "cell_type": "markdown",
   "metadata": {},
   "source": [
    "__#2__ With modifying of incoming initial list:"
   ]
  },
  {
   "cell_type": "code",
   "execution_count": 119,
   "metadata": {},
   "outputs": [
    {
     "name": "stdout",
     "output_type": "stream",
     "text": [
      "['Hello', 'Hello Again'] ['Hello', 'Hello Again']\n",
      "[1, 3, 5, 7, 9] [1, 3, 5, 7, 9]\n",
      "[[1, 2]] [[1, 2]]\n",
      "[['Goodbye']] [['Goodbye']]\n"
     ]
    }
   ],
   "source": [
    "def remove_every_other(my_list):\n",
    "    start = len(my_list) - 2 if len(my_list) % 2 else len(my_list) - 1\n",
    "    for i in range(start, 0, -2):\n",
    "        my_list.pop(i)\n",
    "    return my_list   \n",
    "\n",
    "print(remove_every_other(['Hello', 'Goodbye', 'Hello Again']), ['Hello', 'Hello Again'])\n",
    "print(remove_every_other([1, 2, 3, 4, 5, 6, 7, 8, 9, 10]), [1, 3, 5, 7, 9])\n",
    "print(remove_every_other([[1, 2]]), [[1, 2]])\n",
    "print(remove_every_other([['Goodbye'], {'Great': 'Job'}]), [['Goodbye']])"
   ]
  },
  {
   "cell_type": "markdown",
   "metadata": {},
   "source": [
    "__Other users's solutions:__"
   ]
  },
  {
   "cell_type": "markdown",
   "metadata": {},
   "source": [
    "__#1__ Without modifying of incoming initial list.  \n",
    "Just ordinary list slicing!!! How stupid am I :)"
   ]
  },
  {
   "cell_type": "code",
   "execution_count": 120,
   "metadata": {},
   "outputs": [
    {
     "name": "stdout",
     "output_type": "stream",
     "text": [
      "[1, 2, 3, 4, 5, 6]\n",
      "[1, 3, 5]\n",
      "[1, 2, 3, 4, 5, 6]\n"
     ]
    }
   ],
   "source": [
    "def remove_every_other(my_list):\n",
    "    return my_list[::2]\n",
    "\n",
    "a = [1, 2, 3, 4, 5, 6]\n",
    "print(a)\n",
    "print(remove_every_other(a))\n",
    "print(a)"
   ]
  },
  {
   "cell_type": "markdown",
   "metadata": {},
   "source": [
    "__#2__ With modifying of incoming initial list. __Using some combination of del and list slicing. How does it work??? What an amazing solution!!!__"
   ]
  },
  {
   "cell_type": "code",
   "execution_count": null,
   "metadata": {},
   "outputs": [],
   "source": [
    "def remove_every_other(my_list):\n",
    "    del my_list[1::2]\n",
    "    return my_list\n",
    "\n",
    "a = [1, 2, 3, 4, 5, 6]\n",
    "print(a)\n",
    "print(remove_every_other(a))\n",
    "print(a)"
   ]
  },
  {
   "cell_type": "markdown",
   "metadata": {},
   "source": [
    "__#3__ With modifying of incoming initial list. __Some math magic with indexes__. I don't even try to understand..."
   ]
  },
  {
   "cell_type": "code",
   "execution_count": 126,
   "metadata": {},
   "outputs": [
    {
     "name": "stdout",
     "output_type": "stream",
     "text": [
      "[0, 1, 2, 3, 4, 5, 6]\n",
      "i == 0\n",
      "i == 1\n",
      "i == 2\n",
      "i == 3\n",
      "i == 4\n",
      "i == 5\n",
      "i == 6\n",
      "[0, 2, 4, 6]\n",
      "[0, 2, 4, 6]\n"
     ]
    }
   ],
   "source": [
    "def remove_every_other(l):\n",
    "    for i in range(len(l)):\n",
    "        print(f'i == {i}')\n",
    "        if i % 2 != 0:\n",
    "            del l[i-(i//2)]\n",
    "    return l\n",
    "\n",
    "a = [0, 1, 2, 3, 4, 5, 6]\n",
    "print(a)\n",
    "print(remove_every_other(a))\n",
    "print(a)"
   ]
  },
  {
   "cell_type": "markdown",
   "metadata": {},
   "source": [
    "__#4__ With modifying of incoming initial list. Very entertaining solution!!! I started thinking in this direction but couldn't accomplish it."
   ]
  },
  {
   "cell_type": "code",
   "execution_count": 124,
   "metadata": {},
   "outputs": [
    {
     "name": "stdout",
     "output_type": "stream",
     "text": [
      "[1, 2, 3, 4, 5, 6]\n",
      "[1, 3, 5]\n",
      "[1, 3, 5]\n"
     ]
    }
   ],
   "source": [
    "def remove_every_other(lista):\n",
    "    pos = 1\n",
    "    while pos < len(lista):\n",
    "        lista.pop(pos)\n",
    "        pos = pos + 1\n",
    "    return lista\n",
    "\n",
    "a = [1, 2, 3, 4, 5, 6]\n",
    "print(a)\n",
    "print(remove_every_other(a))\n",
    "print(a)"
   ]
  },
  {
   "cell_type": "markdown",
   "metadata": {},
   "source": [
    "A little modification in order to prevent checking len(lista) before every iteration (but no so beautiful though)"
   ]
  },
  {
   "cell_type": "code",
   "execution_count": 13,
   "metadata": {},
   "outputs": [
    {
     "name": "stdout",
     "output_type": "stream",
     "text": [
      "[1, 2, 3, 4, 5, 6]\n",
      "[1, 3, 5]\n",
      "[1, 3, 5]\n"
     ]
    }
   ],
   "source": [
    "def remove_every_other(lista):\n",
    "    pos = 1\n",
    "    for i in range(len(lista) // 2):\n",
    "        lista.pop(pos)\n",
    "        pos = pos + 1\n",
    "    return lista\n",
    "\n",
    "a = [1, 2, 3, 4, 5, 6]\n",
    "print(a)\n",
    "print(remove_every_other(a))\n",
    "print(a)"
   ]
  },
  {
   "cell_type": "markdown",
   "metadata": {},
   "source": [
    "__#5__ Without modifying of incoming initial list, with slice object."
   ]
  },
  {
   "cell_type": "code",
   "execution_count": 127,
   "metadata": {},
   "outputs": [
    {
     "name": "stdout",
     "output_type": "stream",
     "text": [
      "[1, 2, 3, 4, 5, 6]\n",
      "[1, 3, 5]\n",
      "[1, 2, 3, 4, 5, 6]\n"
     ]
    }
   ],
   "source": [
    "def remove_every_other(my_list):\n",
    "    slice_obj = slice(0, len(my_list), 2)\n",
    "    return my_list[slice_obj]\n",
    "\n",
    "a = [1, 2, 3, 4, 5, 6]\n",
    "print(a)\n",
    "print(remove_every_other(a))\n",
    "print(a)"
   ]
  },
  {
   "cell_type": "markdown",
   "metadata": {},
   "source": [
    "### Find the odd int\n",
    "https://www.codewars.com/kata/54da5a58ea159efa38000836  \n",
    "6 kyu\n",
    "\n",
    "Given an array of integers, find the one that appears an odd number of times.\n",
    "\n",
    "There will always be only one integer that appears an odd number of times."
   ]
  },
  {
   "cell_type": "markdown",
   "metadata": {},
   "source": [
    "__My solution:__"
   ]
  },
  {
   "cell_type": "code",
   "execution_count": 112,
   "metadata": {},
   "outputs": [
    {
     "name": "stdout",
     "output_type": "stream",
     "text": [
      "5 5\n",
      "-1 -1\n",
      "5 5\n",
      "10 10\n",
      "10 10\n",
      "1 1\n"
     ]
    }
   ],
   "source": [
    "from collections import Counter\n",
    "from itertools import islice\n",
    "\n",
    "def find_it(seq):\n",
    "    return next(islice((num for num, counter in Counter(seq).items() if counter % 2), 1))\n",
    "\n",
    "print(find_it([20,1,-1,2,-2,3,3,5,5,1,2,4,20,4,-1,-2,5]), 5)\n",
    "print(find_it([1,1,2,-2,5,2,4,4,-1,-2,5]), -1); \n",
    "print(find_it([20,1,1,2,2,3,3,5,5,4,20,4,5]), 5);\n",
    "print(find_it([10]), 10);\n",
    "print(find_it([1,1,1,1,1,1,10,1,1,1,1]), 10);\n",
    "print(find_it([5,4,3,2,1,5,4,3,2,10,10]), 1);"
   ]
  },
  {
   "cell_type": "code",
   "execution_count": 110,
   "metadata": {},
   "outputs": [
    {
     "name": "stdout",
     "output_type": "stream",
     "text": [
      "20 2\n",
      "1 2\n",
      "-1 2\n",
      "2 2\n",
      "-2 2\n",
      "3 2\n",
      "5 3\n",
      "4 2\n"
     ]
    }
   ],
   "source": [
    "from collections import Counter\n",
    "\n",
    "a = [20,1,-1,2,-2,3,3,5,5,1,2,4,20,4,-1,-2,5]\n",
    "for num, counter in Counter(a).items():\n",
    "    print(num, counter)"
   ]
  },
  {
   "cell_type": "markdown",
   "metadata": {},
   "source": [
    "20101013"
   ]
  },
  {
   "cell_type": "markdown",
   "metadata": {},
   "source": [
    "### Sum of the first nth term of Series\n",
    "https://www.codewars.com/kata/555eded1ad94b00403000071  \n",
    "7 kyu\n",
    "\n",
    "Your task is to write a function which returns the sum of following series upto nth term(parameter).\n",
    "\n",
    "Series: 1 + 1/4 + 1/7 + 1/10 + 1/13 + 1/16 +...\n",
    "\n",
    "Rules:  \n",
    "You need to round the answer to 2 decimal places and return it as String.\n",
    "\n",
    "If the given value is 0 then it should return 0.00\n",
    "\n",
    "You will only be given Natural Numbers as arguments.\n",
    "\n",
    "Examples:  \n",
    "SeriesSum(1) => 1 = \"1.00\"  \n",
    "SeriesSum(2) => 1 + 1/4 = \"1.25\"  \n",
    "SeriesSum(5) => 1 + 1/4 + 1/7 + 1/10 + 1/13 = \"1.57\""
   ]
  },
  {
   "cell_type": "markdown",
   "metadata": {},
   "source": [
    "__My solution:__"
   ]
  },
  {
   "cell_type": "code",
   "execution_count": 133,
   "metadata": {},
   "outputs": [
    {
     "name": "stdout",
     "output_type": "stream",
     "text": [
      "1.00 1.00\n",
      "1.25 1.25\n",
      "1.39 1.39\n"
     ]
    }
   ],
   "source": [
    "def series_sum(n):\n",
    "    s = 0\n",
    "    for i in range(n):\n",
    "        s += 1 / (1 + 3 * i)\n",
    "    return f'{s:.2f}'\n",
    "   \n",
    "print(series_sum(1), \"1.00\")\n",
    "print(series_sum(2), \"1.25\")\n",
    "print(series_sum(3), \"1.39\")"
   ]
  },
  {
   "cell_type": "markdown",
   "metadata": {},
   "source": [
    "Almost the same:"
   ]
  },
  {
   "cell_type": "code",
   "execution_count": 134,
   "metadata": {},
   "outputs": [
    {
     "name": "stdout",
     "output_type": "stream",
     "text": [
      "1.00 1.00\n",
      "1.25 1.25\n",
      "1.39 1.39\n"
     ]
    }
   ],
   "source": [
    "def series_sum(n):\n",
    "    s = 0\n",
    "    for i in range(n):\n",
    "        s += 1 / (1 + 3 * i)\n",
    "    return '{0:.2f}'.format(s)\n",
    "   \n",
    "print(series_sum(1), \"1.00\")\n",
    "print(series_sum(2), \"1.25\")\n",
    "print(series_sum(3), \"1.39\")"
   ]
  },
  {
   "cell_type": "code",
   "execution_count": 142,
   "metadata": {},
   "outputs": [
    {
     "name": "stdout",
     "output_type": "stream",
     "text": [
      "1.00 +  1.00\n",
      "1.25 +  1.25\n",
      "1.39 +  1.39\n"
     ]
    }
   ],
   "source": [
    "def series_sum(n):\n",
    "    s = 0\n",
    "    for i in range(n):\n",
    "        s += 1 / (1 + 3 * i)\n",
    "    return '%.2f' % s\n",
    "   \n",
    "print(series_sum(1), \"1.00\")\n",
    "print(series_sum(2), \"1.25\")\n",
    "print(series_sum(3), \"1.39\")"
   ]
  },
  {
   "cell_type": "code",
   "execution_count": 141,
   "metadata": {},
   "outputs": [
    {
     "name": "stdout",
     "output_type": "stream",
     "text": [
      "1.00 1.00\n",
      "1.25 1.25\n",
      "1.39 1.39\n"
     ]
    }
   ],
   "source": [
    "def series_sum(n):\n",
    "    s = 0\n",
    "    for i in range(n):\n",
    "        s += 1 / (1 + 3 * i)\n",
    "    return format(s, '.2f') # a-я форматирования одиночного элемента\n",
    "   \n",
    "print(series_sum(1), \"1.00\")\n",
    "print(series_sum(2), \"1.25\")\n",
    "print(series_sum(3), \"1.39\")"
   ]
  },
  {
   "cell_type": "markdown",
   "metadata": {},
   "source": [
    "### Mispelled word\n",
    "https://www.codewars.com/kata/5892595f190ca40ad0000095  \n",
    "7 kyu\n",
    "\n",
    "Create a function mispelled(word1, word2):\n",
    "\n",
    "mispelled('versed', 'xersed') # returns True  \n",
    "mispelled('versed', 'applb') # returns False  \n",
    "mispelled('versed', 'v5rsed') # returns True  \n",
    "mispelled('1versed', 'versed') # returns True\n",
    "\n",
    "It checks if the word2 differs from word1 by only one character.\n",
    "\n",
    "This can include an extra char at the end or the beginning of either of words.\n",
    "\n",
    "In the tests that expect true, the mispelled word will always differ only by one character."
   ]
  },
  {
   "cell_type": "markdown",
   "metadata": {},
   "source": [
    "__My solution:__"
   ]
  },
  {
   "cell_type": "code",
   "execution_count": null,
   "metadata": {},
   "outputs": [],
   "source": [
    "from itertools import islice\n",
    "\n",
    "def mispelled(word1, word2):\n",
    "    if len(word1) == len(word2):\n",
    "        return sum(islice((1 for i in range(len(word1)) if word1[i] != word2[i]), 2)) <= 1\n",
    "    elif abs(len(word1) - len(word2)) == 1:\n",
    "        return word1 in word2 or word2 in word1\n",
    "    else:\n",
    "        return False\n",
    "\n",
    "print(mispelled('versed','xersed'), True)\n",
    "print(mispelled('versed','applb'), False)\n",
    "print(mispelled('versed','v5rsed'), True)\n",
    "print(mispelled('1versed','versed'), True)\n",
    "print(mispelled('versed','versed'), True)"
   ]
  },
  {
   "cell_type": "markdown",
   "metadata": {},
   "source": [
    "Previous version of my solution:"
   ]
  },
  {
   "cell_type": "code",
   "execution_count": 4,
   "metadata": {},
   "outputs": [
    {
     "name": "stdout",
     "output_type": "stream",
     "text": [
      "True True\n",
      "False False\n",
      "True True\n",
      "True True\n",
      "True True\n"
     ]
    }
   ],
   "source": [
    "from itertools import islice\n",
    "\n",
    "def mispelled(word1, word2):\n",
    "    def compare(s1, s2):\n",
    "        return sum(islice((1 for i in range(len(s1)) if s1[i] != s2[i]), 2)) <= 1\n",
    "    \n",
    "    if len(word1) == len(word2):\n",
    "        return compare(word1, word2)\n",
    "    elif len(word1) - len(word2) == 1:\n",
    "        return compare(word1, word2 + ' ') or compare(word1, ' ' + word2)\n",
    "    elif len(word2) - len(word1) == 1:\n",
    "        return compare(word1 + ' ', word2) or compare(' ' + word1, word2)\n",
    "    else:\n",
    "        return False\n",
    "\n",
    "print(mispelled('versed','xersed'), True)\n",
    "print(mispelled('versed','applb'), False)\n",
    "print(mispelled('versed','v5rsed'), True)\n",
    "print(mispelled('1versed','versed'), True)\n",
    "print(mispelled('versed','versed'), True)"
   ]
  },
  {
   "cell_type": "code",
   "execution_count": 144,
   "metadata": {},
   "outputs": [
    {
     "data": {
      "text/plain": [
       "0"
      ]
     },
     "execution_count": 144,
     "metadata": {},
     "output_type": "execute_result"
    }
   ],
   "source": [
    "sum([])"
   ]
  },
  {
   "cell_type": "code",
   "execution_count": 3,
   "metadata": {},
   "outputs": [
    {
     "name": "stdout",
     "output_type": "stream",
     "text": [
      "0\n",
      "1\n",
      "2\n",
      "2\n"
     ]
    }
   ],
   "source": [
    "from itertools import islice\n",
    "\n",
    "def compare(s1, s2):\n",
    "        return sum(islice((1 for i in range(len(s1)) if s1[i] != s2[i]), 2))\n",
    "\n",
    "print(compare('versed','versed'))\n",
    "print(compare('versed','xersed'))\n",
    "print(compare('versed','versaa'))\n",
    "print(compare('versed','veraaa')) "
   ]
  },
  {
   "cell_type": "markdown",
   "metadata": {},
   "source": [
    "### Product of consecutive Fib numbers\n",
    "https://www.codewars.com/kata/5541f58a944b85ce6d00006a  \n",
    "5 kyu\n",
    "\n",
    "The Fibonacci numbers are the numbers in the following integer sequence (Fn):\n",
    "\n",
    "0, 1, 1, 2, 3, 5, 8, 13, 21, 34, 55, 89, 144, 233, ...\n",
    "\n",
    "such as\n",
    "\n",
    "F(n) = F(n-1) + F(n-2) with F(0) = 0 and F(1) = 1.\n",
    "\n",
    "Given a number, say prod (for product), we search two Fibonacci numbers F(n) and F(n+1) verifying\n",
    "\n",
    "F(n) * F(n+1) = prod.\n",
    "\n",
    "Your function productFib takes an integer (prod) and returns an array:\n",
    "\n",
    "[F(n), F(n+1), true] or {F(n), F(n+1), 1} or (F(n), F(n+1), True)\n",
    "depending on the language if F(n) * F(n+1) = prod.\n",
    "\n",
    "If you don't find two consecutive F(m) verifying F(m) * F(m+1) = prodyou will return\n",
    "\n",
    "[F(m), F(m+1), false] or {F(n), F(n+1), 0} or (F(n), F(n+1), False)\n",
    "F(m) being the smallest one such as F(m) * F(m+1) > prod.\n",
    "\n",
    "Some Examples of Return:  \n",
    "(depend on the language)  \n",
    "\n",
    "productFib(714) # should return (21, 34, true),  \n",
    "                # since F(8) = 21, F(9) = 34 and 714 = 21 * 34\n",
    "                \n",
    "productFib(800) # should return (34, 55, false), \n",
    "                # since F(8) = 21, F(9) = 34, F(10) = 55 \n",
    "                # and 21 * 34 < 800 < 34 * 55\n",
    "                \n",
    "productFib(714) # should return [21, 34, true], \n",
    "\n",
    "productFib(800) # should return [34, 55, false], \n",
    "\n",
    "productFib(714) # should return {21, 34, 1}, \n",
    "\n",
    "productFib(800) # should return {34, 55, 0},   \n",
    "\n",
    "productFib(714) # should return {21, 34, true}, \n",
    "\n",
    "productFib(800) # should return {34, 55, false}\n",
    "\n",
    "Note:  \n",
    "You can see examples for your language in \"Sample Tests\"."
   ]
  },
  {
   "cell_type": "markdown",
   "metadata": {},
   "source": [
    "__My solution:__"
   ]
  },
  {
   "cell_type": "code",
   "execution_count": 10,
   "metadata": {},
   "outputs": [
    {
     "name": "stdout",
     "output_type": "stream",
     "text": [
      "[55, 89, True] [55, 89, True]\n",
      "[89, 144, False] [89, 144, False]\n"
     ]
    }
   ],
   "source": [
    "def productFib(prod):\n",
    "    Fprev = 0\n",
    "    Fn = 1\n",
    "    \n",
    "    while True:\n",
    "        p = Fprev * Fn\n",
    "        if p == prod:\n",
    "            return [Fprev, Fn, True]\n",
    "        if p > prod:\n",
    "            return [Fprev, Fn, False]\n",
    "        \n",
    "        Fprev, Fn = Fn, Fprev + Fn\n",
    "\n",
    "print(productFib(4895), [55, 89, True])\n",
    "print(productFib(5895), [89, 144, False])"
   ]
  },
  {
   "cell_type": "markdown",
   "metadata": {},
   "source": [
    "20201014"
   ]
  },
  {
   "cell_type": "markdown",
   "metadata": {},
   "source": [
    "### Tribonacci Sequence\n",
    "https://www.codewars.com/kata/556deca17c58da83c00002db  \n",
    "6 kyu\n",
    "\n",
    "Well met with Fibonacci bigger brother, AKA Tribonacci.\n",
    "\n",
    "As the name may already reveal, it works basically like a Fibonacci, but summing the last 3 (instead of 2) numbers of the sequence to generate the next. And, worse part of it, regrettably I won't get to hear non-native Italian speakers trying to pronounce it :(\n",
    "\n",
    "So, if we are to start our Tribonacci sequence with [1, 1, 1] as a starting input (AKA signature), we have this sequence:\n",
    "\n",
    "[1, 1 ,1, 3, 5, 9, 17, 31, ...]\n",
    "\n",
    "But what if we started with [0, 0, 1] as a signature? As starting with [0, 1] instead of [1, 1] basically shifts the common Fibonacci sequence by once place, you may be tempted to think that we would get the same sequence shifted by 2 places, but that is not the case and we would get:\n",
    "\n",
    "[0, 0, 1, 1, 2, 4, 7, 13, 24, ...]\n",
    "\n",
    "Well, you may have guessed it by now, but to be clear: you need to create a fibonacci function that given a signature array/list, returns the first n elements - signature included of the so seeded sequence.\n",
    "\n",
    "Signature will always contain 3 numbers; n will always be a non-negative number; if n == 0, then return an empty array (except in C return NULL) and be ready for anything else which is not clearly specified ;)"
   ]
  },
  {
   "cell_type": "markdown",
   "metadata": {},
   "source": [
    "__My solutions:__"
   ]
  },
  {
   "cell_type": "markdown",
   "metadata": {},
   "source": [
    "__#1__ NB! This function changes an initial signature list and it could be crucial in some programs."
   ]
  },
  {
   "cell_type": "code",
   "execution_count": 10,
   "metadata": {},
   "outputs": [
    {
     "name": "stdout",
     "output_type": "stream",
     "text": [
      "[1, 1, 1, 3, 5, 9, 17, 31, 57, 105] [1, 1, 1, 3, 5, 9, 17, 31, 57, 105]\n",
      "[0, 0, 1, 1, 2, 4, 7, 13, 24, 44] [0, 0, 1, 1, 2, 4, 7, 13, 24, 44]\n",
      "[0, 1, 1, 2, 4, 7, 13, 24, 44, 81] [0, 1, 1, 2, 4, 7, 13, 24, 44, 81]\n",
      "[1, 0, 0, 1, 1, 2, 4, 7, 13, 24] [1, 0, 0, 1, 1, 2, 4, 7, 13, 24]\n",
      "[0, 0, 0, 0, 0, 0, 0, 0, 0, 0] [0, 0, 0, 0, 0, 0, 0, 0, 0, 0]\n",
      "[1, 2, 3, 6, 11, 20, 37, 68, 125, 230] [1, 2, 3, 6, 11, 20, 37, 68, 125, 230]\n",
      "[3, 2, 1, 6, 9, 16, 31, 56, 103, 190] [3, 2, 1, 6, 9, 16, 31, 56, 103, 190]\n",
      "[1] [1]\n",
      "[] []\n",
      "[0.5, 0.5, 0.5, 1.5, 2.5, 4.5, 8.5, 15.5, 28.5, 52.5, 96.5, 177.5, 326.5, 600.5, 1104.5, 2031.5, 3736.5, 6872.5, 12640.5, 23249.5, 42762.5, 78652.5, 144664.5, 266079.5, 489396.5, 900140.5, 1655616.5, 3045153.5, 5600910.5, 10301680.5] [0.5, 0.5, 0.5, 1.5, 2.5, 4.5, 8.5, 15.5, 28.5, 52.5, 96.5, 177.5, 326.5, 600.5, 1104.5, 2031.5, 3736.5, 6872.5, 12640.5, 23249.5, 42762.5, 78652.5, 144664.5, 266079.5, 489396.5, 900140.5, 1655616.5, 3045153.5, 5600910.5, 10301680.5]\n"
     ]
    }
   ],
   "source": [
    "def tribonacci(signature, n):\n",
    "    while len(signature) < n:\n",
    "        signature.append(sum(signature[-3:]))\n",
    "    return signature[:n]\n",
    "\n",
    "\n",
    "print(tribonacci([1, 1, 1], 10), [1, 1, 1, 3, 5, 9, 17, 31, 57, 105])\n",
    "print(tribonacci([0, 0, 1], 10), [0, 0, 1, 1, 2, 4, 7, 13, 24, 44])\n",
    "print(tribonacci([0, 1, 1], 10), [0, 1, 1, 2, 4, 7, 13, 24, 44, 81])\n",
    "print(tribonacci([1, 0, 0], 10), [1, 0, 0, 1, 1, 2, 4, 7, 13, 24])\n",
    "print(tribonacci([0, 0, 0], 10), [0, 0, 0, 0, 0, 0, 0, 0, 0, 0])\n",
    "print(tribonacci([1, 2, 3], 10), [1, 2, 3, 6, 11, 20, 37, 68, 125, 230])\n",
    "print(tribonacci([3, 2, 1], 10), [3, 2, 1, 6, 9, 16, 31, 56, 103, 190])\n",
    "print(tribonacci([1, 1, 1], 1), [1])\n",
    "print(tribonacci([300, 200, 100], 0), [])\n",
    "print(tribonacci([0.5, 0.5, 0.5], 30), [0.5, 0.5, 0.5, 1.5, 2.5, 4.5, 8.5, 15.5, 28.5, 52.5, 96.5, 177.5, 326.5, 600.5, 1104.5, 2031.5, 3736.5, 6872.5, 12640.5, 23249.5, 42762.5, 78652.5, 144664.5, 266079.5, 489396.5, 900140.5, 1655616.5, 3045153.5, 5600910.5, 10301680.5])"
   ]
  },
  {
   "cell_type": "markdown",
   "metadata": {},
   "source": [
    "__#2__ A little revised solution #1: an initial signature list is not changed. Also return statement changed."
   ]
  },
  {
   "cell_type": "code",
   "execution_count": 11,
   "metadata": {},
   "outputs": [
    {
     "name": "stdout",
     "output_type": "stream",
     "text": [
      "[1, 1, 1, 3, 5, 9, 17, 31, 57, 105] [1, 1, 1, 3, 5, 9, 17, 31, 57, 105]\n",
      "[0, 0, 1, 1, 2, 4, 7, 13, 24, 44] [0, 0, 1, 1, 2, 4, 7, 13, 24, 44]\n"
     ]
    }
   ],
   "source": [
    "def tribonacci(signature, n):\n",
    "    trib = signature.copy()\n",
    "    while len(trib) < n:\n",
    "        trib.append(sum(trib[-3:]))\n",
    "    return trib[:n] if n < len(trib) else trib\n",
    "\n",
    "\n",
    "print(tribonacci([1, 1, 1], 10), [1, 1, 1, 3, 5, 9, 17, 31, 57, 105])\n",
    "print(tribonacci([0, 0, 1], 10), [0, 0, 1, 1, 2, 4, 7, 13, 24, 44])"
   ]
  },
  {
   "cell_type": "markdown",
   "metadata": {},
   "source": [
    "Almost the same but a little bit smarter (after browsing solutions of other users):"
   ]
  },
  {
   "cell_type": "code",
   "execution_count": 12,
   "metadata": {},
   "outputs": [
    {
     "name": "stdout",
     "output_type": "stream",
     "text": [
      "[1, 1, 1, 3, 5, 9, 17, 31, 57, 105] [1, 1, 1, 3, 5, 9, 17, 31, 57, 105]\n",
      "[0, 0, 1, 1, 2, 4, 7, 13, 24, 44] [0, 0, 1, 1, 2, 4, 7, 13, 24, 44]\n"
     ]
    }
   ],
   "source": [
    "def tribonacci(signature, n):\n",
    "    trib = signature[:n]\n",
    "    while len(trib) < n:\n",
    "        trib.append(sum(trib[-3:]))\n",
    "    return trib\n",
    "\n",
    "print(tribonacci([1, 1, 1], 10), [1, 1, 1, 3, 5, 9, 17, 31, 57, 105])\n",
    "print(tribonacci([0, 0, 1], 10), [0, 0, 1, 1, 2, 4, 7, 13, 24, 44])"
   ]
  },
  {
   "cell_type": "code",
   "execution_count": 4,
   "metadata": {},
   "outputs": [
    {
     "name": "stdout",
     "output_type": "stream",
     "text": [
      "[1, 2, 3] [1, 2]\n",
      "[1, 2, 3] [1, 5]\n"
     ]
    }
   ],
   "source": [
    "a = [1, 2, 3]\n",
    "b = a[:2]\n",
    "print(a, b)\n",
    "b[1] = 5\n",
    "print(a, b)  # Only b changed"
   ]
  },
  {
   "cell_type": "code",
   "execution_count": 9,
   "metadata": {},
   "outputs": [
    {
     "data": {
      "text/plain": [
       "[1, 2, 3]"
      ]
     },
     "execution_count": 9,
     "metadata": {},
     "output_type": "execute_result"
    }
   ],
   "source": [
    "a = [1, 2, 3]\n",
    "a[-3:]"
   ]
  },
  {
   "cell_type": "markdown",
   "metadata": {},
   "source": [
    "__Other users' solutions:__"
   ]
  },
  {
   "cell_type": "markdown",
   "metadata": {},
   "source": [
    "__#1__ Using for-loop prevents from checking len(trib) before every iteration so it's better:"
   ]
  },
  {
   "cell_type": "code",
   "execution_count": null,
   "metadata": {},
   "outputs": [],
   "source": [
    "def tribonacci(signature, n):\n",
    "    res = signature[:n]\n",
    "    for i in range(n - 3): \n",
    "        res.append(sum(res[-3:]))\n",
    "    return res"
   ]
  },
  {
   "cell_type": "markdown",
   "metadata": {},
   "source": [
    "### Sentences should start with capital letters.\n",
    "https://www.codewars.com/kata/5bf774a81505a7413400006a  \n",
    "7 kyu\n",
    "\n",
    "In English, all words at the begining of a sentence should begin with a capital letter.\n",
    "\n",
    "You will be given a paragraph that does not use capital letters. Your job is to capitalise the first letter of the first word of each sentence.\n",
    "\n",
    "For example,\n",
    "\n",
    "input:\n",
    "\n",
    "\"hello. my name is inigo montoya. you killed my father. prepare to die.\"\n",
    "\n",
    "output:\n",
    "\n",
    "\"Hello. My name is inigo montoya. You killed my father. Prepare to die.\"\n",
    "\n",
    "You may assume:\n",
    "\n",
    "there will be no punctuation besides full stops and spaces\n",
    "\n",
    "all but the last full stop will be followed by a space and at least one word"
   ]
  },
  {
   "cell_type": "markdown",
   "metadata": {},
   "source": [
    "__My solutions:__"
   ]
  },
  {
   "cell_type": "code",
   "execution_count": 20,
   "metadata": {},
   "outputs": [
    {
     "name": "stdout",
     "output_type": "stream",
     "text": [
      " \n",
      "Hi. Hi.\n",
      "Hello. My name is inigo montoya. You killed my father. Prepare to die.\n",
      "Hello. My name is inigo montoya. You killed my father. Prepare to die.\n"
     ]
    }
   ],
   "source": [
    "def fix(paragraph):\n",
    "    return '. '.join(s.capitalize() for s in paragraph.split('. '))\n",
    "\n",
    "print(fix(\"\"), \"\")\n",
    "print(fix(\"hi.\"), \"Hi.\")\n",
    "print(fix(\"hello. my name is inigo montoya. you killed my father. prepare to die.\"),\n",
    "          \"Hello. My name is inigo montoya. You killed my father. Prepare to die.\", sep='\\n')"
   ]
  },
  {
   "cell_type": "code",
   "execution_count": 15,
   "metadata": {},
   "outputs": [
    {
     "name": "stdout",
     "output_type": "stream",
     "text": [
      "Help on method_descriptor:\n",
      "\n",
      "capitalize(self, /)\n",
      "    Return a capitalized version of the string.\n",
      "    \n",
      "    More specifically, make the first character have upper case and the rest lower\n",
      "    case.\n",
      "\n"
     ]
    }
   ],
   "source": [
    "help(str.capitalize)"
   ]
  },
  {
   "cell_type": "code",
   "execution_count": 16,
   "metadata": {},
   "outputs": [
    {
     "name": "stdout",
     "output_type": "stream",
     "text": [
      "Help on method_descriptor:\n",
      "\n",
      "title(self, /)\n",
      "    Return a version of the string where each word is titlecased.\n",
      "    \n",
      "    More specifically, words start with uppercased characters and all remaining\n",
      "    cased characters have lower case.\n",
      "\n"
     ]
    }
   ],
   "source": [
    "help(str.title)"
   ]
  },
  {
   "cell_type": "markdown",
   "metadata": {},
   "source": [
    "__#2__ Using regex is for all ending punctuation (.|!|?|...) and any amount of spaces, tabs and \\n:"
   ]
  },
  {
   "cell_type": "code",
   "execution_count": 33,
   "metadata": {},
   "outputs": [
    {
     "name": "stdout",
     "output_type": "stream",
     "text": [
      " \n",
      "Hi. Hi.\n",
      "Hello. My name is inigo montoya. \t   \t You killed my father.Prepare to die.        \n",
      "  \n",
      "Hello again! My name is still inigo montoya.   You killed my father, right?Prepare to die...          Bastard.\n",
      "I hate you.\n",
      "\n"
     ]
    }
   ],
   "source": [
    "import re\n",
    "\n",
    "def fix(paragraph):\n",
    "    return re.sub(r'(\\A\\w{1})|(([\\.|!|\\?]\\s*)(\\w))', lambda m: m.group(1).upper() if m.group(1) else m.group(3) + m.group(4).upper(), paragraph)\n",
    "\n",
    "print(fix(\"\"), \"\")\n",
    "print(fix(\"hi.\"), \"Hi.\")  # Doesn't pass this test \n",
    "print(fix(\"hello. my name is inigo montoya. \\t   \\t you killed my father.prepare to die.\\\n",
    "        \\n  \\nhello again! my name is still inigo montoya.   you killed my father, right?prepare to die... \\\n",
    "         bastard.\\ni hate you.\"), \n",
    "      \"\", sep='\\n')"
   ]
  },
  {
   "cell_type": "markdown",
   "metadata": {},
   "source": [
    "The previous version of #2: doesn't pass one test:"
   ]
  },
  {
   "cell_type": "code",
   "execution_count": 30,
   "metadata": {},
   "outputs": [
    {
     "name": "stdout",
     "output_type": "stream",
     "text": [
      " \n",
      "hi. Hi.\n",
      "hello. My name is inigo montoya. \tYou killed my father.Prepare to die.        \n",
      "Hello again! My name is inigo montoya.   You killed my father?Prepare to die...          Bastard.\n",
      "I hate you.\n",
      "\n"
     ]
    }
   ],
   "source": [
    "import re\n",
    "\n",
    "def fix(paragraph):\n",
    "    return re.sub(r'([\\.|!|\\?]\\s*)(\\w)', lambda m: m.group(1) + m.group(2).upper(), paragraph)\n",
    "\n",
    "print(fix(\"\"), \"\")\n",
    "print(fix(\"hi.\"), \"Hi.\")  # Doesn't pass this test \n",
    "print(fix(\"hello. my name is inigo montoya. \tyou killed my father.prepare to die.\\\n",
    "        \\nhello again! my name is inigo montoya.   you killed my father?prepare to die... \\\n",
    "         bastard.\\ni hate you.\"), \n",
    "      \"\", sep='\\n')"
   ]
  },
  {
   "cell_type": "markdown",
   "metadata": {},
   "source": [
    "After browsing solutions of other users changed my #2 solution and made it simplier because I can upper the whole match (with dots, spaces e.t.) without dealing with subgroups:"
   ]
  },
  {
   "cell_type": "code",
   "execution_count": 38,
   "metadata": {},
   "outputs": [
    {
     "name": "stdout",
     "output_type": "stream",
     "text": [
      " \n",
      "Hi. Hi.\n",
      "Hello. My name is inigo montoya. \t   \t You killed my father.Prepare to die.        \n",
      "  \n",
      "Hello again! My name is still inigo montoya.   You killed my father, right?Prepare to die...          Bastard.\n",
      "I hate you.\n",
      "\n"
     ]
    }
   ],
   "source": [
    "import re\n",
    "\n",
    "def fix(paragraph):\n",
    "    return re.sub(r'\\A\\w|[\\.|!|\\?]\\s*\\w', lambda m: m[0].upper(), paragraph)\n",
    "\n",
    "print(fix(\"\"), \"\")\n",
    "print(fix(\"hi.\"), \"Hi.\")  # Doesn't pass this test \n",
    "print(fix(\"hello. my name is inigo montoya. \\t   \\t you killed my father.prepare to die.\\\n",
    "        \\n  \\nhello again! my name is still inigo montoya.   you killed my father, right?prepare to die... \\\n",
    "         bastard.\\ni hate you.\"), \n",
    "      \"\", sep='\\n')"
   ]
  },
  {
   "cell_type": "markdown",
   "metadata": {},
   "source": [
    "__Other users' solutions:__"
   ]
  },
  {
   "cell_type": "markdown",
   "metadata": {},
   "source": [
    "__#1__"
   ]
  },
  {
   "cell_type": "code",
   "execution_count": 34,
   "metadata": {},
   "outputs": [
    {
     "name": "stdout",
     "output_type": "stream",
     "text": [
      " \n",
      "Hi. Hi.\n",
      "Hello. My name is inigo montoya. You killed my father. Prepare to die.\n",
      "Hello. My name is inigo montoya. You killed my father. Prepare to die.\n"
     ]
    }
   ],
   "source": [
    "def fix(paragraph):\n",
    "    return '. '.join(map(str.capitalize, paragraph.split('. ')))\n",
    "\n",
    "print(fix(\"\"), \"\")\n",
    "print(fix(\"hi.\"), \"Hi.\")\n",
    "print(fix(\"hello. my name is inigo montoya. you killed my father. prepare to die.\"),\n",
    "          \"Hello. My name is inigo montoya. You killed my father. Prepare to die.\", sep='\\n')"
   ]
  },
  {
   "cell_type": "markdown",
   "metadata": {},
   "source": [
    "__#2__ __Great idea to upper the whole match without dealing with subgroups as I did:__"
   ]
  },
  {
   "cell_type": "code",
   "execution_count": 35,
   "metadata": {},
   "outputs": [
    {
     "name": "stdout",
     "output_type": "stream",
     "text": [
      " \n",
      "Hi. Hi.\n",
      "Hello. My name is inigo montoya. You killed my father. Prepare to die.\n",
      "Hello. My name is inigo montoya. You killed my father. Prepare to die.\n"
     ]
    }
   ],
   "source": [
    "import re\n",
    "\n",
    "def fix(paragraph: str) -> str:\n",
    "    to_upper = lambda match: match.group(0).upper()\n",
    "    return re.sub(r\"^\\w|\\.\\s*\\w\", to_upper, paragraph)\n",
    "\n",
    "print(fix(\"\"), \"\")\n",
    "print(fix(\"hi.\"), \"Hi.\")\n",
    "print(fix(\"hello. my name is inigo montoya. you killed my father. prepare to die.\"),\n",
    "          \"Hello. My name is inigo montoya. You killed my father. Prepare to die.\", sep='\\n')"
   ]
  },
  {
   "cell_type": "markdown",
   "metadata": {},
   "source": [
    "### Money, Money, Money\n",
    "https://www.codewars.com/kata/563f037412e5ada593000114  \n",
    "7 kyu\n",
    "\n",
    "Mr. Scrooge has a sum of money 'P' that he wants to invest. Before he does, he wants to know how many years 'Y' this sum 'P' has to be kept in the bank in order for it to amount to a desired sum of money 'D'.\n",
    "\n",
    "The sum is kept for 'Y' years in the bank where interest 'I' is paid yearly. After paying taxes 'T' for the year the new sum is re-invested.\n",
    "\n",
    "Note to Tax: not the invested principal is taxed, but only the year's accrued interest\n",
    "\n",
    "Example:\n",
    "\n",
    "  Let P be the Principal = 1000.00      \n",
    "  Let I be the Interest Rate = 0.05      \n",
    "  Let T be the Tax Rate = 0.18      \n",
    "  Let D be the Desired Sum = 1100.00  \n",
    "\n",
    "\n",
    "After 1st Year -->  \n",
    "  P = 1041.00  \n",
    "After 2nd Year -->  \n",
    "  P = 1083.86  \n",
    "After 3rd Year -->  \n",
    "  P = 1128.30\n",
    "  \n",
    "Thus Mr. Scrooge has to wait for 3 years for the initial principal to amount to the desired sum.\n",
    "\n",
    "Your task is to complete the method provided and return the number of years 'Y' as a whole in order for Mr. Scrooge to get the desired sum.\n",
    "\n",
    "Assumption: Assume that Desired Principal 'D' is always greater than the initial principal. However it is best to take into consideration that if Desired Principal 'D' is equal to Principal 'P' this should return 0 Years."
   ]
  },
  {
   "cell_type": "markdown",
   "metadata": {},
   "source": [
    "__My solution:__"
   ]
  },
  {
   "cell_type": "code",
   "execution_count": 42,
   "metadata": {},
   "outputs": [
    {
     "name": "stdout",
     "output_type": "stream",
     "text": [
      "3 3\n",
      "14 14\n",
      "0 0\n"
     ]
    }
   ],
   "source": [
    "def calculate_years(principal, interest, tax, desired):\n",
    "    factor = 1 + interest * (1 - tax)\n",
    "    year = 0\n",
    "    Sum = principal\n",
    "    while Sum < desired:\n",
    "        Sum *= factor\n",
    "        year += 1\n",
    "    return year\n",
    "    \n",
    "print(calculate_years(1000, 0.05, 0.18, 1100), 3)\n",
    "print(calculate_years(1000,0.01625,0.18,1200), 14)\n",
    "print(calculate_years(1000,0.05,0.18,1000), 0)"
   ]
  },
  {
   "cell_type": "markdown",
   "metadata": {},
   "source": [
    "20201015"
   ]
  },
  {
   "cell_type": "markdown",
   "metadata": {},
   "source": [
    "### Which are in?\n",
    "https://www.codewars.com/kata/550554fd08b86f84fe000a58  \n",
    "6 kyu\n",
    "\n",
    "Given two arrays of strings a1 and a2 return a sorted array r in lexicographical order of the strings of a1 which are substrings of strings of a2.\n",
    "\n",
    "Example 1: a1 = [\"arp\", \"live\", \"strong\"]\n",
    "\n",
    "a2 = [\"lively\", \"alive\", \"harp\", \"sharp\", \"armstrong\"]\n",
    "\n",
    "returns [\"arp\", \"live\", \"strong\"]\n",
    "\n",
    "Example 2: a1 = [\"tarp\", \"mice\", \"bull\"]\n",
    "\n",
    "a2 = [\"lively\", \"alive\", \"harp\", \"sharp\", \"armstrong\"]\n",
    "\n",
    "returns []\n",
    "\n",
    "Notes:  \n",
    "Arrays are written in \"general\" notation. See \"Your Test Cases\" for examples in your language.\n",
    "\n",
    "In Shell bash a1 and a2 are strings. The return is a string where words are separated by commas.\n",
    "\n",
    "Beware: r must be without duplicates.\n",
    "\n",
    "Don't mutate the inputs."
   ]
  },
  {
   "cell_type": "markdown",
   "metadata": {},
   "source": [
    "__My solution:__"
   ]
  },
  {
   "cell_type": "markdown",
   "metadata": {},
   "source": [
    "It passes all codewar test but it could work wrong if some strings in a1 have one space: "
   ]
  },
  {
   "cell_type": "code",
   "execution_count": 49,
   "metadata": {},
   "outputs": [
    {
     "name": "stdout",
     "output_type": "stream",
     "text": [
      "['arp', 'live', 'strong'] ['arp', 'live', 'strong']\n",
      "['abc'] ['abc']\n"
     ]
    }
   ],
   "source": [
    "def in_array(array1, array2):\n",
    "    s = ' '.join(array2)\n",
    "    return sorted({word for word in array1 if word in s})\n",
    "\n",
    "a1 = [\"live\", \"arp\", \"strong\"] \n",
    "a2 = [\"lively\", \"alive\", \"harp\", \"sharp\", \"armstrong\"]\n",
    "r = ['arp', 'live', 'strong']\n",
    "print(in_array(a1, a2), r)\n",
    "a1 = [\"abc\", \"def\"]\n",
    "a2 = [\"abcd\", \"ef\"]\n",
    "r = [\"abc\"]\n",
    "print(in_array(a1, a2), r)"
   ]
  },
  {
   "cell_type": "code",
   "execution_count": 46,
   "metadata": {},
   "outputs": [
    {
     "name": "stdout",
     "output_type": "stream",
     "text": [
      "Help on method_descriptor:\n",
      "\n",
      "index(...)\n",
      "    S.index(sub[, start[, end]]) -> int\n",
      "    \n",
      "    Return the lowest index in S where substring sub is found, \n",
      "    such that sub is contained within S[start:end].  Optional\n",
      "    arguments start and end are interpreted as in slice notation.\n",
      "    \n",
      "    Raises ValueError when the substring is not found.\n",
      "\n"
     ]
    }
   ],
   "source": [
    "help(str.index)"
   ]
  },
  {
   "cell_type": "code",
   "execution_count": 47,
   "metadata": {},
   "outputs": [
    {
     "name": "stdout",
     "output_type": "stream",
     "text": [
      "Help on method_descriptor:\n",
      "\n",
      "find(...)\n",
      "    S.find(sub[, start[, end]]) -> int\n",
      "    \n",
      "    Return the lowest index in S where substring sub is found,\n",
      "    such that sub is contained within S[start:end].  Optional\n",
      "    arguments start and end are interpreted as in slice notation.\n",
      "    \n",
      "    Return -1 on failure.\n",
      "\n"
     ]
    }
   ],
   "source": [
    "help(str.find)"
   ]
  },
  {
   "cell_type": "code",
   "execution_count": 48,
   "metadata": {},
   "outputs": [
    {
     "name": "stdout",
     "output_type": "stream",
     "text": [
      "Help on method_descriptor:\n",
      "\n",
      "startswith(...)\n",
      "    S.startswith(prefix[, start[, end]]) -> bool\n",
      "    \n",
      "    Return True if S starts with the specified prefix, False otherwise.\n",
      "    With optional start, test S beginning at that position.\n",
      "    With optional end, stop comparing S at that position.\n",
      "    prefix can also be a tuple of strings to try.\n",
      "\n"
     ]
    }
   ],
   "source": [
    "help(str.startswith)"
   ]
  },
  {
   "cell_type": "markdown",
   "metadata": {},
   "source": [
    "__Other users's solutions:__"
   ]
  },
  {
   "cell_type": "code",
   "execution_count": null,
   "metadata": {},
   "outputs": [],
   "source": [
    "def in_array(a1, a2):\n",
    "    return sorted({sub for sub in a1 if any(sub in s for s in a2)})"
   ]
  },
  {
   "cell_type": "code",
   "execution_count": 50,
   "metadata": {},
   "outputs": [
    {
     "data": {
      "text/plain": [
       "True"
      ]
     },
     "execution_count": 50,
     "metadata": {},
     "output_type": "execute_result"
    }
   ],
   "source": [
    "any((0, 0, 1, 0))"
   ]
  },
  {
   "cell_type": "code",
   "execution_count": 51,
   "metadata": {},
   "outputs": [
    {
     "data": {
      "text/plain": [
       "True"
      ]
     },
     "execution_count": 51,
     "metadata": {},
     "output_type": "execute_result"
    }
   ],
   "source": [
    "any((0, 1, 1, 0))"
   ]
  },
  {
   "cell_type": "code",
   "execution_count": 52,
   "metadata": {},
   "outputs": [
    {
     "data": {
      "text/plain": [
       "False"
      ]
     },
     "execution_count": 52,
     "metadata": {},
     "output_type": "execute_result"
    }
   ],
   "source": [
    "any((0, 0, 0, 0))"
   ]
  },
  {
   "cell_type": "markdown",
   "metadata": {},
   "source": [
    "### Build Tower\n",
    "https://www.codewars.com/kata/576757b1df89ecf5bd00073b  \n",
    "6 kyu\n",
    "\n",
    "Build Tower by the following given argument:\n",
    "number of floors (integer and always greater than 0).\n",
    "\n",
    "Tower block is represented as *\n",
    "\n",
    "Python: return a list"
   ]
  },
  {
   "cell_type": "markdown",
   "metadata": {},
   "source": [
    "__My solution:__"
   ]
  },
  {
   "cell_type": "code",
   "execution_count": 67,
   "metadata": {},
   "outputs": [
    {
     "name": "stdout",
     "output_type": "stream",
     "text": [
      "['*'] ['*']\n",
      "[' * ', '***'] [' * ', '***']\n",
      "['  *  ', ' *** ', '*****'] ['  *  ', ' *** ', '*****']\n"
     ]
    }
   ],
   "source": [
    "def tower_builder(n_floors):\n",
    "    return list(map(lambda s: f'{s:^{2 * n_floors - 1}}', ((2 * i + 1) * '*' for i in range(n_floors))))\n",
    "    \n",
    "print(tower_builder(1), ['*', ])\n",
    "print(tower_builder(2), [' * ', '***'])\n",
    "print(tower_builder(3), ['  *  ', ' *** ', '*****'])"
   ]
  },
  {
   "cell_type": "markdown",
   "metadata": {},
   "source": [
    "Almost the same:"
   ]
  },
  {
   "cell_type": "code",
   "execution_count": 68,
   "metadata": {},
   "outputs": [
    {
     "name": "stdout",
     "output_type": "stream",
     "text": [
      "['*'] ['*']\n",
      "[' * ', '***'] [' * ', '***']\n",
      "['  *  ', ' *** ', '*****'] ['  *  ', ' *** ', '*****']\n"
     ]
    }
   ],
   "source": [
    "def tower_builder(n_floors):\n",
    "    width = 2 * n_floors - 1\n",
    "    return [f\"{(2 * i + 1) * '*':^{width}}\" for i in range(n_floors)]\n",
    "    \n",
    "print(tower_builder(1), ['*', ])\n",
    "print(tower_builder(2), [' * ', '***'])\n",
    "print(tower_builder(3), ['  *  ', ' *** ', '*****'])"
   ]
  },
  {
   "cell_type": "code",
   "execution_count": 66,
   "metadata": {},
   "outputs": [
    {
     "data": {
      "text/plain": [
       "'  *  '"
      ]
     },
     "execution_count": 66,
     "metadata": {},
     "output_type": "execute_result"
    }
   ],
   "source": [
    "s = '*'\n",
    "n = 5\n",
    "f'{s:^{n}}'  # Double braces are required here\n",
    "             # Здесь требуются двойные фиг. скобки"
   ]
  },
  {
   "cell_type": "markdown",
   "metadata": {},
   "source": [
    "__Other users' solution:__"
   ]
  },
  {
   "cell_type": "code",
   "execution_count": 69,
   "metadata": {},
   "outputs": [
    {
     "name": "stdout",
     "output_type": "stream",
     "text": [
      "['*'] ['*']\n",
      "[' * ', '***'] [' * ', '***']\n",
      "['  *  ', ' *** ', '*****'] ['  *  ', ' *** ', '*****']\n"
     ]
    }
   ],
   "source": [
    "def tower_builder(n):\n",
    "    return [(\"*\" * (i*2-1)).center(n*2-1) for i in range(1, n+1)]\n",
    "\n",
    "print(tower_builder(1), ['*', ])\n",
    "print(tower_builder(2), [' * ', '***'])\n",
    "print(tower_builder(3), ['  *  ', ' *** ', '*****'])"
   ]
  },
  {
   "cell_type": "code",
   "execution_count": 70,
   "metadata": {},
   "outputs": [
    {
     "name": "stdout",
     "output_type": "stream",
     "text": [
      "Help on method_descriptor:\n",
      "\n",
      "center(self, width, fillchar=' ', /)\n",
      "    Return a centered string of length width.\n",
      "    \n",
      "    Padding is done using the specified fill character (default is a space).\n",
      "\n"
     ]
    }
   ],
   "source": [
    "help(str.center)"
   ]
  },
  {
   "cell_type": "markdown",
   "metadata": {},
   "source": [
    "20201016"
   ]
  },
  {
   "cell_type": "markdown",
   "metadata": {},
   "source": [
    "### Return Negative\n",
    "https://www.codewars.com/kata/55685cd7ad70877c23000102  \n",
    "7 kyu\n",
    "\n",
    "In this simple assignment you are given a number and have to make it negative. But maybe the number is already negative?\n",
    "\n",
    "Example:\n",
    "\n",
    "make_negative(1);  # return -1  \n",
    "make_negative(-5); # return -5  \n",
    "make_negative(0);  # return 0\n",
    "\n",
    "Notes:\n",
    "\n",
    "The number can be negative already, in which case no change is required.\n",
    "\n",
    "Zero (0) is not checked for any specific sign. Negative zeros make no mathematical sense."
   ]
  },
  {
   "cell_type": "markdown",
   "metadata": {},
   "source": [
    "__My solution:__"
   ]
  },
  {
   "cell_type": "code",
   "execution_count": 71,
   "metadata": {},
   "outputs": [
    {
     "name": "stdout",
     "output_type": "stream",
     "text": [
      "-42 -42\n",
      "-42 -42\n"
     ]
    }
   ],
   "source": [
    "def make_negative(number):\n",
    "    return -number if number > 0 else number\n",
    "\n",
    "print(make_negative(-42), -42)\n",
    "print(make_negative(-42), -42)"
   ]
  },
  {
   "cell_type": "code",
   "execution_count": 72,
   "metadata": {},
   "outputs": [
    {
     "name": "stdout",
     "output_type": "stream",
     "text": [
      "-42 -42\n",
      "-42 -42\n"
     ]
    }
   ],
   "source": [
    "def make_negative(number):\n",
    "    return -abs(number)\n",
    "\n",
    "print(make_negative(-42), -42)\n",
    "print(make_negative(-42), -42)"
   ]
  },
  {
   "cell_type": "markdown",
   "metadata": {},
   "source": [
    "### Consecutive strings\n",
    "https://www.codewars.com/kata/56a5d994ac971f1ac500003e  \n",
    "6 kyu\n",
    "\n",
    "You are given an array(list) strarr of strings and an integer k. Your task is to return the first longest string consisting of k consecutive strings taken in the array.\n",
    "\n",
    "Example:  \n",
    "longest_consec([\"zone\", \"abigail\", \"theta\", \"form\", \"libe\", \"zas\", \"theta\", \"abigail\"], 2) --> \"abigailtheta\"\n",
    "\n",
    "n being the length of the string array, if n = 0 or k > n or k <= 0 return \"\".\n",
    "\n",
    "Note  \n",
    "consecutive strings : follow one after another without an interruption"
   ]
  },
  {
   "cell_type": "markdown",
   "metadata": {},
   "source": [
    "__My solution:__"
   ]
  },
  {
   "cell_type": "code",
   "execution_count": 293,
   "metadata": {},
   "outputs": [
    {
     "name": "stdout",
     "output_type": "stream",
     "text": [
      " \n",
      " \n",
      " \n",
      "abigailtheta abigailtheta\n",
      "oocccffuucccjjjkkkjyyyeehh oocccffuucccjjjkkkjyyyeehh\n",
      " \n",
      "wkppqsztdkmvcuwvereiupccauycnjutlvvweqilsfytihvrzlaodfixoyxvyuyvgpck wkppqsztdkmvcuwvereiupccauycnjutlvvweqilsfytihvrzlaodfixoyxvyuyvgpck\n",
      "wlwsasphmxxowiaxujylentrklctozmymu wlwsasphmxxowiaxujylentrklctozmymu\n",
      " \n",
      "ixoyx3452zzzzzzzzzzzz ixoyx3452zzzzzzzzzzzz\n",
      " \n",
      " \n"
     ]
    }
   ],
   "source": [
    "def longest_consec(strarr, k):\n",
    "    if 0 < k <= len(strarr):\n",
    "        return max((''.join(strarr[i : i + k]) for i in range(len(strarr) - k + 1)), key=len, default='')\n",
    "    return ''\n",
    "\n",
    "print(longest_consec([], 1), \"\")\n",
    "print(longest_consec([], 0), \"\")\n",
    "print(longest_consec([], -1), \"\")\n",
    "print(longest_consec([\"zone\", \"abigail\", \"theta\", \"form\", \"libe\", \"zas\"], 2), \"abigailtheta\")\n",
    "print(longest_consec([\"ejjjjmmtthh\", \"zxxuueeg\", \"aanlljrrrxx\", \"dqqqaaabbb\", \"oocccffuucccjjjkkkjyyyeehh\"], 1), \"oocccffuucccjjjkkkjyyyeehh\")\n",
    "print(longest_consec([], 3), \"\")\n",
    "print(longest_consec([\"itvayloxrp\",\"wkppqsztdkmvcuwvereiupccauycnjutlv\",\"vweqilsfytihvrzlaodfixoyxvyuyvgpck\"], 2), \"wkppqsztdkmvcuwvereiupccauycnjutlvvweqilsfytihvrzlaodfixoyxvyuyvgpck\")\n",
    "print(longest_consec([\"wlwsasphmxx\",\"owiaxujylentrklctozmymu\",\"wpgozvxxiu\"], 2), \"wlwsasphmxxowiaxujylentrklctozmymu\")\n",
    "print(longest_consec([\"zone\", \"abigail\", \"theta\", \"form\", \"libe\", \"zas\"], -2), \"\")\n",
    "print(longest_consec([\"it\",\"wkppv\",\"ixoyx\", \"3452\", \"zzzzzzzzzzzz\"], 3), \"ixoyx3452zzzzzzzzzzzz\")\n",
    "print(longest_consec([\"it\",\"wkppv\",\"ixoyx\", \"3452\", \"zzzzzzzzzzzz\"], 15), \"\")\n",
    "print(longest_consec([\"it\",\"wkppv\",\"ixoyx\", \"3452\", \"zzzzzzzzzzzz\"], 0), \"\")"
   ]
  },
  {
   "cell_type": "code",
   "execution_count": 76,
   "metadata": {},
   "outputs": [
    {
     "data": {
      "text/plain": [
       "'abigail'"
      ]
     },
     "execution_count": 76,
     "metadata": {},
     "output_type": "execute_result"
    }
   ],
   "source": [
    "arr = [\"zone\", \"abigail\", \"theta\", \"form\", \"libe\", \"zas\"]\n",
    "max(arr, key=len)"
   ]
  },
  {
   "cell_type": "markdown",
   "metadata": {},
   "source": [
    "Doesn't pass all test with applying of set because it's required the FIRST longest string:"
   ]
  },
  {
   "cell_type": "code",
   "execution_count": 82,
   "metadata": {},
   "outputs": [
    {
     "name": "stdout",
     "output_type": "stream",
     "text": [
      "abigailtheta abigailtheta\n",
      "oocccffuucccjjjkkkjyyyeehh oocccffuucccjjjkkkjyyyeehh\n",
      " \n",
      "wkppqsztdkmvcuwvereiupccauycnjutlvvweqilsfytihvrzlaodfixoyxvyuyvgpck wkppqsztdkmvcuwvereiupccauycnjutlvvweqilsfytihvrzlaodfixoyxvyuyvgpck\n",
      "wlwsasphmxxowiaxujylentrklctozmymu wlwsasphmxxowiaxujylentrklctozmymu\n",
      "abigailthetaformlibe \n",
      "ixoyx3452zzzzzzzzzzzz ixoyx3452zzzzzzzzzzzz\n",
      " \n",
      " \n"
     ]
    }
   ],
   "source": [
    "def longest_consec(strarr, k):\n",
    "    if 0 < k <= len(strarr):\n",
    "        return max({''.join(strarr[i : i + k]) for i in range(len(strarr) - k + 1)}, key=len, default='')\n",
    "    return ''\n",
    "    \n",
    "print(longest_consec([\"zone\", \"abigail\", \"theta\", \"form\", \"libe\", \"zas\"], 2), \"abigailtheta\")\n",
    "print(longest_consec([\"ejjjjmmtthh\", \"zxxuueeg\", \"aanlljrrrxx\", \"dqqqaaabbb\", \"oocccffuucccjjjkkkjyyyeehh\"], 1), \"oocccffuucccjjjkkkjyyyeehh\")\n",
    "print(longest_consec([], 3), \"\")\n",
    "print(longest_consec([\"itvayloxrp\",\"wkppqsztdkmvcuwvereiupccauycnjutlv\",\"vweqilsfytihvrzlaodfixoyxvyuyvgpck\"], 2), \"wkppqsztdkmvcuwvereiupccauycnjutlvvweqilsfytihvrzlaodfixoyxvyuyvgpck\")\n",
    "print(longest_consec([\"wlwsasphmxx\",\"owiaxujylentrklctozmymu\",\"wpgozvxxiu\"], 2), \"wlwsasphmxxowiaxujylentrklctozmymu\")\n",
    "print(longest_consec([\"zone\", \"abigail\", \"theta\", \"form\", \"libe\", \"zas\"], -2), \"\")\n",
    "print(longest_consec([\"it\",\"wkppv\",\"ixoyx\", \"3452\", \"zzzzzzzzzzzz\"], 3), \"ixoyx3452zzzzzzzzzzzz\")\n",
    "print(longest_consec([\"it\",\"wkppv\",\"ixoyx\", \"3452\", \"zzzzzzzzzzzz\"], 15), \"\")\n",
    "print(longest_consec([\"it\",\"wkppv\",\"ixoyx\", \"3452\", \"zzzzzzzzzzzz\"], 0), \"\")"
   ]
  },
  {
   "cell_type": "markdown",
   "metadata": {},
   "source": [
    "20201018"
   ]
  },
  {
   "cell_type": "markdown",
   "metadata": {},
   "source": [
    "### Sum of array singles\n",
    "https://www.codewars.com/kata/59f11118a5e129e591000134  \n",
    "7 kyu\n",
    "\n",
    "In this Kata, you will be given an array of numbers in which two numbers occur once and the rest occur only twice. Your task will be to return the sum of the numbers that occur only once.\n",
    "\n",
    "For example, repeats([4,5,7,5,4,8]) = 15 because only the numbers 7 and 8 occur once, and their sum is 15.\n",
    "\n",
    "More examples in the test cases."
   ]
  },
  {
   "cell_type": "markdown",
   "metadata": {},
   "source": [
    "__My solutions:__"
   ]
  },
  {
   "cell_type": "markdown",
   "metadata": {},
   "source": [
    "__#1__"
   ]
  },
  {
   "cell_type": "code",
   "execution_count": 19,
   "metadata": {},
   "outputs": [
    {
     "name": "stdout",
     "output_type": "stream",
     "text": [
      "15 15\n",
      "19 19\n",
      "12 12\n",
      "22 22\n",
      "24 24\n"
     ]
    }
   ],
   "source": [
    "from collections import Counter\n",
    "\n",
    "def repeats(arr):\n",
    "    return sum(a[0] for a in Counter(arr).most_common()[-1:-3:-1])\n",
    "\n",
    "print(repeats([4, 5, 7, 5, 4, 8]),15)\n",
    "print(repeats([9, 10, 19, 13, 19, 13]),19)\n",
    "print(repeats([16, 0, 11, 4, 8, 16, 0, 11]),12)\n",
    "print(repeats([5, 17, 18, 11, 13, 18, 11, 13]),22)\n",
    "print(repeats([5, 10, 19, 13, 10, 13]),24)"
   ]
  },
  {
   "cell_type": "markdown",
   "metadata": {},
   "source": [
    "__#2__"
   ]
  },
  {
   "cell_type": "code",
   "execution_count": 30,
   "metadata": {},
   "outputs": [
    {
     "name": "stdout",
     "output_type": "stream",
     "text": [
      "15 15\n",
      "19 19\n",
      "12 12\n",
      "22 22\n",
      "24 24\n"
     ]
    }
   ],
   "source": [
    "from collections import Counter\n",
    "\n",
    "def repeats(arr):\n",
    "    return sum(a for a, v in Counter(arr).items() if v == 1)\n",
    "\n",
    "print(repeats([4, 5, 7, 5, 4, 8]),15)\n",
    "print(repeats([9, 10, 19, 13, 19, 13]),19)\n",
    "print(repeats([16, 0, 11, 4, 8, 16, 0, 11]),12)\n",
    "print(repeats([5, 17, 18, 11, 13, 18, 11, 13]),22)\n",
    "print(repeats([5, 10, 19, 13, 10, 13]),24)"
   ]
  },
  {
   "cell_type": "markdown",
   "metadata": {},
   "source": [
    "__#3__"
   ]
  },
  {
   "cell_type": "code",
   "execution_count": 25,
   "metadata": {},
   "outputs": [
    {
     "name": "stdout",
     "output_type": "stream",
     "text": [
      "15 15\n",
      "19 19\n",
      "12 12\n",
      "22 22\n",
      "24 24\n"
     ]
    }
   ],
   "source": [
    "from itertools import islice\n",
    "\n",
    "def repeats(arr):\n",
    "    return sum(islice((a for a in arr if arr.count(a) == 1), 2))\n",
    "\n",
    "print(repeats([4, 5, 7, 5, 4, 8]),15)\n",
    "print(repeats([9, 10, 19, 13, 19, 13]),19)\n",
    "print(repeats([16, 0, 11, 4, 8, 16, 0, 11]),12)\n",
    "print(repeats([5, 17, 18, 11, 13, 18, 11, 13]),22)\n",
    "print(repeats([5, 10, 19, 13, 10, 13]),24)"
   ]
  },
  {
   "cell_type": "markdown",
   "metadata": {},
   "source": [
    "Almost the same but we take all numbers (not only 2) which occur once:"
   ]
  },
  {
   "cell_type": "code",
   "execution_count": 34,
   "metadata": {},
   "outputs": [
    {
     "name": "stdout",
     "output_type": "stream",
     "text": [
      "15 15\n",
      "19 19\n",
      "12 12\n",
      "22 22\n",
      "24 24\n"
     ]
    }
   ],
   "source": [
    "def repeats(arr):\n",
    "    return sum(a for a in arr if arr.count(a) == 1)\n",
    "\n",
    "print(repeats([4, 5, 7, 5, 4, 8]),15)\n",
    "print(repeats([9, 10, 19, 13, 19, 13]),19)\n",
    "print(repeats([16, 0, 11, 4, 8, 16, 0, 11]),12)\n",
    "print(repeats([5, 17, 18, 11, 13, 18, 11, 13]),22)\n",
    "print(repeats([5, 10, 19, 13, 10, 13]),24)"
   ]
  },
  {
   "cell_type": "markdown",
   "metadata": {},
   "source": [
    "__Other users' solution:__|"
   ]
  },
  {
   "cell_type": "markdown",
   "metadata": {},
   "source": [
    "I like this one very much:"
   ]
  },
  {
   "cell_type": "code",
   "execution_count": 32,
   "metadata": {},
   "outputs": [],
   "source": [
    "repeats=lambda a: 2 * sum(set(a)) - sum(a)"
   ]
  },
  {
   "cell_type": "markdown",
   "metadata": {},
   "source": [
    "### Simultaneous Equations - Three Variables\n",
    "https://www.codewars.com/kata/59280c056d6c5a74ca000149  \n",
    "5 kyu\n",
    "\n",
    "We have 3 equations with 3 unknowns x, y, and z and we are to solve for these unknowns.\n",
    "\n",
    "Equations 4x -3y +z = -10, 2x +y +3z = 0, and -x +2y -5z = 17 will be passed in as an array of [[4, -3, 1, -10], [2, 1, 3, 0], [-1, 2, -5, 17]] and the result should be returned as an array like [1, 4, -2] (i.e. [x, y, z])."
   ]
  },
  {
   "cell_type": "markdown",
   "metadata": {},
   "source": [
    "__My solution:__"
   ]
  },
  {
   "cell_type": "code",
   "execution_count": 48,
   "metadata": {},
   "outputs": [
    {
     "name": "stdout",
     "output_type": "stream",
     "text": [
      "[1.0, 4.0, -2.0] [1, 4, -2]\n",
      "[-1.0, 6.0, 2.0] [-1, 6, 2]\n",
      "[3.0, -1.0, 2.0] [3, -1, 2]\n",
      "[1.0, -0.0, 5.0] [1, 0, 5]\n",
      "[-2.0, 3.0, 4.0] [-2, 3, 4]\n",
      "[-21.0, 30.0, -22.0] [-21, 30, -22]\n"
     ]
    }
   ],
   "source": [
    "import numpy as np\n",
    "\n",
    "def solve_eq(eq):\n",
    "    a = np.array([el[:3] for el in eq])\n",
    "    b = np.array([el[3] for el in eq])\n",
    "    return list(map(round, np.linalg.solve(a, b)))\n",
    "\n",
    "print(solve_eq([[4, -3, 1, -10], [2, 1, 3, 0], [-1, 2, -5, 17]]), [1, 4, -2])\n",
    "print(solve_eq([[2, 1, 3, 10], [-3, -2, 7, 5], [3, 3, -4, 7]]), [-1, 6, 2])\n",
    "print(solve_eq([[3, 2, 0, 7], [-4, 0, 3, -6], [0, -2, -6, -10]]), [3, -1, 2])\n",
    "print(solve_eq([[4, 2, -5, -21], [2, -2, 1, 7], [4, 3, -1, -1]]), [1, 0, 5])\n",
    "print(solve_eq([[1, 1, 1, 5], [2, 2, 3, 14], [2, -3, 2, -5]]), [-2, 3, 4]);\n",
    "print(solve_eq([[-17, -2, 1, 275], [0, -22, -21, -198], [22, -26, 9, -1440]]), [-21, 30, -22]);"
   ]
  },
  {
   "cell_type": "code",
   "execution_count": 38,
   "metadata": {},
   "outputs": [
    {
     "data": {
      "text/plain": [
       "array([[ 4, -3,  1],\n",
       "       [ 2,  1,  3],\n",
       "       [-1,  2, -5]])"
      ]
     },
     "execution_count": 38,
     "metadata": {},
     "output_type": "execute_result"
    }
   ],
   "source": [
    "eq = [[4, -3, 1, -10], [2, 1, 3, 0], [-1, 2, -5, 17]]\n",
    "a = np.array([el[:3] for el in eq])\n",
    "a"
   ]
  },
  {
   "cell_type": "code",
   "execution_count": 39,
   "metadata": {},
   "outputs": [
    {
     "data": {
      "text/plain": [
       "array([-10,   0,  17])"
      ]
     },
     "execution_count": 39,
     "metadata": {},
     "output_type": "execute_result"
    }
   ],
   "source": [
    "b = np.array([el[3] for el in eq])\n",
    "b"
   ]
  },
  {
   "cell_type": "markdown",
   "metadata": {},
   "source": [
    "The next version doesn't pass all test:"
   ]
  },
  {
   "cell_type": "code",
   "execution_count": 44,
   "metadata": {},
   "outputs": [
    {
     "name": "stdout",
     "output_type": "stream",
     "text": [
      "[1.0, 4.0, -2.0] [1, 4, -2]\n",
      "[-1.0, 6.0, 2.0] [-1, 6, 2]\n",
      "[3.0, -1.0, 2.0] [3, -1, 2]\n",
      "[1.0, -0.0, 5.0] [1, 0, 5]\n",
      "[-2.0, 3.0, 4.0] [-2, 3, 4]\n",
      "[-20.999999999999996, 30.000000000000004, -22.000000000000004] [-21, 30, -22]\n"
     ]
    }
   ],
   "source": [
    "import numpy as np\n",
    "\n",
    "def solve_eq(eq):\n",
    "    a = np.array([el[:3] for el in eq])\n",
    "    b = np.array([el[3] for el in eq])\n",
    "    return list(np.linalg.solve(a, b))\n",
    "\n",
    "print(solve_eq([[4, -3, 1, -10], [2, 1, 3, 0], [-1, 2, -5, 17]]), [1, 4, -2])\n",
    "print(solve_eq([[2, 1, 3, 10], [-3, -2, 7, 5], [3, 3, -4, 7]]), [-1, 6, 2])\n",
    "print(solve_eq([[3, 2, 0, 7], [-4, 0, 3, -6], [0, -2, -6, -10]]), [3, -1, 2])\n",
    "print(solve_eq([[4, 2, -5, -21], [2, -2, 1, 7], [4, 3, -1, -1]]), [1, 0, 5])\n",
    "print(solve_eq([[1, 1, 1, 5], [2, 2, 3, 14], [2, -3, 2, -5]]), [-2, 3, 4]);\n",
    "print(solve_eq([[-17, -2, 1, 275], [0, -22, -21, -198], [22, -26, 9, -1440]]), [-21, 30, -22]);"
   ]
  },
  {
   "cell_type": "markdown",
   "metadata": {},
   "source": [
    "The next version doesn't pass all test:"
   ]
  },
  {
   "cell_type": "code",
   "execution_count": 53,
   "metadata": {},
   "outputs": [
    {
     "name": "stdout",
     "output_type": "stream",
     "text": [
      "[1, 4, -2] [1, 4, -2]\n",
      "[-1, 6, 2] [-1, 6, 2]\n",
      "[3, -1, 2] [3, -1, 2]\n",
      "[1, 0, 5] [1, 0, 5]\n",
      "[-20, 31, -22] [-21, 30, -22]\n",
      "[3, 6, 30] [3, 5, 29]\n"
     ]
    }
   ],
   "source": [
    "import numpy as np\n",
    "import math\n",
    "\n",
    "def solve_eq(eq):\n",
    "    a = np.array([el[:3] for el in eq])\n",
    "    b = np.array([el[3] for el in eq])\n",
    "    return list(map(math.ceil, np.linalg.solve(a, b)))\n",
    "\n",
    "print(solve_eq([[4, -3, 1, -10], [2, 1, 3, 0], [-1, 2, -5, 17]]), [1, 4, -2])\n",
    "print(solve_eq([[2, 1, 3, 10], [-3, -2, 7, 5], [3, 3, -4, 7]]), [-1, 6, 2])\n",
    "print(solve_eq([[3, 2, 0, 7], [-4, 0, 3, -6], [0, -2, -6, -10]]), [3, -1, 2])\n",
    "print(solve_eq([[4, 2, -5, -21], [2, -2, 1, 7], [4, 3, -1, -1]]), [1, 0, 5])\n",
    "print(solve_eq([[-17, -2, 1, 275], [0, -22, -21, -198], [22, -26, 9, -1440]]), [-21, 30, -22]);\n",
    "print(solve_eq([[10, 1, 3, 122], [-5, -16, 27, 688], [26, 7, -4, -3]]), [3, 5, 29]);"
   ]
  },
  {
   "cell_type": "markdown",
   "metadata": {},
   "source": [
    "20201019"
   ]
  },
  {
   "cell_type": "markdown",
   "metadata": {},
   "source": [
    "### Remove consecutive duplicate words\n",
    "https://www.codewars.com/kata/5b39e91ee7a2c103300018b3  \n",
    "7 kyu\n",
    "\n",
    "Your task is to remove all consecutive duplicate words from string, leaving only first words entries.\n",
    "\n",
    "Example:\n",
    "\n",
    "Input:\n",
    "\n",
    "'alpha beta beta gamma gamma gamma delta alpha beta beta gamma gamma gamma delta'\n",
    "\n",
    "Output:\n",
    "\n",
    "'alpha beta gamma delta alpha beta gamma delta'"
   ]
  },
  {
   "cell_type": "markdown",
   "metadata": {},
   "source": [
    "__My solution:__"
   ]
  },
  {
   "cell_type": "code",
   "execution_count": 63,
   "metadata": {},
   "outputs": [
    {
     "name": "stdout",
     "output_type": "stream",
     "text": [
      "alpha beta gamma delta alpha beta gamma delta\n",
      "alpha beta gamma delta alpha beta gamma delta\n"
     ]
    }
   ],
   "source": [
    "from itertools import groupby\n",
    "\n",
    "def remove_consecutive_duplicates(s):\n",
    "    return ' '.join(k for k, g in groupby(s.split()))\n",
    "\n",
    "print(remove_consecutive_duplicates('alpha beta beta gamma gamma gamma delta alpha beta beta gamma gamma gamma delta'), 'alpha beta gamma delta alpha beta gamma delta', sep='\\n');"
   ]
  },
  {
   "cell_type": "code",
   "execution_count": 60,
   "metadata": {},
   "outputs": [
    {
     "data": {
      "text/plain": [
       "[('d', <itertools._grouper at 0xa0ae668>),\n",
       " ('f', <itertools._grouper at 0xa0aec18>),\n",
       " ('j', <itertools._grouper at 0xa0ae9e8>),\n",
       " ('g', <itertools._grouper at 0xa0aef98>),\n",
       " ('r', <itertools._grouper at 0xa0aebe0>),\n",
       " ('j', <itertools._grouper at 0xa0aeeb8>)]"
      ]
     },
     "execution_count": 60,
     "metadata": {},
     "output_type": "execute_result"
    }
   ],
   "source": [
    "s = 'd f j j g g g r j j '\n",
    "list(groupby(s.split()))"
   ]
  },
  {
   "cell_type": "code",
   "execution_count": 65,
   "metadata": {},
   "outputs": [
    {
     "data": {
      "text/plain": [
       "[['A', 'A', 'A', 'A'], ['B', 'B', 'B'], ['C', 'C'], ['D'], ['A', 'A']]"
      ]
     },
     "execution_count": 65,
     "metadata": {},
     "output_type": "execute_result"
    }
   ],
   "source": [
    "[list(g) for k, g in groupby('AAAABBBCCDAA')]"
   ]
  },
  {
   "cell_type": "markdown",
   "metadata": {},
   "source": [
    "__Other users' solutions:__"
   ]
  },
  {
   "cell_type": "markdown",
   "metadata": {},
   "source": [
    "Interesting idea is to use regex:"
   ]
  },
  {
   "cell_type": "code",
   "execution_count": 115,
   "metadata": {},
   "outputs": [
    {
     "name": "stdout",
     "output_type": "stream",
     "text": [
      "alpha beta gamma delta alpha beta gamma delta\n",
      "alpha beta gamma delta alpha beta gamma delta\n",
      "alpha beta gamma   gamma delta alpha beta gamma delta\n",
      "alpha beta gamma delta alpha beta gamma delta\n"
     ]
    }
   ],
   "source": [
    "import re\n",
    "def remove_consecutive_duplicates(s):\n",
    "    return re.sub(r\"\\b(\\w+)(\\s(\\1\\b))+\", r\"\\1\", s)\n",
    "\n",
    "print(remove_consecutive_duplicates('alpha beta beta gamma gamma gamma delta alpha beta beta gamma gamma gamma delta'), 'alpha beta gamma delta alpha beta gamma delta', sep='\\n');\n",
    "print(remove_consecutive_duplicates('alpha beta beta gamma gamma   gamma delta alpha beta beta gamma gamma gamma delta'), 'alpha beta gamma delta alpha beta gamma delta', sep='\\n');"
   ]
  },
  {
   "cell_type": "markdown",
   "metadata": {},
   "source": [
    "I'll make just a little modification in regex:"
   ]
  },
  {
   "cell_type": "code",
   "execution_count": 125,
   "metadata": {},
   "outputs": [
    {
     "name": "stdout",
     "output_type": "stream",
     "text": [
      "alpha beta gamma delta alpha beta gamma delta\n",
      "alpha beta gamma delta alpha beta gamma delta\n",
      "alpha beta gamma delta alpha beta gamma delta\n",
      "alpha beta gamma delta alpha beta gamma delta\n"
     ]
    }
   ],
   "source": [
    "import re\n",
    "def remove_consecutive_duplicates(s):\n",
    "    return re.sub(r\"\\b(\\w+)(\\s+\\1)+\", r\"\\1\", s)\n",
    "\n",
    "print(remove_consecutive_duplicates('alpha beta beta gamma gamma gamma delta alpha beta beta gamma gamma gamma delta'), 'alpha beta gamma delta alpha beta gamma delta', sep='\\n');\n",
    "print(remove_consecutive_duplicates('alpha beta beta gamma gamma   gamma delta alpha beta beta gamma gamma gamma delta'), 'alpha beta gamma delta alpha beta gamma delta', sep='\\n');"
   ]
  },
  {
   "cell_type": "markdown",
   "metadata": {},
   "source": [
    "### Roman Numerals Encoder\n",
    "https://www.codewars.com/kata/51b62bf6a9c58071c600001b  \n",
    "6 kyu\n",
    "\n",
    "Create a function taking a positive integer as its parameter and returning a string containing the Roman Numeral representation of that integer.\n",
    "\n",
    "Modern Roman numerals are written by expressing each digit separately starting with the left most digit and skipping any digit with a value of zero. In Roman numerals 1990 is rendered: 1000=M, 900=CM, 90=XC; resulting in MCMXC. 2008 is written as 2000=MM, 8=VIII; or MMVIII. 1666 uses each Roman symbol in descending order: MDCLXVI.\n",
    "\n",
    "Example:\n",
    "\n",
    "solution(1000) # should return 'M'\n",
    "\n",
    "Help:\n",
    "\n",
    "Symbol    Value  \n",
    "I          1  \n",
    "V          5  \n",
    "X          10  \n",
    "L          50  \n",
    "C          100  \n",
    "D          500  \n",
    "M          1,000  \n",
    "\n",
    "Remember that there can't be more than 3 identical symbols in a row.\n",
    "\n",
    "More about roman numerals - http://en.wikipedia.org/wiki/Roman_numerals"
   ]
  },
  {
   "cell_type": "markdown",
   "metadata": {},
   "source": [
    "__My solutions:__"
   ]
  },
  {
   "cell_type": "markdown",
   "metadata": {},
   "source": [
    "__#1__"
   ]
  },
  {
   "cell_type": "code",
   "execution_count": 95,
   "metadata": {},
   "outputs": [
    {
     "name": "stdout",
     "output_type": "stream",
     "text": [
      "I I solution(1),'I'\n",
      "IV IV solution(4),'IV'\n",
      "VI VI solution(6),'VI'\n",
      "XIV XIV solution(14),'XIV\n",
      "XXI XXI solution(21),'XXI'\n",
      "LXXXIX LXXXIX solution(89),'LXXXIX'\n",
      "XCI XCI solution(91),'XCI'\n",
      "CMLXXXIV CMLXXXIV solution(984),'CMLXXXIV'\n",
      "M M solution(1000), M\n",
      "MDCCCLXXXIX MDCCCLXXXIX solution(1889),'MDCCCLXXXIX'\n",
      "MCMLXXXIX MCMLXXXIX solution(1989),'MCMLXXXIX'\n"
     ]
    }
   ],
   "source": [
    "def solution(n):\n",
    "    romans = {\n",
    "        0: '', 1: 'I', 2: 'II', 3: 'III', 4: 'IV', 5: 'V', 6: 'VI', 7: 'VII', 8: 'VIII', 9: 'IX',\n",
    "        10: 'X', 20: 'XX', 30: 'XXX', 40: 'XL', 50: 'L', 60: 'LX', 70: 'LXX', 80: 'LXXX', 90: 'XC',\n",
    "        100: 'C', 200: 'CC', 300: 'CCC', 400: 'CD', 500: 'D', 600: 'DC', 700: 'DCC', 800: 'DCCC', 900: 'CM',\n",
    "        1000: 'M', 2000: 'MM', 3000: 'MMM',\n",
    "    }\n",
    "    \n",
    "    n = str(n)\n",
    "    return ''.join(romans[int(n[i]) * 10 ** (len(n) - 1 - i)] for i in range(len(n)))\n",
    "\n",
    "print(solution(1),'I', \"solution(1),'I'\")\n",
    "print(solution(4),'IV', \"solution(4),'IV'\")\n",
    "print(solution(6),'VI', \"solution(6),'VI'\")\n",
    "print(solution(14),'XIV', \"solution(14),'XIV\")\n",
    "print(solution(21),'XXI', \"solution(21),'XXI'\")\n",
    "print(solution(89),'LXXXIX', \"solution(89),'LXXXIX'\")\n",
    "print(solution(91),'XCI', \"solution(91),'XCI'\")\n",
    "print(solution(984),'CMLXXXIV', \"solution(984),'CMLXXXIV'\")\n",
    "print(solution(1000), 'M', 'solution(1000), M')\n",
    "print(solution(1889),'MDCCCLXXXIX', \"solution(1889),'MDCCCLXXXIX'\")\n",
    "print(solution(1989),'MCMLXXXIX', \"solution(1989),'MCMLXXXIX'\")"
   ]
  },
  {
   "cell_type": "code",
   "execution_count": 72,
   "metadata": {},
   "outputs": [
    {
     "data": {
      "text/plain": [
       "0"
      ]
     },
     "execution_count": 72,
     "metadata": {},
     "output_type": "execute_result"
    }
   ],
   "source": [
    "n = 50\n",
    "n.bit_length()\n",
    "n.imag"
   ]
  },
  {
   "cell_type": "code",
   "execution_count": 89,
   "metadata": {},
   "outputs": [
    {
     "data": {
      "text/plain": [
       "[1, 0]"
      ]
     },
     "execution_count": 89,
     "metadata": {},
     "output_type": "execute_result"
    }
   ],
   "source": [
    "n = '14'\n",
    "list(range(len(n) - 1, -1, -1))"
   ]
  },
  {
   "cell_type": "code",
   "execution_count": 85,
   "metadata": {},
   "outputs": [
    {
     "data": {
      "text/plain": [
       "[]"
      ]
     },
     "execution_count": 85,
     "metadata": {},
     "output_type": "execute_result"
    }
   ],
   "source": [
    "list(range(len(n)))"
   ]
  },
  {
   "cell_type": "code",
   "execution_count": 90,
   "metadata": {},
   "outputs": [
    {
     "data": {
      "text/plain": [
       "['4', '1']"
      ]
     },
     "execution_count": 90,
     "metadata": {},
     "output_type": "execute_result"
    }
   ],
   "source": [
    "n = '14'\n",
    "[n[i] for i in range(len(n) - 1, -1, -1)]"
   ]
  },
  {
   "cell_type": "code",
   "execution_count": 94,
   "metadata": {},
   "outputs": [
    {
     "data": {
      "text/plain": [
       "[10, 4]"
      ]
     },
     "execution_count": 94,
     "metadata": {},
     "output_type": "execute_result"
    }
   ],
   "source": [
    "n = '14'\n",
    "[int(n[i]) * 10 ** (len(n) - 1 - i) for i in range(len(n))]"
   ]
  },
  {
   "cell_type": "markdown",
   "metadata": {},
   "source": [
    "__#2__"
   ]
  },
  {
   "cell_type": "code",
   "execution_count": 102,
   "metadata": {},
   "outputs": [
    {
     "name": "stdout",
     "output_type": "stream",
     "text": [
      "['I']\n",
      "I I solution(1),'I'\n",
      "['IV']\n",
      "IV IV solution(4),'IV'\n",
      "['VI']\n",
      "VI VI solution(6),'VI'\n",
      "['IV', 'X']\n",
      "XIV XIV solution(14),'XIV\n",
      "['I', 'XX']\n",
      "XXI XXI solution(21),'XXI'\n",
      "['IX', 'LXXX']\n",
      "LXXXIX LXXXIX solution(89),'LXXXIX'\n",
      "['I', 'XC']\n",
      "XCI XCI solution(91),'XCI'\n",
      "['IV', 'LXXX', 'CM']\n",
      "CMLXXXIV CMLXXXIV solution(984),'CMLXXXIV'\n",
      "['', '', '', 'M']\n",
      "M M solution(1000), M\n",
      "['IX', 'LXXX', 'DCCC', 'M']\n",
      "MDCCCLXXXIX MDCCCLXXXIX solution(1889),'MDCCCLXXXIX'\n",
      "['IX', 'LXXX', 'CM', 'M']\n",
      "MCMLXXXIX MCMLXXXIX solution(1989),'MCMLXXXIX'\n"
     ]
    }
   ],
   "source": [
    "def solution(n):\n",
    "    romans = {\n",
    "        0: '', 1: 'I', 2: 'II', 3: 'III', 4: 'IV', 5: 'V', 6: 'VI', 7: 'VII', 8: 'VIII', 9: 'IX',\n",
    "        10: 'X', 20: 'XX', 30: 'XXX', 40: 'XL', 50: 'L', 60: 'LX', 70: 'LXX', 80: 'LXXX', 90: 'XC',\n",
    "        100: 'C', 200: 'CC', 300: 'CCC', 400: 'CD', 500: 'D', 600: 'DC', 700: 'DCC', 800: 'DCCC', 900: 'CM',\n",
    "        1000: 'M', 2000: 'MM', 3000: 'MMM',\n",
    "    }\n",
    "    \n",
    "    lst = []\n",
    "    i = 0\n",
    "    while n > 0:\n",
    "        lst.append(romans[n % 10 * 10 ** i])\n",
    "        n //= 10\n",
    "        i += 1\n",
    "    print(lst)\n",
    "    \n",
    "    return ''.join(reversed(lst))\n",
    "\n",
    "print(solution(1),'I', \"solution(1),'I'\")\n",
    "print(solution(4),'IV', \"solution(4),'IV'\")\n",
    "print(solution(6),'VI', \"solution(6),'VI'\")\n",
    "print(solution(14),'XIV', \"solution(14),'XIV\")\n",
    "print(solution(21),'XXI', \"solution(21),'XXI'\")\n",
    "print(solution(89),'LXXXIX', \"solution(89),'LXXXIX'\")\n",
    "print(solution(91),'XCI', \"solution(91),'XCI'\")\n",
    "print(solution(984),'CMLXXXIV', \"solution(984),'CMLXXXIV'\")\n",
    "print(solution(1000), 'M', 'solution(1000), M')\n",
    "print(solution(1889),'MDCCCLXXXIX', \"solution(1889),'MDCCCLXXXIX'\")\n",
    "print(solution(1989),'MCMLXXXIX', \"solution(1989),'MCMLXXXIX'\")"
   ]
  },
  {
   "cell_type": "markdown",
   "metadata": {},
   "source": [
    "__#3__"
   ]
  },
  {
   "cell_type": "code",
   "execution_count": 109,
   "metadata": {},
   "outputs": [
    {
     "name": "stdout",
     "output_type": "stream",
     "text": [
      "I I solution(1),'I'\n",
      "IV IV solution(4),'IV'\n",
      "VI VI solution(6),'VI'\n",
      "XIV XIV solution(14),'XIV\n",
      "XXI XXI solution(21),'XXI'\n",
      "LXXXIX LXXXIX solution(89),'LXXXIX'\n",
      "XCI XCI solution(91),'XCI'\n",
      "CMLXXXIV CMLXXXIV solution(984),'CMLXXXIV'\n",
      "M M solution(1000), M\n",
      "MDCCCLXXXIX MDCCCLXXXIX solution(1889),'MDCCCLXXXIX'\n",
      "MCMLXXXIX MCMLXXXIX solution(1989),'MCMLXXXIX'\n"
     ]
    }
   ],
   "source": [
    "def solution(n):\n",
    "    romans = {\n",
    "        0: [''] * 4,\n",
    "        1: ['I', 'X', 'C', 'M'],\n",
    "        4: ['IV', 'XL', 'CD'],\n",
    "        5: ['V', 'L', 'D'],\n",
    "        9: ['IX', 'XC', 'CM']\n",
    "    }\n",
    "\n",
    "    lst = []\n",
    "    for i, d in enumerate(str(n)[:: -1]):\n",
    "        if int(d) in romans:\n",
    "            lst.append(romans[int(d)][i])\n",
    "        else:\n",
    "            lst.append((romans[5][i] if int(d) // 5 else '') + (int(d) % 5) * romans[1][i])\n",
    "    \n",
    "    return ''.join(reversed(lst))\n",
    "\n",
    "print(solution(1),'I', \"solution(1),'I'\")\n",
    "print(solution(4),'IV', \"solution(4),'IV'\")\n",
    "print(solution(6),'VI', \"solution(6),'VI'\")\n",
    "print(solution(14),'XIV', \"solution(14),'XIV\")\n",
    "print(solution(21),'XXI', \"solution(21),'XXI'\")\n",
    "print(solution(89),'LXXXIX', \"solution(89),'LXXXIX'\")\n",
    "print(solution(91),'XCI', \"solution(91),'XCI'\")\n",
    "print(solution(984),'CMLXXXIV', \"solution(984),'CMLXXXIV'\")\n",
    "print(solution(1000), 'M', 'solution(1000), M')\n",
    "print(solution(1889),'MDCCCLXXXIX', \"solution(1889),'MDCCCLXXXIX'\")\n",
    "print(solution(1989),'MCMLXXXIX', \"solution(1989),'MCMLXXXIX'\")"
   ]
  },
  {
   "cell_type": "code",
   "execution_count": 111,
   "metadata": {},
   "outputs": [
    {
     "name": "stdout",
     "output_type": "stream",
     "text": [
      "I I solution(1),'I'\n",
      "IV IV solution(4),'IV'\n",
      "VI VI solution(6),'VI'\n",
      "XIV XIV solution(14),'XIV\n",
      "XXI XXI solution(21),'XXI'\n",
      "LXXXIX LXXXIX solution(89),'LXXXIX'\n",
      "XCI XCI solution(91),'XCI'\n",
      "CMLXXXIV CMLXXXIV solution(984),'CMLXXXIV'\n",
      "M M solution(1000), M\n",
      "MDCCCLXXXIX MDCCCLXXXIX solution(1889),'MDCCCLXXXIX'\n",
      "MCMLXXXIX MCMLXXXIX solution(1989),'MCMLXXXIX'\n"
     ]
    }
   ],
   "source": [
    "def solution(n):\n",
    "    romans = {\n",
    "        1: ['I', 'X', 'C', 'M'],\n",
    "        4: ['IV', 'XL', 'CD'],\n",
    "        5: ['V', 'L', 'D', ''],\n",
    "        9: ['IX', 'XC', 'CM']\n",
    "    }\n",
    "\n",
    "    lst = []\n",
    "    for i, d in enumerate(str(n)[:: -1]):\n",
    "        if int(d) in romans:\n",
    "            lst.append(romans[int(d)][i])\n",
    "        else:\n",
    "            lst.append((int(d) // 5) * romans[5][i]  + (int(d) % 5) * romans[1][i])\n",
    "    \n",
    "    return ''.join(reversed(lst))\n",
    "\n",
    "print(solution(1),'I', \"solution(1),'I'\")\n",
    "print(solution(4),'IV', \"solution(4),'IV'\")\n",
    "print(solution(6),'VI', \"solution(6),'VI'\")\n",
    "print(solution(14),'XIV', \"solution(14),'XIV\")\n",
    "print(solution(21),'XXI', \"solution(21),'XXI'\")\n",
    "print(solution(89),'LXXXIX', \"solution(89),'LXXXIX'\")\n",
    "print(solution(91),'XCI', \"solution(91),'XCI'\")\n",
    "print(solution(984),'CMLXXXIV', \"solution(984),'CMLXXXIV'\")\n",
    "print(solution(1000), 'M', 'solution(1000), M')\n",
    "print(solution(1889),'MDCCCLXXXIX', \"solution(1889),'MDCCCLXXXIX'\")\n",
    "print(solution(1989),'MCMLXXXIX', \"solution(1989),'MCMLXXXIX'\")"
   ]
  },
  {
   "cell_type": "markdown",
   "metadata": {},
   "source": [
    "__Other users' solutions:__"
   ]
  },
  {
   "cell_type": "code",
   "execution_count": 113,
   "metadata": {},
   "outputs": [
    {
     "name": "stdout",
     "output_type": "stream",
     "text": [
      "I I solution(1),'I'\n",
      "IV IV solution(4),'IV'\n",
      "VI VI solution(6),'VI'\n",
      "XIV XIV solution(14),'XIV\n",
      "XXI XXI solution(21),'XXI'\n",
      "LXXXIX LXXXIX solution(89),'LXXXIX'\n",
      "XCI XCI solution(91),'XCI'\n",
      "CMLXXXIV CMLXXXIV solution(984),'CMLXXXIV'\n",
      "M M solution(1000), M\n",
      "MDCCCLXXXIX MDCCCLXXXIX solution(1889),'MDCCCLXXXIX'\n",
      "MCMLXXXIX MCMLXXXIX solution(1989),'MCMLXXXIX'\n"
     ]
    }
   ],
   "source": [
    "def solution(n):\n",
    "    romans = {\n",
    "        1000:'M',\n",
    "        900: 'CM',\n",
    "        500: 'D',\n",
    "        400: 'CD',\n",
    "        100: 'C',\n",
    "        90: 'XC',\n",
    "        50: 'L',\n",
    "        40: 'XL',\n",
    "        10: 'X',\n",
    "        9: 'IX',\n",
    "        5: 'V',\n",
    "        4: 'IV',\n",
    "        1: 'I'\n",
    "    }\n",
    "    \n",
    "    res = ''\n",
    "    for num in romans: # dict order is saved\n",
    "        while n >= num:\n",
    "            res += romans[num]\n",
    "            n -= num\n",
    "    return res\n",
    "\n",
    "print(solution(1),'I', \"solution(1),'I'\")\n",
    "print(solution(4),'IV', \"solution(4),'IV'\")\n",
    "print(solution(6),'VI', \"solution(6),'VI'\")\n",
    "print(solution(14),'XIV', \"solution(14),'XIV\")\n",
    "print(solution(21),'XXI', \"solution(21),'XXI'\")\n",
    "print(solution(89),'LXXXIX', \"solution(89),'LXXXIX'\")\n",
    "print(solution(91),'XCI', \"solution(91),'XCI'\")\n",
    "print(solution(984),'CMLXXXIV', \"solution(984),'CMLXXXIV'\")\n",
    "print(solution(1000), 'M', 'solution(1000), M')\n",
    "print(solution(1889),'MDCCCLXXXIX', \"solution(1889),'MDCCCLXXXIX'\")\n",
    "print(solution(1989),'MCMLXXXIX', \"solution(1989),'MCMLXXXIX'\")"
   ]
  },
  {
   "cell_type": "code",
   "execution_count": 26,
   "metadata": {},
   "outputs": [
    {
     "name": "stdout",
     "output_type": "stream",
     "text": [
      "I I solution(1),'I'\n",
      "IV IV solution(4),'IV'\n",
      "VI VI solution(6),'VI'\n",
      "XIV XIV solution(14),'XIV\n",
      "XXI XXI solution(21),'XXI'\n",
      "LXXXIX LXXXIX solution(89),'LXXXIX'\n",
      "XCI XCI solution(91),'XCI'\n",
      "CMLXXXIV CMLXXXIV solution(984),'CMLXXXIV'\n",
      "M M solution(1000), M\n",
      "MDCCCLXXXIX MDCCCLXXXIX solution(1889),'MDCCCLXXXIX'\n",
      "MCMLXXXIX MCMLXXXIX solution(1989),'MCMLXXXIX'\n"
     ]
    }
   ],
   "source": [
    "def solution(n):\n",
    "    romans = {\n",
    "        1000:'M',\n",
    "        900: 'CM',\n",
    "        500: 'D',\n",
    "        400: 'CD',\n",
    "        100: 'C',\n",
    "        90: 'XC',\n",
    "        50: 'L',\n",
    "        40: 'XL',\n",
    "        10: 'X',\n",
    "        9: 'IX',\n",
    "        5: 'V',\n",
    "        4: 'IV',\n",
    "        1: 'I'\n",
    "    }\n",
    "    \n",
    "    res = ''\n",
    "    for num in romans: # dict order is saved\n",
    "        while n >= num:\n",
    "            res += romans[num]\n",
    "            n -= num\n",
    "    return res\n",
    "\n",
    "print(solution(1),'I', \"solution(1),'I'\")\n",
    "print(solution(4),'IV', \"solution(4),'IV'\")\n",
    "print(solution(6),'VI', \"solution(6),'VI'\")\n",
    "print(solution(14),'XIV', \"solution(14),'XIV\")\n",
    "print(solution(21),'XXI', \"solution(21),'XXI'\")\n",
    "print(solution(89),'LXXXIX', \"solution(89),'LXXXIX'\")\n",
    "print(solution(91),'XCI', \"solution(91),'XCI'\")\n",
    "print(solution(984),'CMLXXXIV', \"solution(984),'CMLXXXIV'\")\n",
    "print(solution(1000), 'M', 'solution(1000), M')\n",
    "print(solution(1889),'MDCCCLXXXIX', \"solution(1889),'MDCCCLXXXIX'\")\n",
    "print(solution(1989),'MCMLXXXIX', \"solution(1989),'MCMLXXXIX'\")"
   ]
  },
  {
   "cell_type": "markdown",
   "metadata": {},
   "source": [
    "20201020"
   ]
  },
  {
   "cell_type": "markdown",
   "metadata": {},
   "source": [
    "### Create Phone Number\n",
    "https://www.codewars.com/kata/525f50e3b73515a6db000b83\n",
    "6 kyu\n",
    "\n",
    "Write a function that accepts an array of 10 integers (between 0 and 9), that returns a string of those numbers in the form of a phone number.\n",
    "\n",
    "Example:\n",
    "\n",
    "create_phone_number([1, 2, 3, 4, 5, 6, 7, 8, 9, 0]) # => returns \"(123) 456-7890\"\n",
    "\n",
    "The returned format must be correct in order to complete this challenge.\n",
    "Don't forget the space after the closing parentheses!"
   ]
  },
  {
   "cell_type": "markdown",
   "metadata": {},
   "source": [
    "__My solution:__"
   ]
  },
  {
   "cell_type": "code",
   "execution_count": 127,
   "metadata": {},
   "outputs": [
    {
     "name": "stdout",
     "output_type": "stream",
     "text": [
      "(123) 456-7890 (123) 456-7890\n",
      "(111) 111-1111 (111) 111-1111\n",
      "(123) 456-7890 (123) 456-7890\n",
      "(023) 056-0890 (023) 056-0890\n",
      "(000) 000-0000 (000) 000-0000\n"
     ]
    }
   ],
   "source": [
    "def create_phone_number(n):\n",
    "    return f\"({''.join(map(str, n[:3]))}) {''.join(map(str, n[3:6]))}-{''.join(map(str, n[6:]))}\"\n",
    "    \n",
    "print(create_phone_number([1, 2, 3, 4, 5, 6, 7, 8, 9, 0]), \"(123) 456-7890\")\n",
    "print(create_phone_number([1, 1, 1, 1, 1, 1, 1, 1, 1, 1]), \"(111) 111-1111\")\n",
    "print(create_phone_number([1, 2, 3, 4, 5, 6, 7, 8, 9, 0]), \"(123) 456-7890\")\n",
    "print(create_phone_number([0, 2, 3, 0, 5, 6, 0, 8, 9, 0]), \"(023) 056-0890\")\n",
    "print(create_phone_number([0, 0, 0, 0, 0, 0, 0, 0, 0, 0]), \"(000) 000-0000\")"
   ]
  },
  {
   "cell_type": "markdown",
   "metadata": {},
   "source": [
    "With a little modification:"
   ]
  },
  {
   "cell_type": "code",
   "execution_count": 130,
   "metadata": {},
   "outputs": [
    {
     "name": "stdout",
     "output_type": "stream",
     "text": [
      "(123) 456-7890 (123) 456-7890\n",
      "(111) 111-1111 (111) 111-1111\n",
      "(123) 456-7890 (123) 456-7890\n",
      "(023) 056-0890 (023) 056-0890\n",
      "(000) 000-0000 (000) 000-0000\n"
     ]
    }
   ],
   "source": [
    "def create_phone_number(n):\n",
    "    n = ''.join(map(str, n))\n",
    "    return f'({n[:3]}) {n[3:6]}-{n[6:]}'\n",
    "    \n",
    "print(create_phone_number([1, 2, 3, 4, 5, 6, 7, 8, 9, 0]), \"(123) 456-7890\")\n",
    "print(create_phone_number([1, 1, 1, 1, 1, 1, 1, 1, 1, 1]), \"(111) 111-1111\")\n",
    "print(create_phone_number([1, 2, 3, 4, 5, 6, 7, 8, 9, 0]), \"(123) 456-7890\")\n",
    "print(create_phone_number([0, 2, 3, 0, 5, 6, 0, 8, 9, 0]), \"(023) 056-0890\")\n",
    "print(create_phone_number([0, 0, 0, 0, 0, 0, 0, 0, 0, 0]), \"(000) 000-0000\")"
   ]
  },
  {
   "cell_type": "markdown",
   "metadata": {},
   "source": [
    "__Other users' solutions:__"
   ]
  },
  {
   "cell_type": "markdown",
   "metadata": {},
   "source": [
    "__#1__ Tricky!"
   ]
  },
  {
   "cell_type": "code",
   "execution_count": 132,
   "metadata": {},
   "outputs": [
    {
     "name": "stdout",
     "output_type": "stream",
     "text": [
      "(123) 456-7890 (123) 456-7890\n",
      "(111) 111-1111 (111) 111-1111\n",
      "(123) 456-7890 (123) 456-7890\n",
      "(023) 056-0890 (023) 056-0890\n",
      "(000) 000-0000 (000) 000-0000\n"
     ]
    }
   ],
   "source": [
    "def create_phone_number(n):\n",
    "    return '({}{}{}) {}{}{}-{}{}{}{}'.format(*n)\n",
    "\n",
    "print(create_phone_number([1, 2, 3, 4, 5, 6, 7, 8, 9, 0]), \"(123) 456-7890\")\n",
    "print(create_phone_number([1, 1, 1, 1, 1, 1, 1, 1, 1, 1]), \"(111) 111-1111\")\n",
    "print(create_phone_number([1, 2, 3, 4, 5, 6, 7, 8, 9, 0]), \"(123) 456-7890\")\n",
    "print(create_phone_number([0, 2, 3, 0, 5, 6, 0, 8, 9, 0]), \"(023) 056-0890\")\n",
    "print(create_phone_number([0, 0, 0, 0, 0, 0, 0, 0, 0, 0]), \"(000) 000-0000\")"
   ]
  },
  {
   "cell_type": "markdown",
   "metadata": {},
   "source": [
    "__#2__ Not the best but very unusual"
   ]
  },
  {
   "cell_type": "code",
   "execution_count": 131,
   "metadata": {},
   "outputs": [
    {
     "name": "stdout",
     "output_type": "stream",
     "text": [
      "(123) 456-7890 (123) 456-7890\n",
      "(111) 111-1111 (111) 111-1111\n",
      "(123) 456-7890 (123) 456-7890\n",
      "(023) 056-0890 (023) 056-0890\n",
      "(000) 000-0000 (000) 000-0000\n"
     ]
    }
   ],
   "source": [
    "from functools import reduce\n",
    "\n",
    "def create_phone_number(n):\n",
    "    return reduce( lambda a,c: a.replace('x',c, 1), list(map(str,n)), '(xxx) xxx-xxxx')\n",
    "\n",
    "print(create_phone_number([1, 2, 3, 4, 5, 6, 7, 8, 9, 0]), \"(123) 456-7890\")\n",
    "print(create_phone_number([1, 1, 1, 1, 1, 1, 1, 1, 1, 1]), \"(111) 111-1111\")\n",
    "print(create_phone_number([1, 2, 3, 4, 5, 6, 7, 8, 9, 0]), \"(123) 456-7890\")\n",
    "print(create_phone_number([0, 2, 3, 0, 5, 6, 0, 8, 9, 0]), \"(023) 056-0890\")\n",
    "print(create_phone_number([0, 0, 0, 0, 0, 0, 0, 0, 0, 0]), \"(000) 000-0000\")"
   ]
  },
  {
   "cell_type": "markdown",
   "metadata": {},
   "source": [
    "__#3__ Not the best but very unusual"
   ]
  },
  {
   "cell_type": "code",
   "execution_count": 133,
   "metadata": {},
   "outputs": [
    {
     "name": "stdout",
     "output_type": "stream",
     "text": [
      "(123) 456-7890 (123) 456-7890\n",
      "(111) 111-1111 (111) 111-1111\n",
      "(123) 456-7890 (123) 456-7890\n",
      "(023) 056-0890 (023) 056-0890\n",
      "(000) 000-0000 (000) 000-0000\n"
     ]
    }
   ],
   "source": [
    "def create_phone_number(digits):\n",
    "    digits = map(str, digits)\n",
    "    return ''.join(next(digits) if c == '.' else c for c in '(...) ...-....')\n",
    "\n",
    "print(create_phone_number([1, 2, 3, 4, 5, 6, 7, 8, 9, 0]), \"(123) 456-7890\")\n",
    "print(create_phone_number([1, 1, 1, 1, 1, 1, 1, 1, 1, 1]), \"(111) 111-1111\")\n",
    "print(create_phone_number([1, 2, 3, 4, 5, 6, 7, 8, 9, 0]), \"(123) 456-7890\")\n",
    "print(create_phone_number([0, 2, 3, 0, 5, 6, 0, 8, 9, 0]), \"(023) 056-0890\")\n",
    "print(create_phone_number([0, 0, 0, 0, 0, 0, 0, 0, 0, 0]), \"(000) 000-0000\")"
   ]
  },
  {
   "cell_type": "markdown",
   "metadata": {},
   "source": [
    "__#4__ With regex!"
   ]
  },
  {
   "cell_type": "code",
   "execution_count": 134,
   "metadata": {},
   "outputs": [
    {
     "name": "stdout",
     "output_type": "stream",
     "text": [
      "(123) 456-7890 (123) 456-7890\n",
      "(111) 111-1111 (111) 111-1111\n",
      "(123) 456-7890 (123) 456-7890\n",
      "(023) 056-0890 (023) 056-0890\n",
      "(000) 000-0000 (000) 000-0000\n"
     ]
    }
   ],
   "source": [
    "import re\n",
    "\n",
    "def create_phone_number(n):\n",
    "    n_string = ''.join(map(str,n))\n",
    "    formatted_number = re.sub(r'(\\d{3})(\\d{3})(\\d{4})', r'(\\1) \\2-\\3', n_string)\n",
    "    return formatted_number\n",
    "    \n",
    "print(create_phone_number([1, 2, 3, 4, 5, 6, 7, 8, 9, 0]), \"(123) 456-7890\")\n",
    "print(create_phone_number([1, 1, 1, 1, 1, 1, 1, 1, 1, 1]), \"(111) 111-1111\")\n",
    "print(create_phone_number([1, 2, 3, 4, 5, 6, 7, 8, 9, 0]), \"(123) 456-7890\")\n",
    "print(create_phone_number([0, 2, 3, 0, 5, 6, 0, 8, 9, 0]), \"(023) 056-0890\")\n",
    "print(create_phone_number([0, 0, 0, 0, 0, 0, 0, 0, 0, 0]), \"(000) 000-0000\")"
   ]
  },
  {
   "cell_type": "markdown",
   "metadata": {},
   "source": [
    "### Even or Odd\n",
    "https://www.codewars.com/kata/53da3dbb4a5168369a0000fe  \n",
    "8 kyu\n",
    "\n",
    "Create a function (or write a script in Shell) that takes an integer as an argument and returns \"Even\" for even numbers or \"Odd\" for odd numbers."
   ]
  },
  {
   "cell_type": "markdown",
   "metadata": {},
   "source": [
    "__My solution:__"
   ]
  },
  {
   "cell_type": "code",
   "execution_count": 136,
   "metadata": {},
   "outputs": [
    {
     "name": "stdout",
     "output_type": "stream",
     "text": [
      "Even Even\n",
      "Even Even\n",
      "Odd Odd\n",
      "Odd Odd\n",
      "Odd Odd\n"
     ]
    }
   ],
   "source": [
    "def even_or_odd(number):\n",
    "    return 'Odd' if number % 2 else 'Even'\n",
    "    \n",
    "print(even_or_odd(2), \"Even\")\n",
    "print(even_or_odd(0), \"Even\")\n",
    "print(even_or_odd(7), \"Odd\")\n",
    "print(even_or_odd(1), \"Odd\")\n",
    "print(even_or_odd(-1), \"Odd\")"
   ]
  },
  {
   "cell_type": "markdown",
   "metadata": {},
   "source": [
    "__Other users' solutions:__"
   ]
  },
  {
   "cell_type": "markdown",
   "metadata": {},
   "source": [
    "__#1__ Not the best but very unusual"
   ]
  },
  {
   "cell_type": "code",
   "execution_count": null,
   "metadata": {},
   "outputs": [],
   "source": [
    "def even_or_odd(number):\n",
    "    return 'Odd' if number & 1 else 'Even'"
   ]
  },
  {
   "cell_type": "markdown",
   "metadata": {},
   "source": [
    "__#2__"
   ]
  },
  {
   "cell_type": "code",
   "execution_count": 137,
   "metadata": {},
   "outputs": [],
   "source": [
    "def even_or_odd(number):\n",
    "    return [\"Even\", \"Odd\"][number % 2]"
   ]
  },
  {
   "cell_type": "markdown",
   "metadata": {},
   "source": [
    "### Does my number look big in this?\n",
    "https://www.codewars.com/kata/5287e858c6b5a9678200083c  \n",
    "6 kyu\n",
    "\n",
    "A Narcissistic Number is a positive number which is the sum of its own digits, each raised to the power of the number of digits in a given base. In this Kata, we will restrict ourselves to decimal (base 10).\n",
    "\n",
    "For example, take 153 (3 digits):\n",
    "\n",
    "1^3 + 5^3 + 3^3 = 1 + 125 + 27 = 153\n",
    "\n",
    "and 1634 (4 digits):\n",
    "\n",
    "1^4 + 6^4 + 3^4 + 4^4 = 1 + 1296 + 81 + 256 = 1634\n",
    "\n",
    "The Challenge:\n",
    "\n",
    "Your code must return true or false depending upon whether the given number is a Narcissistic number in base 10.\n",
    "\n",
    "Error checking for text strings or other invalid inputs is not required, only valid positive non-zero integers will be passed into the function."
   ]
  },
  {
   "cell_type": "markdown",
   "metadata": {},
   "source": [
    "__My solution:__"
   ]
  },
  {
   "cell_type": "code",
   "execution_count": 138,
   "metadata": {},
   "outputs": [
    {
     "name": "stdout",
     "output_type": "stream",
     "text": [
      "True True 7 is narcissistic\n",
      "True True 371 is narcissistic\n",
      "False False 122 is not narcissistic\n",
      "False False 4887 is not narcissistic\n"
     ]
    }
   ],
   "source": [
    "def narcissistic(value):\n",
    "    s_v = str(value)\n",
    "    return sum(int(d) ** len(s_v) for d in s_v) == value\n",
    "    \n",
    "print(narcissistic(7), True, '7 is narcissistic');\n",
    "print(narcissistic(371), True, '371 is narcissistic');\n",
    "print(narcissistic(122), False, '122 is not narcissistic')\n",
    "print(narcissistic(4887), False, '4887 is not narcissistic')"
   ]
  },
  {
   "cell_type": "markdown",
   "metadata": {},
   "source": [
    "20201021"
   ]
  },
  {
   "cell_type": "markdown",
   "metadata": {},
   "source": [
    "### Weight for weight\n",
    "https://www.codewars.com/kata/55c6126177c9441a570000cc  \n",
    "5 kyu\n",
    "\n",
    "My friend John and I are members of the \"Fat to Fit Club (FFC)\". John is worried because each month a list with the weights of members is published and each month he is the last on the list which means he is the heaviest.\n",
    "\n",
    "I am the one who establishes the list so I told him: \"Don't worry any more, I will modify the order of the list\". It was decided to attribute a \"weight\" to numbers. The weight of a number will be from now on the sum of its digits.\n",
    "\n",
    "For example 99 will have \"weight\" 18, 100 will have \"weight\" 1 so in the list 100 will come before 99. Given a string with the weights of FFC members in normal order can you give this string ordered by \"weights\" of these numbers?\n",
    "\n",
    "Example:  \n",
    "\"56 65 74 100 99 68 86 180 90\" ordered by numbers weights becomes: \"100 180 90 56 65 74 68 86 99\"\n",
    "\n",
    "When two numbers have the same \"weight\", let us class them as if they were strings (alphabetical ordering) and not numbers: 100 is before 180 because its \"weight\" (1) is less than the one of 180 (9) and 180 is before 90 since, having the same \"weight\" (9), it comes before as a string.\n",
    "\n",
    "All numbers in the list are positive numbers and the list can be empty.\n",
    "\n",
    "Notes  \n",
    "it may happen that the input string have leading, trailing whitespaces and more than a unique whitespace between two consecutive numbers\n",
    "Don't modify the input\n",
    "For C: The result is freed."
   ]
  },
  {
   "cell_type": "markdown",
   "metadata": {},
   "source": [
    "__My solutions:__"
   ]
  },
  {
   "cell_type": "markdown",
   "metadata": {},
   "source": [
    "__#1__"
   ]
  },
  {
   "cell_type": "code",
   "execution_count": null,
   "metadata": {},
   "outputs": [],
   "source": [
    "from operator import itemgetter\n",
    "\n",
    "def order_weight(strng):\n",
    "    def get_sum_of_digits(num):\n",
    "        return sum(ord(d) - ord('1') + 1 for d in num)\n",
    "    \n",
    "    nums = [(n, get_sum_of_digits(n)) for n in strng.split()]    \n",
    "    return ' '.join(n[0] for n in sorted(nums, key=itemgetter(1, 0)))\n",
    "        \n",
    "    \n",
    "print(order_weight(\"103 123 4444 99 2000\"), \"2000 103 123 4444 99\", sep='\\n')\n",
    "print()\n",
    "print(order_weight(\"2000 10003 1234000 44444444 9999 11 11 22 123\"), \"11 11 2000 10003 22 123 1234000 44444444 9999\", sep='\\n')\n"
   ]
  },
  {
   "cell_type": "markdown",
   "metadata": {},
   "source": [
    "The same but a little shorter:"
   ]
  },
  {
   "cell_type": "code",
   "execution_count": 147,
   "metadata": {},
   "outputs": [
    {
     "name": "stdout",
     "output_type": "stream",
     "text": [
      "2000 103 123 4444 99\n",
      "2000 103 123 4444 99\n",
      "\n",
      "11 11 2000 10003 22 123 1234000 44444444 9999\n",
      "11 11 2000 10003 22 123 1234000 44444444 9999\n"
     ]
    }
   ],
   "source": [
    "from operator import itemgetter\n",
    "\n",
    "def order_weight(strng): \n",
    "    nums = [(n, sum(ord(d) - ord('1') + 1 for d in n)) for n in strng.split()]    \n",
    "    return ' '.join(n[0] for n in sorted(nums, key=itemgetter(1, 0)))\n",
    "\n",
    "print(order_weight(\"103 123 4444 99 2000\"), \"2000 103 123 4444 99\", sep='\\n')\n",
    "print()\n",
    "print(order_weight(\"2000 10003 1234000 44444444 9999 11 11 22 123\"), \"11 11 2000 10003 22 123 1234000 44444444 9999\", sep='\\n')\n"
   ]
  },
  {
   "cell_type": "markdown",
   "metadata": {},
   "source": [
    "__#2__"
   ]
  },
  {
   "cell_type": "code",
   "execution_count": 153,
   "metadata": {},
   "outputs": [
    {
     "name": "stdout",
     "output_type": "stream",
     "text": [
      "2000 103 123 4444 99\n",
      "2000 103 123 4444 99\n",
      "\n",
      "11 11 2000 10003 22 123 1234000 44444444 9999\n",
      "11 11 2000 10003 22 123 1234000 44444444 9999\n"
     ]
    }
   ],
   "source": [
    "def order_weight(strng): \n",
    "    return ' '.join(sorted(sorted(strng.split()), key=lambda n: sum(int(d) for d in n)))\n",
    "\n",
    "print(order_weight(\"103 123 4444 99 2000\"), \"2000 103 123 4444 99\", sep='\\n')\n",
    "print()\n",
    "print(order_weight(\"2000 10003 1234000 44444444 9999 11 11 22 123\"), \"11 11 2000 10003 22 123 1234000 44444444 9999\", sep='\\n')\n"
   ]
  },
  {
   "cell_type": "markdown",
   "metadata": {},
   "source": [
    "### Find the unique number\n",
    "https://www.codewars.com/kata/585d7d5adb20cf33cb000235  \n",
    "6 kyu\n",
    "\n",
    "There is an array with some numbers. All numbers are equal except for one. Try to find it!\n",
    "\n",
    "find_uniq([ 1, 1, 1, 2, 1, 1 ]) == 2  \n",
    "find_uniq([ 0, 0, 0.55, 0, 0 ]) == 0.55  \n",
    "\n",
    "It’s guaranteed that array contains at least 3 numbers.\n",
    "\n",
    "The tests contain some very huge arrays, so think about performance."
   ]
  },
  {
   "cell_type": "markdown",
   "metadata": {},
   "source": [
    "__My solution:__"
   ]
  },
  {
   "cell_type": "code",
   "execution_count": 154,
   "metadata": {},
   "outputs": [
    {
     "name": "stdout",
     "output_type": "stream",
     "text": [
      "2 2\n",
      "0.55 0.55\n",
      "10 10\n"
     ]
    }
   ],
   "source": [
    "def find_uniq(arr):\n",
    "    return next(filter(lambda a: arr.count(a) == 1, set(arr)))\n",
    "\n",
    "print(find_uniq([ 1, 1, 1, 2, 1, 1 ]), 2)\n",
    "print(find_uniq([ 0, 0, 0.55, 0, 0 ]), 0.55)\n",
    "print(find_uniq([ 3, 10, 3, 3, 3 ]), 10)"
   ]
  },
  {
   "cell_type": "markdown",
   "metadata": {},
   "source": [
    "Almost the same but faster:"
   ]
  },
  {
   "cell_type": "code",
   "execution_count": 155,
   "metadata": {},
   "outputs": [
    {
     "name": "stdout",
     "output_type": "stream",
     "text": [
      "2 2\n",
      "0.55 0.55\n",
      "10 10\n"
     ]
    }
   ],
   "source": [
    "def find_uniq(arr):\n",
    "    return next(filter(lambda a: arr[:3].count(a) <= 1, set(arr)))\n",
    "\n",
    "print(find_uniq([ 1, 1, 1, 2, 1, 1 ]), 2)\n",
    "print(find_uniq([ 0, 0, 0.55, 0, 0 ]), 0.55)\n",
    "print(find_uniq([ 3, 10, 3, 3, 3 ]), 10)"
   ]
  },
  {
   "cell_type": "markdown",
   "metadata": {},
   "source": [
    "Almost the same:"
   ]
  },
  {
   "cell_type": "code",
   "execution_count": 33,
   "metadata": {},
   "outputs": [
    {
     "name": "stdout",
     "output_type": "stream",
     "text": [
      "2 2\n",
      "0.55 0.55\n",
      "10 10\n"
     ]
    }
   ],
   "source": [
    "def find_uniq(arr):\n",
    "    for a in set(arr):\n",
    "        if arr[:3].count(a) <= 1:\n",
    "            return a\n",
    "\n",
    "print(find_uniq([ 1, 1, 1, 2, 1, 1 ]), 2)\n",
    "print(find_uniq([ 0, 0, 0.55, 0, 0 ]), 0.55)\n",
    "print(find_uniq([ 3, 10, 3, 3, 3 ]), 10)"
   ]
  },
  {
   "cell_type": "markdown",
   "metadata": {},
   "source": [
    "__#2__"
   ]
  },
  {
   "cell_type": "code",
   "execution_count": 161,
   "metadata": {},
   "outputs": [
    {
     "name": "stdout",
     "output_type": "stream",
     "text": [
      "2 2\n",
      "0.55 0.55\n",
      "10 10\n",
      "10 10\n"
     ]
    }
   ],
   "source": [
    "def find_uniq(arr):\n",
    "    for i in range(1, len(arr) - 1):\n",
    "        if arr[0] == arr[-1] != arr[i]:\n",
    "            return arr[i]\n",
    "        elif arr[0] != arr[-1]:\n",
    "            if arr[i] != arr[0]:\n",
    "                return arr[0]\n",
    "            else:\n",
    "                return arr[-1]\n",
    "\n",
    "print(find_uniq([ 1, 1, 1, 2, 1, 1 ]), 2)\n",
    "print(find_uniq([ 0, 0, 0.55, 0, 0 ]), 0.55)\n",
    "print(find_uniq([ 3, 10, 3, 3, 3 ]), 10)\n",
    "print(find_uniq([ 10, 3, 3, 3 ]), 10)"
   ]
  },
  {
   "cell_type": "code",
   "execution_count": 163,
   "metadata": {},
   "outputs": [
    {
     "name": "stdout",
     "output_type": "stream",
     "text": [
      "2 2\n",
      "0.55 0.55\n",
      "10 10\n",
      "10 10\n"
     ]
    }
   ],
   "source": [
    "def find_uniq(arr):\n",
    "    for i in range(2, len(arr)):\n",
    "        if arr[0] == arr[1] != arr[i]:\n",
    "            return arr[i]\n",
    "        elif arr[0] != arr[1]:\n",
    "            if arr[i] != arr[0]:\n",
    "                return arr[0]\n",
    "            else:\n",
    "                return arr[1]\n",
    "\n",
    "print(find_uniq([ 1, 1, 1, 2, 1, 1 ]), 2)\n",
    "print(find_uniq([ 0, 0, 0.55, 0, 0 ]), 0.55)\n",
    "print(find_uniq([ 3, 10, 3, 3, 3 ]), 10)\n",
    "print(find_uniq([ 10, 3, 3, 3 ]), 10)"
   ]
  },
  {
   "cell_type": "markdown",
   "metadata": {},
   "source": [
    "__Other users' solution:__"
   ]
  },
  {
   "cell_type": "markdown",
   "metadata": {},
   "source": [
    "__#1__"
   ]
  },
  {
   "cell_type": "code",
   "execution_count": 162,
   "metadata": {},
   "outputs": [
    {
     "name": "stdout",
     "output_type": "stream",
     "text": [
      "2 2\n",
      "0.55 0.55\n",
      "10 10\n",
      "10 10\n"
     ]
    }
   ],
   "source": [
    "def find_uniq(arr):\n",
    "    a, b = set(arr)\n",
    "    return a if arr[:3].count(a) == 1 else b\n",
    "\n",
    "print(find_uniq([ 1, 1, 1, 2, 1, 1 ]), 2)\n",
    "print(find_uniq([ 0, 0, 0.55, 0, 0 ]), 0.55)\n",
    "print(find_uniq([ 3, 10, 3, 3, 3 ]), 10)\n",
    "print(find_uniq([ 10, 3, 3, 3 ]), 10)"
   ]
  },
  {
   "cell_type": "markdown",
   "metadata": {},
   "source": [
    "__#2__"
   ]
  },
  {
   "cell_type": "code",
   "execution_count": 164,
   "metadata": {},
   "outputs": [
    {
     "name": "stdout",
     "output_type": "stream",
     "text": [
      "2 2\n",
      "0.55 0.55\n",
      "10 10\n",
      "10 10\n"
     ]
    }
   ],
   "source": [
    "from collections import Counter\n",
    "\n",
    "def find_uniq(arr):\n",
    "    return next(k for k, v in Counter(arr).items() if v == 1)\n",
    "\n",
    "print(find_uniq([ 1, 1, 1, 2, 1, 1 ]), 2)\n",
    "print(find_uniq([ 0, 0, 0.55, 0, 0 ]), 0.55)\n",
    "print(find_uniq([ 3, 10, 3, 3, 3 ]), 10)\n",
    "print(find_uniq([ 10, 3, 3, 3 ]), 10)"
   ]
  },
  {
   "cell_type": "markdown",
   "metadata": {},
   "source": [
    "__#3__"
   ]
  },
  {
   "cell_type": "code",
   "execution_count": 165,
   "metadata": {},
   "outputs": [
    {
     "name": "stdout",
     "output_type": "stream",
     "text": [
      "2 2\n",
      "0.55 0.55\n",
      "10 10\n",
      "10 10\n"
     ]
    }
   ],
   "source": [
    "def find_uniq(arr):\n",
    "    if arr[0] != arr[1]:\n",
    "        if arr[0] != arr[2]:\n",
    "            return arr[0]\n",
    "        else:\n",
    "            return arr[1]           \n",
    "    else:\n",
    "        for i in arr[2:]:\n",
    "            if i != arr[0]:\n",
    "                return i\n",
    "            \n",
    "print(find_uniq([ 1, 1, 1, 2, 1, 1 ]), 2)\n",
    "print(find_uniq([ 0, 0, 0.55, 0, 0 ]), 0.55)\n",
    "print(find_uniq([ 3, 10, 3, 3, 3 ]), 10)\n",
    "print(find_uniq([ 10, 3, 3, 3 ]), 10)"
   ]
  },
  {
   "cell_type": "markdown",
   "metadata": {},
   "source": [
    "__#4__ A little strange but save just in case"
   ]
  },
  {
   "cell_type": "code",
   "execution_count": null,
   "metadata": {},
   "outputs": [],
   "source": [
    "def find_uniq(arr):\n",
    "    i = iter(arr)\n",
    "    a, b, c = next(i), next(i), next(i)\n",
    "    if a != b:\n",
    "        return a if b == c else b\n",
    "    else:\n",
    "        while c == a:\n",
    "            c = next(i)\n",
    "        return c"
   ]
  },
  {
   "cell_type": "markdown",
   "metadata": {},
   "source": [
    "20201022"
   ]
  },
  {
   "cell_type": "markdown",
   "metadata": {},
   "source": [
    "### Write Number in Expanded Form\n",
    "https://www.codewars.com/kata/5842df8ccbd22792a4000245  \n",
    "6 kyu\n",
    "\n",
    "Write Number in Expanded Form\n",
    "You will be given a number and you will need to return it as a string in Expanded Form.\n",
    "\n",
    "For example:\n",
    "\n",
    "expanded_form(12) # Should return '10 + 2'  \n",
    "expanded_form(42) # Should return '40 + 2'  \n",
    "expanded_form(70304) # Should return '70000 + 300 + 4'  \n",
    "\n",
    "NOTE: All numbers will be whole numbers greater than 0."
   ]
  },
  {
   "cell_type": "markdown",
   "metadata": {},
   "source": [
    "__My solutions:__"
   ]
  },
  {
   "cell_type": "markdown",
   "metadata": {},
   "source": [
    "__#1__"
   ]
  },
  {
   "cell_type": "code",
   "execution_count": 179,
   "metadata": {},
   "outputs": [
    {
     "name": "stdout",
     "output_type": "stream",
     "text": [
      "10 + 2 10 + 2\n",
      "40 + 2 40 + 2\n",
      "70000 + 300 + 4 70000 + 300 + 4\n"
     ]
    }
   ],
   "source": [
    "def expanded_form(num):\n",
    "    return ' + '.join(str(int(d) * 10 ** (len(str(num)) - i - 1)) for i, d in enumerate(str(num)) if d != '0')\n",
    "\n",
    "print(expanded_form(12), '10 + 2');\n",
    "print(expanded_form(42), '40 + 2');\n",
    "print(expanded_form(70304), '70000 + 300 + 4');"
   ]
  },
  {
   "cell_type": "markdown",
   "metadata": {},
   "source": [
    "__#2__"
   ]
  },
  {
   "cell_type": "code",
   "execution_count": 183,
   "metadata": {},
   "outputs": [
    {
     "name": "stdout",
     "output_type": "stream",
     "text": [
      "10 + 2 10 + 2\n",
      "40 + 2 40 + 2\n",
      "70000 + 300 + 4 70000 + 300 + 4\n"
     ]
    }
   ],
   "source": [
    "def expanded_form(num):\n",
    "    lst = []\n",
    "    div = 10\n",
    "    while num > 0:\n",
    "        cur = num % div\n",
    "        if cur:\n",
    "            lst.append(str(cur))\n",
    "            num -= cur\n",
    "        div *= 10\n",
    "    return ' + '.join(reversed(lst))\n",
    "\n",
    "print(expanded_form(12), '10 + 2');\n",
    "print(expanded_form(42), '40 + 2');\n",
    "print(expanded_form(70304), '70000 + 300 + 4');"
   ]
  },
  {
   "cell_type": "markdown",
   "metadata": {},
   "source": [
    "__Other users' solution:__ "
   ]
  },
  {
   "cell_type": "code",
   "execution_count": null,
   "metadata": {},
   "outputs": [],
   "source": [
    "def expanded_form(n):\n",
    "    result = []\n",
    "    for a in range(len(str(n)) - 1, -1, -1):\n",
    "        current = 10 ** a\n",
    "        quo, n = divmod(n, current)\n",
    "        if quo:\n",
    "            result.append(str(quo * current))\n",
    "    return ' + '.join(result)"
   ]
  },
  {
   "cell_type": "code",
   "execution_count": null,
   "metadata": {},
   "outputs": [],
   "source": [
    "def expanded_form(num):\n",
    "    num = str(num)\n",
    "    st = ''\n",
    "    for j, i in enumerate(num):\n",
    "        if i != '0':\n",
    "            st += ' + {}{}'.format(i, (len(num[j+1:])*'0'))\n",
    "    return st.strip(' +')"
   ]
  },
  {
   "cell_type": "markdown",
   "metadata": {},
   "source": [
    "### First non-repeating character\n",
    "https://www.codewars.com/kata/52bc74d4ac05d0945d00054e  \n",
    "5 kyu\n",
    "\n",
    "Write a function named first_non_repeating_letter that takes a string input, and returns the first character that is not repeated anywhere in the string.\n",
    "\n",
    "For example, if given the input 'stress', the function should return 't', since the letter t only occurs once in the string, and occurs first in the string.\n",
    "\n",
    "As an added challenge, upper- and lowercase letters are considered the same character, but the function should return the correct case for the initial letter. For example, the input 'sTreSS' should return 'T'.\n",
    "\n",
    "If a string contains all repeating characters, it should return an empty string (\"\") or None -- see sample tests."
   ]
  },
  {
   "cell_type": "markdown",
   "metadata": {},
   "source": [
    "__My solution:__"
   ]
  },
  {
   "cell_type": "markdown",
   "metadata": {},
   "source": [
    "__#1__"
   ]
  },
  {
   "cell_type": "code",
   "execution_count": 187,
   "metadata": {},
   "outputs": [
    {
     "name": "stdout",
     "output_type": "stream",
     "text": [
      "a a\n",
      "t t\n",
      "e e\n",
      "\n",
      "should handle empty strings\n",
      " \n",
      "\n",
      "should handle all repeating strings\n",
      " \n",
      " \n"
     ]
    }
   ],
   "source": [
    "def first_non_repeating_letter(string):\n",
    "    return next((l for l in string if string.lower().count(l.lower()) == 1), '')\n",
    "    \n",
    "print(first_non_repeating_letter('a'), 'a')\n",
    "print(first_non_repeating_letter('stress'), 't')\n",
    "print(first_non_repeating_letter('moonmen'), 'e')\n",
    "print()\n",
    "print('should handle empty strings')\n",
    "print(first_non_repeating_letter(''), '')\n",
    "print()\n",
    "print('should handle all repeating strings') \n",
    "print(first_non_repeating_letter('abba'), '')\n",
    "print(first_non_repeating_letter('aa'), '')"
   ]
  },
  {
   "cell_type": "markdown",
   "metadata": {},
   "source": [
    "Almost the same:"
   ]
  },
  {
   "cell_type": "code",
   "execution_count": 188,
   "metadata": {},
   "outputs": [
    {
     "name": "stdout",
     "output_type": "stream",
     "text": [
      "a a\n",
      "t t\n",
      "e e\n",
      "\n",
      "should handle empty strings\n",
      " \n",
      "\n",
      "should handle all repeating strings\n",
      " \n",
      " \n",
      " \n"
     ]
    }
   ],
   "source": [
    "def first_non_repeating_letter(string):\n",
    "    string_l = string.lower()\n",
    "    return next((l for l in string if string_l.count(l.lower()) == 1), '')\n",
    "    \n",
    "print(first_non_repeating_letter('a'), 'a')\n",
    "print(first_non_repeating_letter('stress'), 't')\n",
    "print(first_non_repeating_letter('moonmen'), 'e')\n",
    "print()\n",
    "print('should handle empty strings')\n",
    "print(first_non_repeating_letter(''), '')\n",
    "print()\n",
    "print('should handle all repeating strings') \n",
    "print(first_non_repeating_letter('abba'), '')\n",
    "print(first_non_repeating_letter('ababababababababababab'), '')\n",
    "print(first_non_repeating_letter('aa'), '')"
   ]
  },
  {
   "cell_type": "markdown",
   "metadata": {},
   "source": [
    "__#2__"
   ]
  },
  {
   "cell_type": "code",
   "execution_count": 189,
   "metadata": {},
   "outputs": [
    {
     "name": "stdout",
     "output_type": "stream",
     "text": [
      "a a\n",
      "t t\n",
      "e e\n",
      "\n",
      "should handle empty strings\n",
      " \n",
      "\n",
      "should handle all repeating strings\n",
      " \n",
      " \n",
      " \n"
     ]
    }
   ],
   "source": [
    "from collections import Counter\n",
    "\n",
    "def first_non_repeating_letter(string):\n",
    "    counters = Counter(string.lower())\n",
    "    return next((l for l in string if counters[l.lower()] == 1), '')\n",
    "    \n",
    "print(first_non_repeating_letter('a'), 'a')\n",
    "print(first_non_repeating_letter('stress'), 't')\n",
    "print(first_non_repeating_letter('moonmen'), 'e')\n",
    "print()\n",
    "print('should handle empty strings')\n",
    "print(first_non_repeating_letter(''), '')\n",
    "print()\n",
    "print('should handle all repeating strings') \n",
    "print(first_non_repeating_letter('abba'), '')\n",
    "print(first_non_repeating_letter('ababababababababababab'), '')\n",
    "print(first_non_repeating_letter('aa'), '')"
   ]
  },
  {
   "cell_type": "markdown",
   "metadata": {},
   "source": [
    "__The most efficient and readable solution:__"
   ]
  },
  {
   "cell_type": "code",
   "execution_count": 201,
   "metadata": {},
   "outputs": [
    {
     "name": "stdout",
     "output_type": "stream",
     "text": [
      "a a\n",
      "t t\n",
      "e e\n",
      "\n",
      "should handle empty strings\n",
      " \n",
      "\n",
      "should handle all repeating strings\n",
      " \n",
      " \n",
      " \n"
     ]
    }
   ],
   "source": [
    "from collections import Counter\n",
    "\n",
    "def first_non_repeating_letter(string):\n",
    "    counters = Counter(string.lower())\n",
    "    if 1 in counters.values():\n",
    "        return next((l for l in string if counters[l.lower()] == 1))\n",
    "    return ''\n",
    "    \n",
    "print(first_non_repeating_letter('a'), 'a')\n",
    "print(first_non_repeating_letter('stress'), 't')\n",
    "print(first_non_repeating_letter('moonmen'), 'e')\n",
    "print()\n",
    "print('should handle empty strings')\n",
    "print(first_non_repeating_letter(''), '')\n",
    "print()\n",
    "print('should handle all repeating strings') \n",
    "print(first_non_repeating_letter('abba'), '')\n",
    "print(first_non_repeating_letter('ababababababababababab'), '')\n",
    "print(first_non_repeating_letter('aa'), '')"
   ]
  },
  {
   "cell_type": "code",
   "execution_count": null,
   "metadata": {},
   "outputs": [],
   "source": [
    "from collections import Counter\n",
    "\n",
    "def first_non_repeating_letter(string):\n",
    "    counters = Counter(string.lower())\n",
    "    return next((l for l in string if counters[l.lower()] == 1)) if 1 in counters.values() else ''"
   ]
  },
  {
   "cell_type": "markdown",
   "metadata": {},
   "source": [
    "__#3__ Awful solution: it's not the most efficient and it's not quite readable. I made it just for fun"
   ]
  },
  {
   "cell_type": "code",
   "execution_count": 198,
   "metadata": {},
   "outputs": [
    {
     "name": "stdout",
     "output_type": "stream",
     "text": [
      "iter\n",
      "a a\n",
      "iter\n",
      "iter\n",
      "t t\n",
      "iter\n",
      "iter\n",
      "iter\n",
      "iter\n",
      "iter\n",
      "iter\n",
      "e e\n",
      "\n",
      "should handle empty strings\n",
      " \n",
      "\n",
      "should handle all repeating strings\n",
      "iter\n",
      "iter\n",
      "iter\n",
      " \n"
     ]
    }
   ],
   "source": [
    "def first_non_repeating_letter(string):\n",
    "    letters = set(string.lower())\n",
    "    string_low = string.lower()\n",
    "    for l in string:\n",
    "        print('iter')\n",
    "        l_low = l.lower()\n",
    "        if letters:\n",
    "            if l_low in letters:\n",
    "                if string_low.count(l_low) == 1:\n",
    "                    return l\n",
    "                else:\n",
    "                    letters.remove(l_low)\n",
    "        else:\n",
    "            break\n",
    "    return ''\n",
    "    \n",
    "print(first_non_repeating_letter('a'), 'a')\n",
    "print(first_non_repeating_letter('stress'), 't')\n",
    "print(first_non_repeating_letter('moonmen'), 'e')\n",
    "print()\n",
    "print('should handle empty strings')\n",
    "print(first_non_repeating_letter(''), '')\n",
    "print()\n",
    "print('should handle all repeating strings') \n",
    "#print(first_non_repeating_letter('abba'), '')\n",
    "print(first_non_repeating_letter('ababababababababababab'), '')\n",
    "#print(first_non_repeating_letter('aa'), '')"
   ]
  },
  {
   "cell_type": "markdown",
   "metadata": {},
   "source": [
    "I couldn't help to stop working on my monster and I'd say the next its modification is quite good. Yes, it's still not readable but now it could be quite efficient in some test cases:"
   ]
  },
  {
   "cell_type": "code",
   "execution_count": 197,
   "metadata": {},
   "outputs": [
    {
     "name": "stdout",
     "output_type": "stream",
     "text": [
      "iter\n",
      "a a\n",
      "iter\n",
      "iter\n",
      "t t\n",
      "iter\n",
      "iter\n",
      "iter\n",
      "iter\n",
      "iter\n",
      "iter\n",
      "e e\n",
      "\n",
      "should handle empty strings\n",
      " \n",
      "\n",
      "should handle all repeating strings\n",
      "iter\n",
      "iter\n",
      "iter\n",
      " \n"
     ]
    }
   ],
   "source": [
    "from collections import Counter\n",
    "\n",
    "def first_non_repeating_letter(string):\n",
    "    letters_counters = Counter(string.lower())\n",
    "    string_low = string.lower()\n",
    "    for l in string:\n",
    "        #print('iter')\n",
    "        l_low = l.lower()\n",
    "        if letters_counters:\n",
    "            if l_low in letters_counters:\n",
    "                if letters_counters[l_low] == 1:\n",
    "                    return l\n",
    "                else:\n",
    "                    letters_counters.pop(l_low)\n",
    "        else:\n",
    "            break\n",
    "    return ''\n",
    "    \n",
    "print(first_non_repeating_letter('a'), 'a')\n",
    "print(first_non_repeating_letter('stress'), 't')\n",
    "print(first_non_repeating_letter('moonmen'), 'e')\n",
    "print()\n",
    "print('should handle empty strings')\n",
    "print(first_non_repeating_letter(''), '')\n",
    "print()\n",
    "print('should handle all repeating strings') \n",
    "#print(first_non_repeating_letter('abba'), '')\n",
    "print(first_non_repeating_letter('ababababababababababab'), '')\n",
    "#print(first_non_repeating_letter('aa'), '')"
   ]
  },
  {
   "cell_type": "markdown",
   "metadata": {},
   "source": [
    "20201023"
   ]
  },
  {
   "cell_type": "markdown",
   "metadata": {},
   "source": [
    "### Find the next perfect square!\n",
    "https://www.codewars.com/kata/56269eb78ad2e4ced1000013  \n",
    "7 kyu\n",
    "\n",
    "You might know some pretty large perfect squares. But what about the NEXT one?\n",
    "\n",
    "Complete the findNextSquare method that finds the next integral perfect square after the one passed as a parameter. Recall that an integral perfect square is an integer n such that sqrt(n) is also an integer.\n",
    "\n",
    "If the parameter is itself not a perfect square then -1 should be returned. You may assume the parameter is positive.\n",
    "\n",
    "Examples:\n",
    "\n",
    "findNextSquare(121) --> returns 144  \n",
    "findNextSquare(625) --> returns 676  \n",
    "findNextSquare(114) --> returns -1 since 114 is not a perfect"
   ]
  },
  {
   "cell_type": "markdown",
   "metadata": {},
   "source": [
    "__My solution:__"
   ]
  },
  {
   "cell_type": "code",
   "execution_count": 205,
   "metadata": {},
   "outputs": [
    {
     "name": "stdout",
     "output_type": "stream",
     "text": [
      "should return the next square for perfect squares\n",
      "144 144 Wrong output for 121\n",
      "676 676 Wrong output for 625\n",
      "320356 320356 Wrong output for 319225\n",
      "15241630849 15241630849 Wrong output for 15241383936\n",
      "\n",
      "should return -1 for numbers which aren't perfect squares\n",
      "-1 -1 Wrong output for 155\n",
      "-1 -1 Wrong output for 342786627\n"
     ]
    }
   ],
   "source": [
    "def find_next_square(sq):\n",
    "    res = sq ** 0.5\n",
    "    if res == int(res):\n",
    "        return int((res + 1) ** 2)\n",
    "    return -1\n",
    "\n",
    "print(\"should return the next square for perfect squares\")\n",
    "print(find_next_square(121), 144, \"Wrong output for 121\")\n",
    "print(find_next_square(625), 676, \"Wrong output for 625\")\n",
    "print(find_next_square(319225), 320356, \"Wrong output for 319225\")\n",
    "print(find_next_square(15241383936), 15241630849, \"Wrong output for 15241383936\")\n",
    "print()\n",
    "print(\"should return -1 for numbers which aren't perfect squares\")\n",
    "print(find_next_square(155), -1, \"Wrong output for 155\")\n",
    "print(find_next_square(342786627), -1, \"Wrong output for 342786627\")"
   ]
  },
  {
   "cell_type": "markdown",
   "metadata": {},
   "source": [
    "20201024"
   ]
  },
  {
   "cell_type": "markdown",
   "metadata": {},
   "source": [
    "### Your order, please\n",
    "https://www.codewars.com/kata/55c45be3b2079eccff00010f  \n",
    "6 kyu\n",
    "\n",
    "Your task is to sort a given string. Each word in the string will contain a single number. This number is the position the word should have in the result.\n",
    "\n",
    "Note: Numbers can be from 1 to 9. So 1 will be the first word (not 0).\n",
    "\n",
    "If the input string is empty, return an empty string. The words in the input String will only contain valid consecutive numbers.\n",
    "\n",
    "Examples\n",
    "\n",
    "\"is2 Thi1s T4est 3a\"  -->  \"Thi1s is2 3a T4est\"  \n",
    "\"4of Fo1r pe6ople g3ood th5e the2\"  -->  \"Fo1r the2 g3ood 4of th5e pe6ople\"\n",
    "\"\"  -->  \"\""
   ]
  },
  {
   "cell_type": "markdown",
   "metadata": {},
   "source": [
    "__My solution:__"
   ]
  },
  {
   "cell_type": "code",
   "execution_count": 217,
   "metadata": {},
   "outputs": [
    {
     "name": "stdout",
     "output_type": "stream",
     "text": [
      "Thi1s is2 3a T4est Thi1s is2 3a T4est\n",
      "Fo1r the2 g3ood 4of th5e pe6ople Fo1r the2 g3ood 4of th5e pe6ople\n",
      " \n"
     ]
    }
   ],
   "source": [
    "import re\n",
    "\n",
    "def order(sentence):\n",
    "    words = sentence.split()\n",
    "    words2 = [''] * len(words)\n",
    "    for word in words:\n",
    "        words2[int(re.search(r'\\d+', word)[0]) - 1] = word\n",
    "    return ' '.join(words2)\n",
    "\n",
    "print(order(\"is2 Thi1s T4est 3a\"), \"Thi1s is2 3a T4est\")\n",
    "print(order(\"4of Fo1r pe6ople g3ood th5e the2\"), \"Fo1r the2 g3ood 4of th5e pe6ople\")\n",
    "print(order(\"\"), \"\")"
   ]
  },
  {
   "cell_type": "code",
   "execution_count": 206,
   "metadata": {},
   "outputs": [
    {
     "name": "stdout",
     "output_type": "stream",
     "text": [
      "Help on method_descriptor:\n",
      "\n",
      "find(...)\n",
      "    S.find(sub[, start[, end]]) -> int\n",
      "    \n",
      "    Return the lowest index in S where substring sub is found,\n",
      "    such that sub is contained within S[start:end].  Optional\n",
      "    arguments start and end are interpreted as in slice notation.\n",
      "    \n",
      "    Return -1 on failure.\n",
      "\n"
     ]
    }
   ],
   "source": [
    "help(str.find)"
   ]
  },
  {
   "cell_type": "code",
   "execution_count": 207,
   "metadata": {},
   "outputs": [
    {
     "name": "stdout",
     "output_type": "stream",
     "text": [
      "Help on method_descriptor:\n",
      "\n",
      "split(self, /, sep=None, maxsplit=-1)\n",
      "    Return a list of the words in the string, using sep as the delimiter string.\n",
      "    \n",
      "    sep\n",
      "      The delimiter according which to split the string.\n",
      "      None (the default value) means split according to any whitespace,\n",
      "      and discard empty strings from the result.\n",
      "    maxsplit\n",
      "      Maximum number of splits to do.\n",
      "      -1 (the default value) means no limit.\n",
      "\n"
     ]
    }
   ],
   "source": [
    "help(str.split)"
   ]
  },
  {
   "cell_type": "code",
   "execution_count": 209,
   "metadata": {},
   "outputs": [
    {
     "data": {
      "text/plain": [
       "list"
      ]
     },
     "execution_count": 209,
     "metadata": {},
     "output_type": "execute_result"
    }
   ],
   "source": [
    "type(str.split(' d f ss   dd'))"
   ]
  },
  {
   "cell_type": "markdown",
   "metadata": {},
   "source": [
    "__To delete position number from word:__"
   ]
  },
  {
   "cell_type": "code",
   "execution_count": 231,
   "metadata": {},
   "outputs": [
    {
     "name": "stdout",
     "output_type": "stream",
     "text": [
      "This is a Test Thi1s is2 3a T4est\n",
      "For the good of the people Fo1r the2 g3ood 4of th5e pe6ople\n",
      " \n"
     ]
    }
   ],
   "source": [
    "import re\n",
    "\n",
    "def order(sentence):\n",
    "    words = sentence.split()\n",
    "    words2 = [''] * len(words)\n",
    "    for word in words:\n",
    "        m = re.search(r'(\\w*)(\\d+)([\\w\\d]*)', word)\n",
    "        #print(m, m[0], m[1], m[2])\n",
    "        words2[int(m[2]) - 1] = m[1] + m[3]\n",
    "    return ' '.join(words2)\n",
    "\n",
    "print(order(\"is2 Thi1s T4est 3a\"), \"Thi1s is2 3a T4est\")\n",
    "print(order(\"4of Fo1r pe6ople g3ood th5e the2\"), \"Fo1r the2 g3ood 4of th5e pe6ople\")\n",
    "print(order(\"\"), \"\")"
   ]
  },
  {
   "cell_type": "code",
   "execution_count": 238,
   "metadata": {},
   "outputs": [
    {
     "name": "stdout",
     "output_type": "stream",
     "text": [
      "2 3\n",
      "3 4\n",
      "1 2\n",
      "0 1\n",
      "    Thi1s is2 3a T4est\n",
      "0 1\n",
      "2 3\n",
      "2 3\n",
      "1 2\n",
      "2 3\n",
      "3 4\n",
      "      Fo1r the2 g3ood 4of th5e pe6ople\n",
      " \n"
     ]
    }
   ],
   "source": [
    "import re\n",
    "\n",
    "def order(sentence):\n",
    "    words = sentence.split()\n",
    "    words2 = [''] * len(words)\n",
    "    for word in words:\n",
    "        m = re.search(r'\\d+', word)\n",
    "        print(m.span(0)[0], m.span(0)[1])\n",
    "        #words2[int(m[2]) - 1] = m[1] + m[3]\n",
    "    return ' '.join(words2)\n",
    "\n",
    "print(order(\"is2 Thi1s T4est 3a\"), \"Thi1s is2 3a T4est\")\n",
    "print(order(\"4of Fo1r pe6ople g3ood th5e the2\"), \"Fo1r the2 g3ood 4of th5e pe6ople\")\n",
    "print(order(\"\"), \"\")"
   ]
  },
  {
   "cell_type": "markdown",
   "metadata": {},
   "source": [
    "20201025"
   ]
  },
  {
   "cell_type": "markdown",
   "metadata": {},
   "source": [
    "### Persistent Bugger.\n",
    "https://www.codewars.com/kata/55bf01e5a717a0d57e0000ec  \n",
    "6 kyu\n",
    "\n",
    "Write a function, persistence, that takes in a positive parameter num and returns its multiplicative persistence, which is the number of times you must multiply the digits in num until you reach a single digit.\n",
    "\n",
    "For example:\n",
    "\n",
    " persistence(39) => 3  # Because 3*9 = 27, 2*7 = 14, 1*4=4\n",
    "                       # and 4 has only one digit.\n",
    "\n",
    " persistence(999) => 4 # Because 9*9*9 = 729, 7*2*9 = 126,  \n",
    "                       # 1*2*6 = 12, and finally 1*2 = 2.\n",
    "\n",
    " persistence(4) => 0   # Because 4 is already a one-digit number.\n",
    " \n",
    " persistence(39) # returns 3, because 3*9=27, 2*7=14, 1*4=4  \n",
    "                 # and 4 has only one digit\n",
    "\n",
    " persistence(999) # returns 4, because 9*9*9=729, 7*2*9=126,\n",
    "                  # 1*2*6=12, and finally 1*2=2\n",
    "\n",
    " persistence(4) # returns 0, because 4 is already a one-digit number"
   ]
  },
  {
   "cell_type": "markdown",
   "metadata": {},
   "source": [
    "__My solution:__"
   ]
  },
  {
   "cell_type": "code",
   "execution_count": 32,
   "metadata": {},
   "outputs": [
    {
     "name": "stdout",
     "output_type": "stream",
     "text": [
      "3 3\n",
      "0 0\n",
      "2 2\n",
      "4 4\n"
     ]
    }
   ],
   "source": [
    "from functools import reduce\n",
    "\n",
    "def persistence(n):\n",
    "    counter = 0\n",
    "    n = str(n)\n",
    "    while len(n) > 1:\n",
    "        counter += 1\n",
    "        n = str(reduce(lambda x, y: x*y, (int(d) for d in n)))\n",
    "    return counter\n",
    "    \n",
    "print(persistence(39), 3)\n",
    "print(persistence(4), 0)\n",
    "print(persistence(25), 2)\n",
    "print(persistence(999), 4)"
   ]
  },
  {
   "cell_type": "markdown",
   "metadata": {},
   "source": [
    "20201026"
   ]
  },
  {
   "cell_type": "markdown",
   "metadata": {},
   "source": [
    "### Sum without highest and lowest number\n",
    "https://www.codewars.com/kata/576b93db1129fcf2200001e6  \n",
    "8 kyu\n",
    "\n",
    "Sum all the numbers of the array (in F# and Haskell you get a list) except the highest and the lowest element (the value, not the index!).\n",
    "(The highest/lowest element is respectively only one element at each edge, even if there are more than one with the same value!)\n",
    "\n",
    "Example:\n",
    "\n",
    "{ 6, 2, 1, 8, 10 } => 16  \n",
    "{ 1, 1, 11, 2, 3 } => 6\n",
    "\n",
    "If array is empty, null or None, or if only 1 Element exists, return 0.\n",
    "\n",
    "Note:\n",
    "\n",
    "In C++ instead null an empty vector is used. In C there is no null. ;-)"
   ]
  },
  {
   "cell_type": "markdown",
   "metadata": {},
   "source": [
    "__My solutions:__"
   ]
  },
  {
   "cell_type": "markdown",
   "metadata": {},
   "source": [
    "__#1__"
   ]
  },
  {
   "cell_type": "code",
   "execution_count": 251,
   "metadata": {},
   "outputs": [
    {
     "name": "stdout",
     "output_type": "stream",
     "text": [
      "Basic tests\n",
      "None or Empty\n",
      "0 0\n",
      "0 0\n",
      "Only one Element\n",
      "0 0\n",
      "0 0\n",
      "Only two Element\n",
      "0 0\n",
      "0 0\n",
      "Real Tests\n",
      "16 16\n",
      "17 17\n",
      "-28 -28\n",
      "3 3\n"
     ]
    }
   ],
   "source": [
    "def sum_array(arr):\n",
    "    if not arr:\n",
    "        return 0\n",
    "    elif len(arr) == 1:\n",
    "        return 0\n",
    "    else:\n",
    "        return sum(arr) - min(arr) - max(arr)\n",
    "    \n",
    "print(\"Basic tests\")\n",
    "print(\"None or Empty\")\n",
    "print(sum_array(None), 0)\n",
    "print(sum_array([]), 0)\n",
    "\n",
    "print(\"Only one Element\")\n",
    "print(sum_array([3]), 0)\n",
    "print(sum_array([-3]), 0)\n",
    "\n",
    "print(\"Only two Element\")\n",
    "print(sum_array([ 3, 5]), 0)\n",
    "print(sum_array([-3, -5]), 0)\n",
    "\n",
    "print(\"Real Tests\")\n",
    "print(sum_array([6, 2, 1, 8, 10]), 16)\n",
    "print(sum_array([6, 0, 1, 10, 10]), 17)\n",
    "print(sum_array([-6, -20, -1, -10, -12]), -28)\n",
    "print(sum_array([-6, 20, -1, 10, -12]), 3)"
   ]
  },
  {
   "cell_type": "markdown",
   "metadata": {},
   "source": [
    "Almost the same:"
   ]
  },
  {
   "cell_type": "code",
   "execution_count": 253,
   "metadata": {},
   "outputs": [
    {
     "name": "stdout",
     "output_type": "stream",
     "text": [
      "Basic tests\n",
      "None or Empty\n",
      "0 0\n",
      "0 0\n",
      "Only one Element\n",
      "0 0\n",
      "0 0\n",
      "Only two Element\n",
      "0 0\n",
      "0 0\n",
      "Real Tests\n",
      "16 16\n",
      "17 17\n",
      "-28 -28\n",
      "3 3\n"
     ]
    }
   ],
   "source": [
    "def sum_array(arr):\n",
    "    return sum(arr) - min(arr) - max(arr) if arr and len(arr) > 1 else 0\n",
    "    \n",
    "print(\"Basic tests\")\n",
    "print(\"None or Empty\")\n",
    "print(sum_array(None), 0)\n",
    "print(sum_array([]), 0)\n",
    "\n",
    "print(\"Only one Element\")\n",
    "print(sum_array([3]), 0)\n",
    "print(sum_array([-3]), 0)\n",
    "\n",
    "print(\"Only two Element\")\n",
    "print(sum_array([ 3, 5]), 0)\n",
    "print(sum_array([-3, -5]), 0)\n",
    "\n",
    "print(\"Real Tests\")\n",
    "print(sum_array([6, 2, 1, 8, 10]), 16)\n",
    "print(sum_array([6, 0, 1, 10, 10]), 17)\n",
    "print(sum_array([-6, -20, -1, -10, -12]), -28)\n",
    "print(sum_array([-6, 20, -1, 10, -12]), 3)"
   ]
  },
  {
   "cell_type": "markdown",
   "metadata": {},
   "source": [
    "__#2__"
   ]
  },
  {
   "cell_type": "code",
   "execution_count": 256,
   "metadata": {},
   "outputs": [
    {
     "name": "stdout",
     "output_type": "stream",
     "text": [
      "Basic tests\n",
      "None or Empty\n",
      "0 0\n",
      "0 0\n",
      "Only one Element\n",
      "0 0\n",
      "0 0\n",
      "Only two Element\n",
      "0 0\n",
      "0 0\n",
      "Real Tests\n",
      "16 16\n",
      "17 17\n",
      "-28 -28\n",
      "3 3\n"
     ]
    }
   ],
   "source": [
    "def sum_array(arr):\n",
    "    if not arr or len(arr) <= 2:\n",
    "        return 0\n",
    "    \n",
    "    minim, maxim, s = float('inf'), float('-inf'), 0\n",
    "    for x in arr:\n",
    "        if x < minim:\n",
    "            minim = x\n",
    "        elif x > maxim:\n",
    "            maxim = x\n",
    "        s += x\n",
    "    return s - minim - maxim\n",
    "    \n",
    "print(\"Basic tests\")\n",
    "print(\"None or Empty\")\n",
    "print(sum_array(None), 0)\n",
    "print(sum_array([]), 0)\n",
    "\n",
    "print(\"Only one Element\")\n",
    "print(sum_array([3]), 0)\n",
    "print(sum_array([-3]), 0)\n",
    "\n",
    "print(\"Only two Element\")\n",
    "print(sum_array([ 3, 5]), 0)\n",
    "print(sum_array([-3, -5]), 0)\n",
    "\n",
    "print(\"Real Tests\")\n",
    "print(sum_array([6, 2, 1, 8, 10]), 16)\n",
    "print(sum_array([6, 0, 1, 10, 10]), 17)\n",
    "print(sum_array([-6, -20, -1, -10, -12]), -28)\n",
    "print(sum_array([-6, 20, -1, 10, -12]), 3)"
   ]
  },
  {
   "cell_type": "markdown",
   "metadata": {},
   "source": [
    "__Other  users' solutions:__"
   ]
  },
  {
   "cell_type": "markdown",
   "metadata": {},
   "source": [
    "With  performance measuring:"
   ]
  },
  {
   "cell_type": "code",
   "execution_count": 263,
   "metadata": {},
   "outputs": [
    {
     "name": "stdout",
     "output_type": "stream",
     "text": [
      "         5 function calls in 1.716 seconds\n",
      "\n",
      "   Ordered by: standard name\n",
      "\n",
      "   ncalls  tottime  percall  cumtime  percall filename:lineno(function)\n",
      "        1    0.000    0.000    1.716    1.716 :0(exec)\n",
      "        1    0.000    0.000    0.000    0.000 :0(setprofile)\n",
      "        1    1.716    1.716    1.716    1.716 <ipython-input-263-255d7e833a39>:9(sum_array3)\n",
      "        1    0.000    0.000    1.716    1.716 <string>:1(<module>)\n",
      "        0    0.000             0.000          profile:0(profiler)\n",
      "        1    0.000    0.000    1.716    1.716 profile:0(sum_array3(x3))\n",
      "\n",
      "\n"
     ]
    }
   ],
   "source": [
    "import random, profile\n",
    "\n",
    "def sum_array1(arr):\n",
    "    return sum(arr) - (max(arr) + min(arr))\n",
    "\n",
    "def sum_array2(arr):\n",
    "    return sum(sorted(arr)[1:-1])\n",
    "\n",
    "def sum_array3(arr):\n",
    "    min_ = float(\"inf\")\n",
    "    max_ = float(\"-inf\")\n",
    "\n",
    "    total = 0\n",
    "\n",
    "    for i in arr:\n",
    "        if i < min_:\n",
    "            min_ = i\n",
    "        elif i > max_:\n",
    "            max_ = i\n",
    "\n",
    "        total += i\n",
    "\n",
    "    return total - (min_ + max_)\n",
    "\n",
    "\n",
    "x3 = [random.choice(range(-10000, 10000)) for i in range(10000000)]\n",
    "\n",
    "#profile.run(\"sum_array1(x3)\") # 0.6 (avg, 3 runs) (not my test)\n",
    "                               # 8 function calls in 1.154 seconds\n",
    "#profile.run(\"sum_array2(x3)\")  # 6.1 (avg, 3 runs) (not my test)\n",
    "                               # 7 function calls in 11.747 seconds\n",
    "profile.run(\"sum_array3(x3)\")  # 1.3 (avg, 3 runs) (not my test)\n",
    "                               # 5 function calls in 1.716 seconds"
   ]
  },
  {
   "cell_type": "markdown",
   "metadata": {},
   "source": [
    "20201027"
   ]
  },
  {
   "cell_type": "markdown",
   "metadata": {},
   "source": [
    "### Give me a Diamond\n",
    "https://www.codewars.com/kata/5503013e34137eeeaa001648  \n",
    "6 kyu\n",
    "\n",
    "Jamie is a programmer, and James' girlfriend. She likes diamonds, and wants a diamond string from James. Since James doesn't know how to make this happen, he needs your help.\n",
    "\n",
    "Task  \n",
    "You need to return a string that looks like a diamond shape when printed on the screen, using asterisk (*) characters. Trailing spaces should be removed, and every line must be terminated with a newline character (\\n).\n",
    "\n",
    "Return null/nil/None/... if the input is an even number or negative, as it is not possible to print a diamond of even or negative size.\n",
    "\n",
    "Examples  \n",
    "A size 3 diamond would appear as a string of \" *\\n***\\n *\\n\"  \n",
    "\n",
    "A size 5 diamond is: \" *\\n ***\\n*****\\n ***\\n *\\n\"  "
   ]
  },
  {
   "cell_type": "markdown",
   "metadata": {},
   "source": [
    "__My solutions:__"
   ]
  },
  {
   "cell_type": "markdown",
   "metadata": {},
   "source": [
    "__#1__"
   ]
  },
  {
   "cell_type": "code",
   "execution_count": 275,
   "metadata": {},
   "outputs": [
    {
     "name": "stdout",
     "output_type": "stream",
     "text": [
      "*\n",
      "\n",
      "*\n",
      "\n",
      "None None\n",
      " *\n",
      "***\n",
      " *\n",
      "\n",
      " *\n",
      "***\n",
      " *\n",
      "\n",
      "  *\n",
      " ***\n",
      "*****\n",
      " ***\n",
      "  *\n",
      "\n",
      "  *\n",
      " ***\n",
      "*****\n",
      " ***\n",
      "  *\n",
      "\n",
      "None None\n",
      "None None\n"
     ]
    }
   ],
   "source": [
    "def diamond(n):\n",
    "    if n <= 0 or n % 2 == 0:\n",
    "        return None\n",
    "    diam = [''] * n\n",
    "    for i in range(n // 2 + 1):\n",
    "        diam[i] = diam[-(i + 1)] = f'{\"*\" * (2 * i + 1)}'.center(n).rstrip() + '\\n'\n",
    "    return ''.join(diam)\n",
    "\n",
    "expected =  \" *\\n\"\n",
    "expected += \"***\\n\"\n",
    "expected += \" *\\n\"\n",
    "print(diamond(1), \"*\\n\", sep='\\n')\n",
    "print(diamond(2), None)\n",
    "print(diamond(3), expected, sep='\\n')\n",
    "print(diamond(5), \"  *\\n ***\\n*****\\n ***\\n  *\\n\", sep='\\n')\n",
    "print(diamond(0), None)\n",
    "print(diamond(-3), None)"
   ]
  },
  {
   "cell_type": "code",
   "execution_count": 265,
   "metadata": {},
   "outputs": [
    {
     "name": "stdout",
     "output_type": "stream",
     "text": [
      "Help on method_descriptor:\n",
      "\n",
      "center(self, width, fillchar=' ', /)\n",
      "    Return a centered string of length width.\n",
      "    \n",
      "    Padding is done using the specified fill character (default is a space).\n",
      "\n"
     ]
    }
   ],
   "source": [
    "help(str.center)"
   ]
  },
  {
   "cell_type": "markdown",
   "metadata": {},
   "source": [
    "Almost the same:"
   ]
  },
  {
   "cell_type": "code",
   "execution_count": null,
   "metadata": {},
   "outputs": [],
   "source": [
    "def diamond(n):\n",
    "    if n <= 0 or n % 2 == 0:\n",
    "        return None\n",
    "    diam = [''] * n\n",
    "    for i in range(n // 2 + 1):\n",
    "        diam[i] = diam[-(i + 1)] = f'{\"*\" * (2 * i + 1):^{n}}'.rstrip() + '\\n'\n",
    "    return ''.join(diam)\n",
    "\n",
    "expected =  \" *\\n\"\n",
    "expected += \"***\\n\"\n",
    "expected += \" *\\n\"\n",
    "print(diamond(1), \"*\\n\", sep='\\n')\n",
    "print(diamond(2), None)\n",
    "print(diamond(3), expected, sep='\\n')\n",
    "print(diamond(5), \"  *\\n ***\\n*****\\n ***\\n  *\\n\", sep='\\n')\n",
    "print(diamond(0), None)\n",
    "print(diamond(-3), None)"
   ]
  },
  {
   "cell_type": "markdown",
   "metadata": {},
   "source": [
    "__#2__"
   ]
  },
  {
   "cell_type": "code",
   "execution_count": 276,
   "metadata": {},
   "outputs": [
    {
     "name": "stdout",
     "output_type": "stream",
     "text": [
      "*\n",
      "\n",
      "*\n",
      "\n",
      "None None\n",
      " *\n",
      "***\n",
      " *\n",
      "\n",
      " *\n",
      "***\n",
      " *\n",
      "\n",
      "  *\n",
      " ***\n",
      "*****\n",
      " ***\n",
      "  *\n",
      "\n",
      "  *\n",
      " ***\n",
      "*****\n",
      " ***\n",
      "  *\n",
      "\n",
      "None None\n",
      "None None\n"
     ]
    }
   ],
   "source": [
    "def diamond(n):\n",
    "    if n <= 0 or n % 2 == 0:\n",
    "        return None\n",
    "    diam = [''] * n\n",
    "    for i in range(n // 2 + 1):\n",
    "        diam[i] = diam[-(i + 1)] = f'{\" \" * (n // 2 - i) + \"*\" * (2 * i + 1)}\\n'\n",
    "    return ''.join(diam)\n",
    "\n",
    "expected =  \" *\\n\"\n",
    "expected += \"***\\n\"\n",
    "expected += \" *\\n\"\n",
    "print(diamond(1), \"*\\n\", sep='\\n')\n",
    "print(diamond(2), None)\n",
    "print(diamond(3), expected, sep='\\n')\n",
    "print(diamond(5), \"  *\\n ***\\n*****\\n ***\\n  *\\n\", sep='\\n')\n",
    "print(diamond(0), None)\n",
    "print(diamond(-3), None)"
   ]
  },
  {
   "cell_type": "code",
   "execution_count": 288,
   "metadata": {},
   "outputs": [
    {
     "name": "stdout",
     "output_type": "stream",
     "text": [
      "*\n",
      "\n",
      "*\n",
      "\n",
      "None None\n",
      " *\n",
      "***\n",
      " *\n",
      "\n",
      " *\n",
      "***\n",
      " *\n",
      "\n",
      "  *\n",
      " ***\n",
      "*****\n",
      " ***\n",
      "  *\n",
      "\n",
      "  *\n",
      " ***\n",
      "*****\n",
      " ***\n",
      "  *\n",
      "\n",
      "None None\n",
      "None None\n"
     ]
    }
   ],
   "source": [
    "def diamond(n):\n",
    "    if n <= 0 or n % 2 == 0:\n",
    "        return None\n",
    "    diam = [f'{\" \" * (n // 2 - i) + \"*\" * (2 * i + 1)}\\n' for i in range(n // 2 + 1)]\n",
    "    return ''.join(diam) + ''.join(diam[-2 :: -1])\n",
    "\n",
    "expected =  \" *\\n\"\n",
    "expected += \"***\\n\"\n",
    "expected += \" *\\n\"\n",
    "print(diamond(1), \"*\\n\", sep='\\n')\n",
    "print(diamond(2), None)\n",
    "print(diamond(3), expected, sep='\\n')\n",
    "print(diamond(5), \"  *\\n ***\\n*****\\n ***\\n  *\\n\", sep='\\n')\n",
    "print(diamond(0), None)\n",
    "print(diamond(-3), None)"
   ]
  },
  {
   "cell_type": "code",
   "execution_count": 287,
   "metadata": {},
   "outputs": [
    {
     "data": {
      "text/plain": [
       "[4, 3, 2, 1, 0]"
      ]
     },
     "execution_count": 287,
     "metadata": {},
     "output_type": "execute_result"
    }
   ],
   "source": [
    "d = list(range(5))\n",
    "d[-1: : -1]"
   ]
  },
  {
   "cell_type": "markdown",
   "metadata": {},
   "source": [
    "20201028"
   ]
  },
  {
   "cell_type": "markdown",
   "metadata": {},
   "source": [
    "### Counting Duplicates\n",
    "https://www.codewars.com/kata/54bf1c2cd5b56cc47f0007a1  \n",
    "6 kyu\n",
    "\n",
    "Count the number of Duplicates\n",
    "\n",
    "Write a function that will return the count of distinct case-insensitive alphabetic characters and numeric digits that occur more than once in the input string. The input string can be assumed to contain only alphabets (both uppercase and lowercase) and numeric digits.\n",
    "\n",
    "Example\n",
    "\n",
    "\"abcde\" -> 0 # no characters repeats more than once  \n",
    "\"aabbcde\" -> 2 # 'a' and 'b'  \n",
    "\"aabBcde\" -> 2 # 'a' occurs twice and 'b' twice (`b` and `B`)  \n",
    "\"indivisibility\" -> 1 # 'i' occurs six times  \n",
    "\"Indivisibilities\" -> 2 # 'i' occurs seven times and 's' occurs twice  \n",
    "\"aA11\" -> 2 # 'a' and '1'  \n",
    "\"ABBA\" -> 2 # 'A' and 'B' each occur twice  "
   ]
  },
  {
   "cell_type": "markdown",
   "metadata": {},
   "source": [
    "__My solution:__"
   ]
  },
  {
   "cell_type": "code",
   "execution_count": 289,
   "metadata": {},
   "outputs": [
    {
     "name": "stdout",
     "output_type": "stream",
     "text": [
      "0 0\n",
      "1 1\n",
      "1 1\n"
     ]
    }
   ],
   "source": [
    "from collections import Counter\n",
    "\n",
    "def duplicate_count(text):\n",
    "    counters = Counter(text.lower())\n",
    "    return sum(counters[c] > 1 for c in counters)\n",
    "    \n",
    "print(duplicate_count(\"abcde\"), 0)\n",
    "print(duplicate_count(\"abcdea\"), 1)\n",
    "print(duplicate_count(\"indivisibility\"), 1)"
   ]
  },
  {
   "cell_type": "markdown",
   "metadata": {},
   "source": [
    "__Other users' solutions:__"
   ]
  },
  {
   "cell_type": "markdown",
   "metadata": {},
   "source": [
    "__#1__"
   ]
  },
  {
   "cell_type": "code",
   "execution_count": 31,
   "metadata": {},
   "outputs": [
    {
     "ename": "AttributeError",
     "evalue": "'Counter' object has no attribute 'itervalues'",
     "output_type": "error",
     "traceback": [
      "\u001b[1;31m---------------------------------------------------------------------------\u001b[0m",
      "\u001b[1;31mAttributeError\u001b[0m                            Traceback (most recent call last)",
      "\u001b[1;32m<ipython-input-31-c2b7d1c6472a>\u001b[0m in \u001b[0;36m<module>\u001b[1;34m\u001b[0m\n\u001b[0;32m      4\u001b[0m     \u001b[1;32mreturn\u001b[0m \u001b[0msum\u001b[0m\u001b[1;33m(\u001b[0m\u001b[0mv\u001b[0m \u001b[1;33m>\u001b[0m \u001b[1;36m1\u001b[0m \u001b[1;32mfor\u001b[0m \u001b[0mv\u001b[0m \u001b[1;32min\u001b[0m \u001b[0mCounter\u001b[0m\u001b[1;33m(\u001b[0m\u001b[0mtext\u001b[0m\u001b[1;33m.\u001b[0m\u001b[0mlower\u001b[0m\u001b[1;33m(\u001b[0m\u001b[1;33m)\u001b[0m\u001b[1;33m)\u001b[0m\u001b[1;33m.\u001b[0m\u001b[0mitervalues\u001b[0m\u001b[1;33m(\u001b[0m\u001b[1;33m)\u001b[0m\u001b[1;33m)\u001b[0m\u001b[1;33m\u001b[0m\u001b[1;33m\u001b[0m\u001b[0m\n\u001b[0;32m      5\u001b[0m \u001b[1;33m\u001b[0m\u001b[0m\n\u001b[1;32m----> 6\u001b[1;33m \u001b[0mprint\u001b[0m\u001b[1;33m(\u001b[0m\u001b[0mduplicate_count\u001b[0m\u001b[1;33m(\u001b[0m\u001b[1;34m\"abcde\"\u001b[0m\u001b[1;33m)\u001b[0m\u001b[1;33m,\u001b[0m \u001b[1;36m0\u001b[0m\u001b[1;33m)\u001b[0m\u001b[1;33m\u001b[0m\u001b[1;33m\u001b[0m\u001b[0m\n\u001b[0m\u001b[0;32m      7\u001b[0m \u001b[0mprint\u001b[0m\u001b[1;33m(\u001b[0m\u001b[0mduplicate_count\u001b[0m\u001b[1;33m(\u001b[0m\u001b[1;34m\"abcdea\"\u001b[0m\u001b[1;33m)\u001b[0m\u001b[1;33m,\u001b[0m \u001b[1;36m1\u001b[0m\u001b[1;33m)\u001b[0m\u001b[1;33m\u001b[0m\u001b[1;33m\u001b[0m\u001b[0m\n\u001b[0;32m      8\u001b[0m \u001b[0mprint\u001b[0m\u001b[1;33m(\u001b[0m\u001b[0mduplicate_count\u001b[0m\u001b[1;33m(\u001b[0m\u001b[1;34m\"indivisibility\"\u001b[0m\u001b[1;33m)\u001b[0m\u001b[1;33m,\u001b[0m \u001b[1;36m1\u001b[0m\u001b[1;33m)\u001b[0m\u001b[1;33m\u001b[0m\u001b[1;33m\u001b[0m\u001b[0m\n",
      "\u001b[1;32m<ipython-input-31-c2b7d1c6472a>\u001b[0m in \u001b[0;36mduplicate_count\u001b[1;34m(text)\u001b[0m\n\u001b[0;32m      2\u001b[0m \u001b[1;33m\u001b[0m\u001b[0m\n\u001b[0;32m      3\u001b[0m \u001b[1;32mdef\u001b[0m \u001b[0mduplicate_count\u001b[0m\u001b[1;33m(\u001b[0m\u001b[0mtext\u001b[0m\u001b[1;33m)\u001b[0m\u001b[1;33m:\u001b[0m\u001b[1;33m\u001b[0m\u001b[1;33m\u001b[0m\u001b[0m\n\u001b[1;32m----> 4\u001b[1;33m     \u001b[1;32mreturn\u001b[0m \u001b[0msum\u001b[0m\u001b[1;33m(\u001b[0m\u001b[0mv\u001b[0m \u001b[1;33m>\u001b[0m \u001b[1;36m1\u001b[0m \u001b[1;32mfor\u001b[0m \u001b[0mv\u001b[0m \u001b[1;32min\u001b[0m \u001b[0mCounter\u001b[0m\u001b[1;33m(\u001b[0m\u001b[0mtext\u001b[0m\u001b[1;33m.\u001b[0m\u001b[0mlower\u001b[0m\u001b[1;33m(\u001b[0m\u001b[1;33m)\u001b[0m\u001b[1;33m)\u001b[0m\u001b[1;33m.\u001b[0m\u001b[0mitervalues\u001b[0m\u001b[1;33m(\u001b[0m\u001b[1;33m)\u001b[0m\u001b[1;33m)\u001b[0m\u001b[1;33m\u001b[0m\u001b[1;33m\u001b[0m\u001b[0m\n\u001b[0m\u001b[0;32m      5\u001b[0m \u001b[1;33m\u001b[0m\u001b[0m\n\u001b[0;32m      6\u001b[0m \u001b[0mprint\u001b[0m\u001b[1;33m(\u001b[0m\u001b[0mduplicate_count\u001b[0m\u001b[1;33m(\u001b[0m\u001b[1;34m\"abcde\"\u001b[0m\u001b[1;33m)\u001b[0m\u001b[1;33m,\u001b[0m \u001b[1;36m0\u001b[0m\u001b[1;33m)\u001b[0m\u001b[1;33m\u001b[0m\u001b[1;33m\u001b[0m\u001b[0m\n",
      "\u001b[1;31mAttributeError\u001b[0m: 'Counter' object has no attribute 'itervalues'"
     ]
    }
   ],
   "source": [
    "from collections import Counter\n",
    "\n",
    "def duplicate_count(text):\n",
    "    return sum(v > 1 for v in Counter(text.lower()).itervalues())\n",
    "\n",
    "print(duplicate_count(\"abcde\"), 0)\n",
    "print(duplicate_count(\"abcdea\"), 1)\n",
    "print(duplicate_count(\"indivisibility\"), 1)"
   ]
  },
  {
   "cell_type": "markdown",
   "metadata": {},
   "source": [
    "__#2__ Not more than 36 (26 + 10) iterations with s.lower().count(c):"
   ]
  },
  {
   "cell_type": "code",
   "execution_count": null,
   "metadata": {},
   "outputs": [],
   "source": [
    "def duplicate_count(s):\n",
    "    return len([c for c in set(s.lower()) if s.lower().count(c)>1])"
   ]
  },
  {
   "cell_type": "markdown",
   "metadata": {},
   "source": [
    "__#3__ The funny one but unusual:"
   ]
  },
  {
   "cell_type": "code",
   "execution_count": null,
   "metadata": {},
   "outputs": [],
   "source": [
    "from re import findall\n",
    "\n",
    "def duplicate_count(text):\n",
    "    return (len(findall(\"(\\w)\\\\1+\", \"\".join(sorted(text.upper())))))"
   ]
  },
  {
   "cell_type": "markdown",
   "metadata": {},
   "source": [
    "20201029"
   ]
  },
  {
   "cell_type": "markdown",
   "metadata": {},
   "source": [
    "### Categorize New Member\n",
    "https://www.codewars.com/kata/5502c9e7b3216ec63c0001aa  \n",
    "7 kyu\n",
    "\n",
    "The Western Suburbs Croquet Club has two categories of membership, Senior and Open. They would like your help with an application form that will tell prospective members which category they will be placed.\n",
    "\n",
    "To be a senior, a member must be at least 55 years old and have a handicap greater than 7. In this croquet club, handicaps range from -2 to +26; the better the player the lower the handicap.\n",
    "\n",
    "Input\n",
    "\n",
    "Input will consist of a list of lists containing two items each. Each list contains information for a single potential member. Information consists of an integer for the person's age and an integer for the person's handicap.\n",
    "\n",
    "Note for F#: The input will be of (int list list) which is a List<List>\n",
    "\n",
    "Example Input\n",
    "\n",
    "[[18, 20],[45, 2],[61, 12],[37, 6],[21, 21],[78, 9]]\n",
    "\n",
    "Output\n",
    "\n",
    "Output will consist of a list of string values (in Haskell: Open or Senior) stating whether the respective member is to be placed in the senior or open category.\n",
    "\n",
    "Example Output\n",
    "\n",
    "[\"Open\", \"Open\", \"Senior\", \"Open\", \"Open\", \"Senior\"]"
   ]
  },
  {
   "cell_type": "markdown",
   "metadata": {},
   "source": [
    "__My solution:__"
   ]
  },
  {
   "cell_type": "code",
   "execution_count": 297,
   "metadata": {},
   "outputs": [
    {
     "name": "stdout",
     "output_type": "stream",
     "text": [
      "['Open', 'Senior', 'Open', 'Senior'] ['Open', 'Senior', 'Open', 'Senior']\n",
      "['Open', 'Open', 'Senior', 'Open'] ['Open', 'Open', 'Senior', 'Open']\n"
     ]
    }
   ],
   "source": [
    "def open_or_senior(data):\n",
    "    return [('Open', 'Senior')[a >= 55 and h > 7] for a, h in data]\n",
    "\n",
    "print(open_or_senior([(45, 12),(55,21),(19, -2),(104, 20)]), ['Open', 'Senior', 'Open', 'Senior'])\n",
    "print(open_or_senior([(16, 23),(73,1),(56, 20),(1, -1)]), ['Open', 'Open', 'Senior', 'Open'])"
   ]
  },
  {
   "cell_type": "markdown",
   "metadata": {},
   "source": [
    "__Other users' solutions:__"
   ]
  },
  {
   "cell_type": "code",
   "execution_count": null,
   "metadata": {},
   "outputs": [],
   "source": [
    "def openOrSenior(data):\n",
    "    return [\"Senior\" if age >= 55 and handicap >= 8 else \"Open\" for (age, handicap) in data]"
   ]
  },
  {
   "cell_type": "markdown",
   "metadata": {},
   "source": [
    "20201030"
   ]
  },
  {
   "cell_type": "markdown",
   "metadata": {},
   "source": [
    "### Find The Parity Outlier\n",
    "https://www.codewars.com/kata/5526fc09a1bbd946250002dc  \n",
    "6 kyu\n",
    "\n",
    "You are given an array (which will have a length of at least 3, but could be very large) containing integers. The array is either entirely comprised of odd integers or entirely comprised of even integers except for a single integer N. Write a method that takes the array as an argument and returns this \"outlier\" N.\n",
    "\n",
    "Examples\n",
    "\n",
    "[2, 4, 0, 100, 4, 11, 2602, 36]  \n",
    "Should return: 11 (the only odd number)\n",
    "\n",
    "[160, 3, 1719, 19, 11, 13, -21]  \n",
    "Should return: 160 (the only even number)"
   ]
  },
  {
   "cell_type": "markdown",
   "metadata": {},
   "source": [
    "__My solution:__"
   ]
  },
  {
   "cell_type": "code",
   "execution_count": 319,
   "metadata": {},
   "outputs": [
    {
     "name": "stdout",
     "output_type": "stream",
     "text": [
      "3 3\n",
      "11 11\n",
      "160 160\n"
     ]
    }
   ],
   "source": [
    "def find_outlier(integers):\n",
    "    mainly_odd = sum(a % 2 for a in  integers[: 3]) >= 2\n",
    "    return next(filter(lambda a: a % 2 != mainly_odd, integers))\n",
    "\n",
    "print(find_outlier([2, 4, 6, 8, 10, 3]), 3)\n",
    "print(find_outlier([2, 4, 0, 100, 4, 11, 2602, 36]), 11)\n",
    "print(find_outlier([160, 3, 1719, 19, 11, 13, -21]), 160)"
   ]
  },
  {
   "cell_type": "code",
   "execution_count": 314,
   "metadata": {},
   "outputs": [
    {
     "data": {
      "text/plain": [
       "True"
      ]
     },
     "execution_count": 314,
     "metadata": {},
     "output_type": "execute_result"
    }
   ],
   "source": [
    "1 is not False"
   ]
  },
  {
   "cell_type": "code",
   "execution_count": 315,
   "metadata": {},
   "outputs": [
    {
     "data": {
      "text/plain": [
       "True"
      ]
     },
     "execution_count": 315,
     "metadata": {},
     "output_type": "execute_result"
    }
   ],
   "source": [
    "0 is not False"
   ]
  },
  {
   "cell_type": "code",
   "execution_count": 316,
   "metadata": {},
   "outputs": [
    {
     "data": {
      "text/plain": [
       "False"
      ]
     },
     "execution_count": 316,
     "metadata": {},
     "output_type": "execute_result"
    }
   ],
   "source": [
    "1 is False"
   ]
  },
  {
   "cell_type": "code",
   "execution_count": 317,
   "metadata": {},
   "outputs": [
    {
     "data": {
      "text/plain": [
       "False"
      ]
     },
     "execution_count": 317,
     "metadata": {},
     "output_type": "execute_result"
    }
   ],
   "source": [
    "0 is False"
   ]
  },
  {
   "cell_type": "code",
   "execution_count": 318,
   "metadata": {},
   "outputs": [
    {
     "data": {
      "text/plain": [
       "False"
      ]
     },
     "execution_count": 318,
     "metadata": {},
     "output_type": "execute_result"
    }
   ],
   "source": [
    "bool(0)"
   ]
  },
  {
   "cell_type": "markdown",
   "metadata": {},
   "source": [
    "20201031"
   ]
  },
  {
   "cell_type": "markdown",
   "metadata": {},
   "source": [
    "### Count the smiley faces!\n",
    "https://www.codewars.com/kata/583203e6eb35d7980400002a  \n",
    "6 kyu\n",
    "\n",
    "Given an array (arr) as an argument complete the function countSmileys that should return the total number of smiling faces.\n",
    "\n",
    "Rules for a smiling face:\n",
    "\n",
    "Each smiley face must contain a valid pair of eyes. Eyes can be marked as : or ;  \n",
    "A smiley face can have a nose but it does not have to. Valid characters for a nose are - or ~  \n",
    "Every smiling face must have a smiling mouth that should be marked with either ) or D  \n",
    "No additional characters are allowed except for those mentioned.\n",
    "\n",
    "Valid smiley face examples: :) :D ;-D :~)  \n",
    "Invalid smiley faces: ;( :> :} :]"
   ]
  },
  {
   "cell_type": "markdown",
   "metadata": {},
   "source": [
    "__My solution:__"
   ]
  },
  {
   "cell_type": "code",
   "execution_count": 322,
   "metadata": {},
   "outputs": [
    {
     "name": "stdout",
     "output_type": "stream",
     "text": [
      "0 0\n",
      "4 4\n",
      "2 2\n",
      "1 1\n"
     ]
    }
   ],
   "source": [
    "import re\n",
    "\n",
    "def count_smileys(arr):\n",
    "    return sum(1 for smile in arr if re.fullmatch(r'[:;]{1}[-~]?[\\)D]', smile))\n",
    "\n",
    "print(count_smileys([]), 0)\n",
    "print(count_smileys([':D',':~)',';~D',':)']), 4)\n",
    "print(count_smileys([':)',':(',':D',':O',':;']), 2)\n",
    "print(count_smileys([';]', ':[', ';*', ':$', ';-D']), 1)"
   ]
  },
  {
   "cell_type": "markdown",
   "metadata": {},
   "source": [
    "20201101"
   ]
  },
  {
   "cell_type": "markdown",
   "metadata": {},
   "source": [
    "### Remove the minimum\n",
    "https://www.codewars.com/kata/563cf89eb4747c5fb100001b  \n",
    "7 kyu\n",
    "\n",
    "The museum of incredible dull things\n",
    "The museum of incredible dull things wants to get rid of some exhibitions. Miriam, the interior architect, comes up with a plan to remove the most boring exhibitions. She gives them a rating, and then removes the one with the lowest rating.\n",
    "\n",
    "However, just as she finished rating all exhibitions, she's off to an important fair, so she asks you to write a program that tells her the ratings of the items after one removed the lowest one. Fair enough.\n",
    "\n",
    "Task  \n",
    "Given an array of integers, remove the smallest value. Do not mutate the original array/list. If there are multiple elements with the same value, remove the one with a lower index. If you get an empty array/list, return an empty array/list.\n",
    "\n",
    "Don't change the order of the elements that are left.\n",
    "\n",
    "Examples  \n",
    "remove_smallest([1,2,3,4,5]) = [2,3,4,5]  \n",
    "remove_smallest([5,3,2,1,4]) = [5,3,2,4]  \n",
    "remove_smallest([2,2,1,2,1]) = [2,2,2,1]  "
   ]
  },
  {
   "cell_type": "markdown",
   "metadata": {},
   "source": [
    "__My solution:__"
   ]
  },
  {
   "cell_type": "markdown",
   "metadata": {},
   "source": [
    "__#1__"
   ]
  },
  {
   "cell_type": "code",
   "execution_count": 330,
   "metadata": {},
   "outputs": [
    {
     "name": "stdout",
     "output_type": "stream",
     "text": [
      "[2, 3, 4, 5] [2, 3, 4, 5]\n",
      "[5, 3, 2, 4] [5, 3, 2, 4]\n",
      "[2, 3, 1, 1] [2, 3, 1, 1]\n",
      "[] []\n"
     ]
    }
   ],
   "source": [
    "def remove_smallest(numbers):\n",
    "    if numbers:\n",
    "        min_pos = numbers.index(min(numbers))\n",
    "        return numbers[: min_pos] + numbers[min_pos + 1 :]\n",
    "    return []\n",
    "\n",
    "print(remove_smallest([1, 2, 3, 4, 5]), [2, 3, 4, 5])\n",
    "print(remove_smallest([5, 3, 2, 1, 4]), [5, 3, 2, 4])\n",
    "print(remove_smallest([1, 2, 3, 1, 1]), [2, 3, 1, 1])\n",
    "print(remove_smallest([]), [])"
   ]
  },
  {
   "cell_type": "code",
   "execution_count": 327,
   "metadata": {},
   "outputs": [
    {
     "name": "stdout",
     "output_type": "stream",
     "text": [
      "Help on method_descriptor:\n",
      "\n",
      "index(self, value, start=0, stop=9223372036854775807, /)\n",
      "    Return first index of value.\n",
      "    \n",
      "    Raises ValueError if the value is not present.\n",
      "\n"
     ]
    }
   ],
   "source": [
    "help(list.index)"
   ]
  },
  {
   "cell_type": "code",
   "execution_count": 328,
   "metadata": {},
   "outputs": [
    {
     "name": "stdout",
     "output_type": "stream",
     "text": [
      "Help on built-in function mro:\n",
      "\n",
      "mro() method of builtins.type instance\n",
      "    Return a type's method resolution order.\n",
      "\n"
     ]
    }
   ],
   "source": [
    "help(list.mro)"
   ]
  },
  {
   "cell_type": "markdown",
   "metadata": {},
   "source": [
    "__#2__"
   ]
  },
  {
   "cell_type": "code",
   "execution_count": 331,
   "metadata": {},
   "outputs": [
    {
     "name": "stdout",
     "output_type": "stream",
     "text": [
      "[2, 3, 4, 5] [2, 3, 4, 5]\n",
      "[5, 3, 2, 4] [5, 3, 2, 4]\n",
      "[2, 3, 1, 1] [2, 3, 1, 1]\n",
      "[] []\n"
     ]
    }
   ],
   "source": [
    "def remove_smallest(numbers):\n",
    "    mini, min_pos = float('inf'), -1\n",
    "    for i, n in enumerate(numbers):\n",
    "        if n < mini:\n",
    "            mini, min_pos = n, i\n",
    "    return numbers[: min_pos] + numbers[min_pos + 1 :]\n",
    "\n",
    "print(remove_smallest([1, 2, 3, 4, 5]), [2, 3, 4, 5])\n",
    "print(remove_smallest([5, 3, 2, 1, 4]), [5, 3, 2, 4])\n",
    "print(remove_smallest([1, 2, 3, 1, 1]), [2, 3, 1, 1])\n",
    "print(remove_smallest([]), [])"
   ]
  },
  {
   "cell_type": "markdown",
   "metadata": {},
   "source": [
    "__#3__"
   ]
  },
  {
   "cell_type": "code",
   "execution_count": 332,
   "metadata": {},
   "outputs": [
    {
     "name": "stdout",
     "output_type": "stream",
     "text": [
      "[2, 3, 4, 5] [2, 3, 4, 5]\n",
      "[5, 3, 2, 4] [5, 3, 2, 4]\n",
      "[2, 3, 1, 1] [2, 3, 1, 1]\n",
      "[] []\n"
     ]
    }
   ],
   "source": [
    "from operator import itemgetter\n",
    "\n",
    "def remove_smallest(numbers):\n",
    "    if numbers:\n",
    "        min_pos = min(enumerate(numbers), key=itemgetter(1))[0]\n",
    "        return numbers[: min_pos] + numbers[min_pos + 1 :]\n",
    "    return []\n",
    "\n",
    "print(remove_smallest([1, 2, 3, 4, 5]), [2, 3, 4, 5])\n",
    "print(remove_smallest([5, 3, 2, 1, 4]), [5, 3, 2, 4])\n",
    "print(remove_smallest([1, 2, 3, 1, 1]), [2, 3, 1, 1])\n",
    "print(remove_smallest([]), [])"
   ]
  },
  {
   "cell_type": "markdown",
   "metadata": {},
   "source": [
    "Almost the same:"
   ]
  },
  {
   "cell_type": "code",
   "execution_count": 335,
   "metadata": {},
   "outputs": [
    {
     "name": "stdout",
     "output_type": "stream",
     "text": [
      "[2, 3, 4, 5] [2, 3, 4, 5]\n",
      "[5, 3, 2, 4] [5, 3, 2, 4]\n",
      "[2, 3, 1, 1] [2, 3, 1, 1]\n",
      "[] []\n"
     ]
    }
   ],
   "source": [
    "def remove_smallest(numbers):\n",
    "    if numbers:\n",
    "        min_pos = min(enumerate(numbers), key=lambda a: a[1])[0]\n",
    "        return numbers[: min_pos] + numbers[min_pos + 1 :]\n",
    "    return []\n",
    "\n",
    "print(remove_smallest([1, 2, 3, 4, 5]), [2, 3, 4, 5])\n",
    "print(remove_smallest([5, 3, 2, 1, 4]), [5, 3, 2, 4])\n",
    "print(remove_smallest([1, 2, 3, 1, 1]), [2, 3, 1, 1])\n",
    "print(remove_smallest([]), [])"
   ]
  },
  {
   "cell_type": "markdown",
   "metadata": {},
   "source": [
    "__Other users' solutions:__"
   ]
  },
  {
   "cell_type": "markdown",
   "metadata": {},
   "source": [
    "As for me, not the best one:"
   ]
  },
  {
   "cell_type": "code",
   "execution_count": null,
   "metadata": {},
   "outputs": [],
   "source": [
    "def remove_smallest(numbers):\n",
    "    a = numbers[:]\n",
    "    if a:\n",
    "        a.remove(min(a))\n",
    "    return a"
   ]
  },
  {
   "cell_type": "markdown",
   "metadata": {},
   "source": [
    "20201102"
   ]
  },
  {
   "cell_type": "markdown",
   "metadata": {},
   "source": [
    "### Beginner - Lost Without a Map\n",
    "https://www.codewars.com/kata/57f781872e3d8ca2a000007e  \n",
    "8 kyu\n",
    "\n",
    "Given an array of integers, return a new array with each value doubled.\n",
    "\n",
    "For example:\n",
    "\n",
    "[1, 2, 3] --> [2, 4, 6]"
   ]
  },
  {
   "cell_type": "markdown",
   "metadata": {},
   "source": [
    "__My solution:__"
   ]
  },
  {
   "cell_type": "code",
   "execution_count": 1,
   "metadata": {},
   "outputs": [
    {
     "name": "stdout",
     "output_type": "stream",
     "text": [
      "[2, 4, 6] [2, 4, 6]\n",
      "[0, 2, 4, 6, 8, 10, 12, 14, 16, 18] [0, 2, 4, 6, 8, 10, 12, 14, 16, 18]\n",
      "[] []\n"
     ]
    }
   ],
   "source": [
    "def maps(a):\n",
    "    return list(map(lambda x: 2 * x, a))\n",
    "\n",
    "print(maps([1, 2, 3]), [2, 4, 6])\n",
    "print(maps([0, 1, 2, 3, 4, 5, 6, 7, 8, 9]), [0, 2, 4, 6, 8, 10, 12, 14, 16, 18])\n",
    "print(maps([]), [])"
   ]
  },
  {
   "cell_type": "markdown",
   "metadata": {},
   "source": [
    "### Scramblies\n",
    "https://www.codewars.com/kata/55c04b4cc56a697bb0000048  \n",
    "5 kyu\n",
    "\n",
    "Complete the function scramble(str1, str2) that returns true if a portion of str1 characters can be rearranged to match str2, otherwise returns false.\n",
    "\n",
    "Notes:\n",
    "\n",
    "Only lower case letters will be used (a-z). No punctuation or digits will be included.\n",
    "Performance needs to be considered\n",
    "Input strings s1 and s2 are null terminated.\n",
    "\n",
    "Examples  \n",
    "scramble('rkqodlw', 'world') ==> True  \n",
    "scramble('cedewaraaossoqqyt', 'codewars') ==> True  \n",
    "scramble('katas', 'steak') ==> False"
   ]
  },
  {
   "cell_type": "markdown",
   "metadata": {},
   "source": [
    "__My solution:__"
   ]
  },
  {
   "cell_type": "code",
   "execution_count": 2,
   "metadata": {},
   "outputs": [
    {
     "name": "stdout",
     "output_type": "stream",
     "text": [
      "True True\n",
      "True True\n",
      "False False\n",
      "True True\n",
      "True True\n"
     ]
    }
   ],
   "source": [
    "from collections import Counter\n",
    "\n",
    "def scramble(s1, s2):\n",
    "    s1 = Counter(s1)\n",
    "    s2 = Counter(s2)\n",
    "    \n",
    "    for c in s2:\n",
    "        if c not in s1 or s2[c] > s1[c]:\n",
    "            return False\n",
    "    return True\n",
    "    \n",
    "print(scramble('rkqodlw', 'world'),  True)\n",
    "print(scramble('cedewaraaossoqqyt', 'codewars'), True)\n",
    "print(scramble('katas', 'steak'), False)\n",
    "print(scramble('scriptjava', 'javascript'), True)\n",
    "print(scramble('scriptingjava', 'javascript'), True)"
   ]
  },
  {
   "cell_type": "markdown",
   "metadata": {},
   "source": [
    "__Other users' solutions:__"
   ]
  },
  {
   "cell_type": "markdown",
   "metadata": {},
   "source": [
    "__#1__ Witty! Very smart using of Counter!"
   ]
  },
  {
   "cell_type": "code",
   "execution_count": 3,
   "metadata": {},
   "outputs": [
    {
     "name": "stdout",
     "output_type": "stream",
     "text": [
      "Counter({'w': 1, 'o': 1, 'r': 1, 'l': 1, 'd': 1})\n",
      "Counter({'r': 1, 'k': 1, 'q': 1, 'o': 1, 'd': 1, 'l': 1, 'w': 1})\n",
      "Counter()\n",
      "True True\n"
     ]
    }
   ],
   "source": [
    "from collections import Counter\n",
    "def scramble(s1,s2):\n",
    "    # Counter basically creates a dictionary of counts and letters\n",
    "    # Using set subtraction, we know that if anything is left over,\n",
    "    # something exits in s2 that doesn't exist in s1\n",
    "    \n",
    "    print(Counter(s2))\n",
    "    print(Counter(s1))\n",
    "    print(Counter(s2) - Counter(s1))\n",
    "    return len(Counter(s2) - Counter(s1)) == 0\n",
    "\n",
    "print(scramble('rkqodlw', 'world'),  True)"
   ]
  },
  {
   "cell_type": "markdown",
   "metadata": {},
   "source": [
    "__#2__"
   ]
  },
  {
   "cell_type": "code",
   "execution_count": null,
   "metadata": {},
   "outputs": [],
   "source": [
    "def scramble(s1,s2):\n",
    "    for c in set(s2):\n",
    "        if s1.count(c) < s2.count(c):\n",
    "            return False\n",
    "    return True"
   ]
  },
  {
   "cell_type": "markdown",
   "metadata": {},
   "source": [
    "__#3__"
   ]
  },
  {
   "cell_type": "code",
   "execution_count": null,
   "metadata": {},
   "outputs": [],
   "source": [
    "def scramble(s1, s2):\n",
    "    return not any(s1.count(char) < s2.count(char) for char in set(s2))"
   ]
  },
  {
   "cell_type": "markdown",
   "metadata": {},
   "source": [
    "__#4__"
   ]
  },
  {
   "cell_type": "code",
   "execution_count": null,
   "metadata": {},
   "outputs": [],
   "source": [
    "def scramble(s1,s2):\n",
    "    return all( s1.count(x) >= s2.count(x) for x in set(s2))"
   ]
  },
  {
   "cell_type": "markdown",
   "metadata": {},
   "source": [
    "20201103"
   ]
  },
  {
   "cell_type": "markdown",
   "metadata": {},
   "source": [
    "### Sum of odd numbers\n",
    "https://www.codewars.com/kata/55fd2d567d94ac3bc9000064  \n",
    "7 kyu\n",
    "\n",
    "Given the triangle of consecutive odd numbers:\n",
    "\n",
    "             1\n",
    "          3     5\n",
    "       7     9    11\n",
    "   13    15    17    19\n",
    "\n",
    "...\n",
    "\n",
    "Calculate the row sums of this triangle from the row index (starting at index 1) e.g.:\n",
    "\n",
    "row_sum_odd_numbers(1); # 1  \n",
    "row_sum_odd_numbers(2); # 3 + 5 = 8"
   ]
  },
  {
   "cell_type": "markdown",
   "metadata": {},
   "source": [
    "__My solutions:__"
   ]
  },
  {
   "cell_type": "markdown",
   "metadata": {},
   "source": [
    "__#1__"
   ]
  },
  {
   "cell_type": "code",
   "execution_count": 5,
   "metadata": {},
   "outputs": [
    {
     "name": "stdout",
     "output_type": "stream",
     "text": [
      "1 1\n",
      "8 8\n",
      "2197 2197\n",
      "6859 6859\n",
      "68921 68921\n"
     ]
    }
   ],
   "source": [
    "def row_sum_odd_numbers(n):\n",
    "    return n ** 3\n",
    "    \n",
    "print(row_sum_odd_numbers(1), 1)\n",
    "print(row_sum_odd_numbers(2), 8)\n",
    "print(row_sum_odd_numbers(13), 2197)\n",
    "print(row_sum_odd_numbers(19), 6859)\n",
    "print(row_sum_odd_numbers(41), 68921)"
   ]
  },
  {
   "cell_type": "markdown",
   "metadata": {},
   "source": [
    "__#2__"
   ]
  },
  {
   "cell_type": "code",
   "execution_count": 7,
   "metadata": {
    "scrolled": true
   },
   "outputs": [
    {
     "name": "stdout",
     "output_type": "stream",
     "text": [
      "1 1\n",
      "8 8\n",
      "2197 2197\n",
      "6859 6859\n",
      "68921 68921\n"
     ]
    }
   ],
   "source": [
    "def row_sum_odd_numbers(n):\n",
    "    # n * (n - 1) + 1 - 1st odd number of the n-th row\n",
    "    # n * (n + 1) + 1 - 1st odd number of the (n + 1)-th row \n",
    "    return sum(range(n * (n - 1) + 1, n * (n + 1), 2))\n",
    "    \n",
    "print(row_sum_odd_numbers(1), 1)\n",
    "print(row_sum_odd_numbers(2), 8)\n",
    "print(row_sum_odd_numbers(13), 2197)\n",
    "print(row_sum_odd_numbers(19), 6859)\n",
    "print(row_sum_odd_numbers(41), 68921)"
   ]
  },
  {
   "cell_type": "markdown",
   "metadata": {},
   "source": [
    "20201104"
   ]
  },
  {
   "cell_type": "markdown",
   "metadata": {},
   "source": [
    "### Testing 1-2-3\n",
    "https://www.codewars.com/kata/54bf85e3d5b56c7a05000cf9  \n",
    "7 kyu\n",
    "\n",
    "Your team is writing a fancy new text editor and you've been tasked with implementing the line numbering.\n",
    "\n",
    "Write a function which takes a list of strings and returns each line prepended by the correct number.\n",
    "\n",
    "The numbering starts at 1. The format is n: string. Notice the colon and space in between.\n",
    "\n",
    "Examples:\n",
    "\n",
    "number([]) # => []  \n",
    "number([\"a\", \"b\", \"c\"]) # => [\"1: a\", \"2: b\", \"3: c\"]"
   ]
  },
  {
   "cell_type": "markdown",
   "metadata": {},
   "source": [
    "__My solution:__"
   ]
  },
  {
   "cell_type": "code",
   "execution_count": 13,
   "metadata": {},
   "outputs": [
    {
     "name": "stdout",
     "output_type": "stream",
     "text": [
      "[] []\n",
      "['1: a', '2: b', '3: c'] ['1: a', '2: b', '3: c']\n"
     ]
    }
   ],
   "source": [
    "def number(lines):\n",
    "    return list(f'{i}: {line}' for i, line in enumerate(lines, 1))\n",
    "    \n",
    "print(number([]), [])\n",
    "print(number([\"a\", \"b\", \"c\"]), [\"1: a\", \"2: b\", \"3: c\"])"
   ]
  },
  {
   "cell_type": "markdown",
   "metadata": {},
   "source": [
    "Almost the same:"
   ]
  },
  {
   "cell_type": "code",
   "execution_count": 14,
   "metadata": {},
   "outputs": [
    {
     "name": "stdout",
     "output_type": "stream",
     "text": [
      "[] []\n",
      "['1: a', '2: b', '3: c'] ['1: a', '2: b', '3: c']\n"
     ]
    }
   ],
   "source": [
    "def number(lines):\n",
    "    return list(map(lambda a: f'{a[0]}: {a[1]}', enumerate(lines, 1)))\n",
    "    \n",
    "print(number([]), [])\n",
    "print(number([\"a\", \"b\", \"c\"]), [\"1: a\", \"2: b\", \"3: c\"])"
   ]
  },
  {
   "cell_type": "markdown",
   "metadata": {},
   "source": [
    "__Other users' solutions:__"
   ]
  },
  {
   "cell_type": "markdown",
   "metadata": {},
   "source": [
    "__#1__"
   ]
  },
  {
   "cell_type": "code",
   "execution_count": null,
   "metadata": {},
   "outputs": [],
   "source": [
    "def number(lines):\n",
    "    return ['%d: %s' % v for v in enumerate(lines, 1)]"
   ]
  },
  {
   "cell_type": "markdown",
   "metadata": {},
   "source": [
    "__#2__"
   ]
  },
  {
   "cell_type": "code",
   "execution_count": null,
   "metadata": {},
   "outputs": [],
   "source": [
    "def number(lines):\n",
    "    return [\"{}: {}\".format(*line) for line in enumerate(lines, start=1)]"
   ]
  },
  {
   "cell_type": "markdown",
   "metadata": {},
   "source": [
    "20201105"
   ]
  },
  {
   "cell_type": "markdown",
   "metadata": {},
   "source": [
    "### Help the bookseller !\n",
    "https://www.codewars.com/kata/54dc6f5a224c26032800005c  \n",
    "6 kyu\n",
    "\n",
    "A bookseller has lots of books classified in 26 categories labeled A, B, ... Z. Each book has a code c of 3, 4, 5 or more characters. The 1st character of a code is a capital letter which defines the book category.\n",
    "\n",
    "In the bookseller's stocklist each code c is followed by a space and by a positive integer n (int n >= 0) which indicates the quantity of books of this code in stock.\n",
    "\n",
    "For example an extract of a stocklist could be:\n",
    "\n",
    "L = {\"ABART 20\", \"CDXEF 50\", \"BKWRK 25\", \"BTSQZ 89\", \"DRTYM 60\"}.  \n",
    "or  \n",
    "L = [\"ABART 20\", \"CDXEF 50\", \"BKWRK 25\", \"BTSQZ 89\", \"DRTYM 60\"] or ....\n",
    "\n",
    "You will be given a stocklist (e.g. : L) and a list of categories in capital letters e.g :\n",
    "\n",
    "M = {\"A\", \"B\", \"C\", \"W\"}   \n",
    "or  \n",
    "M = [\"A\", \"B\", \"C\", \"W\"] or ...\n",
    "\n",
    "and your task is to find all the books of L with codes belonging to each category of M and to sum their quantity according to each category.\n",
    "\n",
    "For the lists L and M of example you have to return the string (in Haskell/Clojure/Racket a list of pairs):\n",
    "\n",
    "  (A : 20) - (B : 114) - (C : 50) - (W : 0)  \n",
    "  \n",
    "where A, B, C, W are the categories, 20 is the sum of the unique book of category A, 114 the sum corresponding to \"BKWRK\" and \"BTSQZ\", 50 corresponding to \"CDXEF\" and 0 to category 'W' since there are no code beginning with W.\n",
    "\n",
    "If L or M are empty return string is \"\" (Clojure and Racket should return an empty array/list instead).\n",
    "\n",
    "Note:  \n",
    "In the result codes and their values are in the same order as in M."
   ]
  },
  {
   "cell_type": "markdown",
   "metadata": {},
   "source": [
    "__My solution:__"
   ]
  },
  {
   "cell_type": "code",
   "execution_count": 23,
   "metadata": {},
   "outputs": [
    {
     "name": "stdout",
     "output_type": "stream",
     "text": [
      "(A : 200) - (B : 1140) (A : 200) - (B : 1140)\n"
     ]
    }
   ],
   "source": [
    "def stock_list(listOfArt, listOfCat):\n",
    "    if not listOfArt or not listOfCat:\n",
    "        return ''\n",
    "    \n",
    "    d = dict(zip(listOfCat, [0] * len(listOfCat)))\n",
    "    for book in listOfArt:\n",
    "        if book[0] in d:\n",
    "            d[book[0]] += int(book.split()[1])\n",
    "    return ' - '.join(f'({c} : {d[c]})'for c in listOfCat)\n",
    "        \n",
    "    \n",
    "    \n",
    "b = [\"ABAR 200\", \"CDXE 500\", \"BKWR 250\", \"BTSQ 890\", \"DRTY 600\"]\n",
    "c = [\"A\", \"B\"]\n",
    "print(stock_list(b, c), \"(A : 200) - (B : 1140)\")   "
   ]
  },
  {
   "cell_type": "markdown",
   "metadata": {},
   "source": [
    "Almost the same:  just added checking of letters' case:"
   ]
  },
  {
   "cell_type": "code",
   "execution_count": 22,
   "metadata": {},
   "outputs": [
    {
     "name": "stdout",
     "output_type": "stream",
     "text": [
      "{'A': 0, 'B': 0}\n",
      "(A : 200) - (B : 1140) (A : 200) - (B : 1140)\n"
     ]
    }
   ],
   "source": [
    "from collections import defaultdict\n",
    "\n",
    "def stock_list(listOfArt, listOfCat):\n",
    "    if not listOfArt or not listOfCat:\n",
    "        return ''\n",
    "    \n",
    "    listOfCat = list(map(lambda c : c.upper(), listOfCat))\n",
    "    d = dict(map(lambda c: (c, 0), listOfCat))\n",
    "    print(d)\n",
    "    for book in listOfArt:\n",
    "        if book[0].upper() in d:\n",
    "            d[book[0].upper()] += int(book.split()[1])\n",
    "    return ' - '.join(f'({c} : {d[c]})' for c in listOfCat)\n",
    "        \n",
    "    \n",
    "    \n",
    "b = [\"ABAR 200\", \"CDXE 500\", \"BKWR 250\", \"BTSQ 890\", \"DRTY 600\"]\n",
    "c = [\"A\", \"B\"]\n",
    "print(stock_list(b, c), \"(A : 200) - (B : 1140)\")   "
   ]
  },
  {
   "cell_type": "markdown",
   "metadata": {},
   "source": [
    "__Other users' solutions:__"
   ]
  },
  {
   "cell_type": "markdown",
   "metadata": {},
   "source": [
    "__#1__"
   ]
  },
  {
   "cell_type": "code",
   "execution_count": null,
   "metadata": {},
   "outputs": [],
   "source": [
    "from collections import Counter\n",
    "\n",
    "def stock_list(listOfArt, listOfCat):\n",
    "    if not listOfArt:\n",
    "        return ''\n",
    "    codePos = listOfArt[0].index(' ') + 1\n",
    "    cnt = Counter()\n",
    "    for s in listOfArt:\n",
    "        cnt[s[0]] += int(s[codePos:])\n",
    "    return ' - '.join('({} : {})'.format(cat, cnt[cat]) for cat in listOfCat)"
   ]
  },
  {
   "cell_type": "code",
   "execution_count": null,
   "metadata": {},
   "outputs": [],
   "source": []
  },
  {
   "cell_type": "markdown",
   "metadata": {},
   "source": [
    "20201106"
   ]
  },
  {
   "cell_type": "markdown",
   "metadata": {},
   "source": [
    "### A Bubbly Programming Language\n",
    "https://www.codewars.com/kata/5f7a715f6c1f810017c3eb07  \n",
    "5 kyu\n",
    "\n",
    "Your goal is to make a stack based programming language in Python with the following functions/tokens:\n",
    "\n",
    "start - Marks the start of the program.  \n",
    "end - Marks the end of the program, and returns the top element in the stack.  \n",
    "push x - Pushes the integer x into the stack.  \n",
    "add - Adds together the top two elements on the stack.  \n",
    "sub - Subtracts the top-most element by the second top-most element on the stack.  \n",
    "mul - Multiplies the top two elements on the stack.  \n",
    "div - Divides (integer division) the top-most element by the second top-most element on the stack.  \n",
    "\n",
    "Demo:\n",
    "\n",
    "   start push 5 push 3 add end  \n",
    " = 8\n",
    " \n",
    "   start push 2 push 5 div push 3 push 8 mul mul end  \n",
    " = 48\n",
    " \n",
    "Easy, right?\n",
    "\n",
    "Such a trivial string interpreter is probably too simple for an amazing code warrior like you. To spice things up, we will add bubbles into the mix. Each token must be engulfed by a bubble (parentheses)!\n",
    "\n",
    "The syntax should be like:\n",
    "\n",
    "(start)(push)(4)(push)(9)(div)(end)  \n",
    "which returns 2 in this case.\n",
    "\n",
    "Task\n",
    "\n",
    "Your goal is to create appropriate definitions for start, end, push, add, sub, mul and div so that the bubbly language is valid Python syntax, and evaluates to the correct value.\n",
    "\n",
    "For instance, typing this in a shell should result in:\n",
    "\n",
    "\\>>> (start)(push)(5)(push)(8)(push)(1)(add)(add)(end)  \n",
    "14  \n",
    "See the example tests for more examples.\n",
    "\n",
    "Notes\n",
    "\n",
    "Your definitions should allow multiple bubbly language statements in one script (python session).\n",
    "\n",
    "Don't worry about division by 0. There won't be any test cases on that.\n",
    "\n",
    "All input will be valid.\n",
    "\n",
    "This kata is inspired by A Simple Postfix Language."
   ]
  },
  {
   "cell_type": "markdown",
   "metadata": {},
   "source": [
    "__My solution:__"
   ]
  },
  {
   "cell_type": "code",
   "execution_count": 123,
   "metadata": {},
   "outputs": [
    {
     "name": "stdout",
     "output_type": "stream",
     "text": [
      "8 8\n",
      "2 2\n",
      "216 216\n",
      "48 48\n",
      "4 4\n"
     ]
    }
   ],
   "source": [
    "stack = []\n",
    "\n",
    "def start(func):\n",
    "    stack.clear()    \n",
    "    return func\n",
    "    \n",
    "def push(value):\n",
    "    stack.append(value)\n",
    "    return lambda func: func\n",
    "    \n",
    "def add(func):\n",
    "    if len(stack) >= 2:\n",
    "        stack.append(stack.pop() + stack.pop())\n",
    "    if func.__name__ == 'end':\n",
    "        return func()\n",
    "    return func\n",
    "\n",
    "def sub(func):\n",
    "    if len(stack) >= 2:\n",
    "        stack.append(stack.pop() - stack.pop())\n",
    "    if func.__name__ == 'end':\n",
    "        return func()\n",
    "    return func\n",
    "\n",
    "def mul(func):\n",
    "    if len(stack) >= 2:\n",
    "        stack.append(stack.pop() * stack.pop())\n",
    "    if func.__name__ == 'end':\n",
    "        return func()\n",
    "    return func\n",
    "\n",
    "def div(func):\n",
    "    if len(stack) >= 2:\n",
    "        stack.append(stack.pop() // stack.pop())\n",
    "    if func.__name__ == 'end':\n",
    "        return func()\n",
    "    return func\n",
    "\n",
    "def end():\n",
    "    return stack.pop() if stack else None\n",
    "\n",
    "print((start)(push)(5)(push)(3)(add)(end), 8)\n",
    "print((start)(push)(3)(push)(5)(sub)(end), 2)\n",
    "print((start)(push)(8)(push)(9)(push)(3)(mul)(mul)(end), 216)\n",
    "print((start)(push)(2)(push)(5)(div)(push)(3)(push)(8)(mul)(mul)(end), 48)\n",
    "print((start)(push)(1)(push)(1)(add)(push)(2)(add)(end), 4)"
   ]
  },
  {
   "cell_type": "markdown",
   "metadata": {},
   "source": [
    "Almost the same but with callable checking instead of func.__name__ == 'end':"
   ]
  },
  {
   "cell_type": "code",
   "execution_count": 124,
   "metadata": {},
   "outputs": [
    {
     "name": "stdout",
     "output_type": "stream",
     "text": [
      "8 8\n",
      "2 2\n",
      "216 216\n",
      "48 48\n",
      "4 4\n"
     ]
    }
   ],
   "source": [
    "stack = []\n",
    "\n",
    "def start(func):\n",
    "    stack.clear()    \n",
    "    return func\n",
    "    \n",
    "def push(value):\n",
    "    stack.append(value)\n",
    "    return lambda func: func\n",
    "    \n",
    "def add(func):\n",
    "    if len(stack) >= 2:\n",
    "        stack.append(stack.pop() + stack.pop())\n",
    "    if not callable(func):\n",
    "        return stack.pop() if stack else None\n",
    "    return func\n",
    "\n",
    "def sub(func):\n",
    "    if len(stack) >= 2:\n",
    "        stack.append(stack.pop() - stack.pop())\n",
    "    if not callable(func):\n",
    "        return stack.pop() if stack else None\n",
    "    return func\n",
    "\n",
    "def mul(func):\n",
    "    if len(stack) >= 2:\n",
    "        stack.append(stack.pop() * stack.pop())\n",
    "    if not callable(func):\n",
    "        return stack.pop() if stack else None\n",
    "    return func\n",
    "\n",
    "def div(func):\n",
    "    if len(stack) >= 2:\n",
    "        stack.append(stack.pop() // stack.pop())\n",
    "    if not callable(func):\n",
    "        return stack.pop() if stack else None\n",
    "    return func\n",
    "\n",
    "end = 'end'\n",
    "\n",
    "print((start)(push)(5)(push)(3)(add)(end), 8)\n",
    "print((start)(push)(3)(push)(5)(sub)(end), 2)\n",
    "print((start)(push)(8)(push)(9)(push)(3)(mul)(mul)(end), 216)\n",
    "print((start)(push)(2)(push)(5)(div)(push)(3)(push)(8)(mul)(mul)(end), 48)\n",
    "print((start)(push)(1)(push)(1)(add)(push)(2)(add)(end), 4)"
   ]
  },
  {
   "cell_type": "code",
   "execution_count": 153,
   "metadata": {},
   "outputs": [
    {
     "name": "stdout",
     "output_type": "stream",
     "text": [
      "8 8\n",
      "2 2\n",
      "216 216\n",
      "48 48\n",
      "4 4\n"
     ]
    }
   ],
   "source": [
    "import operator\n",
    "\n",
    "stack = []\n",
    "\n",
    "def start(func):\n",
    "    stack.clear()    \n",
    "    return func\n",
    "    \n",
    "def push(value):\n",
    "    stack.append(value)\n",
    "    return lambda func: func\n",
    "\n",
    "def oper(func, op):\n",
    "    if len(stack) >= 2:\n",
    "        stack.append(op(stack.pop(), stack.pop()))\n",
    "    if not callable(func):\n",
    "        return stack.pop() if stack else None\n",
    "    return func\n",
    "\n",
    "def add(func):\n",
    "    return oper(func, operator.add)\n",
    "\n",
    "def sub(func):\n",
    "    return oper(func, operator.sub)\n",
    "\n",
    "def mul(func):\n",
    "    return oper(func, operator.mul)\n",
    "\n",
    "def div(func):\n",
    "    return oper(func, operator.floordiv)\n",
    "\n",
    "end = 'end'\n",
    "\n",
    "print((start)(push)(5)(push)(3)(add)(end), 8)\n",
    "print((start)(push)(3)(push)(5)(sub)(end), 2)\n",
    "print((start)(push)(8)(push)(9)(push)(3)(mul)(mul)(end), 216)\n",
    "print((start)(push)(2)(push)(5)(div)(push)(3)(push)(8)(mul)(mul)(end), 48)\n",
    "print((start)(push)(1)(push)(1)(add)(push)(2)(add)(end), 4)"
   ]
  },
  {
   "cell_type": "code",
   "execution_count": 166,
   "metadata": {},
   "outputs": [
    {
     "name": "stdout",
     "output_type": "stream",
     "text": [
      "functools.partial(<function oper at 0x000000000836EA60>, op=<built-in function add>) 8\n",
      "end <built-in function sub>\n",
      "2 2\n",
      "functools.partial(<function oper at 0x000000000836EA60>, op=<built-in function mul>) <built-in function mul>\n",
      "end <built-in function mul>\n",
      "216 216\n",
      "<function push at 0x000000000836ED08> <built-in function floordiv>\n",
      "functools.partial(<function oper at 0x000000000836EA60>, op=<built-in function mul>) <built-in function mul>\n",
      "end <built-in function mul>\n",
      "48 48\n",
      "<function push at 0x000000000836ED08> <built-in function add>\n",
      "end <built-in function add>\n",
      "4 4\n"
     ]
    }
   ],
   "source": [
    "import operator\n",
    "from functools import partial\n",
    "\n",
    "stack = []\n",
    "\n",
    "def start(func):\n",
    "    stack.clear()    \n",
    "    return func\n",
    "    \n",
    "def push(value):\n",
    "    stack.append(value)\n",
    "    return lambda func: func\n",
    "\n",
    "def oper(func, op=None):\n",
    "    if len(stack) >= 2:\n",
    "        stack.append(op(stack.pop(), stack.pop()))\n",
    "    if not callable(func):\n",
    "        return stack.pop() if stack else None\n",
    "    return func\n",
    "\n",
    "add = partial(oper, op=operator.add)\n",
    "sub = partial(oper, op=operator.sub)\n",
    "mul = partial(oper, op=operator.mul)\n",
    "div = partial(oper, op=operator.floordiv)\n",
    "end = 'end'\n",
    "\n",
    "print((start)(push)(5)(push)(3)(add), 8)\n",
    "print((start)(push)(3)(push)(5)(sub)(end), 2)\n",
    "print((start)(push)(8)(push)(9)(push)(3)(mul)(mul)(end), 216)\n",
    "print((start)(push)(2)(push)(5)(div)(push)(3)(push)(8)(mul)(mul)(end), 48)\n",
    "print((start)(push)(1)(push)(1)(add)(push)(2)(add)(end), 4)\n"
   ]
  },
  {
   "cell_type": "code",
   "execution_count": 146,
   "metadata": {},
   "outputs": [
    {
     "data": {
      "text/plain": [
       "5"
      ]
     },
     "execution_count": 146,
     "metadata": {},
     "output_type": "execute_result"
    }
   ],
   "source": [
    "import operator\n",
    "\n",
    "operator.add(2, 3)"
   ]
  },
  {
   "cell_type": "code",
   "execution_count": 154,
   "metadata": {},
   "outputs": [
    {
     "data": {
      "text/plain": [
       "<function __main__.add(func)>"
      ]
     },
     "execution_count": 154,
     "metadata": {},
     "output_type": "execute_result"
    }
   ],
   "source": [
    "def add(func):\n",
    "    return oper(func, operator.add)\n",
    "\n",
    "add"
   ]
  },
  {
   "cell_type": "code",
   "execution_count": 155,
   "metadata": {},
   "outputs": [
    {
     "data": {
      "text/plain": [
       "<function __main__.<lambda>(func)>"
      ]
     },
     "execution_count": 155,
     "metadata": {},
     "output_type": "execute_result"
    }
   ],
   "source": [
    "add = lambda func: oper(func, operator.add)\n",
    "\n",
    "add"
   ]
  },
  {
   "cell_type": "code",
   "execution_count": 42,
   "metadata": {},
   "outputs": [
    {
     "name": "stdout",
     "output_type": "stream",
     "text": [
      "4\n",
      "4\n",
      "[1, 2, 3]\n"
     ]
    }
   ],
   "source": [
    "a = [1, 2, 3, 4]\n",
    "print((len)(a))\n",
    "print(a.pop())\n",
    "print(a)"
   ]
  },
  {
   "cell_type": "code",
   "execution_count": 43,
   "metadata": {},
   "outputs": [
    {
     "data": {
      "text/plain": [
       "3"
      ]
     },
     "execution_count": 43,
     "metadata": {},
     "output_type": "execute_result"
    }
   ],
   "source": [
    "(len)(tuple(a))"
   ]
  },
  {
   "cell_type": "code",
   "execution_count": 41,
   "metadata": {},
   "outputs": [
    {
     "ename": "TypeError",
     "evalue": "object of type 'type' has no len()",
     "output_type": "error",
     "traceback": [
      "\u001b[1;31m---------------------------------------------------------------------------\u001b[0m",
      "\u001b[1;31mTypeError\u001b[0m                                 Traceback (most recent call last)",
      "\u001b[1;32m<ipython-input-41-3287932c60c5>\u001b[0m in \u001b[0;36m<module>\u001b[1;34m\u001b[0m\n\u001b[1;32m----> 1\u001b[1;33m \u001b[1;33m(\u001b[0m\u001b[0mlen\u001b[0m\u001b[1;33m)\u001b[0m\u001b[1;33m(\u001b[0m\u001b[0mtuple\u001b[0m\u001b[1;33m)\u001b[0m\u001b[1;33m(\u001b[0m\u001b[0ma\u001b[0m\u001b[1;33m)\u001b[0m\u001b[1;33m\u001b[0m\u001b[1;33m\u001b[0m\u001b[0m\n\u001b[0m",
      "\u001b[1;31mTypeError\u001b[0m: object of type 'type' has no len()"
     ]
    }
   ],
   "source": [
    "(len)(tuple)(a)"
   ]
  },
  {
   "cell_type": "code",
   "execution_count": 62,
   "metadata": {},
   "outputs": [
    {
     "name": "stdout",
     "output_type": "stream",
     "text": [
      "<class 'function'>\n",
      "True\n",
      "False\n"
     ]
    }
   ],
   "source": [
    "def a():\n",
    "    pass\n",
    "\n",
    "b = 2\n",
    "\n",
    "print(type(a))\n",
    "print(callable(a))\n",
    "print(callable(b))"
   ]
  },
  {
   "cell_type": "code",
   "execution_count": null,
   "metadata": {},
   "outputs": [],
   "source": [
    "class add(int):\n",
    "    def __call__(self, value):\n",
    "        #print(type(self))\n",
    "        return add(self + value)\n",
    "    \n",
    "addTwo = add(2)\n",
    "print(addTwo) # 2\n",
    "print(addTwo + 5) # 7\n",
    "print(addTwo(3)) # 5\n",
    "print(addTwo(3)(5)) # 10"
   ]
  },
  {
   "cell_type": "code",
   "execution_count": 144,
   "metadata": {},
   "outputs": [
    {
     "name": "stdout",
     "output_type": "stream",
     "text": [
      "18\n",
      "19\n",
      "4096\n",
      "<class 'int'>\n",
      "()\n",
      "{'base': 2}\n"
     ]
    }
   ],
   "source": [
    "def partial(func, *args, **keywords):\n",
    "    #print(args)\n",
    "    #print(keywords)\n",
    "    #print(dict(**keywords))\n",
    "    def newfunc(*fargs, **fkeywords):\n",
    "        newkeywords = {**keywords, **fkeywords}\n",
    "        return func(*args, *fargs, **newkeywords)\n",
    "    newfunc.func = func\n",
    "    newfunc.args = args\n",
    "    newfunc.keywords = keywords\n",
    "    return newfunc\n",
    "\n",
    "basetwo = partial(int, base=2)\n",
    "print(basetwo('10010'))\n",
    "print(basetwo('10011'))\n",
    "print(basetwo('10000', base=8))\n",
    "print(basetwo.func)\n",
    "print(basetwo.args)\n",
    "print(basetwo.keywords)"
   ]
  },
  {
   "cell_type": "code",
   "execution_count": 136,
   "metadata": {},
   "outputs": [
    {
     "name": "stdout",
     "output_type": "stream",
     "text": [
      "{1, 4, 5}\n",
      "{1: 4, 5: 6, 4: 3}\n"
     ]
    }
   ],
   "source": [
    "d1 = {1: 3, 5: 6}\n",
    "d2 = {1: 4, 4: 3}\n",
    "#d1 + d2  # TypeError: unsupported operand type(s) for +: 'dict' and 'dict'\n",
    "print({*d1, *d2})\n",
    "print({**d1, **d2})"
   ]
  },
  {
   "cell_type": "markdown",
   "metadata": {},
   "source": [
    "__Other user's solutions:__"
   ]
  },
  {
   "cell_type": "markdown",
   "metadata": {},
   "source": [
    "__#1__"
   ]
  },
  {
   "cell_type": "code",
   "execution_count": 188,
   "metadata": {},
   "outputs": [],
   "source": [
    "end,push,add,sub,mul,div = 'end push add sub mul div'.split()\n",
    "OPS = {add:int.__add__, sub:int.__sub__, mul:int.__mul__, div:int.__floordiv__}\n",
    "\n",
    "class start:\n",
    "    def __init__(self,f):  self.stk = []\n",
    "        \n",
    "    def __call__(self,x):\n",
    "        if x==end: return self.stk[-1]\n",
    "        op = OPS.get(x)\n",
    "        if op:\n",
    "            a,b = self.stk.pop(), self.stk.pop()\n",
    "            self.stk.append(op(a,b))\n",
    "        elif isinstance(x, int):\n",
    "            self.stk.append(x)\n",
    "        return self"
   ]
  },
  {
   "cell_type": "code",
   "execution_count": 187,
   "metadata": {},
   "outputs": [
    {
     "name": "stdout",
     "output_type": "stream",
     "text": [
      "8 8\n",
      "2 2\n",
      "216 216\n",
      "48 48\n",
      "4 4\n"
     ]
    }
   ],
   "source": [
    "from operator import add, sub, mul, floordiv as div\n",
    "\n",
    "push, end = 'push', 'end'\n",
    "\n",
    "class start:\n",
    "    def __init__(self, arg):\n",
    "        self.stack = []\n",
    "    \n",
    "    def __call__(self, arg):\n",
    "        if isinstance(arg, int):\n",
    "            self.stack.append(arg)\n",
    "        elif callable(arg):\n",
    "            if len(self.stack) >= 2:\n",
    "                self.stack.append(arg(self.stack.pop(), self.stack.pop()))\n",
    "        elif arg == 'end':\n",
    "            return self.stack[-1]\n",
    "        return self            \n",
    "    \n",
    "print((start)(push)(5)(push)(3)(add)(end), 8)\n",
    "print((start)(push)(3)(push)(5)(sub)(end), 2)\n",
    "print((start)(push)(8)(push)(9)(push)(3)(mul)(mul)(end), 216)\n",
    "print((start)(push)(2)(push)(5)(div)(push)(3)(push)(8)(mul)(mul)(end), 48)\n",
    "print((start)(push)(1)(push)(1)(add)(push)(2)(add)(end), 4)\n"
   ]
  },
  {
   "cell_type": "code",
   "execution_count": 175,
   "metadata": {},
   "outputs": [
    {
     "data": {
      "text/plain": [
       "[int, object]"
      ]
     },
     "execution_count": 175,
     "metadata": {},
     "output_type": "execute_result"
    }
   ],
   "source": [
    "int.mro()"
   ]
  },
  {
   "cell_type": "code",
   "execution_count": 173,
   "metadata": {},
   "outputs": [
    {
     "name": "stdout",
     "output_type": "stream",
     "text": [
      "Constr\n",
      "<__main__.a object at 0x00000000083B1EB8>\n",
      "Constr\n",
      "<__main__.a object at 0x00000000083B1F98>\n"
     ]
    }
   ],
   "source": [
    "class a:\n",
    "    def __init__(self):\n",
    "        print('Constr')\n",
    "\n",
    "#b = a  # так объект не создашь\n",
    "b = a()\n",
    "print(b)\n",
    "print(a())"
   ]
  },
  {
   "cell_type": "markdown",
   "metadata": {},
   "source": [
    "__#2__"
   ]
  },
  {
   "cell_type": "code",
   "execution_count": null,
   "metadata": {},
   "outputs": [],
   "source": [
    "stack = []\n",
    "\n",
    "start = lambda op: op() if op == end else op\n",
    "end = lambda: stack.pop()\n",
    "\n",
    "def push(n):\n",
    "    stack.append(n)\n",
    "    return start\n",
    "\n",
    "def add(op):\n",
    "    stack.append(stack.pop() + stack.pop())\n",
    "    return start(op)\n",
    "\n",
    "def sub(op):\n",
    "    stack.append(stack.pop() - stack.pop())\n",
    "    return start(op)\n",
    "\n",
    "def mul(op):\n",
    "    stack.append(stack.pop() * stack.pop())\n",
    "    return start(op)\n",
    "\n",
    "def div(op):\n",
    "    stack.append(stack.pop() // stack.pop())\n",
    "    return start(op)"
   ]
  },
  {
   "cell_type": "markdown",
   "metadata": {},
   "source": [
    "### Decode the Morse code\n",
    "https://www.codewars.com/kata/54b724efac3d5402db00065e  \n",
    "6 kyu\n",
    "\n",
    "Part of Series 1/3  \n",
    "This kata is part of a series on the Morse code. After you solve this kata, you may move to the next one.\n",
    "\n",
    "In this kata you have to write a simple Morse code decoder. While the Morse code is now mostly superseded by voice and digital data communication channels, it still has its use in some applications around the world.\n",
    "\n",
    "The Morse code encodes every character as a sequence of \"dots\" and \"dashes\". For example, the letter A is coded as ·−, letter Q is coded as −−·−, and digit 1 is coded as ·−−−−. The Morse code is case-insensitive, traditionally capital letters are used. When the message is written in Morse code, a single space is used to separate the character codes and 3 spaces are used to separate words. For example, the message HEY JUDE in Morse code is ···· · −·−−   ·−−− ··− −·· ·.\n",
    "\n",
    "NOTE: Extra spaces before or after the code have no meaning and should be ignored.\n",
    "\n",
    "In addition to letters, digits and some punctuation, there are some special service codes, the most notorious of those is the international distress signal SOS (that was first issued by Titanic), that is coded as ···−−−···. These special codes are treated as single special characters, and usually are transmitted as separate words.\n",
    "\n",
    "Your task is to implement a function that would take the morse code as input and return a decoded human-readable string.\n",
    "\n",
    "For example:\n",
    "\n",
    "decodeMorse('.... . -.--   .--- ..- -.. .')  \n",
    "#should return \"HEY JUDE\"\n",
    "\n",
    "NOTE: For coding purposes you have to use ASCII characters . and -, not Unicode characters.\n",
    "\n",
    "The Morse code table is preloaded for you as a dictionary, feel free to use it:\n",
    "\n",
    "Coffeescript/C++/Go/JavaScript/Julia/PHP/Python/Ruby/TypeScript: MORSE_CODE['.--']\n",
    "\n",
    "All the test strings would contain valid Morse code, so you may skip checking for errors and exceptions. In C#, tests will fail if the solution code throws an exception, please keep that in mind. This is mostly because otherwise the engine would simply ignore the tests, resulting in a \"valid\" solution.\n",
    "\n",
    "Good luck!\n",
    "\n",
    "After you complete this kata, you may try yourself at Decode the Morse code, advanced."
   ]
  },
  {
   "cell_type": "markdown",
   "metadata": {},
   "source": [
    "__My solution:__"
   ]
  },
  {
   "cell_type": "code",
   "execution_count": 48,
   "metadata": {},
   "outputs": [
    {
     "name": "stdout",
     "output_type": "stream",
     "text": [
      "HEY JUDE HEY JUDE\n"
     ]
    }
   ],
   "source": [
    "MORSE_CODE = {'.-': 'A', '-...': 'B', '-.-.': 'C', '-..': 'D', '.': 'E', '..-.': 'F', '--.': 'G', '....': 'H', '..': 'I', '.---': 'J', '-.-': 'K', '.-..': 'L', '--': 'M', '-.': 'N', '---': 'O', '.--.': 'P', '--.-': 'Q', '.-.': 'R', '...': 'S', '-': 'T', '..-': 'U', '...-': 'V', '.--': 'W', '-..-': 'X', '-.--': 'Y', '--..': 'Z', '-----': '0', '.----': '1', '..---': '2', '...--': '3', '....-': '4', '.....': '5', '-....': '6', '--...': '7', '---..': '8', '----.': '9', '.-.-.-': '.', '--..--': ',', '..--..': '?', '.----.': \"'\", '-.-.--': '!', '-..-.': '/', '-.--.': '(', '-.--.-': ')', '.-...': '&', '---...': ':', '-.-.-.': ';', '-...-': '=', '.-.-.': '+', '-....-': '-', '..--.-': '_', '.-..-.': '\"', '...-..-': '$', '.--.-.': '@', '...---...': 'SOS'}\n",
    "\n",
    "def decodeMorse(morse_code):\n",
    "    return ' '.join(''.join(MORSE_CODE[c] for c in word.split()) for word in morse_code.split('   ') if word.strip())\n",
    "\n",
    "print(decodeMorse('.... . -.--   .--- ..- -.. .'), 'HEY JUDE')"
   ]
  },
  {
   "cell_type": "code",
   "execution_count": 34,
   "metadata": {},
   "outputs": [
    {
     "data": {
      "text/plain": [
       "['a', 'b', 'v']"
      ]
     },
     "execution_count": 34,
     "metadata": {},
     "output_type": "execute_result"
    }
   ],
   "source": [
    "' a  b   v  '.split()"
   ]
  },
  {
   "cell_type": "code",
   "execution_count": 38,
   "metadata": {},
   "outputs": [
    {
     "data": {
      "text/plain": [
       "[' a', ' b', '  v  v', '']"
      ]
     },
     "execution_count": 38,
     "metadata": {},
     "output_type": "execute_result"
    }
   ],
   "source": [
    "'  a    b     v  v   '.split('   ')"
   ]
  },
  {
   "cell_type": "code",
   "execution_count": 36,
   "metadata": {},
   "outputs": [
    {
     "data": {
      "text/plain": [
       "[]"
      ]
     },
     "execution_count": 36,
     "metadata": {},
     "output_type": "execute_result"
    }
   ],
   "source": [
    "' '.split()"
   ]
  },
  {
   "cell_type": "code",
   "execution_count": 39,
   "metadata": {},
   "outputs": [
    {
     "data": {
      "text/plain": [
       "['', '', 'v', '', 'v']"
      ]
     },
     "execution_count": 39,
     "metadata": {},
     "output_type": "execute_result"
    }
   ],
   "source": [
    "'  v  v'.split(' ')"
   ]
  },
  {
   "cell_type": "code",
   "execution_count": 43,
   "metadata": {},
   "outputs": [
    {
     "data": {
      "text/plain": [
       "['v', 'v']"
      ]
     },
     "execution_count": 43,
     "metadata": {},
     "output_type": "execute_result"
    }
   ],
   "source": [
    "'   v  v'.split()"
   ]
  },
  {
   "cell_type": "code",
   "execution_count": 47,
   "metadata": {},
   "outputs": [
    {
     "name": "stdout",
     "output_type": "stream",
     "text": [
      "[]\n",
      "['a']\n",
      "['b']\n",
      "[]\n",
      "[]\n",
      "['v', 'v']\n",
      "[]\n"
     ]
    }
   ],
   "source": [
    "for word in '     a    b         v  v   '.split('   '):\n",
    "    print(word.split())"
   ]
  },
  {
   "cell_type": "code",
   "execution_count": 49,
   "metadata": {},
   "outputs": [
    {
     "name": "stdout",
     "output_type": "stream",
     "text": [
      "['a']\n",
      "['b']\n",
      "[]\n",
      "[]\n",
      "['v', 'v']\n"
     ]
    }
   ],
   "source": [
    "for word in '     a    b         v  v   '.strip().split('   '):\n",
    "    print(word.split())"
   ]
  },
  {
   "cell_type": "markdown",
   "metadata": {},
   "source": [
    "A little more stable:"
   ]
  },
  {
   "cell_type": "code",
   "execution_count": 2,
   "metadata": {},
   "outputs": [
    {
     "name": "stdout",
     "output_type": "stream",
     "text": [
      "HEY JUDE HEY JUDE\n",
      "HEY JUDE HEY JUDE\n"
     ]
    }
   ],
   "source": [
    "MORSE_CODE = {'.-': 'A', '-...': 'B', '-.-.': 'C', '-..': 'D', '.': 'E', '..-.': 'F', '--.': 'G', '....': 'H', '..': 'I', '.---': 'J', '-.-': 'K', '.-..': 'L', '--': 'M', '-.': 'N', '---': 'O', '.--.': 'P', '--.-': 'Q', '.-.': 'R', '...': 'S', '-': 'T', '..-': 'U', '...-': 'V', '.--': 'W', '-..-': 'X', '-.--': 'Y', '--..': 'Z', '-----': '0', '.----': '1', '..---': '2', '...--': '3', '....-': '4', '.....': '5', '-....': '6', '--...': '7', '---..': '8', '----.': '9', '.-.-.-': '.', '--..--': ',', '..--..': '?', '.----.': \"'\", '-.-.--': '!', '-..-.': '/', '-.--.': '(', '-.--.-': ')', '.-...': '&', '---...': ':', '-.-.-.': ';', '-...-': '=', '.-.-.': '+', '-....-': '-', '..--.-': '_', '.-..-.': '\"', '...-..-': '$', '.--.-.': '@', '...---...': 'SOS'}\n",
    "\n",
    "def decodeMorse(morse_code):\n",
    "    return ' '.join(filter(lambda w: w, (''.join(MORSE_CODE.get(c, '') for c in word.split()) for word in morse_code.split('   '))))\n",
    "\n",
    "print(decodeMorse('.... . -.--   .--- ..- -.. .'), 'HEY JUDE')\n",
    "print(decodeMorse('.... . f -.--    g    .--- ..- -.. .'), 'HEY JUDE')"
   ]
  },
  {
   "cell_type": "code",
   "execution_count": 7,
   "metadata": {},
   "outputs": [
    {
     "data": {
      "text/plain": [
       "['',\n",
       " '',\n",
       " '',\n",
       " '',\n",
       " '....',\n",
       " '.',\n",
       " '-.--',\n",
       " '',\n",
       " '',\n",
       " '',\n",
       " '',\n",
       " '',\n",
       " '.---',\n",
       " '..-',\n",
       " '-..',\n",
       " '.',\n",
       " '',\n",
       " '',\n",
       " '',\n",
       " '']"
      ]
     },
     "execution_count": 7,
     "metadata": {},
     "output_type": "execute_result"
    }
   ],
   "source": [
    "'    .... . -.--      .--- ..- -.. .    '.split(' ')"
   ]
  },
  {
   "cell_type": "code",
   "execution_count": 9,
   "metadata": {},
   "outputs": [
    {
     "name": "stdout",
     "output_type": "stream",
     "text": [
      "['....', '.', '-.--', '', '', '.---', '..-', '-..', '.']\n",
      "HEY JUDE HEY JUDE\n",
      "['', '', '', '', '....', '.', '-.--', '', '', '', '', '', '.---', '..-', '-..', '.', '', '', '', '']\n",
      "  HEY   JUDE   HEY JUDE\n",
      "['', '', '\\t', '', '....', '.', '-.--', '', '', '', '', '', '.---', '..-', '-..', '.', '', '', '', '']\n",
      "  HEY   JUDE   HEY JUDE\n",
      "['....', '.', 'f', '-.--', '', '', '', 'g', '', '', '', '.---', '..-', '-..', '.']\n",
      "HEY    JUDE HEY JUDE\n"
     ]
    }
   ],
   "source": [
    "MORSE_CODE = {'.-': 'A', '-...': 'B', '-.-.': 'C', '-..': 'D', '.': 'E', '..-.': 'F', '--.': 'G', '....': 'H', '..': 'I', '.---': 'J', '-.-': 'K', '.-..': 'L', '--': 'M', '-.': 'N', '---': 'O', '.--.': 'P', '--.-': 'Q', '.-.': 'R', '...': 'S', '-': 'T', '..-': 'U', '...-': 'V', '.--': 'W', '-..-': 'X', '-.--': 'Y', '--..': 'Z', '-----': '0', '.----': '1', '..---': '2', '...--': '3', '....-': '4', '.....': '5', '-....': '6', '--...': '7', '---..': '8', '----.': '9', '.-.-.-': '.', '--..--': ',', '..--..': '?', '.----.': \"'\", '-.-.--': '!', '-..-.': '/', '-.--.': '(', '-.--.-': ')', '.-...': '&', '---...': ':', '-.-.-.': ';', '-...-': '=', '.-.-.': '+', '-....-': '-', '..--.-': '_', '.-..-.': '\"', '...-..-': '$', '.--.-.': '@', '...---...': 'SOS'}\n",
    "\n",
    "def decodeMorse(morse_code):\n",
    "    res = ''\n",
    "    is_space = False\n",
    "    print(morse_code.split(' '))\n",
    "    for s in morse_code.split(' '):\n",
    "        if s == '' and is_space:\n",
    "            res += ' '\n",
    "            is_space = False\n",
    "        else:\n",
    "            res += MORSE_CODE.get(s, '')\n",
    "            is_space = True\n",
    "    return res\n",
    "            \n",
    "    \n",
    "print(decodeMorse('.... . -.--   .--- ..- -.. .'), 'HEY JUDE')\n",
    "print(decodeMorse('    .... . -.--      .--- ..- -.. .    '), 'HEY JUDE')\n",
    "print(decodeMorse('  \\t  .... . -.--      .--- ..- -.. .    '), 'HEY JUDE')\n",
    "print(decodeMorse('.... . f -.--    g    .--- ..- -.. .'), 'HEY JUDE')"
   ]
  },
  {
   "cell_type": "markdown",
   "metadata": {},
   "source": [
    "__Other users' solutions:__"
   ]
  },
  {
   "cell_type": "markdown",
   "metadata": {},
   "source": [
    "__#1__ Not pythonic but algorithmic!"
   ]
  },
  {
   "cell_type": "code",
   "execution_count": null,
   "metadata": {},
   "outputs": [],
   "source": [
    "def decodeMorse(morse_code):\n",
    "    human_readable = \"\"\n",
    "    space = 0\n",
    "    for mc in morse_code.split(\" \"):\n",
    "        if mc == '':\n",
    "            if space == 0:\n",
    "                human_readable += ' '\n",
    "                space = 1\n",
    "        else:\n",
    "            human_readable += MORSE_CODE[mc]\n",
    "            space = 0\n",
    "    return human_readable.strip()"
   ]
  },
  {
   "cell_type": "markdown",
   "metadata": {},
   "source": [
    "__#2__ Almost like mine"
   ]
  },
  {
   "cell_type": "code",
   "execution_count": null,
   "metadata": {},
   "outputs": [],
   "source": [
    "def decodeMorse(morseCode):\n",
    "    return ' '.join(''.join(MORSE_CODE[letter] for letter in word.split(' ')) for word in morseCode.strip().split('   '))"
   ]
  },
  {
   "cell_type": "markdown",
   "metadata": {},
   "source": [
    "__#3__ Witty and funny one!"
   ]
  },
  {
   "cell_type": "code",
   "execution_count": null,
   "metadata": {},
   "outputs": [],
   "source": [
    "def decodeMorse(morseCode):\n",
    "\n",
    "    morseCode = morseCode.strip().replace(\"   \", \" * \")\n",
    "\n",
    "    msg = \"\"\n",
    "    \n",
    "    for x in morseCode.split():\n",
    "        if x != \"*\":\n",
    "            msg += MORSE_CODE[x]\n",
    "        else:\n",
    "            msg += \" \"\n",
    "    \n",
    "    return msg"
   ]
  },
  {
   "cell_type": "markdown",
   "metadata": {},
   "source": [
    "20201107"
   ]
  },
  {
   "cell_type": "markdown",
   "metadata": {},
   "source": [
    "### Friend or Foe?\n",
    "https://www.codewars.com/kata/55b42574ff091733d900002f  \n",
    "7 kyu\n",
    "\n",
    "Make a program that filters a list of strings and returns a list with only your friends name in it.\n",
    "\n",
    "If a name has exactly 4 letters in it, you can be sure that it has to be a friend of yours! Otherwise, you can be sure he's not...\n",
    "\n",
    "Ex: Input = [\"Ryan\", \"Kieran\", \"Jason\", \"Yous\"], Output = [\"Ryan\", \"Yous\"]\n",
    "\n",
    "i.e.\n",
    "\n",
    "friend [\"Ryan\", \"Kieran\", \"Mark\"] `shouldBe` [\"Ryan\", \"Mark\"]\n",
    "\n",
    "Note: keep the original order of the names in the output."
   ]
  },
  {
   "cell_type": "markdown",
   "metadata": {},
   "source": [
    "__My solution:__"
   ]
  },
  {
   "cell_type": "code",
   "execution_count": 3,
   "metadata": {},
   "outputs": [
    {
     "name": "stdout",
     "output_type": "stream",
     "text": [
      "['Ryan', 'Mark'] ['Ryan', 'Mark']\n"
     ]
    }
   ],
   "source": [
    "def friend(x):\n",
    "    return list(filter(lambda name: len(name) == 4, x))\n",
    "    \n",
    "print(friend([\"Ryan\", \"Kieran\", \"Mark\",]), [\"Ryan\", \"Mark\"])"
   ]
  },
  {
   "cell_type": "markdown",
   "metadata": {},
   "source": [
    "### Array plus array\n",
    "https://www.codewars.com/kata/5a2be17aee1aaefe2a000151  \n",
    "8 kyu\n",
    "\n",
    "I'm new to coding and now I want to get the sum of two arrays...actually the sum of all their elements. I'll appreciate for your help.\n",
    "\n",
    "P.S. Each array includes only integer numbers. Output is a number too."
   ]
  },
  {
   "cell_type": "markdown",
   "metadata": {},
   "source": [
    "__My solutions:__"
   ]
  },
  {
   "cell_type": "markdown",
   "metadata": {},
   "source": [
    "__#1__"
   ]
  },
  {
   "cell_type": "code",
   "execution_count": 4,
   "metadata": {},
   "outputs": [
    {
     "name": "stdout",
     "output_type": "stream",
     "text": [
      "21 21\n",
      "-21 -21\n",
      "15 15\n",
      "2100 2100\n"
     ]
    }
   ],
   "source": [
    "def array_plus_array(arr1, arr2):\n",
    "    return sum(arr1) + sum(arr2)\n",
    "\n",
    "print(array_plus_array([1, 2, 3], [4, 5, 6]), 21)\n",
    "print(array_plus_array([-1, -2, -3], [-4, -5, -6]), -21)\n",
    "print(array_plus_array([0, 0, 0], [4, 5, 6]), 15)\n",
    "print(array_plus_array([100, 200, 300], [400, 500, 600]), 2100)"
   ]
  },
  {
   "cell_type": "markdown",
   "metadata": {},
   "source": [
    "__#2__"
   ]
  },
  {
   "cell_type": "code",
   "execution_count": 5,
   "metadata": {},
   "outputs": [
    {
     "name": "stdout",
     "output_type": "stream",
     "text": [
      "21 21\n",
      "-21 -21\n",
      "15 15\n",
      "2100 2100\n"
     ]
    }
   ],
   "source": [
    "from itertools import chain\n",
    "\n",
    "def array_plus_array(arr1, arr2):\n",
    "    return sum(chain(arr1, arr2))\n",
    "\n",
    "print(array_plus_array([1, 2, 3], [4, 5, 6]), 21)\n",
    "print(array_plus_array([-1, -2, -3], [-4, -5, -6]), -21)\n",
    "print(array_plus_array([0, 0, 0], [4, 5, 6]), 15)\n",
    "print(array_plus_array([100, 200, 300], [400, 500, 600]), 2100)"
   ]
  },
  {
   "cell_type": "markdown",
   "metadata": {},
   "source": [
    "20201108"
   ]
  },
  {
   "cell_type": "markdown",
   "metadata": {},
   "source": [
    "### Who is the killer?\n",
    "https://www.codewars.com/kata/5f709c8fb0d88300292a7a9d  \n",
    "7 kyu\n",
    "\n",
    "Some people have been killed!  \n",
    "You have managed to narrow the suspects down to just a few. Luckily, you know every person who those suspects have seen on the day of the murders.\n",
    "\n",
    "Task.  \n",
    "Given a dictionary with all the names of the suspects and everyone that they have seen on that day which may look like this:\n",
    "\n",
    "{'James': ['Jacob', 'Bill', 'Lucas'],  \n",
    " 'Johnny': ['David', 'Kyle', 'Lucas'],  \n",
    " 'Peter': ['Lucy', 'Kyle']}\n",
    " \n",
    "and also a list of the names of the dead people:\n",
    "\n",
    "['Lucas', 'Bill']  \n",
    "return the name of the one killer, in our case 'James' because he is the only person that saw both 'Lucas' and 'Bill'"
   ]
  },
  {
   "cell_type": "markdown",
   "metadata": {},
   "source": [
    "__My solution:__"
   ]
  },
  {
   "cell_type": "code",
   "execution_count": 14,
   "metadata": {},
   "outputs": [
    {
     "name": "stdout",
     "output_type": "stream",
     "text": [
      "James James\n",
      "Megan Megan\n"
     ]
    }
   ],
   "source": [
    "def killer(suspect_info, dead):\n",
    "    dead = set(dead)\n",
    "    return next(filter(lambda name: dead <= set(suspect_info[name]), suspect_info), None)\n",
    "\n",
    "print(killer({'James': ['Jacob', 'Bill', 'Lucas'], 'Johnny': ['David', 'Kyle', 'Lucas'], 'Peter': ['Lucy', 'Kyle']}, ['Lucas', 'Bill']), 'James')\n",
    "print(killer({'Brad': [], 'Megan': ['Ben', 'Kevin'], 'Finn': []}, ['Ben']), 'Megan')"
   ]
  },
  {
   "cell_type": "code",
   "execution_count": 13,
   "metadata": {},
   "outputs": [
    {
     "name": "stdout",
     "output_type": "stream",
     "text": [
      "True\n",
      "True\n",
      "False\n"
     ]
    }
   ],
   "source": [
    "a = {1, 2, 3}\n",
    "print({1, 2} <= {1, 2, 3})\n",
    "print({1, 2} < {1, 2, 3})\n",
    "print({1, 4} < {1, 2, 3})"
   ]
  },
  {
   "cell_type": "markdown",
   "metadata": {},
   "source": [
    "__Other users' solution:__"
   ]
  },
  {
   "cell_type": "markdown",
   "metadata": {},
   "source": [
    "__#1__"
   ]
  },
  {
   "cell_type": "code",
   "execution_count": 21,
   "metadata": {},
   "outputs": [
    {
     "name": "stdout",
     "output_type": "stream",
     "text": [
      "James James\n",
      "Megan Megan\n",
      "Megan Megan\n"
     ]
    }
   ],
   "source": [
    "def killer(suspect_info, dead):\n",
    "    is_all_killed_in = set(dead).issubset\n",
    "    return next((name for name, seen in suspect_info.items() if is_all_killed_in(seen)), None)\n",
    "\n",
    "print(killer({'James': ['Jacob', 'Bill', 'Lucas'], 'Johnny': ['David', 'Kyle', 'Lucas'], 'Peter': ['Lucy', 'Kyle']}, ['Lucas', 'Bill']), 'James')\n",
    "print(killer({'Brad': [], 'Megan': ['Ben', 'Kevin'], 'Finn': []}, ['Ben']), 'Megan')\n",
    "print(killer({'Brad': [], 'Megan': ['Ben'], 'Finn': []}, ['Ben']), 'Megan')"
   ]
  },
  {
   "cell_type": "markdown",
   "metadata": {},
   "source": [
    "__#2__"
   ]
  },
  {
   "cell_type": "code",
   "execution_count": 20,
   "metadata": {},
   "outputs": [
    {
     "name": "stdout",
     "output_type": "stream",
     "text": [
      "James James\n",
      "Megan Megan\n",
      "Megan Megan\n"
     ]
    }
   ],
   "source": [
    "def killer(suspect_info, dead):\n",
    "    for name, seen in suspect_info.items():\n",
    "        if set(dead) <= set(seen):\n",
    "            return name\n",
    "    \n",
    "print(killer({'James': ['Jacob', 'Bill', 'Lucas'], 'Johnny': ['David', 'Kyle', 'Lucas'], 'Peter': ['Lucy', 'Kyle']}, ['Lucas', 'Bill']), 'James')\n",
    "print(killer({'Brad': [], 'Megan': ['Ben', 'Kevin'], 'Finn': []}, ['Ben']), 'Megan')\n",
    "print(killer({'Brad': [], 'Megan': ['Ben'], 'Finn': []}, ['Ben']), 'Megan')"
   ]
  },
  {
   "cell_type": "markdown",
   "metadata": {},
   "source": [
    "__#3__"
   ]
  },
  {
   "cell_type": "code",
   "execution_count": 22,
   "metadata": {},
   "outputs": [
    {
     "name": "stdout",
     "output_type": "stream",
     "text": [
      "James James\n",
      "Megan Megan\n",
      "Megan Megan\n"
     ]
    }
   ],
   "source": [
    "def killer(suspect_info, dead):\n",
    "    return next(filter(lambda name: any(d in suspect_info[name] for d in dead), suspect_info), None)\n",
    "    \n",
    "print(killer({'James': ['Jacob', 'Bill', 'Lucas'], 'Johnny': ['David', 'Kyle', 'Lucas'], 'Peter': ['Lucy', 'Kyle']}, ['Lucas', 'Bill']), 'James')\n",
    "print(killer({'Brad': [], 'Megan': ['Ben', 'Kevin'], 'Finn': []}, ['Ben']), 'Megan')\n",
    "print(killer({'Brad': [], 'Megan': ['Ben'], 'Finn': []}, ['Ben']), 'Megan')"
   ]
  },
  {
   "cell_type": "code",
   "execution_count": null,
   "metadata": {},
   "outputs": [],
   "source": [
    "def killer(suspect_info, dead):\n",
    "    for x in suspect_info:\n",
    "        if all(people in suspect_info[x] for people in dead):\n",
    "            return x"
   ]
  },
  {
   "cell_type": "markdown",
   "metadata": {},
   "source": [
    "20201109"
   ]
  },
  {
   "cell_type": "code",
   "execution_count": 2,
   "metadata": {},
   "outputs": [
    {
     "data": {
      "text/plain": [
       "<object at 0x433e190>"
      ]
     },
     "execution_count": 2,
     "metadata": {},
     "output_type": "execute_result"
    }
   ],
   "source": [
    "a = object()\n",
    "a"
   ]
  },
  {
   "cell_type": "code",
   "execution_count": 3,
   "metadata": {},
   "outputs": [
    {
     "data": {
      "text/plain": [
       "70508944"
      ]
     },
     "execution_count": 3,
     "metadata": {},
     "output_type": "execute_result"
    }
   ],
   "source": [
    "id(a)"
   ]
  },
  {
   "cell_type": "code",
   "execution_count": 4,
   "metadata": {},
   "outputs": [
    {
     "data": {
      "text/plain": [
       "object"
      ]
     },
     "execution_count": 4,
     "metadata": {},
     "output_type": "execute_result"
    }
   ],
   "source": [
    "type(a)"
   ]
  },
  {
   "cell_type": "markdown",
   "metadata": {},
   "source": [
    "### Sum of Digits / Digital Root\n",
    "https://www.codewars.com/kata/541c8630095125aba6000c00  \n",
    "6 kyu\n",
    "\n",
    "Digital root is the recursive sum of all the digits in a number.\n",
    "\n",
    "Given n, take the sum of the digits of n. If that value has more than one digit, continue reducing in this way until a single-digit number is produced. The input will be a non-negative integer.\n",
    "\n",
    "Examples  \n",
    "    16  -->  1 + 6 = 7  \n",
    "   942  -->  9 + 4 + 2 = 15  -->  1 + 5 = 6  \n",
    "132189  -->  1 + 3 + 2 + 1 + 8 + 9 = 24  -->  2 + 4 = 6  \n",
    "493193  -->  4 + 9 + 3 + 1 + 9 + 3 = 29  -->  2 + 9 = 11  -->  1 + 1 = 2"
   ]
  },
  {
   "cell_type": "markdown",
   "metadata": {},
   "source": [
    "__My solution:__"
   ]
  },
  {
   "cell_type": "code",
   "execution_count": 1,
   "metadata": {},
   "outputs": [
    {
     "name": "stdout",
     "output_type": "stream",
     "text": [
      "7 7\n",
      "6 6\n",
      "6 6\n",
      "2 2\n"
     ]
    }
   ],
   "source": [
    "def digital_root(n):\n",
    "    n = str(n)\n",
    "    while len(n) != 1:\n",
    "        n = sum(int(d) for d in n)\n",
    "        n = str(n)\n",
    "    return int(n)\n",
    "\n",
    "print(digital_root(16), 7)\n",
    "print(digital_root(942), 6)\n",
    "print(digital_root(132189), 6)\n",
    "print(digital_root(493193), 2)"
   ]
  },
  {
   "cell_type": "markdown",
   "metadata": {},
   "source": [
    "Almost the same:"
   ]
  },
  {
   "cell_type": "code",
   "execution_count": 2,
   "metadata": {},
   "outputs": [
    {
     "name": "stdout",
     "output_type": "stream",
     "text": [
      "7 7\n",
      "6 6\n",
      "6 6\n",
      "2 2\n"
     ]
    }
   ],
   "source": [
    "def digital_root(n):\n",
    "    while n >= 10:\n",
    "        n = sum(int(d) for d in str(n))\n",
    "    return n\n",
    "\n",
    "print(digital_root(16), 7)\n",
    "print(digital_root(942), 6)\n",
    "print(digital_root(132189), 6)\n",
    "print(digital_root(493193), 2)"
   ]
  },
  {
   "cell_type": "markdown",
   "metadata": {},
   "source": [
    "__Other users' solutions:__"
   ]
  },
  {
   "cell_type": "markdown",
   "metadata": {},
   "source": [
    "__#1__"
   ]
  },
  {
   "cell_type": "code",
   "execution_count": null,
   "metadata": {},
   "outputs": [],
   "source": [
    "def digital_root(n):\n",
    "    return n if n < 10 else digital_root(sum(map(int, str(n))))"
   ]
  },
  {
   "cell_type": "markdown",
   "metadata": {},
   "source": [
    "__#2__"
   ]
  },
  {
   "cell_type": "code",
   "execution_count": 3,
   "metadata": {},
   "outputs": [],
   "source": [
    "def digital_root(n):\n",
    "    while n > 9:\n",
    "        n = sum(map(int, str(n)))\n",
    "    return n"
   ]
  },
  {
   "cell_type": "markdown",
   "metadata": {},
   "source": [
    "__#3__"
   ]
  },
  {
   "cell_type": "code",
   "execution_count": 16,
   "metadata": {},
   "outputs": [
    {
     "name": "stdout",
     "output_type": "stream",
     "text": [
      "7 7\n",
      "6 6\n",
      "6 6\n",
      "2 2\n"
     ]
    }
   ],
   "source": [
    "def digital_root(n):\n",
    "    #return n % 9 or n and 9\n",
    "    #return (n % 9 or n) and (n and 9) # другой результат тестов\n",
    "    #return n % 9 or (n and 9)  # тот же результат тестов \n",
    "    #return (n % 9) or (n and 9) # тот же результат тестов\n",
    "    return n % 9\n",
    "\n",
    "print(digital_root(16), 7)\n",
    "print(digital_root(942), 6)\n",
    "print(digital_root(132189), 6)\n",
    "print(digital_root(493193), 2)"
   ]
  },
  {
   "cell_type": "markdown",
   "metadata": {},
   "source": [
    "If we want to find the remainder after dividing by 9:\n",
    "\n",
    "7342 % 9  \n",
    "7000 % 9 + 300 % 9 + 40 % 9 + 2 % 9  \n",
    "7 + 3 + 4 + 2  \n",
    "16  \n",
    "\n",
    "16 % 9  \n",
    "10 % 9 + 6 % 9  \n",
    "1 + 6  \n",
    "7\n",
    "\n",
    "In other words, the algorithm to find \"% 9\" perfectly mimics the algorithm to find the digital root... with one exception. If the number is divisible by 9, the modulus is 0:\n",
    "\n",
    "18 % 9  \n",
    "10 % 9 + 8 % 9  \n",
    "1 + 8  \n",
    "9  \n",
    "\n",
    "9 % 9  \n",
    "0"
   ]
  },
  {
   "cell_type": "code",
   "execution_count": 2,
   "metadata": {},
   "outputs": [
    {
     "data": {
      "text/plain": [
       "7"
      ]
     },
     "execution_count": 2,
     "metadata": {},
     "output_type": "execute_result"
    }
   ],
   "source": [
    "16 % 9"
   ]
  },
  {
   "cell_type": "code",
   "execution_count": 4,
   "metadata": {},
   "outputs": [
    {
     "data": {
      "text/plain": [
       "7"
      ]
     },
     "execution_count": 4,
     "metadata": {},
     "output_type": "execute_result"
    }
   ],
   "source": [
    "7 or 9"
   ]
  },
  {
   "cell_type": "code",
   "execution_count": 5,
   "metadata": {},
   "outputs": [
    {
     "data": {
      "text/plain": [
       "9"
      ]
     },
     "execution_count": 5,
     "metadata": {},
     "output_type": "execute_result"
    }
   ],
   "source": [
    "7 and 9"
   ]
  },
  {
   "cell_type": "code",
   "execution_count": 14,
   "metadata": {},
   "outputs": [
    {
     "data": {
      "text/plain": [
       "9"
      ]
     },
     "execution_count": 14,
     "metadata": {},
     "output_type": "execute_result"
    }
   ],
   "source": [
    "16 and 9"
   ]
  },
  {
   "cell_type": "code",
   "execution_count": 13,
   "metadata": {},
   "outputs": [
    {
     "data": {
      "text/plain": [
       "0"
      ]
     },
     "execution_count": 13,
     "metadata": {},
     "output_type": "execute_result"
    }
   ],
   "source": [
    "16 & 9  # не тож же самое, что и 16 and 9"
   ]
  },
  {
   "cell_type": "code",
   "execution_count": 15,
   "metadata": {},
   "outputs": [
    {
     "data": {
      "text/plain": [
       "9"
      ]
     },
     "execution_count": 15,
     "metadata": {},
     "output_type": "execute_result"
    }
   ],
   "source": [
    "6 and 9"
   ]
  },
  {
   "cell_type": "code",
   "execution_count": 17,
   "metadata": {},
   "outputs": [
    {
     "data": {
      "text/plain": [
       "0"
      ]
     },
     "execution_count": 17,
     "metadata": {},
     "output_type": "execute_result"
    }
   ],
   "source": [
    "0 and 9"
   ]
  },
  {
   "cell_type": "code",
   "execution_count": 18,
   "metadata": {},
   "outputs": [
    {
     "data": {
      "text/plain": [
       "9"
      ]
     },
     "execution_count": 18,
     "metadata": {},
     "output_type": "execute_result"
    }
   ],
   "source": [
    "0 or 9"
   ]
  },
  {
   "cell_type": "markdown",
   "metadata": {},
   "source": [
    "__#4__"
   ]
  },
  {
   "cell_type": "code",
   "execution_count": null,
   "metadata": {},
   "outputs": [],
   "source": [
    "def digital_root(n):\n",
    "    while n >= 10:\n",
    "        n = sum(divmod(n, 10))\n",
    "    return n"
   ]
  },
  {
   "cell_type": "code",
   "execution_count": 21,
   "metadata": {},
   "outputs": [
    {
     "data": {
      "text/plain": [
       "(16, 6)"
      ]
     },
     "execution_count": 21,
     "metadata": {},
     "output_type": "execute_result"
    }
   ],
   "source": [
    "divmod(166, 10)"
   ]
  },
  {
   "cell_type": "code",
   "execution_count": 22,
   "metadata": {},
   "outputs": [
    {
     "data": {
      "text/plain": [
       "(1, 6)"
      ]
     },
     "execution_count": 22,
     "metadata": {},
     "output_type": "execute_result"
    }
   ],
   "source": [
    "divmod(16, 10)"
   ]
  },
  {
   "cell_type": "markdown",
   "metadata": {},
   "source": [
    "20201110"
   ]
  },
  {
   "cell_type": "markdown",
   "metadata": {},
   "source": [
    "### Unique In Order\n",
    "https://www.codewars.com/kata/54e6533c92449cc251001667  \n",
    "6 kyu\n",
    "\n",
    "Implement the function unique_in_order which takes as argument a sequence and returns a list of items without any elements with the same value next to each other and preserving the original order of elements.\n",
    "\n",
    "For example:\n",
    "\n",
    "unique_in_order('AAAABBBCCDAABBB') == ['A', 'B', 'C', 'D', 'A', 'B']  \n",
    "unique_in_order('ABBCcAD')         == ['A', 'B', 'C', 'c', 'A', 'D']  \n",
    "unique_in_order([1,2,2,3,3])       == [1,2,3]"
   ]
  },
  {
   "cell_type": "markdown",
   "metadata": {},
   "source": [
    "__My solution:__"
   ]
  },
  {
   "cell_type": "code",
   "execution_count": 26,
   "metadata": {},
   "outputs": [
    {
     "name": "stdout",
     "output_type": "stream",
     "text": [
      "['A', 'B', 'C', 'D', 'A', 'B'] ['A', 'B', 'C', 'D', 'A', 'B']\n",
      "[None, 1, 2, 3] [None, 1, 2, 3]\n"
     ]
    }
   ],
   "source": [
    "from itertools import groupby\n",
    "\n",
    "def unique_in_order(iterable):\n",
    "    return list(k for k, g in groupby(iterable))\n",
    "\n",
    "print(unique_in_order('AAAABBBCCDAABBB'), ['A','B','C','D','A','B'])\n",
    "print(unique_in_order([None, None, None, 1, 1, 1, 2, 2, 2, 3, 3, 3]), [None, 1, 2, 3])\n"
   ]
  },
  {
   "cell_type": "markdown",
   "metadata": {},
   "source": [
    "groupby() is roughly equivalent to:"
   ]
  },
  {
   "cell_type": "code",
   "execution_count": null,
   "metadata": {},
   "outputs": [],
   "source": [
    "class groupby:\n",
    "    # [k for k, g in groupby('AAAABBBCCDAABBB')] --> A B C D A B\n",
    "    # [list(g) for k, g in groupby('AAAABBBCCD')] --> AAAA BBB CC D\n",
    "    def __init__(self, iterable, key=None):\n",
    "        if key is None:\n",
    "            key = lambda x: x\n",
    "        self.keyfunc = key\n",
    "        self.it = iter(iterable)\n",
    "        self.tgtkey = self.currkey = self.currvalue = object()\n",
    "    def __iter__(self):\n",
    "        return self\n",
    "    def __next__(self):\n",
    "        self.id = object()\n",
    "        while self.currkey == self.tgtkey:\n",
    "            self.currvalue = next(self.it)    # Exit on StopIteration\n",
    "            self.currkey = self.keyfunc(self.currvalue)\n",
    "        self.tgtkey = self.currkey\n",
    "        return (self.currkey, self._grouper(self.tgtkey, self.id))\n",
    "    def _grouper(self, tgtkey, id):\n",
    "        while self.id is id and self.currkey == tgtkey:\n",
    "            yield self.currvalue\n",
    "            try:\n",
    "                self.currvalue = next(self.it)\n",
    "            except StopIteration:\n",
    "                return\n",
    "            self.currkey = self.keyfunc(self.currvalue)"
   ]
  },
  {
   "cell_type": "markdown",
   "metadata": {},
   "source": [
    "__Other users' solutions:__"
   ]
  },
  {
   "cell_type": "markdown",
   "metadata": {},
   "source": [
    "__#1__ But this code cannot handle the following sequence:\n",
    "\n",
    "iterable = [None, None, None, 1, 1, 1, 2, 2, 2, 3, 3, 3]"
   ]
  },
  {
   "cell_type": "code",
   "execution_count": 25,
   "metadata": {},
   "outputs": [
    {
     "name": "stdout",
     "output_type": "stream",
     "text": [
      "[1, 2, 3] [None, 1, 2, 3]\n"
     ]
    }
   ],
   "source": [
    "def unique_in_order(iterable):\n",
    "    result = []\n",
    "    prev = None\n",
    "    for char in iterable:\n",
    "        if char != prev:\n",
    "            result.append(char)\n",
    "            prev = char\n",
    "    return result\n",
    "\n",
    "print(unique_in_order([None, None, None, 1, 1, 1, 2, 2, 2, 3, 3, 3]), [None, 1, 2, 3])\n"
   ]
  },
  {
   "cell_type": "markdown",
   "metadata": {},
   "source": [
    "20201111"
   ]
  },
  {
   "cell_type": "markdown",
   "metadata": {},
   "source": [
    "### Find the stray number\n",
    "https://www.codewars.com/kata/57f609022f4d534f05000024  \n",
    "7 kyu\n",
    "\n",
    "You are given an odd-length array of integers, in which all of them are the same, except for one single number.\n",
    "\n",
    "Complete the method which accepts such an array, and returns that single different number.\n",
    "\n",
    "The input array will always be valid! (odd-length >= 3)\n",
    "\n",
    "Examples  \n",
    "[1, 1, 2] ==> 2  \n",
    "[17, 17, 3, 17, 17, 17, 17] ==> 3"
   ]
  },
  {
   "cell_type": "markdown",
   "metadata": {},
   "source": [
    "__My solutions:__"
   ]
  },
  {
   "cell_type": "markdown",
   "metadata": {},
   "source": [
    "__#1__"
   ]
  },
  {
   "cell_type": "code",
   "execution_count": 27,
   "metadata": {},
   "outputs": [
    {
     "name": "stdout",
     "output_type": "stream",
     "text": [
      "2 2\n",
      "3 3\n",
      "3 3\n"
     ]
    }
   ],
   "source": [
    "def stray(arr):\n",
    "    if arr[0] == arr[1]:\n",
    "        return next(arr[i] for i in range(2, len(arr)) if arr[i] != arr[0])\n",
    "    else:\n",
    "        return arr[0] if arr[0] != arr[2] else arr[1]            \n",
    "\n",
    "\n",
    "print(stray([1, 1, 1, 1, 1, 1, 2]), 2)\n",
    "print(stray([2, 3, 2, 2, 2]), 3)\n",
    "print(stray([3, 2, 2, 2, 2]), 3)"
   ]
  },
  {
   "cell_type": "markdown",
   "metadata": {},
   "source": [
    "Almost the same:"
   ]
  },
  {
   "cell_type": "code",
   "execution_count": null,
   "metadata": {},
   "outputs": [],
   "source": [
    "def stray(arr):\n",
    "    if arr[0] == arr[1]:\n",
    "        for i in range(2, len(arr)):\n",
    "            if arr[i] != arr[0]:\n",
    "                return arr[i]\n",
    "    else:\n",
    "        return arr[0] if arr[0] != arr[2] else arr[1]            \n",
    "\n",
    "\n",
    "print(stray([1, 1, 1, 1, 1, 1, 2]), 2)\n",
    "print(stray([2, 3, 2, 2, 2]), 3)\n",
    "print(stray([3, 2, 2, 2, 2]), 3)"
   ]
  },
  {
   "cell_type": "markdown",
   "metadata": {},
   "source": [
    "__#2__ Mika's solution:"
   ]
  },
  {
   "cell_type": "code",
   "execution_count": 29,
   "metadata": {},
   "outputs": [
    {
     "name": "stdout",
     "output_type": "stream",
     "text": [
      "2 2\n",
      "3 3\n",
      "3 3\n"
     ]
    }
   ],
   "source": [
    "def stray(arr):\n",
    "    arr_s = sorted(arr)\n",
    "    return arr_s[-1] if arr_s[0] == arr_s[1] else arr_s[0]\n",
    "    \n",
    "print(stray([1, 1, 1, 1, 1, 1, 2]), 2)\n",
    "print(stray([2, 3, 2, 2, 2]), 3)\n",
    "print(stray([3, 2, 2, 2, 2]), 3)"
   ]
  },
  {
   "cell_type": "markdown",
   "metadata": {},
   "source": [
    "__#3__"
   ]
  },
  {
   "cell_type": "code",
   "execution_count": 34,
   "metadata": {},
   "outputs": [
    {
     "name": "stdout",
     "output_type": "stream",
     "text": [
      "2 2\n",
      "3 3\n",
      "3 3\n"
     ]
    }
   ],
   "source": [
    "from collections import Counter\n",
    "\n",
    "def stray(arr):\n",
    "    return Counter(arr).most_common()[1][0]\n",
    "\n",
    "print(stray([1, 1, 1, 1, 1, 1, 2]), 2)\n",
    "print(stray([2, 3, 2, 2, 2]), 3)\n",
    "print(stray([3, 2, 2, 2, 2]), 3)"
   ]
  },
  {
   "cell_type": "code",
   "execution_count": 40,
   "metadata": {},
   "outputs": [
    {
     "name": "stdout",
     "output_type": "stream",
     "text": [
      "[3, 3, 3, 3, 3, 3, 3, 3, 3, 3, 17]\n",
      "47\n",
      "15 2\n",
      "2 13\n"
     ]
    }
   ],
   "source": [
    "a = [3] * 10 + [17]\n",
    "print(a)\n",
    "\n",
    "S = sum(a)\n",
    "print(S)\n",
    "\n",
    "div, mod = divmod(S, a[0])\n",
    "print(div, mod)\n",
    "\n",
    "div, mod = divmod(S, a[-1])\n",
    "print(div, mod)"
   ]
  },
  {
   "cell_type": "markdown",
   "metadata": {},
   "source": [
    "20201113"
   ]
  },
  {
   "cell_type": "markdown",
   "metadata": {},
   "source": [
    "### Roman Numerals Decoder\n",
    "https://www.codewars.com/kata/51b6249c4612257ac0000005  \n",
    "6 kyu\n",
    "\n",
    "Create a function that takes a Roman numeral as its argument and returns its value as a numeric decimal integer. You don't need to validate the form of the Roman numeral.\n",
    "\n",
    "Modern Roman numerals are written by expressing each decimal digit of the number to be encoded separately, starting with the leftmost digit and skipping any 0s. So 1990 is rendered \"MCMXC\" (1000 = M, 900 = CM, 90 = XC) and 2008 is rendered \"MMVIII\" (2000 = MM, 8 = VIII). The Roman numeral for 1666, \"MDCLXVI\", uses each letter in descending order.\n",
    "\n",
    "Example:\n",
    "\n",
    "solution('XXI') # should return 21\n",
    "\n",
    "Help:\n",
    "\n",
    "Symbol    Value  \n",
    "I          1  \n",
    "V          5  \n",
    "X          10  \n",
    "L          50  \n",
    "C          100  \n",
    "D          500  \n",
    "M          1,000  "
   ]
  },
  {
   "cell_type": "code",
   "execution_count": 24,
   "metadata": {},
   "outputs": [
    {
     "name": "stdout",
     "output_type": "stream",
     "text": [
      "21 21 XXI should == 21\n",
      "1 1 I should == 1\n",
      "4 4 IV should == 4\n",
      "2008 2008 MMVIII should == 2008\n",
      "1666 1666 MDCLXVI should == 1666\n"
     ]
    }
   ],
   "source": [
    "romans = {'I': 1, 'V': 5, 'X': 10, 'L': 50, 'C': 100, 'D': 500, 'M': 1000}\n",
    "\n",
    "def solution(roman):\n",
    "    \"\"\"Transforms the roman numeral into an integer\"\"\"\n",
    "    decimal = 0\n",
    "    prev = 0\n",
    "    for d in reversed(roman):\n",
    "        cur = romans[d]\n",
    "        if cur < prev:\n",
    "            decimal -= cur\n",
    "        else:\n",
    "            decimal += cur\n",
    "        prev = cur\n",
    "    return decimal\n",
    "    \n",
    "print(solution('XXI'), 21, 'XXI should == 21')\n",
    "print(solution('I'), 1, 'I should == 1')\n",
    "print(solution('IV'), 4, 'IV should == 4')\n",
    "print(solution('MMVIII'), 2008, 'MMVIII should == 2008')\n",
    "print(solution('MDCLXVI'), 1666, 'MDCLXVI should == 1666')\n"
   ]
  },
  {
   "cell_type": "code",
   "execution_count": null,
   "metadata": {},
   "outputs": [],
   "source": []
  }
 ],
 "metadata": {
  "kernelspec": {
   "display_name": "Python 3",
   "language": "python",
   "name": "python3"
  },
  "language_info": {
   "codemirror_mode": {
    "name": "ipython",
    "version": 3
   },
   "file_extension": ".py",
   "mimetype": "text/x-python",
   "name": "python",
   "nbconvert_exporter": "python",
   "pygments_lexer": "ipython3",
   "version": "3.7.3"
  }
 },
 "nbformat": 4,
 "nbformat_minor": 2
}

{
 "cells": [
  {
   "cell_type": "markdown",
   "metadata": {},
   "source": [
    "## List Filtering\n",
    "\n",
    "In this kata you will create a function that takes a list of non-negative integers and strings and returns a new list with the strings filtered out.\n",
    "\n",
    "Example\n",
    "\n",
    "filter_list([1,2,'a','b']) == [1,2]\n",
    "\n",
    "filter_list([1,'a','b',0,15]) == [1,0,15]\n",
    "\n",
    "filter_list([1,2,'aasf','1','123',123]) == [1,2,123]"
   ]
  },
  {
   "cell_type": "code",
   "execution_count": 7,
   "metadata": {},
   "outputs": [
    {
     "name": "stdout",
     "output_type": "stream",
     "text": [
      "[1, 2]\n",
      "[1, 0, 15]\n",
      "[1, 2, 123]\n"
     ]
    }
   ],
   "source": [
    "def filter_list(l):\n",
    "    return [el for el in l if isinstance(el, int)]\n",
    "\n",
    "print(filter_list([1,2,'a','b']))\n",
    "print(filter_list([1,'a','b',0,15]))\n",
    "print(filter_list([1,2,'aasf','1','123',123]))"
   ]
  },
  {
   "cell_type": "code",
   "execution_count": 2,
   "metadata": {},
   "outputs": [
    {
     "name": "stdout",
     "output_type": "stream",
     "text": [
      "<class 'int'>\n"
     ]
    }
   ],
   "source": [
    "print(type(1))"
   ]
  },
  {
   "cell_type": "code",
   "execution_count": 3,
   "metadata": {},
   "outputs": [
    {
     "name": "stdout",
     "output_type": "stream",
     "text": [
      "True\n"
     ]
    }
   ],
   "source": [
    "print(type(1) == int)"
   ]
  },
  {
   "cell_type": "code",
   "execution_count": 4,
   "metadata": {},
   "outputs": [
    {
     "name": "stdout",
     "output_type": "stream",
     "text": [
      "True\n"
     ]
    }
   ],
   "source": [
    "print(isinstance(1, int))"
   ]
  },
  {
   "cell_type": "code",
   "execution_count": 5,
   "metadata": {},
   "outputs": [
    {
     "name": "stdout",
     "output_type": "stream",
     "text": [
      "False\n"
     ]
    }
   ],
   "source": [
    "print(isinstance('1', int))"
   ]
  },
  {
   "cell_type": "markdown",
   "metadata": {},
   "source": [
    "## Take a Ten Minute Walk\n",
    "\n",
    "You live in the city of Cartesia where all roads are laid out in a perfect grid. You arrived ten minutes too early to an appointment, so you decided to take the opportunity to go for a short walk. The city provides its citizens with a Walk Generating App on their phones -- everytime you press the button it sends you an array of one-letter strings representing directions to walk (eg. ['n', 's', 'w', 'e']). You always walk only a single block in a direction and you know it takes you one minute to traverse one city block, so create a function that will return true if the walk the app gives you will take you exactly ten minutes (you don't want to be early or late!) and will, of course, return you to your starting point. Return false otherwise.\n",
    "\n",
    "Note: you will always receive a valid array containing a random assortment of direction letters ('n', 's', 'e', or 'w' only). It will never give you an empty array (that's not a walk, that's standing still!)."
   ]
  },
  {
   "cell_type": "code",
   "execution_count": 15,
   "metadata": {},
   "outputs": [
    {
     "name": "stdout",
     "output_type": "stream",
     "text": [
      "True\n"
     ]
    }
   ],
   "source": [
    "def isValidWalk(walk):\n",
    "    #determine if walk is valid\n",
    "    return (walk.count('n') == walk.count('s')\n",
    "            and walk.count('e') == walk.count('w')\n",
    "            and len(walk) == 10)\n",
    "    \n",
    "print(isValidWalk(['n', 's', 'e', 'w', 'n', 's', 'e', 'w', 'n', 's']))"
   ]
  },
  {
   "cell_type": "markdown",
   "metadata": {},
   "source": [
    "## Delete occurrences of an element if it occurs more than n times\n",
    "\n",
    "## Enough is enough!\n",
    "Alice and Bob were on a holiday. Both of them took many pictures of the places they've been, and now they want to show Charlie their entire collection. However, Charlie doesn't like this sessions, since the motive usually repeats. He isn't fond of seeing the Eiffel tower 40 times. He tells them that he will only sit during the session if they show the same motive at most N times. Luckily, Alice and Bob are able to encode the motive as a number. Can you help them to remove numbers such that their list contains each number only up to N times, without changing the order?\n",
    "\n",
    "Task\n",
    "Given a list lst and a number N, create a new list that contains each number of lst at most N times without reordering. For example if N = 2, and the input is [1,2,3,1,2,1,2,3], you take [1,2,3,1,2], drop the next [1,2] since this would lead to 1 and 2 being in the result 3 times, and then take 3, which leads to [1,2,3,1,2,3].\n",
    "\n",
    "Example\n",
    "\n",
    "delete_nth ([1,1,1,1],2) # return [1,1]\n",
    "\n",
    "delete_nth ([20,37,20,21],1) # return [20,37,21]"
   ]
  },
  {
   "cell_type": "code",
   "execution_count": 14,
   "metadata": {},
   "outputs": [
    {
     "name": "stdout",
     "output_type": "stream",
     "text": [
      "[1, 1]\n",
      "[20, 37, 21]\n"
     ]
    }
   ],
   "source": [
    "def delete_nth(order, max_e):\n",
    "    res = []\n",
    "    countDic = {}\n",
    "    for x in order:\n",
    "        count = countDic.get(x, 0)\n",
    "        if count < max_e:\n",
    "            res.append(x)\n",
    "            countDic[x] = count + 1\n",
    "    return res\n",
    "\n",
    "print(delete_nth([1,1,1,1], 2))     # return [1,1]\n",
    "print(delete_nth([20,37,20,21], 1)) # return [20,37,21]           "
   ]
  },
  {
   "cell_type": "markdown",
   "metadata": {},
   "source": [
    "## Number of people in the bus\n",
    "\n",
    "There is a bus moving in the city, and it takes and drop some people in each bus stop.\n",
    "\n",
    "You are provided with a list (or array) of integer arrays (or tuples). Each integer array has two items which represent number of people get into bus (The first item) and number of people get off the bus (The second item) in a bus stop.\n",
    "\n",
    "Your task is to return number of people who are still in the bus after the last bus station (after the last array). Even though it is the last bus stop, the bus is not empty and some people are still in the bus, and they are probably sleeping there :D\n",
    "\n",
    "Take a look on the test cases.\n",
    "\n",
    "Please keep in mind that the test cases ensure that the number of people in the bus is always >= 0. So the return integer can't be negative.\n",
    "\n",
    "The second value in the first integer array is 0, since the bus is empty in the first bus stop."
   ]
  },
  {
   "cell_type": "code",
   "execution_count": 19,
   "metadata": {},
   "outputs": [
    {
     "name": "stdout",
     "output_type": "stream",
     "text": [
      "5 5\n",
      "17 17\n",
      "21 21\n"
     ]
    }
   ],
   "source": [
    "def number(bus_stops):\n",
    "    return sum([x[0] for x in bus_stops]) - sum([x[1] for x in bus_stops])\n",
    "\n",
    "print(number([[10,0],[3,5],[5,8]]),5)\n",
    "print(number([[3,0],[9,1],[4,10],[12,2],[6,1],[7,10]]),17)\n",
    "print(number([[3,0],[9,1],[4,8],[12,2],[6,1],[7,8]]),21)"
   ]
  },
  {
   "cell_type": "markdown",
   "metadata": {},
   "source": [
    "## Calculating with Functions\n",
    "\n",
    "This time we want to write calculations using functions and get the results. Let's have a look at some examples:\n",
    "\n",
    "seven(times(five())) # must return 35\n",
    "four(plus(nine())) # must return 13\n",
    "eight(minus(three())) # must return 5\n",
    "six(divided_by(two())) # must return 3\n",
    "Requirements:\n",
    "\n",
    "There must be a function for each number from 0 (\"zero\") to 9 (\"nine\")\n",
    "There must be a function for each of the following mathematical operations: plus, minus, times, dividedBy (divided_by in Ruby and Python)\n",
    "Each calculation consist of exactly one operation and two numbers\n",
    "The most outer function represents the left operand, the most inner function represents the right operand\n",
    "Divison should be integer division. For example, this should return 2, not 2.666666...:\n",
    "eight(divided_by(three()))"
   ]
  },
  {
   "cell_type": "code",
   "execution_count": 27,
   "metadata": {},
   "outputs": [
    {
     "name": "stdout",
     "output_type": "stream",
     "text": [
      "35 35\n",
      "13 13\n",
      "5 5\n",
      "3 3\n"
     ]
    }
   ],
   "source": [
    "def operand(digit, args):\n",
    "    if len(args) == 0:\n",
    "        return digit\n",
    "    else:\n",
    "        return eval(digit + args[0])\n",
    "\n",
    "def zero(*args):\n",
    "    return operand('0', args)\n",
    "\n",
    "def one(*args):\n",
    "    return operand('1', args)\n",
    "\n",
    "def two(*args):\n",
    "    return operand('2', args)\n",
    "\n",
    "def three(*args):\n",
    "    return operand('3', args)\n",
    "\n",
    "def four(*args):\n",
    "    return operand('4', args)\n",
    "\n",
    "def five(*args):\n",
    "    return operand('5', args)\n",
    "\n",
    "def six(*args):\n",
    "    return operand('6', args)\n",
    "\n",
    "def seven(*args):\n",
    "    return operand('7', args)\n",
    "\n",
    "def eight(*args):\n",
    "    return operand('8', args)\n",
    "\n",
    "def nine(*args):\n",
    "    return operand('9', args)\n",
    "\n",
    "def plus(arg):\n",
    "    return ('+' + arg)\n",
    "\n",
    "def minus(arg):\n",
    "    return ('-' + arg)\n",
    "\n",
    "def times(arg):\n",
    "    return ('*' + arg)\n",
    "\n",
    "def divided_by(arg):\n",
    "    return ('//' + arg)\n",
    "\n",
    "print(seven(times(five())), 35)\n",
    "print(four(plus(nine())), 13)\n",
    "print(eight(minus(three())), 5)\n",
    "print(six(divided_by(two())), 3)"
   ]
  },
  {
   "cell_type": "code",
   "execution_count": 21,
   "metadata": {},
   "outputs": [
    {
     "name": "stdout",
     "output_type": "stream",
     "text": [
      "<class 'int'>\n"
     ]
    }
   ],
   "source": [
    "print(type(eval('3' + '+4')))"
   ]
  },
  {
   "cell_type": "markdown",
   "metadata": {},
   "source": [
    "## Binary Addition\n",
    "\n",
    "Implement a function that adds two numbers together and returns their sum in binary. The conversion can be done before, or after the addition.\n",
    "\n",
    "The binary number returned should be a string."
   ]
  },
  {
   "cell_type": "code",
   "execution_count": 28,
   "metadata": {},
   "outputs": [
    {
     "name": "stdout",
     "output_type": "stream",
     "text": [
      "10\n"
     ]
    }
   ],
   "source": [
    "def add_binary(a, b):\n",
    "    return '{0:b}'.format(a + b)\n",
    "\n",
    "print(add_binary(1, 1))"
   ]
  },
  {
   "cell_type": "code",
   "execution_count": 30,
   "metadata": {},
   "outputs": [
    {
     "data": {
      "text/plain": [
       "'0b10'"
      ]
     },
     "execution_count": 30,
     "metadata": {},
     "output_type": "execute_result"
    }
   ],
   "source": [
    "a = 1\n",
    "b = 1\n",
    "\n",
    "bin(a + b)"
   ]
  },
  {
   "cell_type": "markdown",
   "metadata": {},
   "source": [
    "Подсмотрела этот вариант на codewars:"
   ]
  },
  {
   "cell_type": "code",
   "execution_count": 31,
   "metadata": {},
   "outputs": [
    {
     "name": "stdout",
     "output_type": "stream",
     "text": [
      "10\n"
     ]
    }
   ],
   "source": [
    "def add_binary(a, b):\n",
    "    #return str(bin(a) + bin(b)) # '0b10b1'\n",
    "    return bin(a + b)[2:]\n",
    "    \n",
    "print(add_binary(1, 1))"
   ]
  },
  {
   "cell_type": "markdown",
   "metadata": {},
   "source": [
    "Подсмотрела этот вариант на codewars:"
   ]
  },
  {
   "cell_type": "code",
   "execution_count": 32,
   "metadata": {},
   "outputs": [
    {
     "name": "stdout",
     "output_type": "stream",
     "text": [
      "10\n"
     ]
    }
   ],
   "source": [
    "def add_binary(a, b):\n",
    "    return format(a + b, 'b')\n",
    "\n",
    "print(add_binary(1, 1))"
   ]
  },
  {
   "cell_type": "markdown",
   "metadata": {},
   "source": [
    "## The Supermarket Queue\n",
    "\n",
    "There is a queue for the self-checkout tills at the supermarket. Your task is write a function to calculate the total time required for all the customers to check out!\n",
    "\n",
    "input\n",
    "\n",
    "customers: an array of positive integers representing the queue. Each integer represents a customer, and its value is the amount of time they require to check out.\n",
    "\n",
    "n: a positive integer, the number of checkout tills.\n",
    "\n",
    "output\n",
    "\n",
    "The function should return an integer, the total time required.\n",
    "\n",
    "Important\n",
    "\n",
    "Please look at the examples and clarifications below, to ensure you understand the task correctly :)\n",
    "\n",
    "Examples\n",
    "\n",
    "queue_time([5,3,4], 1) # should return 12 because when n=1, the total time is just the sum of the times\n",
    "\n",
    "queue_time([10,2,3,3], 2) # should return 10 because here n=2 and the 2nd, 3rd, and 4th people in the queue finish before the 1st person has finished.\n",
    "\n",
    "queue_time([2,3,10], 2) # should return 12\n",
    "\n",
    "Clarifications\n",
    "\n",
    "There is only ONE queue serving many tills, and\n",
    "The order of the queue NEVER changes, and\n",
    "\n",
    "The front person in the queue (i.e. the first \n",
    "element in the array/list) proceeds to a till as soon as it becomes free.\n",
    "\n",
    "N.B. You should assume that all the test input will be valid, as specified above."
   ]
  },
  {
   "cell_type": "markdown",
   "metadata": {},
   "source": [
    "Вариант 1:"
   ]
  },
  {
   "cell_type": "code",
   "execution_count": 36,
   "metadata": {},
   "outputs": [
    {
     "name": "stdout",
     "output_type": "stream",
     "text": [
      "15 15\n"
     ]
    }
   ],
   "source": [
    "def queue_time(customers, n):\n",
    "    if len(customers) == 0:\n",
    "        return 0\n",
    "    \n",
    "    queue = customers[:n]\n",
    "    for i in range(n, len(customers)):\n",
    "        queue[queue.index(min(queue))] += customers[i]\n",
    "    return max(queue)\n",
    "\n",
    "print(queue_time([1,2,3,4,5], 1), 15)"
   ]
  },
  {
   "cell_type": "markdown",
   "metadata": {},
   "source": [
    "Вариант 2:"
   ]
  },
  {
   "cell_type": "code",
   "execution_count": 37,
   "metadata": {},
   "outputs": [
    {
     "name": "stdout",
     "output_type": "stream",
     "text": [
      "15 15\n"
     ]
    }
   ],
   "source": [
    "def queue_time(customers, n):\n",
    "    if len(customers) == 0:\n",
    "        return 0\n",
    "    \n",
    "    queue = customers[:n]\n",
    "    for cust in customers[n:]:\n",
    "        queue[queue.index(min(queue))] += cust\n",
    "    return max(queue)\n",
    "\n",
    "print(queue_time([1,2,3,4,5], 1), 15)"
   ]
  },
  {
   "cell_type": "markdown",
   "metadata": {},
   "source": [
    "Вариант 3:"
   ]
  },
  {
   "cell_type": "code",
   "execution_count": 40,
   "metadata": {},
   "outputs": [
    {
     "name": "stdout",
     "output_type": "stream",
     "text": [
      "1 2\n"
     ]
    }
   ],
   "source": [
    "a = [4, 3, 1, 4, 1]\n",
    "minim, min_ind = min(((v, i)  for i, v in enumerate(a)))\n",
    "print(minim, min_ind)"
   ]
  },
  {
   "cell_type": "code",
   "execution_count": 43,
   "metadata": {},
   "outputs": [
    {
     "name": "stdout",
     "output_type": "stream",
     "text": [
      "15 15\n"
     ]
    }
   ],
   "source": [
    "def queue_time(customers, n):\n",
    "    if len(customers) == 0:\n",
    "        return 0\n",
    "    \n",
    "    queue = customers[:n]\n",
    "    for cust in customers[n:]:\n",
    "        minim, min_ind = min(((v, i)  for i, v in enumerate(queue)))\n",
    "        queue[min_ind] += cust\n",
    "    return max(queue)\n",
    "\n",
    "print(queue_time([1,2,3,4,5], 1), 15)"
   ]
  },
  {
   "cell_type": "markdown",
   "metadata": {},
   "source": [
    "Вариант 4:"
   ]
  },
  {
   "cell_type": "code",
   "execution_count": 95,
   "metadata": {},
   "outputs": [
    {
     "name": "stdout",
     "output_type": "stream",
     "text": [
      "15 15\n"
     ]
    }
   ],
   "source": [
    "def queue_time(customers, n):\n",
    "    if len(customers) == 0:\n",
    "        return 0\n",
    "    \n",
    "    queue = customers[:n]\n",
    "    for cust in customers[n:]:\n",
    "        min_ind, minim = min(enumerate(queue), key=lambda x: x[1])\n",
    "        queue[min_ind] += cust\n",
    "    return max(queue)\n",
    "\n",
    "print(queue_time([1,2,3,4,5], 1), 15)"
   ]
  },
  {
   "cell_type": "markdown",
   "metadata": {},
   "source": [
    "## String ends with?\n",
    "\n",
    "Complete the solution so that it returns true if the first argument(string) passed in ends with the 2nd argument (also a string).\n",
    "\n",
    "Examples:\n",
    "\n",
    "solution('abc', 'bc') # returns true\n",
    "\n",
    "solution('abc', 'd') # returns false"
   ]
  },
  {
   "cell_type": "code",
   "execution_count": 2,
   "metadata": {},
   "outputs": [
    {
     "name": "stdout",
     "output_type": "stream",
     "text": [
      "True\n",
      "False\n"
     ]
    }
   ],
   "source": [
    "def solution(string, ending):\n",
    "    return string.endswith(ending)\n",
    "\n",
    "print(solution('abc', 'bc')) # returns true\n",
    "print(solution('abc', 'd')) # returns false"
   ]
  },
  {
   "cell_type": "markdown",
   "metadata": {},
   "source": [
    "Решения, взятые с codewars:"
   ]
  },
  {
   "cell_type": "code",
   "execution_count": 3,
   "metadata": {},
   "outputs": [
    {
     "name": "stdout",
     "output_type": "stream",
     "text": [
      "True\n",
      "False\n"
     ]
    }
   ],
   "source": [
    "solution = lambda s, e: s.endswith(e)\n",
    "\n",
    "print(solution('abc', 'bc')) # returns true\n",
    "print(solution('abc', 'd')) # returns false"
   ]
  },
  {
   "cell_type": "code",
   "execution_count": 4,
   "metadata": {},
   "outputs": [
    {
     "name": "stdout",
     "output_type": "stream",
     "text": [
      "True\n",
      "False\n"
     ]
    }
   ],
   "source": [
    "solution = str.endswith\n",
    "\n",
    "print(solution('abc', 'bc')) # returns true\n",
    "print(solution('abc', 'd')) # returns false"
   ]
  },
  {
   "cell_type": "markdown",
   "metadata": {},
   "source": [
    "## Directions Reduction\n",
    "\n",
    "Once upon a time, on a way through the old wild west,…\n",
    "… a man was given directions to go from one point to another. The directions were \"NORTH\", \"SOUTH\", \"WEST\", \"EAST\". Clearly \"NORTH\" and \"SOUTH\" are opposite, \"WEST\" and \"EAST\" too. Going to one direction and coming back the opposite direction is a needless effort. Since this is the wild west, with dreadfull weather and not much water, it's important to save yourself some energy, otherwise you might die of thirst!\n",
    "\n",
    "How I crossed the desert the smart way.\n",
    "The directions given to the man are, for example, the following (depending on the language):\n",
    "\n",
    "[\"NORTH\", \"SOUTH\", \"SOUTH\", \"EAST\", \"WEST\", \"NORTH\", \"WEST\"].\n",
    "\n",
    "or\n",
    "\n",
    "{ \"NORTH\", \"SOUTH\", \"SOUTH\", \"EAST\", \"WEST\", \"NORTH\", \"WEST\" };\n",
    "\n",
    "or\n",
    "\n",
    "[North, South, South, East, West, North, West]\n",
    "\n",
    "You can immediatly see that going \"NORTH\" and then \"SOUTH\" is not reasonable, better stay to the same place! So the task is to give to the man a simplified version of the plan. A better plan in this case is simply:\n",
    "\n",
    "[\"WEST\"]\n",
    "or\n",
    "\n",
    "{ \"WEST\" }\n",
    "or\n",
    "\n",
    "[West]\n",
    "\n",
    "Other examples:\n",
    "\n",
    "In [\"NORTH\", \"SOUTH\", \"EAST\", \"WEST\"], the direction \"NORTH\" + \"SOUTH\" is going north and coming back right away. What a waste of time! Better to do nothing.\n",
    "\n",
    "The path becomes [\"EAST\", \"WEST\"], now \"EAST\" and \"WEST\" annihilate each other, therefore, the final result is [] (nil in Clojure).\n",
    "\n",
    "In [\"NORTH\", \"EAST\", \"WEST\", \"SOUTH\", \"WEST\", \"WEST\"], \"NORTH\" and \"SOUTH\" are not directly opposite but they become directly opposite after the reduction of \"EAST\" and \"WEST\" so the whole path is reducible to [\"WEST\", \"WEST\"].\n",
    "\n",
    "Task\n",
    "\n",
    "Write a function dirReduc which will take an array of strings and returns an array of strings with the needless directions removed (W<->E or S<->N side by side).\n",
    "\n",
    "The Haskell version takes a list of directions with data Direction = North | East | West | South.\n",
    "The Clojure version returns nil when the path is reduced to nothing.\n",
    "The Rust version takes a slice of enum Direction {NORTH, SOUTH, EAST, WEST}.\n",
    "\n",
    "See more examples in \"Sample Tests:\"\n",
    "\n",
    "Notes\n",
    "\n",
    "Not all paths can be made simpler. The path [\"NORTH\", \"WEST\", \"SOUTH\", \"EAST\"] is not reducible. \"NORTH\" and \"WEST\", \"WEST\" and \"SOUTH\", \"SOUTH\" and \"EAST\" are not directly opposite of each other and can't become such. Hence the result path is itself : [\"NORTH\", \"WEST\", \"SOUTH\", \"EAST\"].\n",
    "\n",
    "if you want to translate, please ask before translating."
   ]
  },
  {
   "cell_type": "code",
   "execution_count": 6,
   "metadata": {},
   "outputs": [
    {
     "ename": "IndexError",
     "evalue": "pop from empty list",
     "output_type": "error",
     "traceback": [
      "\u001b[1;31m---------------------------------------------------------------------------\u001b[0m",
      "\u001b[1;31mIndexError\u001b[0m                                Traceback (most recent call last)",
      "\u001b[1;32m<ipython-input-6-8fd4b3b9e7ab>\u001b[0m in \u001b[0;36m<module>\u001b[1;34m\u001b[0m\n\u001b[0;32m      1\u001b[0m \u001b[0ma\u001b[0m \u001b[1;33m=\u001b[0m \u001b[1;33m[\u001b[0m\u001b[1;33m]\u001b[0m\u001b[1;33m\u001b[0m\u001b[1;33m\u001b[0m\u001b[0m\n\u001b[0;32m      2\u001b[0m \u001b[1;31m#print(a[len(a) - 1])\u001b[0m\u001b[1;33m\u001b[0m\u001b[1;33m\u001b[0m\u001b[1;33m\u001b[0m\u001b[0m\n\u001b[1;32m----> 3\u001b[1;33m \u001b[0ma\u001b[0m\u001b[1;33m.\u001b[0m\u001b[0mpop\u001b[0m\u001b[1;33m(\u001b[0m\u001b[1;33m)\u001b[0m\u001b[1;33m\u001b[0m\u001b[1;33m\u001b[0m\u001b[0m\n\u001b[0m",
      "\u001b[1;31mIndexError\u001b[0m: pop from empty list"
     ]
    }
   ],
   "source": [
    "a = []\n",
    "#print(a[len(a) - 1])\n",
    "a.pop()"
   ]
  },
  {
   "cell_type": "markdown",
   "metadata": {},
   "source": [
    "Вариант 1:"
   ]
  },
  {
   "cell_type": "code",
   "execution_count": 11,
   "metadata": {},
   "outputs": [
    {
     "data": {
      "text/plain": [
       "['WEST']"
      ]
     },
     "execution_count": 11,
     "metadata": {},
     "output_type": "execute_result"
    }
   ],
   "source": [
    "def dirReduc(arr):\n",
    "    stack = []\n",
    "    for direct in arr:\n",
    "        direct = direct.upper()\n",
    "        if len(stack) != 0:\n",
    "            prevDirect = stack[-1]\n",
    "            if direct == 'NORTH' and prevDirect == 'SOUTH' \\\n",
    "                or direct == 'SOUTH' and prevDirect == 'NORTH' \\\n",
    "                    or direct == 'WEST' and prevDirect == 'EAST' \\\n",
    "                        or direct == 'EAST' and prevDirect == 'WEST':\n",
    "                            stack.pop()\n",
    "            else:\n",
    "                stack.append(direct)        \n",
    "        else:\n",
    "            stack.append(direct)\n",
    "    return stack\n",
    "\n",
    "dirReduc([\"NORTH\", \"SOUTH\", \"SOUTH\", \"EAST\", \"WEST\", \"NORTH\", \"WEST\"])"
   ]
  },
  {
   "cell_type": "markdown",
   "metadata": {},
   "source": [
    "Вариант 2:"
   ]
  },
  {
   "cell_type": "code",
   "execution_count": 12,
   "metadata": {},
   "outputs": [
    {
     "data": {
      "text/plain": [
       "['WEST']"
      ]
     },
     "execution_count": 12,
     "metadata": {},
     "output_type": "execute_result"
    }
   ],
   "source": [
    "def dirReduc(arr):\n",
    "    stack = []\n",
    "    for direct in arr:\n",
    "        direct = direct.upper()\n",
    "        opposDir = {'NORTH':'SOUTH', 'SOUTH':'NORTH', 'WEST':'EAST', 'EAST':'WEST'}\n",
    "        if len(stack) != 0:\n",
    "            prevDirect = stack[-1]\n",
    "            if opposDir[direct] == prevDirect:\n",
    "                stack.pop()\n",
    "            else:\n",
    "                stack.append(direct)        \n",
    "        else:\n",
    "            stack.append(direct)\n",
    "    return stack\n",
    "\n",
    "dirReduc([\"NORTH\", \"SOUTH\", \"SOUTH\", \"EAST\", \"WEST\", \"NORTH\", \"WEST\"])"
   ]
  },
  {
   "cell_type": "markdown",
   "metadata": {},
   "source": [
    "## Mumbling\n",
    "\n",
    "This time no story, no theory. The examples below show you how to write function accum:\n",
    "\n",
    "Examples:\n",
    "\n",
    "accum(\"abcd\") -> \"A-Bb-Ccc-Dddd\"\n",
    "\n",
    "accum(\"RqaEzty\") -> \"R-Qq-Aaa-Eeee-Zzzzz-Tttttt-Yyyyyyy\"\n",
    "\n",
    "accum(\"cwAt\") -> \"C-Ww-Aaa-Tttt\"\n",
    "\n",
    "The parameter of accum is a string which includes only letters from a..z and A..Z."
   ]
  },
  {
   "cell_type": "code",
   "execution_count": 13,
   "metadata": {},
   "outputs": [
    {
     "name": "stdout",
     "output_type": "stream",
     "text": [
      "A-Bb-Ccc-Dddd\n",
      "R-Qq-Aaa-Eeee-Zzzzz-Tttttt-Yyyyyyy\n",
      "C-Ww-Aaa-Tttt\n"
     ]
    }
   ],
   "source": [
    "def accum(s):\n",
    "    res = []\n",
    "    for i in range(len(s)):\n",
    "        res.append(((i + 1) * s[i]).title())\n",
    "    return '-'.join(res)\n",
    "\n",
    "print(accum(\"abcd\")) # \"A-Bb-Ccc-Dddd\"\n",
    "print(accum(\"RqaEzty\")) # \"R-Qq-Aaa-Eeee-Zzzzz-Tttttt-Yyyyyyy\"\n",
    "print(accum(\"cwAt\")) # \"C-Ww-Aaa-Tttt\""
   ]
  },
  {
   "cell_type": "markdown",
   "metadata": {},
   "source": [
    "То же самое решение, но только с исользованием метода str.capitalize(), который больше подходит для одного слова, в отличии от title, который может обрабатывать несколько слов в тексте:"
   ]
  },
  {
   "cell_type": "code",
   "execution_count": 28,
   "metadata": {},
   "outputs": [
    {
     "name": "stdout",
     "output_type": "stream",
     "text": [
      "A-Bb-Ccc-Dddd\n",
      "R-Qq-Aaa-Eeee-Zzzzz-Tttttt-Yyyyyyy\n",
      "C-Ww-Aaa-Tttt\n"
     ]
    }
   ],
   "source": [
    "def accum(s):\n",
    "    res = []\n",
    "    for i in range(len(s)):\n",
    "        res.append(((i + 1) * s[i]).capitalize())\n",
    "    return '-'.join(res)\n",
    "\n",
    "print(accum(\"abcd\")) # \"A-Bb-Ccc-Dddd\"\n",
    "print(accum(\"RqaEzty\")) # \"R-Qq-Aaa-Eeee-Zzzzz-Tttttt-Yyyyyyy\"\n",
    "print(accum(\"cwAt\")) # \"C-Ww-Aaa-Tttt\""
   ]
  },
  {
   "cell_type": "code",
   "execution_count": 18,
   "metadata": {},
   "outputs": [
    {
     "name": "stdout",
     "output_type": "stream",
     "text": [
      "(0, 'd')\n",
      "(1, 'h')\n",
      "(2, 'd')\n",
      "(3, 'd')\n"
     ]
    }
   ],
   "source": [
    "c = 'dhdd'\n",
    "for a in enumerate(c):\n",
    "    print(a)"
   ]
  },
  {
   "cell_type": "code",
   "execution_count": 20,
   "metadata": {},
   "outputs": [
    {
     "name": "stdout",
     "output_type": "stream",
     "text": [
      "(1, 'd')\n",
      "(2, 'h')\n",
      "(3, 'd')\n",
      "(4, 'd')\n"
     ]
    }
   ],
   "source": [
    "c = 'dhdd'\n",
    "for a in enumerate(c, 1):\n",
    "    print(a)"
   ]
  },
  {
   "cell_type": "code",
   "execution_count": 21,
   "metadata": {},
   "outputs": [
    {
     "name": "stdout",
     "output_type": "stream",
     "text": [
      "(2, 'd')\n",
      "(3, 'h')\n",
      "(4, 'd')\n",
      "(5, 'd')\n"
     ]
    }
   ],
   "source": [
    "c = 'dhdd'\n",
    "for a in enumerate(c, 2):\n",
    "    print(a)"
   ]
  },
  {
   "cell_type": "code",
   "execution_count": 22,
   "metadata": {},
   "outputs": [
    {
     "data": {
      "text/plain": [
       "'Dhsdh-Ghhhdf-Hhh-H-Bh-Jjd'"
      ]
     },
     "execution_count": 22,
     "metadata": {},
     "output_type": "execute_result"
    }
   ],
   "source": [
    "s = 'dhsdH-ghhHdf-hhH-h-Bh-jjd'\n",
    "s.title()"
   ]
  },
  {
   "cell_type": "code",
   "execution_count": 26,
   "metadata": {},
   "outputs": [
    {
     "data": {
      "text/plain": [
       "'Dhsdh-ghhhdf-hhh-h-bh-jjd'"
      ]
     },
     "execution_count": 26,
     "metadata": {},
     "output_type": "execute_result"
    }
   ],
   "source": [
    "s = 'dhsdH-ghhHdf-hhH-h-Bh-jjd'\n",
    "s.capitalize()"
   ]
  },
  {
   "cell_type": "markdown",
   "metadata": {},
   "source": [
    "Подсмотрела этот вариант на codewars:"
   ]
  },
  {
   "cell_type": "code",
   "execution_count": 27,
   "metadata": {},
   "outputs": [
    {
     "name": "stdout",
     "output_type": "stream",
     "text": [
      "A-Bb-Ccc-Dddd\n",
      "R-Qq-Aaa-Eeee-Zzzzz-Tttttt-Yyyyyyy\n",
      "C-Ww-Aaa-Tttt\n"
     ]
    }
   ],
   "source": [
    "def accum(s):\n",
    "    return '-'.join(c.upper() + i * c.lower() for i, c in enumerate(s))\n",
    "\n",
    "print(accum(\"abcd\")) # \"A-Bb-Ccc-Dddd\"\n",
    "print(accum(\"RqaEzty\")) # \"R-Qq-Aaa-Eeee-Zzzzz-Tttttt-Yyyyyyy\"\n",
    "print(accum(\"cwAt\")) # \"C-Ww-Aaa-Tttt\""
   ]
  },
  {
   "cell_type": "markdown",
   "metadata": {},
   "source": [
    "Don't we have to surround exprssion inside join() with square brackets since it is a list comprehension? Isn't it an error?\n",
    "\n",
    "No. join takes an iterable as argument, which includes generators. (c.upper() + c.lower() * i for i, c in enumerate(s)) is a generator comprehension and can be passed as an argument to join. There is a syntactic rule in Python that says that when a generator comprehension is the only argument in a function call, then the parenthesis of the generator comprehension may be dropped (so instead of '-'.join((c.upper() + c.lower() * i for i, c in enumerate(s))), you may write '-'.join(c.upper() + c.lower() * i for i, c in enumerate(s))). Using a generator comprehension instead of a list comprehension is often preferable since it doesn't require a list as an intermediate data structure."
   ]
  },
  {
   "cell_type": "markdown",
   "metadata": {},
   "source": [
    "Подсмотрела этот вариант на codewars:"
   ]
  },
  {
   "cell_type": "code",
   "execution_count": 24,
   "metadata": {},
   "outputs": [
    {
     "name": "stdout",
     "output_type": "stream",
     "text": [
      "A-Bb-Ccc-Dddd\n",
      "R-Qq-Aaa-Eeee-Zzzzz-Tttttt-Yyyyyyy\n",
      "C-Ww-Aaa-Tttt\n"
     ]
    }
   ],
   "source": [
    "def accum(s):\n",
    "    return '-'.join((i * c).title() for i, c in enumerate(s, 1))\n",
    "\n",
    "print(accum(\"abcd\")) # \"A-Bb-Ccc-Dddd\"\n",
    "print(accum(\"RqaEzty\")) # \"R-Qq-Aaa-Eeee-Zzzzz-Tttttt-Yyyyyyy\"\n",
    "print(accum(\"cwAt\")) # \"C-Ww-Aaa-Tttt\""
   ]
  },
  {
   "cell_type": "code",
   "execution_count": 2,
   "metadata": {},
   "outputs": [
    {
     "name": "stdout",
     "output_type": "stream",
     "text": [
      "2\n"
     ]
    },
    {
     "ename": "TypeError",
     "evalue": "'int' object is not callable",
     "output_type": "error",
     "traceback": [
      "\u001b[1;31m---------------------------------------------------------------------------\u001b[0m",
      "\u001b[1;31mTypeError\u001b[0m                                 Traceback (most recent call last)",
      "\u001b[1;32m<ipython-input-2-d76d91621865>\u001b[0m in \u001b[0;36m<module>\u001b[1;34m\u001b[0m\n\u001b[0;32m      2\u001b[0m \u001b[0maddTwo\u001b[0m \u001b[1;33m=\u001b[0m \u001b[0madd\u001b[0m\u001b[1;33m(\u001b[0m\u001b[1;36m2\u001b[0m\u001b[1;33m)\u001b[0m\u001b[1;33m\u001b[0m\u001b[1;33m\u001b[0m\u001b[0m\n\u001b[0;32m      3\u001b[0m \u001b[0mprint\u001b[0m\u001b[1;33m(\u001b[0m\u001b[0maddTwo\u001b[0m\u001b[1;33m)\u001b[0m\u001b[1;33m\u001b[0m\u001b[1;33m\u001b[0m\u001b[0m\n\u001b[1;32m----> 4\u001b[1;33m \u001b[0madd\u001b[0m\u001b[1;33m(\u001b[0m\u001b[1;36m3\u001b[0m\u001b[1;33m)\u001b[0m\u001b[1;33m(\u001b[0m\u001b[1;36m4\u001b[0m\u001b[1;33m)\u001b[0m\u001b[1;33m\u001b[0m\u001b[1;33m\u001b[0m\u001b[0m\n\u001b[0m",
      "\u001b[1;31mTypeError\u001b[0m: 'int' object is not callable"
     ]
    }
   ],
   "source": [
    "add = lambda x: x \n",
    "addTwo = add(2)\n",
    "print(addTwo)\n",
    "add(3)(4)"
   ]
  },
  {
   "cell_type": "code",
   "execution_count": 11,
   "metadata": {},
   "outputs": [
    {
     "name": "stdout",
     "output_type": "stream",
     "text": [
      "<function add.<locals>.<lambda> at 0x000000000596BAE8>\n",
      "4\n"
     ]
    },
    {
     "ename": "TypeError",
     "evalue": "'int' object is not callable",
     "output_type": "error",
     "traceback": [
      "\u001b[1;31m---------------------------------------------------------------------------\u001b[0m",
      "\u001b[1;31mTypeError\u001b[0m                                 Traceback (most recent call last)",
      "\u001b[1;32m<ipython-input-11-f740113b555c>\u001b[0m in \u001b[0;36m<module>\u001b[1;34m\u001b[0m\n\u001b[0;32m      4\u001b[0m \u001b[0mprint\u001b[0m\u001b[1;33m(\u001b[0m\u001b[0maddTwo\u001b[0m\u001b[1;33m)\u001b[0m\u001b[1;33m\u001b[0m\u001b[1;33m\u001b[0m\u001b[0m\n\u001b[0;32m      5\u001b[0m \u001b[0mprint\u001b[0m\u001b[1;33m(\u001b[0m\u001b[0madd\u001b[0m\u001b[1;33m(\u001b[0m\u001b[1;36m3\u001b[0m\u001b[1;33m)\u001b[0m\u001b[1;33m(\u001b[0m\u001b[1;36m4\u001b[0m\u001b[1;33m)\u001b[0m\u001b[1;33m)\u001b[0m\u001b[1;33m\u001b[0m\u001b[1;33m\u001b[0m\u001b[0m\n\u001b[1;32m----> 6\u001b[1;33m \u001b[0mprint\u001b[0m\u001b[1;33m(\u001b[0m\u001b[0madd\u001b[0m\u001b[1;33m(\u001b[0m\u001b[1;36m3\u001b[0m\u001b[1;33m)\u001b[0m\u001b[1;33m(\u001b[0m\u001b[1;36m4\u001b[0m\u001b[1;33m)\u001b[0m\u001b[1;33m(\u001b[0m\u001b[1;36m1\u001b[0m\u001b[1;33m)\u001b[0m\u001b[1;33m)\u001b[0m\u001b[1;33m\u001b[0m\u001b[1;33m\u001b[0m\u001b[0m\n\u001b[0m",
      "\u001b[1;31mTypeError\u001b[0m: 'int' object is not callable"
     ]
    }
   ],
   "source": [
    "def add(x):\n",
    "    return lambda x: x \n",
    "addTwo = add(2)\n",
    "print(addTwo)\n",
    "print(add(3)(4))\n",
    "print(add(3)(4)(1))"
   ]
  },
  {
   "cell_type": "code",
   "execution_count": 10,
   "metadata": {},
   "outputs": [
    {
     "name": "stdout",
     "output_type": "stream",
     "text": [
      "<function add at 0x000000000596BA60>\n"
     ]
    }
   ],
   "source": [
    "def add(x):\n",
    "    return add\n",
    "\n",
    "addTwo = add(2)\n",
    "print(addTwo)"
   ]
  },
  {
   "cell_type": "markdown",
   "metadata": {},
   "source": [
    "## Duplicate Encoder\n",
    "\n",
    "The goal of this exercise is to convert a string to a new string where each character in the new string is \"(\" if that character appears only once in the original string, or \")\" if that character appears more than once in the original string. Ignore capitalization when determining if a character is a duplicate.\n",
    "\n",
    "Examples\n",
    "\n",
    "\"din\"      =>  \"(((\"\n",
    "\n",
    "\"recede\"   =>  \"()()()\"\n",
    "\n",
    "\"Success\"  =>  \")())())\"\n",
    "\n",
    "\"(( @\"     =>  \"))((\" \n",
    "Notes\n",
    "\n",
    "Assertion messages may be unclear about what they display in some languages. If you read \"...It Should encode XXX\", the \"XXX\" is the expected result, not the input!"
   ]
  },
  {
   "cell_type": "markdown",
   "metadata": {},
   "source": [
    "Вариант 1:"
   ]
  },
  {
   "cell_type": "code",
   "execution_count": 14,
   "metadata": {},
   "outputs": [
    {
     "name": "stdout",
     "output_type": "stream",
     "text": [
      "(((\n",
      "()()()\n",
      ")())())\n",
      "))((\n",
      ")))(()\n"
     ]
    }
   ],
   "source": [
    "def duplicate_encode(word):\n",
    "    res = ''\n",
    "    word = word.lower()\n",
    "    for c in word:\n",
    "        if word.count(c) == 1:\n",
    "            res += '('\n",
    "        else:\n",
    "            res += ')'\n",
    "    return res\n",
    "\n",
    "print(duplicate_encode(\"din\"))      #  \"(((\"\n",
    "print(duplicate_encode(\"recede\"))   #  \"()()()\"\n",
    "print(duplicate_encode(\"Success\"))  #  \")())())\"\n",
    "print(duplicate_encode(\"(( @\"))     #  \"))((\" \n",
    "print(duplicate_encode(\"сиськи\")) "
   ]
  },
  {
   "cell_type": "markdown",
   "metadata": {},
   "source": [
    "Вариант 2:"
   ]
  },
  {
   "cell_type": "code",
   "execution_count": 17,
   "metadata": {},
   "outputs": [
    {
     "name": "stdout",
     "output_type": "stream",
     "text": [
      "(((\n",
      "()()()\n",
      ")())())\n",
      "))((\n",
      ")))(()\n"
     ]
    }
   ],
   "source": [
    "def duplicate_encode(word):\n",
    "    word = word.lower()\n",
    "    res = ['(' if word.count(c) == 1 else ')' for c in word]\n",
    "    return ''.join(res)\n",
    "\n",
    "print(duplicate_encode(\"din\"))      #  \"(((\"\n",
    "print(duplicate_encode(\"recede\"))   #  \"()()()\"\n",
    "print(duplicate_encode(\"Success\"))  #  \")())())\"\n",
    "print(duplicate_encode(\"(( @\"))     #  \"))((\" \n",
    "print(duplicate_encode(\"сиськи\")) "
   ]
  },
  {
   "cell_type": "markdown",
   "metadata": {},
   "source": [
    "## Highest Scoring Word\n",
    "\n",
    "Each letter of a word scores points according to its position in the alphabet: a = 1, b = 2, c = 3 etc.\n",
    "\n",
    "You need to return the highest scoring word as a string.\n",
    "\n",
    "If two words score the same, return the word that appears earliest in the original string.\n",
    "\n",
    "All letters will be lowercase and all inputs will be valid."
   ]
  },
  {
   "cell_type": "code",
   "execution_count": 61,
   "metadata": {},
   "outputs": [
    {
     "data": {
      "text/plain": [
       "[('f', [1, 5]), ('c', [3, 6]), ('a', [0, 6])]"
      ]
     },
     "execution_count": 61,
     "metadata": {},
     "output_type": "execute_result"
    }
   ],
   "source": [
    "D = {'c':[3, 6], 'a':[0, 6], 'f':[1,  5]}\n",
    "#sorted(D.items())\n",
    "#sorted(D.items(), key=lambda item: item[1])\n",
    "#sorted(D.items(), key=lambda item: item[1][1])\n",
    "sorted(sorted(D.items(), key=lambda item: item[1][0], reverse=True), key=lambda item: item[1][1])"
   ]
  },
  {
   "cell_type": "code",
   "execution_count": 31,
   "metadata": {},
   "outputs": [
    {
     "data": {
      "text/plain": [
       "97"
      ]
     },
     "execution_count": 31,
     "metadata": {},
     "output_type": "execute_result"
    }
   ],
   "source": [
    "ord('a')"
   ]
  },
  {
   "cell_type": "markdown",
   "metadata": {},
   "source": [
    "Вариант 1:"
   ]
  },
  {
   "cell_type": "code",
   "execution_count": 63,
   "metadata": {
    "scrolled": true
   },
   "outputs": [
    {
     "name": "stdout",
     "output_type": "stream",
     "text": [
      "lxjcgtkulx\n",
      "volcano\n",
      "hhhhj\n",
      "volcano\n"
     ]
    }
   ],
   "source": [
    "def high(x):\n",
    "    score = {}\n",
    "    i = 0\n",
    "    for word in x.split():\n",
    "        if word not in score:\n",
    "            score[word] = [i, sum(ord(c) - 96 for c in word)]\n",
    "            i += 1\n",
    "    return sorted(sorted(score.items(), key=lambda item: item[1][0], reverse=True), key=lambda item: item[1][1])[-1][0]\n",
    "    #return sorted(sorted(score.items(), key=lambda item: item[1][0], reverse=True), key=lambda item: item[1][1])\n",
    "\n",
    "print(high('lxjcgtkulx ccrtwzaqpq'))\n",
    "print(high('volcano climbing'))\n",
    "print(high('hhhhj gggr hhhhj'))\n",
    "print(high('what time are we climbing up the volcano'))"
   ]
  },
  {
   "cell_type": "markdown",
   "metadata": {},
   "source": [
    "Вариант 2:"
   ]
  },
  {
   "cell_type": "code",
   "execution_count": 69,
   "metadata": {},
   "outputs": [
    {
     "name": "stdout",
     "output_type": "stream",
     "text": [
      "lxjcgtkulx\n",
      "volcano\n",
      "hhhhj\n",
      "volcano\n"
     ]
    }
   ],
   "source": [
    "def high(x):\n",
    "    score = {}\n",
    "    for word in x.split()[::-1]:\n",
    "        #if word not in score.values():\n",
    "            #score[sum(ord(c) - 96 for c in word)] = word\n",
    "        score[sum(ord(c) - 96 for c in word)] = word\n",
    "    return sorted(score.items())[-1][1]\n",
    "\n",
    "print(high('lxjcgtkulx ccrtwzaqpq'))\n",
    "print(high('volcano climbing'))\n",
    "print(high('hhhhj gggr hhhhj'))\n",
    "print(high('what time are we climbing up the volcano'))"
   ]
  },
  {
   "cell_type": "markdown",
   "metadata": {},
   "source": [
    "Решения, подсмотренные на codewars:"
   ]
  },
  {
   "cell_type": "code",
   "execution_count": 77,
   "metadata": {},
   "outputs": [
    {
     "name": "stdout",
     "output_type": "stream",
     "text": [
      "lxjcgtkulx\n",
      "volcano\n",
      "hhhhj\n",
      "volcano\n"
     ]
    }
   ],
   "source": [
    "def high(x):\n",
    "    return max(x.split(), key=lambda word: sum(ord(c) - 96 for c in word))\n",
    "\n",
    "print(high('lxjcgtkulx ccrtwzaqpq'))\n",
    "print(high('volcano climbing'))\n",
    "print(high('hhhhj gggr hhhhj'))\n",
    "print(high('what time are we climbing up the volcano'))"
   ]
  },
  {
   "cell_type": "code",
   "execution_count": 82,
   "metadata": {},
   "outputs": [
    {
     "name": "stdout",
     "output_type": "stream",
     "text": [
      "lxjcgtkulx\n",
      "volcano\n",
      "hhhhj\n",
      "volcano\n"
     ]
    }
   ],
   "source": [
    "def high(x):\n",
    "    x = x.split()\n",
    "    scores = [sum(ord(c) - 96 for c in word) for word in x]\n",
    "    return x[scores.index(max(scores))]\n",
    " \n",
    "print(high('lxjcgtkulx ccrtwzaqpq'))\n",
    "print(high('volcano climbing'))\n",
    "print(high('hhhhj gggr hhhhj'))\n",
    "print(high('what time are we climbing up the volcano'))"
   ]
  },
  {
   "cell_type": "code",
   "execution_count": 102,
   "metadata": {},
   "outputs": [
    {
     "name": "stdout",
     "output_type": "stream",
     "text": [
      "lxjcgtkulx\n",
      "volcano\n",
      "hhhhj\n",
      "volcano\n"
     ]
    }
   ],
   "source": [
    "def high(x):\n",
    "    x = x.split()\n",
    "    scores = enumerate([sum(ord(c) - 96 for c in word) for word in x])\n",
    "    #print(scores) # <enumerate object at 0x000000000589A6C0>\n",
    "    return x[max(scores, key= lambda y: y[1])[0]]\n",
    " \n",
    "print(high('lxjcgtkulx ccrtwzaqpq'))\n",
    "print(high('volcano climbing'))\n",
    "print(high('hhhhj gggr hhhhj'))\n",
    "print(high('what time are we climbing up the volcano'))"
   ]
  },
  {
   "cell_type": "code",
   "execution_count": 112,
   "metadata": {},
   "outputs": [
    {
     "name": "stdout",
     "output_type": "stream",
     "text": [
      "lxjcgtkulx\n",
      "volcano\n",
      "hhhhj\n",
      "volcano\n"
     ]
    }
   ],
   "source": [
    "def high(x):\n",
    "    return max((sum(ord(c) - 96 for c in word), word) for word in x.split())[1]\n",
    " \n",
    "print(high('lxjcgtkulx ccrtwzaqpq'))\n",
    "print(high('volcano climbing'))\n",
    "print(high('hhhhj gggr hhhhj'))\n",
    "print(high('what time are we climbing up the volcano'))"
   ]
  },
  {
   "cell_type": "code",
   "execution_count": 113,
   "metadata": {},
   "outputs": [
    {
     "name": "stdout",
     "output_type": "stream",
     "text": [
      "YES\n",
      "NO\n",
      "NO\n"
     ]
    }
   ],
   "source": [
    "def tickets(bills):\n",
    "    change = {25:0, 50:0}\n",
    "    for bill in bills:\n",
    "        if bill == 25:\n",
    "            change[25] += 1\n",
    "        elif bill == 50:\n",
    "            if change[25] >= 1:\n",
    "                change[50] += 1\n",
    "                change[25] -= 1\n",
    "            else:\n",
    "                return 'NO'\n",
    "        elif bill == 100:\n",
    "            if change[50] >= 1 and change[25] >= 1:\n",
    "                change[50] -= 1\n",
    "                change[25] -= 1\n",
    "            elif change[25] >= 3:\n",
    "                change[25] -= 3\n",
    "            else:\n",
    "                return 'NO'\n",
    "    return 'YES'\n",
    "\n",
    "print(tickets([25, 25, 50])) # => YES \n",
    "print(tickets([25, 100])) # => NO. Vasya will not have enough money to give change to 100 dollars\n",
    "print(tickets([25, 25, 50, 50, 100])) # => NO. Vasya will not have the right bills to give 75 dollars of change (you can't make two bills of 25 from one of 50)"
   ]
  },
  {
   "cell_type": "markdown",
   "metadata": {},
   "source": [
    "## The Deaf Rats of Hamelin\n",
    "Story\n",
    "\n",
    "The Pied Piper has been enlisted to play his magical tune and coax all the rats out of town.\n",
    "\n",
    "But some of the rats are deaf and are going the wrong way!\n",
    "\n",
    "Kata Task\n",
    "How many deaf rats are there?"
   ]
  },
  {
   "cell_type": "raw",
   "metadata": {},
   "source": [
    "Legend\n",
    "P = The Pied Piper\n",
    "O~ = Rat going left\n",
    "~O = Rat going right"
   ]
  },
  {
   "cell_type": "raw",
   "metadata": {},
   "source": [
    "Example\n",
    "ex1 ~O~O~O~O P has 0 deaf rats\n",
    "ex2 P O~ O~ ~O O~ has 1 deaf rat\n",
    "ex3 ~O~O~O~OP~O~OO~ has 2 deaf rats"
   ]
  },
  {
   "cell_type": "code",
   "execution_count": null,
   "metadata": {},
   "outputs": [],
   "source": [
    "def count_deaf_rats(town):\n",
    "    deaf = 0\n",
    "    left, P, right = town.partition('P')\n",
    "    left = ''.join((left.split()))\n",
    "    right = ''.join((right.split()))\n",
    "    for i in range(0, len(left), 2):\n",
    "        if left[i:i + 2] == 'O~':\n",
    "            deaf += 1\n",
    "    for i in range(0, len(right), 2):\n",
    "        if right[i:i + 2] == '~O':\n",
    "            deaf += 1\n",
    "    return deaf    "
   ]
  },
  {
   "cell_type": "code",
   "execution_count": 5,
   "metadata": {},
   "outputs": [
    {
     "data": {
      "text/plain": [
       "'fsdggs'"
      ]
     },
     "execution_count": 5,
     "metadata": {},
     "output_type": "execute_result"
    }
   ],
   "source": [
    "a = 'fsdggs'\n",
    "''.join((a.split()))"
   ]
  },
  {
   "cell_type": "code",
   "execution_count": null,
   "metadata": {},
   "outputs": [],
   "source": [
    "def count_deaf_rats(town):\n",
    "    deaf = 0\n",
    "    left, P, right = town.partition('P')\n",
    "    left = ''.join((left.split()))\n",
    "    right = ''.join((right.split()))\n",
    "    for i in range(0, len(left), 2):\n",
    "        if left[i:i + 2] == 'O~':\n",
    "            deaf += 1\n",
    "    for i in range(0, len(right), 2):\n",
    "        if right[i:i + 2] == '~O':\n",
    "            deaf += 1\n",
    "    return deaf  "
   ]
  },
  {
   "cell_type": "code",
   "execution_count": 10,
   "metadata": {},
   "outputs": [
    {
     "name": "stdout",
     "output_type": "stream",
     "text": [
      "2\n"
     ]
    }
   ],
   "source": [
    "a = ['ab', 'ba', 'ab', 'ba']\n",
    "print(a.count('ba'))"
   ]
  },
  {
   "cell_type": "markdown",
   "metadata": {},
   "source": [
    "## Hidden \"Cubic\" numbers\n",
    "We search non-negative integer numbers, with at most 3 digits, such as the sum of the cubes of their digits is the number itself; we will call them \"cubic\" numbers.\n",
    "\n",
    "153 is such a \"cubic\" number : 1^3 + 5^3 + 3^3 = 153\n",
    "These \"cubic\" numbers of at most 3 digits are easy to find, even by hand, so they are \"hidden\" with other numbers and characters in a string.\n",
    "\n",
    "The task is to found, or not, the \"cubic\" numbers in the string and then to make the sum of these \"cubic\" numbers found in the string, if any, and to return a string such as:\n",
    "\n",
    "\"number1 number2 (and so on if necessary) sumOfCubicNumbers Lucky\" \n",
    "if \"cubic\" numbers number1, number2, ... were found. The numbers in the output are to be in the order in which they are encountered in the input string.\n",
    "\n",
    "If no cubic numbers are found return the string:\n",
    "\n",
    "\"Unlucky\".\n",
    "Examples:\n",
    "\n",
    " s = \"aqdf& 0 1 xyz 153 777.777\" must return \"0 1 153 154 Lucky\"\n",
    "\n",
    " s = \"QK29 45[&erui\" must return \"Unlucky\".\n",
    " \n",
    "Note: In the string \"001234\" where 3 digits or more follow each other the fist packet to examine is \"001\" and the following is \"234\". If a packet of at most three digits has been taken, whether or not \"cubic\", it's over for that packet.\n",
    "\n",
    "When a continous string of digits exceeds 3, the string is split into groups of 3 from the left. The last grouping could have 3, 2 or 1 digits. e.g \"24172410\" becomes 3 strings comprising \"241\", \"724\" and \"10\" e.g \"0785\" becomes 2 strings comprising \"078\" and \"5\"."
   ]
  },
  {
   "cell_type": "markdown",
   "metadata": {},
   "source": [
    "Вариант 1:"
   ]
  },
  {
   "cell_type": "code",
   "execution_count": 21,
   "metadata": {},
   "outputs": [
    {
     "name": "stdout",
     "output_type": "stream",
     "text": [
      "0 0 Lucky\n",
      "Unlucky\n",
      "0 1 153 154 Lucky\n",
      "Unlucky\n"
     ]
    }
   ],
   "source": [
    "import re\n",
    "\n",
    "def is_sum_of_cubes(s):\n",
    "    nums = [num for num in re.findall(r'\\d{1,3}', s) if sum(int(d)**3 for d in num) == int(num)] # r'\\d{1,}' = r'\\d+'\n",
    "    if len(nums) > 0:\n",
    "        return ' '.join(nums) + ' ' + str(sum(int(num) for num in nums)) + ' Lucky'\n",
    "    return \"Unlucky\"\n",
    "\n",
    "print(is_sum_of_cubes(\"0 9026315 -827&()\"))\n",
    "print(is_sum_of_cubes(\"No numbers!\"))\n",
    "print(is_sum_of_cubes(\"aqdf& 0 1 xyz 153 777.777\"))\n",
    "print(is_sum_of_cubes(\"QK29 45[&erui\"))"
   ]
  },
  {
   "cell_type": "markdown",
   "metadata": {},
   "source": [
    "Переписала вариант 1, сделав его чуть более понятным, и сократив количество действий, но вариант 1 всё-равно кажется более приятным:"
   ]
  },
  {
   "cell_type": "code",
   "execution_count": 29,
   "metadata": {},
   "outputs": [
    {
     "name": "stdout",
     "output_type": "stream",
     "text": [
      "0 0 Lucky\n",
      "Unlucky\n",
      "0 1 153 154 Lucky\n",
      "Unlucky\n"
     ]
    }
   ],
   "source": [
    "import re\n",
    "\n",
    "def is_sum_of_cubes(s):\n",
    "    resStr = ''\n",
    "    summ = 0\n",
    "    for snum in re.findall(r'\\d{1,3}', s):\n",
    "        num = int(snum)\n",
    "        if sum(int(d)**3 for d in snum) == num:\n",
    "            resStr += snum + ' '\n",
    "            summ += num\n",
    "    if resStr:\n",
    "        return resStr + str(summ) + ' Lucky'\n",
    "    return \"Unlucky\"\n",
    "\n",
    "print(is_sum_of_cubes(\"0 9026315 -827&()\"))\n",
    "print(is_sum_of_cubes(\"No numbers!\"))\n",
    "print(is_sum_of_cubes(\"aqdf& 0 1 xyz 153 777.777\"))\n",
    "print(is_sum_of_cubes(\"QK29 45[&erui\"))"
   ]
  },
  {
   "cell_type": "markdown",
   "metadata": {},
   "source": [
    "### Study: Map()"
   ]
  },
  {
   "cell_type": "code",
   "execution_count": 32,
   "metadata": {},
   "outputs": [
    {
     "name": "stdout",
     "output_type": "stream",
     "text": [
      "[1, 4, 9, 16]\n"
     ]
    }
   ],
   "source": [
    "items = [1, 2, 3, 4]\n",
    "squared = list(map(lambda x: x**2, items))\n",
    "print(squared)"
   ]
  },
  {
   "cell_type": "code",
   "execution_count": 33,
   "metadata": {},
   "outputs": [
    {
     "name": "stdout",
     "output_type": "stream",
     "text": [
      "<map object at 0x00000000052E9470>\n"
     ]
    }
   ],
   "source": [
    "items = [1, 2, 3, 4]\n",
    "squared = map(lambda x: x**2, items)\n",
    "print(squared)"
   ]
  },
  {
   "cell_type": "code",
   "execution_count": 34,
   "metadata": {},
   "outputs": [
    {
     "name": "stdout",
     "output_type": "stream",
     "text": [
      "30\n"
     ]
    }
   ],
   "source": [
    "items = [1, 2, 3, 4]\n",
    "print(sum(map(lambda x: x**2, items)))"
   ]
  },
  {
   "cell_type": "code",
   "execution_count": 36,
   "metadata": {},
   "outputs": [
    {
     "data": {
      "text/plain": [
       "'0b110'"
      ]
     },
     "execution_count": 36,
     "metadata": {},
     "output_type": "execute_result"
    }
   ],
   "source": [
    "bin(6)"
   ]
  },
  {
   "cell_type": "code",
   "execution_count": 40,
   "metadata": {},
   "outputs": [
    {
     "name": "stdout",
     "output_type": "stream",
     "text": [
      "0b1\n",
      "0b10\n",
      "0b11\n",
      "0b100\n"
     ]
    }
   ],
   "source": [
    "print(bin(1))\n",
    "print(bin(2))\n",
    "print(bin(3))\n",
    "print(bin(4))"
   ]
  },
  {
   "cell_type": "markdown",
   "metadata": {},
   "source": [
    "## Word a10n (abbreviation)"
   ]
  },
  {
   "cell_type": "raw",
   "metadata": {},
   "source": [
    "The word i18n is a common abbreviation of internationalization in the developer community, used instead of typing the whole word and trying to spell it correctly. Similarly, a11y is an abbreviation of accessibility.\n",
    "\n",
    "Write a function that takes a string and turns any and all \"words\" (see below) within that string of length 4 or greater into an abbreviation, following these rules:\n",
    "\n",
    "A \"word\" is a sequence of alphabetical characters. By this definition, any other character like a space or hyphen (eg. \"elephant-ride\") will split up a series of letters into two words (eg. \"elephant\" and \"ride\").\n",
    "The abbreviated version of the word should have the first letter, then the number of removed characters, then the last letter (eg. \"elephant ride\" => \"e6t r2e\").\n",
    "Example\n",
    "abbreviate(\"elephant-rides are really fun!\")\n",
    "//          ^^^^^^^^*^^^^^*^^^*^^^^^^*^^^*\n",
    "// words (^):   \"elephant\" \"rides\" \"are\" \"really\" \"fun\"\n",
    "//                123456     123     1     1234     1\n",
    "// ignore short words:               X              X\n",
    "\n",
    "// abbreviate:    \"e6t\"     \"r3s\"  \"are\"  \"r4y\"   \"fun\"\n",
    "// all non-word characters (*) remain in place\n",
    "//                     \"-\"      \" \"    \" \"     \" \"     \"!\"\n",
    "=== \"e6t-r3s are r4y fun!\""
   ]
  },
  {
   "cell_type": "code",
   "execution_count": 41,
   "metadata": {},
   "outputs": [
    {
     "name": "stdout",
     "output_type": "stream",
     "text": [
      "['12', '  ', '+', '  ', '13', '', '*', '', '15', '   ', '-', ' ', '6']\n"
     ]
    }
   ],
   "source": [
    "import re \n",
    "print(re.split(r'(\\s*)([+*/-])(\\s*)', r'12  +  13*15   - 6')) "
   ]
  },
  {
   "cell_type": "code",
   "execution_count": 52,
   "metadata": {},
   "outputs": [
    {
     "name": "stdout",
     "output_type": "stream",
     "text": [
      "['', 'elephant', '', 'elephant', '', '-', 'rides ', '', 'rides', ' ', '', 'are ', '', 'are', ' ', '', 'really ', '', 'really', ' ', '', 'fun', '', 'fun', '', '!']\n"
     ]
    }
   ],
   "source": [
    "import re \n",
    "print(re.split(r'((\\s*)([a-z]+)(\\s*))', r'elephant-rides are really fun!')) "
   ]
  },
  {
   "cell_type": "code",
   "execution_count": 6,
   "metadata": {},
   "outputs": [
    {
     "name": "stdout",
     "output_type": "stream",
     "text": [
      "[('', 'elephant', 'elephant')]\n"
     ]
    }
   ],
   "source": [
    "import re\n",
    "print(re.findall(r'([a-z]*)(^([a-z]*))', 'elephant-rides are really fun!'))"
   ]
  },
  {
   "cell_type": "code",
   "execution_count": 7,
   "metadata": {},
   "outputs": [
    {
     "name": "stdout",
     "output_type": "stream",
     "text": [
      "['elephant', 'rides', 'really']\n"
     ]
    }
   ],
   "source": [
    "import re\n",
    "print(re.findall(r'([a-z]{4,})', 'elephant-rides are really fun!'))"
   ]
  },
  {
   "cell_type": "code",
   "execution_count": 9,
   "metadata": {},
   "outputs": [
    {
     "name": "stdout",
     "output_type": "stream",
     "text": [
      "e6t-r3s are r4y fun!\n"
     ]
    }
   ],
   "source": [
    "import re\n",
    "\n",
    "def abbreviate(s):\n",
    "    for w in re.findall(r'([A-Za-z]{4,})', s):\n",
    "        s = s.replace(w, w[0] + str(len(w) - 2) + w[-1])\n",
    "    return s\n",
    "\n",
    "print(abbreviate('elephant-rides are really fun!'))"
   ]
  },
  {
   "cell_type": "markdown",
   "metadata": {},
   "source": [
    "## Array.diff"
   ]
  },
  {
   "cell_type": "raw",
   "metadata": {},
   "source": [
    "Your goal in this kata is to implement a difference function, which subtracts one list from another and returns the result.\n",
    "\n",
    "It should remove all values from list a, which are present in list b.\n",
    "\n",
    "array_diff([1,2],[1]) == [2]\n",
    "If a value is present in b, all of its occurrences must be removed from the other:\n",
    "\n",
    "array_diff([1,2,2,2,3],[2]) == [1,3]"
   ]
  },
  {
   "cell_type": "code",
   "execution_count": 6,
   "metadata": {},
   "outputs": [
    {
     "name": "stdout",
     "output_type": "stream",
     "text": [
      "[2]\n",
      "[1, 3]\n"
     ]
    }
   ],
   "source": [
    "def array_diff(a, b):\n",
    "    return [x for x in a if x not in b]\n",
    "\n",
    "print(array_diff([1,2],[1]))\n",
    "print(array_diff([1,2,2,2,3],[2]))"
   ]
  },
  {
   "cell_type": "markdown",
   "metadata": {},
   "source": [
    "То же самое с использованием функции filter() (даже в документации написано, что функция filter() работает аналогично предыдущему примеру):"
   ]
  },
  {
   "cell_type": "code",
   "execution_count": 8,
   "metadata": {},
   "outputs": [
    {
     "name": "stdout",
     "output_type": "stream",
     "text": [
      "[2]\n",
      "[1, 3]\n"
     ]
    }
   ],
   "source": [
    "def array_diff(a, b):\n",
    "    return list(filter(lambda x: x not in b, a))\n",
    "\n",
    "print(array_diff([1,2],[1]))\n",
    "print(array_diff([1,2,2,2,3],[2]))"
   ]
  },
  {
   "cell_type": "markdown",
   "metadata": {},
   "source": [
    "### A Chain adding function\n",
    "\n",
    "5 kyu"
   ]
  },
  {
   "cell_type": "raw",
   "metadata": {},
   "source": [
    "We want to create a function that will add numbers together when called in succession.\n",
    "\n",
    "add(1)(2);\n",
    "// returns 3\n",
    "We also want to be able to continue to add numbers to our chain.\n",
    "\n",
    "add(1)(2)(3); // 6\n",
    "add(1)(2)(3)(4); // 10\n",
    "add(1)(2)(3)(4)(5); // 15\n",
    "and so on.\n",
    "\n",
    "A single call should return the number passed in.\n",
    "\n",
    "add(1); // 1\n",
    "We should be able to store the returned values and reuse them.\n",
    "\n",
    "var addTwo = add(2);\n",
    "addTwo; // 2\n",
    "addTwo + 5; // 7\n",
    "addTwo(3); // 5\n",
    "addTwo(3)(5); // 10\n",
    "We can assume any number being passed in will be valid whole number."
   ]
  },
  {
   "cell_type": "code",
   "execution_count": 57,
   "metadata": {},
   "outputs": [
    {
     "name": "stdout",
     "output_type": "stream",
     "text": [
      "2\n"
     ]
    }
   ],
   "source": [
    "def add(x):\n",
    "    return int(x + 0)\n",
    "\n",
    "print(add(2))"
   ]
  },
  {
   "cell_type": "code",
   "execution_count": 67,
   "metadata": {},
   "outputs": [
    {
     "name": "stdout",
     "output_type": "stream",
     "text": [
      "<function add.<locals>.<lambda> at 0x00000000050C67B8>\n",
      "<function add at 0x00000000050C62F0>\n",
      "<function add.<locals>.<lambda> at 0x00000000050C6C80>\n"
     ]
    }
   ],
   "source": [
    "def add(x = 0):\n",
    "    return lambda: add()\n",
    "\n",
    "print(add(2))\n",
    "print(add)\n",
    "print(add(2)())"
   ]
  },
  {
   "cell_type": "code",
   "execution_count": 76,
   "metadata": {},
   "outputs": [
    {
     "name": "stdout",
     "output_type": "stream",
     "text": [
      "<class '__main__.add'>\n",
      "2\n"
     ]
    }
   ],
   "source": [
    "class add:\n",
    "    def __init__(self, value):\n",
    "        self.res = 0\n",
    "        self(value)\n",
    "        \n",
    "    def __call__(self, value):\n",
    "        self.res += value\n",
    "        return self\n",
    "    \n",
    "print(add)\n",
    "print(add(2).res)"
   ]
  },
  {
   "cell_type": "code",
   "execution_count": 78,
   "metadata": {},
   "outputs": [
    {
     "name": "stdout",
     "output_type": "stream",
     "text": [
      "<class '__main__.add'>\n"
     ]
    },
    {
     "ename": "TypeError",
     "evalue": "add() takes no arguments",
     "output_type": "error",
     "traceback": [
      "\u001b[1;31m---------------------------------------------------------------------------\u001b[0m",
      "\u001b[1;31mTypeError\u001b[0m                                 Traceback (most recent call last)",
      "\u001b[1;32m<ipython-input-78-710a613af14a>\u001b[0m in \u001b[0;36m<module>\u001b[1;34m\u001b[0m\n\u001b[0;32m      7\u001b[0m \u001b[1;33m\u001b[0m\u001b[0m\n\u001b[0;32m      8\u001b[0m \u001b[0mprint\u001b[0m\u001b[1;33m(\u001b[0m\u001b[0madd\u001b[0m\u001b[1;33m)\u001b[0m\u001b[1;33m\u001b[0m\u001b[1;33m\u001b[0m\u001b[0m\n\u001b[1;32m----> 9\u001b[1;33m \u001b[0mprint\u001b[0m\u001b[1;33m(\u001b[0m\u001b[0madd\u001b[0m\u001b[1;33m(\u001b[0m\u001b[1;36m2\u001b[0m\u001b[1;33m)\u001b[0m\u001b[1;33m)\u001b[0m\u001b[1;33m\u001b[0m\u001b[1;33m\u001b[0m\u001b[0m\n\u001b[0m",
      "\u001b[1;31mTypeError\u001b[0m: add() takes no arguments"
     ]
    }
   ],
   "source": [
    "class add:\n",
    "    add.res = 0\n",
    "    def __init__(self, value):\n",
    "        add.res = value\n",
    "        add.__call__\n",
    "        \n",
    "    def __call__(self, value):\n",
    "        add.res += value\n",
    "        return self\n",
    "    \n",
    "print(add)\n",
    "print(add(2))"
   ]
  },
  {
   "cell_type": "code",
   "execution_count": 109,
   "metadata": {},
   "outputs": [
    {
     "name": "stdout",
     "output_type": "stream",
     "text": [
      "<class 'int'>\n",
      "['__abs__', '__add__', '__and__', '__bool__', '__ceil__', '__class__', '__delattr__', '__dir__', '__divmod__', '__doc__', '__eq__', '__float__', '__floor__', '__floordiv__', '__format__', '__ge__', '__getattribute__', '__getnewargs__', '__gt__', '__hash__', '__index__', '__init__', '__init_subclass__', '__int__', '__invert__', '__le__', '__lshift__', '__lt__', '__mod__', '__mul__', '__ne__', '__neg__', '__new__', '__or__', '__pos__', '__pow__', '__radd__', '__rand__', '__rdivmod__', '__reduce__', '__reduce_ex__', '__repr__', '__rfloordiv__', '__rlshift__', '__rmod__', '__rmul__', '__ror__', '__round__', '__rpow__', '__rrshift__', '__rshift__', '__rsub__', '__rtruediv__', '__rxor__', '__setattr__', '__sizeof__', '__str__', '__sub__', '__subclasshook__', '__truediv__', '__trunc__', '__xor__', 'bit_length', 'conjugate', 'denominator', 'from_bytes', 'imag', 'numerator', 'real', 'to_bytes']\n",
      "1\n",
      "1\n",
      "3\n",
      "1\n"
     ]
    }
   ],
   "source": [
    "a = 1\n",
    "print(type(a))\n",
    "print(dir(int))\n",
    "print(a.__repr__())\n",
    "#print(a.__dict__) # такого нет\n",
    "print(a.__int__())\n",
    "print(a.__add__(2))\n",
    "print(a)"
   ]
  },
  {
   "cell_type": "code",
   "execution_count": 108,
   "metadata": {},
   "outputs": [
    {
     "name": "stdout",
     "output_type": "stream",
     "text": [
      "2\n",
      "<class '__main__.add'>\n",
      "<class '__main__.add'>\n",
      "<class 'int'>\n",
      "5\n",
      "\n",
      "2\n",
      "<class '__main__.add'>\n",
      "<class 'int'>\n",
      "3\n",
      "<class '__main__.add'>\n",
      "<class 'int'>\n"
     ]
    },
    {
     "ename": "TypeError",
     "evalue": "'int' object is not callable",
     "output_type": "error",
     "traceback": [
      "\u001b[1;31m---------------------------------------------------------------------------\u001b[0m",
      "\u001b[1;31mTypeError\u001b[0m                                 Traceback (most recent call last)",
      "\u001b[1;32m<ipython-input-108-8d944d8188a6>\u001b[0m in \u001b[0;36m<module>\u001b[1;34m\u001b[0m\n\u001b[0;32m     14\u001b[0m \u001b[0mprint\u001b[0m\u001b[1;33m(\u001b[0m\u001b[0madd\u001b[0m\u001b[1;33m(\u001b[0m\u001b[1;36m2\u001b[0m\u001b[1;33m)\u001b[0m\u001b[1;33m)\u001b[0m\u001b[1;33m\u001b[0m\u001b[1;33m\u001b[0m\u001b[0m\n\u001b[0;32m     15\u001b[0m \u001b[0mprint\u001b[0m\u001b[1;33m(\u001b[0m\u001b[0madd\u001b[0m\u001b[1;33m(\u001b[0m\u001b[1;36m2\u001b[0m\u001b[1;33m)\u001b[0m\u001b[1;33m(\u001b[0m\u001b[1;36m1\u001b[0m\u001b[1;33m)\u001b[0m\u001b[1;33m)\u001b[0m\u001b[1;33m\u001b[0m\u001b[1;33m\u001b[0m\u001b[0m\n\u001b[1;32m---> 16\u001b[1;33m \u001b[0mprint\u001b[0m\u001b[1;33m(\u001b[0m\u001b[0madd\u001b[0m\u001b[1;33m(\u001b[0m\u001b[1;36m1\u001b[0m\u001b[1;33m)\u001b[0m\u001b[1;33m(\u001b[0m\u001b[1;36m2\u001b[0m\u001b[1;33m)\u001b[0m\u001b[1;33m(\u001b[0m\u001b[1;36m3\u001b[0m\u001b[1;33m)\u001b[0m\u001b[1;33m)\u001b[0m \u001b[1;31m# 6\u001b[0m\u001b[1;33m\u001b[0m\u001b[1;33m\u001b[0m\u001b[0m\n\u001b[0m\u001b[0;32m     17\u001b[0m \u001b[0mprint\u001b[0m\u001b[1;33m(\u001b[0m\u001b[0madd\u001b[0m\u001b[1;33m(\u001b[0m\u001b[1;36m1\u001b[0m\u001b[1;33m)\u001b[0m\u001b[1;33m(\u001b[0m\u001b[1;36m2\u001b[0m\u001b[1;33m)\u001b[0m\u001b[1;33m(\u001b[0m\u001b[1;36m3\u001b[0m\u001b[1;33m)\u001b[0m\u001b[1;33m(\u001b[0m\u001b[1;36m4\u001b[0m\u001b[1;33m)\u001b[0m\u001b[1;33m)\u001b[0m \u001b[1;31m# 10\u001b[0m\u001b[1;33m\u001b[0m\u001b[1;33m\u001b[0m\u001b[0m\n\u001b[0;32m     18\u001b[0m \u001b[0mprint\u001b[0m\u001b[1;33m(\u001b[0m\u001b[0madd\u001b[0m\u001b[1;33m(\u001b[0m\u001b[1;36m1\u001b[0m\u001b[1;33m)\u001b[0m\u001b[1;33m(\u001b[0m\u001b[1;36m2\u001b[0m\u001b[1;33m)\u001b[0m\u001b[1;33m(\u001b[0m\u001b[1;36m3\u001b[0m\u001b[1;33m)\u001b[0m\u001b[1;33m(\u001b[0m\u001b[1;36m4\u001b[0m\u001b[1;33m)\u001b[0m\u001b[1;33m(\u001b[0m\u001b[1;36m5\u001b[0m\u001b[1;33m)\u001b[0m\u001b[1;33m)\u001b[0m \u001b[1;31m# 15\u001b[0m\u001b[1;33m\u001b[0m\u001b[1;33m\u001b[0m\u001b[0m\n",
      "\u001b[1;31mTypeError\u001b[0m: 'int' object is not callable"
     ]
    }
   ],
   "source": [
    "class add(int):\n",
    "    def __call__(self, value):\n",
    "        print(type(self))\n",
    "        self += value\n",
    "        print(type(self))\n",
    "        return self\n",
    "    \n",
    "addTwo = add(2)\n",
    "print(addTwo)\n",
    "print(type(addTwo))\n",
    "print(addTwo(3))\n",
    "print()\n",
    "\n",
    "print(add(2))\n",
    "print(add(2)(1))\n",
    "print(add(1)(2)(3)) # 6\n",
    "print(add(1)(2)(3)(4)) # 10\n",
    "print(add(1)(2)(3)(4)(5)) # 15"
   ]
  },
  {
   "cell_type": "markdown",
   "metadata": {},
   "source": [
    "Готовое решение:"
   ]
  },
  {
   "cell_type": "code",
   "execution_count": 28,
   "metadata": {},
   "outputs": [
    {
     "name": "stdout",
     "output_type": "stream",
     "text": [
      "2\n",
      "7\n",
      "<class '__main__.add'>\n",
      "5\n",
      "<class '__main__.add'>\n",
      "<class '__main__.add'>\n",
      "10\n",
      "2\n",
      "<class '__main__.add'>\n",
      "3\n",
      "<class '__main__.add'>\n",
      "<class '__main__.add'>\n",
      "6\n",
      "<class '__main__.add'>\n",
      "<class '__main__.add'>\n",
      "<class '__main__.add'>\n",
      "10\n",
      "<class '__main__.add'>\n",
      "<class '__main__.add'>\n",
      "<class '__main__.add'>\n",
      "<class '__main__.add'>\n",
      "15\n"
     ]
    }
   ],
   "source": [
    "class add(int):\n",
    "    def __call__(self, value):\n",
    "        #print(type(self))\n",
    "        return add(self + value)\n",
    "    \n",
    "addTwo = add(2)\n",
    "print(addTwo) # 2\n",
    "print(addTwo + 5) # 7\n",
    "print(addTwo(3)) # 5\n",
    "print(addTwo(3)(5)) # 10\n",
    "\n",
    "print(add(2)) # 2\n",
    "print(add(2)(1)) # 3\n",
    "print(add(1)(2)(3)) # 6\n",
    "print(add(1)(2)(3)(4)) # 10\n",
    "print(add(1)(2)(3)(4)(5)) # 15"
   ]
  },
  {
   "cell_type": "code",
   "execution_count": 114,
   "metadata": {},
   "outputs": [
    {
     "name": "stdout",
     "output_type": "stream",
     "text": [
      "construct\n"
     ]
    },
    {
     "ename": "TypeError",
     "evalue": "object.__init__() takes exactly one argument (the instance to initialize)",
     "output_type": "error",
     "traceback": [
      "\u001b[1;31m---------------------------------------------------------------------------\u001b[0m",
      "\u001b[1;31mTypeError\u001b[0m                                 Traceback (most recent call last)",
      "\u001b[1;32m<ipython-input-114-d986cbf04183>\u001b[0m in \u001b[0;36m<module>\u001b[1;34m\u001b[0m\n\u001b[0;32m      9\u001b[0m         \u001b[1;32mreturn\u001b[0m \u001b[0mself\u001b[0m\u001b[1;33m\u001b[0m\u001b[1;33m\u001b[0m\u001b[0m\n\u001b[0;32m     10\u001b[0m \u001b[1;33m\u001b[0m\u001b[0m\n\u001b[1;32m---> 11\u001b[1;33m \u001b[0mprint\u001b[0m\u001b[1;33m(\u001b[0m\u001b[0madd\u001b[0m\u001b[1;33m(\u001b[0m\u001b[1;36m2\u001b[0m\u001b[1;33m)\u001b[0m\u001b[1;33m)\u001b[0m\u001b[1;33m\u001b[0m\u001b[1;33m\u001b[0m\u001b[0m\n\u001b[0m\u001b[0;32m     12\u001b[0m \u001b[0mprint\u001b[0m\u001b[1;33m(\u001b[0m\u001b[0madd\u001b[0m\u001b[1;33m(\u001b[0m\u001b[1;36m2\u001b[0m\u001b[1;33m)\u001b[0m\u001b[1;33m(\u001b[0m\u001b[1;36m1\u001b[0m\u001b[1;33m)\u001b[0m\u001b[1;33m)\u001b[0m\u001b[1;33m\u001b[0m\u001b[1;33m\u001b[0m\u001b[0m\n\u001b[0;32m     13\u001b[0m \u001b[0mprint\u001b[0m\u001b[1;33m(\u001b[0m\u001b[0madd\u001b[0m\u001b[1;33m(\u001b[0m\u001b[1;36m1\u001b[0m\u001b[1;33m)\u001b[0m\u001b[1;33m(\u001b[0m\u001b[1;36m2\u001b[0m\u001b[1;33m)\u001b[0m\u001b[1;33m(\u001b[0m\u001b[1;36m3\u001b[0m\u001b[1;33m)\u001b[0m\u001b[1;33m)\u001b[0m \u001b[1;31m# 6\u001b[0m\u001b[1;33m\u001b[0m\u001b[1;33m\u001b[0m\u001b[0m\n",
      "\u001b[1;32m<ipython-input-114-d986cbf04183>\u001b[0m in \u001b[0;36m__init__\u001b[1;34m(self, value)\u001b[0m\n\u001b[0;32m      2\u001b[0m     \u001b[1;32mdef\u001b[0m \u001b[0m__init__\u001b[0m\u001b[1;33m(\u001b[0m\u001b[0mself\u001b[0m\u001b[1;33m,\u001b[0m \u001b[0mvalue\u001b[0m\u001b[1;33m)\u001b[0m\u001b[1;33m:\u001b[0m\u001b[1;33m\u001b[0m\u001b[1;33m\u001b[0m\u001b[0m\n\u001b[0;32m      3\u001b[0m         \u001b[0mprint\u001b[0m\u001b[1;33m(\u001b[0m\u001b[1;34m'construct'\u001b[0m\u001b[1;33m)\u001b[0m\u001b[1;33m\u001b[0m\u001b[1;33m\u001b[0m\u001b[0m\n\u001b[1;32m----> 4\u001b[1;33m         \u001b[0msuper\u001b[0m\u001b[1;33m(\u001b[0m\u001b[0madd\u001b[0m\u001b[1;33m,\u001b[0m \u001b[0mself\u001b[0m\u001b[1;33m)\u001b[0m\u001b[1;33m.\u001b[0m\u001b[0m__init__\u001b[0m\u001b[1;33m(\u001b[0m\u001b[0mvalue\u001b[0m\u001b[1;33m)\u001b[0m\u001b[1;33m\u001b[0m\u001b[1;33m\u001b[0m\u001b[0m\n\u001b[0m\u001b[0;32m      5\u001b[0m \u001b[1;33m\u001b[0m\u001b[0m\n\u001b[0;32m      6\u001b[0m     \u001b[1;32mdef\u001b[0m \u001b[0m__call__\u001b[0m\u001b[1;33m(\u001b[0m\u001b[0mself\u001b[0m\u001b[1;33m,\u001b[0m \u001b[0mvalue\u001b[0m\u001b[1;33m)\u001b[0m\u001b[1;33m:\u001b[0m\u001b[1;33m\u001b[0m\u001b[1;33m\u001b[0m\u001b[0m\n",
      "\u001b[1;31mTypeError\u001b[0m: object.__init__() takes exactly one argument (the instance to initialize)"
     ]
    }
   ],
   "source": [
    "class add(int):\n",
    "    def __init__(self, value):\n",
    "        print('construct')\n",
    "        super(add, self).__init__(value)\n",
    "    \n",
    "    def __call__(self, value):\n",
    "        self += value\n",
    "        print(type(self))\n",
    "        return self\n",
    "\n",
    "print(add(2))\n",
    "print(add(2)(1))\n",
    "print(add(1)(2)(3)) # 6\n",
    "print(add(1)(2)(3)(4)) # 10\n",
    "print(add(1)(2)(3)(4)(5)) # 15"
   ]
  },
  {
   "cell_type": "code",
   "execution_count": null,
   "metadata": {},
   "outputs": [],
   "source": []
  },
  {
   "cell_type": "code",
   "execution_count": null,
   "metadata": {},
   "outputs": [],
   "source": []
  },
  {
   "cell_type": "markdown",
   "metadata": {},
   "source": [
    "### Study: Function object with binded argument\n",
    "\n",
    "I want is a function object with the parameter has been binded, let's name it c, not just '11'\n",
    "\n",
    "Довольно странный запрос. Почему автор запроса хочет, чтобы фнкция с() вызывалась без аргументов? "
   ]
  },
  {
   "cell_type": "code",
   "execution_count": 9,
   "metadata": {},
   "outputs": [
    {
     "data": {
      "text/plain": [
       "11"
      ]
     },
     "execution_count": 9,
     "metadata": {},
     "output_type": "execute_result"
    }
   ],
   "source": [
    "def a(p):\n",
    "    return p + 1\n",
    "\n",
    "def b(func, p):\n",
    "    return func(p)\n",
    "\n",
    "b(a, 10)"
   ]
  },
  {
   "cell_type": "markdown",
   "metadata": {},
   "source": [
    "К странному запросу усть следующие 3 решения, которые делают одно и то же, а именно предоставляют бесполезную функцию, которая ничего не принимает, а просто возвращает 11:"
   ]
  },
  {
   "cell_type": "code",
   "execution_count": 28,
   "metadata": {},
   "outputs": [
    {
     "name": "stdout",
     "output_type": "stream",
     "text": [
      "11\n"
     ]
    }
   ],
   "source": [
    "def a(p):\n",
    "    return p + 1\n",
    "\n",
    "def b(func, p):\n",
    "    return lambda: func(p)\n",
    "\n",
    "c = b(a, 10)\n",
    "\n",
    "print(c())"
   ]
  },
  {
   "cell_type": "code",
   "execution_count": 30,
   "metadata": {},
   "outputs": [
    {
     "name": "stdout",
     "output_type": "stream",
     "text": [
      "11\n"
     ]
    }
   ],
   "source": [
    "def a(p):\n",
    "    return p + 1\n",
    "\n",
    "def b(func, p):\n",
    "    return func(p)\n",
    "\n",
    "с = lambda: b(a, 10)\n",
    "    \n",
    "print(c())"
   ]
  },
  {
   "cell_type": "code",
   "execution_count": 29,
   "metadata": {},
   "outputs": [
    {
     "name": "stdout",
     "output_type": "stream",
     "text": [
      "11\n"
     ]
    }
   ],
   "source": [
    "def a(p):\n",
    "    return p + 1\n",
    "\n",
    "def b(func, p):\n",
    "    return func(p)\n",
    "\n",
    "def c():\n",
    "    return b(a, 10)\n",
    "    \n",
    "print(c())"
   ]
  },
  {
   "cell_type": "markdown",
   "metadata": {},
   "source": [
    "Решения, имеющее больше смысла:"
   ]
  },
  {
   "cell_type": "markdown",
   "metadata": {},
   "source": [
    "You can create another function that calls the your function with the parameter that you want:"
   ]
  },
  {
   "cell_type": "code",
   "execution_count": 41,
   "metadata": {},
   "outputs": [
    {
     "name": "stdout",
     "output_type": "stream",
     "text": [
      "11\n",
      "14\n"
     ]
    }
   ],
   "source": [
    "def old_function(x, y):\n",
    "    return x + y\n",
    "\n",
    "def bound_parameter_function(x):\n",
    "    return old_function(x, 1)\n",
    "\n",
    "print(bound_parameter_function(10))\n",
    "print(bound_parameter_function(13))"
   ]
  },
  {
   "cell_type": "markdown",
   "metadata": {},
   "source": [
    "Of course, if you need to create such functions on the fly, you can write another function that does the job for you:"
   ]
  },
  {
   "cell_type": "code",
   "execution_count": 42,
   "metadata": {},
   "outputs": [
    {
     "name": "stdout",
     "output_type": "stream",
     "text": [
      "11\n",
      "14\n"
     ]
    }
   ],
   "source": [
    "def parameter_bound(f, parm_to_bind):\n",
    "    def ret(y):\n",
    "        return f(parm_to_bind, y)\n",
    "    return ret\n",
    "\n",
    "new_func = parameter_bound(old_function, 1)\n",
    "print(new_func(10))\n",
    "print(new_func(13))"
   ]
  },
  {
   "cell_type": "markdown",
   "metadata": {},
   "source": [
    "Переписав подход выше конкрестно под функцию сложения, и заменив неговорящее название с на add1, я получила функцию сложения с только одним связанным праметром, что уже имеет больше смысла, чем первые три решения:"
   ]
  },
  {
   "cell_type": "code",
   "execution_count": 39,
   "metadata": {},
   "outputs": [
    {
     "name": "stdout",
     "output_type": "stream",
     "text": [
      "11\n",
      "14\n"
     ]
    }
   ],
   "source": [
    "def add_parameter_bound(param_to_bind):\n",
    "    return lambda x: x + param_to_bind\n",
    "\n",
    "add1 = add_parameter_bound(1)\n",
    "print(add1(10))\n",
    "print(add1(13))"
   ]
  },
  {
   "cell_type": "markdown",
   "metadata": {},
   "source": [
    "Более улучшенная версия последних трёх решений, это использование встроенных в Python интрументов:"
   ]
  },
  {
   "cell_type": "markdown",
   "metadata": {},
   "source": [
    "The functools module provides the partial function which can give you curried functions. It can be used to apply some parameters to functions, and leave the rest to be supplied:"
   ]
  },
  {
   "cell_type": "code",
   "execution_count": 43,
   "metadata": {},
   "outputs": [
    {
     "name": "stdout",
     "output_type": "stream",
     "text": [
      "11\n",
      "14\n"
     ]
    }
   ],
   "source": [
    "import functools\n",
    "\n",
    "def add(a, b):\n",
    "    return a + b\n",
    "\n",
    "add1 = functools.partial(add, 1)\n",
    "print(add1(10))\n",
    "print(add1(13))"
   ]
  },
  {
   "cell_type": "markdown",
   "metadata": {},
   "source": [
    "Но так как фунция add - это просто фунция для сложения, то зачем нам её определять, можно же просто сделать через оператор +:"
   ]
  },
  {
   "cell_type": "code",
   "execution_count": 51,
   "metadata": {},
   "outputs": [
    {
     "name": "stdout",
     "output_type": "stream",
     "text": [
      "functools.partial(<function <lambda> at 0x0000000004E0C268>)\n",
      "11\n",
      "14\n"
     ]
    }
   ],
   "source": [
    "import functools\n",
    "\n",
    "add1 = functools.partial(lambda x: x + 1)\n",
    "print(add1)\n",
    "print(add1(10))\n",
    "print(add1(13))"
   ]
  },
  {
   "cell_type": "markdown",
   "metadata": {},
   "source": [
    "Но так как в предыдущем решении нет связывамого аргумента, то использование functools.partial вообще бесполезно. В таком случае можно сделать просто так:"
   ]
  },
  {
   "cell_type": "code",
   "execution_count": 54,
   "metadata": {},
   "outputs": [
    {
     "name": "stdout",
     "output_type": "stream",
     "text": [
      "<function <lambda> at 0x00000000050C61E0>\n",
      "11\n",
      "14\n",
      "15\n"
     ]
    }
   ],
   "source": [
    "add1 = lambda x: x + 1\n",
    "\n",
    "print(add1)\n",
    "print(add1(10))\n",
    "print(add1(13))\n",
    "print(add1(14))"
   ]
  },
  {
   "cell_type": "markdown",
   "metadata": {},
   "source": [
    "А так как по PEP8, на сколько я помню, такое определение функций: add1 = lambda x: x + 1, не рекомендуется, то, значит, надо сделать так:"
   ]
  },
  {
   "cell_type": "code",
   "execution_count": 50,
   "metadata": {},
   "outputs": [
    {
     "name": "stdout",
     "output_type": "stream",
     "text": [
      "11\n",
      "14\n",
      "15\n"
     ]
    }
   ],
   "source": [
    "def add1(x):\n",
    "    return x + 1\n",
    "\n",
    "print(add1(10))\n",
    "print(add1(13))\n",
    "print(add1(14))"
   ]
  },
  {
   "cell_type": "markdown",
   "metadata": {},
   "source": [
    "### Build a pile of Cubes\n",
    "\n",
    "6 kyu"
   ]
  },
  {
   "cell_type": "raw",
   "metadata": {},
   "source": [
    "Your task is to construct a building which will be a pile of n cubes. The cube at the bottom will have a volume of n^3, the cube above will have volume of (n-1)^3 and so on until the top which will have a volume of 1^3.\n",
    "\n",
    "You are given the total volume m of the building. Being given m can you find the number n of cubes you will have to build?\n",
    "\n",
    "The parameter of the function findNb (find_nb, find-nb, findNb) will be an integer m and you have to return the integer n such as n^3 + (n-1)^3 + ... + 1^3 = m if such a n exists or -1 if there is no such n.\n",
    "\n",
    "Examples:\n",
    "findNb(1071225) --> 45\n",
    "findNb(91716553919377) --> -1\n",
    "mov rdi, 1071225\n",
    "call find_nb            ; rax <-- 45\n",
    "\n",
    "mov rdi, 91716553919377\n",
    "call find_nb            ; rax <-- -1"
   ]
  },
  {
   "cell_type": "markdown",
   "metadata": {},
   "source": [
    "Готовое решение: "
   ]
  },
  {
   "cell_type": "code",
   "execution_count": 25,
   "metadata": {},
   "outputs": [
    {
     "name": "stdout",
     "output_type": "stream",
     "text": [
      "2\n",
      "45\n",
      "-1\n"
     ]
    }
   ],
   "source": [
    "def find_nb(m):\n",
    "    n = -1\n",
    "    while m:\n",
    "        n += 1\n",
    "        m -= n * n * n\n",
    "        if m < 0:\n",
    "            return -1\n",
    "    return n\n",
    "\n",
    "print(find_nb(9))\n",
    "print(find_nb(1071225))\n",
    "print(find_nb(91716553919377))"
   ]
  },
  {
   "cell_type": "markdown",
   "metadata": {},
   "source": [
    "### Проверка работы условия с целыми числами"
   ]
  },
  {
   "cell_type": "code",
   "execution_count": 19,
   "metadata": {},
   "outputs": [
    {
     "name": "stdout",
     "output_type": "stream",
     "text": [
      "False\n"
     ]
    }
   ],
   "source": [
    "n = 0\n",
    "if n:\n",
    "    print(True)\n",
    "else:\n",
    "    print(False)"
   ]
  },
  {
   "cell_type": "code",
   "execution_count": 20,
   "metadata": {},
   "outputs": [
    {
     "name": "stdout",
     "output_type": "stream",
     "text": [
      "True\n"
     ]
    }
   ],
   "source": [
    "n = 1\n",
    "if n:\n",
    "    print(True)\n",
    "else:\n",
    "    print(False)"
   ]
  },
  {
   "cell_type": "code",
   "execution_count": 21,
   "metadata": {},
   "outputs": [
    {
     "name": "stdout",
     "output_type": "stream",
     "text": [
      "True\n"
     ]
    }
   ],
   "source": [
    "n = -1\n",
    "if n:\n",
    "    print(True)\n",
    "else:\n",
    "    print(False)"
   ]
  },
  {
   "cell_type": "markdown",
   "metadata": {},
   "source": [
    "20200608  \n",
    "### Welcome!\n",
    "8 kyu"
   ]
  },
  {
   "cell_type": "markdown",
   "metadata": {},
   "source": [
    "Your start-up's BA has told marketing that your website has a large audience in Scandinavia and surrounding countries. Marketing thinks it would be great to welcome visitors to the site in their own language. Luckily you already use an API that detects the user's location, so this is an easy win.\n",
    "\n",
    "The Task\n",
    "\n",
    "Think of a way to store the languages as a database (eg an object). The languages are listed below so you can copy and paste!\n",
    "Write a 'welcome' function that takes a parameter 'language' (always a string), and returns a greeting - if you have it in your database. It should default to English if the language is not in the database, or in the event of an invalid input.\n",
    "\n",
    "The Database\n",
    "\n",
    "'english': 'Welcome',  \n",
    "'czech': 'Vitejte',  \n",
    "'danish': 'Velkomst',  \n",
    "'dutch': 'Welkom',  \n",
    "'estonian': 'Tere tulemast',  \n",
    "'finnish': 'Tervetuloa',  \n",
    "'flemish': 'Welgekomen',  \n",
    "'french': 'Bienvenue',  \n",
    "'german': 'Willkommen',  \n",
    "'irish': 'Failte',  \n",
    "'italian': 'Benvenuto',  \n",
    "'latvian': 'Gaidits',  \n",
    "'lithuanian': 'Laukiamas',  \n",
    "'polish': 'Witamy',  \n",
    "'spanish': 'Bienvenido',  \n",
    "'swedish': 'Valkommen',  \n",
    "'welsh': 'Croeso'\n",
    "\n",
    "Possible invalid inputs include:\n",
    "\n",
    "IP_ADDRESS_INVALID - not a valid ipv4 or ipv6 ip address\n",
    "IP_ADDRESS_NOT_FOUND - ip address not in the database\n",
    "IP_ADDRESS_REQUIRED - no ip address was supplied"
   ]
  },
  {
   "cell_type": "code",
   "execution_count": null,
   "metadata": {},
   "outputs": [],
   "source": [
    "lang_db = {\n",
    "    'english': 'Welcome',\n",
    "    'czech': 'Vitejte',\n",
    "    'danish': 'Velkomst',\n",
    "    'dutch': 'Welkom',\n",
    "    'estonian': 'Tere tulemast',\n",
    "    'finnish': 'Tervetuloa',\n",
    "    'flemish': 'Welgekomen',\n",
    "    'french': 'Bienvenue',\n",
    "    'german': 'Willkommen',\n",
    "    'irish': 'Failte',\n",
    "    'italian': 'Benvenuto',\n",
    "    'latvian': 'Gaidits',\n",
    "    'lithuanian': 'Laukiamas',\n",
    "    'polish': 'Witamy',\n",
    "    'spanish': 'Bienvenido',\n",
    "    'swedish': 'Valkommen',\n",
    "    'welsh': 'Croeso'\n",
    "}\n",
    "\n",
    "def greet(language):\n",
    "    return lang_db.get(language, lang_db['english'])"
   ]
  },
  {
   "cell_type": "markdown",
   "metadata": {},
   "source": [
    "### Enumerable Magic #5- True for Just One?\n",
    "\n",
    "7 kyu  \n",
    "\n",
    "Create a function called one that accepts two params:  \n",
    " \n",
    "a sequence  \n",
    "a function  \n",
    "and returns true only if the function in the params returns true for exactly one (1) item in the sequence.  \n",
    "\n",
    "Example  \n",
    "one([1, 3, 5, 6, 99, 1, 3], bigger_than_ten) -> true  \n",
    "one([1, 3, 5, 6, 99, 88, 3], bigger_than_ten) -> false  \n",
    "one([1, 3, 5, 6, 5, 1, 3], bigger_than_ten) -> false  "
   ]
  },
  {
   "cell_type": "markdown",
   "metadata": {},
   "source": [
    "__Моё решение:__"
   ]
  },
  {
   "cell_type": "code",
   "execution_count": 10,
   "metadata": {},
   "outputs": [
    {
     "name": "stdout",
     "output_type": "stream",
     "text": [
      "False\n",
      "True\n"
     ]
    }
   ],
   "source": [
    "def one(sq, fun): \n",
    "    pos_ans = 0\n",
    "    for el in sq:\n",
    "        if fun(el):\n",
    "            pos_ans += 1\n",
    "        if pos_ans > 1:\n",
    "            break\n",
    "            \n",
    "    #return True if pos_ans == 1 else False\n",
    "    return pos_ans == 1\n",
    "\n",
    "less_than_9 = lambda x: x<9\n",
    "greater_than_9 = lambda x: x>9\n",
    "print(one([1, 3, 5, 6, 99, 1, 3], less_than_9))\n",
    "print(one([1, 3, 5, 6, 99, 1, 3], greater_than_9))"
   ]
  },
  {
   "cell_type": "markdown",
   "metadata": {},
   "source": [
    "__Не мои решения:__"
   ]
  },
  {
   "cell_type": "markdown",
   "metadata": {},
   "source": [
    "__№1__"
   ]
  },
  {
   "cell_type": "code",
   "execution_count": 6,
   "metadata": {},
   "outputs": [
    {
     "name": "stdout",
     "output_type": "stream",
     "text": [
      "False\n",
      "True\n"
     ]
    }
   ],
   "source": [
    "def one(sq, fun): \n",
    "    return sum(map(fun,sq))==1\n",
    "\n",
    "less_than_9 = lambda x: x<9\n",
    "greater_than_9 = lambda x: x>9\n",
    "print(one([1, 3, 5, 6, 99, 1, 3], less_than_9))\n",
    "print(one([1, 3, 5, 6, 99, 1, 3], greater_than_9))"
   ]
  },
  {
   "cell_type": "markdown",
   "metadata": {},
   "source": [
    "Разберу по частям:"
   ]
  },
  {
   "cell_type": "code",
   "execution_count": 30,
   "metadata": {},
   "outputs": [
    {
     "name": "stdout",
     "output_type": "stream",
     "text": [
      "[True, True, True, True, False, True, True]\n"
     ]
    }
   ],
   "source": [
    "sq = [1, 3, 5, 6, 99, 1, 3]\n",
    "fun = lambda x: x<9\n",
    "\n",
    "print(list(map(fun,sq)))"
   ]
  },
  {
   "cell_type": "markdown",
   "metadata": {},
   "source": [
    "Оказывается функция sum может суммировать коллекции с булевыми значениями:"
   ]
  },
  {
   "cell_type": "code",
   "execution_count": 8,
   "metadata": {},
   "outputs": [
    {
     "data": {
      "text/plain": [
       "2"
      ]
     },
     "execution_count": 8,
     "metadata": {},
     "output_type": "execute_result"
    }
   ],
   "source": [
    "sum((True, True, False))"
   ]
  },
  {
   "cell_type": "code",
   "execution_count": 9,
   "metadata": {},
   "outputs": [
    {
     "data": {
      "text/plain": [
       "3"
      ]
     },
     "execution_count": 9,
     "metadata": {},
     "output_type": "execute_result"
    }
   ],
   "source": [
    "sum((True, True, True))"
   ]
  },
  {
   "cell_type": "markdown",
   "metadata": {},
   "source": [
    "20200609  \n",
    "__№2__"
   ]
  },
  {
   "cell_type": "code",
   "execution_count": 11,
   "metadata": {},
   "outputs": [
    {
     "name": "stdout",
     "output_type": "stream",
     "text": [
      "False\n",
      "True\n"
     ]
    }
   ],
   "source": [
    "from typing import Iterable, Callable\n",
    "\n",
    "\n",
    "def one(sq: Iterable[int], fun: Callable[[int], bool]) -> bool:\n",
    "    sq_f = (True for s in sq if fun(s))\n",
    "    return next(sq_f, False) and not next(sq_f, False)\n",
    "\n",
    "less_than_9 = lambda x: x<9\n",
    "greater_than_9 = lambda x: x>9\n",
    "print(one([1, 3, 5, 6, 99, 1, 3], less_than_9))\n",
    "print(one([1, 3, 5, 6, 99, 1, 3], greater_than_9))"
   ]
  },
  {
   "cell_type": "markdown",
   "metadata": {},
   "source": [
    "Разберу по частям:"
   ]
  },
  {
   "cell_type": "code",
   "execution_count": 12,
   "metadata": {},
   "outputs": [
    {
     "name": "stdout",
     "output_type": "stream",
     "text": [
      "False\n",
      "True\n"
     ]
    }
   ],
   "source": [
    "def one(sq, fun):\n",
    "    sq_f = (True for s in sq if fun(s))\n",
    "    return next(sq_f, False) and not next(sq_f, False)\n",
    "\n",
    "less_than_9 = lambda x: x<9\n",
    "greater_than_9 = lambda x: x>9\n",
    "print(one([1, 3, 5, 6, 99, 1, 3], less_than_9))\n",
    "print(one([1, 3, 5, 6, 99, 1, 3], greater_than_9))"
   ]
  },
  {
   "cell_type": "code",
   "execution_count": 21,
   "metadata": {},
   "outputs": [
    {
     "name": "stdout",
     "output_type": "stream",
     "text": [
      "<generator object one.<locals>.<genexpr> at 0x00000000052AEA98>\n",
      "True True\n",
      "False\n",
      "<generator object one.<locals>.<genexpr> at 0x00000000052AEA98>\n",
      "True False\n",
      "True\n"
     ]
    }
   ],
   "source": [
    "def one(sq, fun):\n",
    "    sq_f = (True for s in sq if fun(s))\n",
    "    print(sq_f)\n",
    "    #print(list(sq_f))\n",
    "    a = next(sq_f, False)\n",
    "    b = next(sq_f, False)\n",
    "    print(a, b)\n",
    "    return a and not b\n",
    "\n",
    "less_than_9 = lambda x: x<9\n",
    "greater_than_9 = lambda x: x>9\n",
    "print(one([1, 3, 5, 6, 99, 1, 3], less_than_9)) # [True, True, True, True, True, True]\n",
    "print(one([1, 3, 5, 6, 99, 1, 3], greater_than_9)) # [True]"
   ]
  },
  {
   "cell_type": "markdown",
   "metadata": {},
   "source": [
    "__№3__"
   ]
  },
  {
   "cell_type": "code",
   "execution_count": 22,
   "metadata": {},
   "outputs": [
    {
     "name": "stdout",
     "output_type": "stream",
     "text": [
      "False\n",
      "True\n"
     ]
    }
   ],
   "source": [
    "from itertools import islice\n",
    "\n",
    "def one(sq, fun):\n",
    "    return len(list(islice(filter(fun, sq), 2))) == 1\n",
    "\n",
    "less_than_9 = lambda x: x<9\n",
    "greater_than_9 = lambda x: x>9\n",
    "print(one([1, 3, 5, 6, 99, 1, 3], less_than_9))\n",
    "print(one([1, 3, 5, 6, 99, 1, 3], greater_than_9))"
   ]
  },
  {
   "cell_type": "markdown",
   "metadata": {},
   "source": [
    "Разберу по частям:"
   ]
  },
  {
   "cell_type": "code",
   "execution_count": 26,
   "metadata": {},
   "outputs": [
    {
     "name": "stdout",
     "output_type": "stream",
     "text": [
      "<filter object at 0x00000000052D4BE0>\n",
      "<itertools.islice object at 0x00000000052D2958>\n",
      "[1, 3]\n"
     ]
    }
   ],
   "source": [
    "sq = [1, 3, 5, 6, 99, 1, 3]\n",
    "fun = lambda x: x<9\n",
    "\n",
    "print(filter(fun, sq))\n",
    "print(islice(filter(fun, sq), 2))\n",
    "print(list(islice(filter(fun, sq), 2)))"
   ]
  },
  {
   "cell_type": "markdown",
   "metadata": {},
   "source": [
    "В принципе, можно было бы обойтись и без islice, но тогда памяти, возможно придется выделить больше, чем для списка из 2 (максимум) элементов, т.к. результат работы filter может быть очень большим (конечно, в зависимости от длины и содержания изначальной последовательности sq):"
   ]
  },
  {
   "cell_type": "code",
   "execution_count": 28,
   "metadata": {},
   "outputs": [
    {
     "name": "stdout",
     "output_type": "stream",
     "text": [
      "<filter object at 0x00000000052D4FD0>\n",
      "<itertools.islice object at 0x00000000052D2A98>\n",
      "[1, 3, 5, 6, 1, 3]\n"
     ]
    }
   ],
   "source": [
    "sq = [1, 3, 5, 6, 99, 1, 3]\n",
    "fun = lambda x: x<9\n",
    "\n",
    "print(filter(fun, sq))\n",
    "print(islice(filter(fun, sq), 2))\n",
    "print(islice(filter(fun, sq), 2))\n",
    "print(list(filter(fun, sq)))"
   ]
  },
  {
   "cell_type": "markdown",
   "metadata": {},
   "source": [
    "Но конечно приминение здесь islice гарантирут, что из filter будут извлечено только 2 элемента.\n",
    "\n",
    "Но вообще это решение №3 не кажется супер эффективным, т.к. islice будет хотеть вытащить 2 элемента из filter, и может так оказаться, что для этого придётся обойти всю последовательность sq, т.к. остальные элементы sq б. давать False. В прочем в моём решение также может потребоваться обойти всю последовательность, так что эфективность этого решения и моего в этом смысле одинаковая. "
   ]
  },
  {
   "cell_type": "markdown",
   "metadata": {},
   "source": [
    "__№4__"
   ]
  },
  {
   "cell_type": "code",
   "execution_count": 3,
   "metadata": {},
   "outputs": [
    {
     "name": "stdout",
     "output_type": "stream",
     "text": [
      "<map object at 0x0000000005027390>\n",
      "False\n"
     ]
    }
   ],
   "source": [
    "def one(xs, f):\n",
    "    fxs = map(f, xs)\n",
    "    print(fxs)\n",
    "    #print(list(fxs))  # это влияет на ответ, т.к. генератор доходит до конца\n",
    "    return True in fxs and True not in fxs\n",
    "\n",
    "sq = [1, 3, 5, 6, 99, 1, 3]\n",
    "fun = lambda x: x>9\n",
    "print(one(sq, fun))"
   ]
  },
  {
   "cell_type": "markdown",
   "metadata": {},
   "source": [
    "Очень необычная контрукция: True in fxs and True not in fxs, где fxc - это map oblect. Не понимаю как она работает."
   ]
  },
  {
   "cell_type": "code",
   "execution_count": 7,
   "metadata": {},
   "outputs": [
    {
     "name": "stdout",
     "output_type": "stream",
     "text": [
      "<map object at 0x0000000005027A58>\n",
      "True\n",
      "[False, False]\n"
     ]
    }
   ],
   "source": [
    "sq = [1, 3, 5, 6, 99, 1, 3]\n",
    "fun = lambda x: x>9\n",
    "\n",
    "fxs = map(fun, sq)\n",
    "print(fxs)\n",
    "#print(list(fxs))  # [False, False, False, False, True, False, False] надо закомментить, т.к. генератор ззакончитася \n",
    "print(True in fxs)\n",
    "print(list(fxs))   # т.е. после выр-я True in fxs генератор выдаст не первый элемент, а элемент после первого True"
   ]
  },
  {
   "cell_type": "markdown",
   "metadata": {},
   "source": [
    "Ну теперь понятнее. Получается, чтобы выполнить оператор in, генератор проходит все элементы, пока не встретит элемент True, и при переходе к оператору not in, генератор выдаст следующий после найденного с помощью in элемента элемент, т.е. последовательность не будет просматриваться с начала.  \n",
    "\n",
    "Что касается оператора not in, то я не совсем понимаю как именно он работает. Вероятно, последовательность (или часть последовательности) просматривается до конца пока утверждение not in истинное. в результате not in вёрнёт true, но если встречается элемент, для которого утверждение not in становится ложным (в данном случае элемент True), то not in вернёт false. Попробую это проверить: "
   ]
  },
  {
   "cell_type": "code",
   "execution_count": 8,
   "metadata": {},
   "outputs": [
    {
     "name": "stdout",
     "output_type": "stream",
     "text": [
      "[False, False, False, False, True, False, False, True, False, False]\n",
      "False\n",
      "True\n",
      "[]\n"
     ]
    }
   ],
   "source": [
    "# Тест 1\n",
    "sq = [1, 3, 5, 6, 99, 1, 3, 10, 2, 3]\n",
    "fun = lambda x: x>9\n",
    "\n",
    "fxs = map(fun, sq)\n",
    "#print(list(fxs))\n",
    "# fxs содержит [False, False, False, False, True, False, False, True, False, False]\n",
    "print(True in fxs)\n",
    "print(True not in fxs)\n",
    "print(list(fxs))"
   ]
  },
  {
   "cell_type": "code",
   "execution_count": 10,
   "metadata": {},
   "outputs": [
    {
     "name": "stdout",
     "output_type": "stream",
     "text": [
      "True\n",
      "True\n",
      "[]\n"
     ]
    }
   ],
   "source": [
    "# Тест 2\n",
    "sq = [1, 3, 5, 6, 99, 1, 3, 2, 2]\n",
    "fun = lambda x: x>9\n",
    "\n",
    "fxs = map(fun, sq)\n",
    "# print(list(fxs))\n",
    "# fxs содержит [False, False, False, False, True, False, False, False, False]\n",
    "print(True in fxs)\n",
    "print(True not in fxs)\n",
    "print(list(fxs))"
   ]
  },
  {
   "cell_type": "markdown",
   "metadata": {},
   "source": [
    "Т.о., действительно, как только для какого-то элемента not in стало ложным, был возвращён false и просмотр окончен. \n",
    "\n",
    "Получается, по эффективности это решение похоже на моё решение и предыдущее, т.к. в каких-то тестовых случаях они не требуют полное прохождение по последовательности, и используют совсем немного доп. памяти. "
   ]
  },
  {
   "cell_type": "markdown",
   "metadata": {},
   "source": [
    "20200623  \n",
    "__№5__"
   ]
  },
  {
   "cell_type": "code",
   "execution_count": 30,
   "metadata": {},
   "outputs": [
    {
     "name": "stdout",
     "output_type": "stream",
     "text": [
      "False\n"
     ]
    }
   ],
   "source": [
    "def one(sq, fun):\n",
    "    it = filter(fun, sq)\n",
    "    return next(it, None) != next(it, None) is None\n",
    "\n",
    "sq = [1, 3, 5, 6, 99, 1, 3]\n",
    "fun = lambda x: x>9\n",
    "fun = lambda x: x<9\n",
    "print(one(sq, fun))"
   ]
  },
  {
   "cell_type": "markdown",
   "metadata": {},
   "source": [
    "В целом я пока не очень понимаю, что же тут происходит, именно этим на данный момент мне этот пример и интересен."
   ]
  },
  {
   "cell_type": "markdown",
   "metadata": {},
   "source": [
    "Так, а с такими данными тоже вернёт False?"
   ]
  },
  {
   "cell_type": "code",
   "execution_count": 31,
   "metadata": {},
   "outputs": [
    {
     "name": "stdout",
     "output_type": "stream",
     "text": [
      "False\n"
     ]
    }
   ],
   "source": [
    "def one(sq, fun):\n",
    "    it = filter(fun, sq)\n",
    "    return next(it, None) != next(it, None) is None\n",
    "\n",
    "sq = [1, 1, 1, 1, 1, 1, 1]\n",
    "fun = lambda x: x<9\n",
    "print(one(sq, fun))"
   ]
  },
  {
   "cell_type": "markdown",
   "metadata": {},
   "source": [
    "Да, тоже вернула False."
   ]
  },
  {
   "cell_type": "markdown",
   "metadata": {},
   "source": [
    "Если верить интернету, то != и is имеют одинаковый приоритет, получается, здесь они должны выполняться по порядку. Это также подтвержается проставлением скобок вокруг is, например, со скобками для второй функции (x<9) б. другой результат, а именно True:"
   ]
  },
  {
   "cell_type": "code",
   "execution_count": 22,
   "metadata": {},
   "outputs": [
    {
     "name": "stdout",
     "output_type": "stream",
     "text": [
      "True\n"
     ]
    }
   ],
   "source": [
    "def one(sq, fun):\n",
    "    it = filter(fun, sq)\n",
    "    return next(it, None) != (next(it, None) is None)\n",
    "\n",
    "sq = [1, 3, 5, 6, 99, 1, 3]\n",
    "fun = lambda x: x>9\n",
    "fun = lambda x: x<9\n",
    "print(one(sq, fun))"
   ]
  },
  {
   "cell_type": "markdown",
   "metadata": {},
   "source": [
    "Поехали дальше..."
   ]
  },
  {
   "cell_type": "code",
   "execution_count": 26,
   "metadata": {},
   "outputs": [
    {
     "name": "stdout",
     "output_type": "stream",
     "text": [
      "99\n"
     ]
    },
    {
     "ename": "StopIteration",
     "evalue": "",
     "output_type": "error",
     "traceback": [
      "\u001b[1;31m---------------------------------------------------------------------------\u001b[0m",
      "\u001b[1;31mStopIteration\u001b[0m                             Traceback (most recent call last)",
      "\u001b[1;32m<ipython-input-26-a37df78cd6a6>\u001b[0m in \u001b[0;36m<module>\u001b[1;34m\u001b[0m\n\u001b[0;32m      3\u001b[0m \u001b[0mit\u001b[0m \u001b[1;33m=\u001b[0m \u001b[0mfilter\u001b[0m\u001b[1;33m(\u001b[0m\u001b[0mfun\u001b[0m\u001b[1;33m,\u001b[0m \u001b[0msq\u001b[0m\u001b[1;33m)\u001b[0m\u001b[1;33m\u001b[0m\u001b[1;33m\u001b[0m\u001b[0m\n\u001b[0;32m      4\u001b[0m \u001b[0mprint\u001b[0m\u001b[1;33m(\u001b[0m\u001b[0mnext\u001b[0m\u001b[1;33m(\u001b[0m\u001b[0mit\u001b[0m\u001b[1;33m)\u001b[0m\u001b[1;33m)\u001b[0m\u001b[1;33m\u001b[0m\u001b[1;33m\u001b[0m\u001b[0m\n\u001b[1;32m----> 5\u001b[1;33m \u001b[0mprint\u001b[0m\u001b[1;33m(\u001b[0m\u001b[0mnext\u001b[0m\u001b[1;33m(\u001b[0m\u001b[0mit\u001b[0m\u001b[1;33m)\u001b[0m\u001b[1;33m)\u001b[0m\u001b[1;33m\u001b[0m\u001b[1;33m\u001b[0m\u001b[0m\n\u001b[0m",
      "\u001b[1;31mStopIteration\u001b[0m: "
     ]
    }
   ],
   "source": [
    "sq = [1, 3, 5, 6, 99, 1, 3]\n",
    "fun = lambda x: x>9\n",
    "it = filter(fun, sq)\n",
    "print(next(it))\n",
    "print(next(it))"
   ]
  },
  {
   "cell_type": "code",
   "execution_count": 27,
   "metadata": {},
   "outputs": [
    {
     "name": "stdout",
     "output_type": "stream",
     "text": [
      "99\n",
      "None\n"
     ]
    }
   ],
   "source": [
    "sq = [1, 3, 5, 6, 99, 1, 3]\n",
    "fun = lambda x: x>9\n",
    "it = filter(fun, sq)\n",
    "print(next(it))\n",
    "print(next(it, None)) # теперь нет StopIteration"
   ]
  },
  {
   "cell_type": "markdown",
   "metadata": {},
   "source": [
    "Для другой функции (x<9):"
   ]
  },
  {
   "cell_type": "code",
   "execution_count": 37,
   "metadata": {},
   "outputs": [
    {
     "name": "stdout",
     "output_type": "stream",
     "text": [
      "1\n",
      "1\n"
     ]
    }
   ],
   "source": [
    "sq = [1, 3, 5, 6, 99, 1, 3]\n",
    "fun = lambda x: x<9\n",
    "it = filter(fun, sq)\n",
    "print(next(it))\n",
    "print(next(it))"
   ]
  },
  {
   "cell_type": "code",
   "execution_count": 38,
   "metadata": {},
   "outputs": [
    {
     "name": "stdout",
     "output_type": "stream",
     "text": [
      "1\n",
      "1\n"
     ]
    }
   ],
   "source": [
    "sq = [1, 1, 5, 6, 99, 1, 3]\n",
    "fun = lambda x: x<9\n",
    "it = filter(fun, sq)\n",
    "print(next(it))\n",
    "print(next(it))"
   ]
  },
  {
   "cell_type": "markdown",
   "metadata": {},
   "source": [
    "А если теперь влоб посмотреть, что возвращают операторы != и is в данной ситуации?"
   ]
  },
  {
   "cell_type": "code",
   "execution_count": 34,
   "metadata": {},
   "outputs": [
    {
     "name": "stdout",
     "output_type": "stream",
     "text": [
      "True\n"
     ]
    }
   ],
   "source": [
    "print(1 != None)"
   ]
  },
  {
   "cell_type": "code",
   "execution_count": 35,
   "metadata": {},
   "outputs": [
    {
     "name": "stdout",
     "output_type": "stream",
     "text": [
      "True\n"
     ]
    }
   ],
   "source": [
    "print(1 != None is None)"
   ]
  },
  {
   "cell_type": "markdown",
   "metadata": {},
   "source": [
    "Почему так?!"
   ]
  },
  {
   "cell_type": "code",
   "execution_count": 36,
   "metadata": {},
   "outputs": [
    {
     "name": "stdout",
     "output_type": "stream",
     "text": [
      "False\n"
     ]
    }
   ],
   "source": [
    "print(True is None)"
   ]
  },
  {
   "cell_type": "code",
   "execution_count": 40,
   "metadata": {},
   "outputs": [
    {
     "name": "stdout",
     "output_type": "stream",
     "text": [
      "False\n"
     ]
    }
   ],
   "source": [
    "print(False is None)"
   ]
  },
  {
   "cell_type": "code",
   "execution_count": 41,
   "metadata": {},
   "outputs": [
    {
     "name": "stdout",
     "output_type": "stream",
     "text": [
      "False\n"
     ]
    }
   ],
   "source": [
    "print(1 != 1)"
   ]
  },
  {
   "cell_type": "code",
   "execution_count": 42,
   "metadata": {},
   "outputs": [
    {
     "name": "stdout",
     "output_type": "stream",
     "text": [
      "True\n"
     ]
    }
   ],
   "source": [
    "print(1 != 3)"
   ]
  },
  {
   "cell_type": "code",
   "execution_count": 43,
   "metadata": {},
   "outputs": [
    {
     "name": "stdout",
     "output_type": "stream",
     "text": [
      "True\n"
     ]
    }
   ],
   "source": [
    "print(None is None)"
   ]
  },
  {
   "cell_type": "code",
   "execution_count": 44,
   "metadata": {},
   "outputs": [
    {
     "name": "stdout",
     "output_type": "stream",
     "text": [
      "False\n"
     ]
    }
   ],
   "source": [
    "print(1 != 3 is None)"
   ]
  },
  {
   "cell_type": "code",
   "execution_count": 45,
   "metadata": {},
   "outputs": [
    {
     "name": "stdout",
     "output_type": "stream",
     "text": [
      "True\n"
     ]
    }
   ],
   "source": [
    "print(1 != (3 is None)) # это случай с проставленными скобками"
   ]
  },
  {
   "cell_type": "code",
   "execution_count": 46,
   "metadata": {},
   "outputs": [
    {
     "name": "stdout",
     "output_type": "stream",
     "text": [
      "False\n"
     ]
    }
   ],
   "source": [
    "print(True is None)"
   ]
  },
  {
   "cell_type": "code",
   "execution_count": 48,
   "metadata": {},
   "outputs": [
    {
     "name": "stdout",
     "output_type": "stream",
     "text": [
      "False\n"
     ]
    }
   ],
   "source": [
    "print(1 != True)"
   ]
  },
  {
   "cell_type": "code",
   "execution_count": 49,
   "metadata": {},
   "outputs": [
    {
     "name": "stdout",
     "output_type": "stream",
     "text": [
      "True\n"
     ]
    }
   ],
   "source": [
    "print(1 == True)"
   ]
  },
  {
   "cell_type": "code",
   "execution_count": 50,
   "metadata": {},
   "outputs": [
    {
     "name": "stdout",
     "output_type": "stream",
     "text": [
      "False\n"
     ]
    }
   ],
   "source": [
    "print(2 == True)"
   ]
  },
  {
   "cell_type": "code",
   "execution_count": 51,
   "metadata": {},
   "outputs": [
    {
     "name": "stdout",
     "output_type": "stream",
     "text": [
      "False\n"
     ]
    }
   ],
   "source": [
    "print(2 == False)"
   ]
  },
  {
   "cell_type": "code",
   "execution_count": 52,
   "metadata": {},
   "outputs": [
    {
     "name": "stdout",
     "output_type": "stream",
     "text": [
      "True\n"
     ]
    }
   ],
   "source": [
    "print(0 == False)"
   ]
  },
  {
   "cell_type": "code",
   "execution_count": 53,
   "metadata": {},
   "outputs": [
    {
     "name": "stdout",
     "output_type": "stream",
     "text": [
      "False\n"
     ]
    }
   ],
   "source": [
    "print(1 is True)"
   ]
  },
  {
   "cell_type": "code",
   "execution_count": 54,
   "metadata": {},
   "outputs": [
    {
     "name": "stdout",
     "output_type": "stream",
     "text": [
      "False\n"
     ]
    }
   ],
   "source": [
    "print(1 is None)"
   ]
  },
  {
   "cell_type": "code",
   "execution_count": 1,
   "metadata": {},
   "outputs": [
    {
     "data": {
      "text/plain": [
       "False"
      ]
     },
     "execution_count": 1,
     "metadata": {},
     "output_type": "execute_result"
    }
   ],
   "source": [
    "'1' == True"
   ]
  },
  {
   "cell_type": "code",
   "execution_count": 2,
   "metadata": {},
   "outputs": [
    {
     "data": {
      "text/plain": [
       "False"
      ]
     },
     "execution_count": 2,
     "metadata": {},
     "output_type": "execute_result"
    }
   ],
   "source": [
    "'True' == True"
   ]
  },
  {
   "cell_type": "markdown",
   "metadata": {},
   "source": [
    "20200628"
   ]
  },
  {
   "cell_type": "code",
   "execution_count": 3,
   "metadata": {},
   "outputs": [
    {
     "data": {
      "text/plain": [
       "True"
      ]
     },
     "execution_count": 3,
     "metadata": {},
     "output_type": "execute_result"
    }
   ],
   "source": [
    "1 != None is None"
   ]
  },
  {
   "cell_type": "markdown",
   "metadata": {},
   "source": [
    "https://qna.habr.com/q/798347:  \n",
    "В этом примере используется цепочка сравнений (chaining). Запись эквивалентна\n",
    "1 != None and None is None\n",
    "Out: True\n",
    "\n",
    "Ну вот и весь ответ - chaining! Поискала в официальных доках:  \n",
    "Note that comparisons, membership tests, and identity tests, all have the same precedence and have a left-to-right chaining feature as described in the Comparisons section.  \n",
    "\n",
    "6.10. Comparisons  \n",
    "Unlike C, all comparison operations in Python have the same priority, which is lower than that of any arithmetic, shifting or bitwise operation. Also unlike C, expressions like a < b < c have the interpretation that is conventional in mathematics:\n",
    "\n",
    "comparison    ::=  or_expr (comp_operator or_expr)*  \n",
    "comp_operator ::=  \"<\" | \">\" | \"==\" | \">=\" | \"<=\" | \"!=\"\n",
    "                   | \"is\" [\"not\"] | [\"not\"] \"in\"\n",
    "                   \n",
    "Comparisons yield boolean values: True or False.\n",
    "\n",
    "Comparisons can be chained arbitrarily, e.g., x < y <= z is equivalent to x < y and y <= z, except that y is evaluated only once (but in both cases z is not evaluated at all when x < y is found to be false).\n",
    "\n",
    "Formally, if a, b, c, …, y, z are expressions and op1, op2, …, opN are comparison operators, then a op1 b op2 c ... y opN z is equivalent to a op1 b and b op2 c and ... y opN z, except that each expression is evaluated at most once.\n",
    "\n",
    "Note that a op1 b op2 c doesn’t imply any kind of comparison between a and c, so that, e.g., x < y > z is perfectly legal (though perhaps not pretty)."
   ]
  },
  {
   "cell_type": "code",
   "execution_count": null,
   "metadata": {},
   "outputs": [],
   "source": []
  },
  {
   "cell_type": "markdown",
   "metadata": {},
   "source": [
    "Chaning вроде не работает для and и or:"
   ]
  },
  {
   "cell_type": "code",
   "execution_count": 21,
   "metadata": {},
   "outputs": [
    {
     "data": {
      "text/plain": [
       "True"
      ]
     },
     "execution_count": 21,
     "metadata": {},
     "output_type": "execute_result"
    }
   ],
   "source": [
    "True or False and True"
   ]
  },
  {
   "cell_type": "code",
   "execution_count": 23,
   "metadata": {},
   "outputs": [
    {
     "data": {
      "text/plain": [
       "False"
      ]
     },
     "execution_count": 23,
     "metadata": {},
     "output_type": "execute_result"
    }
   ],
   "source": [
    "(True or False) and (False and True)"
   ]
  },
  {
   "cell_type": "markdown",
   "metadata": {},
   "source": [
    "### Encrypt this!\n",
    "6 kyu  \n",
    "\n",
    "Description:  \n",
    "Encrypt this!  \n",
    "\n",
    "You want to create secret messages which can be deciphered by the Decipher this! kata. Here are the conditions:  \n",
    "\n",
    "Your message is a string containing space separated words.\n",
    "You need to encrypt each word in the message using the following rules:\n",
    "The first letter needs to be converted to its ASCII code.\n",
    "The second letter needs to be switched with the last letter\n",
    "Keepin' it simple: There are no special characters in input.\n",
    "\n",
    "Examples:  \n",
    "encrypt_this(\"Hello\") == \"72olle\"  \n",
    "encrypt_this(\"good\") == \"103doo\"  \n",
    "encrypt_this(\"hello world\") == \"104olle 119drlo\"  "
   ]
  },
  {
   "cell_type": "code",
   "execution_count": 5,
   "metadata": {},
   "outputs": [
    {
     "data": {
      "text/plain": [
       "65"
      ]
     },
     "execution_count": 5,
     "metadata": {},
     "output_type": "execute_result"
    }
   ],
   "source": [
    "ord('A')"
   ]
  },
  {
   "cell_type": "markdown",
   "metadata": {},
   "source": [
    "Моё решение:"
   ]
  },
  {
   "cell_type": "code",
   "execution_count": 25,
   "metadata": {},
   "outputs": [
    {
     "name": "stdout",
     "output_type": "stream",
     "text": [
      "72olle\n",
      "103doo\n",
      "104olle 119drlo\n",
      "65 119esi 111dl 111lw 108dvei 105n 97n 111ka\n"
     ]
    }
   ],
   "source": [
    "def encrypt_this(text):\n",
    "    def encrypt_word(word):\n",
    "        if len(word) == 1:\n",
    "            return str(ord(word[0]))\n",
    "        elif len(word) == 2:\n",
    "            return str(ord(word[0])) + word[1]\n",
    "        else:\n",
    "            return str(ord(word[0])) + word[-1] + word[2:-1] + word[1]\n",
    "        \n",
    "    return ' '.join(map(encrypt_word, text.split()))\n",
    "\n",
    "print(encrypt_this(\"Hello\")) # \"72olle\"\n",
    "print(encrypt_this(\"good\")) # \"103doo\"\n",
    "print(encrypt_this(\"hello world\")) # \"104olle 119drlo\"\n",
    "print(encrypt_this('A wise old owl lived in an oak')) # 65 119esi 111dl 111lw 108dvei 105n 97n 111ka"
   ]
  },
  {
   "cell_type": "markdown",
   "metadata": {},
   "source": [
    "Подсмотрела чужоё решение, поменяю своё, заимствовав интересную идею:"
   ]
  },
  {
   "cell_type": "code",
   "execution_count": 18,
   "metadata": {},
   "outputs": [
    {
     "name": "stdout",
     "output_type": "stream",
     "text": [
      "72olle\n",
      "103doo\n",
      "104olle 119drlo\n",
      "65 119esi 111dl 111lw 108dvei 105nn 97nn 111ka\n"
     ]
    }
   ],
   "source": [
    "def encrypt_this(text):\n",
    "    def encrypt_word(word):\n",
    "        word = list(word)\n",
    "        word[0] = str(ord(word[0]))\n",
    "\n",
    "        if len(word) > 2:\n",
    "            word[1], word[-1] = word[-1], word[1]\n",
    "\n",
    "        return ''.join(word)\n",
    "        \n",
    "    return ' '.join(map(encrypt_word, text.split()))\n",
    "\n",
    "print(encrypt_this(\"Hello\")) # \"72olle\"\n",
    "print(encrypt_this(\"good\")) # \"103doo\"\n",
    "print(encrypt_this(\"hello world\")) # \"104olle 119drlo\"\n",
    "print('65 119esi 111dl 111lw 108dvei 105nn 97nn 111ka')"
   ]
  },
  {
   "cell_type": "markdown",
   "metadata": {},
   "source": [
    "Чужие итересные решения:"
   ]
  },
  {
   "cell_type": "markdown",
   "metadata": {},
   "source": [
    "__№1__"
   ]
  },
  {
   "cell_type": "code",
   "execution_count": 19,
   "metadata": {},
   "outputs": [],
   "source": [
    "def encrypt_this(text):\n",
    "    result = []\n",
    "    \n",
    "    for word in text.split():\n",
    "        # turn word into a list\n",
    "        word = list(word)\n",
    "        \n",
    "        # replace first letter with ascii code\n",
    "        word[0] = str(ord(word[0]))\n",
    "        \n",
    "        # switch 2nd and last letters\n",
    "        if len(word) > 2:\n",
    "            word[1], word[-1] = word[-1], word[1]\n",
    "        \n",
    "        # add to results\n",
    "        result.append(''.join(word))\n",
    "    \n",
    "    return ' '.join(result)"
   ]
  },
  {
   "cell_type": "markdown",
   "metadata": {},
   "source": [
    "__№2__\n",
    "\n",
    "Чем-то похоже на моё, но компактнее."
   ]
  },
  {
   "cell_type": "code",
   "execution_count": null,
   "metadata": {},
   "outputs": [],
   "source": [
    "def process_word(word):\n",
    "    return str(ord(word[0])) + ((word[-1] + word[2:-1] + word[1]) if len(word) > 2 else word[1:])\n",
    "\n",
    "def encrypt_this(text):\n",
    "    return \" \".join(map(process_word, text.split()))"
   ]
  },
  {
   "cell_type": "markdown",
   "metadata": {},
   "source": [
    "__№3__"
   ]
  },
  {
   "cell_type": "code",
   "execution_count": 26,
   "metadata": {},
   "outputs": [
    {
     "name": "stdout",
     "output_type": "stream",
     "text": [
      "72olle\n",
      "103doo\n",
      "104olle 119drlo\n",
      "65 119esi 111dl 111lw 108dvei 105n 97n 111ka\n"
     ]
    }
   ],
   "source": [
    "def swapper(w):\n",
    "    return w if len(w)<2 else w[-1] + w[1:-1] + w[0]\n",
    "\n",
    "def encrypt_this(s):\n",
    "    return ' '.join(w if not w else str(ord(w[0])) + swapper(w[1:]) for w in s.split())\n",
    "\n",
    "print(encrypt_this(\"Hello\")) # \"72olle\"\n",
    "print(encrypt_this(\"good\")) # \"103doo\"\n",
    "print(encrypt_this(\"hello world\")) # \"104olle 119drlo\"\n",
    "print(encrypt_this('A wise old owl lived in an oak')) # 65 119esi 111dl 111lw 108dvei 105n 97n 111ka"
   ]
  },
  {
   "cell_type": "markdown",
   "metadata": {},
   "source": [
    "Уберу лишний, как мне кажется, if:"
   ]
  },
  {
   "cell_type": "code",
   "execution_count": 27,
   "metadata": {},
   "outputs": [
    {
     "name": "stdout",
     "output_type": "stream",
     "text": [
      "72olle\n",
      "103doo\n",
      "104olle 119drlo\n",
      "65 119esi 111dl 111lw 108dvei 105n 97n 111ka\n"
     ]
    }
   ],
   "source": [
    "def swapper(w):\n",
    "    return w if len(w)<2 else w[-1] + w[1:-1] + w[0]\n",
    "\n",
    "def encrypt_this(s):\n",
    "    return ' '.join(str(ord(w[0])) + swapper(w[1:]) for w in s.split())\n",
    "\n",
    "print(encrypt_this(\"Hello\")) # \"72olle\"\n",
    "print(encrypt_this(\"good\")) # \"103doo\"\n",
    "print(encrypt_this(\"hello world\")) # \"104olle 119drlo\"\n",
    "print(encrypt_this('A wise old owl lived in an oak')) # 65 119esi 111dl 111lw 108dvei 105n 97n 111ka"
   ]
  },
  {
   "cell_type": "markdown",
   "metadata": {},
   "source": [
    "Вроде не сломалось."
   ]
  },
  {
   "cell_type": "markdown",
   "metadata": {},
   "source": [
    "20200629"
   ]
  },
  {
   "cell_type": "markdown",
   "metadata": {},
   "source": [
    "### Getting along with Integer Partitions\n",
    "\n",
    "4 kyu\n",
    "\n",
    "From wikipedia https://en.wikipedia.org/wiki/Partition_(number_theory)\n",
    "\n",
    "In number theory and combinatorics, a partition of a positive integer n, also called an integer partition, is a way of writing n as a sum of positive integers. Two sums that differ only in the order of their summands are considered the same partition.\n",
    "\n",
    "For example, 4 can be partitioned in five distinct ways:\n",
    "\n",
    "4, 3 + 1, 2 + 2, 2 + 1 + 1, 1 + 1 + 1 + 1.\n",
    "\n",
    "We can write:\n",
    "\n",
    "enum(4) -> [[4],[3,1],[2,2],[2,1,1],[1,1,1,1]] and\n",
    "\n",
    "enum(5) -> [[5],[4,1],[3,2],[3,1,1],[2,2,1],[2,1,1,1],[1,1,1,1,1]].\n",
    "\n",
    "The number of parts in a partition grows very fast. For n = 50 number of parts is 204226, for 80 it is 15,796,476 It would be too long to tests answers with arrays of such size. So our task is the following:\n",
    "\n",
    "1 - n being given (n integer, 1 <= n <= 50) calculate enum(n) ie the partition of n. We will obtain something like that:\n",
    "enum(n) -> [[n],[n-1,1],[n-2,2],...,[1,1,...,1]] (order of array and sub-arrays doesn't matter). This part is not tested.\n",
    "\n",
    "2 - For each sub-array of enum(n) calculate its product. If n = 5 we'll obtain after removing duplicates and sorting:\n",
    "\n",
    "prod(5) -> [1,2,3,4,5,6]\n",
    "\n",
    "prod(8) -> [1, 2, 3, 4, 5, 6, 7, 8, 9, 10, 12, 15, 16, 18]\n",
    "\n",
    "If n = 40 prod(n) has a length of 2699 hence the tests will not verify such arrays. Instead our task number 3 is:\n",
    "\n",
    "3 - return the range, the average and the median of prod(n) in the following form (example for n = 5):\n",
    "\n",
    "\"Range: 5 Average: 3.50 Median: 3.50\"\n",
    "\n",
    "Range is an integer, Average and Median are float numbers rounded to two decimal places (\".2f\" in some languages).\n",
    "\n",
    "#Notes: Range : difference between the highest and lowest values.\n",
    "\n",
    "Mean or Average : To calculate mean, add together all of the numbers in a set and then divide the sum by the total count of numbers.\n",
    "\n",
    "Median : The median is the number separating the higher half of a data sample from the lower half. (https://en.wikipedia.org/wiki/Median)\n",
    "\n",
    "#Hints: Try to optimize your program to avoid timing out.\n",
    "\n",
    "Memoization can be helpful but it is not mandatory for being successful."
   ]
  },
  {
   "cell_type": "code",
   "execution_count": null,
   "metadata": {},
   "outputs": [],
   "source": [
    "def partition(n):\n",
    "    prod = [None for i in range(n)]\n",
    "    print(prod)\n",
    "    \n",
    "    def part(n):\n",
    "        if n == 1:\n",
    "            \n",
    "        # \n",
    "        for  summand1 in range(n // 2):\n",
    "            if not prod[summand1]:\n",
    "                part(summand1)\n",
    "            \n",
    "    \n",
    "    \n"
   ]
  },
  {
   "cell_type": "markdown",
   "metadata": {},
   "source": [
    "### Parabolic Arc Length\n",
    "6 kyu  \n",
    "We want to approximate the length of a curve representing a function y = f(x) with a <= x <= b. First, we split the interval [a, b] into n sub-intervals with widths h1, h2, ... , hn by defining points x1, x2 , ... , xn-1 between a and b. This defines points P0, P1, P2, ... , Pn on the curve whose x-coordinates are a, x1, x2 , ... , xn-1, b and y-coordinates f(a), f(x1), ..., f(xn-1), f(b) . By connecting these points, we obtain a polygonal path approximating the curve.\n",
    "\n",
    "Our task is to approximate the length of a parabolic arc representing the curve y = x * x with x in the interval [0, 1]. We will take a common step h between the points xi: h1, h2, ... , hn = h = 1/n and we will consider the points P0, P1, P2, ... , Pn on the curve. The coordinates of each Pi are (xi, yi = xi * xi).\n",
    "\n",
    "The function len_curve (or similar in other languages) takes n as parameter (number of sub-intervals) and returns the length of the curve. You can truncate it to 9 decimal places."
   ]
  },
  {
   "cell_type": "markdown",
   "metadata": {},
   "source": [
    "My solutions:"
   ]
  },
  {
   "cell_type": "markdown",
   "metadata": {},
   "source": [
    "__№ 1__"
   ]
  },
  {
   "cell_type": "code",
   "execution_count": 20,
   "metadata": {},
   "outputs": [
    {
     "name": "stdout",
     "output_type": "stream",
     "text": [
      "0\n",
      "1.414213562\n",
      "1.478197397\n"
     ]
    }
   ],
   "source": [
    "def len_curve(n):\n",
    "    if n == 0:\n",
    "        return 0\n",
    "    \n",
    "    res = 0\n",
    "    # Interval [a, b]: [0, 1]\n",
    "    Pprev = 0          # a * a = 0 * 0 = 0\n",
    "    hh = (1 / n) ** 2\n",
    "    for i in range(1, n + 1):\n",
    "        Pnext = (i / n) ** 2  # (a + ((b - a) / n) * i) ** 2, a == 0, b == 1\n",
    "        res += ((Pnext - Pprev) ** 2 + hh) ** 0.5\n",
    "        Pprev = Pnext\n",
    "    return round(res, 9)\n",
    "        \n",
    "print(len_curve(0))\n",
    "print(len_curve(1))\n",
    "print(len_curve(10))"
   ]
  },
  {
   "cell_type": "code",
   "execution_count": 3,
   "metadata": {},
   "outputs": [
    {
     "ename": "TypeError",
     "evalue": "'float' object cannot be interpreted as an integer",
     "output_type": "error",
     "traceback": [
      "\u001b[1;31m---------------------------------------------------------------------------\u001b[0m",
      "\u001b[1;31mTypeError\u001b[0m                                 Traceback (most recent call last)",
      "\u001b[1;32m<ipython-input-3-d0fa77bd4356>\u001b[0m in \u001b[0;36m<module>\u001b[1;34m\u001b[0m\n\u001b[1;32m----> 1\u001b[1;33m \u001b[0mrange\u001b[0m\u001b[1;33m(\u001b[0m\u001b[1;36m1.5\u001b[0m\u001b[1;33m,\u001b[0m \u001b[1;36m2\u001b[0m\u001b[1;33m,\u001b[0m \u001b[1;36m0.1\u001b[0m\u001b[1;33m)\u001b[0m\u001b[1;33m\u001b[0m\u001b[1;33m\u001b[0m\u001b[0m\n\u001b[0m",
      "\u001b[1;31mTypeError\u001b[0m: 'float' object cannot be interpreted as an integer"
     ]
    }
   ],
   "source": [
    "range(1.5, 2, 0.1) # TypeError: 'float' object cannot be interpreted as an integer"
   ]
  },
  {
   "cell_type": "markdown",
   "metadata": {},
   "source": [
    "Видимо, range работает только с целыми аргументами и возвращает только целые числа."
   ]
  },
  {
   "cell_type": "markdown",
   "metadata": {},
   "source": [
    "__№ 2__"
   ]
  },
  {
   "cell_type": "code",
   "execution_count": 28,
   "metadata": {},
   "outputs": [
    {
     "name": "stdout",
     "output_type": "stream",
     "text": [
      "1.414213562\n",
      "1.478197397\n"
     ]
    }
   ],
   "source": [
    "def len_curve(n):\n",
    "    deltaP = ((2 * i - 1) / n ** 2 for i in range(1, n + 1))\n",
    "    hh = (1 / n) ** 2\n",
    "    return round(sum(map(lambda x: (x ** 2 + hh) ** 0.5, deltaP)), 9)\n",
    "\n",
    "        \n",
    "print(len_curve(1))\n",
    "print(len_curve(10))"
   ]
  },
  {
   "cell_type": "code",
   "execution_count": 27,
   "metadata": {},
   "outputs": [
    {
     "name": "stdout",
     "output_type": "stream",
     "text": [
      "1.414213562\n",
      "1.478197397\n"
     ]
    }
   ],
   "source": [
    "def len_curve(n):\n",
    "    hh = (1 / n) ** 2\n",
    "    return round(sum(map(lambda x: (x ** 2 + hh) ** 0.5, ((2 * i - 1) / n ** 2 for i in range(1, n + 1)))), 9)\n",
    "\n",
    "        \n",
    "print(len_curve(1))\n",
    "print(len_curve(10))"
   ]
  },
  {
   "cell_type": "markdown",
   "metadata": {},
   "source": [
    "Подсмотрела чужие решения и поняла, что map может быть и лишнее в моём решении:"
   ]
  },
  {
   "cell_type": "code",
   "execution_count": null,
   "metadata": {},
   "outputs": [],
   "source": [
    "def len_curve(n):\n",
    "    deltaP = ((2 * i - 1) / n ** 2 for i in range(1, n + 1))\n",
    "    hh = (1 / n) ** 2\n",
    "    return round(sum(map(lambda x: (x ** 2 + hh) ** 0.5, deltaP)), 9)\n",
    "\n",
    "        \n",
    "print(len_curve(1))\n",
    "print(len_curve(10))"
   ]
  },
  {
   "cell_type": "markdown",
   "metadata": {},
   "source": [
    "### Mexican Wave\n",
    "https://www.codewars.com/kata/58f5c63f1e26ecda7e000029  \n",
    "6 kyu\n",
    "\n",
    "Task\n",
    "In this simple Kata your task is to create a function that turns a string into a Mexican Wave. You will be passed a string and you must return that string in an array where an uppercase letter is a person standing up. \n",
    "\n",
    "Rules\n",
    " 1.  The input string will always be lower case but maybe empty.\n",
    "\n",
    " 2.  If the character in the string is whitespace then pass over it as if it was an empty seat\n",
    "\n",
    "Example\n",
    "wave(\"hello\") => [\"Hello\", \"hEllo\", \"heLlo\", \"helLo\", \"hellO\"]"
   ]
  },
  {
   "cell_type": "code",
   "execution_count": 8,
   "metadata": {},
   "outputs": [
    {
     "name": "stdout",
     "output_type": "stream",
     "text": [
      "['Hello', 'hEllo', 'heLlo', 'helLo', 'hellO']\n",
      "[' Gap ', ' gAp ', ' gaP ']\n"
     ]
    }
   ],
   "source": [
    "def wave(people):\n",
    "    return [people[:i] + char.upper() + people[i + 1:] for i, char in enumerate(people) if not char.isspace()]\n",
    "\n",
    "print(wave('hello'))\n",
    "print(wave(' gap '))"
   ]
  },
  {
   "cell_type": "code",
   "execution_count": 5,
   "metadata": {},
   "outputs": [
    {
     "name": "stdout",
     "output_type": "stream",
     "text": [
      "Help on method_descriptor:\n",
      "\n",
      "isspace(self, /)\n",
      "    Return True if the string is a whitespace string, False otherwise.\n",
      "    \n",
      "    A string is whitespace if all characters in the string are whitespace and there\n",
      "    is at least one character in the string.\n",
      "\n"
     ]
    }
   ],
   "source": [
    "help(str.upper)"
   ]
  },
  {
   "cell_type": "markdown",
   "metadata": {},
   "source": [
    "### Cryptanalysis Word Patterns\n",
    "https://www.codewars.com/kata/5f3142b3a28d9b002ef58f5e  \n",
    "7 kyu\n",
    "\n",
    "In cryptanalysis, words patterns can be a useful tool in cracking simple ciphers.\n",
    "\n",
    "A word pattern is a description of the patterns of letters occurring in a word, where each letter is given an integer code in order of appearance. So the first letter is given the code 0, and second is then assigned 1 if it is different to the first letter or 0 otherwise, and so on.\n",
    "\n",
    "As an example, the word \"hello\" would become \"0.1.2.2.3\". For this task case-sensitivity is ignored, so \"hello\", \"helLo\" and \"heLlo\" will all return the same word pattern.\n",
    "\n",
    "Your task is to return the word pattern for a given word. All words provided will be non-empty strings of alphabetic characters only, i.e. matching the regex \"[a-zA-Z]+\"."
   ]
  },
  {
   "cell_type": "code",
   "execution_count": 16,
   "metadata": {},
   "outputs": [
    {
     "name": "stdout",
     "output_type": "stream",
     "text": [
      "0.1.2.2.3\n",
      "0.1.2.2.3\n"
     ]
    }
   ],
   "source": [
    "def word_pattern(word):\n",
    "    table = dict()\n",
    "    order = 0\n",
    "    res = []\n",
    "    for c in word.lower():\n",
    "        if c not in table:\n",
    "            table[c] = str(order)\n",
    "            order += 1\n",
    "        res.append(table[c])\n",
    "    return '.'.join(res)\n",
    "\n",
    "print(word_pattern(\"hello\"))\n",
    "print(word_pattern(\"helLo\"))"
   ]
  },
  {
   "cell_type": "markdown",
   "metadata": {},
   "source": [
    "### Returning Strings\n",
    "https://www.codewars.com/kata/55a70521798b14d4750000a4  \n",
    "8 kyu\n",
    "\n",
    "Make a function that will return a greeting statement that uses an input; your program should return, \"Hello, <name> how are you doing today?\"."
   ]
  },
  {
   "cell_type": "code",
   "execution_count": 18,
   "metadata": {},
   "outputs": [
    {
     "data": {
      "text/plain": [
       "'Hello, Shima how are you doing today?'"
      ]
     },
     "execution_count": 18,
     "metadata": {},
     "output_type": "execute_result"
    }
   ],
   "source": [
    "def greet(name):\n",
    "    return f'Hello, {name} how are you doing today?'\n",
    "\n",
    "greet('Shima')"
   ]
  },
  {
   "cell_type": "markdown",
   "metadata": {},
   "source": [
    "### Maximum subarray sum\n",
    "https://www.codewars.com/kata/54521e9ec8e60bc4de000d6c  \n",
    "5 kyu\n",
    "\n",
    "The maximum sum subarray problem consists in finding the maximum sum of a contiguous subsequence in an array or list of integers:\n",
    "\n",
    "max_sequence([-2, 1, -3, 4, -1, 2, 1, -5, 4]) # should be 6: [4, -1, 2, 1]\n",
    "Easy case is when the list is made up of only positive numbers and the maximum sum is the sum of the whole array. If the list is made up of only negative numbers, return 0 instead.\n",
    "\n",
    "Empty list is considered to have zero greatest sum. Note that the empty list or array is also a valid sublist/subarray."
   ]
  },
  {
   "cell_type": "code",
   "execution_count": 57,
   "metadata": {},
   "outputs": [
    {
     "name": "stdout",
     "output_type": "stream",
     "text": [
      "пуст\n",
      "все полож\n",
      "норм\n",
      "все нули или отриц\n",
      "все нули или отриц\n",
      "все отриц\n",
      "норм\n",
      "норм\n"
     ]
    }
   ],
   "source": [
    "def func(lst):\n",
    "    #if not lst: # исходный список пуст\n",
    "        #return 0\n",
    "    \n",
    "    #print(sum(map(lambda x: int(x / abs(x)) if x else 0, lst)))\n",
    "    # Сумма для анализа содержимого исходного списка\n",
    "    s = sum(map(lambda x: int(x / abs(x)) if x else 0, lst))\n",
    "    if s == 0 == len(lst): # исходный список пуст, по условию его сумма 0\n",
    "        return 'пуст'\n",
    "    elif s < 0 and abs(s) == len(lst): # все элементы строго отрицательные\n",
    "        return 'все отриц'   # значит сумма пустого подмассива самая большая -> 0\n",
    "    elif not list(filter(lambda x: x > 0, lst)): # все элементы отриц. или нули\n",
    "        return 'все нули или отриц'    # значит сумма пустого подмассива самая большая -> 0\n",
    "    elif s > 0 and s == len(lst): # все элементы строго положительны\n",
    "        return 'все полож'\n",
    "    else:\n",
    "        return 'норм'\n",
    " \n",
    "\n",
    "\n",
    "print(func([]))\n",
    "print(func([1, 1]))\n",
    "print(func([0, 1]))\n",
    "print(func([0, 0]))\n",
    "print(func([-1, 0]))\n",
    "print(func([-1, -1]))\n",
    "print(func([1, -1]))\n",
    "print(func([1, -2]))"
   ]
  },
  {
   "cell_type": "code",
   "execution_count": 75,
   "metadata": {},
   "outputs": [
    {
     "name": "stdout",
     "output_type": "stream",
     "text": [
      "0 1 -2\n",
      "1 2 1\n",
      "2 3 1\n",
      "3 4 4\n",
      "4 5 4\n",
      "5 6 4\n",
      "6 7 4\n",
      "7 8 4\n",
      "0 2 -1\n",
      "1 3 -1\n",
      "2 4 5\n",
      "3 5 7\n",
      "4 6 7\n",
      "5 7 7\n",
      "6 8 7\n",
      "0 3 -4\n",
      "1 4 2\n",
      "2 5 2\n",
      "3 6 3\n",
      "4 7 3\n",
      "5 8 3\n",
      "0 4 0\n",
      "1 5 1\n",
      "2 6 2\n",
      "3 7 6\n",
      "4 8 6\n",
      "0 5 -1\n",
      "1 6 3\n",
      "2 7 3\n",
      "3 8 3\n",
      "0 6 1\n",
      "1 7 4\n",
      "2 8 4\n",
      "0 7 2\n",
      "1 8 2\n",
      "0 8 -3\n",
      "2\n"
     ]
    }
   ],
   "source": [
    "def max_sequence(lst):\n",
    "    l = list(filter(lambda x: x > 0, lst)) # доп. список для анализа исходного списка \n",
    "    if not l:      # исходный список пуст или все элементы отриц. или нули\n",
    "        return 0   # значит сумма пустого подмассива самая большая -> 0 по условию\n",
    "    elif len(l) == len(lst): # все элементы строго положительны\n",
    "        return sum(lst)\n",
    "    else:\n",
    "        max_sum = 0\n",
    "        for i in range(1, len(lst)):\n",
    "            start, end, cur_max_start = 0, i, 0\n",
    "            cur_max_sum = sum(lst[start:end])\n",
    "            max_sum = max(max_sum, cur_max_sum)\n",
    "            while end < len(lst):\n",
    "                print(start, end, cur_max_sum)\n",
    "                dif = lst[end] - lst[cur_max_start]\n",
    "                start += 1\n",
    "                end += 1\n",
    "                if dif > 0:\n",
    "                    cur_max_sum += dif\n",
    "                    cur_max_start = start\n",
    "        return max_sum\n",
    "\n",
    "\n",
    "# print(max_sequence([]))\n",
    "# print(max_sequence([1, 1]))\n",
    "# print(max_sequence([0, 1]))\n",
    "# print(max_sequence([0, 0]))\n",
    "# print(max_sequence([-1, 0]))\n",
    "# print(max_sequence([-1, -1]))\n",
    "# print(max_sequence([1, -1]))\n",
    "# print(max_sequence([1, -2]))\n",
    "# print(max_sequence([1, -2, 3]))\n",
    "print(max_sequence([-2, 1, -3, 4, -1, 2, 1, -5, 4]))"
   ]
  },
  {
   "cell_type": "code",
   "execution_count": 43,
   "metadata": {},
   "outputs": [
    {
     "name": "stdout",
     "output_type": "stream",
     "text": [
      "True\n"
     ]
    }
   ],
   "source": [
    "if -1:\n",
    "    print(True)"
   ]
  },
  {
   "cell_type": "code",
   "execution_count": 44,
   "metadata": {},
   "outputs": [],
   "source": [
    "if 0:\n",
    "    print(True)"
   ]
  },
  {
   "cell_type": "code",
   "execution_count": 45,
   "metadata": {},
   "outputs": [
    {
     "name": "stdout",
     "output_type": "stream",
     "text": [
      "-1.0\n"
     ]
    }
   ],
   "source": [
    "if -2:\n",
    "    print(-2 / abs(-2))"
   ]
  },
  {
   "cell_type": "code",
   "execution_count": 50,
   "metadata": {},
   "outputs": [
    {
     "data": {
      "text/plain": [
       "3"
      ]
     },
     "execution_count": 50,
     "metadata": {},
     "output_type": "execute_result"
    }
   ],
   "source": [
    "abs(-3)"
   ]
  },
  {
   "cell_type": "markdown",
   "metadata": {},
   "source": [
    "20200904"
   ]
  },
  {
   "cell_type": "markdown",
   "metadata": {},
   "source": [
    "My solution (worst among other people's):"
   ]
  },
  {
   "cell_type": "code",
   "execution_count": 99,
   "metadata": {},
   "outputs": [
    {
     "name": "stdout",
     "output_type": "stream",
     "text": [
      "6\n"
     ]
    }
   ],
   "source": [
    "def max_sequence(lst):\n",
    "    l = list(filter(lambda x: x > 0, lst)) # доп. список для анализа исходного списка \n",
    "    if not l:      # исходный список пуст или все элементы отриц. или нули\n",
    "        return 0   # значит сумма пустого подмассива (0 по условию) самая большая\n",
    "    elif len(l) == len(lst): # все элементы строго положительны\n",
    "        return sum(lst)\n",
    "    else:\n",
    "        max_sum = 0\n",
    "        for i in range(1, len(lst) + 1):\n",
    "            start, end = 0, i\n",
    "            while end <= len(lst):\n",
    "                #print(start, end)\n",
    "                max_sum = max(max_sum, sum(lst[start:end]))\n",
    "                start += 1\n",
    "                end += 1\n",
    "        return max_sum\n",
    "\n",
    "\n",
    "# print(max_sequence([]))\n",
    "# print(max_sequence([1, 1]))\n",
    "# print(max_sequence([0, 1]))\n",
    "# print(max_sequence([0, 0]))\n",
    "# print(max_sequence([-1, 0]))\n",
    "# print(max_sequence([-1, -1]))\n",
    "# print(max_sequence([1, -1]))\n",
    "# print(max_sequence([1, -2]))\n",
    "# print(max_sequence([1, -2, 3]))\n",
    "print(max_sequence([-2, 1, -3, 4, -1, 2, 1, -5, 4]))\n",
    "# print(max_sequence([4]))\n",
    "# print(max_sequence([0]))"
   ]
  },
  {
   "cell_type": "markdown",
   "metadata": {},
   "source": [
    "Other people's solutions:"
   ]
  },
  {
   "cell_type": "markdown",
   "metadata": {},
   "source": [
    "__#1__ (best, I suppose)"
   ]
  },
  {
   "cell_type": "code",
   "execution_count": 100,
   "metadata": {},
   "outputs": [
    {
     "name": "stdout",
     "output_type": "stream",
     "text": [
      "0\n",
      "2\n",
      "1\n",
      "0\n",
      "0\n",
      "0\n",
      "1\n",
      "1\n",
      "3\n",
      "6\n",
      "4\n",
      "0\n"
     ]
    }
   ],
   "source": [
    "def max_sequence(arr):\n",
    "    max_sum = cur_sum = 0\n",
    "    for item in arr:\n",
    "        cur_sum += item\n",
    "        \n",
    "        if cur_sum < 0:\n",
    "            cur_sum = 0\n",
    "            \n",
    "        if cur_sum > max_sum:\n",
    "            max_sum = cur_sum\n",
    "            \n",
    "    return max_sum\n",
    "\n",
    "print(max_sequence([]))\n",
    "print(max_sequence([1, 1]))\n",
    "print(max_sequence([0, 1]))\n",
    "print(max_sequence([0, 0]))\n",
    "print(max_sequence([-1, 0]))\n",
    "print(max_sequence([-1, -1]))\n",
    "print(max_sequence([1, -1]))\n",
    "print(max_sequence([1, -2]))\n",
    "print(max_sequence([1, -2, 3]))\n",
    "print(max_sequence([-2, 1, -3, 4, -1, 2, 1, -5, 4]))\n",
    "print(max_sequence([4]))\n",
    "print(max_sequence([0]))"
   ]
  },
  {
   "cell_type": "markdown",
   "metadata": {},
   "source": [
    "__#2__ (the same as #1, but in other words)"
   ]
  },
  {
   "cell_type": "code",
   "execution_count": 101,
   "metadata": {},
   "outputs": [
    {
     "name": "stdout",
     "output_type": "stream",
     "text": [
      "0\n",
      "2\n",
      "1\n",
      "0\n",
      "0\n",
      "0\n",
      "1\n",
      "1\n",
      "3\n",
      "6\n",
      "4\n",
      "0\n"
     ]
    }
   ],
   "source": [
    "def max_sequence(arr):\n",
    "    max_sum = cur_sum = 0\n",
    "    for item in arr:\n",
    "        cur_sum = max(0, cur_sum + item)\n",
    "        max_sum = max(cur_sum, max_sum)\n",
    "            \n",
    "    return max_sum\n",
    "\n",
    "print(max_sequence([]))\n",
    "print(max_sequence([1, 1]))\n",
    "print(max_sequence([0, 1]))\n",
    "print(max_sequence([0, 0]))\n",
    "print(max_sequence([-1, 0]))\n",
    "print(max_sequence([-1, -1]))\n",
    "print(max_sequence([1, -1]))\n",
    "print(max_sequence([1, -2]))\n",
    "print(max_sequence([1, -2, 3]))\n",
    "print(max_sequence([-2, 1, -3, 4, -1, 2, 1, -5, 4]))\n",
    "print(max_sequence([4]))\n",
    "print(max_sequence([0]))"
   ]
  },
  {
   "cell_type": "markdown",
   "metadata": {},
   "source": [
    "__#3__ With itertools!"
   ]
  },
  {
   "cell_type": "code",
   "execution_count": 109,
   "metadata": {},
   "outputs": [
    {
     "name": "stdout",
     "output_type": "stream",
     "text": [
      "2\n",
      "1\n",
      "0\n",
      "0\n",
      "0\n",
      "1\n",
      "1\n",
      "3\n",
      "6\n",
      "4\n",
      "0\n"
     ]
    }
   ],
   "source": [
    "def max_sequence(arr):\n",
    "    from itertools import accumulate\n",
    "    #print(list(accumulate(arr, lambda a, b: max(a + b, 0))))\n",
    "    return max(accumulate(arr, lambda a, b: max(a + b, 0)))\n",
    "\n",
    "#print(max_sequence([]))\n",
    "print(max_sequence([1, 1]))\n",
    "print(max_sequence([0, 1]))\n",
    "print(max_sequence([0, 0]))\n",
    "print(max_sequence([-1, 0]))\n",
    "print(max_sequence([-1, -1]))\n",
    "print(max_sequence([1, -1]))\n",
    "print(max_sequence([1, -2]))\n",
    "print(max_sequence([1, -2, 3]))\n",
    "print(max_sequence([-2, 1, -3, 4, -1, 2, 1, -5, 4]))\n",
    "print(max_sequence([4]))\n",
    "print(max_sequence([0]))"
   ]
  },
  {
   "cell_type": "markdown",
   "metadata": {},
   "source": [
    "### CS50"
   ]
  },
  {
   "cell_type": "code",
   "execution_count": 78,
   "metadata": {},
   "outputs": [
    {
     "data": {
      "text/plain": [
       "'<generator object <genexpr> at 0x000000000854E0C0>'"
      ]
     },
     "execution_count": 78,
     "metadata": {},
     "output_type": "execute_result"
    }
   ],
   "source": [
    "str(('a' for i in range(2))"
   ]
  },
  {
   "cell_type": "code",
   "execution_count": 83,
   "metadata": {},
   "outputs": [
    {
     "name": "stdout",
     "output_type": "stream",
     "text": [
      "путин владимир владимирович\n",
      "ПВВ\n"
     ]
    }
   ],
   "source": [
    "print(''.join(word[0].upper() for word in input().split()))"
   ]
  },
  {
   "cell_type": "markdown",
   "metadata": {},
   "source": [
    "### New Cashier Does Not Know About Space or Shift\n",
    "https://www.codewars.com/kata/5d23d89906f92a00267bb83d  \n",
    "6 kyu\n",
    "Some new cashiers started to work at your restaurant.\n",
    "\n",
    "They are good at taking orders, but they don't know how to capitalize words, or use a space bar!\n",
    "\n",
    "All the orders they create look something like this:\n",
    "\n",
    "\"milkshakepizzachickenfriescokeburgerpizzasandwichmilkshakepizza\"\n",
    "\n",
    "The kitchen staff are threatening to quit, because of how difficult it is to read the orders.\n",
    "\n",
    "Their preference is to get the orders as a nice clean string with spaces and capitals like so:\n",
    "\n",
    "\"Burger Fries Chicken Pizza Pizza Pizza Sandwich Milkshake Milkshake Coke\"\n",
    "\n",
    "The kitchen staff expect the items to be in the same order as they appear in the menu.\n",
    "\n",
    "The menu items are fairly simple, there is no overlap in the names of the items:\n",
    "\n",
    "1. Burger  \n",
    "2. Fries  \n",
    "3. Chicken  \n",
    "4. Pizza  \n",
    "5. Sandwich  \n",
    "6. Onionrings  \n",
    "7. Milkshake  \n",
    "8. Coke  "
   ]
  },
  {
   "cell_type": "code",
   "execution_count": 110,
   "metadata": {},
   "outputs": [
    {
     "name": "stdout",
     "output_type": "stream",
     "text": [
      "Help on method_descriptor:\n",
      "\n",
      "startswith(...)\n",
      "    S.startswith(prefix[, start[, end]]) -> bool\n",
      "    \n",
      "    Return True if S starts with the specified prefix, False otherwise.\n",
      "    With optional start, test S beginning at that position.\n",
      "    With optional end, stop comparing S at that position.\n",
      "    prefix can also be a tuple of strings to try.\n",
      "\n"
     ]
    }
   ],
   "source": [
    "help(str.startswith)"
   ]
  },
  {
   "cell_type": "code",
   "execution_count": 164,
   "metadata": {},
   "outputs": [
    {
     "name": "stdout",
     "output_type": "stream",
     "text": [
      "Help on method_descriptor:\n",
      "\n",
      "join(self, iterable, /)\n",
      "    Concatenate any number of strings.\n",
      "    \n",
      "    The string whose method is called is inserted in between each given string.\n",
      "    The result is returned as a new string.\n",
      "    \n",
      "    Example: '.'.join(['ab', 'pq', 'rs']) -> 'ab.pq.rs'\n",
      "\n"
     ]
    }
   ],
   "source": [
    "help(str.join)"
   ]
  },
  {
   "cell_type": "code",
   "execution_count": 118,
   "metadata": {},
   "outputs": [
    {
     "name": "stdout",
     "output_type": "stream",
     "text": [
      "('burger', 'fries', 'chicken', 'pizza', 'sandwich', 'onionrings', 'milkshake', 'coke')\n"
     ]
    }
   ],
   "source": [
    "menu = 'Burger Fries Chicken Pizza Sandwich Onionrings Milkshake Coke'\n",
    "menu = tuple(word.lower() for word in menu.split())\n",
    "print(menu)"
   ]
  },
  {
   "cell_type": "code",
   "execution_count": 116,
   "metadata": {},
   "outputs": [
    {
     "name": "stdout",
     "output_type": "stream",
     "text": [
      "True\n"
     ]
    }
   ],
   "source": [
    "order = 'milkshakepizzachickenfriescokeburgerpizzasandwichmilkshakepizza'\n",
    "print(order.startswith(menu))"
   ]
  },
  {
   "cell_type": "code",
   "execution_count": 117,
   "metadata": {},
   "outputs": [
    {
     "name": "stdout",
     "output_type": "stream",
     "text": [
      "Help on method_descriptor:\n",
      "\n",
      "find(...)\n",
      "    S.find(sub[, start[, end]]) -> int\n",
      "    \n",
      "    Return the lowest index in S where substring sub is found,\n",
      "    such that sub is contained within S[start:end].  Optional\n",
      "    arguments start and end are interpreted as in slice notation.\n",
      "    \n",
      "    Return -1 on failure.\n",
      "\n"
     ]
    }
   ],
   "source": [
    "help(str.find)"
   ]
  },
  {
   "cell_type": "code",
   "execution_count": 165,
   "metadata": {},
   "outputs": [
    {
     "name": "stdout",
     "output_type": "stream",
     "text": [
      "['Burger', 'Fries', 'Chicken', 'Pizza', 'Sandwich', 'Onionrings', 'Milkshake', 'Coke']\n",
      "burger|fries|chicken|pizza|sandwich|onionrings|milkshake|coke\n"
     ]
    }
   ],
   "source": [
    "menu = 'Burger Fries Chicken Pizza Sandwich Onionrings Milkshake Coke'\n",
    "menu = menu.split()\n",
    "print(menu)\n",
    "#pattern = ''.join(f'({word})*' for word in menu)\n",
    "#pattern = '|'.join(menu)\n",
    "pattern = '|'.join(word.lower() for word in menu)\n",
    "print(pattern)"
   ]
  },
  {
   "cell_type": "code",
   "execution_count": null,
   "metadata": {},
   "outputs": [],
   "source": [
    "def func(order):\n",
    "    menu = ['Burger', 'Fries', 'Chicken', 'Pizza', 'Sandwich', 'Onionrings', 'Milkshake', 'Coke']\n",
    "    "
   ]
  },
  {
   "cell_type": "code",
   "execution_count": 159,
   "metadata": {},
   "outputs": [
    {
     "name": "stdout",
     "output_type": "stream",
     "text": [
      "['', '', '', '', '', '', '', '', '', '', '']\n",
      "['milkshake', 'pizza', 'chicken', 'fries', 'coke', 'burger', 'pizza', 'sandwich', 'milkshake', 'pizza']\n",
      "milkshake pizza chicken fries coke burger pizza sandwich milkshake pizza \n"
     ]
    }
   ],
   "source": [
    "import re\n",
    "\n",
    "order = 'milkshakepizzachickenfriescokeburgerpizzasandwichmilkshakepizza'\n",
    "#pattern = r'(Burger)(Fries)(Chicken)(Pizza)(Sandwich)(Onionrings)(Milkshake)(Coke)'\n",
    "#pattern = r'(Pizza)(Chicken)'\n",
    "#pattern = r'Burger|Fries|Chicken'\n",
    "#pattern = r'(Burger)|(Fries)|(Chicken)|(Pizza)|(Sandwich)|(Onionrings)|(Milkshake)|(Coke)'\n",
    "pattern = r'Burger|Fries|Chicken|Pizza|Sandwich|Onionrings|Milkshake|Coke'\n",
    "print(re.split(pattern, order, flags=re.IGNORECASE))\n",
    "print(re.findall(pattern, order, flags=re.IGNORECASE))\n",
    "\n",
    "# Добавлю pattern в круглые скобки, чтобы можно было использовать группы в re.sub\n",
    "pattern = r'(Burger|Fries|Chicken|Pizza|Sandwich|Onionrings|Milkshake|Coke)'\n",
    "print(re.sub(pattern, r'\\1 ', order, flags=re.IGNORECASE))"
   ]
  },
  {
   "cell_type": "code",
   "execution_count": 161,
   "metadata": {},
   "outputs": [
    {
     "name": "stdout",
     "output_type": "stream",
     "text": [
      "Milkshake Pizza Chicken Fries Coke Burger Pizza Sandwich Milkshake Pizza\n"
     ]
    }
   ],
   "source": [
    "import re\n",
    "\n",
    "def get_order(order):\n",
    "    pattern = r'Burger|Fries|Chicken|Pizza|Sandwich|Onionrings|Milkshake|Coke'\n",
    "    return ' '.join(word.capitalize() for word in re.findall(pattern, order, flags=re.IGNORECASE))\n",
    "\n",
    "order = 'milkshakepizzachickenfriescokeburgerpizzasandwichmilkshakepizza'\n",
    "print(get_order(order))"
   ]
  },
  {
   "cell_type": "markdown",
   "metadata": {},
   "source": [
    "My solution. It wasn't accepted because I hadn't got the task the right way: instead of \"the items to be in the same order as they appear in the menu\" I did \"the items to be in the same order as they appear in the ORDER\". But I keep this solution here just in case."
   ]
  },
  {
   "cell_type": "code",
   "execution_count": 168,
   "metadata": {},
   "outputs": [
    {
     "name": "stdout",
     "output_type": "stream",
     "text": [
      "Milkshake Pizza Chicken Fries Coke Burger Pizza Sandwich Milkshake Pizza\n",
      "Pizza Chicken Fries Burger Coke Milkshake Fries Sandwich\n"
     ]
    }
   ],
   "source": [
    "import re\n",
    "\n",
    "def get_order(order):\n",
    "    pattern = r'burger|fries|chicken|pizza|sandwich|onionrings|milkshake|coke'\n",
    "    return ' '.join(word.capitalize() for word in re.findall(pattern, order))\n",
    "\n",
    "order = 'milkshakepizzachickenfriescokeburgerpizzasandwichmilkshakepizza'\n",
    "print(get_order(order))\n",
    "print(get_order('pizzachickenfriesburgercokemilkshakefriessandwich'))"
   ]
  },
  {
   "cell_type": "markdown",
   "metadata": {},
   "source": [
    "My solution:"
   ]
  },
  {
   "cell_type": "code",
   "execution_count": 172,
   "metadata": {},
   "outputs": [
    {
     "name": "stdout",
     "output_type": "stream",
     "text": [
      "Burger Fries Chicken Pizza Pizza Pizza Sandwich Milkshake Milkshake Coke\n",
      "Burger Fries Fries Chicken Pizza Sandwich Milkshake Coke\n"
     ]
    }
   ],
   "source": [
    "def get_order(order):\n",
    "    menu = ['Burger', 'Fries', 'Chicken', 'Pizza', 'Sandwich', 'Onionrings', 'Milkshake', 'Coke']\n",
    "    new_order = []\n",
    "    for item in menu:\n",
    "        new_order += order.count(item.lower()) * [item]\n",
    "    return ' '.join(new_order)\n",
    "    \n",
    "print(get_order('milkshakepizzachickenfriescokeburgerpizzasandwichmilkshakepizza'))\n",
    "print(get_order('pizzachickenfriesburgercokemilkshakefriessandwich'))    "
   ]
  },
  {
   "cell_type": "code",
   "execution_count": null,
   "metadata": {},
   "outputs": [],
   "source": []
  }
 ],
 "metadata": {
  "kernelspec": {
   "display_name": "Python 3",
   "language": "python",
   "name": "python3"
  },
  "language_info": {
   "codemirror_mode": {
    "name": "ipython",
    "version": 3
   },
   "file_extension": ".py",
   "mimetype": "text/x-python",
   "name": "python",
   "nbconvert_exporter": "python",
   "pygments_lexer": "ipython3",
   "version": "3.7.3"
  }
 },
 "nbformat": 4,
 "nbformat_minor": 2
}

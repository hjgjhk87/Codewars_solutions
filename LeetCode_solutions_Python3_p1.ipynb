{
 "cells": [
  {
   "cell_type": "markdown",
   "metadata": {},
   "source": [
    "20210302"
   ]
  },
  {
   "cell_type": "markdown",
   "metadata": {},
   "source": [
    "### 4. Median of Two Sorted Arrays\n",
    "https://leetcode.com/problems/median-of-two-sorted-arrays/  \n",
    "Hard\n",
    "\n",
    "Given two sorted arrays nums1 and nums2 of size m and n respectively, return the median of the two sorted arrays.\n",
    "\n",
    "Example 1:  \n",
    "Input: nums1 = [1,3], nums2 = [2]  \n",
    "Output: 2.00000  \n",
    "Explanation: merged array = [1,2,3] and median is 2.  \n",
    "\n",
    "Example 2:  \n",
    "Input: nums1 = [1,2], nums2 = [3,4]  \n",
    "Output: 2.50000  \n",
    "Explanation: merged array = [1,2,3,4] and median is (2 + 3) / 2 = 2.5.  \n",
    "\n",
    "Example 3:  \n",
    "Input: nums1 = [0,0], nums2 = [0,0]  \n",
    "Output: 0.00000  \n",
    "\n",
    "Example 4:  \n",
    "Input: nums1 = [], nums2 = [1]  \n",
    "Output: 1.00000  \n",
    "\n",
    "Example 5:  \n",
    "Input: nums1 = [2], nums2 = []  \n",
    "Output: 2.00000  \n",
    " \n",
    "\n",
    "Constraints:\n",
    "\n",
    "nums1.length == m  \n",
    "nums2.length == n  \n",
    "0 <= m <= 1000  \n",
    "0 <= n <= 1000  \n",
    "1 <= m + n <= 2000  \n",
    "-106 <= nums1[i], nums2[i] <= 106  \n",
    " \n",
    "\n",
    "Follow up: The overall run time complexity should be O(log (m+n))."
   ]
  },
  {
   "cell_type": "markdown",
   "metadata": {},
   "source": [
    "__My solution:__"
   ]
  },
  {
   "cell_type": "code",
   "execution_count": 7,
   "metadata": {},
   "outputs": [
    {
     "name": "stdout",
     "output_type": "stream",
     "text": [
      "2 2\n",
      "2.5 2.5\n"
     ]
    }
   ],
   "source": [
    "from typing import List\n",
    "\n",
    "class Solution:\n",
    "    def findMedianSortedArrays(self, nums1: List[int], nums2: List[int]) -> float:\n",
    "        num = sorted(nums1 + nums2);\n",
    "        return num[len(num) // 2] if len(num) & 1 == 1 else (num[len(num) // 2 - 1] + num[len(num) // 2]) / 2\n",
    "    \n",
    "nums1 = [1, 3]\n",
    "nums2 = [2]\n",
    "print(Solution().findMedianSortedArrays(nums1, nums2), 2)\n",
    "\n",
    "nums1 = [1,2]\n",
    "nums2 = [3,4]\n",
    "print(Solution().findMedianSortedArrays(nums1, nums2), 2.5)"
   ]
  },
  {
   "cell_type": "markdown",
   "metadata": {},
   "source": [
    "20210303"
   ]
  },
  {
   "cell_type": "markdown",
   "metadata": {},
   "source": [
    "### 2. Add Two Numbers\n",
    "https://leetcode.com/problems/add-two-numbers/  \n",
    "Medium\n",
    "\n",
    "You are given two non-empty linked lists representing two non-negative integers. The digits are stored in reverse order, and each of their nodes contains a single digit. Add the two numbers and return the sum as a linked list.\n",
    "\n",
    "You may assume the two numbers do not contain any leading zero, except the number 0 itself.\n",
    "\n",
    "Example 1:  \n",
    "Input: l1 = [2,4,3], l2 = [5,6,4]  \n",
    "Output: [7,0,8]  \n",
    "Explanation: 342 + 465 = 807.  \n",
    "\n",
    "Example 2:  \n",
    "Input: l1 = [0], l2 = [0]  \n",
    "Output: [0]  \n",
    "\n",
    "Example 3:  \n",
    "Input: l1 = [9,9,9,9,9,9,9], l2 = [9,9,9,9]  \n",
    "Output: [8,9,9,9,0,0,0,1]  \n",
    " \n",
    "Constraints:  \n",
    "The number of nodes in each linked list is in the range [1, 100].  \n",
    "0 <= Node.val <= 9  \n",
    "It is guaranteed that the list represents a number that does not have leading zeros."
   ]
  },
  {
   "cell_type": "markdown",
   "metadata": {},
   "source": [
    "__My solution:__"
   ]
  },
  {
   "cell_type": "code",
   "execution_count": 40,
   "metadata": {},
   "outputs": [],
   "source": [
    "# Definition for singly-linked list.\n",
    "# class ListNode:\n",
    "#     def __init__(self, val=0, next=None):\n",
    "#         self.val = val\n",
    "#         self.next = next\n",
    "\n",
    "from itertools import zip_longest\n",
    "\n",
    "class ListNode:\n",
    "    def __init__(self, val=0, next=None):\n",
    "        self.val = val\n",
    "        self.next = next\n",
    "\n",
    "class Solution:\n",
    "    def addTwoNumbers(self, l1: ListNode, l2: ListNode) -> ListNode:\n",
    "        def getList(lstNode: ListNode) -> List:\n",
    "            lst = []\n",
    "            cur = lstNode\n",
    "            while cur:\n",
    "                lst.append(cur.val)\n",
    "                cur = cur.next\n",
    "            return lst\n",
    "\n",
    "        def getListNode(lst: List) -> ListNode:\n",
    "            if lst:\n",
    "                lstNode = ListNode(lst[0])\n",
    "                cur = lstNode\n",
    "                for i in range(1, len(lst)):\n",
    "                    cur.next = ListNode(lst[i])\n",
    "                    cur = cur.next\n",
    "                return lstNode\n",
    "            return ListNode()\n",
    "        \n",
    "        l = []\n",
    "        over = 0\n",
    "        for d1, d2 in zip_longest(getList(l1), getList(l2), fillvalue=0):\n",
    "            over, d = divmod((d1 + d2 + over), 10)\n",
    "            l.append(d)\n",
    "        if over:\n",
    "            l.append(over)\n",
    "        return getListNode(l)\n"
   ]
  },
  {
   "cell_type": "markdown",
   "metadata": {},
   "source": [
    "__Some attempts:__"
   ]
  },
  {
   "cell_type": "code",
   "execution_count": 39,
   "metadata": {},
   "outputs": [
    {
     "name": "stdout",
     "output_type": "stream",
     "text": [
      "[2, 4, 3]\n",
      "[0]\n"
     ]
    }
   ],
   "source": [
    "class ListNode:\n",
    "    def __init__(self, val=0, next=None):\n",
    "        self.val = val\n",
    "        self.next = next\n",
    "        \n",
    "def getList(lstNode: ListNode) -> List:\n",
    "    lst = []\n",
    "    cur = lstNode\n",
    "    while cur:\n",
    "        lst.append(cur.val)\n",
    "        cur = cur.next\n",
    "    return lst\n",
    "\n",
    "def getListNode(lst: List) -> ListNode:\n",
    "    if lst:\n",
    "        lstNode = ListNode(lst[0])\n",
    "        cur = lstNode\n",
    "        for i in range(1, len(lst)):\n",
    "            cur.next = ListNode(lst[i])\n",
    "            cur = cur.next\n",
    "        return lstNode\n",
    "    return ListNode()\n",
    "\n",
    "print(getList(getListNode([2, 4, 3])))\n",
    "print(getList(getListNode([])))  # [0] немного не очень"
   ]
  },
  {
   "cell_type": "code",
   "execution_count": 5,
   "metadata": {},
   "outputs": [
    {
     "name": "stdout",
     "output_type": "stream",
     "text": [
      "[7, 0, 8] [7, 0, 8]\n",
      "[0] [0]\n",
      "[8, 9, 9, 9, 0, 0, 0, 1] [8, 9, 9, 9, 0, 0, 0, 1]\n"
     ]
    }
   ],
   "source": [
    "from itertools import zip_longest\n",
    "\n",
    "def addTwoNumbers(l1, l2):\n",
    "    l = []\n",
    "    over = 0\n",
    "    for d1, d2 in zip_longest(l1, l2, fillvalue=0):\n",
    "        over, d = divmod((d1 + d2 + over), 10)\n",
    "        l.append(d)\n",
    "    if over:\n",
    "        l.append(over)\n",
    "    return l\n",
    "        \n",
    "l1 = [2,4,3]\n",
    "l2 = [5,6,4]\n",
    "print(addTwoNumbers(l1, l2), [7,0,8])\n",
    "\n",
    "l1 = [0]\n",
    "l2 = [0]\n",
    "print(addTwoNumbers(l1, l2), [0])\n",
    "\n",
    "l1 = [9,9,9,9,9,9,9]\n",
    "l2 = [9,9,9,9]\n",
    "print(addTwoNumbers(l1, l2), [8,9,9,9,0,0,0,1])"
   ]
  },
  {
   "cell_type": "code",
   "execution_count": 13,
   "metadata": {},
   "outputs": [
    {
     "name": "stdout",
     "output_type": "stream",
     "text": [
      "deque([2, 4, 3, 5, 6, 4])\n",
      "deque([2, 4, 3, 2, 4, 3])\n"
     ]
    }
   ],
   "source": [
    "#from operator import __add__, __mul__, __imul__\n",
    "from collections import deque as ListNode\n",
    "\n",
    "l1 = [2,4,3]\n",
    "l2 = [5,6,4]\n",
    "l1 = ListNode(l1)\n",
    "l2 = ListNode(l2)\n",
    "print(l1 + l2)\n",
    "#print(l1 * l2)\n",
    "#print(__mul__(l1, l2)) TypeError: can't multiply sequence by non-int of type 'collections.deque'\n",
    "print(l1 * 2)"
   ]
  },
  {
   "cell_type": "code",
   "execution_count": 12,
   "metadata": {},
   "outputs": [],
   "source": [
    "from collections import deque\n",
    "\n",
    "deque.__mul__?"
   ]
  },
  {
   "cell_type": "code",
   "execution_count": 14,
   "metadata": {},
   "outputs": [],
   "source": [
    "deque.__imul__?"
   ]
  },
  {
   "cell_type": "markdown",
   "metadata": {},
   "source": [
    "20210304"
   ]
  },
  {
   "cell_type": "markdown",
   "metadata": {},
   "source": [
    "### 3. Longest Substring Without Repeating Characters\n",
    "https://leetcode.com/problems/longest-substring-without-repeating-characters/  \n",
    "Medium  \n",
    "\n",
    "Given a string s, find the length of the longest substring without repeating characters.\n",
    "\n",
    "Example 1:  \n",
    "Input: s = \"abcabcbb\"  \n",
    "Output: 3  \n",
    "Explanation: The answer is \"abc\", with the length of 3.  \n",
    "\n",
    "Example 2:  \n",
    "Input: s = \"bbbbb\"  \n",
    "Output: 1  \n",
    "Explanation: The answer is \"b\", with the length of 1.  \n",
    "\n",
    "Example 3:  \n",
    "Input: s = \"pwwkew\"  \n",
    "Output: 3  \n",
    "Explanation: The answer is \"wke\", with the length of 3.\n",
    "Notice that the answer must be a substring, \"pwke\" is a subsequence and not a substring.  \n",
    "\n",
    "Example 4:  \n",
    "Input: s = \"\"  \n",
    "Output: 0  \n",
    " \n",
    "Constraints:  \n",
    "0 <= s.length <= 5 * 104  \n",
    "s consists of English letters, digits, symbols and spaces."
   ]
  },
  {
   "cell_type": "markdown",
   "metadata": {},
   "source": [
    "__My solution:__"
   ]
  },
  {
   "cell_type": "code",
   "execution_count": 47,
   "metadata": {},
   "outputs": [
    {
     "name": "stdout",
     "output_type": "stream",
     "text": [
      "3 3\n",
      "1 1\n",
      "3 3\n",
      "0 0\n",
      "3 3\n",
      "2 2\n"
     ]
    }
   ],
   "source": [
    "class Solution:\n",
    "    def lengthOfLongestSubstring(self, s: str) -> int:\n",
    "        lenLongest = 0\n",
    "        strLongest = ''\n",
    "        for char in s:\n",
    "            strLongest = strLongest[strLongest.find(char) + 1:] + char\n",
    "            lenLongest = max(lenLongest, len(strLongest))\n",
    "        return lenLongest\n",
    "    \n",
    "print(Solution().lengthOfLongestSubstring(\"abcabcbb\"), 3)\n",
    "print(Solution().lengthOfLongestSubstring(\"bbbbbb\"), 1)\n",
    "print(Solution().lengthOfLongestSubstring(\"pwwkew\"), 3)\n",
    "print(Solution().lengthOfLongestSubstring(\"\"), 0)\n",
    "print(Solution().lengthOfLongestSubstring(\"bbbabc\"), 3)\n",
    "print(Solution().lengthOfLongestSubstring(\"bbbbbba\"), 2)"
   ]
  },
  {
   "cell_type": "code",
   "execution_count": 43,
   "metadata": {},
   "outputs": [],
   "source": [
    "str.index?"
   ]
  },
  {
   "cell_type": "code",
   "execution_count": 44,
   "metadata": {},
   "outputs": [],
   "source": [
    "str.find?"
   ]
  },
  {
   "cell_type": "markdown",
   "metadata": {},
   "source": [
    "20210305"
   ]
  },
  {
   "cell_type": "markdown",
   "metadata": {},
   "source": [
    "### 5. Longest Palindromic Substring\n",
    "https://leetcode.com/problems/longest-palindromic-substring/  \n",
    "Medium  \n",
    "\n",
    "Given a string s, return the longest palindromic substring in s.\n",
    "\n",
    "Example 1:  \n",
    "Input: s = \"babad\"  \n",
    "Output: \"bab\"  \n",
    "Note: \"aba\" is also a valid answer.  \n",
    "\n",
    "Example 2:  \n",
    "Input: s = \"cbbd\"  \n",
    "Output: \"bb\"  \n",
    "\n",
    "Example 3:  \n",
    "Input: s = \"a\"  \n",
    "Output: \"a\"  \n",
    "\n",
    "Example 4:  \n",
    "Input: s = \"ac\"  \n",
    "Output: \"a\"  \n",
    " \n",
    "Constraints:  \n",
    "1 <= s.length <= 1000  \n",
    "s consist of only digits and English letters (lower-case and/or upper-case)"
   ]
  },
  {
   "cell_type": "markdown",
   "metadata": {},
   "source": [
    "__My solution:__"
   ]
  },
  {
   "cell_type": "code",
   "execution_count": 51,
   "metadata": {},
   "outputs": [
    {
     "name": "stdout",
     "output_type": "stream",
     "text": [
      "tanat tanat\n",
      "ana ana\n"
     ]
    }
   ],
   "source": [
    "class Solution:\n",
    "    def longestPalindrome(self, s: str) -> str:\n",
    "        def isPalindrom(s):\n",
    "            return s == s[::-1]\n",
    "\n",
    "        s = s.lower()\n",
    "        for i in range(len(s), 0, -1):\n",
    "            for start in range(len(s) - i + 1):\n",
    "                subStr = s[start:start + i]\n",
    "                if isPalindrom(subStr):\n",
    "                    return subStr\n",
    "            \n",
    "\n",
    "print(Solution().longestPalindrome('tanat'), 'tanat')\n",
    "print(Solution().longestPalindrome('tana'), 'ana')"
   ]
  },
  {
   "cell_type": "markdown",
   "metadata": {},
   "source": [
    "20210306"
   ]
  },
  {
   "cell_type": "markdown",
   "metadata": {},
   "source": [
    "### 6. ZigZag Conversion\n",
    "https://leetcode.com/problems/zigzag-conversion/  \n",
    "Medium\n",
    "\n",
    "The string \"PAYPALISHIRING\" is written in a zigzag pattern on a given number of rows like this: (you may want to display this pattern in a fixed font for better legibility)\n",
    "\n",
    "<pre>\n",
    "P     I    N\n",
    "A   L S  I G\n",
    "Y A   H R\n",
    "P     I\n",
    "</pre>\n",
    "\n",
    "And then read line by line: \"PAHNAPLSIIGYIR\"  \n",
    "\n",
    "Write the code that will take a string and make this conversion given a number of rows:  \n",
    "\n",
    "string convert(string s, int numRows);\n",
    " \n",
    "\n",
    "Example 1:  \n",
    "Input: s = \"PAYPALISHIRING\", numRows = 3  \n",
    "Output: \"PAHNAPLSIIGYIR\"  \n",
    "\n",
    "Example 2:  \n",
    "Input: s = \"PAYPALISHIRING\", numRows = 4  \n",
    "Output: \"PINALSIGYAHRPI\"  \n",
    "Explanation:  \n",
    "<pre>\n",
    "P     I    N  \n",
    "A   L S  I G  \n",
    "Y A   H R  \n",
    "P     I  \n",
    "</pre>\n",
    "\n",
    "Example 3:  \n",
    "Input: s = \"A\", numRows = 1  \n",
    "Output: \"A\"\n",
    " \n",
    "Constraints:  \n",
    "1 <= s.length <= 1000   \n",
    "s consists of English letters (lower-case and upper-case), ',' and '.'.  \n",
    "1 <= numRows <= 1000"
   ]
  },
  {
   "cell_type": "markdown",
   "metadata": {},
   "source": [
    "__My solution:__"
   ]
  },
  {
   "cell_type": "code",
   "execution_count": 57,
   "metadata": {},
   "outputs": [
    {
     "name": "stdout",
     "output_type": "stream",
     "text": [
      "PAYPALISHIRING PAYPALISHIRING\n",
      "PYAIHRNAPLSIIG PYAIHRNAPLSIIG\n",
      "PAHNAPLSIIGYIR PAHNAPLSIIGYIR\n",
      "PINALSIGYAHRPI PINALSIGYAHRPI\n"
     ]
    }
   ],
   "source": [
    "class Solution:\n",
    "    def convert(self, s: str, numRows: int) -> str:\n",
    "        if numRows == 1:  # special case\n",
    "            return s\n",
    "    \n",
    "        resStr = ''\n",
    "        cols = -(len(s) // -(2 * numRows - 2))  # == math.ceil()\n",
    "        for i in range(numRows):\n",
    "            for j in range(cols):\n",
    "                cur = j * (2 * numRows - 2) + i\n",
    "                resStr += s[cur:cur + 1]\n",
    "                if i != 0 and i != numRows - 1:\n",
    "                    cur = (2 * j + 1) * (2 * numRows - 2) - cur\n",
    "                    resStr += s[cur:cur + 1]\n",
    "        return resStr;\n",
    "\n",
    "print(Solution().convert('PAYPALISHIRING', 1), 'PAYPALISHIRING')\n",
    "print(Solution().convert('PAYPALISHIRING', 2), 'PYAIHRNAPLSIIG')\n",
    "print(Solution().convert('PAYPALISHIRING', 3), 'PAHNAPLSIIGYIR')\n",
    "print(Solution().convert('PAYPALISHIRING', 4), 'PINALSIGYAHRPI')"
   ]
  },
  {
   "cell_type": "code",
   "execution_count": 53,
   "metadata": {},
   "outputs": [
    {
     "data": {
      "text/plain": [
       "'f'"
      ]
     },
     "execution_count": 53,
     "metadata": {},
     "output_type": "execute_result"
    }
   ],
   "source": [
    "'fdggfgf'[6:7]"
   ]
  },
  {
   "cell_type": "code",
   "execution_count": 52,
   "metadata": {},
   "outputs": [
    {
     "data": {
      "text/plain": [
       "''"
      ]
     },
     "execution_count": 52,
     "metadata": {},
     "output_type": "execute_result"
    }
   ],
   "source": [
    "'fdggfgf'[10:11]"
   ]
  },
  {
   "cell_type": "markdown",
   "metadata": {},
   "source": [
    "20210307"
   ]
  },
  {
   "cell_type": "markdown",
   "metadata": {},
   "source": [
    "### 1. Two Sum\n",
    "https://leetcode.com/problems/two-sum/  \n",
    "Easy\n",
    "\n",
    "Given an array of integers nums and an integer target, return indices of the two numbers such that they add up to target.\n",
    "\n",
    "You may assume that each input would have exactly one solution, and you may not use the same element twice.\n",
    "\n",
    "You can return the answer in any order.\n",
    "\n",
    "Example 1:  \n",
    "Input: nums = [2,7,11,15], target = 9  \n",
    "Output: [0,1]  \n",
    "Output: Because nums[0] + nums[1] == 9, we return [0, 1].  \n",
    "\n",
    "Example 2:  \n",
    "Input: nums = [3,2,4], target = 6  \n",
    "Output: [1,2]  \n",
    "\n",
    "Example 3:  \n",
    "Input: nums = [3,3], target = 6  \n",
    "Output: [0,1]  \n",
    "\n",
    "Constraints:  \n",
    "2 <= nums.length <= 103  \n",
    "-109 <= nums[i] <= 109  \n",
    "-109 <= target <= 109  \n",
    "Only one valid answer exists."
   ]
  },
  {
   "cell_type": "markdown",
   "metadata": {},
   "source": [
    "__My solution:__"
   ]
  },
  {
   "cell_type": "code",
   "execution_count": 73,
   "metadata": {},
   "outputs": [
    {
     "name": "stdout",
     "output_type": "stream",
     "text": [
      "[1, 0] [1, 0]\n",
      "[2, 1] [1, 2]\n",
      "[1, 0] [0, 1]\n"
     ]
    }
   ],
   "source": [
    "class Solution:\n",
    "    def twoSum(self, nums: List[int], target: int) -> List[int]:\n",
    "        diffs = {}\n",
    "        for i, num in enumerate(nums):\n",
    "            if num in diffs:\n",
    "                return [i, diffs[num]]\n",
    "            else:\n",
    "                diffs[target - num] = i\n",
    "                \n",
    "print(Solution().twoSum([2, 7, 11, 15], 9), [1, 0])\n",
    "print(Solution().twoSum([3,2,4], 6), [1, 2])\n",
    "print(Solution().twoSum([3, 3], 6), [0, 1])"
   ]
  },
  {
   "cell_type": "markdown",
   "metadata": {},
   "source": [
    "20210308"
   ]
  },
  {
   "cell_type": "markdown",
   "metadata": {},
   "source": [
    "### 11. Container With Most Water\n",
    "https://leetcode.com/problems/container-with-most-water/   \n",
    "Medium  \n",
    "\n",
    "Given n non-negative integers a1, a2, ..., an , where each represents a point at coordinate (i, ai). n vertical lines are drawn such that the two endpoints of the line i is at (i, ai) and (i, 0). Find two lines, which, together with the x-axis forms a container, such that the container contains the most water.\n",
    "\n",
    "Notice that you may not slant the container.\n",
    "\n",
    "Example 1:  \n",
    "Input: height = [1,8,6,2,5,4,8,3,7]   \n",
    "Output: 49  \n",
    "Explanation: The above vertical lines are represented by array [1,8,6,2,5,4,8,3,7]. In this case, the max area of water (blue section) the container can contain is 49.\n",
    "\n",
    "Example 2:  \n",
    "Input: height = [1,1]  \n",
    "Output: 1  \n",
    "\n",
    "Example 3:  \n",
    "Input: height = [4,3,2,1,4]  \n",
    "Output: 16  \n",
    "\n",
    "Example 4:  \n",
    "Input: height = [1,2,1]  \n",
    "Output: 2  \n",
    " \n",
    "Constraints:  \n",
    "n == height.length  \n",
    "2 <= n <= 105  \n",
    "0 <= height[i] <= 104"
   ]
  },
  {
   "cell_type": "markdown",
   "metadata": {},
   "source": [
    "__My solution:__"
   ]
  },
  {
   "cell_type": "markdown",
   "metadata": {},
   "source": [
    "__My unsuccesful attempts:__"
   ]
  },
  {
   "cell_type": "markdown",
   "metadata": {},
   "source": [
    "__#1__ Time Limit Exceeded (49 / 60 test cases passed)"
   ]
  },
  {
   "cell_type": "code",
   "execution_count": 74,
   "metadata": {},
   "outputs": [
    {
     "name": "stdout",
     "output_type": "stream",
     "text": [
      "6\n",
      "16\n",
      "2\n",
      "1\n"
     ]
    }
   ],
   "source": [
    "# Ver.1 Time Limit Exceeded\n",
    "from typing import List\n",
    "from itertools import combinations\n",
    "\n",
    "class Solution:\n",
    "    def maxArea(self, height: List[int]) -> int:\n",
    "#         for i, j in combinations(range(len(height)), 2):\n",
    "#             print(i, j)\n",
    "        def compute(pair):\n",
    "            return min(height[pair[0]], height[pair[1]]) * abs(pair[0] - pair[1])            \n",
    "        \n",
    "        return max(map(compute, combinations(range(len(height)), 2)))\n",
    "            \n",
    "print(Solution().maxArea([2, 3, 5, 4])) # 6\n",
    "print(Solution().maxArea([4, 3, 2, 1, 4])) # 16\n",
    "print(Solution().maxArea([1, 2, 1])) # 2\n",
    "print(Solution().maxArea([1, 1])) # 1"
   ]
  },
  {
   "cell_type": "markdown",
   "metadata": {},
   "source": [
    "__#2__ Wrong Answer"
   ]
  },
  {
   "cell_type": "code",
   "execution_count": 14,
   "metadata": {},
   "outputs": [
    {
     "name": "stdout",
     "output_type": "stream",
     "text": [
      "6 6\n",
      "16 16\n",
      "2 2\n",
      "1 1\n",
      "36 36\n",
      "16 17\n"
     ]
    }
   ],
   "source": [
    "# Ver.2 Wrong Answer\n",
    "from typing import List\n",
    "\n",
    "class Solution:\n",
    "    def maxArea(self, height: List[int]) -> int:\n",
    "        maxS = 0\n",
    "        i, j = -1, len(height) - 1\n",
    "        left, right = i, j\n",
    "        leftToRight = True\n",
    "        while i < j:\n",
    "            if leftToRight:\n",
    "                i += 1\n",
    "                leftToRight = False\n",
    "                curS = min(height[i], height[right]) * (right - i)\n",
    "                if curS > maxS:\n",
    "                    maxS = curS\n",
    "                    left = i\n",
    "            else:\n",
    "                j -= 1\n",
    "                leftToRight = True\n",
    "                curS = min(height[left], height[j]) * (j - left)\n",
    "                if curS > maxS:\n",
    "                    maxS = curS\n",
    "                    right = j                   \n",
    "        return maxS\n",
    "            \n",
    "print(Solution().maxArea([2, 3, 5, 4]), 6) # 6\n",
    "print(Solution().maxArea([4, 3, 2, 1, 4]), 16) # 16\n",
    "print(Solution().maxArea([1, 2, 1]), 2) # 2\n",
    "print(Solution().maxArea([1, 1]), 1) # 1\n",
    "print(Solution().maxArea([2, 3, 10, 5, 7, 8, 9]), 36)\n",
    "print(Solution().maxArea([2, 3, 4, 5, 18, 17, 6]), 17)"
   ]
  },
  {
   "cell_type": "markdown",
   "metadata": {},
   "source": [
    "__#3__ Time Limit Exceeded (50 / 60 test cases passed)"
   ]
  },
  {
   "cell_type": "code",
   "execution_count": null,
   "metadata": {},
   "outputs": [],
   "source": [
    "class Solution:\n",
    "    def maxArea(self, height: List[int]) -> int:\n",
    "        maxS = 0\n",
    "        for i in range(len(height)):\n",
    "            leftSide = height[i]\n",
    "            rightSide = 0\n",
    "            for j in range(len(height) - 1, i, -1):\n",
    "                if leftSide >= rightSide and height[j] > rightSide:\n",
    "                    curHeight = min(leftSide, height[j]) * (j - i)\n",
    "                    if curHeight > maxS:\n",
    "                        maxS = curHeight\n",
    "                        rightSide = height[j]\n",
    "        return maxS\n",
    "    \n",
    "print(Solution().maxArea([2, 3, 5, 4]), 6) # 6\n",
    "print(Solution().maxArea([4, 3, 2, 1, 4]), 16) # 16\n",
    "print(Solution().maxArea([1, 2, 1]), 2) # 2\n",
    "print(Solution().maxArea([1, 1]), 1) # 1\n",
    "print(Solution().maxArea([2, 3, 10, 5, 7, 8, 9]), 36)\n",
    "print(Solution().maxArea([2, 3, 4, 5, 18, 17, 6]), 17)"
   ]
  },
  {
   "cell_type": "markdown",
   "metadata": {},
   "source": [
    "__#4__ Time Limit Exceeded (53 / 60 test cases passed)"
   ]
  },
  {
   "cell_type": "code",
   "execution_count": 50,
   "metadata": {},
   "outputs": [
    {
     "name": "stdout",
     "output_type": "stream",
     "text": [
      "Iterations = 60 Computations = 60\n",
      "40\n"
     ]
    }
   ],
   "source": [
    "# Ver.4 Time Limit Exceeded\n",
    "from typing import List\n",
    "\n",
    "class Solution:\n",
    "    def maxArea(self, height: List[int]) -> int:\n",
    "        maxS = 0\n",
    "        leftSide = 0\n",
    "        counter1, counter2 = 0, 0\n",
    "        for i in range(len(height)):\n",
    "            if height[i] > leftSide:\n",
    "                leftSide = height[i]\n",
    "                rightSide = 0\n",
    "                for j in range(len(height) - 1, i, -1):\n",
    "                    counter1 += 1\n",
    "                    #print(i, j, 'height[j] =', height[j], 'leftSide =', height[i], 'rightSide =', rightSide, 'S =', maxS)\n",
    "                    if height[j] > rightSide:\n",
    "                        counter2 += 1\n",
    "                        curHeight = min(leftSide, height[j]) * (j - i)\n",
    "                        if curHeight > maxS:\n",
    "                            maxS = curHeight\n",
    "                            rightSide = height[j]\n",
    "                            if leftSide <= rightSide:\n",
    "                                break\n",
    "        print('Iterations =', counter1, 'Computations =', counter2)\n",
    "        return maxS\n",
    "            \n",
    "# print(Solution().maxArea([2, 3, 5, 4]), 6) # 6\n",
    "# print(Solution().maxArea([4, 3, 2, 1, 4]), 16) # 16\n",
    "# print(Solution().maxArea([1, 2, 1]), 2) # 2\n",
    "# print(Solution().maxArea([1, 1]), 1) # 1\n",
    "# print(Solution().maxArea([2, 3, 10, 5, 7, 8, 9]), 36)\n",
    "# print(Solution().maxArea([2, 3, 4, 5, 18, 17, 6]), 17)\n",
    "print(Solution().maxArea([0, 1, 2, 3, 4, 5, 6, 7, 8, 9, 8, 7, 6, 5, 4, 3, 2, 1]))\n",
    "# print(Solution().maxArea([0, 1, 2, 3, 2, 1]))"
   ]
  },
  {
   "cell_type": "markdown",
   "metadata": {},
   "source": [
    "__#5__ Time Limit Exceeded (53 / 60 test cases passed)"
   ]
  },
  {
   "cell_type": "code",
   "execution_count": 52,
   "metadata": {},
   "outputs": [
    {
     "name": "stdout",
     "output_type": "stream",
     "text": [
      "Iterations = 52 Computations = 52\n",
      "40\n"
     ]
    }
   ],
   "source": [
    "# Ver.5\n",
    "from typing import List\n",
    "\n",
    "class Solution:\n",
    "    def maxArea(self, height: List[int]) -> int:\n",
    "        iMax, jMax = 0, len(height) - 1\n",
    "        maxS = min(height[iMax], height[jMax]) * (jMax - iMax)\n",
    "        counter1, counter2 = 0, 0\n",
    "        #leftSide = 0\n",
    "        for i in range(len(height)):\n",
    "            if (i == 0 and height[i] != 0) or height[i] > height[iMax]:\n",
    "                #leftSide = height[i]\n",
    "                #rightSide = 0\n",
    "                for j in range(jMax, i, -1):\n",
    "                    counter1 += 1\n",
    "                    #print(i, j, 'jMax =', jMax, 'height[j] =', height[j], 'leftSide =', height[iMax], 'rightSide =', height[jMax], 'S =', maxS)\n",
    "                    if j == jMax or height[j] > height[jMax]:\n",
    "                        counter2 += 1\n",
    "                        curHeight = min(height[i], height[j]) * (j - i)\n",
    "                        if curHeight > maxS:\n",
    "                            maxS = curHeight\n",
    "                            #rightSide = height[j]\n",
    "                            #if leftSide <= rightSide:\n",
    "                                #break\n",
    "                            iMax, jMax = i, j\n",
    "                            if height[iMax] <= height[jMax]:\n",
    "                                break\n",
    "        print('Iterations =', counter1, 'Computations =', counter2)\n",
    "        return maxS\n",
    "\n",
    "# print(Solution().maxArea([2, 3, 5, 4]), 6) # 6\n",
    "# print(Solution().maxArea([4, 3, 2, 1, 4]), 16) # 16\n",
    "# print(Solution().maxArea([1, 2, 1]), 2) # 2\n",
    "# print(Solution().maxArea([1, 1]), 1) # 1\n",
    "# print(Solution().maxArea([2, 3, 10, 5, 7, 8, 9]), 36)\n",
    "# print(Solution().maxArea([2, 3, 4, 5, 18, 17, 6]), 17)\n",
    "print(Solution().maxArea([0, 1, 2, 3, 4, 5, 6, 7, 8, 9, 8, 7, 6, 5, 4, 3, 2, 1]))\n",
    "# print(Solution().maxArea([0, 1, 2, 3, 2, 1]))"
   ]
  },
  {
   "cell_type": "code",
   "execution_count": 56,
   "metadata": {},
   "outputs": [
    {
     "data": {
      "text/plain": [
       "[0, 1, 2, 3, 4, 5, 6, 7, 8, 9, 8, 7, 6, 5, 4, 3, 2, 1]"
      ]
     },
     "execution_count": 56,
     "metadata": {},
     "output_type": "execute_result"
    }
   ],
   "source": [
    "l = [*range(9), *range(9, 0, -1)]\n",
    "l"
   ]
  },
  {
   "cell_type": "markdown",
   "metadata": {},
   "source": [
    "### 15. 3Sum\n",
    "https://leetcode.com/problems/3sum/  \n",
    "Medium\n",
    "\n",
    "Given an array nums of n integers, are there elements a, b, c in nums such that a + b + c = 0? Find all unique triplets in the array which gives the sum of zero.\n",
    "\n",
    "Notice that the solution set must not contain duplicate triplets.\n",
    "\n",
    "Example 1:  \n",
    "Input: nums = [-1,0,1,2,-1,-4]  \n",
    "Output: [[-1,-1,2],[-1,0,1]]  \n",
    "\n",
    "Example 2:  \n",
    "Input: nums = []  \n",
    "Output: []  \n",
    "\n",
    "Example 3:  \n",
    "Input: nums = [0]  \n",
    "Output: []  \n",
    " \n",
    "Constraints:  \n",
    "0 <= nums.length <= 3000  \n",
    "-105 <= nums[i] <= 105"
   ]
  },
  {
   "cell_type": "markdown",
   "metadata": {},
   "source": [
    "__My solution:__"
   ]
  },
  {
   "cell_type": "code",
   "execution_count": 9,
   "metadata": {},
   "outputs": [
    {
     "name": "stdout",
     "output_type": "stream",
     "text": [
      "[[-1, 1, 0], [-1, -1, 2]] [[-1, -1, 2], [-1, 0, 1]]\n",
      "[] []\n",
      "[] []\n",
      "[[0, 0, 0]] [[0, 0, 0]]\n"
     ]
    }
   ],
   "source": [
    "from typing import List\n",
    "\n",
    "class Solution:\n",
    "    def threeSum(self, nums: List[int]) -> List[List[int]]:\n",
    "        triples = []\n",
    "        tripleHashes = set()\n",
    "        for i, a in enumerate(nums):\n",
    "            diffs = {}\n",
    "            for j, b in enumerate(nums):\n",
    "                if i != j:\n",
    "                    if b in diffs:\n",
    "                        triple = [a, b, diffs[b]]\n",
    "                        curHash = tuple(sorted(triple))\n",
    "                        if curHash not in tripleHashes:\n",
    "                            tripleHashes.add(curHash)\n",
    "                            triples.append(triple)\n",
    "                    else:\n",
    "                        diffs[-(a + b)] = b\n",
    "        return triples\n",
    "    \n",
    "print(Solution().threeSum([-1,0,1,2,-1,-4]), [[-1,-1,2],[-1,0,1]])\n",
    "print(Solution().threeSum([]), [])\n",
    "print(Solution().threeSum([0]), [])\n",
    "print(Solution().threeSum([0,0,0]), [[0,0,0]])"
   ]
  },
  {
   "cell_type": "markdown",
   "metadata": {},
   "source": [
    "__My unsuccesful attempts:__"
   ]
  },
  {
   "cell_type": "markdown",
   "metadata": {},
   "source": [
    "__#1__ Time Limit Exceeded"
   ]
  },
  {
   "cell_type": "code",
   "execution_count": null,
   "metadata": {},
   "outputs": [],
   "source": [
    "# Ver.1 Time Limit Exceeded\n",
    "from itertools import combinations\n",
    "from typing import List\n",
    "\n",
    "class Solution:\n",
    "    def threeSum(self, nums: List[int]) -> List[List[int]]:\n",
    "        triples = []\n",
    "        tripleHashes = set()\n",
    "        for comb in combinations(nums, 3):\n",
    "            if sum(comb) == 0:\n",
    "                combHash = ''.join(map(str, sorted(comb)))\n",
    "                if combHash not in tripleHashes:\n",
    "                    triples.append(list(comb))\n",
    "                    tripleHashes.add(combHash)\n",
    "        return triples\n",
    "        \n"
   ]
  },
  {
   "cell_type": "markdown",
   "metadata": {},
   "source": [
    "Using tuples as dic keys - ok, but sorting required:"
   ]
  },
  {
   "cell_type": "code",
   "execution_count": 82,
   "metadata": {},
   "outputs": [
    {
     "name": "stdout",
     "output_type": "stream",
     "text": [
      "{(0, 1, 1)}\n",
      "{(0, 1, 1), (1, 0, 1)}\n",
      "{(0, 1, 1), (1, 0, 1)}\n",
      "{(0, 1, 1), (1, 0, 1)}\n"
     ]
    }
   ],
   "source": [
    "s = set()\n",
    "s.add((0, 1, 1))\n",
    "print(s)\n",
    "\n",
    "s.add((1, 0, 1))\n",
    "print(s)\n",
    "\n",
    "s.add((0, 1, 1))\n",
    "print(s)\n",
    "\n",
    "# Using list as dic keys is WRONG:\n",
    "#s.add([0, 1, 1])  # TypeError: unhashable type: 'list'\n",
    "print(s)"
   ]
  },
  {
   "cell_type": "markdown",
   "metadata": {},
   "source": [
    "__#2__ Wrong answer"
   ]
  },
  {
   "cell_type": "code",
   "execution_count": 7,
   "metadata": {},
   "outputs": [
    {
     "name": "stdout",
     "output_type": "stream",
     "text": [
      "[[-1, 1, 0], [-1, -1, 2]] [[-1, -1, 2], [-1, 0, 1]]\n",
      "[] []\n",
      "[] []\n",
      "[] [0, 0, 0]\n"
     ]
    }
   ],
   "source": [
    "from typing import List\n",
    "\n",
    "class Solution:\n",
    "    def threeSum(self, nums: List[int]) -> List[List[int]]:\n",
    "        triples = []\n",
    "        tripleHashes = set()\n",
    "        for i, a in enumerate(nums):\n",
    "            uniqNums = set()\n",
    "            diffs = {}\n",
    "            for j, b in enumerate(nums):\n",
    "                if i != j and b not in uniqNums:\n",
    "                    uniqNums.add(b)\n",
    "                    if b in diffs:\n",
    "                        curHash = tuple(sorted((a, b, diffs[b])))\n",
    "                        if curHash not in tripleHashes:\n",
    "                            tripleHashes.add(curHash)\n",
    "                            triples.append([a, b, diffs[b]])\n",
    "                    else:\n",
    "                        diffs[-(a + b)] = b\n",
    "        return triples\n",
    "    \n",
    "print(Solution().threeSum([-1,0,1,2,-1,-4]), [[-1,-1,2],[-1,0,1]])\n",
    "print(Solution().threeSum([]), [])\n",
    "print(Solution().threeSum([0]), [])\n",
    "print(Solution().threeSum([0,0,0]), [0,0,0])"
   ]
  },
  {
   "cell_type": "markdown",
   "metadata": {},
   "source": [
    "20210312"
   ]
  },
  {
   "cell_type": "markdown",
   "metadata": {},
   "source": [
    "### 7. Reverse Integer\n",
    "https://leetcode.com/problems/reverse-integer/  \n",
    "Easy\n",
    "\n",
    "Given a signed 32-bit integer x, return x with its digits reversed. If reversing x causes the value to go outside the signed 32-bit integer range [-231, 231 - 1], then return 0.\n",
    "\n",
    "Assume the environment does not allow you to store 64-bit integers (signed or unsigned).\n",
    "\n",
    "Example 1:  \n",
    "Input: x = 123  \n",
    "Output: 321\n",
    "\n",
    "Example 2:  \n",
    "Input: x = -123  \n",
    "Output: -321  \n",
    "\n",
    "Example 3:  \n",
    "Input: x = 120  \n",
    "Output: 21  \n",
    "\n",
    "Example 4:  \n",
    "Input: x = 0  \n",
    "Output: 0  \n",
    " \n",
    "Constraints:  \n",
    "-231 <= x <= 231 - 1"
   ]
  },
  {
   "cell_type": "markdown",
   "metadata": {},
   "source": [
    "__My solution:__"
   ]
  },
  {
   "cell_type": "code",
   "execution_count": 5,
   "metadata": {},
   "outputs": [
    {
     "name": "stdout",
     "output_type": "stream",
     "text": [
      "321\n",
      "-321\n",
      "21\n",
      "0\n"
     ]
    }
   ],
   "source": [
    "class Solution:\n",
    "    def reverse(self, x: int) -> int:\n",
    "        x = (-1, 1)[x > 0] * int(str(abs(x))[::-1])\n",
    "        return x if (-2)**31 <= x <= 2**31 - 1 else 0\n",
    "    \n",
    "print(Solution().reverse(123), 321)\n",
    "print(Solution().reverse(-123), -321)\n",
    "print(Solution().reverse(120), 21)\n",
    "print(Solution().reverse(0), 0)"
   ]
  },
  {
   "cell_type": "markdown",
   "metadata": {},
   "source": [
    "20210314"
   ]
  },
  {
   "cell_type": "markdown",
   "metadata": {},
   "source": [
    "### 14. Longest Common Prefix\n",
    "https://leetcode.com/problems/longest-common-prefix/  \n",
    "Easy\n",
    "\n",
    "Write a function to find the longest common prefix string amongst an array of strings.\n",
    "\n",
    "If there is no common prefix, return an empty string \"\".\n",
    "\n",
    "Example 1:  \n",
    "Input: strs = [\"flower\",\"flow\",\"flight\"]  \n",
    "Output: \"fl\"\n",
    "\n",
    "Example 2:  \n",
    "Input: strs = [\"dog\",\"racecar\",\"car\"]  \n",
    "Output: \"\"  \n",
    "Explanation: There is no common prefix among the input strings.\n",
    " \n",
    "Constraints:  \n",
    "0 <= strs.length <= 200  \n",
    "0 <= strs[i].length <= 200  \n",
    "strs[i] consists of only lower-case English letters."
   ]
  },
  {
   "cell_type": "markdown",
   "metadata": {},
   "source": [
    "__My solution:__"
   ]
  },
  {
   "cell_type": "code",
   "execution_count": null,
   "metadata": {},
   "outputs": [],
   "source": [
    "class Solution:\n",
    "    def longestCommonPrefix(self, strs: List[str]) -> str:\n",
    "        prefix = ''\n",
    "        if strs:\n",
    "            for i, char in enumerate(strs[0]):\n",
    "                for string in strs:\n",
    "                    if i == len(string) or string[i] != char:\n",
    "                        return prefix\n",
    "                prefix += char\n",
    "        return prefix\n",
    "\n",
    "print(Solution().longestCommonPrefix([]), '')\n",
    "print(Solution().longestCommonPrefix([\"flower\", \"flow\", \"flight\"]), 'fl')\n",
    "print(Solution().longestCommonPrefix([\"flower\", \"flow\", \"flows\"]), 'flow')\n",
    "print(Solution().longestCommonPrefix([\"dog\", \"racecar\", \"car\"]), '')"
   ]
  },
  {
   "cell_type": "markdown",
   "metadata": {},
   "source": [
    "20210315"
   ]
  },
  {
   "cell_type": "markdown",
   "metadata": {},
   "source": [
    "### 20. Valid Parentheses  \n",
    "https://leetcode.com/problems/valid-parentheses/  \n",
    "Easy\n",
    "\n",
    "Given a string s containing just the characters '(', ')', '{', '}', '[' and ']', determine if the input string is valid.\n",
    "\n",
    "An input string is valid if:  \n",
    "Open brackets must be closed by the same type of brackets.\n",
    "Open brackets must be closed in the correct order.\n",
    "\n",
    "Example 1:  \n",
    "Input: s = \"()\"  \n",
    "Output: true\n",
    "\n",
    "Example 2:\n",
    "Input: s = \"()[]{}\"  \n",
    "Output: true\n",
    "\n",
    "Example 3:  \n",
    "Input: s = \"(]\"  \n",
    "Output: false\n",
    "\n",
    "Example 4:  \n",
    "Input: s = \"([)]\"  \n",
    "Output: false \n",
    "\n",
    "Example 5:  \n",
    "Input: s = \"{[]}\"  \n",
    "Output: true"
   ]
  },
  {
   "cell_type": "markdown",
   "metadata": {},
   "source": [
    "__My solution:__"
   ]
  },
  {
   "cell_type": "code",
   "execution_count": 69,
   "metadata": {},
   "outputs": [
    {
     "name": "stdout",
     "output_type": "stream",
     "text": [
      "True True\n",
      "True True\n",
      "False False\n",
      "False False\n",
      "True True\n",
      "False False\n"
     ]
    }
   ],
   "source": [
    "class Solution:\n",
    "    def isValid(self, s: str) -> bool:\n",
    "        d = {')':'(', '}':'{', ']':'['}\n",
    "        stack = []\n",
    "        for char in s:\n",
    "            if char in ('(', '{', '['):\n",
    "                stack.append(char)\n",
    "            else:\n",
    "                if not stack or stack.pop() != d[char]:\n",
    "                    return False\n",
    "        return not stack\n",
    "    \n",
    "print(Solution().isValid(\"()\"), True)\n",
    "print(Solution().isValid(\"()[]{}\"), True)\n",
    "print(Solution().isValid(\"(]\"), False)\n",
    "print(Solution().isValid(\"([)]\"), False)\n",
    "print(Solution().isValid(\"{[]}\"), True)\n",
    "print(Solution().isValid(\"]\"), False)"
   ]
  },
  {
   "cell_type": "markdown",
   "metadata": {},
   "source": [
    "Almost the same:"
   ]
  },
  {
   "cell_type": "code",
   "execution_count": 70,
   "metadata": {},
   "outputs": [
    {
     "name": "stdout",
     "output_type": "stream",
     "text": [
      "True True\n",
      "True True\n",
      "False False\n",
      "False False\n",
      "True True\n",
      "False False\n"
     ]
    }
   ],
   "source": [
    "class Solution:\n",
    "    def isValid(self, s: str) -> bool:\n",
    "        d = {'(':')', '{':'}', '[':']'}\n",
    "        stack = []\n",
    "        for char in s:\n",
    "            if char in '({[':\n",
    "                stack.append(char)\n",
    "            else:\n",
    "                if not stack or d[stack.pop()] != char:\n",
    "                    return False\n",
    "        return not stack\n",
    "    \n",
    "print(Solution().isValid(\"()\"), True)\n",
    "print(Solution().isValid(\"()[]{}\"), True)\n",
    "print(Solution().isValid(\"(]\"), False)\n",
    "print(Solution().isValid(\"([)]\"), False)\n",
    "print(Solution().isValid(\"{[]}\"), True)\n",
    "print(Solution().isValid(\"]\"), False)"
   ]
  },
  {
   "cell_type": "markdown",
   "metadata": {},
   "source": [
    "20210316"
   ]
  },
  {
   "cell_type": "markdown",
   "metadata": {},
   "source": [
    "### 26. Remove Duplicates from Sorted Array\n",
    "https://leetcode.com/problems/remove-duplicates-from-sorted-array/  \n",
    "easy\n",
    "\n",
    "Given a sorted array nums, remove the duplicates in-place such that each element appears only once and returns the new length.\n",
    "\n",
    "Do not allocate extra space for another array, you must do this by modifying the input array in-place with O(1) extra memory.\n",
    "\n",
    "Clarification:\n",
    "Confused why the returned value is an integer but your answer is an array?  \n",
    "Note that the input array is passed in by reference, which means a modification to the input array will be known to the caller as well. \n",
    "\n",
    "Example 1:  \n",
    "Input: nums = [1,1,2]  \n",
    "Output: 2, nums = [1,2]  \n",
    "Explanation: Your function should return length = 2, with the first two elements of nums being 1 and 2 respectively. It doesn't matter what you leave beyond the returned length.\n",
    "\n",
    "Example 2:  \n",
    "Input: nums = [0,0,1,1,1,2,2,3,3,4]    \n",
    "Output: 5, nums = [0,1,2,3,4]  \n",
    "Explanation: Your function should return length = 5, with the first five elements of nums being modified to 0, 1, 2, 3, and 4 respectively. It doesn't matter what values are set beyond the returned length.\n",
    " \n",
    "Constraints:  \n",
    "0 <= nums.length <= 3 * 104  \n",
    "-104 <= nums[i] <= 104  \n",
    "nums is sorted in ascending order."
   ]
  },
  {
   "cell_type": "markdown",
   "metadata": {},
   "source": [
    "__My solution:__"
   ]
  },
  {
   "cell_type": "code",
   "execution_count": 84,
   "metadata": {},
   "outputs": [
    {
     "name": "stdout",
     "output_type": "stream",
     "text": [
      "[1, 2]\n",
      "2 2\n",
      "[1]\n",
      "1 1\n",
      "[0, 1, 2, 3, 4]\n",
      "5 5\n",
      "[]\n",
      "0 0\n"
     ]
    }
   ],
   "source": [
    "from typing import List\n",
    "\n",
    "class Solution:\n",
    "    def removeDuplicates(self, nums: List[int]) -> int:\n",
    "        pr, cur = 0, 1\n",
    "        while cur < len(nums):\n",
    "            if nums[cur] != nums[pr]:\n",
    "                del nums[pr + 1:cur]\n",
    "                pr += 1\n",
    "                cur = pr + 1\n",
    "            else:\n",
    "                cur += 1\n",
    "        del nums[pr + 1:]\n",
    "        return len(nums)\n",
    "    \n",
    "print(Solution().removeDuplicates([1, 1, 2]), 2)\n",
    "print(Solution().removeDuplicates([1, 1, 1, 1, 1]), 1)\n",
    "print(Solution().removeDuplicates([0,0,1,1,1,2,2,3,3,4]), 5)\n",
    "print(Solution().removeDuplicates([]), 0)"
   ]
  },
  {
   "cell_type": "markdown",
   "metadata": {},
   "source": [
    "The next one's way too bad (it was my first version):"
   ]
  },
  {
   "cell_type": "code",
   "execution_count": 83,
   "metadata": {},
   "outputs": [
    {
     "name": "stdout",
     "output_type": "stream",
     "text": [
      "2 2\n",
      "1 1\n",
      "5 5\n",
      "0 0\n"
     ]
    }
   ],
   "source": [
    "from typing import List\n",
    "\n",
    "class Solution:\n",
    "    def removeDuplicates(self, nums: List[int]) -> int:\n",
    "        pr, cur = 0, 1\n",
    "        try:\n",
    "            while True:\n",
    "                if nums[cur] != nums[pr]:\n",
    "                    del nums[pr + 1:cur]\n",
    "                    pr += 1\n",
    "                    cur = pr + 1\n",
    "                else:\n",
    "                    cur += 1\n",
    "        except IndexError:\n",
    "            del nums[pr + 1:]\n",
    "        return len(nums)\n",
    "    \n",
    "print(Solution().removeDuplicates([1, 1, 2]), 2)\n",
    "print(Solution().removeDuplicates([1, 1, 1, 1, 1]), 1)\n",
    "print(Solution().removeDuplicates([0,0,1,1,1,2,2,3,3,4]), 5)\n",
    "print(Solution().removeDuplicates([]), 0)"
   ]
  },
  {
   "cell_type": "code",
   "execution_count": 71,
   "metadata": {},
   "outputs": [
    {
     "ename": "IndexError",
     "evalue": "list index out of range",
     "output_type": "error",
     "traceback": [
      "\u001b[1;31m---------------------------------------------------------------------------\u001b[0m",
      "\u001b[1;31mIndexError\u001b[0m                                Traceback (most recent call last)",
      "\u001b[1;32m<ipython-input-71-021c67138b74>\u001b[0m in \u001b[0;36m<module>\u001b[1;34m\u001b[0m\n\u001b[0;32m      1\u001b[0m \u001b[0ml\u001b[0m \u001b[1;33m=\u001b[0m \u001b[1;33m[\u001b[0m\u001b[1;36m1\u001b[0m\u001b[1;33m]\u001b[0m\u001b[1;33m\u001b[0m\u001b[1;33m\u001b[0m\u001b[0m\n\u001b[1;32m----> 2\u001b[1;33m \u001b[0ml\u001b[0m\u001b[1;33m[\u001b[0m\u001b[1;36m1\u001b[0m\u001b[1;33m]\u001b[0m\u001b[1;33m\u001b[0m\u001b[1;33m\u001b[0m\u001b[0m\n\u001b[0m",
      "\u001b[1;31mIndexError\u001b[0m: list index out of range"
     ]
    }
   ],
   "source": [
    "l = [1]\n",
    "l[1]"
   ]
  },
  {
   "cell_type": "code",
   "execution_count": 72,
   "metadata": {},
   "outputs": [],
   "source": [
    "list.remove?"
   ]
  },
  {
   "cell_type": "code",
   "execution_count": 73,
   "metadata": {},
   "outputs": [
    {
     "name": "stdout",
     "output_type": "stream",
     "text": [
      "[0, 3, 4, 5]\n"
     ]
    }
   ],
   "source": [
    "l = [0, 1, 2, 3, 4, 5]\n",
    "del l[1:3]\n",
    "print(l)"
   ]
  },
  {
   "cell_type": "code",
   "execution_count": 74,
   "metadata": {},
   "outputs": [
    {
     "name": "stdout",
     "output_type": "stream",
     "text": [
      "[0, 1, 2]\n"
     ]
    }
   ],
   "source": [
    "l = [0, 1, 2, 3, 4, 5]\n",
    "del l[3:]\n",
    "print(l)"
   ]
  },
  {
   "cell_type": "markdown",
   "metadata": {},
   "source": [
    "20210317"
   ]
  },
  {
   "cell_type": "markdown",
   "metadata": {},
   "source": [
    "### 27. Remove Element\n",
    "https://leetcode.com/problems/remove-element/  \n",
    "Easy\n",
    "\n",
    "Given an array nums and a value val, remove all instances of that value in-place and return the new length.\n",
    "\n",
    "Do not allocate extra space for another array, you must do this by modifying the input array in-place with O(1) extra memory.\n",
    "\n",
    "The order of elements can be changed. It doesn't matter what you leave beyond the new length.\n",
    "\n",
    "Clarification:\n",
    "\n",
    "Confused why the returned value is an integer but your answer is an array?\n",
    "\n",
    "Note that the input array is passed in by reference, which means a modification to the input array will be known to the caller as well.\n",
    "\n",
    "Example 1:  \n",
    "Input: nums = [3,2,2,3], val = 3  \n",
    "Output: 2, nums = [2,2]  \n",
    "Explanation: Your function should return length = 2, with the first two elements of nums being 2.  \n",
    "It doesn't matter what you leave beyond the returned length. For example if you return 2 with nums = [2,2,3,3] or nums = [2,2,0,0], your answer will be accepted.\n",
    "\n",
    "Example 2:  \n",
    "Input: nums = [0,1,2,2,3,0,4,2], val = 2  \n",
    "Output: 5, nums = [0,1,4,0,3]  \n",
    "Explanation: Your function should return length = 5, with the first five elements of nums containing 0, 1, 3, 0, and 4. Note that the order of those five elements can be arbitrary. It doesn't matter what values are set beyond the returned length."
   ]
  },
  {
   "cell_type": "markdown",
   "metadata": {},
   "source": [
    "__My solution:__"
   ]
  },
  {
   "cell_type": "code",
   "execution_count": 90,
   "metadata": {},
   "outputs": [
    {
     "name": "stdout",
     "output_type": "stream",
     "text": [
      "2 2\n",
      "5 5\n",
      "0 0\n",
      "5 5\n",
      "0 0\n"
     ]
    }
   ],
   "source": [
    "from typing import List\n",
    "\n",
    "class Solution:\n",
    "    def removeElement(self, nums: List[int], val: int) -> int:\n",
    "        i = 0\n",
    "        while i < len(nums):\n",
    "            if nums[i] == val:\n",
    "                nums.pop(i)\n",
    "            else:\n",
    "                i += 1\n",
    "        return len(nums)\n",
    "    \n",
    "print(Solution().removeElement([3,2,2,3], 3), 2);\n",
    "print(Solution().removeElement([0, 1, 2, 2, 3, 0, 4, 2], 2), 5);\n",
    "print(Solution().removeElement([1, 1, 1, 1, 1], 1), 0);\n",
    "print(Solution().removeElement([1, 1, 1, 1, 1], 2), 5);\n",
    "print(Solution().removeElement([], 3), 0);"
   ]
  },
  {
   "cell_type": "code",
   "execution_count": 88,
   "metadata": {},
   "outputs": [],
   "source": [
    "list.remove?"
   ]
  },
  {
   "cell_type": "markdown",
   "metadata": {},
   "source": [
    "20210319"
   ]
  },
  {
   "cell_type": "markdown",
   "metadata": {},
   "source": [
    "### 28. Implement strStr()\n",
    "https://leetcode.com/problems/implement-strstr/  \n",
    "Easy  \n",
    "\n",
    "Return the index of the first occurrence of needle in haystack, or -1 if needle is not part of haystack.\n",
    "\n",
    "Clarification:  \n",
    "What should we return when needle is an empty string? This is a great question to ask during an interview.\n",
    "\n",
    "For the purpose of this problem, we will return 0 when needle is an empty string. This is consistent to C's strstr() and Java's indexOf() (and Python's index(), anf JS's indexOf()).\n",
    "\n",
    "Example 1:  \n",
    "Input: haystack = \"hello\", needle = \"ll\"  \n",
    "Output: 2\n",
    "\n",
    "Example 2:  \n",
    "Input: haystack = \"aaaaa\", needle = \"bba\"  \n",
    "Output: -1\n",
    "\n",
    "Example 3:  \n",
    "Input: haystack = \"\", needle = \"\"  \n",
    "Output: 0\n",
    " \n",
    "Constraints:  \n",
    "0 <= haystack.length, needle.length <= 5 * 104  \n",
    "haystack and needle consist of only lower-case English characters."
   ]
  },
  {
   "cell_type": "markdown",
   "metadata": {},
   "source": [
    "__My solutions:__"
   ]
  },
  {
   "cell_type": "markdown",
   "metadata": {},
   "source": [
    "__#1__ Using standard str.index method"
   ]
  },
  {
   "cell_type": "code",
   "execution_count": 95,
   "metadata": {},
   "outputs": [
    {
     "name": "stdout",
     "output_type": "stream",
     "text": [
      "2 2\n",
      "-1 -1\n",
      "-1 -1\n",
      "0 0\n",
      "0 0\n"
     ]
    }
   ],
   "source": [
    "class Solution(object):\n",
    "    def strStr(self, haystack, needle):\n",
    "        \"\"\"\n",
    "        :type haystack: str\n",
    "        :type needle: str\n",
    "        :rtype: int\n",
    "        \"\"\"\n",
    "        try:\n",
    "            return haystack.index(needle)\n",
    "        except ValueError:\n",
    "            return -1\n",
    "\n",
    "print(Solution().strStr('hello', 'll'), 2);\n",
    "print(Solution().strStr('hello', 'helloooo'), -1);\n",
    "print(Solution().strStr('aaaaaa', 'bba'), -1);\n",
    "print(Solution().strStr('', ''), 0);\n",
    "print(Solution().strStr('dddddd', ''), 0);"
   ]
  },
  {
   "cell_type": "code",
   "execution_count": 94,
   "metadata": {},
   "outputs": [],
   "source": [
    "str.index?"
   ]
  },
  {
   "cell_type": "code",
   "execution_count": 93,
   "metadata": {},
   "outputs": [
    {
     "data": {
      "text/plain": [
       "0"
      ]
     },
     "execution_count": 93,
     "metadata": {},
     "output_type": "execute_result"
    }
   ],
   "source": [
    "'example'.index('')"
   ]
  },
  {
   "cell_type": "code",
   "execution_count": 91,
   "metadata": {},
   "outputs": [
    {
     "data": {
      "text/plain": [
       "True"
      ]
     },
     "execution_count": 91,
     "metadata": {},
     "output_type": "execute_result"
    }
   ],
   "source": [
    "'example'.startswith('')"
   ]
  },
  {
   "cell_type": "markdown",
   "metadata": {},
   "source": [
    "__#2__ My absolute bicycle (without using any of standard/library methods (str.index, str.startswith ...)  \n",
    "I could implement my own startsWith function but it would demand coping of the strings on its every call. I don't want waste resourses for this"
   ]
  },
  {
   "cell_type": "code",
   "execution_count": 97,
   "metadata": {},
   "outputs": [
    {
     "name": "stdout",
     "output_type": "stream",
     "text": [
      "2 2\n",
      "-1 -1\n",
      "-1 -1\n",
      "0 0\n",
      "0 0\n"
     ]
    }
   ],
   "source": [
    "class Solution(object):\n",
    "    def strStr(self, haystack, needle):\n",
    "        \"\"\"\n",
    "        :type haystack: str\n",
    "        :type needle: str\n",
    "        :rtype: int\n",
    "        \"\"\"\n",
    "        if not needle:\n",
    "            return 0\n",
    "        for i in range(len(haystack)):\n",
    "            if haystack[i] == needle[0]:\n",
    "                # Check if the rest of the haystack starts with the rest of the needle\n",
    "                # If the rest of needle is longer than the rest of the haystack -> false \n",
    "                if len(needle) - 1 <= len(haystack) - 1 - i:\n",
    "                    k = i + 1\n",
    "                    for j in range(1, len(needle)):\n",
    "                        if needle[j] != haystack[k]:\n",
    "                            # Break and continue outer for-loop for the next i\n",
    "                            break\n",
    "                        k += 1\n",
    "                    else:\n",
    "                        # If there wasn't break\n",
    "                        return i;\n",
    "        return -1\n",
    "\n",
    "print(Solution().strStr('hello', 'll'), 2);\n",
    "print(Solution().strStr('hello', 'helloooo'), -1);\n",
    "print(Solution().strStr('aaaaaa', 'bba'), -1);\n",
    "print(Solution().strStr('', ''), 0);\n",
    "print(Solution().strStr('dddddd', ''), 0);"
   ]
  },
  {
   "cell_type": "code",
   "execution_count": null,
   "metadata": {},
   "outputs": [],
   "source": []
  }
 ],
 "metadata": {
  "kernelspec": {
   "display_name": "Python 3",
   "language": "python",
   "name": "python3"
  },
  "language_info": {
   "codemirror_mode": {
    "name": "ipython",
    "version": 3
   },
   "file_extension": ".py",
   "mimetype": "text/x-python",
   "name": "python",
   "nbconvert_exporter": "python",
   "pygments_lexer": "ipython3",
   "version": "3.7.3"
  }
 },
 "nbformat": 4,
 "nbformat_minor": 2
}

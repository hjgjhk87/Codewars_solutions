{
 "cells": [
  {
   "cell_type": "markdown",
   "metadata": {},
   "source": [
    "20210302"
   ]
  },
  {
   "cell_type": "markdown",
   "metadata": {},
   "source": [
    "### 4. Median of Two Sorted Arrays\n",
    "https://leetcode.com/problems/median-of-two-sorted-arrays/  \n",
    "Hard\n",
    "\n",
    "Given two sorted arrays nums1 and nums2 of size m and n respectively, return the median of the two sorted arrays.\n",
    "\n",
    "Example 1:  \n",
    "Input: nums1 = [1,3], nums2 = [2]  \n",
    "Output: 2.00000  \n",
    "Explanation: merged array = [1,2,3] and median is 2.  \n",
    "\n",
    "Example 2:  \n",
    "Input: nums1 = [1,2], nums2 = [3,4]  \n",
    "Output: 2.50000  \n",
    "Explanation: merged array = [1,2,3,4] and median is (2 + 3) / 2 = 2.5.  \n",
    "\n",
    "Example 3:  \n",
    "Input: nums1 = [0,0], nums2 = [0,0]  \n",
    "Output: 0.00000  \n",
    "\n",
    "Example 4:  \n",
    "Input: nums1 = [], nums2 = [1]  \n",
    "Output: 1.00000  \n",
    "\n",
    "Example 5:  \n",
    "Input: nums1 = [2], nums2 = []  \n",
    "Output: 2.00000  \n",
    " \n",
    "\n",
    "Constraints:\n",
    "\n",
    "nums1.length == m  \n",
    "nums2.length == n  \n",
    "0 <= m <= 1000  \n",
    "0 <= n <= 1000  \n",
    "1 <= m + n <= 2000  \n",
    "-106 <= nums1[i], nums2[i] <= 106  \n",
    " \n",
    "\n",
    "Follow up: The overall run time complexity should be O(log (m+n))."
   ]
  },
  {
   "cell_type": "markdown",
   "metadata": {},
   "source": [
    "__My solution:__"
   ]
  },
  {
   "cell_type": "code",
   "execution_count": 7,
   "metadata": {},
   "outputs": [
    {
     "name": "stdout",
     "output_type": "stream",
     "text": [
      "2 2\n",
      "2.5 2.5\n"
     ]
    }
   ],
   "source": [
    "from typing import List\n",
    "\n",
    "class Solution:\n",
    "    def findMedianSortedArrays(self, nums1: List[int], nums2: List[int]) -> float:\n",
    "        num = sorted(nums1 + nums2);\n",
    "        return num[len(num) // 2] if len(num) & 1 == 1 else (num[len(num) // 2 - 1] + num[len(num) // 2]) / 2\n",
    "    \n",
    "nums1 = [1, 3]\n",
    "nums2 = [2]\n",
    "print(Solution().findMedianSortedArrays(nums1, nums2), 2)\n",
    "\n",
    "nums1 = [1,2]\n",
    "nums2 = [3,4]\n",
    "print(Solution().findMedianSortedArrays(nums1, nums2), 2.5)"
   ]
  },
  {
   "cell_type": "markdown",
   "metadata": {},
   "source": [
    "20210303"
   ]
  },
  {
   "cell_type": "markdown",
   "metadata": {},
   "source": [
    "### 2. Add Two Numbers\n",
    "https://leetcode.com/problems/add-two-numbers/  \n",
    "Medium\n",
    "\n",
    "You are given two non-empty linked lists representing two non-negative integers. The digits are stored in reverse order, and each of their nodes contains a single digit. Add the two numbers and return the sum as a linked list.\n",
    "\n",
    "You may assume the two numbers do not contain any leading zero, except the number 0 itself.\n",
    "\n",
    "Example 1:  \n",
    "Input: l1 = [2,4,3], l2 = [5,6,4]  \n",
    "Output: [7,0,8]  \n",
    "Explanation: 342 + 465 = 807.  \n",
    "\n",
    "Example 2:  \n",
    "Input: l1 = [0], l2 = [0]  \n",
    "Output: [0]  \n",
    "\n",
    "Example 3:  \n",
    "Input: l1 = [9,9,9,9,9,9,9], l2 = [9,9,9,9]  \n",
    "Output: [8,9,9,9,0,0,0,1]  \n",
    " \n",
    "Constraints:  \n",
    "The number of nodes in each linked list is in the range [1, 100].  \n",
    "0 <= Node.val <= 9  \n",
    "It is guaranteed that the list represents a number that does not have leading zeros."
   ]
  },
  {
   "cell_type": "markdown",
   "metadata": {},
   "source": [
    "__My solution:__"
   ]
  },
  {
   "cell_type": "code",
   "execution_count": 40,
   "metadata": {},
   "outputs": [],
   "source": [
    "# Definition for singly-linked list.\n",
    "# class ListNode:\n",
    "#     def __init__(self, val=0, next=None):\n",
    "#         self.val = val\n",
    "#         self.next = next\n",
    "\n",
    "from itertools import zip_longest\n",
    "\n",
    "class ListNode:\n",
    "    def __init__(self, val=0, next=None):\n",
    "        self.val = val\n",
    "        self.next = next\n",
    "\n",
    "class Solution:\n",
    "    def addTwoNumbers(self, l1: ListNode, l2: ListNode) -> ListNode:\n",
    "        def getList(lstNode: ListNode) -> List:\n",
    "            lst = []\n",
    "            cur = lstNode\n",
    "            while cur:\n",
    "                lst.append(cur.val)\n",
    "                cur = cur.next\n",
    "            return lst\n",
    "\n",
    "        def getListNode(lst: List) -> ListNode:\n",
    "            if lst:\n",
    "                lstNode = ListNode(lst[0])\n",
    "                cur = lstNode\n",
    "                for i in range(1, len(lst)):\n",
    "                    cur.next = ListNode(lst[i])\n",
    "                    cur = cur.next\n",
    "                return lstNode\n",
    "            return ListNode()\n",
    "        \n",
    "        l = []\n",
    "        over = 0\n",
    "        for d1, d2 in zip_longest(getList(l1), getList(l2), fillvalue=0):\n",
    "            over, d = divmod((d1 + d2 + over), 10)\n",
    "            l.append(d)\n",
    "        if over:\n",
    "            l.append(over)\n",
    "        return getListNode(l)\n"
   ]
  },
  {
   "cell_type": "markdown",
   "metadata": {},
   "source": [
    "__Some attempts:__"
   ]
  },
  {
   "cell_type": "code",
   "execution_count": 39,
   "metadata": {},
   "outputs": [
    {
     "name": "stdout",
     "output_type": "stream",
     "text": [
      "[2, 4, 3]\n",
      "[0]\n"
     ]
    }
   ],
   "source": [
    "class ListNode:\n",
    "    def __init__(self, val=0, next=None):\n",
    "        self.val = val\n",
    "        self.next = next\n",
    "        \n",
    "def getList(lstNode: ListNode) -> List:\n",
    "    lst = []\n",
    "    cur = lstNode\n",
    "    while cur:\n",
    "        lst.append(cur.val)\n",
    "        cur = cur.next\n",
    "    return lst\n",
    "\n",
    "def getListNode(lst: List) -> ListNode:\n",
    "    if lst:\n",
    "        lstNode = ListNode(lst[0])\n",
    "        cur = lstNode\n",
    "        for i in range(1, len(lst)):\n",
    "            cur.next = ListNode(lst[i])\n",
    "            cur = cur.next\n",
    "        return lstNode\n",
    "    return ListNode()\n",
    "\n",
    "print(getList(getListNode([2, 4, 3])))\n",
    "print(getList(getListNode([])))  # [0] немного не очень"
   ]
  },
  {
   "cell_type": "code",
   "execution_count": 5,
   "metadata": {},
   "outputs": [
    {
     "name": "stdout",
     "output_type": "stream",
     "text": [
      "[7, 0, 8] [7, 0, 8]\n",
      "[0] [0]\n",
      "[8, 9, 9, 9, 0, 0, 0, 1] [8, 9, 9, 9, 0, 0, 0, 1]\n"
     ]
    }
   ],
   "source": [
    "from itertools import zip_longest\n",
    "\n",
    "def addTwoNumbers(l1, l2):\n",
    "    l = []\n",
    "    over = 0\n",
    "    for d1, d2 in zip_longest(l1, l2, fillvalue=0):\n",
    "        over, d = divmod((d1 + d2 + over), 10)\n",
    "        l.append(d)\n",
    "    if over:\n",
    "        l.append(over)\n",
    "    return l\n",
    "        \n",
    "l1 = [2,4,3]\n",
    "l2 = [5,6,4]\n",
    "print(addTwoNumbers(l1, l2), [7,0,8])\n",
    "\n",
    "l1 = [0]\n",
    "l2 = [0]\n",
    "print(addTwoNumbers(l1, l2), [0])\n",
    "\n",
    "l1 = [9,9,9,9,9,9,9]\n",
    "l2 = [9,9,9,9]\n",
    "print(addTwoNumbers(l1, l2), [8,9,9,9,0,0,0,1])"
   ]
  },
  {
   "cell_type": "code",
   "execution_count": 13,
   "metadata": {},
   "outputs": [
    {
     "name": "stdout",
     "output_type": "stream",
     "text": [
      "deque([2, 4, 3, 5, 6, 4])\n",
      "deque([2, 4, 3, 2, 4, 3])\n"
     ]
    }
   ],
   "source": [
    "#from operator import __add__, __mul__, __imul__\n",
    "from collections import deque as ListNode\n",
    "\n",
    "l1 = [2,4,3]\n",
    "l2 = [5,6,4]\n",
    "l1 = ListNode(l1)\n",
    "l2 = ListNode(l2)\n",
    "print(l1 + l2)\n",
    "#print(l1 * l2)\n",
    "#print(__mul__(l1, l2)) TypeError: can't multiply sequence by non-int of type 'collections.deque'\n",
    "print(l1 * 2)"
   ]
  },
  {
   "cell_type": "code",
   "execution_count": 12,
   "metadata": {},
   "outputs": [],
   "source": [
    "from collections import deque\n",
    "\n",
    "deque.__mul__?"
   ]
  },
  {
   "cell_type": "code",
   "execution_count": 14,
   "metadata": {},
   "outputs": [],
   "source": [
    "deque.__imul__?"
   ]
  },
  {
   "cell_type": "markdown",
   "metadata": {},
   "source": [
    "20210304"
   ]
  },
  {
   "cell_type": "markdown",
   "metadata": {},
   "source": [
    "### 3. Longest Substring Without Repeating Characters\n",
    "https://leetcode.com/problems/longest-substring-without-repeating-characters/  \n",
    "Medium  \n",
    "\n",
    "Given a string s, find the length of the longest substring without repeating characters.\n",
    "\n",
    "Example 1:  \n",
    "Input: s = \"abcabcbb\"  \n",
    "Output: 3  \n",
    "Explanation: The answer is \"abc\", with the length of 3.  \n",
    "\n",
    "Example 2:  \n",
    "Input: s = \"bbbbb\"  \n",
    "Output: 1  \n",
    "Explanation: The answer is \"b\", with the length of 1.  \n",
    "\n",
    "Example 3:  \n",
    "Input: s = \"pwwkew\"  \n",
    "Output: 3  \n",
    "Explanation: The answer is \"wke\", with the length of 3.\n",
    "Notice that the answer must be a substring, \"pwke\" is a subsequence and not a substring.  \n",
    "\n",
    "Example 4:  \n",
    "Input: s = \"\"  \n",
    "Output: 0  \n",
    " \n",
    "Constraints:  \n",
    "0 <= s.length <= 5 * 104  \n",
    "s consists of English letters, digits, symbols and spaces."
   ]
  },
  {
   "cell_type": "markdown",
   "metadata": {},
   "source": [
    "__My solution:__"
   ]
  },
  {
   "cell_type": "code",
   "execution_count": 47,
   "metadata": {},
   "outputs": [
    {
     "name": "stdout",
     "output_type": "stream",
     "text": [
      "3 3\n",
      "1 1\n",
      "3 3\n",
      "0 0\n",
      "3 3\n",
      "2 2\n"
     ]
    }
   ],
   "source": [
    "class Solution:\n",
    "    def lengthOfLongestSubstring(self, s: str) -> int:\n",
    "        lenLongest = 0\n",
    "        strLongest = ''\n",
    "        for char in s:\n",
    "            strLongest = strLongest[strLongest.find(char) + 1:] + char\n",
    "            lenLongest = max(lenLongest, len(strLongest))\n",
    "        return lenLongest\n",
    "    \n",
    "print(Solution().lengthOfLongestSubstring(\"abcabcbb\"), 3)\n",
    "print(Solution().lengthOfLongestSubstring(\"bbbbbb\"), 1)\n",
    "print(Solution().lengthOfLongestSubstring(\"pwwkew\"), 3)\n",
    "print(Solution().lengthOfLongestSubstring(\"\"), 0)\n",
    "print(Solution().lengthOfLongestSubstring(\"bbbabc\"), 3)\n",
    "print(Solution().lengthOfLongestSubstring(\"bbbbbba\"), 2)"
   ]
  },
  {
   "cell_type": "code",
   "execution_count": 43,
   "metadata": {},
   "outputs": [],
   "source": [
    "str.index?"
   ]
  },
  {
   "cell_type": "code",
   "execution_count": 44,
   "metadata": {},
   "outputs": [],
   "source": [
    "str.find?"
   ]
  },
  {
   "cell_type": "markdown",
   "metadata": {},
   "source": [
    "20210305"
   ]
  },
  {
   "cell_type": "markdown",
   "metadata": {},
   "source": [
    "### 5. Longest Palindromic Substring\n",
    "https://leetcode.com/problems/longest-palindromic-substring/  \n",
    "Medium  \n",
    "\n",
    "Given a string s, return the longest palindromic substring in s.\n",
    "\n",
    "Example 1:  \n",
    "Input: s = \"babad\"  \n",
    "Output: \"bab\"  \n",
    "Note: \"aba\" is also a valid answer.  \n",
    "\n",
    "Example 2:  \n",
    "Input: s = \"cbbd\"  \n",
    "Output: \"bb\"  \n",
    "\n",
    "Example 3:  \n",
    "Input: s = \"a\"  \n",
    "Output: \"a\"  \n",
    "\n",
    "Example 4:  \n",
    "Input: s = \"ac\"  \n",
    "Output: \"a\"  \n",
    " \n",
    "Constraints:  \n",
    "1 <= s.length <= 1000  \n",
    "s consist of only digits and English letters (lower-case and/or upper-case)"
   ]
  },
  {
   "cell_type": "markdown",
   "metadata": {},
   "source": [
    "__My solution:__"
   ]
  },
  {
   "cell_type": "code",
   "execution_count": 51,
   "metadata": {},
   "outputs": [
    {
     "name": "stdout",
     "output_type": "stream",
     "text": [
      "tanat tanat\n",
      "ana ana\n"
     ]
    }
   ],
   "source": [
    "class Solution:\n",
    "    def longestPalindrome(self, s: str) -> str:\n",
    "        def isPalindrom(s):\n",
    "            return s == s[::-1]\n",
    "\n",
    "        s = s.lower()\n",
    "        for i in range(len(s), 0, -1):\n",
    "            for start in range(len(s) - i + 1):\n",
    "                subStr = s[start:start + i]\n",
    "                if isPalindrom(subStr):\n",
    "                    return subStr\n",
    "            \n",
    "\n",
    "print(Solution().longestPalindrome('tanat'), 'tanat')\n",
    "print(Solution().longestPalindrome('tana'), 'ana')"
   ]
  },
  {
   "cell_type": "markdown",
   "metadata": {},
   "source": [
    "20210306"
   ]
  },
  {
   "cell_type": "markdown",
   "metadata": {},
   "source": [
    "### 6. ZigZag Conversion\n",
    "https://leetcode.com/problems/zigzag-conversion/  \n",
    "Medium\n",
    "\n",
    "The string \"PAYPALISHIRING\" is written in a zigzag pattern on a given number of rows like this: (you may want to display this pattern in a fixed font for better legibility)\n",
    "\n",
    "<pre>\n",
    "P     I    N\n",
    "A   L S  I G\n",
    "Y A   H R\n",
    "P     I\n",
    "</pre>\n",
    "\n",
    "And then read line by line: \"PAHNAPLSIIGYIR\"  \n",
    "\n",
    "Write the code that will take a string and make this conversion given a number of rows:  \n",
    "\n",
    "string convert(string s, int numRows);\n",
    " \n",
    "\n",
    "Example 1:  \n",
    "Input: s = \"PAYPALISHIRING\", numRows = 3  \n",
    "Output: \"PAHNAPLSIIGYIR\"  \n",
    "\n",
    "Example 2:  \n",
    "Input: s = \"PAYPALISHIRING\", numRows = 4  \n",
    "Output: \"PINALSIGYAHRPI\"  \n",
    "Explanation:  \n",
    "<pre>\n",
    "P     I    N  \n",
    "A   L S  I G  \n",
    "Y A   H R  \n",
    "P     I  \n",
    "</pre>\n",
    "\n",
    "Example 3:  \n",
    "Input: s = \"A\", numRows = 1  \n",
    "Output: \"A\"\n",
    " \n",
    "Constraints:  \n",
    "1 <= s.length <= 1000   \n",
    "s consists of English letters (lower-case and upper-case), ',' and '.'.  \n",
    "1 <= numRows <= 1000"
   ]
  },
  {
   "cell_type": "markdown",
   "metadata": {},
   "source": [
    "__My solution:__"
   ]
  },
  {
   "cell_type": "code",
   "execution_count": 57,
   "metadata": {},
   "outputs": [
    {
     "name": "stdout",
     "output_type": "stream",
     "text": [
      "PAYPALISHIRING PAYPALISHIRING\n",
      "PYAIHRNAPLSIIG PYAIHRNAPLSIIG\n",
      "PAHNAPLSIIGYIR PAHNAPLSIIGYIR\n",
      "PINALSIGYAHRPI PINALSIGYAHRPI\n"
     ]
    }
   ],
   "source": [
    "class Solution:\n",
    "    def convert(self, s: str, numRows: int) -> str:\n",
    "        if numRows == 1:  # special case\n",
    "            return s\n",
    "    \n",
    "        resStr = ''\n",
    "        cols = -(len(s) // -(2 * numRows - 2))  # == math.ceil()\n",
    "        for i in range(numRows):\n",
    "            for j in range(cols):\n",
    "                cur = j * (2 * numRows - 2) + i\n",
    "                resStr += s[cur:cur + 1]\n",
    "                if i != 0 and i != numRows - 1:\n",
    "                    cur = (2 * j + 1) * (2 * numRows - 2) - cur\n",
    "                    resStr += s[cur:cur + 1]\n",
    "        return resStr;\n",
    "\n",
    "print(Solution().convert('PAYPALISHIRING', 1), 'PAYPALISHIRING')\n",
    "print(Solution().convert('PAYPALISHIRING', 2), 'PYAIHRNAPLSIIG')\n",
    "print(Solution().convert('PAYPALISHIRING', 3), 'PAHNAPLSIIGYIR')\n",
    "print(Solution().convert('PAYPALISHIRING', 4), 'PINALSIGYAHRPI')"
   ]
  },
  {
   "cell_type": "code",
   "execution_count": 53,
   "metadata": {},
   "outputs": [
    {
     "data": {
      "text/plain": [
       "'f'"
      ]
     },
     "execution_count": 53,
     "metadata": {},
     "output_type": "execute_result"
    }
   ],
   "source": [
    "'fdggfgf'[6:7]"
   ]
  },
  {
   "cell_type": "code",
   "execution_count": 52,
   "metadata": {},
   "outputs": [
    {
     "data": {
      "text/plain": [
       "''"
      ]
     },
     "execution_count": 52,
     "metadata": {},
     "output_type": "execute_result"
    }
   ],
   "source": [
    "'fdggfgf'[10:11]"
   ]
  },
  {
   "cell_type": "code",
   "execution_count": null,
   "metadata": {},
   "outputs": [],
   "source": []
  },
  {
   "cell_type": "code",
   "execution_count": 71,
   "metadata": {},
   "outputs": [
    {
     "name": "stdout",
     "output_type": "stream",
     "text": [
      "6\n",
      "16\n",
      "2\n",
      "1\n"
     ]
    }
   ],
   "source": [
    "from typing import List\n",
    "from itertools import combinations\n",
    "\n",
    "class Solution:\n",
    "    def maxArea(self, height: List[int]) -> int:\n",
    "#         for i, j in combinations(range(len(height)), 2):\n",
    "#             print(i, j)\n",
    "        def compute(pair):\n",
    "            return min(height[pair[0]], height[pair[1]]) * abs(pair[0] - pair[1])            \n",
    "        \n",
    "        return max(map(compute, combinations(range(len(height)), 2)))\n",
    "            \n",
    "print(Solution().maxArea([2, 3, 5, 4])) # 6\n",
    "print(Solution().maxArea([4, 3, 2, 1, 4])) # 16\n",
    "print(Solution().maxArea([1, 2, 1])) # 2\n",
    "print(Solution().maxArea([1, 1])) # 1"
   ]
  },
  {
   "cell_type": "markdown",
   "metadata": {},
   "source": [
    "20210307"
   ]
  },
  {
   "cell_type": "markdown",
   "metadata": {},
   "source": [
    "### 1. Two Sum\n",
    "https://leetcode.com/problems/two-sum/  \n",
    "Easy\n",
    "\n",
    "Given an array of integers nums and an integer target, return indices of the two numbers such that they add up to target.\n",
    "\n",
    "You may assume that each input would have exactly one solution, and you may not use the same element twice.\n",
    "\n",
    "You can return the answer in any order.\n",
    "\n",
    "Example 1:  \n",
    "Input: nums = [2,7,11,15], target = 9  \n",
    "Output: [0,1]  \n",
    "Output: Because nums[0] + nums[1] == 9, we return [0, 1].  \n",
    "\n",
    "Example 2:  \n",
    "Input: nums = [3,2,4], target = 6  \n",
    "Output: [1,2]  \n",
    "\n",
    "Example 3:  \n",
    "Input: nums = [3,3], target = 6  \n",
    "Output: [0,1]  \n",
    "\n",
    "Constraints:  \n",
    "2 <= nums.length <= 103  \n",
    "-109 <= nums[i] <= 109  \n",
    "-109 <= target <= 109  \n",
    "Only one valid answer exists."
   ]
  },
  {
   "cell_type": "markdown",
   "metadata": {},
   "source": [
    "__My solution:__"
   ]
  },
  {
   "cell_type": "code",
   "execution_count": 73,
   "metadata": {},
   "outputs": [
    {
     "name": "stdout",
     "output_type": "stream",
     "text": [
      "[1, 0] [1, 0]\n",
      "[2, 1] [1, 2]\n",
      "[1, 0] [0, 1]\n"
     ]
    }
   ],
   "source": [
    "class Solution:\n",
    "    def twoSum(self, nums: List[int], target: int) -> List[int]:\n",
    "        diffs = {}\n",
    "        for i, num in enumerate(nums):\n",
    "            if num in diffs:\n",
    "                return [i, diffs[num]]\n",
    "            else:\n",
    "                diffs[target - num] = i\n",
    "                \n",
    "print(Solution().twoSum([2, 7, 11, 15], 9), [1, 0])\n",
    "print(Solution().twoSum([3,2,4], 6), [1, 2])\n",
    "print(Solution().twoSum([3, 3], 6), [0, 1])"
   ]
  },
  {
   "cell_type": "code",
   "execution_count": null,
   "metadata": {},
   "outputs": [],
   "source": []
  }
 ],
 "metadata": {
  "kernelspec": {
   "display_name": "Python 3",
   "language": "python",
   "name": "python3"
  },
  "language_info": {
   "codemirror_mode": {
    "name": "ipython",
    "version": 3
   },
   "file_extension": ".py",
   "mimetype": "text/x-python",
   "name": "python",
   "nbconvert_exporter": "python",
   "pygments_lexer": "ipython3",
   "version": "3.7.3"
  }
 },
 "nbformat": 4,
 "nbformat_minor": 2
}

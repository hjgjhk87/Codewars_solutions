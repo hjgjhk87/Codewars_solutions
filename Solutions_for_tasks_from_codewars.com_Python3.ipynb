{
 "cells": [
  {
   "cell_type": "markdown",
   "metadata": {},
   "source": [
    "## List Filtering\n",
    "\n",
    "In this kata you will create a function that takes a list of non-negative integers and strings and returns a new list with the strings filtered out.\n",
    "\n",
    "Example\n",
    "\n",
    "filter_list([1,2,'a','b']) == [1,2]\n",
    "\n",
    "filter_list([1,'a','b',0,15]) == [1,0,15]\n",
    "\n",
    "filter_list([1,2,'aasf','1','123',123]) == [1,2,123]"
   ]
  },
  {
   "cell_type": "code",
   "execution_count": 7,
   "metadata": {},
   "outputs": [
    {
     "name": "stdout",
     "output_type": "stream",
     "text": [
      "[1, 2]\n",
      "[1, 0, 15]\n",
      "[1, 2, 123]\n"
     ]
    }
   ],
   "source": [
    "def filter_list(l):\n",
    "    return [el for el in l if isinstance(el, int)]\n",
    "\n",
    "print(filter_list([1,2,'a','b']))\n",
    "print(filter_list([1,'a','b',0,15]))\n",
    "print(filter_list([1,2,'aasf','1','123',123]))"
   ]
  },
  {
   "cell_type": "code",
   "execution_count": 2,
   "metadata": {},
   "outputs": [
    {
     "name": "stdout",
     "output_type": "stream",
     "text": [
      "<class 'int'>\n"
     ]
    }
   ],
   "source": [
    "print(type(1))"
   ]
  },
  {
   "cell_type": "code",
   "execution_count": 3,
   "metadata": {},
   "outputs": [
    {
     "name": "stdout",
     "output_type": "stream",
     "text": [
      "True\n"
     ]
    }
   ],
   "source": [
    "print(type(1) == int)"
   ]
  },
  {
   "cell_type": "code",
   "execution_count": 4,
   "metadata": {},
   "outputs": [
    {
     "name": "stdout",
     "output_type": "stream",
     "text": [
      "True\n"
     ]
    }
   ],
   "source": [
    "print(isinstance(1, int))"
   ]
  },
  {
   "cell_type": "code",
   "execution_count": 5,
   "metadata": {},
   "outputs": [
    {
     "name": "stdout",
     "output_type": "stream",
     "text": [
      "False\n"
     ]
    }
   ],
   "source": [
    "print(isinstance('1', int))"
   ]
  },
  {
   "cell_type": "markdown",
   "metadata": {},
   "source": [
    "## Take a Ten Minute Walk\n",
    "\n",
    "You live in the city of Cartesia where all roads are laid out in a perfect grid. You arrived ten minutes too early to an appointment, so you decided to take the opportunity to go for a short walk. The city provides its citizens with a Walk Generating App on their phones -- everytime you press the button it sends you an array of one-letter strings representing directions to walk (eg. ['n', 's', 'w', 'e']). You always walk only a single block in a direction and you know it takes you one minute to traverse one city block, so create a function that will return true if the walk the app gives you will take you exactly ten minutes (you don't want to be early or late!) and will, of course, return you to your starting point. Return false otherwise.\n",
    "\n",
    "Note: you will always receive a valid array containing a random assortment of direction letters ('n', 's', 'e', or 'w' only). It will never give you an empty array (that's not a walk, that's standing still!)."
   ]
  },
  {
   "cell_type": "code",
   "execution_count": 15,
   "metadata": {},
   "outputs": [
    {
     "name": "stdout",
     "output_type": "stream",
     "text": [
      "True\n"
     ]
    }
   ],
   "source": [
    "def isValidWalk(walk):\n",
    "    #determine if walk is valid\n",
    "    return (walk.count('n') == walk.count('s')\n",
    "            and walk.count('e') == walk.count('w')\n",
    "            and len(walk) == 10)\n",
    "    \n",
    "print(isValidWalk(['n', 's', 'e', 'w', 'n', 's', 'e', 'w', 'n', 's']))"
   ]
  },
  {
   "cell_type": "markdown",
   "metadata": {},
   "source": [
    "## Delete occurrences of an element if it occurs more than n times\n",
    "\n",
    "## Enough is enough!\n",
    "Alice and Bob were on a holiday. Both of them took many pictures of the places they've been, and now they want to show Charlie their entire collection. However, Charlie doesn't like this sessions, since the motive usually repeats. He isn't fond of seeing the Eiffel tower 40 times. He tells them that he will only sit during the session if they show the same motive at most N times. Luckily, Alice and Bob are able to encode the motive as a number. Can you help them to remove numbers such that their list contains each number only up to N times, without changing the order?\n",
    "\n",
    "Task\n",
    "Given a list lst and a number N, create a new list that contains each number of lst at most N times without reordering. For example if N = 2, and the input is [1,2,3,1,2,1,2,3], you take [1,2,3,1,2], drop the next [1,2] since this would lead to 1 and 2 being in the result 3 times, and then take 3, which leads to [1,2,3,1,2,3].\n",
    "\n",
    "Example\n",
    "\n",
    "delete_nth ([1,1,1,1],2) # return [1,1]\n",
    "\n",
    "delete_nth ([20,37,20,21],1) # return [20,37,21]"
   ]
  },
  {
   "cell_type": "code",
   "execution_count": 14,
   "metadata": {},
   "outputs": [
    {
     "name": "stdout",
     "output_type": "stream",
     "text": [
      "[1, 1]\n",
      "[20, 37, 21]\n"
     ]
    }
   ],
   "source": [
    "def delete_nth(order, max_e):\n",
    "    res = []\n",
    "    countDic = {}\n",
    "    for x in order:\n",
    "        count = countDic.get(x, 0)\n",
    "        if count < max_e:\n",
    "            res.append(x)\n",
    "            countDic[x] = count + 1\n",
    "    return res\n",
    "\n",
    "print(delete_nth([1,1,1,1], 2))     # return [1,1]\n",
    "print(delete_nth([20,37,20,21], 1)) # return [20,37,21]           "
   ]
  },
  {
   "cell_type": "markdown",
   "metadata": {},
   "source": [
    "## Number of people in the bus\n",
    "\n",
    "There is a bus moving in the city, and it takes and drop some people in each bus stop.\n",
    "\n",
    "You are provided with a list (or array) of integer arrays (or tuples). Each integer array has two items which represent number of people get into bus (The first item) and number of people get off the bus (The second item) in a bus stop.\n",
    "\n",
    "Your task is to return number of people who are still in the bus after the last bus station (after the last array). Even though it is the last bus stop, the bus is not empty and some people are still in the bus, and they are probably sleeping there :D\n",
    "\n",
    "Take a look on the test cases.\n",
    "\n",
    "Please keep in mind that the test cases ensure that the number of people in the bus is always >= 0. So the return integer can't be negative.\n",
    "\n",
    "The second value in the first integer array is 0, since the bus is empty in the first bus stop."
   ]
  },
  {
   "cell_type": "code",
   "execution_count": 19,
   "metadata": {},
   "outputs": [
    {
     "name": "stdout",
     "output_type": "stream",
     "text": [
      "5 5\n",
      "17 17\n",
      "21 21\n"
     ]
    }
   ],
   "source": [
    "def number(bus_stops):\n",
    "    return sum([x[0] for x in bus_stops]) - sum([x[1] for x in bus_stops])\n",
    "\n",
    "print(number([[10,0],[3,5],[5,8]]),5)\n",
    "print(number([[3,0],[9,1],[4,10],[12,2],[6,1],[7,10]]),17)\n",
    "print(number([[3,0],[9,1],[4,8],[12,2],[6,1],[7,8]]),21)"
   ]
  },
  {
   "cell_type": "markdown",
   "metadata": {},
   "source": [
    "## Calculating with Functions\n",
    "\n",
    "This time we want to write calculations using functions and get the results. Let's have a look at some examples:\n",
    "\n",
    "seven(times(five())) # must return 35\n",
    "four(plus(nine())) # must return 13\n",
    "eight(minus(three())) # must return 5\n",
    "six(divided_by(two())) # must return 3\n",
    "Requirements:\n",
    "\n",
    "There must be a function for each number from 0 (\"zero\") to 9 (\"nine\")\n",
    "There must be a function for each of the following mathematical operations: plus, minus, times, dividedBy (divided_by in Ruby and Python)\n",
    "Each calculation consist of exactly one operation and two numbers\n",
    "The most outer function represents the left operand, the most inner function represents the right operand\n",
    "Divison should be integer division. For example, this should return 2, not 2.666666...:\n",
    "eight(divided_by(three()))"
   ]
  },
  {
   "cell_type": "code",
   "execution_count": 27,
   "metadata": {},
   "outputs": [
    {
     "name": "stdout",
     "output_type": "stream",
     "text": [
      "35 35\n",
      "13 13\n",
      "5 5\n",
      "3 3\n"
     ]
    }
   ],
   "source": [
    "def operand(digit, args):\n",
    "    if len(args) == 0:\n",
    "        return digit\n",
    "    else:\n",
    "        return eval(digit + args[0])\n",
    "\n",
    "def zero(*args):\n",
    "    return operand('0', args)\n",
    "\n",
    "def one(*args):\n",
    "    return operand('1', args)\n",
    "\n",
    "def two(*args):\n",
    "    return operand('2', args)\n",
    "\n",
    "def three(*args):\n",
    "    return operand('3', args)\n",
    "\n",
    "def four(*args):\n",
    "    return operand('4', args)\n",
    "\n",
    "def five(*args):\n",
    "    return operand('5', args)\n",
    "\n",
    "def six(*args):\n",
    "    return operand('6', args)\n",
    "\n",
    "def seven(*args):\n",
    "    return operand('7', args)\n",
    "\n",
    "def eight(*args):\n",
    "    return operand('8', args)\n",
    "\n",
    "def nine(*args):\n",
    "    return operand('9', args)\n",
    "\n",
    "def plus(arg):\n",
    "    return ('+' + arg)\n",
    "\n",
    "def minus(arg):\n",
    "    return ('-' + arg)\n",
    "\n",
    "def times(arg):\n",
    "    return ('*' + arg)\n",
    "\n",
    "def divided_by(arg):\n",
    "    return ('//' + arg)\n",
    "\n",
    "print(seven(times(five())), 35)\n",
    "print(four(plus(nine())), 13)\n",
    "print(eight(minus(three())), 5)\n",
    "print(six(divided_by(two())), 3)"
   ]
  },
  {
   "cell_type": "code",
   "execution_count": 21,
   "metadata": {},
   "outputs": [
    {
     "name": "stdout",
     "output_type": "stream",
     "text": [
      "<class 'int'>\n"
     ]
    }
   ],
   "source": [
    "print(type(eval('3' + '+4')))"
   ]
  },
  {
   "cell_type": "markdown",
   "metadata": {},
   "source": [
    "## Binary Addition\n",
    "\n",
    "Implement a function that adds two numbers together and returns their sum in binary. The conversion can be done before, or after the addition.\n",
    "\n",
    "The binary number returned should be a string."
   ]
  },
  {
   "cell_type": "code",
   "execution_count": 28,
   "metadata": {},
   "outputs": [
    {
     "name": "stdout",
     "output_type": "stream",
     "text": [
      "10\n"
     ]
    }
   ],
   "source": [
    "def add_binary(a, b):\n",
    "    return '{0:b}'.format(a + b)\n",
    "\n",
    "print(add_binary(1, 1))"
   ]
  },
  {
   "cell_type": "code",
   "execution_count": 30,
   "metadata": {},
   "outputs": [
    {
     "data": {
      "text/plain": [
       "'0b10'"
      ]
     },
     "execution_count": 30,
     "metadata": {},
     "output_type": "execute_result"
    }
   ],
   "source": [
    "a = 1\n",
    "b = 1\n",
    "\n",
    "bin(a + b)"
   ]
  },
  {
   "cell_type": "markdown",
   "metadata": {},
   "source": [
    "Подсмотрела этот вариант на codewars:"
   ]
  },
  {
   "cell_type": "code",
   "execution_count": 31,
   "metadata": {},
   "outputs": [
    {
     "name": "stdout",
     "output_type": "stream",
     "text": [
      "10\n"
     ]
    }
   ],
   "source": [
    "def add_binary(a, b):\n",
    "    #return str(bin(a) + bin(b)) # '0b10b1'\n",
    "    return bin(a + b)[2:]\n",
    "    \n",
    "print(add_binary(1, 1))"
   ]
  },
  {
   "cell_type": "markdown",
   "metadata": {},
   "source": [
    "Подсмотрела этот вариант на codewars:"
   ]
  },
  {
   "cell_type": "code",
   "execution_count": 32,
   "metadata": {},
   "outputs": [
    {
     "name": "stdout",
     "output_type": "stream",
     "text": [
      "10\n"
     ]
    }
   ],
   "source": [
    "def add_binary(a, b):\n",
    "    return format(a + b, 'b')\n",
    "\n",
    "print(add_binary(1, 1))"
   ]
  },
  {
   "cell_type": "markdown",
   "metadata": {},
   "source": [
    "## The Supermarket Queue\n",
    "\n",
    "There is a queue for the self-checkout tills at the supermarket. Your task is write a function to calculate the total time required for all the customers to check out!\n",
    "\n",
    "input\n",
    "\n",
    "customers: an array of positive integers representing the queue. Each integer represents a customer, and its value is the amount of time they require to check out.\n",
    "\n",
    "n: a positive integer, the number of checkout tills.\n",
    "\n",
    "output\n",
    "\n",
    "The function should return an integer, the total time required.\n",
    "\n",
    "Important\n",
    "\n",
    "Please look at the examples and clarifications below, to ensure you understand the task correctly :)\n",
    "\n",
    "Examples\n",
    "\n",
    "queue_time([5,3,4], 1) # should return 12 because when n=1, the total time is just the sum of the times\n",
    "\n",
    "queue_time([10,2,3,3], 2) # should return 10 because here n=2 and the 2nd, 3rd, and 4th people in the queue finish before the 1st person has finished.\n",
    "\n",
    "queue_time([2,3,10], 2) # should return 12\n",
    "\n",
    "Clarifications\n",
    "\n",
    "There is only ONE queue serving many tills, and\n",
    "The order of the queue NEVER changes, and\n",
    "\n",
    "The front person in the queue (i.e. the first \n",
    "element in the array/list) proceeds to a till as soon as it becomes free.\n",
    "\n",
    "N.B. You should assume that all the test input will be valid, as specified above."
   ]
  },
  {
   "cell_type": "markdown",
   "metadata": {},
   "source": [
    "Вариант 1:"
   ]
  },
  {
   "cell_type": "code",
   "execution_count": 36,
   "metadata": {},
   "outputs": [
    {
     "name": "stdout",
     "output_type": "stream",
     "text": [
      "15 15\n"
     ]
    }
   ],
   "source": [
    "def queue_time(customers, n):\n",
    "    if len(customers) == 0:\n",
    "        return 0\n",
    "    \n",
    "    queue = customers[:n]\n",
    "    for i in range(n, len(customers)):\n",
    "        queue[queue.index(min(queue))] += customers[i]\n",
    "    return max(queue)\n",
    "\n",
    "print(queue_time([1,2,3,4,5], 1), 15)"
   ]
  },
  {
   "cell_type": "markdown",
   "metadata": {},
   "source": [
    "Вариант 2:"
   ]
  },
  {
   "cell_type": "code",
   "execution_count": 37,
   "metadata": {},
   "outputs": [
    {
     "name": "stdout",
     "output_type": "stream",
     "text": [
      "15 15\n"
     ]
    }
   ],
   "source": [
    "def queue_time(customers, n):\n",
    "    if len(customers) == 0:\n",
    "        return 0\n",
    "    \n",
    "    queue = customers[:n]\n",
    "    for cust in customers[n:]:\n",
    "        queue[queue.index(min(queue))] += cust\n",
    "    return max(queue)\n",
    "\n",
    "print(queue_time([1,2,3,4,5], 1), 15)"
   ]
  },
  {
   "cell_type": "markdown",
   "metadata": {},
   "source": [
    "Вариант 3:"
   ]
  },
  {
   "cell_type": "code",
   "execution_count": 40,
   "metadata": {},
   "outputs": [
    {
     "name": "stdout",
     "output_type": "stream",
     "text": [
      "1 2\n"
     ]
    }
   ],
   "source": [
    "a = [4, 3, 1, 4, 1]\n",
    "minim, min_ind = min(((v, i)  for i, v in enumerate(a)))\n",
    "print(minim, min_ind)"
   ]
  },
  {
   "cell_type": "code",
   "execution_count": 43,
   "metadata": {},
   "outputs": [
    {
     "name": "stdout",
     "output_type": "stream",
     "text": [
      "15 15\n"
     ]
    }
   ],
   "source": [
    "def queue_time(customers, n):\n",
    "    if len(customers) == 0:\n",
    "        return 0\n",
    "    \n",
    "    queue = customers[:n]\n",
    "    for cust in customers[n:]:\n",
    "        minim, min_ind = min(((v, i)  for i, v in enumerate(queue)))\n",
    "        queue[min_ind] += cust\n",
    "    return max(queue)\n",
    "\n",
    "print(queue_time([1,2,3,4,5], 1), 15)"
   ]
  },
  {
   "cell_type": "markdown",
   "metadata": {},
   "source": [
    "Вариант 4:"
   ]
  },
  {
   "cell_type": "code",
   "execution_count": 95,
   "metadata": {},
   "outputs": [
    {
     "name": "stdout",
     "output_type": "stream",
     "text": [
      "15 15\n"
     ]
    }
   ],
   "source": [
    "def queue_time(customers, n):\n",
    "    if len(customers) == 0:\n",
    "        return 0\n",
    "    \n",
    "    queue = customers[:n]\n",
    "    for cust in customers[n:]:\n",
    "        min_ind, minim = min(enumerate(queue), key=lambda x: x[1])\n",
    "        queue[min_ind] += cust\n",
    "    return max(queue)\n",
    "\n",
    "print(queue_time([1,2,3,4,5], 1), 15)"
   ]
  },
  {
   "cell_type": "markdown",
   "metadata": {},
   "source": [
    "## String ends with?\n",
    "\n",
    "Complete the solution so that it returns true if the first argument(string) passed in ends with the 2nd argument (also a string).\n",
    "\n",
    "Examples:\n",
    "\n",
    "solution('abc', 'bc') # returns true\n",
    "\n",
    "solution('abc', 'd') # returns false"
   ]
  },
  {
   "cell_type": "code",
   "execution_count": 2,
   "metadata": {},
   "outputs": [
    {
     "name": "stdout",
     "output_type": "stream",
     "text": [
      "True\n",
      "False\n"
     ]
    }
   ],
   "source": [
    "def solution(string, ending):\n",
    "    return string.endswith(ending)\n",
    "\n",
    "print(solution('abc', 'bc')) # returns true\n",
    "print(solution('abc', 'd')) # returns false"
   ]
  },
  {
   "cell_type": "markdown",
   "metadata": {},
   "source": [
    "Решения, взятые с codewars:"
   ]
  },
  {
   "cell_type": "code",
   "execution_count": 3,
   "metadata": {},
   "outputs": [
    {
     "name": "stdout",
     "output_type": "stream",
     "text": [
      "True\n",
      "False\n"
     ]
    }
   ],
   "source": [
    "solution = lambda s, e: s.endswith(e)\n",
    "\n",
    "print(solution('abc', 'bc')) # returns true\n",
    "print(solution('abc', 'd')) # returns false"
   ]
  },
  {
   "cell_type": "code",
   "execution_count": 4,
   "metadata": {},
   "outputs": [
    {
     "name": "stdout",
     "output_type": "stream",
     "text": [
      "True\n",
      "False\n"
     ]
    }
   ],
   "source": [
    "solution = str.endswith\n",
    "\n",
    "print(solution('abc', 'bc')) # returns true\n",
    "print(solution('abc', 'd')) # returns false"
   ]
  },
  {
   "cell_type": "markdown",
   "metadata": {},
   "source": [
    "## Directions Reduction\n",
    "\n",
    "Once upon a time, on a way through the old wild west,…\n",
    "… a man was given directions to go from one point to another. The directions were \"NORTH\", \"SOUTH\", \"WEST\", \"EAST\". Clearly \"NORTH\" and \"SOUTH\" are opposite, \"WEST\" and \"EAST\" too. Going to one direction and coming back the opposite direction is a needless effort. Since this is the wild west, with dreadfull weather and not much water, it's important to save yourself some energy, otherwise you might die of thirst!\n",
    "\n",
    "How I crossed the desert the smart way.\n",
    "The directions given to the man are, for example, the following (depending on the language):\n",
    "\n",
    "[\"NORTH\", \"SOUTH\", \"SOUTH\", \"EAST\", \"WEST\", \"NORTH\", \"WEST\"].\n",
    "\n",
    "or\n",
    "\n",
    "{ \"NORTH\", \"SOUTH\", \"SOUTH\", \"EAST\", \"WEST\", \"NORTH\", \"WEST\" };\n",
    "\n",
    "or\n",
    "\n",
    "[North, South, South, East, West, North, West]\n",
    "\n",
    "You can immediatly see that going \"NORTH\" and then \"SOUTH\" is not reasonable, better stay to the same place! So the task is to give to the man a simplified version of the plan. A better plan in this case is simply:\n",
    "\n",
    "[\"WEST\"]\n",
    "or\n",
    "\n",
    "{ \"WEST\" }\n",
    "or\n",
    "\n",
    "[West]\n",
    "\n",
    "Other examples:\n",
    "\n",
    "In [\"NORTH\", \"SOUTH\", \"EAST\", \"WEST\"], the direction \"NORTH\" + \"SOUTH\" is going north and coming back right away. What a waste of time! Better to do nothing.\n",
    "\n",
    "The path becomes [\"EAST\", \"WEST\"], now \"EAST\" and \"WEST\" annihilate each other, therefore, the final result is [] (nil in Clojure).\n",
    "\n",
    "In [\"NORTH\", \"EAST\", \"WEST\", \"SOUTH\", \"WEST\", \"WEST\"], \"NORTH\" and \"SOUTH\" are not directly opposite but they become directly opposite after the reduction of \"EAST\" and \"WEST\" so the whole path is reducible to [\"WEST\", \"WEST\"].\n",
    "\n",
    "Task\n",
    "\n",
    "Write a function dirReduc which will take an array of strings and returns an array of strings with the needless directions removed (W<->E or S<->N side by side).\n",
    "\n",
    "The Haskell version takes a list of directions with data Direction = North | East | West | South.\n",
    "The Clojure version returns nil when the path is reduced to nothing.\n",
    "The Rust version takes a slice of enum Direction {NORTH, SOUTH, EAST, WEST}.\n",
    "\n",
    "See more examples in \"Sample Tests:\"\n",
    "\n",
    "Notes\n",
    "\n",
    "Not all paths can be made simpler. The path [\"NORTH\", \"WEST\", \"SOUTH\", \"EAST\"] is not reducible. \"NORTH\" and \"WEST\", \"WEST\" and \"SOUTH\", \"SOUTH\" and \"EAST\" are not directly opposite of each other and can't become such. Hence the result path is itself : [\"NORTH\", \"WEST\", \"SOUTH\", \"EAST\"].\n",
    "\n",
    "if you want to translate, please ask before translating."
   ]
  },
  {
   "cell_type": "code",
   "execution_count": 6,
   "metadata": {},
   "outputs": [
    {
     "ename": "IndexError",
     "evalue": "pop from empty list",
     "output_type": "error",
     "traceback": [
      "\u001b[1;31m---------------------------------------------------------------------------\u001b[0m",
      "\u001b[1;31mIndexError\u001b[0m                                Traceback (most recent call last)",
      "\u001b[1;32m<ipython-input-6-8fd4b3b9e7ab>\u001b[0m in \u001b[0;36m<module>\u001b[1;34m\u001b[0m\n\u001b[0;32m      1\u001b[0m \u001b[0ma\u001b[0m \u001b[1;33m=\u001b[0m \u001b[1;33m[\u001b[0m\u001b[1;33m]\u001b[0m\u001b[1;33m\u001b[0m\u001b[1;33m\u001b[0m\u001b[0m\n\u001b[0;32m      2\u001b[0m \u001b[1;31m#print(a[len(a) - 1])\u001b[0m\u001b[1;33m\u001b[0m\u001b[1;33m\u001b[0m\u001b[1;33m\u001b[0m\u001b[0m\n\u001b[1;32m----> 3\u001b[1;33m \u001b[0ma\u001b[0m\u001b[1;33m.\u001b[0m\u001b[0mpop\u001b[0m\u001b[1;33m(\u001b[0m\u001b[1;33m)\u001b[0m\u001b[1;33m\u001b[0m\u001b[1;33m\u001b[0m\u001b[0m\n\u001b[0m",
      "\u001b[1;31mIndexError\u001b[0m: pop from empty list"
     ]
    }
   ],
   "source": [
    "a = []\n",
    "#print(a[len(a) - 1])\n",
    "a.pop()"
   ]
  },
  {
   "cell_type": "markdown",
   "metadata": {},
   "source": [
    "Вариант 1:"
   ]
  },
  {
   "cell_type": "code",
   "execution_count": 11,
   "metadata": {},
   "outputs": [
    {
     "data": {
      "text/plain": [
       "['WEST']"
      ]
     },
     "execution_count": 11,
     "metadata": {},
     "output_type": "execute_result"
    }
   ],
   "source": [
    "def dirReduc(arr):\n",
    "    stack = []\n",
    "    for direct in arr:\n",
    "        direct = direct.upper()\n",
    "        if len(stack) != 0:\n",
    "            prevDirect = stack[-1]\n",
    "            if direct == 'NORTH' and prevDirect == 'SOUTH' \\\n",
    "                or direct == 'SOUTH' and prevDirect == 'NORTH' \\\n",
    "                    or direct == 'WEST' and prevDirect == 'EAST' \\\n",
    "                        or direct == 'EAST' and prevDirect == 'WEST':\n",
    "                            stack.pop()\n",
    "            else:\n",
    "                stack.append(direct)        \n",
    "        else:\n",
    "            stack.append(direct)\n",
    "    return stack\n",
    "\n",
    "dirReduc([\"NORTH\", \"SOUTH\", \"SOUTH\", \"EAST\", \"WEST\", \"NORTH\", \"WEST\"])"
   ]
  },
  {
   "cell_type": "markdown",
   "metadata": {},
   "source": [
    "Вариант 2:"
   ]
  },
  {
   "cell_type": "code",
   "execution_count": 12,
   "metadata": {},
   "outputs": [
    {
     "data": {
      "text/plain": [
       "['WEST']"
      ]
     },
     "execution_count": 12,
     "metadata": {},
     "output_type": "execute_result"
    }
   ],
   "source": [
    "def dirReduc(arr):\n",
    "    stack = []\n",
    "    for direct in arr:\n",
    "        direct = direct.upper()\n",
    "        opposDir = {'NORTH':'SOUTH', 'SOUTH':'NORTH', 'WEST':'EAST', 'EAST':'WEST'}\n",
    "        if len(stack) != 0:\n",
    "            prevDirect = stack[-1]\n",
    "            if opposDir[direct] == prevDirect:\n",
    "                stack.pop()\n",
    "            else:\n",
    "                stack.append(direct)        \n",
    "        else:\n",
    "            stack.append(direct)\n",
    "    return stack\n",
    "\n",
    "dirReduc([\"NORTH\", \"SOUTH\", \"SOUTH\", \"EAST\", \"WEST\", \"NORTH\", \"WEST\"])"
   ]
  },
  {
   "cell_type": "markdown",
   "metadata": {},
   "source": [
    "## Mumbling\n",
    "https://www.codewars.com/kata/5667e8f4e3f572a8f2000039\n",
    "7 kyu\n",
    "\n",
    "This time no story, no theory. The examples below show you how to write function accum:\n",
    "\n",
    "Examples:\n",
    "\n",
    "accum(\"abcd\") -> \"A-Bb-Ccc-Dddd\"  \n",
    "accum(\"RqaEzty\") -> \"R-Qq-Aaa-Eeee-Zzzzz-Tttttt-Yyyyyyy\"  \n",
    "accum(\"cwAt\") -> \"C-Ww-Aaa-Tttt\"\n",
    "\n",
    "The parameter of accum is a string which includes only letters from a..z and A..Z."
   ]
  },
  {
   "cell_type": "code",
   "execution_count": 13,
   "metadata": {},
   "outputs": [
    {
     "name": "stdout",
     "output_type": "stream",
     "text": [
      "A-Bb-Ccc-Dddd\n",
      "R-Qq-Aaa-Eeee-Zzzzz-Tttttt-Yyyyyyy\n",
      "C-Ww-Aaa-Tttt\n"
     ]
    }
   ],
   "source": [
    "def accum(s):\n",
    "    res = []\n",
    "    for i in range(len(s)):\n",
    "        res.append(((i + 1) * s[i]).title())\n",
    "    return '-'.join(res)\n",
    "\n",
    "print(accum(\"abcd\")) # \"A-Bb-Ccc-Dddd\"\n",
    "print(accum(\"RqaEzty\")) # \"R-Qq-Aaa-Eeee-Zzzzz-Tttttt-Yyyyyyy\"\n",
    "print(accum(\"cwAt\")) # \"C-Ww-Aaa-Tttt\""
   ]
  },
  {
   "cell_type": "markdown",
   "metadata": {},
   "source": [
    "То же самое решение, но только с исользованием метода str.capitalize(), который больше подходит для одного слова, в отличии от title, который может обрабатывать несколько слов в тексте:"
   ]
  },
  {
   "cell_type": "code",
   "execution_count": 28,
   "metadata": {},
   "outputs": [
    {
     "name": "stdout",
     "output_type": "stream",
     "text": [
      "A-Bb-Ccc-Dddd\n",
      "R-Qq-Aaa-Eeee-Zzzzz-Tttttt-Yyyyyyy\n",
      "C-Ww-Aaa-Tttt\n"
     ]
    }
   ],
   "source": [
    "def accum(s):\n",
    "    res = []\n",
    "    for i in range(len(s)):\n",
    "        res.append(((i + 1) * s[i]).capitalize())\n",
    "    return '-'.join(res)\n",
    "\n",
    "print(accum(\"abcd\")) # \"A-Bb-Ccc-Dddd\"\n",
    "print(accum(\"RqaEzty\")) # \"R-Qq-Aaa-Eeee-Zzzzz-Tttttt-Yyyyyyy\"\n",
    "print(accum(\"cwAt\")) # \"C-Ww-Aaa-Tttt\""
   ]
  },
  {
   "cell_type": "code",
   "execution_count": 18,
   "metadata": {},
   "outputs": [
    {
     "name": "stdout",
     "output_type": "stream",
     "text": [
      "(0, 'd')\n",
      "(1, 'h')\n",
      "(2, 'd')\n",
      "(3, 'd')\n"
     ]
    }
   ],
   "source": [
    "c = 'dhdd'\n",
    "for a in enumerate(c):\n",
    "    print(a)"
   ]
  },
  {
   "cell_type": "code",
   "execution_count": 20,
   "metadata": {},
   "outputs": [
    {
     "name": "stdout",
     "output_type": "stream",
     "text": [
      "(1, 'd')\n",
      "(2, 'h')\n",
      "(3, 'd')\n",
      "(4, 'd')\n"
     ]
    }
   ],
   "source": [
    "c = 'dhdd'\n",
    "for a in enumerate(c, 1):\n",
    "    print(a)"
   ]
  },
  {
   "cell_type": "code",
   "execution_count": 21,
   "metadata": {},
   "outputs": [
    {
     "name": "stdout",
     "output_type": "stream",
     "text": [
      "(2, 'd')\n",
      "(3, 'h')\n",
      "(4, 'd')\n",
      "(5, 'd')\n"
     ]
    }
   ],
   "source": [
    "c = 'dhdd'\n",
    "for a in enumerate(c, 2):\n",
    "    print(a)"
   ]
  },
  {
   "cell_type": "code",
   "execution_count": 22,
   "metadata": {},
   "outputs": [
    {
     "data": {
      "text/plain": [
       "'Dhsdh-Ghhhdf-Hhh-H-Bh-Jjd'"
      ]
     },
     "execution_count": 22,
     "metadata": {},
     "output_type": "execute_result"
    }
   ],
   "source": [
    "s = 'dhsdH-ghhHdf-hhH-h-Bh-jjd'\n",
    "s.title()"
   ]
  },
  {
   "cell_type": "code",
   "execution_count": 26,
   "metadata": {},
   "outputs": [
    {
     "data": {
      "text/plain": [
       "'Dhsdh-ghhhdf-hhh-h-bh-jjd'"
      ]
     },
     "execution_count": 26,
     "metadata": {},
     "output_type": "execute_result"
    }
   ],
   "source": [
    "s = 'dhsdH-ghhHdf-hhH-h-Bh-jjd'\n",
    "s.capitalize()"
   ]
  },
  {
   "cell_type": "markdown",
   "metadata": {},
   "source": [
    "Подсмотрела этот вариант на codewars:"
   ]
  },
  {
   "cell_type": "code",
   "execution_count": 27,
   "metadata": {},
   "outputs": [
    {
     "name": "stdout",
     "output_type": "stream",
     "text": [
      "A-Bb-Ccc-Dddd\n",
      "R-Qq-Aaa-Eeee-Zzzzz-Tttttt-Yyyyyyy\n",
      "C-Ww-Aaa-Tttt\n"
     ]
    }
   ],
   "source": [
    "def accum(s):\n",
    "    return '-'.join(c.upper() + i * c.lower() for i, c in enumerate(s))\n",
    "\n",
    "print(accum(\"abcd\")) # \"A-Bb-Ccc-Dddd\"\n",
    "print(accum(\"RqaEzty\")) # \"R-Qq-Aaa-Eeee-Zzzzz-Tttttt-Yyyyyyy\"\n",
    "print(accum(\"cwAt\")) # \"C-Ww-Aaa-Tttt\""
   ]
  },
  {
   "cell_type": "markdown",
   "metadata": {},
   "source": [
    "Don't we have to surround exprssion inside join() with square brackets since it is a list comprehension? Isn't it an error?\n",
    "\n",
    "No. join takes an iterable as argument, which includes generators. (c.upper() + c.lower() * i for i, c in enumerate(s)) is a generator comprehension and can be passed as an argument to join. There is a syntactic rule in Python that says that when a generator comprehension is the only argument in a function call, then the parenthesis of the generator comprehension may be dropped (so instead of '-'.join((c.upper() + c.lower() * i for i, c in enumerate(s))), you may write '-'.join(c.upper() + c.lower() * i for i, c in enumerate(s))). Using a generator comprehension instead of a list comprehension is often preferable since it doesn't require a list as an intermediate data structure."
   ]
  },
  {
   "cell_type": "markdown",
   "metadata": {},
   "source": [
    "Подсмотрела этот вариант на codewars:"
   ]
  },
  {
   "cell_type": "code",
   "execution_count": 24,
   "metadata": {},
   "outputs": [
    {
     "name": "stdout",
     "output_type": "stream",
     "text": [
      "A-Bb-Ccc-Dddd\n",
      "R-Qq-Aaa-Eeee-Zzzzz-Tttttt-Yyyyyyy\n",
      "C-Ww-Aaa-Tttt\n"
     ]
    }
   ],
   "source": [
    "def accum(s):\n",
    "    return '-'.join((i * c).title() for i, c in enumerate(s, 1))\n",
    "\n",
    "print(accum(\"abcd\")) # \"A-Bb-Ccc-Dddd\"\n",
    "print(accum(\"RqaEzty\")) # \"R-Qq-Aaa-Eeee-Zzzzz-Tttttt-Yyyyyyy\"\n",
    "print(accum(\"cwAt\")) # \"C-Ww-Aaa-Tttt\""
   ]
  },
  {
   "cell_type": "code",
   "execution_count": 2,
   "metadata": {},
   "outputs": [
    {
     "name": "stdout",
     "output_type": "stream",
     "text": [
      "2\n"
     ]
    },
    {
     "ename": "TypeError",
     "evalue": "'int' object is not callable",
     "output_type": "error",
     "traceback": [
      "\u001b[1;31m---------------------------------------------------------------------------\u001b[0m",
      "\u001b[1;31mTypeError\u001b[0m                                 Traceback (most recent call last)",
      "\u001b[1;32m<ipython-input-2-d76d91621865>\u001b[0m in \u001b[0;36m<module>\u001b[1;34m\u001b[0m\n\u001b[0;32m      2\u001b[0m \u001b[0maddTwo\u001b[0m \u001b[1;33m=\u001b[0m \u001b[0madd\u001b[0m\u001b[1;33m(\u001b[0m\u001b[1;36m2\u001b[0m\u001b[1;33m)\u001b[0m\u001b[1;33m\u001b[0m\u001b[1;33m\u001b[0m\u001b[0m\n\u001b[0;32m      3\u001b[0m \u001b[0mprint\u001b[0m\u001b[1;33m(\u001b[0m\u001b[0maddTwo\u001b[0m\u001b[1;33m)\u001b[0m\u001b[1;33m\u001b[0m\u001b[1;33m\u001b[0m\u001b[0m\n\u001b[1;32m----> 4\u001b[1;33m \u001b[0madd\u001b[0m\u001b[1;33m(\u001b[0m\u001b[1;36m3\u001b[0m\u001b[1;33m)\u001b[0m\u001b[1;33m(\u001b[0m\u001b[1;36m4\u001b[0m\u001b[1;33m)\u001b[0m\u001b[1;33m\u001b[0m\u001b[1;33m\u001b[0m\u001b[0m\n\u001b[0m",
      "\u001b[1;31mTypeError\u001b[0m: 'int' object is not callable"
     ]
    }
   ],
   "source": [
    "add = lambda x: x \n",
    "addTwo = add(2)\n",
    "print(addTwo)\n",
    "add(3)(4)"
   ]
  },
  {
   "cell_type": "code",
   "execution_count": 11,
   "metadata": {},
   "outputs": [
    {
     "name": "stdout",
     "output_type": "stream",
     "text": [
      "<function add.<locals>.<lambda> at 0x000000000596BAE8>\n",
      "4\n"
     ]
    },
    {
     "ename": "TypeError",
     "evalue": "'int' object is not callable",
     "output_type": "error",
     "traceback": [
      "\u001b[1;31m---------------------------------------------------------------------------\u001b[0m",
      "\u001b[1;31mTypeError\u001b[0m                                 Traceback (most recent call last)",
      "\u001b[1;32m<ipython-input-11-f740113b555c>\u001b[0m in \u001b[0;36m<module>\u001b[1;34m\u001b[0m\n\u001b[0;32m      4\u001b[0m \u001b[0mprint\u001b[0m\u001b[1;33m(\u001b[0m\u001b[0maddTwo\u001b[0m\u001b[1;33m)\u001b[0m\u001b[1;33m\u001b[0m\u001b[1;33m\u001b[0m\u001b[0m\n\u001b[0;32m      5\u001b[0m \u001b[0mprint\u001b[0m\u001b[1;33m(\u001b[0m\u001b[0madd\u001b[0m\u001b[1;33m(\u001b[0m\u001b[1;36m3\u001b[0m\u001b[1;33m)\u001b[0m\u001b[1;33m(\u001b[0m\u001b[1;36m4\u001b[0m\u001b[1;33m)\u001b[0m\u001b[1;33m)\u001b[0m\u001b[1;33m\u001b[0m\u001b[1;33m\u001b[0m\u001b[0m\n\u001b[1;32m----> 6\u001b[1;33m \u001b[0mprint\u001b[0m\u001b[1;33m(\u001b[0m\u001b[0madd\u001b[0m\u001b[1;33m(\u001b[0m\u001b[1;36m3\u001b[0m\u001b[1;33m)\u001b[0m\u001b[1;33m(\u001b[0m\u001b[1;36m4\u001b[0m\u001b[1;33m)\u001b[0m\u001b[1;33m(\u001b[0m\u001b[1;36m1\u001b[0m\u001b[1;33m)\u001b[0m\u001b[1;33m)\u001b[0m\u001b[1;33m\u001b[0m\u001b[1;33m\u001b[0m\u001b[0m\n\u001b[0m",
      "\u001b[1;31mTypeError\u001b[0m: 'int' object is not callable"
     ]
    }
   ],
   "source": [
    "def add(x):\n",
    "    return lambda x: x \n",
    "addTwo = add(2)\n",
    "print(addTwo)\n",
    "print(add(3)(4))\n",
    "print(add(3)(4)(1))"
   ]
  },
  {
   "cell_type": "code",
   "execution_count": 10,
   "metadata": {},
   "outputs": [
    {
     "name": "stdout",
     "output_type": "stream",
     "text": [
      "<function add at 0x000000000596BA60>\n"
     ]
    }
   ],
   "source": [
    "def add(x):\n",
    "    return add\n",
    "\n",
    "addTwo = add(2)\n",
    "print(addTwo)"
   ]
  },
  {
   "cell_type": "markdown",
   "metadata": {},
   "source": [
    "## Duplicate Encoder\n",
    "\n",
    "The goal of this exercise is to convert a string to a new string where each character in the new string is \"(\" if that character appears only once in the original string, or \")\" if that character appears more than once in the original string. Ignore capitalization when determining if a character is a duplicate.\n",
    "\n",
    "Examples\n",
    "\n",
    "\"din\"      =>  \"(((\"\n",
    "\n",
    "\"recede\"   =>  \"()()()\"\n",
    "\n",
    "\"Success\"  =>  \")())())\"\n",
    "\n",
    "\"(( @\"     =>  \"))((\" \n",
    "Notes\n",
    "\n",
    "Assertion messages may be unclear about what they display in some languages. If you read \"...It Should encode XXX\", the \"XXX\" is the expected result, not the input!"
   ]
  },
  {
   "cell_type": "markdown",
   "metadata": {},
   "source": [
    "Вариант 1:"
   ]
  },
  {
   "cell_type": "code",
   "execution_count": 14,
   "metadata": {},
   "outputs": [
    {
     "name": "stdout",
     "output_type": "stream",
     "text": [
      "(((\n",
      "()()()\n",
      ")())())\n",
      "))((\n",
      ")))(()\n"
     ]
    }
   ],
   "source": [
    "def duplicate_encode(word):\n",
    "    res = ''\n",
    "    word = word.lower()\n",
    "    for c in word:\n",
    "        if word.count(c) == 1:\n",
    "            res += '('\n",
    "        else:\n",
    "            res += ')'\n",
    "    return res\n",
    "\n",
    "print(duplicate_encode(\"din\"))      #  \"(((\"\n",
    "print(duplicate_encode(\"recede\"))   #  \"()()()\"\n",
    "print(duplicate_encode(\"Success\"))  #  \")())())\"\n",
    "print(duplicate_encode(\"(( @\"))     #  \"))((\" \n",
    "print(duplicate_encode(\"сиськи\")) "
   ]
  },
  {
   "cell_type": "markdown",
   "metadata": {},
   "source": [
    "Вариант 2:"
   ]
  },
  {
   "cell_type": "code",
   "execution_count": 17,
   "metadata": {},
   "outputs": [
    {
     "name": "stdout",
     "output_type": "stream",
     "text": [
      "(((\n",
      "()()()\n",
      ")())())\n",
      "))((\n",
      ")))(()\n"
     ]
    }
   ],
   "source": [
    "def duplicate_encode(word):\n",
    "    word = word.lower()\n",
    "    res = ['(' if word.count(c) == 1 else ')' for c in word]\n",
    "    return ''.join(res)\n",
    "\n",
    "print(duplicate_encode(\"din\"))      #  \"(((\"\n",
    "print(duplicate_encode(\"recede\"))   #  \"()()()\"\n",
    "print(duplicate_encode(\"Success\"))  #  \")())())\"\n",
    "print(duplicate_encode(\"(( @\"))     #  \"))((\" \n",
    "print(duplicate_encode(\"сиськи\")) "
   ]
  },
  {
   "cell_type": "markdown",
   "metadata": {},
   "source": [
    "## Highest Scoring Word\n",
    "\n",
    "Each letter of a word scores points according to its position in the alphabet: a = 1, b = 2, c = 3 etc.\n",
    "\n",
    "You need to return the highest scoring word as a string.\n",
    "\n",
    "If two words score the same, return the word that appears earliest in the original string.\n",
    "\n",
    "All letters will be lowercase and all inputs will be valid."
   ]
  },
  {
   "cell_type": "code",
   "execution_count": 61,
   "metadata": {},
   "outputs": [
    {
     "data": {
      "text/plain": [
       "[('f', [1, 5]), ('c', [3, 6]), ('a', [0, 6])]"
      ]
     },
     "execution_count": 61,
     "metadata": {},
     "output_type": "execute_result"
    }
   ],
   "source": [
    "D = {'c':[3, 6], 'a':[0, 6], 'f':[1,  5]}\n",
    "#sorted(D.items())\n",
    "#sorted(D.items(), key=lambda item: item[1])\n",
    "#sorted(D.items(), key=lambda item: item[1][1])\n",
    "sorted(sorted(D.items(), key=lambda item: item[1][0], reverse=True), key=lambda item: item[1][1])"
   ]
  },
  {
   "cell_type": "code",
   "execution_count": 31,
   "metadata": {},
   "outputs": [
    {
     "data": {
      "text/plain": [
       "97"
      ]
     },
     "execution_count": 31,
     "metadata": {},
     "output_type": "execute_result"
    }
   ],
   "source": [
    "ord('a')"
   ]
  },
  {
   "cell_type": "markdown",
   "metadata": {},
   "source": [
    "Вариант 1:"
   ]
  },
  {
   "cell_type": "code",
   "execution_count": 63,
   "metadata": {
    "scrolled": true
   },
   "outputs": [
    {
     "name": "stdout",
     "output_type": "stream",
     "text": [
      "lxjcgtkulx\n",
      "volcano\n",
      "hhhhj\n",
      "volcano\n"
     ]
    }
   ],
   "source": [
    "def high(x):\n",
    "    score = {}\n",
    "    i = 0\n",
    "    for word in x.split():\n",
    "        if word not in score:\n",
    "            score[word] = [i, sum(ord(c) - 96 for c in word)]\n",
    "            i += 1\n",
    "    return sorted(sorted(score.items(), key=lambda item: item[1][0], reverse=True), key=lambda item: item[1][1])[-1][0]\n",
    "    #return sorted(sorted(score.items(), key=lambda item: item[1][0], reverse=True), key=lambda item: item[1][1])\n",
    "\n",
    "print(high('lxjcgtkulx ccrtwzaqpq'))\n",
    "print(high('volcano climbing'))\n",
    "print(high('hhhhj gggr hhhhj'))\n",
    "print(high('what time are we climbing up the volcano'))"
   ]
  },
  {
   "cell_type": "markdown",
   "metadata": {},
   "source": [
    "Вариант 2:"
   ]
  },
  {
   "cell_type": "code",
   "execution_count": 69,
   "metadata": {},
   "outputs": [
    {
     "name": "stdout",
     "output_type": "stream",
     "text": [
      "lxjcgtkulx\n",
      "volcano\n",
      "hhhhj\n",
      "volcano\n"
     ]
    }
   ],
   "source": [
    "def high(x):\n",
    "    score = {}\n",
    "    for word in x.split()[::-1]:\n",
    "        #if word not in score.values():\n",
    "            #score[sum(ord(c) - 96 for c in word)] = word\n",
    "        score[sum(ord(c) - 96 for c in word)] = word\n",
    "    return sorted(score.items())[-1][1]\n",
    "\n",
    "print(high('lxjcgtkulx ccrtwzaqpq'))\n",
    "print(high('volcano climbing'))\n",
    "print(high('hhhhj gggr hhhhj'))\n",
    "print(high('what time are we climbing up the volcano'))"
   ]
  },
  {
   "cell_type": "markdown",
   "metadata": {},
   "source": [
    "Решения, подсмотренные на codewars:"
   ]
  },
  {
   "cell_type": "code",
   "execution_count": 77,
   "metadata": {},
   "outputs": [
    {
     "name": "stdout",
     "output_type": "stream",
     "text": [
      "lxjcgtkulx\n",
      "volcano\n",
      "hhhhj\n",
      "volcano\n"
     ]
    }
   ],
   "source": [
    "def high(x):\n",
    "    return max(x.split(), key=lambda word: sum(ord(c) - 96 for c in word))\n",
    "\n",
    "print(high('lxjcgtkulx ccrtwzaqpq'))\n",
    "print(high('volcano climbing'))\n",
    "print(high('hhhhj gggr hhhhj'))\n",
    "print(high('what time are we climbing up the volcano'))"
   ]
  },
  {
   "cell_type": "code",
   "execution_count": 82,
   "metadata": {},
   "outputs": [
    {
     "name": "stdout",
     "output_type": "stream",
     "text": [
      "lxjcgtkulx\n",
      "volcano\n",
      "hhhhj\n",
      "volcano\n"
     ]
    }
   ],
   "source": [
    "def high(x):\n",
    "    x = x.split()\n",
    "    scores = [sum(ord(c) - 96 for c in word) for word in x]\n",
    "    return x[scores.index(max(scores))]\n",
    " \n",
    "print(high('lxjcgtkulx ccrtwzaqpq'))\n",
    "print(high('volcano climbing'))\n",
    "print(high('hhhhj gggr hhhhj'))\n",
    "print(high('what time are we climbing up the volcano'))"
   ]
  },
  {
   "cell_type": "code",
   "execution_count": 102,
   "metadata": {},
   "outputs": [
    {
     "name": "stdout",
     "output_type": "stream",
     "text": [
      "lxjcgtkulx\n",
      "volcano\n",
      "hhhhj\n",
      "volcano\n"
     ]
    }
   ],
   "source": [
    "def high(x):\n",
    "    x = x.split()\n",
    "    scores = enumerate([sum(ord(c) - 96 for c in word) for word in x])\n",
    "    #print(scores) # <enumerate object at 0x000000000589A6C0>\n",
    "    return x[max(scores, key= lambda y: y[1])[0]]\n",
    " \n",
    "print(high('lxjcgtkulx ccrtwzaqpq'))\n",
    "print(high('volcano climbing'))\n",
    "print(high('hhhhj gggr hhhhj'))\n",
    "print(high('what time are we climbing up the volcano'))"
   ]
  },
  {
   "cell_type": "code",
   "execution_count": 112,
   "metadata": {},
   "outputs": [
    {
     "name": "stdout",
     "output_type": "stream",
     "text": [
      "lxjcgtkulx\n",
      "volcano\n",
      "hhhhj\n",
      "volcano\n"
     ]
    }
   ],
   "source": [
    "def high(x):\n",
    "    return max((sum(ord(c) - 96 for c in word), word) for word in x.split())[1]\n",
    " \n",
    "print(high('lxjcgtkulx ccrtwzaqpq'))\n",
    "print(high('volcano climbing'))\n",
    "print(high('hhhhj gggr hhhhj'))\n",
    "print(high('what time are we climbing up the volcano'))"
   ]
  },
  {
   "cell_type": "code",
   "execution_count": 113,
   "metadata": {},
   "outputs": [
    {
     "name": "stdout",
     "output_type": "stream",
     "text": [
      "YES\n",
      "NO\n",
      "NO\n"
     ]
    }
   ],
   "source": [
    "def tickets(bills):\n",
    "    change = {25:0, 50:0}\n",
    "    for bill in bills:\n",
    "        if bill == 25:\n",
    "            change[25] += 1\n",
    "        elif bill == 50:\n",
    "            if change[25] >= 1:\n",
    "                change[50] += 1\n",
    "                change[25] -= 1\n",
    "            else:\n",
    "                return 'NO'\n",
    "        elif bill == 100:\n",
    "            if change[50] >= 1 and change[25] >= 1:\n",
    "                change[50] -= 1\n",
    "                change[25] -= 1\n",
    "            elif change[25] >= 3:\n",
    "                change[25] -= 3\n",
    "            else:\n",
    "                return 'NO'\n",
    "    return 'YES'\n",
    "\n",
    "print(tickets([25, 25, 50])) # => YES \n",
    "print(tickets([25, 100])) # => NO. Vasya will not have enough money to give change to 100 dollars\n",
    "print(tickets([25, 25, 50, 50, 100])) # => NO. Vasya will not have the right bills to give 75 dollars of change (you can't make two bills of 25 from one of 50)"
   ]
  },
  {
   "cell_type": "markdown",
   "metadata": {},
   "source": [
    "## The Deaf Rats of Hamelin\n",
    "Story\n",
    "\n",
    "The Pied Piper has been enlisted to play his magical tune and coax all the rats out of town.\n",
    "\n",
    "But some of the rats are deaf and are going the wrong way!\n",
    "\n",
    "Kata Task\n",
    "How many deaf rats are there?"
   ]
  },
  {
   "cell_type": "raw",
   "metadata": {},
   "source": [
    "Legend\n",
    "P = The Pied Piper\n",
    "O~ = Rat going left\n",
    "~O = Rat going right"
   ]
  },
  {
   "cell_type": "raw",
   "metadata": {},
   "source": [
    "Example\n",
    "ex1 ~O~O~O~O P has 0 deaf rats\n",
    "ex2 P O~ O~ ~O O~ has 1 deaf rat\n",
    "ex3 ~O~O~O~OP~O~OO~ has 2 deaf rats"
   ]
  },
  {
   "cell_type": "code",
   "execution_count": null,
   "metadata": {},
   "outputs": [],
   "source": [
    "def count_deaf_rats(town):\n",
    "    deaf = 0\n",
    "    left, P, right = town.partition('P')\n",
    "    left = ''.join((left.split()))\n",
    "    right = ''.join((right.split()))\n",
    "    for i in range(0, len(left), 2):\n",
    "        if left[i:i + 2] == 'O~':\n",
    "            deaf += 1\n",
    "    for i in range(0, len(right), 2):\n",
    "        if right[i:i + 2] == '~O':\n",
    "            deaf += 1\n",
    "    return deaf    "
   ]
  },
  {
   "cell_type": "code",
   "execution_count": 5,
   "metadata": {},
   "outputs": [
    {
     "data": {
      "text/plain": [
       "'fsdggs'"
      ]
     },
     "execution_count": 5,
     "metadata": {},
     "output_type": "execute_result"
    }
   ],
   "source": [
    "a = 'fsdggs'\n",
    "''.join((a.split()))"
   ]
  },
  {
   "cell_type": "code",
   "execution_count": null,
   "metadata": {},
   "outputs": [],
   "source": [
    "def count_deaf_rats(town):\n",
    "    deaf = 0\n",
    "    left, P, right = town.partition('P')\n",
    "    left = ''.join((left.split()))\n",
    "    right = ''.join((right.split()))\n",
    "    for i in range(0, len(left), 2):\n",
    "        if left[i:i + 2] == 'O~':\n",
    "            deaf += 1\n",
    "    for i in range(0, len(right), 2):\n",
    "        if right[i:i + 2] == '~O':\n",
    "            deaf += 1\n",
    "    return deaf  "
   ]
  },
  {
   "cell_type": "code",
   "execution_count": 10,
   "metadata": {},
   "outputs": [
    {
     "name": "stdout",
     "output_type": "stream",
     "text": [
      "2\n"
     ]
    }
   ],
   "source": [
    "a = ['ab', 'ba', 'ab', 'ba']\n",
    "print(a.count('ba'))"
   ]
  },
  {
   "cell_type": "markdown",
   "metadata": {},
   "source": [
    "## Hidden \"Cubic\" numbers\n",
    "We search non-negative integer numbers, with at most 3 digits, such as the sum of the cubes of their digits is the number itself; we will call them \"cubic\" numbers.\n",
    "\n",
    "153 is such a \"cubic\" number : 1^3 + 5^3 + 3^3 = 153\n",
    "These \"cubic\" numbers of at most 3 digits are easy to find, even by hand, so they are \"hidden\" with other numbers and characters in a string.\n",
    "\n",
    "The task is to found, or not, the \"cubic\" numbers in the string and then to make the sum of these \"cubic\" numbers found in the string, if any, and to return a string such as:\n",
    "\n",
    "\"number1 number2 (and so on if necessary) sumOfCubicNumbers Lucky\" \n",
    "if \"cubic\" numbers number1, number2, ... were found. The numbers in the output are to be in the order in which they are encountered in the input string.\n",
    "\n",
    "If no cubic numbers are found return the string:\n",
    "\n",
    "\"Unlucky\".\n",
    "Examples:\n",
    "\n",
    " s = \"aqdf& 0 1 xyz 153 777.777\" must return \"0 1 153 154 Lucky\"\n",
    "\n",
    " s = \"QK29 45[&erui\" must return \"Unlucky\".\n",
    " \n",
    "Note: In the string \"001234\" where 3 digits or more follow each other the fist packet to examine is \"001\" and the following is \"234\". If a packet of at most three digits has been taken, whether or not \"cubic\", it's over for that packet.\n",
    "\n",
    "When a continous string of digits exceeds 3, the string is split into groups of 3 from the left. The last grouping could have 3, 2 or 1 digits. e.g \"24172410\" becomes 3 strings comprising \"241\", \"724\" and \"10\" e.g \"0785\" becomes 2 strings comprising \"078\" and \"5\"."
   ]
  },
  {
   "cell_type": "markdown",
   "metadata": {},
   "source": [
    "Вариант 1:"
   ]
  },
  {
   "cell_type": "code",
   "execution_count": 21,
   "metadata": {},
   "outputs": [
    {
     "name": "stdout",
     "output_type": "stream",
     "text": [
      "0 0 Lucky\n",
      "Unlucky\n",
      "0 1 153 154 Lucky\n",
      "Unlucky\n"
     ]
    }
   ],
   "source": [
    "import re\n",
    "\n",
    "def is_sum_of_cubes(s):\n",
    "    nums = [num for num in re.findall(r'\\d{1,3}', s) if sum(int(d)**3 for d in num) == int(num)] # r'\\d{1,}' = r'\\d+'\n",
    "    if len(nums) > 0:\n",
    "        return ' '.join(nums) + ' ' + str(sum(int(num) for num in nums)) + ' Lucky'\n",
    "    return \"Unlucky\"\n",
    "\n",
    "print(is_sum_of_cubes(\"0 9026315 -827&()\"))\n",
    "print(is_sum_of_cubes(\"No numbers!\"))\n",
    "print(is_sum_of_cubes(\"aqdf& 0 1 xyz 153 777.777\"))\n",
    "print(is_sum_of_cubes(\"QK29 45[&erui\"))"
   ]
  },
  {
   "cell_type": "markdown",
   "metadata": {},
   "source": [
    "Переписала вариант 1, сделав его чуть более понятным, и сократив количество действий, но вариант 1 всё-равно кажется более приятным:"
   ]
  },
  {
   "cell_type": "code",
   "execution_count": 29,
   "metadata": {},
   "outputs": [
    {
     "name": "stdout",
     "output_type": "stream",
     "text": [
      "0 0 Lucky\n",
      "Unlucky\n",
      "0 1 153 154 Lucky\n",
      "Unlucky\n"
     ]
    }
   ],
   "source": [
    "import re\n",
    "\n",
    "def is_sum_of_cubes(s):\n",
    "    resStr = ''\n",
    "    summ = 0\n",
    "    for snum in re.findall(r'\\d{1,3}', s):\n",
    "        num = int(snum)\n",
    "        if sum(int(d)**3 for d in snum) == num:\n",
    "            resStr += snum + ' '\n",
    "            summ += num\n",
    "    if resStr:\n",
    "        return resStr + str(summ) + ' Lucky'\n",
    "    return \"Unlucky\"\n",
    "\n",
    "print(is_sum_of_cubes(\"0 9026315 -827&()\"))\n",
    "print(is_sum_of_cubes(\"No numbers!\"))\n",
    "print(is_sum_of_cubes(\"aqdf& 0 1 xyz 153 777.777\"))\n",
    "print(is_sum_of_cubes(\"QK29 45[&erui\"))"
   ]
  },
  {
   "cell_type": "markdown",
   "metadata": {},
   "source": [
    "### Study: Map()"
   ]
  },
  {
   "cell_type": "code",
   "execution_count": 32,
   "metadata": {},
   "outputs": [
    {
     "name": "stdout",
     "output_type": "stream",
     "text": [
      "[1, 4, 9, 16]\n"
     ]
    }
   ],
   "source": [
    "items = [1, 2, 3, 4]\n",
    "squared = list(map(lambda x: x**2, items))\n",
    "print(squared)"
   ]
  },
  {
   "cell_type": "code",
   "execution_count": 33,
   "metadata": {},
   "outputs": [
    {
     "name": "stdout",
     "output_type": "stream",
     "text": [
      "<map object at 0x00000000052E9470>\n"
     ]
    }
   ],
   "source": [
    "items = [1, 2, 3, 4]\n",
    "squared = map(lambda x: x**2, items)\n",
    "print(squared)"
   ]
  },
  {
   "cell_type": "code",
   "execution_count": 34,
   "metadata": {},
   "outputs": [
    {
     "name": "stdout",
     "output_type": "stream",
     "text": [
      "30\n"
     ]
    }
   ],
   "source": [
    "items = [1, 2, 3, 4]\n",
    "print(sum(map(lambda x: x**2, items)))"
   ]
  },
  {
   "cell_type": "code",
   "execution_count": 36,
   "metadata": {},
   "outputs": [
    {
     "data": {
      "text/plain": [
       "'0b110'"
      ]
     },
     "execution_count": 36,
     "metadata": {},
     "output_type": "execute_result"
    }
   ],
   "source": [
    "bin(6)"
   ]
  },
  {
   "cell_type": "code",
   "execution_count": 40,
   "metadata": {},
   "outputs": [
    {
     "name": "stdout",
     "output_type": "stream",
     "text": [
      "0b1\n",
      "0b10\n",
      "0b11\n",
      "0b100\n"
     ]
    }
   ],
   "source": [
    "print(bin(1))\n",
    "print(bin(2))\n",
    "print(bin(3))\n",
    "print(bin(4))"
   ]
  },
  {
   "cell_type": "markdown",
   "metadata": {},
   "source": [
    "## Word a10n (abbreviation)"
   ]
  },
  {
   "cell_type": "raw",
   "metadata": {},
   "source": [
    "The word i18n is a common abbreviation of internationalization in the developer community, used instead of typing the whole word and trying to spell it correctly. Similarly, a11y is an abbreviation of accessibility.\n",
    "\n",
    "Write a function that takes a string and turns any and all \"words\" (see below) within that string of length 4 or greater into an abbreviation, following these rules:\n",
    "\n",
    "A \"word\" is a sequence of alphabetical characters. By this definition, any other character like a space or hyphen (eg. \"elephant-ride\") will split up a series of letters into two words (eg. \"elephant\" and \"ride\").\n",
    "The abbreviated version of the word should have the first letter, then the number of removed characters, then the last letter (eg. \"elephant ride\" => \"e6t r2e\").\n",
    "Example\n",
    "abbreviate(\"elephant-rides are really fun!\")\n",
    "//          ^^^^^^^^*^^^^^*^^^*^^^^^^*^^^*\n",
    "// words (^):   \"elephant\" \"rides\" \"are\" \"really\" \"fun\"\n",
    "//                123456     123     1     1234     1\n",
    "// ignore short words:               X              X\n",
    "\n",
    "// abbreviate:    \"e6t\"     \"r3s\"  \"are\"  \"r4y\"   \"fun\"\n",
    "// all non-word characters (*) remain in place\n",
    "//                     \"-\"      \" \"    \" \"     \" \"     \"!\"\n",
    "=== \"e6t-r3s are r4y fun!\""
   ]
  },
  {
   "cell_type": "code",
   "execution_count": 41,
   "metadata": {},
   "outputs": [
    {
     "name": "stdout",
     "output_type": "stream",
     "text": [
      "['12', '  ', '+', '  ', '13', '', '*', '', '15', '   ', '-', ' ', '6']\n"
     ]
    }
   ],
   "source": [
    "import re \n",
    "print(re.split(r'(\\s*)([+*/-])(\\s*)', r'12  +  13*15   - 6')) "
   ]
  },
  {
   "cell_type": "code",
   "execution_count": 52,
   "metadata": {},
   "outputs": [
    {
     "name": "stdout",
     "output_type": "stream",
     "text": [
      "['', 'elephant', '', 'elephant', '', '-', 'rides ', '', 'rides', ' ', '', 'are ', '', 'are', ' ', '', 'really ', '', 'really', ' ', '', 'fun', '', 'fun', '', '!']\n"
     ]
    }
   ],
   "source": [
    "import re \n",
    "print(re.split(r'((\\s*)([a-z]+)(\\s*))', r'elephant-rides are really fun!')) "
   ]
  },
  {
   "cell_type": "code",
   "execution_count": 6,
   "metadata": {},
   "outputs": [
    {
     "name": "stdout",
     "output_type": "stream",
     "text": [
      "[('', 'elephant', 'elephant')]\n"
     ]
    }
   ],
   "source": [
    "import re\n",
    "print(re.findall(r'([a-z]*)(^([a-z]*))', 'elephant-rides are really fun!'))"
   ]
  },
  {
   "cell_type": "code",
   "execution_count": 7,
   "metadata": {},
   "outputs": [
    {
     "name": "stdout",
     "output_type": "stream",
     "text": [
      "['elephant', 'rides', 'really']\n"
     ]
    }
   ],
   "source": [
    "import re\n",
    "print(re.findall(r'([a-z]{4,})', 'elephant-rides are really fun!'))"
   ]
  },
  {
   "cell_type": "code",
   "execution_count": 9,
   "metadata": {},
   "outputs": [
    {
     "name": "stdout",
     "output_type": "stream",
     "text": [
      "e6t-r3s are r4y fun!\n"
     ]
    }
   ],
   "source": [
    "import re\n",
    "\n",
    "def abbreviate(s):\n",
    "    for w in re.findall(r'([A-Za-z]{4,})', s):\n",
    "        s = s.replace(w, w[0] + str(len(w) - 2) + w[-1])\n",
    "    return s\n",
    "\n",
    "print(abbreviate('elephant-rides are really fun!'))"
   ]
  },
  {
   "cell_type": "markdown",
   "metadata": {},
   "source": [
    "## Array.diff"
   ]
  },
  {
   "cell_type": "raw",
   "metadata": {},
   "source": [
    "Your goal in this kata is to implement a difference function, which subtracts one list from another and returns the result.\n",
    "\n",
    "It should remove all values from list a, which are present in list b.\n",
    "\n",
    "array_diff([1,2],[1]) == [2]\n",
    "If a value is present in b, all of its occurrences must be removed from the other:\n",
    "\n",
    "array_diff([1,2,2,2,3],[2]) == [1,3]"
   ]
  },
  {
   "cell_type": "code",
   "execution_count": 6,
   "metadata": {},
   "outputs": [
    {
     "name": "stdout",
     "output_type": "stream",
     "text": [
      "[2]\n",
      "[1, 3]\n"
     ]
    }
   ],
   "source": [
    "def array_diff(a, b):\n",
    "    return [x for x in a if x not in b]\n",
    "\n",
    "print(array_diff([1,2],[1]))\n",
    "print(array_diff([1,2,2,2,3],[2]))"
   ]
  },
  {
   "cell_type": "markdown",
   "metadata": {},
   "source": [
    "То же самое с использованием функции filter() (даже в документации написано, что функция filter() работает аналогично предыдущему примеру):"
   ]
  },
  {
   "cell_type": "code",
   "execution_count": 8,
   "metadata": {},
   "outputs": [
    {
     "name": "stdout",
     "output_type": "stream",
     "text": [
      "[2]\n",
      "[1, 3]\n"
     ]
    }
   ],
   "source": [
    "def array_diff(a, b):\n",
    "    return list(filter(lambda x: x not in b, a))\n",
    "\n",
    "print(array_diff([1,2],[1]))\n",
    "print(array_diff([1,2,2,2,3],[2]))"
   ]
  },
  {
   "cell_type": "markdown",
   "metadata": {},
   "source": [
    "### A Chain adding function\n",
    "\n",
    "5 kyu"
   ]
  },
  {
   "cell_type": "raw",
   "metadata": {},
   "source": [
    "We want to create a function that will add numbers together when called in succession.\n",
    "\n",
    "add(1)(2);\n",
    "// returns 3\n",
    "We also want to be able to continue to add numbers to our chain.\n",
    "\n",
    "add(1)(2)(3); // 6\n",
    "add(1)(2)(3)(4); // 10\n",
    "add(1)(2)(3)(4)(5); // 15\n",
    "and so on.\n",
    "\n",
    "A single call should return the number passed in.\n",
    "\n",
    "add(1); // 1\n",
    "We should be able to store the returned values and reuse them.\n",
    "\n",
    "var addTwo = add(2);\n",
    "addTwo; // 2\n",
    "addTwo + 5; // 7\n",
    "addTwo(3); // 5\n",
    "addTwo(3)(5); // 10\n",
    "We can assume any number being passed in will be valid whole number."
   ]
  },
  {
   "cell_type": "code",
   "execution_count": 57,
   "metadata": {},
   "outputs": [
    {
     "name": "stdout",
     "output_type": "stream",
     "text": [
      "2\n"
     ]
    }
   ],
   "source": [
    "def add(x):\n",
    "    return int(x + 0)\n",
    "\n",
    "print(add(2))"
   ]
  },
  {
   "cell_type": "code",
   "execution_count": 67,
   "metadata": {},
   "outputs": [
    {
     "name": "stdout",
     "output_type": "stream",
     "text": [
      "<function add.<locals>.<lambda> at 0x00000000050C67B8>\n",
      "<function add at 0x00000000050C62F0>\n",
      "<function add.<locals>.<lambda> at 0x00000000050C6C80>\n"
     ]
    }
   ],
   "source": [
    "def add(x = 0):\n",
    "    return lambda: add()\n",
    "\n",
    "print(add(2))\n",
    "print(add)\n",
    "print(add(2)())"
   ]
  },
  {
   "cell_type": "code",
   "execution_count": 76,
   "metadata": {},
   "outputs": [
    {
     "name": "stdout",
     "output_type": "stream",
     "text": [
      "<class '__main__.add'>\n",
      "2\n"
     ]
    }
   ],
   "source": [
    "class add:\n",
    "    def __init__(self, value):\n",
    "        self.res = 0\n",
    "        self(value)\n",
    "        \n",
    "    def __call__(self, value):\n",
    "        self.res += value\n",
    "        return self\n",
    "    \n",
    "print(add)\n",
    "print(add(2).res)"
   ]
  },
  {
   "cell_type": "code",
   "execution_count": 78,
   "metadata": {},
   "outputs": [
    {
     "name": "stdout",
     "output_type": "stream",
     "text": [
      "<class '__main__.add'>\n"
     ]
    },
    {
     "ename": "TypeError",
     "evalue": "add() takes no arguments",
     "output_type": "error",
     "traceback": [
      "\u001b[1;31m---------------------------------------------------------------------------\u001b[0m",
      "\u001b[1;31mTypeError\u001b[0m                                 Traceback (most recent call last)",
      "\u001b[1;32m<ipython-input-78-710a613af14a>\u001b[0m in \u001b[0;36m<module>\u001b[1;34m\u001b[0m\n\u001b[0;32m      7\u001b[0m \u001b[1;33m\u001b[0m\u001b[0m\n\u001b[0;32m      8\u001b[0m \u001b[0mprint\u001b[0m\u001b[1;33m(\u001b[0m\u001b[0madd\u001b[0m\u001b[1;33m)\u001b[0m\u001b[1;33m\u001b[0m\u001b[1;33m\u001b[0m\u001b[0m\n\u001b[1;32m----> 9\u001b[1;33m \u001b[0mprint\u001b[0m\u001b[1;33m(\u001b[0m\u001b[0madd\u001b[0m\u001b[1;33m(\u001b[0m\u001b[1;36m2\u001b[0m\u001b[1;33m)\u001b[0m\u001b[1;33m)\u001b[0m\u001b[1;33m\u001b[0m\u001b[1;33m\u001b[0m\u001b[0m\n\u001b[0m",
      "\u001b[1;31mTypeError\u001b[0m: add() takes no arguments"
     ]
    }
   ],
   "source": [
    "class add:\n",
    "    add.res = 0\n",
    "    def __init__(self, value):\n",
    "        add.res = value\n",
    "        add.__call__\n",
    "        \n",
    "    def __call__(self, value):\n",
    "        add.res += value\n",
    "        return self\n",
    "    \n",
    "print(add)\n",
    "print(add(2))"
   ]
  },
  {
   "cell_type": "code",
   "execution_count": 109,
   "metadata": {},
   "outputs": [
    {
     "name": "stdout",
     "output_type": "stream",
     "text": [
      "<class 'int'>\n",
      "['__abs__', '__add__', '__and__', '__bool__', '__ceil__', '__class__', '__delattr__', '__dir__', '__divmod__', '__doc__', '__eq__', '__float__', '__floor__', '__floordiv__', '__format__', '__ge__', '__getattribute__', '__getnewargs__', '__gt__', '__hash__', '__index__', '__init__', '__init_subclass__', '__int__', '__invert__', '__le__', '__lshift__', '__lt__', '__mod__', '__mul__', '__ne__', '__neg__', '__new__', '__or__', '__pos__', '__pow__', '__radd__', '__rand__', '__rdivmod__', '__reduce__', '__reduce_ex__', '__repr__', '__rfloordiv__', '__rlshift__', '__rmod__', '__rmul__', '__ror__', '__round__', '__rpow__', '__rrshift__', '__rshift__', '__rsub__', '__rtruediv__', '__rxor__', '__setattr__', '__sizeof__', '__str__', '__sub__', '__subclasshook__', '__truediv__', '__trunc__', '__xor__', 'bit_length', 'conjugate', 'denominator', 'from_bytes', 'imag', 'numerator', 'real', 'to_bytes']\n",
      "1\n",
      "1\n",
      "3\n",
      "1\n"
     ]
    }
   ],
   "source": [
    "a = 1\n",
    "print(type(a))\n",
    "print(dir(int))\n",
    "print(a.__repr__())\n",
    "#print(a.__dict__) # такого нет\n",
    "print(a.__int__())\n",
    "print(a.__add__(2))\n",
    "print(a)"
   ]
  },
  {
   "cell_type": "code",
   "execution_count": 108,
   "metadata": {},
   "outputs": [
    {
     "name": "stdout",
     "output_type": "stream",
     "text": [
      "2\n",
      "<class '__main__.add'>\n",
      "<class '__main__.add'>\n",
      "<class 'int'>\n",
      "5\n",
      "\n",
      "2\n",
      "<class '__main__.add'>\n",
      "<class 'int'>\n",
      "3\n",
      "<class '__main__.add'>\n",
      "<class 'int'>\n"
     ]
    },
    {
     "ename": "TypeError",
     "evalue": "'int' object is not callable",
     "output_type": "error",
     "traceback": [
      "\u001b[1;31m---------------------------------------------------------------------------\u001b[0m",
      "\u001b[1;31mTypeError\u001b[0m                                 Traceback (most recent call last)",
      "\u001b[1;32m<ipython-input-108-8d944d8188a6>\u001b[0m in \u001b[0;36m<module>\u001b[1;34m\u001b[0m\n\u001b[0;32m     14\u001b[0m \u001b[0mprint\u001b[0m\u001b[1;33m(\u001b[0m\u001b[0madd\u001b[0m\u001b[1;33m(\u001b[0m\u001b[1;36m2\u001b[0m\u001b[1;33m)\u001b[0m\u001b[1;33m)\u001b[0m\u001b[1;33m\u001b[0m\u001b[1;33m\u001b[0m\u001b[0m\n\u001b[0;32m     15\u001b[0m \u001b[0mprint\u001b[0m\u001b[1;33m(\u001b[0m\u001b[0madd\u001b[0m\u001b[1;33m(\u001b[0m\u001b[1;36m2\u001b[0m\u001b[1;33m)\u001b[0m\u001b[1;33m(\u001b[0m\u001b[1;36m1\u001b[0m\u001b[1;33m)\u001b[0m\u001b[1;33m)\u001b[0m\u001b[1;33m\u001b[0m\u001b[1;33m\u001b[0m\u001b[0m\n\u001b[1;32m---> 16\u001b[1;33m \u001b[0mprint\u001b[0m\u001b[1;33m(\u001b[0m\u001b[0madd\u001b[0m\u001b[1;33m(\u001b[0m\u001b[1;36m1\u001b[0m\u001b[1;33m)\u001b[0m\u001b[1;33m(\u001b[0m\u001b[1;36m2\u001b[0m\u001b[1;33m)\u001b[0m\u001b[1;33m(\u001b[0m\u001b[1;36m3\u001b[0m\u001b[1;33m)\u001b[0m\u001b[1;33m)\u001b[0m \u001b[1;31m# 6\u001b[0m\u001b[1;33m\u001b[0m\u001b[1;33m\u001b[0m\u001b[0m\n\u001b[0m\u001b[0;32m     17\u001b[0m \u001b[0mprint\u001b[0m\u001b[1;33m(\u001b[0m\u001b[0madd\u001b[0m\u001b[1;33m(\u001b[0m\u001b[1;36m1\u001b[0m\u001b[1;33m)\u001b[0m\u001b[1;33m(\u001b[0m\u001b[1;36m2\u001b[0m\u001b[1;33m)\u001b[0m\u001b[1;33m(\u001b[0m\u001b[1;36m3\u001b[0m\u001b[1;33m)\u001b[0m\u001b[1;33m(\u001b[0m\u001b[1;36m4\u001b[0m\u001b[1;33m)\u001b[0m\u001b[1;33m)\u001b[0m \u001b[1;31m# 10\u001b[0m\u001b[1;33m\u001b[0m\u001b[1;33m\u001b[0m\u001b[0m\n\u001b[0;32m     18\u001b[0m \u001b[0mprint\u001b[0m\u001b[1;33m(\u001b[0m\u001b[0madd\u001b[0m\u001b[1;33m(\u001b[0m\u001b[1;36m1\u001b[0m\u001b[1;33m)\u001b[0m\u001b[1;33m(\u001b[0m\u001b[1;36m2\u001b[0m\u001b[1;33m)\u001b[0m\u001b[1;33m(\u001b[0m\u001b[1;36m3\u001b[0m\u001b[1;33m)\u001b[0m\u001b[1;33m(\u001b[0m\u001b[1;36m4\u001b[0m\u001b[1;33m)\u001b[0m\u001b[1;33m(\u001b[0m\u001b[1;36m5\u001b[0m\u001b[1;33m)\u001b[0m\u001b[1;33m)\u001b[0m \u001b[1;31m# 15\u001b[0m\u001b[1;33m\u001b[0m\u001b[1;33m\u001b[0m\u001b[0m\n",
      "\u001b[1;31mTypeError\u001b[0m: 'int' object is not callable"
     ]
    }
   ],
   "source": [
    "class add(int):\n",
    "    def __call__(self, value):\n",
    "        print(type(self))\n",
    "        self += value\n",
    "        print(type(self))\n",
    "        return self\n",
    "    \n",
    "addTwo = add(2)\n",
    "print(addTwo)\n",
    "print(type(addTwo))\n",
    "print(addTwo(3))\n",
    "print()\n",
    "\n",
    "print(add(2))\n",
    "print(add(2)(1))\n",
    "print(add(1)(2)(3)) # 6\n",
    "print(add(1)(2)(3)(4)) # 10\n",
    "print(add(1)(2)(3)(4)(5)) # 15"
   ]
  },
  {
   "cell_type": "markdown",
   "metadata": {},
   "source": [
    "Готовое решение:"
   ]
  },
  {
   "cell_type": "code",
   "execution_count": 28,
   "metadata": {},
   "outputs": [
    {
     "name": "stdout",
     "output_type": "stream",
     "text": [
      "2\n",
      "7\n",
      "<class '__main__.add'>\n",
      "5\n",
      "<class '__main__.add'>\n",
      "<class '__main__.add'>\n",
      "10\n",
      "2\n",
      "<class '__main__.add'>\n",
      "3\n",
      "<class '__main__.add'>\n",
      "<class '__main__.add'>\n",
      "6\n",
      "<class '__main__.add'>\n",
      "<class '__main__.add'>\n",
      "<class '__main__.add'>\n",
      "10\n",
      "<class '__main__.add'>\n",
      "<class '__main__.add'>\n",
      "<class '__main__.add'>\n",
      "<class '__main__.add'>\n",
      "15\n"
     ]
    }
   ],
   "source": [
    "class add(int):\n",
    "    def __call__(self, value):\n",
    "        #print(type(self))\n",
    "        return add(self + value)\n",
    "    \n",
    "addTwo = add(2)\n",
    "print(addTwo) # 2\n",
    "print(addTwo + 5) # 7\n",
    "print(addTwo(3)) # 5\n",
    "print(addTwo(3)(5)) # 10\n",
    "\n",
    "print(add(2)) # 2\n",
    "print(add(2)(1)) # 3\n",
    "print(add(1)(2)(3)) # 6\n",
    "print(add(1)(2)(3)(4)) # 10\n",
    "print(add(1)(2)(3)(4)(5)) # 15"
   ]
  },
  {
   "cell_type": "code",
   "execution_count": 114,
   "metadata": {},
   "outputs": [
    {
     "name": "stdout",
     "output_type": "stream",
     "text": [
      "construct\n"
     ]
    },
    {
     "ename": "TypeError",
     "evalue": "object.__init__() takes exactly one argument (the instance to initialize)",
     "output_type": "error",
     "traceback": [
      "\u001b[1;31m---------------------------------------------------------------------------\u001b[0m",
      "\u001b[1;31mTypeError\u001b[0m                                 Traceback (most recent call last)",
      "\u001b[1;32m<ipython-input-114-d986cbf04183>\u001b[0m in \u001b[0;36m<module>\u001b[1;34m\u001b[0m\n\u001b[0;32m      9\u001b[0m         \u001b[1;32mreturn\u001b[0m \u001b[0mself\u001b[0m\u001b[1;33m\u001b[0m\u001b[1;33m\u001b[0m\u001b[0m\n\u001b[0;32m     10\u001b[0m \u001b[1;33m\u001b[0m\u001b[0m\n\u001b[1;32m---> 11\u001b[1;33m \u001b[0mprint\u001b[0m\u001b[1;33m(\u001b[0m\u001b[0madd\u001b[0m\u001b[1;33m(\u001b[0m\u001b[1;36m2\u001b[0m\u001b[1;33m)\u001b[0m\u001b[1;33m)\u001b[0m\u001b[1;33m\u001b[0m\u001b[1;33m\u001b[0m\u001b[0m\n\u001b[0m\u001b[0;32m     12\u001b[0m \u001b[0mprint\u001b[0m\u001b[1;33m(\u001b[0m\u001b[0madd\u001b[0m\u001b[1;33m(\u001b[0m\u001b[1;36m2\u001b[0m\u001b[1;33m)\u001b[0m\u001b[1;33m(\u001b[0m\u001b[1;36m1\u001b[0m\u001b[1;33m)\u001b[0m\u001b[1;33m)\u001b[0m\u001b[1;33m\u001b[0m\u001b[1;33m\u001b[0m\u001b[0m\n\u001b[0;32m     13\u001b[0m \u001b[0mprint\u001b[0m\u001b[1;33m(\u001b[0m\u001b[0madd\u001b[0m\u001b[1;33m(\u001b[0m\u001b[1;36m1\u001b[0m\u001b[1;33m)\u001b[0m\u001b[1;33m(\u001b[0m\u001b[1;36m2\u001b[0m\u001b[1;33m)\u001b[0m\u001b[1;33m(\u001b[0m\u001b[1;36m3\u001b[0m\u001b[1;33m)\u001b[0m\u001b[1;33m)\u001b[0m \u001b[1;31m# 6\u001b[0m\u001b[1;33m\u001b[0m\u001b[1;33m\u001b[0m\u001b[0m\n",
      "\u001b[1;32m<ipython-input-114-d986cbf04183>\u001b[0m in \u001b[0;36m__init__\u001b[1;34m(self, value)\u001b[0m\n\u001b[0;32m      2\u001b[0m     \u001b[1;32mdef\u001b[0m \u001b[0m__init__\u001b[0m\u001b[1;33m(\u001b[0m\u001b[0mself\u001b[0m\u001b[1;33m,\u001b[0m \u001b[0mvalue\u001b[0m\u001b[1;33m)\u001b[0m\u001b[1;33m:\u001b[0m\u001b[1;33m\u001b[0m\u001b[1;33m\u001b[0m\u001b[0m\n\u001b[0;32m      3\u001b[0m         \u001b[0mprint\u001b[0m\u001b[1;33m(\u001b[0m\u001b[1;34m'construct'\u001b[0m\u001b[1;33m)\u001b[0m\u001b[1;33m\u001b[0m\u001b[1;33m\u001b[0m\u001b[0m\n\u001b[1;32m----> 4\u001b[1;33m         \u001b[0msuper\u001b[0m\u001b[1;33m(\u001b[0m\u001b[0madd\u001b[0m\u001b[1;33m,\u001b[0m \u001b[0mself\u001b[0m\u001b[1;33m)\u001b[0m\u001b[1;33m.\u001b[0m\u001b[0m__init__\u001b[0m\u001b[1;33m(\u001b[0m\u001b[0mvalue\u001b[0m\u001b[1;33m)\u001b[0m\u001b[1;33m\u001b[0m\u001b[1;33m\u001b[0m\u001b[0m\n\u001b[0m\u001b[0;32m      5\u001b[0m \u001b[1;33m\u001b[0m\u001b[0m\n\u001b[0;32m      6\u001b[0m     \u001b[1;32mdef\u001b[0m \u001b[0m__call__\u001b[0m\u001b[1;33m(\u001b[0m\u001b[0mself\u001b[0m\u001b[1;33m,\u001b[0m \u001b[0mvalue\u001b[0m\u001b[1;33m)\u001b[0m\u001b[1;33m:\u001b[0m\u001b[1;33m\u001b[0m\u001b[1;33m\u001b[0m\u001b[0m\n",
      "\u001b[1;31mTypeError\u001b[0m: object.__init__() takes exactly one argument (the instance to initialize)"
     ]
    }
   ],
   "source": [
    "class add(int):\n",
    "    def __init__(self, value):\n",
    "        print('construct')\n",
    "        super(add, self).__init__(value)\n",
    "    \n",
    "    def __call__(self, value):\n",
    "        self += value\n",
    "        print(type(self))\n",
    "        return self\n",
    "\n",
    "print(add(2))\n",
    "print(add(2)(1))\n",
    "print(add(1)(2)(3)) # 6\n",
    "print(add(1)(2)(3)(4)) # 10\n",
    "print(add(1)(2)(3)(4)(5)) # 15"
   ]
  },
  {
   "cell_type": "code",
   "execution_count": null,
   "metadata": {},
   "outputs": [],
   "source": []
  },
  {
   "cell_type": "code",
   "execution_count": null,
   "metadata": {},
   "outputs": [],
   "source": []
  },
  {
   "cell_type": "markdown",
   "metadata": {},
   "source": [
    "### Study: Function object with binded argument\n",
    "\n",
    "I want is a function object with the parameter has been binded, let's name it c, not just '11'\n",
    "\n",
    "Довольно странный запрос. Почему автор запроса хочет, чтобы фнкция с() вызывалась без аргументов? "
   ]
  },
  {
   "cell_type": "code",
   "execution_count": 9,
   "metadata": {},
   "outputs": [
    {
     "data": {
      "text/plain": [
       "11"
      ]
     },
     "execution_count": 9,
     "metadata": {},
     "output_type": "execute_result"
    }
   ],
   "source": [
    "def a(p):\n",
    "    return p + 1\n",
    "\n",
    "def b(func, p):\n",
    "    return func(p)\n",
    "\n",
    "b(a, 10)"
   ]
  },
  {
   "cell_type": "markdown",
   "metadata": {},
   "source": [
    "К странному запросу усть следующие 3 решения, которые делают одно и то же, а именно предоставляют бесполезную функцию, которая ничего не принимает, а просто возвращает 11:"
   ]
  },
  {
   "cell_type": "code",
   "execution_count": 28,
   "metadata": {},
   "outputs": [
    {
     "name": "stdout",
     "output_type": "stream",
     "text": [
      "11\n"
     ]
    }
   ],
   "source": [
    "def a(p):\n",
    "    return p + 1\n",
    "\n",
    "def b(func, p):\n",
    "    return lambda: func(p)\n",
    "\n",
    "c = b(a, 10)\n",
    "\n",
    "print(c())"
   ]
  },
  {
   "cell_type": "code",
   "execution_count": 30,
   "metadata": {},
   "outputs": [
    {
     "name": "stdout",
     "output_type": "stream",
     "text": [
      "11\n"
     ]
    }
   ],
   "source": [
    "def a(p):\n",
    "    return p + 1\n",
    "\n",
    "def b(func, p):\n",
    "    return func(p)\n",
    "\n",
    "с = lambda: b(a, 10)\n",
    "    \n",
    "print(c())"
   ]
  },
  {
   "cell_type": "code",
   "execution_count": 29,
   "metadata": {},
   "outputs": [
    {
     "name": "stdout",
     "output_type": "stream",
     "text": [
      "11\n"
     ]
    }
   ],
   "source": [
    "def a(p):\n",
    "    return p + 1\n",
    "\n",
    "def b(func, p):\n",
    "    return func(p)\n",
    "\n",
    "def c():\n",
    "    return b(a, 10)\n",
    "    \n",
    "print(c())"
   ]
  },
  {
   "cell_type": "markdown",
   "metadata": {},
   "source": [
    "Решения, имеющее больше смысла:"
   ]
  },
  {
   "cell_type": "markdown",
   "metadata": {},
   "source": [
    "You can create another function that calls the your function with the parameter that you want:"
   ]
  },
  {
   "cell_type": "code",
   "execution_count": 41,
   "metadata": {},
   "outputs": [
    {
     "name": "stdout",
     "output_type": "stream",
     "text": [
      "11\n",
      "14\n"
     ]
    }
   ],
   "source": [
    "def old_function(x, y):\n",
    "    return x + y\n",
    "\n",
    "def bound_parameter_function(x):\n",
    "    return old_function(x, 1)\n",
    "\n",
    "print(bound_parameter_function(10))\n",
    "print(bound_parameter_function(13))"
   ]
  },
  {
   "cell_type": "markdown",
   "metadata": {},
   "source": [
    "Of course, if you need to create such functions on the fly, you can write another function that does the job for you:"
   ]
  },
  {
   "cell_type": "code",
   "execution_count": 42,
   "metadata": {},
   "outputs": [
    {
     "name": "stdout",
     "output_type": "stream",
     "text": [
      "11\n",
      "14\n"
     ]
    }
   ],
   "source": [
    "def parameter_bound(f, parm_to_bind):\n",
    "    def ret(y):\n",
    "        return f(parm_to_bind, y)\n",
    "    return ret\n",
    "\n",
    "new_func = parameter_bound(old_function, 1)\n",
    "print(new_func(10))\n",
    "print(new_func(13))"
   ]
  },
  {
   "cell_type": "markdown",
   "metadata": {},
   "source": [
    "Переписав подход выше конкрестно под функцию сложения, и заменив неговорящее название с на add1, я получила функцию сложения с только одним связанным праметром, что уже имеет больше смысла, чем первые три решения:"
   ]
  },
  {
   "cell_type": "code",
   "execution_count": 39,
   "metadata": {},
   "outputs": [
    {
     "name": "stdout",
     "output_type": "stream",
     "text": [
      "11\n",
      "14\n"
     ]
    }
   ],
   "source": [
    "def add_parameter_bound(param_to_bind):\n",
    "    return lambda x: x + param_to_bind\n",
    "\n",
    "add1 = add_parameter_bound(1)\n",
    "print(add1(10))\n",
    "print(add1(13))"
   ]
  },
  {
   "cell_type": "markdown",
   "metadata": {},
   "source": [
    "Более улучшенная версия последних трёх решений, это использование встроенных в Python интрументов:"
   ]
  },
  {
   "cell_type": "markdown",
   "metadata": {},
   "source": [
    "The functools module provides the partial function which can give you curried functions. It can be used to apply some parameters to functions, and leave the rest to be supplied:"
   ]
  },
  {
   "cell_type": "code",
   "execution_count": 43,
   "metadata": {},
   "outputs": [
    {
     "name": "stdout",
     "output_type": "stream",
     "text": [
      "11\n",
      "14\n"
     ]
    }
   ],
   "source": [
    "import functools\n",
    "\n",
    "def add(a, b):\n",
    "    return a + b\n",
    "\n",
    "add1 = functools.partial(add, 1)\n",
    "print(add1(10))\n",
    "print(add1(13))"
   ]
  },
  {
   "cell_type": "markdown",
   "metadata": {},
   "source": [
    "Но так как фунция add - это просто фунция для сложения, то зачем нам её определять, можно же просто сделать через оператор +:"
   ]
  },
  {
   "cell_type": "code",
   "execution_count": 51,
   "metadata": {},
   "outputs": [
    {
     "name": "stdout",
     "output_type": "stream",
     "text": [
      "functools.partial(<function <lambda> at 0x0000000004E0C268>)\n",
      "11\n",
      "14\n"
     ]
    }
   ],
   "source": [
    "import functools\n",
    "\n",
    "add1 = functools.partial(lambda x: x + 1)\n",
    "print(add1)\n",
    "print(add1(10))\n",
    "print(add1(13))"
   ]
  },
  {
   "cell_type": "markdown",
   "metadata": {},
   "source": [
    "Но так как в предыдущем решении нет связывамого аргумента, то использование functools.partial вообще бесполезно. В таком случае можно сделать просто так:"
   ]
  },
  {
   "cell_type": "code",
   "execution_count": 54,
   "metadata": {},
   "outputs": [
    {
     "name": "stdout",
     "output_type": "stream",
     "text": [
      "<function <lambda> at 0x00000000050C61E0>\n",
      "11\n",
      "14\n",
      "15\n"
     ]
    }
   ],
   "source": [
    "add1 = lambda x: x + 1\n",
    "\n",
    "print(add1)\n",
    "print(add1(10))\n",
    "print(add1(13))\n",
    "print(add1(14))"
   ]
  },
  {
   "cell_type": "markdown",
   "metadata": {},
   "source": [
    "А так как по PEP8, на сколько я помню, такое определение функций: add1 = lambda x: x + 1, не рекомендуется, то, значит, надо сделать так:"
   ]
  },
  {
   "cell_type": "code",
   "execution_count": 50,
   "metadata": {},
   "outputs": [
    {
     "name": "stdout",
     "output_type": "stream",
     "text": [
      "11\n",
      "14\n",
      "15\n"
     ]
    }
   ],
   "source": [
    "def add1(x):\n",
    "    return x + 1\n",
    "\n",
    "print(add1(10))\n",
    "print(add1(13))\n",
    "print(add1(14))"
   ]
  },
  {
   "cell_type": "markdown",
   "metadata": {},
   "source": [
    "### Build a pile of Cubes\n",
    "\n",
    "6 kyu"
   ]
  },
  {
   "cell_type": "raw",
   "metadata": {},
   "source": [
    "Your task is to construct a building which will be a pile of n cubes. The cube at the bottom will have a volume of n^3, the cube above will have volume of (n-1)^3 and so on until the top which will have a volume of 1^3.\n",
    "\n",
    "You are given the total volume m of the building. Being given m can you find the number n of cubes you will have to build?\n",
    "\n",
    "The parameter of the function findNb (find_nb, find-nb, findNb) will be an integer m and you have to return the integer n such as n^3 + (n-1)^3 + ... + 1^3 = m if such a n exists or -1 if there is no such n.\n",
    "\n",
    "Examples:\n",
    "findNb(1071225) --> 45\n",
    "findNb(91716553919377) --> -1\n",
    "mov rdi, 1071225\n",
    "call find_nb            ; rax <-- 45\n",
    "\n",
    "mov rdi, 91716553919377\n",
    "call find_nb            ; rax <-- -1"
   ]
  },
  {
   "cell_type": "markdown",
   "metadata": {},
   "source": [
    "Готовое решение: "
   ]
  },
  {
   "cell_type": "code",
   "execution_count": 25,
   "metadata": {},
   "outputs": [
    {
     "name": "stdout",
     "output_type": "stream",
     "text": [
      "2\n",
      "45\n",
      "-1\n"
     ]
    }
   ],
   "source": [
    "def find_nb(m):\n",
    "    n = -1\n",
    "    while m:\n",
    "        n += 1\n",
    "        m -= n * n * n\n",
    "        if m < 0:\n",
    "            return -1\n",
    "    return n\n",
    "\n",
    "print(find_nb(9))\n",
    "print(find_nb(1071225))\n",
    "print(find_nb(91716553919377))"
   ]
  },
  {
   "cell_type": "markdown",
   "metadata": {},
   "source": [
    "### Проверка работы условия с целыми числами"
   ]
  },
  {
   "cell_type": "code",
   "execution_count": 19,
   "metadata": {},
   "outputs": [
    {
     "name": "stdout",
     "output_type": "stream",
     "text": [
      "False\n"
     ]
    }
   ],
   "source": [
    "n = 0\n",
    "if n:\n",
    "    print(True)\n",
    "else:\n",
    "    print(False)"
   ]
  },
  {
   "cell_type": "code",
   "execution_count": 20,
   "metadata": {},
   "outputs": [
    {
     "name": "stdout",
     "output_type": "stream",
     "text": [
      "True\n"
     ]
    }
   ],
   "source": [
    "n = 1\n",
    "if n:\n",
    "    print(True)\n",
    "else:\n",
    "    print(False)"
   ]
  },
  {
   "cell_type": "code",
   "execution_count": 21,
   "metadata": {},
   "outputs": [
    {
     "name": "stdout",
     "output_type": "stream",
     "text": [
      "True\n"
     ]
    }
   ],
   "source": [
    "n = -1\n",
    "if n:\n",
    "    print(True)\n",
    "else:\n",
    "    print(False)"
   ]
  },
  {
   "cell_type": "markdown",
   "metadata": {},
   "source": [
    "20200608  \n",
    "### Welcome!\n",
    "8 kyu"
   ]
  },
  {
   "cell_type": "markdown",
   "metadata": {},
   "source": [
    "Your start-up's BA has told marketing that your website has a large audience in Scandinavia and surrounding countries. Marketing thinks it would be great to welcome visitors to the site in their own language. Luckily you already use an API that detects the user's location, so this is an easy win.\n",
    "\n",
    "The Task\n",
    "\n",
    "Think of a way to store the languages as a database (eg an object). The languages are listed below so you can copy and paste!\n",
    "Write a 'welcome' function that takes a parameter 'language' (always a string), and returns a greeting - if you have it in your database. It should default to English if the language is not in the database, or in the event of an invalid input.\n",
    "\n",
    "The Database\n",
    "\n",
    "'english': 'Welcome',  \n",
    "'czech': 'Vitejte',  \n",
    "'danish': 'Velkomst',  \n",
    "'dutch': 'Welkom',  \n",
    "'estonian': 'Tere tulemast',  \n",
    "'finnish': 'Tervetuloa',  \n",
    "'flemish': 'Welgekomen',  \n",
    "'french': 'Bienvenue',  \n",
    "'german': 'Willkommen',  \n",
    "'irish': 'Failte',  \n",
    "'italian': 'Benvenuto',  \n",
    "'latvian': 'Gaidits',  \n",
    "'lithuanian': 'Laukiamas',  \n",
    "'polish': 'Witamy',  \n",
    "'spanish': 'Bienvenido',  \n",
    "'swedish': 'Valkommen',  \n",
    "'welsh': 'Croeso'\n",
    "\n",
    "Possible invalid inputs include:\n",
    "\n",
    "IP_ADDRESS_INVALID - not a valid ipv4 or ipv6 ip address\n",
    "IP_ADDRESS_NOT_FOUND - ip address not in the database\n",
    "IP_ADDRESS_REQUIRED - no ip address was supplied"
   ]
  },
  {
   "cell_type": "code",
   "execution_count": null,
   "metadata": {},
   "outputs": [],
   "source": [
    "lang_db = {\n",
    "    'english': 'Welcome',\n",
    "    'czech': 'Vitejte',\n",
    "    'danish': 'Velkomst',\n",
    "    'dutch': 'Welkom',\n",
    "    'estonian': 'Tere tulemast',\n",
    "    'finnish': 'Tervetuloa',\n",
    "    'flemish': 'Welgekomen',\n",
    "    'french': 'Bienvenue',\n",
    "    'german': 'Willkommen',\n",
    "    'irish': 'Failte',\n",
    "    'italian': 'Benvenuto',\n",
    "    'latvian': 'Gaidits',\n",
    "    'lithuanian': 'Laukiamas',\n",
    "    'polish': 'Witamy',\n",
    "    'spanish': 'Bienvenido',\n",
    "    'swedish': 'Valkommen',\n",
    "    'welsh': 'Croeso'\n",
    "}\n",
    "\n",
    "def greet(language):\n",
    "    return lang_db.get(language, lang_db['english'])"
   ]
  },
  {
   "cell_type": "markdown",
   "metadata": {},
   "source": [
    "### Enumerable Magic #5- True for Just One?\n",
    "\n",
    "7 kyu  \n",
    "\n",
    "Create a function called one that accepts two params:  \n",
    " \n",
    "a sequence  \n",
    "a function  \n",
    "and returns true only if the function in the params returns true for exactly one (1) item in the sequence.  \n",
    "\n",
    "Example  \n",
    "one([1, 3, 5, 6, 99, 1, 3], bigger_than_ten) -> true  \n",
    "one([1, 3, 5, 6, 99, 88, 3], bigger_than_ten) -> false  \n",
    "one([1, 3, 5, 6, 5, 1, 3], bigger_than_ten) -> false  "
   ]
  },
  {
   "cell_type": "markdown",
   "metadata": {},
   "source": [
    "__Моё решение:__"
   ]
  },
  {
   "cell_type": "code",
   "execution_count": 10,
   "metadata": {},
   "outputs": [
    {
     "name": "stdout",
     "output_type": "stream",
     "text": [
      "False\n",
      "True\n"
     ]
    }
   ],
   "source": [
    "def one(sq, fun): \n",
    "    pos_ans = 0\n",
    "    for el in sq:\n",
    "        if fun(el):\n",
    "            pos_ans += 1\n",
    "        if pos_ans > 1:\n",
    "            break\n",
    "            \n",
    "    #return True if pos_ans == 1 else False\n",
    "    return pos_ans == 1\n",
    "\n",
    "less_than_9 = lambda x: x<9\n",
    "greater_than_9 = lambda x: x>9\n",
    "print(one([1, 3, 5, 6, 99, 1, 3], less_than_9))\n",
    "print(one([1, 3, 5, 6, 99, 1, 3], greater_than_9))"
   ]
  },
  {
   "cell_type": "markdown",
   "metadata": {},
   "source": [
    "__Не мои решения:__"
   ]
  },
  {
   "cell_type": "markdown",
   "metadata": {},
   "source": [
    "__№1__"
   ]
  },
  {
   "cell_type": "code",
   "execution_count": 6,
   "metadata": {},
   "outputs": [
    {
     "name": "stdout",
     "output_type": "stream",
     "text": [
      "False\n",
      "True\n"
     ]
    }
   ],
   "source": [
    "def one(sq, fun): \n",
    "    return sum(map(fun,sq))==1\n",
    "\n",
    "less_than_9 = lambda x: x<9\n",
    "greater_than_9 = lambda x: x>9\n",
    "print(one([1, 3, 5, 6, 99, 1, 3], less_than_9))\n",
    "print(one([1, 3, 5, 6, 99, 1, 3], greater_than_9))"
   ]
  },
  {
   "cell_type": "markdown",
   "metadata": {},
   "source": [
    "Разберу по частям:"
   ]
  },
  {
   "cell_type": "code",
   "execution_count": 30,
   "metadata": {},
   "outputs": [
    {
     "name": "stdout",
     "output_type": "stream",
     "text": [
      "[True, True, True, True, False, True, True]\n"
     ]
    }
   ],
   "source": [
    "sq = [1, 3, 5, 6, 99, 1, 3]\n",
    "fun = lambda x: x<9\n",
    "\n",
    "print(list(map(fun,sq)))"
   ]
  },
  {
   "cell_type": "markdown",
   "metadata": {},
   "source": [
    "Оказывается функция sum может суммировать коллекции с булевыми значениями:"
   ]
  },
  {
   "cell_type": "code",
   "execution_count": 8,
   "metadata": {},
   "outputs": [
    {
     "data": {
      "text/plain": [
       "2"
      ]
     },
     "execution_count": 8,
     "metadata": {},
     "output_type": "execute_result"
    }
   ],
   "source": [
    "sum((True, True, False))"
   ]
  },
  {
   "cell_type": "code",
   "execution_count": 9,
   "metadata": {},
   "outputs": [
    {
     "data": {
      "text/plain": [
       "3"
      ]
     },
     "execution_count": 9,
     "metadata": {},
     "output_type": "execute_result"
    }
   ],
   "source": [
    "sum((True, True, True))"
   ]
  },
  {
   "cell_type": "markdown",
   "metadata": {},
   "source": [
    "20200609  \n",
    "__№2__"
   ]
  },
  {
   "cell_type": "code",
   "execution_count": 11,
   "metadata": {},
   "outputs": [
    {
     "name": "stdout",
     "output_type": "stream",
     "text": [
      "False\n",
      "True\n"
     ]
    }
   ],
   "source": [
    "from typing import Iterable, Callable\n",
    "\n",
    "\n",
    "def one(sq: Iterable[int], fun: Callable[[int], bool]) -> bool:\n",
    "    sq_f = (True for s in sq if fun(s))\n",
    "    return next(sq_f, False) and not next(sq_f, False)\n",
    "\n",
    "less_than_9 = lambda x: x<9\n",
    "greater_than_9 = lambda x: x>9\n",
    "print(one([1, 3, 5, 6, 99, 1, 3], less_than_9))\n",
    "print(one([1, 3, 5, 6, 99, 1, 3], greater_than_9))"
   ]
  },
  {
   "cell_type": "markdown",
   "metadata": {},
   "source": [
    "Разберу по частям:"
   ]
  },
  {
   "cell_type": "code",
   "execution_count": 12,
   "metadata": {},
   "outputs": [
    {
     "name": "stdout",
     "output_type": "stream",
     "text": [
      "False\n",
      "True\n"
     ]
    }
   ],
   "source": [
    "def one(sq, fun):\n",
    "    sq_f = (True for s in sq if fun(s))\n",
    "    return next(sq_f, False) and not next(sq_f, False)\n",
    "\n",
    "less_than_9 = lambda x: x<9\n",
    "greater_than_9 = lambda x: x>9\n",
    "print(one([1, 3, 5, 6, 99, 1, 3], less_than_9))\n",
    "print(one([1, 3, 5, 6, 99, 1, 3], greater_than_9))"
   ]
  },
  {
   "cell_type": "code",
   "execution_count": 21,
   "metadata": {},
   "outputs": [
    {
     "name": "stdout",
     "output_type": "stream",
     "text": [
      "<generator object one.<locals>.<genexpr> at 0x00000000052AEA98>\n",
      "True True\n",
      "False\n",
      "<generator object one.<locals>.<genexpr> at 0x00000000052AEA98>\n",
      "True False\n",
      "True\n"
     ]
    }
   ],
   "source": [
    "def one(sq, fun):\n",
    "    sq_f = (True for s in sq if fun(s))\n",
    "    print(sq_f)\n",
    "    #print(list(sq_f))\n",
    "    a = next(sq_f, False)\n",
    "    b = next(sq_f, False)\n",
    "    print(a, b)\n",
    "    return a and not b\n",
    "\n",
    "less_than_9 = lambda x: x<9\n",
    "greater_than_9 = lambda x: x>9\n",
    "print(one([1, 3, 5, 6, 99, 1, 3], less_than_9)) # [True, True, True, True, True, True]\n",
    "print(one([1, 3, 5, 6, 99, 1, 3], greater_than_9)) # [True]"
   ]
  },
  {
   "cell_type": "markdown",
   "metadata": {},
   "source": [
    "__№3__"
   ]
  },
  {
   "cell_type": "code",
   "execution_count": 22,
   "metadata": {},
   "outputs": [
    {
     "name": "stdout",
     "output_type": "stream",
     "text": [
      "False\n",
      "True\n"
     ]
    }
   ],
   "source": [
    "from itertools import islice\n",
    "\n",
    "def one(sq, fun):\n",
    "    return len(list(islice(filter(fun, sq), 2))) == 1\n",
    "\n",
    "less_than_9 = lambda x: x<9\n",
    "greater_than_9 = lambda x: x>9\n",
    "print(one([1, 3, 5, 6, 99, 1, 3], less_than_9))\n",
    "print(one([1, 3, 5, 6, 99, 1, 3], greater_than_9))"
   ]
  },
  {
   "cell_type": "markdown",
   "metadata": {},
   "source": [
    "Разберу по частям:"
   ]
  },
  {
   "cell_type": "code",
   "execution_count": 26,
   "metadata": {},
   "outputs": [
    {
     "name": "stdout",
     "output_type": "stream",
     "text": [
      "<filter object at 0x00000000052D4BE0>\n",
      "<itertools.islice object at 0x00000000052D2958>\n",
      "[1, 3]\n"
     ]
    }
   ],
   "source": [
    "sq = [1, 3, 5, 6, 99, 1, 3]\n",
    "fun = lambda x: x<9\n",
    "\n",
    "print(filter(fun, sq))\n",
    "print(islice(filter(fun, sq), 2))\n",
    "print(list(islice(filter(fun, sq), 2)))"
   ]
  },
  {
   "cell_type": "markdown",
   "metadata": {},
   "source": [
    "В принципе, можно было бы обойтись и без islice, но тогда памяти, возможно придется выделить больше, чем для списка из 2 (максимум) элементов, т.к. результат работы filter может быть очень большим (конечно, в зависимости от длины и содержания изначальной последовательности sq):"
   ]
  },
  {
   "cell_type": "code",
   "execution_count": 28,
   "metadata": {},
   "outputs": [
    {
     "name": "stdout",
     "output_type": "stream",
     "text": [
      "<filter object at 0x00000000052D4FD0>\n",
      "<itertools.islice object at 0x00000000052D2A98>\n",
      "[1, 3, 5, 6, 1, 3]\n"
     ]
    }
   ],
   "source": [
    "sq = [1, 3, 5, 6, 99, 1, 3]\n",
    "fun = lambda x: x<9\n",
    "\n",
    "print(filter(fun, sq))\n",
    "print(islice(filter(fun, sq), 2))\n",
    "print(islice(filter(fun, sq), 2))\n",
    "print(list(filter(fun, sq)))"
   ]
  },
  {
   "cell_type": "markdown",
   "metadata": {},
   "source": [
    "Но конечно приминение здесь islice гарантирут, что из filter будут извлечено только 2 элемента.\n",
    "\n",
    "Но вообще это решение №3 не кажется супер эффективным, т.к. islice будет хотеть вытащить 2 элемента из filter, и может так оказаться, что для этого придётся обойти всю последовательность sq, т.к. остальные элементы sq б. давать False. В прочем в моём решение также может потребоваться обойти всю последовательность, так что эфективность этого решения и моего в этом смысле одинаковая. "
   ]
  },
  {
   "cell_type": "markdown",
   "metadata": {},
   "source": [
    "__№4__"
   ]
  },
  {
   "cell_type": "code",
   "execution_count": 3,
   "metadata": {},
   "outputs": [
    {
     "name": "stdout",
     "output_type": "stream",
     "text": [
      "<map object at 0x0000000005027390>\n",
      "False\n"
     ]
    }
   ],
   "source": [
    "def one(xs, f):\n",
    "    fxs = map(f, xs)\n",
    "    print(fxs)\n",
    "    #print(list(fxs))  # это влияет на ответ, т.к. генератор доходит до конца\n",
    "    return True in fxs and True not in fxs\n",
    "\n",
    "sq = [1, 3, 5, 6, 99, 1, 3]\n",
    "fun = lambda x: x>9\n",
    "print(one(sq, fun))"
   ]
  },
  {
   "cell_type": "markdown",
   "metadata": {},
   "source": [
    "Очень необычная контрукция: True in fxs and True not in fxs, где fxc - это map oblect. Не понимаю как она работает."
   ]
  },
  {
   "cell_type": "code",
   "execution_count": 7,
   "metadata": {},
   "outputs": [
    {
     "name": "stdout",
     "output_type": "stream",
     "text": [
      "<map object at 0x0000000005027A58>\n",
      "True\n",
      "[False, False]\n"
     ]
    }
   ],
   "source": [
    "sq = [1, 3, 5, 6, 99, 1, 3]\n",
    "fun = lambda x: x>9\n",
    "\n",
    "fxs = map(fun, sq)\n",
    "print(fxs)\n",
    "#print(list(fxs))  # [False, False, False, False, True, False, False] надо закомментить, т.к. генератор ззакончитася \n",
    "print(True in fxs)\n",
    "print(list(fxs))   # т.е. после выр-я True in fxs генератор выдаст не первый элемент, а элемент после первого True"
   ]
  },
  {
   "cell_type": "markdown",
   "metadata": {},
   "source": [
    "Ну теперь понятнее. Получается, чтобы выполнить оператор in, генератор проходит все элементы, пока не встретит элемент True, и при переходе к оператору not in, генератор выдаст следующий после найденного с помощью in элемента элемент, т.е. последовательность не будет просматриваться с начала.  \n",
    "\n",
    "Что касается оператора not in, то я не совсем понимаю как именно он работает. Вероятно, последовательность (или часть последовательности) просматривается до конца пока утверждение not in истинное. в результате not in вёрнёт true, но если встречается элемент, для которого утверждение not in становится ложным (в данном случае элемент True), то not in вернёт false. Попробую это проверить: "
   ]
  },
  {
   "cell_type": "code",
   "execution_count": 8,
   "metadata": {},
   "outputs": [
    {
     "name": "stdout",
     "output_type": "stream",
     "text": [
      "[False, False, False, False, True, False, False, True, False, False]\n",
      "False\n",
      "True\n",
      "[]\n"
     ]
    }
   ],
   "source": [
    "# Тест 1\n",
    "sq = [1, 3, 5, 6, 99, 1, 3, 10, 2, 3]\n",
    "fun = lambda x: x>9\n",
    "\n",
    "fxs = map(fun, sq)\n",
    "#print(list(fxs))\n",
    "# fxs содержит [False, False, False, False, True, False, False, True, False, False]\n",
    "print(True in fxs)\n",
    "print(True not in fxs)\n",
    "print(list(fxs))"
   ]
  },
  {
   "cell_type": "code",
   "execution_count": 10,
   "metadata": {},
   "outputs": [
    {
     "name": "stdout",
     "output_type": "stream",
     "text": [
      "True\n",
      "True\n",
      "[]\n"
     ]
    }
   ],
   "source": [
    "# Тест 2\n",
    "sq = [1, 3, 5, 6, 99, 1, 3, 2, 2]\n",
    "fun = lambda x: x>9\n",
    "\n",
    "fxs = map(fun, sq)\n",
    "# print(list(fxs))\n",
    "# fxs содержит [False, False, False, False, True, False, False, False, False]\n",
    "print(True in fxs)\n",
    "print(True not in fxs)\n",
    "print(list(fxs))"
   ]
  },
  {
   "cell_type": "markdown",
   "metadata": {},
   "source": [
    "Т.о., действительно, как только для какого-то элемента not in стало ложным, был возвращён false и просмотр окончен. \n",
    "\n",
    "Получается, по эффективности это решение похоже на моё решение и предыдущее, т.к. в каких-то тестовых случаях они не требуют полное прохождение по последовательности, и используют совсем немного доп. памяти. "
   ]
  },
  {
   "cell_type": "markdown",
   "metadata": {},
   "source": [
    "20200623  \n",
    "__№5__"
   ]
  },
  {
   "cell_type": "code",
   "execution_count": 30,
   "metadata": {},
   "outputs": [
    {
     "name": "stdout",
     "output_type": "stream",
     "text": [
      "False\n"
     ]
    }
   ],
   "source": [
    "def one(sq, fun):\n",
    "    it = filter(fun, sq)\n",
    "    return next(it, None) != next(it, None) is None\n",
    "\n",
    "sq = [1, 3, 5, 6, 99, 1, 3]\n",
    "fun = lambda x: x>9\n",
    "fun = lambda x: x<9\n",
    "print(one(sq, fun))"
   ]
  },
  {
   "cell_type": "markdown",
   "metadata": {},
   "source": [
    "В целом я пока не очень понимаю, что же тут происходит, именно этим на данный момент мне этот пример и интересен."
   ]
  },
  {
   "cell_type": "markdown",
   "metadata": {},
   "source": [
    "Так, а с такими данными тоже вернёт False?"
   ]
  },
  {
   "cell_type": "code",
   "execution_count": 31,
   "metadata": {},
   "outputs": [
    {
     "name": "stdout",
     "output_type": "stream",
     "text": [
      "False\n"
     ]
    }
   ],
   "source": [
    "def one(sq, fun):\n",
    "    it = filter(fun, sq)\n",
    "    return next(it, None) != next(it, None) is None\n",
    "\n",
    "sq = [1, 1, 1, 1, 1, 1, 1]\n",
    "fun = lambda x: x<9\n",
    "print(one(sq, fun))"
   ]
  },
  {
   "cell_type": "markdown",
   "metadata": {},
   "source": [
    "Да, тоже вернула False."
   ]
  },
  {
   "cell_type": "markdown",
   "metadata": {},
   "source": [
    "Если верить интернету, то != и is имеют одинаковый приоритет, получается, здесь они должны выполняться по порядку. Это также подтвержается проставлением скобок вокруг is, например, со скобками для второй функции (x<9) б. другой результат, а именно True:"
   ]
  },
  {
   "cell_type": "code",
   "execution_count": 22,
   "metadata": {},
   "outputs": [
    {
     "name": "stdout",
     "output_type": "stream",
     "text": [
      "True\n"
     ]
    }
   ],
   "source": [
    "def one(sq, fun):\n",
    "    it = filter(fun, sq)\n",
    "    return next(it, None) != (next(it, None) is None)\n",
    "\n",
    "sq = [1, 3, 5, 6, 99, 1, 3]\n",
    "fun = lambda x: x>9\n",
    "fun = lambda x: x<9\n",
    "print(one(sq, fun))"
   ]
  },
  {
   "cell_type": "markdown",
   "metadata": {},
   "source": [
    "Поехали дальше..."
   ]
  },
  {
   "cell_type": "code",
   "execution_count": 26,
   "metadata": {},
   "outputs": [
    {
     "name": "stdout",
     "output_type": "stream",
     "text": [
      "99\n"
     ]
    },
    {
     "ename": "StopIteration",
     "evalue": "",
     "output_type": "error",
     "traceback": [
      "\u001b[1;31m---------------------------------------------------------------------------\u001b[0m",
      "\u001b[1;31mStopIteration\u001b[0m                             Traceback (most recent call last)",
      "\u001b[1;32m<ipython-input-26-a37df78cd6a6>\u001b[0m in \u001b[0;36m<module>\u001b[1;34m\u001b[0m\n\u001b[0;32m      3\u001b[0m \u001b[0mit\u001b[0m \u001b[1;33m=\u001b[0m \u001b[0mfilter\u001b[0m\u001b[1;33m(\u001b[0m\u001b[0mfun\u001b[0m\u001b[1;33m,\u001b[0m \u001b[0msq\u001b[0m\u001b[1;33m)\u001b[0m\u001b[1;33m\u001b[0m\u001b[1;33m\u001b[0m\u001b[0m\n\u001b[0;32m      4\u001b[0m \u001b[0mprint\u001b[0m\u001b[1;33m(\u001b[0m\u001b[0mnext\u001b[0m\u001b[1;33m(\u001b[0m\u001b[0mit\u001b[0m\u001b[1;33m)\u001b[0m\u001b[1;33m)\u001b[0m\u001b[1;33m\u001b[0m\u001b[1;33m\u001b[0m\u001b[0m\n\u001b[1;32m----> 5\u001b[1;33m \u001b[0mprint\u001b[0m\u001b[1;33m(\u001b[0m\u001b[0mnext\u001b[0m\u001b[1;33m(\u001b[0m\u001b[0mit\u001b[0m\u001b[1;33m)\u001b[0m\u001b[1;33m)\u001b[0m\u001b[1;33m\u001b[0m\u001b[1;33m\u001b[0m\u001b[0m\n\u001b[0m",
      "\u001b[1;31mStopIteration\u001b[0m: "
     ]
    }
   ],
   "source": [
    "sq = [1, 3, 5, 6, 99, 1, 3]\n",
    "fun = lambda x: x>9\n",
    "it = filter(fun, sq)\n",
    "print(next(it))\n",
    "print(next(it))"
   ]
  },
  {
   "cell_type": "code",
   "execution_count": 27,
   "metadata": {},
   "outputs": [
    {
     "name": "stdout",
     "output_type": "stream",
     "text": [
      "99\n",
      "None\n"
     ]
    }
   ],
   "source": [
    "sq = [1, 3, 5, 6, 99, 1, 3]\n",
    "fun = lambda x: x>9\n",
    "it = filter(fun, sq)\n",
    "print(next(it))\n",
    "print(next(it, None)) # теперь нет StopIteration"
   ]
  },
  {
   "cell_type": "markdown",
   "metadata": {},
   "source": [
    "Для другой функции (x<9):"
   ]
  },
  {
   "cell_type": "code",
   "execution_count": 37,
   "metadata": {},
   "outputs": [
    {
     "name": "stdout",
     "output_type": "stream",
     "text": [
      "1\n",
      "1\n"
     ]
    }
   ],
   "source": [
    "sq = [1, 3, 5, 6, 99, 1, 3]\n",
    "fun = lambda x: x<9\n",
    "it = filter(fun, sq)\n",
    "print(next(it))\n",
    "print(next(it))"
   ]
  },
  {
   "cell_type": "code",
   "execution_count": 38,
   "metadata": {},
   "outputs": [
    {
     "name": "stdout",
     "output_type": "stream",
     "text": [
      "1\n",
      "1\n"
     ]
    }
   ],
   "source": [
    "sq = [1, 1, 5, 6, 99, 1, 3]\n",
    "fun = lambda x: x<9\n",
    "it = filter(fun, sq)\n",
    "print(next(it))\n",
    "print(next(it))"
   ]
  },
  {
   "cell_type": "markdown",
   "metadata": {},
   "source": [
    "А если теперь влоб посмотреть, что возвращают операторы != и is в данной ситуации?"
   ]
  },
  {
   "cell_type": "code",
   "execution_count": 34,
   "metadata": {},
   "outputs": [
    {
     "name": "stdout",
     "output_type": "stream",
     "text": [
      "True\n"
     ]
    }
   ],
   "source": [
    "print(1 != None)"
   ]
  },
  {
   "cell_type": "code",
   "execution_count": 35,
   "metadata": {},
   "outputs": [
    {
     "name": "stdout",
     "output_type": "stream",
     "text": [
      "True\n"
     ]
    }
   ],
   "source": [
    "print(1 != None is None)"
   ]
  },
  {
   "cell_type": "markdown",
   "metadata": {},
   "source": [
    "Почему так?!"
   ]
  },
  {
   "cell_type": "code",
   "execution_count": 36,
   "metadata": {},
   "outputs": [
    {
     "name": "stdout",
     "output_type": "stream",
     "text": [
      "False\n"
     ]
    }
   ],
   "source": [
    "print(True is None)"
   ]
  },
  {
   "cell_type": "code",
   "execution_count": 40,
   "metadata": {},
   "outputs": [
    {
     "name": "stdout",
     "output_type": "stream",
     "text": [
      "False\n"
     ]
    }
   ],
   "source": [
    "print(False is None)"
   ]
  },
  {
   "cell_type": "code",
   "execution_count": 41,
   "metadata": {},
   "outputs": [
    {
     "name": "stdout",
     "output_type": "stream",
     "text": [
      "False\n"
     ]
    }
   ],
   "source": [
    "print(1 != 1)"
   ]
  },
  {
   "cell_type": "code",
   "execution_count": 42,
   "metadata": {},
   "outputs": [
    {
     "name": "stdout",
     "output_type": "stream",
     "text": [
      "True\n"
     ]
    }
   ],
   "source": [
    "print(1 != 3)"
   ]
  },
  {
   "cell_type": "code",
   "execution_count": 43,
   "metadata": {},
   "outputs": [
    {
     "name": "stdout",
     "output_type": "stream",
     "text": [
      "True\n"
     ]
    }
   ],
   "source": [
    "print(None is None)"
   ]
  },
  {
   "cell_type": "code",
   "execution_count": 44,
   "metadata": {},
   "outputs": [
    {
     "name": "stdout",
     "output_type": "stream",
     "text": [
      "False\n"
     ]
    }
   ],
   "source": [
    "print(1 != 3 is None)"
   ]
  },
  {
   "cell_type": "code",
   "execution_count": 45,
   "metadata": {},
   "outputs": [
    {
     "name": "stdout",
     "output_type": "stream",
     "text": [
      "True\n"
     ]
    }
   ],
   "source": [
    "print(1 != (3 is None)) # это случай с проставленными скобками"
   ]
  },
  {
   "cell_type": "code",
   "execution_count": 46,
   "metadata": {},
   "outputs": [
    {
     "name": "stdout",
     "output_type": "stream",
     "text": [
      "False\n"
     ]
    }
   ],
   "source": [
    "print(True is None)"
   ]
  },
  {
   "cell_type": "code",
   "execution_count": 48,
   "metadata": {},
   "outputs": [
    {
     "name": "stdout",
     "output_type": "stream",
     "text": [
      "False\n"
     ]
    }
   ],
   "source": [
    "print(1 != True)"
   ]
  },
  {
   "cell_type": "code",
   "execution_count": 49,
   "metadata": {},
   "outputs": [
    {
     "name": "stdout",
     "output_type": "stream",
     "text": [
      "True\n"
     ]
    }
   ],
   "source": [
    "print(1 == True)"
   ]
  },
  {
   "cell_type": "code",
   "execution_count": 50,
   "metadata": {},
   "outputs": [
    {
     "name": "stdout",
     "output_type": "stream",
     "text": [
      "False\n"
     ]
    }
   ],
   "source": [
    "print(2 == True)"
   ]
  },
  {
   "cell_type": "code",
   "execution_count": 51,
   "metadata": {},
   "outputs": [
    {
     "name": "stdout",
     "output_type": "stream",
     "text": [
      "False\n"
     ]
    }
   ],
   "source": [
    "print(2 == False)"
   ]
  },
  {
   "cell_type": "code",
   "execution_count": 52,
   "metadata": {},
   "outputs": [
    {
     "name": "stdout",
     "output_type": "stream",
     "text": [
      "True\n"
     ]
    }
   ],
   "source": [
    "print(0 == False)"
   ]
  },
  {
   "cell_type": "code",
   "execution_count": 53,
   "metadata": {},
   "outputs": [
    {
     "name": "stdout",
     "output_type": "stream",
     "text": [
      "False\n"
     ]
    }
   ],
   "source": [
    "print(1 is True)"
   ]
  },
  {
   "cell_type": "code",
   "execution_count": 54,
   "metadata": {},
   "outputs": [
    {
     "name": "stdout",
     "output_type": "stream",
     "text": [
      "False\n"
     ]
    }
   ],
   "source": [
    "print(1 is None)"
   ]
  },
  {
   "cell_type": "code",
   "execution_count": 1,
   "metadata": {},
   "outputs": [
    {
     "data": {
      "text/plain": [
       "False"
      ]
     },
     "execution_count": 1,
     "metadata": {},
     "output_type": "execute_result"
    }
   ],
   "source": [
    "'1' == True"
   ]
  },
  {
   "cell_type": "code",
   "execution_count": 2,
   "metadata": {},
   "outputs": [
    {
     "data": {
      "text/plain": [
       "False"
      ]
     },
     "execution_count": 2,
     "metadata": {},
     "output_type": "execute_result"
    }
   ],
   "source": [
    "'True' == True"
   ]
  },
  {
   "cell_type": "markdown",
   "metadata": {},
   "source": [
    "20200628"
   ]
  },
  {
   "cell_type": "code",
   "execution_count": 3,
   "metadata": {},
   "outputs": [
    {
     "data": {
      "text/plain": [
       "True"
      ]
     },
     "execution_count": 3,
     "metadata": {},
     "output_type": "execute_result"
    }
   ],
   "source": [
    "1 != None is None"
   ]
  },
  {
   "cell_type": "markdown",
   "metadata": {},
   "source": [
    "https://qna.habr.com/q/798347:  \n",
    "В этом примере используется цепочка сравнений (chaining). Запись эквивалентна\n",
    "1 != None and None is None\n",
    "Out: True\n",
    "\n",
    "Ну вот и весь ответ - chaining! Поискала в официальных доках:  \n",
    "Note that comparisons, membership tests, and identity tests, all have the same precedence and have a left-to-right chaining feature as described in the Comparisons section.  \n",
    "\n",
    "6.10. Comparisons  \n",
    "Unlike C, all comparison operations in Python have the same priority, which is lower than that of any arithmetic, shifting or bitwise operation. Also unlike C, expressions like a < b < c have the interpretation that is conventional in mathematics:\n",
    "\n",
    "comparison    ::=  or_expr (comp_operator or_expr)*  \n",
    "comp_operator ::=  \"<\" | \">\" | \"==\" | \">=\" | \"<=\" | \"!=\"\n",
    "                   | \"is\" [\"not\"] | [\"not\"] \"in\"\n",
    "                   \n",
    "Comparisons yield boolean values: True or False.\n",
    "\n",
    "Comparisons can be chained arbitrarily, e.g., x < y <= z is equivalent to x < y and y <= z, except that y is evaluated only once (but in both cases z is not evaluated at all when x < y is found to be false).\n",
    "\n",
    "Formally, if a, b, c, …, y, z are expressions and op1, op2, …, opN are comparison operators, then a op1 b op2 c ... y opN z is equivalent to a op1 b and b op2 c and ... y opN z, except that each expression is evaluated at most once.\n",
    "\n",
    "Note that a op1 b op2 c doesn’t imply any kind of comparison between a and c, so that, e.g., x < y > z is perfectly legal (though perhaps not pretty)."
   ]
  },
  {
   "cell_type": "code",
   "execution_count": null,
   "metadata": {},
   "outputs": [],
   "source": []
  },
  {
   "cell_type": "markdown",
   "metadata": {},
   "source": [
    "Chaning вроде не работает для and и or:"
   ]
  },
  {
   "cell_type": "code",
   "execution_count": 21,
   "metadata": {},
   "outputs": [
    {
     "data": {
      "text/plain": [
       "True"
      ]
     },
     "execution_count": 21,
     "metadata": {},
     "output_type": "execute_result"
    }
   ],
   "source": [
    "True or False and True"
   ]
  },
  {
   "cell_type": "code",
   "execution_count": 23,
   "metadata": {},
   "outputs": [
    {
     "data": {
      "text/plain": [
       "False"
      ]
     },
     "execution_count": 23,
     "metadata": {},
     "output_type": "execute_result"
    }
   ],
   "source": [
    "(True or False) and (False and True)"
   ]
  },
  {
   "cell_type": "markdown",
   "metadata": {},
   "source": [
    "### Encrypt this!\n",
    "6 kyu  \n",
    "\n",
    "Description:  \n",
    "Encrypt this!  \n",
    "\n",
    "You want to create secret messages which can be deciphered by the Decipher this! kata. Here are the conditions:  \n",
    "\n",
    "Your message is a string containing space separated words.\n",
    "You need to encrypt each word in the message using the following rules:\n",
    "The first letter needs to be converted to its ASCII code.\n",
    "The second letter needs to be switched with the last letter\n",
    "Keepin' it simple: There are no special characters in input.\n",
    "\n",
    "Examples:  \n",
    "encrypt_this(\"Hello\") == \"72olle\"  \n",
    "encrypt_this(\"good\") == \"103doo\"  \n",
    "encrypt_this(\"hello world\") == \"104olle 119drlo\"  "
   ]
  },
  {
   "cell_type": "code",
   "execution_count": 5,
   "metadata": {},
   "outputs": [
    {
     "data": {
      "text/plain": [
       "65"
      ]
     },
     "execution_count": 5,
     "metadata": {},
     "output_type": "execute_result"
    }
   ],
   "source": [
    "ord('A')"
   ]
  },
  {
   "cell_type": "markdown",
   "metadata": {},
   "source": [
    "Моё решение:"
   ]
  },
  {
   "cell_type": "code",
   "execution_count": 25,
   "metadata": {},
   "outputs": [
    {
     "name": "stdout",
     "output_type": "stream",
     "text": [
      "72olle\n",
      "103doo\n",
      "104olle 119drlo\n",
      "65 119esi 111dl 111lw 108dvei 105n 97n 111ka\n"
     ]
    }
   ],
   "source": [
    "def encrypt_this(text):\n",
    "    def encrypt_word(word):\n",
    "        if len(word) == 1:\n",
    "            return str(ord(word[0]))\n",
    "        elif len(word) == 2:\n",
    "            return str(ord(word[0])) + word[1]\n",
    "        else:\n",
    "            return str(ord(word[0])) + word[-1] + word[2:-1] + word[1]\n",
    "        \n",
    "    return ' '.join(map(encrypt_word, text.split()))\n",
    "\n",
    "print(encrypt_this(\"Hello\")) # \"72olle\"\n",
    "print(encrypt_this(\"good\")) # \"103doo\"\n",
    "print(encrypt_this(\"hello world\")) # \"104olle 119drlo\"\n",
    "print(encrypt_this('A wise old owl lived in an oak')) # 65 119esi 111dl 111lw 108dvei 105n 97n 111ka"
   ]
  },
  {
   "cell_type": "markdown",
   "metadata": {},
   "source": [
    "Подсмотрела чужоё решение, поменяю своё, заимствовав интересную идею:"
   ]
  },
  {
   "cell_type": "code",
   "execution_count": 18,
   "metadata": {},
   "outputs": [
    {
     "name": "stdout",
     "output_type": "stream",
     "text": [
      "72olle\n",
      "103doo\n",
      "104olle 119drlo\n",
      "65 119esi 111dl 111lw 108dvei 105nn 97nn 111ka\n"
     ]
    }
   ],
   "source": [
    "def encrypt_this(text):\n",
    "    def encrypt_word(word):\n",
    "        word = list(word)\n",
    "        word[0] = str(ord(word[0]))\n",
    "\n",
    "        if len(word) > 2:\n",
    "            word[1], word[-1] = word[-1], word[1]\n",
    "\n",
    "        return ''.join(word)\n",
    "        \n",
    "    return ' '.join(map(encrypt_word, text.split()))\n",
    "\n",
    "print(encrypt_this(\"Hello\")) # \"72olle\"\n",
    "print(encrypt_this(\"good\")) # \"103doo\"\n",
    "print(encrypt_this(\"hello world\")) # \"104olle 119drlo\"\n",
    "print('65 119esi 111dl 111lw 108dvei 105nn 97nn 111ka')"
   ]
  },
  {
   "cell_type": "markdown",
   "metadata": {},
   "source": [
    "Чужие итересные решения:"
   ]
  },
  {
   "cell_type": "markdown",
   "metadata": {},
   "source": [
    "__№1__"
   ]
  },
  {
   "cell_type": "code",
   "execution_count": 19,
   "metadata": {},
   "outputs": [],
   "source": [
    "def encrypt_this(text):\n",
    "    result = []\n",
    "    \n",
    "    for word in text.split():\n",
    "        # turn word into a list\n",
    "        word = list(word)\n",
    "        \n",
    "        # replace first letter with ascii code\n",
    "        word[0] = str(ord(word[0]))\n",
    "        \n",
    "        # switch 2nd and last letters\n",
    "        if len(word) > 2:\n",
    "            word[1], word[-1] = word[-1], word[1]\n",
    "        \n",
    "        # add to results\n",
    "        result.append(''.join(word))\n",
    "    \n",
    "    return ' '.join(result)"
   ]
  },
  {
   "cell_type": "markdown",
   "metadata": {},
   "source": [
    "__№2__\n",
    "\n",
    "Чем-то похоже на моё, но компактнее."
   ]
  },
  {
   "cell_type": "code",
   "execution_count": null,
   "metadata": {},
   "outputs": [],
   "source": [
    "def process_word(word):\n",
    "    return str(ord(word[0])) + ((word[-1] + word[2:-1] + word[1]) if len(word) > 2 else word[1:])\n",
    "\n",
    "def encrypt_this(text):\n",
    "    return \" \".join(map(process_word, text.split()))"
   ]
  },
  {
   "cell_type": "markdown",
   "metadata": {},
   "source": [
    "__№3__"
   ]
  },
  {
   "cell_type": "code",
   "execution_count": 26,
   "metadata": {},
   "outputs": [
    {
     "name": "stdout",
     "output_type": "stream",
     "text": [
      "72olle\n",
      "103doo\n",
      "104olle 119drlo\n",
      "65 119esi 111dl 111lw 108dvei 105n 97n 111ka\n"
     ]
    }
   ],
   "source": [
    "def swapper(w):\n",
    "    return w if len(w)<2 else w[-1] + w[1:-1] + w[0]\n",
    "\n",
    "def encrypt_this(s):\n",
    "    return ' '.join(w if not w else str(ord(w[0])) + swapper(w[1:]) for w in s.split())\n",
    "\n",
    "print(encrypt_this(\"Hello\")) # \"72olle\"\n",
    "print(encrypt_this(\"good\")) # \"103doo\"\n",
    "print(encrypt_this(\"hello world\")) # \"104olle 119drlo\"\n",
    "print(encrypt_this('A wise old owl lived in an oak')) # 65 119esi 111dl 111lw 108dvei 105n 97n 111ka"
   ]
  },
  {
   "cell_type": "markdown",
   "metadata": {},
   "source": [
    "Уберу лишний, как мне кажется, if:"
   ]
  },
  {
   "cell_type": "code",
   "execution_count": 27,
   "metadata": {},
   "outputs": [
    {
     "name": "stdout",
     "output_type": "stream",
     "text": [
      "72olle\n",
      "103doo\n",
      "104olle 119drlo\n",
      "65 119esi 111dl 111lw 108dvei 105n 97n 111ka\n"
     ]
    }
   ],
   "source": [
    "def swapper(w):\n",
    "    return w if len(w)<2 else w[-1] + w[1:-1] + w[0]\n",
    "\n",
    "def encrypt_this(s):\n",
    "    return ' '.join(str(ord(w[0])) + swapper(w[1:]) for w in s.split())\n",
    "\n",
    "print(encrypt_this(\"Hello\")) # \"72olle\"\n",
    "print(encrypt_this(\"good\")) # \"103doo\"\n",
    "print(encrypt_this(\"hello world\")) # \"104olle 119drlo\"\n",
    "print(encrypt_this('A wise old owl lived in an oak')) # 65 119esi 111dl 111lw 108dvei 105n 97n 111ka"
   ]
  },
  {
   "cell_type": "markdown",
   "metadata": {},
   "source": [
    "Вроде не сломалось."
   ]
  },
  {
   "cell_type": "markdown",
   "metadata": {},
   "source": [
    "20200629"
   ]
  },
  {
   "cell_type": "markdown",
   "metadata": {},
   "source": [
    "### Getting along with Integer Partitions\n",
    "\n",
    "4 kyu\n",
    "\n",
    "From wikipedia https://en.wikipedia.org/wiki/Partition_(number_theory)\n",
    "\n",
    "In number theory and combinatorics, a partition of a positive integer n, also called an integer partition, is a way of writing n as a sum of positive integers. Two sums that differ only in the order of their summands are considered the same partition.\n",
    "\n",
    "For example, 4 can be partitioned in five distinct ways:\n",
    "\n",
    "4, 3 + 1, 2 + 2, 2 + 1 + 1, 1 + 1 + 1 + 1.\n",
    "\n",
    "We can write:\n",
    "\n",
    "enum(4) -> [[4],[3,1],[2,2],[2,1,1],[1,1,1,1]] and\n",
    "\n",
    "enum(5) -> [[5],[4,1],[3,2],[3,1,1],[2,2,1],[2,1,1,1],[1,1,1,1,1]].\n",
    "\n",
    "The number of parts in a partition grows very fast. For n = 50 number of parts is 204226, for 80 it is 15,796,476 It would be too long to tests answers with arrays of such size. So our task is the following:\n",
    "\n",
    "1 - n being given (n integer, 1 <= n <= 50) calculate enum(n) ie the partition of n. We will obtain something like that:\n",
    "enum(n) -> [[n],[n-1,1],[n-2,2],...,[1,1,...,1]] (order of array and sub-arrays doesn't matter). This part is not tested.\n",
    "\n",
    "2 - For each sub-array of enum(n) calculate its product. If n = 5 we'll obtain after removing duplicates and sorting:\n",
    "\n",
    "prod(5) -> [1,2,3,4,5,6]\n",
    "\n",
    "prod(8) -> [1, 2, 3, 4, 5, 6, 7, 8, 9, 10, 12, 15, 16, 18]\n",
    "\n",
    "If n = 40 prod(n) has a length of 2699 hence the tests will not verify such arrays. Instead our task number 3 is:\n",
    "\n",
    "3 - return the range, the average and the median of prod(n) in the following form (example for n = 5):\n",
    "\n",
    "\"Range: 5 Average: 3.50 Median: 3.50\"\n",
    "\n",
    "Range is an integer, Average and Median are float numbers rounded to two decimal places (\".2f\" in some languages).\n",
    "\n",
    "Notes: Range : difference between the highest and lowest values.\n",
    "\n",
    "Mean or Average : To calculate mean, add together all of the numbers in a set and then divide the sum by the total count of numbers.\n",
    "\n",
    "Median : The median is the number separating the higher half of a data sample from the lower half. (https://en.wikipedia.org/wiki/Median)\n",
    "\n",
    "Hints: Try to optimize your program to avoid timing out.\n",
    "\n",
    "Memoization can be helpful but it is not mandatory for being successful."
   ]
  },
  {
   "cell_type": "code",
   "execution_count": null,
   "metadata": {},
   "outputs": [],
   "source": [
    "def partition(n):\n",
    "    prod = [None for i in range(n)]\n",
    "    print(prod)\n",
    "    \n",
    "    def part(n):\n",
    "        if n == 1:\n",
    "            \n",
    "        # \n",
    "        for  summand1 in range(n // 2):\n",
    "            if not prod[summand1]:\n",
    "                part(summand1)\n",
    "            \n",
    "    \n",
    "    \n"
   ]
  },
  {
   "cell_type": "markdown",
   "metadata": {},
   "source": [
    "### Parabolic Arc Length\n",
    "https://www.codewars.com/kata/562e274ceca15ca6e70000d3  \n",
    "6 kyu  \n",
    "\n",
    "We want to approximate the length of a curve representing a function y = f(x) with a <= x <= b. First, we split the interval [a, b] into n sub-intervals with widths h1, h2, ... , hn by defining points x1, x2 , ... , xn-1 between a and b. This defines points P0, P1, P2, ... , Pn on the curve whose x-coordinates are a, x1, x2 , ... , xn-1, b and y-coordinates f(a), f(x1), ..., f(xn-1), f(b) . By connecting these points, we obtain a polygonal path approximating the curve.\n",
    "\n",
    "Our task is to approximate the length of a parabolic arc representing the curve y = x * x with x in the interval [0, 1]. We will take a common step h between the points xi: h1, h2, ... , hn = h = 1/n and we will consider the points P0, P1, P2, ... , Pn on the curve. The coordinates of each Pi are (xi, yi = xi * xi).\n",
    "\n",
    "The function len_curve (or similar in other languages) takes n as parameter (number of sub-intervals) and returns the length of the curve. You can truncate it to 9 decimal places."
   ]
  },
  {
   "cell_type": "markdown",
   "metadata": {},
   "source": [
    "__My solutions:__"
   ]
  },
  {
   "cell_type": "markdown",
   "metadata": {},
   "source": [
    "__#1__"
   ]
  },
  {
   "cell_type": "code",
   "execution_count": 20,
   "metadata": {},
   "outputs": [
    {
     "name": "stdout",
     "output_type": "stream",
     "text": [
      "0\n",
      "1.414213562\n",
      "1.478197397\n"
     ]
    }
   ],
   "source": [
    "def len_curve(n):\n",
    "    if n == 0:\n",
    "        return 0\n",
    "    \n",
    "    res = 0\n",
    "    # Interval [a, b]: [0, 1]\n",
    "    Pprev = 0          # a * a = 0 * 0 = 0\n",
    "    hh = (1 / n) ** 2  # h * h (square of cathetus)\n",
    "    for i in range(1, n + 1):\n",
    "        Pnext = (i / n) ** 2  # (a + ((b - a) / n) * i) ** 2, a == 0, b == 1\n",
    "        res += ((Pnext - Pprev) ** 2 + hh) ** 0.5\n",
    "        Pprev = Pnext\n",
    "    return round(res, 9)\n",
    "        \n",
    "print(len_curve(0))\n",
    "print(len_curve(1))\n",
    "print(len_curve(10))"
   ]
  },
  {
   "cell_type": "code",
   "execution_count": 3,
   "metadata": {},
   "outputs": [
    {
     "ename": "TypeError",
     "evalue": "'float' object cannot be interpreted as an integer",
     "output_type": "error",
     "traceback": [
      "\u001b[1;31m---------------------------------------------------------------------------\u001b[0m",
      "\u001b[1;31mTypeError\u001b[0m                                 Traceback (most recent call last)",
      "\u001b[1;32m<ipython-input-3-d0fa77bd4356>\u001b[0m in \u001b[0;36m<module>\u001b[1;34m\u001b[0m\n\u001b[1;32m----> 1\u001b[1;33m \u001b[0mrange\u001b[0m\u001b[1;33m(\u001b[0m\u001b[1;36m1.5\u001b[0m\u001b[1;33m,\u001b[0m \u001b[1;36m2\u001b[0m\u001b[1;33m,\u001b[0m \u001b[1;36m0.1\u001b[0m\u001b[1;33m)\u001b[0m\u001b[1;33m\u001b[0m\u001b[1;33m\u001b[0m\u001b[0m\n\u001b[0m",
      "\u001b[1;31mTypeError\u001b[0m: 'float' object cannot be interpreted as an integer"
     ]
    }
   ],
   "source": [
    "range(1.5, 2, 0.1) # TypeError: 'float' object cannot be interpreted as an integer"
   ]
  },
  {
   "cell_type": "markdown",
   "metadata": {},
   "source": [
    "Видимо, range работает только с целыми аргументами и возвращает только целые числа."
   ]
  },
  {
   "cell_type": "markdown",
   "metadata": {},
   "source": [
    "__#2__"
   ]
  },
  {
   "cell_type": "code",
   "execution_count": 28,
   "metadata": {},
   "outputs": [
    {
     "name": "stdout",
     "output_type": "stream",
     "text": [
      "1.414213562\n",
      "1.478197397\n"
     ]
    }
   ],
   "source": [
    "def len_curve(n):\n",
    "    deltaP = ((2 * i - 1) / n ** 2 for i in range(1, n + 1)) # (i / n) ** 2 - ((i - 1) / n) ** 2\n",
    "    hh = (1 / n) ** 2\n",
    "    return round(sum(map(lambda x: (x ** 2 + hh) ** 0.5, deltaP)), 9)\n",
    "\n",
    "        \n",
    "print(len_curve(1))\n",
    "print(len_curve(10))"
   ]
  },
  {
   "cell_type": "code",
   "execution_count": 27,
   "metadata": {},
   "outputs": [
    {
     "name": "stdout",
     "output_type": "stream",
     "text": [
      "1.414213562\n",
      "1.478197397\n"
     ]
    }
   ],
   "source": [
    "def len_curve(n):\n",
    "    hh = (1 / n) ** 2\n",
    "    return round(sum(map(lambda x: (x ** 2 + hh) ** 0.5, ((2 * i - 1) / n ** 2 for i in range(1, n + 1)))), 9)\n",
    "\n",
    "        \n",
    "print(len_curve(1))\n",
    "print(len_curve(10))"
   ]
  },
  {
   "cell_type": "markdown",
   "metadata": {},
   "source": [
    "__Other people's solutions:__"
   ]
  },
  {
   "cell_type": "markdown",
   "metadata": {},
   "source": [
    "__#1__"
   ]
  },
  {
   "cell_type": "code",
   "execution_count": null,
   "metadata": {},
   "outputs": [],
   "source": [
    "from math import sqrt\n",
    "def len_curve(n):\n",
    "    return round(sum(sqrt((2*k+1)**2/n/n + 1) for k in range(n))/n, 9)"
   ]
  },
  {
   "cell_type": "markdown",
   "metadata": {},
   "source": [
    "__#2__ Using numpy!!!"
   ]
  },
  {
   "cell_type": "code",
   "execution_count": null,
   "metadata": {},
   "outputs": [],
   "source": [
    "from numpy import diff, hypot, linspace\n",
    "\n",
    "def len_curve(n):\n",
    "    ys = linspace(0, 1, n+1) ** 2\n",
    "    return round(hypot(1/n, diff(ys)).sum(), 9)"
   ]
  },
  {
   "cell_type": "markdown",
   "metadata": {},
   "source": [
    "Подсмотрела чужие решения и поняла, что функция map() может быть и лишней в моём решении, а также то, что можно использовать range(n):"
   ]
  },
  {
   "cell_type": "markdown",
   "metadata": {},
   "source": [
    "Но простая смена диапазона на range(n) в данном случае приводит к плохому результату (см. 2-й тест):"
   ]
  },
  {
   "cell_type": "code",
   "execution_count": 247,
   "metadata": {},
   "outputs": [
    {
     "name": "stdout",
     "output_type": "stream",
     "text": [
      "1.414213562\n",
      "1.363987048\n"
     ]
    }
   ],
   "source": [
    "def len_curve(n):\n",
    "    deltaP = ((2 * i - 1) / n ** 2 for i in range(n)) # (i / n) ** 2 - ((i - 1) / n) ** 2\n",
    "    hh = (1 / n) ** 2\n",
    "    return round(sum(map(lambda x: (x ** 2 + hh) ** 0.5, deltaP)), 9)\n",
    "\n",
    "        \n",
    "print(len_curve(1))\n",
    "print(len_curve(10))"
   ]
  },
  {
   "cell_type": "markdown",
   "metadata": {},
   "source": [
    "Поэтому проведу кое-какие \"исследования\":"
   ]
  },
  {
   "cell_type": "code",
   "execution_count": 244,
   "metadata": {},
   "outputs": [
    {
     "data": {
      "text/plain": [
       "[0.01, 0.03, 0.05, 0.07, 0.09, 0.11, 0.13, 0.15, 0.17, 0.19]"
      ]
     },
     "execution_count": 244,
     "metadata": {},
     "output_type": "execute_result"
    }
   ],
   "source": [
    "n = 10\n",
    "list((2 * i - 1) / n ** 2 for i in range(1, n + 1)) # (i/n)**2 - ((i-1)/n)**2"
   ]
  },
  {
   "cell_type": "markdown",
   "metadata": {},
   "source": [
    "Т.к. будем потом возводить в квадрат (по т. Пифагора), то на знак всё равно:"
   ]
  },
  {
   "cell_type": "code",
   "execution_count": 245,
   "metadata": {},
   "outputs": [
    {
     "data": {
      "text/plain": [
       "[-0.01, -0.03, -0.05, -0.07, -0.09, -0.11, -0.13, -0.15, -0.17, -0.19]"
      ]
     },
     "execution_count": 245,
     "metadata": {},
     "output_type": "execute_result"
    }
   ],
   "source": [
    "n = 10\n",
    "list((- 2 * i + 1) / n ** 2 for i in range(1, n + 1)) # ((i-1)/n)**2 - (i/n)**2"
   ]
  },
  {
   "cell_type": "code",
   "execution_count": 246,
   "metadata": {},
   "outputs": [
    {
     "data": {
      "text/plain": [
       "[-0.01, 0.01, 0.03, 0.05, 0.07, 0.09, 0.11, 0.13, 0.15, 0.17]"
      ]
     },
     "execution_count": 246,
     "metadata": {},
     "output_type": "execute_result"
    }
   ],
   "source": [
    "n = 10\n",
    "list((2 * i - 1) / n ** 2 for i in range(n)) # (i/n)**2 - ((i-1)/n)**2"
   ]
  },
  {
   "cell_type": "markdown",
   "metadata": {},
   "source": [
    "Если две соседние точки рассматривать как i/n и (i + 1)/n (а не (i - 1)/n и i/n), то результат тоже плохой:"
   ]
  },
  {
   "cell_type": "code",
   "execution_count": 248,
   "metadata": {},
   "outputs": [
    {
     "data": {
      "text/plain": [
       "[0.03, 0.05, 0.07, 0.09, 0.11, 0.13, 0.15, 0.17, 0.19, 0.21]"
      ]
     },
     "execution_count": 248,
     "metadata": {},
     "output_type": "execute_result"
    }
   ],
   "source": [
    "n = 10\n",
    "list((2 * i + 1) / n ** 2 for i in range(1, n + 1)) # (i/n)**2 - ((i+1)/n)**2"
   ]
  },
  {
   "cell_type": "markdown",
   "metadata": {},
   "source": [
    "Это потому что вычитая из x1 из x0 нужно поменять и range (теперь результат соответствует первому и второму):"
   ]
  },
  {
   "cell_type": "code",
   "execution_count": 249,
   "metadata": {},
   "outputs": [
    {
     "data": {
      "text/plain": [
       "[0.01, 0.03, 0.05, 0.07, 0.09, 0.11, 0.13, 0.15, 0.17, 0.19]"
      ]
     },
     "execution_count": 249,
     "metadata": {},
     "output_type": "execute_result"
    }
   ],
   "source": [
    "n = 10\n",
    "list((2 * i + 1) / n ** 2 for i in range(n)) # (i/n)**2 - ((i+1)/n)**2"
   ]
  },
  {
   "cell_type": "markdown",
   "metadata": {},
   "source": [
    "Теперь перейду к тому, что в моём решении map() лишняя: просто нужно не сначала вычислять в отдельном генераторе deltaP, а потом в функции map() по т. Пифагора считать длину стороны многоугольника, т.е. по сути создать ещё один генератор, а сразу считать длину стороны в первом генераторе. При этом можно использовать результат последнего \"исследования\" по диапазонам и точкам отсчёта, а также ещё немного упростить выражение, вынеся 1/n**2 из квадратного корня и за скобки с суммой:"
   ]
  },
  {
   "cell_type": "code",
   "execution_count": 259,
   "metadata": {},
   "outputs": [
    {
     "name": "stdout",
     "output_type": "stream",
     "text": [
      "1.414213562\n",
      "1.478197397\n"
     ]
    }
   ],
   "source": [
    "from math import sqrt\n",
    "\n",
    "def len_curve(n):\n",
    "    return round(sum(sqrt((2 * i + 1) ** 2 / n ** 2 + 1) for i in range(n)) / n, 9)\n",
    "\n",
    "        \n",
    "print(len_curve(1))\n",
    "print(len_curve(10))"
   ]
  },
  {
   "cell_type": "markdown",
   "metadata": {},
   "source": [
    "### Mexican Wave\n",
    "https://www.codewars.com/kata/58f5c63f1e26ecda7e000029  \n",
    "6 kyu\n",
    "\n",
    "Task\n",
    "In this simple Kata your task is to create a function that turns a string into a Mexican Wave. You will be passed a string and you must return that string in an array where an uppercase letter is a person standing up. \n",
    "\n",
    "Rules\n",
    " 1.  The input string will always be lower case but maybe empty.\n",
    "\n",
    " 2.  If the character in the string is whitespace then pass over it as if it was an empty seat\n",
    "\n",
    "Example\n",
    "wave(\"hello\") => [\"Hello\", \"hEllo\", \"heLlo\", \"helLo\", \"hellO\"]"
   ]
  },
  {
   "cell_type": "code",
   "execution_count": 8,
   "metadata": {},
   "outputs": [
    {
     "name": "stdout",
     "output_type": "stream",
     "text": [
      "['Hello', 'hEllo', 'heLlo', 'helLo', 'hellO']\n",
      "[' Gap ', ' gAp ', ' gaP ']\n"
     ]
    }
   ],
   "source": [
    "def wave(people):\n",
    "    return [people[:i] + char.upper() + people[i + 1:] for i, char in enumerate(people) if not char.isspace()]\n",
    "\n",
    "print(wave('hello'))\n",
    "print(wave(' gap '))"
   ]
  },
  {
   "cell_type": "code",
   "execution_count": 5,
   "metadata": {},
   "outputs": [
    {
     "name": "stdout",
     "output_type": "stream",
     "text": [
      "Help on method_descriptor:\n",
      "\n",
      "isspace(self, /)\n",
      "    Return True if the string is a whitespace string, False otherwise.\n",
      "    \n",
      "    A string is whitespace if all characters in the string are whitespace and there\n",
      "    is at least one character in the string.\n",
      "\n"
     ]
    }
   ],
   "source": [
    "help(str.upper)"
   ]
  },
  {
   "cell_type": "markdown",
   "metadata": {},
   "source": [
    "### Cryptanalysis Word Patterns\n",
    "https://www.codewars.com/kata/5f3142b3a28d9b002ef58f5e  \n",
    "7 kyu\n",
    "\n",
    "In cryptanalysis, words patterns can be a useful tool in cracking simple ciphers.\n",
    "\n",
    "A word pattern is a description of the patterns of letters occurring in a word, where each letter is given an integer code in order of appearance. So the first letter is given the code 0, and second is then assigned 1 if it is different to the first letter or 0 otherwise, and so on.\n",
    "\n",
    "As an example, the word \"hello\" would become \"0.1.2.2.3\". For this task case-sensitivity is ignored, so \"hello\", \"helLo\" and \"heLlo\" will all return the same word pattern.\n",
    "\n",
    "Your task is to return the word pattern for a given word. All words provided will be non-empty strings of alphabetic characters only, i.e. matching the regex \"[a-zA-Z]+\"."
   ]
  },
  {
   "cell_type": "markdown",
   "metadata": {},
   "source": [
    "__My solution:__"
   ]
  },
  {
   "cell_type": "code",
   "execution_count": 16,
   "metadata": {},
   "outputs": [
    {
     "name": "stdout",
     "output_type": "stream",
     "text": [
      "0.1.2.2.3\n",
      "0.1.2.2.3\n"
     ]
    }
   ],
   "source": [
    "def word_pattern(word):\n",
    "    table = dict()\n",
    "    order = 0\n",
    "    res = []\n",
    "    for c in word.lower():\n",
    "        if c not in table:\n",
    "            table[c] = str(order)\n",
    "            order += 1\n",
    "        res.append(table[c])\n",
    "    return '.'.join(res)\n",
    "\n",
    "print(word_pattern(\"hello\"))\n",
    "print(word_pattern(\"helLo\"))"
   ]
  },
  {
   "cell_type": "markdown",
   "metadata": {},
   "source": [
    "### Returning Strings\n",
    "https://www.codewars.com/kata/55a70521798b14d4750000a4  \n",
    "8 kyu\n",
    "\n",
    "Make a function that will return a greeting statement that uses an input; your program should return, \"Hello, <name> how are you doing today?\"."
   ]
  },
  {
   "cell_type": "code",
   "execution_count": 18,
   "metadata": {},
   "outputs": [
    {
     "data": {
      "text/plain": [
       "'Hello, Shima how are you doing today?'"
      ]
     },
     "execution_count": 18,
     "metadata": {},
     "output_type": "execute_result"
    }
   ],
   "source": [
    "def greet(name):\n",
    "    return f'Hello, {name} how are you doing today?'\n",
    "\n",
    "greet('Shima')"
   ]
  },
  {
   "cell_type": "markdown",
   "metadata": {},
   "source": [
    "### Maximum subarray sum\n",
    "https://www.codewars.com/kata/54521e9ec8e60bc4de000d6c  \n",
    "5 kyu\n",
    "\n",
    "The maximum sum subarray problem consists in finding the maximum sum of a contiguous subsequence in an array or list of integers:\n",
    "\n",
    "max_sequence([-2, 1, -3, 4, -1, 2, 1, -5, 4]) # should be 6: [4, -1, 2, 1]\n",
    "Easy case is when the list is made up of only positive numbers and the maximum sum is the sum of the whole array. If the list is made up of only negative numbers, return 0 instead.\n",
    "\n",
    "Empty list is considered to have zero greatest sum. Note that the empty list or array is also a valid sublist/subarray."
   ]
  },
  {
   "cell_type": "code",
   "execution_count": 57,
   "metadata": {},
   "outputs": [
    {
     "name": "stdout",
     "output_type": "stream",
     "text": [
      "пуст\n",
      "все полож\n",
      "норм\n",
      "все нули или отриц\n",
      "все нули или отриц\n",
      "все отриц\n",
      "норм\n",
      "норм\n"
     ]
    }
   ],
   "source": [
    "def func(lst):\n",
    "    #if not lst: # исходный список пуст\n",
    "        #return 0\n",
    "    \n",
    "    #print(sum(map(lambda x: int(x / abs(x)) if x else 0, lst)))\n",
    "    # Сумма для анализа содержимого исходного списка\n",
    "    s = sum(map(lambda x: int(x / abs(x)) if x else 0, lst))\n",
    "    if s == 0 == len(lst): # исходный список пуст, по условию его сумма 0\n",
    "        return 'пуст'\n",
    "    elif s < 0 and abs(s) == len(lst): # все элементы строго отрицательные\n",
    "        return 'все отриц'   # значит сумма пустого подмассива самая большая -> 0\n",
    "    elif not list(filter(lambda x: x > 0, lst)): # все элементы отриц. или нули\n",
    "        return 'все нули или отриц'    # значит сумма пустого подмассива самая большая -> 0\n",
    "    elif s > 0 and s == len(lst): # все элементы строго положительны\n",
    "        return 'все полож'\n",
    "    else:\n",
    "        return 'норм'\n",
    " \n",
    "\n",
    "\n",
    "print(func([]))\n",
    "print(func([1, 1]))\n",
    "print(func([0, 1]))\n",
    "print(func([0, 0]))\n",
    "print(func([-1, 0]))\n",
    "print(func([-1, -1]))\n",
    "print(func([1, -1]))\n",
    "print(func([1, -2]))"
   ]
  },
  {
   "cell_type": "code",
   "execution_count": 75,
   "metadata": {},
   "outputs": [
    {
     "name": "stdout",
     "output_type": "stream",
     "text": [
      "0 1 -2\n",
      "1 2 1\n",
      "2 3 1\n",
      "3 4 4\n",
      "4 5 4\n",
      "5 6 4\n",
      "6 7 4\n",
      "7 8 4\n",
      "0 2 -1\n",
      "1 3 -1\n",
      "2 4 5\n",
      "3 5 7\n",
      "4 6 7\n",
      "5 7 7\n",
      "6 8 7\n",
      "0 3 -4\n",
      "1 4 2\n",
      "2 5 2\n",
      "3 6 3\n",
      "4 7 3\n",
      "5 8 3\n",
      "0 4 0\n",
      "1 5 1\n",
      "2 6 2\n",
      "3 7 6\n",
      "4 8 6\n",
      "0 5 -1\n",
      "1 6 3\n",
      "2 7 3\n",
      "3 8 3\n",
      "0 6 1\n",
      "1 7 4\n",
      "2 8 4\n",
      "0 7 2\n",
      "1 8 2\n",
      "0 8 -3\n",
      "2\n"
     ]
    }
   ],
   "source": [
    "def max_sequence(lst):\n",
    "    l = list(filter(lambda x: x > 0, lst)) # доп. список для анализа исходного списка \n",
    "    if not l:      # исходный список пуст или все элементы отриц. или нули\n",
    "        return 0   # значит сумма пустого подмассива самая большая -> 0 по условию\n",
    "    elif len(l) == len(lst): # все элементы строго положительны\n",
    "        return sum(lst)\n",
    "    else:\n",
    "        max_sum = 0\n",
    "        for i in range(1, len(lst)):\n",
    "            start, end, cur_max_start = 0, i, 0\n",
    "            cur_max_sum = sum(lst[start:end])\n",
    "            max_sum = max(max_sum, cur_max_sum)\n",
    "            while end < len(lst):\n",
    "                print(start, end, cur_max_sum)\n",
    "                dif = lst[end] - lst[cur_max_start]\n",
    "                start += 1\n",
    "                end += 1\n",
    "                if dif > 0:\n",
    "                    cur_max_sum += dif\n",
    "                    cur_max_start = start\n",
    "        return max_sum\n",
    "\n",
    "\n",
    "# print(max_sequence([]))\n",
    "# print(max_sequence([1, 1]))\n",
    "# print(max_sequence([0, 1]))\n",
    "# print(max_sequence([0, 0]))\n",
    "# print(max_sequence([-1, 0]))\n",
    "# print(max_sequence([-1, -1]))\n",
    "# print(max_sequence([1, -1]))\n",
    "# print(max_sequence([1, -2]))\n",
    "# print(max_sequence([1, -2, 3]))\n",
    "print(max_sequence([-2, 1, -3, 4, -1, 2, 1, -5, 4]))"
   ]
  },
  {
   "cell_type": "code",
   "execution_count": 43,
   "metadata": {},
   "outputs": [
    {
     "name": "stdout",
     "output_type": "stream",
     "text": [
      "True\n"
     ]
    }
   ],
   "source": [
    "if -1:\n",
    "    print(True)"
   ]
  },
  {
   "cell_type": "code",
   "execution_count": 44,
   "metadata": {},
   "outputs": [],
   "source": [
    "if 0:\n",
    "    print(True)"
   ]
  },
  {
   "cell_type": "code",
   "execution_count": 45,
   "metadata": {},
   "outputs": [
    {
     "name": "stdout",
     "output_type": "stream",
     "text": [
      "-1.0\n"
     ]
    }
   ],
   "source": [
    "if -2:\n",
    "    print(-2 / abs(-2))"
   ]
  },
  {
   "cell_type": "code",
   "execution_count": 50,
   "metadata": {},
   "outputs": [
    {
     "data": {
      "text/plain": [
       "3"
      ]
     },
     "execution_count": 50,
     "metadata": {},
     "output_type": "execute_result"
    }
   ],
   "source": [
    "abs(-3)"
   ]
  },
  {
   "cell_type": "markdown",
   "metadata": {},
   "source": [
    "20200904"
   ]
  },
  {
   "cell_type": "markdown",
   "metadata": {},
   "source": [
    "__My solution (the worst among other people's):__"
   ]
  },
  {
   "cell_type": "code",
   "execution_count": 99,
   "metadata": {},
   "outputs": [
    {
     "name": "stdout",
     "output_type": "stream",
     "text": [
      "6\n"
     ]
    }
   ],
   "source": [
    "def max_sequence(lst):\n",
    "    l = list(filter(lambda x: x > 0, lst)) # доп. список для анализа исходного списка \n",
    "    if not l:      # исходный список пуст или все элементы отриц. или нули\n",
    "        return 0   # значит сумма пустого подмассива (0 по условию) самая большая\n",
    "    elif len(l) == len(lst): # все элементы строго положительны\n",
    "        return sum(lst)\n",
    "    else:\n",
    "        max_sum = 0\n",
    "        for i in range(1, len(lst) + 1):\n",
    "            start, end = 0, i\n",
    "            while end <= len(lst):\n",
    "                #print(start, end)\n",
    "                max_sum = max(max_sum, sum(lst[start:end]))\n",
    "                start += 1\n",
    "                end += 1\n",
    "        return max_sum\n",
    "\n",
    "\n",
    "# print(max_sequence([]))\n",
    "# print(max_sequence([1, 1]))\n",
    "# print(max_sequence([0, 1]))\n",
    "# print(max_sequence([0, 0]))\n",
    "# print(max_sequence([-1, 0]))\n",
    "# print(max_sequence([-1, -1]))\n",
    "# print(max_sequence([1, -1]))\n",
    "# print(max_sequence([1, -2]))\n",
    "# print(max_sequence([1, -2, 3]))\n",
    "print(max_sequence([-2, 1, -3, 4, -1, 2, 1, -5, 4]))\n",
    "# print(max_sequence([4]))\n",
    "# print(max_sequence([0]))"
   ]
  },
  {
   "cell_type": "markdown",
   "metadata": {},
   "source": [
    "__Other people's solutions:__"
   ]
  },
  {
   "cell_type": "markdown",
   "metadata": {},
   "source": [
    "__#1__ (best, I suppose)"
   ]
  },
  {
   "cell_type": "code",
   "execution_count": 100,
   "metadata": {},
   "outputs": [
    {
     "name": "stdout",
     "output_type": "stream",
     "text": [
      "0\n",
      "2\n",
      "1\n",
      "0\n",
      "0\n",
      "0\n",
      "1\n",
      "1\n",
      "3\n",
      "6\n",
      "4\n",
      "0\n"
     ]
    }
   ],
   "source": [
    "def max_sequence(arr):\n",
    "    max_sum = cur_sum = 0\n",
    "    for item in arr:\n",
    "        cur_sum += item\n",
    "        \n",
    "        if cur_sum < 0:\n",
    "            cur_sum = 0\n",
    "            \n",
    "        if cur_sum > max_sum:\n",
    "            max_sum = cur_sum\n",
    "            \n",
    "    return max_sum\n",
    "\n",
    "print(max_sequence([]))\n",
    "print(max_sequence([1, 1]))\n",
    "print(max_sequence([0, 1]))\n",
    "print(max_sequence([0, 0]))\n",
    "print(max_sequence([-1, 0]))\n",
    "print(max_sequence([-1, -1]))\n",
    "print(max_sequence([1, -1]))\n",
    "print(max_sequence([1, -2]))\n",
    "print(max_sequence([1, -2, 3]))\n",
    "print(max_sequence([-2, 1, -3, 4, -1, 2, 1, -5, 4]))\n",
    "print(max_sequence([4]))\n",
    "print(max_sequence([0]))"
   ]
  },
  {
   "cell_type": "markdown",
   "metadata": {},
   "source": [
    "__#2__ (the same as #1, but in other words)"
   ]
  },
  {
   "cell_type": "code",
   "execution_count": 101,
   "metadata": {},
   "outputs": [
    {
     "name": "stdout",
     "output_type": "stream",
     "text": [
      "0\n",
      "2\n",
      "1\n",
      "0\n",
      "0\n",
      "0\n",
      "1\n",
      "1\n",
      "3\n",
      "6\n",
      "4\n",
      "0\n"
     ]
    }
   ],
   "source": [
    "def max_sequence(arr):\n",
    "    max_sum = cur_sum = 0\n",
    "    for item in arr:\n",
    "        cur_sum = max(0, cur_sum + item)\n",
    "        max_sum = max(cur_sum, max_sum)\n",
    "            \n",
    "    return max_sum\n",
    "\n",
    "print(max_sequence([]))\n",
    "print(max_sequence([1, 1]))\n",
    "print(max_sequence([0, 1]))\n",
    "print(max_sequence([0, 0]))\n",
    "print(max_sequence([-1, 0]))\n",
    "print(max_sequence([-1, -1]))\n",
    "print(max_sequence([1, -1]))\n",
    "print(max_sequence([1, -2]))\n",
    "print(max_sequence([1, -2, 3]))\n",
    "print(max_sequence([-2, 1, -3, 4, -1, 2, 1, -5, 4]))\n",
    "print(max_sequence([4]))\n",
    "print(max_sequence([0]))"
   ]
  },
  {
   "cell_type": "markdown",
   "metadata": {},
   "source": [
    "__#3__ With itertools!"
   ]
  },
  {
   "cell_type": "code",
   "execution_count": 109,
   "metadata": {},
   "outputs": [
    {
     "name": "stdout",
     "output_type": "stream",
     "text": [
      "2\n",
      "1\n",
      "0\n",
      "0\n",
      "0\n",
      "1\n",
      "1\n",
      "3\n",
      "6\n",
      "4\n",
      "0\n"
     ]
    }
   ],
   "source": [
    "def max_sequence(arr):\n",
    "    from itertools import accumulate\n",
    "    #print(list(accumulate(arr, lambda a, b: max(a + b, 0))))\n",
    "    return max(accumulate(arr, lambda a, b: max(a + b, 0)))\n",
    "\n",
    "#print(max_sequence([]))\n",
    "print(max_sequence([1, 1]))\n",
    "print(max_sequence([0, 1]))\n",
    "print(max_sequence([0, 0]))\n",
    "print(max_sequence([-1, 0]))\n",
    "print(max_sequence([-1, -1]))\n",
    "print(max_sequence([1, -1]))\n",
    "print(max_sequence([1, -2]))\n",
    "print(max_sequence([1, -2, 3]))\n",
    "print(max_sequence([-2, 1, -3, 4, -1, 2, 1, -5, 4]))\n",
    "print(max_sequence([4]))\n",
    "print(max_sequence([0]))"
   ]
  },
  {
   "cell_type": "markdown",
   "metadata": {},
   "source": [
    "### Some CS50's stuff"
   ]
  },
  {
   "cell_type": "code",
   "execution_count": 78,
   "metadata": {},
   "outputs": [
    {
     "data": {
      "text/plain": [
       "'<generator object <genexpr> at 0x000000000854E0C0>'"
      ]
     },
     "execution_count": 78,
     "metadata": {},
     "output_type": "execute_result"
    }
   ],
   "source": [
    "str(('a' for i in range(2))"
   ]
  },
  {
   "cell_type": "code",
   "execution_count": 83,
   "metadata": {},
   "outputs": [
    {
     "name": "stdout",
     "output_type": "stream",
     "text": [
      "путин владимир владимирович\n",
      "ПВВ\n"
     ]
    }
   ],
   "source": [
    "print(''.join(word[0].upper() for word in input().split()))"
   ]
  },
  {
   "cell_type": "markdown",
   "metadata": {},
   "source": [
    "### New Cashier Does Not Know About Space or Shift\n",
    "https://www.codewars.com/kata/5d23d89906f92a00267bb83d  \n",
    "6 kyu\n",
    "\n",
    "Some new cashiers started to work at your restaurant.\n",
    "\n",
    "They are good at taking orders, but they don't know how to capitalize words, or use a space bar!\n",
    "\n",
    "All the orders they create look something like this:\n",
    "\n",
    "\"milkshakepizzachickenfriescokeburgerpizzasandwichmilkshakepizza\"\n",
    "\n",
    "The kitchen staff are threatening to quit, because of how difficult it is to read the orders.\n",
    "\n",
    "Their preference is to get the orders as a nice clean string with spaces and capitals like so:\n",
    "\n",
    "\"Burger Fries Chicken Pizza Pizza Pizza Sandwich Milkshake Milkshake Coke\"\n",
    "\n",
    "The kitchen staff expect the items to be in the same order as they appear in the menu.\n",
    "\n",
    "The menu items are fairly simple, there is no overlap in the names of the items:\n",
    "\n",
    "1. Burger  \n",
    "2. Fries  \n",
    "3. Chicken  \n",
    "4. Pizza  \n",
    "5. Sandwich  \n",
    "6. Onionrings  \n",
    "7. Milkshake  \n",
    "8. Coke  "
   ]
  },
  {
   "cell_type": "code",
   "execution_count": 110,
   "metadata": {},
   "outputs": [
    {
     "name": "stdout",
     "output_type": "stream",
     "text": [
      "Help on method_descriptor:\n",
      "\n",
      "startswith(...)\n",
      "    S.startswith(prefix[, start[, end]]) -> bool\n",
      "    \n",
      "    Return True if S starts with the specified prefix, False otherwise.\n",
      "    With optional start, test S beginning at that position.\n",
      "    With optional end, stop comparing S at that position.\n",
      "    prefix can also be a tuple of strings to try.\n",
      "\n"
     ]
    }
   ],
   "source": [
    "help(str.startswith)"
   ]
  },
  {
   "cell_type": "code",
   "execution_count": 164,
   "metadata": {},
   "outputs": [
    {
     "name": "stdout",
     "output_type": "stream",
     "text": [
      "Help on method_descriptor:\n",
      "\n",
      "join(self, iterable, /)\n",
      "    Concatenate any number of strings.\n",
      "    \n",
      "    The string whose method is called is inserted in between each given string.\n",
      "    The result is returned as a new string.\n",
      "    \n",
      "    Example: '.'.join(['ab', 'pq', 'rs']) -> 'ab.pq.rs'\n",
      "\n"
     ]
    }
   ],
   "source": [
    "help(str.join)"
   ]
  },
  {
   "cell_type": "code",
   "execution_count": 118,
   "metadata": {},
   "outputs": [
    {
     "name": "stdout",
     "output_type": "stream",
     "text": [
      "('burger', 'fries', 'chicken', 'pizza', 'sandwich', 'onionrings', 'milkshake', 'coke')\n"
     ]
    }
   ],
   "source": [
    "menu = 'Burger Fries Chicken Pizza Sandwich Onionrings Milkshake Coke'\n",
    "menu = tuple(word.lower() for word in menu.split())\n",
    "print(menu)"
   ]
  },
  {
   "cell_type": "code",
   "execution_count": 116,
   "metadata": {},
   "outputs": [
    {
     "name": "stdout",
     "output_type": "stream",
     "text": [
      "True\n"
     ]
    }
   ],
   "source": [
    "order = 'milkshakepizzachickenfriescokeburgerpizzasandwichmilkshakepizza'\n",
    "print(order.startswith(menu))"
   ]
  },
  {
   "cell_type": "code",
   "execution_count": 117,
   "metadata": {},
   "outputs": [
    {
     "name": "stdout",
     "output_type": "stream",
     "text": [
      "Help on method_descriptor:\n",
      "\n",
      "find(...)\n",
      "    S.find(sub[, start[, end]]) -> int\n",
      "    \n",
      "    Return the lowest index in S where substring sub is found,\n",
      "    such that sub is contained within S[start:end].  Optional\n",
      "    arguments start and end are interpreted as in slice notation.\n",
      "    \n",
      "    Return -1 on failure.\n",
      "\n"
     ]
    }
   ],
   "source": [
    "help(str.find)"
   ]
  },
  {
   "cell_type": "code",
   "execution_count": 165,
   "metadata": {},
   "outputs": [
    {
     "name": "stdout",
     "output_type": "stream",
     "text": [
      "['Burger', 'Fries', 'Chicken', 'Pizza', 'Sandwich', 'Onionrings', 'Milkshake', 'Coke']\n",
      "burger|fries|chicken|pizza|sandwich|onionrings|milkshake|coke\n"
     ]
    }
   ],
   "source": [
    "menu = 'Burger Fries Chicken Pizza Sandwich Onionrings Milkshake Coke'\n",
    "menu = menu.split()\n",
    "print(menu)\n",
    "#pattern = ''.join(f'({word})*' for word in menu)\n",
    "#pattern = '|'.join(menu)\n",
    "pattern = '|'.join(word.lower() for word in menu)\n",
    "print(pattern)"
   ]
  },
  {
   "cell_type": "code",
   "execution_count": null,
   "metadata": {},
   "outputs": [],
   "source": [
    "def func(order):\n",
    "    menu = ['Burger', 'Fries', 'Chicken', 'Pizza', 'Sandwich', 'Onionrings', 'Milkshake', 'Coke']\n",
    "    "
   ]
  },
  {
   "cell_type": "code",
   "execution_count": 159,
   "metadata": {},
   "outputs": [
    {
     "name": "stdout",
     "output_type": "stream",
     "text": [
      "['', '', '', '', '', '', '', '', '', '', '']\n",
      "['milkshake', 'pizza', 'chicken', 'fries', 'coke', 'burger', 'pizza', 'sandwich', 'milkshake', 'pizza']\n",
      "milkshake pizza chicken fries coke burger pizza sandwich milkshake pizza \n"
     ]
    }
   ],
   "source": [
    "import re\n",
    "\n",
    "order = 'milkshakepizzachickenfriescokeburgerpizzasandwichmilkshakepizza'\n",
    "#pattern = r'(Burger)(Fries)(Chicken)(Pizza)(Sandwich)(Onionrings)(Milkshake)(Coke)'\n",
    "#pattern = r'(Pizza)(Chicken)'\n",
    "#pattern = r'Burger|Fries|Chicken'\n",
    "#pattern = r'(Burger)|(Fries)|(Chicken)|(Pizza)|(Sandwich)|(Onionrings)|(Milkshake)|(Coke)'\n",
    "pattern = r'Burger|Fries|Chicken|Pizza|Sandwich|Onionrings|Milkshake|Coke'\n",
    "print(re.split(pattern, order, flags=re.IGNORECASE))\n",
    "print(re.findall(pattern, order, flags=re.IGNORECASE))\n",
    "\n",
    "# Добавлю pattern в круглые скобки, чтобы можно было использовать группы в re.sub\n",
    "pattern = r'(Burger|Fries|Chicken|Pizza|Sandwich|Onionrings|Milkshake|Coke)'\n",
    "print(re.sub(pattern, r'\\1 ', order, flags=re.IGNORECASE))"
   ]
  },
  {
   "cell_type": "code",
   "execution_count": 161,
   "metadata": {},
   "outputs": [
    {
     "name": "stdout",
     "output_type": "stream",
     "text": [
      "Milkshake Pizza Chicken Fries Coke Burger Pizza Sandwich Milkshake Pizza\n"
     ]
    }
   ],
   "source": [
    "import re\n",
    "\n",
    "def get_order(order):\n",
    "    pattern = r'Burger|Fries|Chicken|Pizza|Sandwich|Onionrings|Milkshake|Coke'\n",
    "    return ' '.join(word.capitalize() for word in re.findall(pattern, order, flags=re.IGNORECASE))\n",
    "\n",
    "order = 'milkshakepizzachickenfriescokeburgerpizzasandwichmilkshakepizza'\n",
    "print(get_order(order))"
   ]
  },
  {
   "cell_type": "markdown",
   "metadata": {},
   "source": [
    "__My solution__ It wasn't accepted because I hadn't got the task the right way: instead of \"the items to be in the same order as they appear in the menu\" I did \"the items to be in the same order as they appear in the ORDER\". But I keep this solution here just in case."
   ]
  },
  {
   "cell_type": "code",
   "execution_count": 168,
   "metadata": {},
   "outputs": [
    {
     "name": "stdout",
     "output_type": "stream",
     "text": [
      "Milkshake Pizza Chicken Fries Coke Burger Pizza Sandwich Milkshake Pizza\n",
      "Pizza Chicken Fries Burger Coke Milkshake Fries Sandwich\n"
     ]
    }
   ],
   "source": [
    "import re\n",
    "\n",
    "def get_order(order):\n",
    "    pattern = r'burger|fries|chicken|pizza|sandwich|onionrings|milkshake|coke'\n",
    "    return ' '.join(word.capitalize() for word in re.findall(pattern, order))\n",
    "\n",
    "order = 'milkshakepizzachickenfriescokeburgerpizzasandwichmilkshakepizza'\n",
    "print(get_order(order))\n",
    "print(get_order('pizzachickenfriesburgercokemilkshakefriessandwich'))"
   ]
  },
  {
   "cell_type": "markdown",
   "metadata": {},
   "source": [
    "__My correct solution__:"
   ]
  },
  {
   "cell_type": "code",
   "execution_count": 172,
   "metadata": {},
   "outputs": [
    {
     "name": "stdout",
     "output_type": "stream",
     "text": [
      "Burger Fries Chicken Pizza Pizza Pizza Sandwich Milkshake Milkshake Coke\n",
      "Burger Fries Fries Chicken Pizza Sandwich Milkshake Coke\n"
     ]
    }
   ],
   "source": [
    "def get_order(order):\n",
    "    menu = ['Burger', 'Fries', 'Chicken', 'Pizza', 'Sandwich', 'Onionrings', 'Milkshake', 'Coke']\n",
    "    new_order = []\n",
    "    for item in menu:\n",
    "        new_order += order.count(item.lower()) * [item]\n",
    "    return ' '.join(new_order)\n",
    "    \n",
    "print(get_order('milkshakepizzachickenfriescokeburgerpizzasandwichmilkshakepizza'))\n",
    "print(get_order('pizzachickenfriesburgercokemilkshakefriessandwich'))    "
   ]
  },
  {
   "cell_type": "markdown",
   "metadata": {},
   "source": [
    "### Best travel\n",
    "https://www.codewars.com/kata/55e7280b40e1c4a06d0000aa  \n",
    "5 kyu\n",
    "\n",
    "John and Mary want to travel between a few towns A, B, C ... Mary has on a sheet of paper a list of distances between these towns. ls = [50, 55, 57, 58, 60]. John is tired of driving and he says to Mary that he doesn't want to drive more than t = 174 miles and he will visit only 3 towns.\n",
    "\n",
    "Which distances, hence which towns, they will choose so that the sum of the distances is the biggest possible to please Mary and John?\n",
    "\n",
    "Example:\n",
    "\n",
    "With list ls and 3 towns to visit they can make a choice between: [50,55,57],[50,55,58],[50,55,60],[50,57,58],[50,57,60],[50,58,60],[55,57,58],[55,57,60],[55,58,60],[57,58,60].\n",
    "\n",
    "The sums of distances are then: 162, 163, 165, 165, 167, 168, 170, 172, 173, 175.\n",
    "\n",
    "The biggest possible sum taking a limit of 174 into account is then 173 and the distances of the 3 corresponding towns is [55, 58, 60].\n",
    "\n",
    "The function chooseBestSum (or choose_best_sum or ... depending on the language) will take as parameters t (maximum sum of distances, integer >= 0), k (number of towns to visit, k >= 1) and ls (list of distances, all distances are positive or null integers and this list has at least one element). The function returns the \"best\" sum ie the biggest possible sum of k distances less than or equal to the given limit t, if that sum exists, or otherwise nil, null, None, Nothing, depending on the language. With C++, C, Rust, Swift, Go, Kotlin return -1.\n",
    "\n",
    "Examples:\n",
    "\n",
    "ts = [50, 55, 56, 57, 58] choose_best_sum(163, 3, ts) -> 163\n",
    "\n",
    "xs = [50] choose_best_sum(163, 3, xs) -> nil (or null or ... or -1 (C++, C, Rust, Swift, Go)\n",
    "\n",
    "ys = [91, 74, 73, 85, 73, 81, 87] choose_best_sum(230, 3, ys) -> 228\n",
    "\n",
    "Note: don't modify the input list ls"
   ]
  },
  {
   "cell_type": "code",
   "execution_count": 180,
   "metadata": {},
   "outputs": [
    {
     "data": {
      "text/plain": [
       "[(50, 55, 57),\n",
       " (50, 55, 58),\n",
       " (50, 55, 60),\n",
       " (50, 57, 58),\n",
       " (50, 57, 60),\n",
       " (50, 58, 60),\n",
       " (55, 57, 58),\n",
       " (55, 57, 60),\n",
       " (55, 58, 60)]"
      ]
     },
     "execution_count": 180,
     "metadata": {},
     "output_type": "execute_result"
    }
   ],
   "source": [
    "from itertools import combinations\n",
    "\n",
    "ls = [50, 55, 57, 58, 60]\n",
    "list(filter(lambda towns: sum(towns) <= 174, combinations(ls, 3)))"
   ]
  },
  {
   "cell_type": "code",
   "execution_count": 185,
   "metadata": {},
   "outputs": [
    {
     "name": "stdout",
     "output_type": "stream",
     "text": [
      "[162, 163, 165, 165, 167, 168, 170, 172, 173, 0]\n",
      "173\n"
     ]
    }
   ],
   "source": [
    "from itertools import combinations\n",
    "\n",
    "ls = [50, 55, 57, 58, 60]\n",
    "print(list(map(lambda towns: sum(towns) if sum(towns) <= 174 else 0, combinations(ls, 3))))\n",
    "print(max(map(lambda towns: sum(towns) if sum(towns) <= 174 else 0, combinations(ls, 3))))"
   ]
  },
  {
   "cell_type": "markdown",
   "metadata": {},
   "source": [
    "__My solution #1 (not best):__"
   ]
  },
  {
   "cell_type": "code",
   "execution_count": 192,
   "metadata": {},
   "outputs": [
    {
     "name": "stdout",
     "output_type": "stream",
     "text": [
      "230 230\n",
      "430 430\n",
      "None None\n"
     ]
    }
   ],
   "source": [
    "from itertools import combinations\n",
    "\n",
    "def choose_best_sum(t, k, ls):\n",
    "    return max(filter(lambda x: x <= t, map(lambda x: sum(x), combinations(ls, k))), default=None)\n",
    "\n",
    "xs = [100, 76, 56, 44, 89, 73, 68, 56, 64, 123, 2333, 144, 50, 132, 123, 34, 89]\n",
    "print(choose_best_sum(230, 4, xs), 230)\n",
    "print(choose_best_sum(430, 5, xs), 430)\n",
    "print(choose_best_sum(430, 8, xs), None)"
   ]
  },
  {
   "cell_type": "markdown",
   "metadata": {},
   "source": [
    "max() with key doesn't work the way I thought:"
   ]
  },
  {
   "cell_type": "code",
   "execution_count": 202,
   "metadata": {},
   "outputs": [
    {
     "ename": "IndentationError",
     "evalue": "expected an indented block (<ipython-input-202-9fbf3f397924>, line 7)",
     "output_type": "error",
     "traceback": [
      "\u001b[1;36m  File \u001b[1;32m\"<ipython-input-202-9fbf3f397924>\"\u001b[1;36m, line \u001b[1;32m7\u001b[0m\n\u001b[1;33m    xs = [100, 76, 56, 44, 89, 73, 68, 56, 64, 123, 2333, 144, 50, 132, 123, 34, 89]\u001b[0m\n\u001b[1;37m     ^\u001b[0m\n\u001b[1;31mIndentationError\u001b[0m\u001b[1;31m:\u001b[0m expected an indented block\n"
     ]
    }
   ],
   "source": [
    "from itertools import combinations\n",
    "\n",
    "def choose_best_sum(t, k, ls):\n",
    "    #print(list(map(lambda x: sum(x), combinations(ls, k))))\n",
    "    #return max(map(lambda x: sum(x), combinations(ls, k), key=lambda x: x <= t, default=None)\n",
    "\n",
    "xs = [100, 76, 56, 44, 89, 73, 68, 56, 64, 123, 2333, 144, 50, 132, 123, 34, 89]\n",
    "print(choose_best_sum(230, 4, xs), 230)\n",
    "print(choose_best_sum(430, 5, xs), 430)\n",
    "print(choose_best_sum(430, 8, xs), None)"
   ]
  },
  {
   "cell_type": "code",
   "execution_count": 204,
   "metadata": {},
   "outputs": [
    {
     "data": {
      "text/plain": [
       "1"
      ]
     },
     "execution_count": 204,
     "metadata": {},
     "output_type": "execute_result"
    }
   ],
   "source": [
    "ls = [1, 2, 3, 4, 5]\n",
    "max(ls, key=lambda x:  x <=4)"
   ]
  },
  {
   "cell_type": "markdown",
   "metadata": {},
   "source": [
    "__My solution #2 (better than #1):__"
   ]
  },
  {
   "cell_type": "code",
   "execution_count": 195,
   "metadata": {},
   "outputs": [
    {
     "name": "stdout",
     "output_type": "stream",
     "text": [
      "230 230\n",
      "430 430\n",
      "None None\n"
     ]
    }
   ],
   "source": [
    "from itertools import combinations\n",
    "\n",
    "def choose_best_sum(t, k, ls):\n",
    "    return max((sum(item) for item in combinations(ls, k) if sum(item) <= t), default=None)\n",
    "\n",
    "xs = [100, 76, 56, 44, 89, 73, 68, 56, 64, 123, 2333, 144, 50, 132, 123, 34, 89]\n",
    "print(choose_best_sum(230, 4, xs), 230)\n",
    "print(choose_best_sum(430, 5, xs), 430)\n",
    "print(choose_best_sum(430, 8, xs), None)"
   ]
  },
  {
   "cell_type": "markdown",
   "metadata": {},
   "source": [
    "Solution #2 in other words: "
   ]
  },
  {
   "cell_type": "code",
   "execution_count": 196,
   "metadata": {},
   "outputs": [
    {
     "name": "stdout",
     "output_type": "stream",
     "text": [
      "230 230\n",
      "430 430\n",
      "None None\n"
     ]
    }
   ],
   "source": [
    "from itertools import combinations\n",
    "\n",
    "def choose_best_sum(t, k, ls):\n",
    "    def gen(iterable):\n",
    "        for item in iterable:\n",
    "            s = sum(item)\n",
    "            if s <= t:\n",
    "                yield s\n",
    "    \n",
    "    return max(gen(combinations(ls, k)), default=None)\n",
    "\n",
    "xs = [100, 76, 56, 44, 89, 73, 68, 56, 64, 123, 2333, 144, 50, 132, 123, 34, 89]\n",
    "print(choose_best_sum(230, 4, xs), 230)\n",
    "print(choose_best_sum(430, 5, xs), 430)\n",
    "print(choose_best_sum(430, 8, xs), None)"
   ]
  },
  {
   "cell_type": "markdown",
   "metadata": {},
   "source": [
    "20200905"
   ]
  },
  {
   "cell_type": "markdown",
   "metadata": {},
   "source": [
    "### Beginner Series #4 Cockroach\n",
    "https://www.codewars.com/kata/55fab1ffda3e2e44f00000c6  \n",
    "8 kyu  \n",
    "\n",
    "The cockroach is one of the fastest insects. Write a function which takes its speed in km per hour and returns it in cm per second, rounded down to the integer (= floored).\n",
    "\n",
    "For example:\n",
    "\n",
    "cockroach_speed(1.08) == 30\n",
    "Note! The input is a Real number (actual type is language dependent) and is >= 0. The result should be an Integer."
   ]
  },
  {
   "cell_type": "markdown",
   "metadata": {},
   "source": [
    "__My solution:__"
   ]
  },
  {
   "cell_type": "code",
   "execution_count": 239,
   "metadata": {},
   "outputs": [
    {
     "name": "stdout",
     "output_type": "stream",
     "text": [
      "30 30\n",
      "30 30\n",
      "0 0\n"
     ]
    }
   ],
   "source": [
    "def cockroach_speed(s):\n",
    "    return int(s * 1000 / 36)\n",
    "\n",
    "print(cockroach_speed(1.08),30)\n",
    "print(cockroach_speed(1.09),30)\n",
    "print(cockroach_speed(0),0)"
   ]
  },
  {
   "cell_type": "markdown",
   "metadata": {},
   "source": [
    "__Other users' solutions:__"
   ]
  },
  {
   "cell_type": "code",
   "execution_count": 238,
   "metadata": {},
   "outputs": [
    {
     "name": "stdout",
     "output_type": "stream",
     "text": [
      "30.0 30\n",
      "30.0 30\n",
      "0.0 0\n"
     ]
    }
   ],
   "source": [
    "def cockroach_speed(s):\n",
    "    return s // 0.036\n",
    "\n",
    "print(cockroach_speed(1.08),30)\n",
    "print(cockroach_speed(1.09),30)\n",
    "print(cockroach_speed(0),0)"
   ]
  },
  {
   "cell_type": "markdown",
   "metadata": {},
   "source": [
    "But result isn't integer type! From the other hand integer TYPE wasn't required, just integer and 30.0 is integer."
   ]
  },
  {
   "cell_type": "code",
   "execution_count": 205,
   "metadata": {},
   "outputs": [
    {
     "data": {
      "text/plain": [
       "1"
      ]
     },
     "execution_count": 205,
     "metadata": {},
     "output_type": "execute_result"
    }
   ],
   "source": [
    "2 // 2"
   ]
  },
  {
   "cell_type": "code",
   "execution_count": 206,
   "metadata": {},
   "outputs": [
    {
     "data": {
      "text/plain": [
       "0"
      ]
     },
     "execution_count": 206,
     "metadata": {},
     "output_type": "execute_result"
    }
   ],
   "source": [
    "1 // 2"
   ]
  },
  {
   "cell_type": "code",
   "execution_count": 237,
   "metadata": {},
   "outputs": [
    {
     "name": "stdout",
     "output_type": "stream",
     "text": [
      "30.0 30\n",
      "30.0 30\n",
      "0 0\n"
     ]
    }
   ],
   "source": [
    "def cockroach_speed(s):\n",
    "    return s * 1000 // 36\n",
    "\n",
    "print(cockroach_speed(1.08),30)\n",
    "print(cockroach_speed(1.09),30)\n",
    "print(cockroach_speed(0),0)"
   ]
  },
  {
   "cell_type": "markdown",
   "metadata": {},
   "source": [
    "### Over The Road\n",
    "https://www.codewars.com/kata/5f0ed36164f2bc00283aed07  \n",
    "7 kyu\n",
    "\n",
    "Task  \n",
    "You've just moved into a perfectly straight street with exactly n identical houses on either side of the road. Naturally, you would like to find out the house number of the people on the other side of the street. The street looks something like this:\n",
    "\n",
    "Street  \n",
    "1|   |6  \n",
    "3|   |4  \n",
    "5|   |2  \n",
    "\n",
    "Evens increase on the right; odds decrease on the left. House numbers start at 1 and increase without gaps. When n = 3, 1 is opposite 6, 3 opposite 4, and 5 opposite 2.\n",
    "\n",
    "Example  \n",
    "Given your house number address and length of street n, give the house number on the opposite side of the street.\n",
    "\n",
    "over_the_road(address, n)  \n",
    "over_the_road(1, 3) = 6  \n",
    "over_the_road(3, 3) = 4  \n",
    "over_the_road(2, 3) = 5  \n",
    "over_the_road(3, 5) = 8  \n",
    "Both n and address could get upto 500 billion with over 200 random tests."
   ]
  },
  {
   "cell_type": "code",
   "execution_count": null,
   "metadata": {},
   "outputs": [],
   "source": [
    "def over_the_road(address, n):\n",
    "    return 2 * (n - address // 2) if address % 2 else 2 * (n - address // 2) + 1"
   ]
  },
  {
   "cell_type": "markdown",
   "metadata": {},
   "source": [
    "20200906"
   ]
  },
  {
   "cell_type": "markdown",
   "metadata": {},
   "source": [
    "### Unlucky Days\n",
    "https://www.codewars.com/kata/56eb0be52caf798c630013c0  \n",
    "7 kyu\n",
    "\n",
    "Friday 13th or Black Friday is considered as unlucky day. Calculate how many unlucky days are in the given year.\n",
    "\n",
    "Find the number of Friday 13th in the given year.\n",
    "\n",
    "Input: Year as an integer.\n",
    "\n",
    "Output: Number of Black Fridays in the year as an integer.\n",
    "\n",
    "Examples:\n",
    "\n",
    "unluckyDays(2015) == 3\n",
    "unluckyDays(1986) == 1"
   ]
  },
  {
   "cell_type": "code",
   "execution_count": 216,
   "metadata": {},
   "outputs": [
    {
     "data": {
      "text/plain": [
       "6"
      ]
     },
     "execution_count": 216,
     "metadata": {},
     "output_type": "execute_result"
    }
   ],
   "source": [
    "import datetime\n",
    "datetime.date(2020, 9, 6).weekday()"
   ]
  },
  {
   "cell_type": "code",
   "execution_count": 217,
   "metadata": {},
   "outputs": [
    {
     "name": "stdout",
     "output_type": "stream",
     "text": [
      "3 3\n",
      "1 1\n"
     ]
    }
   ],
   "source": [
    "def unlucky_days(year):\n",
    "    import datetime\n",
    "    return sum(1 for month in range(1, 13) if datetime.date(year, month, 13).weekday() == 4)\n",
    "\n",
    "print(unlucky_days(2015), 3)\n",
    "print(unlucky_days(1986), 1)"
   ]
  },
  {
   "cell_type": "markdown",
   "metadata": {},
   "source": [
    "A little but wity improvement from other people's solutions:"
   ]
  },
  {
   "cell_type": "code",
   "execution_count": 219,
   "metadata": {},
   "outputs": [
    {
     "name": "stdout",
     "output_type": "stream",
     "text": [
      "3 3\n",
      "1 1\n"
     ]
    }
   ],
   "source": [
    "from datetime import date\n",
    "\n",
    "def unlucky_days(year):\n",
    "    return sum(date(year, month, 13).weekday() == 4 for month in range(1, 13))\n",
    "\n",
    "print(unlucky_days(2015), 3)\n",
    "print(unlucky_days(1986), 1)"
   ]
  },
  {
   "cell_type": "markdown",
   "metadata": {},
   "source": [
    "### A disguised sequence (I)\n",
    "https://www.codewars.com/kata/563f0c54a22b9345bf000053  \n",
    "6 kyu\n",
    "\n",
    "Given u0 = 1, u1 = 2 and the relation 6unun+1-5unun+2+un+1un+2 = 0 calculate un for any integer n >= 0.\n",
    "\n",
    "Example  \n",
    "fcn(n) returns un: fcn(17) -> 131072, fcn(21) -> 2097152\n",
    "\n",
    "Remarks  \n",
    "You can take two points of view to do this kata:\n",
    "\n",
    "the first one purely algorithmic from the definition of un\n",
    "\n",
    "the second one - not at all mandatory, but as a complement - is to get a bit your head around and find which sequence is hidden behind un."
   ]
  },
  {
   "cell_type": "markdown",
   "metadata": {},
   "source": [
    "__My solutions:__"
   ]
  },
  {
   "cell_type": "markdown",
   "metadata": {},
   "source": [
    "__#1__ By some reasons it doesn't pass all tests on codewars.com :( "
   ]
  },
  {
   "cell_type": "code",
   "execution_count": 227,
   "metadata": {},
   "outputs": [
    {
     "name": "stdout",
     "output_type": "stream",
     "text": [
      "131072.0 131072\n",
      "2097152.0 2097152\n",
      "16384.0 16384\n",
      "8796093022208.0 8796093022208\n",
      "524288.0 524288\n"
     ]
    }
   ],
   "source": [
    "def fcn(n):\n",
    "    u_dict = {0:1, 1:2}\n",
    "    \n",
    "    def u(n):\n",
    "        if n in u_dict:\n",
    "            return u_dict[n]\n",
    "        \n",
    "        u_dict[n] = 6 * u(n - 2) * u(n - 1) / (5 * u(n - 2) - u(n - 1))\n",
    "        return u_dict[n]\n",
    "        \n",
    "    return u(n)\n",
    "\n",
    "print(fcn(17), 131072)\n",
    "print(fcn(21), 2097152)\n",
    "print(fcn(14), 16384)\n",
    "print(fcn(43), 8796093022208)\n",
    "print(fcn(19), 524288)"
   ]
  },
  {
   "cell_type": "markdown",
   "metadata": {},
   "source": [
    "Just for fun tried the same approach with the list instead of the dict. But it didn't work.. :("
   ]
  },
  {
   "cell_type": "code",
   "execution_count": 232,
   "metadata": {},
   "outputs": [
    {
     "ename": "RecursionError",
     "evalue": "maximum recursion depth exceeded",
     "output_type": "error",
     "traceback": [
      "\u001b[1;31m---------------------------------------------------------------------------\u001b[0m",
      "\u001b[1;31mRecursionError\u001b[0m                            Traceback (most recent call last)",
      "\u001b[1;32m<ipython-input-232-daa67fe05e79>\u001b[0m in \u001b[0;36m<module>\u001b[1;34m\u001b[0m\n\u001b[0;32m      9\u001b[0m     \u001b[1;32mreturn\u001b[0m \u001b[0mu\u001b[0m\u001b[1;33m(\u001b[0m\u001b[0mn\u001b[0m\u001b[1;33m)\u001b[0m\u001b[1;33m\u001b[0m\u001b[1;33m\u001b[0m\u001b[0m\n\u001b[0;32m     10\u001b[0m \u001b[1;33m\u001b[0m\u001b[0m\n\u001b[1;32m---> 11\u001b[1;33m \u001b[0mprint\u001b[0m\u001b[1;33m(\u001b[0m\u001b[0mfcn\u001b[0m\u001b[1;33m(\u001b[0m\u001b[1;36m17\u001b[0m\u001b[1;33m)\u001b[0m\u001b[1;33m,\u001b[0m \u001b[1;36m131072\u001b[0m\u001b[1;33m)\u001b[0m\u001b[1;33m\u001b[0m\u001b[1;33m\u001b[0m\u001b[0m\n\u001b[0m\u001b[0;32m     12\u001b[0m \u001b[0mprint\u001b[0m\u001b[1;33m(\u001b[0m\u001b[0mfcn\u001b[0m\u001b[1;33m(\u001b[0m\u001b[1;36m21\u001b[0m\u001b[1;33m)\u001b[0m\u001b[1;33m,\u001b[0m \u001b[1;36m2097152\u001b[0m\u001b[1;33m)\u001b[0m\u001b[1;33m\u001b[0m\u001b[1;33m\u001b[0m\u001b[0m\n\u001b[0;32m     13\u001b[0m \u001b[0mprint\u001b[0m\u001b[1;33m(\u001b[0m\u001b[0mfcn\u001b[0m\u001b[1;33m(\u001b[0m\u001b[1;36m14\u001b[0m\u001b[1;33m)\u001b[0m\u001b[1;33m,\u001b[0m \u001b[1;36m16384\u001b[0m\u001b[1;33m)\u001b[0m\u001b[1;33m\u001b[0m\u001b[1;33m\u001b[0m\u001b[0m\n",
      "\u001b[1;32m<ipython-input-232-daa67fe05e79>\u001b[0m in \u001b[0;36mfcn\u001b[1;34m(n)\u001b[0m\n\u001b[0;32m      7\u001b[0m         \u001b[1;32mreturn\u001b[0m \u001b[0mu_list\u001b[0m\u001b[1;33m[\u001b[0m\u001b[0mn\u001b[0m\u001b[1;33m]\u001b[0m\u001b[1;33m\u001b[0m\u001b[1;33m\u001b[0m\u001b[0m\n\u001b[0;32m      8\u001b[0m \u001b[1;33m\u001b[0m\u001b[0m\n\u001b[1;32m----> 9\u001b[1;33m     \u001b[1;32mreturn\u001b[0m \u001b[0mu\u001b[0m\u001b[1;33m(\u001b[0m\u001b[0mn\u001b[0m\u001b[1;33m)\u001b[0m\u001b[1;33m\u001b[0m\u001b[1;33m\u001b[0m\u001b[0m\n\u001b[0m\u001b[0;32m     10\u001b[0m \u001b[1;33m\u001b[0m\u001b[0m\n\u001b[0;32m     11\u001b[0m \u001b[0mprint\u001b[0m\u001b[1;33m(\u001b[0m\u001b[0mfcn\u001b[0m\u001b[1;33m(\u001b[0m\u001b[1;36m17\u001b[0m\u001b[1;33m)\u001b[0m\u001b[1;33m,\u001b[0m \u001b[1;36m131072\u001b[0m\u001b[1;33m)\u001b[0m\u001b[1;33m\u001b[0m\u001b[1;33m\u001b[0m\u001b[0m\n",
      "\u001b[1;32m<ipython-input-232-daa67fe05e79>\u001b[0m in \u001b[0;36mu\u001b[1;34m(n)\u001b[0m\n\u001b[0;32m      4\u001b[0m     \u001b[1;32mdef\u001b[0m \u001b[0mu\u001b[0m\u001b[1;33m(\u001b[0m\u001b[0mn\u001b[0m\u001b[1;33m)\u001b[0m\u001b[1;33m:\u001b[0m\u001b[1;33m\u001b[0m\u001b[1;33m\u001b[0m\u001b[0m\n\u001b[0;32m      5\u001b[0m         \u001b[1;32mif\u001b[0m \u001b[0mu_list\u001b[0m\u001b[1;33m[\u001b[0m\u001b[0mn\u001b[0m\u001b[1;33m]\u001b[0m \u001b[1;32mis\u001b[0m \u001b[1;32mNone\u001b[0m\u001b[1;33m:\u001b[0m\u001b[1;33m\u001b[0m\u001b[1;33m\u001b[0m\u001b[0m\n\u001b[1;32m----> 6\u001b[1;33m             \u001b[0mu_list\u001b[0m\u001b[1;33m[\u001b[0m\u001b[0mn\u001b[0m\u001b[1;33m]\u001b[0m \u001b[1;33m=\u001b[0m \u001b[1;36m6\u001b[0m \u001b[1;33m*\u001b[0m \u001b[0mu\u001b[0m\u001b[1;33m(\u001b[0m\u001b[0mn\u001b[0m \u001b[1;33m-\u001b[0m \u001b[1;36m2\u001b[0m\u001b[1;33m)\u001b[0m \u001b[1;33m*\u001b[0m \u001b[0mu\u001b[0m\u001b[1;33m(\u001b[0m\u001b[0mn\u001b[0m \u001b[1;33m-\u001b[0m \u001b[1;36m1\u001b[0m\u001b[1;33m)\u001b[0m \u001b[1;33m/\u001b[0m \u001b[1;33m(\u001b[0m\u001b[1;36m5\u001b[0m \u001b[1;33m*\u001b[0m \u001b[0mu\u001b[0m\u001b[1;33m(\u001b[0m\u001b[0mn\u001b[0m \u001b[1;33m-\u001b[0m \u001b[1;36m2\u001b[0m\u001b[1;33m)\u001b[0m \u001b[1;33m-\u001b[0m \u001b[0mu\u001b[0m\u001b[1;33m(\u001b[0m\u001b[0mn\u001b[0m \u001b[1;33m-\u001b[0m \u001b[1;36m1\u001b[0m\u001b[1;33m)\u001b[0m\u001b[1;33m)\u001b[0m\u001b[1;33m\u001b[0m\u001b[1;33m\u001b[0m\u001b[0m\n\u001b[0m\u001b[0;32m      7\u001b[0m         \u001b[1;32mreturn\u001b[0m \u001b[0mu_list\u001b[0m\u001b[1;33m[\u001b[0m\u001b[0mn\u001b[0m\u001b[1;33m]\u001b[0m\u001b[1;33m\u001b[0m\u001b[1;33m\u001b[0m\u001b[0m\n\u001b[0;32m      8\u001b[0m \u001b[1;33m\u001b[0m\u001b[0m\n",
      "... last 1 frames repeated, from the frame below ...\n",
      "\u001b[1;32m<ipython-input-232-daa67fe05e79>\u001b[0m in \u001b[0;36mu\u001b[1;34m(n)\u001b[0m\n\u001b[0;32m      4\u001b[0m     \u001b[1;32mdef\u001b[0m \u001b[0mu\u001b[0m\u001b[1;33m(\u001b[0m\u001b[0mn\u001b[0m\u001b[1;33m)\u001b[0m\u001b[1;33m:\u001b[0m\u001b[1;33m\u001b[0m\u001b[1;33m\u001b[0m\u001b[0m\n\u001b[0;32m      5\u001b[0m         \u001b[1;32mif\u001b[0m \u001b[0mu_list\u001b[0m\u001b[1;33m[\u001b[0m\u001b[0mn\u001b[0m\u001b[1;33m]\u001b[0m \u001b[1;32mis\u001b[0m \u001b[1;32mNone\u001b[0m\u001b[1;33m:\u001b[0m\u001b[1;33m\u001b[0m\u001b[1;33m\u001b[0m\u001b[0m\n\u001b[1;32m----> 6\u001b[1;33m             \u001b[0mu_list\u001b[0m\u001b[1;33m[\u001b[0m\u001b[0mn\u001b[0m\u001b[1;33m]\u001b[0m \u001b[1;33m=\u001b[0m \u001b[1;36m6\u001b[0m \u001b[1;33m*\u001b[0m \u001b[0mu\u001b[0m\u001b[1;33m(\u001b[0m\u001b[0mn\u001b[0m \u001b[1;33m-\u001b[0m \u001b[1;36m2\u001b[0m\u001b[1;33m)\u001b[0m \u001b[1;33m*\u001b[0m \u001b[0mu\u001b[0m\u001b[1;33m(\u001b[0m\u001b[0mn\u001b[0m \u001b[1;33m-\u001b[0m \u001b[1;36m1\u001b[0m\u001b[1;33m)\u001b[0m \u001b[1;33m/\u001b[0m \u001b[1;33m(\u001b[0m\u001b[1;36m5\u001b[0m \u001b[1;33m*\u001b[0m \u001b[0mu\u001b[0m\u001b[1;33m(\u001b[0m\u001b[0mn\u001b[0m \u001b[1;33m-\u001b[0m \u001b[1;36m2\u001b[0m\u001b[1;33m)\u001b[0m \u001b[1;33m-\u001b[0m \u001b[0mu\u001b[0m\u001b[1;33m(\u001b[0m\u001b[0mn\u001b[0m \u001b[1;33m-\u001b[0m \u001b[1;36m1\u001b[0m\u001b[1;33m)\u001b[0m\u001b[1;33m)\u001b[0m\u001b[1;33m\u001b[0m\u001b[1;33m\u001b[0m\u001b[0m\n\u001b[0m\u001b[0;32m      7\u001b[0m         \u001b[1;32mreturn\u001b[0m \u001b[0mu_list\u001b[0m\u001b[1;33m[\u001b[0m\u001b[0mn\u001b[0m\u001b[1;33m]\u001b[0m\u001b[1;33m\u001b[0m\u001b[1;33m\u001b[0m\u001b[0m\n\u001b[0;32m      8\u001b[0m \u001b[1;33m\u001b[0m\u001b[0m\n",
      "\u001b[1;31mRecursionError\u001b[0m: maximum recursion depth exceeded"
     ]
    }
   ],
   "source": [
    "def fcn(n):\n",
    "    u_list = [None] * 10000\n",
    "    \n",
    "    def u(n):\n",
    "        if u_list[n] is None:\n",
    "            u_list[n] = 6 * u(n - 2) * u(n - 1) / (5 * u(n - 2) - u(n - 1))\n",
    "        return u_list[n]\n",
    "        \n",
    "    return u(n)\n",
    "\n",
    "print(fcn(17), 131072)\n",
    "print(fcn(21), 2097152)\n",
    "print(fcn(14), 16384)\n",
    "print(fcn(43), 8796093022208)\n",
    "print(fcn(19), 524288)"
   ]
  },
  {
   "cell_type": "markdown",
   "metadata": {},
   "source": [
    "__#2__ Using function from solution #1 I try to find which sequence is hidden behind ${}u_n$:"
   ]
  },
  {
   "cell_type": "code",
   "execution_count": 228,
   "metadata": {},
   "outputs": [
    {
     "name": "stdout",
     "output_type": "stream",
     "text": [
      "1 2 4.0 8.0 16.0 32.0 64.0 128.0 256.0 512.0 1024.0 2048.0 4096.0 8192.0 16384.0 32768.0 65536.0 131072.0 "
     ]
    }
   ],
   "source": [
    "for i in range(0, 18):\n",
    "    print(fcn(i), end=' ')"
   ]
  },
  {
   "cell_type": "markdown",
   "metadata": {},
   "source": [
    "Eureka! The sequence ${u_n}$ is power of number 2.\n",
    "\n",
    "And the next solution passes all tests:"
   ]
  },
  {
   "cell_type": "code",
   "execution_count": 229,
   "metadata": {},
   "outputs": [
    {
     "name": "stdout",
     "output_type": "stream",
     "text": [
      "131072 131072\n",
      "2097152 2097152\n",
      "16384 16384\n",
      "8796093022208 8796093022208\n",
      "524288 524288\n"
     ]
    }
   ],
   "source": [
    "def fcn(n):\n",
    "    return 2 ** n\n",
    "\n",
    "print(fcn(17), 131072)\n",
    "print(fcn(21), 2097152)\n",
    "print(fcn(14), 16384)\n",
    "print(fcn(43), 8796093022208)\n",
    "print(fcn(19), 524288)"
   ]
  },
  {
   "cell_type": "markdown",
   "metadata": {},
   "source": [
    "20200908"
   ]
  },
  {
   "cell_type": "markdown",
   "metadata": {},
   "source": [
    "### Area or Perimeter\n",
    "https://www.codewars.com/kata/5ab6538b379d20ad880000ab  \n",
    "8 kyu\n",
    "\n",
    "You are given the length and width of a 4-sided polygon. The polygon can either be a rectangle or a square.  \n",
    "If it is a square, return its area. If it is a rectangle, return its perimeter.\n",
    "\n",
    "area_or_perimeter(6, 10) --> 32  \n",
    "area_or_perimeter(4, 4) --> 16  \n",
    "\n",
    "Note: for the purposes of this kata you will assume that it is a square if its length and width are equal, otherwise it is a rectangle."
   ]
  },
  {
   "cell_type": "markdown",
   "metadata": {},
   "source": [
    "__My solution:__"
   ]
  },
  {
   "cell_type": "code",
   "execution_count": 260,
   "metadata": {},
   "outputs": [
    {
     "name": "stdout",
     "output_type": "stream",
     "text": [
      "16 16\n",
      "32 32\n"
     ]
    }
   ],
   "source": [
    "def area_or_perimeter(l , w):\n",
    "    return l * w if l == w else 2 * (l + w)\n",
    "\n",
    "print(area_or_perimeter(4, 4), 16)\n",
    "print(area_or_perimeter(6, 10), 32)"
   ]
  },
  {
   "cell_type": "markdown",
   "metadata": {},
   "source": [
    "__Quite witty and funny solution of another codewar user:__ "
   ]
  },
  {
   "cell_type": "code",
   "execution_count": 261,
   "metadata": {},
   "outputs": [
    {
     "name": "stdout",
     "output_type": "stream",
     "text": [
      "16 16\n",
      "32 32\n"
     ]
    }
   ],
   "source": [
    "def area_or_perimeter(l , w):\n",
    "    return [2 * (l + w), l * w][l == w]\n",
    "\n",
    "print(area_or_perimeter(4, 4), 16)\n",
    "print(area_or_perimeter(6, 10), 32)"
   ]
  },
  {
   "cell_type": "markdown",
   "metadata": {},
   "source": [
    "### Fix string case\n",
    "https://www.codewars.com/kata/5b180e9fedaa564a7000009a   \n",
    "7 kyu\n",
    "\n",
    "In this Kata, you will be given a string that may have mixed uppercase and lowercase letters and your task is to convert that string to either lowercase only or uppercase only based on:\n",
    "\n",
    "make as few changes as possible.  \n",
    "if the string contains equal number of uppercase and lowercase letters, convert the string to lowercase.  \n",
    "\n",
    "For example:\n",
    "\n",
    "solve(\"coDe\") = \"code\". Lowercase characters > uppercase. Change only the \"D\" to lowercase.  \n",
    "solve(\"CODe\") = \"CODE\". Uppercase characters > lowecase. Change only the \"e\" to uppercase.  \n",
    "solve(\"coDE\") = \"code\". Upper == lowercase. Change all to lowercase.\n",
    "\n",
    "More examples in test cases. Good luck!"
   ]
  },
  {
   "cell_type": "code",
   "execution_count": 262,
   "metadata": {},
   "outputs": [
    {
     "name": "stdout",
     "output_type": "stream",
     "text": [
      "Help on method_descriptor:\n",
      "\n",
      "islower(self, /)\n",
      "    Return True if the string is a lowercase string, False otherwise.\n",
      "    \n",
      "    A string is lowercase if all cased characters in the string are lowercase and\n",
      "    there is at least one cased character in the string.\n",
      "\n"
     ]
    }
   ],
   "source": [
    "help(str.islower)"
   ]
  },
  {
   "cell_type": "markdown",
   "metadata": {},
   "source": [
    "__My solution:__"
   ]
  },
  {
   "cell_type": "code",
   "execution_count": 266,
   "metadata": {},
   "outputs": [
    {
     "name": "stdout",
     "output_type": "stream",
     "text": [
      "code code\n",
      "CODE CODE\n",
      "code code\n",
      "code code\n"
     ]
    }
   ],
   "source": [
    "def solve(s):\n",
    "    return s.lower() if sum(c.islower() for c in s) >= len(s) / 2 else s.upper()\n",
    "\n",
    "print(solve(\"code\"),\"code\")\n",
    "print(solve(\"CODe\"),\"CODE\")\n",
    "print(solve(\"COde\"),\"code\")\n",
    "print(solve(\"Code\"),\"code\")"
   ]
  },
  {
   "cell_type": "markdown",
   "metadata": {},
   "source": [
    "__Other codewar users' solutions:__"
   ]
  },
  {
   "cell_type": "markdown",
   "metadata": {},
   "source": [
    "__#1__"
   ]
  },
  {
   "cell_type": "code",
   "execution_count": 267,
   "metadata": {},
   "outputs": [],
   "source": [
    "def solve(s):\n",
    "    return s.upper() if sum(map(str.isupper, s)) * 2 > len(s) else s.lower()"
   ]
  },
  {
   "cell_type": "code",
   "execution_count": 269,
   "metadata": {},
   "outputs": [
    {
     "name": "stdout",
     "output_type": "stream",
     "text": [
      "Help on method_descriptor:\n",
      "\n",
      "isupper(self, /)\n",
      "    Return True if the string is an uppercase string, False otherwise.\n",
      "    \n",
      "    A string is uppercase if all cased characters in the string are uppercase and\n",
      "    there is at least one cased character in the string.\n",
      "\n"
     ]
    }
   ],
   "source": [
    "help(str.isupper)"
   ]
  },
  {
   "cell_type": "markdown",
   "metadata": {},
   "source": [
    "__#2__"
   ]
  },
  {
   "cell_type": "code",
   "execution_count": 270,
   "metadata": {},
   "outputs": [],
   "source": [
    "def solve(s):\n",
    "    return (s.lower, s.upper)[sum(map(str.isupper, s)) > len(s) / 2]()"
   ]
  },
  {
   "cell_type": "markdown",
   "metadata": {},
   "source": [
    "20200909"
   ]
  },
  {
   "cell_type": "markdown",
   "metadata": {},
   "source": [
    "### Crack the PIN\n",
    "https://www.codewars.com/kata/5efae11e2d12df00331f91a6  \n",
    "6 kyu\n",
    "\n",
    "Given is a md5 hash of a five digits long PIN. It is given as string. Md5 is a function to hash your password: \"password123\" ===> \"482c811da5d5b4bc6d497ffa98491e38\"\n",
    "\n",
    "Why is this usefull? Hash functions like md5 can create a hash from string in a short time and it is impossible to find out the password, if you only got the hash. The only way is cracking it, means try every combination, hash it and compare it with the hash you want to crack. (There are also other ways of attacking md5 but that's another story) Every Website and OS is storing their passwords as hashes, so if a hacker gets access to the database, he can do nothing, as long the password is safe enough.\n",
    "\n",
    "What is a hash: https://en.wikipedia.org/wiki/Hash_function#:~:text=A%20hash%20function%20is%20any,table%20called%20a%20hash%20table.\n",
    "\n",
    "What is md5: https://en.wikipedia.org/wiki/MD5\n",
    "\n",
    "Note: Many languages have build in tools to hash md5. If not, you can write your own md5 function or google for an example.\n",
    "\n",
    "Here is another kata on generating md5 hashes: https://www.codewars.com/kata/password-hashes\n",
    "\n",
    "Your task is to return the cracked PIN as string.\n",
    "\n",
    "This is a little fun kata, to show you, how weak PINs are and how important a bruteforce protection is, if you create your own login."
   ]
  },
  {
   "cell_type": "code",
   "execution_count": 275,
   "metadata": {},
   "outputs": [
    {
     "name": "stdout",
     "output_type": "stream",
     "text": [
      "dcddb75469b4b4875094e14561e573d8\n"
     ]
    },
    {
     "data": {
      "text/plain": [
       "'dcddb75469b4b4875094e14561e573d8'"
      ]
     },
     "execution_count": 275,
     "metadata": {},
     "output_type": "execute_result"
    }
   ],
   "source": [
    "import hashlib\n",
    "\n",
    "print(hashlib.md5('00000'.encode('UTF-8')).hexdigest())\n",
    "hashlib.md5(b'00000').hexdigest()"
   ]
  },
  {
   "cell_type": "code",
   "execution_count": 294,
   "metadata": {},
   "outputs": [
    {
     "data": {
      "text/plain": [
       "[(0, 0), (0, 1), (0, 2), (1, 1), (1, 2), (2, 2)]"
      ]
     },
     "execution_count": 294,
     "metadata": {},
     "output_type": "execute_result"
    }
   ],
   "source": [
    "from itertools import combinations_with_replacement\n",
    "\n",
    "list(combinations_with_replacement(range(3), 2))"
   ]
  },
  {
   "cell_type": "code",
   "execution_count": 296,
   "metadata": {},
   "outputs": [
    {
     "name": "stdout",
     "output_type": "stream",
     "text": [
      "[(0, 0), (0, 1), (0, 2), (0, 3), (0, 4), (0, 5), (0, 6), (0, 7), (0, 8), (1, 1), (1, 2), (1, 3), (1, 4), (1, 5), (1, 6), (1, 7), (1, 8), (2, 2), (2, 3), (2, 4), (2, 5), (2, 6), (2, 7), (2, 8), (3, 3), (3, 4), (3, 5), (3, 6), (3, 7), (3, 8), (4, 4), (4, 5), (4, 6), (4, 7), (4, 8), (5, 5), (5, 6), (5, 7), (5, 8), (6, 6), (6, 7), (6, 8), (7, 7), (7, 8), (8, 8)]\n",
      "00\n",
      "01\n",
      "02\n",
      "03\n",
      "04\n",
      "05\n",
      "06\n",
      "07\n",
      "08\n",
      "09\n",
      "11\n",
      "12\n",
      "13\n",
      "14\n",
      "15\n",
      "16\n",
      "17\n",
      "18\n",
      "19\n",
      "22\n",
      "23\n",
      "24\n",
      "25\n",
      "26\n",
      "27\n",
      "28\n",
      "29\n",
      "33\n",
      "34\n",
      "35\n",
      "36\n",
      "37\n",
      "38\n",
      "39\n",
      "44\n",
      "45\n",
      "46\n",
      "47\n",
      "48\n",
      "49\n",
      "55\n",
      "56\n",
      "57\n",
      "58\n",
      "59\n",
      "66\n",
      "67\n",
      "68\n",
      "69\n",
      "77\n",
      "78\n",
      "79\n",
      "88\n",
      "89\n",
      "99\n"
     ]
    }
   ],
   "source": [
    "from itertools import permutations\n",
    "\n",
    "print(list(combinations_with_replacement(range(9), 2)))\n",
    "#for p in permutations(range(9), 2): # TypeError: sequence item 0: expected str instance, int found\n",
    "#    print(''.join(p))\n",
    "for p in combinations_with_replacement('0123456789', 2):\n",
    "    print(''.join(p))"
   ]
  },
  {
   "cell_type": "code",
   "execution_count": 297,
   "metadata": {},
   "outputs": [
    {
     "name": "stdout",
     "output_type": "stream",
     "text": [
      "12345 12345\n",
      "00078 00078\n"
     ]
    }
   ],
   "source": [
    "from itertools import combinations_with_replacement\n",
    "import hashlib\n",
    "\n",
    "def crack(hash):\n",
    "    for comb in combinations_with_replacement('0123456789', 5):\n",
    "        if hashlib.md5(''.join(comb).encode('UTF-8')).hexdigest() == hash:\n",
    "            return ''.join(comb)\n",
    "        \n",
    "print(crack(\"827ccb0eea8a706c4c34a16891f84e7b\"), \"12345\")\n",
    "print(crack(\"86aa400b65433b608a9db30070ec60cd\"), \"00078\")"
   ]
  },
  {
   "cell_type": "code",
   "execution_count": 289,
   "metadata": {},
   "outputs": [
    {
     "data": {
      "text/plain": [
       "'86aa400b65433b608a9db30070ec60cd'"
      ]
     },
     "execution_count": 289,
     "metadata": {},
     "output_type": "execute_result"
    }
   ],
   "source": [
    "hashlib.md5('00078'.encode('UTF-8')).hexdigest()"
   ]
  },
  {
   "cell_type": "code",
   "execution_count": 292,
   "metadata": {},
   "outputs": [
    {
     "name": "stdout",
     "output_type": "stream",
     "text": [
      "True\n"
     ]
    }
   ],
   "source": [
    "if ('1', '2', '3', '4', '5') in permutations('0123456789', 5):\n",
    "    print(True)"
   ]
  },
  {
   "cell_type": "code",
   "execution_count": 298,
   "metadata": {},
   "outputs": [],
   "source": [
    "if ('0', '0', '0', '7', '8') in permutations('0123456789', 5):\n",
    "    print(True)"
   ]
  },
  {
   "cell_type": "code",
   "execution_count": 299,
   "metadata": {},
   "outputs": [
    {
     "name": "stdout",
     "output_type": "stream",
     "text": [
      "True\n"
     ]
    }
   ],
   "source": [
    "if ('0', '0', '0', '7', '8') in combinations_with_replacement('0123456789', 5):\n",
    "    print(True)"
   ]
  },
  {
   "cell_type": "markdown",
   "metadata": {},
   "source": [
    "I have to use product instead of permutations combinations_with_replacement!!!"
   ]
  },
  {
   "cell_type": "markdown",
   "metadata": {},
   "source": [
    "__My solution:__"
   ]
  },
  {
   "cell_type": "code",
   "execution_count": null,
   "metadata": {},
   "outputs": [],
   "source": [
    "from itertools import product\n",
    "import hashlib\n",
    "\n",
    "def crack(hash):\n",
    "    for comb in product('0123456789', repeat=5):\n",
    "        if hashlib.md5(''.join(comb).encode('UTF-8')).hexdigest() == hash:\n",
    "            return ''.join(comb)\n",
    "        \n",
    "print(crack(\"827ccb0eea8a706c4c34a16891f84e7b\"), \"12345\")\n",
    "print(crack(\"86aa400b65433b608a9db30070ec60cd\"), \"00078\")"
   ]
  },
  {
   "cell_type": "markdown",
   "metadata": {},
   "source": [
    "__Other codewar users' solutions:__"
   ]
  },
  {
   "cell_type": "markdown",
   "metadata": {},
   "source": [
    "__#1__ The greatest idea to use integer numbers and str.zfill() (or f'{a:05}' for a in range(10 ** n)):"
   ]
  },
  {
   "cell_type": "code",
   "execution_count": null,
   "metadata": {},
   "outputs": [],
   "source": [
    "import hashlib\n",
    "def crack(hash):\n",
    "    for i in range(100000):\n",
    "        if hashlib.md5(str(i).zfill(5).encode()).hexdigest() == hash:\n",
    "            return str(i).zfill(5)"
   ]
  },
  {
   "cell_type": "markdown",
   "metadata": {},
   "source": [
    "__#2__ Using dict with all hashes"
   ]
  },
  {
   "cell_type": "code",
   "execution_count": null,
   "metadata": {},
   "outputs": [],
   "source": [
    "import hashlib\n",
    "def create_crack(n):\n",
    "    rainbow = {hashlib.md5(f'{a:05}'.encode()).hexdigest() : f'{a:05}' for a in range(10 ** n)}\n",
    "    return rainbow.get\n",
    "\n",
    "crack = create_crack(6)"
   ]
  },
  {
   "cell_type": "markdown",
   "metadata": {},
   "source": [
    "20200910"
   ]
  },
  {
   "cell_type": "markdown",
   "metadata": {},
   "source": [
    "### Get the mean of an array\n",
    "https://www.codewars.com/kata/563e320cee5dddcf77000158  \n",
    "8 kyu\n",
    "\n",
    "It's the academic year's end, fateful moment of your school report. The averages must be calculated. All the students come to you and entreat you to calculate their average for them. Easy ! You just need to write a script.\n",
    "\n",
    "Return the average of the given array rounded down to its nearest integer.\n",
    "\n",
    "The array will never be empty."
   ]
  },
  {
   "cell_type": "markdown",
   "metadata": {},
   "source": [
    "__My solution:__"
   ]
  },
  {
   "cell_type": "code",
   "execution_count": 300,
   "metadata": {},
   "outputs": [],
   "source": [
    "def get_average(marks):\n",
    "    return int(sum(marks) / len(marks))"
   ]
  },
  {
   "cell_type": "markdown",
   "metadata": {},
   "source": [
    "__Other codewar users' solutions:__"
   ]
  },
  {
   "cell_type": "markdown",
   "metadata": {},
   "source": [
    "__#1__"
   ]
  },
  {
   "cell_type": "code",
   "execution_count": 304,
   "metadata": {},
   "outputs": [
    {
     "name": "stdout",
     "output_type": "stream",
     "text": [
      "3\n",
      "11 11 didn't work for [1,2,15,15,17,11,12,17,17,14,13,15,6,11,8,7]\n"
     ]
    }
   ],
   "source": [
    "def get_average(marks):\n",
    "    return sum(marks) // len(marks)\n",
    "\n",
    "print(get_average([1, 2, 7]))\n",
    "print(get_average([1,2,15,15,17,11,12,17,17,14,13,15,6,11,8,7]), 11, \"didn't work for [1,2,15,15,17,11,12,17,17,14,13,15,6,11,8,7]\")"
   ]
  },
  {
   "cell_type": "markdown",
   "metadata": {},
   "source": [
    "__#2__ Using numpy"
   ]
  },
  {
   "cell_type": "code",
   "execution_count": 302,
   "metadata": {},
   "outputs": [],
   "source": [
    "import numpy\n",
    "\n",
    "def get_average(marks):\n",
    "    return int(numpy.mean(marks))"
   ]
  },
  {
   "cell_type": "markdown",
   "metadata": {},
   "source": [
    "__#3__ Using numpy, strange import and  lambda"
   ]
  },
  {
   "cell_type": "code",
   "execution_count": null,
   "metadata": {},
   "outputs": [],
   "source": [
    "get_average = lambda m: int(__import__(\"numpy\").mean(m))"
   ]
  },
  {
   "cell_type": "markdown",
   "metadata": {},
   "source": [
    "### Word values\n",
    "https://www.codewars.com/kata/598d91785d4ce3ec4f000018  \n",
    "7 kyu\n",
    "\n",
    "Given a string \"abc\" and assuming that each letter in the string has a value equal to its position in the alphabet, our string will have a value of 1 + 2 + 3 = 6. This means that: a = 1, b = 2, c = 3 ....z = 26.\n",
    "\n",
    "You will be given a list of strings and your task will be to return the values of the strings as explained above multiplied by the position of that string in the list. For our purpose, position begins with 1.\n",
    "\n",
    "nameValue [\"abc\",\"abc abc\"] should return [6,24] because of [ 6 * 1, 12 * 2 ]. Note how spaces are ignored.\n",
    "\n",
    "\"abc\" has a value of 6, while \"abc abc\" has a value of 12. Now, the value at position 1 is multiplied by 1 while the value at position 2 is multiplied by 2.\n",
    "\n",
    "Input will only contain lowercase characters and spaces.\n",
    "\n",
    "Good luck!"
   ]
  },
  {
   "cell_type": "code",
   "execution_count": 305,
   "metadata": {},
   "outputs": [
    {
     "name": "stdout",
     "output_type": "stream",
     "text": [
      "Help on method_descriptor:\n",
      "\n",
      "isalpha(self, /)\n",
      "    Return True if the string is an alphabetic string, False otherwise.\n",
      "    \n",
      "    A string is alphabetic if all characters in the string are alphabetic and there\n",
      "    is at least one character in the string.\n",
      "\n"
     ]
    }
   ],
   "source": [
    "help(str.isalpha)"
   ]
  },
  {
   "cell_type": "code",
   "execution_count": 308,
   "metadata": {},
   "outputs": [
    {
     "data": {
      "text/plain": [
       "(False, False, False)"
      ]
     },
     "execution_count": 308,
     "metadata": {},
     "output_type": "execute_result"
    }
   ],
   "source": [
    "'.'.isalpha(), ' '.isalpha(), '_'.isalpha()"
   ]
  },
  {
   "cell_type": "code",
   "execution_count": 309,
   "metadata": {},
   "outputs": [
    {
     "data": {
      "text/plain": [
       "97"
      ]
     },
     "execution_count": 309,
     "metadata": {},
     "output_type": "execute_result"
    }
   ],
   "source": [
    "ord('a')"
   ]
  },
  {
   "cell_type": "markdown",
   "metadata": {},
   "source": [
    "__My solution:__"
   ]
  },
  {
   "cell_type": "code",
   "execution_count": 310,
   "metadata": {},
   "outputs": [
    {
     "name": "stdout",
     "output_type": "stream",
     "text": [
      "[6, 12, 18, 24] [6, 12, 18, 24]\n",
      "[88, 12, 225] [88, 12, 225]\n"
     ]
    }
   ],
   "source": [
    "def name_value(my_list):\n",
    "    return [sum(ord(c) - 96 for c in string if c.isalpha()) * i for i, string in enumerate(my_list, 1)]\n",
    "\n",
    "print(name_value([\"abc\",\"abc\",\"abc\",\"abc\"]),[6,12,18,24])\n",
    "print(name_value([\"codewars\",\"abc\",\"xyz\"]),[88,12,225])"
   ]
  },
  {
   "cell_type": "markdown",
   "metadata": {},
   "source": [
    "One little change:"
   ]
  },
  {
   "cell_type": "code",
   "execution_count": 311,
   "metadata": {},
   "outputs": [
    {
     "name": "stdout",
     "output_type": "stream",
     "text": [
      "[6, 12, 18, 24] [6, 12, 18, 24]\n",
      "[88, 12, 225] [88, 12, 225]\n"
     ]
    }
   ],
   "source": [
    "def name_value(my_list):\n",
    "    return [i * sum(ord(c) - 96 for c in string if c.isalpha()) for i, string in enumerate(my_list, 1)]\n",
    "\n",
    "print(name_value([\"abc\",\"abc\",\"abc\",\"abc\"]),[6,12,18,24])\n",
    "print(name_value([\"codewars\",\"abc\",\"xyz\"]),[88,12,225])"
   ]
  },
  {
   "cell_type": "markdown",
   "metadata": {},
   "source": [
    "__Other codewar users' solutions:__"
   ]
  },
  {
   "cell_type": "markdown",
   "metadata": {},
   "source": [
    "__#1__"
   ]
  },
  {
   "cell_type": "code",
   "execution_count": 324,
   "metadata": {},
   "outputs": [
    {
     "name": "stdout",
     "output_type": "stream",
     "text": [
      "[6, 12, 18, 24] [6, 12, 18, 24]\n",
      "[88, 12, 225] [88, 12, 225]\n"
     ]
    }
   ],
   "source": [
    "def name_value(my_list):\n",
    "    return [i * sum(map(lambda c: [0, ord(c) - 96][c.isalpha()], word)) for i, word in enumerate(my_list, 1)]\n",
    "\n",
    "print(name_value([\"abc\",\"abc\",\"abc\",\"abc\"]),[6,12,18,24])\n",
    "print(name_value([\"codewars\",\"abc\",\"xyz\"]),[88,12,225])"
   ]
  },
  {
   "cell_type": "markdown",
   "metadata": {},
   "source": [
    "__#2__"
   ]
  },
  {
   "cell_type": "code",
   "execution_count": 321,
   "metadata": {},
   "outputs": [
    {
     "name": "stdout",
     "output_type": "stream",
     "text": [
      "[6, 12, 18, 24] [6, 12, 18, 24]\n",
      "[88, 12, 225] [88, 12, 225]\n"
     ]
    }
   ],
   "source": [
    "from string import ascii_lowercase\n",
    "\n",
    "def name_value(my_list):\n",
    "    value_map = dict(zip(ascii_lowercase, range(1, 30))) # т.е. в zip можно передевать последовательности разных длин\n",
    "    #value_map = {letter:i for i, letter in enumerate(ascii_lowercase, 1)}\n",
    "    #value_map = dict(((letter, i) for i, letter in enumerate(ascii_lowercase, 1)))\n",
    "    return [i * sum(value_map.get(c, 0) for c in word) for i, word in enumerate(my_list, 1)]\n",
    "    \n",
    "print(name_value([\"abc\",\"abc\",\"abc\",\"abc\"]),[6,12,18,24])\n",
    "print(name_value([\"codewars\",\"abc\",\"xyz\"]),[88,12,225])"
   ]
  },
  {
   "cell_type": "markdown",
   "metadata": {},
   "source": [
    "__#3__"
   ]
  },
  {
   "cell_type": "code",
   "execution_count": 327,
   "metadata": {},
   "outputs": [
    {
     "name": "stdout",
     "output_type": "stream",
     "text": [
      "[6, 12, 18, 24] [6, 12, 18, 24]\n",
      "[88, 12, 225] [88, 12, 225]\n"
     ]
    }
   ],
   "source": [
    "name_value = lambda l: [(i + 1) * sum([(1 + 'abcdefghijklmnopqrstuvwxyz'.index(c) if c in 'abcdefghijklmnopqrstuvwxyz' else 0) for c in list(l[i])]) for i in range(len(l))]\n",
    "\n",
    "print(name_value([\"abc\",\"abc\",\"abc\",\"abc\"]),[6,12,18,24])\n",
    "print(name_value([\"codewars\",\"abc\",\"xyz\"]),[88,12,225])"
   ]
  },
  {
   "cell_type": "code",
   "execution_count": 325,
   "metadata": {},
   "outputs": [
    {
     "name": "stdout",
     "output_type": "stream",
     "text": [
      "Help on method_descriptor:\n",
      "\n",
      "index(...)\n",
      "    S.index(sub[, start[, end]]) -> int\n",
      "    \n",
      "    Return the lowest index in S where substring sub is found, \n",
      "    such that sub is contained within S[start:end].  Optional\n",
      "    arguments start and end are interpreted as in slice notation.\n",
      "    \n",
      "    Raises ValueError when the substring is not found.\n",
      "\n"
     ]
    }
   ],
   "source": [
    "help(str.index)"
   ]
  },
  {
   "cell_type": "code",
   "execution_count": 326,
   "metadata": {},
   "outputs": [
    {
     "name": "stdout",
     "output_type": "stream",
     "text": [
      "Help on method_descriptor:\n",
      "\n",
      "find(...)\n",
      "    S.find(sub[, start[, end]]) -> int\n",
      "    \n",
      "    Return the lowest index in S where substring sub is found,\n",
      "    such that sub is contained within S[start:end].  Optional\n",
      "    arguments start and end are interpreted as in slice notation.\n",
      "    \n",
      "    Return -1 on failure.\n",
      "\n"
     ]
    }
   ],
   "source": [
    "help(str.find)"
   ]
  },
  {
   "cell_type": "markdown",
   "metadata": {},
   "source": [
    "I've made a little change:"
   ]
  },
  {
   "cell_type": "code",
   "execution_count": 330,
   "metadata": {},
   "outputs": [
    {
     "name": "stdout",
     "output_type": "stream",
     "text": [
      "[6, 12, 18, 24] [6, 12, 18, 24]\n",
      "[88, 12, 225] [88, 12, 225]\n"
     ]
    }
   ],
   "source": [
    "name_value = lambda l: [i * sum((1 + 'abcdefghijklmnopqrstuvwxyz'.find(c)) for c in string) for i, string in enumerate(l, 1)]\n",
    "\n",
    "print(name_value([\"abc\",\"abc\",\"abc\",\"abc\"]),[6,12,18,24])\n",
    "print(name_value([\"codewars\",\"abc\",\"xyz\"]),[88,12,225])"
   ]
  },
  {
   "cell_type": "markdown",
   "metadata": {},
   "source": [
    "20200911"
   ]
  },
  {
   "cell_type": "markdown",
   "metadata": {},
   "source": [
    "### Character with longest consecutive repetition\n",
    "https://www.codewars.com/kata/586d6cefbcc21eed7a001155  \n",
    "6 kyu\n",
    "\n",
    "For a given string s find the character c (or C) with longest consecutive repetition and return:\n",
    "\n",
    "(c, l)\n",
    "where l (or L) is the length of the repetition. If there are two or more characters with the same l return the first in order of appearance.\n",
    "\n",
    "For empty string return:\n",
    "\n",
    "('', 0)\n",
    "Happy coding! :)"
   ]
  },
  {
   "cell_type": "markdown",
   "metadata": {},
   "source": [
    "__My solutions:__"
   ]
  },
  {
   "cell_type": "markdown",
   "metadata": {},
   "source": [
    "__#1__"
   ]
  },
  {
   "cell_type": "code",
   "execution_count": 354,
   "metadata": {},
   "outputs": [
    {
     "name": "stdout",
     "output_type": "stream",
     "text": [
      "['chars', 'count', 'cur', 'longest', 'longest_count', 'prev']\n",
      "aaaabb ('a', 4) ('a', 4)\n",
      "['chars', 'count', 'cur', 'longest', 'longest_count', 'prev']\n",
      "bbbaaabaaaa ('a', 4) ('a', 4)\n",
      "['chars', 'count', 'cur', 'longest', 'longest_count', 'prev']\n",
      "cbdeuuu900 ('u', 3) ('u', 3)\n",
      "['chars', 'count', 'cur', 'longest', 'longest_count', 'prev']\n",
      "abbbbb ('b', 5) ('b', 5)\n",
      "['chars', 'count', 'cur', 'longest', 'longest_count', 'prev']\n",
      "aabb ('a', 2) ('a', 2)\n",
      "['chars', 'count', 'cur', 'longest', 'longest_count', 'prev']\n",
      "ba ('b', 1) ('b', 1)\n",
      "['chars', 'count', 'longest', 'longest_count', 'prev']\n",
      " ('', 0) ('', 0)\n"
     ]
    }
   ],
   "source": [
    "def longest_repetition(chars):\n",
    "    longest, longest_count = '', 0    \n",
    "    prev, count = '', 0\n",
    "    for cur in chars:\n",
    "        if cur == prev:\n",
    "            count += 1\n",
    "        else:\n",
    "            if count > longest_count:\n",
    "                longest, longest_count = prev, count\n",
    "\n",
    "            prev, count = cur, 1\n",
    "    return (longest, longest_count) if count <= longest_count else (prev, count)\n",
    "\n",
    "tests = [\n",
    "    # [input, expected],\n",
    "    [\"aaaabb\", ('a', 4)],\n",
    "    [\"bbbaaabaaaa\", ('a', 4)],\n",
    "    [\"cbdeuuu900\", ('u', 3)],\n",
    "    [\"abbbbb\", ('b', 5)],\n",
    "    [\"aabb\", ('a', 2)],\n",
    "    [\"ba\", ('b', 1)],\n",
    "    [\"\", ('', 0)],\n",
    "]\n",
    "\n",
    "for test in tests:\n",
    "    print(test[0], longest_repetition(test[0]), test[1])"
   ]
  },
  {
   "cell_type": "code",
   "execution_count": null,
   "metadata": {},
   "outputs": [],
   "source": [
    "dic(longest_repetition)"
   ]
  },
  {
   "cell_type": "markdown",
   "metadata": {},
   "source": [
    "Код ниже, с __вложенной__ функцией compare(), осуществляющее сравнение по правилам, не работает, т.к. внутри функции compare() происходит создание новых собственных локальных переменных longest, longest_count вместо изменения старых. Решение этого - использовать ключевое слово __nonlocal__ внутри функции compare(), см. следующий после этого код (рeшение #2):"
   ]
  },
  {
   "cell_type": "code",
   "execution_count": 360,
   "metadata": {},
   "outputs": [
    {
     "name": "stdout",
     "output_type": "stream",
     "text": [
      "['chars', 'compare', 'count', 'cur', 'longest', 'longest_count', 'prev']\n",
      "['count', 'prev']\n"
     ]
    },
    {
     "ename": "UnboundLocalError",
     "evalue": "local variable 'longest_count' referenced before assignment",
     "output_type": "error",
     "traceback": [
      "\u001b[1;31m---------------------------------------------------------------------------\u001b[0m",
      "\u001b[1;31mUnboundLocalError\u001b[0m                         Traceback (most recent call last)",
      "\u001b[1;32m<ipython-input-360-a77b2b2dc4f6>\u001b[0m in \u001b[0;36m<module>\u001b[1;34m\u001b[0m\n\u001b[0;32m     30\u001b[0m \u001b[1;33m\u001b[0m\u001b[0m\n\u001b[0;32m     31\u001b[0m \u001b[1;32mfor\u001b[0m \u001b[0mtest\u001b[0m \u001b[1;32min\u001b[0m \u001b[0mtests\u001b[0m\u001b[1;33m:\u001b[0m\u001b[1;33m\u001b[0m\u001b[1;33m\u001b[0m\u001b[0m\n\u001b[1;32m---> 32\u001b[1;33m     \u001b[0mprint\u001b[0m\u001b[1;33m(\u001b[0m\u001b[0mtest\u001b[0m\u001b[1;33m[\u001b[0m\u001b[1;36m0\u001b[0m\u001b[1;33m]\u001b[0m\u001b[1;33m,\u001b[0m \u001b[0mlongest_repetition\u001b[0m\u001b[1;33m(\u001b[0m\u001b[0mtest\u001b[0m\u001b[1;33m[\u001b[0m\u001b[1;36m0\u001b[0m\u001b[1;33m]\u001b[0m\u001b[1;33m)\u001b[0m\u001b[1;33m,\u001b[0m \u001b[0mtest\u001b[0m\u001b[1;33m[\u001b[0m\u001b[1;36m1\u001b[0m\u001b[1;33m]\u001b[0m\u001b[1;33m)\u001b[0m\u001b[1;33m\u001b[0m\u001b[1;33m\u001b[0m\u001b[0m\n\u001b[0m",
      "\u001b[1;32m<ipython-input-360-a77b2b2dc4f6>\u001b[0m in \u001b[0;36mlongest_repetition\u001b[1;34m(chars)\u001b[0m\n\u001b[0;32m     15\u001b[0m             \u001b[0mprev\u001b[0m\u001b[1;33m,\u001b[0m \u001b[0mcount\u001b[0m \u001b[1;33m=\u001b[0m \u001b[0mcur\u001b[0m\u001b[1;33m,\u001b[0m \u001b[1;36m1\u001b[0m\u001b[1;33m\u001b[0m\u001b[1;33m\u001b[0m\u001b[0m\n\u001b[0;32m     16\u001b[0m     \u001b[0mprint\u001b[0m\u001b[1;33m(\u001b[0m\u001b[0mdir\u001b[0m\u001b[1;33m(\u001b[0m\u001b[1;33m)\u001b[0m\u001b[1;33m)\u001b[0m\u001b[1;33m\u001b[0m\u001b[1;33m\u001b[0m\u001b[0m\n\u001b[1;32m---> 17\u001b[1;33m     \u001b[0mcompare\u001b[0m\u001b[1;33m(\u001b[0m\u001b[1;33m)\u001b[0m\u001b[1;33m\u001b[0m\u001b[1;33m\u001b[0m\u001b[0m\n\u001b[0m\u001b[0;32m     18\u001b[0m     \u001b[1;32mreturn\u001b[0m \u001b[1;33m(\u001b[0m\u001b[0mlongest\u001b[0m\u001b[1;33m,\u001b[0m \u001b[0mlongest_count\u001b[0m\u001b[1;33m)\u001b[0m\u001b[1;33m\u001b[0m\u001b[1;33m\u001b[0m\u001b[0m\n\u001b[0;32m     19\u001b[0m \u001b[1;33m\u001b[0m\u001b[0m\n",
      "\u001b[1;32m<ipython-input-360-a77b2b2dc4f6>\u001b[0m in \u001b[0;36mcompare\u001b[1;34m()\u001b[0m\n\u001b[0;32m      5\u001b[0m     \u001b[1;32mdef\u001b[0m \u001b[0mcompare\u001b[0m\u001b[1;33m(\u001b[0m\u001b[1;33m)\u001b[0m\u001b[1;33m:\u001b[0m\u001b[1;33m\u001b[0m\u001b[1;33m\u001b[0m\u001b[0m\n\u001b[0;32m      6\u001b[0m         \u001b[0mprint\u001b[0m\u001b[1;33m(\u001b[0m\u001b[0mdir\u001b[0m\u001b[1;33m(\u001b[0m\u001b[1;33m)\u001b[0m\u001b[1;33m)\u001b[0m\u001b[1;33m\u001b[0m\u001b[1;33m\u001b[0m\u001b[0m\n\u001b[1;32m----> 7\u001b[1;33m         \u001b[1;32mif\u001b[0m \u001b[0mcount\u001b[0m \u001b[1;33m>\u001b[0m \u001b[0mlongest_count\u001b[0m\u001b[1;33m:\u001b[0m\u001b[1;33m\u001b[0m\u001b[1;33m\u001b[0m\u001b[0m\n\u001b[0m\u001b[0;32m      8\u001b[0m             \u001b[0mlongest\u001b[0m\u001b[1;33m,\u001b[0m \u001b[0mlongest_count\u001b[0m \u001b[1;33m=\u001b[0m \u001b[0mprev\u001b[0m\u001b[1;33m,\u001b[0m \u001b[0mcount\u001b[0m\u001b[1;33m\u001b[0m\u001b[1;33m\u001b[0m\u001b[0m\n\u001b[0;32m      9\u001b[0m \u001b[1;33m\u001b[0m\u001b[0m\n",
      "\u001b[1;31mUnboundLocalError\u001b[0m: local variable 'longest_count' referenced before assignment"
     ]
    }
   ],
   "source": [
    "def longest_repetition(chars):\n",
    "    longest, longest_count = '', 0    \n",
    "    prev, count = '', 0\n",
    "    \n",
    "    def compare():\n",
    "        print(dir())\n",
    "        if count > longest_count:\n",
    "            longest, longest_count = prev, count\n",
    "        \n",
    "    for cur in chars + '':\n",
    "        if cur == prev:\n",
    "            count += 1\n",
    "        else:\n",
    "            #compare()\n",
    "            prev, count = cur, 1\n",
    "    print(dir())      \n",
    "    compare()\n",
    "    return (longest, longest_count)\n",
    "\n",
    "tests = [\n",
    "    # [input, expected],\n",
    "    [\"aaaabb\", ('a', 4)],\n",
    "    [\"bbbaaabaaaa\", ('a', 4)],\n",
    "    [\"cbdeuuu900\", ('u', 3)],\n",
    "    [\"abbbbb\", ('b', 5)],\n",
    "    [\"aabb\", ('a', 2)],\n",
    "    [\"ba\", ('b', 1)],\n",
    "    [\"\", ('', 0)],\n",
    "]\n",
    "\n",
    "for test in tests:\n",
    "    print(test[0], longest_repetition(test[0]), test[1])  "
   ]
  },
  {
   "cell_type": "markdown",
   "metadata": {},
   "source": [
    "__#2__"
   ]
  },
  {
   "cell_type": "code",
   "execution_count": 365,
   "metadata": {},
   "outputs": [
    {
     "name": "stdout",
     "output_type": "stream",
     "text": [
      "aaaabb ('a', 4) ('a', 4)\n",
      "bbbaaabaaaa ('a', 4) ('a', 4)\n",
      "cbdeuuu900 ('u', 3) ('u', 3)\n",
      "abbbbb ('b', 5) ('b', 5)\n",
      "aabb ('a', 2) ('a', 2)\n",
      "ba ('b', 1) ('b', 1)\n",
      " ('', 0) ('', 0)\n"
     ]
    }
   ],
   "source": [
    "def longest_repetition(chars):\n",
    "    longest, longest_count = '', 0    \n",
    "    prev, count = '', 0\n",
    "    \n",
    "    def compare():\n",
    "        #print(dir())\n",
    "        nonlocal longest, longest_count\n",
    "        if count > longest_count:\n",
    "            longest, longest_count = prev, count\n",
    "        \n",
    "    for cur in chars + '':\n",
    "        if cur == prev:\n",
    "            count += 1\n",
    "        else:\n",
    "            compare()\n",
    "            prev, count = cur, 1\n",
    "    #print(dir())      \n",
    "    compare()\n",
    "    return (longest, longest_count)\n",
    "\n",
    "tests = [\n",
    "    # [input, expected],\n",
    "    [\"aaaabb\", ('a', 4)],\n",
    "    [\"bbbaaabaaaa\", ('a', 4)],\n",
    "    [\"cbdeuuu900\", ('u', 3)],\n",
    "    [\"abbbbb\", ('b', 5)],\n",
    "    [\"aabb\", ('a', 2)],\n",
    "    [\"ba\", ('b', 1)],\n",
    "    [\"\", ('', 0)],\n",
    "]\n",
    "\n",
    "for test in tests:\n",
    "    print(test[0], longest_repetition(test[0]), test[1])  "
   ]
  },
  {
   "cell_type": "code",
   "execution_count": 343,
   "metadata": {},
   "outputs": [
    {
     "name": "stdout",
     "output_type": "stream",
     "text": [
      "Help on method_descriptor:\n",
      "\n",
      "startswith(...)\n",
      "    S.startswith(prefix[, start[, end]]) -> bool\n",
      "    \n",
      "    Return True if S starts with the specified prefix, False otherwise.\n",
      "    With optional start, test S beginning at that position.\n",
      "    With optional end, stop comparing S at that position.\n",
      "    prefix can also be a tuple of strings to try.\n",
      "\n"
     ]
    }
   ],
   "source": [
    "help(str.startswith)"
   ]
  },
  {
   "cell_type": "code",
   "execution_count": 345,
   "metadata": {},
   "outputs": [
    {
     "name": "stdout",
     "output_type": "stream",
     "text": [
      "Help on method_descriptor:\n",
      "\n",
      "partition(self, sep, /)\n",
      "    Partition the string into three parts using the given separator.\n",
      "    \n",
      "    This will search for the separator in the string.  If the separator is found,\n",
      "    returns a 3-tuple containing the part before the separator, the separator\n",
      "    itself, and the part after it.\n",
      "    \n",
      "    If the separator is not found, returns a 3-tuple containing the original string\n",
      "    and two empty strings.\n",
      "\n"
     ]
    }
   ],
   "source": [
    "help(str.partition)"
   ]
  },
  {
   "cell_type": "markdown",
   "metadata": {},
   "source": [
    "### Iterative Rotation Cipher\n",
    "https://www.codewars.com/kata/5a3357ae8058425bde002674  \n",
    "5 kye\n",
    "\n",
    "In this kata, your task is to implement what I call Iterative Rotation Cipher (IRC). To complete the task, you will create an object with two methods, encode and decode. (For non-JavaScript versions, you only need to write the two functions without the enclosing dict)\n",
    "\n",
    "__Input__  \n",
    "The encode method will receive two arguments — a positive integer n and a string value.\n",
    "\n",
    "The decode method will receive one argument — a string value.\n",
    "\n",
    "__Output__    \n",
    "Each method will return a string value.\n",
    "\n",
    "__How It Works__  \n",
    "Encoding and decoding are done by performing a series of character and substring rotations on a string input.\n",
    "\n",
    "Encoding: The number of rotations is determined by the value of n. The sequence of rotations is applied in the following order:  \n",
    " Step 1: remove all spaces in the string (but remember their positions)  \n",
    " Step 2: shift the order of characters in the new string to the right by n characters  \n",
    " Step 3: put the spaces back in their original positions  \n",
    " Step 4: shift the characters of each substring (separated by one or more consecutive spaces) to the right by n  \n",
    "Repeat this process until it has been completed n times in total.  \n",
    "The value n is then prepended to the resulting string with a space.  \n",
    "\n",
    "Decoding: Decoding simply reverses the encoding process.\n",
    "\n",
    "__Test Example__  \n",
    "quote = 'If you wish to make an apple pie from scratch, you must first invent the universe.'  \n",
    "solution = '10 hu fmo a,ys vi utie mr snehn rni tvte .ysushou teI fwea pmapi apfrok rei tnocsclet'  \n",
    "IterativeRotationCipher[ 'encode' ](10,quote) == solution; //True\n",
    "\n",
    "\n",
    "Step-by-step breakdown:  \n",
    "Step 1 — remove all spaces:  \n",
    "'Ifyouwishtomakeanapplepiefromscratch,youmustfirstinventtheuniverse.'\n",
    "\n",
    "Step 2 — shift the order of string characters to the right by 10:  \n",
    "'euniverse.Ifyouwishtomakeanapplepiefromscratch,youmustfirstinventth'\n",
    "\n",
    "Step 3 — place the spaces back in their original positions:  \n",
    "'eu niv erse .I fyou wi shtom ake anap plepiefr oms crat ch,yo umustf irs tinventth'\n",
    "\n",
    "Step 4 — shift the order of characters for each space-separated substring to the right by 10:  \n",
    "'eu vni seer .I oufy wi shtom eak apan frplepie som atcr ch,yo ustfum sir htinventt'\n",
    "\n",
    "Repeat the steps 9 more times before returning the string with '10 ' prepended.  \n",
    "\n",
    "\n",
    "__Technical Details__  \n",
    "Input will always be valid.  \n",
    "The characters used in the strings include any combination of alphanumeric characters, the space character, the newline character, and any of the following: _!@#$%^&()[]{}+-*/=\"'<>,.?:;."
   ]
  },
  {
   "cell_type": "code",
   "execution_count": 384,
   "metadata": {},
   "outputs": [
    {
     "name": "stdout",
     "output_type": "stream",
     "text": [
      "<re.Match object; span=(2, 3), match=' '> (2, 3)    \n",
      "<re.Match object; span=(6, 7), match=' '> (6, 7)    \n",
      "<re.Match object; span=(11, 13), match='\\n '> (11, 13) \n",
      "  \n",
      " \n",
      "<re.Match object; span=(15, 16), match=' '> (15, 16)    \n",
      "<re.Match object; span=(20, 21), match=' '> (20, 21)    \n",
      "<re.Match object; span=(23, 24), match=' '> (23, 24)    \n",
      "<re.Match object; span=(29, 32), match='   '> (29, 32)        \n",
      "<re.Match object; span=(35, 37), match=' \\t'> (35, 37)  \t  \t\n",
      "<re.Match object; span=(41, 42), match=' '> (41, 42)    \n",
      "<re.Match object; span=(50, 51), match=' '> (50, 51)    \n",
      "<re.Match object; span=(54, 55), match=' '> (54, 55)    \n",
      "<re.Match object; span=(59, 60), match=' '> (59, 60)    \n",
      "<re.Match object; span=(65, 66), match=' '> (65, 66)    \n",
      "<re.Match object; span=(72, 73), match=' '> (72, 73)    \n",
      "<re.Match object; span=(76, 77), match=' '> (76, 77)    \n"
     ]
    }
   ],
   "source": [
    "import re\n",
    "\n",
    "string = 'If you wish\\n to make an apple   pie \\tfrom scratch, you must first invent the universe.'\n",
    "match = re.findall(r'\\s', string) # Возвращает список\n",
    "match = re.search(r'\\s', string) # Возвращает 1 объект Match\n",
    "match = re.finditer(r'\\s+', string) # Итератор на Match-объекты всех непересекающихся шаблонов\n",
    "\n",
    "for m in match:\n",
    "    print(m, m.span(), m.group(), m[0]) # match[0], match.group() - подстрока, соответствующая шаблону"
   ]
  },
  {
   "cell_type": "markdown",
   "metadata": {},
   "source": [
    "20200912 (доделывала 20200915)"
   ]
  },
  {
   "cell_type": "markdown",
   "metadata": {},
   "source": [
    "__My solution:__ Not best among other codewars users' solutions, but in my defense initially I thought that new lines (\\n) are interpreted as spaces too."
   ]
  },
  {
   "cell_type": "code",
   "execution_count": 56,
   "metadata": {},
   "outputs": [
    {
     "ename": "SyntaxError",
     "evalue": "invalid syntax (<ipython-input-56-4597b6dab143>, line 72)",
     "output_type": "error",
     "traceback": [
      "\u001b[1;36m  File \u001b[1;32m\"<ipython-input-56-4597b6dab143>\"\u001b[1;36m, line \u001b[1;32m72\u001b[0m\n\u001b[1;33m    string = 'G   XyA{ oQpKt6h c H6S(y _x<1rI }5/Y\"hiU <l5MyRye.T.4  s +cT SnM*8KGM' should equal '+M   SphX 1o{KKGH 6 cQ6h( y_tI<r l}5/SU\"i xM<5Yey4R.T.  \\n s*c yTnMy8AG'\u001b[0m\n\u001b[1;37m                                                                                          ^\u001b[0m\n\u001b[1;31mSyntaxError\u001b[0m\u001b[1;31m:\u001b[0m invalid syntax\n"
     ]
    }
   ],
   "source": [
    "import re\n",
    "\n",
    "def encode(n, string):    \n",
    "    def shift2right(string):    \n",
    "        if not string:\n",
    "            return ''\n",
    "        delim = len(string) - n % len(string)\n",
    "        return string[delim:] + string[:delim]     \n",
    "    \n",
    "    # Find all collections of consecutive spaces (only spaces, not \\n (unknown about \\t))\n",
    "    # and save all collections in the list in order to use them n times\n",
    "    # in outer for-loop (finditer returns iterator through string)\n",
    "    spaces = [space for space in re.finditer(r' +', string)]\n",
    "    \n",
    "    for i in range(n):\n",
    "        # Step 1: remove all spaces (only spaces, not \\n (unknown about \\t))\n",
    "        string = re.sub(r' +', '', string)\n",
    "        \n",
    "        # Step 2: shift the order of string characters to the right by n\n",
    "        string = shift2right(string)\n",
    "        \n",
    "        # Step 4 (3): shift the characters of each substring to the right by n\n",
    "        # Step 3 (4): put the spaces back in their original positions\n",
    "        pos = 0\n",
    "        new_string = ''\n",
    "        for space in spaces:\n",
    "            new_string += shift2right(string[: space.span()[0] - pos]) + space[0]\n",
    "            string = string[space.span()[0] - pos :]\n",
    "            pos = space.span()[1]\n",
    "        string = new_string + shift2right(string)\n",
    "        \n",
    "    return f'{n} {string}'\n",
    "\n",
    "            \n",
    "def decode(string):  \n",
    "    def shift2left(string):\n",
    "        if not string:\n",
    "            return ''\n",
    "        delim = n % len(string)\n",
    "        return string[delim:] + string[:delim]\n",
    "    \n",
    "    # Retrieve n\n",
    "    n, string = string.split(' ', maxsplit=1)\n",
    "    n = int(n)\n",
    "    \n",
    "    # Find all collections of consecutive spaces (only spaces, not \\n (unknown about \\t))\n",
    "    # and save them in the list in order to use them n times\n",
    "    # in outer for-loop (finditer returns iterator through string)\n",
    "    spaces = [space for space in re.finditer(r' +', string)]\n",
    "    \n",
    "    for i in range(n):\n",
    "        # Step 1: remove all spaces (only spaces, not \\n (unknown about \\t))\n",
    "        # Step 2: shift the characters of each substring to the left by n\n",
    "        # Step 3: join substrings in one string (without spaces) and shift\n",
    "        # the order of string characters to the left by n\n",
    "        string = shift2left(''.join(map(shift2left, string.split(' '))))\n",
    "\n",
    "        # Step 4: put the spaces back in their original positions\n",
    "        pos = 0\n",
    "        new_string = ''\n",
    "        for space in spaces:\n",
    "            new_string += string[: space.span()[0] - pos] + space[0]\n",
    "            string = string[space.span()[0] - pos :]\n",
    "            pos = space.span()[1]\n",
    "        string = new_string + string\n",
    "        \n",
    "    return string\n",
    "         \n",
    "\n",
    "string = 'If you wish\\n to make an apple   pie \\tfrom scratch, you must first invent the universe.'\n",
    "print(repr(string))\n",
    "print()\n",
    "string = encode(10, string)\n",
    "print(repr(string))\n",
    "print()\n",
    "print(repr(decode(string)))"
   ]
  },
  {
   "cell_type": "code",
   "execution_count": 45,
   "metadata": {},
   "outputs": [
    {
     "name": "stdout",
     "output_type": "stream",
     "text": [
      "fyouwantI\n"
     ]
    }
   ],
   "source": [
    "string = 'Ifyouwant'\n",
    "n = 10\n",
    "delim = n % len(string)\n",
    "print(string[delim:] + string[:delim])"
   ]
  },
  {
   "cell_type": "code",
   "execution_count": 37,
   "metadata": {},
   "outputs": [
    {
     "data": {
      "text/plain": [
       "'rgrterhwrhhthhrthrrehh'"
      ]
     },
     "execution_count": 37,
     "metadata": {},
     "output_type": "execute_result"
    }
   ],
   "source": [
    "# Remove all spaces, tabs and newlines\n",
    "# Альтернатива методу split()\n",
    "string = '  rgrt erhwrh  hthhrth\\t\\n  rrehh\\n  '\n",
    "string = re.sub(r'\\s+', '', string)\n",
    "string"
   ]
  },
  {
   "cell_type": "code",
   "execution_count": 69,
   "metadata": {},
   "outputs": [
    {
     "data": {
      "text/plain": [
       "(2, 4, 0, 2, 0, 2)"
      ]
     },
     "execution_count": 69,
     "metadata": {},
     "output_type": "execute_result"
    }
   ],
   "source": [
    "2 % 7, 4 % 7, 7 % 7, 9 % 7, 14 % 7, 16 % 7 "
   ]
  },
  {
   "cell_type": "code",
   "execution_count": 25,
   "metadata": {},
   "outputs": [
    {
     "name": "stdout",
     "output_type": "stream",
     "text": [
      "Help on method_descriptor:\n",
      "\n",
      "split(self, /, sep=None, maxsplit=-1)\n",
      "    Return a list of the words in the string, using sep as the delimiter string.\n",
      "    \n",
      "    sep\n",
      "      The delimiter according which to split the string.\n",
      "      None (the default value) means split according to any whitespace,\n",
      "      and discard empty strings from the result.\n",
      "    maxsplit\n",
      "      Maximum number of splits to do.\n",
      "      -1 (the default value) means no limit.\n",
      "\n"
     ]
    }
   ],
   "source": [
    "help(str.split)"
   ]
  },
  {
   "cell_type": "code",
   "execution_count": 57,
   "metadata": {},
   "outputs": [
    {
     "name": "stdout",
     "output_type": "stream",
     "text": [
      "Help on method_descriptor:\n",
      "\n",
      "replace(self, old, new, count=-1, /)\n",
      "    Return a copy with all occurrences of substring old replaced by new.\n",
      "    \n",
      "      count\n",
      "        Maximum number of occurrences to replace.\n",
      "        -1 (the default value) means replace all occurrences.\n",
      "    \n",
      "    If the optional argument count is given, only the first count occurrences are\n",
      "    replaced.\n",
      "\n"
     ]
    }
   ],
   "source": [
    "help(str.replace)"
   ]
  },
  {
   "cell_type": "markdown",
   "metadata": {},
   "source": [
    "__Other codewars users' solutions:__"
   ]
  },
  {
   "cell_type": "markdown",
   "metadata": {},
   "source": [
    "__#1__"
   ]
  },
  {
   "cell_type": "code",
   "execution_count": 66,
   "metadata": {},
   "outputs": [
    {
     "name": "stdout",
     "output_type": "stream",
     "text": [
      "'If    you wish\\n to make an apple   pie \\tfrom scratch, you must first invent the universe.'\n",
      "\n",
      "'10 cs    myo it,un fn thts vr isevn   tue eeisr Iuyo.fhw tni e\\nmk oaapf peelap mri csoahr\\ttu'\n",
      "\n",
      "'If    you wish\\n to make an apple   pie \\tfrom scratch, you must first invent the universe.'\n"
     ]
    }
   ],
   "source": [
    "def shift(string, step):\n",
    "    i = (step % len(string)) if string else 0\n",
    "    return f\"{string[-i:]}{string[:-i]}\"\n",
    "\n",
    "def encode(n, string):\n",
    "    for _ in range(n):\n",
    "        shifted = shift(string.replace(\" \", \"\"), n)\n",
    "        l = [len(word) for word in string.split(\" \")]\n",
    "        string = \" \".join(shift(shifted[sum(l[:i]):sum(l[:i+1])], n) for i in range(len(l)))\n",
    "    return f\"{n} {string}\"\n",
    "\n",
    "def decode(string):\n",
    "    n, string = int(string.partition(\" \")[0]), string.partition(\" \")[2]\n",
    "    for _ in range(n):\n",
    "        shifted = shift(\"\".join(shift(word, -n) for word in string.split(\" \")), -n)\n",
    "        l = [len(word) for word in string.split(\" \")]\n",
    "        string = \" \".join(shifted[sum(l[:i]):sum(l[:i+1])] for i in range(len(l)))\n",
    "    return string\n",
    "\n",
    "string = 'If    you wish\\n to make an apple   pie \\tfrom scratch, you must first invent the universe.'\n",
    "print(repr(string))\n",
    "print()\n",
    "string = encode(10, string)\n",
    "print(repr(string))\n",
    "print()\n",
    "print(repr(decode(string)))"
   ]
  },
  {
   "cell_type": "code",
   "execution_count": 70,
   "metadata": {},
   "outputs": [
    {
     "data": {
      "text/plain": [
       "([], [2], [2], [2, 3], [2, 3], [2, 3, 4])"
      ]
     },
     "execution_count": 70,
     "metadata": {},
     "output_type": "execute_result"
    }
   ],
   "source": [
    "l = [2, 3, 4, 2]\n",
    "l[:0], l[:0 + 1], l[:1], l[:1 + 1], l[:2], l[:2 + 1]"
   ]
  },
  {
   "cell_type": "markdown",
   "metadata": {},
   "source": [
    "При вызове str.split(' ') несколько пробелов, идущих подряд, будут интерпретироваться как разделители для пустых строк, и чем больше пробелов, тем больше получится пустых строк в результате (а при вызове str.split() пустых строк в результате не будет вообще, помимо того, что такой вызов аналогично разделяет по \\n и \\t):"
   ]
  },
  {
   "cell_type": "code",
   "execution_count": 69,
   "metadata": {},
   "outputs": [
    {
     "data": {
      "text/plain": [
       "['If',\n",
       " '',\n",
       " '',\n",
       " '',\n",
       " 'you',\n",
       " 'wish\\n',\n",
       " 'to',\n",
       " 'make',\n",
       " 'an',\n",
       " 'apple',\n",
       " '',\n",
       " '',\n",
       " 'pie',\n",
       " '\\tfrom',\n",
       " 'scratch,',\n",
       " 'you',\n",
       " 'must',\n",
       " 'first',\n",
       " 'invent',\n",
       " 'the',\n",
       " 'universe.']"
      ]
     },
     "execution_count": 69,
     "metadata": {},
     "output_type": "execute_result"
    }
   ],
   "source": [
    "string = 'If    you wish\\n to make an apple   pie \\tfrom scratch, you must first invent the universe.'\n",
    "l = [len(word) for word in string.split(\" \")]\n",
    "string.split(' ')"
   ]
  },
  {
   "cell_type": "code",
   "execution_count": 71,
   "metadata": {},
   "outputs": [
    {
     "name": "stdout",
     "output_type": "stream",
     "text": [
      "Help on method_descriptor:\n",
      "\n",
      "partition(self, sep, /)\n",
      "    Partition the string into three parts using the given separator.\n",
      "    \n",
      "    This will search for the separator in the string.  If the separator is found,\n",
      "    returns a 3-tuple containing the part before the separator, the separator\n",
      "    itself, and the part after it.\n",
      "    \n",
      "    If the separator is not found, returns a 3-tuple containing the original string\n",
      "    and two empty strings.\n",
      "\n"
     ]
    }
   ],
   "source": [
    "help(str.partition)"
   ]
  },
  {
   "cell_type": "markdown",
   "metadata": {},
   "source": [
    "### Hamming Numbers\n",
    "https://www.codewars.com/kata/526d84b98f428f14a60008da  \n",
    "4 kyu\n",
    "\n",
    "A Hamming number is a positive integer of the form 2i3j5k, for some non-negative integers i, j, and k.\n",
    "\n",
    "Write a function that computes the nth smallest Hamming number.\n",
    "\n",
    "Specifically:\n",
    "\n",
    "The first smallest Hamming number is 1 = 203050\n",
    "The second smallest Hamming number is 2 = 213050\n",
    "The third smallest Hamming number is 3 = 203150\n",
    "The fourth smallest Hamming number is 4 = 223050\n",
    "The fifth smallest Hamming number is 5 = 203051\n",
    "The 20 smallest Hamming numbers are given in example test fixture.\n",
    "\n",
    "Your code should be able to compute all of the smallest 5,000 (Clojure: 2000, NASM: 13282) Hamming numbers without timing out."
   ]
  },
  {
   "cell_type": "code",
   "execution_count": 13,
   "metadata": {},
   "outputs": [
    {
     "name": "stdout",
     "output_type": "stream",
     "text": [
      "[1]\n",
      "[1, 2]\n",
      "[1, 2, 4]\n",
      "[1, 2, 4]\n"
     ]
    }
   ],
   "source": [
    "def hammingNums(n):\n",
    "    ham_nums = []\n",
    "    for k in range(n):\n",
    "        for j in range(n):\n",
    "            for i in range(n):\n",
    "                ham_nums.append(2**i * 3**j * 5**k)\n",
    "                print(ham_nums)\n",
    "                if len(ham_nums) == n:\n",
    "                    return sorted(ham_nums)\n",
    "                      \n",
    "print(hammingNums(3))"
   ]
  },
  {
   "cell_type": "code",
   "execution_count": 35,
   "metadata": {},
   "outputs": [
    {
     "name": "stdout",
     "output_type": "stream",
     "text": [
      "1 0 0 0 {1}\n",
      "2 1 1 1 {1, 30}\n",
      "3 2 2 2 {1, 900, 30}\n",
      "None\n"
     ]
    }
   ],
   "source": [
    "def hammingNums(n):\n",
    "    ham_nums = set()\n",
    "    #ham_nums = []\n",
    "    for w in range(1, n):\n",
    "        for k in range(w - 1, w):\n",
    "            for j in range(w - 1, w):\n",
    "                for i in range(w - 1, w):\n",
    "                    ham_nums.add(2**i * 3**j * 5**k)\n",
    "                    #ham_nums.append(2**i * 3**j * 5**k)\n",
    "                    print(w, k, j, i, ham_nums)\n",
    "        if len(ham_nums) >= n:\n",
    "            return sorted(ham_nums)[:n]\n",
    "                    \n",
    "        \n",
    "print(hammingNums(4))"
   ]
  },
  {
   "cell_type": "code",
   "execution_count": 75,
   "metadata": {},
   "outputs": [
    {
     "name": "stdout",
     "output_type": "stream",
     "text": [
      "Test 0 OK\n",
      "Test 1 OK\n",
      "Test 2 OK\n",
      "Test 3 OK\n",
      "Test 4 OK\n",
      "Test 5 OK\n",
      "Test 6 OK\n",
      "Test 7 OK\n",
      "Test 8 OK\n",
      "Test 9 OK\n",
      "Test 10 OK\n",
      "Test 11 OK\n",
      "Test 12 OK\n",
      "Test 13 OK\n",
      "Test 14 OK\n",
      "Test 15 OK\n",
      "Test 16 OK\n",
      "Test 17 OK\n",
      "Test 18 OK\n",
      "Test 19 OK\n",
      "Test 20 OK\n",
      "Test 21 OK\n",
      "Test 22 OK\n",
      "Test 23 OK\n",
      "Test 24 OK\n",
      "Test 25 OK\n"
     ]
    }
   ],
   "source": [
    "def test_hamming(func):\n",
    "    lst = [1, 2, 3, 4, 5, 6, 8, 9, 10, 12, 15, 16, 18, 20, 24, 25, 27, 30, 32, 36, 40, 45, 48, 50, 54, 60]\n",
    "    for i in range(len(lst)):\n",
    "        res = func(i)\n",
    "        assert lst[:i] == res, res\n",
    "        print(f'Test {i} OK')  # эта строчка необязательна; просто для наглядности\n",
    "\n",
    "\n",
    "def hamming(n):\n",
    "    ham_nums = []\n",
    "    if n <= 1:\n",
    "        maxk = n\n",
    "    else:\n",
    "        maxk = n // 2\n",
    "        \n",
    "    for k in range(maxk):\n",
    "        for j in range(n):\n",
    "            for i in range(n):\n",
    "                ham_nums.append(2**i * 3**j * 5**k)\n",
    "    #print(sorted(ham_nums))\n",
    "    return sorted(ham_nums)[:n]                   \n",
    "\n",
    "test_hamming(hamming)\n",
    "# print(hamming(0))\n",
    "# print(hamming(1))\n",
    "# print(hamming(2))\n",
    "# print(hamming(3))\n",
    "# print(hamming(4))\n",
    "# print(hamming(5))"
   ]
  },
  {
   "cell_type": "markdown",
   "metadata": {},
   "source": [
    "__My solutions:__"
   ]
  },
  {
   "cell_type": "markdown",
   "metadata": {},
   "source": [
    "__#1__ It doesn't pass all tests because of \"Execution Timed Out\". It means that this solution isn't optimal."
   ]
  },
  {
   "cell_type": "code",
   "execution_count": 62,
   "metadata": {},
   "outputs": [
    {
     "name": "stdout",
     "output_type": "stream",
     "text": [
      "Test 1 OK\n",
      "Test 2 OK\n",
      "Test 3 OK\n",
      "Test 4 OK\n",
      "Test 5 OK\n",
      "Test 6 OK\n",
      "Test 7 OK\n",
      "Test 8 OK\n",
      "Test 9 OK\n",
      "Test 10 OK\n",
      "Test 11 OK\n",
      "Test 12 OK\n",
      "Test 13 OK\n",
      "Test 14 OK\n",
      "Test 15 OK\n",
      "Test 16 OK\n",
      "Test 17 OK\n",
      "Test 18 OK\n",
      "Test 19 OK\n",
      "Test 20 OK\n",
      "Test 21 OK\n",
      "Test 22 OK\n",
      "Test 23 OK\n",
      "Test 24 OK\n",
      "Test 25 OK\n",
      "Test 26 OK\n"
     ]
    }
   ],
   "source": [
    "def test_hamming(func):\n",
    "    lst = [1, 2, 3, 4, 5, 6, 8, 9, 10, 12, 15, 16, 18, 20, 24, 25, 27, 30, 32, 36, 40, 45, 48, 50, 54, 60]\n",
    "    for i, item in enumerate(lst, 1):\n",
    "        res = func(i)\n",
    "        assert item == res, res\n",
    "        print(f'Test {i} OK')  # эта строчка необязательна; просто для наглядности\n",
    "\n",
    "\n",
    "def hamming(n):\n",
    "    ham_nums = []\n",
    "    if n <= 1:\n",
    "        maxk = n\n",
    "    else:\n",
    "        maxk = n // 2\n",
    "        \n",
    "    for k in range(maxk):\n",
    "        for j in range(n):\n",
    "            for i in range(n):\n",
    "                ham_nums.append(2**i * 3**j * 5**k)\n",
    "    #print(sorted(ham_nums))\n",
    "    return sorted(ham_nums)[n - 1]                   \n",
    "\n",
    "test_hamming(hamming)\n",
    "# print(hamming(0))\n",
    "# print(hamming(1))\n",
    "# print(hamming(2))\n",
    "# print(hamming(3))\n",
    "# print(hamming(4))\n",
    "# print(hamming(5))"
   ]
  },
  {
   "cell_type": "markdown",
   "metadata": {},
   "source": [
    "__#2__ It doesn't pass all tests because of \"Execution Timed Out\". It means that this solution isn't optimal."
   ]
  },
  {
   "cell_type": "code",
   "execution_count": 87,
   "metadata": {},
   "outputs": [
    {
     "name": "stdout",
     "output_type": "stream",
     "text": [
      "Test 1 OK\n",
      "j 2 2\n",
      "Test 2 OK\n",
      "j 6 3\n",
      "Test 3 OK\n",
      "j 8 4\n",
      "Test 4 OK\n",
      "j 35 5\n",
      "Test 5 OK\n",
      "j 48 6\n",
      "Test 6 OK\n",
      "j 63 8\n",
      "Test 7 OK\n",
      "j 80 9\n",
      "Test 8 OK\n",
      "j 108 10\n",
      "Test 9 OK\n",
      "j 130 12\n",
      "Test 10 OK\n",
      "j 154 15\n",
      "Test 11 OK\n",
      "j 180 16\n",
      "Test 12 OK\n",
      "j 208 18\n",
      "Test 13 OK\n",
      "j 238 20\n",
      "Test 14 OK\n",
      "j 270 24\n",
      "Test 15 OK\n",
      "j 560 25\n",
      "Test 16 OK\n",
      "j 629 27\n",
      "Test 17 OK\n",
      "j 720 30\n",
      "Test 18 OK\n",
      "j 798 32\n",
      "Test 19 OK\n",
      "j 880 36\n",
      "Test 20 OK\n",
      "j 966 40\n",
      "Test 21 OK\n",
      "j 1056 45\n",
      "Test 22 OK\n",
      "j 1150 48\n",
      "Test 23 OK\n",
      "j 1248 50\n",
      "Test 24 OK\n",
      "j 1350 54\n",
      "Test 25 OK\n",
      "j 1456 60\n",
      "Test 26 OK\n"
     ]
    }
   ],
   "source": [
    "def test_hamming(func):\n",
    "    lst = [1, 2, 3, 4, 5, 6, 8, 9, 10, 12, 15, 16, 18, 20, 24, 25, 27, 30, 32, 36, 40, 45, 48, 50, 54, 60]\n",
    "    for i, item in enumerate(lst, 1):\n",
    "        res = func(i)\n",
    "        assert item == res, res\n",
    "        print(f'Test {i} OK')  # эта строчка необязательна; просто для наглядности\n",
    "\n",
    "\n",
    "def hamming(n):\n",
    "    ham_nums = []\n",
    "    for k in range(n):\n",
    "        \n",
    "        ham_nums.sort()\n",
    "        if len(ham_nums) >= n and ham_nums[n - 1] <= 5 ** k:\n",
    "            #print('k', len(ham_nums), ham_nums[n - 1])\n",
    "            return ham_nums[n - 1]\n",
    "        \n",
    "        for j in range(n):\n",
    "            \n",
    "            ham_nums.sort()\n",
    "            if len(ham_nums) >= n and ham_nums[n - 1] <= 3 ** j and ham_nums[n - 1] <= 5 ** (k + 1):\n",
    "                #print('j', len(ham_nums), ham_nums[n - 1])\n",
    "                return ham_nums[n - 1]\n",
    "            \n",
    "            for i in range(n):\n",
    "                ham_nums.append(2**i * 3**j * 5**k)\n",
    "    \n",
    "    ham_nums.sort()\n",
    "    return ham_nums[n - 1]                   \n",
    "\n",
    "test_hamming(hamming)\n",
    "# print(hamming(0))\n",
    "# print(hamming(1))\n",
    "# print(hamming(2))\n",
    "# print(hamming(3))\n",
    "# print(hamming(4))\n",
    "# print(hamming(5))"
   ]
  },
  {
   "cell_type": "markdown",
   "metadata": {},
   "source": [
    "__#3__ It doesn't pass all tests because of \"Execution Timed Out\". It means that this solution isn't optimal."
   ]
  },
  {
   "cell_type": "code",
   "execution_count": 88,
   "metadata": {},
   "outputs": [
    {
     "name": "stdout",
     "output_type": "stream",
     "text": [
      "Test 1 OK\n",
      "Test 2 OK\n",
      "Test 3 OK\n",
      "Test 4 OK\n",
      "Test 5 OK\n",
      "Test 6 OK\n",
      "Test 7 OK\n",
      "Test 8 OK\n",
      "Test 9 OK\n",
      "Test 10 OK\n",
      "Test 11 OK\n",
      "Test 12 OK\n",
      "Test 13 OK\n",
      "Test 14 OK\n",
      "Test 15 OK\n",
      "Test 16 OK\n",
      "Test 17 OK\n",
      "Test 18 OK\n",
      "Test 19 OK\n",
      "Test 20 OK\n",
      "Test 21 OK\n",
      "Test 22 OK\n",
      "Test 23 OK\n",
      "Test 24 OK\n",
      "Test 25 OK\n",
      "Test 26 OK\n"
     ]
    }
   ],
   "source": [
    "def test_hamming(func):\n",
    "    lst = [1, 2, 3, 4, 5, 6, 8, 9, 10, 12, 15, 16, 18, 20, 24, 25, 27, 30, 32, 36, 40, 45, 48, 50, 54, 60]\n",
    "    for i, item in enumerate(lst, 1):\n",
    "        res = func(i)\n",
    "        assert item == res, res\n",
    "        print(f'Test {i} OK')  # эта строчка необязательна; просто для наглядности\n",
    "\n",
    "\n",
    "def hamming(n):\n",
    "    ham_nums = []\n",
    "    for k in range(n):\n",
    "        \n",
    "        if len(ham_nums) >= n and max(ham_nums) <= 5 ** k:\n",
    "            #print('k', len(ham_nums))\n",
    "            return sorted(ham_nums)[n - 1]\n",
    "        \n",
    "        for j in range(n):\n",
    "            \n",
    "            if len(ham_nums) >= n and max(ham_nums) <= 3 ** j and max(ham_nums) <= 5 ** (k + 1):\n",
    "                #print('j', len(ham_nums))\n",
    "                return sorted(ham_nums)[n - 1]\n",
    "            \n",
    "            for i in range(n):\n",
    "                ham_nums.append(2**i * 3**j * 5**k)\n",
    "    \n",
    "    return sorted(ham_nums)[n - 1]                   \n",
    "\n",
    "test_hamming(hamming)\n",
    "# print(hamming(0))\n",
    "# print(hamming(1))\n",
    "# print(hamming(2))\n",
    "# print(hamming(3))\n",
    "# print(hamming(4))\n",
    "# print(hamming(5))"
   ]
  },
  {
   "cell_type": "code",
   "execution_count": 92,
   "metadata": {},
   "outputs": [
    {
     "name": "stdout",
     "output_type": "stream",
     "text": [
      "Test 1 OK\n",
      "Test 2 OK\n",
      "Test 3 OK\n",
      "Test 4 OK\n",
      "Test 5 OK\n",
      "Test 6 OK\n",
      "Test 7 OK\n",
      "Test 8 OK\n",
      "Test 9 OK\n",
      "Test 10 OK\n",
      "Test 11 OK\n",
      "Test 12 OK\n",
      "Test 13 OK\n",
      "Test 14 OK\n",
      "Test 15 OK\n",
      "Test 16 OK\n",
      "Test 17 OK\n",
      "Test 18 OK\n",
      "Test 19 OK\n",
      "Test 20 OK\n",
      "Test 21 OK\n",
      "Test 22 OK\n",
      "Test 23 OK\n",
      "Test 24 OK\n",
      "Test 25 OK\n",
      "Test 26 OK\n"
     ]
    }
   ],
   "source": [
    "def test_hamming(func):\n",
    "    lst = [1, 2, 3, 4, 5, 6, 8, 9, 10, 12, 15, 16, 18, 20, 24, 25, 27, 30, 32, 36, 40, 45, 48, 50, 54, 60]\n",
    "    for i, item in enumerate(lst, 1):\n",
    "        res = func(i)\n",
    "        assert item == res, res\n",
    "        print(f'Test {i} OK')  # эта строчка необязательна; просто для наглядности\n",
    "\n",
    "\n",
    "def hamming(n):\n",
    "    ham_nums = []\n",
    "    for k in range(n):\n",
    "        \n",
    "        if len(ham_nums) >= n and ham_nums[n - 1] <= 5 ** k:\n",
    "            #print('k', len(ham_nums))\n",
    "            return ham_nums[n - 1]\n",
    "        \n",
    "        for j in range(n):\n",
    "            \n",
    "            if len(ham_nums) >= n and ham_nums[n - 1] <= 3 ** j and ham_nums[n - 1] <= 5 ** (k + 1):\n",
    "                #print('j', len(ham_nums))\n",
    "                return ham_nums[n - 1]\n",
    "            \n",
    "            for i in range(n):\n",
    "                ham_nums.append(2**i * 3**j * 5**k)\n",
    "                ham_nums.sort()\n",
    "    \n",
    "    return ham_nums[n - 1]                  \n",
    "\n",
    "test_hamming(hamming)\n",
    "# print(hamming(0))\n",
    "# print(hamming(1))\n",
    "# print(hamming(2))\n",
    "# print(hamming(3))\n",
    "# print(hamming(4))\n",
    "# print(hamming(5))"
   ]
  },
  {
   "cell_type": "markdown",
   "metadata": {},
   "source": [
    "20200913"
   ]
  },
  {
   "cell_type": "markdown",
   "metadata": {},
   "source": [
    "Continue my researches of the right solution..."
   ]
  },
  {
   "cell_type": "code",
   "execution_count": 91,
   "metadata": {},
   "outputs": [
    {
     "name": "stdout",
     "output_type": "stream",
     "text": [
      "0 0 0 1\n",
      "0 0 1 2\n",
      "0 0 2 4\n",
      "0 0 3 8\n",
      "0 1 0 3\n",
      "0 1 1 6\n",
      "0 1 2 12\n",
      "0 1 3 24\n",
      "0 2 0 9\n",
      "0 2 1 18\n",
      "0 2 2 36\n",
      "0 2 3 72\n",
      "0 3 0 27\n",
      "0 3 1 54\n",
      "0 3 2 108\n",
      "0 3 3 216\n",
      "1 0 0 5\n",
      "1 0 1 10\n",
      "1 0 2 20\n",
      "1 0 3 40\n",
      "1 1 0 15\n",
      "1 1 1 30\n",
      "1 1 2 60\n",
      "1 1 3 120\n",
      "1 2 0 45\n",
      "1 2 1 90\n",
      "1 2 2 180\n",
      "1 2 3 360\n",
      "1 3 0 135\n",
      "1 3 1 270\n",
      "1 3 2 540\n",
      "1 3 3 1080\n",
      "2 0 0 25\n",
      "2 0 1 50\n",
      "2 0 2 100\n",
      "2 0 3 200\n",
      "2 1 0 75\n",
      "2 1 1 150\n",
      "2 1 2 300\n",
      "2 1 3 600\n",
      "2 2 0 225\n",
      "2 2 1 450\n",
      "2 2 2 900\n",
      "2 2 3 1800\n",
      "2 3 0 675\n",
      "2 3 1 1350\n",
      "2 3 2 2700\n",
      "2 3 3 5400\n",
      "3 0 0 125\n",
      "3 0 1 250\n",
      "3 0 2 500\n",
      "3 0 3 1000\n",
      "3 1 0 375\n",
      "3 1 1 750\n",
      "3 1 2 1500\n",
      "3 1 3 3000\n",
      "3 2 0 1125\n",
      "3 2 1 2250\n",
      "3 2 2 4500\n",
      "3 2 3 9000\n",
      "3 3 0 3375\n",
      "3 3 1 6750\n",
      "3 3 2 13500\n",
      "3 3 3 27000\n",
      "[1, 2, 4, 8, 3, 6, 12, 24, 9, 18, 36, 72, 27, 54, 108, 216, 5, 10, 20, 40, 15, 30, 60, 120, 45, 90, 180, 360, 135, 270, 540, 1080, 25, 50, 100, 200, 75, 150, 300, 600, 225, 450, 900, 1800, 675, 1350, 2700, 5400, 125, 250, 500, 1000, 375, 750, 1500, 3000, 1125, 2250, 4500, 9000, 3375, 6750, 13500, 27000]\n"
     ]
    }
   ],
   "source": [
    "def hammingNums(n):\n",
    "    ham_nums = []\n",
    "    for k in range(n):\n",
    "        for j in range(n):\n",
    "            for i in range(n):\n",
    "                ham_nums.append(2**i * 3**j * 5**k)\n",
    "                print(k, j, i, 2**i * 3**j * 5**k)\n",
    "\n",
    "    return ham_nums\n",
    "                      \n",
    "print(hammingNums(4))"
   ]
  },
  {
   "cell_type": "code",
   "execution_count": 96,
   "metadata": {},
   "outputs": [
    {
     "name": "stdout",
     "output_type": "stream",
     "text": [
      "72\n",
      "72\n",
      "72\n"
     ]
    }
   ],
   "source": [
    "x, y, z = 5, 3, 2\n",
    "print((1 + x) * (1 + y + z + y * z))\n",
    "x, y, z = 3, 2, 5\n",
    "print((1 + x) * (1 + y + z + y * z))\n",
    "x, y, z = 3, 5, 2\n",
    "print((1 + x) * (1 + y + z + y * z))"
   ]
  },
  {
   "cell_type": "markdown",
   "metadata": {},
   "source": [
    "20200917"
   ]
  },
  {
   "cell_type": "markdown",
   "metadata": {},
   "source": [
    "### A square of squares\n",
    "https://www.codewars.com/kata/54c27a33fb7da0db0100040e  \n",
    "7 kyu\n",
    "\n",
    "You like building blocks. You especially like building blocks that are squares. And what you even like more, is to arrange them into a square of square building blocks!\n",
    "\n",
    "However, sometimes, you can't arrange them into a square. Instead, you end up with an ordinary rectangle! Those blasted things! If you just had a way to know, whether you're currently working in vain… Wait! That's it! You just have to check if your number of building blocks is a perfect square.\n",
    "\n",
    "Task\n",
    "\n",
    "Given an integral number, determine if it's a square number:\n",
    "\n",
    "In mathematics, a square number or perfect square is an integer that is the square of an integer; in other words, it is the product of some integer with itself.\n",
    "\n",
    "The tests will always use some integral number, so don't worry about that in dynamic typed languages.\n",
    "\n",
    "Examples\n",
    "\n",
    "-1  =>  false  \n",
    " 0  =>  true  \n",
    " 3  =>  false  \n",
    " 4  =>  true  \n",
    "25  =>  true  \n",
    "26  =>  false  "
   ]
  },
  {
   "cell_type": "markdown",
   "metadata": {},
   "source": [
    "__My solutions:__"
   ]
  },
  {
   "cell_type": "markdown",
   "metadata": {},
   "source": [
    "__#1__"
   ]
  },
  {
   "cell_type": "markdown",
   "metadata": {},
   "source": [
    "def is_square(n):    \n",
    "    return True if n >= 0 and int(n ** 0.5) ** 2 == n else False\n",
    "\n",
    "print(is_square(-1), False, \"-1: Negative numbers cannot be square numbers\")\n",
    "print(is_square( 0), True, \"0 is a square number\")\n",
    "print(is_square( 3), False, \"3 is not a square number\")\n",
    "print(is_square( 4), True, \"4 is a square number\")\n",
    "print(is_square(25), True, \"25 is a square number\")\n",
    "print(is_square(26), False, \"26 is not a square number\")"
   ]
  },
  {
   "cell_type": "code",
   "execution_count": 115,
   "metadata": {},
   "outputs": [
    {
     "name": "stdout",
     "output_type": "stream",
     "text": [
      "False False -1: Negative numbers cannot be square numbers\n",
      "True True 0 is a square number\n",
      "False False 3 is not a square number\n",
      "True True 4 is a square number\n",
      "True True 25 is a square number\n",
      "False False 26 is not a square number\n"
     ]
    }
   ],
   "source": [
    "def is_square(n):    \n",
    "    return n >= 0 and int(n ** 0.5) ** 2 == n\n",
    "\n",
    "print(is_square(-1), False, \"-1: Negative numbers cannot be square numbers\")\n",
    "print(is_square( 0), True, \"0 is a square number\")\n",
    "print(is_square( 3), False, \"3 is not a square number\")\n",
    "print(is_square( 4), True, \"4 is a square number\")\n",
    "print(is_square(25), True, \"25 is a square number\")\n",
    "print(is_square(26), False, \"26 is not a square number\")"
   ]
  },
  {
   "cell_type": "code",
   "execution_count": 83,
   "metadata": {},
   "outputs": [
    {
     "data": {
      "text/plain": [
       "3.1622776601683795"
      ]
     },
     "execution_count": 83,
     "metadata": {},
     "output_type": "execute_result"
    }
   ],
   "source": [
    "n ** 0.5"
   ]
  },
  {
   "cell_type": "markdown",
   "metadata": {},
   "source": [
    "__#2__"
   ]
  },
  {
   "cell_type": "markdown",
   "metadata": {},
   "source": [
    "Если убрать n >= 0 из условия, то в тесте is_square(-1) вылетит ошибка: ValueError: math domain error, ниже буду разбираться в причине."
   ]
  },
  {
   "cell_type": "code",
   "execution_count": 108,
   "metadata": {},
   "outputs": [
    {
     "name": "stdout",
     "output_type": "stream",
     "text": [
      "False False -1: Negative numbers cannot be square numbers\n",
      "True True 0 is a square number\n",
      "False False 3 is not a square number\n",
      "True True 4 is a square number\n",
      "True True 25 is a square number\n",
      "False False 26 is not a square number\n"
     ]
    }
   ],
   "source": [
    "from math import sqrt\n",
    "\n",
    "def is_square(n):    \n",
    "    return True if n >= 0 and (sqrt(n)).is_integer() else False\n",
    "\n",
    "print(is_square(-1), False, \"-1: Negative numbers cannot be square numbers\")\n",
    "print(is_square( 0), True, \"0 is a square number\")\n",
    "print(is_square( 3), False, \"3 is not a square number\")\n",
    "print(is_square( 4), True, \"4 is a square number\")\n",
    "print(is_square(25), True, \"25 is a square number\")\n",
    "print(is_square(26), False, \"26 is not a square number\")"
   ]
  },
  {
   "cell_type": "code",
   "execution_count": 113,
   "metadata": {},
   "outputs": [
    {
     "name": "stdout",
     "output_type": "stream",
     "text": [
      "Help on built-in function sqrt in module math:\n",
      "\n",
      "sqrt(x, /)\n",
      "    Return the square root of x.\n",
      "\n"
     ]
    }
   ],
   "source": [
    "import math\n",
    "\n",
    "help(math.sqrt)"
   ]
  },
  {
   "cell_type": "markdown",
   "metadata": {},
   "source": [
    "Ошибка ValueError: math domain error появляется, если просто передать в функцию math.sqrt отрицательное число. Всё дело в том, что: This module (math) provides access to the mathematical functions defined by the C standard. These functions cannot be used with complex numbers... Receiving an exception instead of a complex result allows earlier detection of the unexpected complex number used as a parameter. \n",
    "\n",
    "Короче, модуль math не поддерживает комлексные числа и, если встречает такие, то выбрасывает исключение:"
   ]
  },
  {
   "cell_type": "code",
   "execution_count": 111,
   "metadata": {},
   "outputs": [
    {
     "ename": "ValueError",
     "evalue": "math domain error",
     "output_type": "error",
     "traceback": [
      "\u001b[1;31m---------------------------------------------------------------------------\u001b[0m",
      "\u001b[1;31mValueError\u001b[0m                                Traceback (most recent call last)",
      "\u001b[1;32m<ipython-input-111-d658d28f33be>\u001b[0m in \u001b[0;36m<module>\u001b[1;34m\u001b[0m\n\u001b[0;32m      1\u001b[0m \u001b[1;32mfrom\u001b[0m \u001b[0mmath\u001b[0m \u001b[1;32mimport\u001b[0m \u001b[0msqrt\u001b[0m\u001b[1;33m\u001b[0m\u001b[1;33m\u001b[0m\u001b[0m\n\u001b[0;32m      2\u001b[0m \u001b[1;33m\u001b[0m\u001b[0m\n\u001b[1;32m----> 3\u001b[1;33m \u001b[1;33m(\u001b[0m\u001b[0msqrt\u001b[0m\u001b[1;33m(\u001b[0m\u001b[1;33m-\u001b[0m\u001b[1;36m1\u001b[0m\u001b[1;33m)\u001b[0m\u001b[1;33m)\u001b[0m\u001b[1;33m\u001b[0m\u001b[1;33m\u001b[0m\u001b[0m\n\u001b[0m",
      "\u001b[1;31mValueError\u001b[0m: math domain error"
     ]
    }
   ],
   "source": [
    "from math import sqrt\n",
    "\n",
    "(sqrt(-1))   # ValueError: math domain error"
   ]
  },
  {
   "cell_type": "markdown",
   "metadata": {},
   "source": [
    "Так тоже не работает, но уже с другой ошибкой:"
   ]
  },
  {
   "cell_type": "code",
   "execution_count": 114,
   "metadata": {},
   "outputs": [
    {
     "ename": "AttributeError",
     "evalue": "'complex' object has no attribute 'is_integer'",
     "output_type": "error",
     "traceback": [
      "\u001b[1;31m---------------------------------------------------------------------------\u001b[0m",
      "\u001b[1;31mAttributeError\u001b[0m                            Traceback (most recent call last)",
      "\u001b[1;32m<ipython-input-114-24a21142173a>\u001b[0m in \u001b[0;36m<module>\u001b[1;34m\u001b[0m\n\u001b[0;32m      4\u001b[0m     \u001b[1;32mreturn\u001b[0m \u001b[1;32mTrue\u001b[0m \u001b[1;32mif\u001b[0m \u001b[1;33m(\u001b[0m\u001b[0mn\u001b[0m \u001b[1;33m**\u001b[0m \u001b[1;36m0.5\u001b[0m\u001b[1;33m)\u001b[0m\u001b[1;33m.\u001b[0m\u001b[0mis_integer\u001b[0m\u001b[1;33m(\u001b[0m\u001b[1;33m)\u001b[0m \u001b[1;32melse\u001b[0m \u001b[1;32mFalse\u001b[0m\u001b[1;33m\u001b[0m\u001b[1;33m\u001b[0m\u001b[0m\n\u001b[0;32m      5\u001b[0m \u001b[1;33m\u001b[0m\u001b[0m\n\u001b[1;32m----> 6\u001b[1;33m \u001b[0mprint\u001b[0m\u001b[1;33m(\u001b[0m\u001b[0mis_square\u001b[0m\u001b[1;33m(\u001b[0m\u001b[1;33m-\u001b[0m\u001b[1;36m1\u001b[0m\u001b[1;33m)\u001b[0m\u001b[1;33m,\u001b[0m \u001b[1;32mFalse\u001b[0m\u001b[1;33m,\u001b[0m \u001b[1;34m\"-1: Negative numbers cannot be square numbers\"\u001b[0m\u001b[1;33m)\u001b[0m\u001b[1;33m\u001b[0m\u001b[1;33m\u001b[0m\u001b[0m\n\u001b[0m\u001b[0;32m      7\u001b[0m \u001b[0mprint\u001b[0m\u001b[1;33m(\u001b[0m\u001b[0mis_square\u001b[0m\u001b[1;33m(\u001b[0m \u001b[1;36m0\u001b[0m\u001b[1;33m)\u001b[0m\u001b[1;33m,\u001b[0m \u001b[1;32mTrue\u001b[0m\u001b[1;33m,\u001b[0m \u001b[1;34m\"0 is a square number\"\u001b[0m\u001b[1;33m)\u001b[0m\u001b[1;33m\u001b[0m\u001b[1;33m\u001b[0m\u001b[0m\n\u001b[0;32m      8\u001b[0m \u001b[0mprint\u001b[0m\u001b[1;33m(\u001b[0m\u001b[0mis_square\u001b[0m\u001b[1;33m(\u001b[0m \u001b[1;36m3\u001b[0m\u001b[1;33m)\u001b[0m\u001b[1;33m,\u001b[0m \u001b[1;32mFalse\u001b[0m\u001b[1;33m,\u001b[0m \u001b[1;34m\"3 is not a square number\"\u001b[0m\u001b[1;33m)\u001b[0m\u001b[1;33m\u001b[0m\u001b[1;33m\u001b[0m\u001b[0m\n",
      "\u001b[1;32m<ipython-input-114-24a21142173a>\u001b[0m in \u001b[0;36mis_square\u001b[1;34m(n)\u001b[0m\n\u001b[0;32m      2\u001b[0m \u001b[1;33m\u001b[0m\u001b[0m\n\u001b[0;32m      3\u001b[0m \u001b[1;32mdef\u001b[0m \u001b[0mis_square\u001b[0m\u001b[1;33m(\u001b[0m\u001b[0mn\u001b[0m\u001b[1;33m)\u001b[0m\u001b[1;33m:\u001b[0m\u001b[1;33m\u001b[0m\u001b[1;33m\u001b[0m\u001b[0m\n\u001b[1;32m----> 4\u001b[1;33m     \u001b[1;32mreturn\u001b[0m \u001b[1;32mTrue\u001b[0m \u001b[1;32mif\u001b[0m \u001b[1;33m(\u001b[0m\u001b[0mn\u001b[0m \u001b[1;33m**\u001b[0m \u001b[1;36m0.5\u001b[0m\u001b[1;33m)\u001b[0m\u001b[1;33m.\u001b[0m\u001b[0mis_integer\u001b[0m\u001b[1;33m(\u001b[0m\u001b[1;33m)\u001b[0m \u001b[1;32melse\u001b[0m \u001b[1;32mFalse\u001b[0m\u001b[1;33m\u001b[0m\u001b[1;33m\u001b[0m\u001b[0m\n\u001b[0m\u001b[0;32m      5\u001b[0m \u001b[1;33m\u001b[0m\u001b[0m\n\u001b[0;32m      6\u001b[0m \u001b[0mprint\u001b[0m\u001b[1;33m(\u001b[0m\u001b[0mis_square\u001b[0m\u001b[1;33m(\u001b[0m\u001b[1;33m-\u001b[0m\u001b[1;36m1\u001b[0m\u001b[1;33m)\u001b[0m\u001b[1;33m,\u001b[0m \u001b[1;32mFalse\u001b[0m\u001b[1;33m,\u001b[0m \u001b[1;34m\"-1: Negative numbers cannot be square numbers\"\u001b[0m\u001b[1;33m)\u001b[0m\u001b[1;33m\u001b[0m\u001b[1;33m\u001b[0m\u001b[0m\n",
      "\u001b[1;31mAttributeError\u001b[0m: 'complex' object has no attribute 'is_integer'"
     ]
    }
   ],
   "source": [
    "from math import sqrt\n",
    "\n",
    "def is_square(n):    \n",
    "    return True if (n ** 0.5).is_integer() else False\n",
    "\n",
    "print(is_square(-1), False, \"-1: Negative numbers cannot be square numbers\")\n",
    "print(is_square( 0), True, \"0 is a square number\")\n",
    "print(is_square( 3), False, \"3 is not a square number\")\n",
    "print(is_square( 4), True, \"4 is a square number\")\n",
    "print(is_square(25), True, \"25 is a square number\")\n",
    "print(is_square(26), False, \"26 is not a square number\")"
   ]
  },
  {
   "cell_type": "code",
   "execution_count": 98,
   "metadata": {},
   "outputs": [
    {
     "name": "stdout",
     "output_type": "stream",
     "text": [
      "Help on method_descriptor:\n",
      "\n",
      "is_integer(self, /)\n",
      "    Return True if the float is an integer.\n",
      "\n"
     ]
    }
   ],
   "source": [
    "help(float.is_integer)"
   ]
  },
  {
   "cell_type": "code",
   "execution_count": 99,
   "metadata": {},
   "outputs": [
    {
     "ename": "AttributeError",
     "evalue": "type object 'complex' has no attribute 'is_integer'",
     "output_type": "error",
     "traceback": [
      "\u001b[1;31m---------------------------------------------------------------------------\u001b[0m",
      "\u001b[1;31mAttributeError\u001b[0m                            Traceback (most recent call last)",
      "\u001b[1;32m<ipython-input-99-0f39cb9b96d9>\u001b[0m in \u001b[0;36m<module>\u001b[1;34m\u001b[0m\n\u001b[1;32m----> 1\u001b[1;33m \u001b[0mhelp\u001b[0m\u001b[1;33m(\u001b[0m\u001b[0mcomplex\u001b[0m\u001b[1;33m.\u001b[0m\u001b[0mis_integer\u001b[0m\u001b[1;33m)\u001b[0m\u001b[1;33m\u001b[0m\u001b[1;33m\u001b[0m\u001b[0m\n\u001b[0m",
      "\u001b[1;31mAttributeError\u001b[0m: type object 'complex' has no attribute 'is_integer'"
     ]
    }
   ],
   "source": [
    "help(complex.is_integer) # AttributeError: type object 'complex' has no attribute 'is_integer'"
   ]
  },
  {
   "cell_type": "code",
   "execution_count": 102,
   "metadata": {},
   "outputs": [
    {
     "data": {
      "text/plain": [
       "complex"
      ]
     },
     "execution_count": 102,
     "metadata": {},
     "output_type": "execute_result"
    }
   ],
   "source": [
    "type((-1) ** 0.5)  # Без скобок -1 ** 0.5 результат неправильный"
   ]
  },
  {
   "cell_type": "code",
   "execution_count": 103,
   "metadata": {},
   "outputs": [
    {
     "data": {
      "text/plain": [
       "(6.123233995736766e-17+1j)"
      ]
     },
     "execution_count": 103,
     "metadata": {},
     "output_type": "execute_result"
    }
   ],
   "source": [
    "(-1) ** 0.5"
   ]
  },
  {
   "cell_type": "code",
   "execution_count": 104,
   "metadata": {},
   "outputs": [
    {
     "ename": "AttributeError",
     "evalue": "'complex' object has no attribute 'is_integer'",
     "output_type": "error",
     "traceback": [
      "\u001b[1;31m---------------------------------------------------------------------------\u001b[0m",
      "\u001b[1;31mAttributeError\u001b[0m                            Traceback (most recent call last)",
      "\u001b[1;32m<ipython-input-104-72f4fc6ca9ba>\u001b[0m in \u001b[0;36m<module>\u001b[1;34m\u001b[0m\n\u001b[1;32m----> 1\u001b[1;33m \u001b[1;33m(\u001b[0m\u001b[1;33m(\u001b[0m\u001b[1;33m-\u001b[0m\u001b[1;36m1\u001b[0m\u001b[1;33m)\u001b[0m \u001b[1;33m**\u001b[0m \u001b[1;36m0.5\u001b[0m\u001b[1;33m)\u001b[0m\u001b[1;33m.\u001b[0m\u001b[0mis_integer\u001b[0m\u001b[1;33m(\u001b[0m\u001b[1;33m)\u001b[0m\u001b[1;33m\u001b[0m\u001b[1;33m\u001b[0m\u001b[0m\n\u001b[0m",
      "\u001b[1;31mAttributeError\u001b[0m: 'complex' object has no attribute 'is_integer'"
     ]
    }
   ],
   "source": [
    "((-1) ** 0.5).is_integer()"
   ]
  },
  {
   "cell_type": "markdown",
   "metadata": {},
   "source": [
    "20200918"
   ]
  },
  {
   "cell_type": "markdown",
   "metadata": {},
   "source": [
    "### Smallest unused ID\n",
    "https://www.codewars.com/kata/55eea63119278d571d00006a  \n",
    "8 kyu\n",
    "\n",
    "Hey awesome programmer!\n",
    "\n",
    "You've got much data to manage and of course you use zero-based and non-negative ID's to make each data item unique!\n",
    "\n",
    "Therefore you need a method, which returns the smallest unused ID for your next new data item...\n",
    "\n",
    "Note: The given array of used IDs may be unsorted. For test reasons there may be duplicate IDs, but you don't have to find or remove them!\n",
    "\n",
    "Go on and code some pure awesomeness!"
   ]
  },
  {
   "cell_type": "markdown",
   "metadata": {},
   "source": [
    "__My solutions:__"
   ]
  },
  {
   "cell_type": "markdown",
   "metadata": {},
   "source": [
    "__#1__"
   ]
  },
  {
   "cell_type": "code",
   "execution_count": 116,
   "metadata": {},
   "outputs": [
    {
     "name": "stdout",
     "output_type": "stream",
     "text": [
      "11 11\n",
      "0 0\n",
      "4 4\n",
      "1 1\n",
      "0 0\n"
     ]
    }
   ],
   "source": [
    "def next_id(arr):\n",
    "    i = 0\n",
    "    while True:\n",
    "        if i not in arr:\n",
    "            return i\n",
    "        i += 1\n",
    "                \n",
    "print(next_id([0,1,2,3,4,5,6,7,8,9,10]), 11)\n",
    "print(next_id([5,4,3,2,1]), 0)\n",
    "print(next_id([0,1,2,3,5]), 4)\n",
    "print(next_id([0,0,0,0,0,0]), 1)\n",
    "print(next_id([]), 0)"
   ]
  },
  {
   "cell_type": "markdown",
   "metadata": {},
   "source": [
    "### Some CS50 stuff"
   ]
  },
  {
   "cell_type": "markdown",
   "metadata": {},
   "source": [
    "### Сaesar cipher (Шифр Цезаря)"
   ]
  },
  {
   "cell_type": "code",
   "execution_count": 117,
   "metadata": {},
   "outputs": [
    {
     "data": {
      "text/plain": [
       "(65, 90, 97, 122)"
      ]
     },
     "execution_count": 117,
     "metadata": {},
     "output_type": "execute_result"
    }
   ],
   "source": [
    "ord('A'), ord('Z'), ord('a'), ord('z')"
   ]
  },
  {
   "cell_type": "markdown",
   "metadata": {},
   "source": [
    "__My solutions:__"
   ]
  },
  {
   "cell_type": "markdown",
   "metadata": {},
   "source": [
    "__#1__"
   ]
  },
  {
   "cell_type": "code",
   "execution_count": 168,
   "metadata": {},
   "outputs": [
    {
     "name": "stdout",
     "output_type": "stream",
     "text": [
      "ABCDEFZabcdz DEFGHICdefgc\n",
      "ABCDEFZabcdz ABCDEFZabcdz\n",
      "Be sure to drink your Ovaltine! Or fher gb qevax lbhe Binygvar!\n"
     ]
    }
   ],
   "source": [
    "def func(string, n):\n",
    "    return ''.join([ch, chr([65 + ((ord(ch) - 65) + n % 26) % 26, 97 + ((ord(ch) - 97) + n % 26) % 26][ch.islower()])][ch.isalpha()] for ch in string)\n",
    "\n",
    "print('ABCDEFZabcdz', func('ABCDEFZabcdz', 29))\n",
    "print('ABCDEFZabcdz', func('ABCDEFZabcdz', 0))\n",
    "print('Be sure to drink your Ovaltine!', func('Be sure to drink your Ovaltine!', 13))"
   ]
  },
  {
   "cell_type": "code",
   "execution_count": 134,
   "metadata": {},
   "outputs": [
    {
     "data": {
      "text/plain": [
       "90"
      ]
     },
     "execution_count": 134,
     "metadata": {},
     "output_type": "execute_result"
    }
   ],
   "source": [
    "ord('Z')"
   ]
  },
  {
   "cell_type": "code",
   "execution_count": null,
   "metadata": {},
   "outputs": [],
   "source": [
    "1 + 3"
   ]
  },
  {
   "cell_type": "code",
   "execution_count": 120,
   "metadata": {},
   "outputs": [
    {
     "name": "stdout",
     "output_type": "stream",
     "text": [
      "Help on method_descriptor:\n",
      "\n",
      "islower(self, /)\n",
      "    Return True if the string is a lowercase string, False otherwise.\n",
      "    \n",
      "    A string is lowercase if all cased characters in the string are lowercase and\n",
      "    there is at least one cased character in the string.\n",
      "\n"
     ]
    }
   ],
   "source": [
    "help(str.islower)"
   ]
  },
  {
   "cell_type": "code",
   "execution_count": 121,
   "metadata": {},
   "outputs": [
    {
     "name": "stdout",
     "output_type": "stream",
     "text": [
      "Help on method_descriptor:\n",
      "\n",
      "isalpha(self, /)\n",
      "    Return True if the string is an alphabetic string, False otherwise.\n",
      "    \n",
      "    A string is alphabetic if all characters in the string are alphabetic and there\n",
      "    is at least one character in the string.\n",
      "\n"
     ]
    }
   ],
   "source": [
    "help(str.isalpha)"
   ]
  },
  {
   "cell_type": "markdown",
   "metadata": {},
   "source": [
    "__#2__ The same as #1 but longer"
   ]
  },
  {
   "cell_type": "code",
   "execution_count": 167,
   "metadata": {},
   "outputs": [
    {
     "name": "stdout",
     "output_type": "stream",
     "text": [
      "ABCDEFZabcdz DEFGHICdefgc\n",
      "ABCDEFZabcdz ABCDEFZabcdz\n",
      "Be sure to drink your Ovaltine! Or fher gb qevax lbhe Binygvar!\n"
     ]
    }
   ],
   "source": [
    "def func(string, n):\n",
    "    n %= 26\n",
    "    res = ''\n",
    "    for ch in string:\n",
    "        if ch.isalpha():\n",
    "            start = 97 if ch.islower() else 65\n",
    "            res += chr(start + ((ord(ch) - start) + n) % 26)\n",
    "        else:\n",
    "            res += ch\n",
    "            \n",
    "    return res\n",
    "\n",
    "print('ABCDEFZabcdz', func('ABCDEFZabcdz', 29))\n",
    "print('ABCDEFZabcdz', func('ABCDEFZabcdz', 0))\n",
    "print('Be sure to drink your Ovaltine!', func('Be sure to drink your Ovaltine!', 13))"
   ]
  },
  {
   "cell_type": "code",
   "execution_count": 164,
   "metadata": {},
   "outputs": [
    {
     "data": {
      "text/plain": [
       "(0, 0)"
      ]
     },
     "execution_count": 164,
     "metadata": {},
     "output_type": "execute_result"
    }
   ],
   "source": [
    "0 % 26, 26 % 26"
   ]
  },
  {
   "cell_type": "code",
   "execution_count": 166,
   "metadata": {},
   "outputs": [
    {
     "data": {
      "text/plain": [
       "26"
      ]
     },
     "execution_count": 166,
     "metadata": {},
     "output_type": "execute_result"
    }
   ],
   "source": [
    "ord('Z') - 65"
   ]
  },
  {
   "cell_type": "markdown",
   "metadata": {},
   "source": [
    "### Vigenère cipher (Шифр Виженера)"
   ]
  },
  {
   "cell_type": "markdown",
   "metadata": {},
   "source": [
    "__My solutions:__"
   ]
  },
  {
   "cell_type": "code",
   "execution_count": 169,
   "metadata": {},
   "outputs": [
    {
     "name": "stdout",
     "output_type": "stream",
     "text": [
      "Meet me at the park at eleven am!\n",
      "Negh zf av huf pcfx bt gzrwep oz!\n",
      "Meet me at the park at eleven am!\n",
      "Negh as oh gie rofy oh rmexsb oa!\n"
     ]
    }
   ],
   "source": [
    "from itertools import cycle\n",
    "\n",
    "def func(string, key):\n",
    "    it = cycle(key.lower())\n",
    "    res = ''\n",
    "    for ch in string:\n",
    "        if ch.isalpha():\n",
    "            # В ключе используем только маленькие буквы, номерация с 0 (ord('a') == 97)\n",
    "            n = ord(next(it)) - 97\n",
    "            start = 97 if ch.islower() else 65\n",
    "            res += chr(start + ((ord(ch) - start) + n) % 26)\n",
    "        else:\n",
    "            res += ch\n",
    "            \n",
    "    return res\n",
    "\n",
    "print('Meet me at the park at eleven am!', func('Meet me at the park at eleven am!', 'bacon'), sep='\\n')\n",
    "print('Meet me at the park at eleven am!', func('Meet me at the park at eleven am!', 'bacooooon'), sep='\\n')"
   ]
  },
  {
   "cell_type": "code",
   "execution_count": 151,
   "metadata": {},
   "outputs": [
    {
     "data": {
      "text/plain": [
       "'b'"
      ]
     },
     "execution_count": 151,
     "metadata": {},
     "output_type": "execute_result"
    }
   ],
   "source": [
    "key = 'bacon'\n",
    "next(cycle(key.lower()))"
   ]
  },
  {
   "cell_type": "code",
   "execution_count": 157,
   "metadata": {},
   "outputs": [
    {
     "name": "stdout",
     "output_type": "stream",
     "text": [
      "98\n",
      "97\n"
     ]
    }
   ],
   "source": [
    "key = 'bacon'\n",
    "it = cycle(key.lower())\n",
    "print(ord(next(it)))\n",
    "print(ord(next(it)))"
   ]
  },
  {
   "cell_type": "markdown",
   "metadata": {},
   "source": [
    "20200919"
   ]
  },
  {
   "cell_type": "markdown",
   "metadata": {},
   "source": [
    "### Square Every Digit\n",
    "https://www.codewars.com/kata/546e2562b03326a88e000020  \n",
    "7kyu\n",
    "\n",
    "Welcome. In this kata, you are asked to square every digit of a number and concatenate them.\n",
    "\n",
    "For example, if we run 9119 through the function, 811181 will come out, because 92 is 81 and 12 is 1.\n",
    "\n",
    "Note: The function accepts an integer and returns an integer"
   ]
  },
  {
   "cell_type": "markdown",
   "metadata": {},
   "source": [
    "__My solutions:__"
   ]
  },
  {
   "cell_type": "markdown",
   "metadata": {},
   "source": [
    "__#1__"
   ]
  },
  {
   "cell_type": "code",
   "execution_count": 1,
   "metadata": {},
   "outputs": [
    {
     "name": "stdout",
     "output_type": "stream",
     "text": [
      "811181 811181\n"
     ]
    }
   ],
   "source": [
    "def square_digits(num):\n",
    "    return int(''.join(str(int(s) ** 2) for s in str(num)))\n",
    "\n",
    "print(square_digits(9119), 811181)"
   ]
  },
  {
   "cell_type": "markdown",
   "metadata": {},
   "source": [
    "__#2__"
   ]
  },
  {
   "cell_type": "code",
   "execution_count": 5,
   "metadata": {},
   "outputs": [
    {
     "name": "stdout",
     "output_type": "stream",
     "text": [
      "811181 811181\n"
     ]
    }
   ],
   "source": [
    "def square_digits(num):\n",
    "    res = ''\n",
    "    while num:\n",
    "        res = str((num % 10) ** 2) + res\n",
    "        num //= 10\n",
    "    return int(res)\n",
    "\n",
    "print(square_digits(9119), 811181)"
   ]
  },
  {
   "cell_type": "markdown",
   "metadata": {},
   "source": [
    "### Vampire Numbers\n",
    "https://www.codewars.com/kata/54d418bd099d650fa000032d  \n",
    "7 kyu\n",
    "\n",
    "Our loose definition of Vampire Numbers can be described as follows:\n",
    "\n",
    "6 * 21 = 126  \n",
    "#6 and 21 would be valid 'fangs' for a vampire number as the \n",
    "#digits 6, 1, and 2 are present in both the product and multiplicands\n",
    "\n",
    "10 * 11 = 110  \n",
    "#110 is not a vampire number since there are three 1's in the\n",
    "#multiplicands, but only two 1's in the product\n",
    "\n",
    "Create a function that can receive two 'fangs' and determine if the product of the two is a valid vampire number."
   ]
  },
  {
   "cell_type": "markdown",
   "metadata": {},
   "source": [
    "__My solutions:__"
   ]
  },
  {
   "cell_type": "code",
   "execution_count": 11,
   "metadata": {},
   "outputs": [
    {
     "name": "stdout",
     "output_type": "stream",
     "text": [
      "True Basic: 21 * 6 = 126 should return True\n",
      "True Basic: 204 * 615 = 125460 should return True\n",
      "True One Negative: 30 * -51 = -1530 should return True\n",
      "True Double Negatives: -246 * -510 = 125460 should return False (The negative signs aren't present on the product)\n",
      "True Trailing Zeroes: 210 * 600 = 126000 should return True\n"
     ]
    }
   ],
   "source": [
    "def vampire_test(x, y):\n",
    "    return sorted(f'{x}{y}') == sorted(str(x * y))\n",
    "\n",
    "print(vampire_test(21,6) == True, \"Basic: 21 * 6 = 126 should return True\")\n",
    "print(vampire_test(204,615) == True, \"Basic: 204 * 615 = 125460 should return True\")\n",
    "print(vampire_test(30,-51) == True, \"One Negative: 30 * -51 = -1530 should return True\")\n",
    "print(vampire_test(-246,-510) == False, \"Double Negatives: -246 * -510 = 125460 should return False (The negative signs aren't present on the product)\")\n",
    "print(vampire_test(210,600) == True, \"Trailing Zeroes: 210 * 600 = 126000 should return True\")"
   ]
  },
  {
   "cell_type": "markdown",
   "metadata": {},
   "source": [
    "20200920"
   ]
  },
  {
   "cell_type": "markdown",
   "metadata": {},
   "source": [
    "### L1: Bartender, drinks!\n",
    "https://www.codewars.com/kata/568dc014440f03b13900001d  \n",
    "8 kyu\n",
    "\n",
    "Write a function getDrinkByProfession/get_drink_by_profession() that receives as input parameter a string, and produces outputs according to the following table:\n",
    "\n",
    "Input\tOutput\n",
    "\n",
    "\"Jabroni\"\t\"Patron Tequila\"  \n",
    "\"School Counselor\"\t\"Anything with Alcohol\"  \n",
    " \"Programmer\"\t \"Hipster Craft Beer\"  \n",
    " \"Bike Gang Member\"\t\"Moonshine\"   \n",
    " \"Politician\"\t\"Your tax dollars\"  \n",
    " \"Rapper\"\t\"Cristal\"   \n",
    " *anything else*\t\"Beer\"   \n",
    " \n",
    "Note: anything else is the default case: if the input to the function is not any of the values in the table, then the return value should be \"Beer.\"\n",
    "\n",
    "Make sure you cover the cases where certain words do not show up with correct capitalization. For example, getDrinkByProfession(\"pOLitiCIaN\") should still return \"Your tax dollars\"."
   ]
  },
  {
   "cell_type": "markdown",
   "metadata": {},
   "source": [
    "__My solutons:__"
   ]
  },
  {
   "cell_type": "code",
   "execution_count": 13,
   "metadata": {},
   "outputs": [
    {
     "name": "stdout",
     "output_type": "stream",
     "text": [
      "Patron Tequila Patron Tequila 'Jabroni' should map to 'Patron Tequila'\n",
      "Beer Anything with Alcohol 'School Counselor' should map to 'Anything with alcohol'\n",
      "Hipster Craft Beer Hipster Craft Beer 'Programmer' should map to 'Hipster Craft Beer'\n",
      "Beer Moonshine 'Bike Gang Member' should map to 'Moonshine'\n",
      "Your tax dollars Your tax dollars 'Politician' should map to 'Your tax dollars'\n",
      "Cristal Cristal 'Rapper' should map to 'Cristal'\n",
      "Beer Beer 'Pundit' should map to 'Beer'\n",
      "Beer Beer 'Pug' should map to 'Beer'\n"
     ]
    }
   ],
   "source": [
    "def get_drink_by_profession(param):\n",
    "    drinks = {\n",
    "        \"Jabroni\": \"Patron Tequila\", \n",
    "        \"School Counselor\": \"Anything with Alcohol\",\n",
    "        \"Programmer\": \"Hipster Craft Beer\",\n",
    "        \"Bike Gang Member\": \"Moonshine\",\n",
    "        \"Politician\": \"Your tax dollars\",\n",
    "        \"Rapper\": \"Cristal\",\n",
    "        }\n",
    "    return drinks.get(param.title(), \"Beer\")\n",
    "\n",
    "print(get_drink_by_profession(\"jabrOni\"), \"Patron Tequila\", \"'Jabroni' should map to 'Patron Tequila'\")\n",
    "print(get_drink_by_profession(\"scHOOl counselor\"), \"Anything with Alcohol\", \"'School Counselor' should map to 'Anything with alcohol'\")\n",
    "print(get_drink_by_profession(\"prOgramMer\"), \"Hipster Craft Beer\", \"'Programmer' should map to 'Hipster Craft Beer'\")\n",
    "print(get_drink_by_profession(\"bike ganG member\"), \"Moonshine\", \"'Bike Gang Member' should map to 'Moonshine'\")\n",
    "print(get_drink_by_profession(\"poLiTiCian\"), \"Your tax dollars\", \"'Politician' should map to 'Your tax dollars'\")\n",
    "print(get_drink_by_profession(\"rapper\"), \"Cristal\", \"'Rapper' should map to 'Cristal'\")\n",
    "print(get_drink_by_profession(\"pundit\"), \"Beer\", \"'Pundit' should map to 'Beer'\")\n",
    "print(get_drink_by_profession(\"Pug\"), \"Beer\", \"'Pug' should map to 'Beer'\")"
   ]
  },
  {
   "cell_type": "markdown",
   "metadata": {},
   "source": [
    "### Highest and Lowest\n",
    "https://www.codewars.com/kata/554b4ac871d6813a03000035  \n",
    "7 kyu\n",
    "\n",
    "Output\n",
    "In this little assignment you are given a string of space separated numbers, and have to return the highest and lowest number.\n",
    "\n",
    "Example:\n",
    "\n",
    "high_and_low(\"1 2 3 4 5\")  # return \"5 1\"\n",
    "high_and_low(\"1 2 -3 4 5\") # return \"5 -3\"\n",
    "high_and_low(\"1 9 3 4 -5\") # return \"9 -5\"\n",
    "Notes:\n",
    "\n",
    "All numbers are valid Int32, no need to validate them.\n",
    "There will always be at least one number in the input string.\n",
    "Output string must be two numbers separated by a single space, and highest number is first."
   ]
  },
  {
   "cell_type": "markdown",
   "metadata": {},
   "source": [
    "__My solutions:__"
   ]
  },
  {
   "cell_type": "markdown",
   "metadata": {},
   "source": [
    "__#1__"
   ]
  },
  {
   "cell_type": "code",
   "execution_count": 15,
   "metadata": {},
   "outputs": [
    {
     "name": "stdout",
     "output_type": "stream",
     "text": [
      "542 -214 542 -214\n"
     ]
    }
   ],
   "source": [
    "def high_and_low(numbers):\n",
    "    numbers = [int(num) for num in numbers.split()]\n",
    "    return f'{max(numbers)} {min(numbers)}'\n",
    "\n",
    "print(high_and_low(\"4 5 29 54 4 0 -214 542 -64 1 -3 6 -6\"), \"542 -214\");"
   ]
  },
  {
   "cell_type": "markdown",
   "metadata": {},
   "source": [
    "__#2__"
   ]
  },
  {
   "cell_type": "code",
   "execution_count": 18,
   "metadata": {},
   "outputs": [
    {
     "name": "stdout",
     "output_type": "stream",
     "text": [
      "542 -214 542 -214\n"
     ]
    }
   ],
   "source": [
    "def high_and_low(numbers):\n",
    "    minim, maxim = float('inf'), float('-inf')\n",
    "    for num in numbers.split():\n",
    "        num = int(num)      \n",
    "        if num < minim:\n",
    "            minim = num\n",
    "        if num > maxim:\n",
    "            maxim = num   \n",
    "    \n",
    "    return f'{maxim} {minim}'\n",
    "\n",
    "print(high_and_low(\"4 5 29 54 4 0 -214 542 -64 1 -3 6 -6\"), \"542 -214\");"
   ]
  },
  {
   "cell_type": "markdown",
   "metadata": {},
   "source": [
    "__Other users' solutions:__"
   ]
  },
  {
   "cell_type": "markdown",
   "metadata": {},
   "source": [
    "__#1__ Interesting, but it doesn't work in Python 3! 'ValueError: min() arg is an empty sequence' because in Python 3 map returns an iterator that applies function to every item of iterable\n",
    "So the first function applyed to it (e.g. max) exhaust it and when calling min on it will fail. In Python 2 map returns a list."
   ]
  },
  {
   "cell_type": "code",
   "execution_count": 30,
   "metadata": {},
   "outputs": [
    {
     "ename": "ValueError",
     "evalue": "min() arg is an empty sequence",
     "output_type": "error",
     "traceback": [
      "\u001b[1;31m---------------------------------------------------------------------------\u001b[0m",
      "\u001b[1;31mValueError\u001b[0m                                Traceback (most recent call last)",
      "\u001b[1;32m<ipython-input-30-5f73c5443d7e>\u001b[0m in \u001b[0;36m<module>\u001b[1;34m\u001b[0m\n\u001b[0;32m      3\u001b[0m     \u001b[1;32mreturn\u001b[0m \u001b[1;34m\" \"\u001b[0m\u001b[1;33m.\u001b[0m\u001b[0mjoin\u001b[0m\u001b[1;33m(\u001b[0m\u001b[0mmap\u001b[0m\u001b[1;33m(\u001b[0m\u001b[0mstr\u001b[0m\u001b[1;33m,\u001b[0m \u001b[1;33m(\u001b[0m\u001b[0mmax\u001b[0m\u001b[1;33m(\u001b[0m\u001b[0mnums\u001b[0m\u001b[1;33m)\u001b[0m\u001b[1;33m,\u001b[0m \u001b[0mmin\u001b[0m\u001b[1;33m(\u001b[0m\u001b[0mnums\u001b[0m\u001b[1;33m)\u001b[0m\u001b[1;33m)\u001b[0m\u001b[1;33m)\u001b[0m\u001b[1;33m)\u001b[0m\u001b[1;33m\u001b[0m\u001b[1;33m\u001b[0m\u001b[0m\n\u001b[0;32m      4\u001b[0m \u001b[1;33m\u001b[0m\u001b[0m\n\u001b[1;32m----> 5\u001b[1;33m \u001b[0mprint\u001b[0m\u001b[1;33m(\u001b[0m\u001b[0mhigh_and_low\u001b[0m\u001b[1;33m(\u001b[0m\u001b[1;34m\"4 5 29 54 4 0 -214 542 -64 1 -3 6 -6\"\u001b[0m\u001b[1;33m)\u001b[0m\u001b[1;33m,\u001b[0m \u001b[1;34m\"542 -214\"\u001b[0m\u001b[1;33m)\u001b[0m\u001b[1;33m\u001b[0m\u001b[1;33m\u001b[0m\u001b[0m\n\u001b[0m",
      "\u001b[1;32m<ipython-input-30-5f73c5443d7e>\u001b[0m in \u001b[0;36mhigh_and_low\u001b[1;34m(numbers)\u001b[0m\n\u001b[0;32m      1\u001b[0m \u001b[1;32mdef\u001b[0m \u001b[0mhigh_and_low\u001b[0m\u001b[1;33m(\u001b[0m\u001b[0mnumbers\u001b[0m\u001b[1;33m)\u001b[0m\u001b[1;33m:\u001b[0m\u001b[1;33m\u001b[0m\u001b[1;33m\u001b[0m\u001b[0m\n\u001b[0;32m      2\u001b[0m     \u001b[0mnums\u001b[0m \u001b[1;33m=\u001b[0m \u001b[0mmap\u001b[0m\u001b[1;33m(\u001b[0m\u001b[0mint\u001b[0m\u001b[1;33m,\u001b[0m \u001b[0mnumbers\u001b[0m\u001b[1;33m.\u001b[0m\u001b[0msplit\u001b[0m\u001b[1;33m(\u001b[0m\u001b[1;34m\" \"\u001b[0m\u001b[1;33m)\u001b[0m\u001b[1;33m)\u001b[0m\u001b[1;33m\u001b[0m\u001b[1;33m\u001b[0m\u001b[0m\n\u001b[1;32m----> 3\u001b[1;33m     \u001b[1;32mreturn\u001b[0m \u001b[1;34m\" \"\u001b[0m\u001b[1;33m.\u001b[0m\u001b[0mjoin\u001b[0m\u001b[1;33m(\u001b[0m\u001b[0mmap\u001b[0m\u001b[1;33m(\u001b[0m\u001b[0mstr\u001b[0m\u001b[1;33m,\u001b[0m \u001b[1;33m(\u001b[0m\u001b[0mmax\u001b[0m\u001b[1;33m(\u001b[0m\u001b[0mnums\u001b[0m\u001b[1;33m)\u001b[0m\u001b[1;33m,\u001b[0m \u001b[0mmin\u001b[0m\u001b[1;33m(\u001b[0m\u001b[0mnums\u001b[0m\u001b[1;33m)\u001b[0m\u001b[1;33m)\u001b[0m\u001b[1;33m)\u001b[0m\u001b[1;33m)\u001b[0m\u001b[1;33m\u001b[0m\u001b[1;33m\u001b[0m\u001b[0m\n\u001b[0m\u001b[0;32m      4\u001b[0m \u001b[1;33m\u001b[0m\u001b[0m\n\u001b[0;32m      5\u001b[0m \u001b[0mprint\u001b[0m\u001b[1;33m(\u001b[0m\u001b[0mhigh_and_low\u001b[0m\u001b[1;33m(\u001b[0m\u001b[1;34m\"4 5 29 54 4 0 -214 542 -64 1 -3 6 -6\"\u001b[0m\u001b[1;33m)\u001b[0m\u001b[1;33m,\u001b[0m \u001b[1;34m\"542 -214\"\u001b[0m\u001b[1;33m)\u001b[0m\u001b[1;33m\u001b[0m\u001b[1;33m\u001b[0m\u001b[0m\n",
      "\u001b[1;31mValueError\u001b[0m: min() arg is an empty sequence"
     ]
    }
   ],
   "source": [
    "def high_and_low(numbers):\n",
    "    nums = map(int, numbers.split(\" \"))\n",
    "    return \" \".join(map(str, (max(nums), min(nums))))\n",
    "\n",
    "print(high_and_low(\"4 5 29 54 4 0 -214 542 -64 1 -3 6 -6\"), \"542 -214\")"
   ]
  },
  {
   "cell_type": "markdown",
   "metadata": {},
   "source": [
    "The way to mend it:"
   ]
  },
  {
   "cell_type": "code",
   "execution_count": 29,
   "metadata": {},
   "outputs": [
    {
     "name": "stdout",
     "output_type": "stream",
     "text": [
      "542 -214 542 -214\n"
     ]
    }
   ],
   "source": [
    "def high_and_low(numbers):\n",
    "    nums = list(map(int, numbers.split(\" \")))\n",
    "    return \" \".join(map(str, (max(nums), min(nums))))\n",
    "\n",
    "print(high_and_low(\"4 5 29 54 4 0 -214 542 -64 1 -3 6 -6\"), \"542 -214\")"
   ]
  },
  {
   "cell_type": "markdown",
   "metadata": {},
   "source": [
    "The same problem in these solutions:"
   ]
  },
  {
   "cell_type": "code",
   "execution_count": 31,
   "metadata": {},
   "outputs": [
    {
     "ename": "ValueError",
     "evalue": "min() arg is an empty sequence",
     "output_type": "error",
     "traceback": [
      "\u001b[1;31m---------------------------------------------------------------------------\u001b[0m",
      "\u001b[1;31mValueError\u001b[0m                                Traceback (most recent call last)",
      "\u001b[1;32m<ipython-input-31-5d9970119271>\u001b[0m in \u001b[0;36m<module>\u001b[1;34m\u001b[0m\n\u001b[0;32m      3\u001b[0m   \u001b[1;32mreturn\u001b[0m \u001b[0mstr\u001b[0m\u001b[1;33m(\u001b[0m\u001b[0mmax\u001b[0m\u001b[1;33m(\u001b[0m\u001b[0mn\u001b[0m\u001b[1;33m)\u001b[0m\u001b[1;33m)\u001b[0m \u001b[1;33m+\u001b[0m \u001b[1;34m' '\u001b[0m \u001b[1;33m+\u001b[0m \u001b[0mstr\u001b[0m\u001b[1;33m(\u001b[0m\u001b[0mmin\u001b[0m\u001b[1;33m(\u001b[0m\u001b[0mn\u001b[0m\u001b[1;33m)\u001b[0m\u001b[1;33m)\u001b[0m\u001b[1;33m\u001b[0m\u001b[1;33m\u001b[0m\u001b[0m\n\u001b[0;32m      4\u001b[0m \u001b[1;33m\u001b[0m\u001b[0m\n\u001b[1;32m----> 5\u001b[1;33m \u001b[0mprint\u001b[0m\u001b[1;33m(\u001b[0m\u001b[0mhigh_and_low\u001b[0m\u001b[1;33m(\u001b[0m\u001b[1;34m\"4 5 29 54 4 0 -214 542 -64 1 -3 6 -6\"\u001b[0m\u001b[1;33m)\u001b[0m\u001b[1;33m,\u001b[0m \u001b[1;34m\"542 -214\"\u001b[0m\u001b[1;33m)\u001b[0m\u001b[1;33m\u001b[0m\u001b[1;33m\u001b[0m\u001b[0m\n\u001b[0m",
      "\u001b[1;32m<ipython-input-31-5d9970119271>\u001b[0m in \u001b[0;36mhigh_and_low\u001b[1;34m(numbers)\u001b[0m\n\u001b[0;32m      1\u001b[0m \u001b[1;32mdef\u001b[0m \u001b[0mhigh_and_low\u001b[0m\u001b[1;33m(\u001b[0m\u001b[0mnumbers\u001b[0m\u001b[1;33m)\u001b[0m\u001b[1;33m:\u001b[0m\u001b[1;33m\u001b[0m\u001b[1;33m\u001b[0m\u001b[0m\n\u001b[0;32m      2\u001b[0m   \u001b[0mn\u001b[0m \u001b[1;33m=\u001b[0m \u001b[0mmap\u001b[0m\u001b[1;33m(\u001b[0m\u001b[0mint\u001b[0m\u001b[1;33m,\u001b[0m \u001b[0mnumbers\u001b[0m\u001b[1;33m.\u001b[0m\u001b[0msplit\u001b[0m\u001b[1;33m(\u001b[0m\u001b[1;34m' '\u001b[0m\u001b[1;33m)\u001b[0m\u001b[1;33m)\u001b[0m\u001b[1;33m\u001b[0m\u001b[1;33m\u001b[0m\u001b[0m\n\u001b[1;32m----> 3\u001b[1;33m   \u001b[1;32mreturn\u001b[0m \u001b[0mstr\u001b[0m\u001b[1;33m(\u001b[0m\u001b[0mmax\u001b[0m\u001b[1;33m(\u001b[0m\u001b[0mn\u001b[0m\u001b[1;33m)\u001b[0m\u001b[1;33m)\u001b[0m \u001b[1;33m+\u001b[0m \u001b[1;34m' '\u001b[0m \u001b[1;33m+\u001b[0m \u001b[0mstr\u001b[0m\u001b[1;33m(\u001b[0m\u001b[0mmin\u001b[0m\u001b[1;33m(\u001b[0m\u001b[0mn\u001b[0m\u001b[1;33m)\u001b[0m\u001b[1;33m)\u001b[0m\u001b[1;33m\u001b[0m\u001b[1;33m\u001b[0m\u001b[0m\n\u001b[0m\u001b[0;32m      4\u001b[0m \u001b[1;33m\u001b[0m\u001b[0m\n\u001b[0;32m      5\u001b[0m \u001b[0mprint\u001b[0m\u001b[1;33m(\u001b[0m\u001b[0mhigh_and_low\u001b[0m\u001b[1;33m(\u001b[0m\u001b[1;34m\"4 5 29 54 4 0 -214 542 -64 1 -3 6 -6\"\u001b[0m\u001b[1;33m)\u001b[0m\u001b[1;33m,\u001b[0m \u001b[1;34m\"542 -214\"\u001b[0m\u001b[1;33m)\u001b[0m\u001b[1;33m\u001b[0m\u001b[1;33m\u001b[0m\u001b[0m\n",
      "\u001b[1;31mValueError\u001b[0m: min() arg is an empty sequence"
     ]
    }
   ],
   "source": [
    "def high_and_low(numbers):\n",
    "  n = map(int, numbers.split(' '))\n",
    "  return str(max(n)) + ' ' + str(min(n))\n",
    "\n",
    "print(high_and_low(\"4 5 29 54 4 0 -214 542 -64 1 -3 6 -6\"), \"542 -214\")"
   ]
  },
  {
   "cell_type": "code",
   "execution_count": 32,
   "metadata": {},
   "outputs": [
    {
     "ename": "ValueError",
     "evalue": "min() arg is an empty sequence",
     "output_type": "error",
     "traceback": [
      "\u001b[1;31m---------------------------------------------------------------------------\u001b[0m",
      "\u001b[1;31mValueError\u001b[0m                                Traceback (most recent call last)",
      "\u001b[1;32m<ipython-input-32-c9964e5d460a>\u001b[0m in \u001b[0;36m<module>\u001b[1;34m\u001b[0m\n\u001b[0;32m      3\u001b[0m     \u001b[1;32mreturn\u001b[0m \u001b[1;34m\"{} {}\"\u001b[0m\u001b[1;33m.\u001b[0m\u001b[0mformat\u001b[0m\u001b[1;33m(\u001b[0m\u001b[0mmax\u001b[0m\u001b[1;33m(\u001b[0m\u001b[0mn\u001b[0m\u001b[1;33m)\u001b[0m\u001b[1;33m,\u001b[0m \u001b[0mmin\u001b[0m\u001b[1;33m(\u001b[0m\u001b[0mn\u001b[0m\u001b[1;33m)\u001b[0m\u001b[1;33m)\u001b[0m\u001b[1;33m\u001b[0m\u001b[1;33m\u001b[0m\u001b[0m\n\u001b[0;32m      4\u001b[0m \u001b[1;33m\u001b[0m\u001b[0m\n\u001b[1;32m----> 5\u001b[1;33m \u001b[0mprint\u001b[0m\u001b[1;33m(\u001b[0m\u001b[0mhigh_and_low\u001b[0m\u001b[1;33m(\u001b[0m\u001b[1;34m\"4 5 29 54 4 0 -214 542 -64 1 -3 6 -6\"\u001b[0m\u001b[1;33m)\u001b[0m\u001b[1;33m,\u001b[0m \u001b[1;34m\"542 -214\"\u001b[0m\u001b[1;33m)\u001b[0m\u001b[1;33m\u001b[0m\u001b[1;33m\u001b[0m\u001b[0m\n\u001b[0m",
      "\u001b[1;32m<ipython-input-32-c9964e5d460a>\u001b[0m in \u001b[0;36mhigh_and_low\u001b[1;34m(numbers)\u001b[0m\n\u001b[0;32m      1\u001b[0m \u001b[1;32mdef\u001b[0m \u001b[0mhigh_and_low\u001b[0m\u001b[1;33m(\u001b[0m\u001b[0mnumbers\u001b[0m\u001b[1;33m)\u001b[0m\u001b[1;33m:\u001b[0m\u001b[1;33m\u001b[0m\u001b[1;33m\u001b[0m\u001b[0m\n\u001b[0;32m      2\u001b[0m     \u001b[0mn\u001b[0m \u001b[1;33m=\u001b[0m \u001b[0mmap\u001b[0m\u001b[1;33m(\u001b[0m\u001b[0mint\u001b[0m\u001b[1;33m,\u001b[0m \u001b[0mnumbers\u001b[0m\u001b[1;33m.\u001b[0m\u001b[0msplit\u001b[0m\u001b[1;33m(\u001b[0m\u001b[1;34m' '\u001b[0m\u001b[1;33m)\u001b[0m\u001b[1;33m)\u001b[0m\u001b[1;33m\u001b[0m\u001b[1;33m\u001b[0m\u001b[0m\n\u001b[1;32m----> 3\u001b[1;33m     \u001b[1;32mreturn\u001b[0m \u001b[1;34m\"{} {}\"\u001b[0m\u001b[1;33m.\u001b[0m\u001b[0mformat\u001b[0m\u001b[1;33m(\u001b[0m\u001b[0mmax\u001b[0m\u001b[1;33m(\u001b[0m\u001b[0mn\u001b[0m\u001b[1;33m)\u001b[0m\u001b[1;33m,\u001b[0m \u001b[0mmin\u001b[0m\u001b[1;33m(\u001b[0m\u001b[0mn\u001b[0m\u001b[1;33m)\u001b[0m\u001b[1;33m)\u001b[0m\u001b[1;33m\u001b[0m\u001b[1;33m\u001b[0m\u001b[0m\n\u001b[0m\u001b[0;32m      4\u001b[0m \u001b[1;33m\u001b[0m\u001b[0m\n\u001b[0;32m      5\u001b[0m \u001b[0mprint\u001b[0m\u001b[1;33m(\u001b[0m\u001b[0mhigh_and_low\u001b[0m\u001b[1;33m(\u001b[0m\u001b[1;34m\"4 5 29 54 4 0 -214 542 -64 1 -3 6 -6\"\u001b[0m\u001b[1;33m)\u001b[0m\u001b[1;33m,\u001b[0m \u001b[1;34m\"542 -214\"\u001b[0m\u001b[1;33m)\u001b[0m\u001b[1;33m\u001b[0m\u001b[1;33m\u001b[0m\u001b[0m\n",
      "\u001b[1;31mValueError\u001b[0m: min() arg is an empty sequence"
     ]
    }
   ],
   "source": [
    "def high_and_low(numbers):\n",
    "    n = map(int, numbers.split(' '))\n",
    "    return \"{} {}\".format(max(n), min(n))\n",
    "\n",
    "print(high_and_low(\"4 5 29 54 4 0 -214 542 -64 1 -3 6 -6\"), \"542 -214\")"
   ]
  },
  {
   "cell_type": "markdown",
   "metadata": {},
   "source": [
    "__#2__"
   ]
  },
  {
   "cell_type": "code",
   "execution_count": 33,
   "metadata": {},
   "outputs": [
    {
     "name": "stdout",
     "output_type": "stream",
     "text": [
      "542 -214 542 -214\n"
     ]
    }
   ],
   "source": [
    "def high_and_low(numbers):\n",
    "    nums = sorted(numbers.split(), key=int)\n",
    "    return '{} {}'.format(nums[-1], nums[0])\n",
    "\n",
    "print(high_and_low(\"4 5 29 54 4 0 -214 542 -64 1 -3 6 -6\"), \"542 -214\")"
   ]
  },
  {
   "cell_type": "markdown",
   "metadata": {},
   "source": [
    "__#3__"
   ]
  },
  {
   "cell_type": "code",
   "execution_count": 36,
   "metadata": {},
   "outputs": [
    {
     "name": "stdout",
     "output_type": "stream",
     "text": [
      "542 -214 542 -214\n"
     ]
    }
   ],
   "source": [
    "def high_and_low(numbers):\n",
    "    return ' '.join(x(numbers.split(), key=int) for x in (max, min))\n",
    "\n",
    "print(high_and_low(\"4 5 29 54 4 0 -214 542 -64 1 -3 6 -6\"), \"542 -214\")"
   ]
  },
  {
   "cell_type": "markdown",
   "metadata": {},
   "source": [
    "20200921"
   ]
  },
  {
   "cell_type": "markdown",
   "metadata": {},
   "source": [
    "### Summation\n",
    "https://www.codewars.com/kata/55d24f55d7dd296eb9000030  \n",
    "8 kyu\n",
    "\n",
    "Write a program that finds the summation of every number from 1 to num. The number will always be a positive integer greater than 0.\n",
    "\n",
    "For example:\n",
    "\n",
    "summation(2) -> 3  \n",
    "1 + 2\n",
    "\n",
    "summation(8) -> 36  \n",
    "1 + 2 + 3 + 4 + 5 + 6 + 7 + 8"
   ]
  },
  {
   "cell_type": "markdown",
   "metadata": {},
   "source": [
    "__My solutions:__"
   ]
  },
  {
   "cell_type": "code",
   "execution_count": null,
   "metadata": {},
   "outputs": [],
   "source": [
    "def summation(num):\n",
    "    return sum(range(num + 1))"
   ]
  },
  {
   "cell_type": "markdown",
   "metadata": {},
   "source": [
    "__Other's solutions:__"
   ]
  },
  {
   "cell_type": "code",
   "execution_count": null,
   "metadata": {},
   "outputs": [],
   "source": [
    "def summation(num):\n",
    "    return (num + 1) * num / 2"
   ]
  },
  {
   "cell_type": "markdown",
   "metadata": {},
   "source": [
    "### Ones and Zeros\n",
    "https://www.codewars.com/kata/578553c3a1b8d5c40300037c  \n",
    "7 kyu\n",
    "\n",
    "Given an array of ones and zeroes, convert the equivalent binary value to an integer.\n",
    "\n",
    "Eg: [0, 0, 0, 1] is treated as 0001 which is the binary representation of 1.\n",
    "\n",
    "Examples:\n",
    "\n",
    "Testing: [0, 0, 0, 1] ==> 1  \n",
    "Testing: [0, 0, 1, 0] ==> 2  \n",
    "Testing: [0, 1, 0, 1] ==> 5  \n",
    "Testing: [1, 0, 0, 1] ==> 9  \n",
    "Testing: [0, 0, 1, 0] ==> 2  \n",
    "Testing: [0, 1, 1, 0] ==> 6  \n",
    "Testing: [1, 1, 1, 1] ==> 15  \n",
    "Testing: [1, 0, 1, 1] ==> 11\n",
    "\n",
    "However, the arrays can have varying lengths, not just limited to 4."
   ]
  },
  {
   "cell_type": "markdown",
   "metadata": {},
   "source": [
    "__My solutions:__"
   ]
  },
  {
   "cell_type": "markdown",
   "metadata": {},
   "source": [
    "__#1__"
   ]
  },
  {
   "cell_type": "code",
   "execution_count": 42,
   "metadata": {},
   "outputs": [
    {
     "name": "stdout",
     "output_type": "stream",
     "text": [
      "1 1\n",
      "2 2\n",
      "15 15\n",
      "6 6\n"
     ]
    }
   ],
   "source": [
    "def binary_array_to_number(arr):\n",
    "    return int(''.join(map(str, arr)), 2)\n",
    "\n",
    "print(binary_array_to_number([0,0,0,1]), 1)\n",
    "print(binary_array_to_number([0,0,1,0]), 2)\n",
    "print(binary_array_to_number([1,1,1,1]), 15)\n",
    "print(binary_array_to_number([0,1,1,0]), 6)"
   ]
  },
  {
   "cell_type": "code",
   "execution_count": 38,
   "metadata": {},
   "outputs": [
    {
     "data": {
      "text/plain": [
       "6"
      ]
     },
     "execution_count": 38,
     "metadata": {},
     "output_type": "execute_result"
    }
   ],
   "source": [
    "int('6')"
   ]
  },
  {
   "cell_type": "code",
   "execution_count": 40,
   "metadata": {},
   "outputs": [
    {
     "data": {
      "text/plain": [
       "'0001'"
      ]
     },
     "execution_count": 40,
     "metadata": {},
     "output_type": "execute_result"
    }
   ],
   "source": [
    "arr = [0, 0, 0, 1]\n",
    "''.join(map(str, arr))"
   ]
  },
  {
   "cell_type": "code",
   "execution_count": 41,
   "metadata": {},
   "outputs": [
    {
     "data": {
      "text/plain": [
       "1"
      ]
     },
     "execution_count": 41,
     "metadata": {},
     "output_type": "execute_result"
    }
   ],
   "source": [
    "int('0001', 2)"
   ]
  },
  {
   "cell_type": "markdown",
   "metadata": {},
   "source": [
    "__#2__"
   ]
  },
  {
   "cell_type": "code",
   "execution_count": 46,
   "metadata": {},
   "outputs": [
    {
     "name": "stdout",
     "output_type": "stream",
     "text": [
      "1 1\n",
      "2 2\n",
      "15 15\n",
      "6 6\n"
     ]
    }
   ],
   "source": [
    "def binary_array_to_number(arr):\n",
    "    return sum(d * (2 ** i) for i, d in enumerate(reversed(arr)))\n",
    "\n",
    "print(binary_array_to_number([0,0,0,1]), 1)\n",
    "print(binary_array_to_number([0,0,1,0]), 2)\n",
    "print(binary_array_to_number([1,1,1,1]), 15)\n",
    "print(binary_array_to_number([0,1,1,0]), 6)"
   ]
  },
  {
   "cell_type": "code",
   "execution_count": 43,
   "metadata": {},
   "outputs": [
    {
     "data": {
      "text/plain": [
       "<list_reverseiterator at 0x72597f0>"
      ]
     },
     "execution_count": 43,
     "metadata": {},
     "output_type": "execute_result"
    }
   ],
   "source": [
    "arr = [0, 0, 0, 1]\n",
    "reversed(arr)"
   ]
  },
  {
   "cell_type": "markdown",
   "metadata": {},
   "source": [
    "__Other's solutions:__"
   ]
  },
  {
   "cell_type": "markdown",
   "metadata": {},
   "source": [
    "__#1__"
   ]
  },
  {
   "cell_type": "code",
   "execution_count": 49,
   "metadata": {},
   "outputs": [
    {
     "name": "stdout",
     "output_type": "stream",
     "text": [
      "1 1\n",
      "2 2\n",
      "15 15\n",
      "6 6\n"
     ]
    }
   ],
   "source": [
    "def binary_array_to_number(arr):\n",
    "    s = 0\n",
    "    for digit in arr:\n",
    "        s = s * 2 + digit\n",
    "\n",
    "    return s\n",
    "\n",
    "print(binary_array_to_number([0,0,0,1]), 1)\n",
    "print(binary_array_to_number([0,0,1,0]), 2)\n",
    "print(binary_array_to_number([1,1,1,1]), 15)\n",
    "print(binary_array_to_number([0,1,1,0]), 6)"
   ]
  },
  {
   "cell_type": "markdown",
   "metadata": {},
   "source": [
    "__#2__"
   ]
  },
  {
   "cell_type": "code",
   "execution_count": 68,
   "metadata": {},
   "outputs": [
    {
     "name": "stdout",
     "output_type": "stream",
     "text": [
      "1 1\n",
      "2 2\n",
      "15 15\n",
      "6 6\n"
     ]
    }
   ],
   "source": [
    "from functools import reduce\n",
    "\n",
    "def binary_array_to_number(arr):\n",
    "    append_bit = lambda n, b: n << 1 | b # == (n << 1) | b и аналогично s = s * 2 + digit\n",
    "    return reduce(append_bit, arr)\n",
    "\n",
    "print(binary_array_to_number([0,0,0,1]), 1)\n",
    "print(binary_array_to_number([0,0,1,0]), 2)\n",
    "print(binary_array_to_number([1,1,1,1]), 15)\n",
    "print(binary_array_to_number([0,1,1,0]), 6)"
   ]
  },
  {
   "cell_type": "code",
   "execution_count": 78,
   "metadata": {},
   "outputs": [
    {
     "data": {
      "text/plain": [
       "6"
      ]
     },
     "execution_count": 78,
     "metadata": {},
     "output_type": "execute_result"
    }
   ],
   "source": [
    "3 << 1 | 0"
   ]
  },
  {
   "cell_type": "markdown",
   "metadata": {},
   "source": [
    "__#3__"
   ]
  },
  {
   "cell_type": "code",
   "execution_count": 50,
   "metadata": {},
   "outputs": [
    {
     "name": "stdout",
     "output_type": "stream",
     "text": [
      "1 1\n",
      "2 2\n",
      "15 15\n",
      "6 6\n"
     ]
    }
   ],
   "source": [
    "def binary_array_to_number(arr):\n",
    "    return sum( 2 ** i for i, n in enumerate( arr[:: -1] ) if n)\n",
    "\n",
    "print(binary_array_to_number([0,0,0,1]), 1)\n",
    "print(binary_array_to_number([0,0,1,0]), 2)\n",
    "print(binary_array_to_number([1,1,1,1]), 15)\n",
    "print(binary_array_to_number([0,1,1,0]), 6)"
   ]
  },
  {
   "cell_type": "markdown",
   "metadata": {},
   "source": [
    "20200922"
   ]
  },
  {
   "cell_type": "markdown",
   "metadata": {},
   "source": [
    "### Will you make it?\n",
    "https://www.codewars.com/kata/5861d28f124b35723e00005e  \n",
    "8 kyu\n",
    "\n",
    "You were camping with your friends far away from home, but when it's time to go back, you realize that your fuel is running out and the nearest pump is 50 miles away! You know that on average, your car runs on about 25 miles per gallon. There are 2 gallons left. \n",
    "\n",
    "Considering these factors, write a function that tells you if it is possible to get to the pump or not. Function should return true (1 in Prolog) if it is possible and false (0 in Prolog) if not. The input values are always positive."
   ]
  },
  {
   "cell_type": "markdown",
   "metadata": {},
   "source": [
    "__My solutions:__"
   ]
  },
  {
   "cell_type": "code",
   "execution_count": null,
   "metadata": {},
   "outputs": [],
   "source": [
    "def zero_fuel(distance_to_pump, mpg, fuel_left):\n",
    "    return mpg * fuel_left >= distance_to_pump\n",
    "\n",
    "print(zero_fuel(50, 25, 2), True)\n",
    "print(zero_fuel(100, 50, 1), False)"
   ]
  },
  {
   "cell_type": "markdown",
   "metadata": {},
   "source": [
    "### Complementary DNA\n",
    "https://www.codewars.com/kata/554e4a2f232cdd87d9000038  \n",
    "7 kyu\n",
    "\n",
    "Deoxyribonucleic acid (DNA) is a chemical found in the nucleus of cells and carries the \"instructions\" for the development and functioning of living organisms.\n",
    "\n",
    "If you want to know more http://en.wikipedia.org/wiki/DNA\n",
    "\n",
    "In DNA strings, symbols \"A\" and \"T\" are complements of each other, as \"C\" and \"G\". You have a function with one side of the DNA (string, except for Haskell); you need to get the other complementary side. DNA strand is never empty or there is no DNA at all (again, except for Haskell).\n",
    "\n",
    "More similar exercise are found here http://rosalind.info/problems/list-view/ (source)\n",
    "\n",
    "DNA_strand (\"ATTGC\") # return \"TAACG\"\n",
    "\n",
    "DNA_strand (\"GTAT\") # return \"CATA\""
   ]
  },
  {
   "cell_type": "markdown",
   "metadata": {},
   "source": [
    "__My solutions:__"
   ]
  },
  {
   "cell_type": "code",
   "execution_count": null,
   "metadata": {},
   "outputs": [],
   "source": [
    "def DNA_strand(dna):\n",
    "    complements = {'A': 'T', 'T': 'A', 'C': 'G', 'G': 'C'}\n",
    "    return ''.join(complements[s] for s in dna.upper())\n",
    "\n",
    "print(DNA_strand(\"AAAA\"),\"TTTT\",\"String AAAA is\")\n",
    "print(DNA_strand(\"ATTGC\"),\"TAACG\",\"String ATTGC is\")\n",
    "print(DNA_strand(\"GTAT\"),\"CATA\",\"String GTAT is\")"
   ]
  },
  {
   "cell_type": "markdown",
   "metadata": {},
   "source": [
    "__Other's solutions:__"
   ]
  },
  {
   "cell_type": "code",
   "execution_count": 56,
   "metadata": {},
   "outputs": [
    {
     "name": "stdout",
     "output_type": "stream",
     "text": [
      "TTTT TTTT String AAAA is\n",
      "TAACG TAACG String ATTGC is\n",
      "CATA CATA String GTAT is\n"
     ]
    }
   ],
   "source": [
    "def DNA_strand(dna):\n",
    "    return dna.translate(str.maketrans(\"ATCG\",\"TAGC\"))\n",
    "\n",
    "print(DNA_strand(\"AAAA\"),\"TTTT\",\"String AAAA is\")\n",
    "print(DNA_strand(\"ATTGC\"),\"TAACG\",\"String ATTGC is\")\n",
    "print(DNA_strand(\"GTAT\"),\"CATA\",\"String GTAT is\")"
   ]
  },
  {
   "cell_type": "markdown",
   "metadata": {},
   "source": [
    "### Shortest Word\n",
    "https://www.codewars.com/kata/57cebe1dc6fdc20c57000ac9  \n",
    "7 kyu\n",
    "\n",
    "Simple, given a string of words, return the length of the shortest word(s).\n",
    "\n",
    "String will never be empty and you do not need to account for different data types."
   ]
  },
  {
   "cell_type": "markdown",
   "metadata": {},
   "source": [
    "__My solutions:__"
   ]
  },
  {
   "cell_type": "markdown",
   "metadata": {},
   "source": [
    "__#1__"
   ]
  },
  {
   "cell_type": "code",
   "execution_count": 57,
   "metadata": {},
   "outputs": [
    {
     "name": "stdout",
     "output_type": "stream",
     "text": [
      "3 3\n",
      "3 3\n",
      "3 3\n",
      "1 1\n",
      "2 2\n"
     ]
    }
   ],
   "source": [
    "def find_short(s):\n",
    "    return len(min(s.split(), key=len))\n",
    "\n",
    "print(find_short(\"bitcoin take over the world maybe who knows perhaps\"), 3)\n",
    "print(find_short(\"turns out random test cases are easier than writing out basic ones\"), 3)\n",
    "print(find_short(\"lets talk about javascript the best language\"), 3)\n",
    "print(find_short(\"i want to travel the world writing code one day\"), 1)\n",
    "print(find_short(\"Lets all go on holiday somewhere very cold\"), 2)"
   ]
  },
  {
   "cell_type": "markdown",
   "metadata": {},
   "source": [
    "__#2__"
   ]
  },
  {
   "cell_type": "code",
   "execution_count": 58,
   "metadata": {},
   "outputs": [
    {
     "name": "stdout",
     "output_type": "stream",
     "text": [
      "3 3\n",
      "3 3\n",
      "3 3\n",
      "1 1\n",
      "2 2\n"
     ]
    }
   ],
   "source": [
    "def find_short(s):\n",
    "    return min(map(lambda word: len(word), s.split()))\n",
    "\n",
    "print(find_short(\"bitcoin take over the world maybe who knows perhaps\"), 3)\n",
    "print(find_short(\"turns out random test cases are easier than writing out basic ones\"), 3)\n",
    "print(find_short(\"lets talk about javascript the best language\"), 3)\n",
    "print(find_short(\"i want to travel the world writing code one day\"), 1)\n",
    "print(find_short(\"Lets all go on holiday somewhere very cold\"), 2)"
   ]
  },
  {
   "cell_type": "markdown",
   "metadata": {},
   "source": [
    "### Regex validate PIN code\n",
    "https://www.codewars.com/kata/55f8a9c06c018a0d6e000132  \n",
    "7 kyu\n",
    "\n",
    "ATM machines allow 4 or 6 digit PIN codes and PIN codes cannot contain anything but exactly 4 digits or exactly 6 digits.\n",
    "\n",
    "If the function is passed a valid PIN string, return true, else return false.\n",
    "\n",
    "eg:\n",
    "\n",
    "validate_pin(\"1234\") == True  \n",
    "validate_pin(\"12345\") == False  \n",
    "validate_pin(\"a234\") == False"
   ]
  },
  {
   "cell_type": "markdown",
   "metadata": {},
   "source": [
    "__My solutions:__"
   ]
  },
  {
   "cell_type": "code",
   "execution_count": 59,
   "metadata": {},
   "outputs": [
    {
     "name": "stdout",
     "output_type": "stream",
     "text": [
      "should return False for pins with length other than 4 or 6\n",
      "False False Wrong output for '1'\n",
      "False False Wrong output for '12'\n",
      "False False Wrong output for '123'\n",
      "False False Wrong output for '12345'\n",
      "False False Wrong output for '1234567'\n",
      "False False Wrong output for '-1234'\n",
      "False False Wrong output for '1.234'\n",
      "False False Wrong output for '00000000'\n",
      "should return False for pins which contain characters other than digits\n",
      "False False Wrong output for 'a234'\n",
      "False False Wrong output for '.234'\n",
      "False False Wrong output for '-123'\n",
      "False False Wrong output for '-1.234'\n",
      "should return True for valid pins\n",
      "True True Wrong output for '1234'\n",
      "True True Wrong output for '0000'\n",
      "True True Wrong output for '1111'\n",
      "True True Wrong output for '123456'\n",
      "True True Wrong output for '098765'\n",
      "True True Wrong output for '000000'\n",
      "True True Wrong output for '123456'\n",
      "True True Wrong output for '090909'\n"
     ]
    }
   ],
   "source": [
    "import re\n",
    "\n",
    "def validate_pin(pin):\n",
    "    return True if re.fullmatch(r'(\\d{4})|(\\d{6})', pin) else False\n",
    "\n",
    "print(\"should return False for pins with length other than 4 or 6\")\n",
    "print(validate_pin(\"1\"),False, \"Wrong output for '1'\")\n",
    "print(validate_pin(\"12\"),False, \"Wrong output for '12'\")\n",
    "print(validate_pin(\"123\"),False, \"Wrong output for '123'\")\n",
    "print(validate_pin(\"12345\"),False, \"Wrong output for '12345'\")\n",
    "print(validate_pin(\"1234567\"),False, \"Wrong output for '1234567'\")\n",
    "print(validate_pin(\"-1234\"),False, \"Wrong output for '-1234'\")\n",
    "print(validate_pin(\"1.234\"),False, \"Wrong output for '1.234'\")\n",
    "print(validate_pin(\"00000000\"),False, \"Wrong output for '00000000'\")\n",
    "\n",
    "print(\"should return False for pins which contain characters other than digits\")\n",
    "print(validate_pin(\"a234\"),False, \"Wrong output for 'a234'\")\n",
    "print(validate_pin(\".234\"),False, \"Wrong output for '.234'\")\n",
    "print(validate_pin(\"-123\"),False, \"Wrong output for '-123'\")\n",
    "print(validate_pin(\"-1.234\"),False, \"Wrong output for '-1.234'\")\n",
    "\n",
    "print(\"should return True for valid pins\")\n",
    "print(validate_pin(\"1234\"),True, \"Wrong output for '1234'\")\n",
    "print(validate_pin(\"0000\"),True, \"Wrong output for '0000'\")\n",
    "print(validate_pin(\"1111\"),True, \"Wrong output for '1111'\")\n",
    "print(validate_pin(\"123456\"),True, \"Wrong output for '123456'\")\n",
    "print(validate_pin(\"098765\"),True, \"Wrong output for '098765'\")\n",
    "print(validate_pin(\"000000\"),True, \"Wrong output for '000000'\")\n",
    "print(validate_pin(\"123456\"),True, \"Wrong output for '123456'\")\n",
    "print(validate_pin(\"090909\"),True, \"Wrong output for '090909'\")"
   ]
  },
  {
   "cell_type": "markdown",
   "metadata": {},
   "source": [
    "A little correction of the pattern (works without groups):"
   ]
  },
  {
   "cell_type": "code",
   "execution_count": 61,
   "metadata": {},
   "outputs": [
    {
     "name": "stdout",
     "output_type": "stream",
     "text": [
      "should return False for pins with length other than 4 or 6\n",
      "False False Wrong output for '1'\n",
      "False False Wrong output for '12'\n",
      "False False Wrong output for '123'\n",
      "False False Wrong output for '12345'\n",
      "False False Wrong output for '1234567'\n",
      "False False Wrong output for '-1234'\n",
      "False False Wrong output for '1.234'\n",
      "False False Wrong output for '00000000'\n",
      "should return False for pins which contain characters other than digits\n",
      "False False Wrong output for 'a234'\n",
      "False False Wrong output for '.234'\n",
      "False False Wrong output for '-123'\n",
      "False False Wrong output for '-1.234'\n",
      "should return True for valid pins\n",
      "True True Wrong output for '1234'\n",
      "True True Wrong output for '0000'\n",
      "True True Wrong output for '1111'\n",
      "True True Wrong output for '123456'\n",
      "True True Wrong output for '098765'\n",
      "True True Wrong output for '000000'\n",
      "True True Wrong output for '123456'\n",
      "True True Wrong output for '090909'\n"
     ]
    }
   ],
   "source": [
    "import re\n",
    "\n",
    "def validate_pin(pin):\n",
    "    return True if re.fullmatch(r'\\d{4}|\\d{6}', pin) else False\n",
    "\n",
    "print(\"should return False for pins with length other than 4 or 6\")\n",
    "print(validate_pin(\"1\"),False, \"Wrong output for '1'\")\n",
    "print(validate_pin(\"12\"),False, \"Wrong output for '12'\")\n",
    "print(validate_pin(\"123\"),False, \"Wrong output for '123'\")\n",
    "print(validate_pin(\"12345\"),False, \"Wrong output for '12345'\")\n",
    "print(validate_pin(\"1234567\"),False, \"Wrong output for '1234567'\")\n",
    "print(validate_pin(\"-1234\"),False, \"Wrong output for '-1234'\")\n",
    "print(validate_pin(\"1.234\"),False, \"Wrong output for '1.234'\")\n",
    "print(validate_pin(\"00000000\"),False, \"Wrong output for '00000000'\")\n",
    "\n",
    "print(\"should return False for pins which contain characters other than digits\")\n",
    "print(validate_pin(\"a234\"),False, \"Wrong output for 'a234'\")\n",
    "print(validate_pin(\".234\"),False, \"Wrong output for '.234'\")\n",
    "print(validate_pin(\"-123\"),False, \"Wrong output for '-123'\")\n",
    "print(validate_pin(\"-1.234\"),False, \"Wrong output for '-1.234'\")\n",
    "\n",
    "print(\"should return True for valid pins\")\n",
    "print(validate_pin(\"1234\"),True, \"Wrong output for '1234'\")\n",
    "print(validate_pin(\"0000\"),True, \"Wrong output for '0000'\")\n",
    "print(validate_pin(\"1111\"),True, \"Wrong output for '1111'\")\n",
    "print(validate_pin(\"123456\"),True, \"Wrong output for '123456'\")\n",
    "print(validate_pin(\"098765\"),True, \"Wrong output for '098765'\")\n",
    "print(validate_pin(\"000000\"),True, \"Wrong output for '000000'\")\n",
    "print(validate_pin(\"123456\"),True, \"Wrong output for '123456'\")\n",
    "print(validate_pin(\"090909\"),True, \"Wrong output for '090909'\")"
   ]
  },
  {
   "cell_type": "markdown",
   "metadata": {},
   "source": [
    "__Other's solutions:__"
   ]
  },
  {
   "cell_type": "markdown",
   "metadata": {},
   "source": [
    "__#1__"
   ]
  },
  {
   "cell_type": "code",
   "execution_count": 60,
   "metadata": {},
   "outputs": [
    {
     "name": "stdout",
     "output_type": "stream",
     "text": [
      "should return False for pins with length other than 4 or 6\n",
      "False False Wrong output for '1'\n",
      "False False Wrong output for '12'\n",
      "False False Wrong output for '123'\n",
      "False False Wrong output for '12345'\n",
      "False False Wrong output for '1234567'\n",
      "False False Wrong output for '-1234'\n",
      "False False Wrong output for '1.234'\n",
      "False False Wrong output for '00000000'\n",
      "should return False for pins which contain characters other than digits\n",
      "False False Wrong output for 'a234'\n",
      "False False Wrong output for '.234'\n",
      "False False Wrong output for '-123'\n",
      "False False Wrong output for '-1.234'\n",
      "should return True for valid pins\n",
      "True True Wrong output for '1234'\n",
      "True True Wrong output for '0000'\n",
      "True True Wrong output for '1111'\n",
      "True True Wrong output for '123456'\n",
      "True True Wrong output for '098765'\n",
      "True True Wrong output for '000000'\n",
      "True True Wrong output for '123456'\n",
      "True True Wrong output for '090909'\n"
     ]
    }
   ],
   "source": [
    "def validate_pin(pin):\n",
    "    return len(pin) in (4, 6) and pin.isdigit()\n",
    "\n",
    "print(\"should return False for pins with length other than 4 or 6\")\n",
    "print(validate_pin(\"1\"),False, \"Wrong output for '1'\")\n",
    "print(validate_pin(\"12\"),False, \"Wrong output for '12'\")\n",
    "print(validate_pin(\"123\"),False, \"Wrong output for '123'\")\n",
    "print(validate_pin(\"12345\"),False, \"Wrong output for '12345'\")\n",
    "print(validate_pin(\"1234567\"),False, \"Wrong output for '1234567'\")\n",
    "print(validate_pin(\"-1234\"),False, \"Wrong output for '-1234'\")\n",
    "print(validate_pin(\"1.234\"),False, \"Wrong output for '1.234'\")\n",
    "print(validate_pin(\"00000000\"),False, \"Wrong output for '00000000'\")\n",
    "\n",
    "print(\"should return False for pins which contain characters other than digits\")\n",
    "print(validate_pin(\"a234\"),False, \"Wrong output for 'a234'\")\n",
    "print(validate_pin(\".234\"),False, \"Wrong output for '.234'\")\n",
    "print(validate_pin(\"-123\"),False, \"Wrong output for '-123'\")\n",
    "print(validate_pin(\"-1.234\"),False, \"Wrong output for '-1.234'\")\n",
    "\n",
    "print(\"should return True for valid pins\")\n",
    "print(validate_pin(\"1234\"),True, \"Wrong output for '1234'\")\n",
    "print(validate_pin(\"0000\"),True, \"Wrong output for '0000'\")\n",
    "print(validate_pin(\"1111\"),True, \"Wrong output for '1111'\")\n",
    "print(validate_pin(\"123456\"),True, \"Wrong output for '123456'\")\n",
    "print(validate_pin(\"098765\"),True, \"Wrong output for '098765'\")\n",
    "print(validate_pin(\"000000\"),True, \"Wrong output for '000000'\")\n",
    "print(validate_pin(\"123456\"),True, \"Wrong output for '123456'\")\n",
    "print(validate_pin(\"090909\"),True, \"Wrong output for '090909'\")"
   ]
  },
  {
   "cell_type": "code",
   "execution_count": 63,
   "metadata": {},
   "outputs": [
    {
     "name": "stdout",
     "output_type": "stream",
     "text": [
      "Help on method_descriptor:\n",
      "\n",
      "isnumeric(self, /)\n",
      "    Return True if the string is a numeric string, False otherwise.\n",
      "    \n",
      "    A string is numeric if all characters in the string are numeric and there is at\n",
      "    least one character in the string.\n",
      "\n"
     ]
    }
   ],
   "source": [
    "help(str.isnumeric)"
   ]
  },
  {
   "cell_type": "code",
   "execution_count": 65,
   "metadata": {},
   "outputs": [
    {
     "name": "stdout",
     "output_type": "stream",
     "text": [
      "Help on method_descriptor:\n",
      "\n",
      "isdigit(self, /)\n",
      "    Return True if the string is a digit string, False otherwise.\n",
      "    \n",
      "    A string is a digit string if all characters in the string are digits and there\n",
      "    is at least one character in the string.\n",
      "\n"
     ]
    }
   ],
   "source": [
    "help(str.isdigit)"
   ]
  },
  {
   "cell_type": "markdown",
   "metadata": {},
   "source": [
    "__#2__ This one is insane, but I try to figure out how it works:"
   ]
  },
  {
   "cell_type": "code",
   "execution_count": 88,
   "metadata": {},
   "outputs": [
    {
     "name": "stdout",
     "output_type": "stream",
     "text": [
      "0 1\n",
      "['0']\n",
      "1 1\n",
      "['0', '1']\n",
      "1 2\n",
      "['0', '1', '1']\n",
      "2 2\n",
      "['0', '1', '1', '2']\n",
      "2 3\n",
      "['0', '1', '1', '2', '2']\n",
      "3 3\n",
      "['0', '1', '1', '2', '2', '3']\n",
      "3 4\n",
      "['0', '1', '1', '2', '2', '3', '3']\n",
      "4 4\n",
      "['0', '1', '1', '2', '2', '3', '3', '4']\n",
      "['0', '1', '1', '2', '2', '3', '3', '4', '4', '5', '6', '7', '8', '9']\n",
      "['0', '1', '2', '3', '4', '5', '6', '7', '8', '9', '1', '2', '3', '4']\n",
      "True True\n",
      "0 4\n",
      "['0']\n",
      "1 4\n",
      "['0', '1']\n",
      "2 4\n",
      "['0', '1', '2']\n",
      "3 4\n",
      "['0', '1', '2', '3']\n",
      "4 4\n",
      "['0', '1', '2', '3', '4']\n",
      "4 3\n",
      "['0', '1', '2', '3', '4', '3']\n",
      "4 2\n",
      "['0', '1', '2', '3', '4', '3', '2']\n",
      "4 1\n",
      "['0', '1', '2', '3', '4', '3', '2', '1']\n",
      "['0', '1', '2', '3', '4', '3', '2', '1', '4', '5', '6', '7', '8', '9']\n",
      "['0', '1', '2', '3', '4', '5', '6', '7', '8', '9', '4', '3', '2', '1']\n",
      "True True\n",
      "0 4\n",
      "['0']\n",
      "1 4\n",
      "['0', '1']\n",
      "2 4\n",
      "['0', '1', '2']\n",
      "3 4\n",
      "['0', '1', '2', '3']\n",
      "4 4\n",
      "['0', '1', '2', '3', '4']\n",
      "4 3\n",
      "['0', '1', '2', '3', '4', '3']\n",
      "4 2\n",
      "['0', '1', '2', '3', '4', '3', '2']\n",
      "4 #\n",
      "['0', '1', '2', '3', '4', '3', '2', '#']\n",
      "['0', '1', '2', '3', '4', '3', '2', '#', '4', '5', '6', '7', '8', '9']\n",
      "['0', '1', '2', '3', '4', '5', '6', '7', '8', '9', '4', '3', '2', '#']\n",
      "False True\n",
      "0 1\n",
      "['0']\n",
      "1 1\n",
      "['0', '1']\n",
      "1 2\n",
      "['0', '1', '1']\n",
      "2 2\n",
      "['0', '1', '1', '2']\n",
      "2 3\n",
      "['0', '1', '1', '2', '2']\n",
      "3 3\n",
      "['0', '1', '1', '2', '2', '3']\n",
      "3 f\n",
      "['0', '1', '1', '2', '2', '3', '3']\n",
      "4 f\n",
      "['0', '1', '1', '2', '2', '3', '3', '4']\n",
      "5 f\n",
      "['0', '1', '1', '2', '2', '3', '3', '4', '5']\n",
      "6 f\n",
      "['0', '1', '1', '2', '2', '3', '3', '4', '5', '6']\n",
      "7 f\n",
      "['0', '1', '1', '2', '2', '3', '3', '4', '5', '6', '7']\n",
      "8 f\n",
      "['0', '1', '1', '2', '2', '3', '3', '4', '5', '6', '7', '8']\n",
      "9 f\n",
      "['0', '1', '1', '2', '2', '3', '3', '4', '5', '6', '7', '8', '9']\n",
      "['0', '1', '1', '2', '2', '3', '3', '4', '5', '6', '7', '8', '9', 'f']\n",
      "['0', '1', '2', '3', '4', '5', '6', '7', '8', '9', '1', '2', '3', 'f']\n",
      "False False\n"
     ]
    }
   ],
   "source": [
    "def merge(array1,array2):\n",
    "    array3 = []\n",
    "    i = 0\n",
    "    j = 0\n",
    "    while (i < len(array1) and j < len(array2)):\n",
    "        print(array1[i], array2[j])\n",
    "        if (array1[i] < array2[j]):\n",
    "            array3.append(array1[i])\n",
    "            i = i + 1\n",
    "        else:\n",
    "            array3.append(array2[j])\n",
    "            j = j + 1\n",
    "        print(array3)\n",
    "    return array3 + array1[i:] + array2[j:]\n",
    "    \n",
    "def validate_pin(pin):\n",
    "    #return true or false\n",
    "    \n",
    "    key = ['0', '1', '2', '3', '4', '5', '6', '7', '8', '9']\n",
    "    \n",
    "    # check conditions\n",
    "    if len(pin) == 6 or len(pin) == 4:\n",
    "        p = [i for i in pin]\n",
    "        m = merge(key, p)\n",
    "        print(m)\n",
    "        print(key + p)\n",
    "        \n",
    "        # check lengths\n",
    "        if len(set(m)) == len(key):\n",
    "            return True\n",
    "        return False\n",
    "    else:\n",
    "        return False\n",
    "    \n",
    "print(validate_pin(\"1234\"),True)\n",
    "print(validate_pin(\"4321\"),True)\n",
    "print(validate_pin(\"432#\"),True)\n",
    "print(validate_pin(\"123f\"),False)"
   ]
  },
  {
   "cell_type": "markdown",
   "metadata": {},
   "source": [
    "20200923"
   ]
  },
  {
   "cell_type": "markdown",
   "metadata": {},
   "source": [
    "### Factorial decomposition\n",
    "https://www.codewars.com/kata/5a045fee46d843effa000070  \n",
    "5 kyu\n",
    "\n",
    "The aim of the kata is to decompose n! (factorial n) into its prime factors.\n",
    "\n",
    "Examples:\n",
    "\n",
    "n = 12; decomp(12) -> \"2^10 * 3^5 * 5^2 * 7 * 11\"  \n",
    "since 12! is divisible by 2 ten times, by 3 five times, by 5 two times and by 7 and 11 only once.\n",
    "\n",
    "n = 22; decomp(22) -> \"2^19 * 3^9 * 5^4 * 7^3 * 11^2 * 13 * 17 * 19\"\n",
    "\n",
    "n = 25; decomp(25) -> 2^22 * 3^10 * 5^6 * 7^3 * 11^2 * 13 * 17 * 19 * 23  \n",
    "Prime numbers should be in increasing order. When the exponent of a prime is 1 don't put the exponent.\n",
    "\n",
    "Notes\n",
    "\n",
    "the function is decomp(n) and should return the decomposition of n! into its prime factors in increasing order of the primes, as a string.  \n",
    "factorial can be a very big number (4000! has 12674 digits, n will go from 300 to 4000).  \n",
    "In Fortran - as in any other language - the returned string is not permitted to contain any redundant trailing whitespace: you can use dynamically allocated character strings."
   ]
  },
  {
   "cell_type": "code",
   "execution_count": null,
   "metadata": {},
   "outputs": [],
   "source": []
  },
  {
   "cell_type": "code",
   "execution_count": 3,
   "metadata": {},
   "outputs": [
    {
     "name": "stdout",
     "output_type": "stream",
     "text": [
      "2 {}\n",
      "{2: 1}\n",
      "2 {}\n",
      "3 {2: 1}\n",
      "{2: 1, 3: 1}\n",
      "2 {}\n",
      "3 {2: 1}\n",
      "1.0 {2: 3, 3: 1}\n",
      "{2: 3, 3: 1, 1.0: 1}\n"
     ]
    }
   ],
   "source": [
    "def decomp(n):\n",
    "    if n in (0, 1):\n",
    "        return ''\n",
    "    \n",
    "    prime_factors = {}\n",
    "    for num in range(2, n + 1):\n",
    "        for prime in prime_factors:\n",
    "            while num % prime == 0:\n",
    "                num /= prime\n",
    "                prime_factors[prime] += 1\n",
    "        print(num, prime_factors)\n",
    "        prime_factors[num] = 1\n",
    "    return prime_factors\n",
    "\n",
    "print(decomp(2))\n",
    "print(decomp(3))\n",
    "print(decomp(4))\n",
    "#print(decomp(5))\n",
    "#print(decomp(6))\n",
    "#print(decomp(7))\n",
    "#print(decomp(12))\n",
    "#print(decomp(22))\n",
    "#print(decomp(25))"
   ]
  },
  {
   "cell_type": "code",
   "execution_count": 96,
   "metadata": {},
   "outputs": [
    {
     "name": "stdout",
     "output_type": "stream",
     "text": [
      "[]\n",
      "[2]\n",
      "[3]\n",
      "[2, 2]\n",
      "[5]\n",
      "[2, 3]\n",
      "[7]\n",
      "[2, 2, 2]\n",
      "[3, 3]\n",
      "[2, 5]\n",
      "[11]\n",
      "[2, 2, 3]\n",
      "[13]\n",
      "[2, 7]\n"
     ]
    }
   ],
   "source": [
    "def getPrimeFactors(n):\n",
    "    '''\n",
    "    Находит простые множители числа\n",
    "    '''\n",
    "    result = []\n",
    "    curNum = n\n",
    "    prime = 2\n",
    "    while curNum != 1:\n",
    "        if curNum % prime == 0:\n",
    "            curNum /= prime\n",
    "            result.append(prime)\n",
    "        else:\n",
    "            prime += 1\n",
    "    return result\n",
    "\n",
    "print(getPrimeFactors(1))\n",
    "print(getPrimeFactors(2))\n",
    "print(getPrimeFactors(3))\n",
    "print(getPrimeFactors(4))\n",
    "print(getPrimeFactors(5))\n",
    "print(getPrimeFactors(6))\n",
    "print(getPrimeFactors(7))\n",
    "print(getPrimeFactors(8))\n",
    "print(getPrimeFactors(9))\n",
    "print(getPrimeFactors(10))\n",
    "print(getPrimeFactors(11))\n",
    "print(getPrimeFactors(12))\n",
    "print(getPrimeFactors(13))\n",
    "print(getPrimeFactors(14))"
   ]
  },
  {
   "cell_type": "markdown",
   "metadata": {},
   "source": [
    "### Grid index\n",
    "https://www.codewars.com/kata/5f5802bf4c2cc4001a6f859e  \n",
    "7 kyu\n",
    "\n",
    "You are given an n by n grid of characters for example:\n",
    "\n",
    "[['m', 'y', 'e'],   \n",
    " ['x', 'a', 'm'],   \n",
    " ['p', 'l', 'e']]\n",
    " \n",
    "You are also given a list of integers as input for example:\n",
    "\n",
    "[1, 3, 5, 8]\n",
    "\n",
    "You have to find the characters in these indexes of the grid if you think of the indexes as:\n",
    "\n",
    "[[1, 2, 3],   \n",
    " [4, 5, 6],   \n",
    " [7, 8, 9]]\n",
    " \n",
    "Remember that the indexes start from one and not zero.\n",
    "\n",
    "Then you output a string like this:\n",
    "\n",
    "'meal'  \n",
    "All inputs will be valid."
   ]
  },
  {
   "cell_type": "markdown",
   "metadata": {},
   "source": [
    "__My solutions:__"
   ]
  },
  {
   "cell_type": "code",
   "execution_count": 6,
   "metadata": {},
   "outputs": [
    {
     "name": "stdout",
     "output_type": "stream",
     "text": [
      "myexample myexample\n",
      "mam mam\n",
      "mepl mepl\n",
      "ooelccddrr ooelccddrr\n"
     ]
    }
   ],
   "source": [
    "def grid_index(grid, indexes):\n",
    "    return ''.join(grid[(ind - 1) // len(grid)][(ind - 1) % len(grid)] for ind in indexes)\n",
    "\n",
    "results1 = grid_index([['m', 'y', 'e'], ['x', 'a', 'm'], ['p', 'l', 'e']], [1, 2, 3, 4, 5, 6, 7, 8, 9])\n",
    "print(results1, 'myexample')\n",
    "results2 = grid_index([['m', 'y', 'e'], ['x', 'a', 'm'], ['p', 'l', 'e']], [1, 5, 6])\n",
    "print(results2, 'mam')\n",
    "results3 = grid_index([['m', 'y', 'e'], ['x', 'a', 'm'], ['p', 'l', 'e']], [1, 3, 7, 8])\n",
    "print(results3, 'mepl')\n",
    "results4 = grid_index([['h', 'e', 'l', 'l'], ['o', 'c', 'o', 'd'], ['e', 'w', 'a', 'r'], ['r', 'i', 'o', 'r']], [5, 7, 9, 3, 6, 6, 8, 8, 16, 13])\n",
    "print(results4, 'ooelccddrr')"
   ]
  },
  {
   "cell_type": "code",
   "execution_count": 7,
   "metadata": {},
   "outputs": [
    {
     "data": {
      "text/plain": [
       "0"
      ]
     },
     "execution_count": 7,
     "metadata": {},
     "output_type": "execute_result"
    }
   ],
   "source": [
    "0 % 3"
   ]
  },
  {
   "cell_type": "markdown",
   "metadata": {},
   "source": [
    "__Other's solutions:__"
   ]
  },
  {
   "cell_type": "markdown",
   "metadata": {},
   "source": [
    "__#1__"
   ]
  },
  {
   "cell_type": "code",
   "execution_count": null,
   "metadata": {},
   "outputs": [],
   "source": [
    "from itertools import chain\n",
    "\n",
    "def grid_index(grid, indexes):\n",
    "    flat = list(chain(*grid))\n",
    "    return \"\".join( flat[i-1] for i in indexes )"
   ]
  },
  {
   "cell_type": "markdown",
   "metadata": {},
   "source": [
    "__#2__"
   ]
  },
  {
   "cell_type": "code",
   "execution_count": null,
   "metadata": {},
   "outputs": [],
   "source": [
    "from itertools import chain\n",
    "\n",
    "def grid_index(grid, indexes):\n",
    "    linear = list(chain.from_iterable(grid))\n",
    "    return ''.join(linear[q - 1] for q in indexes)"
   ]
  },
  {
   "cell_type": "code",
   "execution_count": 12,
   "metadata": {},
   "outputs": [
    {
     "name": "stdout",
     "output_type": "stream",
     "text": [
      "['m', 'y', 'e', 'x', 'a', 'm', 'p', 'l', 'e']\n",
      "myexample myexample\n",
      "['m', 'y', 'e', 'x', 'a', 'm', 'p', 'l', 'e']\n",
      "mam mam\n",
      "['m', 'y', 'e', 'x', 'a', 'm', 'p', 'l', 'e']\n",
      "mepl mepl\n",
      "['h', 'e', 'l', 'l', 'o', 'c', 'o', 'd', 'e', 'w', 'a', 'r', 'r', 'i', 'o', 'r']\n",
      "ooelccddrr ooelccddrr\n"
     ]
    }
   ],
   "source": [
    "def grid_index(grid, indexes):\n",
    "    g = [e for r in grid for e in r]\n",
    "    print(g)\n",
    "    return \"\".join(g[i-1] for i in indexes)\n",
    "\n",
    "results1 = grid_index([['m', 'y', 'e'], ['x', 'a', 'm'], ['p', 'l', 'e']], [1, 2, 3, 4, 5, 6, 7, 8, 9])\n",
    "print(results1, 'myexample')\n",
    "results2 = grid_index([['m', 'y', 'e'], ['x', 'a', 'm'], ['p', 'l', 'e']], [1, 5, 6])\n",
    "print(results2, 'mam')\n",
    "results3 = grid_index([['m', 'y', 'e'], ['x', 'a', 'm'], ['p', 'l', 'e']], [1, 3, 7, 8])\n",
    "print(results3, 'mepl')\n",
    "results4 = grid_index([['h', 'e', 'l', 'l'], ['o', 'c', 'o', 'd'], ['e', 'w', 'a', 'r'], ['r', 'i', 'o', 'r']], [5, 7, 9, 3, 6, 6, 8, 8, 16, 13])\n",
    "print(results4, 'ooelccddrr')"
   ]
  },
  {
   "cell_type": "code",
   "execution_count": 13,
   "metadata": {},
   "outputs": [
    {
     "ename": "NameError",
     "evalue": "name 'r' is not defined",
     "output_type": "error",
     "traceback": [
      "\u001b[1;31m---------------------------------------------------------------------------\u001b[0m",
      "\u001b[1;31mNameError\u001b[0m                                 Traceback (most recent call last)",
      "\u001b[1;32m<ipython-input-13-8a14359200d7>\u001b[0m in \u001b[0;36m<module>\u001b[1;34m\u001b[0m\n\u001b[0;32m      4\u001b[0m     \u001b[1;32mreturn\u001b[0m \u001b[1;34m\"\"\u001b[0m\u001b[1;33m.\u001b[0m\u001b[0mjoin\u001b[0m\u001b[1;33m(\u001b[0m\u001b[0mg\u001b[0m\u001b[1;33m[\u001b[0m\u001b[0mi\u001b[0m\u001b[1;33m-\u001b[0m\u001b[1;36m1\u001b[0m\u001b[1;33m]\u001b[0m \u001b[1;32mfor\u001b[0m \u001b[0mi\u001b[0m \u001b[1;32min\u001b[0m \u001b[0mindexes\u001b[0m\u001b[1;33m)\u001b[0m\u001b[1;33m\u001b[0m\u001b[1;33m\u001b[0m\u001b[0m\n\u001b[0;32m      5\u001b[0m \u001b[1;33m\u001b[0m\u001b[0m\n\u001b[1;32m----> 6\u001b[1;33m \u001b[0mresults1\u001b[0m \u001b[1;33m=\u001b[0m \u001b[0mgrid_index\u001b[0m\u001b[1;33m(\u001b[0m\u001b[1;33m[\u001b[0m\u001b[1;33m[\u001b[0m\u001b[1;34m'm'\u001b[0m\u001b[1;33m,\u001b[0m \u001b[1;34m'y'\u001b[0m\u001b[1;33m,\u001b[0m \u001b[1;34m'e'\u001b[0m\u001b[1;33m]\u001b[0m\u001b[1;33m,\u001b[0m \u001b[1;33m[\u001b[0m\u001b[1;34m'x'\u001b[0m\u001b[1;33m,\u001b[0m \u001b[1;34m'a'\u001b[0m\u001b[1;33m,\u001b[0m \u001b[1;34m'm'\u001b[0m\u001b[1;33m]\u001b[0m\u001b[1;33m,\u001b[0m \u001b[1;33m[\u001b[0m\u001b[1;34m'p'\u001b[0m\u001b[1;33m,\u001b[0m \u001b[1;34m'l'\u001b[0m\u001b[1;33m,\u001b[0m \u001b[1;34m'e'\u001b[0m\u001b[1;33m]\u001b[0m\u001b[1;33m]\u001b[0m\u001b[1;33m,\u001b[0m \u001b[1;33m[\u001b[0m\u001b[1;36m1\u001b[0m\u001b[1;33m,\u001b[0m \u001b[1;36m2\u001b[0m\u001b[1;33m,\u001b[0m \u001b[1;36m3\u001b[0m\u001b[1;33m,\u001b[0m \u001b[1;36m4\u001b[0m\u001b[1;33m,\u001b[0m \u001b[1;36m5\u001b[0m\u001b[1;33m,\u001b[0m \u001b[1;36m6\u001b[0m\u001b[1;33m,\u001b[0m \u001b[1;36m7\u001b[0m\u001b[1;33m,\u001b[0m \u001b[1;36m8\u001b[0m\u001b[1;33m,\u001b[0m \u001b[1;36m9\u001b[0m\u001b[1;33m]\u001b[0m\u001b[1;33m)\u001b[0m\u001b[1;33m\u001b[0m\u001b[1;33m\u001b[0m\u001b[0m\n\u001b[0m\u001b[0;32m      7\u001b[0m \u001b[0mprint\u001b[0m\u001b[1;33m(\u001b[0m\u001b[0mresults1\u001b[0m\u001b[1;33m,\u001b[0m \u001b[1;34m'myexample'\u001b[0m\u001b[1;33m)\u001b[0m\u001b[1;33m\u001b[0m\u001b[1;33m\u001b[0m\u001b[0m\n\u001b[0;32m      8\u001b[0m \u001b[0mresults2\u001b[0m \u001b[1;33m=\u001b[0m \u001b[0mgrid_index\u001b[0m\u001b[1;33m(\u001b[0m\u001b[1;33m[\u001b[0m\u001b[1;33m[\u001b[0m\u001b[1;34m'm'\u001b[0m\u001b[1;33m,\u001b[0m \u001b[1;34m'y'\u001b[0m\u001b[1;33m,\u001b[0m \u001b[1;34m'e'\u001b[0m\u001b[1;33m]\u001b[0m\u001b[1;33m,\u001b[0m \u001b[1;33m[\u001b[0m\u001b[1;34m'x'\u001b[0m\u001b[1;33m,\u001b[0m \u001b[1;34m'a'\u001b[0m\u001b[1;33m,\u001b[0m \u001b[1;34m'm'\u001b[0m\u001b[1;33m]\u001b[0m\u001b[1;33m,\u001b[0m \u001b[1;33m[\u001b[0m\u001b[1;34m'p'\u001b[0m\u001b[1;33m,\u001b[0m \u001b[1;34m'l'\u001b[0m\u001b[1;33m,\u001b[0m \u001b[1;34m'e'\u001b[0m\u001b[1;33m]\u001b[0m\u001b[1;33m]\u001b[0m\u001b[1;33m,\u001b[0m \u001b[1;33m[\u001b[0m\u001b[1;36m1\u001b[0m\u001b[1;33m,\u001b[0m \u001b[1;36m5\u001b[0m\u001b[1;33m,\u001b[0m \u001b[1;36m6\u001b[0m\u001b[1;33m]\u001b[0m\u001b[1;33m)\u001b[0m\u001b[1;33m\u001b[0m\u001b[1;33m\u001b[0m\u001b[0m\n",
      "\u001b[1;32m<ipython-input-13-8a14359200d7>\u001b[0m in \u001b[0;36mgrid_index\u001b[1;34m(grid, indexes)\u001b[0m\n\u001b[0;32m      1\u001b[0m \u001b[1;32mdef\u001b[0m \u001b[0mgrid_index\u001b[0m\u001b[1;33m(\u001b[0m\u001b[0mgrid\u001b[0m\u001b[1;33m,\u001b[0m \u001b[0mindexes\u001b[0m\u001b[1;33m)\u001b[0m\u001b[1;33m:\u001b[0m\u001b[1;33m\u001b[0m\u001b[1;33m\u001b[0m\u001b[0m\n\u001b[1;32m----> 2\u001b[1;33m     \u001b[0mg\u001b[0m \u001b[1;33m=\u001b[0m \u001b[1;33m[\u001b[0m\u001b[0me\u001b[0m \u001b[1;32mfor\u001b[0m \u001b[0me\u001b[0m \u001b[1;32min\u001b[0m \u001b[0mr\u001b[0m \u001b[1;32mfor\u001b[0m \u001b[0mr\u001b[0m \u001b[1;32min\u001b[0m \u001b[0mgrid\u001b[0m\u001b[1;33m]\u001b[0m\u001b[1;33m\u001b[0m\u001b[1;33m\u001b[0m\u001b[0m\n\u001b[0m\u001b[0;32m      3\u001b[0m     \u001b[0mprint\u001b[0m\u001b[1;33m(\u001b[0m\u001b[0mg\u001b[0m\u001b[1;33m)\u001b[0m\u001b[1;33m\u001b[0m\u001b[1;33m\u001b[0m\u001b[0m\n\u001b[0;32m      4\u001b[0m     \u001b[1;32mreturn\u001b[0m \u001b[1;34m\"\"\u001b[0m\u001b[1;33m.\u001b[0m\u001b[0mjoin\u001b[0m\u001b[1;33m(\u001b[0m\u001b[0mg\u001b[0m\u001b[1;33m[\u001b[0m\u001b[0mi\u001b[0m\u001b[1;33m-\u001b[0m\u001b[1;36m1\u001b[0m\u001b[1;33m]\u001b[0m \u001b[1;32mfor\u001b[0m \u001b[0mi\u001b[0m \u001b[1;32min\u001b[0m \u001b[0mindexes\u001b[0m\u001b[1;33m)\u001b[0m\u001b[1;33m\u001b[0m\u001b[1;33m\u001b[0m\u001b[0m\n\u001b[0;32m      5\u001b[0m \u001b[1;33m\u001b[0m\u001b[0m\n",
      "\u001b[1;31mNameError\u001b[0m: name 'r' is not defined"
     ]
    }
   ],
   "source": [
    "def grid_index(grid, indexes):\n",
    "    g = [e for e in r for r in grid]\n",
    "    print(g)\n",
    "    return \"\".join(g[i-1] for i in indexes)\n",
    "\n",
    "results1 = grid_index([['m', 'y', 'e'], ['x', 'a', 'm'], ['p', 'l', 'e']], [1, 2, 3, 4, 5, 6, 7, 8, 9])\n",
    "print(results1, 'myexample')\n",
    "results2 = grid_index([['m', 'y', 'e'], ['x', 'a', 'm'], ['p', 'l', 'e']], [1, 5, 6])\n",
    "print(results2, 'mam')\n",
    "results3 = grid_index([['m', 'y', 'e'], ['x', 'a', 'm'], ['p', 'l', 'e']], [1, 3, 7, 8])\n",
    "print(results3, 'mepl')\n",
    "results4 = grid_index([['h', 'e', 'l', 'l'], ['o', 'c', 'o', 'd'], ['e', 'w', 'a', 'r'], ['r', 'i', 'o', 'r']], [5, 7, 9, 3, 6, 6, 8, 8, 16, 13])\n",
    "print(results4, 'ooelccddrr')"
   ]
  },
  {
   "cell_type": "code",
   "execution_count": 16,
   "metadata": {},
   "outputs": [
    {
     "ename": "SyntaxError",
     "evalue": "invalid syntax (<ipython-input-16-7264dad446a5>, line 2)",
     "output_type": "error",
     "traceback": [
      "\u001b[1;36m  File \u001b[1;32m\"<ipython-input-16-7264dad446a5>\"\u001b[1;36m, line \u001b[1;32m2\u001b[0m\n\u001b[1;33m    [r[0] for r in grid]\u001b[0m\n\u001b[1;37m            ^\u001b[0m\n\u001b[1;31mSyntaxError\u001b[0m\u001b[1;31m:\u001b[0m invalid syntax\n"
     ]
    }
   ],
   "source": [
    "grid = [['m', 'y', 'e'], ['x', 'a', 'm'], ['p', 'l', 'e']\n",
    "[r[0] for r in grid]"
   ]
  },
  {
   "cell_type": "markdown",
   "metadata": {},
   "source": [
    "20200924"
   ]
  },
  {
   "cell_type": "markdown",
   "metadata": {},
   "source": [
    "### Beginner Series #3 Sum of Numbers\n",
    "https://www.codewars.com/kata/55f2b110f61eb01779000053  \n",
    "7 kyu\n",
    "\n",
    "Given two integers a and b, which can be positive or negative, find the sum of all the numbers between including them too and return it. If the two numbers are equal return a or b.\n",
    "\n",
    "Note: a and b are not ordered!\n",
    "\n",
    "Examples\n",
    "get_sum(1, 0) == 1   // 1 + 0 = 1  \n",
    "get_sum(1, 2) == 3   // 1 + 2 = 3  \n",
    "get_sum(0, 1) == 1   // 0 + 1 = 1  \n",
    "get_sum(1, 1) == 1   // 1 Since both are same  \n",
    "get_sum(-1, 0) == -1 // -1 + 0 = -1  \n",
    "get_sum(-1, 2) == 2  // -1 + 0 + 1 + 2 = 2  "
   ]
  },
  {
   "cell_type": "markdown",
   "metadata": {},
   "source": [
    "__My solutions:__"
   ]
  },
  {
   "cell_type": "markdown",
   "metadata": {},
   "source": [
    "__#1__"
   ]
  },
  {
   "cell_type": "code",
   "execution_count": 17,
   "metadata": {},
   "outputs": [
    {
     "name": "stdout",
     "output_type": "stream",
     "text": [
      "1 1\n",
      "-1 -1\n"
     ]
    }
   ],
   "source": [
    "def get_sum(a,b):\n",
    "    return sum(range(min(a, b), max(a, b) + 1))\n",
    "    \n",
    "print(get_sum(0,1),1)\n",
    "print(get_sum(0,-1),-1)"
   ]
  },
  {
   "cell_type": "markdown",
   "metadata": {},
   "source": [
    "__#2__"
   ]
  },
  {
   "cell_type": "code",
   "execution_count": 18,
   "metadata": {},
   "outputs": [
    {
     "name": "stdout",
     "output_type": "stream",
     "text": [
      "1 1\n",
      "-1 -1\n"
     ]
    }
   ],
   "source": [
    "def get_sum(a,b):\n",
    "    return sum(range(a, b + 1)) if a < b else sum(range(b, a + 1))\n",
    "    \n",
    "print(get_sum(0,1),1)\n",
    "print(get_sum(0,-1),-1)"
   ]
  },
  {
   "cell_type": "markdown",
   "metadata": {},
   "source": [
    "__Other users' solutions:__"
   ]
  },
  {
   "cell_type": "code",
   "execution_count": 21,
   "metadata": {},
   "outputs": [
    {
     "name": "stdout",
     "output_type": "stream",
     "text": [
      "1 1\n",
      "-1 -1\n"
     ]
    }
   ],
   "source": [
    "def get_sum(a,b):\n",
    "    return (a + b) * (abs(b - a) + 1) // 2\n",
    "    \n",
    "print(get_sum(0,1),1)\n",
    "print(get_sum(0,-1),-1)"
   ]
  },
  {
   "cell_type": "markdown",
   "metadata": {},
   "source": [
    "### Basic Mathematical Operations\n",
    "https://www.codewars.com/kata/57356c55867b9b7a60000bd7  \n",
    "8 kyu\n",
    "\n",
    "Your task is to create a function that does four basic mathematical operations.\n",
    "\n",
    "The function should take three arguments - operation(string/char), value1(number), value2(number).\n",
    "The function should return result of numbers after applying the chosen operation.\n",
    "\n",
    "Examples  \n",
    "basic_op('+', 4, 7)         # Output: 11  \n",
    "basic_op('-', 15, 18)       # Output: -3  \n",
    "basic_op('*', 5, 5)         # Output: 25  \n",
    "basic_op('/', 49, 7)        # Output: 7"
   ]
  },
  {
   "cell_type": "markdown",
   "metadata": {},
   "source": [
    "__My solutions:__"
   ]
  },
  {
   "cell_type": "code",
   "execution_count": 23,
   "metadata": {},
   "outputs": [
    {
     "name": "stdout",
     "output_type": "stream",
     "text": [
      "11 11\n",
      "-3 -3\n",
      "25 25\n",
      "7.0 7\n"
     ]
    }
   ],
   "source": [
    "def basic_op(operator, value1, value2):\n",
    "    return eval(f'{value1} {operator} {value2}')\n",
    "\n",
    "print(basic_op('+', 4, 7), 11)\n",
    "print(basic_op('-', 15, 18), -3)\n",
    "print(basic_op('*', 5, 5), 25)\n",
    "print(basic_op('/', 49, 7), 7)"
   ]
  },
  {
   "cell_type": "code",
   "execution_count": null,
   "metadata": {},
   "outputs": [],
   "source": []
  }
 ],
 "metadata": {
  "kernelspec": {
   "display_name": "Python 3",
   "language": "python",
   "name": "python3"
  },
  "language_info": {
   "codemirror_mode": {
    "name": "ipython",
    "version": 3
   },
   "file_extension": ".py",
   "mimetype": "text/x-python",
   "name": "python",
   "nbconvert_exporter": "python",
   "pygments_lexer": "ipython3",
   "version": "3.7.3"
  }
 },
 "nbformat": 4,
 "nbformat_minor": 2
}
